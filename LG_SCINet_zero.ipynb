{
 "cells": [
  {
   "cell_type": "code",
   "execution_count": 10,
   "metadata": {},
   "outputs": [],
   "source": [
    "import torch\n",
    "from torch import nn\n",
    "from torch.optim import Adam\n",
    "from torch.utils.data import TensorDataset, DataLoader\n",
    "device = torch.device('cuda:0')\n",
    "\n",
    "from sklearn.metrics import r2_score, mean_absolute_error\n",
    "import pickle\n",
    "\n",
    "from models.SCINet import SCINet\n",
    "from tools.tools import GridSearch"
   ]
  },
  {
   "cell_type": "code",
   "execution_count": 9,
   "metadata": {},
   "outputs": [],
   "source": [
    "masked = True  # True or False\n",
    "masked = '_masked' if masked else ''\n",
    "\n",
    "with open(f'data/LG/train_dataset{masked}.pickle', 'rb') as f:\n",
    "    train_dataset = pickle.load(f)\n",
    "\n",
    "with open(f'data/LG/val_dataset{masked}.pickle', 'rb') as f:\n",
    "    val_dataset = pickle.load(f)\n",
    "\n",
    "with open(f'data/LG/test_dataset{masked}.pickle', 'rb') as f:\n",
    "    test_dataset = pickle.load(f)\n",
    "\n",
    "train_loader = DataLoader(train_dataset, batch_size = 16, shuffle = True)\n",
    "val_loader = DataLoader(val_dataset, batch_size = 64, shuffle = False)\n",
    "test_loader = DataLoader(test_dataset, batch_size=64, shuffle=False)"
   ]
  },
  {
   "cell_type": "code",
   "execution_count": null,
   "metadata": {},
   "outputs": [],
   "source": [
    "criterion = nn.MSELoss()\n",
    "eval_metrics = [r2_score, mean_absolute_error]\n",
    "lr = 1e-3"
   ]
  },
  {
   "cell_type": "code",
   "execution_count": null,
   "metadata": {},
   "outputs": [],
   "source": [
    "data_name = 'LG'  # 'LG' or 'AirPollution'\n",
    "model_name = input('Enter the name of the model: ')\n",
    "\n",
    "basic_params = {\n",
    "    'T': 60,\n",
    "    'n': 7\n",
    "}\n",
    "\n",
    "param_grid = {\n",
    "    'skip_hidden_size': [12, 16, 24, 32],\n",
    "    'T_modified': [20, 30, 40],\n",
    "    'skip': [8, 10, 12]\n",
    "}\n",
    "\n",
    "model_trainer = GridSearch(criterion, eval_metrics, device,\n",
    "                           temp_save_path=f'checkpoints/{data_name}/{model_name}_temp.pt')\n",
    "model2_best = model_trainer.train_by_grid(SCINet, basic_params, param_grid, Adam, train_loader,\n",
    "                                          test_loader, lr, patience=5, epochs=50, save_filename=f'checkpoints/{model_name}_best.pt')\n"
   ]
  },
  {
   "cell_type": "code",
   "execution_count": null,
   "metadata": {},
   "outputs": [],
   "source": [
    "model_trainer.test(test_loader)\n",
    "model_trainer.plot_losses(plot_title=f'{model_name}', save_filename=f'{model_name}_losses.png')"
   ]
  },
  {
   "cell_type": "code",
   "execution_count": null,
   "metadata": {},
   "outputs": [],
   "source": []
  }
 ],
 "metadata": {
  "kernelspec": {
   "display_name": "kwon_dl",
   "language": "python",
   "name": "python3"
  },
  "language_info": {
   "codemirror_mode": {
    "name": "ipython",
    "version": 3
   },
   "file_extension": ".py",
   "mimetype": "text/x-python",
   "name": "python",
   "nbconvert_exporter": "python",
   "pygments_lexer": "ipython3",
   "version": "3.9.16"
  },
  "orig_nbformat": 4,
  "vscode": {
   "interpreter": {
    "hash": "7aba8400f5793028c76b760b8f218e34a1395ac8226b95289931317412384abc"
   }
  }
 },
 "nbformat": 4,
 "nbformat_minor": 2
}
