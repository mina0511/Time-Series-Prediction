{
 "cells": [
  {
   "cell_type": "code",
   "execution_count": 1,
   "metadata": {},
   "outputs": [],
   "source": [
    "import numpy as np\n",
    "from numpy import nan, random\n",
    "import pandas as pd"
   ]
  },
  {
   "cell_type": "code",
   "execution_count": 2,
   "metadata": {},
   "outputs": [
    {
     "data": {
      "text/html": [
       "<div>\n",
       "<style scoped>\n",
       "    .dataframe tbody tr th:only-of-type {\n",
       "        vertical-align: middle;\n",
       "    }\n",
       "\n",
       "    .dataframe tbody tr th {\n",
       "        vertical-align: top;\n",
       "    }\n",
       "\n",
       "    .dataframe thead th {\n",
       "        text-align: right;\n",
       "    }\n",
       "</style>\n",
       "<table border=\"1\" class=\"dataframe\">\n",
       "  <thead>\n",
       "    <tr style=\"text-align: right;\">\n",
       "      <th></th>\n",
       "      <th>pollution_today</th>\n",
       "      <th>dew</th>\n",
       "      <th>temp</th>\n",
       "      <th>press</th>\n",
       "      <th>wnd_spd</th>\n",
       "      <th>snow</th>\n",
       "      <th>rain</th>\n",
       "      <th>pollution_yesterday</th>\n",
       "    </tr>\n",
       "  </thead>\n",
       "  <tbody>\n",
       "    <tr>\n",
       "      <th>0</th>\n",
       "      <td>145.958333</td>\n",
       "      <td>-8.500000</td>\n",
       "      <td>-5.125000</td>\n",
       "      <td>1024.750000</td>\n",
       "      <td>24.860000</td>\n",
       "      <td>0.708333</td>\n",
       "      <td>0.0</td>\n",
       "      <td>10.041667</td>\n",
       "    </tr>\n",
       "    <tr>\n",
       "      <th>1</th>\n",
       "      <td>78.833333</td>\n",
       "      <td>-10.125000</td>\n",
       "      <td>-8.541667</td>\n",
       "      <td>1022.791667</td>\n",
       "      <td>70.937917</td>\n",
       "      <td>14.166667</td>\n",
       "      <td>0.0</td>\n",
       "      <td>145.958333</td>\n",
       "    </tr>\n",
       "    <tr>\n",
       "      <th>2</th>\n",
       "      <td>31.333333</td>\n",
       "      <td>-20.875000</td>\n",
       "      <td>-11.500000</td>\n",
       "      <td>1029.291667</td>\n",
       "      <td>111.160833</td>\n",
       "      <td>0.000000</td>\n",
       "      <td>0.0</td>\n",
       "      <td>78.833333</td>\n",
       "    </tr>\n",
       "    <tr>\n",
       "      <th>3</th>\n",
       "      <td>42.458333</td>\n",
       "      <td>-24.583333</td>\n",
       "      <td>-14.458333</td>\n",
       "      <td>1033.625000</td>\n",
       "      <td>56.920000</td>\n",
       "      <td>0.000000</td>\n",
       "      <td>0.0</td>\n",
       "      <td>31.333333</td>\n",
       "    </tr>\n",
       "    <tr>\n",
       "      <th>4</th>\n",
       "      <td>56.416667</td>\n",
       "      <td>-23.708333</td>\n",
       "      <td>-12.541667</td>\n",
       "      <td>1033.750000</td>\n",
       "      <td>18.511667</td>\n",
       "      <td>0.000000</td>\n",
       "      <td>0.0</td>\n",
       "      <td>42.458333</td>\n",
       "    </tr>\n",
       "  </tbody>\n",
       "</table>\n",
       "</div>"
      ],
      "text/plain": [
       "   pollution_today        dew       temp        press     wnd_spd       snow  \\\n",
       "0       145.958333  -8.500000  -5.125000  1024.750000   24.860000   0.708333   \n",
       "1        78.833333 -10.125000  -8.541667  1022.791667   70.937917  14.166667   \n",
       "2        31.333333 -20.875000 -11.500000  1029.291667  111.160833   0.000000   \n",
       "3        42.458333 -24.583333 -14.458333  1033.625000   56.920000   0.000000   \n",
       "4        56.416667 -23.708333 -12.541667  1033.750000   18.511667   0.000000   \n",
       "\n",
       "   rain  pollution_yesterday  \n",
       "0   0.0            10.041667  \n",
       "1   0.0           145.958333  \n",
       "2   0.0            78.833333  \n",
       "3   0.0            31.333333  \n",
       "4   0.0            42.458333  "
      ]
     },
     "metadata": {},
     "output_type": "display_data"
    }
   ],
   "source": [
    "data = pd.read_csv('air_pollution.csv').iloc[:, 1:]\n",
    "display(data.head())\n",
    "columns = data.columns\n",
    "data = data.values\n",
    "N, n = data.shape\n",
    "n -= 1\n",
    "total_num = N * n"
   ]
  },
  {
   "cell_type": "code",
   "execution_count": 3,
   "metadata": {},
   "outputs": [
    {
     "data": {
      "text/plain": [
       "(1277, 2)"
      ]
     },
     "execution_count": 3,
     "metadata": {},
     "output_type": "execute_result"
    }
   ],
   "source": [
    "indices = random.choice(range(total_num), size=int(total_num*0.1), replace=False)\n",
    "indices = np.array([(i//n, i%n+1) for i in indices])\n",
    "indices.shape"
   ]
  },
  {
   "cell_type": "code",
   "execution_count": 4,
   "metadata": {},
   "outputs": [],
   "source": [
    "for index in indices:\n",
    "    data[index] = nan"
   ]
  },
  {
   "cell_type": "code",
   "execution_count": 5,
   "metadata": {},
   "outputs": [],
   "source": [
    "data = pd.DataFrame(data, columns=columns)\n",
    "data.to_parquet('air_pollution_nan.parquet', compression='gzip')\n",
    "\n",
    "data = data.fillna(0)\n",
    "data.to_parquet('air_pollution_zero.parquet', compression='gzip')"
   ]
  }
 ],
 "metadata": {
  "kernelspec": {
   "display_name": "kwon_dl",
   "language": "python",
   "name": "python3"
  },
  "language_info": {
   "codemirror_mode": {
    "name": "ipython",
    "version": 3
   },
   "file_extension": ".py",
   "mimetype": "text/x-python",
   "name": "python",
   "nbconvert_exporter": "python",
   "pygments_lexer": "ipython3",
   "version": "3.9.13"
  },
  "orig_nbformat": 4,
  "vscode": {
   "interpreter": {
    "hash": "7aba8400f5793028c76b760b8f218e34a1395ac8226b95289931317412384abc"
   }
  }
 },
 "nbformat": 4,
 "nbformat_minor": 2
}
