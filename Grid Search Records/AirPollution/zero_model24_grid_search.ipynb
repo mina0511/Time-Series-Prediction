{
 "cells": [
  {
   "cell_type": "code",
   "execution_count": null,
   "metadata": {},
   "outputs": [],
   "source": [
    "import torch\n",
    "from torch import nn\n",
    "from torch.optim import Adam\n",
    "device = torch.device('cuda:1')\n",
    "\n",
    "from sklearn.metrics import r2_score, mean_absolute_error\n",
    "\n",
    "from models import *\n",
    "from tools import validation, GridSearch\n",
    "\n",
    "from get_loaders import get_loaders_zero"
   ]
  },
  {
   "cell_type": "code",
   "execution_count": null,
   "metadata": {},
   "outputs": [],
   "source": [
    "train_loader, test_loader = get_loaders_zero(window_size=60, test_size=0.2, batch_size=32)\n",
    "\n",
    "criterion = nn.MSELoss()\n",
    "eval_metrics = [r2_score, mean_absolute_error]\n",
    "lr = 1e-3"
   ]
  },
  {
   "cell_type": "code",
   "execution_count": null,
   "metadata": {},
   "outputs": [],
   "source": [
    "model_name = 'model2'\n",
    "\n",
    "basic_params = {\n",
    "    'T': 60,\n",
    "    'n': 7\n",
    "}\n",
    "\n",
    "param_grid = {\n",
    "    'm': [12, 16, 24, 32],\n",
    "    'skip_hidden_size': [12, 16, 24, 32],\n",
    "    'T_modified': [20, 30, 40],\n",
    "    'skip': [8, 10, 12]\n",
    "}\n",
    "\n",
    "\n",
    "model_trainer = GridSearch(criterion, eval_metrics, device,\n",
    "                           temp_save_path=f'checkpoints/{model_name}_temp.pt')\n",
    "model2_best = model_trainer.train_by_grid(Model2, basic_params, param_grid, Adam, train_loader,\n",
    "                                          test_loader, lr, patience=5, epochs=50, save_filename=f'checkpoints/{model_name}_best.pt')\n"
   ]
  },
  {
   "cell_type": "code",
   "execution_count": null,
   "metadata": {},
   "outputs": [],
   "source": [
    "model_name = 'model4'\n",
    "\n",
    "basic_params = {\n",
    "    'T': 60,\n",
    "    'n': 7\n",
    "}\n",
    "\n",
    "param_grid = {\n",
    "    'm': [12, 16, 24, 32],\n",
    "    'skip_hidden_size': [12, 16, 24, 32],\n",
    "    'skip': [8, 10, 12]\n",
    "}\n",
    "\n",
    "model_trainer = GridSearch(criterion, eval_metrics, device,\n",
    "                           temp_save_path=f'checkpoints/{model_name}_temp.pt')\n",
    "model2_best = model_trainer.train_by_grid(Model4, basic_params, param_grid, Adam, train_loader,\n",
    "                                          test_loader, lr, patience=5, epochs=50, save_filename=f'checkpoints/{model_name}_best.pt')\n"
   ]
  },
  {
   "cell_type": "code",
   "execution_count": null,
   "metadata": {},
   "outputs": [],
   "source": []
  }
 ],
 "metadata": {
  "kernelspec": {
   "display_name": "kwon_dl",
   "language": "python",
   "name": "python3"
  },
  "language_info": {
   "codemirror_mode": {
    "name": "ipython",
    "version": 3
   },
   "file_extension": ".py",
   "mimetype": "text/x-python",
   "name": "python",
   "nbconvert_exporter": "python",
   "pygments_lexer": "ipython3",
   "version": "3.9.13 (main, Aug 25 2022, 23:26:10) \n[GCC 11.2.0]"
  },
  "orig_nbformat": 4,
  "vscode": {
   "interpreter": {
    "hash": "7aba8400f5793028c76b760b8f218e34a1395ac8226b95289931317412384abc"
   }
  }
 },
 "nbformat": 4,
 "nbformat_minor": 2
}
