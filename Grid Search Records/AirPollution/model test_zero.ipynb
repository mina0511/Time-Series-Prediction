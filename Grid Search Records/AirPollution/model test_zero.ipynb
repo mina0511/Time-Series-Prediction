{
 "cells": [
  {
   "cell_type": "code",
   "execution_count": 1,
   "metadata": {},
   "outputs": [],
   "source": [
    "import torch\n",
    "from torch import nn\n",
    "from torch import load\n",
    "device = torch.device('cuda:1')\n",
    "\n",
    "from sklearn.metrics import r2_score, mean_absolute_error\n",
    "\n",
    "from LSTNet import LSTNet\n",
    "from models import *\n",
    "from tools import validation\n",
    "from get_loaders import get_loaders_zero"
   ]
  },
  {
   "cell_type": "code",
   "execution_count": 2,
   "metadata": {},
   "outputs": [
    {
     "name": "stderr",
     "output_type": "stream",
     "text": [
      "100%|██████████| 1401/1401 [00:00<00:00, 222348.26it/s]\n",
      "100%|██████████| 306/306 [00:00<00:00, 134294.97it/s]\n"
     ]
    }
   ],
   "source": [
    "_, test_loader_zero = get_loaders_zero()\n",
    "criterion = nn.MSELoss()\n",
    "eval_metrics = [r2_score, mean_absolute_error]"
   ]
  },
  {
   "cell_type": "code",
   "execution_count": 3,
   "metadata": {},
   "outputs": [
    {
     "name": "stdout",
     "output_type": "stream",
     "text": [
      "MSE= 9315.7070, R2=-1.1178, MAE= 84.5910\n"
     ]
    }
   ],
   "source": [
    "basic_params = {\n",
    "    'P': 60,\n",
    "    'm': 7,\n",
    "    'dropout': 0.2,\n",
    "    'output_func': None,\n",
    "    'device': device\n",
    "}\n",
    "\n",
    "param_grid = {\n",
    "    'hidR': 24,\n",
    "    'hidC': 32,\n",
    "    'hidS': 16,\n",
    "    'Ck': 40,\n",
    "    'hw': 5\n",
    "}\n",
    "\n",
    "lstnet_best = LSTNet(**basic_params, **param_grid).to(device)\n",
    "lstnet_best.load_state_dict(load('checkpoints/LSTNet_zero_best.pt'))\n",
    "lstnet_best.eval()\n",
    "mse, r2, mae = validation(lstnet_best, test_loader_zero, criterion, eval_metrics, device)\n",
    "print(f'MSE={mse:10.4f}, R2={r2:7.4f}, MAE={mae:8.4f}')\n"
   ]
  },
  {
   "cell_type": "code",
   "execution_count": 4,
   "metadata": {},
   "outputs": [
    {
     "name": "stdout",
     "output_type": "stream",
     "text": [
      "MSE= 1434.2467, R2= 0.6739, MAE= 21.9306\n"
     ]
    }
   ],
   "source": [
    "basic_params = {\n",
    "    'T': 60,\n",
    "    'n': 7\n",
    "}\n",
    "\n",
    "param_grid = {\n",
    "    'm': 24,\n",
    "    'skip_hidden_size': 16,\n",
    "    'T_modified': 40,\n",
    "    'skip': 12\n",
    "}\n",
    "\n",
    "model2_best = Model2(**basic_params, **param_grid).to(device)\n",
    "model2_best.load_state_dict(load('checkpoints/model2_zero_best.pt'))\n",
    "model2_best.eval()\n",
    "mse, r2, mae = validation(model2_best, test_loader_zero, criterion, eval_metrics, device)\n",
    "print(f'MSE={mse:10.4f}, R2={r2:7.4f}, MAE={mae:8.4f}')\n"
   ]
  },
  {
   "cell_type": "code",
   "execution_count": 5,
   "metadata": {},
   "outputs": [
    {
     "name": "stdout",
     "output_type": "stream",
     "text": [
      "MSE= 1744.6538, R2= 0.6034, MAE= 22.2599\n"
     ]
    }
   ],
   "source": [
    "basic_params = {\n",
    "    'T': 60,\n",
    "    'n': 7\n",
    "}\n",
    "\n",
    "param_grid = {\n",
    "    'm': 32,\n",
    "    'skip_hidden_size': 24,\n",
    "    'skip': 12\n",
    "}\n",
    "\n",
    "model2_best = Model4(**basic_params, **param_grid).to(device)\n",
    "model2_best.load_state_dict(load('checkpoints/model4_zero_best.pt'))\n",
    "model2_best.eval()\n",
    "mse, r2, mae = validation(model2_best, test_loader_zero,\n",
    "                          criterion, eval_metrics, device)\n",
    "print(f'MSE={mse:10.4f}, R2={r2:7.4f}, MAE={mae:8.4f}')\n"
   ]
  },
  {
   "cell_type": "code",
   "execution_count": 6,
   "metadata": {},
   "outputs": [
    {
     "name": "stdout",
     "output_type": "stream",
     "text": [
      "MSE= 5226.0181, R2=-0.1881, MAE= 61.7147\n"
     ]
    }
   ],
   "source": [
    "basic_params = {\n",
    "    'T': 60,\n",
    "    'n': 7\n",
    "}\n",
    "\n",
    "param_grid = {\n",
    "    'm': 32,\n",
    "    'T_modified': 30\n",
    "}\n",
    "\n",
    "lstnet_best = Model6(**basic_params, **param_grid).to(device)\n",
    "lstnet_best.load_state_dict(load('checkpoints/model6_zero_best.pt'))\n",
    "lstnet_best.eval()\n",
    "mse, r2, mae = validation(lstnet_best, test_loader_zero,\n",
    "                          criterion, eval_metrics, device)\n",
    "print(f'MSE={mse:10.4f}, R2={r2:7.4f}, MAE={mae:8.4f}')\n"
   ]
  }
 ],
 "metadata": {
  "kernelspec": {
   "display_name": "kwon_dl",
   "language": "python",
   "name": "python3"
  },
  "language_info": {
   "codemirror_mode": {
    "name": "ipython",
    "version": 3
   },
   "file_extension": ".py",
   "mimetype": "text/x-python",
   "name": "python",
   "nbconvert_exporter": "python",
   "pygments_lexer": "ipython3",
   "version": "3.9.13 (main, Aug 25 2022, 23:26:10) \n[GCC 11.2.0]"
  },
  "orig_nbformat": 4,
  "vscode": {
   "interpreter": {
    "hash": "7aba8400f5793028c76b760b8f218e34a1395ac8226b95289931317412384abc"
   }
  }
 },
 "nbformat": 4,
 "nbformat_minor": 2
}
