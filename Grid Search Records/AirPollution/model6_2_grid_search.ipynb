{
 "cells": [
  {
   "cell_type": "code",
   "execution_count": 1,
   "metadata": {},
   "outputs": [],
   "source": [
    "import torch\n",
    "from torch import nn\n",
    "from torch.optim import Adam\n",
    "device = torch.device('cuda')\n",
    "\n",
    "from sklearn.metrics import r2_score, mean_absolute_error\n",
    "\n",
    "from models import Model6_2\n",
    "from tools import validation, GridSearch\n",
    "\n",
    "from get_loaders import get_loaders"
   ]
  },
  {
   "cell_type": "code",
   "execution_count": 2,
   "metadata": {},
   "outputs": [
    {
     "name": "stderr",
     "output_type": "stream",
     "text": [
      "100%|██████████| 1401/1401 [00:00<00:00, 24642.68it/s]\n",
      "100%|██████████| 306/306 [00:00<00:00, 102283.79it/s]\n"
     ]
    }
   ],
   "source": [
    "train_loader, test_loader = get_loaders(window_size=60, test_size=0.2, batch_size=32)\n",
    "\n",
    "criterion = nn.MSELoss()\n",
    "eval_metrics = [r2_score, mean_absolute_error]\n",
    "lr = 1e-3"
   ]
  },
  {
   "cell_type": "code",
   "execution_count": 3,
   "metadata": {},
   "outputs": [
    {
     "name": "stdout",
     "output_type": "stream",
     "text": [
      "Total   9 cases are going to be searched.\n",
      "Setting   0 of Parameters Grid is now on progres.\n"
     ]
    },
    {
     "name": "stderr",
     "output_type": "stream",
     "text": [
      "Epoch  0: 100%|██████████| 44/44 [00:03<00:00, 12.12it/s, Train Loss=15338.9781, Valid Loss=12259.4756, Valid R2=-1.5215, Valid MAE=86.0126]\n",
      "Epoch  1: 100%|██████████| 44/44 [00:03<00:00, 13.85it/s, Train Loss=9962.0230, Valid Loss=5419.0801, Valid R2=-0.1146, Valid MAE=59.6876]\n",
      "Epoch  2: 100%|██████████| 44/44 [00:03<00:00, 13.97it/s, Train Loss=5833.0745, Valid Loss=5043.2656, Valid R2=-0.0373, Valid MAE=55.3114]\n",
      "Epoch  3: 100%|██████████| 44/44 [00:03<00:00, 13.99it/s, Train Loss=5779.0905, Valid Loss=4955.1582, Valid R2=-0.0192, Valid MAE=53.8549]\n",
      "Epoch  4: 100%|██████████| 44/44 [00:03<00:00, 13.77it/s, Train Loss=5819.3540, Valid Loss=5018.2100, Valid R2=-0.0321, Valid MAE=54.8523]\n",
      "Epoch  5: 100%|██████████| 44/44 [00:03<00:00, 13.94it/s, Train Loss=5728.7704, Valid Loss=4956.7690, Valid R2=-0.0195, Valid MAE=54.4457]\n",
      "Epoch  6: 100%|██████████| 44/44 [00:03<00:00, 13.90it/s, Train Loss=5689.1887, Valid Loss=4907.4189, Valid R2=-0.0093, Valid MAE=53.9916]\n",
      "Epoch  7: 100%|██████████| 44/44 [00:03<00:00, 13.84it/s, Train Loss=5649.5858, Valid Loss=4788.8711, Valid R2=0.0150, Valid MAE=51.5630]\n",
      "Epoch  8: 100%|██████████| 44/44 [00:03<00:00, 13.93it/s, Train Loss=5564.1967, Valid Loss=4857.2153, Valid R2=0.0010, Valid MAE=50.3635]\n",
      "Epoch  9: 100%|██████████| 44/44 [00:03<00:00, 13.64it/s, Train Loss=5478.2640, Valid Loss=4805.5718, Valid R2=0.0116, Valid MAE=53.7754]\n",
      "Epoch 10: 100%|██████████| 44/44 [00:03<00:00, 12.67it/s, Train Loss=5291.9245, Valid Loss=4704.3789, Valid R2=0.0324, Valid MAE=52.3139]\n",
      "Epoch 11: 100%|██████████| 44/44 [00:03<00:00, 13.80it/s, Train Loss=5209.8388, Valid Loss=4716.6431, Valid R2=0.0299, Valid MAE=51.5898]\n",
      "Epoch 12: 100%|██████████| 44/44 [00:03<00:00, 13.64it/s, Train Loss=4897.0676, Valid Loss=5331.9463, Valid R2=-0.0967, Valid MAE=60.0969]\n",
      "Epoch 13: 100%|██████████| 44/44 [00:03<00:00, 13.23it/s, Train Loss=4422.1119, Valid Loss=4385.5439, Valid R2=0.0980, Valid MAE=52.2913]\n",
      "Epoch 14: 100%|██████████| 44/44 [00:03<00:00, 13.53it/s, Train Loss=4416.7769, Valid Loss=4288.2036, Valid R2=0.1180, Valid MAE=49.3101]\n",
      "Epoch 15: 100%|██████████| 44/44 [00:03<00:00, 13.61it/s, Train Loss=4346.1945, Valid Loss=4077.0393, Valid R2=0.1614, Valid MAE=49.5192]\n",
      "Epoch 16: 100%|██████████| 44/44 [00:03<00:00, 13.97it/s, Train Loss=4190.4689, Valid Loss=4060.8931, Valid R2=0.1648, Valid MAE=48.6633]\n",
      "Epoch 17: 100%|██████████| 44/44 [00:03<00:00, 13.72it/s, Train Loss=3805.5553, Valid Loss=3874.3606, Valid R2=0.2031, Valid MAE=49.1794]\n",
      "Epoch 18: 100%|██████████| 44/44 [00:03<00:00, 13.79it/s, Train Loss=3668.0272, Valid Loss=4081.5000, Valid R2=0.1605, Valid MAE=49.0375]\n",
      "Epoch 19: 100%|██████████| 44/44 [00:03<00:00, 13.71it/s, Train Loss=3397.4687, Valid Loss=3752.0430, Valid R2=0.2283, Valid MAE=45.9074]\n",
      "Epoch 20: 100%|██████████| 44/44 [00:03<00:00, 13.91it/s, Train Loss=3349.2864, Valid Loss=3879.2969, Valid R2=0.2021, Valid MAE=48.8338]\n",
      "Epoch 21: 100%|██████████| 44/44 [00:03<00:00, 14.02it/s, Train Loss=2936.2541, Valid Loss=3487.2043, Valid R2=0.2828, Valid MAE=45.6128]\n",
      "Epoch 22: 100%|██████████| 44/44 [00:03<00:00, 14.12it/s, Train Loss=2811.5354, Valid Loss=3668.9282, Valid R2=0.2454, Valid MAE=46.1453]\n",
      "Epoch 23: 100%|██████████| 44/44 [00:03<00:00, 13.71it/s, Train Loss=2728.6249, Valid Loss=3798.9856, Valid R2=0.2186, Valid MAE=48.0469]\n",
      "Epoch 24: 100%|██████████| 44/44 [00:03<00:00, 13.91it/s, Train Loss=2440.6816, Valid Loss=3931.3579, Valid R2=0.1914, Valid MAE=49.1366]\n",
      "Epoch 25: 100%|██████████| 44/44 [00:03<00:00, 13.84it/s, Train Loss=2304.5259, Valid Loss=3438.3757, Valid R2=0.2928, Valid MAE=44.7038]\n",
      "Epoch 26: 100%|██████████| 44/44 [00:03<00:00, 13.92it/s, Train Loss=2187.6807, Valid Loss=3480.0332, Valid R2=0.2842, Valid MAE=44.9209]\n",
      "Epoch 27: 100%|██████████| 44/44 [00:03<00:00, 13.93it/s, Train Loss=2028.0840, Valid Loss=3621.0193, Valid R2=0.2552, Valid MAE=46.3989]\n",
      "Epoch 28: 100%|██████████| 44/44 [00:03<00:00, 13.95it/s, Train Loss=1913.9609, Valid Loss=3326.8762, Valid R2=0.3157, Valid MAE=44.3213]\n",
      "Epoch 29: 100%|██████████| 44/44 [00:03<00:00, 13.86it/s, Train Loss=1802.4982, Valid Loss=3263.7244, Valid R2=0.3287, Valid MAE=42.1089]\n",
      "Epoch 30: 100%|██████████| 44/44 [00:03<00:00, 14.02it/s, Train Loss=1674.1331, Valid Loss=3401.7151, Valid R2=0.3003, Valid MAE=44.2716]\n",
      "Epoch 31: 100%|██████████| 44/44 [00:03<00:00, 13.98it/s, Train Loss=1588.0705, Valid Loss=3255.3132, Valid R2=0.3305, Valid MAE=42.5026]\n",
      "Epoch 32: 100%|██████████| 44/44 [00:03<00:00, 13.97it/s, Train Loss=1564.6001, Valid Loss=3350.7500, Valid R2=0.3108, Valid MAE=43.4517]\n",
      "Epoch 33: 100%|██████████| 44/44 [00:03<00:00, 13.96it/s, Train Loss=1917.2623, Valid Loss=3313.1895, Valid R2=0.3186, Valid MAE=42.0987]\n",
      "Epoch 34: 100%|██████████| 44/44 [00:03<00:00, 13.98it/s, Train Loss=1604.7731, Valid Loss=3148.8469, Valid R2=0.3524, Valid MAE=42.7129]\n",
      "Epoch 35: 100%|██████████| 44/44 [00:03<00:00, 13.99it/s, Train Loss=1485.5217, Valid Loss=3170.3469, Valid R2=0.3479, Valid MAE=42.7415]\n",
      "Epoch 36: 100%|██████████| 44/44 [00:02<00:00, 15.51it/s, Train Loss=1330.9756, Valid Loss=3405.6597, Valid R2=0.2995, Valid MAE=44.9881]\n",
      "Epoch 37: 100%|██████████| 44/44 [00:02<00:00, 16.00it/s, Train Loss=1229.5020, Valid Loss=3080.6719, Valid R2=0.3664, Valid MAE=41.0418]\n",
      "Epoch 38: 100%|██████████| 44/44 [00:02<00:00, 16.15it/s, Train Loss=1220.7248, Valid Loss=3755.0818, Valid R2=0.2277, Valid MAE=46.9224]\n",
      "Epoch 39: 100%|██████████| 44/44 [00:02<00:00, 16.14it/s, Train Loss=1168.0301, Valid Loss=3451.3999, Valid R2=0.2901, Valid MAE=43.7805]\n",
      "Epoch 40: 100%|██████████| 44/44 [00:02<00:00, 16.22it/s, Train Loss=1121.2704, Valid Loss=3371.0830, Valid R2=0.3066, Valid MAE=42.7520]\n",
      "Epoch 41: 100%|██████████| 44/44 [00:02<00:00, 15.93it/s, Train Loss=1118.7672, Valid Loss=3630.2998, Valid R2=0.2533, Valid MAE=45.1779]\n",
      "Epoch 42: 100%|██████████| 44/44 [00:02<00:00, 15.99it/s, Train Loss=1172.7579, Valid Loss=3140.5847, Valid R2=0.3541, Valid MAE=41.3217]\n",
      "Epoch 43: 100%|██████████| 44/44 [00:02<00:00, 16.13it/s, Train Loss=1042.9495, Valid Loss=3294.9653, Valid R2=0.3223, Valid MAE=42.1756]\n"
     ]
    },
    {
     "name": "stdout",
     "output_type": "stream",
     "text": [
      "Early Stopped\n",
      "Setting   1 of Parameters Grid is now on progres.\n"
     ]
    },
    {
     "name": "stderr",
     "output_type": "stream",
     "text": [
      "Epoch  0: 100%|██████████| 44/44 [00:02<00:00, 15.92it/s, Train Loss=15411.1015, Valid Loss=12708.5361, Valid R2=-1.6138, Valid MAE=88.5807]\n",
      "Epoch  1: 100%|██████████| 44/44 [00:02<00:00, 16.15it/s, Train Loss=15365.2923, Valid Loss=12663.2129, Valid R2=-1.6045, Valid MAE=88.3245]\n",
      "Epoch  2: 100%|██████████| 44/44 [00:02<00:00, 15.74it/s, Train Loss=15332.3742, Valid Loss=12595.5225, Valid R2=-1.5906, Valid MAE=87.9404]\n",
      "Epoch  3: 100%|██████████| 44/44 [00:02<00:00, 16.04it/s, Train Loss=15215.2921, Valid Loss=12496.1621, Valid R2=-1.5702, Valid MAE=87.3737]\n",
      "Epoch  4: 100%|██████████| 44/44 [00:02<00:00, 15.79it/s, Train Loss=15087.6341, Valid Loss=12362.2021, Valid R2=-1.5426, Valid MAE=86.6037]\n",
      "Epoch  5: 100%|██████████| 44/44 [00:02<00:00, 15.91it/s, Train Loss=14927.3831, Valid Loss=12189.8145, Valid R2=-1.5072, Valid MAE=85.6026]\n",
      "Epoch  6: 100%|██████████| 44/44 [00:02<00:00, 16.10it/s, Train Loss=14776.6796, Valid Loss=11979.4854, Valid R2=-1.4639, Valid MAE=84.3652]\n",
      "Epoch  7: 100%|██████████| 44/44 [00:02<00:00, 16.24it/s, Train Loss=14456.1741, Valid Loss=11735.6641, Valid R2=-1.4138, Valid MAE=82.9075]\n",
      "Epoch  8: 100%|██████████| 44/44 [00:02<00:00, 16.22it/s, Train Loss=14180.7776, Valid Loss=11457.1680, Valid R2=-1.3565, Valid MAE=81.2247]\n",
      "Epoch  9: 100%|██████████| 44/44 [00:02<00:00, 16.01it/s, Train Loss=13873.7305, Valid Loss=11158.2012, Valid R2=-1.2950, Valid MAE=79.4015]\n",
      "Epoch 10: 100%|██████████| 44/44 [00:02<00:00, 16.06it/s, Train Loss=13527.2271, Valid Loss=10832.7461, Valid R2=-1.2280, Valid MAE=77.4047]\n",
      "Epoch 11: 100%|██████████| 44/44 [00:02<00:00, 16.09it/s, Train Loss=13140.9190, Valid Loss=10497.2490, Valid R2=-1.1590, Valid MAE=75.3461]\n",
      "Epoch 12: 100%|██████████| 44/44 [00:02<00:00, 16.18it/s, Train Loss=12792.8787, Valid Loss=10147.7178, Valid R2=-1.0871, Valid MAE=73.2448]\n",
      "Epoch 13: 100%|██████████| 44/44 [00:02<00:00, 16.21it/s, Train Loss=12337.9369, Valid Loss=9785.6455, Valid R2=-1.0127, Valid MAE=71.0371]\n",
      "Epoch 14: 100%|██████████| 44/44 [00:02<00:00, 16.25it/s, Train Loss=11939.0492, Valid Loss=9423.9971, Valid R2=-0.9383, Valid MAE=68.8498]\n",
      "Epoch 15: 100%|██████████| 44/44 [00:02<00:00, 16.22it/s, Train Loss=11511.9939, Valid Loss=9059.8877, Valid R2=-0.8634, Valid MAE=66.6702]\n",
      "Epoch 16: 100%|██████████| 44/44 [00:02<00:00, 16.36it/s, Train Loss=11079.7487, Valid Loss=8699.1484, Valid R2=-0.7892, Valid MAE=64.6197]\n",
      "Epoch 17: 100%|██████████| 44/44 [00:02<00:00, 16.27it/s, Train Loss=10681.9132, Valid Loss=8351.8076, Valid R2=-0.7178, Valid MAE=62.7331]\n",
      "Epoch 18: 100%|██████████| 44/44 [00:02<00:00, 16.25it/s, Train Loss=10293.1558, Valid Loss=8003.8809, Valid R2=-0.6462, Valid MAE=60.8883]\n",
      "Epoch 19: 100%|██████████| 44/44 [00:02<00:00, 16.24it/s, Train Loss=9899.3240, Valid Loss=7669.8813, Valid R2=-0.5775, Valid MAE=59.2131]\n",
      "Epoch 20: 100%|██████████| 44/44 [00:02<00:00, 16.17it/s, Train Loss=9492.1996, Valid Loss=7353.6914, Valid R2=-0.5125, Valid MAE=57.6493]\n",
      "Epoch 21: 100%|██████████| 44/44 [00:02<00:00, 16.23it/s, Train Loss=9117.8937, Valid Loss=7053.1919, Valid R2=-0.4507, Valid MAE=56.1689]\n",
      "Epoch 22: 100%|██████████| 44/44 [00:02<00:00, 16.27it/s, Train Loss=8784.4189, Valid Loss=6773.7329, Valid R2=-0.3932, Valid MAE=54.8090]\n",
      "Epoch 23: 100%|██████████| 44/44 [00:02<00:00, 16.27it/s, Train Loss=8442.9232, Valid Loss=6513.3726, Valid R2=-0.3396, Valid MAE=53.6426]\n",
      "Epoch 24: 100%|██████████| 44/44 [00:02<00:00, 16.31it/s, Train Loss=8122.1635, Valid Loss=6267.9453, Valid R2=-0.2892, Valid MAE=52.6105]\n",
      "Epoch 25: 100%|██████████| 44/44 [00:02<00:00, 16.26it/s, Train Loss=7838.2145, Valid Loss=6049.5776, Valid R2=-0.2443, Valid MAE=51.7363]\n",
      "Epoch 26: 100%|██████████| 44/44 [00:02<00:00, 16.26it/s, Train Loss=7572.7502, Valid Loss=5851.3896, Valid R2=-0.2035, Valid MAE=51.0045]\n",
      "Epoch 27: 100%|██████████| 44/44 [00:02<00:00, 16.14it/s, Train Loss=7363.7280, Valid Loss=5675.9263, Valid R2=-0.1674, Valid MAE=50.4050]\n",
      "Epoch 28: 100%|██████████| 44/44 [00:02<00:00, 16.27it/s, Train Loss=7112.2084, Valid Loss=5518.3965, Valid R2=-0.1350, Valid MAE=49.9478]\n",
      "Epoch 29: 100%|██████████| 44/44 [00:02<00:00, 16.25it/s, Train Loss=6911.1425, Valid Loss=5381.6299, Valid R2=-0.1069, Valid MAE=49.6143]\n",
      "Epoch 30: 100%|██████████| 44/44 [00:02<00:00, 16.25it/s, Train Loss=6726.7693, Valid Loss=5267.6001, Valid R2=-0.0834, Valid MAE=49.4867]\n",
      "Epoch 31: 100%|██████████| 44/44 [00:02<00:00, 16.24it/s, Train Loss=6589.2982, Valid Loss=5169.7651, Valid R2=-0.0633, Valid MAE=49.4985]\n",
      "Epoch 32: 100%|██████████| 44/44 [00:02<00:00, 16.27it/s, Train Loss=6426.1731, Valid Loss=5087.8901, Valid R2=-0.0465, Valid MAE=49.5642]\n",
      "Epoch 33: 100%|██████████| 44/44 [00:02<00:00, 16.16it/s, Train Loss=6330.0557, Valid Loss=5025.5972, Valid R2=-0.0336, Valid MAE=49.6347]\n",
      "Epoch 34: 100%|██████████| 44/44 [00:02<00:00, 16.28it/s, Train Loss=6219.7880, Valid Loss=4972.0791, Valid R2=-0.0226, Valid MAE=49.7594]\n",
      "Epoch 35: 100%|██████████| 44/44 [00:02<00:00, 16.20it/s, Train Loss=6135.3235, Valid Loss=4931.6860, Valid R2=-0.0143, Valid MAE=49.9502]\n",
      "Epoch 36: 100%|██████████| 44/44 [00:02<00:00, 16.29it/s, Train Loss=6049.2079, Valid Loss=4903.7236, Valid R2=-0.0086, Valid MAE=50.1963]\n",
      "Epoch 37: 100%|██████████| 44/44 [00:02<00:00, 16.28it/s, Train Loss=5976.7150, Valid Loss=4884.7524, Valid R2=-0.0047, Valid MAE=50.4350]\n",
      "Epoch 38: 100%|██████████| 44/44 [00:02<00:00, 16.20it/s, Train Loss=5928.8400, Valid Loss=4871.4170, Valid R2=-0.0019, Valid MAE=50.7064]\n",
      "Epoch 39: 100%|██████████| 44/44 [00:02<00:00, 16.13it/s, Train Loss=5899.1726, Valid Loss=4864.2515, Valid R2=-0.0005, Valid MAE=50.9788]\n",
      "Epoch 40: 100%|██████████| 44/44 [00:02<00:00, 16.12it/s, Train Loss=5863.2331, Valid Loss=4862.0098, Valid R2=-0.0000, Valid MAE=51.2544]\n",
      "Epoch 41: 100%|██████████| 44/44 [00:02<00:00, 15.87it/s, Train Loss=5834.2889, Valid Loss=4862.9785, Valid R2=-0.0002, Valid MAE=51.4774]\n",
      "Epoch 42: 100%|██████████| 44/44 [00:02<00:00, 15.93it/s, Train Loss=5816.8084, Valid Loss=4867.0186, Valid R2=-0.0010, Valid MAE=51.7639]\n",
      "Epoch 43: 100%|██████████| 44/44 [00:02<00:00, 15.76it/s, Train Loss=5796.5297, Valid Loss=4872.4893, Valid R2=-0.0022, Valid MAE=52.0161]\n",
      "Epoch 44: 100%|██████████| 44/44 [00:02<00:00, 15.23it/s, Train Loss=5786.6901, Valid Loss=4878.6929, Valid R2=-0.0034, Valid MAE=52.2431]\n",
      "Epoch 45: 100%|██████████| 44/44 [00:02<00:00, 15.06it/s, Train Loss=5787.3917, Valid Loss=4885.8257, Valid R2=-0.0049, Valid MAE=52.4655]\n",
      "Epoch 46: 100%|██████████| 44/44 [00:02<00:00, 15.86it/s, Train Loss=5766.3644, Valid Loss=4892.8057, Valid R2=-0.0063, Valid MAE=52.6600]\n"
     ]
    },
    {
     "name": "stdout",
     "output_type": "stream",
     "text": [
      "Early Stopped\n",
      "Setting   2 of Parameters Grid is now on progres.\n"
     ]
    },
    {
     "name": "stderr",
     "output_type": "stream",
     "text": [
      "Epoch  0: 100%|██████████| 44/44 [00:02<00:00, 15.51it/s, Train Loss=15073.9355, Valid Loss=10892.9385, Valid R2=-1.2404, Valid MAE=77.7720]\n",
      "Epoch  1: 100%|██████████| 44/44 [00:02<00:00, 15.75it/s, Train Loss=8150.2362, Valid Loss=4860.5156, Valid R2=0.0003, Valid MAE=50.1242]\n",
      "Epoch  2: 100%|██████████| 44/44 [00:02<00:00, 15.80it/s, Train Loss=5885.9846, Valid Loss=4872.0073, Valid R2=-0.0021, Valid MAE=52.6027]\n",
      "Epoch  3: 100%|██████████| 44/44 [00:02<00:00, 15.92it/s, Train Loss=5714.0298, Valid Loss=4850.9419, Valid R2=0.0023, Valid MAE=52.3845]\n",
      "Epoch  4: 100%|██████████| 44/44 [00:02<00:00, 16.21it/s, Train Loss=5749.8241, Valid Loss=4881.9033, Valid R2=-0.0041, Valid MAE=52.7659]\n",
      "Epoch  5: 100%|██████████| 44/44 [00:02<00:00, 16.16it/s, Train Loss=5706.1083, Valid Loss=4900.5215, Valid R2=-0.0079, Valid MAE=53.6826]\n",
      "Epoch  6: 100%|██████████| 44/44 [00:02<00:00, 16.10it/s, Train Loss=5641.1101, Valid Loss=4755.1543, Valid R2=0.0220, Valid MAE=50.4974]\n",
      "Epoch  7: 100%|██████████| 44/44 [00:02<00:00, 16.29it/s, Train Loss=5620.9803, Valid Loss=4737.3374, Valid R2=0.0256, Valid MAE=50.8236]\n",
      "Epoch  8: 100%|██████████| 44/44 [00:02<00:00, 15.86it/s, Train Loss=5435.2739, Valid Loss=4566.0869, Valid R2=0.0609, Valid MAE=50.8826]\n",
      "Epoch  9: 100%|██████████| 44/44 [00:02<00:00, 15.70it/s, Train Loss=5461.3899, Valid Loss=4570.1313, Valid R2=0.0600, Valid MAE=49.3977]\n",
      "Epoch 10: 100%|██████████| 44/44 [00:02<00:00, 15.97it/s, Train Loss=5380.6571, Valid Loss=4532.7798, Valid R2=0.0677, Valid MAE=49.6011]\n",
      "Epoch 11: 100%|██████████| 44/44 [00:02<00:00, 16.03it/s, Train Loss=5340.9147, Valid Loss=4643.6812, Valid R2=0.0449, Valid MAE=52.3071]\n",
      "Epoch 12: 100%|██████████| 44/44 [00:02<00:00, 15.67it/s, Train Loss=5011.7650, Valid Loss=4302.9844, Valid R2=0.1150, Valid MAE=49.4221]\n",
      "Epoch 13: 100%|██████████| 44/44 [00:02<00:00, 15.93it/s, Train Loss=4917.2664, Valid Loss=4503.3789, Valid R2=0.0738, Valid MAE=50.3321]\n",
      "Epoch 14: 100%|██████████| 44/44 [00:02<00:00, 16.06it/s, Train Loss=4941.2197, Valid Loss=4561.5815, Valid R2=0.0618, Valid MAE=52.1064]\n",
      "Epoch 15: 100%|██████████| 44/44 [00:02<00:00, 15.82it/s, Train Loss=4537.3805, Valid Loss=4228.4673, Valid R2=0.1303, Valid MAE=48.2803]\n",
      "Epoch 16: 100%|██████████| 44/44 [00:02<00:00, 15.99it/s, Train Loss=5257.7843, Valid Loss=4552.4795, Valid R2=0.0637, Valid MAE=55.1074]\n",
      "Epoch 17: 100%|██████████| 44/44 [00:02<00:00, 15.39it/s, Train Loss=4425.8145, Valid Loss=4328.0195, Valid R2=0.1098, Valid MAE=51.8947]\n",
      "Epoch 18: 100%|██████████| 44/44 [00:02<00:00, 15.97it/s, Train Loss=4440.7123, Valid Loss=4292.7886, Valid R2=0.1171, Valid MAE=51.2470]\n",
      "Epoch 19: 100%|██████████| 44/44 [00:02<00:00, 15.76it/s, Train Loss=4297.0846, Valid Loss=4215.6064, Valid R2=0.1329, Valid MAE=50.6995]\n",
      "Epoch 20: 100%|██████████| 44/44 [00:02<00:00, 15.78it/s, Train Loss=4084.2059, Valid Loss=4107.5142, Valid R2=0.1552, Valid MAE=49.6376]\n",
      "Epoch 21: 100%|██████████| 44/44 [00:02<00:00, 15.85it/s, Train Loss=3914.0834, Valid Loss=3916.6802, Valid R2=0.1944, Valid MAE=46.9436]\n",
      "Epoch 22: 100%|██████████| 44/44 [00:02<00:00, 15.87it/s, Train Loss=3909.7880, Valid Loss=4277.2080, Valid R2=0.1203, Valid MAE=51.7371]\n",
      "Epoch 23: 100%|██████████| 44/44 [00:02<00:00, 15.79it/s, Train Loss=3793.4897, Valid Loss=4058.4641, Valid R2=0.1653, Valid MAE=47.9069]\n",
      "Epoch 24: 100%|██████████| 44/44 [00:02<00:00, 15.85it/s, Train Loss=3592.0746, Valid Loss=3557.3865, Valid R2=0.2683, Valid MAE=44.5051]\n",
      "Epoch 25: 100%|██████████| 44/44 [00:02<00:00, 15.89it/s, Train Loss=3589.4250, Valid Loss=3573.2793, Valid R2=0.2651, Valid MAE=44.9907]\n",
      "Epoch 26: 100%|██████████| 44/44 [00:02<00:00, 15.91it/s, Train Loss=3326.9121, Valid Loss=4175.2222, Valid R2=0.1413, Valid MAE=50.3231]\n",
      "Epoch 27: 100%|██████████| 44/44 [00:02<00:00, 15.84it/s, Train Loss=3196.4411, Valid Loss=3472.2197, Valid R2=0.2858, Valid MAE=44.7634]\n",
      "Epoch 28: 100%|██████████| 44/44 [00:02<00:00, 15.86it/s, Train Loss=3061.1392, Valid Loss=3715.7681, Valid R2=0.2358, Valid MAE=46.4674]\n",
      "Epoch 29: 100%|██████████| 44/44 [00:02<00:00, 15.94it/s, Train Loss=3062.7951, Valid Loss=3501.8708, Valid R2=0.2797, Valid MAE=44.6969]\n",
      "Epoch 30: 100%|██████████| 44/44 [00:02<00:00, 15.86it/s, Train Loss=2935.0044, Valid Loss=3356.8979, Valid R2=0.3096, Valid MAE=43.8886]\n",
      "Epoch 31: 100%|██████████| 44/44 [00:02<00:00, 15.89it/s, Train Loss=2928.6347, Valid Loss=3459.6506, Valid R2=0.2884, Valid MAE=44.3144]\n",
      "Epoch 32: 100%|██████████| 44/44 [00:02<00:00, 15.86it/s, Train Loss=2902.7027, Valid Loss=3863.8718, Valid R2=0.2053, Valid MAE=48.9016]\n",
      "Epoch 33: 100%|██████████| 44/44 [00:02<00:00, 16.02it/s, Train Loss=2847.4441, Valid Loss=3505.8606, Valid R2=0.2789, Valid MAE=44.7624]\n",
      "Epoch 34: 100%|██████████| 44/44 [00:02<00:00, 15.80it/s, Train Loss=2757.2443, Valid Loss=3637.4133, Valid R2=0.2519, Valid MAE=46.4920]\n",
      "Epoch 35: 100%|██████████| 44/44 [00:02<00:00, 15.90it/s, Train Loss=2552.6865, Valid Loss=3471.2275, Valid R2=0.2860, Valid MAE=45.8153]\n",
      "Epoch 36: 100%|██████████| 44/44 [00:02<00:00, 15.85it/s, Train Loss=2372.9285, Valid Loss=4022.3489, Valid R2=0.1727, Valid MAE=49.8587]\n"
     ]
    },
    {
     "name": "stdout",
     "output_type": "stream",
     "text": [
      "Early Stopped\n",
      "Setting   3 of Parameters Grid is now on progres.\n"
     ]
    },
    {
     "name": "stderr",
     "output_type": "stream",
     "text": [
      "Epoch  0: 100%|██████████| 44/44 [00:02<00:00, 15.76it/s, Train Loss=15102.7732, Valid Loss=11268.0723, Valid R2=-1.3176, Valid MAE=80.0776]\n",
      "Epoch  1: 100%|██████████| 44/44 [00:02<00:00, 15.75it/s, Train Loss=8284.2677, Valid Loss=4901.8936, Valid R2=-0.0082, Valid MAE=53.2155]\n",
      "Epoch  2: 100%|██████████| 44/44 [00:02<00:00, 15.74it/s, Train Loss=5804.0445, Valid Loss=4850.2983, Valid R2=0.0024, Valid MAE=52.5087]\n",
      "Epoch  3: 100%|██████████| 44/44 [00:02<00:00, 15.79it/s, Train Loss=5772.2612, Valid Loss=4790.5459, Valid R2=0.0147, Valid MAE=52.5303]\n",
      "Epoch  4: 100%|██████████| 44/44 [00:02<00:00, 15.92it/s, Train Loss=5601.1319, Valid Loss=4747.3506, Valid R2=0.0236, Valid MAE=53.6538]\n",
      "Epoch  5: 100%|██████████| 44/44 [00:02<00:00, 16.07it/s, Train Loss=5516.6041, Valid Loss=4644.0776, Valid R2=0.0448, Valid MAE=49.6562]\n",
      "Epoch  6: 100%|██████████| 44/44 [00:02<00:00, 15.99it/s, Train Loss=5291.0654, Valid Loss=4626.3032, Valid R2=0.0485, Valid MAE=51.8490]\n",
      "Epoch  7: 100%|██████████| 44/44 [00:02<00:00, 16.13it/s, Train Loss=5473.9221, Valid Loss=4432.9775, Valid R2=0.0882, Valid MAE=48.9190]\n",
      "Epoch  8: 100%|██████████| 44/44 [00:02<00:00, 16.07it/s, Train Loss=5156.5679, Valid Loss=5066.2344, Valid R2=-0.0420, Valid MAE=58.5281]\n",
      "Epoch  9: 100%|██████████| 44/44 [00:02<00:00, 16.04it/s, Train Loss=4735.0323, Valid Loss=4169.6914, Valid R2=0.1424, Valid MAE=47.3228]\n",
      "Epoch 10: 100%|██████████| 44/44 [00:03<00:00, 14.21it/s, Train Loss=4637.7811, Valid Loss=5434.4512, Valid R2=-0.1177, Valid MAE=59.4016]\n",
      "Epoch 11: 100%|██████████| 44/44 [00:02<00:00, 16.00it/s, Train Loss=4585.6575, Valid Loss=4246.4219, Valid R2=0.1266, Valid MAE=48.7714]\n",
      "Epoch 12: 100%|██████████| 44/44 [00:02<00:00, 16.18it/s, Train Loss=4497.1043, Valid Loss=4155.3398, Valid R2=0.1453, Valid MAE=49.7921]\n",
      "Epoch 13: 100%|██████████| 44/44 [00:02<00:00, 16.21it/s, Train Loss=4084.9223, Valid Loss=4067.8970, Valid R2=0.1633, Valid MAE=47.2071]\n",
      "Epoch 14: 100%|██████████| 44/44 [00:02<00:00, 16.13it/s, Train Loss=3796.0593, Valid Loss=4307.4038, Valid R2=0.1141, Valid MAE=51.6989]\n",
      "Epoch 15: 100%|██████████| 44/44 [00:02<00:00, 16.19it/s, Train Loss=3686.0627, Valid Loss=4102.3267, Valid R2=0.1562, Valid MAE=49.8023]\n",
      "Epoch 16: 100%|██████████| 44/44 [00:02<00:00, 16.26it/s, Train Loss=3333.9113, Valid Loss=3911.1807, Valid R2=0.1956, Valid MAE=48.5702]\n",
      "Epoch 17: 100%|██████████| 44/44 [00:02<00:00, 15.96it/s, Train Loss=3233.1987, Valid Loss=3430.7131, Valid R2=0.2944, Valid MAE=44.2752]\n",
      "Epoch 18: 100%|██████████| 44/44 [00:02<00:00, 16.27it/s, Train Loss=2975.2757, Valid Loss=3540.2480, Valid R2=0.2719, Valid MAE=45.7665]\n",
      "Epoch 19: 100%|██████████| 44/44 [00:02<00:00, 16.02it/s, Train Loss=2904.9982, Valid Loss=3487.3967, Valid R2=0.2827, Valid MAE=44.9551]\n",
      "Epoch 20: 100%|██████████| 44/44 [00:02<00:00, 16.04it/s, Train Loss=2740.4436, Valid Loss=3196.7231, Valid R2=0.3425, Valid MAE=41.5812]\n",
      "Epoch 21: 100%|██████████| 44/44 [00:02<00:00, 16.27it/s, Train Loss=2949.4448, Valid Loss=4888.6006, Valid R2=-0.0055, Valid MAE=57.4578]\n",
      "Epoch 22: 100%|██████████| 44/44 [00:02<00:00, 16.17it/s, Train Loss=2864.0461, Valid Loss=3362.9380, Valid R2=0.3083, Valid MAE=45.4931]\n",
      "Epoch 23: 100%|██████████| 44/44 [00:02<00:00, 16.15it/s, Train Loss=2479.0730, Valid Loss=3175.9048, Valid R2=0.3468, Valid MAE=43.3376]\n",
      "Epoch 24: 100%|██████████| 44/44 [00:02<00:00, 16.10it/s, Train Loss=2445.7870, Valid Loss=3362.2529, Valid R2=0.3085, Valid MAE=43.1501]\n",
      "Epoch 25: 100%|██████████| 44/44 [00:02<00:00, 16.04it/s, Train Loss=2693.8141, Valid Loss=3083.5627, Valid R2=0.3658, Valid MAE=41.7737]\n",
      "Epoch 26: 100%|██████████| 44/44 [00:02<00:00, 16.17it/s, Train Loss=2744.4408, Valid Loss=3210.1069, Valid R2=0.3398, Valid MAE=42.9426]\n",
      "Epoch 27: 100%|██████████| 44/44 [00:02<00:00, 16.08it/s, Train Loss=2622.5823, Valid Loss=3514.2197, Valid R2=0.2772, Valid MAE=45.9112]\n",
      "Epoch 28: 100%|██████████| 44/44 [00:02<00:00, 16.25it/s, Train Loss=2121.1409, Valid Loss=3261.5164, Valid R2=0.3292, Valid MAE=43.3468]\n",
      "Epoch 29: 100%|██████████| 44/44 [00:02<00:00, 16.25it/s, Train Loss=1989.2922, Valid Loss=2830.8245, Valid R2=0.4178, Valid MAE=41.0128]\n",
      "Epoch 30: 100%|██████████| 44/44 [00:02<00:00, 15.83it/s, Train Loss=1948.5762, Valid Loss=3178.7129, Valid R2=0.3462, Valid MAE=42.4224]\n",
      "Epoch 31: 100%|██████████| 44/44 [00:02<00:00, 15.86it/s, Train Loss=1844.6467, Valid Loss=3250.4548, Valid R2=0.3315, Valid MAE=43.7249]\n",
      "Epoch 32: 100%|██████████| 44/44 [00:02<00:00, 15.36it/s, Train Loss=1790.6986, Valid Loss=3241.0991, Valid R2=0.3334, Valid MAE=43.4061]\n",
      "Epoch 33: 100%|██████████| 44/44 [00:02<00:00, 15.93it/s, Train Loss=1713.4441, Valid Loss=2960.3757, Valid R2=0.3911, Valid MAE=40.5625]\n",
      "Epoch 34: 100%|██████████| 44/44 [00:02<00:00, 15.62it/s, Train Loss=1630.8159, Valid Loss=2986.7808, Valid R2=0.3857, Valid MAE=42.2420]\n",
      "Epoch 35: 100%|██████████| 44/44 [00:02<00:00, 16.00it/s, Train Loss=1507.5494, Valid Loss=2866.3000, Valid R2=0.4105, Valid MAE=40.2673]\n"
     ]
    },
    {
     "name": "stdout",
     "output_type": "stream",
     "text": [
      "Early Stopped\n",
      "Setting   4 of Parameters Grid is now on progres.\n"
     ]
    },
    {
     "name": "stderr",
     "output_type": "stream",
     "text": [
      "Epoch  0: 100%|██████████| 44/44 [00:02<00:00, 15.83it/s, Train Loss=15444.5933, Valid Loss=12742.0781, Valid R2=-1.6207, Valid MAE=88.7698]\n",
      "Epoch  1: 100%|██████████| 44/44 [00:02<00:00, 15.88it/s, Train Loss=15425.9221, Valid Loss=12693.1064, Valid R2=-1.6107, Valid MAE=88.4935]\n",
      "Epoch  2: 100%|██████████| 44/44 [00:02<00:00, 16.11it/s, Train Loss=15376.7476, Valid Loss=12615.8359, Valid R2=-1.5948, Valid MAE=88.0558]\n",
      "Epoch  3: 100%|██████████| 44/44 [00:02<00:00, 16.04it/s, Train Loss=15222.9521, Valid Loss=12506.3008, Valid R2=-1.5723, Valid MAE=87.4317]\n",
      "Epoch  4: 100%|██████████| 44/44 [00:02<00:00, 15.95it/s, Train Loss=15108.6849, Valid Loss=12364.1621, Valid R2=-1.5430, Valid MAE=86.6150]\n",
      "Epoch  5: 100%|██████████| 44/44 [00:03<00:00, 13.32it/s, Train Loss=14898.2382, Valid Loss=12186.6572, Valid R2=-1.5065, Valid MAE=85.5842]\n",
      "Epoch  6: 100%|██████████| 44/44 [00:02<00:00, 15.71it/s, Train Loss=14699.8396, Valid Loss=11972.6387, Valid R2=-1.4625, Valid MAE=84.3246]\n",
      "Epoch  7: 100%|██████████| 44/44 [00:02<00:00, 16.04it/s, Train Loss=14473.0709, Valid Loss=11726.1680, Valid R2=-1.4118, Valid MAE=82.8503]\n",
      "Epoch  8: 100%|██████████| 44/44 [00:03<00:00, 14.61it/s, Train Loss=14168.0921, Valid Loss=11447.2598, Valid R2=-1.3544, Valid MAE=81.1649]\n",
      "Epoch  9: 100%|██████████| 44/44 [00:02<00:00, 16.00it/s, Train Loss=13844.1079, Valid Loss=11135.1797, Valid R2=-1.2902, Valid MAE=79.2601]\n",
      "Epoch 10: 100%|██████████| 44/44 [00:02<00:00, 16.21it/s, Train Loss=13468.8664, Valid Loss=10803.0654, Valid R2=-1.2219, Valid MAE=77.2225]\n",
      "Epoch 11: 100%|██████████| 44/44 [00:02<00:00, 16.03it/s, Train Loss=13090.2552, Valid Loss=10455.9072, Valid R2=-1.1505, Valid MAE=75.0955]\n",
      "Epoch 12: 100%|██████████| 44/44 [00:02<00:00, 16.15it/s, Train Loss=12688.8887, Valid Loss=10091.0723, Valid R2=-1.0755, Valid MAE=72.9027]\n",
      "Epoch 13: 100%|██████████| 44/44 [00:02<00:00, 16.16it/s, Train Loss=12336.8271, Valid Loss=9721.6025, Valid R2=-0.9995, Valid MAE=70.6510]\n",
      "Epoch 14: 100%|██████████| 44/44 [00:02<00:00, 16.16it/s, Train Loss=11859.1635, Valid Loss=9347.2344, Valid R2=-0.9225, Valid MAE=68.3836]\n",
      "Epoch 15: 100%|██████████| 44/44 [00:02<00:00, 16.20it/s, Train Loss=11411.9707, Valid Loss=8967.4775, Valid R2=-0.8444, Valid MAE=66.1298]\n",
      "Epoch 16: 100%|██████████| 44/44 [00:02<00:00, 16.15it/s, Train Loss=10970.5639, Valid Loss=8602.4639, Valid R2=-0.7693, Valid MAE=64.0993]\n",
      "Epoch 17: 100%|██████████| 44/44 [00:02<00:00, 16.05it/s, Train Loss=10572.5382, Valid Loss=8242.8223, Valid R2=-0.6954, Valid MAE=62.1345]\n",
      "Epoch 18: 100%|██████████| 44/44 [00:02<00:00, 16.12it/s, Train Loss=10135.8290, Valid Loss=7890.4673, Valid R2=-0.6229, Valid MAE=60.3130]\n",
      "Epoch 19: 100%|██████████| 44/44 [00:02<00:00, 16.23it/s, Train Loss=9752.0996, Valid Loss=7556.2637, Valid R2=-0.5541, Valid MAE=58.6463]\n",
      "Epoch 20: 100%|██████████| 44/44 [00:02<00:00, 16.30it/s, Train Loss=9349.6001, Valid Loss=7237.5205, Valid R2=-0.4886, Valid MAE=57.0777]\n",
      "Epoch 21: 100%|██████████| 44/44 [00:02<00:00, 16.30it/s, Train Loss=8960.5823, Valid Loss=6931.5181, Valid R2=-0.4257, Valid MAE=55.5799]\n",
      "Epoch 22: 100%|██████████| 44/44 [00:02<00:00, 16.28it/s, Train Loss=8614.2391, Valid Loss=6648.7964, Valid R2=-0.3675, Valid MAE=54.2264]\n",
      "Epoch 23: 100%|██████████| 44/44 [00:02<00:00, 16.28it/s, Train Loss=8305.2663, Valid Loss=6393.4717, Valid R2=-0.3150, Valid MAE=53.1351]\n",
      "Epoch 24: 100%|██████████| 44/44 [00:02<00:00, 16.28it/s, Train Loss=8003.9018, Valid Loss=6157.5151, Valid R2=-0.2665, Valid MAE=52.1632]\n",
      "Epoch 25: 100%|██████████| 44/44 [00:02<00:00, 16.31it/s, Train Loss=7698.7404, Valid Loss=5938.0718, Valid R2=-0.2213, Valid MAE=51.3220]\n",
      "Epoch 26: 100%|██████████| 44/44 [00:02<00:00, 16.28it/s, Train Loss=7430.6730, Valid Loss=5747.0913, Valid R2=-0.1820, Valid MAE=50.6359]\n",
      "Epoch 27: 100%|██████████| 44/44 [00:02<00:00, 16.25it/s, Train Loss=6264.7024, Valid Loss=4841.6978, Valid R2=0.0042, Valid MAE=51.8273]\n",
      "Epoch 28: 100%|██████████| 44/44 [00:02<00:00, 16.17it/s, Train Loss=5906.1046, Valid Loss=4843.9746, Valid R2=0.0037, Valid MAE=52.2854]\n",
      "Epoch 29: 100%|██████████| 44/44 [00:02<00:00, 15.95it/s, Train Loss=5439.5231, Valid Loss=4366.0708, Valid R2=0.1020, Valid MAE=50.3792]\n",
      "Epoch 30: 100%|██████████| 44/44 [00:02<00:00, 16.07it/s, Train Loss=4407.1142, Valid Loss=4345.7314, Valid R2=0.1062, Valid MAE=51.6632]\n",
      "Epoch 31: 100%|██████████| 44/44 [00:02<00:00, 16.19it/s, Train Loss=4094.6237, Valid Loss=4274.9282, Valid R2=0.1207, Valid MAE=51.2128]\n",
      "Epoch 32: 100%|██████████| 44/44 [00:02<00:00, 16.23it/s, Train Loss=3705.2713, Valid Loss=3483.9866, Valid R2=0.2834, Valid MAE=46.1165]\n",
      "Epoch 33: 100%|██████████| 44/44 [00:02<00:00, 16.25it/s, Train Loss=3200.0726, Valid Loss=3437.5764, Valid R2=0.2930, Valid MAE=44.3690]\n",
      "Epoch 34: 100%|██████████| 44/44 [00:02<00:00, 16.03it/s, Train Loss=3101.0619, Valid Loss=3018.3521, Valid R2=0.3792, Valid MAE=41.3608]\n",
      "Epoch 35: 100%|██████████| 44/44 [00:02<00:00, 15.89it/s, Train Loss=2936.0818, Valid Loss=3154.8943, Valid R2=0.3511, Valid MAE=43.4646]\n",
      "Epoch 36: 100%|██████████| 44/44 [00:02<00:00, 16.01it/s, Train Loss=2747.8973, Valid Loss=2997.7915, Valid R2=0.3834, Valid MAE=41.5685]\n",
      "Epoch 37: 100%|██████████| 44/44 [00:03<00:00, 12.70it/s, Train Loss=2607.0978, Valid Loss=2849.7632, Valid R2=0.4139, Valid MAE=39.8309]\n",
      "Epoch 38: 100%|██████████| 44/44 [00:02<00:00, 16.07it/s, Train Loss=2434.1492, Valid Loss=3138.1819, Valid R2=0.3545, Valid MAE=42.8997]\n",
      "Epoch 39: 100%|██████████| 44/44 [00:02<00:00, 16.22it/s, Train Loss=2451.0075, Valid Loss=2704.2944, Valid R2=0.4438, Valid MAE=39.5429]\n",
      "Epoch 40: 100%|██████████| 44/44 [00:02<00:00, 16.26it/s, Train Loss=2610.7514, Valid Loss=2797.4155, Valid R2=0.4246, Valid MAE=40.5468]\n",
      "Epoch 41: 100%|██████████| 44/44 [00:02<00:00, 16.23it/s, Train Loss=2191.4682, Valid Loss=2942.1704, Valid R2=0.3949, Valid MAE=42.7344]\n",
      "Epoch 42: 100%|██████████| 44/44 [00:02<00:00, 16.11it/s, Train Loss=1990.6409, Valid Loss=2880.7783, Valid R2=0.4075, Valid MAE=41.0794]\n",
      "Epoch 43: 100%|██████████| 44/44 [00:02<00:00, 16.17it/s, Train Loss=1914.8004, Valid Loss=2457.4170, Valid R2=0.4946, Valid MAE=37.3033]\n",
      "Epoch 44: 100%|██████████| 44/44 [00:02<00:00, 16.12it/s, Train Loss=1890.0302, Valid Loss=2387.6362, Valid R2=0.5089, Valid MAE=37.3450]\n",
      "Epoch 45: 100%|██████████| 44/44 [00:02<00:00, 16.06it/s, Train Loss=1766.7138, Valid Loss=2317.3457, Valid R2=0.5234, Valid MAE=36.8532]\n",
      "Epoch 46: 100%|██████████| 44/44 [00:02<00:00, 15.90it/s, Train Loss=1625.1188, Valid Loss=2216.4893, Valid R2=0.5441, Valid MAE=34.7969]\n",
      "Epoch 47: 100%|██████████| 44/44 [00:02<00:00, 15.93it/s, Train Loss=1694.9808, Valid Loss=2719.3000, Valid R2=0.4407, Valid MAE=40.7059]\n",
      "Epoch 48: 100%|██████████| 44/44 [00:02<00:00, 16.07it/s, Train Loss=1732.4831, Valid Loss=2160.6394, Valid R2=0.5556, Valid MAE=35.3124]\n",
      "Epoch 49: 100%|██████████| 44/44 [00:02<00:00, 16.00it/s, Train Loss=1580.7679, Valid Loss=2308.5032, Valid R2=0.5252, Valid MAE=37.3709]\n"
     ]
    },
    {
     "name": "stdout",
     "output_type": "stream",
     "text": [
      "Setting   5 of Parameters Grid is now on progres.\n"
     ]
    },
    {
     "name": "stderr",
     "output_type": "stream",
     "text": [
      "Epoch  0: 100%|██████████| 44/44 [00:02<00:00, 16.35it/s, Train Loss=14339.7298, Valid Loss=7322.9312, Valid R2=-0.5062, Valid MAE=57.4287]\n",
      "Epoch  1: 100%|██████████| 44/44 [00:02<00:00, 16.35it/s, Train Loss=6151.3795, Valid Loss=4993.0479, Valid R2=-0.0270, Valid MAE=54.7270]\n",
      "Epoch  2: 100%|██████████| 44/44 [00:02<00:00, 16.35it/s, Train Loss=5804.6577, Valid Loss=4898.9956, Valid R2=-0.0076, Valid MAE=53.1892]\n",
      "Epoch  3: 100%|██████████| 44/44 [00:02<00:00, 16.29it/s, Train Loss=5754.8601, Valid Loss=4867.4019, Valid R2=-0.0011, Valid MAE=52.7563]\n",
      "Epoch  4: 100%|██████████| 44/44 [00:02<00:00, 16.37it/s, Train Loss=5728.6766, Valid Loss=5016.7710, Valid R2=-0.0318, Valid MAE=55.6796]\n",
      "Epoch  5: 100%|██████████| 44/44 [00:02<00:00, 16.40it/s, Train Loss=5706.0893, Valid Loss=4729.5620, Valid R2=0.0272, Valid MAE=49.6254]\n",
      "Epoch  6: 100%|██████████| 44/44 [00:02<00:00, 16.28it/s, Train Loss=5647.9659, Valid Loss=4783.3750, Valid R2=0.0162, Valid MAE=54.3177]\n",
      "Epoch  7: 100%|██████████| 44/44 [00:02<00:00, 16.38it/s, Train Loss=5413.2205, Valid Loss=4457.7500, Valid R2=0.0831, Valid MAE=49.1891]\n",
      "Epoch  8: 100%|██████████| 44/44 [00:02<00:00, 16.34it/s, Train Loss=4885.4052, Valid Loss=4314.9297, Valid R2=0.1125, Valid MAE=50.8086]\n",
      "Epoch  9: 100%|██████████| 44/44 [00:02<00:00, 16.37it/s, Train Loss=4823.1317, Valid Loss=4299.2266, Valid R2=0.1157, Valid MAE=53.1071]\n",
      "Epoch 10: 100%|██████████| 44/44 [00:02<00:00, 16.36it/s, Train Loss=4656.1181, Valid Loss=3995.6221, Valid R2=0.1782, Valid MAE=47.2130]\n",
      "Epoch 11: 100%|██████████| 44/44 [00:02<00:00, 16.23it/s, Train Loss=4317.4367, Valid Loss=3639.6531, Valid R2=0.2514, Valid MAE=45.8039]\n",
      "Epoch 12: 100%|██████████| 44/44 [00:02<00:00, 16.33it/s, Train Loss=4210.3657, Valid Loss=3851.2815, Valid R2=0.2079, Valid MAE=48.2202]\n",
      "Epoch 13: 100%|██████████| 44/44 [00:02<00:00, 16.35it/s, Train Loss=3617.2002, Valid Loss=3649.9182, Valid R2=0.2493, Valid MAE=47.7379]\n",
      "Epoch 14: 100%|██████████| 44/44 [00:02<00:00, 16.35it/s, Train Loss=3624.1339, Valid Loss=3637.6033, Valid R2=0.2518, Valid MAE=47.6482]\n",
      "Epoch 15: 100%|██████████| 44/44 [00:02<00:00, 16.27it/s, Train Loss=3226.8747, Valid Loss=3227.9819, Valid R2=0.3361, Valid MAE=41.7639]\n",
      "Epoch 16: 100%|██████████| 44/44 [00:02<00:00, 16.31it/s, Train Loss=3174.2543, Valid Loss=3141.9768, Valid R2=0.3538, Valid MAE=39.9931]\n",
      "Epoch 17: 100%|██████████| 44/44 [00:02<00:00, 16.32it/s, Train Loss=2881.2172, Valid Loss=3288.3967, Valid R2=0.3237, Valid MAE=44.2043]\n",
      "Epoch 18: 100%|██████████| 44/44 [00:02<00:00, 16.29it/s, Train Loss=2700.9091, Valid Loss=3486.4678, Valid R2=0.2829, Valid MAE=46.0054]\n",
      "Epoch 19: 100%|██████████| 44/44 [00:02<00:00, 16.36it/s, Train Loss=2526.8369, Valid Loss=2941.2136, Valid R2=0.3951, Valid MAE=40.5405]\n",
      "Epoch 20: 100%|██████████| 44/44 [00:02<00:00, 16.34it/s, Train Loss=2342.0410, Valid Loss=2842.1658, Valid R2=0.4154, Valid MAE=39.8618]\n",
      "Epoch 21: 100%|██████████| 44/44 [00:02<00:00, 16.34it/s, Train Loss=2092.4827, Valid Loss=3227.1287, Valid R2=0.3363, Valid MAE=44.2462]\n",
      "Epoch 22: 100%|██████████| 44/44 [00:02<00:00, 16.25it/s, Train Loss=2151.9872, Valid Loss=2761.7024, Valid R2=0.4320, Valid MAE=39.0827]\n",
      "Epoch 23: 100%|██████████| 44/44 [00:02<00:00, 16.26it/s, Train Loss=2186.2231, Valid Loss=2679.5981, Valid R2=0.4489, Valid MAE=37.3346]\n",
      "Epoch 24: 100%|██████████| 44/44 [00:02<00:00, 16.33it/s, Train Loss=2087.1884, Valid Loss=3149.2781, Valid R2=0.3523, Valid MAE=43.8241]\n",
      "Epoch 25: 100%|██████████| 44/44 [00:02<00:00, 16.30it/s, Train Loss=2051.5067, Valid Loss=2917.5381, Valid R2=0.3999, Valid MAE=43.0684]\n",
      "Epoch 26: 100%|██████████| 44/44 [00:02<00:00, 16.33it/s, Train Loss=1790.6528, Valid Loss=2582.4656, Valid R2=0.4688, Valid MAE=38.1291]\n",
      "Epoch 27: 100%|██████████| 44/44 [00:02<00:00, 16.34it/s, Train Loss=1706.3290, Valid Loss=2933.9402, Valid R2=0.3966, Valid MAE=42.4900]\n",
      "Epoch 28: 100%|██████████| 44/44 [00:02<00:00, 16.36it/s, Train Loss=1620.6145, Valid Loss=2785.8999, Valid R2=0.4270, Valid MAE=41.1298]\n",
      "Epoch 29: 100%|██████████| 44/44 [00:02<00:00, 16.35it/s, Train Loss=1630.4668, Valid Loss=2792.2268, Valid R2=0.4257, Valid MAE=37.8127]\n",
      "Epoch 30: 100%|██████████| 44/44 [00:02<00:00, 16.28it/s, Train Loss=1638.1598, Valid Loss=2837.4417, Valid R2=0.4164, Valid MAE=39.7106]\n",
      "Epoch 31: 100%|██████████| 44/44 [00:02<00:00, 16.31it/s, Train Loss=1413.9149, Valid Loss=3044.6091, Valid R2=0.3738, Valid MAE=41.8378]\n",
      "Epoch 32: 100%|██████████| 44/44 [00:02<00:00, 16.27it/s, Train Loss=1494.4308, Valid Loss=2729.8801, Valid R2=0.4385, Valid MAE=38.3470]\n"
     ]
    },
    {
     "name": "stdout",
     "output_type": "stream",
     "text": [
      "Early Stopped\n",
      "Setting   6 of Parameters Grid is now on progres.\n"
     ]
    },
    {
     "name": "stderr",
     "output_type": "stream",
     "text": [
      "Epoch  0: 100%|██████████| 44/44 [00:02<00:00, 16.20it/s, Train Loss=15285.1757, Valid Loss=11811.1348, Valid R2=-1.4293, Valid MAE=83.3605]\n",
      "Epoch  1: 100%|██████████| 44/44 [00:02<00:00, 16.28it/s, Train Loss=9317.2428, Valid Loss=4864.2700, Valid R2=-0.0005, Valid MAE=51.1522]\n",
      "Epoch  2: 100%|██████████| 44/44 [00:02<00:00, 16.26it/s, Train Loss=5868.6526, Valid Loss=5076.5640, Valid R2=-0.0441, Valid MAE=55.7788]\n",
      "Epoch  3: 100%|██████████| 44/44 [00:02<00:00, 16.29it/s, Train Loss=5784.5947, Valid Loss=4936.0376, Valid R2=-0.0152, Valid MAE=53.5099]\n",
      "Epoch  4: 100%|██████████| 44/44 [00:02<00:00, 16.27it/s, Train Loss=5778.1524, Valid Loss=4857.0083, Valid R2=0.0010, Valid MAE=51.5835]\n",
      "Epoch  5: 100%|██████████| 44/44 [00:02<00:00, 16.27it/s, Train Loss=5771.6439, Valid Loss=4856.1504, Valid R2=0.0012, Valid MAE=52.1809]\n",
      "Epoch  6: 100%|██████████| 44/44 [00:02<00:00, 16.28it/s, Train Loss=5702.0416, Valid Loss=4931.3774, Valid R2=-0.0143, Valid MAE=53.2160]\n",
      "Epoch  7: 100%|██████████| 44/44 [00:02<00:00, 16.23it/s, Train Loss=5667.5414, Valid Loss=5257.9814, Valid R2=-0.0814, Valid MAE=58.4411]\n",
      "Epoch  8: 100%|██████████| 44/44 [00:02<00:00, 16.26it/s, Train Loss=5654.1840, Valid Loss=5161.8115, Valid R2=-0.0617, Valid MAE=57.0747]\n",
      "Epoch  9: 100%|██████████| 44/44 [00:02<00:00, 16.28it/s, Train Loss=5539.8426, Valid Loss=4763.5112, Valid R2=0.0203, Valid MAE=52.6028]\n",
      "Epoch 10: 100%|██████████| 44/44 [00:02<00:00, 16.27it/s, Train Loss=5338.1629, Valid Loss=5220.8687, Valid R2=-0.0738, Valid MAE=57.0687]\n",
      "Epoch 11: 100%|██████████| 44/44 [00:02<00:00, 16.26it/s, Train Loss=5200.3266, Valid Loss=5018.0586, Valid R2=-0.0321, Valid MAE=54.7477]\n",
      "Epoch 12: 100%|██████████| 44/44 [00:02<00:00, 16.24it/s, Train Loss=5386.5539, Valid Loss=5167.4653, Valid R2=-0.0628, Valid MAE=55.8723]\n",
      "Epoch 13: 100%|██████████| 44/44 [00:02<00:00, 16.22it/s, Train Loss=5248.4906, Valid Loss=5337.1890, Valid R2=-0.0977, Valid MAE=57.3130]\n",
      "Epoch 14: 100%|██████████| 44/44 [00:02<00:00, 16.29it/s, Train Loss=5233.8989, Valid Loss=5020.3184, Valid R2=-0.0326, Valid MAE=54.4119]\n",
      "Epoch 15: 100%|██████████| 44/44 [00:02<00:00, 16.27it/s, Train Loss=4951.4003, Valid Loss=4896.8843, Valid R2=-0.0072, Valid MAE=53.8743]\n"
     ]
    },
    {
     "name": "stdout",
     "output_type": "stream",
     "text": [
      "Early Stopped\n",
      "Setting   7 of Parameters Grid is now on progres.\n"
     ]
    },
    {
     "name": "stderr",
     "output_type": "stream",
     "text": [
      "Epoch  0: 100%|██████████| 44/44 [00:02<00:00, 16.25it/s, Train Loss=15453.8072, Valid Loss=12729.7256, Valid R2=-1.6182, Valid MAE=88.7002]\n",
      "Epoch  1: 100%|██████████| 44/44 [00:02<00:00, 16.31it/s, Train Loss=15408.4284, Valid Loss=12664.1123, Valid R2=-1.6047, Valid MAE=88.3296]\n",
      "Epoch  2: 100%|██████████| 44/44 [00:02<00:00, 16.14it/s, Train Loss=15306.6140, Valid Loss=12565.5166, Valid R2=-1.5844, Valid MAE=87.7697]\n",
      "Epoch  3: 100%|██████████| 44/44 [00:02<00:00, 16.27it/s, Train Loss=15169.1572, Valid Loss=12424.8359, Valid R2=-1.5555, Valid MAE=86.9646]\n",
      "Epoch  4: 100%|██████████| 44/44 [00:02<00:00, 16.26it/s, Train Loss=15013.6141, Valid Loss=12237.3828, Valid R2=-1.5169, Valid MAE=85.8800]\n",
      "Epoch  5: 100%|██████████| 44/44 [00:02<00:00, 16.26it/s, Train Loss=14767.2496, Valid Loss=12002.5312, Valid R2=-1.4686, Valid MAE=84.5016]\n",
      "Epoch  6: 100%|██████████| 44/44 [00:02<00:00, 16.25it/s, Train Loss=14510.1799, Valid Loss=11724.2578, Valid R2=-1.4114, Valid MAE=82.8387]\n",
      "Epoch  7: 100%|██████████| 44/44 [00:02<00:00, 16.24it/s, Train Loss=14136.6390, Valid Loss=11411.4512, Valid R2=-1.3471, Valid MAE=80.9483]\n",
      "Epoch  8: 100%|██████████| 44/44 [00:02<00:00, 16.17it/s, Train Loss=13809.6825, Valid Loss=11071.5566, Valid R2=-1.2772, Valid MAE=78.8683]\n",
      "Epoch  9: 100%|██████████| 44/44 [00:02<00:00, 16.28it/s, Train Loss=13367.6652, Valid Loss=10697.6562, Valid R2=-1.2003, Valid MAE=76.5749]\n",
      "Epoch 10: 100%|██████████| 44/44 [00:02<00:00, 16.27it/s, Train Loss=12957.2674, Valid Loss=10307.1748, Valid R2=-1.1199, Valid MAE=74.2023]\n",
      "Epoch 11: 100%|██████████| 44/44 [00:02<00:00, 16.27it/s, Train Loss=12512.1496, Valid Loss=9906.0771, Valid R2=-1.0374, Valid MAE=71.7723]\n",
      "Epoch 12: 100%|██████████| 44/44 [00:02<00:00, 16.24it/s, Train Loss=12044.1447, Valid Loss=9498.5576, Valid R2=-0.9536, Valid MAE=69.3025]\n",
      "Epoch 13: 100%|██████████| 44/44 [00:02<00:00, 16.27it/s, Train Loss=11569.5373, Valid Loss=9084.1963, Valid R2=-0.8684, Valid MAE=66.8122]\n",
      "Epoch 14: 100%|██████████| 44/44 [00:02<00:00, 16.26it/s, Train Loss=11152.7148, Valid Loss=8675.7080, Valid R2=-0.7844, Valid MAE=64.4931]\n",
      "Epoch 15: 100%|██████████| 44/44 [00:02<00:00, 16.26it/s, Train Loss=10639.6492, Valid Loss=8275.1572, Valid R2=-0.7020, Valid MAE=62.3103]\n",
      "Epoch 16: 100%|██████████| 44/44 [00:02<00:00, 16.27it/s, Train Loss=10202.7481, Valid Loss=7887.0425, Valid R2=-0.6222, Valid MAE=60.2960]\n",
      "Epoch 17: 100%|██████████| 44/44 [00:02<00:00, 16.23it/s, Train Loss=9744.4825, Valid Loss=7518.9370, Valid R2=-0.5465, Valid MAE=58.4625]\n",
      "Epoch 18: 100%|██████████| 44/44 [00:02<00:00, 16.22it/s, Train Loss=9305.6054, Valid Loss=7168.5278, Valid R2=-0.4744, Valid MAE=56.7383]\n",
      "Epoch 19: 100%|██████████| 44/44 [00:02<00:00, 16.10it/s, Train Loss=8876.8381, Valid Loss=6835.7485, Valid R2=-0.4060, Valid MAE=55.1124]\n",
      "Epoch 20: 100%|██████████| 44/44 [00:02<00:00, 16.25it/s, Train Loss=8499.0071, Valid Loss=6535.0562, Valid R2=-0.3441, Valid MAE=53.7352]\n",
      "Epoch 21: 100%|██████████| 44/44 [00:02<00:00, 16.21it/s, Train Loss=8156.5446, Valid Loss=6259.2163, Valid R2=-0.2874, Valid MAE=52.5746]\n",
      "Epoch 22: 100%|██████████| 44/44 [00:02<00:00, 16.25it/s, Train Loss=7811.0792, Valid Loss=6009.4888, Valid R2=-0.2360, Valid MAE=51.5837]\n",
      "Epoch 23: 100%|██████████| 44/44 [00:02<00:00, 16.28it/s, Train Loss=7511.3045, Valid Loss=5788.4785, Valid R2=-0.1906, Valid MAE=50.7792]\n",
      "Epoch 24: 100%|██████████| 44/44 [00:02<00:00, 16.25it/s, Train Loss=7228.4309, Valid Loss=5595.4219, Valid R2=-0.1508, Valid MAE=50.1741]\n",
      "Epoch 25: 100%|██████████| 44/44 [00:02<00:00, 16.27it/s, Train Loss=6999.0809, Valid Loss=5431.6289, Valid R2=-0.1172, Valid MAE=49.7173]\n",
      "Epoch 26: 100%|██████████| 44/44 [00:02<00:00, 16.21it/s, Train Loss=6785.8562, Valid Loss=5291.7646, Valid R2=-0.0884, Valid MAE=49.5021]\n",
      "Epoch 27: 100%|██████████| 44/44 [00:02<00:00, 16.26it/s, Train Loss=6582.6872, Valid Loss=5176.1533, Valid R2=-0.0646, Valid MAE=49.4937]\n",
      "Epoch 28: 100%|██████████| 44/44 [00:02<00:00, 16.25it/s, Train Loss=6433.0302, Valid Loss=5089.3994, Valid R2=-0.0468, Valid MAE=49.5629]\n",
      "Epoch 29: 100%|██████████| 44/44 [00:02<00:00, 16.25it/s, Train Loss=6297.1792, Valid Loss=5012.9800, Valid R2=-0.0311, Valid MAE=49.6577]\n",
      "Epoch 30: 100%|██████████| 44/44 [00:02<00:00, 16.12it/s, Train Loss=6180.7371, Valid Loss=4959.1885, Valid R2=-0.0200, Valid MAE=49.8074]\n",
      "Epoch 31: 100%|██████████| 44/44 [00:02<00:00, 16.26it/s, Train Loss=6101.4375, Valid Loss=4918.9048, Valid R2=-0.0117, Valid MAE=50.0546]\n",
      "Epoch 32: 100%|██████████| 44/44 [00:02<00:00, 16.24it/s, Train Loss=6022.2529, Valid Loss=4890.8237, Valid R2=-0.0059, Valid MAE=50.3489]\n",
      "Epoch 33: 100%|██████████| 44/44 [00:02<00:00, 16.27it/s, Train Loss=5958.0124, Valid Loss=4874.0391, Valid R2=-0.0025, Valid MAE=50.6383]\n",
      "Epoch 34: 100%|██████████| 44/44 [00:02<00:00, 16.27it/s, Train Loss=5922.2671, Valid Loss=4865.5938, Valid R2=-0.0007, Valid MAE=50.9080]\n",
      "Epoch 35: 100%|██████████| 44/44 [00:02<00:00, 16.24it/s, Train Loss=5872.9066, Valid Loss=4862.0107, Valid R2=-0.0000, Valid MAE=51.2534]\n",
      "Epoch 36: 100%|██████████| 44/44 [00:02<00:00, 16.19it/s, Train Loss=5856.7027, Valid Loss=4863.4663, Valid R2=-0.0003, Valid MAE=51.5275]\n",
      "Epoch 37: 100%|██████████| 44/44 [00:02<00:00, 16.21it/s, Train Loss=5810.4497, Valid Loss=4867.8369, Valid R2=-0.0012, Valid MAE=51.8068]\n",
      "Epoch 38: 100%|██████████| 44/44 [00:02<00:00, 16.23it/s, Train Loss=5800.3585, Valid Loss=4875.2739, Valid R2=-0.0027, Valid MAE=52.1227]\n",
      "Epoch 39: 100%|██████████| 44/44 [00:03<00:00, 14.66it/s, Train Loss=5791.4016, Valid Loss=4882.4111, Valid R2=-0.0042, Valid MAE=52.3617]\n",
      "Epoch 40: 100%|██████████| 44/44 [00:02<00:00, 14.99it/s, Train Loss=5763.0729, Valid Loss=4891.4399, Valid R2=-0.0061, Valid MAE=52.6234]\n",
      "Epoch 41: 100%|██████████| 44/44 [00:02<00:00, 16.02it/s, Train Loss=5780.9847, Valid Loss=4900.2339, Valid R2=-0.0079, Valid MAE=52.8476]\n"
     ]
    },
    {
     "name": "stdout",
     "output_type": "stream",
     "text": [
      "Early Stopped\n",
      "Setting   8 of Parameters Grid is now on progres.\n"
     ]
    },
    {
     "name": "stderr",
     "output_type": "stream",
     "text": [
      "Epoch  0: 100%|██████████| 44/44 [00:02<00:00, 16.15it/s, Train Loss=15424.5071, Valid Loss=12515.1826, Valid R2=-1.5741, Valid MAE=87.4827]\n",
      "Epoch  1: 100%|██████████| 44/44 [00:02<00:00, 16.21it/s, Train Loss=10679.1243, Valid Loss=5823.3662, Valid R2=-0.1977, Valid MAE=63.3742]\n",
      "Epoch  2: 100%|██████████| 44/44 [00:02<00:00, 16.31it/s, Train Loss=5832.1667, Valid Loss=4865.7095, Valid R2=-0.0008, Valid MAE=52.9246]\n",
      "Epoch  3: 100%|██████████| 44/44 [00:02<00:00, 16.29it/s, Train Loss=5555.0341, Valid Loss=4793.3271, Valid R2=0.0141, Valid MAE=52.5294]\n",
      "Epoch  4: 100%|██████████| 44/44 [00:02<00:00, 16.28it/s, Train Loss=5484.1723, Valid Loss=5198.0303, Valid R2=-0.0691, Valid MAE=57.2475]\n",
      "Epoch  5: 100%|██████████| 44/44 [00:02<00:00, 16.27it/s, Train Loss=5192.7056, Valid Loss=4582.1587, Valid R2=0.0576, Valid MAE=51.3580]\n",
      "Epoch  6: 100%|██████████| 44/44 [00:02<00:00, 16.32it/s, Train Loss=5066.9801, Valid Loss=4521.9717, Valid R2=0.0699, Valid MAE=48.4610]\n",
      "Epoch  7: 100%|██████████| 44/44 [00:02<00:00, 16.25it/s, Train Loss=4886.1599, Valid Loss=4661.9307, Valid R2=0.0412, Valid MAE=53.0791]\n",
      "Epoch  8: 100%|██████████| 44/44 [00:02<00:00, 16.25it/s, Train Loss=4581.6500, Valid Loss=4901.4512, Valid R2=-0.0081, Valid MAE=53.5436]\n",
      "Epoch  9: 100%|██████████| 44/44 [00:02<00:00, 16.27it/s, Train Loss=4477.3803, Valid Loss=4614.0488, Valid R2=0.0510, Valid MAE=52.5408]\n",
      "Epoch 10: 100%|██████████| 44/44 [00:02<00:00, 16.30it/s, Train Loss=4177.8036, Valid Loss=4860.7754, Valid R2=0.0003, Valid MAE=53.7161]\n",
      "Epoch 11: 100%|██████████| 44/44 [00:02<00:00, 16.30it/s, Train Loss=3957.7622, Valid Loss=4730.0693, Valid R2=0.0271, Valid MAE=54.1394]\n",
      "Epoch 12: 100%|██████████| 44/44 [00:02<00:00, 16.27it/s, Train Loss=3806.6388, Valid Loss=4839.7935, Valid R2=0.0046, Valid MAE=52.0003]"
     ]
    },
    {
     "name": "stdout",
     "output_type": "stream",
     "text": [
      "Early Stopped\n",
      "Best Parameter Setting is:\n",
      "{'m': 40, 'T_modified': 30}\n"
     ]
    },
    {
     "name": "stderr",
     "output_type": "stream",
     "text": [
      "\n"
     ]
    }
   ],
   "source": [
    "model_name = 'model6_2_nan'\n",
    "\n",
    "basic_params = {\n",
    "    'T': 60,\n",
    "    'n': 7\n",
    "}\n",
    "\n",
    "param_grid = {\n",
    "    'm': [32, 40, 48],\n",
    "    'T_modified': [20, 30, 40],\n",
    "}\n",
    "\n",
    "\n",
    "model_trainer = GridSearch(criterion, eval_metrics, device,\n",
    "                           temp_save_path=f'checkpoints/{model_name}_temp.pt')\n",
    "model2_best = model_trainer.train_by_grid(Model6_2, basic_params, param_grid, Adam, train_loader,\n",
    "                                          test_loader, lr, patience=5, epochs=50, save_filename=f'checkpoints/{model_name}_best.pt')\n"
   ]
  },
  {
   "cell_type": "code",
   "execution_count": 4,
   "metadata": {},
   "outputs": [
    {
     "name": "stdout",
     "output_type": "stream",
     "text": [
      "Test Loss: 2160.6394 | Test R2: 0.5556 | Test MAE: 35.3124\n",
      "Saving Process Complete. Directory: model6_2_nan_losses.png\n"
     ]
    },
    {
     "data": {
      "image/png": "[encoded data removed]",
      "text/plain": [
       "<Figure size 700x500 with 1 Axes>"
      ]
     },
     "metadata": {},
     "output_type": "display_data"
    }
   ],
   "source": [
    "model_trainer.test(test_loader)\n",
    "model_trainer.plot_losses(plot_title=f'{model_name}', save_filename=f'{model_name}_losses.png')"
   ]
  },
  {
   "cell_type": "code",
   "execution_count": null,
   "metadata": {},
   "outputs": [],
   "source": []
  }
 ],
 "metadata": {
  "kernelspec": {
   "display_name": "kwon_dl",
   "language": "python",
   "name": "python3"
  },
  "language_info": {
   "codemirror_mode": {
    "name": "ipython",
    "version": 3
   },
   "file_extension": ".py",
   "mimetype": "text/x-python",
   "name": "python",
   "nbconvert_exporter": "python",
   "pygments_lexer": "ipython3",
   "version": "3.9.16"
  },
  "orig_nbformat": 4,
  "vscode": {
   "interpreter": {
    "hash": "7aba8400f5793028c76b760b8f218e34a1395ac8226b95289931317412384abc"
   }
  }
 },
 "nbformat": 4,
 "nbformat_minor": 2
}
