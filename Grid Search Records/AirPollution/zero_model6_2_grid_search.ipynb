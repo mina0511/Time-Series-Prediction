{
 "cells": [
  {
   "cell_type": "code",
   "execution_count": null,
   "metadata": {},
   "outputs": [],
   "source": [
    "import torch\n",
    "from torch import nn\n",
    "from torch.optim import Adam\n",
    "device = torch.device('cuda')\n",
    "\n",
    "from sklearn.metrics import r2_score, mean_absolute_error\n",
    "\n",
    "from models import Model6_2\n",
    "from tools import validation, GridSearch\n",
    "\n",
    "from get_loaders import get_loaders_zero"
   ]
  },
  {
   "cell_type": "code",
   "execution_count": null,
   "metadata": {},
   "outputs": [],
   "source": [
    "train_loader, test_loader = get_loaders_zero(window_size=60, test_size=0.2, batch_size=32)\n",
    "\n",
    "criterion = nn.MSELoss()\n",
    "eval_metrics = [r2_score, mean_absolute_error]\n",
    "lr = 1e-3"
   ]
  },
  {
   "cell_type": "code",
   "execution_count": null,
   "metadata": {},
   "outputs": [],
   "source": [
    "model_name = 'model6_2_zero'\n",
    "\n",
    "basic_params = {\n",
    "    'T': 60,\n",
    "    'n': 7\n",
    "}\n",
    "\n",
    "param_grid = {\n",
    "    'm': [32, 40, 48],\n",
    "    'T_modified': [20, 30, 40],\n",
    "}\n",
    "\n",
    "\n",
    "model_trainer = GridSearch(criterion, eval_metrics, device,\n",
    "                           temp_save_path=f'checkpoints/{model_name}_temp.pt')\n",
    "model2_best = model_trainer.train_by_grid(Model6_2, basic_params, param_grid, Adam, train_loader,\n",
    "                                          test_loader, lr, patience=5, epochs=50, save_filename=f'checkpoints/{model_name}_best.pt')\n"
   ]
  },
  {
   "cell_type": "code",
   "execution_count": null,
   "metadata": {},
   "outputs": [],
   "source": [
    "model_trainer.test(test_loader)\n",
    "model_trainer.plot_losses(plot_title=f'{model_name}', save_filename=f'{model_name}_losses.png')"
   ]
  },
  {
   "cell_type": "code",
   "execution_count": null,
   "metadata": {},
   "outputs": [],
   "source": []
  }
 ],
 "metadata": {
  "kernelspec": {
   "display_name": "kwon_dl",
   "language": "python",
   "name": "python3"
  },
  "language_info": {
   "codemirror_mode": {
    "name": "ipython",
    "version": 3
   },
   "file_extension": ".py",
   "mimetype": "text/x-python",
   "name": "python",
   "nbconvert_exporter": "python",
   "pygments_lexer": "ipython3",
   "version": "3.9.16"
  },
  "orig_nbformat": 4,
  "vscode": {
   "interpreter": {
    "hash": "7aba8400f5793028c76b760b8f218e34a1395ac8226b95289931317412384abc"
   }
  }
 },
 "nbformat": 4,
 "nbformat_minor": 2
}
