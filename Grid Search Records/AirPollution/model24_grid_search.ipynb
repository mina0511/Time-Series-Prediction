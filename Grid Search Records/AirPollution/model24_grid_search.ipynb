{
 "cells": [
  {
   "cell_type": "code",
   "execution_count": 1,
   "metadata": {},
   "outputs": [],
   "source": [
    "import torch\n",
    "from torch import nn\n",
    "from torch.optim import Adam\n",
    "device = torch.device('cuda:1')\n",
    "\n",
    "from sklearn.metrics import r2_score, mean_absolute_error\n",
    "\n",
    "from models import *\n",
    "from tools import validation, GridSearch\n",
    "\n",
    "from get_loaders import get_loaders"
   ]
  },
  {
   "cell_type": "code",
   "execution_count": 2,
   "metadata": {},
   "outputs": [
    {
     "name": "stderr",
     "output_type": "stream",
     "text": [
      "100%|██████████| 1401/1401 [00:00<00:00, 99920.42it/s]\n",
      "100%|██████████| 306/306 [00:00<00:00, 96305.02it/s]\n"
     ]
    }
   ],
   "source": [
    "train_loader, test_loader = get_loaders(window_size=60, test_size=0.2, batch_size=32)\n",
    "\n",
    "criterion = nn.MSELoss()\n",
    "eval_metrics = [r2_score, mean_absolute_error]\n",
    "lr = 1e-3"
   ]
  },
  {
   "cell_type": "code",
   "execution_count": 3,
   "metadata": {},
   "outputs": [
    {
     "name": "stdout",
     "output_type": "stream",
     "text": [
      "Total 144 cases are going to be searched.\n",
      "Setting   0 of Parameters Grid is now on progres.\n"
     ]
    },
    {
     "name": "stderr",
     "output_type": "stream",
     "text": [
      "Epoch  0: 100%|██████████| 44/44 [00:03<00:00, 12.58it/s, Train Loss=15276.1548, Valid Loss=12313.2988, Valid R2=-1.5326, Valid MAE=86.3203]\n",
      "Epoch  1: 100%|██████████| 44/44 [00:02<00:00, 19.33it/s, Train Loss=14297.1214, Valid Loss=10800.0723, Valid R2=-1.2213, Valid MAE=77.2564]\n",
      "Epoch  2: 100%|██████████| 44/44 [00:02<00:00, 18.68it/s, Train Loss=11693.6209, Valid Loss=7305.1260, Valid R2=-0.5025, Valid MAE=57.4308]\n",
      "Epoch  3: 100%|██████████| 44/44 [00:02<00:00, 19.67it/s, Train Loss=7062.0915, Valid Loss=4914.3276, Valid R2=-0.0108, Valid MAE=53.2339]\n",
      "Epoch  4: 100%|██████████| 44/44 [00:02<00:00, 20.15it/s, Train Loss=6050.6588, Valid Loss=4872.0225, Valid R2=-0.0021, Valid MAE=52.0581]\n",
      "Epoch  5: 100%|██████████| 44/44 [00:02<00:00, 21.97it/s, Train Loss=6003.4858, Valid Loss=4918.4443, Valid R2=-0.0116, Valid MAE=53.3179]\n",
      "Epoch  6: 100%|██████████| 44/44 [00:02<00:00, 21.61it/s, Train Loss=5970.4324, Valid Loss=4933.9849, Valid R2=-0.0148, Valid MAE=53.6027]\n",
      "Epoch  7: 100%|██████████| 44/44 [00:02<00:00, 20.62it/s, Train Loss=5842.5842, Valid Loss=4963.2573, Valid R2=-0.0208, Valid MAE=53.7609]\n",
      "Epoch  8: 100%|██████████| 44/44 [00:02<00:00, 21.15it/s, Train Loss=5820.3620, Valid Loss=4939.1299, Valid R2=-0.0159, Valid MAE=53.0839]\n",
      "Epoch  9: 100%|██████████| 44/44 [00:02<00:00, 20.10it/s, Train Loss=5921.9837, Valid Loss=4940.6992, Valid R2=-0.0162, Valid MAE=53.0237]\n",
      "Epoch 10: 100%|██████████| 44/44 [00:02<00:00, 20.17it/s, Train Loss=5784.9141, Valid Loss=4999.1235, Valid R2=-0.0282, Valid MAE=54.7041]\n"
     ]
    },
    {
     "name": "stdout",
     "output_type": "stream",
     "text": [
      "Early Stopped\n",
      "Setting   1 of Parameters Grid is now on progres.\n"
     ]
    },
    {
     "name": "stderr",
     "output_type": "stream",
     "text": [
      "Epoch  0: 100%|██████████| 44/44 [00:02<00:00, 21.32it/s, Train Loss=15325.1732, Valid Loss=12393.9297, Valid R2=-1.5491, Valid MAE=86.7893]\n",
      "Epoch  1: 100%|██████████| 44/44 [00:02<00:00, 20.99it/s, Train Loss=14366.6263, Valid Loss=10904.8574, Valid R2=-1.2429, Valid MAE=77.8493]\n",
      "Epoch  2: 100%|██████████| 44/44 [00:02<00:00, 20.91it/s, Train Loss=12679.9580, Valid Loss=9261.3877, Valid R2=-0.9048, Valid MAE=67.8649]\n",
      "Epoch  3: 100%|██████████| 44/44 [00:02<00:00, 19.66it/s, Train Loss=10406.3084, Valid Loss=6734.5205, Valid R2=-0.3851, Valid MAE=54.6113]\n",
      "Epoch  4: 100%|██████████| 44/44 [00:02<00:00, 21.43it/s, Train Loss=6939.2772, Valid Loss=4887.8267, Valid R2=-0.0053, Valid MAE=52.5148]\n",
      "Epoch  5: 100%|██████████| 44/44 [00:01<00:00, 22.20it/s, Train Loss=5959.1044, Valid Loss=4964.9136, Valid R2=-0.0212, Valid MAE=54.2240]\n",
      "Epoch  6: 100%|██████████| 44/44 [00:02<00:00, 21.31it/s, Train Loss=6008.4562, Valid Loss=4894.1489, Valid R2=-0.0066, Valid MAE=52.9102]\n",
      "Epoch  7: 100%|██████████| 44/44 [00:01<00:00, 22.31it/s, Train Loss=5896.9404, Valid Loss=4845.1011, Valid R2=0.0035, Valid MAE=52.4748]\n",
      "Epoch  8: 100%|██████████| 44/44 [00:01<00:00, 22.84it/s, Train Loss=5792.2440, Valid Loss=4806.3818, Valid R2=0.0114, Valid MAE=52.2125]\n",
      "Epoch  9: 100%|██████████| 44/44 [00:02<00:00, 21.00it/s, Train Loss=5869.8952, Valid Loss=4819.1860, Valid R2=0.0088, Valid MAE=52.7093]\n",
      "Epoch 10: 100%|██████████| 44/44 [00:02<00:00, 19.70it/s, Train Loss=5774.1267, Valid Loss=4735.3110, Valid R2=0.0261, Valid MAE=52.3206]\n",
      "Epoch 11: 100%|██████████| 44/44 [00:02<00:00, 19.22it/s, Train Loss=5685.3629, Valid Loss=4662.1094, Valid R2=0.0411, Valid MAE=50.9042]\n",
      "Epoch 12: 100%|██████████| 44/44 [00:02<00:00, 20.13it/s, Train Loss=5635.8088, Valid Loss=4638.6392, Valid R2=0.0459, Valid MAE=52.3768]\n",
      "Epoch 13: 100%|██████████| 44/44 [00:02<00:00, 20.03it/s, Train Loss=5561.1510, Valid Loss=4680.4238, Valid R2=0.0373, Valid MAE=53.2205]\n",
      "Epoch 14: 100%|██████████| 44/44 [00:02<00:00, 19.93it/s, Train Loss=5417.0251, Valid Loss=4481.5449, Valid R2=0.0783, Valid MAE=51.9703]\n",
      "Epoch 15: 100%|██████████| 44/44 [00:02<00:00, 18.93it/s, Train Loss=5386.6057, Valid Loss=4662.6001, Valid R2=0.0410, Valid MAE=53.7037]\n",
      "Epoch 16: 100%|██████████| 44/44 [00:02<00:00, 19.21it/s, Train Loss=5041.6544, Valid Loss=4256.4331, Valid R2=0.1246, Valid MAE=49.0331]\n",
      "Epoch 17: 100%|██████████| 44/44 [00:02<00:00, 20.43it/s, Train Loss=4948.7402, Valid Loss=4153.5513, Valid R2=0.1457, Valid MAE=48.7537]\n",
      "Epoch 18: 100%|██████████| 44/44 [00:02<00:00, 21.08it/s, Train Loss=4870.6274, Valid Loss=4393.7959, Valid R2=0.0963, Valid MAE=51.1867]\n",
      "Epoch 19: 100%|██████████| 44/44 [00:02<00:00, 20.79it/s, Train Loss=4841.1896, Valid Loss=4239.1787, Valid R2=0.1281, Valid MAE=48.3541]\n",
      "Epoch 20: 100%|██████████| 44/44 [00:02<00:00, 21.10it/s, Train Loss=4727.6580, Valid Loss=3921.8325, Valid R2=0.1934, Valid MAE=47.8329]\n",
      "Epoch 21: 100%|██████████| 44/44 [00:02<00:00, 20.87it/s, Train Loss=4524.2456, Valid Loss=4079.9285, Valid R2=0.1609, Valid MAE=46.6095]\n",
      "Epoch 22: 100%|██████████| 44/44 [00:02<00:00, 20.83it/s, Train Loss=4481.7690, Valid Loss=3973.2622, Valid R2=0.1828, Valid MAE=47.7664]\n",
      "Epoch 23: 100%|██████████| 44/44 [00:02<00:00, 19.64it/s, Train Loss=4405.8009, Valid Loss=3778.3145, Valid R2=0.2229, Valid MAE=45.7630]\n",
      "Epoch 24: 100%|██████████| 44/44 [00:02<00:00, 19.25it/s, Train Loss=4199.1240, Valid Loss=3790.2881, Valid R2=0.2204, Valid MAE=45.4980]\n",
      "Epoch 25: 100%|██████████| 44/44 [00:02<00:00, 19.83it/s, Train Loss=4078.5155, Valid Loss=3730.2554, Valid R2=0.2328, Valid MAE=45.6688]\n",
      "Epoch 26: 100%|██████████| 44/44 [00:02<00:00, 20.25it/s, Train Loss=4021.3481, Valid Loss=3689.7544, Valid R2=0.2411, Valid MAE=45.7337]\n",
      "Epoch 27: 100%|██████████| 44/44 [00:02<00:00, 20.42it/s, Train Loss=3947.9881, Valid Loss=3787.7463, Valid R2=0.2209, Valid MAE=46.9773]\n",
      "Epoch 28: 100%|██████████| 44/44 [00:02<00:00, 20.57it/s, Train Loss=3690.0493, Valid Loss=3630.8069, Valid R2=0.2532, Valid MAE=44.3574]\n",
      "Epoch 29: 100%|██████████| 44/44 [00:02<00:00, 20.90it/s, Train Loss=3732.8982, Valid Loss=3739.2668, Valid R2=0.2309, Valid MAE=44.2015]\n",
      "Epoch 30: 100%|██████████| 44/44 [00:02<00:00, 20.49it/s, Train Loss=3480.7390, Valid Loss=3609.9150, Valid R2=0.2575, Valid MAE=44.3305]\n",
      "Epoch 31: 100%|██████████| 44/44 [00:02<00:00, 20.90it/s, Train Loss=3401.9060, Valid Loss=3593.6042, Valid R2=0.2609, Valid MAE=44.5527]\n",
      "Epoch 32: 100%|██████████| 44/44 [00:02<00:00, 20.80it/s, Train Loss=3195.4266, Valid Loss=3732.6294, Valid R2=0.2323, Valid MAE=44.2496]\n",
      "Epoch 33: 100%|██████████| 44/44 [00:02<00:00, 20.36it/s, Train Loss=3150.6218, Valid Loss=3621.9180, Valid R2=0.2551, Valid MAE=43.5361]\n",
      "Epoch 34: 100%|██████████| 44/44 [00:02<00:00, 20.51it/s, Train Loss=2865.3889, Valid Loss=3872.4697, Valid R2=0.2035, Valid MAE=46.6105]\n",
      "Epoch 35: 100%|██████████| 44/44 [00:02<00:00, 19.88it/s, Train Loss=3096.4676, Valid Loss=3809.3606, Valid R2=0.2165, Valid MAE=44.5044]\n",
      "Epoch 36: 100%|██████████| 44/44 [00:02<00:00, 20.37it/s, Train Loss=2860.6286, Valid Loss=3662.4919, Valid R2=0.2467, Valid MAE=44.3485]\n",
      "Epoch 37: 100%|██████████| 44/44 [00:02<00:00, 20.04it/s, Train Loss=2633.9638, Valid Loss=3649.3792, Valid R2=0.2494, Valid MAE=43.4735]\n"
     ]
    },
    {
     "name": "stdout",
     "output_type": "stream",
     "text": [
      "Early Stopped\n",
      "Setting   2 of Parameters Grid is now on progres.\n"
     ]
    },
    {
     "name": "stderr",
     "output_type": "stream",
     "text": [
      "Epoch  0: 100%|██████████| 44/44 [00:02<00:00, 19.92it/s, Train Loss=15356.3166, Valid Loss=12394.6729, Valid R2=-1.5493, Valid MAE=86.7901]\n",
      "Epoch  1: 100%|██████████| 44/44 [00:02<00:00, 19.89it/s, Train Loss=14305.3978, Valid Loss=10396.7041, Valid R2=-1.1384, Valid MAE=74.7334]\n",
      "Epoch  2: 100%|██████████| 44/44 [00:02<00:00, 20.19it/s, Train Loss=10100.1613, Valid Loss=5371.1372, Valid R2=-0.1047, Valid MAE=49.5909]\n",
      "Epoch  3: 100%|██████████| 44/44 [00:02<00:00, 20.80it/s, Train Loss=6219.5746, Valid Loss=4906.5933, Valid R2=-0.0092, Valid MAE=53.2097]\n",
      "Epoch  4: 100%|██████████| 44/44 [00:02<00:00, 19.92it/s, Train Loss=5914.6446, Valid Loss=4946.1162, Valid R2=-0.0173, Valid MAE=53.9122]\n",
      "Epoch  5: 100%|██████████| 44/44 [00:02<00:00, 21.24it/s, Train Loss=5802.3973, Valid Loss=4917.5229, Valid R2=-0.0114, Valid MAE=53.3573]\n",
      "Epoch  6: 100%|██████████| 44/44 [00:02<00:00, 20.89it/s, Train Loss=5936.7092, Valid Loss=4918.6528, Valid R2=-0.0117, Valid MAE=53.4138]\n",
      "Epoch  7: 100%|██████████| 44/44 [00:02<00:00, 20.34it/s, Train Loss=5887.2477, Valid Loss=4974.6938, Valid R2=-0.0232, Valid MAE=54.4808]\n",
      "Epoch  8: 100%|██████████| 44/44 [00:02<00:00, 20.08it/s, Train Loss=5835.7765, Valid Loss=4940.0791, Valid R2=-0.0161, Valid MAE=53.8432]\n",
      "Epoch  9: 100%|██████████| 44/44 [00:02<00:00, 20.63it/s, Train Loss=5882.9245, Valid Loss=4928.8857, Valid R2=-0.0138, Valid MAE=53.4423]\n"
     ]
    },
    {
     "name": "stdout",
     "output_type": "stream",
     "text": [
      "Early Stopped\n",
      "Setting   3 of Parameters Grid is now on progres.\n"
     ]
    },
    {
     "name": "stderr",
     "output_type": "stream",
     "text": [
      "Epoch  0: 100%|██████████| 44/44 [00:02<00:00, 18.88it/s, Train Loss=15362.2151, Valid Loss=12450.4395, Valid R2=-1.5608, Valid MAE=87.1116]\n",
      "Epoch  1: 100%|██████████| 44/44 [00:02<00:00, 21.11it/s, Train Loss=14774.0540, Valid Loss=11570.5078, Valid R2=-1.3798, Valid MAE=81.9103]\n",
      "Epoch  2: 100%|██████████| 44/44 [00:02<00:00, 20.85it/s, Train Loss=13267.8607, Valid Loss=9718.5840, Valid R2=-0.9989, Valid MAE=70.6330]\n",
      "Epoch  3: 100%|██████████| 44/44 [00:02<00:00, 20.37it/s, Train Loss=10437.2977, Valid Loss=6308.9951, Valid R2=-0.2976, Valid MAE=52.7813]\n",
      "Epoch  4: 100%|██████████| 44/44 [00:02<00:00, 20.34it/s, Train Loss=6860.4114, Valid Loss=4891.1108, Valid R2=-0.0060, Valid MAE=51.6632]\n",
      "Epoch  5: 100%|██████████| 44/44 [00:02<00:00, 20.75it/s, Train Loss=6227.7563, Valid Loss=4874.4150, Valid R2=-0.0026, Valid MAE=51.6750]\n",
      "Epoch  6: 100%|██████████| 44/44 [00:02<00:00, 21.11it/s, Train Loss=6316.1277, Valid Loss=4954.7568, Valid R2=-0.0191, Valid MAE=53.5532]\n",
      "Epoch  7: 100%|██████████| 44/44 [00:02<00:00, 21.13it/s, Train Loss=6219.6162, Valid Loss=4931.5522, Valid R2=-0.0143, Valid MAE=53.4157]\n",
      "Epoch  8: 100%|██████████| 44/44 [00:02<00:00, 21.08it/s, Train Loss=6097.2594, Valid Loss=4874.3096, Valid R2=-0.0025, Valid MAE=51.9186]\n",
      "Epoch  9: 100%|██████████| 44/44 [00:02<00:00, 21.76it/s, Train Loss=6050.2309, Valid Loss=4898.2896, Valid R2=-0.0075, Valid MAE=53.1441]\n",
      "Epoch 10: 100%|██████████| 44/44 [00:02<00:00, 21.47it/s, Train Loss=6035.9403, Valid Loss=4899.7485, Valid R2=-0.0078, Valid MAE=50.3939]\n",
      "Epoch 11: 100%|██████████| 44/44 [00:02<00:00, 21.13it/s, Train Loss=5784.3267, Valid Loss=4848.5737, Valid R2=0.0028, Valid MAE=51.6323]\n",
      "Epoch 12: 100%|██████████| 44/44 [00:02<00:00, 20.15it/s, Train Loss=5549.5564, Valid Loss=5010.4097, Valid R2=-0.0305, Valid MAE=53.7289]\n",
      "Epoch 13: 100%|██████████| 44/44 [00:02<00:00, 20.88it/s, Train Loss=5116.6573, Valid Loss=5107.1968, Valid R2=-0.0504, Valid MAE=52.4045]\n",
      "Epoch 14: 100%|██████████| 44/44 [00:02<00:00, 21.26it/s, Train Loss=5295.2784, Valid Loss=5068.9932, Valid R2=-0.0426, Valid MAE=55.4709]\n",
      "Epoch 15: 100%|██████████| 44/44 [00:02<00:00, 20.59it/s, Train Loss=4941.9744, Valid Loss=5176.3613, Valid R2=-0.0647, Valid MAE=54.9301]\n",
      "Epoch 16: 100%|██████████| 44/44 [00:02<00:00, 20.38it/s, Train Loss=4708.6221, Valid Loss=5384.2236, Valid R2=-0.1074, Valid MAE=55.5597]\n",
      "Epoch 17: 100%|██████████| 44/44 [00:02<00:00, 20.61it/s, Train Loss=4594.1712, Valid Loss=5449.4404, Valid R2=-0.1208, Valid MAE=55.0294]\n"
     ]
    },
    {
     "name": "stdout",
     "output_type": "stream",
     "text": [
      "Early Stopped\n",
      "Setting   4 of Parameters Grid is now on progres.\n"
     ]
    },
    {
     "name": "stderr",
     "output_type": "stream",
     "text": [
      "Epoch  0: 100%|██████████| 44/44 [00:02<00:00, 19.82it/s, Train Loss=15296.6348, Valid Loss=12359.0225, Valid R2=-1.5420, Valid MAE=86.5853]\n",
      "Epoch  1: 100%|██████████| 44/44 [00:02<00:00, 19.88it/s, Train Loss=14329.6186, Valid Loss=10723.5723, Valid R2=-1.2056, Valid MAE=76.7374]\n",
      "Epoch  2: 100%|██████████| 44/44 [00:02<00:00, 20.52it/s, Train Loss=11715.8926, Valid Loss=7127.4282, Valid R2=-0.4659, Valid MAE=56.4717]\n",
      "Epoch  3: 100%|██████████| 44/44 [00:02<00:00, 19.77it/s, Train Loss=7205.6088, Valid Loss=4865.6318, Valid R2=-0.0007, Valid MAE=51.5013]\n",
      "Epoch  4: 100%|██████████| 44/44 [00:02<00:00, 20.36it/s, Train Loss=6136.1674, Valid Loss=4906.5215, Valid R2=-0.0092, Valid MAE=52.9838]\n",
      "Epoch  5: 100%|██████████| 44/44 [00:02<00:00, 20.66it/s, Train Loss=6088.4111, Valid Loss=4884.2114, Valid R2=-0.0046, Valid MAE=52.3999]\n",
      "Epoch  6: 100%|██████████| 44/44 [00:02<00:00, 19.94it/s, Train Loss=6031.7931, Valid Loss=4917.5308, Valid R2=-0.0114, Valid MAE=53.2373]\n",
      "Epoch  7: 100%|██████████| 44/44 [00:02<00:00, 19.94it/s, Train Loss=6014.5071, Valid Loss=4896.7393, Valid R2=-0.0071, Valid MAE=52.7756]\n",
      "Epoch  8: 100%|██████████| 44/44 [00:02<00:00, 19.76it/s, Train Loss=5979.9756, Valid Loss=4855.2344, Valid R2=0.0014, Valid MAE=52.5563]\n",
      "Epoch  9: 100%|██████████| 44/44 [00:02<00:00, 20.33it/s, Train Loss=5874.3327, Valid Loss=4787.4839, Valid R2=0.0153, Valid MAE=53.3944]\n",
      "Epoch 10: 100%|██████████| 44/44 [00:02<00:00, 20.85it/s, Train Loss=5531.6251, Valid Loss=4619.8726, Valid R2=0.0498, Valid MAE=52.2675]\n",
      "Epoch 11: 100%|██████████| 44/44 [00:02<00:00, 21.02it/s, Train Loss=5205.0087, Valid Loss=4616.9053, Valid R2=0.0504, Valid MAE=51.9450]\n",
      "Epoch 12: 100%|██████████| 44/44 [00:02<00:00, 21.01it/s, Train Loss=5075.4488, Valid Loss=4722.5376, Valid R2=0.0287, Valid MAE=53.6000]\n",
      "Epoch 13: 100%|██████████| 44/44 [00:02<00:00, 20.50it/s, Train Loss=4833.2507, Valid Loss=4608.2104, Valid R2=0.0522, Valid MAE=52.5451]\n",
      "Epoch 14: 100%|██████████| 44/44 [00:02<00:00, 21.24it/s, Train Loss=4567.0104, Valid Loss=4440.1328, Valid R2=0.0868, Valid MAE=47.3666]\n",
      "Epoch 15: 100%|██████████| 44/44 [00:01<00:00, 22.52it/s, Train Loss=4625.0654, Valid Loss=4910.5630, Valid R2=-0.0100, Valid MAE=55.7136]\n",
      "Epoch 16: 100%|██████████| 44/44 [00:02<00:00, 21.06it/s, Train Loss=4355.2496, Valid Loss=4607.2637, Valid R2=0.0524, Valid MAE=53.4767]\n",
      "Epoch 17: 100%|██████████| 44/44 [00:02<00:00, 21.06it/s, Train Loss=4807.9026, Valid Loss=4732.4087, Valid R2=0.0267, Valid MAE=53.7900]\n",
      "Epoch 18: 100%|██████████| 44/44 [00:02<00:00, 20.23it/s, Train Loss=4632.8268, Valid Loss=4423.4482, Valid R2=0.0902, Valid MAE=50.1323]\n",
      "Epoch 19: 100%|██████████| 44/44 [00:02<00:00, 19.97it/s, Train Loss=4457.7338, Valid Loss=4253.5283, Valid R2=0.1251, Valid MAE=48.4556]\n",
      "Epoch 20: 100%|██████████| 44/44 [00:02<00:00, 20.74it/s, Train Loss=4184.5381, Valid Loss=4201.2051, Valid R2=0.1359, Valid MAE=49.3813]\n",
      "Epoch 21: 100%|██████████| 44/44 [00:02<00:00, 21.07it/s, Train Loss=4351.6970, Valid Loss=4447.7158, Valid R2=0.0852, Valid MAE=51.8597]\n",
      "Epoch 22: 100%|██████████| 44/44 [00:02<00:00, 20.56it/s, Train Loss=3979.3234, Valid Loss=4157.7505, Valid R2=0.1448, Valid MAE=50.2863]\n",
      "Epoch 23: 100%|██████████| 44/44 [00:02<00:00, 20.50it/s, Train Loss=3834.4577, Valid Loss=4482.4839, Valid R2=0.0781, Valid MAE=52.1284]\n",
      "Epoch 24: 100%|██████████| 44/44 [00:02<00:00, 21.00it/s, Train Loss=3803.4356, Valid Loss=4384.8320, Valid R2=0.0981, Valid MAE=50.9173]\n",
      "Epoch 25: 100%|██████████| 44/44 [00:02<00:00, 20.86it/s, Train Loss=3505.2804, Valid Loss=4125.4888, Valid R2=0.1515, Valid MAE=48.9850]\n",
      "Epoch 26: 100%|██████████| 44/44 [00:02<00:00, 20.77it/s, Train Loss=3490.7052, Valid Loss=4376.0063, Valid R2=0.1000, Valid MAE=50.4218]\n",
      "Epoch 27: 100%|██████████| 44/44 [00:02<00:00, 20.75it/s, Train Loss=3444.6517, Valid Loss=4089.8872, Valid R2=0.1588, Valid MAE=48.7405]\n",
      "Epoch 28: 100%|██████████| 44/44 [00:02<00:00, 21.09it/s, Train Loss=3364.8421, Valid Loss=4173.4351, Valid R2=0.1416, Valid MAE=49.4118]\n",
      "Epoch 29: 100%|██████████| 44/44 [00:02<00:00, 20.21it/s, Train Loss=3173.1102, Valid Loss=4283.8262, Valid R2=0.1189, Valid MAE=49.4107]\n",
      "Epoch 30: 100%|██████████| 44/44 [00:02<00:00, 20.97it/s, Train Loss=3222.4669, Valid Loss=4659.1729, Valid R2=0.0417, Valid MAE=52.5968]\n",
      "Epoch 31: 100%|██████████| 44/44 [00:02<00:00, 20.44it/s, Train Loss=3022.5366, Valid Loss=4452.3877, Valid R2=0.0842, Valid MAE=49.5671]\n",
      "Epoch 32: 100%|██████████| 44/44 [00:02<00:00, 20.81it/s, Train Loss=3171.7177, Valid Loss=4590.8613, Valid R2=0.0558, Valid MAE=53.0842]\n",
      "Epoch 33: 100%|██████████| 44/44 [00:02<00:00, 20.67it/s, Train Loss=2928.7762, Valid Loss=4661.3408, Valid R2=0.0413, Valid MAE=52.2928]\n"
     ]
    },
    {
     "name": "stdout",
     "output_type": "stream",
     "text": [
      "Early Stopped\n",
      "Setting   5 of Parameters Grid is now on progres.\n"
     ]
    },
    {
     "name": "stderr",
     "output_type": "stream",
     "text": [
      "Epoch  0: 100%|██████████| 44/44 [00:02<00:00, 20.78it/s, Train Loss=15137.3449, Valid Loss=11908.0234, Valid R2=-1.4492, Valid MAE=83.9408]\n",
      "Epoch  1: 100%|██████████| 44/44 [00:02<00:00, 21.05it/s, Train Loss=13595.0385, Valid Loss=9851.0469, Valid R2=-1.0261, Valid MAE=71.4395]\n",
      "Epoch  2: 100%|██████████| 44/44 [00:02<00:00, 20.78it/s, Train Loss=10466.7343, Valid Loss=6462.5107, Valid R2=-0.3292, Valid MAE=53.4244]\n",
      "Epoch  3: 100%|██████████| 44/44 [00:02<00:00, 20.80it/s, Train Loss=6765.9359, Valid Loss=4901.3750, Valid R2=-0.0081, Valid MAE=52.8349]\n",
      "Epoch  4: 100%|██████████| 44/44 [00:02<00:00, 21.02it/s, Train Loss=6090.7222, Valid Loss=4942.8525, Valid R2=-0.0166, Valid MAE=53.8181]\n",
      "Epoch  5: 100%|██████████| 44/44 [00:02<00:00, 21.05it/s, Train Loss=6034.5413, Valid Loss=4899.3955, Valid R2=-0.0077, Valid MAE=53.0115]\n",
      "Epoch  6: 100%|██████████| 44/44 [00:02<00:00, 21.38it/s, Train Loss=5797.8246, Valid Loss=4913.0542, Valid R2=-0.0105, Valid MAE=53.3701]\n",
      "Epoch  7: 100%|██████████| 44/44 [00:02<00:00, 21.58it/s, Train Loss=5932.6156, Valid Loss=4917.8218, Valid R2=-0.0115, Valid MAE=53.4515]\n",
      "Epoch  8: 100%|██████████| 44/44 [00:02<00:00, 20.85it/s, Train Loss=6006.3489, Valid Loss=4880.5889, Valid R2=-0.0038, Valid MAE=52.8426]\n",
      "Epoch  9: 100%|██████████| 44/44 [00:02<00:00, 20.82it/s, Train Loss=5912.5098, Valid Loss=4732.3179, Valid R2=0.0267, Valid MAE=50.9390]\n",
      "Epoch 10: 100%|██████████| 44/44 [00:02<00:00, 19.42it/s, Train Loss=5808.6648, Valid Loss=4795.4868, Valid R2=0.0137, Valid MAE=52.2599]\n",
      "Epoch 11: 100%|██████████| 44/44 [00:02<00:00, 20.93it/s, Train Loss=5793.1296, Valid Loss=4834.2056, Valid R2=0.0057, Valid MAE=52.2355]\n",
      "Epoch 12: 100%|██████████| 44/44 [00:02<00:00, 21.20it/s, Train Loss=5717.0356, Valid Loss=4767.1074, Valid R2=0.0195, Valid MAE=52.6390]\n",
      "Epoch 13: 100%|██████████| 44/44 [00:02<00:00, 20.81it/s, Train Loss=5576.7830, Valid Loss=4611.3086, Valid R2=0.0516, Valid MAE=52.0403]\n",
      "Epoch 14: 100%|██████████| 44/44 [00:02<00:00, 21.04it/s, Train Loss=5423.5936, Valid Loss=4245.5786, Valid R2=0.1268, Valid MAE=48.5980]\n",
      "Epoch 15: 100%|██████████| 44/44 [00:02<00:00, 20.59it/s, Train Loss=5188.3894, Valid Loss=4294.7139, Valid R2=0.1167, Valid MAE=49.1763]\n",
      "Epoch 16: 100%|██████████| 44/44 [00:02<00:00, 20.48it/s, Train Loss=4895.2064, Valid Loss=4456.2114, Valid R2=0.0835, Valid MAE=51.9541]\n",
      "Epoch 17: 100%|██████████| 44/44 [00:02<00:00, 20.81it/s, Train Loss=4915.4920, Valid Loss=4247.6211, Valid R2=0.1264, Valid MAE=47.2845]\n",
      "Epoch 18: 100%|██████████| 44/44 [00:02<00:00, 21.25it/s, Train Loss=4942.3403, Valid Loss=4116.1685, Valid R2=0.1534, Valid MAE=48.7731]\n",
      "Epoch 19: 100%|██████████| 44/44 [00:02<00:00, 20.44it/s, Train Loss=4724.0317, Valid Loss=4213.2725, Valid R2=0.1334, Valid MAE=50.1199]\n",
      "Epoch 20: 100%|██████████| 44/44 [00:02<00:00, 20.83it/s, Train Loss=4697.0647, Valid Loss=3985.1099, Valid R2=0.1804, Valid MAE=49.0218]\n",
      "Epoch 21: 100%|██████████| 44/44 [00:01<00:00, 22.23it/s, Train Loss=4360.4639, Valid Loss=4032.3354, Valid R2=0.1706, Valid MAE=46.8564]\n",
      "Epoch 22: 100%|██████████| 44/44 [00:02<00:00, 21.37it/s, Train Loss=4591.5010, Valid Loss=4128.3872, Valid R2=0.1509, Valid MAE=46.8826]\n",
      "Epoch 23: 100%|██████████| 44/44 [00:02<00:00, 20.56it/s, Train Loss=4374.2388, Valid Loss=4239.1206, Valid R2=0.1281, Valid MAE=50.6829]\n",
      "Epoch 24: 100%|██████████| 44/44 [00:02<00:00, 20.18it/s, Train Loss=4049.4756, Valid Loss=4206.6797, Valid R2=0.1348, Valid MAE=50.2662]\n",
      "Epoch 25: 100%|██████████| 44/44 [00:02<00:00, 20.12it/s, Train Loss=4039.0422, Valid Loss=4043.5593, Valid R2=0.1683, Valid MAE=50.1496]\n",
      "Epoch 26: 100%|██████████| 44/44 [00:02<00:00, 20.19it/s, Train Loss=3774.0955, Valid Loss=3859.5491, Valid R2=0.2062, Valid MAE=47.2363]\n",
      "Epoch 27: 100%|██████████| 44/44 [00:02<00:00, 20.95it/s, Train Loss=3577.7575, Valid Loss=3918.6553, Valid R2=0.1940, Valid MAE=48.2006]\n",
      "Epoch 28: 100%|██████████| 44/44 [00:02<00:00, 20.94it/s, Train Loss=3378.7247, Valid Loss=3895.9624, Valid R2=0.1987, Valid MAE=48.1395]\n",
      "Epoch 29: 100%|██████████| 44/44 [00:02<00:00, 21.06it/s, Train Loss=3442.9659, Valid Loss=3872.5305, Valid R2=0.2035, Valid MAE=47.9602]\n",
      "Epoch 30: 100%|██████████| 44/44 [00:02<00:00, 20.97it/s, Train Loss=3498.1056, Valid Loss=3972.7185, Valid R2=0.1829, Valid MAE=50.8744]\n",
      "Epoch 31: 100%|██████████| 44/44 [00:02<00:00, 20.88it/s, Train Loss=3400.9099, Valid Loss=3776.8313, Valid R2=0.2232, Valid MAE=49.2265]\n",
      "Epoch 32: 100%|██████████| 44/44 [00:02<00:00, 20.97it/s, Train Loss=3082.7379, Valid Loss=3687.6294, Valid R2=0.2415, Valid MAE=47.0518]\n",
      "Epoch 33: 100%|██████████| 44/44 [00:02<00:00, 20.08it/s, Train Loss=3022.2437, Valid Loss=3590.0400, Valid R2=0.2616, Valid MAE=46.6782]\n",
      "Epoch 34: 100%|██████████| 44/44 [00:02<00:00, 19.72it/s, Train Loss=2988.2851, Valid Loss=3555.2966, Valid R2=0.2688, Valid MAE=46.2296]\n",
      "Epoch 35: 100%|██████████| 44/44 [00:02<00:00, 19.99it/s, Train Loss=2733.8580, Valid Loss=3607.0225, Valid R2=0.2581, Valid MAE=45.9618]\n",
      "Epoch 36: 100%|██████████| 44/44 [00:02<00:00, 19.55it/s, Train Loss=2674.8480, Valid Loss=3567.2961, Valid R2=0.2663, Valid MAE=45.7441]\n",
      "Epoch 37: 100%|██████████| 44/44 [00:02<00:00, 20.20it/s, Train Loss=2495.3225, Valid Loss=3757.9680, Valid R2=0.2271, Valid MAE=47.1282]\n",
      "Epoch 38: 100%|██████████| 44/44 [00:02<00:00, 19.65it/s, Train Loss=2557.4099, Valid Loss=3666.9407, Valid R2=0.2458, Valid MAE=47.1606]\n",
      "Epoch 39: 100%|██████████| 44/44 [00:02<00:00, 19.99it/s, Train Loss=2460.8670, Valid Loss=3654.3469, Valid R2=0.2484, Valid MAE=46.9666]\n",
      "Epoch 40: 100%|██████████| 44/44 [00:02<00:00, 19.51it/s, Train Loss=2400.7107, Valid Loss=4304.2275, Valid R2=0.1147, Valid MAE=52.0630]\n"
     ]
    },
    {
     "name": "stdout",
     "output_type": "stream",
     "text": [
      "Early Stopped\n",
      "Setting   6 of Parameters Grid is now on progres.\n"
     ]
    },
    {
     "name": "stderr",
     "output_type": "stream",
     "text": [
      "Epoch  0: 100%|██████████| 44/44 [00:02<00:00, 19.96it/s, Train Loss=15319.3718, Valid Loss=12207.4268, Valid R2=-1.5108, Valid MAE=85.7100]\n",
      "Epoch  1: 100%|██████████| 44/44 [00:02<00:00, 20.42it/s, Train Loss=13481.9866, Valid Loss=8767.5830, Valid R2=-0.8033, Valid MAE=65.0311]\n",
      "Epoch  2: 100%|██████████| 44/44 [00:02<00:00, 19.57it/s, Train Loss=7913.1344, Valid Loss=4948.2041, Valid R2=-0.0177, Valid MAE=54.0492]\n",
      "Epoch  3: 100%|██████████| 44/44 [00:01<00:00, 22.09it/s, Train Loss=5892.7006, Valid Loss=4917.4048, Valid R2=-0.0114, Valid MAE=53.4854]\n",
      "Epoch  4: 100%|██████████| 44/44 [00:02<00:00, 21.13it/s, Train Loss=5914.1150, Valid Loss=4953.7568, Valid R2=-0.0189, Valid MAE=54.1289]\n",
      "Epoch  5: 100%|██████████| 44/44 [00:02<00:00, 19.31it/s, Train Loss=5954.8985, Valid Loss=4905.5635, Valid R2=-0.0090, Valid MAE=53.2764]\n",
      "Epoch  6: 100%|██████████| 44/44 [00:02<00:00, 19.07it/s, Train Loss=5916.0534, Valid Loss=4872.3281, Valid R2=-0.0021, Valid MAE=52.5116]\n",
      "Epoch  7: 100%|██████████| 44/44 [00:02<00:00, 19.44it/s, Train Loss=5852.5260, Valid Loss=4898.8164, Valid R2=-0.0076, Valid MAE=53.1410]\n",
      "Epoch  8: 100%|██████████| 44/44 [00:02<00:00, 19.70it/s, Train Loss=5951.7515, Valid Loss=4859.7246, Valid R2=0.0005, Valid MAE=52.3092]\n",
      "Epoch  9: 100%|██████████| 44/44 [00:02<00:00, 20.60it/s, Train Loss=5890.8200, Valid Loss=4931.3389, Valid R2=-0.0143, Valid MAE=53.8796]\n",
      "Epoch 10: 100%|██████████| 44/44 [00:02<00:00, 20.78it/s, Train Loss=5929.4751, Valid Loss=4877.5605, Valid R2=-0.0032, Valid MAE=53.5456]\n",
      "Epoch 11: 100%|██████████| 44/44 [00:02<00:00, 19.66it/s, Train Loss=5892.6983, Valid Loss=5010.0420, Valid R2=-0.0304, Valid MAE=55.5080]\n",
      "Epoch 12: 100%|██████████| 44/44 [00:02<00:00, 19.31it/s, Train Loss=5785.6077, Valid Loss=4742.1455, Valid R2=0.0247, Valid MAE=51.3207]\n",
      "Epoch 13: 100%|██████████| 44/44 [00:02<00:00, 19.76it/s, Train Loss=5599.8669, Valid Loss=4767.3711, Valid R2=0.0195, Valid MAE=52.9848]\n",
      "Epoch 14: 100%|██████████| 44/44 [00:02<00:00, 20.05it/s, Train Loss=5455.5288, Valid Loss=4752.0039, Valid R2=0.0226, Valid MAE=51.8941]\n",
      "Epoch 15: 100%|██████████| 44/44 [00:02<00:00, 20.70it/s, Train Loss=5405.9238, Valid Loss=4845.4937, Valid R2=0.0034, Valid MAE=53.1377]\n",
      "Epoch 16: 100%|██████████| 44/44 [00:02<00:00, 20.88it/s, Train Loss=5396.3225, Valid Loss=4790.9170, Valid R2=0.0146, Valid MAE=52.6602]\n",
      "Epoch 17: 100%|██████████| 44/44 [00:02<00:00, 20.63it/s, Train Loss=5082.9161, Valid Loss=4840.4141, Valid R2=0.0044, Valid MAE=51.1059]\n",
      "Epoch 18: 100%|██████████| 44/44 [00:02<00:00, 19.89it/s, Train Loss=4929.1505, Valid Loss=4796.7812, Valid R2=0.0134, Valid MAE=51.2812]\n"
     ]
    },
    {
     "name": "stdout",
     "output_type": "stream",
     "text": [
      "Early Stopped\n",
      "Setting   7 of Parameters Grid is now on progres.\n"
     ]
    },
    {
     "name": "stderr",
     "output_type": "stream",
     "text": [
      "Epoch  0: 100%|██████████| 44/44 [00:02<00:00, 20.47it/s, Train Loss=15209.9744, Valid Loss=12061.2070, Valid R2=-1.4807, Valid MAE=84.8485]\n",
      "Epoch  1: 100%|██████████| 44/44 [00:02<00:00, 20.59it/s, Train Loss=13799.4565, Valid Loss=10132.5752, Valid R2=-1.0840, Valid MAE=73.1531]\n",
      "Epoch  2: 100%|██████████| 44/44 [00:02<00:00, 20.22it/s, Train Loss=10764.5146, Valid Loss=6261.3896, Valid R2=-0.2878, Valid MAE=52.6223]\n",
      "Epoch  3: 100%|██████████| 44/44 [00:02<00:00, 20.86it/s, Train Loss=6318.0831, Valid Loss=5090.2480, Valid R2=-0.0469, Valid MAE=55.8388]\n",
      "Epoch  4: 100%|██████████| 44/44 [00:02<00:00, 20.23it/s, Train Loss=5954.3428, Valid Loss=5053.7529, Valid R2=-0.0394, Valid MAE=55.4005]\n",
      "Epoch  5: 100%|██████████| 44/44 [00:02<00:00, 19.88it/s, Train Loss=6059.8764, Valid Loss=4894.6763, Valid R2=-0.0067, Valid MAE=52.6581]\n",
      "Epoch  6: 100%|██████████| 44/44 [00:02<00:00, 20.00it/s, Train Loss=5952.7004, Valid Loss=4999.0488, Valid R2=-0.0282, Valid MAE=54.7096]\n",
      "Epoch  7: 100%|██████████| 44/44 [00:02<00:00, 20.05it/s, Train Loss=5894.3532, Valid Loss=4900.2339, Valid R2=-0.0079, Valid MAE=53.2665]\n",
      "Epoch  8: 100%|██████████| 44/44 [00:02<00:00, 19.89it/s, Train Loss=5814.8502, Valid Loss=4918.6704, Valid R2=-0.0117, Valid MAE=53.7161]\n",
      "Epoch  9: 100%|██████████| 44/44 [00:02<00:00, 20.96it/s, Train Loss=5682.4004, Valid Loss=5113.7822, Valid R2=-0.0518, Valid MAE=56.0918]\n",
      "Epoch 10: 100%|██████████| 44/44 [00:02<00:00, 20.53it/s, Train Loss=5610.1013, Valid Loss=4926.1084, Valid R2=-0.0132, Valid MAE=54.8710]\n",
      "Epoch 11: 100%|██████████| 44/44 [00:02<00:00, 19.80it/s, Train Loss=5394.9746, Valid Loss=5238.0249, Valid R2=-0.0773, Valid MAE=56.6268]\n"
     ]
    },
    {
     "name": "stdout",
     "output_type": "stream",
     "text": [
      "Early Stopped\n",
      "Setting   8 of Parameters Grid is now on progres.\n"
     ]
    },
    {
     "name": "stderr",
     "output_type": "stream",
     "text": [
      "Epoch  0: 100%|██████████| 44/44 [00:02<00:00, 20.03it/s, Train Loss=15080.7121, Valid Loss=11865.2100, Valid R2=-1.4404, Valid MAE=83.6857]\n",
      "Epoch  1: 100%|██████████| 44/44 [00:02<00:00, 20.06it/s, Train Loss=13281.4609, Valid Loss=9233.4600, Valid R2=-0.8991, Valid MAE=67.6987]\n",
      "Epoch  2: 100%|██████████| 44/44 [00:02<00:00, 21.12it/s, Train Loss=8870.7076, Valid Loss=4923.8516, Valid R2=-0.0127, Valid MAE=50.5204]\n",
      "Epoch  3: 100%|██████████| 44/44 [00:02<00:00, 19.92it/s, Train Loss=5913.4445, Valid Loss=4941.0850, Valid R2=-0.0163, Valid MAE=53.8106]\n",
      "Epoch  4: 100%|██████████| 44/44 [00:02<00:00, 19.96it/s, Train Loss=5812.1438, Valid Loss=4924.4004, Valid R2=-0.0128, Valid MAE=53.6175]\n",
      "Epoch  5: 100%|██████████| 44/44 [00:02<00:00, 20.19it/s, Train Loss=5899.4206, Valid Loss=4897.3848, Valid R2=-0.0073, Valid MAE=53.0501]\n",
      "Epoch  6: 100%|██████████| 44/44 [00:02<00:00, 20.27it/s, Train Loss=5839.9906, Valid Loss=4908.6821, Valid R2=-0.0096, Valid MAE=53.4122]\n",
      "Epoch  7: 100%|██████████| 44/44 [00:02<00:00, 20.46it/s, Train Loss=5873.2276, Valid Loss=4929.8511, Valid R2=-0.0140, Valid MAE=53.8043]\n",
      "Epoch  8: 100%|██████████| 44/44 [00:02<00:00, 20.65it/s, Train Loss=5717.7536, Valid Loss=4924.9844, Valid R2=-0.0130, Valid MAE=54.4193]\n",
      "Epoch  9: 100%|██████████| 44/44 [00:02<00:00, 20.52it/s, Train Loss=5746.5929, Valid Loss=4770.1104, Valid R2=0.0189, Valid MAE=52.3786]\n",
      "Epoch 10: 100%|██████████| 44/44 [00:02<00:00, 19.78it/s, Train Loss=5571.5896, Valid Loss=4833.3374, Valid R2=0.0059, Valid MAE=53.7002]\n",
      "Epoch 11: 100%|██████████| 44/44 [00:02<00:00, 21.02it/s, Train Loss=5250.6998, Valid Loss=4835.4409, Valid R2=0.0055, Valid MAE=54.5919]\n",
      "Epoch 12: 100%|██████████| 44/44 [00:02<00:00, 21.25it/s, Train Loss=5017.6895, Valid Loss=4920.7671, Valid R2=-0.0121, Valid MAE=52.1827]\n",
      "Epoch 13: 100%|██████████| 44/44 [00:02<00:00, 21.13it/s, Train Loss=5006.0521, Valid Loss=4648.8745, Valid R2=0.0438, Valid MAE=53.5660]\n",
      "Epoch 14: 100%|██████████| 44/44 [00:02<00:00, 20.71it/s, Train Loss=4976.3536, Valid Loss=4510.7954, Valid R2=0.0722, Valid MAE=53.0481]\n",
      "Epoch 15: 100%|██████████| 44/44 [00:02<00:00, 21.21it/s, Train Loss=4777.1028, Valid Loss=4315.3286, Valid R2=0.1124, Valid MAE=49.0294]\n",
      "Epoch 16: 100%|██████████| 44/44 [00:02<00:00, 19.66it/s, Train Loss=5018.4594, Valid Loss=4422.0669, Valid R2=0.0905, Valid MAE=49.2761]\n",
      "Epoch 17: 100%|██████████| 44/44 [00:02<00:00, 18.82it/s, Train Loss=4595.9145, Valid Loss=4246.3062, Valid R2=0.1266, Valid MAE=49.4569]\n",
      "Epoch 18: 100%|██████████| 44/44 [00:02<00:00, 20.84it/s, Train Loss=4296.2196, Valid Loss=4222.5454, Valid R2=0.1315, Valid MAE=48.6186]\n",
      "Epoch 19: 100%|██████████| 44/44 [00:02<00:00, 20.56it/s, Train Loss=4227.6487, Valid Loss=4053.9563, Valid R2=0.1662, Valid MAE=47.9114]\n",
      "Epoch 20: 100%|██████████| 44/44 [00:02<00:00, 19.07it/s, Train Loss=4232.3896, Valid Loss=4000.6912, Valid R2=0.1772, Valid MAE=46.2538]\n",
      "Epoch 21: 100%|██████████| 44/44 [00:02<00:00, 19.19it/s, Train Loss=3988.0231, Valid Loss=3913.7227, Valid R2=0.1950, Valid MAE=45.7622]\n",
      "Epoch 22: 100%|██████████| 44/44 [00:02<00:00, 19.76it/s, Train Loss=4198.3879, Valid Loss=3885.4363, Valid R2=0.2009, Valid MAE=46.3261]\n",
      "Epoch 23: 100%|██████████| 44/44 [00:02<00:00, 20.29it/s, Train Loss=3973.8680, Valid Loss=3978.7644, Valid R2=0.1817, Valid MAE=47.5730]\n",
      "Epoch 24: 100%|██████████| 44/44 [00:02<00:00, 21.75it/s, Train Loss=3737.5405, Valid Loss=3644.1790, Valid R2=0.2505, Valid MAE=43.3909]\n",
      "Epoch 25: 100%|██████████| 44/44 [00:02<00:00, 19.27it/s, Train Loss=4055.8408, Valid Loss=3946.2415, Valid R2=0.1884, Valid MAE=47.2685]\n",
      "Epoch 26: 100%|██████████| 44/44 [00:02<00:00, 19.62it/s, Train Loss=3686.0422, Valid Loss=4377.2280, Valid R2=0.0997, Valid MAE=50.1052]\n",
      "Epoch 27: 100%|██████████| 44/44 [00:02<00:00, 19.53it/s, Train Loss=3732.6618, Valid Loss=3694.2761, Valid R2=0.2402, Valid MAE=45.1526]\n",
      "Epoch 28: 100%|██████████| 44/44 [00:02<00:00, 20.29it/s, Train Loss=3798.5838, Valid Loss=3852.8733, Valid R2=0.2076, Valid MAE=46.0989]\n",
      "Epoch 29: 100%|██████████| 44/44 [00:02<00:00, 20.74it/s, Train Loss=3429.0139, Valid Loss=3981.6426, Valid R2=0.1811, Valid MAE=46.5096]\n",
      "Epoch 30: 100%|██████████| 44/44 [00:02<00:00, 20.72it/s, Train Loss=3418.1853, Valid Loss=4140.1040, Valid R2=0.1485, Valid MAE=48.6717]\n"
     ]
    },
    {
     "name": "stdout",
     "output_type": "stream",
     "text": [
      "Early Stopped\n",
      "Setting   9 of Parameters Grid is now on progres.\n"
     ]
    },
    {
     "name": "stderr",
     "output_type": "stream",
     "text": [
      "Epoch  0: 100%|██████████| 44/44 [00:02<00:00, 20.42it/s, Train Loss=15254.4255, Valid Loss=12105.9521, Valid R2=-1.4899, Valid MAE=85.1117]\n",
      "Epoch  1: 100%|██████████| 44/44 [00:02<00:00, 20.61it/s, Train Loss=13735.4833, Valid Loss=9879.8809, Valid R2=-1.0321, Valid MAE=71.6106]\n",
      "Epoch  2: 100%|██████████| 44/44 [00:02<00:00, 19.89it/s, Train Loss=10398.5801, Valid Loss=6156.0239, Valid R2=-0.2661, Valid MAE=52.1608]\n",
      "Epoch  3: 100%|██████████| 44/44 [00:02<00:00, 21.12it/s, Train Loss=6384.8267, Valid Loss=4966.8569, Valid R2=-0.0216, Valid MAE=54.3246]\n",
      "Epoch  4: 100%|██████████| 44/44 [00:02<00:00, 20.92it/s, Train Loss=5969.0207, Valid Loss=4969.5713, Valid R2=-0.0221, Valid MAE=54.2858]\n",
      "Epoch  5: 100%|██████████| 44/44 [00:02<00:00, 20.87it/s, Train Loss=5868.7656, Valid Loss=4871.4385, Valid R2=-0.0019, Valid MAE=52.2128]\n",
      "Epoch  6: 100%|██████████| 44/44 [00:02<00:00, 20.82it/s, Train Loss=5868.5430, Valid Loss=4893.5811, Valid R2=-0.0065, Valid MAE=52.8031]\n",
      "Epoch  7: 100%|██████████| 44/44 [00:02<00:00, 21.18it/s, Train Loss=5870.6468, Valid Loss=4995.7290, Valid R2=-0.0275, Valid MAE=54.6200]\n",
      "Epoch  8: 100%|██████████| 44/44 [00:02<00:00, 20.95it/s, Train Loss=5937.8647, Valid Loss=4861.3491, Valid R2=0.0001, Valid MAE=52.4501]\n",
      "Epoch  9: 100%|██████████| 44/44 [00:02<00:00, 20.10it/s, Train Loss=5843.3130, Valid Loss=5009.1064, Valid R2=-0.0303, Valid MAE=55.1275]\n",
      "Epoch 10: 100%|██████████| 44/44 [00:02<00:00, 20.05it/s, Train Loss=5895.4263, Valid Loss=4896.1416, Valid R2=-0.0070, Valid MAE=52.8469]\n",
      "Epoch 11: 100%|██████████| 44/44 [00:02<00:00, 20.46it/s, Train Loss=5828.1071, Valid Loss=4850.5415, Valid R2=0.0024, Valid MAE=52.5134]\n",
      "Epoch 12: 100%|██████████| 44/44 [00:02<00:00, 20.63it/s, Train Loss=5800.6756, Valid Loss=4785.0181, Valid R2=0.0158, Valid MAE=51.3024]\n",
      "Epoch 13: 100%|██████████| 44/44 [00:02<00:00, 20.65it/s, Train Loss=5673.9771, Valid Loss=4878.0757, Valid R2=-0.0033, Valid MAE=53.5581]\n",
      "Epoch 14: 100%|██████████| 44/44 [00:02<00:00, 20.63it/s, Train Loss=5683.5276, Valid Loss=4814.6221, Valid R2=0.0097, Valid MAE=52.1370]\n",
      "Epoch 15: 100%|██████████| 44/44 [00:02<00:00, 20.30it/s, Train Loss=5675.7303, Valid Loss=4871.2134, Valid R2=-0.0019, Valid MAE=53.5778]\n",
      "Epoch 16: 100%|██████████| 44/44 [00:02<00:00, 19.72it/s, Train Loss=5605.4012, Valid Loss=4727.4795, Valid R2=0.0277, Valid MAE=50.9519]\n",
      "Epoch 17: 100%|██████████| 44/44 [00:02<00:00, 19.55it/s, Train Loss=5543.4693, Valid Loss=4906.8511, Valid R2=-0.0092, Valid MAE=53.0751]\n",
      "Epoch 18: 100%|██████████| 44/44 [00:02<00:00, 19.79it/s, Train Loss=5376.0123, Valid Loss=4787.8296, Valid R2=0.0153, Valid MAE=53.1135]\n",
      "Epoch 19: 100%|██████████| 44/44 [00:02<00:00, 20.19it/s, Train Loss=5412.0597, Valid Loss=4622.5850, Valid R2=0.0492, Valid MAE=50.6768]\n",
      "Epoch 20: 100%|██████████| 44/44 [00:02<00:00, 19.83it/s, Train Loss=5071.3804, Valid Loss=4852.9868, Valid R2=0.0019, Valid MAE=50.0132]\n",
      "Epoch 21: 100%|██████████| 44/44 [00:02<00:00, 20.28it/s, Train Loss=5076.6611, Valid Loss=4787.3765, Valid R2=0.0153, Valid MAE=50.9740]\n",
      "Epoch 22: 100%|██████████| 44/44 [00:02<00:00, 19.49it/s, Train Loss=4923.3460, Valid Loss=4778.6089, Valid R2=0.0172, Valid MAE=52.2336]\n",
      "Epoch 23: 100%|██████████| 44/44 [00:02<00:00, 19.38it/s, Train Loss=4887.1994, Valid Loss=4798.7295, Valid R2=0.0130, Valid MAE=50.5886]\n",
      "Epoch 24: 100%|██████████| 44/44 [00:02<00:00, 19.72it/s, Train Loss=4673.0025, Valid Loss=5049.8062, Valid R2=-0.0386, Valid MAE=50.1989]\n",
      "Epoch 25: 100%|██████████| 44/44 [00:02<00:00, 20.38it/s, Train Loss=4765.3177, Valid Loss=4984.4502, Valid R2=-0.0252, Valid MAE=53.7887]\n"
     ]
    },
    {
     "name": "stdout",
     "output_type": "stream",
     "text": [
      "Early Stopped\n",
      "Setting  10 of Parameters Grid is now on progres.\n"
     ]
    },
    {
     "name": "stderr",
     "output_type": "stream",
     "text": [
      "Epoch  0: 100%|██████████| 44/44 [00:02<00:00, 21.39it/s, Train Loss=15162.2561, Valid Loss=12016.1328, Valid R2=-1.4714, Valid MAE=84.5816]\n",
      "Epoch  1: 100%|██████████| 44/44 [00:02<00:00, 21.36it/s, Train Loss=13605.7995, Valid Loss=9812.7578, Valid R2=-1.0183, Valid MAE=71.2005]\n",
      "Epoch  2: 100%|██████████| 44/44 [00:02<00:00, 21.10it/s, Train Loss=10723.3472, Valid Loss=7101.6836, Valid R2=-0.4606, Valid MAE=56.4084]\n",
      "Epoch  3: 100%|██████████| 44/44 [00:02<00:00, 20.33it/s, Train Loss=7710.4832, Valid Loss=5104.8462, Valid R2=-0.0499, Valid MAE=49.5499]\n",
      "Epoch  4: 100%|██████████| 44/44 [00:02<00:00, 20.67it/s, Train Loss=6062.6988, Valid Loss=4897.4141, Valid R2=-0.0073, Valid MAE=52.7780]\n",
      "Epoch  5: 100%|██████████| 44/44 [00:02<00:00, 19.84it/s, Train Loss=5990.7598, Valid Loss=4923.1509, Valid R2=-0.0126, Valid MAE=53.3789]\n",
      "Epoch  6: 100%|██████████| 44/44 [00:02<00:00, 20.45it/s, Train Loss=6020.4675, Valid Loss=4905.9590, Valid R2=-0.0090, Valid MAE=52.9682]\n",
      "Epoch  7: 100%|██████████| 44/44 [00:02<00:00, 20.75it/s, Train Loss=5882.3484, Valid Loss=4924.1489, Valid R2=-0.0128, Valid MAE=53.4152]\n",
      "Epoch  8: 100%|██████████| 44/44 [00:02<00:00, 21.77it/s, Train Loss=5988.9745, Valid Loss=4895.1807, Valid R2=-0.0068, Valid MAE=52.7887]\n",
      "Epoch  9: 100%|██████████| 44/44 [00:02<00:00, 20.52it/s, Train Loss=5930.0903, Valid Loss=4915.4233, Valid R2=-0.0110, Valid MAE=53.2846]\n",
      "Epoch 10: 100%|██████████| 44/44 [00:02<00:00, 20.42it/s, Train Loss=5863.6508, Valid Loss=4931.0581, Valid R2=-0.0142, Valid MAE=54.0676]\n",
      "Epoch 11: 100%|██████████| 44/44 [00:02<00:00, 20.59it/s, Train Loss=5783.0662, Valid Loss=4873.9321, Valid R2=-0.0025, Valid MAE=53.6621]\n",
      "Epoch 12: 100%|██████████| 44/44 [00:02<00:00, 20.86it/s, Train Loss=5697.3629, Valid Loss=4622.4775, Valid R2=0.0493, Valid MAE=51.1599]\n",
      "Epoch 13: 100%|██████████| 44/44 [00:02<00:00, 20.51it/s, Train Loss=5484.3760, Valid Loss=4696.9526, Valid R2=0.0339, Valid MAE=53.3586]\n",
      "Epoch 14: 100%|██████████| 44/44 [00:02<00:00, 21.67it/s, Train Loss=5237.4423, Valid Loss=4468.7769, Valid R2=0.0809, Valid MAE=51.3591]\n",
      "Epoch 15: 100%|██████████| 44/44 [00:02<00:00, 21.48it/s, Train Loss=4927.5039, Valid Loss=4309.6479, Valid R2=0.1136, Valid MAE=49.6153]\n",
      "Epoch 16: 100%|██████████| 44/44 [00:02<00:00, 20.60it/s, Train Loss=4812.8149, Valid Loss=4170.8057, Valid R2=0.1422, Valid MAE=49.6613]\n",
      "Epoch 17: 100%|██████████| 44/44 [00:02<00:00, 20.84it/s, Train Loss=4715.8115, Valid Loss=4087.2573, Valid R2=0.1593, Valid MAE=48.4193]\n",
      "Epoch 18: 100%|██████████| 44/44 [00:02<00:00, 20.89it/s, Train Loss=4448.4431, Valid Loss=4068.1494, Valid R2=0.1633, Valid MAE=48.1199]\n",
      "Epoch 19: 100%|██████████| 44/44 [00:02<00:00, 20.35it/s, Train Loss=4294.8256, Valid Loss=4254.1191, Valid R2=0.1250, Valid MAE=52.4082]\n",
      "Epoch 20: 100%|██████████| 44/44 [00:02<00:00, 19.38it/s, Train Loss=4182.5993, Valid Loss=4025.2798, Valid R2=0.1721, Valid MAE=47.9685]\n",
      "Epoch 21: 100%|██████████| 44/44 [00:02<00:00, 19.72it/s, Train Loss=4074.3122, Valid Loss=3895.8538, Valid R2=0.1987, Valid MAE=48.5858]\n",
      "Epoch 22: 100%|██████████| 44/44 [00:02<00:00, 20.07it/s, Train Loss=3971.0727, Valid Loss=3808.1931, Valid R2=0.2167, Valid MAE=48.0007]\n",
      "Epoch 23: 100%|██████████| 44/44 [00:02<00:00, 20.71it/s, Train Loss=3964.6086, Valid Loss=4183.2490, Valid R2=0.1396, Valid MAE=51.4407]\n",
      "Epoch 24: 100%|██████████| 44/44 [00:02<00:00, 20.42it/s, Train Loss=3679.0005, Valid Loss=3926.6555, Valid R2=0.1924, Valid MAE=49.1396]\n",
      "Epoch 25: 100%|██████████| 44/44 [00:02<00:00, 20.53it/s, Train Loss=3710.9860, Valid Loss=3861.4902, Valid R2=0.2058, Valid MAE=48.3282]\n",
      "Epoch 26: 100%|██████████| 44/44 [00:02<00:00, 20.65it/s, Train Loss=3571.7789, Valid Loss=4727.2012, Valid R2=0.0277, Valid MAE=56.1025]\n",
      "Epoch 27: 100%|██████████| 44/44 [00:02<00:00, 20.31it/s, Train Loss=3327.0559, Valid Loss=4304.2974, Valid R2=0.1147, Valid MAE=52.4777]\n",
      "Epoch 28: 100%|██████████| 44/44 [00:02<00:00, 19.94it/s, Train Loss=3555.9322, Valid Loss=4222.8218, Valid R2=0.1315, Valid MAE=51.5155]\n"
     ]
    },
    {
     "name": "stdout",
     "output_type": "stream",
     "text": [
      "Early Stopped\n",
      "Setting  11 of Parameters Grid is now on progres.\n"
     ]
    },
    {
     "name": "stderr",
     "output_type": "stream",
     "text": [
      "Epoch  0: 100%|██████████| 44/44 [00:02<00:00, 20.87it/s, Train Loss=15375.4441, Valid Loss=12495.2646, Valid R2=-1.5700, Valid MAE=87.3686]\n",
      "Epoch  1: 100%|██████████| 44/44 [00:02<00:00, 20.65it/s, Train Loss=14670.7777, Valid Loss=11309.5029, Valid R2=-1.3261, Valid MAE=80.3284]\n",
      "Epoch  2: 100%|██████████| 44/44 [00:02<00:00, 20.95it/s, Train Loss=12992.2444, Valid Loss=9253.8125, Valid R2=-0.9033, Valid MAE=67.8192]\n",
      "Epoch  3: 100%|██████████| 44/44 [00:02<00:00, 20.74it/s, Train Loss=10826.1828, Valid Loss=7364.4321, Valid R2=-0.5147, Valid MAE=57.7027]\n",
      "Epoch  4: 100%|██████████| 44/44 [00:02<00:00, 20.71it/s, Train Loss=8592.9678, Valid Loss=5427.9312, Valid R2=-0.1164, Valid MAE=49.6930]\n",
      "Epoch  5: 100%|██████████| 44/44 [00:02<00:00, 20.81it/s, Train Loss=6463.7302, Valid Loss=4869.4966, Valid R2=-0.0015, Valid MAE=51.9138]\n",
      "Epoch  6: 100%|██████████| 44/44 [00:02<00:00, 20.02it/s, Train Loss=5982.3131, Valid Loss=4932.7666, Valid R2=-0.0146, Valid MAE=53.5638]\n",
      "Epoch  7: 100%|██████████| 44/44 [00:02<00:00, 20.60it/s, Train Loss=5988.2246, Valid Loss=4957.0327, Valid R2=-0.0195, Valid MAE=54.0398]\n",
      "Epoch  8: 100%|██████████| 44/44 [00:02<00:00, 20.11it/s, Train Loss=6039.8872, Valid Loss=4937.1768, Valid R2=-0.0155, Valid MAE=53.6709]\n",
      "Epoch  9: 100%|██████████| 44/44 [00:02<00:00, 21.04it/s, Train Loss=5941.2957, Valid Loss=4955.1797, Valid R2=-0.0192, Valid MAE=54.0311]\n",
      "Epoch 10: 100%|██████████| 44/44 [00:02<00:00, 20.33it/s, Train Loss=6044.5161, Valid Loss=4946.0288, Valid R2=-0.0173, Valid MAE=53.8425]\n",
      "Epoch 11: 100%|██████████| 44/44 [00:02<00:00, 18.74it/s, Train Loss=5871.9047, Valid Loss=4981.0161, Valid R2=-0.0245, Valid MAE=54.4576]\n"
     ]
    },
    {
     "name": "stdout",
     "output_type": "stream",
     "text": [
      "Early Stopped\n",
      "Setting  12 of Parameters Grid is now on progres.\n"
     ]
    },
    {
     "name": "stderr",
     "output_type": "stream",
     "text": [
      "Epoch  0: 100%|██████████| 44/44 [00:02<00:00, 19.55it/s, Train Loss=15328.8426, Valid Loss=12245.0146, Valid R2=-1.5185, Valid MAE=85.9248]\n",
      "Epoch  1: 100%|██████████| 44/44 [00:02<00:00, 20.20it/s, Train Loss=14151.2330, Valid Loss=10605.5811, Valid R2=-1.1813, Valid MAE=76.0009]\n",
      "Epoch  2: 100%|██████████| 44/44 [00:02<00:00, 20.65it/s, Train Loss=11187.0238, Valid Loss=6278.7129, Valid R2=-0.2914, Valid MAE=52.5968]\n",
      "Epoch  3: 100%|██████████| 44/44 [00:02<00:00, 20.65it/s, Train Loss=6351.8044, Valid Loss=5027.4985, Valid R2=-0.0340, Valid MAE=54.9546]\n",
      "Epoch  4: 100%|██████████| 44/44 [00:02<00:00, 20.63it/s, Train Loss=5916.4157, Valid Loss=4898.2598, Valid R2=-0.0075, Valid MAE=52.5158]\n",
      "Epoch  5: 100%|██████████| 44/44 [00:02<00:00, 20.91it/s, Train Loss=5918.1048, Valid Loss=4943.5435, Valid R2=-0.0168, Valid MAE=53.6510]\n",
      "Epoch  6: 100%|██████████| 44/44 [00:02<00:00, 20.59it/s, Train Loss=5889.1472, Valid Loss=4907.6230, Valid R2=-0.0094, Valid MAE=52.9097]\n",
      "Epoch  7: 100%|██████████| 44/44 [00:02<00:00, 20.79it/s, Train Loss=5916.8427, Valid Loss=4950.3242, Valid R2=-0.0182, Valid MAE=53.8716]\n",
      "Epoch  8: 100%|██████████| 44/44 [00:01<00:00, 22.39it/s, Train Loss=5830.0031, Valid Loss=4931.6699, Valid R2=-0.0143, Valid MAE=53.5324]\n",
      "Epoch  9: 100%|██████████| 44/44 [00:01<00:00, 22.75it/s, Train Loss=5826.4887, Valid Loss=4915.2915, Valid R2=-0.0110, Valid MAE=53.2500]\n",
      "Epoch 10: 100%|██████████| 44/44 [00:01<00:00, 22.07it/s, Train Loss=5900.9676, Valid Loss=4989.5869, Valid R2=-0.0262, Valid MAE=54.6305]\n"
     ]
    },
    {
     "name": "stdout",
     "output_type": "stream",
     "text": [
      "Early Stopped\n",
      "Setting  13 of Parameters Grid is now on progres.\n"
     ]
    },
    {
     "name": "stderr",
     "output_type": "stream",
     "text": [
      "Epoch  0: 100%|██████████| 44/44 [00:02<00:00, 21.19it/s, Train Loss=15243.0517, Valid Loss=12111.8564, Valid R2=-1.4911, Valid MAE=85.1461]\n",
      "Epoch  1: 100%|██████████| 44/44 [00:02<00:00, 21.06it/s, Train Loss=13680.0804, Valid Loss=9752.5098, Valid R2=-1.0059, Valid MAE=70.8409]\n",
      "Epoch  2: 100%|██████████| 44/44 [00:02<00:00, 20.78it/s, Train Loss=10276.7655, Valid Loss=6019.9175, Valid R2=-0.2382, Valid MAE=51.6210]\n",
      "Epoch  3: 100%|██████████| 44/44 [00:02<00:00, 20.39it/s, Train Loss=6541.4799, Valid Loss=4965.0244, Valid R2=-0.0212, Valid MAE=54.1788]\n",
      "Epoch  4: 100%|██████████| 44/44 [00:02<00:00, 20.54it/s, Train Loss=5911.7786, Valid Loss=4895.4980, Valid R2=-0.0069, Valid MAE=52.8428]\n",
      "Epoch  5: 100%|██████████| 44/44 [00:02<00:00, 21.00it/s, Train Loss=5872.9192, Valid Loss=4915.0576, Valid R2=-0.0109, Valid MAE=53.4808]\n",
      "Epoch  6: 100%|██████████| 44/44 [00:02<00:00, 20.92it/s, Train Loss=5846.2101, Valid Loss=4872.3389, Valid R2=-0.0021, Valid MAE=52.6948]\n",
      "Epoch  7: 100%|██████████| 44/44 [00:02<00:00, 21.66it/s, Train Loss=5849.5907, Valid Loss=4834.6523, Valid R2=0.0056, Valid MAE=52.2708]\n",
      "Epoch  8: 100%|██████████| 44/44 [00:02<00:00, 21.03it/s, Train Loss=5931.3929, Valid Loss=4859.5610, Valid R2=0.0005, Valid MAE=52.8511]\n",
      "Epoch  9: 100%|██████████| 44/44 [00:02<00:00, 20.95it/s, Train Loss=5842.9389, Valid Loss=4801.8931, Valid R2=0.0124, Valid MAE=51.6559]\n",
      "Epoch 10: 100%|██████████| 44/44 [00:02<00:00, 20.83it/s, Train Loss=5760.1854, Valid Loss=4745.3828, Valid R2=0.0240, Valid MAE=51.0747]\n",
      "Epoch 11: 100%|██████████| 44/44 [00:02<00:00, 20.34it/s, Train Loss=5377.5871, Valid Loss=4602.5947, Valid R2=0.0534, Valid MAE=51.2541]\n",
      "Epoch 12: 100%|██████████| 44/44 [00:02<00:00, 19.81it/s, Train Loss=5093.6176, Valid Loss=4605.5215, Valid R2=0.0528, Valid MAE=53.2376]\n",
      "Epoch 13: 100%|██████████| 44/44 [00:02<00:00, 20.43it/s, Train Loss=4908.4161, Valid Loss=4105.5991, Valid R2=0.1556, Valid MAE=46.8894]\n",
      "Epoch 14: 100%|██████████| 44/44 [00:02<00:00, 20.17it/s, Train Loss=4657.1618, Valid Loss=4124.9629, Valid R2=0.1516, Valid MAE=46.1986]\n",
      "Epoch 15: 100%|██████████| 44/44 [00:02<00:00, 20.81it/s, Train Loss=4527.1031, Valid Loss=4080.2810, Valid R2=0.1608, Valid MAE=48.9938]\n",
      "Epoch 16: 100%|██████████| 44/44 [00:02<00:00, 20.36it/s, Train Loss=4144.4060, Valid Loss=4745.8784, Valid R2=0.0239, Valid MAE=56.5674]\n",
      "Epoch 17: 100%|██████████| 44/44 [00:02<00:00, 20.13it/s, Train Loss=4413.4604, Valid Loss=3920.5408, Valid R2=0.1936, Valid MAE=46.7487]\n",
      "Epoch 18: 100%|██████████| 44/44 [00:02<00:00, 20.00it/s, Train Loss=3955.0715, Valid Loss=3945.7219, Valid R2=0.1885, Valid MAE=47.7908]\n",
      "Epoch 19: 100%|██████████| 44/44 [00:02<00:00, 21.17it/s, Train Loss=4002.6122, Valid Loss=3914.9019, Valid R2=0.1948, Valid MAE=45.5244]\n",
      "Epoch 20: 100%|██████████| 44/44 [00:02<00:00, 20.78it/s, Train Loss=3622.7582, Valid Loss=3997.9792, Valid R2=0.1777, Valid MAE=48.2177]\n",
      "Epoch 21: 100%|██████████| 44/44 [00:02<00:00, 20.93it/s, Train Loss=3291.1792, Valid Loss=4031.8689, Valid R2=0.1707, Valid MAE=49.6782]\n",
      "Epoch 22: 100%|██████████| 44/44 [00:02<00:00, 20.32it/s, Train Loss=3229.0293, Valid Loss=4019.6511, Valid R2=0.1733, Valid MAE=48.7989]\n",
      "Epoch 23: 100%|██████████| 44/44 [00:02<00:00, 21.01it/s, Train Loss=3095.0175, Valid Loss=3913.8616, Valid R2=0.1950, Valid MAE=46.5523]\n",
      "Epoch 24: 100%|██████████| 44/44 [00:02<00:00, 20.13it/s, Train Loss=3075.5245, Valid Loss=3828.2493, Valid R2=0.2126, Valid MAE=47.7088]\n",
      "Epoch 25: 100%|██████████| 44/44 [00:02<00:00, 21.59it/s, Train Loss=2853.0223, Valid Loss=3691.1655, Valid R2=0.2408, Valid MAE=46.2325]\n",
      "Epoch 26: 100%|██████████| 44/44 [00:02<00:00, 21.36it/s, Train Loss=2645.1132, Valid Loss=3818.9321, Valid R2=0.2145, Valid MAE=47.9215]\n",
      "Epoch 27: 100%|██████████| 44/44 [00:02<00:00, 20.18it/s, Train Loss=2480.6796, Valid Loss=3658.9980, Valid R2=0.2474, Valid MAE=45.8712]\n",
      "Epoch 28: 100%|██████████| 44/44 [00:02<00:00, 19.16it/s, Train Loss=2348.2554, Valid Loss=3971.7705, Valid R2=0.1831, Valid MAE=49.7159]\n",
      "Epoch 29: 100%|██████████| 44/44 [00:02<00:00, 19.81it/s, Train Loss=2331.6698, Valid Loss=3768.3193, Valid R2=0.2249, Valid MAE=47.7676]\n",
      "Epoch 30: 100%|██████████| 44/44 [00:02<00:00, 20.64it/s, Train Loss=2160.9619, Valid Loss=3731.2627, Valid R2=0.2326, Valid MAE=47.8905]\n",
      "Epoch 31: 100%|██████████| 44/44 [00:02<00:00, 20.29it/s, Train Loss=2111.1136, Valid Loss=4012.2834, Valid R2=0.1748, Valid MAE=48.8038]\n",
      "Epoch 32: 100%|██████████| 44/44 [00:02<00:00, 19.63it/s, Train Loss=2189.8623, Valid Loss=3683.4102, Valid R2=0.2424, Valid MAE=46.8041]\n",
      "Epoch 33: 100%|██████████| 44/44 [00:02<00:00, 20.20it/s, Train Loss=2067.2730, Valid Loss=4071.4604, Valid R2=0.1626, Valid MAE=50.7269]\n"
     ]
    },
    {
     "name": "stdout",
     "output_type": "stream",
     "text": [
      "Early Stopped\n",
      "Setting  14 of Parameters Grid is now on progres.\n"
     ]
    },
    {
     "name": "stderr",
     "output_type": "stream",
     "text": [
      "Epoch  0: 100%|██████████| 44/44 [00:02<00:00, 19.40it/s, Train Loss=15223.9852, Valid Loss=12111.6680, Valid R2=-1.4911, Valid MAE=85.1384]\n",
      "Epoch  1: 100%|██████████| 44/44 [00:02<00:00, 20.20it/s, Train Loss=13640.1644, Valid Loss=9895.8711, Valid R2=-1.0353, Valid MAE=71.7107]\n",
      "Epoch  2: 100%|██████████| 44/44 [00:02<00:00, 20.55it/s, Train Loss=11298.4632, Valid Loss=8125.1763, Valid R2=-0.6712, Valid MAE=61.5195]\n",
      "Epoch  3: 100%|██████████| 44/44 [00:02<00:00, 20.78it/s, Train Loss=9622.3668, Valid Loss=7039.9360, Valid R2=-0.4479, Valid MAE=56.1045]\n",
      "Epoch  4: 100%|██████████| 44/44 [00:02<00:00, 20.38it/s, Train Loss=8524.6772, Valid Loss=6311.3315, Valid R2=-0.2981, Valid MAE=52.7910]\n",
      "Epoch  5: 100%|██████████| 44/44 [00:02<00:00, 19.99it/s, Train Loss=7727.2923, Valid Loss=5813.6436, Valid R2=-0.1957, Valid MAE=50.8670]\n",
      "Epoch  6: 100%|██████████| 44/44 [00:02<00:00, 20.70it/s, Train Loss=7165.0144, Valid Loss=5459.6187, Valid R2=-0.1229, Valid MAE=49.7909]\n",
      "Epoch  7: 100%|██████████| 44/44 [00:01<00:00, 22.80it/s, Train Loss=6713.4224, Valid Loss=5127.8120, Valid R2=-0.0547, Valid MAE=49.5363]\n",
      "Epoch  8: 100%|██████████| 44/44 [00:01<00:00, 22.56it/s, Train Loss=6106.2503, Valid Loss=4889.9658, Valid R2=-0.0058, Valid MAE=52.5520]\n",
      "Epoch  9: 100%|██████████| 44/44 [00:02<00:00, 21.58it/s, Train Loss=5771.1793, Valid Loss=4962.3652, Valid R2=-0.0206, Valid MAE=54.1268]\n",
      "Epoch 10: 100%|██████████| 44/44 [00:02<00:00, 21.49it/s, Train Loss=5894.7673, Valid Loss=4912.6733, Valid R2=-0.0104, Valid MAE=53.1842]\n",
      "Epoch 11: 100%|██████████| 44/44 [00:02<00:00, 20.22it/s, Train Loss=5750.7789, Valid Loss=4897.1587, Valid R2=-0.0072, Valid MAE=53.0274]\n",
      "Epoch 12: 100%|██████████| 44/44 [00:02<00:00, 18.65it/s, Train Loss=5752.2652, Valid Loss=4925.5693, Valid R2=-0.0131, Valid MAE=53.3357]\n",
      "Epoch 13: 100%|██████████| 44/44 [00:02<00:00, 19.71it/s, Train Loss=5751.7480, Valid Loss=4962.0483, Valid R2=-0.0206, Valid MAE=53.9540]\n",
      "Epoch 14: 100%|██████████| 44/44 [00:02<00:00, 20.23it/s, Train Loss=5621.4112, Valid Loss=4901.5757, Valid R2=-0.0081, Valid MAE=53.2248]\n"
     ]
    },
    {
     "name": "stdout",
     "output_type": "stream",
     "text": [
      "Early Stopped\n",
      "Setting  15 of Parameters Grid is now on progres.\n"
     ]
    },
    {
     "name": "stderr",
     "output_type": "stream",
     "text": [
      "Epoch  0: 100%|██████████| 44/44 [00:02<00:00, 20.85it/s, Train Loss=15072.0526, Valid Loss=11683.0469, Valid R2=-1.4029, Valid MAE=82.5896]\n",
      "Epoch  1: 100%|██████████| 44/44 [00:02<00:00, 20.60it/s, Train Loss=12631.1263, Valid Loss=8103.2012, Valid R2=-0.6666, Valid MAE=61.4357]\n",
      "Epoch  2: 100%|██████████| 44/44 [00:02<00:00, 20.89it/s, Train Loss=7269.1361, Valid Loss=4992.0215, Valid R2=-0.0267, Valid MAE=54.7161]\n",
      "Epoch  3: 100%|██████████| 44/44 [00:02<00:00, 19.37it/s, Train Loss=5937.9841, Valid Loss=4861.2402, Valid R2=0.0002, Valid MAE=52.2355]\n",
      "Epoch  4: 100%|██████████| 44/44 [00:02<00:00, 19.07it/s, Train Loss=5880.7349, Valid Loss=4873.8164, Valid R2=-0.0024, Valid MAE=52.6835]\n",
      "Epoch  5: 100%|██████████| 44/44 [00:02<00:00, 20.32it/s, Train Loss=5909.7445, Valid Loss=4851.0366, Valid R2=0.0023, Valid MAE=52.2694]\n",
      "Epoch  6: 100%|██████████| 44/44 [00:02<00:00, 20.86it/s, Train Loss=5719.8357, Valid Loss=4893.1787, Valid R2=-0.0064, Valid MAE=53.3411]\n",
      "Epoch  7: 100%|██████████| 44/44 [00:02<00:00, 20.78it/s, Train Loss=5831.2714, Valid Loss=4864.0986, Valid R2=-0.0004, Valid MAE=52.4442]\n",
      "Epoch  8: 100%|██████████| 44/44 [00:02<00:00, 21.13it/s, Train Loss=5814.6350, Valid Loss=4847.8086, Valid R2=0.0029, Valid MAE=52.7660]\n",
      "Epoch  9: 100%|██████████| 44/44 [00:02<00:00, 20.14it/s, Train Loss=5781.6898, Valid Loss=4748.3838, Valid R2=0.0234, Valid MAE=51.3466]\n",
      "Epoch 10: 100%|██████████| 44/44 [00:02<00:00, 19.82it/s, Train Loss=5596.9867, Valid Loss=4639.5015, Valid R2=0.0458, Valid MAE=51.0129]\n",
      "Epoch 11: 100%|██████████| 44/44 [00:02<00:00, 18.85it/s, Train Loss=5313.5544, Valid Loss=4602.8647, Valid R2=0.0533, Valid MAE=51.7498]\n",
      "Epoch 12: 100%|██████████| 44/44 [00:02<00:00, 20.42it/s, Train Loss=5292.2969, Valid Loss=4472.0786, Valid R2=0.0802, Valid MAE=51.5822]\n",
      "Epoch 13: 100%|██████████| 44/44 [00:02<00:00, 19.94it/s, Train Loss=4981.8778, Valid Loss=4287.6567, Valid R2=0.1181, Valid MAE=49.8055]\n",
      "Epoch 14: 100%|██████████| 44/44 [00:02<00:00, 19.76it/s, Train Loss=4916.6633, Valid Loss=4247.0659, Valid R2=0.1265, Valid MAE=48.4122]\n",
      "Epoch 15: 100%|██████████| 44/44 [00:02<00:00, 20.26it/s, Train Loss=4800.2101, Valid Loss=3892.0303, Valid R2=0.1995, Valid MAE=48.9444]\n",
      "Epoch 16: 100%|██████████| 44/44 [00:02<00:00, 19.96it/s, Train Loss=4516.1077, Valid Loss=3891.6431, Valid R2=0.1996, Valid MAE=46.3378]\n",
      "Epoch 17: 100%|██████████| 44/44 [00:02<00:00, 20.53it/s, Train Loss=4323.0054, Valid Loss=3785.7305, Valid R2=0.2214, Valid MAE=46.2198]\n",
      "Epoch 18: 100%|██████████| 44/44 [00:02<00:00, 19.26it/s, Train Loss=4107.5729, Valid Loss=3873.0469, Valid R2=0.2034, Valid MAE=48.1593]\n",
      "Epoch 19: 100%|██████████| 44/44 [00:02<00:00, 18.77it/s, Train Loss=4116.1232, Valid Loss=3692.2051, Valid R2=0.2406, Valid MAE=46.9974]\n",
      "Epoch 20: 100%|██████████| 44/44 [00:02<00:00, 19.74it/s, Train Loss=4039.3584, Valid Loss=3612.3987, Valid R2=0.2570, Valid MAE=47.6929]\n",
      "Epoch 21: 100%|██████████| 44/44 [00:02<00:00, 19.38it/s, Train Loss=3815.6236, Valid Loss=4101.1289, Valid R2=0.1565, Valid MAE=51.8712]\n",
      "Epoch 22: 100%|██████████| 44/44 [00:02<00:00, 20.46it/s, Train Loss=3577.5400, Valid Loss=3367.4785, Valid R2=0.3074, Valid MAE=44.5196]\n",
      "Epoch 23: 100%|██████████| 44/44 [00:02<00:00, 20.16it/s, Train Loss=3556.7399, Valid Loss=3401.5908, Valid R2=0.3004, Valid MAE=46.1137]\n",
      "Epoch 24: 100%|██████████| 44/44 [00:02<00:00, 20.26it/s, Train Loss=3331.7425, Valid Loss=4083.8755, Valid R2=0.1600, Valid MAE=52.4024]\n",
      "Epoch 25: 100%|██████████| 44/44 [00:02<00:00, 20.57it/s, Train Loss=3334.0794, Valid Loss=3491.1528, Valid R2=0.2820, Valid MAE=46.0172]\n",
      "Epoch 26: 100%|██████████| 44/44 [00:02<00:00, 19.13it/s, Train Loss=3182.7418, Valid Loss=3118.1714, Valid R2=0.3587, Valid MAE=41.8834]\n",
      "Epoch 27: 100%|██████████| 44/44 [00:02<00:00, 19.33it/s, Train Loss=3036.2227, Valid Loss=3435.7275, Valid R2=0.2934, Valid MAE=46.8445]\n",
      "Epoch 28: 100%|██████████| 44/44 [00:02<00:00, 20.56it/s, Train Loss=3030.9732, Valid Loss=2933.5718, Valid R2=0.3966, Valid MAE=40.2059]\n",
      "Epoch 29: 100%|██████████| 44/44 [00:02<00:00, 19.89it/s, Train Loss=2955.3113, Valid Loss=2983.1396, Valid R2=0.3864, Valid MAE=42.1630]\n",
      "Epoch 30: 100%|██████████| 44/44 [00:02<00:00, 19.40it/s, Train Loss=3048.4986, Valid Loss=3418.6926, Valid R2=0.2969, Valid MAE=47.1887]\n",
      "Epoch 31: 100%|██████████| 44/44 [00:02<00:00, 19.74it/s, Train Loss=3092.1647, Valid Loss=3494.6743, Valid R2=0.2812, Valid MAE=48.6049]\n",
      "Epoch 32: 100%|██████████| 44/44 [00:02<00:00, 20.20it/s, Train Loss=2778.1939, Valid Loss=3674.1177, Valid R2=0.2443, Valid MAE=49.2975]\n",
      "Epoch 33: 100%|██████████| 44/44 [00:02<00:00, 20.22it/s, Train Loss=2777.5298, Valid Loss=3163.8733, Valid R2=0.3493, Valid MAE=44.4539]\n",
      "Epoch 34: 100%|██████████| 44/44 [00:02<00:00, 19.51it/s, Train Loss=2674.0791, Valid Loss=3656.8918, Valid R2=0.2479, Valid MAE=48.6918]\n"
     ]
    },
    {
     "name": "stdout",
     "output_type": "stream",
     "text": [
      "Early Stopped\n",
      "Setting  16 of Parameters Grid is now on progres.\n"
     ]
    },
    {
     "name": "stderr",
     "output_type": "stream",
     "text": [
      "Epoch  0: 100%|██████████| 44/44 [00:02<00:00, 20.55it/s, Train Loss=15179.5252, Valid Loss=11930.3027, Valid R2=-1.4538, Valid MAE=84.0732]\n",
      "Epoch  1: 100%|██████████| 44/44 [00:02<00:00, 19.94it/s, Train Loss=13235.2431, Valid Loss=9195.2500, Valid R2=-0.8912, Valid MAE=67.4692]\n",
      "Epoch  2: 100%|██████████| 44/44 [00:02<00:00, 20.22it/s, Train Loss=9449.8985, Valid Loss=5687.1035, Valid R2=-0.1697, Valid MAE=50.4374]\n",
      "Epoch  3: 100%|██████████| 44/44 [00:02<00:00, 19.80it/s, Train Loss=6307.5362, Valid Loss=5008.2886, Valid R2=-0.0301, Valid MAE=53.3263]\n",
      "Epoch  4: 100%|██████████| 44/44 [00:02<00:00, 20.01it/s, Train Loss=5951.3861, Valid Loss=4963.9194, Valid R2=-0.0210, Valid MAE=53.6499]\n",
      "Epoch  5: 100%|██████████| 44/44 [00:02<00:00, 19.59it/s, Train Loss=5799.8145, Valid Loss=5142.8438, Valid R2=-0.0578, Valid MAE=56.4483]\n",
      "Epoch  6: 100%|██████████| 44/44 [00:02<00:00, 20.15it/s, Train Loss=5744.7621, Valid Loss=4978.8262, Valid R2=-0.0240, Valid MAE=53.3829]\n",
      "Epoch  7: 100%|██████████| 44/44 [00:02<00:00, 19.08it/s, Train Loss=5547.1409, Valid Loss=4955.0576, Valid R2=-0.0191, Valid MAE=53.6655]\n",
      "Epoch  8: 100%|██████████| 44/44 [00:02<00:00, 19.96it/s, Train Loss=5441.7914, Valid Loss=4878.5435, Valid R2=-0.0034, Valid MAE=52.9508]\n",
      "Epoch  9: 100%|██████████| 44/44 [00:02<00:00, 20.51it/s, Train Loss=5394.1949, Valid Loss=5090.3096, Valid R2=-0.0470, Valid MAE=53.6740]\n",
      "Epoch 10: 100%|██████████| 44/44 [00:02<00:00, 20.59it/s, Train Loss=5159.4620, Valid Loss=5101.5693, Valid R2=-0.0493, Valid MAE=55.1915]\n",
      "Epoch 11: 100%|██████████| 44/44 [00:02<00:00, 21.66it/s, Train Loss=4877.1502, Valid Loss=4897.3623, Valid R2=-0.0073, Valid MAE=51.7904]\n",
      "Epoch 12: 100%|██████████| 44/44 [00:02<00:00, 21.25it/s, Train Loss=4870.5213, Valid Loss=5219.8804, Valid R2=-0.0736, Valid MAE=54.8040]\n",
      "Epoch 13: 100%|██████████| 44/44 [00:02<00:00, 20.97it/s, Train Loss=4698.5104, Valid Loss=4882.4839, Valid R2=-0.0042, Valid MAE=51.7634]\n",
      "Epoch 14: 100%|██████████| 44/44 [00:02<00:00, 20.76it/s, Train Loss=4603.7563, Valid Loss=5400.8130, Valid R2=-0.1108, Valid MAE=57.2207]\n"
     ]
    },
    {
     "name": "stdout",
     "output_type": "stream",
     "text": [
      "Early Stopped\n",
      "Setting  17 of Parameters Grid is now on progres.\n"
     ]
    },
    {
     "name": "stderr",
     "output_type": "stream",
     "text": [
      "Epoch  0: 100%|██████████| 44/44 [00:02<00:00, 20.66it/s, Train Loss=15087.6326, Valid Loss=11751.4834, Valid R2=-1.4170, Valid MAE=82.9990]\n",
      "Epoch  1: 100%|██████████| 44/44 [00:02<00:00, 20.80it/s, Train Loss=12992.2767, Valid Loss=9000.5234, Valid R2=-0.8512, Valid MAE=66.3227]\n",
      "Epoch  2: 100%|██████████| 44/44 [00:02<00:00, 20.30it/s, Train Loss=9540.5476, Valid Loss=5543.7163, Valid R2=-0.1402, Valid MAE=50.0472]\n",
      "Epoch  3: 100%|██████████| 44/44 [00:02<00:00, 20.46it/s, Train Loss=6177.3806, Valid Loss=4789.3506, Valid R2=0.0149, Valid MAE=51.1912]\n",
      "Epoch  4: 100%|██████████| 44/44 [00:02<00:00, 20.91it/s, Train Loss=5864.3914, Valid Loss=4890.2446, Valid R2=-0.0058, Valid MAE=53.1334]\n",
      "Epoch  5: 100%|██████████| 44/44 [00:02<00:00, 20.12it/s, Train Loss=5795.7955, Valid Loss=4934.9609, Valid R2=-0.0150, Valid MAE=53.6205]\n",
      "Epoch  6: 100%|██████████| 44/44 [00:02<00:00, 20.00it/s, Train Loss=5803.3685, Valid Loss=4972.6738, Valid R2=-0.0228, Valid MAE=53.8838]\n",
      "Epoch  7: 100%|██████████| 44/44 [00:02<00:00, 20.77it/s, Train Loss=5717.9201, Valid Loss=4917.6914, Valid R2=-0.0115, Valid MAE=54.0281]\n",
      "Epoch  8: 100%|██████████| 44/44 [00:02<00:00, 20.77it/s, Train Loss=5628.3201, Valid Loss=4930.6226, Valid R2=-0.0141, Valid MAE=54.2002]\n",
      "Epoch  9: 100%|██████████| 44/44 [00:02<00:00, 20.08it/s, Train Loss=5488.2711, Valid Loss=4917.4404, Valid R2=-0.0114, Valid MAE=54.2440]\n"
     ]
    },
    {
     "name": "stdout",
     "output_type": "stream",
     "text": [
      "Early Stopped\n",
      "Setting  18 of Parameters Grid is now on progres.\n"
     ]
    },
    {
     "name": "stderr",
     "output_type": "stream",
     "text": [
      "Epoch  0: 100%|██████████| 44/44 [00:02<00:00, 20.44it/s, Train Loss=15160.1466, Valid Loss=11855.8174, Valid R2=-1.4385, Valid MAE=83.6291]\n",
      "Epoch  1: 100%|██████████| 44/44 [00:02<00:00, 20.94it/s, Train Loss=13023.7167, Valid Loss=8978.3340, Valid R2=-0.8466, Valid MAE=66.1952]\n",
      "Epoch  2: 100%|██████████| 44/44 [00:02<00:00, 20.60it/s, Train Loss=9725.8879, Valid Loss=6385.0293, Valid R2=-0.3133, Valid MAE=53.0863]\n",
      "Epoch  3: 100%|██████████| 44/44 [00:02<00:00, 20.44it/s, Train Loss=6816.9212, Valid Loss=4869.0938, Valid R2=-0.0015, Valid MAE=51.7946]\n",
      "Epoch  4: 100%|██████████| 44/44 [00:02<00:00, 20.75it/s, Train Loss=5871.5725, Valid Loss=4789.9644, Valid R2=0.0148, Valid MAE=52.2785]\n",
      "Epoch  5: 100%|██████████| 44/44 [00:02<00:00, 20.43it/s, Train Loss=5791.9886, Valid Loss=4734.1074, Valid R2=0.0263, Valid MAE=53.0548]\n",
      "Epoch  6: 100%|██████████| 44/44 [00:02<00:00, 19.81it/s, Train Loss=5556.9347, Valid Loss=4439.8145, Valid R2=0.0868, Valid MAE=50.1917]\n",
      "Epoch  7: 100%|██████████| 44/44 [00:02<00:00, 19.66it/s, Train Loss=5250.5354, Valid Loss=4615.3115, Valid R2=0.0507, Valid MAE=54.0772]\n",
      "Epoch  8: 100%|██████████| 44/44 [00:02<00:00, 19.79it/s, Train Loss=5110.3554, Valid Loss=4251.7812, Valid R2=0.1255, Valid MAE=50.0850]\n",
      "Epoch  9: 100%|██████████| 44/44 [00:02<00:00, 20.06it/s, Train Loss=4809.6509, Valid Loss=4278.1113, Valid R2=0.1201, Valid MAE=51.0594]\n",
      "Epoch 10: 100%|██████████| 44/44 [00:02<00:00, 20.59it/s, Train Loss=4573.6316, Valid Loss=4308.5513, Valid R2=0.1138, Valid MAE=50.7909]\n",
      "Epoch 11: 100%|██████████| 44/44 [00:02<00:00, 20.87it/s, Train Loss=4242.5903, Valid Loss=4158.6455, Valid R2=0.1447, Valid MAE=48.4393]\n",
      "Epoch 12: 100%|██████████| 44/44 [00:02<00:00, 20.77it/s, Train Loss=4096.7833, Valid Loss=4238.6187, Valid R2=0.1282, Valid MAE=49.4472]\n",
      "Epoch 13: 100%|██████████| 44/44 [00:02<00:00, 21.00it/s, Train Loss=3996.8289, Valid Loss=3846.5183, Valid R2=0.2089, Valid MAE=47.1791]\n",
      "Epoch 14: 100%|██████████| 44/44 [00:02<00:00, 20.59it/s, Train Loss=4088.4054, Valid Loss=4653.9038, Valid R2=0.0428, Valid MAE=55.6095]\n",
      "Epoch 15: 100%|██████████| 44/44 [00:02<00:00, 20.86it/s, Train Loss=4026.2384, Valid Loss=4196.6143, Valid R2=0.1369, Valid MAE=49.9352]\n",
      "Epoch 16: 100%|██████████| 44/44 [00:02<00:00, 20.92it/s, Train Loss=3903.6509, Valid Loss=4327.1753, Valid R2=0.1100, Valid MAE=51.7975]\n",
      "Epoch 17: 100%|██████████| 44/44 [00:02<00:00, 20.58it/s, Train Loss=3755.7267, Valid Loss=4329.2358, Valid R2=0.1096, Valid MAE=51.7484]\n",
      "Epoch 18: 100%|██████████| 44/44 [00:02<00:00, 20.89it/s, Train Loss=3707.4524, Valid Loss=4238.3403, Valid R2=0.1283, Valid MAE=49.4423]\n",
      "Epoch 19: 100%|██████████| 44/44 [00:02<00:00, 20.22it/s, Train Loss=3387.7048, Valid Loss=4060.0918, Valid R2=0.1649, Valid MAE=49.1777]\n"
     ]
    },
    {
     "name": "stdout",
     "output_type": "stream",
     "text": [
      "Early Stopped\n",
      "Setting  19 of Parameters Grid is now on progres.\n"
     ]
    },
    {
     "name": "stderr",
     "output_type": "stream",
     "text": [
      "Epoch  0: 100%|██████████| 44/44 [00:02<00:00, 19.72it/s, Train Loss=15262.7669, Valid Loss=12079.1895, Valid R2=-1.4844, Valid MAE=84.9579]\n",
      "Epoch  1: 100%|██████████| 44/44 [00:02<00:00, 19.54it/s, Train Loss=12923.9010, Valid Loss=8467.3154, Valid R2=-0.7415, Valid MAE=63.3787]\n",
      "Epoch  2: 100%|██████████| 44/44 [00:02<00:00, 20.34it/s, Train Loss=8596.0125, Valid Loss=5229.9243, Valid R2=-0.0757, Valid MAE=49.4863]\n",
      "Epoch  3: 100%|██████████| 44/44 [00:02<00:00, 20.09it/s, Train Loss=6043.5870, Valid Loss=4916.6821, Valid R2=-0.0112, Valid MAE=53.3445]\n",
      "Epoch  4: 100%|██████████| 44/44 [00:02<00:00, 19.74it/s, Train Loss=5772.3659, Valid Loss=4866.0659, Valid R2=-0.0008, Valid MAE=52.4289]\n",
      "Epoch  5: 100%|██████████| 44/44 [00:02<00:00, 19.65it/s, Train Loss=5766.5094, Valid Loss=5000.4424, Valid R2=-0.0285, Valid MAE=55.0530]\n",
      "Epoch  6: 100%|██████████| 44/44 [00:02<00:00, 19.59it/s, Train Loss=5798.0127, Valid Loss=4863.5015, Valid R2=-0.0003, Valid MAE=53.2636]\n",
      "Epoch  7: 100%|██████████| 44/44 [00:02<00:00, 20.13it/s, Train Loss=5739.8450, Valid Loss=4786.6616, Valid R2=0.0155, Valid MAE=52.2907]\n",
      "Epoch  8: 100%|██████████| 44/44 [00:02<00:00, 19.68it/s, Train Loss=5529.9834, Valid Loss=4759.7271, Valid R2=0.0210, Valid MAE=49.9887]\n",
      "Epoch  9: 100%|██████████| 44/44 [00:02<00:00, 19.79it/s, Train Loss=5526.9624, Valid Loss=4741.3408, Valid R2=0.0248, Valid MAE=50.5251]\n",
      "Epoch 10: 100%|██████████| 44/44 [00:02<00:00, 19.26it/s, Train Loss=5481.0610, Valid Loss=4866.5923, Valid R2=-0.0009, Valid MAE=54.0557]\n",
      "Epoch 11: 100%|██████████| 44/44 [00:02<00:00, 19.91it/s, Train Loss=5295.7776, Valid Loss=4854.9365, Valid R2=0.0015, Valid MAE=53.6597]\n",
      "Epoch 12: 100%|██████████| 44/44 [00:02<00:00, 19.26it/s, Train Loss=5100.0156, Valid Loss=4933.7876, Valid R2=-0.0148, Valid MAE=54.0586]\n",
      "Epoch 13: 100%|██████████| 44/44 [00:02<00:00, 19.78it/s, Train Loss=4765.9306, Valid Loss=5583.5615, Valid R2=-0.1484, Valid MAE=60.1573]\n",
      "Epoch 14: 100%|██████████| 44/44 [00:02<00:00, 19.20it/s, Train Loss=4726.9372, Valid Loss=5035.2993, Valid R2=-0.0356, Valid MAE=53.7222]\n",
      "Epoch 15: 100%|██████████| 44/44 [00:02<00:00, 19.01it/s, Train Loss=4434.1970, Valid Loss=4916.4707, Valid R2=-0.0112, Valid MAE=52.3713]\n"
     ]
    },
    {
     "name": "stdout",
     "output_type": "stream",
     "text": [
      "Early Stopped\n",
      "Setting  20 of Parameters Grid is now on progres.\n"
     ]
    },
    {
     "name": "stderr",
     "output_type": "stream",
     "text": [
      "Epoch  0: 100%|██████████| 44/44 [00:02<00:00, 20.90it/s, Train Loss=15181.6948, Valid Loss=11774.3564, Valid R2=-1.4217, Valid MAE=83.1392]\n",
      "Epoch  1: 100%|██████████| 44/44 [00:02<00:00, 20.53it/s, Train Loss=12595.2517, Valid Loss=7976.9331, Valid R2=-0.6407, Valid MAE=60.7540]\n",
      "Epoch  2: 100%|██████████| 44/44 [00:02<00:00, 20.95it/s, Train Loss=7966.3111, Valid Loss=4992.1689, Valid R2=-0.0268, Valid MAE=49.7297]\n",
      "Epoch  3: 100%|██████████| 44/44 [00:02<00:00, 19.66it/s, Train Loss=5931.3730, Valid Loss=4883.3486, Valid R2=-0.0044, Valid MAE=52.7978]\n",
      "Epoch  4: 100%|██████████| 44/44 [00:02<00:00, 20.99it/s, Train Loss=5868.8194, Valid Loss=4983.1284, Valid R2=-0.0249, Valid MAE=54.7451]\n",
      "Epoch  5: 100%|██████████| 44/44 [00:01<00:00, 22.33it/s, Train Loss=5802.5178, Valid Loss=4939.0874, Valid R2=-0.0159, Valid MAE=54.1954]\n",
      "Epoch  6: 100%|██████████| 44/44 [00:02<00:00, 20.10it/s, Train Loss=5721.9450, Valid Loss=5007.2500, Valid R2=-0.0299, Valid MAE=55.4073]\n",
      "Epoch  7: 100%|██████████| 44/44 [00:02<00:00, 20.03it/s, Train Loss=5619.4257, Valid Loss=4879.9917, Valid R2=-0.0037, Valid MAE=53.7375]\n",
      "Epoch  8: 100%|██████████| 44/44 [00:02<00:00, 19.50it/s, Train Loss=5541.6168, Valid Loss=4717.0562, Valid R2=0.0298, Valid MAE=52.5080]\n",
      "Epoch  9: 100%|██████████| 44/44 [00:02<00:00, 20.45it/s, Train Loss=5456.3082, Valid Loss=4663.2134, Valid R2=0.0409, Valid MAE=51.7341]\n",
      "Epoch 10: 100%|██████████| 44/44 [00:02<00:00, 20.50it/s, Train Loss=5476.6514, Valid Loss=4951.9658, Valid R2=-0.0185, Valid MAE=56.5978]\n",
      "Epoch 11: 100%|██████████| 44/44 [00:02<00:00, 20.71it/s, Train Loss=5506.1183, Valid Loss=4857.6343, Valid R2=0.0009, Valid MAE=54.4088]\n",
      "Epoch 12: 100%|██████████| 44/44 [00:02<00:00, 20.93it/s, Train Loss=5470.4575, Valid Loss=4893.0664, Valid R2=-0.0064, Valid MAE=54.5439]\n",
      "Epoch 13: 100%|██████████| 44/44 [00:02<00:00, 20.91it/s, Train Loss=5505.1940, Valid Loss=4629.7095, Valid R2=0.0478, Valid MAE=51.3566]\n",
      "Epoch 14: 100%|██████████| 44/44 [00:02<00:00, 21.85it/s, Train Loss=5292.0277, Valid Loss=4703.0767, Valid R2=0.0327, Valid MAE=51.6746]\n",
      "Epoch 15: 100%|██████████| 44/44 [00:02<00:00, 20.42it/s, Train Loss=5152.6879, Valid Loss=4830.8828, Valid R2=0.0064, Valid MAE=53.2570]\n",
      "Epoch 16: 100%|██████████| 44/44 [00:02<00:00, 20.59it/s, Train Loss=5061.7996, Valid Loss=4743.4028, Valid R2=0.0244, Valid MAE=50.4255]\n",
      "Epoch 17: 100%|██████████| 44/44 [00:02<00:00, 20.18it/s, Train Loss=4999.5534, Valid Loss=4641.4209, Valid R2=0.0454, Valid MAE=52.1380]\n",
      "Epoch 18: 100%|██████████| 44/44 [00:02<00:00, 19.96it/s, Train Loss=4882.2205, Valid Loss=4739.8892, Valid R2=0.0251, Valid MAE=52.4966]\n",
      "Epoch 19: 100%|██████████| 44/44 [00:02<00:00, 20.45it/s, Train Loss=4868.7272, Valid Loss=4640.7285, Valid R2=0.0455, Valid MAE=50.5470]\n"
     ]
    },
    {
     "name": "stdout",
     "output_type": "stream",
     "text": [
      "Early Stopped\n",
      "Setting  21 of Parameters Grid is now on progres.\n"
     ]
    },
    {
     "name": "stderr",
     "output_type": "stream",
     "text": [
      "Epoch  0: 100%|██████████| 44/44 [00:02<00:00, 20.35it/s, Train Loss=15094.4784, Valid Loss=11712.3506, Valid R2=-1.4090, Valid MAE=82.7668]\n",
      "Epoch  1: 100%|██████████| 44/44 [00:02<00:00, 20.73it/s, Train Loss=12830.0261, Valid Loss=8870.2969, Valid R2=-0.8244, Valid MAE=65.5692]\n",
      "Epoch  2: 100%|██████████| 44/44 [00:02<00:00, 21.03it/s, Train Loss=9610.3013, Valid Loss=6316.8359, Valid R2=-0.2992, Valid MAE=52.8140]\n",
      "Epoch  3: 100%|██████████| 44/44 [00:02<00:00, 20.78it/s, Train Loss=6908.1343, Valid Loss=4910.4614, Valid R2=-0.0100, Valid MAE=50.1299]\n",
      "Epoch  4: 100%|██████████| 44/44 [00:02<00:00, 20.53it/s, Train Loss=5966.3172, Valid Loss=4924.5342, Valid R2=-0.0129, Valid MAE=53.4094]\n",
      "Epoch  5: 100%|██████████| 44/44 [00:02<00:00, 20.95it/s, Train Loss=5918.3477, Valid Loss=4850.3271, Valid R2=0.0024, Valid MAE=52.0402]\n",
      "Epoch  6: 100%|██████████| 44/44 [00:02<00:00, 20.76it/s, Train Loss=5931.3454, Valid Loss=4934.2949, Valid R2=-0.0149, Valid MAE=53.4704]\n",
      "Epoch  7: 100%|██████████| 44/44 [00:02<00:00, 21.30it/s, Train Loss=5883.4700, Valid Loss=4963.6426, Valid R2=-0.0209, Valid MAE=54.1187]\n",
      "Epoch  8: 100%|██████████| 44/44 [00:02<00:00, 20.96it/s, Train Loss=5901.3365, Valid Loss=4947.5498, Valid R2=-0.0176, Valid MAE=53.7851]\n",
      "Epoch  9: 100%|██████████| 44/44 [00:02<00:00, 20.50it/s, Train Loss=5850.1892, Valid Loss=4891.8252, Valid R2=-0.0061, Valid MAE=52.6981]\n",
      "Epoch 10: 100%|██████████| 44/44 [00:02<00:00, 18.87it/s, Train Loss=5931.0188, Valid Loss=4915.6401, Valid R2=-0.0110, Valid MAE=53.2627]\n",
      "Epoch 11: 100%|██████████| 44/44 [00:02<00:00, 20.59it/s, Train Loss=5900.4213, Valid Loss=4941.7749, Valid R2=-0.0164, Valid MAE=53.8338]\n"
     ]
    },
    {
     "name": "stdout",
     "output_type": "stream",
     "text": [
      "Early Stopped\n",
      "Setting  22 of Parameters Grid is now on progres.\n"
     ]
    },
    {
     "name": "stderr",
     "output_type": "stream",
     "text": [
      "Epoch  0: 100%|██████████| 44/44 [00:02<00:00, 20.35it/s, Train Loss=15088.7952, Valid Loss=11546.7598, Valid R2=-1.3749, Valid MAE=81.7617]\n",
      "Epoch  1: 100%|██████████| 44/44 [00:02<00:00, 20.29it/s, Train Loss=11780.4984, Valid Loss=7030.2939, Valid R2=-0.4460, Valid MAE=56.0480]\n",
      "Epoch  2: 100%|██████████| 44/44 [00:02<00:00, 18.92it/s, Train Loss=6769.3077, Valid Loss=4954.2983, Valid R2=-0.0190, Valid MAE=53.7098]\n",
      "Epoch  3: 100%|██████████| 44/44 [00:02<00:00, 19.87it/s, Train Loss=5914.9229, Valid Loss=4939.9316, Valid R2=-0.0160, Valid MAE=53.4445]\n",
      "Epoch  4: 100%|██████████| 44/44 [00:02<00:00, 20.34it/s, Train Loss=5919.8023, Valid Loss=4945.4814, Valid R2=-0.0172, Valid MAE=53.5824]\n",
      "Epoch  5: 100%|██████████| 44/44 [00:02<00:00, 20.02it/s, Train Loss=5862.3628, Valid Loss=4959.8364, Valid R2=-0.0201, Valid MAE=53.9044]\n",
      "Epoch  6: 100%|██████████| 44/44 [00:02<00:00, 20.78it/s, Train Loss=5918.2375, Valid Loss=4937.4463, Valid R2=-0.0155, Valid MAE=53.5203]\n",
      "Epoch  7: 100%|██████████| 44/44 [00:02<00:00, 20.89it/s, Train Loss=5899.7154, Valid Loss=4944.8965, Valid R2=-0.0170, Valid MAE=53.6997]\n",
      "Epoch  8: 100%|██████████| 44/44 [00:02<00:00, 20.76it/s, Train Loss=5888.9965, Valid Loss=4929.9756, Valid R2=-0.0140, Valid MAE=53.4400]\n",
      "Epoch  9: 100%|██████████| 44/44 [00:02<00:00, 20.71it/s, Train Loss=5899.9893, Valid Loss=4917.7354, Valid R2=-0.0115, Valid MAE=53.2446]\n",
      "Epoch 10: 100%|██████████| 44/44 [00:02<00:00, 20.37it/s, Train Loss=5908.0712, Valid Loss=4939.3315, Valid R2=-0.0159, Valid MAE=53.7194]\n",
      "Epoch 11: 100%|██████████| 44/44 [00:02<00:00, 21.00it/s, Train Loss=5801.6600, Valid Loss=4923.6440, Valid R2=-0.0127, Valid MAE=53.4497]\n",
      "Epoch 12: 100%|██████████| 44/44 [00:02<00:00, 21.13it/s, Train Loss=5835.0469, Valid Loss=4884.9009, Valid R2=-0.0047, Valid MAE=53.6783]\n",
      "Epoch 13: 100%|██████████| 44/44 [00:02<00:00, 21.13it/s, Train Loss=5667.5881, Valid Loss=4727.2974, Valid R2=0.0277, Valid MAE=51.4350]\n",
      "Epoch 14: 100%|██████████| 44/44 [00:02<00:00, 21.43it/s, Train Loss=5564.2491, Valid Loss=4707.2271, Valid R2=0.0318, Valid MAE=51.6549]\n",
      "Epoch 15: 100%|██████████| 44/44 [00:02<00:00, 20.35it/s, Train Loss=5644.2876, Valid Loss=4670.1562, Valid R2=0.0395, Valid MAE=51.2608]\n",
      "Epoch 16: 100%|██████████| 44/44 [00:02<00:00, 20.20it/s, Train Loss=5387.9677, Valid Loss=4601.0054, Valid R2=0.0537, Valid MAE=50.8381]\n",
      "Epoch 17: 100%|██████████| 44/44 [00:02<00:00, 20.76it/s, Train Loss=5274.0279, Valid Loss=4636.4004, Valid R2=0.0464, Valid MAE=52.0517]\n",
      "Epoch 18: 100%|██████████| 44/44 [00:02<00:00, 19.75it/s, Train Loss=5200.8452, Valid Loss=4724.2212, Valid R2=0.0283, Valid MAE=48.4041]\n",
      "Epoch 19: 100%|██████████| 44/44 [00:02<00:00, 19.84it/s, Train Loss=5125.6066, Valid Loss=4545.9585, Valid R2=0.0650, Valid MAE=48.9535]\n",
      "Epoch 20: 100%|██████████| 44/44 [00:02<00:00, 20.06it/s, Train Loss=4686.6859, Valid Loss=4452.4116, Valid R2=0.0842, Valid MAE=45.7682]\n",
      "Epoch 21: 100%|██████████| 44/44 [00:02<00:00, 19.77it/s, Train Loss=4691.2062, Valid Loss=5098.6445, Valid R2=-0.0487, Valid MAE=56.1398]\n",
      "Epoch 22: 100%|██████████| 44/44 [00:02<00:00, 19.95it/s, Train Loss=4721.4093, Valid Loss=4540.0317, Valid R2=0.0662, Valid MAE=48.8376]\n",
      "Epoch 23: 100%|██████████| 44/44 [00:02<00:00, 20.59it/s, Train Loss=4323.6044, Valid Loss=4795.4111, Valid R2=0.0137, Valid MAE=49.2163]\n",
      "Epoch 24: 100%|██████████| 44/44 [00:02<00:00, 20.31it/s, Train Loss=4478.3911, Valid Loss=4535.8262, Valid R2=0.0671, Valid MAE=47.9678]\n",
      "Epoch 25: 100%|██████████| 44/44 [00:02<00:00, 20.17it/s, Train Loss=4091.6917, Valid Loss=4421.7861, Valid R2=0.0905, Valid MAE=49.7711]\n",
      "Epoch 26: 100%|██████████| 44/44 [00:02<00:00, 20.07it/s, Train Loss=4248.3977, Valid Loss=4485.1895, Valid R2=0.0775, Valid MAE=47.1311]\n",
      "Epoch 27: 100%|██████████| 44/44 [00:02<00:00, 19.65it/s, Train Loss=3957.8202, Valid Loss=4568.4463, Valid R2=0.0604, Valid MAE=47.4561]\n",
      "Epoch 28: 100%|██████████| 44/44 [00:02<00:00, 20.09it/s, Train Loss=3825.0490, Valid Loss=4277.9092, Valid R2=0.1201, Valid MAE=47.3046]\n",
      "Epoch 29: 100%|██████████| 44/44 [00:02<00:00, 20.22it/s, Train Loss=3722.0405, Valid Loss=5373.4204, Valid R2=-0.1052, Valid MAE=56.1991]\n",
      "Epoch 30: 100%|██████████| 44/44 [00:02<00:00, 19.65it/s, Train Loss=3448.7115, Valid Loss=4845.1538, Valid R2=0.0035, Valid MAE=51.1124]\n",
      "Epoch 31: 100%|██████████| 44/44 [00:02<00:00, 19.45it/s, Train Loss=3489.9020, Valid Loss=4662.9106, Valid R2=0.0409, Valid MAE=50.2372]\n",
      "Epoch 32: 100%|██████████| 44/44 [00:02<00:00, 19.37it/s, Train Loss=3239.2363, Valid Loss=4620.6421, Valid R2=0.0496, Valid MAE=50.0401]\n",
      "Epoch 33: 100%|██████████| 44/44 [00:02<00:00, 19.95it/s, Train Loss=3365.1651, Valid Loss=4646.3501, Valid R2=0.0444, Valid MAE=50.9475]\n",
      "Epoch 34: 100%|██████████| 44/44 [00:02<00:00, 20.86it/s, Train Loss=3389.3239, Valid Loss=4606.2886, Valid R2=0.0526, Valid MAE=49.3319]\n"
     ]
    },
    {
     "name": "stdout",
     "output_type": "stream",
     "text": [
      "Early Stopped\n",
      "Setting  23 of Parameters Grid is now on progres.\n"
     ]
    },
    {
     "name": "stderr",
     "output_type": "stream",
     "text": [
      "Epoch  0: 100%|██████████| 44/44 [00:02<00:00, 20.71it/s, Train Loss=15068.4337, Valid Loss=11532.6660, Valid R2=-1.3720, Valid MAE=81.6814]\n",
      "Epoch  1: 100%|██████████| 44/44 [00:02<00:00, 20.68it/s, Train Loss=12451.8536, Valid Loss=8201.7227, Valid R2=-0.6869, Valid MAE=61.9188]\n",
      "Epoch  2: 100%|██████████| 44/44 [00:02<00:00, 21.20it/s, Train Loss=8787.6379, Valid Loss=5624.6841, Valid R2=-0.1569, Valid MAE=50.2581]\n",
      "Epoch  3: 100%|██████████| 44/44 [00:02<00:00, 20.65it/s, Train Loss=6402.3479, Valid Loss=4862.5986, Valid R2=-0.0001, Valid MAE=51.4303]\n",
      "Epoch  4: 100%|██████████| 44/44 [00:02<00:00, 20.81it/s, Train Loss=5920.5451, Valid Loss=4946.3359, Valid R2=-0.0173, Valid MAE=53.8446]\n",
      "Epoch  5: 100%|██████████| 44/44 [00:02<00:00, 20.65it/s, Train Loss=5870.6595, Valid Loss=4911.7515, Valid R2=-0.0102, Valid MAE=53.1221]\n",
      "Epoch  6: 100%|██████████| 44/44 [00:02<00:00, 21.00it/s, Train Loss=5854.8259, Valid Loss=4938.7715, Valid R2=-0.0158, Valid MAE=53.6990]\n",
      "Epoch  7: 100%|██████████| 44/44 [00:02<00:00, 21.59it/s, Train Loss=5865.4324, Valid Loss=4951.8340, Valid R2=-0.0185, Valid MAE=53.9463]\n",
      "Epoch  8: 100%|██████████| 44/44 [00:02<00:00, 20.79it/s, Train Loss=5877.3246, Valid Loss=4929.6860, Valid R2=-0.0139, Valid MAE=53.5154]\n",
      "Epoch  9: 100%|██████████| 44/44 [00:02<00:00, 20.77it/s, Train Loss=5884.9507, Valid Loss=4938.7812, Valid R2=-0.0158, Valid MAE=53.7052]\n"
     ]
    },
    {
     "name": "stdout",
     "output_type": "stream",
     "text": [
      "Early Stopped\n",
      "Setting  24 of Parameters Grid is now on progres.\n"
     ]
    },
    {
     "name": "stderr",
     "output_type": "stream",
     "text": [
      "Epoch  0: 100%|██████████| 44/44 [00:02<00:00, 20.34it/s, Train Loss=15115.8635, Valid Loss=11665.6729, Valid R2=-1.3994, Valid MAE=82.4844]\n",
      "Epoch  1: 100%|██████████| 44/44 [00:02<00:00, 19.89it/s, Train Loss=12580.1176, Valid Loss=8604.1973, Valid R2=-0.7697, Valid MAE=64.1087]\n",
      "Epoch  2: 100%|██████████| 44/44 [00:02<00:00, 20.30it/s, Train Loss=9170.3407, Valid Loss=5926.7983, Valid R2=-0.2190, Valid MAE=51.2804]\n",
      "Epoch  3: 100%|██████████| 44/44 [00:02<00:00, 20.74it/s, Train Loss=6620.0256, Valid Loss=4867.6729, Valid R2=-0.0012, Valid MAE=50.8163]\n",
      "Epoch  4: 100%|██████████| 44/44 [00:02<00:00, 20.10it/s, Train Loss=5947.1758, Valid Loss=4915.3364, Valid R2=-0.0110, Valid MAE=53.2031]\n",
      "Epoch  5: 100%|██████████| 44/44 [00:02<00:00, 19.81it/s, Train Loss=5950.6462, Valid Loss=4931.8589, Valid R2=-0.0144, Valid MAE=53.5623]\n",
      "Epoch  6: 100%|██████████| 44/44 [00:02<00:00, 18.83it/s, Train Loss=6042.7760, Valid Loss=4906.4712, Valid R2=-0.0091, Valid MAE=53.0036]\n",
      "Epoch  7: 100%|██████████| 44/44 [00:02<00:00, 20.48it/s, Train Loss=5946.5807, Valid Loss=4891.8608, Valid R2=-0.0061, Valid MAE=52.6409]\n",
      "Epoch  8: 100%|██████████| 44/44 [00:02<00:00, 20.72it/s, Train Loss=5961.4341, Valid Loss=4912.5449, Valid R2=-0.0104, Valid MAE=53.1200]\n",
      "Epoch  9: 100%|██████████| 44/44 [00:02<00:00, 20.70it/s, Train Loss=5992.2027, Valid Loss=4906.4419, Valid R2=-0.0091, Valid MAE=52.9942]\n"
     ]
    },
    {
     "name": "stdout",
     "output_type": "stream",
     "text": [
      "Early Stopped\n",
      "Setting  25 of Parameters Grid is now on progres.\n"
     ]
    },
    {
     "name": "stderr",
     "output_type": "stream",
     "text": [
      "Epoch  0: 100%|██████████| 44/44 [00:02<00:00, 20.91it/s, Train Loss=14987.9638, Valid Loss=11325.7979, Valid R2=-1.3295, Valid MAE=80.4273]\n",
      "Epoch  1: 100%|██████████| 44/44 [00:02<00:00, 20.81it/s, Train Loss=11950.0017, Valid Loss=7807.7280, Valid R2=-0.6059, Valid MAE=59.9005]\n",
      "Epoch  2: 100%|██████████| 44/44 [00:02<00:00, 20.93it/s, Train Loss=8161.3815, Valid Loss=5225.6919, Valid R2=-0.0748, Valid MAE=49.4805]\n",
      "Epoch  3: 100%|██████████| 44/44 [00:02<00:00, 20.52it/s, Train Loss=6223.2128, Valid Loss=4894.9453, Valid R2=-0.0068, Valid MAE=52.7158]\n",
      "Epoch  4: 100%|██████████| 44/44 [00:02<00:00, 20.48it/s, Train Loss=5900.1718, Valid Loss=4926.2251, Valid R2=-0.0132, Valid MAE=53.4446]\n",
      "Epoch  5: 100%|██████████| 44/44 [00:02<00:00, 20.10it/s, Train Loss=5868.2072, Valid Loss=4920.0117, Valid R2=-0.0119, Valid MAE=53.3095]\n",
      "Epoch  6: 100%|██████████| 44/44 [00:02<00:00, 19.94it/s, Train Loss=5881.2385, Valid Loss=4919.2339, Valid R2=-0.0118, Valid MAE=53.2921]\n",
      "Epoch  7: 100%|██████████| 44/44 [00:02<00:00, 19.32it/s, Train Loss=5962.8775, Valid Loss=4909.1538, Valid R2=-0.0097, Valid MAE=53.0676]\n",
      "Epoch  8: 100%|██████████| 44/44 [00:02<00:00, 20.36it/s, Train Loss=5988.6388, Valid Loss=4931.6045, Valid R2=-0.0143, Valid MAE=53.2662]\n",
      "Epoch  9: 100%|██████████| 44/44 [00:02<00:00, 20.50it/s, Train Loss=5965.9435, Valid Loss=4900.6934, Valid R2=-0.0080, Valid MAE=52.8829]\n"
     ]
    },
    {
     "name": "stdout",
     "output_type": "stream",
     "text": [
      "Early Stopped\n",
      "Setting  26 of Parameters Grid is now on progres.\n"
     ]
    },
    {
     "name": "stderr",
     "output_type": "stream",
     "text": [
      "Epoch  0: 100%|██████████| 44/44 [00:02<00:00, 20.53it/s, Train Loss=15033.4036, Valid Loss=11418.0332, Valid R2=-1.3484, Valid MAE=80.9913]\n",
      "Epoch  1: 100%|██████████| 44/44 [00:02<00:00, 20.60it/s, Train Loss=12006.3752, Valid Loss=7641.4814, Valid R2=-0.5717, Valid MAE=59.0686]\n",
      "Epoch  2: 100%|██████████| 44/44 [00:02<00:00, 19.92it/s, Train Loss=7658.6920, Valid Loss=4860.6816, Valid R2=0.0003, Valid MAE=50.9752]\n",
      "Epoch  3: 100%|██████████| 44/44 [00:02<00:00, 19.34it/s, Train Loss=5862.9845, Valid Loss=4935.7583, Valid R2=-0.0152, Valid MAE=53.5555]\n",
      "Epoch  4: 100%|██████████| 44/44 [00:02<00:00, 20.42it/s, Train Loss=5895.5638, Valid Loss=4947.7583, Valid R2=-0.0176, Valid MAE=53.8818]\n",
      "Epoch  5: 100%|██████████| 44/44 [00:02<00:00, 19.55it/s, Train Loss=5884.8393, Valid Loss=4942.9072, Valid R2=-0.0166, Valid MAE=53.7671]\n",
      "Epoch  6: 100%|██████████| 44/44 [00:02<00:00, 19.54it/s, Train Loss=5795.2122, Valid Loss=4958.6196, Valid R2=-0.0199, Valid MAE=54.0954]\n",
      "Epoch  7: 100%|██████████| 44/44 [00:02<00:00, 19.53it/s, Train Loss=5807.8713, Valid Loss=4887.2412, Valid R2=-0.0052, Valid MAE=52.6739]\n",
      "Epoch  8: 100%|██████████| 44/44 [00:02<00:00, 20.54it/s, Train Loss=5741.2509, Valid Loss=4944.0171, Valid R2=-0.0169, Valid MAE=54.3388]\n"
     ]
    },
    {
     "name": "stdout",
     "output_type": "stream",
     "text": [
      "Early Stopped\n",
      "Setting  27 of Parameters Grid is now on progres.\n"
     ]
    },
    {
     "name": "stderr",
     "output_type": "stream",
     "text": [
      "Epoch  0: 100%|██████████| 44/44 [00:02<00:00, 20.54it/s, Train Loss=15181.4137, Valid Loss=11829.5547, Valid R2=-1.4331, Valid MAE=83.4559]\n",
      "Epoch  1: 100%|██████████| 44/44 [00:02<00:00, 20.56it/s, Train Loss=12696.0481, Valid Loss=8405.2539, Valid R2=-0.7288, Valid MAE=63.0215]\n",
      "Epoch  2: 100%|██████████| 44/44 [00:02<00:00, 20.01it/s, Train Loss=8795.4524, Valid Loss=5510.4160, Valid R2=-0.1334, Valid MAE=49.9248]\n",
      "Epoch  3: 100%|██████████| 44/44 [00:02<00:00, 20.60it/s, Train Loss=6152.8955, Valid Loss=4975.1333, Valid R2=-0.0233, Valid MAE=54.3477]\n",
      "Epoch  4: 100%|██████████| 44/44 [00:02<00:00, 20.99it/s, Train Loss=5893.4158, Valid Loss=4844.8442, Valid R2=0.0035, Valid MAE=52.7412]\n",
      "Epoch  5: 100%|██████████| 44/44 [00:02<00:00, 20.75it/s, Train Loss=5936.4868, Valid Loss=4966.3643, Valid R2=-0.0215, Valid MAE=54.3588]\n",
      "Epoch  6: 100%|██████████| 44/44 [00:02<00:00, 19.96it/s, Train Loss=5871.4294, Valid Loss=4910.1289, Valid R2=-0.0099, Valid MAE=53.4725]\n",
      "Epoch  7: 100%|██████████| 44/44 [00:02<00:00, 20.81it/s, Train Loss=5859.5174, Valid Loss=4891.8989, Valid R2=-0.0061, Valid MAE=53.1249]\n",
      "Epoch  8: 100%|██████████| 44/44 [00:02<00:00, 20.54it/s, Train Loss=5719.3907, Valid Loss=4902.7524, Valid R2=-0.0084, Valid MAE=53.8806]\n",
      "Epoch  9: 100%|██████████| 44/44 [00:02<00:00, 20.23it/s, Train Loss=5777.7492, Valid Loss=4932.9297, Valid R2=-0.0146, Valid MAE=54.3894]\n",
      "Epoch 10: 100%|██████████| 44/44 [00:02<00:00, 20.52it/s, Train Loss=5808.0385, Valid Loss=4848.4414, Valid R2=0.0028, Valid MAE=52.8310]\n"
     ]
    },
    {
     "name": "stdout",
     "output_type": "stream",
     "text": [
      "Early Stopped\n",
      "Setting  28 of Parameters Grid is now on progres.\n"
     ]
    },
    {
     "name": "stderr",
     "output_type": "stream",
     "text": [
      "Epoch  0: 100%|██████████| 44/44 [00:02<00:00, 21.26it/s, Train Loss=15055.1256, Valid Loss=11419.5312, Valid R2=-1.3487, Valid MAE=80.9815]\n",
      "Epoch  1: 100%|██████████| 44/44 [00:02<00:00, 20.85it/s, Train Loss=11768.6220, Valid Loss=7615.5400, Valid R2=-0.5663, Valid MAE=58.9386]\n",
      "Epoch  2: 100%|██████████| 44/44 [00:02<00:00, 20.18it/s, Train Loss=8379.2339, Valid Loss=5618.0913, Valid R2=-0.1555, Valid MAE=50.2399]\n",
      "Epoch  3: 100%|██████████| 44/44 [00:02<00:00, 20.86it/s, Train Loss=6267.3334, Valid Loss=4899.9888, Valid R2=-0.0078, Valid MAE=52.8044]\n",
      "Epoch  4: 100%|██████████| 44/44 [00:02<00:00, 20.80it/s, Train Loss=5848.7171, Valid Loss=4957.2925, Valid R2=-0.0196, Valid MAE=54.0281]\n",
      "Epoch  5: 100%|██████████| 44/44 [00:02<00:00, 20.74it/s, Train Loss=5836.0991, Valid Loss=4974.4780, Valid R2=-0.0231, Valid MAE=54.3249]\n",
      "Epoch  6: 100%|██████████| 44/44 [00:02<00:00, 21.64it/s, Train Loss=5783.8177, Valid Loss=4996.8916, Valid R2=-0.0277, Valid MAE=54.6863]\n",
      "Epoch  7: 100%|██████████| 44/44 [00:02<00:00, 21.05it/s, Train Loss=5808.1022, Valid Loss=4948.1304, Valid R2=-0.0177, Valid MAE=53.8579]\n",
      "Epoch  8: 100%|██████████| 44/44 [00:01<00:00, 22.25it/s, Train Loss=5813.4177, Valid Loss=4963.1636, Valid R2=-0.0208, Valid MAE=54.1326]\n",
      "Epoch  9: 100%|██████████| 44/44 [00:02<00:00, 21.79it/s, Train Loss=5814.0702, Valid Loss=4961.0557, Valid R2=-0.0204, Valid MAE=54.0900]\n"
     ]
    },
    {
     "name": "stdout",
     "output_type": "stream",
     "text": [
      "Early Stopped\n",
      "Setting  29 of Parameters Grid is now on progres.\n"
     ]
    },
    {
     "name": "stderr",
     "output_type": "stream",
     "text": [
      "Epoch  0: 100%|██████████| 44/44 [00:02<00:00, 20.49it/s, Train Loss=15246.4378, Valid Loss=11956.0430, Valid R2=-1.4591, Valid MAE=84.2332]\n",
      "Epoch  1: 100%|██████████| 44/44 [00:02<00:00, 20.98it/s, Train Loss=12170.0568, Valid Loss=7108.6987, Valid R2=-0.4621, Valid MAE=56.4533]\n",
      "Epoch  2: 100%|██████████| 44/44 [00:02<00:00, 20.89it/s, Train Loss=7064.7744, Valid Loss=4869.2070, Valid R2=-0.0015, Valid MAE=51.8247]\n",
      "Epoch  3: 100%|██████████| 44/44 [00:02<00:00, 20.39it/s, Train Loss=5781.8007, Valid Loss=5023.2695, Valid R2=-0.0332, Valid MAE=55.1001]\n",
      "Epoch  4: 100%|██████████| 44/44 [00:02<00:00, 20.52it/s, Train Loss=5802.6984, Valid Loss=4948.2363, Valid R2=-0.0177, Valid MAE=53.9001]\n",
      "Epoch  5: 100%|██████████| 44/44 [00:02<00:00, 21.06it/s, Train Loss=5839.9933, Valid Loss=4932.6953, Valid R2=-0.0145, Valid MAE=53.5810]\n",
      "Epoch  6: 100%|██████████| 44/44 [00:02<00:00, 20.86it/s, Train Loss=5818.9844, Valid Loss=4948.0825, Valid R2=-0.0177, Valid MAE=53.9468]\n",
      "Epoch  7: 100%|██████████| 44/44 [00:02<00:00, 20.91it/s, Train Loss=5817.4038, Valid Loss=4912.8550, Valid R2=-0.0105, Valid MAE=53.4836]\n",
      "Epoch  8: 100%|██████████| 44/44 [00:02<00:00, 20.48it/s, Train Loss=5775.1293, Valid Loss=5017.6553, Valid R2=-0.0320, Valid MAE=55.3157]\n"
     ]
    },
    {
     "name": "stdout",
     "output_type": "stream",
     "text": [
      "Early Stopped\n",
      "Setting  30 of Parameters Grid is now on progres.\n"
     ]
    },
    {
     "name": "stderr",
     "output_type": "stream",
     "text": [
      "Epoch  0: 100%|██████████| 44/44 [00:02<00:00, 20.89it/s, Train Loss=14941.5286, Valid Loss=11057.2070, Valid R2=-1.2742, Valid MAE=78.7715]\n",
      "Epoch  1: 100%|██████████| 44/44 [00:02<00:00, 20.70it/s, Train Loss=11448.1274, Valid Loss=7236.0312, Valid R2=-0.4883, Valid MAE=57.0531]\n",
      "Epoch  2: 100%|██████████| 44/44 [00:02<00:00, 20.85it/s, Train Loss=7215.0618, Valid Loss=4910.1714, Valid R2=-0.0099, Valid MAE=53.0798]\n",
      "Epoch  3: 100%|██████████| 44/44 [00:02<00:00, 20.21it/s, Train Loss=5929.6308, Valid Loss=4860.4541, Valid R2=0.0003, Valid MAE=51.6831]\n",
      "Epoch  4: 100%|██████████| 44/44 [00:02<00:00, 19.29it/s, Train Loss=5883.9515, Valid Loss=4979.1533, Valid R2=-0.0241, Valid MAE=54.4225]\n",
      "Epoch  5: 100%|██████████| 44/44 [00:02<00:00, 20.14it/s, Train Loss=5873.3736, Valid Loss=4868.9341, Valid R2=-0.0014, Valid MAE=51.9952]\n",
      "Epoch  6: 100%|██████████| 44/44 [00:02<00:00, 19.39it/s, Train Loss=5801.4466, Valid Loss=4941.9028, Valid R2=-0.0164, Valid MAE=53.7776]\n",
      "Epoch  7: 100%|██████████| 44/44 [00:02<00:00, 19.48it/s, Train Loss=5776.1848, Valid Loss=4902.3706, Valid R2=-0.0083, Valid MAE=53.2556]\n",
      "Epoch  8: 100%|██████████| 44/44 [00:02<00:00, 19.55it/s, Train Loss=5727.6112, Valid Loss=4913.9282, Valid R2=-0.0107, Valid MAE=53.6793]\n",
      "Epoch  9: 100%|██████████| 44/44 [00:02<00:00, 19.69it/s, Train Loss=5600.8144, Valid Loss=4840.1045, Valid R2=0.0045, Valid MAE=51.4729]\n",
      "Epoch 10: 100%|██████████| 44/44 [00:02<00:00, 20.62it/s, Train Loss=5392.7907, Valid Loss=5290.7822, Valid R2=-0.0882, Valid MAE=58.9568]\n",
      "Epoch 11: 100%|██████████| 44/44 [00:02<00:00, 20.07it/s, Train Loss=5355.2727, Valid Loss=5002.3398, Valid R2=-0.0289, Valid MAE=53.3805]\n",
      "Epoch 12: 100%|██████████| 44/44 [00:02<00:00, 19.69it/s, Train Loss=4989.4462, Valid Loss=5086.7349, Valid R2=-0.0462, Valid MAE=57.4370]\n",
      "Epoch 13: 100%|██████████| 44/44 [00:02<00:00, 20.41it/s, Train Loss=4767.6906, Valid Loss=4994.5088, Valid R2=-0.0273, Valid MAE=54.4074]\n",
      "Epoch 14: 100%|██████████| 44/44 [00:02<00:00, 20.57it/s, Train Loss=4609.6030, Valid Loss=5045.4507, Valid R2=-0.0377, Valid MAE=53.4203]\n",
      "Epoch 15: 100%|██████████| 44/44 [00:02<00:00, 20.94it/s, Train Loss=4761.8204, Valid Loss=4868.0127, Valid R2=-0.0012, Valid MAE=54.7445]\n"
     ]
    },
    {
     "name": "stdout",
     "output_type": "stream",
     "text": [
      "Early Stopped\n",
      "Setting  31 of Parameters Grid is now on progres.\n"
     ]
    },
    {
     "name": "stderr",
     "output_type": "stream",
     "text": [
      "Epoch  0: 100%|██████████| 44/44 [00:02<00:00, 21.25it/s, Train Loss=15040.1833, Valid Loss=11118.9531, Valid R2=-1.2869, Valid MAE=79.1543]\n",
      "Epoch  1: 100%|██████████| 44/44 [00:02<00:00, 20.93it/s, Train Loss=11068.3547, Valid Loss=6614.4756, Valid R2=-0.3604, Valid MAE=54.0782]\n",
      "Epoch  2: 100%|██████████| 44/44 [00:02<00:00, 21.76it/s, Train Loss=6726.6692, Valid Loss=4873.1401, Valid R2=-0.0023, Valid MAE=52.2043]\n",
      "Epoch  3: 100%|██████████| 44/44 [00:01<00:00, 22.09it/s, Train Loss=5820.2485, Valid Loss=4945.3027, Valid R2=-0.0171, Valid MAE=53.8510]\n",
      "Epoch  4: 100%|██████████| 44/44 [00:02<00:00, 21.80it/s, Train Loss=5831.3554, Valid Loss=4908.9658, Valid R2=-0.0097, Valid MAE=53.1882]\n",
      "Epoch  5: 100%|██████████| 44/44 [00:02<00:00, 21.08it/s, Train Loss=5808.2526, Valid Loss=4953.1655, Valid R2=-0.0187, Valid MAE=54.0785]\n",
      "Epoch  6: 100%|██████████| 44/44 [00:02<00:00, 20.96it/s, Train Loss=5862.3942, Valid Loss=4853.1006, Valid R2=0.0018, Valid MAE=52.2736]\n",
      "Epoch  7: 100%|██████████| 44/44 [00:02<00:00, 20.66it/s, Train Loss=5822.8931, Valid Loss=4841.8228, Valid R2=0.0042, Valid MAE=52.0399]\n",
      "Epoch  8: 100%|██████████| 44/44 [00:02<00:00, 20.50it/s, Train Loss=5762.7408, Valid Loss=4939.4019, Valid R2=-0.0159, Valid MAE=54.6965]\n",
      "Epoch  9: 100%|██████████| 44/44 [00:02<00:00, 20.57it/s, Train Loss=5724.9974, Valid Loss=4719.8438, Valid R2=0.0292, Valid MAE=50.3735]\n",
      "Epoch 10: 100%|██████████| 44/44 [00:02<00:00, 20.71it/s, Train Loss=5450.5350, Valid Loss=4724.0811, Valid R2=0.0284, Valid MAE=52.1971]\n",
      "Epoch 11: 100%|██████████| 44/44 [00:02<00:00, 20.65it/s, Train Loss=5306.2617, Valid Loss=4931.4512, Valid R2=-0.0143, Valid MAE=55.1623]\n",
      "Epoch 12: 100%|██████████| 44/44 [00:02<00:00, 19.69it/s, Train Loss=5181.3782, Valid Loss=4962.4214, Valid R2=-0.0207, Valid MAE=55.3479]\n",
      "Epoch 13: 100%|██████████| 44/44 [00:02<00:00, 20.54it/s, Train Loss=4859.5883, Valid Loss=5415.5342, Valid R2=-0.1138, Valid MAE=59.4875]\n",
      "Epoch 14: 100%|██████████| 44/44 [00:02<00:00, 21.14it/s, Train Loss=4584.2762, Valid Loss=5151.6216, Valid R2=-0.0596, Valid MAE=53.7923]\n",
      "Epoch 15: 100%|██████████| 44/44 [00:02<00:00, 20.81it/s, Train Loss=4727.4944, Valid Loss=5839.2280, Valid R2=-0.2010, Valid MAE=61.9304]\n"
     ]
    },
    {
     "name": "stdout",
     "output_type": "stream",
     "text": [
      "Early Stopped\n",
      "Setting  32 of Parameters Grid is now on progres.\n"
     ]
    },
    {
     "name": "stderr",
     "output_type": "stream",
     "text": [
      "Epoch  0: 100%|██████████| 44/44 [00:02<00:00, 21.18it/s, Train Loss=14833.1067, Valid Loss=10818.4580, Valid R2=-1.2251, Valid MAE=77.3379]\n",
      "Epoch  1: 100%|██████████| 44/44 [00:02<00:00, 20.02it/s, Train Loss=10371.1710, Valid Loss=5764.9736, Valid R2=-0.1857, Valid MAE=50.6899]\n",
      "Epoch  2: 100%|██████████| 44/44 [00:02<00:00, 20.01it/s, Train Loss=6237.2784, Valid Loss=5024.8506, Valid R2=-0.0335, Valid MAE=54.8754]\n",
      "Epoch  3: 100%|██████████| 44/44 [00:02<00:00, 20.28it/s, Train Loss=5843.6473, Valid Loss=4918.0015, Valid R2=-0.0115, Valid MAE=53.2621]\n",
      "Epoch  4: 100%|██████████| 44/44 [00:02<00:00, 20.51it/s, Train Loss=5812.8723, Valid Loss=4912.6895, Valid R2=-0.0104, Valid MAE=53.2793]\n",
      "Epoch  5: 100%|██████████| 44/44 [00:02<00:00, 20.65it/s, Train Loss=5827.1556, Valid Loss=4954.8589, Valid R2=-0.0191, Valid MAE=54.1873]\n",
      "Epoch  6: 100%|██████████| 44/44 [00:02<00:00, 20.61it/s, Train Loss=5785.1147, Valid Loss=4869.5400, Valid R2=-0.0016, Valid MAE=52.3137]\n",
      "Epoch  7: 100%|██████████| 44/44 [00:02<00:00, 20.67it/s, Train Loss=5788.7982, Valid Loss=4911.1860, Valid R2=-0.0101, Valid MAE=53.2489]\n",
      "Epoch  8: 100%|██████████| 44/44 [00:02<00:00, 20.19it/s, Train Loss=5714.1328, Valid Loss=4946.0942, Valid R2=-0.0173, Valid MAE=53.6453]\n",
      "Epoch  9: 100%|██████████| 44/44 [00:02<00:00, 20.59it/s, Train Loss=5759.4724, Valid Loss=5040.0498, Valid R2=-0.0366, Valid MAE=55.2944]\n",
      "Epoch 10: 100%|██████████| 44/44 [00:02<00:00, 20.79it/s, Train Loss=5718.4848, Valid Loss=4891.4331, Valid R2=-0.0061, Valid MAE=52.2121]\n",
      "Epoch 11: 100%|██████████| 44/44 [00:02<00:00, 20.75it/s, Train Loss=5720.8155, Valid Loss=4862.8979, Valid R2=-0.0002, Valid MAE=51.2273]\n",
      "Epoch 12: 100%|██████████| 44/44 [00:02<00:00, 20.85it/s, Train Loss=5741.0429, Valid Loss=4912.4976, Valid R2=-0.0104, Valid MAE=53.1781]\n",
      "Epoch 13: 100%|██████████| 44/44 [00:02<00:00, 20.74it/s, Train Loss=5639.5047, Valid Loss=4908.0854, Valid R2=-0.0095, Valid MAE=53.6822]\n",
      "Epoch 14: 100%|██████████| 44/44 [00:02<00:00, 20.55it/s, Train Loss=5582.7241, Valid Loss=4927.0132, Valid R2=-0.0134, Valid MAE=54.0865]\n",
      "Epoch 15: 100%|██████████| 44/44 [00:02<00:00, 20.89it/s, Train Loss=5479.2648, Valid Loss=4586.6240, Valid R2=0.0566, Valid MAE=50.8993]\n",
      "Epoch 16: 100%|██████████| 44/44 [00:02<00:00, 21.01it/s, Train Loss=5531.5145, Valid Loss=4815.6963, Valid R2=0.0095, Valid MAE=53.1458]\n",
      "Epoch 17: 100%|██████████| 44/44 [00:02<00:00, 20.48it/s, Train Loss=5512.8947, Valid Loss=4851.8188, Valid R2=0.0021, Valid MAE=54.1191]\n",
      "Epoch 18: 100%|██████████| 44/44 [00:02<00:00, 20.33it/s, Train Loss=5434.5875, Valid Loss=5237.3262, Valid R2=-0.0772, Valid MAE=57.9617]\n",
      "Epoch 19: 100%|██████████| 44/44 [00:02<00:00, 21.07it/s, Train Loss=5348.6596, Valid Loss=5190.4438, Valid R2=-0.0676, Valid MAE=57.2857]\n",
      "Epoch 20: 100%|██████████| 44/44 [00:02<00:00, 20.97it/s, Train Loss=5198.1419, Valid Loss=4832.4512, Valid R2=0.0061, Valid MAE=53.6524]\n",
      "Epoch 21: 100%|██████████| 44/44 [00:02<00:00, 20.78it/s, Train Loss=5090.5756, Valid Loss=4722.2397, Valid R2=0.0287, Valid MAE=50.5075]\n"
     ]
    },
    {
     "name": "stdout",
     "output_type": "stream",
     "text": [
      "Early Stopped\n",
      "Setting  33 of Parameters Grid is now on progres.\n"
     ]
    },
    {
     "name": "stderr",
     "output_type": "stream",
     "text": [
      "Epoch  0: 100%|██████████| 44/44 [00:02<00:00, 20.29it/s, Train Loss=15028.2737, Valid Loss=11246.6094, Valid R2=-1.3132, Valid MAE=79.9435]\n",
      "Epoch  1: 100%|██████████| 44/44 [00:02<00:00, 20.94it/s, Train Loss=12002.0471, Valid Loss=8291.4375, Valid R2=-0.7054, Valid MAE=62.4020]\n",
      "Epoch  2: 100%|██████████| 44/44 [00:02<00:00, 20.85it/s, Train Loss=8271.7173, Valid Loss=4900.8862, Valid R2=-0.0080, Valid MAE=50.2389]\n",
      "Epoch  3: 100%|██████████| 44/44 [00:02<00:00, 20.68it/s, Train Loss=5893.1801, Valid Loss=4933.7451, Valid R2=-0.0148, Valid MAE=53.6085]\n",
      "Epoch  4: 100%|██████████| 44/44 [00:02<00:00, 20.81it/s, Train Loss=5928.4378, Valid Loss=4903.6562, Valid R2=-0.0086, Valid MAE=52.9496]\n",
      "Epoch  5: 100%|██████████| 44/44 [00:02<00:00, 20.89it/s, Train Loss=5917.3532, Valid Loss=4923.3301, Valid R2=-0.0126, Valid MAE=53.4333]\n",
      "Epoch  6: 100%|██████████| 44/44 [00:02<00:00, 20.79it/s, Train Loss=5820.0999, Valid Loss=4923.2197, Valid R2=-0.0126, Valid MAE=53.4743]\n",
      "Epoch  7: 100%|██████████| 44/44 [00:02<00:00, 20.20it/s, Train Loss=5796.9965, Valid Loss=4914.6201, Valid R2=-0.0108, Valid MAE=53.3489]\n",
      "Epoch  8: 100%|██████████| 44/44 [00:02<00:00, 19.80it/s, Train Loss=5837.8079, Valid Loss=4905.7969, Valid R2=-0.0090, Valid MAE=53.3380]\n"
     ]
    },
    {
     "name": "stdout",
     "output_type": "stream",
     "text": [
      "Early Stopped\n",
      "Setting  34 of Parameters Grid is now on progres.\n"
     ]
    },
    {
     "name": "stderr",
     "output_type": "stream",
     "text": [
      "Epoch  0: 100%|██████████| 44/44 [00:02<00:00, 20.05it/s, Train Loss=14975.5422, Valid Loss=11008.8740, Valid R2=-1.2643, Valid MAE=78.4959]\n",
      "Epoch  1: 100%|██████████| 44/44 [00:02<00:00, 21.54it/s, Train Loss=10368.0070, Valid Loss=5880.6099, Valid R2=-0.2095, Valid MAE=51.1037]\n",
      "Epoch  2: 100%|██████████| 44/44 [00:02<00:00, 21.08it/s, Train Loss=6238.8783, Valid Loss=4983.6499, Valid R2=-0.0250, Valid MAE=54.6828]\n",
      "Epoch  3: 100%|██████████| 44/44 [00:02<00:00, 20.82it/s, Train Loss=5898.2724, Valid Loss=4908.4038, Valid R2=-0.0095, Valid MAE=53.3253]\n",
      "Epoch  4: 100%|██████████| 44/44 [00:02<00:00, 20.85it/s, Train Loss=5790.3247, Valid Loss=4919.7305, Valid R2=-0.0119, Valid MAE=53.6817]\n",
      "Epoch  5: 100%|██████████| 44/44 [00:02<00:00, 20.35it/s, Train Loss=5829.0073, Valid Loss=4889.5996, Valid R2=-0.0057, Valid MAE=53.0121]\n",
      "Epoch  6: 100%|██████████| 44/44 [00:02<00:00, 20.59it/s, Train Loss=5905.4308, Valid Loss=4874.6211, Valid R2=-0.0026, Valid MAE=52.5611]\n",
      "Epoch  7: 100%|██████████| 44/44 [00:02<00:00, 20.51it/s, Train Loss=5825.3447, Valid Loss=4857.7363, Valid R2=0.0009, Valid MAE=52.4760]\n",
      "Epoch  8: 100%|██████████| 44/44 [00:02<00:00, 20.45it/s, Train Loss=5890.5198, Valid Loss=4946.0195, Valid R2=-0.0173, Valid MAE=54.2243]\n",
      "Epoch  9: 100%|██████████| 44/44 [00:02<00:00, 20.50it/s, Train Loss=5859.2016, Valid Loss=4929.1724, Valid R2=-0.0138, Valid MAE=53.9477]\n",
      "Epoch 10: 100%|██████████| 44/44 [00:02<00:00, 20.59it/s, Train Loss=5726.5873, Valid Loss=4922.2607, Valid R2=-0.0124, Valid MAE=53.9622]\n",
      "Epoch 11: 100%|██████████| 44/44 [00:02<00:00, 20.18it/s, Train Loss=5906.5920, Valid Loss=4907.4233, Valid R2=-0.0093, Valid MAE=53.7381]\n",
      "Epoch 12: 100%|██████████| 44/44 [00:02<00:00, 20.62it/s, Train Loss=5769.8308, Valid Loss=4846.9985, Valid R2=0.0031, Valid MAE=52.8537]\n",
      "Epoch 13: 100%|██████████| 44/44 [00:02<00:00, 20.99it/s, Train Loss=5700.5393, Valid Loss=4872.4590, Valid R2=-0.0022, Valid MAE=54.0901]\n",
      "Epoch 14: 100%|██████████| 44/44 [00:02<00:00, 19.83it/s, Train Loss=5668.4175, Valid Loss=4791.7778, Valid R2=0.0144, Valid MAE=54.0276]\n",
      "Epoch 15: 100%|██████████| 44/44 [00:02<00:00, 20.28it/s, Train Loss=5447.4428, Valid Loss=4591.0161, Valid R2=0.0557, Valid MAE=52.3688]\n",
      "Epoch 16: 100%|██████████| 44/44 [00:02<00:00, 20.33it/s, Train Loss=5440.8544, Valid Loss=4770.4961, Valid R2=0.0188, Valid MAE=54.2203]\n",
      "Epoch 17: 100%|██████████| 44/44 [00:02<00:00, 19.66it/s, Train Loss=5185.7981, Valid Loss=4323.7612, Valid R2=0.1107, Valid MAE=48.4511]\n",
      "Epoch 18: 100%|██████████| 44/44 [00:02<00:00, 19.74it/s, Train Loss=5117.1542, Valid Loss=4262.7017, Valid R2=0.1233, Valid MAE=48.7373]\n",
      "Epoch 19: 100%|██████████| 44/44 [00:02<00:00, 20.41it/s, Train Loss=4830.0808, Valid Loss=4489.4575, Valid R2=0.0766, Valid MAE=48.8832]\n",
      "Epoch 20: 100%|██████████| 44/44 [00:02<00:00, 20.35it/s, Train Loss=4751.3982, Valid Loss=4262.6074, Valid R2=0.1233, Valid MAE=48.2407]\n",
      "Epoch 21: 100%|██████████| 44/44 [00:02<00:00, 20.04it/s, Train Loss=4528.4973, Valid Loss=4331.1636, Valid R2=0.1092, Valid MAE=47.3507]\n",
      "Epoch 22: 100%|██████████| 44/44 [00:02<00:00, 20.98it/s, Train Loss=4365.7144, Valid Loss=4407.9292, Valid R2=0.0934, Valid MAE=49.8684]\n",
      "Epoch 23: 100%|██████████| 44/44 [00:01<00:00, 22.58it/s, Train Loss=4136.1786, Valid Loss=4176.5464, Valid R2=0.1410, Valid MAE=48.9158]\n",
      "Epoch 24: 100%|██████████| 44/44 [00:01<00:00, 22.58it/s, Train Loss=3957.2936, Valid Loss=4452.5498, Valid R2=0.0842, Valid MAE=52.3012]\n",
      "Epoch 25: 100%|██████████| 44/44 [00:01<00:00, 22.76it/s, Train Loss=3721.2062, Valid Loss=5263.6733, Valid R2=-0.0826, Valid MAE=57.5430]\n",
      "Epoch 26: 100%|██████████| 44/44 [00:01<00:00, 22.72it/s, Train Loss=3736.3398, Valid Loss=4186.4097, Valid R2=0.1390, Valid MAE=48.6225]\n",
      "Epoch 27: 100%|██████████| 44/44 [00:01<00:00, 22.69it/s, Train Loss=3488.6732, Valid Loss=4026.4277, Valid R2=0.1719, Valid MAE=47.9053]\n",
      "Epoch 28: 100%|██████████| 44/44 [00:01<00:00, 22.66it/s, Train Loss=3549.1344, Valid Loss=4180.0420, Valid R2=0.1403, Valid MAE=49.7882]\n",
      "Epoch 29: 100%|██████████| 44/44 [00:01<00:00, 22.67it/s, Train Loss=3174.9812, Valid Loss=4285.6289, Valid R2=0.1185, Valid MAE=48.9562]\n",
      "Epoch 30: 100%|██████████| 44/44 [00:01<00:00, 22.75it/s, Train Loss=3215.2865, Valid Loss=4262.3750, Valid R2=0.1233, Valid MAE=47.7280]\n",
      "Epoch 31: 100%|██████████| 44/44 [00:02<00:00, 21.76it/s, Train Loss=3107.6764, Valid Loss=4216.4502, Valid R2=0.1328, Valid MAE=47.4373]\n",
      "Epoch 32: 100%|██████████| 44/44 [00:02<00:00, 20.45it/s, Train Loss=2815.0939, Valid Loss=4900.5098, Valid R2=-0.0079, Valid MAE=51.9517]\n",
      "Epoch 33: 100%|██████████| 44/44 [00:02<00:00, 19.45it/s, Train Loss=2603.5544, Valid Loss=4310.4595, Valid R2=0.1134, Valid MAE=48.0253]\n"
     ]
    },
    {
     "name": "stdout",
     "output_type": "stream",
     "text": [
      "Early Stopped\n",
      "Setting  35 of Parameters Grid is now on progres.\n"
     ]
    },
    {
     "name": "stderr",
     "output_type": "stream",
     "text": [
      "Epoch  0: 100%|██████████| 44/44 [00:02<00:00, 20.12it/s, Train Loss=15027.1566, Valid Loss=11308.4180, Valid R2=-1.3259, Valid MAE=80.3028]\n",
      "Epoch  1: 100%|██████████| 44/44 [00:02<00:00, 19.43it/s, Train Loss=11534.0677, Valid Loss=7403.5088, Valid R2=-0.5227, Valid MAE=57.8964]\n",
      "Epoch  2: 100%|██████████| 44/44 [00:02<00:00, 19.57it/s, Train Loss=8079.2674, Valid Loss=5453.2979, Valid R2=-0.1216, Valid MAE=49.7678]\n",
      "Epoch  3: 100%|██████████| 44/44 [00:02<00:00, 19.71it/s, Train Loss=6360.3100, Valid Loss=4863.1465, Valid R2=-0.0002, Valid MAE=51.4824]\n",
      "Epoch  4: 100%|██████████| 44/44 [00:02<00:00, 19.74it/s, Train Loss=5864.5909, Valid Loss=4941.6914, Valid R2=-0.0164, Valid MAE=53.7518]\n",
      "Epoch  5: 100%|██████████| 44/44 [00:02<00:00, 19.52it/s, Train Loss=5848.6327, Valid Loss=4915.7407, Valid R2=-0.0111, Valid MAE=53.2211]\n",
      "Epoch  6: 100%|██████████| 44/44 [00:02<00:00, 19.54it/s, Train Loss=5793.3435, Valid Loss=4931.2744, Valid R2=-0.0142, Valid MAE=53.5690]\n",
      "Epoch  7: 100%|██████████| 44/44 [00:02<00:00, 19.55it/s, Train Loss=5892.0778, Valid Loss=4908.4819, Valid R2=-0.0096, Valid MAE=53.1202]\n",
      "Epoch  8: 100%|██████████| 44/44 [00:02<00:00, 19.90it/s, Train Loss=5846.3390, Valid Loss=4908.1064, Valid R2=-0.0095, Valid MAE=53.1211]\n",
      "Epoch  9: 100%|██████████| 44/44 [00:02<00:00, 19.66it/s, Train Loss=5799.5611, Valid Loss=4886.1787, Valid R2=-0.0050, Valid MAE=53.0275]\n"
     ]
    },
    {
     "name": "stdout",
     "output_type": "stream",
     "text": [
      "Early Stopped\n",
      "Setting  36 of Parameters Grid is now on progres.\n"
     ]
    },
    {
     "name": "stderr",
     "output_type": "stream",
     "text": [
      "Epoch  0: 100%|██████████| 44/44 [00:02<00:00, 20.01it/s, Train Loss=15216.6736, Valid Loss=12135.0928, Valid R2=-1.4959, Valid MAE=85.2824]\n",
      "Epoch  1: 100%|██████████| 44/44 [00:02<00:00, 20.25it/s, Train Loss=13848.7768, Valid Loss=9929.3740, Valid R2=-1.0422, Valid MAE=71.9285]\n",
      "Epoch  2: 100%|██████████| 44/44 [00:02<00:00, 20.82it/s, Train Loss=10171.3607, Valid Loss=5718.8354, Valid R2=-0.1762, Valid MAE=50.5347]\n",
      "Epoch  3: 100%|██████████| 44/44 [00:02<00:00, 20.60it/s, Train Loss=6195.9713, Valid Loss=4987.6987, Valid R2=-0.0259, Valid MAE=54.7194]\n",
      "Epoch  4: 100%|██████████| 44/44 [00:02<00:00, 20.64it/s, Train Loss=5849.0483, Valid Loss=5002.1001, Valid R2=-0.0288, Valid MAE=54.9380]\n",
      "Epoch  5: 100%|██████████| 44/44 [00:02<00:00, 20.12it/s, Train Loss=5843.3732, Valid Loss=4847.1782, Valid R2=0.0030, Valid MAE=51.7428]\n",
      "Epoch  6: 100%|██████████| 44/44 [00:02<00:00, 20.37it/s, Train Loss=5871.7544, Valid Loss=4937.9590, Valid R2=-0.0156, Valid MAE=53.9966]\n",
      "Epoch  7: 100%|██████████| 44/44 [00:02<00:00, 21.03it/s, Train Loss=5948.8838, Valid Loss=5002.6963, Valid R2=-0.0289, Valid MAE=55.1182]\n",
      "Epoch  8: 100%|██████████| 44/44 [00:02<00:00, 20.98it/s, Train Loss=5831.7241, Valid Loss=4951.6797, Valid R2=-0.0184, Valid MAE=54.4363]\n",
      "Epoch  9: 100%|██████████| 44/44 [00:02<00:00, 20.41it/s, Train Loss=5819.7922, Valid Loss=4885.4741, Valid R2=-0.0048, Valid MAE=53.6803]\n",
      "Epoch 10: 100%|██████████| 44/44 [00:02<00:00, 20.51it/s, Train Loss=5775.3995, Valid Loss=4809.9487, Valid R2=0.0107, Valid MAE=52.2651]\n",
      "Epoch 11: 100%|██████████| 44/44 [00:02<00:00, 20.80it/s, Train Loss=5769.5471, Valid Loss=4773.1436, Valid R2=0.0183, Valid MAE=49.3108]\n",
      "Epoch 12: 100%|██████████| 44/44 [00:02<00:00, 20.24it/s, Train Loss=5660.2678, Valid Loss=4665.7915, Valid R2=0.0404, Valid MAE=50.6347]\n",
      "Epoch 13: 100%|██████████| 44/44 [00:02<00:00, 19.79it/s, Train Loss=5559.1369, Valid Loss=4620.1782, Valid R2=0.0497, Valid MAE=51.9767]\n",
      "Epoch 14: 100%|██████████| 44/44 [00:02<00:00, 19.98it/s, Train Loss=5529.5916, Valid Loss=4630.8970, Valid R2=0.0475, Valid MAE=53.3690]\n",
      "Epoch 15: 100%|██████████| 44/44 [00:02<00:00, 20.26it/s, Train Loss=5282.9939, Valid Loss=4490.5293, Valid R2=0.0764, Valid MAE=52.3178]\n",
      "Epoch 16: 100%|██████████| 44/44 [00:02<00:00, 20.09it/s, Train Loss=5166.9759, Valid Loss=4477.2417, Valid R2=0.0791, Valid MAE=51.2819]\n",
      "Epoch 17: 100%|██████████| 44/44 [00:02<00:00, 20.20it/s, Train Loss=4991.0239, Valid Loss=4202.7261, Valid R2=0.1356, Valid MAE=51.0588]\n",
      "Epoch 18: 100%|██████████| 44/44 [00:02<00:00, 20.09it/s, Train Loss=4951.0818, Valid Loss=4171.9883, Valid R2=0.1419, Valid MAE=49.3692]\n",
      "Epoch 19: 100%|██████████| 44/44 [00:02<00:00, 20.09it/s, Train Loss=4706.0873, Valid Loss=4054.9631, Valid R2=0.1660, Valid MAE=49.0744]\n",
      "Epoch 20: 100%|██████████| 44/44 [00:02<00:00, 19.90it/s, Train Loss=4819.6926, Valid Loss=3865.8169, Valid R2=0.2049, Valid MAE=46.2535]\n",
      "Epoch 21: 100%|██████████| 44/44 [00:02<00:00, 20.00it/s, Train Loss=4739.5481, Valid Loss=3917.5383, Valid R2=0.1943, Valid MAE=46.1835]\n",
      "Epoch 22: 100%|██████████| 44/44 [00:02<00:00, 19.59it/s, Train Loss=4441.8085, Valid Loss=3587.5710, Valid R2=0.2621, Valid MAE=46.1567]\n",
      "Epoch 23: 100%|██████████| 44/44 [00:02<00:00, 20.57it/s, Train Loss=4295.5505, Valid Loss=3438.1282, Valid R2=0.2929, Valid MAE=45.5304]\n",
      "Epoch 24: 100%|██████████| 44/44 [00:02<00:00, 20.87it/s, Train Loss=4115.3670, Valid Loss=3316.4507, Valid R2=0.3179, Valid MAE=44.8831]\n",
      "Epoch 25: 100%|██████████| 44/44 [00:02<00:00, 20.93it/s, Train Loss=3932.9956, Valid Loss=3214.1006, Valid R2=0.3389, Valid MAE=43.7613]\n",
      "Epoch 26: 100%|██████████| 44/44 [00:02<00:00, 20.88it/s, Train Loss=3712.5071, Valid Loss=2967.0249, Valid R2=0.3898, Valid MAE=42.8549]\n",
      "Epoch 27: 100%|██████████| 44/44 [00:02<00:00, 20.67it/s, Train Loss=3618.4960, Valid Loss=3325.1172, Valid R2=0.3161, Valid MAE=42.5228]\n",
      "Epoch 28: 100%|██████████| 44/44 [00:02<00:00, 20.69it/s, Train Loss=3446.9740, Valid Loss=3173.4866, Valid R2=0.3473, Valid MAE=43.6035]\n",
      "Epoch 29: 100%|██████████| 44/44 [00:02<00:00, 20.57it/s, Train Loss=3318.4903, Valid Loss=3257.9719, Valid R2=0.3299, Valid MAE=44.2162]\n",
      "Epoch 30: 100%|██████████| 44/44 [00:02<00:00, 20.19it/s, Train Loss=3667.1124, Valid Loss=2777.3118, Valid R2=0.4288, Valid MAE=41.7722]\n",
      "Epoch 31: 100%|██████████| 44/44 [00:02<00:00, 20.82it/s, Train Loss=3215.3980, Valid Loss=3104.8118, Valid R2=0.3614, Valid MAE=43.2584]\n",
      "Epoch 32: 100%|██████████| 44/44 [00:02<00:00, 21.08it/s, Train Loss=2973.6365, Valid Loss=2797.9487, Valid R2=0.4245, Valid MAE=40.6016]\n",
      "Epoch 33: 100%|██████████| 44/44 [00:02<00:00, 21.86it/s, Train Loss=2706.1363, Valid Loss=2743.5618, Valid R2=0.4357, Valid MAE=42.1104]\n",
      "Epoch 34: 100%|██████████| 44/44 [00:02<00:00, 20.50it/s, Train Loss=3039.4522, Valid Loss=3609.6646, Valid R2=0.2576, Valid MAE=48.9151]\n",
      "Epoch 35: 100%|██████████| 44/44 [00:02<00:00, 20.99it/s, Train Loss=3064.5229, Valid Loss=3218.3494, Valid R2=0.3381, Valid MAE=45.5784]\n",
      "Epoch 36: 100%|██████████| 44/44 [00:02<00:00, 21.02it/s, Train Loss=2666.1281, Valid Loss=2953.8066, Valid R2=0.3925, Valid MAE=43.2197]\n",
      "Epoch 37: 100%|██████████| 44/44 [00:02<00:00, 20.08it/s, Train Loss=2439.0240, Valid Loss=2903.2808, Valid R2=0.4029, Valid MAE=42.7895]\n",
      "Epoch 38: 100%|██████████| 44/44 [00:02<00:00, 20.15it/s, Train Loss=2591.2659, Valid Loss=2713.6736, Valid R2=0.4419, Valid MAE=39.7041]\n",
      "Epoch 39: 100%|██████████| 44/44 [00:02<00:00, 20.06it/s, Train Loss=2378.6273, Valid Loss=2813.0464, Valid R2=0.4214, Valid MAE=42.1440]\n",
      "Epoch 40: 100%|██████████| 44/44 [00:02<00:00, 20.74it/s, Train Loss=2404.2810, Valid Loss=2872.0745, Valid R2=0.4093, Valid MAE=41.8456]\n",
      "Epoch 41: 100%|██████████| 44/44 [00:02<00:00, 20.86it/s, Train Loss=2278.7900, Valid Loss=2633.9365, Valid R2=0.4583, Valid MAE=39.6040]\n",
      "Epoch 42: 100%|██████████| 44/44 [00:02<00:00, 20.87it/s, Train Loss=2081.8089, Valid Loss=3035.8943, Valid R2=0.3756, Valid MAE=43.5964]\n",
      "Epoch 43: 100%|██████████| 44/44 [00:02<00:00, 20.49it/s, Train Loss=2037.2187, Valid Loss=2829.1199, Valid R2=0.4181, Valid MAE=42.0119]\n",
      "Epoch 44: 100%|██████████| 44/44 [00:02<00:00, 20.64it/s, Train Loss=1959.3472, Valid Loss=2586.2793, Valid R2=0.4681, Valid MAE=39.2569]\n",
      "Epoch 45: 100%|██████████| 44/44 [00:02<00:00, 20.57it/s, Train Loss=1923.3591, Valid Loss=2778.1948, Valid R2=0.4286, Valid MAE=41.2395]\n",
      "Epoch 46: 100%|██████████| 44/44 [00:02<00:00, 20.57it/s, Train Loss=1837.8607, Valid Loss=2576.9807, Valid R2=0.4700, Valid MAE=39.3538]\n",
      "Epoch 47: 100%|██████████| 44/44 [00:02<00:00, 21.24it/s, Train Loss=1760.0942, Valid Loss=2557.3918, Valid R2=0.4740, Valid MAE=39.5486]\n",
      "Epoch 48: 100%|██████████| 44/44 [00:02<00:00, 20.80it/s, Train Loss=1832.9775, Valid Loss=2531.9431, Valid R2=0.4792, Valid MAE=39.6059]\n",
      "Epoch 49: 100%|██████████| 44/44 [00:02<00:00, 20.91it/s, Train Loss=1668.7878, Valid Loss=2722.3750, Valid R2=0.4401, Valid MAE=39.9233]\n"
     ]
    },
    {
     "name": "stdout",
     "output_type": "stream",
     "text": [
      "Setting  37 of Parameters Grid is now on progres.\n"
     ]
    },
    {
     "name": "stderr",
     "output_type": "stream",
     "text": [
      "Epoch  0: 100%|██████████| 44/44 [00:02<00:00, 20.76it/s, Train Loss=15280.5797, Valid Loss=12239.6719, Valid R2=-1.5174, Valid MAE=85.8892]\n",
      "Epoch  1: 100%|██████████| 44/44 [00:02<00:00, 21.01it/s, Train Loss=13973.1053, Valid Loss=10029.6025, Valid R2=-1.0629, Valid MAE=72.5186]\n",
      "Epoch  2: 100%|██████████| 44/44 [00:02<00:00, 21.13it/s, Train Loss=9666.5675, Valid Loss=5109.4243, Valid R2=-0.0509, Valid MAE=49.6747]\n",
      "Epoch  3: 100%|██████████| 44/44 [00:02<00:00, 20.97it/s, Train Loss=6036.8725, Valid Loss=4959.1763, Valid R2=-0.0200, Valid MAE=53.9972]\n",
      "Epoch  4: 100%|██████████| 44/44 [00:02<00:00, 20.83it/s, Train Loss=5829.5161, Valid Loss=4930.7383, Valid R2=-0.0141, Valid MAE=53.5121]\n",
      "Epoch  5: 100%|██████████| 44/44 [00:02<00:00, 20.01it/s, Train Loss=5885.8500, Valid Loss=4879.5562, Valid R2=-0.0036, Valid MAE=52.3245]\n",
      "Epoch  6: 100%|██████████| 44/44 [00:02<00:00, 20.49it/s, Train Loss=5941.4453, Valid Loss=4955.6831, Valid R2=-0.0193, Valid MAE=54.0531]\n",
      "Epoch  7: 100%|██████████| 44/44 [00:02<00:00, 20.52it/s, Train Loss=5836.7517, Valid Loss=4898.2515, Valid R2=-0.0075, Valid MAE=53.2583]\n",
      "Epoch  8: 100%|██████████| 44/44 [00:02<00:00, 19.96it/s, Train Loss=5823.9777, Valid Loss=4862.1143, Valid R2=-0.0000, Valid MAE=53.3086]\n",
      "Epoch  9: 100%|██████████| 44/44 [00:02<00:00, 20.74it/s, Train Loss=5772.0803, Valid Loss=4747.5386, Valid R2=0.0235, Valid MAE=51.9379]\n",
      "Epoch 10: 100%|██████████| 44/44 [00:02<00:00, 20.76it/s, Train Loss=5550.8291, Valid Loss=4796.3711, Valid R2=0.0135, Valid MAE=53.9611]\n",
      "Epoch 11: 100%|██████████| 44/44 [00:02<00:00, 20.29it/s, Train Loss=5256.8308, Valid Loss=4511.0981, Valid R2=0.0722, Valid MAE=51.0570]\n",
      "Epoch 12: 100%|██████████| 44/44 [00:02<00:00, 20.86it/s, Train Loss=5021.4618, Valid Loss=4351.8813, Valid R2=0.1049, Valid MAE=49.3887]\n",
      "Epoch 13: 100%|██████████| 44/44 [00:02<00:00, 20.84it/s, Train Loss=4663.2179, Valid Loss=4213.7734, Valid R2=0.1333, Valid MAE=49.1508]\n",
      "Epoch 14: 100%|██████████| 44/44 [00:02<00:00, 20.81it/s, Train Loss=4491.1913, Valid Loss=4772.0078, Valid R2=0.0185, Valid MAE=54.2159]\n",
      "Epoch 15: 100%|██████████| 44/44 [00:02<00:00, 20.39it/s, Train Loss=4482.1875, Valid Loss=4487.5464, Valid R2=0.0770, Valid MAE=48.2480]\n",
      "Epoch 16: 100%|██████████| 44/44 [00:02<00:00, 20.43it/s, Train Loss=4507.7475, Valid Loss=4476.2686, Valid R2=0.0793, Valid MAE=53.0946]\n",
      "Epoch 17: 100%|██████████| 44/44 [00:02<00:00, 20.90it/s, Train Loss=4293.5514, Valid Loss=3946.0305, Valid R2=0.1884, Valid MAE=48.0512]\n",
      "Epoch 18: 100%|██████████| 44/44 [00:02<00:00, 20.31it/s, Train Loss=4033.1860, Valid Loss=4233.7100, Valid R2=0.1292, Valid MAE=48.3367]\n",
      "Epoch 19: 100%|██████████| 44/44 [00:02<00:00, 21.02it/s, Train Loss=4131.0138, Valid Loss=4268.4678, Valid R2=0.1221, Valid MAE=50.8112]\n",
      "Epoch 20: 100%|██████████| 44/44 [00:02<00:00, 19.97it/s, Train Loss=3724.0747, Valid Loss=4204.5679, Valid R2=0.1352, Valid MAE=49.7041]\n",
      "Epoch 21: 100%|██████████| 44/44 [00:02<00:00, 19.60it/s, Train Loss=3708.5640, Valid Loss=3993.4968, Valid R2=0.1786, Valid MAE=48.9237]\n",
      "Epoch 22: 100%|██████████| 44/44 [00:02<00:00, 21.14it/s, Train Loss=3405.2556, Valid Loss=4003.4036, Valid R2=0.1766, Valid MAE=47.0114]\n",
      "Epoch 23: 100%|██████████| 44/44 [00:02<00:00, 21.31it/s, Train Loss=3345.1561, Valid Loss=4086.2026, Valid R2=0.1596, Valid MAE=48.8678]\n"
     ]
    },
    {
     "name": "stdout",
     "output_type": "stream",
     "text": [
      "Early Stopped\n",
      "Setting  38 of Parameters Grid is now on progres.\n"
     ]
    },
    {
     "name": "stderr",
     "output_type": "stream",
     "text": [
      "Epoch  0: 100%|██████████| 44/44 [00:02<00:00, 21.08it/s, Train Loss=15253.3042, Valid Loss=12236.0723, Valid R2=-1.5167, Valid MAE=85.8738]\n",
      "Epoch  1: 100%|██████████| 44/44 [00:02<00:00, 20.55it/s, Train Loss=14224.2238, Valid Loss=10749.4463, Valid R2=-1.2109, Valid MAE=76.8871]\n",
      "Epoch  2: 100%|██████████| 44/44 [00:02<00:00, 21.39it/s, Train Loss=12141.3078, Valid Loss=8550.1074, Valid R2=-0.7586, Valid MAE=63.8103]\n",
      "Epoch  3: 100%|██████████| 44/44 [00:02<00:00, 21.09it/s, Train Loss=8674.8829, Valid Loss=5058.6963, Valid R2=-0.0405, Valid MAE=49.6433]\n",
      "Epoch  4: 100%|██████████| 44/44 [00:02<00:00, 21.21it/s, Train Loss=5975.8701, Valid Loss=4942.7109, Valid R2=-0.0166, Valid MAE=53.5417]\n",
      "Epoch  5: 100%|██████████| 44/44 [00:02<00:00, 21.04it/s, Train Loss=5848.2326, Valid Loss=4929.7432, Valid R2=-0.0139, Valid MAE=53.4067]\n",
      "Epoch  6: 100%|██████████| 44/44 [00:02<00:00, 20.45it/s, Train Loss=5801.7261, Valid Loss=4968.6675, Valid R2=-0.0219, Valid MAE=54.1924]\n",
      "Epoch  7: 100%|██████████| 44/44 [00:02<00:00, 21.63it/s, Train Loss=5850.9820, Valid Loss=4924.6265, Valid R2=-0.0129, Valid MAE=53.4072]\n",
      "Epoch  8: 100%|██████████| 44/44 [00:02<00:00, 20.65it/s, Train Loss=5828.4548, Valid Loss=4921.0088, Valid R2=-0.0121, Valid MAE=53.5043]\n",
      "Epoch  9: 100%|██████████| 44/44 [00:02<00:00, 21.82it/s, Train Loss=5906.0711, Valid Loss=4899.9897, Valid R2=-0.0078, Valid MAE=53.1172]\n",
      "Epoch 10: 100%|██████████| 44/44 [00:02<00:00, 20.63it/s, Train Loss=5834.3631, Valid Loss=4803.7363, Valid R2=0.0120, Valid MAE=52.0060]\n",
      "Epoch 11: 100%|██████████| 44/44 [00:02<00:00, 20.92it/s, Train Loss=5726.4823, Valid Loss=4849.2520, Valid R2=0.0026, Valid MAE=53.4710]\n",
      "Epoch 12: 100%|██████████| 44/44 [00:02<00:00, 21.23it/s, Train Loss=5578.3019, Valid Loss=4739.0205, Valid R2=0.0253, Valid MAE=51.2998]\n",
      "Epoch 13: 100%|██████████| 44/44 [00:02<00:00, 20.56it/s, Train Loss=5481.0930, Valid Loss=4721.2886, Valid R2=0.0289, Valid MAE=52.3078]\n",
      "Epoch 14: 100%|██████████| 44/44 [00:02<00:00, 20.51it/s, Train Loss=5322.8474, Valid Loss=4704.8213, Valid R2=0.0323, Valid MAE=52.4480]\n",
      "Epoch 15: 100%|██████████| 44/44 [00:02<00:00, 20.04it/s, Train Loss=5277.8981, Valid Loss=4477.2388, Valid R2=0.0791, Valid MAE=50.0529]\n",
      "Epoch 16: 100%|██████████| 44/44 [00:02<00:00, 19.82it/s, Train Loss=5213.9697, Valid Loss=4599.8594, Valid R2=0.0539, Valid MAE=53.7790]\n",
      "Epoch 17: 100%|██████████| 44/44 [00:02<00:00, 20.92it/s, Train Loss=5080.6787, Valid Loss=4450.9854, Valid R2=0.0845, Valid MAE=48.0835]\n",
      "Epoch 18: 100%|██████████| 44/44 [00:02<00:00, 21.13it/s, Train Loss=4922.3067, Valid Loss=4390.2817, Valid R2=0.0970, Valid MAE=50.8604]\n",
      "Epoch 19: 100%|██████████| 44/44 [00:02<00:00, 21.45it/s, Train Loss=4707.1351, Valid Loss=4333.8633, Valid R2=0.1086, Valid MAE=50.4395]\n",
      "Epoch 20: 100%|██████████| 44/44 [00:02<00:00, 21.53it/s, Train Loss=4781.1523, Valid Loss=4287.3438, Valid R2=0.1182, Valid MAE=50.3101]\n",
      "Epoch 21: 100%|██████████| 44/44 [00:02<00:00, 21.15it/s, Train Loss=4625.7204, Valid Loss=4334.7891, Valid R2=0.1084, Valid MAE=49.6790]\n",
      "Epoch 22: 100%|██████████| 44/44 [00:02<00:00, 20.96it/s, Train Loss=4338.6758, Valid Loss=4165.2710, Valid R2=0.1433, Valid MAE=49.6393]\n",
      "Epoch 23: 100%|██████████| 44/44 [00:02<00:00, 20.79it/s, Train Loss=4239.5689, Valid Loss=4167.6235, Valid R2=0.1428, Valid MAE=47.8511]\n",
      "Epoch 24: 100%|██████████| 44/44 [00:02<00:00, 20.61it/s, Train Loss=4197.2923, Valid Loss=3981.6528, Valid R2=0.1811, Valid MAE=49.7839]\n",
      "Epoch 25: 100%|██████████| 44/44 [00:02<00:00, 20.54it/s, Train Loss=4031.4113, Valid Loss=4174.9355, Valid R2=0.1413, Valid MAE=51.0919]\n",
      "Epoch 26: 100%|██████████| 44/44 [00:02<00:00, 20.68it/s, Train Loss=3783.0899, Valid Loss=3874.0205, Valid R2=0.2032, Valid MAE=46.0744]\n",
      "Epoch 27: 100%|██████████| 44/44 [00:02<00:00, 20.94it/s, Train Loss=3663.8641, Valid Loss=4502.1265, Valid R2=0.0740, Valid MAE=53.3544]\n",
      "Epoch 28: 100%|██████████| 44/44 [00:02<00:00, 20.76it/s, Train Loss=3446.6021, Valid Loss=4053.7488, Valid R2=0.1662, Valid MAE=47.3326]\n",
      "Epoch 29: 100%|██████████| 44/44 [00:02<00:00, 20.65it/s, Train Loss=3284.2407, Valid Loss=4556.8237, Valid R2=0.0628, Valid MAE=53.6814]\n",
      "Epoch 30: 100%|██████████| 44/44 [00:02<00:00, 19.76it/s, Train Loss=2986.1708, Valid Loss=3940.6887, Valid R2=0.1895, Valid MAE=46.0921]\n",
      "Epoch 31: 100%|██████████| 44/44 [00:02<00:00, 20.64it/s, Train Loss=3050.6589, Valid Loss=4213.2012, Valid R2=0.1334, Valid MAE=49.7645]\n",
      "Epoch 32: 100%|██████████| 44/44 [00:02<00:00, 21.50it/s, Train Loss=2737.4169, Valid Loss=4083.2051, Valid R2=0.1602, Valid MAE=49.0205]\n"
     ]
    },
    {
     "name": "stdout",
     "output_type": "stream",
     "text": [
      "Early Stopped\n",
      "Setting  39 of Parameters Grid is now on progres.\n"
     ]
    },
    {
     "name": "stderr",
     "output_type": "stream",
     "text": [
      "Epoch  0: 100%|██████████| 44/44 [00:02<00:00, 21.13it/s, Train Loss=15335.0556, Valid Loss=12328.9375, Valid R2=-1.5358, Valid MAE=86.4114]\n",
      "Epoch  1: 100%|██████████| 44/44 [00:02<00:00, 20.88it/s, Train Loss=14141.5948, Valid Loss=10223.6572, Valid R2=-1.1028, Valid MAE=73.6911]\n",
      "Epoch  2: 100%|██████████| 44/44 [00:02<00:00, 20.41it/s, Train Loss=9654.7470, Valid Loss=5073.7739, Valid R2=-0.0436, Valid MAE=49.7639]\n",
      "Epoch  3: 100%|██████████| 44/44 [00:02<00:00, 20.92it/s, Train Loss=5962.7196, Valid Loss=4964.0625, Valid R2=-0.0210, Valid MAE=53.9034]\n",
      "Epoch  4: 100%|██████████| 44/44 [00:02<00:00, 21.28it/s, Train Loss=5992.4430, Valid Loss=4922.0503, Valid R2=-0.0124, Valid MAE=53.3716]\n",
      "Epoch  5: 100%|██████████| 44/44 [00:02<00:00, 21.10it/s, Train Loss=5933.2659, Valid Loss=4885.0186, Valid R2=-0.0047, Valid MAE=53.0501]\n",
      "Epoch  6: 100%|██████████| 44/44 [00:02<00:00, 20.67it/s, Train Loss=5878.0757, Valid Loss=4910.3394, Valid R2=-0.0099, Valid MAE=54.0808]\n",
      "Epoch  7: 100%|██████████| 44/44 [00:02<00:00, 21.16it/s, Train Loss=5790.2361, Valid Loss=4868.4053, Valid R2=-0.0013, Valid MAE=53.7283]\n",
      "Epoch  8: 100%|██████████| 44/44 [00:01<00:00, 22.84it/s, Train Loss=5690.2567, Valid Loss=4670.7178, Valid R2=0.0393, Valid MAE=52.0769]\n",
      "Epoch  9: 100%|██████████| 44/44 [00:01<00:00, 22.84it/s, Train Loss=5403.3771, Valid Loss=4721.7070, Valid R2=0.0289, Valid MAE=53.4341]\n",
      "Epoch 10: 100%|██████████| 44/44 [00:01<00:00, 22.83it/s, Train Loss=5295.6753, Valid Loss=4561.6855, Valid R2=0.0618, Valid MAE=52.1930]\n",
      "Epoch 11: 100%|██████████| 44/44 [00:02<00:00, 21.79it/s, Train Loss=4981.0701, Valid Loss=4608.7134, Valid R2=0.0521, Valid MAE=50.5624]\n",
      "Epoch 12: 100%|██████████| 44/44 [00:01<00:00, 22.29it/s, Train Loss=4764.4383, Valid Loss=4232.7202, Valid R2=0.1294, Valid MAE=49.4502]\n",
      "Epoch 13: 100%|██████████| 44/44 [00:02<00:00, 20.95it/s, Train Loss=4748.1739, Valid Loss=4246.3237, Valid R2=0.1266, Valid MAE=49.5953]\n",
      "Epoch 14: 100%|██████████| 44/44 [00:02<00:00, 21.05it/s, Train Loss=4350.0714, Valid Loss=3855.1194, Valid R2=0.2071, Valid MAE=45.7019]\n",
      "Epoch 15: 100%|██████████| 44/44 [00:02<00:00, 20.51it/s, Train Loss=4421.0497, Valid Loss=3932.1606, Valid R2=0.1912, Valid MAE=46.4819]\n",
      "Epoch 16: 100%|██████████| 44/44 [00:02<00:00, 20.88it/s, Train Loss=3988.8368, Valid Loss=3862.3733, Valid R2=0.2056, Valid MAE=47.6539]\n",
      "Epoch 17: 100%|██████████| 44/44 [00:02<00:00, 20.67it/s, Train Loss=3879.5309, Valid Loss=4077.7744, Valid R2=0.1613, Valid MAE=50.3221]\n",
      "Epoch 18: 100%|██████████| 44/44 [00:02<00:00, 20.41it/s, Train Loss=3814.7971, Valid Loss=3672.3406, Valid R2=0.2447, Valid MAE=44.9955]\n",
      "Epoch 19: 100%|██████████| 44/44 [00:02<00:00, 20.04it/s, Train Loss=3471.8530, Valid Loss=3728.8035, Valid R2=0.2331, Valid MAE=45.0207]\n",
      "Epoch 20: 100%|██████████| 44/44 [00:02<00:00, 20.77it/s, Train Loss=3403.2726, Valid Loss=3675.2622, Valid R2=0.2441, Valid MAE=44.7079]\n",
      "Epoch 21: 100%|██████████| 44/44 [00:02<00:00, 20.27it/s, Train Loss=3157.9295, Valid Loss=3611.6396, Valid R2=0.2572, Valid MAE=44.2730]\n",
      "Epoch 22: 100%|██████████| 44/44 [00:02<00:00, 20.80it/s, Train Loss=3043.5719, Valid Loss=3664.2366, Valid R2=0.2464, Valid MAE=45.0058]\n",
      "Epoch 23: 100%|██████████| 44/44 [00:02<00:00, 20.81it/s, Train Loss=3111.3047, Valid Loss=3736.3870, Valid R2=0.2315, Valid MAE=44.0931]\n",
      "Epoch 24: 100%|██████████| 44/44 [00:02<00:00, 20.53it/s, Train Loss=2813.0204, Valid Loss=3518.9070, Valid R2=0.2762, Valid MAE=44.3118]\n",
      "Epoch 25: 100%|██████████| 44/44 [00:02<00:00, 20.57it/s, Train Loss=2583.8276, Valid Loss=3659.1619, Valid R2=0.2474, Valid MAE=44.6945]\n",
      "Epoch 26: 100%|██████████| 44/44 [00:02<00:00, 20.84it/s, Train Loss=2610.0793, Valid Loss=3699.6584, Valid R2=0.2391, Valid MAE=43.3148]\n",
      "Epoch 27: 100%|██████████| 44/44 [00:02<00:00, 20.72it/s, Train Loss=2576.0827, Valid Loss=3666.2856, Valid R2=0.2459, Valid MAE=43.9099]\n",
      "Epoch 28: 100%|██████████| 44/44 [00:02<00:00, 21.05it/s, Train Loss=2342.3013, Valid Loss=3768.8818, Valid R2=0.2248, Valid MAE=45.5715]\n",
      "Epoch 29: 100%|██████████| 44/44 [00:02<00:00, 20.01it/s, Train Loss=2151.8420, Valid Loss=3652.0032, Valid R2=0.2489, Valid MAE=44.2094]\n",
      "Epoch 30: 100%|██████████| 44/44 [00:02<00:00, 20.33it/s, Train Loss=2229.1183, Valid Loss=3804.5928, Valid R2=0.2175, Valid MAE=44.1728]\n"
     ]
    },
    {
     "name": "stdout",
     "output_type": "stream",
     "text": [
      "Early Stopped\n",
      "Setting  40 of Parameters Grid is now on progres.\n"
     ]
    },
    {
     "name": "stderr",
     "output_type": "stream",
     "text": [
      "Epoch  0: 100%|██████████| 44/44 [00:02<00:00, 20.12it/s, Train Loss=15190.1453, Valid Loss=12067.3037, Valid R2=-1.4820, Valid MAE=84.8854]\n",
      "Epoch  1: 100%|██████████| 44/44 [00:02<00:00, 20.24it/s, Train Loss=13512.7279, Valid Loss=9523.6641, Valid R2=-0.9588, Valid MAE=69.4597]\n",
      "Epoch  2: 100%|██████████| 44/44 [00:02<00:00, 19.95it/s, Train Loss=9762.1836, Valid Loss=5886.3301, Valid R2=-0.2107, Valid MAE=51.1322]\n",
      "Epoch  3: 100%|██████████| 44/44 [00:02<00:00, 19.93it/s, Train Loss=6437.7555, Valid Loss=5006.6650, Valid R2=-0.0298, Valid MAE=54.6905]\n",
      "Epoch  4: 100%|██████████| 44/44 [00:02<00:00, 20.90it/s, Train Loss=6105.9888, Valid Loss=4867.2578, Valid R2=-0.0011, Valid MAE=52.0069]\n",
      "Epoch  5: 100%|██████████| 44/44 [00:02<00:00, 20.74it/s, Train Loss=5986.3837, Valid Loss=4928.9614, Valid R2=-0.0138, Valid MAE=53.5130]\n",
      "Epoch  6: 100%|██████████| 44/44 [00:02<00:00, 20.38it/s, Train Loss=5938.2519, Valid Loss=5059.1152, Valid R2=-0.0405, Valid MAE=55.4188]\n",
      "Epoch  7: 100%|██████████| 44/44 [00:02<00:00, 20.35it/s, Train Loss=5962.9774, Valid Loss=4922.3921, Valid R2=-0.0124, Valid MAE=53.4165]\n",
      "Epoch  8: 100%|██████████| 44/44 [00:02<00:00, 20.01it/s, Train Loss=5830.0326, Valid Loss=4895.7549, Valid R2=-0.0069, Valid MAE=52.9730]\n",
      "Epoch  9: 100%|██████████| 44/44 [00:02<00:00, 20.53it/s, Train Loss=5868.0439, Valid Loss=4931.9683, Valid R2=-0.0144, Valid MAE=53.8849]\n",
      "Epoch 10: 100%|██████████| 44/44 [00:02<00:00, 20.13it/s, Train Loss=5842.8045, Valid Loss=4867.5410, Valid R2=-0.0011, Valid MAE=52.8513]\n"
     ]
    },
    {
     "name": "stdout",
     "output_type": "stream",
     "text": [
      "Early Stopped\n",
      "Setting  41 of Parameters Grid is now on progres.\n"
     ]
    },
    {
     "name": "stderr",
     "output_type": "stream",
     "text": [
      "Epoch  0: 100%|██████████| 44/44 [00:02<00:00, 20.25it/s, Train Loss=15240.0940, Valid Loss=12111.7549, Valid R2=-1.4911, Valid MAE=85.1457]\n",
      "Epoch  1: 100%|██████████| 44/44 [00:02<00:00, 20.01it/s, Train Loss=13654.5835, Valid Loss=9493.9414, Valid R2=-0.9527, Valid MAE=69.2954]\n",
      "Epoch  2: 100%|██████████| 44/44 [00:02<00:00, 19.96it/s, Train Loss=9272.2762, Valid Loss=5082.8120, Valid R2=-0.0454, Valid MAE=49.5434]\n",
      "Epoch  3: 100%|██████████| 44/44 [00:02<00:00, 20.19it/s, Train Loss=5930.4534, Valid Loss=5020.3613, Valid R2=-0.0326, Valid MAE=55.2220]\n",
      "Epoch  4: 100%|██████████| 44/44 [00:02<00:00, 20.61it/s, Train Loss=5944.6617, Valid Loss=4899.5303, Valid R2=-0.0077, Valid MAE=52.9807]\n",
      "Epoch  5: 100%|██████████| 44/44 [00:02<00:00, 20.85it/s, Train Loss=5881.4080, Valid Loss=4958.0176, Valid R2=-0.0197, Valid MAE=54.1171]\n",
      "Epoch  6: 100%|██████████| 44/44 [00:02<00:00, 20.87it/s, Train Loss=5816.9560, Valid Loss=4862.8267, Valid R2=-0.0002, Valid MAE=52.1365]\n",
      "Epoch  7: 100%|██████████| 44/44 [00:02<00:00, 20.72it/s, Train Loss=5736.3115, Valid Loss=4916.0488, Valid R2=-0.0111, Valid MAE=53.5280]\n",
      "Epoch  8: 100%|██████████| 44/44 [00:02<00:00, 20.83it/s, Train Loss=5774.4653, Valid Loss=4868.5840, Valid R2=-0.0014, Valid MAE=52.8715]\n",
      "Epoch  9: 100%|██████████| 44/44 [00:02<00:00, 21.03it/s, Train Loss=5819.8760, Valid Loss=4889.6880, Valid R2=-0.0057, Valid MAE=52.8091]\n",
      "Epoch 10: 100%|██████████| 44/44 [00:01<00:00, 22.39it/s, Train Loss=5932.3859, Valid Loss=4927.5386, Valid R2=-0.0135, Valid MAE=54.1729]\n",
      "Epoch 11: 100%|██████████| 44/44 [00:02<00:00, 21.26it/s, Train Loss=5851.9251, Valid Loss=4908.2051, Valid R2=-0.0095, Valid MAE=54.0040]\n",
      "Epoch 12: 100%|██████████| 44/44 [00:02<00:00, 21.26it/s, Train Loss=5636.2480, Valid Loss=4812.5938, Valid R2=0.0102, Valid MAE=51.7473]\n",
      "Epoch 13: 100%|██████████| 44/44 [00:02<00:00, 21.22it/s, Train Loss=5735.0869, Valid Loss=4805.8184, Valid R2=0.0116, Valid MAE=50.6516]\n",
      "Epoch 14: 100%|██████████| 44/44 [00:02<00:00, 21.34it/s, Train Loss=5521.5685, Valid Loss=4756.4751, Valid R2=0.0217, Valid MAE=52.5561]\n",
      "Epoch 15: 100%|██████████| 44/44 [00:02<00:00, 20.91it/s, Train Loss=5494.3937, Valid Loss=4667.3784, Valid R2=0.0400, Valid MAE=51.3810]\n",
      "Epoch 16: 100%|██████████| 44/44 [00:02<00:00, 21.14it/s, Train Loss=5301.6164, Valid Loss=4724.6729, Valid R2=0.0282, Valid MAE=52.3074]\n",
      "Epoch 17: 100%|██████████| 44/44 [00:02<00:00, 21.46it/s, Train Loss=5283.3126, Valid Loss=4782.4194, Valid R2=0.0164, Valid MAE=53.0461]\n",
      "Epoch 18: 100%|██████████| 44/44 [00:02<00:00, 21.13it/s, Train Loss=5054.0883, Valid Loss=4649.0913, Valid R2=0.0438, Valid MAE=52.4020]\n",
      "Epoch 19: 100%|██████████| 44/44 [00:02<00:00, 20.54it/s, Train Loss=4624.9909, Valid Loss=4608.3931, Valid R2=0.0522, Valid MAE=51.6941]\n",
      "Epoch 20: 100%|██████████| 44/44 [00:02<00:00, 20.66it/s, Train Loss=4411.8884, Valid Loss=4600.8164, Valid R2=0.0537, Valid MAE=52.6222]\n",
      "Epoch 21: 100%|██████████| 44/44 [00:02<00:00, 20.82it/s, Train Loss=4318.1511, Valid Loss=4326.9443, Valid R2=0.1100, Valid MAE=49.4090]\n",
      "Epoch 22: 100%|██████████| 44/44 [00:01<00:00, 22.17it/s, Train Loss=4542.5635, Valid Loss=4613.2041, Valid R2=0.0512, Valid MAE=49.8903]\n",
      "Epoch 23: 100%|██████████| 44/44 [00:02<00:00, 20.75it/s, Train Loss=4282.2782, Valid Loss=4618.8594, Valid R2=0.0500, Valid MAE=49.5916]\n",
      "Epoch 24: 100%|██████████| 44/44 [00:02<00:00, 20.90it/s, Train Loss=4158.2116, Valid Loss=4512.5859, Valid R2=0.0719, Valid MAE=50.5523]\n",
      "Epoch 25: 100%|██████████| 44/44 [00:02<00:00, 20.88it/s, Train Loss=4159.0530, Valid Loss=4846.9736, Valid R2=0.0031, Valid MAE=52.9621]\n",
      "Epoch 26: 100%|██████████| 44/44 [00:01<00:00, 22.79it/s, Train Loss=3841.1255, Valid Loss=4746.8574, Valid R2=0.0237, Valid MAE=49.8594]\n",
      "Epoch 27: 100%|██████████| 44/44 [00:02<00:00, 20.60it/s, Train Loss=3661.6866, Valid Loss=4883.9238, Valid R2=-0.0045, Valid MAE=52.1318]\n"
     ]
    },
    {
     "name": "stdout",
     "output_type": "stream",
     "text": [
      "Early Stopped\n",
      "Setting  42 of Parameters Grid is now on progres.\n"
     ]
    },
    {
     "name": "stderr",
     "output_type": "stream",
     "text": [
      "Epoch  0: 100%|██████████| 44/44 [00:02<00:00, 20.08it/s, Train Loss=15176.4214, Valid Loss=12125.2627, Valid R2=-1.4939, Valid MAE=85.2248]\n",
      "Epoch  1: 100%|██████████| 44/44 [00:02<00:00, 20.43it/s, Train Loss=14310.2400, Valid Loss=11129.2578, Valid R2=-1.2890, Valid MAE=79.2237]\n",
      "Epoch  2: 100%|██████████| 44/44 [00:02<00:00, 21.61it/s, Train Loss=13193.5429, Valid Loss=10238.2422, Valid R2=-1.1058, Valid MAE=73.7889]\n",
      "Epoch  3: 100%|██████████| 44/44 [00:02<00:00, 20.50it/s, Train Loss=12282.9810, Valid Loss=9534.8242, Valid R2=-0.9611, Valid MAE=69.5213]\n",
      "Epoch  4: 100%|██████████| 44/44 [00:02<00:00, 21.01it/s, Train Loss=11521.2898, Valid Loss=8930.5938, Valid R2=-0.8368, Valid MAE=65.9158]\n",
      "Epoch  5: 100%|██████████| 44/44 [00:02<00:00, 20.71it/s, Train Loss=9643.9899, Valid Loss=5805.7661, Valid R2=-0.1941, Valid MAE=50.8251]\n",
      "Epoch  6: 100%|██████████| 44/44 [00:02<00:00, 21.01it/s, Train Loss=6175.1981, Valid Loss=4908.8169, Valid R2=-0.0096, Valid MAE=52.9267]\n",
      "Epoch  7: 100%|██████████| 44/44 [00:02<00:00, 20.66it/s, Train Loss=5918.3995, Valid Loss=4917.5420, Valid R2=-0.0114, Valid MAE=53.3372]\n",
      "Epoch  8: 100%|██████████| 44/44 [00:02<00:00, 20.79it/s, Train Loss=5869.0662, Valid Loss=4917.4131, Valid R2=-0.0114, Valid MAE=53.2090]\n",
      "Epoch  9: 100%|██████████| 44/44 [00:02<00:00, 21.27it/s, Train Loss=5898.4011, Valid Loss=4898.0205, Valid R2=-0.0074, Valid MAE=52.7502]\n",
      "Epoch 10: 100%|██████████| 44/44 [00:02<00:00, 20.85it/s, Train Loss=5839.2046, Valid Loss=4918.5259, Valid R2=-0.0116, Valid MAE=53.3965]\n",
      "Epoch 11: 100%|██████████| 44/44 [00:02<00:00, 20.90it/s, Train Loss=5662.4528, Valid Loss=4958.4414, Valid R2=-0.0198, Valid MAE=54.3578]\n",
      "Epoch 12: 100%|██████████| 44/44 [00:02<00:00, 20.62it/s, Train Loss=5548.6647, Valid Loss=4968.0464, Valid R2=-0.0218, Valid MAE=53.9803]\n",
      "Epoch 13: 100%|██████████| 44/44 [00:02<00:00, 20.92it/s, Train Loss=5593.8096, Valid Loss=5009.5312, Valid R2=-0.0303, Valid MAE=53.9248]\n",
      "Epoch 14: 100%|██████████| 44/44 [00:02<00:00, 20.62it/s, Train Loss=5483.3006, Valid Loss=5038.1089, Valid R2=-0.0362, Valid MAE=54.2429]\n",
      "Epoch 15: 100%|██████████| 44/44 [00:02<00:00, 20.59it/s, Train Loss=5469.4096, Valid Loss=5105.8545, Valid R2=-0.0502, Valid MAE=55.0567]\n"
     ]
    },
    {
     "name": "stdout",
     "output_type": "stream",
     "text": [
      "Early Stopped\n",
      "Setting  43 of Parameters Grid is now on progres.\n"
     ]
    },
    {
     "name": "stderr",
     "output_type": "stream",
     "text": [
      "Epoch  0: 100%|██████████| 44/44 [00:02<00:00, 20.04it/s, Train Loss=15285.6436, Valid Loss=12133.6963, Valid R2=-1.4956, Valid MAE=85.2741]\n",
      "Epoch  1: 100%|██████████| 44/44 [00:02<00:00, 20.38it/s, Train Loss=13704.4440, Valid Loss=9872.6924, Valid R2=-1.0306, Valid MAE=71.5663]\n",
      "Epoch  2: 100%|██████████| 44/44 [00:02<00:00, 19.21it/s, Train Loss=9973.7749, Valid Loss=5947.5156, Valid R2=-0.2233, Valid MAE=51.3568]\n",
      "Epoch  3: 100%|██████████| 44/44 [00:02<00:00, 19.93it/s, Train Loss=6580.4742, Valid Loss=4895.3765, Valid R2=-0.0069, Valid MAE=52.7150]\n",
      "Epoch  4: 100%|██████████| 44/44 [00:02<00:00, 20.76it/s, Train Loss=5988.3184, Valid Loss=4911.2817, Valid R2=-0.0101, Valid MAE=53.1656]\n",
      "Epoch  5: 100%|██████████| 44/44 [00:02<00:00, 21.03it/s, Train Loss=6099.3727, Valid Loss=4910.5996, Valid R2=-0.0100, Valid MAE=53.2382]\n",
      "Epoch  6: 100%|██████████| 44/44 [00:02<00:00, 20.68it/s, Train Loss=5893.0832, Valid Loss=4760.4614, Valid R2=0.0209, Valid MAE=50.6753]\n",
      "Epoch  7: 100%|██████████| 44/44 [00:02<00:00, 20.14it/s, Train Loss=5834.3235, Valid Loss=4657.9414, Valid R2=0.0420, Valid MAE=51.9020]\n",
      "Epoch  8: 100%|██████████| 44/44 [00:02<00:00, 20.62it/s, Train Loss=5287.6537, Valid Loss=4320.0371, Valid R2=0.1115, Valid MAE=49.4074]\n",
      "Epoch  9: 100%|██████████| 44/44 [00:02<00:00, 20.54it/s, Train Loss=5111.1319, Valid Loss=4012.4404, Valid R2=0.1747, Valid MAE=48.4887]\n",
      "Epoch 10: 100%|██████████| 44/44 [00:02<00:00, 20.51it/s, Train Loss=4750.5046, Valid Loss=4054.8606, Valid R2=0.1660, Valid MAE=48.3591]\n",
      "Epoch 11: 100%|██████████| 44/44 [00:02<00:00, 20.64it/s, Train Loss=4590.7081, Valid Loss=4118.5547, Valid R2=0.1529, Valid MAE=49.1283]\n",
      "Epoch 12: 100%|██████████| 44/44 [00:02<00:00, 20.20it/s, Train Loss=4146.7476, Valid Loss=4142.3501, Valid R2=0.1480, Valid MAE=51.0910]\n",
      "Epoch 13: 100%|██████████| 44/44 [00:02<00:00, 21.62it/s, Train Loss=4173.7342, Valid Loss=3954.3406, Valid R2=0.1867, Valid MAE=48.7108]\n",
      "Epoch 14: 100%|██████████| 44/44 [00:02<00:00, 20.61it/s, Train Loss=3988.7647, Valid Loss=3974.1765, Valid R2=0.1826, Valid MAE=49.5792]\n",
      "Epoch 15: 100%|██████████| 44/44 [00:02<00:00, 20.53it/s, Train Loss=3833.0162, Valid Loss=4172.4136, Valid R2=0.1418, Valid MAE=50.0477]\n",
      "Epoch 16: 100%|██████████| 44/44 [00:02<00:00, 20.77it/s, Train Loss=3723.1352, Valid Loss=4820.6670, Valid R2=0.0085, Valid MAE=56.8332]\n",
      "Epoch 17: 100%|██████████| 44/44 [00:02<00:00, 21.52it/s, Train Loss=3684.4070, Valid Loss=4060.5605, Valid R2=0.1648, Valid MAE=47.2275]\n",
      "Epoch 18: 100%|██████████| 44/44 [00:02<00:00, 20.86it/s, Train Loss=3485.0300, Valid Loss=3830.4102, Valid R2=0.2122, Valid MAE=47.7486]\n",
      "Epoch 19: 100%|██████████| 44/44 [00:02<00:00, 21.24it/s, Train Loss=3370.9128, Valid Loss=3916.4983, Valid R2=0.1945, Valid MAE=48.5737]\n",
      "Epoch 20: 100%|██████████| 44/44 [00:02<00:00, 21.10it/s, Train Loss=3088.7346, Valid Loss=4084.3823, Valid R2=0.1599, Valid MAE=48.7283]\n",
      "Epoch 21: 100%|██████████| 44/44 [00:02<00:00, 20.65it/s, Train Loss=3233.9319, Valid Loss=3875.2561, Valid R2=0.2030, Valid MAE=45.4358]\n",
      "Epoch 22: 100%|██████████| 44/44 [00:02<00:00, 20.81it/s, Train Loss=3248.5777, Valid Loss=4166.9839, Valid R2=0.1429, Valid MAE=49.8747]\n",
      "Epoch 23: 100%|██████████| 44/44 [00:02<00:00, 20.61it/s, Train Loss=2939.5495, Valid Loss=3950.5630, Valid R2=0.1875, Valid MAE=47.8369]\n",
      "Epoch 24: 100%|██████████| 44/44 [00:01<00:00, 22.02it/s, Train Loss=2873.8299, Valid Loss=4014.3069, Valid R2=0.1744, Valid MAE=48.8892]\n"
     ]
    },
    {
     "name": "stdout",
     "output_type": "stream",
     "text": [
      "Early Stopped\n",
      "Setting  44 of Parameters Grid is now on progres.\n"
     ]
    },
    {
     "name": "stderr",
     "output_type": "stream",
     "text": [
      "Epoch  0: 100%|██████████| 44/44 [00:01<00:00, 22.76it/s, Train Loss=14975.2822, Valid Loss=11583.6904, Valid R2=-1.3825, Valid MAE=81.9898]\n",
      "Epoch  1: 100%|██████████| 44/44 [00:02<00:00, 21.36it/s, Train Loss=12508.7161, Valid Loss=8152.5679, Valid R2=-0.6768, Valid MAE=61.6634]\n",
      "Epoch  2: 100%|██████████| 44/44 [00:02<00:00, 21.27it/s, Train Loss=8257.9940, Valid Loss=5102.5376, Valid R2=-0.0495, Valid MAE=49.5515]\n",
      "Epoch  3: 100%|██████████| 44/44 [00:02<00:00, 20.61it/s, Train Loss=6231.5161, Valid Loss=4896.1372, Valid R2=-0.0070, Valid MAE=52.7468]\n",
      "Epoch  4: 100%|██████████| 44/44 [00:02<00:00, 19.24it/s, Train Loss=5942.6969, Valid Loss=4923.6069, Valid R2=-0.0127, Valid MAE=53.3891]\n",
      "Epoch  5: 100%|██████████| 44/44 [00:02<00:00, 19.62it/s, Train Loss=6030.4515, Valid Loss=4925.6714, Valid R2=-0.0131, Valid MAE=53.2259]\n",
      "Epoch  6: 100%|██████████| 44/44 [00:02<00:00, 20.06it/s, Train Loss=5896.4224, Valid Loss=4949.9736, Valid R2=-0.0181, Valid MAE=53.7583]\n",
      "Epoch  7: 100%|██████████| 44/44 [00:02<00:00, 19.41it/s, Train Loss=6095.8755, Valid Loss=4896.2256, Valid R2=-0.0070, Valid MAE=52.6339]\n",
      "Epoch  8: 100%|██████████| 44/44 [00:02<00:00, 19.80it/s, Train Loss=5964.4657, Valid Loss=4957.9170, Valid R2=-0.0197, Valid MAE=53.9903]\n",
      "Epoch  9: 100%|██████████| 44/44 [00:02<00:00, 20.57it/s, Train Loss=5976.3939, Valid Loss=4921.4014, Valid R2=-0.0122, Valid MAE=53.1663]\n"
     ]
    },
    {
     "name": "stdout",
     "output_type": "stream",
     "text": [
      "Early Stopped\n",
      "Setting  45 of Parameters Grid is now on progres.\n"
     ]
    },
    {
     "name": "stderr",
     "output_type": "stream",
     "text": [
      "Epoch  0: 100%|██████████| 44/44 [00:02<00:00, 21.05it/s, Train Loss=15256.1869, Valid Loss=11990.1377, Valid R2=-1.4661, Valid MAE=84.4284]\n",
      "Epoch  1: 100%|██████████| 44/44 [00:02<00:00, 20.78it/s, Train Loss=13551.1897, Valid Loss=9791.3369, Valid R2=-1.0138, Valid MAE=71.0712]\n",
      "Epoch  2: 100%|██████████| 44/44 [00:02<00:00, 20.43it/s, Train Loss=10838.5317, Valid Loss=7275.7900, Valid R2=-0.4965, Valid MAE=57.2655]\n",
      "Epoch  3: 100%|██████████| 44/44 [00:02<00:00, 20.61it/s, Train Loss=8001.0469, Valid Loss=5311.9072, Valid R2=-0.0925, Valid MAE=49.5150]\n",
      "Epoch  4: 100%|██████████| 44/44 [00:02<00:00, 20.89it/s, Train Loss=6422.0657, Valid Loss=4863.2041, Valid R2=-0.0002, Valid MAE=51.5017]\n",
      "Epoch  5: 100%|██████████| 44/44 [00:02<00:00, 21.00it/s, Train Loss=6093.5437, Valid Loss=4897.1836, Valid R2=-0.0072, Valid MAE=52.7722]\n",
      "Epoch  6: 100%|██████████| 44/44 [00:02<00:00, 21.11it/s, Train Loss=6143.9198, Valid Loss=4897.5962, Valid R2=-0.0073, Valid MAE=52.9640]\n",
      "Epoch  7: 100%|██████████| 44/44 [00:02<00:00, 20.16it/s, Train Loss=5866.9458, Valid Loss=4934.4424, Valid R2=-0.0149, Valid MAE=54.1438]\n",
      "Epoch  8: 100%|██████████| 44/44 [00:02<00:00, 20.16it/s, Train Loss=5689.0324, Valid Loss=4772.5361, Valid R2=0.0184, Valid MAE=53.1126]\n",
      "Epoch  9: 100%|██████████| 44/44 [00:02<00:00, 20.73it/s, Train Loss=5143.6929, Valid Loss=4743.1841, Valid R2=0.0244, Valid MAE=55.1356]\n",
      "Epoch 10: 100%|██████████| 44/44 [00:02<00:00, 20.88it/s, Train Loss=4732.6932, Valid Loss=4331.0669, Valid R2=0.1092, Valid MAE=47.8957]\n",
      "Epoch 11: 100%|██████████| 44/44 [00:02<00:00, 21.02it/s, Train Loss=4617.9592, Valid Loss=4730.6831, Valid R2=0.0270, Valid MAE=55.2897]\n",
      "Epoch 12: 100%|██████████| 44/44 [00:02<00:00, 21.74it/s, Train Loss=4084.0407, Valid Loss=4435.9937, Valid R2=0.0876, Valid MAE=53.5603]\n",
      "Epoch 13: 100%|██████████| 44/44 [00:02<00:00, 21.12it/s, Train Loss=3992.5636, Valid Loss=4066.0479, Valid R2=0.1637, Valid MAE=48.6609]\n",
      "Epoch 14: 100%|██████████| 44/44 [00:02<00:00, 21.24it/s, Train Loss=3999.7773, Valid Loss=4504.3149, Valid R2=0.0736, Valid MAE=53.8315]\n",
      "Epoch 15: 100%|██████████| 44/44 [00:02<00:00, 21.10it/s, Train Loss=3686.7255, Valid Loss=3837.0442, Valid R2=0.2108, Valid MAE=48.1341]\n",
      "Epoch 16: 100%|██████████| 44/44 [00:02<00:00, 20.91it/s, Train Loss=3300.4875, Valid Loss=4521.8486, Valid R2=0.0700, Valid MAE=52.8860]\n",
      "Epoch 17: 100%|██████████| 44/44 [00:02<00:00, 21.15it/s, Train Loss=3500.5401, Valid Loss=3997.6772, Valid R2=0.1778, Valid MAE=45.6053]\n",
      "Epoch 18: 100%|██████████| 44/44 [00:02<00:00, 21.02it/s, Train Loss=3395.7872, Valid Loss=3838.4229, Valid R2=0.2105, Valid MAE=46.4615]\n",
      "Epoch 19: 100%|██████████| 44/44 [00:02<00:00, 20.05it/s, Train Loss=3084.9124, Valid Loss=3551.8762, Valid R2=0.2695, Valid MAE=45.9562]\n",
      "Epoch 20: 100%|██████████| 44/44 [00:02<00:00, 20.61it/s, Train Loss=2915.5252, Valid Loss=4074.6008, Valid R2=0.1620, Valid MAE=49.8944]\n",
      "Epoch 21: 100%|██████████| 44/44 [00:02<00:00, 20.89it/s, Train Loss=2604.0434, Valid Loss=3731.5408, Valid R2=0.2325, Valid MAE=47.0762]\n",
      "Epoch 22: 100%|██████████| 44/44 [00:02<00:00, 20.88it/s, Train Loss=2470.5621, Valid Loss=3591.0649, Valid R2=0.2614, Valid MAE=45.4805]\n",
      "Epoch 23: 100%|██████████| 44/44 [00:01<00:00, 22.14it/s, Train Loss=2452.9799, Valid Loss=3959.5029, Valid R2=0.1856, Valid MAE=48.0174]\n",
      "Epoch 24: 100%|██████████| 44/44 [00:01<00:00, 22.11it/s, Train Loss=2350.2571, Valid Loss=3705.0557, Valid R2=0.2380, Valid MAE=48.0878]\n",
      "Epoch 25: 100%|██████████| 44/44 [00:02<00:00, 20.20it/s, Train Loss=2225.3619, Valid Loss=3731.7195, Valid R2=0.2325, Valid MAE=47.0636]\n"
     ]
    },
    {
     "name": "stdout",
     "output_type": "stream",
     "text": [
      "Early Stopped\n",
      "Setting  46 of Parameters Grid is now on progres.\n"
     ]
    },
    {
     "name": "stderr",
     "output_type": "stream",
     "text": [
      "Epoch  0: 100%|██████████| 44/44 [00:02<00:00, 20.88it/s, Train Loss=15196.3974, Valid Loss=11984.4824, Valid R2=-1.4649, Valid MAE=84.3946]\n",
      "Epoch  1: 100%|██████████| 44/44 [00:02<00:00, 21.02it/s, Train Loss=13359.1704, Valid Loss=9379.0918, Valid R2=-0.9291, Valid MAE=68.5807]\n",
      "Epoch  2: 100%|██████████| 44/44 [00:02<00:00, 20.47it/s, Train Loss=9868.8952, Valid Loss=6178.6201, Valid R2=-0.2708, Valid MAE=52.2448]\n",
      "Epoch  3: 100%|██████████| 44/44 [00:02<00:00, 20.71it/s, Train Loss=6555.5120, Valid Loss=4888.3701, Valid R2=-0.0054, Valid MAE=52.5194]\n",
      "Epoch  4: 100%|██████████| 44/44 [00:02<00:00, 21.03it/s, Train Loss=5930.5969, Valid Loss=4934.0820, Valid R2=-0.0148, Valid MAE=53.5076]\n",
      "Epoch  5: 100%|██████████| 44/44 [00:02<00:00, 20.46it/s, Train Loss=5852.8906, Valid Loss=4908.8032, Valid R2=-0.0096, Valid MAE=53.0621]\n",
      "Epoch  6: 100%|██████████| 44/44 [00:02<00:00, 21.01it/s, Train Loss=5779.9429, Valid Loss=4911.3594, Valid R2=-0.0102, Valid MAE=53.6102]\n",
      "Epoch  7: 100%|██████████| 44/44 [00:02<00:00, 21.32it/s, Train Loss=5703.1709, Valid Loss=4797.2036, Valid R2=0.0133, Valid MAE=52.4036]\n",
      "Epoch  8: 100%|██████████| 44/44 [00:02<00:00, 21.12it/s, Train Loss=5505.5270, Valid Loss=4562.7412, Valid R2=0.0616, Valid MAE=51.1579]\n",
      "Epoch  9: 100%|██████████| 44/44 [00:02<00:00, 20.01it/s, Train Loss=5125.8061, Valid Loss=4413.1235, Valid R2=0.0923, Valid MAE=50.4530]\n",
      "Epoch 10: 100%|██████████| 44/44 [00:02<00:00, 20.87it/s, Train Loss=4762.1951, Valid Loss=4158.3789, Valid R2=0.1447, Valid MAE=48.6227]\n",
      "Epoch 11: 100%|██████████| 44/44 [00:02<00:00, 20.44it/s, Train Loss=4529.8350, Valid Loss=4657.5269, Valid R2=0.0421, Valid MAE=54.4166]\n",
      "Epoch 12: 100%|██████████| 44/44 [00:02<00:00, 20.61it/s, Train Loss=4450.8542, Valid Loss=3960.9297, Valid R2=0.1853, Valid MAE=45.6039]\n",
      "Epoch 13: 100%|██████████| 44/44 [00:02<00:00, 20.90it/s, Train Loss=4190.8351, Valid Loss=4351.6763, Valid R2=0.1050, Valid MAE=51.1681]\n",
      "Epoch 14: 100%|██████████| 44/44 [00:02<00:00, 20.89it/s, Train Loss=4160.8778, Valid Loss=3913.4133, Valid R2=0.1951, Valid MAE=47.6296]\n",
      "Epoch 15: 100%|██████████| 44/44 [00:02<00:00, 21.21it/s, Train Loss=4021.8779, Valid Loss=3964.1467, Valid R2=0.1847, Valid MAE=48.1093]\n",
      "Epoch 16: 100%|██████████| 44/44 [00:02<00:00, 20.52it/s, Train Loss=3718.8986, Valid Loss=4291.4966, Valid R2=0.1173, Valid MAE=50.0863]\n",
      "Epoch 17: 100%|██████████| 44/44 [00:02<00:00, 20.94it/s, Train Loss=3874.8029, Valid Loss=3818.3416, Valid R2=0.2147, Valid MAE=45.3540]\n",
      "Epoch 18: 100%|██████████| 44/44 [00:02<00:00, 20.99it/s, Train Loss=3636.0223, Valid Loss=3989.2520, Valid R2=0.1795, Valid MAE=47.4889]\n",
      "Epoch 19: 100%|██████████| 44/44 [00:02<00:00, 20.54it/s, Train Loss=4042.3035, Valid Loss=4014.7468, Valid R2=0.1743, Valid MAE=48.0669]\n",
      "Epoch 20: 100%|██████████| 44/44 [00:02<00:00, 21.13it/s, Train Loss=3912.2418, Valid Loss=3850.1208, Valid R2=0.2081, Valid MAE=47.6232]\n",
      "Epoch 21: 100%|██████████| 44/44 [00:02<00:00, 20.30it/s, Train Loss=3405.6024, Valid Loss=3741.7688, Valid R2=0.2304, Valid MAE=45.0475]\n",
      "Epoch 22: 100%|██████████| 44/44 [00:02<00:00, 20.93it/s, Train Loss=3454.1302, Valid Loss=3773.2468, Valid R2=0.2239, Valid MAE=45.3880]\n",
      "Epoch 23: 100%|██████████| 44/44 [00:02<00:00, 20.71it/s, Train Loss=3198.5227, Valid Loss=3805.3762, Valid R2=0.2173, Valid MAE=45.3267]\n",
      "Epoch 24: 100%|██████████| 44/44 [00:02<00:00, 21.84it/s, Train Loss=3127.8855, Valid Loss=3711.0637, Valid R2=0.2367, Valid MAE=44.2283]\n",
      "Epoch 25: 100%|██████████| 44/44 [00:01<00:00, 22.04it/s, Train Loss=2877.2150, Valid Loss=3639.9387, Valid R2=0.2514, Valid MAE=44.6647]\n",
      "Epoch 26: 100%|██████████| 44/44 [00:02<00:00, 20.87it/s, Train Loss=2703.7388, Valid Loss=3888.2942, Valid R2=0.2003, Valid MAE=45.9008]\n",
      "Epoch 27: 100%|██████████| 44/44 [00:02<00:00, 21.09it/s, Train Loss=2550.9617, Valid Loss=3918.4465, Valid R2=0.1941, Valid MAE=46.7811]\n",
      "Epoch 28: 100%|██████████| 44/44 [00:02<00:00, 20.73it/s, Train Loss=2594.5740, Valid Loss=3903.8032, Valid R2=0.1971, Valid MAE=46.2460]\n",
      "Epoch 29: 100%|██████████| 44/44 [00:01<00:00, 22.81it/s, Train Loss=2565.4992, Valid Loss=4093.0181, Valid R2=0.1582, Valid MAE=47.2175]\n",
      "Epoch 30: 100%|██████████| 44/44 [00:01<00:00, 22.47it/s, Train Loss=2348.7192, Valid Loss=3902.6267, Valid R2=0.1973, Valid MAE=45.7701]\n",
      "Epoch 31: 100%|██████████| 44/44 [00:01<00:00, 22.78it/s, Train Loss=2364.3430, Valid Loss=3813.2319, Valid R2=0.2157, Valid MAE=46.0104]\n"
     ]
    },
    {
     "name": "stdout",
     "output_type": "stream",
     "text": [
      "Early Stopped\n",
      "Setting  47 of Parameters Grid is now on progres.\n"
     ]
    },
    {
     "name": "stderr",
     "output_type": "stream",
     "text": [
      "Epoch  0: 100%|██████████| 44/44 [00:02<00:00, 21.68it/s, Train Loss=15285.6695, Valid Loss=12241.7109, Valid R2=-1.5178, Valid MAE=85.9091]\n",
      "Epoch  1: 100%|██████████| 44/44 [00:01<00:00, 22.30it/s, Train Loss=13829.1371, Valid Loss=10027.5664, Valid R2=-1.0624, Valid MAE=72.5043]\n",
      "Epoch  2: 100%|██████████| 44/44 [00:01<00:00, 22.85it/s, Train Loss=10681.0234, Valid Loss=6553.9941, Valid R2=-0.3480, Valid MAE=53.7842]\n",
      "Epoch  3: 100%|██████████| 44/44 [00:02<00:00, 20.48it/s, Train Loss=6675.4828, Valid Loss=5023.0005, Valid R2=-0.0331, Valid MAE=54.8177]\n",
      "Epoch  4: 100%|██████████| 44/44 [00:02<00:00, 20.68it/s, Train Loss=5841.3286, Valid Loss=4866.1206, Valid R2=-0.0008, Valid MAE=52.4638]\n",
      "Epoch  5: 100%|██████████| 44/44 [00:02<00:00, 20.47it/s, Train Loss=5889.6932, Valid Loss=4936.6455, Valid R2=-0.0154, Valid MAE=53.4944]\n",
      "Epoch  6: 100%|██████████| 44/44 [00:02<00:00, 20.37it/s, Train Loss=5864.1742, Valid Loss=4859.5981, Valid R2=0.0005, Valid MAE=52.2606]\n",
      "Epoch  7: 100%|██████████| 44/44 [00:02<00:00, 20.65it/s, Train Loss=5894.6360, Valid Loss=4923.9180, Valid R2=-0.0127, Valid MAE=53.7357]\n",
      "Epoch  8: 100%|██████████| 44/44 [00:02<00:00, 20.86it/s, Train Loss=5864.5151, Valid Loss=4886.7837, Valid R2=-0.0051, Valid MAE=53.4243]\n",
      "Epoch  9: 100%|██████████| 44/44 [00:02<00:00, 20.91it/s, Train Loss=5858.3441, Valid Loss=4828.1895, Valid R2=0.0070, Valid MAE=52.1623]\n",
      "Epoch 10: 100%|██████████| 44/44 [00:02<00:00, 20.83it/s, Train Loss=5707.8356, Valid Loss=4726.9429, Valid R2=0.0278, Valid MAE=52.3085]\n",
      "Epoch 11: 100%|██████████| 44/44 [00:02<00:00, 19.98it/s, Train Loss=5593.2021, Valid Loss=4566.8540, Valid R2=0.0607, Valid MAE=51.6724]\n",
      "Epoch 12: 100%|██████████| 44/44 [00:02<00:00, 20.66it/s, Train Loss=5249.4279, Valid Loss=4321.2930, Valid R2=0.1112, Valid MAE=50.8854]\n",
      "Epoch 13: 100%|██████████| 44/44 [00:02<00:00, 20.54it/s, Train Loss=4856.4486, Valid Loss=4346.6870, Valid R2=0.1060, Valid MAE=51.1709]\n",
      "Epoch 14: 100%|██████████| 44/44 [00:02<00:00, 20.81it/s, Train Loss=4574.0685, Valid Loss=4089.1626, Valid R2=0.1590, Valid MAE=48.9568]\n",
      "Epoch 15: 100%|██████████| 44/44 [00:02<00:00, 20.71it/s, Train Loss=4395.2366, Valid Loss=3920.1985, Valid R2=0.1937, Valid MAE=48.1138]\n",
      "Epoch 16: 100%|██████████| 44/44 [00:02<00:00, 20.66it/s, Train Loss=4242.9964, Valid Loss=3816.8076, Valid R2=0.2150, Valid MAE=47.9373]\n",
      "Epoch 17: 100%|██████████| 44/44 [00:02<00:00, 20.68it/s, Train Loss=3992.6634, Valid Loss=3771.1692, Valid R2=0.2244, Valid MAE=45.4002]\n",
      "Epoch 18: 100%|██████████| 44/44 [00:02<00:00, 21.78it/s, Train Loss=3887.4207, Valid Loss=3781.4326, Valid R2=0.2222, Valid MAE=46.8465]\n",
      "Epoch 19: 100%|██████████| 44/44 [00:02<00:00, 21.08it/s, Train Loss=3736.6319, Valid Loss=3771.7031, Valid R2=0.2242, Valid MAE=45.4808]\n",
      "Epoch 20: 100%|██████████| 44/44 [00:02<00:00, 19.45it/s, Train Loss=3522.3811, Valid Loss=3691.7646, Valid R2=0.2407, Valid MAE=46.9262]\n",
      "Epoch 21: 100%|██████████| 44/44 [00:02<00:00, 21.96it/s, Train Loss=3218.0480, Valid Loss=3541.9812, Valid R2=0.2715, Valid MAE=45.8361]\n",
      "Epoch 22: 100%|██████████| 44/44 [00:02<00:00, 19.85it/s, Train Loss=3153.9963, Valid Loss=3802.1470, Valid R2=0.2180, Valid MAE=46.3403]\n",
      "Epoch 23: 100%|██████████| 44/44 [00:02<00:00, 20.84it/s, Train Loss=3143.4215, Valid Loss=3487.0842, Valid R2=0.2828, Valid MAE=44.0780]\n",
      "Epoch 24: 100%|██████████| 44/44 [00:02<00:00, 21.06it/s, Train Loss=3030.6469, Valid Loss=3580.5806, Valid R2=0.2636, Valid MAE=45.1249]\n",
      "Epoch 25: 100%|██████████| 44/44 [00:02<00:00, 21.09it/s, Train Loss=3180.4993, Valid Loss=3817.3235, Valid R2=0.2149, Valid MAE=48.0796]\n",
      "Epoch 26: 100%|██████████| 44/44 [00:02<00:00, 20.73it/s, Train Loss=2790.1695, Valid Loss=3629.7197, Valid R2=0.2535, Valid MAE=45.3345]\n",
      "Epoch 27: 100%|██████████| 44/44 [00:02<00:00, 20.92it/s, Train Loss=2771.7377, Valid Loss=3732.8308, Valid R2=0.2322, Valid MAE=46.3050]\n",
      "Epoch 28: 100%|██████████| 44/44 [00:02<00:00, 20.64it/s, Train Loss=2671.0124, Valid Loss=3728.9866, Valid R2=0.2330, Valid MAE=46.6250]\n",
      "Epoch 29: 100%|██████████| 44/44 [00:02<00:00, 20.25it/s, Train Loss=2472.9640, Valid Loss=3914.1147, Valid R2=0.1950, Valid MAE=47.0139]\n"
     ]
    },
    {
     "name": "stdout",
     "output_type": "stream",
     "text": [
      "Early Stopped\n",
      "Setting  48 of Parameters Grid is now on progres.\n"
     ]
    },
    {
     "name": "stderr",
     "output_type": "stream",
     "text": [
      "Epoch  0: 100%|██████████| 44/44 [00:02<00:00, 20.63it/s, Train Loss=15178.6783, Valid Loss=11957.1289, Valid R2=-1.4593, Valid MAE=84.2328]\n",
      "Epoch  1: 100%|██████████| 44/44 [00:02<00:00, 20.89it/s, Train Loss=13222.7216, Valid Loss=8918.5371, Valid R2=-0.8343, Valid MAE=66.0088]\n",
      "Epoch  2: 100%|██████████| 44/44 [00:02<00:00, 20.89it/s, Train Loss=8439.7259, Valid Loss=4832.9341, Valid R2=0.0060, Valid MAE=51.5560]\n",
      "Epoch  3: 100%|██████████| 44/44 [00:02<00:00, 20.61it/s, Train Loss=5887.3001, Valid Loss=4912.5269, Valid R2=-0.0104, Valid MAE=53.3932]\n",
      "Epoch  4: 100%|██████████| 44/44 [00:02<00:00, 20.60it/s, Train Loss=5842.0461, Valid Loss=4945.8374, Valid R2=-0.0172, Valid MAE=54.5106]\n",
      "Epoch  5: 100%|██████████| 44/44 [00:02<00:00, 20.59it/s, Train Loss=5818.6387, Valid Loss=4918.8237, Valid R2=-0.0117, Valid MAE=53.5436]\n",
      "Epoch  6: 100%|██████████| 44/44 [00:02<00:00, 20.82it/s, Train Loss=5714.9100, Valid Loss=4889.8804, Valid R2=-0.0057, Valid MAE=52.6757]\n",
      "Epoch  7: 100%|██████████| 44/44 [00:02<00:00, 20.46it/s, Train Loss=5646.0436, Valid Loss=4975.8364, Valid R2=-0.0234, Valid MAE=53.4598]\n",
      "Epoch  8: 100%|██████████| 44/44 [00:02<00:00, 21.05it/s, Train Loss=5701.3956, Valid Loss=5229.1479, Valid R2=-0.0755, Valid MAE=55.6823]\n"
     ]
    },
    {
     "name": "stdout",
     "output_type": "stream",
     "text": [
      "Early Stopped\n",
      "Setting  49 of Parameters Grid is now on progres.\n"
     ]
    },
    {
     "name": "stderr",
     "output_type": "stream",
     "text": [
      "Epoch  0: 100%|██████████| 44/44 [00:02<00:00, 20.68it/s, Train Loss=15227.0801, Valid Loss=11891.1816, Valid R2=-1.4457, Valid MAE=83.8399]\n",
      "Epoch  1: 100%|██████████| 44/44 [00:02<00:00, 20.23it/s, Train Loss=13014.4124, Valid Loss=8858.8779, Valid R2=-0.8221, Valid MAE=65.5075]\n",
      "Epoch  2: 100%|██████████| 44/44 [00:02<00:00, 19.99it/s, Train Loss=8499.3069, Valid Loss=4911.5864, Valid R2=-0.0102, Valid MAE=50.1215]\n",
      "Epoch  3: 100%|██████████| 44/44 [00:02<00:00, 20.33it/s, Train Loss=6006.1636, Valid Loss=4953.5244, Valid R2=-0.0188, Valid MAE=53.9712]\n",
      "Epoch  4: 100%|██████████| 44/44 [00:02<00:00, 20.27it/s, Train Loss=5922.6913, Valid Loss=4926.2695, Valid R2=-0.0132, Valid MAE=53.4500]\n",
      "Epoch  5: 100%|██████████| 44/44 [00:02<00:00, 20.55it/s, Train Loss=5849.8471, Valid Loss=4988.5889, Valid R2=-0.0260, Valid MAE=54.5681]\n",
      "Epoch  6: 100%|██████████| 44/44 [00:02<00:00, 20.48it/s, Train Loss=5819.7028, Valid Loss=4895.5400, Valid R2=-0.0069, Valid MAE=52.7978]\n",
      "Epoch  7: 100%|██████████| 44/44 [00:02<00:00, 20.36it/s, Train Loss=5815.9712, Valid Loss=4879.0142, Valid R2=-0.0035, Valid MAE=52.6142]\n",
      "Epoch  8: 100%|██████████| 44/44 [00:02<00:00, 19.96it/s, Train Loss=5819.5982, Valid Loss=4876.7505, Valid R2=-0.0030, Valid MAE=53.1390]\n",
      "Epoch  9: 100%|██████████| 44/44 [00:02<00:00, 20.36it/s, Train Loss=5781.1023, Valid Loss=4858.0640, Valid R2=0.0008, Valid MAE=53.0441]\n",
      "Epoch 10: 100%|██████████| 44/44 [00:02<00:00, 20.71it/s, Train Loss=5737.7744, Valid Loss=4865.4546, Valid R2=-0.0007, Valid MAE=54.2902]\n",
      "Epoch 11: 100%|██████████| 44/44 [00:02<00:00, 20.02it/s, Train Loss=5414.6994, Valid Loss=4627.7964, Valid R2=0.0482, Valid MAE=51.6764]\n",
      "Epoch 12: 100%|██████████| 44/44 [00:02<00:00, 19.64it/s, Train Loss=5147.9252, Valid Loss=4377.0015, Valid R2=0.0998, Valid MAE=49.0408]\n",
      "Epoch 13: 100%|██████████| 44/44 [00:02<00:00, 20.39it/s, Train Loss=5034.3427, Valid Loss=4288.1064, Valid R2=0.1180, Valid MAE=49.3165]\n",
      "Epoch 14: 100%|██████████| 44/44 [00:02<00:00, 20.73it/s, Train Loss=4651.8419, Valid Loss=4369.7510, Valid R2=0.1012, Valid MAE=52.4237]\n",
      "Epoch 15: 100%|██████████| 44/44 [00:02<00:00, 20.57it/s, Train Loss=4399.8163, Valid Loss=4400.9023, Valid R2=0.0948, Valid MAE=52.2990]\n",
      "Epoch 16: 100%|██████████| 44/44 [00:02<00:00, 20.84it/s, Train Loss=4284.8917, Valid Loss=3800.7754, Valid R2=0.2183, Valid MAE=47.4717]\n",
      "Epoch 17: 100%|██████████| 44/44 [00:02<00:00, 20.92it/s, Train Loss=4365.9236, Valid Loss=4247.2539, Valid R2=0.1264, Valid MAE=48.1965]\n",
      "Epoch 18: 100%|██████████| 44/44 [00:02<00:00, 21.00it/s, Train Loss=4323.2481, Valid Loss=3916.4307, Valid R2=0.1945, Valid MAE=47.2369]\n",
      "Epoch 19: 100%|██████████| 44/44 [00:02<00:00, 20.66it/s, Train Loss=4060.1252, Valid Loss=4031.6594, Valid R2=0.1708, Valid MAE=48.5209]\n",
      "Epoch 20: 100%|██████████| 44/44 [00:02<00:00, 20.90it/s, Train Loss=4280.6180, Valid Loss=3830.4358, Valid R2=0.2122, Valid MAE=47.8402]\n",
      "Epoch 21: 100%|██████████| 44/44 [00:02<00:00, 21.07it/s, Train Loss=3952.2902, Valid Loss=3986.1692, Valid R2=0.1801, Valid MAE=50.6477]\n",
      "Epoch 22: 100%|██████████| 44/44 [00:02<00:00, 20.97it/s, Train Loss=3815.6760, Valid Loss=3670.5916, Valid R2=0.2450, Valid MAE=47.1512]\n",
      "Epoch 23: 100%|██████████| 44/44 [00:02<00:00, 20.57it/s, Train Loss=3773.5799, Valid Loss=4027.0850, Valid R2=0.1717, Valid MAE=50.7934]\n",
      "Epoch 24: 100%|██████████| 44/44 [00:02<00:00, 20.34it/s, Train Loss=3474.5123, Valid Loss=4116.2471, Valid R2=0.1534, Valid MAE=50.8749]\n",
      "Epoch 25: 100%|██████████| 44/44 [00:02<00:00, 20.87it/s, Train Loss=3529.9822, Valid Loss=3498.0396, Valid R2=0.2805, Valid MAE=46.1294]\n",
      "Epoch 26: 100%|██████████| 44/44 [00:02<00:00, 20.59it/s, Train Loss=3224.9603, Valid Loss=3906.8955, Valid R2=0.1964, Valid MAE=48.9050]\n",
      "Epoch 27: 100%|██████████| 44/44 [00:02<00:00, 20.90it/s, Train Loss=3265.1072, Valid Loss=3887.8684, Valid R2=0.2004, Valid MAE=47.8053]\n",
      "Epoch 28: 100%|██████████| 44/44 [00:02<00:00, 20.74it/s, Train Loss=3111.4577, Valid Loss=3370.5850, Valid R2=0.3067, Valid MAE=44.0324]\n",
      "Epoch 29: 100%|██████████| 44/44 [00:02<00:00, 19.77it/s, Train Loss=3061.2330, Valid Loss=3583.2427, Valid R2=0.2630, Valid MAE=45.8416]\n",
      "Epoch 30: 100%|██████████| 44/44 [00:02<00:00, 20.02it/s, Train Loss=2838.5354, Valid Loss=3490.6262, Valid R2=0.2821, Valid MAE=45.8265]\n",
      "Epoch 31: 100%|██████████| 44/44 [00:02<00:00, 20.97it/s, Train Loss=2846.6569, Valid Loss=3691.0466, Valid R2=0.2408, Valid MAE=48.1119]\n",
      "Epoch 32: 100%|██████████| 44/44 [00:02<00:00, 21.05it/s, Train Loss=2901.2829, Valid Loss=4183.4375, Valid R2=0.1396, Valid MAE=49.9927]\n",
      "Epoch 33: 100%|██████████| 44/44 [00:02<00:00, 21.09it/s, Train Loss=2547.5607, Valid Loss=3841.2251, Valid R2=0.2100, Valid MAE=47.7123]\n",
      "Epoch 34: 100%|██████████| 44/44 [00:02<00:00, 20.84it/s, Train Loss=2632.3883, Valid Loss=3718.2019, Valid R2=0.2353, Valid MAE=46.9434]\n"
     ]
    },
    {
     "name": "stdout",
     "output_type": "stream",
     "text": [
      "Early Stopped\n",
      "Setting  50 of Parameters Grid is now on progres.\n"
     ]
    },
    {
     "name": "stderr",
     "output_type": "stream",
     "text": [
      "Epoch  0: 100%|██████████| 44/44 [00:02<00:00, 20.19it/s, Train Loss=15069.0876, Valid Loss=11485.7861, Valid R2=-1.3624, Valid MAE=81.4195]\n",
      "Epoch  1: 100%|██████████| 44/44 [00:02<00:00, 20.44it/s, Train Loss=11509.3897, Valid Loss=6443.1772, Valid R2=-0.3252, Valid MAE=53.3498]\n",
      "Epoch  2: 100%|██████████| 44/44 [00:02<00:00, 20.74it/s, Train Loss=6485.8606, Valid Loss=4991.7866, Valid R2=-0.0267, Valid MAE=54.6066]\n",
      "Epoch  3: 100%|██████████| 44/44 [00:02<00:00, 20.83it/s, Train Loss=5804.0096, Valid Loss=4934.2471, Valid R2=-0.0149, Valid MAE=53.5958]\n",
      "Epoch  4: 100%|██████████| 44/44 [00:02<00:00, 20.54it/s, Train Loss=5878.7867, Valid Loss=4973.4634, Valid R2=-0.0229, Valid MAE=54.3258]\n",
      "Epoch  5: 100%|██████████| 44/44 [00:02<00:00, 20.14it/s, Train Loss=5834.7272, Valid Loss=4976.8198, Valid R2=-0.0236, Valid MAE=54.4332]\n",
      "Epoch  6: 100%|██████████| 44/44 [00:02<00:00, 21.24it/s, Train Loss=5788.3875, Valid Loss=4876.9536, Valid R2=-0.0031, Valid MAE=52.5814]\n",
      "Epoch  7: 100%|██████████| 44/44 [00:02<00:00, 21.05it/s, Train Loss=5807.6704, Valid Loss=4820.3145, Valid R2=0.0086, Valid MAE=52.2608]\n",
      "Epoch  8: 100%|██████████| 44/44 [00:01<00:00, 22.72it/s, Train Loss=5629.8209, Valid Loss=4752.2417, Valid R2=0.0226, Valid MAE=52.3527]\n",
      "Epoch  9: 100%|██████████| 44/44 [00:01<00:00, 22.34it/s, Train Loss=5585.2261, Valid Loss=4472.1636, Valid R2=0.0802, Valid MAE=49.6065]\n",
      "Epoch 10: 100%|██████████| 44/44 [00:02<00:00, 21.12it/s, Train Loss=5373.3863, Valid Loss=4584.0493, Valid R2=0.0572, Valid MAE=53.1052]\n",
      "Epoch 11: 100%|██████████| 44/44 [00:02<00:00, 20.69it/s, Train Loss=5193.8942, Valid Loss=4491.3013, Valid R2=0.0762, Valid MAE=51.9133]\n",
      "Epoch 12: 100%|██████████| 44/44 [00:02<00:00, 20.69it/s, Train Loss=4963.0790, Valid Loss=4234.9077, Valid R2=0.1290, Valid MAE=49.9110]\n",
      "Epoch 13: 100%|██████████| 44/44 [00:02<00:00, 21.08it/s, Train Loss=4695.1294, Valid Loss=4260.2915, Valid R2=0.1238, Valid MAE=52.2793]\n",
      "Epoch 14: 100%|██████████| 44/44 [00:02<00:00, 20.63it/s, Train Loss=4338.1142, Valid Loss=4246.0664, Valid R2=0.1267, Valid MAE=49.6272]\n",
      "Epoch 15: 100%|██████████| 44/44 [00:02<00:00, 20.78it/s, Train Loss=4482.9229, Valid Loss=3983.7075, Valid R2=0.1806, Valid MAE=47.8812]\n",
      "Epoch 16: 100%|██████████| 44/44 [00:02<00:00, 20.08it/s, Train Loss=4452.6822, Valid Loss=4061.0564, Valid R2=0.1647, Valid MAE=49.5934]\n",
      "Epoch 17: 100%|██████████| 44/44 [00:02<00:00, 20.27it/s, Train Loss=4056.1390, Valid Loss=3661.5066, Valid R2=0.2469, Valid MAE=46.7120]\n",
      "Epoch 18: 100%|██████████| 44/44 [00:02<00:00, 21.37it/s, Train Loss=3889.8922, Valid Loss=3490.9072, Valid R2=0.2820, Valid MAE=44.9807]\n",
      "Epoch 19: 100%|██████████| 44/44 [00:02<00:00, 19.97it/s, Train Loss=3842.5217, Valid Loss=3719.8604, Valid R2=0.2349, Valid MAE=48.7296]\n",
      "Epoch 20: 100%|██████████| 44/44 [00:02<00:00, 19.97it/s, Train Loss=3374.0931, Valid Loss=3588.7659, Valid R2=0.2619, Valid MAE=47.0449]\n",
      "Epoch 21: 100%|██████████| 44/44 [00:02<00:00, 20.46it/s, Train Loss=3372.9225, Valid Loss=3403.4714, Valid R2=0.3000, Valid MAE=45.1575]\n",
      "Epoch 22: 100%|██████████| 44/44 [00:02<00:00, 20.46it/s, Train Loss=3089.7446, Valid Loss=3336.7463, Valid R2=0.3137, Valid MAE=44.9459]\n",
      "Epoch 23: 100%|██████████| 44/44 [00:02<00:00, 20.12it/s, Train Loss=2976.9682, Valid Loss=3546.7695, Valid R2=0.2705, Valid MAE=45.8974]\n",
      "Epoch 24: 100%|██████████| 44/44 [00:02<00:00, 20.05it/s, Train Loss=2840.2540, Valid Loss=3014.7649, Valid R2=0.3799, Valid MAE=41.1958]\n",
      "Epoch 25: 100%|██████████| 44/44 [00:02<00:00, 20.68it/s, Train Loss=2835.9533, Valid Loss=4194.0117, Valid R2=0.1374, Valid MAE=50.8949]\n",
      "Epoch 26: 100%|██████████| 44/44 [00:02<00:00, 20.58it/s, Train Loss=2886.5740, Valid Loss=3875.5356, Valid R2=0.2029, Valid MAE=48.9114]\n",
      "Epoch 27: 100%|██████████| 44/44 [00:02<00:00, 20.37it/s, Train Loss=2655.7711, Valid Loss=3446.4346, Valid R2=0.2911, Valid MAE=45.6623]\n",
      "Epoch 28: 100%|██████████| 44/44 [00:02<00:00, 20.30it/s, Train Loss=2456.0892, Valid Loss=4041.6707, Valid R2=0.1687, Valid MAE=49.2387]\n",
      "Epoch 29: 100%|██████████| 44/44 [00:02<00:00, 20.40it/s, Train Loss=2390.0505, Valid Loss=3466.5115, Valid R2=0.2870, Valid MAE=43.8671]\n",
      "Epoch 30: 100%|██████████| 44/44 [00:02<00:00, 20.01it/s, Train Loss=2272.9003, Valid Loss=3847.1907, Valid R2=0.2087, Valid MAE=47.0442]\n"
     ]
    },
    {
     "name": "stdout",
     "output_type": "stream",
     "text": [
      "Early Stopped\n",
      "Setting  51 of Parameters Grid is now on progres.\n"
     ]
    },
    {
     "name": "stderr",
     "output_type": "stream",
     "text": [
      "Epoch  0: 100%|██████████| 44/44 [00:02<00:00, 21.55it/s, Train Loss=15077.7246, Valid Loss=11682.2793, Valid R2=-1.4028, Valid MAE=82.5762]\n",
      "Epoch  1: 100%|██████████| 44/44 [00:02<00:00, 21.71it/s, Train Loss=12629.9230, Valid Loss=8008.7827, Valid R2=-0.6472, Valid MAE=60.8843]\n",
      "Epoch  2: 100%|██████████| 44/44 [00:02<00:00, 19.85it/s, Train Loss=7273.1193, Valid Loss=5069.0137, Valid R2=-0.0426, Valid MAE=55.4679]\n",
      "Epoch  3: 100%|██████████| 44/44 [00:02<00:00, 20.36it/s, Train Loss=5913.0167, Valid Loss=4899.5864, Valid R2=-0.0077, Valid MAE=52.9199]\n",
      "Epoch  4: 100%|██████████| 44/44 [00:01<00:00, 22.11it/s, Train Loss=5830.0032, Valid Loss=4900.8813, Valid R2=-0.0080, Valid MAE=53.0337]\n",
      "Epoch  5: 100%|██████████| 44/44 [00:02<00:00, 20.74it/s, Train Loss=5921.0200, Valid Loss=4888.8369, Valid R2=-0.0055, Valid MAE=52.9756]\n",
      "Epoch  6: 100%|██████████| 44/44 [00:02<00:00, 20.08it/s, Train Loss=5950.0816, Valid Loss=4867.0815, Valid R2=-0.0010, Valid MAE=52.7092]\n",
      "Epoch  7: 100%|██████████| 44/44 [00:02<00:00, 20.00it/s, Train Loss=5832.6327, Valid Loss=4862.2603, Valid R2=-0.0001, Valid MAE=52.3519]\n",
      "Epoch  8: 100%|██████████| 44/44 [00:02<00:00, 20.67it/s, Train Loss=5807.4906, Valid Loss=4942.4160, Valid R2=-0.0165, Valid MAE=54.3653]\n",
      "Epoch  9: 100%|██████████| 44/44 [00:02<00:00, 21.06it/s, Train Loss=5833.8893, Valid Loss=4788.9902, Valid R2=0.0150, Valid MAE=51.7706]\n",
      "Epoch 10: 100%|██████████| 44/44 [00:02<00:00, 20.74it/s, Train Loss=5855.1503, Valid Loss=4981.4087, Valid R2=-0.0246, Valid MAE=54.9409]\n",
      "Epoch 11: 100%|██████████| 44/44 [00:02<00:00, 21.20it/s, Train Loss=5835.7825, Valid Loss=4747.0728, Valid R2=0.0236, Valid MAE=50.7724]\n",
      "Epoch 12: 100%|██████████| 44/44 [00:02<00:00, 20.84it/s, Train Loss=5778.7950, Valid Loss=4938.2515, Valid R2=-0.0157, Valid MAE=54.5832]\n",
      "Epoch 13: 100%|██████████| 44/44 [00:02<00:00, 20.83it/s, Train Loss=5649.0819, Valid Loss=4785.8843, Valid R2=0.0157, Valid MAE=52.5970]\n",
      "Epoch 14: 100%|██████████| 44/44 [00:02<00:00, 20.57it/s, Train Loss=5691.1036, Valid Loss=4695.9941, Valid R2=0.0341, Valid MAE=51.4089]\n",
      "Epoch 15: 100%|██████████| 44/44 [00:02<00:00, 20.17it/s, Train Loss=5504.0262, Valid Loss=4674.9658, Valid R2=0.0385, Valid MAE=51.5710]\n",
      "Epoch 16: 100%|██████████| 44/44 [00:02<00:00, 20.27it/s, Train Loss=5361.8206, Valid Loss=4610.0195, Valid R2=0.0518, Valid MAE=50.8211]\n",
      "Epoch 17: 100%|██████████| 44/44 [00:02<00:00, 20.81it/s, Train Loss=5175.5784, Valid Loss=4432.2393, Valid R2=0.0884, Valid MAE=49.8941]\n",
      "Epoch 18: 100%|██████████| 44/44 [00:02<00:00, 20.93it/s, Train Loss=4936.4285, Valid Loss=4684.7637, Valid R2=0.0365, Valid MAE=50.9465]\n",
      "Epoch 19: 100%|██████████| 44/44 [00:02<00:00, 20.96it/s, Train Loss=4819.5336, Valid Loss=4366.3110, Valid R2=0.1020, Valid MAE=50.7835]\n",
      "Epoch 20: 100%|██████████| 44/44 [00:02<00:00, 20.33it/s, Train Loss=4866.0323, Valid Loss=4345.4189, Valid R2=0.1062, Valid MAE=50.6404]\n",
      "Epoch 21: 100%|██████████| 44/44 [00:02<00:00, 20.28it/s, Train Loss=4616.1798, Valid Loss=4407.4888, Valid R2=0.0935, Valid MAE=51.0711]\n",
      "Epoch 22: 100%|██████████| 44/44 [00:02<00:00, 20.66it/s, Train Loss=4379.3919, Valid Loss=4234.7891, Valid R2=0.1290, Valid MAE=49.4851]\n",
      "Epoch 23: 100%|██████████| 44/44 [00:02<00:00, 19.92it/s, Train Loss=4197.6597, Valid Loss=4332.8862, Valid R2=0.1088, Valid MAE=51.9045]\n",
      "Epoch 24: 100%|██████████| 44/44 [00:02<00:00, 20.43it/s, Train Loss=3967.3513, Valid Loss=3412.9597, Valid R2=0.2980, Valid MAE=44.9381]\n",
      "Epoch 25: 100%|██████████| 44/44 [00:02<00:00, 20.86it/s, Train Loss=3857.9190, Valid Loss=3905.0801, Valid R2=0.1968, Valid MAE=45.2324]\n",
      "Epoch 26: 100%|██████████| 44/44 [00:02<00:00, 19.94it/s, Train Loss=3719.7533, Valid Loss=3769.2415, Valid R2=0.2248, Valid MAE=45.2113]\n",
      "Epoch 27: 100%|██████████| 44/44 [00:02<00:00, 20.96it/s, Train Loss=3622.1026, Valid Loss=3954.7607, Valid R2=0.1866, Valid MAE=45.4948]\n",
      "Epoch 28: 100%|██████████| 44/44 [00:02<00:00, 20.23it/s, Train Loss=3741.4835, Valid Loss=4263.9629, Valid R2=0.1230, Valid MAE=49.8216]\n",
      "Epoch 29: 100%|██████████| 44/44 [00:02<00:00, 20.69it/s, Train Loss=3927.4021, Valid Loss=4211.8545, Valid R2=0.1337, Valid MAE=50.3826]\n",
      "Epoch 30: 100%|██████████| 44/44 [00:02<00:00, 21.05it/s, Train Loss=3660.1696, Valid Loss=3425.8035, Valid R2=0.2954, Valid MAE=43.3104]\n"
     ]
    },
    {
     "name": "stdout",
     "output_type": "stream",
     "text": [
      "Early Stopped\n",
      "Setting  52 of Parameters Grid is now on progres.\n"
     ]
    },
    {
     "name": "stderr",
     "output_type": "stream",
     "text": [
      "Epoch  0: 100%|██████████| 44/44 [00:01<00:00, 22.02it/s, Train Loss=15072.0569, Valid Loss=11660.7920, Valid R2=-1.3984, Valid MAE=82.4547]\n",
      "Epoch  1: 100%|██████████| 44/44 [00:02<00:00, 21.87it/s, Train Loss=12957.7690, Valid Loss=9002.5771, Valid R2=-0.8516, Valid MAE=66.3447]\n",
      "Epoch  2: 100%|██████████| 44/44 [00:02<00:00, 20.65it/s, Train Loss=8748.2436, Valid Loss=4913.8242, Valid R2=-0.0107, Valid MAE=49.9255]\n",
      "Epoch  3: 100%|██████████| 44/44 [00:02<00:00, 20.74it/s, Train Loss=5988.9699, Valid Loss=4977.3110, Valid R2=-0.0237, Valid MAE=54.3852]\n",
      "Epoch  4: 100%|██████████| 44/44 [00:02<00:00, 20.84it/s, Train Loss=5838.3940, Valid Loss=4830.9639, Valid R2=0.0064, Valid MAE=51.5863]\n",
      "Epoch  5: 100%|██████████| 44/44 [00:02<00:00, 20.81it/s, Train Loss=5881.6649, Valid Loss=4782.2729, Valid R2=0.0164, Valid MAE=50.7057]\n",
      "Epoch  6: 100%|██████████| 44/44 [00:02<00:00, 20.51it/s, Train Loss=5789.2189, Valid Loss=4870.0293, Valid R2=-0.0017, Valid MAE=53.4369]\n",
      "Epoch  7: 100%|██████████| 44/44 [00:02<00:00, 20.20it/s, Train Loss=5843.4892, Valid Loss=4945.1553, Valid R2=-0.0171, Valid MAE=54.6925]\n",
      "Epoch  8: 100%|██████████| 44/44 [00:02<00:00, 21.10it/s, Train Loss=5868.1776, Valid Loss=4831.1074, Valid R2=0.0064, Valid MAE=50.9778]\n",
      "Epoch  9: 100%|██████████| 44/44 [00:02<00:00, 20.55it/s, Train Loss=5635.0016, Valid Loss=4829.8936, Valid R2=0.0066, Valid MAE=52.2507]\n",
      "Epoch 10: 100%|██████████| 44/44 [00:02<00:00, 20.71it/s, Train Loss=5608.2944, Valid Loss=4752.1011, Valid R2=0.0226, Valid MAE=52.1719]\n",
      "Epoch 11: 100%|██████████| 44/44 [00:02<00:00, 20.50it/s, Train Loss=5510.6699, Valid Loss=4891.2954, Valid R2=-0.0060, Valid MAE=53.9933]\n",
      "Epoch 12: 100%|██████████| 44/44 [00:02<00:00, 20.65it/s, Train Loss=5566.4222, Valid Loss=4918.3965, Valid R2=-0.0116, Valid MAE=55.4264]\n",
      "Epoch 13: 100%|██████████| 44/44 [00:02<00:00, 20.87it/s, Train Loss=5397.2991, Valid Loss=4783.5811, Valid R2=0.0161, Valid MAE=50.8258]\n",
      "Epoch 14: 100%|██████████| 44/44 [00:02<00:00, 20.13it/s, Train Loss=5239.4671, Valid Loss=4641.8311, Valid R2=0.0453, Valid MAE=52.2513]\n",
      "Epoch 15: 100%|██████████| 44/44 [00:02<00:00, 20.80it/s, Train Loss=5087.1740, Valid Loss=4751.9033, Valid R2=0.0226, Valid MAE=51.1219]\n",
      "Epoch 16: 100%|██████████| 44/44 [00:02<00:00, 20.89it/s, Train Loss=5088.7978, Valid Loss=5070.0571, Valid R2=-0.0428, Valid MAE=56.0560]\n",
      "Epoch 17: 100%|██████████| 44/44 [00:02<00:00, 21.01it/s, Train Loss=5093.2164, Valid Loss=4721.7744, Valid R2=0.0288, Valid MAE=52.3452]\n",
      "Epoch 18: 100%|██████████| 44/44 [00:02<00:00, 20.79it/s, Train Loss=4847.5860, Valid Loss=4476.1587, Valid R2=0.0794, Valid MAE=49.5921]\n",
      "Epoch 19: 100%|██████████| 44/44 [00:02<00:00, 20.48it/s, Train Loss=4649.5704, Valid Loss=4676.6196, Valid R2=0.0381, Valid MAE=52.8336]\n",
      "Epoch 20: 100%|██████████| 44/44 [00:02<00:00, 20.77it/s, Train Loss=4754.5335, Valid Loss=4792.9692, Valid R2=0.0142, Valid MAE=51.8793]\n",
      "Epoch 21: 100%|██████████| 44/44 [00:02<00:00, 20.93it/s, Train Loss=4597.4131, Valid Loss=4774.0391, Valid R2=0.0181, Valid MAE=51.3858]\n",
      "Epoch 22: 100%|██████████| 44/44 [00:02<00:00, 20.67it/s, Train Loss=4510.4255, Valid Loss=4679.2339, Valid R2=0.0376, Valid MAE=49.6284]\n",
      "Epoch 23: 100%|██████████| 44/44 [00:02<00:00, 20.43it/s, Train Loss=4261.7238, Valid Loss=4768.1328, Valid R2=0.0193, Valid MAE=51.0626]\n",
      "Epoch 24: 100%|██████████| 44/44 [00:02<00:00, 20.08it/s, Train Loss=4049.4885, Valid Loss=5156.9443, Valid R2=-0.0607, Valid MAE=51.3595]\n"
     ]
    },
    {
     "name": "stdout",
     "output_type": "stream",
     "text": [
      "Early Stopped\n",
      "Setting  53 of Parameters Grid is now on progres.\n"
     ]
    },
    {
     "name": "stderr",
     "output_type": "stream",
     "text": [
      "Epoch  0: 100%|██████████| 44/44 [00:02<00:00, 20.75it/s, Train Loss=15212.3503, Valid Loss=11928.1328, Valid R2=-1.4533, Valid MAE=84.0632]\n",
      "Epoch  1: 100%|██████████| 44/44 [00:02<00:00, 20.68it/s, Train Loss=13307.6156, Valid Loss=9478.7227, Valid R2=-0.9496, Valid MAE=69.1824]\n",
      "Epoch  2: 100%|██████████| 44/44 [00:02<00:00, 20.41it/s, Train Loss=10370.6351, Valid Loss=6811.2153, Valid R2=-0.4009, Valid MAE=54.9917]\n",
      "Epoch  3: 100%|██████████| 44/44 [00:02<00:00, 20.26it/s, Train Loss=7136.7028, Valid Loss=4865.3452, Valid R2=-0.0007, Valid MAE=51.6721]\n",
      "Epoch  4: 100%|██████████| 44/44 [00:02<00:00, 20.46it/s, Train Loss=5921.0222, Valid Loss=4968.1699, Valid R2=-0.0218, Valid MAE=54.2358]\n",
      "Epoch  5: 100%|██████████| 44/44 [00:02<00:00, 20.59it/s, Train Loss=5924.2432, Valid Loss=4918.6064, Valid R2=-0.0116, Valid MAE=53.2773]\n",
      "Epoch  6: 100%|██████████| 44/44 [00:02<00:00, 20.68it/s, Train Loss=5989.2746, Valid Loss=4896.2466, Valid R2=-0.0070, Valid MAE=52.7524]\n",
      "Epoch  7: 100%|██████████| 44/44 [00:02<00:00, 20.80it/s, Train Loss=5852.6102, Valid Loss=4950.9990, Valid R2=-0.0183, Valid MAE=53.9257]\n",
      "Epoch  8: 100%|██████████| 44/44 [00:02<00:00, 21.06it/s, Train Loss=5934.1352, Valid Loss=4973.3325, Valid R2=-0.0229, Valid MAE=54.3218]\n",
      "Epoch  9: 100%|██████████| 44/44 [00:02<00:00, 20.92it/s, Train Loss=5849.3015, Valid Loss=4932.1572, Valid R2=-0.0144, Valid MAE=53.5658]\n"
     ]
    },
    {
     "name": "stdout",
     "output_type": "stream",
     "text": [
      "Early Stopped\n",
      "Setting  54 of Parameters Grid is now on progres.\n"
     ]
    },
    {
     "name": "stderr",
     "output_type": "stream",
     "text": [
      "Epoch  0: 100%|██████████| 44/44 [00:02<00:00, 20.47it/s, Train Loss=15165.8860, Valid Loss=11762.2871, Valid R2=-1.4192, Valid MAE=83.0682]\n",
      "Epoch  1: 100%|██████████| 44/44 [00:02<00:00, 20.96it/s, Train Loss=12754.2233, Valid Loss=8642.4824, Valid R2=-0.7776, Valid MAE=64.3155]\n",
      "Epoch  2: 100%|██████████| 44/44 [00:02<00:00, 20.44it/s, Train Loss=9125.2617, Valid Loss=5887.7705, Valid R2=-0.2110, Valid MAE=51.1362]\n",
      "Epoch  3: 100%|██████████| 44/44 [00:02<00:00, 21.18it/s, Train Loss=6597.7456, Valid Loss=4863.7876, Valid R2=-0.0004, Valid MAE=51.0063]\n",
      "Epoch  4: 100%|██████████| 44/44 [00:02<00:00, 21.01it/s, Train Loss=5880.5267, Valid Loss=4934.8291, Valid R2=-0.0150, Valid MAE=53.6227]\n",
      "Epoch  5: 100%|██████████| 44/44 [00:02<00:00, 20.91it/s, Train Loss=6004.1810, Valid Loss=4929.2339, Valid R2=-0.0138, Valid MAE=53.4943]\n",
      "Epoch  6: 100%|██████████| 44/44 [00:02<00:00, 20.73it/s, Train Loss=5855.5492, Valid Loss=4915.2246, Valid R2=-0.0109, Valid MAE=53.2134]\n",
      "Epoch  7: 100%|██████████| 44/44 [00:02<00:00, 20.66it/s, Train Loss=5973.0617, Valid Loss=4912.7715, Valid R2=-0.0104, Valid MAE=53.1018]\n",
      "Epoch  8: 100%|██████████| 44/44 [00:02<00:00, 20.16it/s, Train Loss=5795.5658, Valid Loss=4941.6152, Valid R2=-0.0164, Valid MAE=53.6985]\n",
      "Epoch  9: 100%|██████████| 44/44 [00:02<00:00, 20.96it/s, Train Loss=5908.7811, Valid Loss=4943.0767, Valid R2=-0.0167, Valid MAE=53.7001]\n"
     ]
    },
    {
     "name": "stdout",
     "output_type": "stream",
     "text": [
      "Early Stopped\n",
      "Setting  55 of Parameters Grid is now on progres.\n"
     ]
    },
    {
     "name": "stderr",
     "output_type": "stream",
     "text": [
      "Epoch  0: 100%|██████████| 44/44 [00:02<00:00, 20.73it/s, Train Loss=14962.9293, Valid Loss=11228.5986, Valid R2=-1.3095, Valid MAE=79.8179]\n",
      "Epoch  1: 100%|██████████| 44/44 [00:02<00:00, 20.94it/s, Train Loss=11767.3439, Valid Loss=7432.7695, Valid R2=-0.5287, Valid MAE=58.0467]\n",
      "Epoch  2: 100%|██████████| 44/44 [00:02<00:00, 20.47it/s, Train Loss=7360.7229, Valid Loss=4872.2876, Valid R2=-0.0021, Valid MAE=51.0928]\n",
      "Epoch  3: 100%|██████████| 44/44 [00:02<00:00, 20.98it/s, Train Loss=5824.6012, Valid Loss=4942.5464, Valid R2=-0.0166, Valid MAE=53.9878]\n",
      "Epoch  4: 100%|██████████| 44/44 [00:02<00:00, 21.94it/s, Train Loss=5879.5089, Valid Loss=4974.8574, Valid R2=-0.0232, Valid MAE=54.4136]\n",
      "Epoch  5: 100%|██████████| 44/44 [00:02<00:00, 21.03it/s, Train Loss=5827.8834, Valid Loss=4915.9883, Valid R2=-0.0111, Valid MAE=53.3710]\n",
      "Epoch  6: 100%|██████████| 44/44 [00:02<00:00, 21.92it/s, Train Loss=5826.4988, Valid Loss=4875.0903, Valid R2=-0.0027, Valid MAE=52.7147]\n",
      "Epoch  7: 100%|██████████| 44/44 [00:02<00:00, 21.19it/s, Train Loss=5770.9949, Valid Loss=4823.4785, Valid R2=0.0079, Valid MAE=52.1097]\n",
      "Epoch  8: 100%|██████████| 44/44 [00:02<00:00, 20.03it/s, Train Loss=5724.2052, Valid Loss=5018.8936, Valid R2=-0.0323, Valid MAE=55.4088]\n",
      "Epoch  9: 100%|██████████| 44/44 [00:02<00:00, 20.16it/s, Train Loss=5637.1939, Valid Loss=4746.8398, Valid R2=0.0237, Valid MAE=51.5403]\n",
      "Epoch 10: 100%|██████████| 44/44 [00:02<00:00, 20.29it/s, Train Loss=5452.3213, Valid Loss=4804.2886, Valid R2=0.0119, Valid MAE=52.1009]\n",
      "Epoch 11: 100%|██████████| 44/44 [00:02<00:00, 21.56it/s, Train Loss=5343.6689, Valid Loss=4539.7095, Valid R2=0.0663, Valid MAE=52.2649]\n",
      "Epoch 12: 100%|██████████| 44/44 [00:02<00:00, 21.48it/s, Train Loss=5162.9733, Valid Loss=4722.6689, Valid R2=0.0287, Valid MAE=51.0754]\n",
      "Epoch 13: 100%|██████████| 44/44 [00:02<00:00, 20.96it/s, Train Loss=4899.1802, Valid Loss=4664.6870, Valid R2=0.0406, Valid MAE=53.3664]\n",
      "Epoch 14: 100%|██████████| 44/44 [00:02<00:00, 20.76it/s, Train Loss=4805.4947, Valid Loss=4533.7036, Valid R2=0.0675, Valid MAE=51.7417]\n",
      "Epoch 15: 100%|██████████| 44/44 [00:02<00:00, 20.73it/s, Train Loss=4813.0456, Valid Loss=4509.0459, Valid R2=0.0726, Valid MAE=49.7373]\n",
      "Epoch 16: 100%|██████████| 44/44 [00:02<00:00, 20.07it/s, Train Loss=4434.2374, Valid Loss=4525.2119, Valid R2=0.0693, Valid MAE=52.0210]\n",
      "Epoch 17: 100%|██████████| 44/44 [00:02<00:00, 20.85it/s, Train Loss=4270.2683, Valid Loss=4585.9585, Valid R2=0.0568, Valid MAE=53.4008]\n",
      "Epoch 18: 100%|██████████| 44/44 [00:02<00:00, 21.62it/s, Train Loss=4220.0774, Valid Loss=4643.2500, Valid R2=0.0450, Valid MAE=54.1521]\n",
      "Epoch 19: 100%|██████████| 44/44 [00:02<00:00, 21.22it/s, Train Loss=4259.1147, Valid Loss=4299.1299, Valid R2=0.1158, Valid MAE=50.7313]\n",
      "Epoch 20: 100%|██████████| 44/44 [00:02<00:00, 20.68it/s, Train Loss=3893.5044, Valid Loss=3936.9282, Valid R2=0.1903, Valid MAE=48.6735]\n",
      "Epoch 21: 100%|██████████| 44/44 [00:02<00:00, 20.91it/s, Train Loss=3548.8398, Valid Loss=4316.7290, Valid R2=0.1121, Valid MAE=52.4805]\n",
      "Epoch 22: 100%|██████████| 44/44 [00:02<00:00, 20.88it/s, Train Loss=3458.2032, Valid Loss=4080.9927, Valid R2=0.1606, Valid MAE=47.7879]\n",
      "Epoch 23: 100%|██████████| 44/44 [00:02<00:00, 20.60it/s, Train Loss=3337.4526, Valid Loss=3900.4922, Valid R2=0.1978, Valid MAE=45.4754]\n",
      "Epoch 24: 100%|██████████| 44/44 [00:02<00:00, 20.55it/s, Train Loss=2997.0890, Valid Loss=4116.3726, Valid R2=0.1534, Valid MAE=49.3591]\n",
      "Epoch 25: 100%|██████████| 44/44 [00:02<00:00, 20.80it/s, Train Loss=2936.1275, Valid Loss=4190.1450, Valid R2=0.1382, Valid MAE=48.7709]\n",
      "Epoch 26: 100%|██████████| 44/44 [00:02<00:00, 20.86it/s, Train Loss=2747.8641, Valid Loss=4027.3901, Valid R2=0.1717, Valid MAE=48.1038]\n",
      "Epoch 27: 100%|██████████| 44/44 [00:02<00:00, 20.40it/s, Train Loss=2740.0483, Valid Loss=4158.9165, Valid R2=0.1446, Valid MAE=49.2555]\n",
      "Epoch 28: 100%|██████████| 44/44 [00:02<00:00, 20.52it/s, Train Loss=2658.2079, Valid Loss=4179.4399, Valid R2=0.1404, Valid MAE=46.9706]\n",
      "Epoch 29: 100%|██████████| 44/44 [00:02<00:00, 20.31it/s, Train Loss=2452.6072, Valid Loss=4586.7363, Valid R2=0.0566, Valid MAE=49.6177]\n"
     ]
    },
    {
     "name": "stdout",
     "output_type": "stream",
     "text": [
      "Early Stopped\n",
      "Setting  56 of Parameters Grid is now on progres.\n"
     ]
    },
    {
     "name": "stderr",
     "output_type": "stream",
     "text": [
      "Epoch  0: 100%|██████████| 44/44 [00:02<00:00, 20.66it/s, Train Loss=15277.0304, Valid Loss=12079.7188, Valid R2=-1.4845, Valid MAE=84.9691]\n",
      "Epoch  1: 100%|██████████| 44/44 [00:02<00:00, 19.50it/s, Train Loss=13082.5875, Valid Loss=7987.2827, Valid R2=-0.6428, Valid MAE=60.7954]\n",
      "Epoch  2: 100%|██████████| 44/44 [00:02<00:00, 20.63it/s, Train Loss=7837.2331, Valid Loss=4878.3848, Valid R2=-0.0034, Valid MAE=52.0042]\n",
      "Epoch  3: 100%|██████████| 44/44 [00:02<00:00, 21.14it/s, Train Loss=5906.3934, Valid Loss=4902.5605, Valid R2=-0.0083, Valid MAE=52.9869]\n",
      "Epoch  4: 100%|██████████| 44/44 [00:02<00:00, 21.22it/s, Train Loss=5851.8420, Valid Loss=4949.3203, Valid R2=-0.0180, Valid MAE=53.9487]\n",
      "Epoch  5: 100%|██████████| 44/44 [00:02<00:00, 20.66it/s, Train Loss=5779.7350, Valid Loss=4922.3315, Valid R2=-0.0124, Valid MAE=53.8425]\n",
      "Epoch  6: 100%|██████████| 44/44 [00:02<00:00, 20.85it/s, Train Loss=5835.6176, Valid Loss=4902.5039, Valid R2=-0.0083, Valid MAE=53.4753]\n",
      "Epoch  7: 100%|██████████| 44/44 [00:02<00:00, 20.99it/s, Train Loss=5787.5345, Valid Loss=4857.6611, Valid R2=0.0009, Valid MAE=52.8210]\n",
      "Epoch  8: 100%|██████████| 44/44 [00:02<00:00, 21.05it/s, Train Loss=5723.9911, Valid Loss=4859.8921, Valid R2=0.0004, Valid MAE=53.3337]\n",
      "Epoch  9: 100%|██████████| 44/44 [00:02<00:00, 20.49it/s, Train Loss=5635.9630, Valid Loss=4900.5361, Valid R2=-0.0079, Valid MAE=54.9967]\n",
      "Epoch 10: 100%|██████████| 44/44 [00:02<00:00, 21.30it/s, Train Loss=5384.6702, Valid Loss=4680.1191, Valid R2=0.0374, Valid MAE=53.5850]\n",
      "Epoch 11: 100%|██████████| 44/44 [00:02<00:00, 20.72it/s, Train Loss=5107.6443, Valid Loss=4568.2598, Valid R2=0.0604, Valid MAE=50.1131]\n",
      "Epoch 12: 100%|██████████| 44/44 [00:02<00:00, 21.22it/s, Train Loss=5028.8507, Valid Loss=4711.7817, Valid R2=0.0309, Valid MAE=54.1895]\n",
      "Epoch 13: 100%|██████████| 44/44 [00:02<00:00, 20.98it/s, Train Loss=4861.7350, Valid Loss=4095.9097, Valid R2=0.1576, Valid MAE=48.4201]\n",
      "Epoch 14: 100%|██████████| 44/44 [00:02<00:00, 21.00it/s, Train Loss=4714.1700, Valid Loss=4026.3933, Valid R2=0.1719, Valid MAE=48.6851]\n",
      "Epoch 15: 100%|██████████| 44/44 [00:02<00:00, 20.93it/s, Train Loss=4375.6830, Valid Loss=3923.7239, Valid R2=0.1930, Valid MAE=48.0471]\n",
      "Epoch 16: 100%|██████████| 44/44 [00:02<00:00, 20.64it/s, Train Loss=4151.7858, Valid Loss=3944.1516, Valid R2=0.1888, Valid MAE=44.3292]\n",
      "Epoch 17: 100%|██████████| 44/44 [00:02<00:00, 20.37it/s, Train Loss=4296.8950, Valid Loss=3978.7280, Valid R2=0.1817, Valid MAE=45.3048]\n",
      "Epoch 18: 100%|██████████| 44/44 [00:02<00:00, 20.94it/s, Train Loss=3918.3964, Valid Loss=3909.9468, Valid R2=0.1958, Valid MAE=47.6071]\n",
      "Epoch 19: 100%|██████████| 44/44 [00:02<00:00, 20.94it/s, Train Loss=3553.6809, Valid Loss=3714.9243, Valid R2=0.2359, Valid MAE=46.9167]\n",
      "Epoch 20: 100%|██████████| 44/44 [00:02<00:00, 20.81it/s, Train Loss=3856.5860, Valid Loss=4176.3584, Valid R2=0.1410, Valid MAE=50.0984]\n",
      "Epoch 21: 100%|██████████| 44/44 [00:02<00:00, 20.73it/s, Train Loss=4141.1434, Valid Loss=3951.9707, Valid R2=0.1872, Valid MAE=47.7111]\n",
      "Epoch 22: 100%|██████████| 44/44 [00:02<00:00, 21.24it/s, Train Loss=3722.5121, Valid Loss=3849.6802, Valid R2=0.2082, Valid MAE=47.4667]\n",
      "Epoch 23: 100%|██████████| 44/44 [00:02<00:00, 21.09it/s, Train Loss=3687.9619, Valid Loss=3798.2092, Valid R2=0.2188, Valid MAE=48.1014]\n",
      "Epoch 24: 100%|██████████| 44/44 [00:02<00:00, 21.18it/s, Train Loss=3203.7604, Valid Loss=3750.3269, Valid R2=0.2286, Valid MAE=47.8977]\n",
      "Epoch 25: 100%|██████████| 44/44 [00:02<00:00, 20.83it/s, Train Loss=3135.0987, Valid Loss=3477.9163, Valid R2=0.2847, Valid MAE=45.7668]\n",
      "Epoch 26: 100%|██████████| 44/44 [00:02<00:00, 20.53it/s, Train Loss=3032.0771, Valid Loss=3396.0488, Valid R2=0.3015, Valid MAE=43.4193]\n",
      "Epoch 27: 100%|██████████| 44/44 [00:02<00:00, 20.72it/s, Train Loss=2896.8095, Valid Loss=3435.6357, Valid R2=0.2934, Valid MAE=43.8856]\n",
      "Epoch 28: 100%|██████████| 44/44 [00:02<00:00, 20.99it/s, Train Loss=2780.0420, Valid Loss=3562.3508, Valid R2=0.2673, Valid MAE=44.1960]\n",
      "Epoch 29: 100%|██████████| 44/44 [00:02<00:00, 20.83it/s, Train Loss=2797.6420, Valid Loss=3346.1440, Valid R2=0.3118, Valid MAE=43.3099]\n",
      "Epoch 30: 100%|██████████| 44/44 [00:01<00:00, 22.27it/s, Train Loss=2712.7638, Valid Loss=3195.0452, Valid R2=0.3429, Valid MAE=43.2550]\n",
      "Epoch 31: 100%|██████████| 44/44 [00:02<00:00, 20.85it/s, Train Loss=2583.8906, Valid Loss=3675.4319, Valid R2=0.2440, Valid MAE=46.8989]\n",
      "Epoch 32: 100%|██████████| 44/44 [00:02<00:00, 21.27it/s, Train Loss=2720.1372, Valid Loss=3558.4526, Valid R2=0.2681, Valid MAE=45.7184]\n",
      "Epoch 33: 100%|██████████| 44/44 [00:02<00:00, 21.02it/s, Train Loss=2595.6096, Valid Loss=3563.3357, Valid R2=0.2671, Valid MAE=45.6566]\n",
      "Epoch 34: 100%|██████████| 44/44 [00:02<00:00, 20.76it/s, Train Loss=2463.2469, Valid Loss=3359.7397, Valid R2=0.3090, Valid MAE=42.5043]\n",
      "Epoch 35: 100%|██████████| 44/44 [00:02<00:00, 21.05it/s, Train Loss=2266.6997, Valid Loss=3338.9031, Valid R2=0.3133, Valid MAE=41.8126]\n",
      "Epoch 36: 100%|██████████| 44/44 [00:02<00:00, 21.11it/s, Train Loss=2044.7210, Valid Loss=3275.6123, Valid R2=0.3263, Valid MAE=41.6908]\n"
     ]
    },
    {
     "name": "stdout",
     "output_type": "stream",
     "text": [
      "Early Stopped\n",
      "Setting  57 of Parameters Grid is now on progres.\n"
     ]
    },
    {
     "name": "stderr",
     "output_type": "stream",
     "text": [
      "Epoch  0: 100%|██████████| 44/44 [00:02<00:00, 20.90it/s, Train Loss=15284.4711, Valid Loss=12106.2930, Valid R2=-1.4900, Valid MAE=85.1103]\n",
      "Epoch  1: 100%|██████████| 44/44 [00:02<00:00, 20.67it/s, Train Loss=13170.5625, Valid Loss=8874.4111, Valid R2=-0.8253, Valid MAE=65.6025]\n",
      "Epoch  2: 100%|██████████| 44/44 [00:02<00:00, 20.82it/s, Train Loss=8838.2232, Valid Loss=5161.7891, Valid R2=-0.0617, Valid MAE=49.6391]\n",
      "Epoch  3: 100%|██████████| 44/44 [00:02<00:00, 20.74it/s, Train Loss=5963.7810, Valid Loss=4971.4634, Valid R2=-0.0225, Valid MAE=54.1854]\n",
      "Epoch  4: 100%|██████████| 44/44 [00:02<00:00, 21.00it/s, Train Loss=5949.6507, Valid Loss=4925.0884, Valid R2=-0.0130, Valid MAE=53.3911]\n",
      "Epoch  5: 100%|██████████| 44/44 [00:02<00:00, 20.63it/s, Train Loss=5879.2962, Valid Loss=4864.9028, Valid R2=-0.0006, Valid MAE=52.2838]\n",
      "Epoch  6: 100%|██████████| 44/44 [00:02<00:00, 21.05it/s, Train Loss=5738.8520, Valid Loss=4868.0322, Valid R2=-0.0012, Valid MAE=53.2078]\n",
      "Epoch  7: 100%|██████████| 44/44 [00:01<00:00, 22.25it/s, Train Loss=5683.9194, Valid Loss=4999.4399, Valid R2=-0.0283, Valid MAE=55.6744]\n",
      "Epoch  8: 100%|██████████| 44/44 [00:02<00:00, 21.91it/s, Train Loss=5429.7096, Valid Loss=4726.7954, Valid R2=0.0278, Valid MAE=52.7682]\n",
      "Epoch  9: 100%|██████████| 44/44 [00:02<00:00, 21.82it/s, Train Loss=5291.3203, Valid Loss=4438.8940, Valid R2=0.0870, Valid MAE=50.0503]\n",
      "Epoch 10: 100%|██████████| 44/44 [00:02<00:00, 21.14it/s, Train Loss=5106.1753, Valid Loss=4411.0889, Valid R2=0.0927, Valid MAE=49.5143]\n",
      "Epoch 11: 100%|██████████| 44/44 [00:02<00:00, 20.39it/s, Train Loss=4895.5097, Valid Loss=4408.7031, Valid R2=0.0932, Valid MAE=50.4858]\n",
      "Epoch 12: 100%|██████████| 44/44 [00:02<00:00, 20.43it/s, Train Loss=4712.2923, Valid Loss=4336.4189, Valid R2=0.1081, Valid MAE=47.4293]\n",
      "Epoch 13: 100%|██████████| 44/44 [00:02<00:00, 20.73it/s, Train Loss=4883.5991, Valid Loss=4444.1890, Valid R2=0.0859, Valid MAE=52.3168]\n",
      "Epoch 14: 100%|██████████| 44/44 [00:02<00:00, 20.54it/s, Train Loss=4552.1518, Valid Loss=4102.9917, Valid R2=0.1561, Valid MAE=48.2318]\n",
      "Epoch 15: 100%|██████████| 44/44 [00:02<00:00, 20.32it/s, Train Loss=4537.5696, Valid Loss=4513.5664, Valid R2=0.0717, Valid MAE=50.9534]\n",
      "Epoch 16: 100%|██████████| 44/44 [00:02<00:00, 21.16it/s, Train Loss=4532.1214, Valid Loss=4054.5334, Valid R2=0.1661, Valid MAE=49.5290]\n",
      "Epoch 17: 100%|██████████| 44/44 [00:02<00:00, 20.34it/s, Train Loss=4243.8676, Valid Loss=3983.9302, Valid R2=0.1806, Valid MAE=48.7008]\n",
      "Epoch 18: 100%|██████████| 44/44 [00:02<00:00, 20.65it/s, Train Loss=4181.2491, Valid Loss=4200.0811, Valid R2=0.1361, Valid MAE=52.5943]\n",
      "Epoch 19: 100%|██████████| 44/44 [00:02<00:00, 21.05it/s, Train Loss=3982.1834, Valid Loss=3992.5903, Valid R2=0.1788, Valid MAE=48.6727]\n",
      "Epoch 20: 100%|██████████| 44/44 [00:02<00:00, 20.13it/s, Train Loss=3699.5590, Valid Loss=3719.3706, Valid R2=0.2350, Valid MAE=47.5542]\n",
      "Epoch 21: 100%|██████████| 44/44 [00:02<00:00, 18.60it/s, Train Loss=3749.4243, Valid Loss=3647.9028, Valid R2=0.2497, Valid MAE=46.4819]\n",
      "Epoch 22: 100%|██████████| 44/44 [00:02<00:00, 18.75it/s, Train Loss=3399.5620, Valid Loss=3806.5078, Valid R2=0.2171, Valid MAE=49.2424]\n",
      "Epoch 23: 100%|██████████| 44/44 [00:02<00:00, 18.83it/s, Train Loss=3658.5857, Valid Loss=3801.2893, Valid R2=0.2182, Valid MAE=47.7437]\n",
      "Epoch 24: 100%|██████████| 44/44 [00:02<00:00, 18.77it/s, Train Loss=3339.6981, Valid Loss=3590.7083, Valid R2=0.2615, Valid MAE=46.2424]\n",
      "Epoch 25: 100%|██████████| 44/44 [00:02<00:00, 20.17it/s, Train Loss=3268.4446, Valid Loss=3564.9993, Valid R2=0.2668, Valid MAE=42.9865]\n",
      "Epoch 26: 100%|██████████| 44/44 [00:02<00:00, 20.52it/s, Train Loss=3170.0264, Valid Loss=3502.5237, Valid R2=0.2796, Valid MAE=44.3472]\n",
      "Epoch 27: 100%|██████████| 44/44 [00:02<00:00, 21.02it/s, Train Loss=2880.3596, Valid Loss=3567.0188, Valid R2=0.2663, Valid MAE=46.9127]\n",
      "Epoch 28: 100%|██████████| 44/44 [00:02<00:00, 20.35it/s, Train Loss=2799.8086, Valid Loss=3332.7366, Valid R2=0.3145, Valid MAE=45.4774]\n",
      "Epoch 29: 100%|██████████| 44/44 [00:02<00:00, 21.90it/s, Train Loss=2585.4643, Valid Loss=3361.1882, Valid R2=0.3087, Valid MAE=45.9040]\n",
      "Epoch 30: 100%|██████████| 44/44 [00:02<00:00, 20.66it/s, Train Loss=2464.4052, Valid Loss=3416.9875, Valid R2=0.2972, Valid MAE=46.2695]\n",
      "Epoch 31: 100%|██████████| 44/44 [00:02<00:00, 20.67it/s, Train Loss=2403.5755, Valid Loss=3471.6467, Valid R2=0.2860, Valid MAE=45.7593]\n",
      "Epoch 32: 100%|██████████| 44/44 [00:02<00:00, 20.49it/s, Train Loss=2319.4796, Valid Loss=3239.0781, Valid R2=0.3338, Valid MAE=44.3085]\n",
      "Epoch 33: 100%|██████████| 44/44 [00:02<00:00, 20.60it/s, Train Loss=2089.2893, Valid Loss=3386.4873, Valid R2=0.3035, Valid MAE=44.9585]\n",
      "Epoch 34: 100%|██████████| 44/44 [00:02<00:00, 20.23it/s, Train Loss=2217.0045, Valid Loss=3489.8259, Valid R2=0.2822, Valid MAE=46.1702]\n",
      "Epoch 35: 100%|██████████| 44/44 [00:02<00:00, 21.23it/s, Train Loss=2044.0742, Valid Loss=3447.1206, Valid R2=0.2910, Valid MAE=46.5569]\n",
      "Epoch 36: 100%|██████████| 44/44 [00:02<00:00, 21.08it/s, Train Loss=2026.1960, Valid Loss=3448.0007, Valid R2=0.2908, Valid MAE=46.2160]\n",
      "Epoch 37: 100%|██████████| 44/44 [00:02<00:00, 21.07it/s, Train Loss=2046.6647, Valid Loss=3950.4907, Valid R2=0.1875, Valid MAE=49.0164]\n",
      "Epoch 38: 100%|██████████| 44/44 [00:02<00:00, 21.09it/s, Train Loss=1917.1982, Valid Loss=3298.3718, Valid R2=0.3216, Valid MAE=44.5584]\n"
     ]
    },
    {
     "name": "stdout",
     "output_type": "stream",
     "text": [
      "Early Stopped\n",
      "Setting  58 of Parameters Grid is now on progres.\n"
     ]
    },
    {
     "name": "stderr",
     "output_type": "stream",
     "text": [
      "Epoch  0: 100%|██████████| 44/44 [00:02<00:00, 21.15it/s, Train Loss=15094.9658, Valid Loss=11463.8057, Valid R2=-1.3578, Valid MAE=81.2646]\n",
      "Epoch  1: 100%|██████████| 44/44 [00:02<00:00, 20.80it/s, Train Loss=12229.0981, Valid Loss=7982.5752, Valid R2=-0.6418, Valid MAE=60.7810]\n",
      "Epoch  2: 100%|██████████| 44/44 [00:02<00:00, 21.08it/s, Train Loss=8178.5156, Valid Loss=5186.5425, Valid R2=-0.0668, Valid MAE=49.4890]\n",
      "Epoch  3: 100%|██████████| 44/44 [00:02<00:00, 20.88it/s, Train Loss=6109.0008, Valid Loss=4895.8296, Valid R2=-0.0070, Valid MAE=52.5592]\n",
      "Epoch  4: 100%|██████████| 44/44 [00:02<00:00, 20.93it/s, Train Loss=5885.5756, Valid Loss=4910.9507, Valid R2=-0.0101, Valid MAE=53.1702]\n",
      "Epoch  5: 100%|██████████| 44/44 [00:02<00:00, 21.25it/s, Train Loss=5858.5124, Valid Loss=4895.5518, Valid R2=-0.0069, Valid MAE=53.3165]\n",
      "Epoch  6: 100%|██████████| 44/44 [00:02<00:00, 20.53it/s, Train Loss=5907.3266, Valid Loss=4833.5669, Valid R2=0.0058, Valid MAE=53.2530]\n",
      "Epoch  7: 100%|██████████| 44/44 [00:02<00:00, 20.07it/s, Train Loss=5621.9644, Valid Loss=4715.7632, Valid R2=0.0301, Valid MAE=53.3317]\n",
      "Epoch  8: 100%|██████████| 44/44 [00:02<00:00, 20.22it/s, Train Loss=5369.7507, Valid Loss=4486.9248, Valid R2=0.0771, Valid MAE=50.7854]\n",
      "Epoch  9: 100%|██████████| 44/44 [00:02<00:00, 20.04it/s, Train Loss=5372.7422, Valid Loss=4302.7358, Valid R2=0.1150, Valid MAE=48.6878]\n",
      "Epoch 10: 100%|██████████| 44/44 [00:02<00:00, 20.14it/s, Train Loss=5107.2308, Valid Loss=4338.2729, Valid R2=0.1077, Valid MAE=50.5766]\n",
      "Epoch 11: 100%|██████████| 44/44 [00:02<00:00, 20.20it/s, Train Loss=4576.7796, Valid Loss=4227.0791, Valid R2=0.1306, Valid MAE=51.2611]\n",
      "Epoch 12: 100%|██████████| 44/44 [00:02<00:00, 20.53it/s, Train Loss=4278.6090, Valid Loss=4421.7017, Valid R2=0.0906, Valid MAE=52.3080]\n",
      "Epoch 13: 100%|██████████| 44/44 [00:02<00:00, 20.08it/s, Train Loss=4331.6055, Valid Loss=4048.8411, Valid R2=0.1672, Valid MAE=47.0667]\n",
      "Epoch 14: 100%|██████████| 44/44 [00:02<00:00, 20.15it/s, Train Loss=4271.1609, Valid Loss=4014.7607, Valid R2=0.1743, Valid MAE=49.3162]\n",
      "Epoch 15: 100%|██████████| 44/44 [00:02<00:00, 20.25it/s, Train Loss=3981.1797, Valid Loss=4042.1973, Valid R2=0.1686, Valid MAE=47.0626]\n",
      "Epoch 16: 100%|██████████| 44/44 [00:02<00:00, 20.31it/s, Train Loss=3826.1885, Valid Loss=3914.0510, Valid R2=0.1950, Valid MAE=48.1172]\n",
      "Epoch 17: 100%|██████████| 44/44 [00:02<00:00, 20.15it/s, Train Loss=3633.1660, Valid Loss=3951.2180, Valid R2=0.1873, Valid MAE=49.3176]\n",
      "Epoch 18: 100%|██████████| 44/44 [00:02<00:00, 20.26it/s, Train Loss=3376.3916, Valid Loss=3679.8010, Valid R2=0.2432, Valid MAE=45.3244]\n",
      "Epoch 19: 100%|██████████| 44/44 [00:02<00:00, 20.51it/s, Train Loss=3135.4948, Valid Loss=3952.3406, Valid R2=0.1871, Valid MAE=46.8517]\n",
      "Epoch 20: 100%|██████████| 44/44 [00:02<00:00, 20.09it/s, Train Loss=3068.0844, Valid Loss=4048.9297, Valid R2=0.1672, Valid MAE=48.9143]\n",
      "Epoch 21: 100%|██████████| 44/44 [00:02<00:00, 20.11it/s, Train Loss=3162.7168, Valid Loss=4229.0669, Valid R2=0.1302, Valid MAE=49.0684]\n",
      "Epoch 22: 100%|██████████| 44/44 [00:02<00:00, 20.81it/s, Train Loss=3113.4850, Valid Loss=4245.8286, Valid R2=0.1267, Valid MAE=49.5634]\n",
      "Epoch 23: 100%|██████████| 44/44 [00:02<00:00, 20.57it/s, Train Loss=2885.9971, Valid Loss=4058.9932, Valid R2=0.1652, Valid MAE=47.9662]\n",
      "Epoch 24: 100%|██████████| 44/44 [00:02<00:00, 20.09it/s, Train Loss=2897.0013, Valid Loss=3921.7656, Valid R2=0.1934, Valid MAE=48.3193]\n"
     ]
    },
    {
     "name": "stdout",
     "output_type": "stream",
     "text": [
      "Early Stopped\n",
      "Setting  59 of Parameters Grid is now on progres.\n"
     ]
    },
    {
     "name": "stderr",
     "output_type": "stream",
     "text": [
      "Epoch  0: 100%|██████████| 44/44 [00:02<00:00, 20.19it/s, Train Loss=15133.4658, Valid Loss=11690.8984, Valid R2=-1.4045, Valid MAE=82.6368]\n",
      "Epoch  1: 100%|██████████| 44/44 [00:02<00:00, 20.43it/s, Train Loss=12249.3221, Valid Loss=7719.0801, Valid R2=-0.5876, Valid MAE=59.4581]\n",
      "Epoch  2: 100%|██████████| 44/44 [00:02<00:00, 20.54it/s, Train Loss=7892.6082, Valid Loss=5084.4043, Valid R2=-0.0457, Valid MAE=49.5678]\n",
      "Epoch  3: 100%|██████████| 44/44 [00:02<00:00, 20.41it/s, Train Loss=5991.5290, Valid Loss=4913.2104, Valid R2=-0.0105, Valid MAE=53.1538]\n",
      "Epoch  4: 100%|██████████| 44/44 [00:02<00:00, 19.51it/s, Train Loss=5891.7167, Valid Loss=4927.5054, Valid R2=-0.0135, Valid MAE=53.4716]\n",
      "Epoch  5: 100%|██████████| 44/44 [00:02<00:00, 19.79it/s, Train Loss=5909.4996, Valid Loss=4921.4854, Valid R2=-0.0122, Valid MAE=53.3435]\n",
      "Epoch  6: 100%|██████████| 44/44 [00:02<00:00, 19.99it/s, Train Loss=5827.5172, Valid Loss=4946.5093, Valid R2=-0.0174, Valid MAE=53.8351]\n",
      "Epoch  7: 100%|██████████| 44/44 [00:02<00:00, 21.22it/s, Train Loss=5856.0604, Valid Loss=4936.7637, Valid R2=-0.0154, Valid MAE=53.6387]\n",
      "Epoch  8: 100%|██████████| 44/44 [00:02<00:00, 21.18it/s, Train Loss=5793.8299, Valid Loss=4941.3149, Valid R2=-0.0163, Valid MAE=53.7311]\n",
      "Epoch  9: 100%|██████████| 44/44 [00:02<00:00, 21.25it/s, Train Loss=5822.1875, Valid Loss=4964.9673, Valid R2=-0.0212, Valid MAE=54.6697]\n"
     ]
    },
    {
     "name": "stdout",
     "output_type": "stream",
     "text": [
      "Early Stopped\n",
      "Setting  60 of Parameters Grid is now on progres.\n"
     ]
    },
    {
     "name": "stderr",
     "output_type": "stream",
     "text": [
      "Epoch  0: 100%|██████████| 44/44 [00:02<00:00, 21.44it/s, Train Loss=15015.0835, Valid Loss=11555.0117, Valid R2=-1.3766, Valid MAE=81.8171]\n",
      "Epoch  1: 100%|██████████| 44/44 [00:02<00:00, 20.41it/s, Train Loss=12843.3557, Valid Loss=9037.8350, Valid R2=-0.8589, Valid MAE=66.5423]\n",
      "Epoch  2: 100%|██████████| 44/44 [00:02<00:00, 21.81it/s, Train Loss=9264.5832, Valid Loss=5422.6987, Valid R2=-0.1153, Valid MAE=49.7001]\n",
      "Epoch  3: 100%|██████████| 44/44 [00:01<00:00, 22.53it/s, Train Loss=6122.5381, Valid Loss=4955.0776, Valid R2=-0.0191, Valid MAE=53.9959]\n",
      "Epoch  4: 100%|██████████| 44/44 [00:02<00:00, 21.71it/s, Train Loss=5814.8724, Valid Loss=4956.2144, Valid R2=-0.0194, Valid MAE=54.0093]\n",
      "Epoch  5: 100%|██████████| 44/44 [00:02<00:00, 21.19it/s, Train Loss=5873.4951, Valid Loss=4919.2261, Valid R2=-0.0118, Valid MAE=53.2507]\n",
      "Epoch  6: 100%|██████████| 44/44 [00:02<00:00, 20.72it/s, Train Loss=5852.7950, Valid Loss=4976.1431, Valid R2=-0.0235, Valid MAE=54.3719]\n",
      "Epoch  7: 100%|██████████| 44/44 [00:02<00:00, 20.96it/s, Train Loss=5835.5848, Valid Loss=4924.5688, Valid R2=-0.0129, Valid MAE=53.3861]\n",
      "Epoch  8: 100%|██████████| 44/44 [00:02<00:00, 21.70it/s, Train Loss=5889.3657, Valid Loss=4996.3306, Valid R2=-0.0276, Valid MAE=54.7176]\n",
      "Epoch  9: 100%|██████████| 44/44 [00:02<00:00, 21.36it/s, Train Loss=5751.4455, Valid Loss=4882.4536, Valid R2=-0.0042, Valid MAE=52.9778]\n",
      "Epoch 10: 100%|██████████| 44/44 [00:02<00:00, 21.07it/s, Train Loss=5587.7364, Valid Loss=4844.3096, Valid R2=0.0036, Valid MAE=53.4002]\n",
      "Epoch 11: 100%|██████████| 44/44 [00:02<00:00, 21.03it/s, Train Loss=5448.3940, Valid Loss=4700.6016, Valid R2=0.0332, Valid MAE=52.4287]\n",
      "Epoch 12: 100%|██████████| 44/44 [00:02<00:00, 20.66it/s, Train Loss=5356.6606, Valid Loss=4272.4341, Valid R2=0.1213, Valid MAE=49.7462]\n",
      "Epoch 13: 100%|██████████| 44/44 [00:02<00:00, 20.83it/s, Train Loss=5153.0512, Valid Loss=4402.1738, Valid R2=0.0946, Valid MAE=50.1526]\n",
      "Epoch 14: 100%|██████████| 44/44 [00:02<00:00, 20.85it/s, Train Loss=5059.4704, Valid Loss=4196.2109, Valid R2=0.1369, Valid MAE=49.9585]\n",
      "Epoch 15: 100%|██████████| 44/44 [00:02<00:00, 20.84it/s, Train Loss=4646.0025, Valid Loss=4142.6357, Valid R2=0.1480, Valid MAE=50.0311]\n",
      "Epoch 16: 100%|██████████| 44/44 [00:02<00:00, 20.87it/s, Train Loss=4542.8875, Valid Loss=4189.5962, Valid R2=0.1383, Valid MAE=49.6627]\n",
      "Epoch 17: 100%|██████████| 44/44 [00:02<00:00, 20.89it/s, Train Loss=4206.6358, Valid Loss=4269.1230, Valid R2=0.1219, Valid MAE=49.2855]\n",
      "Epoch 18: 100%|██████████| 44/44 [00:02<00:00, 21.05it/s, Train Loss=4163.2582, Valid Loss=4128.9795, Valid R2=0.1508, Valid MAE=48.7660]\n",
      "Epoch 19: 100%|██████████| 44/44 [00:02<00:00, 20.89it/s, Train Loss=3998.5131, Valid Loss=3829.6458, Valid R2=0.2123, Valid MAE=45.1456]\n",
      "Epoch 20: 100%|██████████| 44/44 [00:02<00:00, 21.02it/s, Train Loss=4712.2109, Valid Loss=3772.3430, Valid R2=0.2241, Valid MAE=43.9072]\n",
      "Epoch 21: 100%|██████████| 44/44 [00:02<00:00, 20.26it/s, Train Loss=4009.5865, Valid Loss=3827.0498, Valid R2=0.2129, Valid MAE=44.5018]\n",
      "Epoch 22: 100%|██████████| 44/44 [00:02<00:00, 21.31it/s, Train Loss=3985.9154, Valid Loss=3677.4019, Valid R2=0.2436, Valid MAE=46.6553]\n",
      "Epoch 23: 100%|██████████| 44/44 [00:02<00:00, 20.65it/s, Train Loss=3649.2526, Valid Loss=3725.6528, Valid R2=0.2337, Valid MAE=46.8321]\n",
      "Epoch 24: 100%|██████████| 44/44 [00:02<00:00, 21.18it/s, Train Loss=3500.8131, Valid Loss=3588.2268, Valid R2=0.2620, Valid MAE=43.8850]\n",
      "Epoch 25: 100%|██████████| 44/44 [00:02<00:00, 20.91it/s, Train Loss=3314.8477, Valid Loss=3897.3594, Valid R2=0.1984, Valid MAE=48.7765]\n",
      "Epoch 26: 100%|██████████| 44/44 [00:02<00:00, 21.00it/s, Train Loss=3304.3008, Valid Loss=3544.6960, Valid R2=0.2709, Valid MAE=45.6585]\n",
      "Epoch 27: 100%|██████████| 44/44 [00:02<00:00, 20.71it/s, Train Loss=3118.3023, Valid Loss=3231.5918, Valid R2=0.3353, Valid MAE=42.7013]\n",
      "Epoch 28: 100%|██████████| 44/44 [00:02<00:00, 20.79it/s, Train Loss=3022.3833, Valid Loss=3123.9507, Valid R2=0.3575, Valid MAE=41.2743]\n",
      "Epoch 29: 100%|██████████| 44/44 [00:02<00:00, 21.16it/s, Train Loss=3044.4798, Valid Loss=3195.3811, Valid R2=0.3428, Valid MAE=42.9791]\n",
      "Epoch 30: 100%|██████████| 44/44 [00:02<00:00, 21.03it/s, Train Loss=2983.3682, Valid Loss=3126.2942, Valid R2=0.3570, Valid MAE=42.3017]\n",
      "Epoch 31: 100%|██████████| 44/44 [00:02<00:00, 21.20it/s, Train Loss=2829.5821, Valid Loss=3045.1919, Valid R2=0.3737, Valid MAE=41.7026]\n",
      "Epoch 32: 100%|██████████| 44/44 [00:02<00:00, 20.70it/s, Train Loss=2753.6602, Valid Loss=3475.7864, Valid R2=0.2851, Valid MAE=43.4585]\n",
      "Epoch 33: 100%|██████████| 44/44 [00:02<00:00, 21.14it/s, Train Loss=2693.8078, Valid Loss=2928.1094, Valid R2=0.3978, Valid MAE=41.7217]\n",
      "Epoch 34: 100%|██████████| 44/44 [00:02<00:00, 20.28it/s, Train Loss=2592.2783, Valid Loss=2838.0964, Valid R2=0.4163, Valid MAE=39.8054]\n",
      "Epoch 35: 100%|██████████| 44/44 [00:02<00:00, 20.80it/s, Train Loss=2386.5619, Valid Loss=2830.3955, Valid R2=0.4179, Valid MAE=40.6742]\n",
      "Epoch 36: 100%|██████████| 44/44 [00:02<00:00, 20.86it/s, Train Loss=2278.2298, Valid Loss=3141.1267, Valid R2=0.3539, Valid MAE=40.7519]\n",
      "Epoch 37: 100%|██████████| 44/44 [00:02<00:00, 20.94it/s, Train Loss=2697.6993, Valid Loss=3384.7017, Valid R2=0.3038, Valid MAE=44.7622]\n",
      "Epoch 38: 100%|██████████| 44/44 [00:02<00:00, 20.91it/s, Train Loss=2314.4081, Valid Loss=3154.9426, Valid R2=0.3511, Valid MAE=44.2825]\n",
      "Epoch 39: 100%|██████████| 44/44 [00:02<00:00, 20.45it/s, Train Loss=2343.4111, Valid Loss=2981.0249, Valid R2=0.3869, Valid MAE=42.2249]\n",
      "Epoch 40: 100%|██████████| 44/44 [00:02<00:00, 20.74it/s, Train Loss=2240.1220, Valid Loss=2779.1421, Valid R2=0.4284, Valid MAE=39.5177]\n",
      "Epoch 41: 100%|██████████| 44/44 [00:02<00:00, 20.17it/s, Train Loss=2153.4176, Valid Loss=3053.7046, Valid R2=0.3719, Valid MAE=41.2629]\n",
      "Epoch 42: 100%|██████████| 44/44 [00:02<00:00, 20.28it/s, Train Loss=2220.8437, Valid Loss=3119.4849, Valid R2=0.3584, Valid MAE=41.9687]\n",
      "Epoch 43: 100%|██████████| 44/44 [00:02<00:00, 20.61it/s, Train Loss=2164.9661, Valid Loss=3081.0859, Valid R2=0.3663, Valid MAE=40.7133]\n",
      "Epoch 44: 100%|██████████| 44/44 [00:02<00:00, 20.43it/s, Train Loss=2356.7592, Valid Loss=3113.1926, Valid R2=0.3597, Valid MAE=41.9729]\n",
      "Epoch 45: 100%|██████████| 44/44 [00:02<00:00, 20.22it/s, Train Loss=2017.1702, Valid Loss=3373.5398, Valid R2=0.3061, Valid MAE=45.3951]\n",
      "Epoch 46: 100%|██████████| 44/44 [00:02<00:00, 20.19it/s, Train Loss=1882.3441, Valid Loss=2903.7144, Valid R2=0.4028, Valid MAE=40.2525]\n"
     ]
    },
    {
     "name": "stdout",
     "output_type": "stream",
     "text": [
      "Early Stopped\n",
      "Setting  61 of Parameters Grid is now on progres.\n"
     ]
    },
    {
     "name": "stderr",
     "output_type": "stream",
     "text": [
      "Epoch  0: 100%|██████████| 44/44 [00:02<00:00, 20.44it/s, Train Loss=14924.5902, Valid Loss=11189.1738, Valid R2=-1.3014, Valid MAE=79.5874]\n",
      "Epoch  1: 100%|██████████| 44/44 [00:02<00:00, 20.05it/s, Train Loss=11891.4318, Valid Loss=7655.7090, Valid R2=-0.5746, Valid MAE=59.1836]\n",
      "Epoch  2: 100%|██████████| 44/44 [00:02<00:00, 20.12it/s, Train Loss=7263.2020, Valid Loss=4923.8579, Valid R2=-0.0127, Valid MAE=53.7516]\n",
      "Epoch  3: 100%|██████████| 44/44 [00:02<00:00, 20.98it/s, Train Loss=5827.6540, Valid Loss=4912.5669, Valid R2=-0.0104, Valid MAE=53.0449]\n",
      "Epoch  4: 100%|██████████| 44/44 [00:02<00:00, 20.64it/s, Train Loss=5796.2477, Valid Loss=4912.2212, Valid R2=-0.0103, Valid MAE=52.9918]\n",
      "Epoch  5: 100%|██████████| 44/44 [00:02<00:00, 20.47it/s, Train Loss=5708.4494, Valid Loss=5023.1162, Valid R2=-0.0331, Valid MAE=54.7393]\n",
      "Epoch  6: 100%|██████████| 44/44 [00:02<00:00, 20.67it/s, Train Loss=5634.9111, Valid Loss=4964.2100, Valid R2=-0.0210, Valid MAE=53.8062]\n",
      "Epoch  7: 100%|██████████| 44/44 [00:02<00:00, 21.06it/s, Train Loss=5550.1618, Valid Loss=4882.5840, Valid R2=-0.0042, Valid MAE=52.4274]\n",
      "Epoch  8: 100%|██████████| 44/44 [00:02<00:00, 20.76it/s, Train Loss=5434.7809, Valid Loss=4903.5229, Valid R2=-0.0085, Valid MAE=53.9143]\n",
      "Epoch  9: 100%|██████████| 44/44 [00:02<00:00, 21.24it/s, Train Loss=5387.6556, Valid Loss=4870.5459, Valid R2=-0.0018, Valid MAE=54.1942]\n",
      "Epoch 10: 100%|██████████| 44/44 [00:02<00:00, 20.96it/s, Train Loss=5036.2912, Valid Loss=4753.7061, Valid R2=0.0223, Valid MAE=53.6753]\n",
      "Epoch 11: 100%|██████████| 44/44 [00:02<00:00, 20.65it/s, Train Loss=4822.2413, Valid Loss=4834.8232, Valid R2=0.0056, Valid MAE=54.9875]\n",
      "Epoch 12: 100%|██████████| 44/44 [00:02<00:00, 21.24it/s, Train Loss=4633.9103, Valid Loss=4602.6958, Valid R2=0.0533, Valid MAE=53.0637]\n",
      "Epoch 13: 100%|██████████| 44/44 [00:01<00:00, 22.08it/s, Train Loss=4451.2388, Valid Loss=4209.3018, Valid R2=0.1342, Valid MAE=49.9270]\n",
      "Epoch 14: 100%|██████████| 44/44 [00:01<00:00, 22.67it/s, Train Loss=4213.9445, Valid Loss=4152.7188, Valid R2=0.1459, Valid MAE=48.2650]\n",
      "Epoch 15: 100%|██████████| 44/44 [00:02<00:00, 20.61it/s, Train Loss=3768.2700, Valid Loss=4208.0610, Valid R2=0.1345, Valid MAE=51.2827]\n",
      "Epoch 16: 100%|██████████| 44/44 [00:02<00:00, 20.66it/s, Train Loss=3869.4031, Valid Loss=4649.3281, Valid R2=0.0437, Valid MAE=54.7429]\n",
      "Epoch 17: 100%|██████████| 44/44 [00:02<00:00, 20.49it/s, Train Loss=3657.3456, Valid Loss=4567.2729, Valid R2=0.0606, Valid MAE=52.0430]\n",
      "Epoch 18: 100%|██████████| 44/44 [00:02<00:00, 20.98it/s, Train Loss=3552.0658, Valid Loss=4573.2285, Valid R2=0.0594, Valid MAE=53.1170]\n",
      "Epoch 19: 100%|██████████| 44/44 [00:02<00:00, 20.87it/s, Train Loss=3293.9003, Valid Loss=4639.8857, Valid R2=0.0457, Valid MAE=54.1316]\n",
      "Epoch 20: 100%|██████████| 44/44 [00:02<00:00, 20.65it/s, Train Loss=3181.0113, Valid Loss=4785.4136, Valid R2=0.0158, Valid MAE=53.4541]\n"
     ]
    },
    {
     "name": "stdout",
     "output_type": "stream",
     "text": [
      "Early Stopped\n",
      "Setting  62 of Parameters Grid is now on progres.\n"
     ]
    },
    {
     "name": "stderr",
     "output_type": "stream",
     "text": [
      "Epoch  0: 100%|██████████| 44/44 [00:02<00:00, 20.96it/s, Train Loss=15045.1410, Valid Loss=11487.2236, Valid R2=-1.3627, Valid MAE=81.4054]\n",
      "Epoch  1: 100%|██████████| 44/44 [00:02<00:00, 21.03it/s, Train Loss=12317.3728, Valid Loss=8352.8203, Valid R2=-0.7180, Valid MAE=62.7394]\n",
      "Epoch  2: 100%|██████████| 44/44 [00:02<00:00, 20.77it/s, Train Loss=8853.1396, Valid Loss=5651.1392, Valid R2=-0.1623, Valid MAE=50.3333]\n",
      "Epoch  3: 100%|██████████| 44/44 [00:02<00:00, 20.83it/s, Train Loss=6318.0248, Valid Loss=4949.9185, Valid R2=-0.0181, Valid MAE=53.9778]\n",
      "Epoch  4: 100%|██████████| 44/44 [00:02<00:00, 20.77it/s, Train Loss=5906.8290, Valid Loss=4966.7163, Valid R2=-0.0215, Valid MAE=54.6532]\n",
      "Epoch  5: 100%|██████████| 44/44 [00:02<00:00, 20.97it/s, Train Loss=5771.6278, Valid Loss=4781.0557, Valid R2=0.0166, Valid MAE=51.6364]\n",
      "Epoch  6: 100%|██████████| 44/44 [00:02<00:00, 20.73it/s, Train Loss=5781.5330, Valid Loss=4789.5283, Valid R2=0.0149, Valid MAE=51.7861]\n",
      "Epoch  7: 100%|██████████| 44/44 [00:02<00:00, 21.70it/s, Train Loss=5602.7878, Valid Loss=4765.5850, Valid R2=0.0198, Valid MAE=52.3804]\n",
      "Epoch  8: 100%|██████████| 44/44 [00:02<00:00, 21.17it/s, Train Loss=5341.8078, Valid Loss=4515.1431, Valid R2=0.0713, Valid MAE=50.3200]\n",
      "Epoch  9: 100%|██████████| 44/44 [00:02<00:00, 21.01it/s, Train Loss=5204.2690, Valid Loss=4366.6069, Valid R2=0.1019, Valid MAE=50.2250]\n",
      "Epoch 10: 100%|██████████| 44/44 [00:02<00:00, 20.90it/s, Train Loss=5153.0969, Valid Loss=4139.4722, Valid R2=0.1486, Valid MAE=49.5506]\n",
      "Epoch 11: 100%|██████████| 44/44 [00:02<00:00, 20.69it/s, Train Loss=4935.3850, Valid Loss=4489.1709, Valid R2=0.0767, Valid MAE=54.1522]\n",
      "Epoch 12: 100%|██████████| 44/44 [00:02<00:00, 20.97it/s, Train Loss=4760.5430, Valid Loss=4350.8535, Valid R2=0.1051, Valid MAE=48.9683]\n",
      "Epoch 13: 100%|██████████| 44/44 [00:02<00:00, 21.86it/s, Train Loss=4603.0525, Valid Loss=4076.6414, Valid R2=0.1615, Valid MAE=48.5893]\n",
      "Epoch 14: 100%|██████████| 44/44 [00:02<00:00, 21.96it/s, Train Loss=4454.5572, Valid Loss=4019.3369, Valid R2=0.1733, Valid MAE=49.5383]\n",
      "Epoch 15: 100%|██████████| 44/44 [00:02<00:00, 20.87it/s, Train Loss=3917.5309, Valid Loss=4403.2515, Valid R2=0.0944, Valid MAE=53.3310]\n",
      "Epoch 16: 100%|██████████| 44/44 [00:02<00:00, 21.01it/s, Train Loss=3854.1117, Valid Loss=3682.0393, Valid R2=0.2427, Valid MAE=46.3865]\n",
      "Epoch 17: 100%|██████████| 44/44 [00:02<00:00, 21.08it/s, Train Loss=3503.0188, Valid Loss=3972.9216, Valid R2=0.1829, Valid MAE=49.5540]\n",
      "Epoch 18: 100%|██████████| 44/44 [00:02<00:00, 21.09it/s, Train Loss=3456.2024, Valid Loss=3416.1895, Valid R2=0.2974, Valid MAE=43.9222]\n",
      "Epoch 19: 100%|██████████| 44/44 [00:02<00:00, 20.88it/s, Train Loss=3573.4790, Valid Loss=3522.0588, Valid R2=0.2756, Valid MAE=47.0852]\n",
      "Epoch 20: 100%|██████████| 44/44 [00:02<00:00, 20.42it/s, Train Loss=3351.9799, Valid Loss=3885.5449, Valid R2=0.2008, Valid MAE=48.7389]\n",
      "Epoch 21: 100%|██████████| 44/44 [00:02<00:00, 20.38it/s, Train Loss=3000.5347, Valid Loss=3229.7798, Valid R2=0.3357, Valid MAE=43.9212]\n",
      "Epoch 22: 100%|██████████| 44/44 [00:02<00:00, 20.86it/s, Train Loss=3092.4083, Valid Loss=3893.0442, Valid R2=0.1993, Valid MAE=49.9430]\n",
      "Epoch 23: 100%|██████████| 44/44 [00:02<00:00, 20.69it/s, Train Loss=2817.4969, Valid Loss=4063.2153, Valid R2=0.1643, Valid MAE=50.7745]\n",
      "Epoch 24: 100%|██████████| 44/44 [00:02<00:00, 19.97it/s, Train Loss=2732.2828, Valid Loss=3380.5083, Valid R2=0.3047, Valid MAE=45.2755]\n",
      "Epoch 25: 100%|██████████| 44/44 [00:02<00:00, 20.02it/s, Train Loss=2560.6044, Valid Loss=3942.2280, Valid R2=0.1892, Valid MAE=48.4798]\n",
      "Epoch 26: 100%|██████████| 44/44 [00:02<00:00, 20.04it/s, Train Loss=2477.3826, Valid Loss=3146.1570, Valid R2=0.3529, Valid MAE=42.7813]\n",
      "Epoch 27: 100%|██████████| 44/44 [00:02<00:00, 21.07it/s, Train Loss=2436.7800, Valid Loss=3553.9053, Valid R2=0.2690, Valid MAE=46.1003]\n",
      "Epoch 28: 100%|██████████| 44/44 [00:02<00:00, 20.95it/s, Train Loss=2177.0683, Valid Loss=3454.4988, Valid R2=0.2895, Valid MAE=45.4477]\n",
      "Epoch 29: 100%|██████████| 44/44 [00:02<00:00, 20.58it/s, Train Loss=2285.2052, Valid Loss=3086.5444, Valid R2=0.3652, Valid MAE=42.3147]\n",
      "Epoch 30: 100%|██████████| 44/44 [00:02<00:00, 20.80it/s, Train Loss=2095.6084, Valid Loss=3036.1096, Valid R2=0.3755, Valid MAE=41.8232]\n",
      "Epoch 31: 100%|██████████| 44/44 [00:02<00:00, 20.58it/s, Train Loss=2024.4071, Valid Loss=3281.3701, Valid R2=0.3251, Valid MAE=44.6791]\n",
      "Epoch 32: 100%|██████████| 44/44 [00:02<00:00, 20.01it/s, Train Loss=1964.6367, Valid Loss=3657.1790, Valid R2=0.2478, Valid MAE=46.8292]\n",
      "Epoch 33: 100%|██████████| 44/44 [00:02<00:00, 20.08it/s, Train Loss=1902.2081, Valid Loss=3264.3967, Valid R2=0.3286, Valid MAE=43.1956]\n",
      "Epoch 34: 100%|██████████| 44/44 [00:02<00:00, 20.15it/s, Train Loss=1819.5219, Valid Loss=3538.5686, Valid R2=0.2722, Valid MAE=45.4493]\n",
      "Epoch 35: 100%|██████████| 44/44 [00:02<00:00, 20.93it/s, Train Loss=1968.0432, Valid Loss=3947.2288, Valid R2=0.1881, Valid MAE=47.5215]\n",
      "Epoch 36: 100%|██████████| 44/44 [00:02<00:00, 20.66it/s, Train Loss=1748.5992, Valid Loss=3963.8738, Valid R2=0.1847, Valid MAE=48.0183]\n"
     ]
    },
    {
     "name": "stdout",
     "output_type": "stream",
     "text": [
      "Early Stopped\n",
      "Setting  63 of Parameters Grid is now on progres.\n"
     ]
    },
    {
     "name": "stderr",
     "output_type": "stream",
     "text": [
      "Epoch  0: 100%|██████████| 44/44 [00:02<00:00, 20.77it/s, Train Loss=15070.7502, Valid Loss=11500.9551, Valid R2=-1.3655, Valid MAE=81.4932]\n",
      "Epoch  1: 100%|██████████| 44/44 [00:02<00:00, 20.82it/s, Train Loss=11717.7908, Valid Loss=6879.0386, Valid R2=-0.4149, Valid MAE=55.3268]\n",
      "Epoch  2: 100%|██████████| 44/44 [00:02<00:00, 21.07it/s, Train Loss=6912.6324, Valid Loss=4881.4990, Valid R2=-0.0040, Valid MAE=52.2345]\n",
      "Epoch  3: 100%|██████████| 44/44 [00:02<00:00, 20.81it/s, Train Loss=5820.9381, Valid Loss=4959.9458, Valid R2=-0.0201, Valid MAE=54.0771]\n",
      "Epoch  4: 100%|██████████| 44/44 [00:02<00:00, 20.53it/s, Train Loss=5839.6928, Valid Loss=4921.1938, Valid R2=-0.0122, Valid MAE=53.3792]\n",
      "Epoch  5: 100%|██████████| 44/44 [00:02<00:00, 20.33it/s, Train Loss=5847.4256, Valid Loss=4846.5283, Valid R2=0.0032, Valid MAE=52.6388]\n",
      "Epoch  6: 100%|██████████| 44/44 [00:02<00:00, 20.00it/s, Train Loss=5840.1858, Valid Loss=4731.9536, Valid R2=0.0267, Valid MAE=51.4799]\n",
      "Epoch  7: 100%|██████████| 44/44 [00:02<00:00, 21.05it/s, Train Loss=5740.3428, Valid Loss=4677.6191, Valid R2=0.0379, Valid MAE=51.3523]\n",
      "Epoch  8: 100%|██████████| 44/44 [00:02<00:00, 20.87it/s, Train Loss=5594.4407, Valid Loss=4782.1313, Valid R2=0.0164, Valid MAE=54.3691]\n",
      "Epoch  9: 100%|██████████| 44/44 [00:02<00:00, 21.59it/s, Train Loss=5464.8151, Valid Loss=4738.1597, Valid R2=0.0255, Valid MAE=53.2422]\n",
      "Epoch 10: 100%|██████████| 44/44 [00:01<00:00, 22.21it/s, Train Loss=5349.9656, Valid Loss=4444.5493, Valid R2=0.0859, Valid MAE=51.1829]\n",
      "Epoch 11: 100%|██████████| 44/44 [00:02<00:00, 21.11it/s, Train Loss=5136.7213, Valid Loss=4371.6978, Valid R2=0.1008, Valid MAE=50.5547]\n",
      "Epoch 12: 100%|██████████| 44/44 [00:02<00:00, 21.06it/s, Train Loss=5050.3890, Valid Loss=4239.1055, Valid R2=0.1281, Valid MAE=47.8273]\n",
      "Epoch 13: 100%|██████████| 44/44 [00:01<00:00, 22.10it/s, Train Loss=4836.4097, Valid Loss=4337.4731, Valid R2=0.1079, Valid MAE=50.0685]\n",
      "Epoch 14: 100%|██████████| 44/44 [00:02<00:00, 21.15it/s, Train Loss=4737.6718, Valid Loss=4304.3438, Valid R2=0.1147, Valid MAE=50.5637]\n",
      "Epoch 15: 100%|██████████| 44/44 [00:01<00:00, 22.71it/s, Train Loss=4630.4285, Valid Loss=4280.2563, Valid R2=0.1197, Valid MAE=50.4380]\n",
      "Epoch 16: 100%|██████████| 44/44 [00:01<00:00, 22.81it/s, Train Loss=4424.3440, Valid Loss=4035.2288, Valid R2=0.1700, Valid MAE=48.0289]\n",
      "Epoch 17: 100%|██████████| 44/44 [00:02<00:00, 21.57it/s, Train Loss=4154.3372, Valid Loss=4011.5266, Valid R2=0.1749, Valid MAE=48.3062]\n",
      "Epoch 18: 100%|██████████| 44/44 [00:02<00:00, 20.68it/s, Train Loss=4281.8252, Valid Loss=3783.0886, Valid R2=0.2219, Valid MAE=45.7387]\n",
      "Epoch 19: 100%|██████████| 44/44 [00:02<00:00, 21.11it/s, Train Loss=3983.5247, Valid Loss=3520.8269, Valid R2=0.2758, Valid MAE=45.1571]\n",
      "Epoch 20: 100%|██████████| 44/44 [00:02<00:00, 21.34it/s, Train Loss=3996.6129, Valid Loss=3863.8992, Valid R2=0.2053, Valid MAE=48.4783]\n",
      "Epoch 21: 100%|██████████| 44/44 [00:02<00:00, 21.07it/s, Train Loss=3844.5569, Valid Loss=3734.9194, Valid R2=0.2318, Valid MAE=46.2293]\n",
      "Epoch 22: 100%|██████████| 44/44 [00:02<00:00, 21.10it/s, Train Loss=3593.6154, Valid Loss=3621.9358, Valid R2=0.2551, Valid MAE=46.1963]\n",
      "Epoch 23: 100%|██████████| 44/44 [00:02<00:00, 21.28it/s, Train Loss=3708.0712, Valid Loss=3411.0669, Valid R2=0.2984, Valid MAE=44.1865]\n",
      "Epoch 24: 100%|██████████| 44/44 [00:02<00:00, 21.28it/s, Train Loss=3290.4371, Valid Loss=3668.6965, Valid R2=0.2454, Valid MAE=48.4525]\n",
      "Epoch 25: 100%|██████████| 44/44 [00:01<00:00, 22.76it/s, Train Loss=3240.7938, Valid Loss=3490.9331, Valid R2=0.2820, Valid MAE=45.4475]\n",
      "Epoch 26: 100%|██████████| 44/44 [00:02<00:00, 21.17it/s, Train Loss=3221.7731, Valid Loss=3691.4089, Valid R2=0.2408, Valid MAE=46.2801]\n",
      "Epoch 27: 100%|██████████| 44/44 [00:02<00:00, 20.97it/s, Train Loss=3009.2576, Valid Loss=3696.8418, Valid R2=0.2396, Valid MAE=47.5076]\n",
      "Epoch 28: 100%|██████████| 44/44 [00:01<00:00, 22.72it/s, Train Loss=2854.5091, Valid Loss=3983.1797, Valid R2=0.1808, Valid MAE=49.6071]\n",
      "Epoch 29: 100%|██████████| 44/44 [00:02<00:00, 21.10it/s, Train Loss=2890.1294, Valid Loss=3401.9668, Valid R2=0.3003, Valid MAE=44.6242]\n",
      "Epoch 30: 100%|██████████| 44/44 [00:01<00:00, 22.20it/s, Train Loss=2722.0913, Valid Loss=3496.5796, Valid R2=0.2808, Valid MAE=45.6985]\n",
      "Epoch 31: 100%|██████████| 44/44 [00:02<00:00, 20.67it/s, Train Loss=2730.7792, Valid Loss=3204.9490, Valid R2=0.3408, Valid MAE=43.3926]\n",
      "Epoch 32: 100%|██████████| 44/44 [00:02<00:00, 21.08it/s, Train Loss=2496.4523, Valid Loss=3667.9109, Valid R2=0.2456, Valid MAE=47.0999]\n",
      "Epoch 33: 100%|██████████| 44/44 [00:02<00:00, 21.26it/s, Train Loss=2434.9898, Valid Loss=3785.5857, Valid R2=0.2214, Valid MAE=47.1831]\n",
      "Epoch 34: 100%|██████████| 44/44 [00:02<00:00, 20.91it/s, Train Loss=2392.8596, Valid Loss=3527.3901, Valid R2=0.2745, Valid MAE=44.7841]\n",
      "Epoch 35: 100%|██████████| 44/44 [00:02<00:00, 21.09it/s, Train Loss=2451.9502, Valid Loss=3921.7258, Valid R2=0.1934, Valid MAE=48.6484]\n",
      "Epoch 36: 100%|██████████| 44/44 [00:02<00:00, 21.12it/s, Train Loss=2194.3044, Valid Loss=3335.7754, Valid R2=0.3139, Valid MAE=43.3492]\n",
      "Epoch 37: 100%|██████████| 44/44 [00:02<00:00, 19.40it/s, Train Loss=1990.4838, Valid Loss=3218.9299, Valid R2=0.3379, Valid MAE=41.7063]\n"
     ]
    },
    {
     "name": "stdout",
     "output_type": "stream",
     "text": [
      "Early Stopped\n",
      "Setting  64 of Parameters Grid is now on progres.\n"
     ]
    },
    {
     "name": "stderr",
     "output_type": "stream",
     "text": [
      "Epoch  0: 100%|██████████| 44/44 [00:02<00:00, 20.16it/s, Train Loss=15092.8863, Valid Loss=11540.2676, Valid R2=-1.3736, Valid MAE=81.7250]\n",
      "Epoch  1: 100%|██████████| 44/44 [00:02<00:00, 19.84it/s, Train Loss=11920.8856, Valid Loss=7184.4937, Valid R2=-0.4777, Valid MAE=56.8566]\n",
      "Epoch  2: 100%|██████████| 44/44 [00:02<00:00, 20.22it/s, Train Loss=6857.5453, Valid Loss=4954.8984, Valid R2=-0.0191, Valid MAE=54.0475]\n",
      "Epoch  3: 100%|██████████| 44/44 [00:02<00:00, 18.73it/s, Train Loss=5854.0332, Valid Loss=4882.1406, Valid R2=-0.0041, Valid MAE=52.5772]\n",
      "Epoch  4: 100%|██████████| 44/44 [00:02<00:00, 20.11it/s, Train Loss=5815.7087, Valid Loss=4919.4277, Valid R2=-0.0118, Valid MAE=53.4239]\n",
      "Epoch  5: 100%|██████████| 44/44 [00:02<00:00, 19.33it/s, Train Loss=5885.0979, Valid Loss=4896.9922, Valid R2=-0.0072, Valid MAE=52.9389]\n",
      "Epoch  6: 100%|██████████| 44/44 [00:02<00:00, 19.35it/s, Train Loss=5830.3710, Valid Loss=4956.5215, Valid R2=-0.0194, Valid MAE=54.1895]\n",
      "Epoch  7: 100%|██████████| 44/44 [00:01<00:00, 22.10it/s, Train Loss=5761.3137, Valid Loss=4907.6831, Valid R2=-0.0094, Valid MAE=53.2871]\n",
      "Epoch  8: 100%|██████████| 44/44 [00:02<00:00, 20.97it/s, Train Loss=5799.3802, Valid Loss=4875.5620, Valid R2=-0.0028, Valid MAE=52.7423]\n",
      "Epoch  9: 100%|██████████| 44/44 [00:02<00:00, 20.24it/s, Train Loss=5758.6188, Valid Loss=4907.7280, Valid R2=-0.0094, Valid MAE=53.6569]\n",
      "Epoch 10: 100%|██████████| 44/44 [00:02<00:00, 20.47it/s, Train Loss=5763.9610, Valid Loss=4910.6943, Valid R2=-0.0100, Valid MAE=53.6312]\n",
      "Epoch 11: 100%|██████████| 44/44 [00:02<00:00, 20.26it/s, Train Loss=5821.4126, Valid Loss=4870.7207, Valid R2=-0.0018, Valid MAE=52.9756]\n",
      "Epoch 12: 100%|██████████| 44/44 [00:02<00:00, 19.40it/s, Train Loss=5727.8491, Valid Loss=4767.9360, Valid R2=0.0193, Valid MAE=51.6218]\n",
      "Epoch 13: 100%|██████████| 44/44 [00:02<00:00, 19.50it/s, Train Loss=5694.4940, Valid Loss=4752.7461, Valid R2=0.0225, Valid MAE=51.6656]\n",
      "Epoch 14: 100%|██████████| 44/44 [00:02<00:00, 19.07it/s, Train Loss=5568.9641, Valid Loss=4760.3638, Valid R2=0.0209, Valid MAE=51.9174]\n",
      "Epoch 15: 100%|██████████| 44/44 [00:02<00:00, 18.92it/s, Train Loss=5656.5093, Valid Loss=4806.4883, Valid R2=0.0114, Valid MAE=53.5939]\n",
      "Epoch 16: 100%|██████████| 44/44 [00:02<00:00, 19.17it/s, Train Loss=5331.7893, Valid Loss=4531.3716, Valid R2=0.0680, Valid MAE=51.4924]\n",
      "Epoch 17: 100%|██████████| 44/44 [00:02<00:00, 19.55it/s, Train Loss=5390.7102, Valid Loss=4550.1050, Valid R2=0.0642, Valid MAE=51.9958]\n",
      "Epoch 18: 100%|██████████| 44/44 [00:02<00:00, 20.67it/s, Train Loss=5142.9934, Valid Loss=4346.7393, Valid R2=0.1060, Valid MAE=50.2371]\n",
      "Epoch 19: 100%|██████████| 44/44 [00:02<00:00, 21.02it/s, Train Loss=5126.2464, Valid Loss=4391.5151, Valid R2=0.0968, Valid MAE=50.6958]\n",
      "Epoch 20: 100%|██████████| 44/44 [00:02<00:00, 21.19it/s, Train Loss=4945.2308, Valid Loss=4438.5137, Valid R2=0.0871, Valid MAE=51.2042]\n",
      "Epoch 21: 100%|██████████| 44/44 [00:01<00:00, 22.28it/s, Train Loss=4826.9377, Valid Loss=4303.2871, Valid R2=0.1149, Valid MAE=51.4064]\n",
      "Epoch 22: 100%|██████████| 44/44 [00:02<00:00, 20.92it/s, Train Loss=4747.0312, Valid Loss=4237.6392, Valid R2=0.1284, Valid MAE=48.8261]\n",
      "Epoch 23: 100%|██████████| 44/44 [00:02<00:00, 20.41it/s, Train Loss=4620.2454, Valid Loss=4218.4688, Valid R2=0.1324, Valid MAE=47.9549]\n",
      "Epoch 24: 100%|██████████| 44/44 [00:02<00:00, 20.74it/s, Train Loss=4759.9927, Valid Loss=4143.9219, Valid R2=0.1477, Valid MAE=49.2998]\n",
      "Epoch 25: 100%|██████████| 44/44 [00:02<00:00, 20.92it/s, Train Loss=4721.4606, Valid Loss=4141.4663, Valid R2=0.1482, Valid MAE=49.8730]\n",
      "Epoch 26: 100%|██████████| 44/44 [00:02<00:00, 20.55it/s, Train Loss=4710.4315, Valid Loss=4556.7427, Valid R2=0.0628, Valid MAE=51.7813]\n",
      "Epoch 27: 100%|██████████| 44/44 [00:02<00:00, 20.97it/s, Train Loss=4440.5817, Valid Loss=3851.1609, Valid R2=0.2079, Valid MAE=48.5935]\n",
      "Epoch 28: 100%|██████████| 44/44 [00:02<00:00, 20.75it/s, Train Loss=4128.2665, Valid Loss=5449.6064, Valid R2=-0.1209, Valid MAE=59.9666]\n",
      "Epoch 29: 100%|██████████| 44/44 [00:02<00:00, 20.90it/s, Train Loss=4274.2548, Valid Loss=3775.1978, Valid R2=0.2235, Valid MAE=45.7843]\n",
      "Epoch 30: 100%|██████████| 44/44 [00:02<00:00, 20.74it/s, Train Loss=3863.0143, Valid Loss=3738.6553, Valid R2=0.2310, Valid MAE=45.8092]\n",
      "Epoch 31: 100%|██████████| 44/44 [00:02<00:00, 19.90it/s, Train Loss=3856.3335, Valid Loss=3547.7644, Valid R2=0.2703, Valid MAE=45.0396]\n",
      "Epoch 32: 100%|██████████| 44/44 [00:02<00:00, 20.39it/s, Train Loss=4079.7588, Valid Loss=3649.3926, Valid R2=0.2494, Valid MAE=45.1436]\n",
      "Epoch 33: 100%|██████████| 44/44 [00:02<00:00, 20.48it/s, Train Loss=4276.9593, Valid Loss=3532.9441, Valid R2=0.2734, Valid MAE=47.5716]\n",
      "Epoch 34: 100%|██████████| 44/44 [00:02<00:00, 21.47it/s, Train Loss=3908.8670, Valid Loss=3415.7983, Valid R2=0.2975, Valid MAE=44.4506]\n",
      "Epoch 35: 100%|██████████| 44/44 [00:02<00:00, 21.74it/s, Train Loss=3672.3337, Valid Loss=3372.3984, Valid R2=0.3064, Valid MAE=45.0417]\n",
      "Epoch 36: 100%|██████████| 44/44 [00:02<00:00, 20.76it/s, Train Loss=3642.2741, Valid Loss=3562.5706, Valid R2=0.2673, Valid MAE=44.8897]\n",
      "Epoch 37: 100%|██████████| 44/44 [00:02<00:00, 20.60it/s, Train Loss=3448.1594, Valid Loss=3437.3235, Valid R2=0.2930, Valid MAE=45.1452]\n",
      "Epoch 38: 100%|██████████| 44/44 [00:02<00:00, 21.30it/s, Train Loss=3267.9907, Valid Loss=3535.1670, Valid R2=0.2729, Valid MAE=45.5419]\n",
      "Epoch 39: 100%|██████████| 44/44 [00:02<00:00, 20.49it/s, Train Loss=3269.7358, Valid Loss=3753.2815, Valid R2=0.2280, Valid MAE=44.4809]\n",
      "Epoch 40: 100%|██████████| 44/44 [00:02<00:00, 20.36it/s, Train Loss=3123.5432, Valid Loss=3737.3848, Valid R2=0.2313, Valid MAE=44.5663]\n",
      "Epoch 41: 100%|██████████| 44/44 [00:02<00:00, 20.42it/s, Train Loss=2937.7411, Valid Loss=3729.0151, Valid R2=0.2330, Valid MAE=45.3856]\n"
     ]
    },
    {
     "name": "stdout",
     "output_type": "stream",
     "text": [
      "Early Stopped\n",
      "Setting  65 of Parameters Grid is now on progres.\n"
     ]
    },
    {
     "name": "stderr",
     "output_type": "stream",
     "text": [
      "Epoch  0: 100%|██████████| 44/44 [00:02<00:00, 20.56it/s, Train Loss=14943.4762, Valid Loss=10989.5332, Valid R2=-1.2603, Valid MAE=78.3358]\n",
      "Epoch  1: 100%|██████████| 44/44 [00:02<00:00, 20.46it/s, Train Loss=10558.4083, Valid Loss=5789.2466, Valid R2=-0.1907, Valid MAE=50.7915]\n",
      "Epoch  2: 100%|██████████| 44/44 [00:02<00:00, 20.99it/s, Train Loss=6212.1010, Valid Loss=4980.0132, Valid R2=-0.0243, Valid MAE=54.3233]\n",
      "Epoch  3: 100%|██████████| 44/44 [00:02<00:00, 21.87it/s, Train Loss=5790.8058, Valid Loss=4945.9941, Valid R2=-0.0173, Valid MAE=53.7451]\n",
      "Epoch  4: 100%|██████████| 44/44 [00:02<00:00, 21.23it/s, Train Loss=5857.5340, Valid Loss=4967.0947, Valid R2=-0.0216, Valid MAE=54.1426]\n",
      "Epoch  5: 100%|██████████| 44/44 [00:02<00:00, 20.06it/s, Train Loss=5797.9073, Valid Loss=4962.9404, Valid R2=-0.0208, Valid MAE=54.0552]\n",
      "Epoch  6: 100%|██████████| 44/44 [00:02<00:00, 20.08it/s, Train Loss=5760.1859, Valid Loss=4942.2485, Valid R2=-0.0165, Valid MAE=53.6807]\n",
      "Epoch  7: 100%|██████████| 44/44 [00:02<00:00, 19.29it/s, Train Loss=5834.5630, Valid Loss=4952.6221, Valid R2=-0.0186, Valid MAE=53.8937]\n",
      "Epoch  8: 100%|██████████| 44/44 [00:02<00:00, 19.16it/s, Train Loss=5777.8796, Valid Loss=4949.8535, Valid R2=-0.0181, Valid MAE=53.8566]\n",
      "Epoch  9: 100%|██████████| 44/44 [00:02<00:00, 20.92it/s, Train Loss=5829.0674, Valid Loss=4902.6450, Valid R2=-0.0084, Valid MAE=52.8863]\n",
      "Epoch 10: 100%|██████████| 44/44 [00:02<00:00, 20.24it/s, Train Loss=5800.3767, Valid Loss=4941.3062, Valid R2=-0.0163, Valid MAE=53.7643]\n",
      "Epoch 11: 100%|██████████| 44/44 [00:02<00:00, 20.19it/s, Train Loss=5816.3746, Valid Loss=4943.4629, Valid R2=-0.0168, Valid MAE=53.9698]\n",
      "Epoch 12: 100%|██████████| 44/44 [00:02<00:00, 20.50it/s, Train Loss=5829.9711, Valid Loss=4942.6069, Valid R2=-0.0166, Valid MAE=54.0747]\n",
      "Epoch 13: 100%|██████████| 44/44 [00:02<00:00, 20.88it/s, Train Loss=5647.3683, Valid Loss=4884.3545, Valid R2=-0.0046, Valid MAE=53.2483]\n",
      "Epoch 14: 100%|██████████| 44/44 [00:02<00:00, 20.60it/s, Train Loss=5692.4079, Valid Loss=4941.9453, Valid R2=-0.0164, Valid MAE=54.9122]\n",
      "Epoch 15: 100%|██████████| 44/44 [00:02<00:00, 21.16it/s, Train Loss=5592.5345, Valid Loss=4973.5654, Valid R2=-0.0229, Valid MAE=53.9187]\n",
      "Epoch 16: 100%|██████████| 44/44 [00:02<00:00, 20.96it/s, Train Loss=5483.7484, Valid Loss=5108.1919, Valid R2=-0.0506, Valid MAE=56.7187]\n",
      "Epoch 17: 100%|██████████| 44/44 [00:02<00:00, 21.00it/s, Train Loss=5513.1385, Valid Loss=4867.8657, Valid R2=-0.0012, Valid MAE=54.5878]\n",
      "Epoch 18: 100%|██████████| 44/44 [00:02<00:00, 20.10it/s, Train Loss=5417.1576, Valid Loss=4738.6987, Valid R2=0.0254, Valid MAE=52.9631]\n",
      "Epoch 19: 100%|██████████| 44/44 [00:02<00:00, 20.64it/s, Train Loss=5258.1658, Valid Loss=4779.7544, Valid R2=0.0169, Valid MAE=52.4720]\n",
      "Epoch 20: 100%|██████████| 44/44 [00:02<00:00, 20.44it/s, Train Loss=4953.0209, Valid Loss=4715.8750, Valid R2=0.0301, Valid MAE=50.8348]\n",
      "Epoch 21: 100%|██████████| 44/44 [00:02<00:00, 20.05it/s, Train Loss=5000.5610, Valid Loss=4809.0605, Valid R2=0.0109, Valid MAE=51.8617]\n",
      "Epoch 22: 100%|██████████| 44/44 [00:02<00:00, 20.02it/s, Train Loss=4724.5277, Valid Loss=5022.5288, Valid R2=-0.0330, Valid MAE=56.7199]\n",
      "Epoch 23: 100%|██████████| 44/44 [00:02<00:00, 20.56it/s, Train Loss=4648.6888, Valid Loss=4826.1006, Valid R2=0.0074, Valid MAE=53.9925]\n",
      "Epoch 24: 100%|██████████| 44/44 [00:01<00:00, 22.30it/s, Train Loss=4590.7629, Valid Loss=4587.9863, Valid R2=0.0564, Valid MAE=50.9261]\n",
      "Epoch 25: 100%|██████████| 44/44 [00:01<00:00, 22.29it/s, Train Loss=4442.5028, Valid Loss=5123.2988, Valid R2=-0.0537, Valid MAE=56.1970]\n",
      "Epoch 26: 100%|██████████| 44/44 [00:02<00:00, 21.90it/s, Train Loss=4264.6728, Valid Loss=4591.9209, Valid R2=0.0555, Valid MAE=50.6765]\n",
      "Epoch 27: 100%|██████████| 44/44 [00:02<00:00, 21.05it/s, Train Loss=4172.6994, Valid Loss=4898.6157, Valid R2=-0.0075, Valid MAE=55.2677]\n",
      "Epoch 28: 100%|██████████| 44/44 [00:02<00:00, 20.70it/s, Train Loss=3837.1992, Valid Loss=4367.0933, Valid R2=0.1018, Valid MAE=49.8175]\n",
      "Epoch 29: 100%|██████████| 44/44 [00:02<00:00, 20.06it/s, Train Loss=3450.3510, Valid Loss=4333.1675, Valid R2=0.1088, Valid MAE=50.9093]\n",
      "Epoch 30: 100%|██████████| 44/44 [00:02<00:00, 20.32it/s, Train Loss=3455.6826, Valid Loss=4311.6338, Valid R2=0.1132, Valid MAE=50.4723]\n",
      "Epoch 31: 100%|██████████| 44/44 [00:02<00:00, 20.59it/s, Train Loss=3167.1556, Valid Loss=4173.3145, Valid R2=0.1416, Valid MAE=47.4018]\n",
      "Epoch 32: 100%|██████████| 44/44 [00:02<00:00, 20.52it/s, Train Loss=2940.8499, Valid Loss=3974.0911, Valid R2=0.1826, Valid MAE=48.1592]\n",
      "Epoch 33: 100%|██████████| 44/44 [00:02<00:00, 20.57it/s, Train Loss=3108.4595, Valid Loss=4196.4058, Valid R2=0.1369, Valid MAE=50.0982]\n",
      "Epoch 34: 100%|██████████| 44/44 [00:02<00:00, 20.97it/s, Train Loss=2965.7210, Valid Loss=4399.0107, Valid R2=0.0952, Valid MAE=51.2723]\n",
      "Epoch 35: 100%|██████████| 44/44 [00:02<00:00, 21.62it/s, Train Loss=2727.7979, Valid Loss=4209.2886, Valid R2=0.1342, Valid MAE=49.7303]\n",
      "Epoch 36: 100%|██████████| 44/44 [00:02<00:00, 20.71it/s, Train Loss=2581.6482, Valid Loss=4478.9590, Valid R2=0.0788, Valid MAE=51.3117]\n",
      "Epoch 37: 100%|██████████| 44/44 [00:02<00:00, 20.77it/s, Train Loss=2791.8232, Valid Loss=4467.1382, Valid R2=0.0812, Valid MAE=51.3181]\n",
      "Epoch 38: 100%|██████████| 44/44 [00:02<00:00, 21.09it/s, Train Loss=2824.6411, Valid Loss=4181.4888, Valid R2=0.1400, Valid MAE=48.0781]\n"
     ]
    },
    {
     "name": "stdout",
     "output_type": "stream",
     "text": [
      "Early Stopped\n",
      "Setting  66 of Parameters Grid is now on progres.\n"
     ]
    },
    {
     "name": "stderr",
     "output_type": "stream",
     "text": [
      "Epoch  0: 100%|██████████| 44/44 [00:02<00:00, 20.99it/s, Train Loss=15008.4684, Valid Loss=11210.3516, Valid R2=-1.3057, Valid MAE=79.7205]\n",
      "Epoch  1: 100%|██████████| 44/44 [00:02<00:00, 20.87it/s, Train Loss=11550.2904, Valid Loss=7223.1660, Valid R2=-0.4856, Valid MAE=57.0376]\n",
      "Epoch  2: 100%|██████████| 44/44 [00:02<00:00, 20.24it/s, Train Loss=7081.4434, Valid Loss=4882.6528, Valid R2=-0.0042, Valid MAE=52.5553]\n",
      "Epoch  3: 100%|██████████| 44/44 [00:02<00:00, 20.78it/s, Train Loss=5931.4315, Valid Loss=4860.5688, Valid R2=0.0003, Valid MAE=51.8452]\n",
      "Epoch  4: 100%|██████████| 44/44 [00:02<00:00, 19.92it/s, Train Loss=5817.2335, Valid Loss=4967.4243, Valid R2=-0.0217, Valid MAE=54.4166]\n",
      "Epoch  5: 100%|██████████| 44/44 [00:02<00:00, 19.80it/s, Train Loss=5856.6944, Valid Loss=4917.4912, Valid R2=-0.0114, Valid MAE=53.4214]\n",
      "Epoch  6: 100%|██████████| 44/44 [00:02<00:00, 20.88it/s, Train Loss=5823.2910, Valid Loss=4923.2637, Valid R2=-0.0126, Valid MAE=53.8984]\n",
      "Epoch  7: 100%|██████████| 44/44 [00:02<00:00, 20.68it/s, Train Loss=5864.3397, Valid Loss=4957.6938, Valid R2=-0.0197, Valid MAE=54.5492]\n",
      "Epoch  8: 100%|██████████| 44/44 [00:02<00:00, 21.01it/s, Train Loss=5830.2642, Valid Loss=4818.5312, Valid R2=0.0089, Valid MAE=52.8426]\n",
      "Epoch  9: 100%|██████████| 44/44 [00:02<00:00, 20.81it/s, Train Loss=5671.5856, Valid Loss=4806.4165, Valid R2=0.0114, Valid MAE=53.2840]\n",
      "Epoch 10: 100%|██████████| 44/44 [00:02<00:00, 20.72it/s, Train Loss=5527.8055, Valid Loss=4670.0923, Valid R2=0.0395, Valid MAE=50.7616]\n",
      "Epoch 11: 100%|██████████| 44/44 [00:02<00:00, 20.83it/s, Train Loss=5484.6699, Valid Loss=4731.2935, Valid R2=0.0269, Valid MAE=53.1352]\n",
      "Epoch 12: 100%|██████████| 44/44 [00:02<00:00, 21.24it/s, Train Loss=5486.1604, Valid Loss=4711.8203, Valid R2=0.0309, Valid MAE=52.8648]\n",
      "Epoch 13: 100%|██████████| 44/44 [00:02<00:00, 20.91it/s, Train Loss=5219.6877, Valid Loss=4642.8428, Valid R2=0.0451, Valid MAE=50.8706]\n",
      "Epoch 14: 100%|██████████| 44/44 [00:02<00:00, 21.05it/s, Train Loss=5241.4935, Valid Loss=4500.0522, Valid R2=0.0744, Valid MAE=49.0332]\n",
      "Epoch 15: 100%|██████████| 44/44 [00:02<00:00, 20.86it/s, Train Loss=5076.9275, Valid Loss=4346.2012, Valid R2=0.1061, Valid MAE=48.7838]\n",
      "Epoch 16: 100%|██████████| 44/44 [00:02<00:00, 20.84it/s, Train Loss=4903.0867, Valid Loss=4133.1060, Valid R2=0.1499, Valid MAE=47.9269]\n",
      "Epoch 17: 100%|██████████| 44/44 [00:02<00:00, 21.04it/s, Train Loss=4831.0226, Valid Loss=4171.8765, Valid R2=0.1419, Valid MAE=48.2955]\n",
      "Epoch 18: 100%|██████████| 44/44 [00:02<00:00, 20.90it/s, Train Loss=4820.6033, Valid Loss=4613.7490, Valid R2=0.0511, Valid MAE=53.5365]\n",
      "Epoch 19: 100%|██████████| 44/44 [00:02<00:00, 21.05it/s, Train Loss=4725.0426, Valid Loss=3915.3831, Valid R2=0.1947, Valid MAE=47.4155]\n",
      "Epoch 20: 100%|██████████| 44/44 [00:02<00:00, 20.59it/s, Train Loss=4263.3594, Valid Loss=3787.1765, Valid R2=0.2211, Valid MAE=46.0783]\n",
      "Epoch 21: 100%|██████████| 44/44 [00:02<00:00, 20.89it/s, Train Loss=4068.1910, Valid Loss=3745.3459, Valid R2=0.2297, Valid MAE=45.3501]\n",
      "Epoch 22: 100%|██████████| 44/44 [00:02<00:00, 21.04it/s, Train Loss=3791.1012, Valid Loss=3874.1743, Valid R2=0.2032, Valid MAE=46.6373]\n",
      "Epoch 23: 100%|██████████| 44/44 [00:02<00:00, 20.70it/s, Train Loss=3581.3503, Valid Loss=3879.8647, Valid R2=0.2020, Valid MAE=46.8643]\n",
      "Epoch 24: 100%|██████████| 44/44 [00:02<00:00, 20.56it/s, Train Loss=3732.0338, Valid Loss=3761.9163, Valid R2=0.2263, Valid MAE=47.1754]\n",
      "Epoch 25: 100%|██████████| 44/44 [00:02<00:00, 20.62it/s, Train Loss=3511.5388, Valid Loss=3894.9084, Valid R2=0.1989, Valid MAE=48.9159]\n",
      "Epoch 26: 100%|██████████| 44/44 [00:02<00:00, 20.50it/s, Train Loss=3662.6272, Valid Loss=3975.1169, Valid R2=0.1824, Valid MAE=48.9246]\n",
      "Epoch 27: 100%|██████████| 44/44 [00:02<00:00, 20.77it/s, Train Loss=3490.2017, Valid Loss=3911.7659, Valid R2=0.1954, Valid MAE=47.4472]\n"
     ]
    },
    {
     "name": "stdout",
     "output_type": "stream",
     "text": [
      "Early Stopped\n",
      "Setting  67 of Parameters Grid is now on progres.\n"
     ]
    },
    {
     "name": "stderr",
     "output_type": "stream",
     "text": [
      "Epoch  0: 100%|██████████| 44/44 [00:02<00:00, 20.40it/s, Train Loss=15096.0331, Valid Loss=11437.2646, Valid R2=-1.3524, Valid MAE=81.1087]\n",
      "Epoch  1: 100%|██████████| 44/44 [00:01<00:00, 22.21it/s, Train Loss=11353.0176, Valid Loss=6500.6123, Valid R2=-0.3370, Valid MAE=53.5382]\n",
      "Epoch  2: 100%|██████████| 44/44 [00:02<00:00, 20.74it/s, Train Loss=6474.2897, Valid Loss=4984.1538, Valid R2=-0.0251, Valid MAE=54.4094]\n",
      "Epoch  3: 100%|██████████| 44/44 [00:02<00:00, 20.19it/s, Train Loss=5859.7835, Valid Loss=4951.7363, Valid R2=-0.0185, Valid MAE=53.8693]\n",
      "Epoch  4: 100%|██████████| 44/44 [00:02<00:00, 20.42it/s, Train Loss=5852.0577, Valid Loss=4924.8823, Valid R2=-0.0129, Valid MAE=53.3682]\n",
      "Epoch  5: 100%|██████████| 44/44 [00:02<00:00, 20.57it/s, Train Loss=5862.4789, Valid Loss=4915.8413, Valid R2=-0.0111, Valid MAE=53.1594]\n",
      "Epoch  6: 100%|██████████| 44/44 [00:02<00:00, 20.56it/s, Train Loss=5965.1779, Valid Loss=4959.5645, Valid R2=-0.0201, Valid MAE=54.0542]\n",
      "Epoch  7: 100%|██████████| 44/44 [00:01<00:00, 22.13it/s, Train Loss=5807.6759, Valid Loss=4922.5537, Valid R2=-0.0125, Valid MAE=53.3182]\n",
      "Epoch  8: 100%|██████████| 44/44 [00:02<00:00, 21.08it/s, Train Loss=5857.1966, Valid Loss=4919.5664, Valid R2=-0.0118, Valid MAE=53.3278]\n",
      "Epoch  9: 100%|██████████| 44/44 [00:02<00:00, 20.88it/s, Train Loss=5797.8313, Valid Loss=4936.9868, Valid R2=-0.0154, Valid MAE=53.7280]\n",
      "Epoch 10: 100%|██████████| 44/44 [00:02<00:00, 21.01it/s, Train Loss=5837.5738, Valid Loss=4921.7588, Valid R2=-0.0123, Valid MAE=53.3312]\n",
      "Epoch 11: 100%|██████████| 44/44 [00:02<00:00, 20.62it/s, Train Loss=5809.1459, Valid Loss=4913.9814, Valid R2=-0.0107, Valid MAE=53.2385]\n",
      "Epoch 12: 100%|██████████| 44/44 [00:02<00:00, 20.48it/s, Train Loss=5775.1661, Valid Loss=4944.3628, Valid R2=-0.0169, Valid MAE=53.9149]\n",
      "Epoch 13: 100%|██████████| 44/44 [00:02<00:00, 18.93it/s, Train Loss=5627.7182, Valid Loss=4856.7739, Valid R2=0.0011, Valid MAE=53.2232]\n",
      "Epoch 14: 100%|██████████| 44/44 [00:02<00:00, 20.87it/s, Train Loss=5504.6333, Valid Loss=4830.1489, Valid R2=0.0066, Valid MAE=52.5744]\n",
      "Epoch 15: 100%|██████████| 44/44 [00:02<00:00, 20.53it/s, Train Loss=5384.5673, Valid Loss=4710.6401, Valid R2=0.0311, Valid MAE=50.4684]\n",
      "Epoch 16: 100%|██████████| 44/44 [00:02<00:00, 20.70it/s, Train Loss=5243.1998, Valid Loss=4589.0073, Valid R2=0.0561, Valid MAE=51.3920]\n",
      "Epoch 17: 100%|██████████| 44/44 [00:02<00:00, 20.84it/s, Train Loss=4938.2606, Valid Loss=4527.3384, Valid R2=0.0688, Valid MAE=51.5288]\n",
      "Epoch 18: 100%|██████████| 44/44 [00:02<00:00, 20.27it/s, Train Loss=4734.8457, Valid Loss=5590.6895, Valid R2=-0.1499, Valid MAE=60.5288]\n",
      "Epoch 19: 100%|██████████| 44/44 [00:02<00:00, 19.98it/s, Train Loss=4838.6462, Valid Loss=4734.6289, Valid R2=0.0262, Valid MAE=51.4809]\n",
      "Epoch 20: 100%|██████████| 44/44 [00:02<00:00, 20.11it/s, Train Loss=4467.8082, Valid Loss=4553.5752, Valid R2=0.0634, Valid MAE=50.3371]\n",
      "Epoch 21: 100%|██████████| 44/44 [00:02<00:00, 21.26it/s, Train Loss=4278.8745, Valid Loss=4443.0059, Valid R2=0.0862, Valid MAE=49.5516]\n",
      "Epoch 22: 100%|██████████| 44/44 [00:01<00:00, 22.31it/s, Train Loss=4025.7302, Valid Loss=4461.7017, Valid R2=0.0823, Valid MAE=50.3733]\n",
      "Epoch 23: 100%|██████████| 44/44 [00:02<00:00, 20.76it/s, Train Loss=3948.0234, Valid Loss=4403.5737, Valid R2=0.0943, Valid MAE=48.6980]\n",
      "Epoch 24: 100%|██████████| 44/44 [00:02<00:00, 20.67it/s, Train Loss=3918.5378, Valid Loss=4489.5400, Valid R2=0.0766, Valid MAE=50.1810]\n",
      "Epoch 25: 100%|██████████| 44/44 [00:02<00:00, 20.70it/s, Train Loss=3599.6621, Valid Loss=4868.2949, Valid R2=-0.0013, Valid MAE=54.1539]\n",
      "Epoch 26: 100%|██████████| 44/44 [00:02<00:00, 20.85it/s, Train Loss=3461.3151, Valid Loss=4534.5610, Valid R2=0.0673, Valid MAE=51.1666]\n",
      "Epoch 27: 100%|██████████| 44/44 [00:02<00:00, 20.86it/s, Train Loss=3139.8970, Valid Loss=4302.8008, Valid R2=0.1150, Valid MAE=48.4794]\n",
      "Epoch 28: 100%|██████████| 44/44 [00:02<00:00, 20.63it/s, Train Loss=2986.1994, Valid Loss=4604.0947, Valid R2=0.0530, Valid MAE=50.8406]\n",
      "Epoch 29: 100%|██████████| 44/44 [00:02<00:00, 20.17it/s, Train Loss=2914.6187, Valid Loss=4439.0786, Valid R2=0.0870, Valid MAE=49.8352]\n",
      "Epoch 30: 100%|██████████| 44/44 [00:02<00:00, 20.01it/s, Train Loss=2737.9947, Valid Loss=4570.7598, Valid R2=0.0599, Valid MAE=50.3256]\n",
      "Epoch 31: 100%|██████████| 44/44 [00:02<00:00, 20.65it/s, Train Loss=2517.3318, Valid Loss=4667.3711, Valid R2=0.0400, Valid MAE=50.6526]\n",
      "Epoch 32: 100%|██████████| 44/44 [00:02<00:00, 20.84it/s, Train Loss=2369.7303, Valid Loss=4500.9829, Valid R2=0.0743, Valid MAE=50.7215]\n",
      "Epoch 33: 100%|██████████| 44/44 [00:02<00:00, 20.76it/s, Train Loss=2383.0324, Valid Loss=4888.1133, Valid R2=-0.0054, Valid MAE=50.8712]\n"
     ]
    },
    {
     "name": "stdout",
     "output_type": "stream",
     "text": [
      "Early Stopped\n",
      "Setting  68 of Parameters Grid is now on progres.\n"
     ]
    },
    {
     "name": "stderr",
     "output_type": "stream",
     "text": [
      "Epoch  0: 100%|██████████| 44/44 [00:02<00:00, 20.83it/s, Train Loss=14794.8349, Valid Loss=10579.2568, Valid R2=-1.1759, Valid MAE=75.8424]\n",
      "Epoch  1: 100%|██████████| 44/44 [00:02<00:00, 20.63it/s, Train Loss=10298.8520, Valid Loss=5964.6973, Valid R2=-0.2268, Valid MAE=51.4431]\n",
      "Epoch  2: 100%|██████████| 44/44 [00:02<00:00, 20.94it/s, Train Loss=6373.5905, Valid Loss=4953.9263, Valid R2=-0.0189, Valid MAE=53.8908]\n",
      "Epoch  3: 100%|██████████| 44/44 [00:02<00:00, 20.82it/s, Train Loss=5857.7989, Valid Loss=4933.6880, Valid R2=-0.0147, Valid MAE=53.5302]\n",
      "Epoch  4: 100%|██████████| 44/44 [00:02<00:00, 20.96it/s, Train Loss=5788.5779, Valid Loss=4916.4263, Valid R2=-0.0112, Valid MAE=53.1549]\n",
      "Epoch  5: 100%|██████████| 44/44 [00:02<00:00, 20.51it/s, Train Loss=5811.7860, Valid Loss=4899.6299, Valid R2=-0.0077, Valid MAE=52.7897]\n",
      "Epoch  6: 100%|██████████| 44/44 [00:02<00:00, 21.02it/s, Train Loss=5798.8498, Valid Loss=4954.7456, Valid R2=-0.0191, Valid MAE=53.9863]\n",
      "Epoch  7: 100%|██████████| 44/44 [00:02<00:00, 20.96it/s, Train Loss=5769.0386, Valid Loss=4990.8589, Valid R2=-0.0265, Valid MAE=54.6059]\n",
      "Epoch  8: 100%|██████████| 44/44 [00:02<00:00, 21.05it/s, Train Loss=5796.7538, Valid Loss=4920.5713, Valid R2=-0.0120, Valid MAE=53.4142]\n",
      "Epoch  9: 100%|██████████| 44/44 [00:02<00:00, 20.97it/s, Train Loss=5799.7031, Valid Loss=4953.3887, Valid R2=-0.0188, Valid MAE=54.0598]\n",
      "Epoch 10: 100%|██████████| 44/44 [00:02<00:00, 21.13it/s, Train Loss=5768.2743, Valid Loss=4921.3989, Valid R2=-0.0122, Valid MAE=53.9052]\n",
      "Epoch 11: 100%|██████████| 44/44 [00:02<00:00, 21.94it/s, Train Loss=5656.9962, Valid Loss=4817.7114, Valid R2=0.0091, Valid MAE=52.5459]\n",
      "Epoch 12: 100%|██████████| 44/44 [00:02<00:00, 20.62it/s, Train Loss=5634.4509, Valid Loss=4831.9653, Valid R2=0.0062, Valid MAE=52.8495]\n",
      "Epoch 13: 100%|██████████| 44/44 [00:02<00:00, 20.82it/s, Train Loss=5518.2900, Valid Loss=4905.9683, Valid R2=-0.0090, Valid MAE=54.6508]\n",
      "Epoch 14: 100%|██████████| 44/44 [00:02<00:00, 21.57it/s, Train Loss=5816.0994, Valid Loss=4907.6909, Valid R2=-0.0094, Valid MAE=53.2622]\n",
      "Epoch 15: 100%|██████████| 44/44 [00:02<00:00, 21.51it/s, Train Loss=5613.3751, Valid Loss=4904.0317, Valid R2=-0.0086, Valid MAE=53.6815]\n",
      "Epoch 16: 100%|██████████| 44/44 [00:02<00:00, 20.92it/s, Train Loss=5568.3629, Valid Loss=5071.8896, Valid R2=-0.0432, Valid MAE=56.5632]\n",
      "Epoch 17: 100%|██████████| 44/44 [00:02<00:00, 21.90it/s, Train Loss=5351.7879, Valid Loss=4992.2778, Valid R2=-0.0268, Valid MAE=55.6673]\n"
     ]
    },
    {
     "name": "stdout",
     "output_type": "stream",
     "text": [
      "Early Stopped\n",
      "Setting  69 of Parameters Grid is now on progres.\n"
     ]
    },
    {
     "name": "stderr",
     "output_type": "stream",
     "text": [
      "Epoch  0: 100%|██████████| 44/44 [00:02<00:00, 21.15it/s, Train Loss=14880.8956, Valid Loss=10948.1045, Valid R2=-1.2518, Valid MAE=78.1107]\n",
      "Epoch  1: 100%|██████████| 44/44 [00:02<00:00, 20.20it/s, Train Loss=11510.2787, Valid Loss=7399.5205, Valid R2=-0.5219, Valid MAE=57.8763]\n",
      "Epoch  2: 100%|██████████| 44/44 [00:02<00:00, 20.76it/s, Train Loss=7710.1411, Valid Loss=4987.3311, Valid R2=-0.0258, Valid MAE=49.7133]\n",
      "Epoch  3: 100%|██████████| 44/44 [00:02<00:00, 21.04it/s, Train Loss=5999.3090, Valid Loss=4956.8384, Valid R2=-0.0195, Valid MAE=54.0374]\n",
      "Epoch  4: 100%|██████████| 44/44 [00:02<00:00, 20.70it/s, Train Loss=5945.0314, Valid Loss=4909.1582, Valid R2=-0.0097, Valid MAE=52.9377]\n",
      "Epoch  5: 100%|██████████| 44/44 [00:02<00:00, 20.28it/s, Train Loss=6087.1747, Valid Loss=4914.6001, Valid R2=-0.0108, Valid MAE=53.1577]\n",
      "Epoch  6: 100%|██████████| 44/44 [00:02<00:00, 20.12it/s, Train Loss=5986.7479, Valid Loss=4933.6968, Valid R2=-0.0147, Valid MAE=53.5653]\n",
      "Epoch  7: 100%|██████████| 44/44 [00:02<00:00, 20.09it/s, Train Loss=5965.6371, Valid Loss=4885.1299, Valid R2=-0.0048, Valid MAE=52.4543]\n",
      "Epoch  8: 100%|██████████| 44/44 [00:02<00:00, 20.81it/s, Train Loss=5906.8939, Valid Loss=4942.4019, Valid R2=-0.0165, Valid MAE=53.7253]\n",
      "Epoch  9: 100%|██████████| 44/44 [00:02<00:00, 21.08it/s, Train Loss=5881.2590, Valid Loss=4947.1143, Valid R2=-0.0175, Valid MAE=53.6671]\n",
      "Epoch 10: 100%|██████████| 44/44 [00:02<00:00, 20.42it/s, Train Loss=5858.1467, Valid Loss=4928.9541, Valid R2=-0.0138, Valid MAE=53.5204]\n",
      "Epoch 11: 100%|██████████| 44/44 [00:02<00:00, 20.85it/s, Train Loss=5943.2296, Valid Loss=4842.7661, Valid R2=0.0040, Valid MAE=52.1040]\n",
      "Epoch 12: 100%|██████████| 44/44 [00:02<00:00, 20.78it/s, Train Loss=5833.8801, Valid Loss=4885.1782, Valid R2=-0.0048, Valid MAE=52.9020]\n",
      "Epoch 13: 100%|██████████| 44/44 [00:02<00:00, 20.60it/s, Train Loss=5838.2496, Valid Loss=4785.0513, Valid R2=0.0158, Valid MAE=51.0763]\n",
      "Epoch 14: 100%|██████████| 44/44 [00:02<00:00, 20.82it/s, Train Loss=5708.2056, Valid Loss=4923.2788, Valid R2=-0.0126, Valid MAE=54.6859]\n",
      "Epoch 15: 100%|██████████| 44/44 [00:02<00:00, 20.58it/s, Train Loss=5707.9231, Valid Loss=4731.8613, Valid R2=0.0268, Valid MAE=50.6195]\n",
      "Epoch 16: 100%|██████████| 44/44 [00:02<00:00, 20.34it/s, Train Loss=5375.8222, Valid Loss=4644.2061, Valid R2=0.0448, Valid MAE=51.0401]\n",
      "Epoch 17: 100%|██████████| 44/44 [00:02<00:00, 20.10it/s, Train Loss=5334.3138, Valid Loss=4623.7065, Valid R2=0.0490, Valid MAE=53.4931]\n",
      "Epoch 18: 100%|██████████| 44/44 [00:02<00:00, 21.15it/s, Train Loss=4914.3509, Valid Loss=4789.4253, Valid R2=0.0149, Valid MAE=56.0204]\n",
      "Epoch 19: 100%|██████████| 44/44 [00:02<00:00, 21.11it/s, Train Loss=4762.4374, Valid Loss=4476.9390, Valid R2=0.0792, Valid MAE=47.4904]\n",
      "Epoch 20: 100%|██████████| 44/44 [00:02<00:00, 20.98it/s, Train Loss=4484.5814, Valid Loss=4695.0166, Valid R2=0.0343, Valid MAE=54.6306]\n",
      "Epoch 21: 100%|██████████| 44/44 [00:02<00:00, 20.80it/s, Train Loss=4323.5375, Valid Loss=4560.2085, Valid R2=0.0621, Valid MAE=52.5157]\n",
      "Epoch 22: 100%|██████████| 44/44 [00:02<00:00, 20.86it/s, Train Loss=3919.1836, Valid Loss=4756.2012, Valid R2=0.0218, Valid MAE=53.3609]\n",
      "Epoch 23: 100%|██████████| 44/44 [00:02<00:00, 20.00it/s, Train Loss=4001.6951, Valid Loss=4183.8052, Valid R2=0.1395, Valid MAE=48.0350]\n",
      "Epoch 24: 100%|██████████| 44/44 [00:02<00:00, 21.28it/s, Train Loss=3674.6052, Valid Loss=4504.1216, Valid R2=0.0736, Valid MAE=53.7752]\n",
      "Epoch 25: 100%|██████████| 44/44 [00:02<00:00, 20.17it/s, Train Loss=3357.9684, Valid Loss=4131.5127, Valid R2=0.1502, Valid MAE=50.1669]\n",
      "Epoch 26: 100%|██████████| 44/44 [00:01<00:00, 22.07it/s, Train Loss=3220.4777, Valid Loss=4238.1973, Valid R2=0.1283, Valid MAE=49.8129]\n",
      "Epoch 27: 100%|██████████| 44/44 [00:02<00:00, 21.97it/s, Train Loss=3218.4743, Valid Loss=4502.0337, Valid R2=0.0740, Valid MAE=52.7464]\n",
      "Epoch 28: 100%|██████████| 44/44 [00:02<00:00, 20.30it/s, Train Loss=3161.5155, Valid Loss=4235.1260, Valid R2=0.1289, Valid MAE=49.6182]\n",
      "Epoch 29: 100%|██████████| 44/44 [00:02<00:00, 20.43it/s, Train Loss=3318.7454, Valid Loss=4603.4287, Valid R2=0.0532, Valid MAE=54.1500]\n",
      "Epoch 30: 100%|██████████| 44/44 [00:02<00:00, 19.78it/s, Train Loss=2950.5188, Valid Loss=4105.2900, Valid R2=0.1556, Valid MAE=48.8538]\n",
      "Epoch 31: 100%|██████████| 44/44 [00:02<00:00, 21.05it/s, Train Loss=2729.0559, Valid Loss=4706.8438, Valid R2=0.0319, Valid MAE=53.7524]\n",
      "Epoch 32: 100%|██████████| 44/44 [00:02<00:00, 20.82it/s, Train Loss=2798.1313, Valid Loss=4242.8433, Valid R2=0.1273, Valid MAE=50.1330]\n",
      "Epoch 33: 100%|██████████| 44/44 [00:02<00:00, 20.23it/s, Train Loss=2836.9552, Valid Loss=4279.1362, Valid R2=0.1199, Valid MAE=50.1734]\n",
      "Epoch 34: 100%|██████████| 44/44 [00:02<00:00, 20.81it/s, Train Loss=2705.4730, Valid Loss=4016.7385, Valid R2=0.1739, Valid MAE=48.7780]\n",
      "Epoch 35: 100%|██████████| 44/44 [00:02<00:00, 20.26it/s, Train Loss=2672.1002, Valid Loss=4140.2324, Valid R2=0.1485, Valid MAE=48.6295]\n",
      "Epoch 36: 100%|██████████| 44/44 [00:02<00:00, 20.70it/s, Train Loss=2437.9170, Valid Loss=4774.1514, Valid R2=0.0181, Valid MAE=53.5210]\n",
      "Epoch 37: 100%|██████████| 44/44 [00:02<00:00, 20.90it/s, Train Loss=2582.2644, Valid Loss=5066.0825, Valid R2=-0.0420, Valid MAE=54.8186]\n",
      "Epoch 38: 100%|██████████| 44/44 [00:02<00:00, 21.23it/s, Train Loss=2368.2162, Valid Loss=4729.7583, Valid R2=0.0272, Valid MAE=52.0466]\n",
      "Epoch 39: 100%|██████████| 44/44 [00:02<00:00, 20.94it/s, Train Loss=2283.4988, Valid Loss=4542.4458, Valid R2=0.0657, Valid MAE=51.3794]\n",
      "Epoch 40: 100%|██████████| 44/44 [00:02<00:00, 20.88it/s, Train Loss=2094.5040, Valid Loss=4619.9468, Valid R2=0.0498, Valid MAE=51.7039]\n"
     ]
    },
    {
     "name": "stdout",
     "output_type": "stream",
     "text": [
      "Early Stopped\n",
      "Setting  70 of Parameters Grid is now on progres.\n"
     ]
    },
    {
     "name": "stderr",
     "output_type": "stream",
     "text": [
      "Epoch  0: 100%|██████████| 44/44 [00:02<00:00, 20.88it/s, Train Loss=14746.3203, Valid Loss=10442.3213, Valid R2=-1.1477, Valid MAE=75.0241]\n",
      "Epoch  1: 100%|██████████| 44/44 [00:02<00:00, 20.28it/s, Train Loss=10564.7341, Valid Loss=6307.3359, Valid R2=-0.2973, Valid MAE=52.7623]\n",
      "Epoch  2: 100%|██████████| 44/44 [00:02<00:00, 20.71it/s, Train Loss=6490.6585, Valid Loss=4967.3486, Valid R2=-0.0217, Valid MAE=54.1823]\n",
      "Epoch  3: 100%|██████████| 44/44 [00:02<00:00, 20.81it/s, Train Loss=5779.0008, Valid Loss=4909.8413, Valid R2=-0.0098, Valid MAE=52.9991]\n",
      "Epoch  4: 100%|██████████| 44/44 [00:02<00:00, 20.68it/s, Train Loss=5855.2612, Valid Loss=4923.5913, Valid R2=-0.0127, Valid MAE=53.4242]\n",
      "Epoch  5: 100%|██████████| 44/44 [00:02<00:00, 20.58it/s, Train Loss=5832.5396, Valid Loss=4911.0991, Valid R2=-0.0101, Valid MAE=53.2971]\n",
      "Epoch  6: 100%|██████████| 44/44 [00:02<00:00, 20.86it/s, Train Loss=5845.4198, Valid Loss=4943.6289, Valid R2=-0.0168, Valid MAE=53.9410]\n",
      "Epoch  7: 100%|██████████| 44/44 [00:02<00:00, 20.51it/s, Train Loss=5767.3288, Valid Loss=4952.9785, Valid R2=-0.0187, Valid MAE=54.2996]\n",
      "Epoch  8: 100%|██████████| 44/44 [00:02<00:00, 20.50it/s, Train Loss=5772.9412, Valid Loss=4840.1279, Valid R2=0.0045, Valid MAE=53.1424]\n",
      "Epoch  9: 100%|██████████| 44/44 [00:02<00:00, 20.95it/s, Train Loss=5584.7972, Valid Loss=4937.1924, Valid R2=-0.0155, Valid MAE=54.9598]\n",
      "Epoch 10: 100%|██████████| 44/44 [00:02<00:00, 21.22it/s, Train Loss=5392.0118, Valid Loss=4774.8589, Valid R2=0.0179, Valid MAE=49.7804]\n",
      "Epoch 11: 100%|██████████| 44/44 [00:01<00:00, 22.28it/s, Train Loss=5214.7454, Valid Loss=4643.9331, Valid R2=0.0449, Valid MAE=54.1161]\n",
      "Epoch 12: 100%|██████████| 44/44 [00:02<00:00, 21.65it/s, Train Loss=5189.5545, Valid Loss=4887.7144, Valid R2=-0.0053, Valid MAE=56.3431]\n",
      "Epoch 13: 100%|██████████| 44/44 [00:02<00:00, 21.01it/s, Train Loss=4929.0738, Valid Loss=4976.5591, Valid R2=-0.0236, Valid MAE=57.9798]\n",
      "Epoch 14: 100%|██████████| 44/44 [00:02<00:00, 20.80it/s, Train Loss=4832.9626, Valid Loss=4657.8960, Valid R2=0.0420, Valid MAE=53.6292]\n",
      "Epoch 15: 100%|██████████| 44/44 [00:02<00:00, 20.84it/s, Train Loss=4455.6603, Valid Loss=4255.7222, Valid R2=0.1247, Valid MAE=50.7585]\n",
      "Epoch 16: 100%|██████████| 44/44 [00:02<00:00, 20.84it/s, Train Loss=4442.9422, Valid Loss=4487.1836, Valid R2=0.0771, Valid MAE=54.6067]\n",
      "Epoch 17: 100%|██████████| 44/44 [00:02<00:00, 20.83it/s, Train Loss=4310.6528, Valid Loss=4317.0386, Valid R2=0.1121, Valid MAE=49.5834]\n",
      "Epoch 18: 100%|██████████| 44/44 [00:02<00:00, 20.69it/s, Train Loss=4129.5815, Valid Loss=4401.1992, Valid R2=0.0948, Valid MAE=50.7617]\n",
      "Epoch 19: 100%|██████████| 44/44 [00:02<00:00, 20.81it/s, Train Loss=4100.2461, Valid Loss=4474.7812, Valid R2=0.0796, Valid MAE=52.8643]\n",
      "Epoch 20: 100%|██████████| 44/44 [00:02<00:00, 20.91it/s, Train Loss=3950.9554, Valid Loss=4437.3589, Valid R2=0.0873, Valid MAE=50.9389]\n",
      "Epoch 21: 100%|██████████| 44/44 [00:02<00:00, 20.86it/s, Train Loss=3795.1432, Valid Loss=4374.0474, Valid R2=0.1004, Valid MAE=51.8698]\n"
     ]
    },
    {
     "name": "stdout",
     "output_type": "stream",
     "text": [
      "Early Stopped\n",
      "Setting  71 of Parameters Grid is now on progres.\n"
     ]
    },
    {
     "name": "stderr",
     "output_type": "stream",
     "text": [
      "Epoch  0: 100%|██████████| 44/44 [00:02<00:00, 20.89it/s, Train Loss=14768.2985, Valid Loss=10339.8867, Valid R2=-1.1267, Valid MAE=74.3959]\n",
      "Epoch  1: 100%|██████████| 44/44 [00:02<00:00, 21.05it/s, Train Loss=9790.8014, Valid Loss=5537.9219, Valid R2=-0.1390, Valid MAE=50.0090]\n",
      "Epoch  2: 100%|██████████| 44/44 [00:02<00:00, 18.95it/s, Train Loss=6065.9673, Valid Loss=5065.2153, Valid R2=-0.0418, Valid MAE=55.5578]\n",
      "Epoch  3: 100%|██████████| 44/44 [00:02<00:00, 20.31it/s, Train Loss=5812.5949, Valid Loss=4949.9307, Valid R2=-0.0181, Valid MAE=53.8924]\n",
      "Epoch  4: 100%|██████████| 44/44 [00:02<00:00, 20.81it/s, Train Loss=5755.4873, Valid Loss=4937.8159, Valid R2=-0.0156, Valid MAE=53.5020]\n",
      "Epoch  5: 100%|██████████| 44/44 [00:02<00:00, 20.34it/s, Train Loss=5827.0646, Valid Loss=4975.1011, Valid R2=-0.0233, Valid MAE=54.2230]\n",
      "Epoch  6: 100%|██████████| 44/44 [00:02<00:00, 20.60it/s, Train Loss=5807.7322, Valid Loss=4947.8262, Valid R2=-0.0177, Valid MAE=53.9750]\n",
      "Epoch  7: 100%|██████████| 44/44 [00:02<00:00, 20.71it/s, Train Loss=5760.3047, Valid Loss=4915.7549, Valid R2=-0.0111, Valid MAE=53.2278]\n",
      "Epoch  8: 100%|██████████| 44/44 [00:02<00:00, 20.61it/s, Train Loss=5692.4985, Valid Loss=4995.4126, Valid R2=-0.0274, Valid MAE=55.0191]\n",
      "Epoch  9: 100%|██████████| 44/44 [00:02<00:00, 20.12it/s, Train Loss=5642.1839, Valid Loss=4731.8306, Valid R2=0.0268, Valid MAE=52.1899]\n",
      "Epoch 10: 100%|██████████| 44/44 [00:02<00:00, 20.26it/s, Train Loss=5327.1479, Valid Loss=4513.5122, Valid R2=0.0717, Valid MAE=50.1905]\n",
      "Epoch 11: 100%|██████████| 44/44 [00:02<00:00, 20.37it/s, Train Loss=4901.2014, Valid Loss=4743.8979, Valid R2=0.0243, Valid MAE=54.5151]\n",
      "Epoch 12: 100%|██████████| 44/44 [00:02<00:00, 20.26it/s, Train Loss=4681.8827, Valid Loss=4369.6982, Valid R2=0.1013, Valid MAE=48.3660]\n",
      "Epoch 13: 100%|██████████| 44/44 [00:02<00:00, 19.70it/s, Train Loss=4608.1892, Valid Loss=4537.1011, Valid R2=0.0668, Valid MAE=54.0950]\n",
      "Epoch 14: 100%|██████████| 44/44 [00:02<00:00, 20.09it/s, Train Loss=4325.9337, Valid Loss=4269.8750, Valid R2=0.1218, Valid MAE=50.4464]\n",
      "Epoch 15: 100%|██████████| 44/44 [00:02<00:00, 20.82it/s, Train Loss=3954.5061, Valid Loss=3955.5393, Valid R2=0.1864, Valid MAE=44.0379]\n",
      "Epoch 16: 100%|██████████| 44/44 [00:02<00:00, 20.75it/s, Train Loss=3911.9627, Valid Loss=4058.1294, Valid R2=0.1653, Valid MAE=46.6012]\n",
      "Epoch 17: 100%|██████████| 44/44 [00:02<00:00, 21.04it/s, Train Loss=3917.5744, Valid Loss=4335.2725, Valid R2=0.1083, Valid MAE=52.5735]\n",
      "Epoch 18: 100%|██████████| 44/44 [00:02<00:00, 20.85it/s, Train Loss=3696.5794, Valid Loss=3985.2129, Valid R2=0.1803, Valid MAE=48.8639]\n",
      "Epoch 19: 100%|██████████| 44/44 [00:02<00:00, 20.81it/s, Train Loss=3654.4269, Valid Loss=4111.4907, Valid R2=0.1544, Valid MAE=49.7449]\n",
      "Epoch 20: 100%|██████████| 44/44 [00:02<00:00, 20.84it/s, Train Loss=3467.7863, Valid Loss=3980.2700, Valid R2=0.1814, Valid MAE=47.6096]\n",
      "Epoch 21: 100%|██████████| 44/44 [00:02<00:00, 20.53it/s, Train Loss=3314.2668, Valid Loss=4230.1704, Valid R2=0.1300, Valid MAE=50.8981]\n"
     ]
    },
    {
     "name": "stdout",
     "output_type": "stream",
     "text": [
      "Early Stopped\n",
      "Setting  72 of Parameters Grid is now on progres.\n"
     ]
    },
    {
     "name": "stderr",
     "output_type": "stream",
     "text": [
      "Epoch  0: 100%|██████████| 44/44 [00:02<00:00, 20.69it/s, Train Loss=15243.0553, Valid Loss=12200.3477, Valid R2=-1.5093, Valid MAE=85.6638]\n",
      "Epoch  1: 100%|██████████| 44/44 [00:02<00:00, 20.98it/s, Train Loss=14104.0492, Valid Loss=10459.0322, Valid R2=-1.1512, Valid MAE=75.1176]\n",
      "Epoch  2: 100%|██████████| 44/44 [00:02<00:00, 20.82it/s, Train Loss=11249.5952, Valid Loss=6839.2104, Valid R2=-0.4067, Valid MAE=55.1137]\n",
      "Epoch  3: 100%|██████████| 44/44 [00:02<00:00, 20.24it/s, Train Loss=6659.4267, Valid Loss=5157.2114, Valid R2=-0.0607, Valid MAE=56.7497]\n",
      "Epoch  4: 100%|██████████| 44/44 [00:02<00:00, 20.40it/s, Train Loss=5941.9080, Valid Loss=4883.6313, Valid R2=-0.0044, Valid MAE=52.5413]\n",
      "Epoch  5: 100%|██████████| 44/44 [00:02<00:00, 21.43it/s, Train Loss=5808.1085, Valid Loss=4874.3862, Valid R2=-0.0025, Valid MAE=52.9192]\n",
      "Epoch  6: 100%|██████████| 44/44 [00:02<00:00, 20.04it/s, Train Loss=5745.5667, Valid Loss=4855.2661, Valid R2=0.0014, Valid MAE=53.2604]\n",
      "Epoch  7: 100%|██████████| 44/44 [00:02<00:00, 20.16it/s, Train Loss=5640.3627, Valid Loss=4683.8120, Valid R2=0.0366, Valid MAE=51.5517]\n",
      "Epoch  8: 100%|██████████| 44/44 [00:02<00:00, 20.73it/s, Train Loss=5386.0397, Valid Loss=4705.8882, Valid R2=0.0321, Valid MAE=51.7813]\n",
      "Epoch  9: 100%|██████████| 44/44 [00:02<00:00, 21.17it/s, Train Loss=5274.1323, Valid Loss=4451.0742, Valid R2=0.0845, Valid MAE=49.8243]\n",
      "Epoch 10: 100%|██████████| 44/44 [00:02<00:00, 21.02it/s, Train Loss=4861.7596, Valid Loss=4242.7812, Valid R2=0.1274, Valid MAE=50.4074]\n",
      "Epoch 11: 100%|██████████| 44/44 [00:02<00:00, 20.77it/s, Train Loss=4594.4549, Valid Loss=4221.6411, Valid R2=0.1317, Valid MAE=49.0119]\n",
      "Epoch 12: 100%|██████████| 44/44 [00:02<00:00, 20.89it/s, Train Loss=4473.0284, Valid Loss=3759.7246, Valid R2=0.2267, Valid MAE=46.8057]\n",
      "Epoch 13: 100%|██████████| 44/44 [00:02<00:00, 21.13it/s, Train Loss=3975.2797, Valid Loss=3941.3926, Valid R2=0.1893, Valid MAE=47.8599]\n",
      "Epoch 14: 100%|██████████| 44/44 [00:02<00:00, 20.98it/s, Train Loss=3728.4511, Valid Loss=3881.6426, Valid R2=0.2016, Valid MAE=45.1024]\n",
      "Epoch 15: 100%|██████████| 44/44 [00:02<00:00, 21.06it/s, Train Loss=3689.4019, Valid Loss=3874.3794, Valid R2=0.2031, Valid MAE=47.3499]\n",
      "Epoch 16: 100%|██████████| 44/44 [00:02<00:00, 21.03it/s, Train Loss=3373.7653, Valid Loss=3878.6438, Valid R2=0.2023, Valid MAE=48.9260]\n",
      "Epoch 17: 100%|██████████| 44/44 [00:02<00:00, 20.93it/s, Train Loss=3315.1581, Valid Loss=4517.2451, Valid R2=0.0709, Valid MAE=54.5934]\n",
      "Epoch 18: 100%|██████████| 44/44 [00:02<00:00, 20.82it/s, Train Loss=3220.7654, Valid Loss=4110.4468, Valid R2=0.1546, Valid MAE=47.3557]\n"
     ]
    },
    {
     "name": "stdout",
     "output_type": "stream",
     "text": [
      "Early Stopped\n",
      "Setting  73 of Parameters Grid is now on progres.\n"
     ]
    },
    {
     "name": "stderr",
     "output_type": "stream",
     "text": [
      "Epoch  0: 100%|██████████| 44/44 [00:02<00:00, 20.66it/s, Train Loss=15271.5147, Valid Loss=12096.2129, Valid R2=-1.4879, Valid MAE=85.0467]\n",
      "Epoch  1: 100%|██████████| 44/44 [00:02<00:00, 20.99it/s, Train Loss=13291.5484, Valid Loss=8632.8975, Valid R2=-0.7756, Valid MAE=64.2510]\n",
      "Epoch  2: 100%|██████████| 44/44 [00:02<00:00, 20.76it/s, Train Loss=7888.6463, Valid Loss=4865.8481, Valid R2=-0.0008, Valid MAE=51.6000]\n",
      "Epoch  3: 100%|██████████| 44/44 [00:02<00:00, 20.99it/s, Train Loss=5879.8647, Valid Loss=4909.1313, Valid R2=-0.0097, Valid MAE=53.1045]\n",
      "Epoch  4: 100%|██████████| 44/44 [00:02<00:00, 21.16it/s, Train Loss=5941.3267, Valid Loss=4898.0273, Valid R2=-0.0074, Valid MAE=52.8779]\n",
      "Epoch  5: 100%|██████████| 44/44 [00:02<00:00, 21.81it/s, Train Loss=5862.9698, Valid Loss=4934.3867, Valid R2=-0.0149, Valid MAE=53.8327]\n",
      "Epoch  6: 100%|██████████| 44/44 [00:02<00:00, 20.93it/s, Train Loss=5830.1096, Valid Loss=4871.0786, Valid R2=-0.0019, Valid MAE=52.8157]\n",
      "Epoch  7: 100%|██████████| 44/44 [00:02<00:00, 21.08it/s, Train Loss=5747.4375, Valid Loss=4929.0386, Valid R2=-0.0138, Valid MAE=54.5940]\n",
      "Epoch  8: 100%|██████████| 44/44 [00:02<00:00, 20.16it/s, Train Loss=5660.7633, Valid Loss=4770.1211, Valid R2=0.0189, Valid MAE=53.0693]\n",
      "Epoch  9: 100%|██████████| 44/44 [00:02<00:00, 20.38it/s, Train Loss=5600.1777, Valid Loss=4912.3521, Valid R2=-0.0104, Valid MAE=55.2912]\n",
      "Epoch 10: 100%|██████████| 44/44 [00:02<00:00, 20.47it/s, Train Loss=5486.7613, Valid Loss=4495.7495, Valid R2=0.0753, Valid MAE=51.0216]\n",
      "Epoch 11: 100%|██████████| 44/44 [00:02<00:00, 20.68it/s, Train Loss=5167.7664, Valid Loss=4365.6514, Valid R2=0.1021, Valid MAE=50.1854]\n",
      "Epoch 12: 100%|██████████| 44/44 [00:02<00:00, 20.93it/s, Train Loss=5046.9772, Valid Loss=4234.5894, Valid R2=0.1290, Valid MAE=47.4172]\n",
      "Epoch 13: 100%|██████████| 44/44 [00:02<00:00, 20.25it/s, Train Loss=4931.8984, Valid Loss=4236.1426, Valid R2=0.1287, Valid MAE=49.7449]\n",
      "Epoch 14: 100%|██████████| 44/44 [00:02<00:00, 21.74it/s, Train Loss=4756.3641, Valid Loss=4205.9575, Valid R2=0.1349, Valid MAE=47.7449]\n",
      "Epoch 15: 100%|██████████| 44/44 [00:01<00:00, 22.66it/s, Train Loss=4415.0174, Valid Loss=4471.8652, Valid R2=0.0802, Valid MAE=52.0388]\n",
      "Epoch 16: 100%|██████████| 44/44 [00:02<00:00, 20.48it/s, Train Loss=4283.1686, Valid Loss=3913.2512, Valid R2=0.1951, Valid MAE=45.8055]\n",
      "Epoch 17: 100%|██████████| 44/44 [00:02<00:00, 19.11it/s, Train Loss=4033.8379, Valid Loss=4474.1475, Valid R2=0.0798, Valid MAE=52.4961]\n",
      "Epoch 18: 100%|██████████| 44/44 [00:02<00:00, 20.07it/s, Train Loss=3897.7165, Valid Loss=4250.5459, Valid R2=0.1258, Valid MAE=47.9017]\n",
      "Epoch 19: 100%|██████████| 44/44 [00:02<00:00, 20.60it/s, Train Loss=3967.5783, Valid Loss=3950.1282, Valid R2=0.1876, Valid MAE=44.9840]\n",
      "Epoch 20: 100%|██████████| 44/44 [00:02<00:00, 21.00it/s, Train Loss=3819.2175, Valid Loss=4286.5532, Valid R2=0.1184, Valid MAE=48.7917]\n",
      "Epoch 21: 100%|██████████| 44/44 [00:02<00:00, 20.73it/s, Train Loss=3627.7603, Valid Loss=3764.3308, Valid R2=0.2258, Valid MAE=44.9109]\n",
      "Epoch 22: 100%|██████████| 44/44 [00:02<00:00, 20.64it/s, Train Loss=3664.0594, Valid Loss=4512.7881, Valid R2=0.0718, Valid MAE=50.6327]\n",
      "Epoch 23: 100%|██████████| 44/44 [00:02<00:00, 20.45it/s, Train Loss=3497.5141, Valid Loss=4057.3206, Valid R2=0.1655, Valid MAE=47.0827]\n",
      "Epoch 24: 100%|██████████| 44/44 [00:02<00:00, 19.99it/s, Train Loss=3194.5030, Valid Loss=4055.7185, Valid R2=0.1658, Valid MAE=47.1555]\n",
      "Epoch 25: 100%|██████████| 44/44 [00:02<00:00, 20.01it/s, Train Loss=2994.8261, Valid Loss=4157.5737, Valid R2=0.1449, Valid MAE=47.1325]\n",
      "Epoch 26: 100%|██████████| 44/44 [00:02<00:00, 20.80it/s, Train Loss=2964.2487, Valid Loss=3907.6069, Valid R2=0.1963, Valid MAE=46.0137]\n",
      "Epoch 27: 100%|██████████| 44/44 [00:02<00:00, 21.20it/s, Train Loss=2701.0798, Valid Loss=4127.7100, Valid R2=0.1510, Valid MAE=46.8209]\n"
     ]
    },
    {
     "name": "stdout",
     "output_type": "stream",
     "text": [
      "Early Stopped\n",
      "Setting  74 of Parameters Grid is now on progres.\n"
     ]
    },
    {
     "name": "stderr",
     "output_type": "stream",
     "text": [
      "Epoch  0: 100%|██████████| 44/44 [00:02<00:00, 20.46it/s, Train Loss=15174.5500, Valid Loss=11956.9824, Valid R2=-1.4593, Valid MAE=84.2307]\n",
      "Epoch  1: 100%|██████████| 44/44 [00:02<00:00, 21.25it/s, Train Loss=12762.6437, Valid Loss=7914.7925, Valid R2=-0.6279, Valid MAE=60.3976]\n",
      "Epoch  2: 100%|██████████| 44/44 [00:02<00:00, 20.36it/s, Train Loss=7409.4045, Valid Loss=4885.1060, Valid R2=-0.0048, Valid MAE=52.2429]\n",
      "Epoch  3: 100%|██████████| 44/44 [00:02<00:00, 19.09it/s, Train Loss=5800.2887, Valid Loss=4990.7261, Valid R2=-0.0265, Valid MAE=54.5488]\n",
      "Epoch  4: 100%|██████████| 44/44 [00:02<00:00, 19.83it/s, Train Loss=5855.9182, Valid Loss=4949.4263, Valid R2=-0.0180, Valid MAE=53.8568]\n",
      "Epoch  5: 100%|██████████| 44/44 [00:02<00:00, 19.73it/s, Train Loss=5832.3162, Valid Loss=4958.7144, Valid R2=-0.0199, Valid MAE=54.0415]\n",
      "Epoch  6: 100%|██████████| 44/44 [00:02<00:00, 19.27it/s, Train Loss=5795.9066, Valid Loss=4867.7637, Valid R2=-0.0012, Valid MAE=52.7498]\n",
      "Epoch  7: 100%|██████████| 44/44 [00:02<00:00, 20.32it/s, Train Loss=5852.5553, Valid Loss=4860.0820, Valid R2=0.0004, Valid MAE=52.8043]\n",
      "Epoch  8: 100%|██████████| 44/44 [00:02<00:00, 20.26it/s, Train Loss=5763.4444, Valid Loss=4817.8086, Valid R2=0.0091, Valid MAE=52.2328]\n",
      "Epoch  9: 100%|██████████| 44/44 [00:02<00:00, 20.78it/s, Train Loss=5726.2958, Valid Loss=4799.0830, Valid R2=0.0129, Valid MAE=53.4407]\n",
      "Epoch 10: 100%|██████████| 44/44 [00:02<00:00, 21.33it/s, Train Loss=5415.5387, Valid Loss=4752.3936, Valid R2=0.0225, Valid MAE=53.5830]\n",
      "Epoch 11: 100%|██████████| 44/44 [00:02<00:00, 20.88it/s, Train Loss=5137.9094, Valid Loss=4410.2031, Valid R2=0.0929, Valid MAE=52.2256]\n",
      "Epoch 12: 100%|██████████| 44/44 [00:02<00:00, 20.73it/s, Train Loss=4801.8916, Valid Loss=4588.8213, Valid R2=0.0562, Valid MAE=52.7315]\n",
      "Epoch 13: 100%|██████████| 44/44 [00:02<00:00, 20.83it/s, Train Loss=4595.4114, Valid Loss=4402.7754, Valid R2=0.0945, Valid MAE=52.2635]\n",
      "Epoch 14: 100%|██████████| 44/44 [00:02<00:00, 20.27it/s, Train Loss=4269.0274, Valid Loss=4229.3477, Valid R2=0.1301, Valid MAE=50.5576]\n",
      "Epoch 15: 100%|██████████| 44/44 [00:02<00:00, 20.38it/s, Train Loss=4117.4502, Valid Loss=4181.9233, Valid R2=0.1399, Valid MAE=50.7246]\n",
      "Epoch 16: 100%|██████████| 44/44 [00:02<00:00, 20.25it/s, Train Loss=3889.1548, Valid Loss=4280.6211, Valid R2=0.1196, Valid MAE=52.1656]\n",
      "Epoch 17: 100%|██████████| 44/44 [00:02<00:00, 21.00it/s, Train Loss=3865.0600, Valid Loss=4368.0840, Valid R2=0.1016, Valid MAE=52.9966]\n",
      "Epoch 18: 100%|██████████| 44/44 [00:02<00:00, 21.43it/s, Train Loss=3534.5374, Valid Loss=3770.5667, Valid R2=0.2245, Valid MAE=48.1550]\n",
      "Epoch 19: 100%|██████████| 44/44 [00:02<00:00, 21.28it/s, Train Loss=3616.4324, Valid Loss=3689.7908, Valid R2=0.2411, Valid MAE=47.4107]\n",
      "Epoch 20: 100%|██████████| 44/44 [00:02<00:00, 19.85it/s, Train Loss=3444.0386, Valid Loss=3776.4290, Valid R2=0.2233, Valid MAE=48.4265]\n",
      "Epoch 21: 100%|██████████| 44/44 [00:02<00:00, 20.64it/s, Train Loss=3670.2057, Valid Loss=3754.8154, Valid R2=0.2277, Valid MAE=49.6992]\n",
      "Epoch 22: 100%|██████████| 44/44 [00:02<00:00, 20.55it/s, Train Loss=3317.5520, Valid Loss=3278.5171, Valid R2=0.3257, Valid MAE=45.2414]\n",
      "Epoch 23: 100%|██████████| 44/44 [00:02<00:00, 20.66it/s, Train Loss=3374.1277, Valid Loss=3250.0059, Valid R2=0.3316, Valid MAE=44.0462]\n",
      "Epoch 24: 100%|██████████| 44/44 [00:02<00:00, 20.64it/s, Train Loss=3126.5815, Valid Loss=3087.8252, Valid R2=0.3649, Valid MAE=43.8431]\n",
      "Epoch 25: 100%|██████████| 44/44 [00:02<00:00, 21.52it/s, Train Loss=2971.0338, Valid Loss=3319.0981, Valid R2=0.3173, Valid MAE=45.1792]\n",
      "Epoch 26: 100%|██████████| 44/44 [00:02<00:00, 20.23it/s, Train Loss=2761.2296, Valid Loss=3376.7932, Valid R2=0.3055, Valid MAE=45.7903]\n",
      "Epoch 27: 100%|██████████| 44/44 [00:02<00:00, 21.08it/s, Train Loss=2665.9481, Valid Loss=3249.9604, Valid R2=0.3316, Valid MAE=43.4654]\n",
      "Epoch 28: 100%|██████████| 44/44 [00:02<00:00, 21.10it/s, Train Loss=2708.9478, Valid Loss=3306.9272, Valid R2=0.3198, Valid MAE=45.2761]\n",
      "Epoch 29: 100%|██████████| 44/44 [00:02<00:00, 20.25it/s, Train Loss=2591.2723, Valid Loss=3276.7769, Valid R2=0.3260, Valid MAE=44.7749]\n",
      "Epoch 30: 100%|██████████| 44/44 [00:02<00:00, 20.54it/s, Train Loss=2383.0592, Valid Loss=3113.1589, Valid R2=0.3597, Valid MAE=43.1537]\n"
     ]
    },
    {
     "name": "stdout",
     "output_type": "stream",
     "text": [
      "Early Stopped\n",
      "Setting  75 of Parameters Grid is now on progres.\n"
     ]
    },
    {
     "name": "stderr",
     "output_type": "stream",
     "text": [
      "Epoch  0: 100%|██████████| 44/44 [00:02<00:00, 20.90it/s, Train Loss=15248.1226, Valid Loss=12265.5557, Valid R2=-1.5227, Valid MAE=86.0461]\n",
      "Epoch  1: 100%|██████████| 44/44 [00:02<00:00, 20.96it/s, Train Loss=13834.1370, Valid Loss=9248.0742, Valid R2=-0.9021, Valid MAE=67.7352]\n",
      "Epoch  2: 100%|██████████| 44/44 [00:02<00:00, 21.68it/s, Train Loss=7825.8370, Valid Loss=5188.8154, Valid R2=-0.0672, Valid MAE=57.1029]\n",
      "Epoch  3: 100%|██████████| 44/44 [00:02<00:00, 21.65it/s, Train Loss=5894.3766, Valid Loss=4988.1030, Valid R2=-0.0259, Valid MAE=54.4520]\n",
      "Epoch  4: 100%|██████████| 44/44 [00:02<00:00, 20.74it/s, Train Loss=5847.6518, Valid Loss=4917.2671, Valid R2=-0.0114, Valid MAE=53.1314]\n",
      "Epoch  5: 100%|██████████| 44/44 [00:02<00:00, 20.79it/s, Train Loss=5809.0100, Valid Loss=4946.3784, Valid R2=-0.0174, Valid MAE=53.8047]\n",
      "Epoch  6: 100%|██████████| 44/44 [00:02<00:00, 20.78it/s, Train Loss=5905.1043, Valid Loss=4923.2090, Valid R2=-0.0126, Valid MAE=53.4007]\n",
      "Epoch  7: 100%|██████████| 44/44 [00:02<00:00, 20.42it/s, Train Loss=5805.0856, Valid Loss=4994.7837, Valid R2=-0.0273, Valid MAE=54.7268]\n",
      "Epoch  8: 100%|██████████| 44/44 [00:02<00:00, 20.61it/s, Train Loss=5824.2112, Valid Loss=4849.8213, Valid R2=0.0025, Valid MAE=51.7060]\n",
      "Epoch  9: 100%|██████████| 44/44 [00:02<00:00, 20.80it/s, Train Loss=5890.4289, Valid Loss=4870.4268, Valid R2=-0.0017, Valid MAE=52.7561]\n",
      "Epoch 10: 100%|██████████| 44/44 [00:02<00:00, 20.36it/s, Train Loss=5850.2485, Valid Loss=4884.5249, Valid R2=-0.0046, Valid MAE=52.9769]\n",
      "Epoch 11: 100%|██████████| 44/44 [00:02<00:00, 20.59it/s, Train Loss=5805.7309, Valid Loss=4860.5532, Valid R2=0.0003, Valid MAE=52.9088]\n",
      "Epoch 12: 100%|██████████| 44/44 [00:02<00:00, 20.11it/s, Train Loss=5727.0735, Valid Loss=4899.1362, Valid R2=-0.0076, Valid MAE=53.4933]\n",
      "Epoch 13: 100%|██████████| 44/44 [00:02<00:00, 20.86it/s, Train Loss=5854.1291, Valid Loss=4830.0215, Valid R2=0.0066, Valid MAE=52.5332]\n",
      "Epoch 14: 100%|██████████| 44/44 [00:02<00:00, 21.19it/s, Train Loss=5596.5708, Valid Loss=4962.0972, Valid R2=-0.0206, Valid MAE=55.1742]\n",
      "Epoch 15: 100%|██████████| 44/44 [00:02<00:00, 21.06it/s, Train Loss=5570.2191, Valid Loss=4832.7437, Valid R2=0.0060, Valid MAE=54.2105]\n",
      "Epoch 16: 100%|██████████| 44/44 [00:02<00:00, 21.08it/s, Train Loss=5339.2023, Valid Loss=4515.1553, Valid R2=0.0713, Valid MAE=49.7921]\n",
      "Epoch 17: 100%|██████████| 44/44 [00:02<00:00, 20.78it/s, Train Loss=5045.6017, Valid Loss=4440.0610, Valid R2=0.0868, Valid MAE=51.1568]\n",
      "Epoch 18: 100%|██████████| 44/44 [00:02<00:00, 20.70it/s, Train Loss=4696.4454, Valid Loss=4325.2139, Valid R2=0.1104, Valid MAE=47.9175]\n",
      "Epoch 19: 100%|██████████| 44/44 [00:02<00:00, 21.03it/s, Train Loss=4635.0375, Valid Loss=4229.4624, Valid R2=0.1301, Valid MAE=50.2587]\n",
      "Epoch 20: 100%|██████████| 44/44 [00:02<00:00, 19.97it/s, Train Loss=4198.6177, Valid Loss=3935.2834, Valid R2=0.1906, Valid MAE=48.2250]\n",
      "Epoch 21: 100%|██████████| 44/44 [00:02<00:00, 20.31it/s, Train Loss=4175.1242, Valid Loss=4331.4878, Valid R2=0.1091, Valid MAE=51.9284]\n",
      "Epoch 22: 100%|██████████| 44/44 [00:02<00:00, 21.08it/s, Train Loss=4027.4254, Valid Loss=3986.0229, Valid R2=0.1802, Valid MAE=45.7501]\n",
      "Epoch 23: 100%|██████████| 44/44 [00:02<00:00, 20.93it/s, Train Loss=4066.8219, Valid Loss=4141.8296, Valid R2=0.1481, Valid MAE=49.7045]\n",
      "Epoch 24: 100%|██████████| 44/44 [00:02<00:00, 20.74it/s, Train Loss=4043.9392, Valid Loss=3700.2419, Valid R2=0.2389, Valid MAE=48.1597]\n",
      "Epoch 25: 100%|██████████| 44/44 [00:02<00:00, 20.99it/s, Train Loss=3958.3207, Valid Loss=4004.5356, Valid R2=0.1764, Valid MAE=47.3375]\n",
      "Epoch 26: 100%|██████████| 44/44 [00:02<00:00, 20.84it/s, Train Loss=3720.3276, Valid Loss=3741.0935, Valid R2=0.2305, Valid MAE=44.5055]\n",
      "Epoch 27: 100%|██████████| 44/44 [00:02<00:00, 20.38it/s, Train Loss=3402.6851, Valid Loss=3622.5352, Valid R2=0.2549, Valid MAE=45.2346]\n",
      "Epoch 28: 100%|██████████| 44/44 [00:02<00:00, 20.83it/s, Train Loss=3269.3115, Valid Loss=4165.9639, Valid R2=0.1432, Valid MAE=48.8500]\n",
      "Epoch 29: 100%|██████████| 44/44 [00:02<00:00, 20.54it/s, Train Loss=3407.0528, Valid Loss=4469.7993, Valid R2=0.0807, Valid MAE=53.3689]\n",
      "Epoch 30: 100%|██████████| 44/44 [00:02<00:00, 21.11it/s, Train Loss=3350.1441, Valid Loss=3907.3333, Valid R2=0.1964, Valid MAE=46.7928]\n",
      "Epoch 31: 100%|██████████| 44/44 [00:02<00:00, 20.89it/s, Train Loss=3355.5563, Valid Loss=3913.5396, Valid R2=0.1951, Valid MAE=47.7118]\n",
      "Epoch 32: 100%|██████████| 44/44 [00:02<00:00, 20.72it/s, Train Loss=3008.2811, Valid Loss=4146.3384, Valid R2=0.1472, Valid MAE=48.8837]\n",
      "Epoch 33: 100%|██████████| 44/44 [00:02<00:00, 20.97it/s, Train Loss=3064.3055, Valid Loss=4139.2437, Valid R2=0.1487, Valid MAE=49.3761]\n"
     ]
    },
    {
     "name": "stdout",
     "output_type": "stream",
     "text": [
      "Early Stopped\n",
      "Setting  76 of Parameters Grid is now on progres.\n"
     ]
    },
    {
     "name": "stderr",
     "output_type": "stream",
     "text": [
      "Epoch  0: 100%|██████████| 44/44 [00:02<00:00, 20.96it/s, Train Loss=15200.9712, Valid Loss=11999.0244, Valid R2=-1.4679, Valid MAE=84.4820]\n",
      "Epoch  1: 100%|██████████| 44/44 [00:02<00:00, 20.78it/s, Train Loss=13992.5559, Valid Loss=10690.4980, Valid R2=-1.1988, Valid MAE=76.5321]\n",
      "Epoch  2: 100%|██████████| 44/44 [00:02<00:00, 19.69it/s, Train Loss=10877.2027, Valid Loss=5802.5884, Valid R2=-0.1935, Valid MAE=50.8233]\n",
      "Epoch  3: 100%|██████████| 44/44 [00:02<00:00, 19.25it/s, Train Loss=6065.1829, Valid Loss=4987.9048, Valid R2=-0.0259, Valid MAE=54.5501]\n",
      "Epoch  4: 100%|██████████| 44/44 [00:02<00:00, 18.71it/s, Train Loss=5877.0990, Valid Loss=4914.7939, Valid R2=-0.0109, Valid MAE=53.1465]\n",
      "Epoch  5: 100%|██████████| 44/44 [00:02<00:00, 19.91it/s, Train Loss=5836.1388, Valid Loss=4937.6177, Valid R2=-0.0156, Valid MAE=53.6621]\n",
      "Epoch  6: 100%|██████████| 44/44 [00:02<00:00, 21.29it/s, Train Loss=5909.2398, Valid Loss=4946.7300, Valid R2=-0.0174, Valid MAE=53.8385]\n",
      "Epoch  7: 100%|██████████| 44/44 [00:02<00:00, 21.14it/s, Train Loss=5864.1017, Valid Loss=4921.9990, Valid R2=-0.0123, Valid MAE=53.3400]\n",
      "Epoch  8: 100%|██████████| 44/44 [00:02<00:00, 20.97it/s, Train Loss=5845.8907, Valid Loss=4931.6611, Valid R2=-0.0143, Valid MAE=53.5246]\n",
      "Epoch  9: 100%|██████████| 44/44 [00:02<00:00, 20.89it/s, Train Loss=5918.9374, Valid Loss=4937.6431, Valid R2=-0.0156, Valid MAE=53.8601]\n",
      "Epoch 10: 100%|██████████| 44/44 [00:02<00:00, 20.24it/s, Train Loss=5757.6893, Valid Loss=4962.0464, Valid R2=-0.0206, Valid MAE=54.6024]\n"
     ]
    },
    {
     "name": "stdout",
     "output_type": "stream",
     "text": [
      "Early Stopped\n",
      "Setting  77 of Parameters Grid is now on progres.\n"
     ]
    },
    {
     "name": "stderr",
     "output_type": "stream",
     "text": [
      "Epoch  0: 100%|██████████| 44/44 [00:02<00:00, 20.60it/s, Train Loss=15183.2718, Valid Loss=11974.3740, Valid R2=-1.4628, Valid MAE=84.3338]\n",
      "Epoch  1: 100%|██████████| 44/44 [00:02<00:00, 21.17it/s, Train Loss=13429.4688, Valid Loss=9366.5820, Valid R2=-0.9265, Valid MAE=68.4959]\n",
      "Epoch  2: 100%|██████████| 44/44 [00:02<00:00, 20.82it/s, Train Loss=9251.3098, Valid Loss=5226.6436, Valid R2=-0.0750, Valid MAE=49.4841]\n",
      "Epoch  3: 100%|██████████| 44/44 [00:02<00:00, 20.83it/s, Train Loss=6072.2181, Valid Loss=4934.7837, Valid R2=-0.0150, Valid MAE=53.5946]\n",
      "Epoch  4: 100%|██████████| 44/44 [00:02<00:00, 20.91it/s, Train Loss=5840.7832, Valid Loss=4948.4272, Valid R2=-0.0178, Valid MAE=54.0261]\n",
      "Epoch  5: 100%|██████████| 44/44 [00:02<00:00, 20.14it/s, Train Loss=5814.4027, Valid Loss=4901.0508, Valid R2=-0.0080, Valid MAE=53.5939]\n",
      "Epoch  6: 100%|██████████| 44/44 [00:02<00:00, 20.11it/s, Train Loss=5790.2379, Valid Loss=4822.2437, Valid R2=0.0082, Valid MAE=51.7238]\n",
      "Epoch  7: 100%|██████████| 44/44 [00:02<00:00, 20.49it/s, Train Loss=5650.8735, Valid Loss=4816.2686, Valid R2=0.0094, Valid MAE=53.3231]\n",
      "Epoch  8: 100%|██████████| 44/44 [00:02<00:00, 20.34it/s, Train Loss=5520.4188, Valid Loss=4546.3813, Valid R2=0.0649, Valid MAE=50.3364]\n",
      "Epoch  9: 100%|██████████| 44/44 [00:02<00:00, 20.74it/s, Train Loss=5461.5384, Valid Loss=4694.1816, Valid R2=0.0345, Valid MAE=53.4670]\n",
      "Epoch 10: 100%|██████████| 44/44 [00:02<00:00, 20.95it/s, Train Loss=5013.9611, Valid Loss=4216.9062, Valid R2=0.1327, Valid MAE=49.5511]\n",
      "Epoch 11: 100%|██████████| 44/44 [00:02<00:00, 20.91it/s, Train Loss=4864.3429, Valid Loss=4297.4590, Valid R2=0.1161, Valid MAE=50.8791]\n",
      "Epoch 12: 100%|██████████| 44/44 [00:02<00:00, 20.19it/s, Train Loss=4492.4822, Valid Loss=4320.9272, Valid R2=0.1113, Valid MAE=52.1559]\n",
      "Epoch 13: 100%|██████████| 44/44 [00:02<00:00, 20.04it/s, Train Loss=4639.5557, Valid Loss=4367.3081, Valid R2=0.1017, Valid MAE=50.9090]\n",
      "Epoch 14: 100%|██████████| 44/44 [00:02<00:00, 20.99it/s, Train Loss=4463.9014, Valid Loss=4192.8237, Valid R2=0.1376, Valid MAE=48.9207]\n",
      "Epoch 15: 100%|██████████| 44/44 [00:02<00:00, 20.22it/s, Train Loss=4392.8341, Valid Loss=4234.1831, Valid R2=0.1291, Valid MAE=50.5347]\n",
      "Epoch 16: 100%|██████████| 44/44 [00:02<00:00, 20.54it/s, Train Loss=4409.7792, Valid Loss=4130.6162, Valid R2=0.1504, Valid MAE=49.5571]\n",
      "Epoch 17: 100%|██████████| 44/44 [00:02<00:00, 20.88it/s, Train Loss=3929.6816, Valid Loss=4111.1001, Valid R2=0.1544, Valid MAE=47.7906]\n",
      "Epoch 18: 100%|██████████| 44/44 [00:02<00:00, 20.78it/s, Train Loss=3852.2994, Valid Loss=4316.2827, Valid R2=0.1122, Valid MAE=50.6343]\n",
      "Epoch 19: 100%|██████████| 44/44 [00:02<00:00, 20.85it/s, Train Loss=3837.6965, Valid Loss=3996.7056, Valid R2=0.1780, Valid MAE=48.8051]\n",
      "Epoch 20: 100%|██████████| 44/44 [00:02<00:00, 20.56it/s, Train Loss=3688.5781, Valid Loss=4127.1426, Valid R2=0.1511, Valid MAE=49.0113]\n",
      "Epoch 21: 100%|██████████| 44/44 [00:02<00:00, 20.11it/s, Train Loss=3742.7460, Valid Loss=4000.2366, Valid R2=0.1772, Valid MAE=47.8141]\n",
      "Epoch 22: 100%|██████████| 44/44 [00:02<00:00, 20.11it/s, Train Loss=3545.7332, Valid Loss=4354.7266, Valid R2=0.1043, Valid MAE=51.2834]\n",
      "Epoch 23: 100%|██████████| 44/44 [00:02<00:00, 20.00it/s, Train Loss=3387.0411, Valid Loss=4482.5410, Valid R2=0.0780, Valid MAE=50.7164]\n",
      "Epoch 24: 100%|██████████| 44/44 [00:02<00:00, 20.01it/s, Train Loss=3321.9411, Valid Loss=4657.6787, Valid R2=0.0420, Valid MAE=54.6167]\n",
      "Epoch 25: 100%|██████████| 44/44 [00:02<00:00, 20.13it/s, Train Loss=3077.5832, Valid Loss=4362.6221, Valid R2=0.1027, Valid MAE=50.2664]\n"
     ]
    },
    {
     "name": "stdout",
     "output_type": "stream",
     "text": [
      "Early Stopped\n",
      "Setting  78 of Parameters Grid is now on progres.\n"
     ]
    },
    {
     "name": "stderr",
     "output_type": "stream",
     "text": [
      "Epoch  0: 100%|██████████| 44/44 [00:02<00:00, 20.37it/s, Train Loss=15175.5619, Valid Loss=11974.3584, Valid R2=-1.4628, Valid MAE=84.3360]\n",
      "Epoch  1: 100%|██████████| 44/44 [00:02<00:00, 20.10it/s, Train Loss=12996.3498, Valid Loss=8334.4375, Valid R2=-0.7142, Valid MAE=62.5712]\n",
      "Epoch  2: 100%|██████████| 44/44 [00:02<00:00, 20.51it/s, Train Loss=7383.3393, Valid Loss=5032.3555, Valid R2=-0.0350, Valid MAE=55.4231]\n",
      "Epoch  3: 100%|██████████| 44/44 [00:02<00:00, 19.95it/s, Train Loss=5830.0526, Valid Loss=4846.5547, Valid R2=0.0032, Valid MAE=52.0025]\n",
      "Epoch  4: 100%|██████████| 44/44 [00:02<00:00, 20.03it/s, Train Loss=5849.3662, Valid Loss=4843.7959, Valid R2=0.0037, Valid MAE=52.2250]\n",
      "Epoch  5: 100%|██████████| 44/44 [00:02<00:00, 20.03it/s, Train Loss=5767.9432, Valid Loss=4901.7490, Valid R2=-0.0082, Valid MAE=53.8220]\n",
      "Epoch  6: 100%|██████████| 44/44 [00:02<00:00, 20.88it/s, Train Loss=5739.4913, Valid Loss=4765.7812, Valid R2=0.0198, Valid MAE=50.9050]\n",
      "Epoch  7: 100%|██████████| 44/44 [00:02<00:00, 20.73it/s, Train Loss=5624.2622, Valid Loss=4620.3931, Valid R2=0.0497, Valid MAE=50.5378]\n",
      "Epoch  8: 100%|██████████| 44/44 [00:02<00:00, 20.70it/s, Train Loss=5316.3774, Valid Loss=4436.7461, Valid R2=0.0875, Valid MAE=51.0979]\n",
      "Epoch  9: 100%|██████████| 44/44 [00:02<00:00, 19.96it/s, Train Loss=5022.2468, Valid Loss=4364.5327, Valid R2=0.1023, Valid MAE=52.1889]\n",
      "Epoch 10: 100%|██████████| 44/44 [00:02<00:00, 19.97it/s, Train Loss=4598.4862, Valid Loss=4213.1064, Valid R2=0.1335, Valid MAE=51.3530]\n",
      "Epoch 11: 100%|██████████| 44/44 [00:02<00:00, 20.01it/s, Train Loss=4550.6320, Valid Loss=4489.0732, Valid R2=0.0767, Valid MAE=54.9865]\n",
      "Epoch 12: 100%|██████████| 44/44 [00:02<00:00, 20.09it/s, Train Loss=4110.9621, Valid Loss=3669.1997, Valid R2=0.2453, Valid MAE=44.7867]\n",
      "Epoch 13: 100%|██████████| 44/44 [00:02<00:00, 20.00it/s, Train Loss=3898.5716, Valid Loss=3575.2981, Valid R2=0.2646, Valid MAE=46.0534]\n",
      "Epoch 14: 100%|██████████| 44/44 [00:02<00:00, 20.09it/s, Train Loss=3896.6465, Valid Loss=3624.7844, Valid R2=0.2545, Valid MAE=45.5416]\n",
      "Epoch 15: 100%|██████████| 44/44 [00:02<00:00, 20.16it/s, Train Loss=3588.7436, Valid Loss=3851.0837, Valid R2=0.2079, Valid MAE=50.5004]\n",
      "Epoch 16: 100%|██████████| 44/44 [00:02<00:00, 21.04it/s, Train Loss=3620.1843, Valid Loss=3367.6238, Valid R2=0.3074, Valid MAE=46.1805]\n",
      "Epoch 17: 100%|██████████| 44/44 [00:02<00:00, 20.92it/s, Train Loss=3260.3813, Valid Loss=3294.9370, Valid R2=0.3223, Valid MAE=45.0975]\n",
      "Epoch 18: 100%|██████████| 44/44 [00:02<00:00, 20.95it/s, Train Loss=3107.6226, Valid Loss=3325.2168, Valid R2=0.3161, Valid MAE=45.5342]\n",
      "Epoch 19: 100%|██████████| 44/44 [00:02<00:00, 21.08it/s, Train Loss=2961.9089, Valid Loss=3238.8506, Valid R2=0.3338, Valid MAE=45.7434]\n",
      "Epoch 20: 100%|██████████| 44/44 [00:02<00:00, 20.33it/s, Train Loss=2897.2929, Valid Loss=2916.4932, Valid R2=0.4001, Valid MAE=42.5156]\n",
      "Epoch 21: 100%|██████████| 44/44 [00:02<00:00, 20.85it/s, Train Loss=2570.2344, Valid Loss=3029.9910, Valid R2=0.3768, Valid MAE=43.4440]\n",
      "Epoch 22: 100%|██████████| 44/44 [00:02<00:00, 20.97it/s, Train Loss=2551.8735, Valid Loss=3002.9866, Valid R2=0.3824, Valid MAE=43.0603]\n",
      "Epoch 23: 100%|██████████| 44/44 [00:02<00:00, 20.71it/s, Train Loss=2357.2347, Valid Loss=3397.9631, Valid R2=0.3011, Valid MAE=46.5893]\n",
      "Epoch 24: 100%|██████████| 44/44 [00:02<00:00, 21.01it/s, Train Loss=2122.1177, Valid Loss=3174.7295, Valid R2=0.3470, Valid MAE=43.7795]\n",
      "Epoch 25: 100%|██████████| 44/44 [00:02<00:00, 20.69it/s, Train Loss=1928.8915, Valid Loss=2460.8865, Valid R2=0.4939, Valid MAE=38.4344]\n",
      "Epoch 26: 100%|██████████| 44/44 [00:02<00:00, 21.07it/s, Train Loss=1848.4081, Valid Loss=2989.3132, Valid R2=0.3852, Valid MAE=42.1710]\n",
      "Epoch 27: 100%|██████████| 44/44 [00:02<00:00, 21.08it/s, Train Loss=1984.2573, Valid Loss=2358.0225, Valid R2=0.5150, Valid MAE=37.8295]\n",
      "Epoch 28: 100%|██████████| 44/44 [00:02<00:00, 20.85it/s, Train Loss=1827.0232, Valid Loss=2719.0381, Valid R2=0.4408, Valid MAE=40.6535]\n",
      "Epoch 29: 100%|██████████| 44/44 [00:02<00:00, 20.79it/s, Train Loss=1716.0546, Valid Loss=3169.3508, Valid R2=0.3481, Valid MAE=43.3456]\n",
      "Epoch 30: 100%|██████████| 44/44 [00:02<00:00, 21.09it/s, Train Loss=1569.1390, Valid Loss=2376.5667, Valid R2=0.5112, Valid MAE=37.1578]\n",
      "Epoch 31: 100%|██████████| 44/44 [00:02<00:00, 20.42it/s, Train Loss=1579.6662, Valid Loss=2480.5740, Valid R2=0.4898, Valid MAE=37.8158]\n",
      "Epoch 32: 100%|██████████| 44/44 [00:02<00:00, 21.00it/s, Train Loss=1473.1583, Valid Loss=2525.3945, Valid R2=0.4806, Valid MAE=37.2884]\n",
      "Epoch 33: 100%|██████████| 44/44 [00:02<00:00, 21.20it/s, Train Loss=1406.8957, Valid Loss=2808.6882, Valid R2=0.4223, Valid MAE=39.6741]\n"
     ]
    },
    {
     "name": "stdout",
     "output_type": "stream",
     "text": [
      "Early Stopped\n",
      "Setting  79 of Parameters Grid is now on progres.\n"
     ]
    },
    {
     "name": "stderr",
     "output_type": "stream",
     "text": [
      "Epoch  0: 100%|██████████| 44/44 [00:02<00:00, 21.16it/s, Train Loss=15007.9147, Valid Loss=11541.3682, Valid R2=-1.3738, Valid MAE=81.7399]\n",
      "Epoch  1: 100%|██████████| 44/44 [00:02<00:00, 20.89it/s, Train Loss=11805.7964, Valid Loss=6505.2661, Valid R2=-0.3380, Valid MAE=53.5917]\n",
      "Epoch  2: 100%|██████████| 44/44 [00:02<00:00, 21.88it/s, Train Loss=6383.0088, Valid Loss=5021.7441, Valid R2=-0.0329, Valid MAE=55.0864]\n",
      "Epoch  3: 100%|██████████| 44/44 [00:02<00:00, 20.89it/s, Train Loss=5903.6631, Valid Loss=4894.0088, Valid R2=-0.0066, Valid MAE=53.2248]\n",
      "Epoch  4: 100%|██████████| 44/44 [00:02<00:00, 20.88it/s, Train Loss=5776.5724, Valid Loss=4756.3306, Valid R2=0.0217, Valid MAE=51.9879]\n",
      "Epoch  5: 100%|██████████| 44/44 [00:02<00:00, 20.76it/s, Train Loss=5585.8916, Valid Loss=4673.6064, Valid R2=0.0387, Valid MAE=53.2778]\n",
      "Epoch  6: 100%|██████████| 44/44 [00:02<00:00, 20.77it/s, Train Loss=5252.8993, Valid Loss=4392.2808, Valid R2=0.0966, Valid MAE=49.6245]\n",
      "Epoch  7: 100%|██████████| 44/44 [00:02<00:00, 20.56it/s, Train Loss=4895.2582, Valid Loss=4161.8633, Valid R2=0.1440, Valid MAE=49.8534]\n",
      "Epoch  8: 100%|██████████| 44/44 [00:02<00:00, 20.68it/s, Train Loss=4455.6252, Valid Loss=3932.9746, Valid R2=0.1911, Valid MAE=45.8540]\n",
      "Epoch  9: 100%|██████████| 44/44 [00:02<00:00, 20.44it/s, Train Loss=4568.4546, Valid Loss=4216.5464, Valid R2=0.1328, Valid MAE=48.1490]\n",
      "Epoch 10: 100%|██████████| 44/44 [00:02<00:00, 20.58it/s, Train Loss=4222.4771, Valid Loss=3889.2422, Valid R2=0.2001, Valid MAE=46.1391]\n",
      "Epoch 11: 100%|██████████| 44/44 [00:02<00:00, 20.92it/s, Train Loss=3863.2080, Valid Loss=4201.2988, Valid R2=0.1359, Valid MAE=50.3609]\n",
      "Epoch 12: 100%|██████████| 44/44 [00:02<00:00, 20.88it/s, Train Loss=3675.1492, Valid Loss=4050.2390, Valid R2=0.1670, Valid MAE=48.3031]\n",
      "Epoch 13: 100%|██████████| 44/44 [00:02<00:00, 20.76it/s, Train Loss=3671.7791, Valid Loss=3799.3521, Valid R2=0.2186, Valid MAE=44.2348]\n",
      "Epoch 14: 100%|██████████| 44/44 [00:02<00:00, 20.34it/s, Train Loss=3476.9364, Valid Loss=4201.4321, Valid R2=0.1359, Valid MAE=50.5572]\n",
      "Epoch 15: 100%|██████████| 44/44 [00:02<00:00, 20.97it/s, Train Loss=3457.8972, Valid Loss=3715.9419, Valid R2=0.2357, Valid MAE=44.6369]\n",
      "Epoch 16: 100%|██████████| 44/44 [00:02<00:00, 20.67it/s, Train Loss=3096.9778, Valid Loss=3928.4722, Valid R2=0.1920, Valid MAE=46.5054]\n",
      "Epoch 17: 100%|██████████| 44/44 [00:02<00:00, 21.13it/s, Train Loss=3040.1637, Valid Loss=4034.2271, Valid R2=0.1703, Valid MAE=46.1030]\n",
      "Epoch 18: 100%|██████████| 44/44 [00:02<00:00, 21.17it/s, Train Loss=2797.2942, Valid Loss=4056.1226, Valid R2=0.1658, Valid MAE=49.0328]\n",
      "Epoch 19: 100%|██████████| 44/44 [00:02<00:00, 21.13it/s, Train Loss=2690.8942, Valid Loss=3885.5305, Valid R2=0.2008, Valid MAE=47.7033]\n",
      "Epoch 20: 100%|██████████| 44/44 [00:02<00:00, 21.17it/s, Train Loss=2894.2068, Valid Loss=4016.0273, Valid R2=0.1740, Valid MAE=48.1604]\n",
      "Epoch 21: 100%|██████████| 44/44 [00:02<00:00, 21.13it/s, Train Loss=2559.7063, Valid Loss=3964.8718, Valid R2=0.1845, Valid MAE=46.9586]\n"
     ]
    },
    {
     "name": "stdout",
     "output_type": "stream",
     "text": [
      "Early Stopped\n",
      "Setting  80 of Parameters Grid is now on progres.\n"
     ]
    },
    {
     "name": "stderr",
     "output_type": "stream",
     "text": [
      "Epoch  0: 100%|██████████| 44/44 [00:02<00:00, 20.01it/s, Train Loss=15028.1164, Valid Loss=11612.5840, Valid R2=-1.3884, Valid MAE=82.1751]\n",
      "Epoch  1: 100%|██████████| 44/44 [00:02<00:00, 20.40it/s, Train Loss=12253.0419, Valid Loss=7043.1436, Valid R2=-0.4486, Valid MAE=56.1213]\n",
      "Epoch  2: 100%|██████████| 44/44 [00:02<00:00, 20.86it/s, Train Loss=6488.9797, Valid Loss=5207.7461, Valid R2=-0.0711, Valid MAE=57.4410]\n",
      "Epoch  3: 100%|██████████| 44/44 [00:02<00:00, 20.95it/s, Train Loss=5880.1303, Valid Loss=4956.5635, Valid R2=-0.0194, Valid MAE=54.0747]\n",
      "Epoch  4: 100%|██████████| 44/44 [00:02<00:00, 20.72it/s, Train Loss=5846.5509, Valid Loss=4961.7905, Valid R2=-0.0205, Valid MAE=54.1727]\n",
      "Epoch  5: 100%|██████████| 44/44 [00:02<00:00, 20.61it/s, Train Loss=5760.3329, Valid Loss=4956.6748, Valid R2=-0.0195, Valid MAE=54.2924]\n",
      "Epoch  6: 100%|██████████| 44/44 [00:02<00:00, 20.87it/s, Train Loss=5771.9739, Valid Loss=4786.0791, Valid R2=0.0156, Valid MAE=51.3800]\n",
      "Epoch  7: 100%|██████████| 44/44 [00:02<00:00, 20.88it/s, Train Loss=5637.9233, Valid Loss=4579.2129, Valid R2=0.0582, Valid MAE=50.6415]\n",
      "Epoch  8: 100%|██████████| 44/44 [00:02<00:00, 20.85it/s, Train Loss=5533.0503, Valid Loss=4382.9082, Valid R2=0.0985, Valid MAE=49.4608]\n",
      "Epoch  9: 100%|██████████| 44/44 [00:02<00:00, 21.07it/s, Train Loss=5115.2631, Valid Loss=4412.8169, Valid R2=0.0924, Valid MAE=49.2712]\n",
      "Epoch 10: 100%|██████████| 44/44 [00:02<00:00, 20.76it/s, Train Loss=5047.5484, Valid Loss=4296.0342, Valid R2=0.1164, Valid MAE=51.6776]\n",
      "Epoch 11: 100%|██████████| 44/44 [00:02<00:00, 20.67it/s, Train Loss=4747.1324, Valid Loss=3970.9048, Valid R2=0.1833, Valid MAE=48.9144]\n",
      "Epoch 12: 100%|██████████| 44/44 [00:02<00:00, 20.81it/s, Train Loss=4505.7452, Valid Loss=4199.1147, Valid R2=0.1363, Valid MAE=51.2331]\n",
      "Epoch 13: 100%|██████████| 44/44 [00:02<00:00, 21.02it/s, Train Loss=4130.3313, Valid Loss=4100.9312, Valid R2=0.1565, Valid MAE=50.0689]\n",
      "Epoch 14: 100%|██████████| 44/44 [00:02<00:00, 21.24it/s, Train Loss=3978.1097, Valid Loss=3790.3003, Valid R2=0.2204, Valid MAE=47.5020]\n",
      "Epoch 15: 100%|██████████| 44/44 [00:02<00:00, 20.73it/s, Train Loss=3530.1653, Valid Loss=3667.0906, Valid R2=0.2458, Valid MAE=45.8983]\n",
      "Epoch 16: 100%|██████████| 44/44 [00:02<00:00, 20.97it/s, Train Loss=3454.7691, Valid Loss=4063.8606, Valid R2=0.1642, Valid MAE=50.3437]\n",
      "Epoch 17: 100%|██████████| 44/44 [00:02<00:00, 20.19it/s, Train Loss=3283.7567, Valid Loss=3822.5217, Valid R2=0.2138, Valid MAE=48.2939]\n",
      "Epoch 18: 100%|██████████| 44/44 [00:02<00:00, 19.91it/s, Train Loss=3039.6953, Valid Loss=3600.8828, Valid R2=0.2594, Valid MAE=46.0061]\n",
      "Epoch 19: 100%|██████████| 44/44 [00:02<00:00, 19.49it/s, Train Loss=2933.2855, Valid Loss=3674.8884, Valid R2=0.2442, Valid MAE=46.5730]\n",
      "Epoch 20: 100%|██████████| 44/44 [00:02<00:00, 20.67it/s, Train Loss=2785.1554, Valid Loss=5337.2476, Valid R2=-0.0977, Valid MAE=58.2574]\n",
      "Epoch 21: 100%|██████████| 44/44 [00:02<00:00, 20.85it/s, Train Loss=2751.5746, Valid Loss=4147.5771, Valid R2=0.1469, Valid MAE=49.8897]\n",
      "Epoch 22: 100%|██████████| 44/44 [00:02<00:00, 20.63it/s, Train Loss=2519.8691, Valid Loss=3808.8381, Valid R2=0.2166, Valid MAE=47.8269]\n",
      "Epoch 23: 100%|██████████| 44/44 [00:02<00:00, 20.05it/s, Train Loss=2520.0277, Valid Loss=4058.5405, Valid R2=0.1653, Valid MAE=50.1510]\n",
      "Epoch 24: 100%|██████████| 44/44 [00:02<00:00, 20.58it/s, Train Loss=2391.1230, Valid Loss=3835.1316, Valid R2=0.2112, Valid MAE=46.6520]\n"
     ]
    },
    {
     "name": "stdout",
     "output_type": "stream",
     "text": [
      "Early Stopped\n",
      "Setting  81 of Parameters Grid is now on progres.\n"
     ]
    },
    {
     "name": "stderr",
     "output_type": "stream",
     "text": [
      "Epoch  0: 100%|██████████| 44/44 [00:02<00:00, 21.01it/s, Train Loss=15180.1407, Valid Loss=11847.2725, Valid R2=-1.4367, Valid MAE=83.5744]\n",
      "Epoch  1: 100%|██████████| 44/44 [00:02<00:00, 20.43it/s, Train Loss=11908.6073, Valid Loss=6631.7661, Valid R2=-0.3640, Valid MAE=54.1305]\n",
      "Epoch  2: 100%|██████████| 44/44 [00:02<00:00, 20.01it/s, Train Loss=6499.2517, Valid Loss=5078.5874, Valid R2=-0.0445, Valid MAE=55.8116]\n",
      "Epoch  3: 100%|██████████| 44/44 [00:02<00:00, 21.02it/s, Train Loss=5933.7865, Valid Loss=4910.5859, Valid R2=-0.0100, Valid MAE=53.0521]\n",
      "Epoch  4: 100%|██████████| 44/44 [00:02<00:00, 18.95it/s, Train Loss=5919.8461, Valid Loss=4881.4390, Valid R2=-0.0040, Valid MAE=52.5079]\n",
      "Epoch  5: 100%|██████████| 44/44 [00:02<00:00, 20.37it/s, Train Loss=5751.7250, Valid Loss=4867.7305, Valid R2=-0.0012, Valid MAE=52.8879]\n",
      "Epoch  6: 100%|██████████| 44/44 [00:02<00:00, 20.69it/s, Train Loss=5827.5310, Valid Loss=4913.1382, Valid R2=-0.0105, Valid MAE=53.9485]\n",
      "Epoch  7: 100%|██████████| 44/44 [00:02<00:00, 20.72it/s, Train Loss=5574.8370, Valid Loss=4595.3359, Valid R2=0.0548, Valid MAE=51.2787]\n",
      "Epoch  8: 100%|██████████| 44/44 [00:02<00:00, 20.94it/s, Train Loss=5566.9185, Valid Loss=4810.8691, Valid R2=0.0105, Valid MAE=53.2523]\n",
      "Epoch  9: 100%|██████████| 44/44 [00:02<00:00, 20.93it/s, Train Loss=5256.5553, Valid Loss=4401.6138, Valid R2=0.0947, Valid MAE=50.0876]\n",
      "Epoch 10: 100%|██████████| 44/44 [00:02<00:00, 20.70it/s, Train Loss=4962.2913, Valid Loss=4355.9443, Valid R2=0.1041, Valid MAE=49.1842]\n",
      "Epoch 11: 100%|██████████| 44/44 [00:02<00:00, 20.53it/s, Train Loss=4718.0898, Valid Loss=4423.6182, Valid R2=0.0902, Valid MAE=50.0427]\n",
      "Epoch 12: 100%|██████████| 44/44 [00:02<00:00, 20.74it/s, Train Loss=4508.9241, Valid Loss=4028.9150, Valid R2=0.1713, Valid MAE=45.1805]\n",
      "Epoch 13: 100%|██████████| 44/44 [00:02<00:00, 20.69it/s, Train Loss=4338.5822, Valid Loss=4156.7661, Valid R2=0.1451, Valid MAE=44.5596]\n",
      "Epoch 14: 100%|██████████| 44/44 [00:02<00:00, 20.31it/s, Train Loss=4148.0067, Valid Loss=4049.0891, Valid R2=0.1672, Valid MAE=46.7974]\n",
      "Epoch 15: 100%|██████████| 44/44 [00:02<00:00, 20.08it/s, Train Loss=4006.8246, Valid Loss=4081.0110, Valid R2=0.1606, Valid MAE=48.3342]\n",
      "Epoch 16: 100%|██████████| 44/44 [00:02<00:00, 21.00it/s, Train Loss=3534.8310, Valid Loss=3732.7524, Valid R2=0.2323, Valid MAE=45.1709]\n",
      "Epoch 17: 100%|██████████| 44/44 [00:02<00:00, 20.08it/s, Train Loss=3177.0532, Valid Loss=3760.5371, Valid R2=0.2265, Valid MAE=44.2408]\n",
      "Epoch 18: 100%|██████████| 44/44 [00:02<00:00, 20.01it/s, Train Loss=3221.0766, Valid Loss=4092.9482, Valid R2=0.1582, Valid MAE=48.5015]\n",
      "Epoch 19: 100%|██████████| 44/44 [00:02<00:00, 20.08it/s, Train Loss=3085.5779, Valid Loss=3896.2317, Valid R2=0.1986, Valid MAE=47.6384]\n",
      "Epoch 20: 100%|██████████| 44/44 [00:02<00:00, 20.08it/s, Train Loss=3160.3242, Valid Loss=4030.0237, Valid R2=0.1711, Valid MAE=45.6860]\n",
      "Epoch 21: 100%|██████████| 44/44 [00:02<00:00, 20.16it/s, Train Loss=2896.2779, Valid Loss=4085.6201, Valid R2=0.1597, Valid MAE=47.6407]\n",
      "Epoch 22: 100%|██████████| 44/44 [00:02<00:00, 20.05it/s, Train Loss=2503.5359, Valid Loss=4269.0088, Valid R2=0.1220, Valid MAE=49.8247]\n"
     ]
    },
    {
     "name": "stdout",
     "output_type": "stream",
     "text": [
      "Early Stopped\n",
      "Setting  82 of Parameters Grid is now on progres.\n"
     ]
    },
    {
     "name": "stderr",
     "output_type": "stream",
     "text": [
      "Epoch  0: 100%|██████████| 44/44 [00:02<00:00, 20.24it/s, Train Loss=15062.5301, Valid Loss=11625.9385, Valid R2=-1.3912, Valid MAE=82.2430]\n",
      "Epoch  1: 100%|██████████| 44/44 [00:02<00:00, 21.01it/s, Train Loss=11965.5734, Valid Loss=6973.2305, Valid R2=-0.4342, Valid MAE=55.7484]\n",
      "Epoch  2: 100%|██████████| 44/44 [00:02<00:00, 21.31it/s, Train Loss=6859.4666, Valid Loss=4962.4448, Valid R2=-0.0207, Valid MAE=53.9993]\n",
      "Epoch  3: 100%|██████████| 44/44 [00:02<00:00, 20.93it/s, Train Loss=5883.0547, Valid Loss=4940.9531, Valid R2=-0.0162, Valid MAE=53.6205]\n",
      "Epoch  4: 100%|██████████| 44/44 [00:02<00:00, 20.74it/s, Train Loss=5838.4026, Valid Loss=4952.3569, Valid R2=-0.0186, Valid MAE=53.8770]\n",
      "Epoch  5: 100%|██████████| 44/44 [00:02<00:00, 20.54it/s, Train Loss=5814.7886, Valid Loss=4883.9233, Valid R2=-0.0045, Valid MAE=52.1513]\n",
      "Epoch  6: 100%|██████████| 44/44 [00:02<00:00, 20.97it/s, Train Loss=5881.9599, Valid Loss=4924.8462, Valid R2=-0.0129, Valid MAE=53.6268]\n",
      "Epoch  7: 100%|██████████| 44/44 [00:02<00:00, 20.58it/s, Train Loss=5817.9237, Valid Loss=4880.9224, Valid R2=-0.0039, Valid MAE=52.9671]\n",
      "Epoch  8: 100%|██████████| 44/44 [00:02<00:00, 20.85it/s, Train Loss=5631.7894, Valid Loss=4884.5000, Valid R2=-0.0046, Valid MAE=53.9608]\n",
      "Epoch  9: 100%|██████████| 44/44 [00:02<00:00, 20.97it/s, Train Loss=5404.9353, Valid Loss=4775.7339, Valid R2=0.0177, Valid MAE=52.8994]\n",
      "Epoch 10: 100%|██████████| 44/44 [00:02<00:00, 20.61it/s, Train Loss=5088.2314, Valid Loss=4262.3237, Valid R2=0.1233, Valid MAE=48.7452]\n",
      "Epoch 11: 100%|██████████| 44/44 [00:02<00:00, 21.10it/s, Train Loss=4595.9858, Valid Loss=4166.6045, Valid R2=0.1430, Valid MAE=49.6243]\n",
      "Epoch 12: 100%|██████████| 44/44 [00:02<00:00, 20.38it/s, Train Loss=4312.1556, Valid Loss=4271.9639, Valid R2=0.1214, Valid MAE=47.8258]\n",
      "Epoch 13: 100%|██████████| 44/44 [00:02<00:00, 18.95it/s, Train Loss=4828.2606, Valid Loss=4002.8591, Valid R2=0.1767, Valid MAE=46.6315]\n",
      "Epoch 14: 100%|██████████| 44/44 [00:02<00:00, 20.33it/s, Train Loss=4164.2167, Valid Loss=3899.0886, Valid R2=0.1980, Valid MAE=47.0388]\n",
      "Epoch 15: 100%|██████████| 44/44 [00:02<00:00, 18.91it/s, Train Loss=3975.2500, Valid Loss=4009.3210, Valid R2=0.1754, Valid MAE=46.7344]\n",
      "Epoch 16: 100%|██████████| 44/44 [00:02<00:00, 18.80it/s, Train Loss=3880.7298, Valid Loss=3463.1426, Valid R2=0.2877, Valid MAE=43.9880]\n",
      "Epoch 17: 100%|██████████| 44/44 [00:02<00:00, 19.32it/s, Train Loss=3787.5880, Valid Loss=3507.8599, Valid R2=0.2785, Valid MAE=45.1559]\n",
      "Epoch 18: 100%|██████████| 44/44 [00:02<00:00, 20.59it/s, Train Loss=3551.5481, Valid Loss=3468.2524, Valid R2=0.2867, Valid MAE=43.7601]\n",
      "Epoch 19: 100%|██████████| 44/44 [00:02<00:00, 20.66it/s, Train Loss=3426.7543, Valid Loss=3369.3918, Valid R2=0.3070, Valid MAE=43.8642]\n",
      "Epoch 20: 100%|██████████| 44/44 [00:02<00:00, 20.74it/s, Train Loss=3305.4105, Valid Loss=3328.4541, Valid R2=0.3154, Valid MAE=41.7608]\n",
      "Epoch 21: 100%|██████████| 44/44 [00:02<00:00, 20.78it/s, Train Loss=2960.8557, Valid Loss=3203.0349, Valid R2=0.3412, Valid MAE=42.2764]\n",
      "Epoch 22: 100%|██████████| 44/44 [00:02<00:00, 20.75it/s, Train Loss=2723.9846, Valid Loss=3240.7869, Valid R2=0.3334, Valid MAE=40.8167]\n",
      "Epoch 23: 100%|██████████| 44/44 [00:02<00:00, 21.03it/s, Train Loss=2618.0179, Valid Loss=3471.5120, Valid R2=0.2860, Valid MAE=42.3311]\n",
      "Epoch 24: 100%|██████████| 44/44 [00:02<00:00, 20.65it/s, Train Loss=2690.0967, Valid Loss=3333.9202, Valid R2=0.3143, Valid MAE=41.9729]\n",
      "Epoch 25: 100%|██████████| 44/44 [00:02<00:00, 20.03it/s, Train Loss=2368.9735, Valid Loss=3199.0935, Valid R2=0.3420, Valid MAE=41.3325]\n",
      "Epoch 26: 100%|██████████| 44/44 [00:02<00:00, 19.34it/s, Train Loss=2296.3922, Valid Loss=3285.7407, Valid R2=0.3242, Valid MAE=41.2410]\n",
      "Epoch 27: 100%|██████████| 44/44 [00:02<00:00, 19.64it/s, Train Loss=2228.2466, Valid Loss=3188.1838, Valid R2=0.3443, Valid MAE=40.7645]\n",
      "Epoch 28: 100%|██████████| 44/44 [00:02<00:00, 20.72it/s, Train Loss=2275.7839, Valid Loss=3255.3308, Valid R2=0.3305, Valid MAE=41.2800]\n",
      "Epoch 29: 100%|██████████| 44/44 [00:02<00:00, 20.81it/s, Train Loss=2335.8587, Valid Loss=3167.3662, Valid R2=0.3485, Valid MAE=40.4815]\n",
      "Epoch 30: 100%|██████████| 44/44 [00:02<00:00, 20.83it/s, Train Loss=2001.4666, Valid Loss=3121.1384, Valid R2=0.3581, Valid MAE=40.3086]\n",
      "Epoch 31: 100%|██████████| 44/44 [00:02<00:00, 20.85it/s, Train Loss=1847.5271, Valid Loss=3278.8809, Valid R2=0.3256, Valid MAE=41.4553]\n",
      "Epoch 32: 100%|██████████| 44/44 [00:02<00:00, 21.02it/s, Train Loss=1739.3447, Valid Loss=3385.3276, Valid R2=0.3037, Valid MAE=42.0326]\n",
      "Epoch 33: 100%|██████████| 44/44 [00:02<00:00, 21.10it/s, Train Loss=1785.5073, Valid Loss=3179.1030, Valid R2=0.3461, Valid MAE=41.3071]\n",
      "Epoch 34: 100%|██████████| 44/44 [00:02<00:00, 21.11it/s, Train Loss=1689.7232, Valid Loss=3202.6414, Valid R2=0.3413, Valid MAE=41.3771]\n",
      "Epoch 35: 100%|██████████| 44/44 [00:02<00:00, 20.72it/s, Train Loss=1816.8798, Valid Loss=3115.3438, Valid R2=0.3592, Valid MAE=40.3618]\n",
      "Epoch 36: 100%|██████████| 44/44 [00:02<00:00, 20.95it/s, Train Loss=1587.7894, Valid Loss=3242.9714, Valid R2=0.3330, Valid MAE=42.2227]\n",
      "Epoch 37: 100%|██████████| 44/44 [00:02<00:00, 21.29it/s, Train Loss=1497.6870, Valid Loss=3477.3120, Valid R2=0.2848, Valid MAE=43.6262]\n",
      "Epoch 38: 100%|██████████| 44/44 [00:02<00:00, 21.03it/s, Train Loss=1421.2854, Valid Loss=3209.4465, Valid R2=0.3399, Valid MAE=41.2914]\n",
      "Epoch 39: 100%|██████████| 44/44 [00:02<00:00, 20.72it/s, Train Loss=1265.9398, Valid Loss=2974.6992, Valid R2=0.3882, Valid MAE=39.7967]\n",
      "Epoch 40: 100%|██████████| 44/44 [00:02<00:00, 20.90it/s, Train Loss=1315.8366, Valid Loss=3058.2166, Valid R2=0.3710, Valid MAE=39.7308]\n",
      "Epoch 41: 100%|██████████| 44/44 [00:02<00:00, 20.54it/s, Train Loss=1361.0434, Valid Loss=3177.7739, Valid R2=0.3464, Valid MAE=41.0831]\n",
      "Epoch 42: 100%|██████████| 44/44 [00:02<00:00, 21.20it/s, Train Loss=1406.8523, Valid Loss=3155.5266, Valid R2=0.3510, Valid MAE=40.0983]\n",
      "Epoch 43: 100%|██████████| 44/44 [00:02<00:00, 20.95it/s, Train Loss=1433.3654, Valid Loss=3134.7639, Valid R2=0.3553, Valid MAE=40.3537]\n",
      "Epoch 44: 100%|██████████| 44/44 [00:02<00:00, 20.80it/s, Train Loss=1265.4393, Valid Loss=3135.9343, Valid R2=0.3550, Valid MAE=40.1172]\n",
      "Epoch 45: 100%|██████████| 44/44 [00:02<00:00, 20.81it/s, Train Loss=1207.2631, Valid Loss=3035.5344, Valid R2=0.3757, Valid MAE=39.6561]\n"
     ]
    },
    {
     "name": "stdout",
     "output_type": "stream",
     "text": [
      "Early Stopped\n",
      "Setting  83 of Parameters Grid is now on progres.\n"
     ]
    },
    {
     "name": "stderr",
     "output_type": "stream",
     "text": [
      "Epoch  0: 100%|██████████| 44/44 [00:02<00:00, 20.04it/s, Train Loss=15230.9110, Valid Loss=12109.8574, Valid R2=-1.4907, Valid MAE=85.1343]\n",
      "Epoch  1: 100%|██████████| 44/44 [00:02<00:00, 20.88it/s, Train Loss=12926.0608, Valid Loss=7729.7583, Valid R2=-0.5898, Valid MAE=59.4631]\n",
      "Epoch  2: 100%|██████████| 44/44 [00:02<00:00, 21.17it/s, Train Loss=7080.0916, Valid Loss=5036.9419, Valid R2=-0.0360, Valid MAE=55.1483]\n",
      "Epoch  3: 100%|██████████| 44/44 [00:01<00:00, 22.09it/s, Train Loss=5862.6457, Valid Loss=4944.0186, Valid R2=-0.0169, Valid MAE=53.6347]\n",
      "Epoch  4: 100%|██████████| 44/44 [00:02<00:00, 21.37it/s, Train Loss=5879.6271, Valid Loss=5040.2661, Valid R2=-0.0367, Valid MAE=55.2728]\n",
      "Epoch  5: 100%|██████████| 44/44 [00:01<00:00, 22.24it/s, Train Loss=5816.3340, Valid Loss=4899.2559, Valid R2=-0.0077, Valid MAE=52.9683]\n",
      "Epoch  6: 100%|██████████| 44/44 [00:02<00:00, 21.92it/s, Train Loss=5662.4467, Valid Loss=5073.5176, Valid R2=-0.0435, Valid MAE=56.0364]\n",
      "Epoch  7: 100%|██████████| 44/44 [00:02<00:00, 20.58it/s, Train Loss=5574.7712, Valid Loss=4865.4336, Valid R2=-0.0007, Valid MAE=53.5222]\n",
      "Epoch  8: 100%|██████████| 44/44 [00:02<00:00, 20.97it/s, Train Loss=5437.7183, Valid Loss=5402.6963, Valid R2=-0.1112, Valid MAE=60.2519]\n",
      "Epoch  9: 100%|██████████| 44/44 [00:02<00:00, 21.14it/s, Train Loss=5344.4220, Valid Loss=4744.6909, Valid R2=0.0241, Valid MAE=52.6472]\n",
      "Epoch 10: 100%|██████████| 44/44 [00:02<00:00, 20.77it/s, Train Loss=5010.4148, Valid Loss=4597.4111, Valid R2=0.0544, Valid MAE=49.8646]\n",
      "Epoch 11: 100%|██████████| 44/44 [00:02<00:00, 20.22it/s, Train Loss=4872.1053, Valid Loss=4479.8672, Valid R2=0.0786, Valid MAE=48.1411]\n",
      "Epoch 12: 100%|██████████| 44/44 [00:02<00:00, 19.71it/s, Train Loss=4458.5498, Valid Loss=4565.2837, Valid R2=0.0610, Valid MAE=53.8111]\n",
      "Epoch 13: 100%|██████████| 44/44 [00:02<00:00, 19.74it/s, Train Loss=4267.0063, Valid Loss=4618.6035, Valid R2=0.0501, Valid MAE=48.3947]\n",
      "Epoch 14: 100%|██████████| 44/44 [00:02<00:00, 20.76it/s, Train Loss=3948.8699, Valid Loss=4423.2314, Valid R2=0.0902, Valid MAE=50.7271]\n",
      "Epoch 15: 100%|██████████| 44/44 [00:02<00:00, 20.80it/s, Train Loss=3678.6397, Valid Loss=4660.3076, Valid R2=0.0415, Valid MAE=52.1769]\n",
      "Epoch 16: 100%|██████████| 44/44 [00:02<00:00, 20.89it/s, Train Loss=3589.1639, Valid Loss=4171.5791, Valid R2=0.1420, Valid MAE=49.1584]\n",
      "Epoch 17: 100%|██████████| 44/44 [00:02<00:00, 20.90it/s, Train Loss=3444.5568, Valid Loss=4324.4902, Valid R2=0.1106, Valid MAE=48.4076]\n",
      "Epoch 18: 100%|██████████| 44/44 [00:02<00:00, 21.07it/s, Train Loss=3403.5724, Valid Loss=4061.2397, Valid R2=0.1647, Valid MAE=47.2402]\n",
      "Epoch 19: 100%|██████████| 44/44 [00:02<00:00, 20.72it/s, Train Loss=3517.5578, Valid Loss=3969.7131, Valid R2=0.1835, Valid MAE=45.3311]\n",
      "Epoch 20: 100%|██████████| 44/44 [00:02<00:00, 20.80it/s, Train Loss=3669.1398, Valid Loss=4295.4897, Valid R2=0.1165, Valid MAE=48.9652]\n",
      "Epoch 21: 100%|██████████| 44/44 [00:02<00:00, 20.93it/s, Train Loss=3432.7607, Valid Loss=5051.7764, Valid R2=-0.0390, Valid MAE=55.7169]\n",
      "Epoch 22: 100%|██████████| 44/44 [00:02<00:00, 19.91it/s, Train Loss=3307.1016, Valid Loss=4615.5640, Valid R2=0.0507, Valid MAE=51.7113]\n",
      "Epoch 23: 100%|██████████| 44/44 [00:02<00:00, 20.29it/s, Train Loss=3036.1210, Valid Loss=4587.3628, Valid R2=0.0565, Valid MAE=50.7420]\n",
      "Epoch 24: 100%|██████████| 44/44 [00:02<00:00, 19.49it/s, Train Loss=2756.9339, Valid Loss=4689.3218, Valid R2=0.0355, Valid MAE=52.2821]\n",
      "Epoch 25: 100%|██████████| 44/44 [00:02<00:00, 20.81it/s, Train Loss=2757.1193, Valid Loss=4199.0752, Valid R2=0.1363, Valid MAE=48.3914]\n"
     ]
    },
    {
     "name": "stdout",
     "output_type": "stream",
     "text": [
      "Early Stopped\n",
      "Setting  84 of Parameters Grid is now on progres.\n"
     ]
    },
    {
     "name": "stderr",
     "output_type": "stream",
     "text": [
      "Epoch  0: 100%|██████████| 44/44 [00:02<00:00, 20.62it/s, Train Loss=15154.1008, Valid Loss=11754.1074, Valid R2=-1.4175, Valid MAE=82.9962]\n",
      "Epoch  1: 100%|██████████| 44/44 [00:02<00:00, 20.26it/s, Train Loss=11075.2161, Valid Loss=5520.8081, Valid R2=-0.1355, Valid MAE=49.9643]\n",
      "Epoch  2: 100%|██████████| 44/44 [00:02<00:00, 20.81it/s, Train Loss=6031.2149, Valid Loss=4984.9844, Valid R2=-0.0253, Valid MAE=54.3268]\n",
      "Epoch  3: 100%|██████████| 44/44 [00:02<00:00, 21.11it/s, Train Loss=5853.3304, Valid Loss=4916.1416, Valid R2=-0.0111, Valid MAE=52.9816]\n",
      "Epoch  4: 100%|██████████| 44/44 [00:02<00:00, 20.55it/s, Train Loss=5956.7409, Valid Loss=4982.8887, Valid R2=-0.0249, Valid MAE=54.3578]\n",
      "Epoch  5: 100%|██████████| 44/44 [00:02<00:00, 19.97it/s, Train Loss=5890.0591, Valid Loss=4929.1470, Valid R2=-0.0138, Valid MAE=53.3734]\n",
      "Epoch  6: 100%|██████████| 44/44 [00:02<00:00, 19.24it/s, Train Loss=5772.2854, Valid Loss=4895.3086, Valid R2=-0.0069, Valid MAE=52.7558]\n",
      "Epoch  7: 100%|██████████| 44/44 [00:02<00:00, 20.36it/s, Train Loss=5893.8164, Valid Loss=4904.3198, Valid R2=-0.0087, Valid MAE=53.2882]\n",
      "Epoch  8: 100%|██████████| 44/44 [00:02<00:00, 19.36it/s, Train Loss=5811.9254, Valid Loss=5024.0654, Valid R2=-0.0333, Valid MAE=55.1644]\n",
      "Epoch  9: 100%|██████████| 44/44 [00:02<00:00, 20.34it/s, Train Loss=5848.0714, Valid Loss=4816.3496, Valid R2=0.0094, Valid MAE=50.4971]\n",
      "Epoch 10: 100%|██████████| 44/44 [00:02<00:00, 20.64it/s, Train Loss=5972.6112, Valid Loss=4857.9414, Valid R2=0.0008, Valid MAE=51.0582]\n",
      "Epoch 11: 100%|██████████| 44/44 [00:02<00:00, 21.78it/s, Train Loss=5846.2138, Valid Loss=4903.3379, Valid R2=-0.0085, Valid MAE=52.4600]\n",
      "Epoch 12: 100%|██████████| 44/44 [00:02<00:00, 20.34it/s, Train Loss=5699.3299, Valid Loss=4961.2939, Valid R2=-0.0204, Valid MAE=53.5430]\n",
      "Epoch 13: 100%|██████████| 44/44 [00:02<00:00, 21.11it/s, Train Loss=5648.3462, Valid Loss=4982.0039, Valid R2=-0.0247, Valid MAE=54.1542]\n",
      "Epoch 14: 100%|██████████| 44/44 [00:02<00:00, 21.02it/s, Train Loss=5746.5754, Valid Loss=4964.0938, Valid R2=-0.0210, Valid MAE=55.1219]\n",
      "Epoch 15: 100%|██████████| 44/44 [00:02<00:00, 20.84it/s, Train Loss=5586.4664, Valid Loss=4829.0850, Valid R2=0.0068, Valid MAE=50.4444]\n"
     ]
    },
    {
     "name": "stdout",
     "output_type": "stream",
     "text": [
      "Early Stopped\n",
      "Setting  85 of Parameters Grid is now on progres.\n"
     ]
    },
    {
     "name": "stderr",
     "output_type": "stream",
     "text": [
      "Epoch  0: 100%|██████████| 44/44 [00:02<00:00, 20.81it/s, Train Loss=15048.7188, Valid Loss=11698.8623, Valid R2=-1.4062, Valid MAE=82.6853]\n",
      "Epoch  1: 100%|██████████| 44/44 [00:02<00:00, 20.38it/s, Train Loss=13063.7136, Valid Loss=9124.0762, Valid R2=-0.8766, Valid MAE=67.0477]\n",
      "Epoch  2: 100%|██████████| 44/44 [00:02<00:00, 19.99it/s, Train Loss=9375.0384, Valid Loss=5550.1406, Valid R2=-0.1415, Valid MAE=50.0410]\n",
      "Epoch  3: 100%|██████████| 44/44 [00:02<00:00, 20.78it/s, Train Loss=6134.0550, Valid Loss=4996.8384, Valid R2=-0.0277, Valid MAE=54.7007]\n",
      "Epoch  4: 100%|██████████| 44/44 [00:02<00:00, 20.97it/s, Train Loss=5846.1260, Valid Loss=4915.5903, Valid R2=-0.0110, Valid MAE=53.0478]\n",
      "Epoch  5: 100%|██████████| 44/44 [00:02<00:00, 21.68it/s, Train Loss=5917.3956, Valid Loss=4876.5938, Valid R2=-0.0030, Valid MAE=53.0279]\n",
      "Epoch  6: 100%|██████████| 44/44 [00:02<00:00, 21.20it/s, Train Loss=5811.5483, Valid Loss=4691.6543, Valid R2=0.0350, Valid MAE=52.0039]\n",
      "Epoch  7: 100%|██████████| 44/44 [00:02<00:00, 21.02it/s, Train Loss=5517.4987, Valid Loss=4461.6670, Valid R2=0.0823, Valid MAE=51.6815]\n",
      "Epoch  8: 100%|██████████| 44/44 [00:02<00:00, 20.87it/s, Train Loss=4986.9732, Valid Loss=4130.4985, Valid R2=0.1505, Valid MAE=49.3299]\n",
      "Epoch  9: 100%|██████████| 44/44 [00:02<00:00, 20.53it/s, Train Loss=4469.2899, Valid Loss=4365.3921, Valid R2=0.1021, Valid MAE=51.5651]\n",
      "Epoch 10: 100%|██████████| 44/44 [00:02<00:00, 20.86it/s, Train Loss=4434.7478, Valid Loss=4425.7803, Valid R2=0.0897, Valid MAE=51.9653]\n",
      "Epoch 11: 100%|██████████| 44/44 [00:02<00:00, 21.87it/s, Train Loss=3969.8878, Valid Loss=4153.4937, Valid R2=0.1457, Valid MAE=49.3296]\n",
      "Epoch 12: 100%|██████████| 44/44 [00:02<00:00, 20.82it/s, Train Loss=3842.2319, Valid Loss=4150.9766, Valid R2=0.1462, Valid MAE=50.0090]\n",
      "Epoch 13: 100%|██████████| 44/44 [00:02<00:00, 20.96it/s, Train Loss=3537.9583, Valid Loss=4160.8462, Valid R2=0.1442, Valid MAE=49.5884]\n",
      "Epoch 14: 100%|██████████| 44/44 [00:02<00:00, 20.23it/s, Train Loss=3278.8988, Valid Loss=4226.1860, Valid R2=0.1308, Valid MAE=48.3656]\n"
     ]
    },
    {
     "name": "stdout",
     "output_type": "stream",
     "text": [
      "Early Stopped\n",
      "Setting  86 of Parameters Grid is now on progres.\n"
     ]
    },
    {
     "name": "stderr",
     "output_type": "stream",
     "text": [
      "Epoch  0: 100%|██████████| 44/44 [00:02<00:00, 20.79it/s, Train Loss=15148.8413, Valid Loss=11971.4385, Valid R2=-1.4622, Valid MAE=84.3156]\n",
      "Epoch  1: 100%|██████████| 44/44 [00:02<00:00, 20.69it/s, Train Loss=12980.8474, Valid Loss=8139.6362, Valid R2=-0.6741, Valid MAE=61.5567]\n",
      "Epoch  2: 100%|██████████| 44/44 [00:02<00:00, 20.35it/s, Train Loss=7362.8717, Valid Loss=5023.5913, Valid R2=-0.0332, Valid MAE=55.0806]\n",
      "Epoch  3: 100%|██████████| 44/44 [00:02<00:00, 19.86it/s, Train Loss=5871.9756, Valid Loss=4913.9062, Valid R2=-0.0107, Valid MAE=53.1814]\n",
      "Epoch  4: 100%|██████████| 44/44 [00:02<00:00, 19.24it/s, Train Loss=5870.0307, Valid Loss=4937.1279, Valid R2=-0.0155, Valid MAE=53.7648]\n",
      "Epoch  5: 100%|██████████| 44/44 [00:02<00:00, 20.02it/s, Train Loss=5805.5631, Valid Loss=4923.7856, Valid R2=-0.0127, Valid MAE=53.5183]\n",
      "Epoch  6: 100%|██████████| 44/44 [00:02<00:00, 19.87it/s, Train Loss=5831.0931, Valid Loss=4923.8989, Valid R2=-0.0127, Valid MAE=53.6481]\n",
      "Epoch  7: 100%|██████████| 44/44 [00:02<00:00, 19.69it/s, Train Loss=5812.9982, Valid Loss=4884.4844, Valid R2=-0.0046, Valid MAE=53.1750]\n",
      "Epoch  8: 100%|██████████| 44/44 [00:02<00:00, 20.31it/s, Train Loss=5760.0096, Valid Loss=4881.5859, Valid R2=-0.0040, Valid MAE=53.4262]\n",
      "Epoch  9: 100%|██████████| 44/44 [00:02<00:00, 20.27it/s, Train Loss=5748.6549, Valid Loss=4887.0361, Valid R2=-0.0051, Valid MAE=54.2156]\n",
      "Epoch 10: 100%|██████████| 44/44 [00:02<00:00, 19.97it/s, Train Loss=5563.5653, Valid Loss=4827.3564, Valid R2=0.0071, Valid MAE=53.3338]\n",
      "Epoch 11: 100%|██████████| 44/44 [00:02<00:00, 20.62it/s, Train Loss=5512.2204, Valid Loss=4747.8970, Valid R2=0.0235, Valid MAE=52.6558]\n",
      "Epoch 12: 100%|██████████| 44/44 [00:02<00:00, 20.26it/s, Train Loss=5291.9405, Valid Loss=4444.3711, Valid R2=0.0859, Valid MAE=50.4812]\n",
      "Epoch 13: 100%|██████████| 44/44 [00:02<00:00, 19.73it/s, Train Loss=4946.5782, Valid Loss=4221.5376, Valid R2=0.1317, Valid MAE=50.7642]\n",
      "Epoch 14: 100%|██████████| 44/44 [00:02<00:00, 20.33it/s, Train Loss=4660.1810, Valid Loss=4310.9287, Valid R2=0.1133, Valid MAE=51.0744]\n",
      "Epoch 15: 100%|██████████| 44/44 [00:02<00:00, 20.21it/s, Train Loss=4367.2519, Valid Loss=3987.0200, Valid R2=0.1800, Valid MAE=47.9086]\n",
      "Epoch 16: 100%|██████████| 44/44 [00:02<00:00, 20.70it/s, Train Loss=4126.6815, Valid Loss=4154.7964, Valid R2=0.1455, Valid MAE=47.9327]\n",
      "Epoch 17: 100%|██████████| 44/44 [00:02<00:00, 20.45it/s, Train Loss=4043.4200, Valid Loss=3699.3894, Valid R2=0.2391, Valid MAE=45.7268]\n",
      "Epoch 18: 100%|██████████| 44/44 [00:02<00:00, 19.66it/s, Train Loss=3897.6829, Valid Loss=4614.9785, Valid R2=0.0508, Valid MAE=55.3580]\n",
      "Epoch 19: 100%|██████████| 44/44 [00:02<00:00, 20.35it/s, Train Loss=3567.7025, Valid Loss=3714.8950, Valid R2=0.2359, Valid MAE=46.4185]\n",
      "Epoch 20: 100%|██████████| 44/44 [00:02<00:00, 21.42it/s, Train Loss=3703.1404, Valid Loss=3924.8398, Valid R2=0.1928, Valid MAE=48.2587]\n",
      "Epoch 21: 100%|██████████| 44/44 [00:02<00:00, 20.42it/s, Train Loss=3594.3862, Valid Loss=3640.8113, Valid R2=0.2512, Valid MAE=45.5563]\n",
      "Epoch 22: 100%|██████████| 44/44 [00:02<00:00, 20.37it/s, Train Loss=3144.7772, Valid Loss=3691.4453, Valid R2=0.2408, Valid MAE=47.3302]\n",
      "Epoch 23: 100%|██████████| 44/44 [00:02<00:00, 20.82it/s, Train Loss=3005.6329, Valid Loss=3827.8745, Valid R2=0.2127, Valid MAE=48.9789]\n",
      "Epoch 24: 100%|██████████| 44/44 [00:02<00:00, 20.89it/s, Train Loss=3024.5774, Valid Loss=3785.3857, Valid R2=0.2214, Valid MAE=46.6893]\n",
      "Epoch 25: 100%|██████████| 44/44 [00:02<00:00, 21.02it/s, Train Loss=2841.4844, Valid Loss=3639.4260, Valid R2=0.2515, Valid MAE=44.5094]\n",
      "Epoch 26: 100%|██████████| 44/44 [00:02<00:00, 20.69it/s, Train Loss=2829.5697, Valid Loss=3438.2361, Valid R2=0.2928, Valid MAE=44.5057]\n",
      "Epoch 27: 100%|██████████| 44/44 [00:02<00:00, 20.61it/s, Train Loss=2595.3017, Valid Loss=3649.0532, Valid R2=0.2495, Valid MAE=46.6626]\n",
      "Epoch 28: 100%|██████████| 44/44 [00:02<00:00, 20.62it/s, Train Loss=2492.9067, Valid Loss=4199.0762, Valid R2=0.1363, Valid MAE=48.9476]\n",
      "Epoch 29: 100%|██████████| 44/44 [00:02<00:00, 20.48it/s, Train Loss=2516.3668, Valid Loss=3802.2356, Valid R2=0.2180, Valid MAE=47.0428]\n",
      "Epoch 30: 100%|██████████| 44/44 [00:02<00:00, 20.97it/s, Train Loss=2422.9899, Valid Loss=3866.7153, Valid R2=0.2047, Valid MAE=46.4722]\n",
      "Epoch 31: 100%|██████████| 44/44 [00:02<00:00, 20.83it/s, Train Loss=2383.9135, Valid Loss=3420.5225, Valid R2=0.2965, Valid MAE=44.4020]\n",
      "Epoch 32: 100%|██████████| 44/44 [00:02<00:00, 20.93it/s, Train Loss=2424.3168, Valid Loss=3801.0642, Valid R2=0.2182, Valid MAE=46.8597]\n",
      "Epoch 33: 100%|██████████| 44/44 [00:02<00:00, 19.57it/s, Train Loss=2173.1609, Valid Loss=4164.8711, Valid R2=0.1434, Valid MAE=49.4072]\n",
      "Epoch 34: 100%|██████████| 44/44 [00:02<00:00, 20.47it/s, Train Loss=2060.6789, Valid Loss=3626.3550, Valid R2=0.2541, Valid MAE=44.1428]\n",
      "Epoch 35: 100%|██████████| 44/44 [00:02<00:00, 20.88it/s, Train Loss=1984.1545, Valid Loss=4222.4722, Valid R2=0.1315, Valid MAE=49.9697]\n",
      "Epoch 36: 100%|██████████| 44/44 [00:02<00:00, 20.82it/s, Train Loss=1933.9698, Valid Loss=3616.5413, Valid R2=0.2562, Valid MAE=45.1118]\n",
      "Epoch 37: 100%|██████████| 44/44 [00:02<00:00, 21.12it/s, Train Loss=1910.4964, Valid Loss=3724.9255, Valid R2=0.2339, Valid MAE=45.9505]\n"
     ]
    },
    {
     "name": "stdout",
     "output_type": "stream",
     "text": [
      "Early Stopped\n",
      "Setting  87 of Parameters Grid is now on progres.\n"
     ]
    },
    {
     "name": "stderr",
     "output_type": "stream",
     "text": [
      "Epoch  0: 100%|██████████| 44/44 [00:02<00:00, 20.68it/s, Train Loss=15067.7295, Valid Loss=11735.4326, Valid R2=-1.4137, Valid MAE=82.9054]\n",
      "Epoch  1: 100%|██████████| 44/44 [00:02<00:00, 21.98it/s, Train Loss=13575.5084, Valid Loss=10254.7695, Valid R2=-1.1092, Valid MAE=73.8878]\n",
      "Epoch  2: 100%|██████████| 44/44 [00:02<00:00, 20.59it/s, Train Loss=10996.2336, Valid Loss=6610.1226, Valid R2=-0.3595, Valid MAE=54.0510]\n",
      "Epoch  3: 100%|██████████| 44/44 [00:01<00:00, 22.25it/s, Train Loss=6628.1840, Valid Loss=5049.1265, Valid R2=-0.0385, Valid MAE=55.4828]\n",
      "Epoch  4: 100%|██████████| 44/44 [00:01<00:00, 22.30it/s, Train Loss=5818.9752, Valid Loss=5012.0640, Valid R2=-0.0309, Valid MAE=54.9625]\n",
      "Epoch  5: 100%|██████████| 44/44 [00:02<00:00, 21.48it/s, Train Loss=5820.6921, Valid Loss=4948.6709, Valid R2=-0.0178, Valid MAE=53.9256]\n",
      "Epoch  6: 100%|██████████| 44/44 [00:01<00:00, 22.28it/s, Train Loss=5861.0837, Valid Loss=4875.3809, Valid R2=-0.0028, Valid MAE=52.2499]\n",
      "Epoch  7: 100%|██████████| 44/44 [00:02<00:00, 21.62it/s, Train Loss=5837.3138, Valid Loss=4921.4116, Valid R2=-0.0122, Valid MAE=53.4099]\n",
      "Epoch  8: 100%|██████████| 44/44 [00:01<00:00, 22.07it/s, Train Loss=5811.6109, Valid Loss=4950.7495, Valid R2=-0.0183, Valid MAE=54.1115]\n",
      "Epoch  9: 100%|██████████| 44/44 [00:02<00:00, 20.61it/s, Train Loss=5855.6122, Valid Loss=4844.1772, Valid R2=0.0037, Valid MAE=52.7036]\n",
      "Epoch 10: 100%|██████████| 44/44 [00:02<00:00, 20.64it/s, Train Loss=5848.7518, Valid Loss=4812.6162, Valid R2=0.0102, Valid MAE=51.4149]\n",
      "Epoch 11: 100%|██████████| 44/44 [00:02<00:00, 21.54it/s, Train Loss=5786.4646, Valid Loss=4778.3110, Valid R2=0.0172, Valid MAE=51.6432]\n",
      "Epoch 12: 100%|██████████| 44/44 [00:02<00:00, 20.83it/s, Train Loss=5630.3805, Valid Loss=4812.0352, Valid R2=0.0103, Valid MAE=53.9418]\n",
      "Epoch 13: 100%|██████████| 44/44 [00:02<00:00, 21.66it/s, Train Loss=5678.1035, Valid Loss=4687.1021, Valid R2=0.0360, Valid MAE=49.5732]\n",
      "Epoch 14: 100%|██████████| 44/44 [00:02<00:00, 21.25it/s, Train Loss=5423.1100, Valid Loss=4241.7412, Valid R2=0.1276, Valid MAE=48.9841]\n",
      "Epoch 15: 100%|██████████| 44/44 [00:02<00:00, 20.52it/s, Train Loss=5127.4959, Valid Loss=4222.3315, Valid R2=0.1316, Valid MAE=46.9454]\n",
      "Epoch 16: 100%|██████████| 44/44 [00:02<00:00, 20.57it/s, Train Loss=4973.2425, Valid Loss=4085.9832, Valid R2=0.1596, Valid MAE=49.1607]\n",
      "Epoch 17: 100%|██████████| 44/44 [00:02<00:00, 20.96it/s, Train Loss=4527.0840, Valid Loss=3798.3022, Valid R2=0.2188, Valid MAE=47.4745]\n",
      "Epoch 18: 100%|██████████| 44/44 [00:02<00:00, 20.06it/s, Train Loss=4426.5119, Valid Loss=3802.0776, Valid R2=0.2180, Valid MAE=49.3040]\n",
      "Epoch 19: 100%|██████████| 44/44 [00:02<00:00, 20.47it/s, Train Loss=4199.4099, Valid Loss=4231.8438, Valid R2=0.1296, Valid MAE=52.7234]\n",
      "Epoch 20: 100%|██████████| 44/44 [00:02<00:00, 20.25it/s, Train Loss=3757.7734, Valid Loss=3375.8521, Valid R2=0.3057, Valid MAE=46.1260]\n",
      "Epoch 21: 100%|██████████| 44/44 [00:02<00:00, 21.21it/s, Train Loss=3674.2276, Valid Loss=3446.7166, Valid R2=0.2911, Valid MAE=46.9821]\n",
      "Epoch 22: 100%|██████████| 44/44 [00:02<00:00, 21.74it/s, Train Loss=3436.6269, Valid Loss=3607.7190, Valid R2=0.2580, Valid MAE=48.8737]\n",
      "Epoch 23: 100%|██████████| 44/44 [00:02<00:00, 21.43it/s, Train Loss=3582.7717, Valid Loss=3150.0901, Valid R2=0.3521, Valid MAE=44.4170]\n",
      "Epoch 24: 100%|██████████| 44/44 [00:02<00:00, 21.95it/s, Train Loss=3050.3894, Valid Loss=3160.6479, Valid R2=0.3499, Valid MAE=45.0222]\n",
      "Epoch 25: 100%|██████████| 44/44 [00:02<00:00, 20.39it/s, Train Loss=2868.9400, Valid Loss=3639.1560, Valid R2=0.2515, Valid MAE=48.6192]\n",
      "Epoch 26: 100%|██████████| 44/44 [00:02<00:00, 20.18it/s, Train Loss=2615.4261, Valid Loss=3082.0447, Valid R2=0.3661, Valid MAE=44.8068]\n",
      "Epoch 27: 100%|██████████| 44/44 [00:02<00:00, 20.56it/s, Train Loss=2551.6266, Valid Loss=2912.7771, Valid R2=0.4009, Valid MAE=42.4771]\n",
      "Epoch 28: 100%|██████████| 44/44 [00:02<00:00, 21.03it/s, Train Loss=2626.6536, Valid Loss=3116.8096, Valid R2=0.3589, Valid MAE=44.7637]\n",
      "Epoch 29: 100%|██████████| 44/44 [00:02<00:00, 21.35it/s, Train Loss=2559.3925, Valid Loss=2794.8469, Valid R2=0.4252, Valid MAE=42.2579]\n",
      "Epoch 30: 100%|██████████| 44/44 [00:02<00:00, 21.62it/s, Train Loss=2470.0500, Valid Loss=3044.9224, Valid R2=0.3737, Valid MAE=42.8531]\n",
      "Epoch 31: 100%|██████████| 44/44 [00:02<00:00, 20.25it/s, Train Loss=2370.3826, Valid Loss=2834.0144, Valid R2=0.4171, Valid MAE=41.7814]\n",
      "Epoch 32: 100%|██████████| 44/44 [00:02<00:00, 18.79it/s, Train Loss=2352.7810, Valid Loss=2908.7517, Valid R2=0.4017, Valid MAE=42.9425]\n",
      "Epoch 33: 100%|██████████| 44/44 [00:02<00:00, 19.44it/s, Train Loss=2265.5521, Valid Loss=3086.2244, Valid R2=0.3652, Valid MAE=43.9050]\n",
      "Epoch 34: 100%|██████████| 44/44 [00:02<00:00, 20.76it/s, Train Loss=2294.0722, Valid Loss=2685.0366, Valid R2=0.4478, Valid MAE=40.4589]\n",
      "Epoch 35: 100%|██████████| 44/44 [00:02<00:00, 20.75it/s, Train Loss=2245.9747, Valid Loss=6639.4517, Valid R2=-0.3656, Valid MAE=67.3057]\n",
      "Epoch 36: 100%|██████████| 44/44 [00:02<00:00, 20.80it/s, Train Loss=2318.5797, Valid Loss=4262.1333, Valid R2=0.1234, Valid MAE=52.9952]\n",
      "Epoch 37: 100%|██████████| 44/44 [00:02<00:00, 20.93it/s, Train Loss=2046.1369, Valid Loss=3228.3457, Valid R2=0.3360, Valid MAE=44.4681]\n",
      "Epoch 38: 100%|██████████| 44/44 [00:02<00:00, 20.29it/s, Train Loss=1872.2293, Valid Loss=3229.9199, Valid R2=0.3357, Valid MAE=45.1922]\n",
      "Epoch 39: 100%|██████████| 44/44 [00:02<00:00, 20.59it/s, Train Loss=1800.3440, Valid Loss=3002.1990, Valid R2=0.3825, Valid MAE=42.8672]\n",
      "Epoch 40: 100%|██████████| 44/44 [00:02<00:00, 20.33it/s, Train Loss=1747.7694, Valid Loss=3268.7769, Valid R2=0.3277, Valid MAE=44.7505]\n"
     ]
    },
    {
     "name": "stdout",
     "output_type": "stream",
     "text": [
      "Early Stopped\n",
      "Setting  88 of Parameters Grid is now on progres.\n"
     ]
    },
    {
     "name": "stderr",
     "output_type": "stream",
     "text": [
      "Epoch  0: 100%|██████████| 44/44 [00:02<00:00, 20.26it/s, Train Loss=15113.8951, Valid Loss=11680.8311, Valid R2=-1.4025, Valid MAE=82.5615]\n",
      "Epoch  1: 100%|██████████| 44/44 [00:02<00:00, 20.44it/s, Train Loss=11902.0663, Valid Loss=6614.0420, Valid R2=-0.3604, Valid MAE=54.0324]\n",
      "Epoch  2: 100%|██████████| 44/44 [00:02<00:00, 20.86it/s, Train Loss=6498.0094, Valid Loss=4967.3223, Valid R2=-0.0217, Valid MAE=54.2262]\n",
      "Epoch  3: 100%|██████████| 44/44 [00:02<00:00, 20.96it/s, Train Loss=5864.0056, Valid Loss=4885.9897, Valid R2=-0.0049, Valid MAE=52.5661]\n",
      "Epoch  4: 100%|██████████| 44/44 [00:02<00:00, 20.06it/s, Train Loss=5806.1137, Valid Loss=4941.6616, Valid R2=-0.0164, Valid MAE=53.7117]\n",
      "Epoch  5: 100%|██████████| 44/44 [00:02<00:00, 20.72it/s, Train Loss=5878.4995, Valid Loss=5004.6147, Valid R2=-0.0293, Valid MAE=54.6527]\n",
      "Epoch  6: 100%|██████████| 44/44 [00:02<00:00, 20.55it/s, Train Loss=5786.4596, Valid Loss=4955.3608, Valid R2=-0.0192, Valid MAE=52.5045]\n",
      "Epoch  7: 100%|██████████| 44/44 [00:02<00:00, 20.53it/s, Train Loss=5758.3895, Valid Loss=4954.2300, Valid R2=-0.0190, Valid MAE=53.7642]\n",
      "Epoch  8: 100%|██████████| 44/44 [00:02<00:00, 20.89it/s, Train Loss=5524.9875, Valid Loss=4895.2437, Valid R2=-0.0068, Valid MAE=54.2069]\n",
      "Epoch  9: 100%|██████████| 44/44 [00:02<00:00, 20.92it/s, Train Loss=5288.5009, Valid Loss=4645.6978, Valid R2=0.0445, Valid MAE=51.8554]\n",
      "Epoch 10: 100%|██████████| 44/44 [00:02<00:00, 20.50it/s, Train Loss=5150.3595, Valid Loss=4512.8403, Valid R2=0.0718, Valid MAE=51.7172]\n",
      "Epoch 11: 100%|██████████| 44/44 [00:02<00:00, 20.42it/s, Train Loss=4978.5278, Valid Loss=4487.1680, Valid R2=0.0771, Valid MAE=52.5975]\n",
      "Epoch 12: 100%|██████████| 44/44 [00:02<00:00, 20.62it/s, Train Loss=5000.6028, Valid Loss=4543.7812, Valid R2=0.0655, Valid MAE=52.5857]\n",
      "Epoch 13: 100%|██████████| 44/44 [00:02<00:00, 20.72it/s, Train Loss=4647.6515, Valid Loss=4209.7090, Valid R2=0.1342, Valid MAE=49.0234]\n",
      "Epoch 14: 100%|██████████| 44/44 [00:02<00:00, 20.94it/s, Train Loss=4375.9543, Valid Loss=4433.8062, Valid R2=0.0881, Valid MAE=53.2134]\n",
      "Epoch 15: 100%|██████████| 44/44 [00:02<00:00, 21.72it/s, Train Loss=4106.0260, Valid Loss=3633.4358, Valid R2=0.2527, Valid MAE=46.8066]\n",
      "Epoch 16: 100%|██████████| 44/44 [00:02<00:00, 20.80it/s, Train Loss=3958.4894, Valid Loss=3700.2336, Valid R2=0.2389, Valid MAE=46.7024]\n",
      "Epoch 17: 100%|██████████| 44/44 [00:02<00:00, 20.93it/s, Train Loss=3637.5098, Valid Loss=3577.7002, Valid R2=0.2642, Valid MAE=45.8248]\n",
      "Epoch 18: 100%|██████████| 44/44 [00:02<00:00, 20.13it/s, Train Loss=3489.5166, Valid Loss=3717.7856, Valid R2=0.2353, Valid MAE=47.3205]\n",
      "Epoch 19: 100%|██████████| 44/44 [00:02<00:00, 20.64it/s, Train Loss=3371.5206, Valid Loss=3553.6455, Valid R2=0.2691, Valid MAE=42.7999]\n",
      "Epoch 20: 100%|██████████| 44/44 [00:02<00:00, 21.03it/s, Train Loss=3437.0093, Valid Loss=3157.2920, Valid R2=0.3506, Valid MAE=42.1832]\n",
      "Epoch 21: 100%|██████████| 44/44 [00:02<00:00, 20.57it/s, Train Loss=3279.9196, Valid Loss=2729.2156, Valid R2=0.4387, Valid MAE=38.7737]\n",
      "Epoch 22: 100%|██████████| 44/44 [00:02<00:00, 20.09it/s, Train Loss=2866.1168, Valid Loss=3178.3889, Valid R2=0.3463, Valid MAE=42.2447]\n",
      "Epoch 23: 100%|██████████| 44/44 [00:02<00:00, 20.33it/s, Train Loss=2921.3924, Valid Loss=3172.8203, Valid R2=0.3474, Valid MAE=42.4018]\n",
      "Epoch 24: 100%|██████████| 44/44 [00:02<00:00, 20.22it/s, Train Loss=2869.0541, Valid Loss=3379.7273, Valid R2=0.3049, Valid MAE=42.3682]\n",
      "Epoch 25: 100%|██████████| 44/44 [00:02<00:00, 19.87it/s, Train Loss=2921.3413, Valid Loss=3716.4255, Valid R2=0.2356, Valid MAE=45.8704]\n",
      "Epoch 26: 100%|██████████| 44/44 [00:02<00:00, 19.79it/s, Train Loss=2887.2303, Valid Loss=2955.5105, Valid R2=0.3921, Valid MAE=40.4276]\n",
      "Epoch 27: 100%|██████████| 44/44 [00:02<00:00, 19.38it/s, Train Loss=2784.2728, Valid Loss=2937.2092, Valid R2=0.3959, Valid MAE=39.7085]\n"
     ]
    },
    {
     "name": "stdout",
     "output_type": "stream",
     "text": [
      "Early Stopped\n",
      "Setting  89 of Parameters Grid is now on progres.\n"
     ]
    },
    {
     "name": "stderr",
     "output_type": "stream",
     "text": [
      "Epoch  0: 100%|██████████| 44/44 [00:02<00:00, 19.60it/s, Train Loss=15134.6133, Valid Loss=11746.8789, Valid R2=-1.4161, Valid MAE=82.9747]\n",
      "Epoch  1: 100%|██████████| 44/44 [00:02<00:00, 19.86it/s, Train Loss=12593.8492, Valid Loss=8196.7158, Valid R2=-0.6859, Valid MAE=61.8921]\n",
      "Epoch  2: 100%|██████████| 44/44 [00:02<00:00, 20.22it/s, Train Loss=7917.3883, Valid Loss=4885.6289, Valid R2=-0.0049, Valid MAE=50.0650]\n",
      "Epoch  3: 100%|██████████| 44/44 [00:02<00:00, 19.78it/s, Train Loss=6000.8322, Valid Loss=4858.6987, Valid R2=0.0007, Valid MAE=52.1955]\n",
      "Epoch  4: 100%|██████████| 44/44 [00:02<00:00, 19.23it/s, Train Loss=5981.7534, Valid Loss=4903.9917, Valid R2=-0.0086, Valid MAE=53.2561]\n",
      "Epoch  5: 100%|██████████| 44/44 [00:02<00:00, 19.86it/s, Train Loss=5865.6385, Valid Loss=4890.7778, Valid R2=-0.0059, Valid MAE=52.9932]\n",
      "Epoch  6: 100%|██████████| 44/44 [00:02<00:00, 19.49it/s, Train Loss=5895.4366, Valid Loss=4906.4683, Valid R2=-0.0091, Valid MAE=53.4030]\n",
      "Epoch  7: 100%|██████████| 44/44 [00:02<00:00, 20.43it/s, Train Loss=5744.1499, Valid Loss=4905.5068, Valid R2=-0.0089, Valid MAE=53.1535]\n",
      "Epoch  8: 100%|██████████| 44/44 [00:02<00:00, 20.12it/s, Train Loss=5622.4209, Valid Loss=4855.4521, Valid R2=0.0013, Valid MAE=51.5726]\n",
      "Epoch  9: 100%|██████████| 44/44 [00:02<00:00, 19.37it/s, Train Loss=5576.8048, Valid Loss=4829.1997, Valid R2=0.0067, Valid MAE=50.7639]\n",
      "Epoch 10: 100%|██████████| 44/44 [00:02<00:00, 19.85it/s, Train Loss=5408.4521, Valid Loss=4792.9976, Valid R2=0.0142, Valid MAE=52.3486]\n",
      "Epoch 11: 100%|██████████| 44/44 [00:02<00:00, 19.96it/s, Train Loss=5137.8407, Valid Loss=5078.1353, Valid R2=-0.0445, Valid MAE=55.0737]\n",
      "Epoch 12: 100%|██████████| 44/44 [00:02<00:00, 19.83it/s, Train Loss=5287.7030, Valid Loss=4865.0664, Valid R2=-0.0006, Valid MAE=50.3529]\n",
      "Epoch 13: 100%|██████████| 44/44 [00:02<00:00, 20.62it/s, Train Loss=4951.5327, Valid Loss=5048.4189, Valid R2=-0.0383, Valid MAE=55.0180]\n",
      "Epoch 14: 100%|██████████| 44/44 [00:02<00:00, 20.52it/s, Train Loss=4901.1043, Valid Loss=4955.7622, Valid R2=-0.0193, Valid MAE=53.4857]\n",
      "Epoch 15: 100%|██████████| 44/44 [00:02<00:00, 21.04it/s, Train Loss=4825.4123, Valid Loss=5154.4351, Valid R2=-0.0601, Valid MAE=53.4733]\n",
      "Epoch 16: 100%|██████████| 44/44 [00:02<00:00, 21.56it/s, Train Loss=4704.6631, Valid Loss=5082.0317, Valid R2=-0.0453, Valid MAE=51.4940]\n"
     ]
    },
    {
     "name": "stdout",
     "output_type": "stream",
     "text": [
      "Early Stopped\n",
      "Setting  90 of Parameters Grid is now on progres.\n"
     ]
    },
    {
     "name": "stderr",
     "output_type": "stream",
     "text": [
      "Epoch  0: 100%|██████████| 44/44 [00:01<00:00, 22.16it/s, Train Loss=15093.6839, Valid Loss=11548.4951, Valid R2=-1.3753, Valid MAE=81.7774]\n",
      "Epoch  1: 100%|██████████| 44/44 [00:01<00:00, 22.18it/s, Train Loss=12135.7178, Valid Loss=7524.2188, Valid R2=-0.5476, Valid MAE=58.4927]\n",
      "Epoch  2: 100%|██████████| 44/44 [00:02<00:00, 21.87it/s, Train Loss=7152.7410, Valid Loss=5012.0903, Valid R2=-0.0309, Valid MAE=54.9521]\n",
      "Epoch  3: 100%|██████████| 44/44 [00:02<00:00, 20.25it/s, Train Loss=5806.3218, Valid Loss=4916.5596, Valid R2=-0.0112, Valid MAE=53.2902]\n",
      "Epoch  4: 100%|██████████| 44/44 [00:02<00:00, 20.56it/s, Train Loss=5855.5799, Valid Loss=4886.4946, Valid R2=-0.0050, Valid MAE=52.5696]\n",
      "Epoch  5: 100%|██████████| 44/44 [00:02<00:00, 21.94it/s, Train Loss=5844.9064, Valid Loss=4916.3594, Valid R2=-0.0112, Valid MAE=53.3152]\n",
      "Epoch  6: 100%|██████████| 44/44 [00:02<00:00, 20.67it/s, Train Loss=5902.4217, Valid Loss=4987.3545, Valid R2=-0.0258, Valid MAE=54.5237]\n",
      "Epoch  7: 100%|██████████| 44/44 [00:02<00:00, 20.54it/s, Train Loss=5790.4946, Valid Loss=4942.8979, Valid R2=-0.0166, Valid MAE=53.8993]\n",
      "Epoch  8: 100%|██████████| 44/44 [00:02<00:00, 20.91it/s, Train Loss=5785.7669, Valid Loss=4976.4463, Valid R2=-0.0235, Valid MAE=54.2751]\n",
      "Epoch  9: 100%|██████████| 44/44 [00:02<00:00, 19.84it/s, Train Loss=5786.9868, Valid Loss=4928.2915, Valid R2=-0.0136, Valid MAE=53.7861]\n",
      "Epoch 10: 100%|██████████| 44/44 [00:02<00:00, 19.31it/s, Train Loss=5732.7015, Valid Loss=4933.0229, Valid R2=-0.0146, Valid MAE=53.8971]\n"
     ]
    },
    {
     "name": "stdout",
     "output_type": "stream",
     "text": [
      "Early Stopped\n",
      "Setting  91 of Parameters Grid is now on progres.\n"
     ]
    },
    {
     "name": "stderr",
     "output_type": "stream",
     "text": [
      "Epoch  0: 100%|██████████| 44/44 [00:02<00:00, 20.18it/s, Train Loss=14987.6008, Valid Loss=11115.3867, Valid R2=-1.2862, Valid MAE=79.0934]\n",
      "Epoch  1: 100%|██████████| 44/44 [00:02<00:00, 20.56it/s, Train Loss=10970.2496, Valid Loss=5989.3809, Valid R2=-0.2319, Valid MAE=51.4974]\n",
      "Epoch  2: 100%|██████████| 44/44 [00:02<00:00, 20.29it/s, Train Loss=6266.0478, Valid Loss=4996.9639, Valid R2=-0.0278, Valid MAE=54.6626]\n",
      "Epoch  3: 100%|██████████| 44/44 [00:02<00:00, 20.97it/s, Train Loss=5813.8657, Valid Loss=4905.0264, Valid R2=-0.0088, Valid MAE=52.9106]\n",
      "Epoch  4: 100%|██████████| 44/44 [00:01<00:00, 22.12it/s, Train Loss=5915.8592, Valid Loss=4940.3242, Valid R2=-0.0161, Valid MAE=53.6939]\n",
      "Epoch  5: 100%|██████████| 44/44 [00:02<00:00, 21.54it/s, Train Loss=5835.7797, Valid Loss=4933.1914, Valid R2=-0.0146, Valid MAE=53.4790]\n",
      "Epoch  6: 100%|██████████| 44/44 [00:02<00:00, 20.46it/s, Train Loss=5813.1833, Valid Loss=4942.1963, Valid R2=-0.0165, Valid MAE=53.7327]\n",
      "Epoch  7: 100%|██████████| 44/44 [00:02<00:00, 20.52it/s, Train Loss=5833.3371, Valid Loss=4932.6733, Valid R2=-0.0145, Valid MAE=53.5684]\n",
      "Epoch  8: 100%|██████████| 44/44 [00:02<00:00, 19.94it/s, Train Loss=5862.3919, Valid Loss=4929.4834, Valid R2=-0.0139, Valid MAE=53.5099]\n",
      "Epoch  9: 100%|██████████| 44/44 [00:02<00:00, 20.66it/s, Train Loss=5821.6017, Valid Loss=4928.3809, Valid R2=-0.0137, Valid MAE=53.4867]\n"
     ]
    },
    {
     "name": "stdout",
     "output_type": "stream",
     "text": [
      "Early Stopped\n",
      "Setting  92 of Parameters Grid is now on progres.\n"
     ]
    },
    {
     "name": "stderr",
     "output_type": "stream",
     "text": [
      "Epoch  0: 100%|██████████| 44/44 [00:02<00:00, 20.59it/s, Train Loss=15112.4343, Valid Loss=11585.9375, Valid R2=-1.3830, Valid MAE=82.0090]\n",
      "Epoch  1: 100%|██████████| 44/44 [00:02<00:00, 20.50it/s, Train Loss=11347.1657, Valid Loss=6137.2212, Valid R2=-0.2623, Valid MAE=52.0838]\n",
      "Epoch  2: 100%|██████████| 44/44 [00:02<00:00, 20.85it/s, Train Loss=6278.9036, Valid Loss=5068.8345, Valid R2=-0.0425, Valid MAE=55.6536]\n",
      "Epoch  3: 100%|██████████| 44/44 [00:02<00:00, 20.36it/s, Train Loss=5824.0900, Valid Loss=4924.1514, Valid R2=-0.0128, Valid MAE=53.4667]\n",
      "Epoch  4: 100%|██████████| 44/44 [00:02<00:00, 20.48it/s, Train Loss=5853.7782, Valid Loss=4931.7842, Valid R2=-0.0144, Valid MAE=53.6093]\n",
      "Epoch  5: 100%|██████████| 44/44 [00:02<00:00, 20.68it/s, Train Loss=5793.1826, Valid Loss=4909.9712, Valid R2=-0.0099, Valid MAE=53.2212]\n",
      "Epoch  6: 100%|██████████| 44/44 [00:02<00:00, 21.34it/s, Train Loss=5715.1467, Valid Loss=4901.5186, Valid R2=-0.0081, Valid MAE=53.5969]\n",
      "Epoch  7: 100%|██████████| 44/44 [00:02<00:00, 20.97it/s, Train Loss=5681.1052, Valid Loss=4863.0547, Valid R2=-0.0002, Valid MAE=53.4458]\n",
      "Epoch  8: 100%|██████████| 44/44 [00:02<00:00, 20.75it/s, Train Loss=5592.3804, Valid Loss=4772.8335, Valid R2=0.0183, Valid MAE=52.7364]\n",
      "Epoch  9: 100%|██████████| 44/44 [00:02<00:00, 21.10it/s, Train Loss=5398.8853, Valid Loss=4981.1987, Valid R2=-0.0245, Valid MAE=55.2102]\n",
      "Epoch 10: 100%|██████████| 44/44 [00:02<00:00, 20.75it/s, Train Loss=5069.6135, Valid Loss=4621.1689, Valid R2=0.0495, Valid MAE=52.7255]\n",
      "Epoch 11: 100%|██████████| 44/44 [00:02<00:00, 20.70it/s, Train Loss=4777.0436, Valid Loss=4956.7061, Valid R2=-0.0195, Valid MAE=57.3349]\n",
      "Epoch 12: 100%|██████████| 44/44 [00:02<00:00, 20.70it/s, Train Loss=4518.9643, Valid Loss=4565.5039, Valid R2=0.0610, Valid MAE=52.8743]\n",
      "Epoch 13: 100%|██████████| 44/44 [00:02<00:00, 21.25it/s, Train Loss=4352.0899, Valid Loss=4511.0894, Valid R2=0.0722, Valid MAE=49.2651]\n",
      "Epoch 14: 100%|██████████| 44/44 [00:02<00:00, 20.53it/s, Train Loss=4077.4254, Valid Loss=4497.3784, Valid R2=0.0750, Valid MAE=50.6778]\n",
      "Epoch 15: 100%|██████████| 44/44 [00:02<00:00, 20.90it/s, Train Loss=4090.8521, Valid Loss=4649.7861, Valid R2=0.0436, Valid MAE=53.7325]\n",
      "Epoch 16: 100%|██████████| 44/44 [00:02<00:00, 20.59it/s, Train Loss=3848.5981, Valid Loss=4276.0918, Valid R2=0.1205, Valid MAE=48.3533]\n",
      "Epoch 17: 100%|██████████| 44/44 [00:02<00:00, 20.62it/s, Train Loss=3620.8132, Valid Loss=4199.9463, Valid R2=0.1362, Valid MAE=48.9675]\n",
      "Epoch 18: 100%|██████████| 44/44 [00:02<00:00, 20.70it/s, Train Loss=3239.4198, Valid Loss=4392.0039, Valid R2=0.0967, Valid MAE=50.3616]\n",
      "Epoch 19: 100%|██████████| 44/44 [00:02<00:00, 20.96it/s, Train Loss=3232.2160, Valid Loss=4210.9512, Valid R2=0.1339, Valid MAE=48.5192]\n",
      "Epoch 20: 100%|██████████| 44/44 [00:02<00:00, 21.00it/s, Train Loss=3176.2295, Valid Loss=4459.5479, Valid R2=0.0828, Valid MAE=51.3023]\n",
      "Epoch 21: 100%|██████████| 44/44 [00:02<00:00, 20.53it/s, Train Loss=3225.5197, Valid Loss=4223.6855, Valid R2=0.1313, Valid MAE=51.6487]\n",
      "Epoch 22: 100%|██████████| 44/44 [00:02<00:00, 20.70it/s, Train Loss=3193.3490, Valid Loss=4041.9563, Valid R2=0.1687, Valid MAE=47.4921]\n",
      "Epoch 23: 100%|██████████| 44/44 [00:02<00:00, 20.54it/s, Train Loss=2835.5502, Valid Loss=4164.7222, Valid R2=0.1434, Valid MAE=49.4602]\n",
      "Epoch 24: 100%|██████████| 44/44 [00:02<00:00, 20.47it/s, Train Loss=2870.4928, Valid Loss=3647.1123, Valid R2=0.2499, Valid MAE=44.6383]\n",
      "Epoch 25: 100%|██████████| 44/44 [00:02<00:00, 20.60it/s, Train Loss=2818.7268, Valid Loss=4063.2124, Valid R2=0.1643, Valid MAE=47.6774]\n",
      "Epoch 26: 100%|██████████| 44/44 [00:02<00:00, 20.51it/s, Train Loss=2960.7773, Valid Loss=4343.0938, Valid R2=0.1067, Valid MAE=49.9611]\n",
      "Epoch 27: 100%|██████████| 44/44 [00:02<00:00, 20.23it/s, Train Loss=2625.4363, Valid Loss=4000.7324, Valid R2=0.1771, Valid MAE=46.3768]\n",
      "Epoch 28: 100%|██████████| 44/44 [00:02<00:00, 20.60it/s, Train Loss=2596.1056, Valid Loss=4623.8911, Valid R2=0.0490, Valid MAE=52.9400]\n",
      "Epoch 29: 100%|██████████| 44/44 [00:02<00:00, 20.65it/s, Train Loss=2600.9520, Valid Loss=4438.8813, Valid R2=0.0870, Valid MAE=47.8828]\n",
      "Epoch 30: 100%|██████████| 44/44 [00:02<00:00, 20.45it/s, Train Loss=2483.2582, Valid Loss=4206.6089, Valid R2=0.1348, Valid MAE=48.9034]\n"
     ]
    },
    {
     "name": "stdout",
     "output_type": "stream",
     "text": [
      "Early Stopped\n",
      "Setting  93 of Parameters Grid is now on progres.\n"
     ]
    },
    {
     "name": "stderr",
     "output_type": "stream",
     "text": [
      "Epoch  0: 100%|██████████| 44/44 [00:02<00:00, 21.15it/s, Train Loss=15040.5063, Valid Loss=11383.7510, Valid R2=-1.3414, Valid MAE=80.7710]\n",
      "Epoch  1: 100%|██████████| 44/44 [00:02<00:00, 20.39it/s, Train Loss=11314.3944, Valid Loss=6407.5278, Valid R2=-0.3179, Valid MAE=53.1767]\n",
      "Epoch  2: 100%|██████████| 44/44 [00:02<00:00, 20.01it/s, Train Loss=6366.7676, Valid Loss=5042.6831, Valid R2=-0.0372, Valid MAE=55.3697]\n",
      "Epoch  3: 100%|██████████| 44/44 [00:02<00:00, 20.60it/s, Train Loss=5785.1757, Valid Loss=4905.6035, Valid R2=-0.0090, Valid MAE=52.9689]\n",
      "Epoch  4: 100%|██████████| 44/44 [00:02<00:00, 20.56it/s, Train Loss=5856.3460, Valid Loss=4915.8716, Valid R2=-0.0111, Valid MAE=53.2218]\n",
      "Epoch  5: 100%|██████████| 44/44 [00:02<00:00, 20.58it/s, Train Loss=5887.6192, Valid Loss=4932.8760, Valid R2=-0.0146, Valid MAE=53.6668]\n",
      "Epoch  6: 100%|██████████| 44/44 [00:02<00:00, 20.52it/s, Train Loss=5780.2237, Valid Loss=4976.9370, Valid R2=-0.0236, Valid MAE=54.4998]\n",
      "Epoch  7: 100%|██████████| 44/44 [00:02<00:00, 20.60it/s, Train Loss=5807.5403, Valid Loss=4947.7959, Valid R2=-0.0176, Valid MAE=53.9837]\n",
      "Epoch  8: 100%|██████████| 44/44 [00:02<00:00, 20.07it/s, Train Loss=5769.2718, Valid Loss=4962.4834, Valid R2=-0.0207, Valid MAE=54.3343]\n",
      "Epoch  9: 100%|██████████| 44/44 [00:02<00:00, 20.52it/s, Train Loss=5779.5900, Valid Loss=4868.9746, Valid R2=-0.0014, Valid MAE=52.9809]\n",
      "Epoch 10: 100%|██████████| 44/44 [00:02<00:00, 20.80it/s, Train Loss=5733.5630, Valid Loss=4834.5864, Valid R2=0.0056, Valid MAE=51.9260]\n",
      "Epoch 11: 100%|██████████| 44/44 [00:02<00:00, 20.31it/s, Train Loss=5751.2759, Valid Loss=4820.0903, Valid R2=0.0086, Valid MAE=52.9865]\n",
      "Epoch 12: 100%|██████████| 44/44 [00:02<00:00, 20.73it/s, Train Loss=5639.1963, Valid Loss=4829.2183, Valid R2=0.0067, Valid MAE=53.4259]\n",
      "Epoch 13: 100%|██████████| 44/44 [00:02<00:00, 20.38it/s, Train Loss=5434.7410, Valid Loss=4791.9287, Valid R2=0.0144, Valid MAE=53.6465]\n",
      "Epoch 14: 100%|██████████| 44/44 [00:02<00:00, 21.24it/s, Train Loss=5277.0114, Valid Loss=4785.9468, Valid R2=0.0156, Valid MAE=50.9948]\n",
      "Epoch 15: 100%|██████████| 44/44 [00:02<00:00, 20.71it/s, Train Loss=5205.8770, Valid Loss=4706.8408, Valid R2=0.0319, Valid MAE=52.2950]\n",
      "Epoch 16: 100%|██████████| 44/44 [00:02<00:00, 20.73it/s, Train Loss=4969.0973, Valid Loss=4918.8408, Valid R2=-0.0117, Valid MAE=55.2394]\n",
      "Epoch 17: 100%|██████████| 44/44 [00:02<00:00, 20.91it/s, Train Loss=4720.5814, Valid Loss=4644.9990, Valid R2=0.0446, Valid MAE=50.7988]\n",
      "Epoch 18: 100%|██████████| 44/44 [00:02<00:00, 20.65it/s, Train Loss=4574.8701, Valid Loss=4743.1587, Valid R2=0.0244, Valid MAE=53.4700]\n",
      "Epoch 19: 100%|██████████| 44/44 [00:02<00:00, 21.07it/s, Train Loss=4180.7281, Valid Loss=5046.2881, Valid R2=-0.0379, Valid MAE=56.9992]\n",
      "Epoch 20: 100%|██████████| 44/44 [00:02<00:00, 20.96it/s, Train Loss=4162.7303, Valid Loss=5110.5454, Valid R2=-0.0511, Valid MAE=57.1365]\n",
      "Epoch 21: 100%|██████████| 44/44 [00:02<00:00, 21.13it/s, Train Loss=4001.6674, Valid Loss=4897.0337, Valid R2=-0.0072, Valid MAE=56.6751]\n",
      "Epoch 22: 100%|██████████| 44/44 [00:02<00:00, 21.29it/s, Train Loss=3859.7625, Valid Loss=4741.2222, Valid R2=0.0248, Valid MAE=53.8705]\n",
      "Epoch 23: 100%|██████████| 44/44 [00:02<00:00, 21.87it/s, Train Loss=3815.5535, Valid Loss=5116.0107, Valid R2=-0.0522, Valid MAE=54.1088]\n"
     ]
    },
    {
     "name": "stdout",
     "output_type": "stream",
     "text": [
      "Early Stopped\n",
      "Setting  94 of Parameters Grid is now on progres.\n"
     ]
    },
    {
     "name": "stderr",
     "output_type": "stream",
     "text": [
      "Epoch  0: 100%|██████████| 44/44 [00:02<00:00, 20.93it/s, Train Loss=15005.3585, Valid Loss=11374.7979, Valid R2=-1.3395, Valid MAE=80.7260]\n",
      "Epoch  1: 100%|██████████| 44/44 [00:02<00:00, 20.75it/s, Train Loss=12056.4703, Valid Loss=7830.3013, Valid R2=-0.6105, Valid MAE=60.0134]\n",
      "Epoch  2: 100%|██████████| 44/44 [00:02<00:00, 20.90it/s, Train Loss=7986.6241, Valid Loss=5040.8633, Valid R2=-0.0368, Valid MAE=49.6125]\n",
      "Epoch  3: 100%|██████████| 44/44 [00:02<00:00, 20.80it/s, Train Loss=5945.1979, Valid Loss=4963.4316, Valid R2=-0.0209, Valid MAE=54.1539]\n",
      "Epoch  4: 100%|██████████| 44/44 [00:02<00:00, 20.34it/s, Train Loss=5900.8862, Valid Loss=4905.4746, Valid R2=-0.0089, Valid MAE=53.0166]\n",
      "Epoch  5: 100%|██████████| 44/44 [00:02<00:00, 19.76it/s, Train Loss=5846.6203, Valid Loss=4939.8022, Valid R2=-0.0160, Valid MAE=53.7503]\n",
      "Epoch  6: 100%|██████████| 44/44 [00:02<00:00, 19.66it/s, Train Loss=5849.5114, Valid Loss=4862.2256, Valid R2=-0.0000, Valid MAE=51.9316]\n",
      "Epoch  7: 100%|██████████| 44/44 [00:02<00:00, 21.13it/s, Train Loss=5901.8262, Valid Loss=4984.9360, Valid R2=-0.0253, Valid MAE=54.8059]\n",
      "Epoch  8: 100%|██████████| 44/44 [00:02<00:00, 21.04it/s, Train Loss=5734.6192, Valid Loss=4784.5952, Valid R2=0.0159, Valid MAE=53.0204]\n",
      "Epoch  9: 100%|██████████| 44/44 [00:02<00:00, 20.84it/s, Train Loss=5495.8596, Valid Loss=4669.8311, Valid R2=0.0395, Valid MAE=51.1796]\n",
      "Epoch 10: 100%|██████████| 44/44 [00:02<00:00, 21.35it/s, Train Loss=5167.4818, Valid Loss=4437.4263, Valid R2=0.0873, Valid MAE=51.4853]\n",
      "Epoch 11: 100%|██████████| 44/44 [00:02<00:00, 21.90it/s, Train Loss=5290.6757, Valid Loss=4596.0337, Valid R2=0.0547, Valid MAE=53.0846]\n",
      "Epoch 12: 100%|██████████| 44/44 [00:02<00:00, 20.35it/s, Train Loss=5093.3236, Valid Loss=4446.6909, Valid R2=0.0854, Valid MAE=53.2042]\n",
      "Epoch 13: 100%|██████████| 44/44 [00:01<00:00, 22.04it/s, Train Loss=4657.8827, Valid Loss=4216.1382, Valid R2=0.1328, Valid MAE=47.8153]\n",
      "Epoch 14: 100%|██████████| 44/44 [00:02<00:00, 21.16it/s, Train Loss=4534.5834, Valid Loss=4372.5332, Valid R2=0.1007, Valid MAE=52.3135]\n",
      "Epoch 15: 100%|██████████| 44/44 [00:02<00:00, 20.94it/s, Train Loss=4506.6763, Valid Loss=4225.0356, Valid R2=0.1310, Valid MAE=48.6615]\n",
      "Epoch 16: 100%|██████████| 44/44 [00:02<00:00, 21.93it/s, Train Loss=4291.0945, Valid Loss=4354.9683, Valid R2=0.1043, Valid MAE=53.1343]\n",
      "Epoch 17: 100%|██████████| 44/44 [00:02<00:00, 21.29it/s, Train Loss=4293.9865, Valid Loss=4126.6699, Valid R2=0.1512, Valid MAE=50.7731]\n",
      "Epoch 18: 100%|██████████| 44/44 [00:02<00:00, 20.81it/s, Train Loss=4016.3033, Valid Loss=4059.2234, Valid R2=0.1651, Valid MAE=48.9231]\n",
      "Epoch 19: 100%|██████████| 44/44 [00:02<00:00, 21.07it/s, Train Loss=4039.5089, Valid Loss=4127.4536, Valid R2=0.1511, Valid MAE=50.3215]\n",
      "Epoch 20: 100%|██████████| 44/44 [00:02<00:00, 20.99it/s, Train Loss=3955.1815, Valid Loss=4154.8447, Valid R2=0.1454, Valid MAE=49.9342]\n",
      "Epoch 21: 100%|██████████| 44/44 [00:02<00:00, 20.74it/s, Train Loss=3550.4384, Valid Loss=4283.4019, Valid R2=0.1190, Valid MAE=50.9035]\n",
      "Epoch 22: 100%|██████████| 44/44 [00:02<00:00, 20.97it/s, Train Loss=3552.7490, Valid Loss=4031.4685, Valid R2=0.1708, Valid MAE=47.7935]\n",
      "Epoch 23: 100%|██████████| 44/44 [00:02<00:00, 21.09it/s, Train Loss=3321.7318, Valid Loss=4071.8586, Valid R2=0.1625, Valid MAE=49.7382]\n",
      "Epoch 24: 100%|██████████| 44/44 [00:02<00:00, 20.33it/s, Train Loss=3316.3551, Valid Loss=4107.5181, Valid R2=0.1552, Valid MAE=49.4727]\n",
      "Epoch 25: 100%|██████████| 44/44 [00:02<00:00, 20.69it/s, Train Loss=3198.0445, Valid Loss=3846.9592, Valid R2=0.2088, Valid MAE=47.4057]\n",
      "Epoch 26: 100%|██████████| 44/44 [00:02<00:00, 20.56it/s, Train Loss=3000.7926, Valid Loss=3756.3130, Valid R2=0.2274, Valid MAE=46.7141]\n",
      "Epoch 27: 100%|██████████| 44/44 [00:02<00:00, 21.10it/s, Train Loss=2879.8752, Valid Loss=4097.8716, Valid R2=0.1572, Valid MAE=49.1477]\n",
      "Epoch 28: 100%|██████████| 44/44 [00:02<00:00, 20.78it/s, Train Loss=2772.7643, Valid Loss=3899.4739, Valid R2=0.1980, Valid MAE=47.7469]\n",
      "Epoch 29: 100%|██████████| 44/44 [00:02<00:00, 20.68it/s, Train Loss=2560.9741, Valid Loss=3702.9844, Valid R2=0.2384, Valid MAE=44.4724]\n",
      "Epoch 30: 100%|██████████| 44/44 [00:02<00:00, 21.02it/s, Train Loss=2653.5171, Valid Loss=3836.0505, Valid R2=0.2110, Valid MAE=45.8890]\n",
      "Epoch 31: 100%|██████████| 44/44 [00:02<00:00, 21.04it/s, Train Loss=2477.1286, Valid Loss=4144.7065, Valid R2=0.1475, Valid MAE=50.4295]\n",
      "Epoch 32: 100%|██████████| 44/44 [00:02<00:00, 20.68it/s, Train Loss=2239.4258, Valid Loss=4382.5908, Valid R2=0.0986, Valid MAE=49.8470]\n",
      "Epoch 33: 100%|██████████| 44/44 [00:02<00:00, 20.66it/s, Train Loss=2287.0908, Valid Loss=4310.6450, Valid R2=0.1134, Valid MAE=50.5683]\n",
      "Epoch 34: 100%|██████████| 44/44 [00:02<00:00, 21.00it/s, Train Loss=2257.5209, Valid Loss=4036.8496, Valid R2=0.1697, Valid MAE=47.4818]\n",
      "Epoch 35: 100%|██████████| 44/44 [00:02<00:00, 21.02it/s, Train Loss=2162.7133, Valid Loss=4711.4297, Valid R2=0.0310, Valid MAE=51.6817]\n"
     ]
    },
    {
     "name": "stdout",
     "output_type": "stream",
     "text": [
      "Early Stopped\n",
      "Setting  95 of Parameters Grid is now on progres.\n"
     ]
    },
    {
     "name": "stderr",
     "output_type": "stream",
     "text": [
      "Epoch  0: 100%|██████████| 44/44 [00:02<00:00, 19.92it/s, Train Loss=15098.8841, Valid Loss=11631.4873, Valid R2=-1.3923, Valid MAE=82.2781]\n",
      "Epoch  1: 100%|██████████| 44/44 [00:02<00:00, 19.88it/s, Train Loss=12245.6424, Valid Loss=7770.3511, Valid R2=-0.5982, Valid MAE=59.7140]\n",
      "Epoch  2: 100%|██████████| 44/44 [00:02<00:00, 20.80it/s, Train Loss=7944.3665, Valid Loss=5071.2451, Valid R2=-0.0430, Valid MAE=49.5789]\n",
      "Epoch  3: 100%|██████████| 44/44 [00:02<00:00, 21.06it/s, Train Loss=5939.8168, Valid Loss=4960.9087, Valid R2=-0.0203, Valid MAE=54.1089]\n",
      "Epoch  4: 100%|██████████| 44/44 [00:02<00:00, 20.97it/s, Train Loss=5841.1207, Valid Loss=4955.5503, Valid R2=-0.0192, Valid MAE=54.0181]\n",
      "Epoch  5: 100%|██████████| 44/44 [00:02<00:00, 20.14it/s, Train Loss=5836.9121, Valid Loss=4916.2651, Valid R2=-0.0112, Valid MAE=53.3968]\n",
      "Epoch  6: 100%|██████████| 44/44 [00:02<00:00, 21.63it/s, Train Loss=5761.1415, Valid Loss=4805.8433, Valid R2=0.0116, Valid MAE=53.1412]\n",
      "Epoch  7: 100%|██████████| 44/44 [00:02<00:00, 20.64it/s, Train Loss=5327.6524, Valid Loss=4352.5737, Valid R2=0.1048, Valid MAE=50.7352]\n",
      "Epoch  8: 100%|██████████| 44/44 [00:02<00:00, 20.84it/s, Train Loss=4875.9358, Valid Loss=4066.8464, Valid R2=0.1635, Valid MAE=48.2669]\n",
      "Epoch  9: 100%|██████████| 44/44 [00:02<00:00, 20.89it/s, Train Loss=4788.3156, Valid Loss=4539.3071, Valid R2=0.0664, Valid MAE=54.5471]\n",
      "Epoch 10: 100%|██████████| 44/44 [00:02<00:00, 20.75it/s, Train Loss=4679.1852, Valid Loss=4713.4819, Valid R2=0.0305, Valid MAE=55.6324]\n",
      "Epoch 11: 100%|██████████| 44/44 [00:02<00:00, 21.06it/s, Train Loss=4491.7693, Valid Loss=4130.9473, Valid R2=0.1504, Valid MAE=48.9973]\n",
      "Epoch 12: 100%|██████████| 44/44 [00:02<00:00, 19.72it/s, Train Loss=4158.6772, Valid Loss=3781.6382, Valid R2=0.2222, Valid MAE=45.7446]\n",
      "Epoch 13: 100%|██████████| 44/44 [00:02<00:00, 20.49it/s, Train Loss=4033.8100, Valid Loss=3775.8848, Valid R2=0.2234, Valid MAE=48.1806]\n",
      "Epoch 14: 100%|██████████| 44/44 [00:02<00:00, 20.47it/s, Train Loss=3946.6358, Valid Loss=4009.6658, Valid R2=0.1753, Valid MAE=51.2227]\n",
      "Epoch 15: 100%|██████████| 44/44 [00:02<00:00, 21.84it/s, Train Loss=3808.9277, Valid Loss=3578.7598, Valid R2=0.2639, Valid MAE=46.5057]\n",
      "Epoch 16: 100%|██████████| 44/44 [00:02<00:00, 20.84it/s, Train Loss=3672.5627, Valid Loss=3682.0474, Valid R2=0.2427, Valid MAE=45.9682]\n",
      "Epoch 17: 100%|██████████| 44/44 [00:02<00:00, 21.28it/s, Train Loss=3534.4754, Valid Loss=3811.3811, Valid R2=0.2161, Valid MAE=46.3395]\n",
      "Epoch 18: 100%|██████████| 44/44 [00:02<00:00, 20.46it/s, Train Loss=3601.0655, Valid Loss=4067.6912, Valid R2=0.1634, Valid MAE=49.4539]\n",
      "Epoch 19: 100%|██████████| 44/44 [00:02<00:00, 20.69it/s, Train Loss=3623.3266, Valid Loss=4430.7363, Valid R2=0.0887, Valid MAE=52.0597]\n",
      "Epoch 20: 100%|██████████| 44/44 [00:02<00:00, 20.53it/s, Train Loss=3311.9319, Valid Loss=4331.8975, Valid R2=0.1090, Valid MAE=49.3288]\n",
      "Epoch 21: 100%|██████████| 44/44 [00:02<00:00, 20.80it/s, Train Loss=3277.8243, Valid Loss=4151.2280, Valid R2=0.1462, Valid MAE=50.3665]\n"
     ]
    },
    {
     "name": "stdout",
     "output_type": "stream",
     "text": [
      "Early Stopped\n",
      "Setting  96 of Parameters Grid is now on progres.\n"
     ]
    },
    {
     "name": "stderr",
     "output_type": "stream",
     "text": [
      "Epoch  0: 100%|██████████| 44/44 [00:02<00:00, 20.37it/s, Train Loss=15040.2795, Valid Loss=11497.7861, Valid R2=-1.3648, Valid MAE=81.4685]\n",
      "Epoch  1: 100%|██████████| 44/44 [00:02<00:00, 20.56it/s, Train Loss=11876.5092, Valid Loss=6755.9199, Valid R2=-0.3895, Valid MAE=54.7299]\n",
      "Epoch  2: 100%|██████████| 44/44 [00:02<00:00, 20.48it/s, Train Loss=6296.3080, Valid Loss=5145.7734, Valid R2=-0.0584, Valid MAE=56.7462]\n",
      "Epoch  3: 100%|██████████| 44/44 [00:02<00:00, 20.04it/s, Train Loss=5917.1230, Valid Loss=4922.9229, Valid R2=-0.0125, Valid MAE=53.9443]\n",
      "Epoch  4: 100%|██████████| 44/44 [00:02<00:00, 20.02it/s, Train Loss=5785.1379, Valid Loss=4796.8164, Valid R2=0.0134, Valid MAE=51.7753]\n",
      "Epoch  5: 100%|██████████| 44/44 [00:02<00:00, 20.36it/s, Train Loss=5653.3933, Valid Loss=4804.2085, Valid R2=0.0119, Valid MAE=53.5210]\n",
      "Epoch  6: 100%|██████████| 44/44 [00:02<00:00, 20.80it/s, Train Loss=5363.9338, Valid Loss=4339.5054, Valid R2=0.1075, Valid MAE=50.4132]\n",
      "Epoch  7: 100%|██████████| 44/44 [00:02<00:00, 20.57it/s, Train Loss=4925.1357, Valid Loss=4066.2361, Valid R2=0.1637, Valid MAE=46.6489]\n",
      "Epoch  8: 100%|██████████| 44/44 [00:02<00:00, 20.77it/s, Train Loss=4576.2596, Valid Loss=4618.3970, Valid R2=0.0501, Valid MAE=55.4569]\n",
      "Epoch  9: 100%|██████████| 44/44 [00:02<00:00, 20.85it/s, Train Loss=4424.8714, Valid Loss=3768.1365, Valid R2=0.2250, Valid MAE=46.9524]\n",
      "Epoch 10: 100%|██████████| 44/44 [00:01<00:00, 22.36it/s, Train Loss=4203.2386, Valid Loss=3795.8325, Valid R2=0.2193, Valid MAE=46.1311]\n",
      "Epoch 11: 100%|██████████| 44/44 [00:02<00:00, 21.27it/s, Train Loss=4174.7685, Valid Loss=3558.3889, Valid R2=0.2681, Valid MAE=45.8216]\n",
      "Epoch 12: 100%|██████████| 44/44 [00:02<00:00, 21.05it/s, Train Loss=3684.4086, Valid Loss=3408.5686, Valid R2=0.2989, Valid MAE=43.0348]\n",
      "Epoch 13: 100%|██████████| 44/44 [00:02<00:00, 20.72it/s, Train Loss=3716.4778, Valid Loss=3498.9248, Valid R2=0.2804, Valid MAE=46.6574]\n",
      "Epoch 14: 100%|██████████| 44/44 [00:02<00:00, 20.58it/s, Train Loss=3344.1393, Valid Loss=3349.1838, Valid R2=0.3112, Valid MAE=43.9855]\n",
      "Epoch 15: 100%|██████████| 44/44 [00:02<00:00, 20.66it/s, Train Loss=3263.6574, Valid Loss=3109.5505, Valid R2=0.3604, Valid MAE=41.2471]\n",
      "Epoch 16: 100%|██████████| 44/44 [00:02<00:00, 20.84it/s, Train Loss=3178.9143, Valid Loss=3492.1904, Valid R2=0.2817, Valid MAE=46.0658]\n",
      "Epoch 17: 100%|██████████| 44/44 [00:02<00:00, 20.51it/s, Train Loss=2898.5953, Valid Loss=3110.5332, Valid R2=0.3602, Valid MAE=42.6001]\n",
      "Epoch 18: 100%|██████████| 44/44 [00:02<00:00, 20.20it/s, Train Loss=2902.1098, Valid Loss=3083.1353, Valid R2=0.3659, Valid MAE=41.9615]\n",
      "Epoch 19: 100%|██████████| 44/44 [00:02<00:00, 20.76it/s, Train Loss=2701.1253, Valid Loss=3021.5940, Valid R2=0.3785, Valid MAE=41.2151]\n",
      "Epoch 20: 100%|██████████| 44/44 [00:02<00:00, 20.92it/s, Train Loss=2415.5807, Valid Loss=3849.5396, Valid R2=0.2082, Valid MAE=48.4136]\n",
      "Epoch 21: 100%|██████████| 44/44 [00:02<00:00, 20.50it/s, Train Loss=2274.6548, Valid Loss=3425.5498, Valid R2=0.2954, Valid MAE=45.8671]\n",
      "Epoch 22: 100%|██████████| 44/44 [00:02<00:00, 20.72it/s, Train Loss=2266.9404, Valid Loss=3194.2883, Valid R2=0.3430, Valid MAE=42.2829]\n",
      "Epoch 23: 100%|██████████| 44/44 [00:02<00:00, 21.37it/s, Train Loss=2233.6832, Valid Loss=3247.8318, Valid R2=0.3320, Valid MAE=41.9104]\n",
      "Epoch 24: 100%|██████████| 44/44 [00:02<00:00, 20.62it/s, Train Loss=2261.5436, Valid Loss=3172.3594, Valid R2=0.3475, Valid MAE=42.3890]\n",
      "Epoch 25: 100%|██████████| 44/44 [00:02<00:00, 20.50it/s, Train Loss=1918.4682, Valid Loss=3067.8865, Valid R2=0.3690, Valid MAE=42.6935]\n"
     ]
    },
    {
     "name": "stdout",
     "output_type": "stream",
     "text": [
      "Early Stopped\n",
      "Setting  97 of Parameters Grid is now on progres.\n"
     ]
    },
    {
     "name": "stderr",
     "output_type": "stream",
     "text": [
      "Epoch  0: 100%|██████████| 44/44 [00:02<00:00, 20.53it/s, Train Loss=15058.4748, Valid Loss=11451.3164, Valid R2=-1.3553, Valid MAE=81.1895]\n",
      "Epoch  1: 100%|██████████| 44/44 [00:02<00:00, 20.58it/s, Train Loss=12591.3167, Valid Loss=8676.8770, Valid R2=-0.7846, Valid MAE=64.4990]\n",
      "Epoch  2: 100%|██████████| 44/44 [00:02<00:00, 21.10it/s, Train Loss=8898.9837, Valid Loss=5314.3535, Valid R2=-0.0930, Valid MAE=49.5442]\n",
      "Epoch  3: 100%|██████████| 44/44 [00:02<00:00, 20.08it/s, Train Loss=6038.7115, Valid Loss=4980.6587, Valid R2=-0.0244, Valid MAE=54.4483]\n",
      "Epoch  4: 100%|██████████| 44/44 [00:02<00:00, 20.25it/s, Train Loss=5866.0339, Valid Loss=4908.7485, Valid R2=-0.0096, Valid MAE=53.0349]\n",
      "Epoch  5: 100%|██████████| 44/44 [00:02<00:00, 20.61it/s, Train Loss=5930.1720, Valid Loss=4905.0132, Valid R2=-0.0088, Valid MAE=52.9548]\n",
      "Epoch  6: 100%|██████████| 44/44 [00:02<00:00, 21.02it/s, Train Loss=5824.5643, Valid Loss=4887.7163, Valid R2=-0.0053, Valid MAE=52.9430]\n",
      "Epoch  7: 100%|██████████| 44/44 [00:02<00:00, 20.48it/s, Train Loss=5823.5531, Valid Loss=4937.5752, Valid R2=-0.0155, Valid MAE=54.3230]\n",
      "Epoch  8: 100%|██████████| 44/44 [00:01<00:00, 22.10it/s, Train Loss=5673.3952, Valid Loss=4750.6953, Valid R2=0.0229, Valid MAE=52.9299]\n",
      "Epoch  9: 100%|██████████| 44/44 [00:02<00:00, 20.78it/s, Train Loss=5388.4705, Valid Loss=4408.4248, Valid R2=0.0933, Valid MAE=51.5254]\n",
      "Epoch 10: 100%|██████████| 44/44 [00:02<00:00, 20.27it/s, Train Loss=4970.1920, Valid Loss=4382.1133, Valid R2=0.0987, Valid MAE=49.5888]\n",
      "Epoch 11: 100%|██████████| 44/44 [00:02<00:00, 20.99it/s, Train Loss=4814.0453, Valid Loss=4162.5063, Valid R2=0.1439, Valid MAE=49.6824]\n",
      "Epoch 12: 100%|██████████| 44/44 [00:02<00:00, 20.73it/s, Train Loss=4606.4710, Valid Loss=4240.1689, Valid R2=0.1279, Valid MAE=50.1825]\n",
      "Epoch 13: 100%|██████████| 44/44 [00:02<00:00, 20.94it/s, Train Loss=4361.1096, Valid Loss=3967.5547, Valid R2=0.1840, Valid MAE=48.4481]\n",
      "Epoch 14: 100%|██████████| 44/44 [00:02<00:00, 20.92it/s, Train Loss=4115.5517, Valid Loss=3953.1196, Valid R2=0.1869, Valid MAE=46.7215]\n",
      "Epoch 15: 100%|██████████| 44/44 [00:02<00:00, 21.36it/s, Train Loss=4017.0509, Valid Loss=3989.0793, Valid R2=0.1795, Valid MAE=46.4039]\n",
      "Epoch 16: 100%|██████████| 44/44 [00:02<00:00, 21.28it/s, Train Loss=3695.7272, Valid Loss=3931.8374, Valid R2=0.1913, Valid MAE=46.6765]\n",
      "Epoch 17: 100%|██████████| 44/44 [00:02<00:00, 20.79it/s, Train Loss=3658.6720, Valid Loss=4365.1709, Valid R2=0.1022, Valid MAE=49.7936]\n",
      "Epoch 18: 100%|██████████| 44/44 [00:02<00:00, 20.29it/s, Train Loss=3717.5732, Valid Loss=4026.2239, Valid R2=0.1719, Valid MAE=46.5316]\n",
      "Epoch 19: 100%|██████████| 44/44 [00:02<00:00, 18.79it/s, Train Loss=3501.5257, Valid Loss=4517.5273, Valid R2=0.0709, Valid MAE=51.1459]\n",
      "Epoch 20: 100%|██████████| 44/44 [00:02<00:00, 19.90it/s, Train Loss=3253.6453, Valid Loss=4662.3599, Valid R2=0.0411, Valid MAE=51.1438]\n",
      "Epoch 21: 100%|██████████| 44/44 [00:02<00:00, 20.57it/s, Train Loss=3104.5888, Valid Loss=5918.6709, Valid R2=-0.2173, Valid MAE=59.7058]\n",
      "Epoch 22: 100%|██████████| 44/44 [00:02<00:00, 20.48it/s, Train Loss=3112.0235, Valid Loss=4740.2163, Valid R2=0.0250, Valid MAE=52.9428]\n"
     ]
    },
    {
     "name": "stdout",
     "output_type": "stream",
     "text": [
      "Early Stopped\n",
      "Setting  98 of Parameters Grid is now on progres.\n"
     ]
    },
    {
     "name": "stderr",
     "output_type": "stream",
     "text": [
      "Epoch  0: 100%|██████████| 44/44 [00:02<00:00, 20.42it/s, Train Loss=14852.2510, Valid Loss=10865.2363, Valid R2=-1.2347, Valid MAE=77.6125]\n",
      "Epoch  1: 100%|██████████| 44/44 [00:02<00:00, 20.59it/s, Train Loss=10368.9505, Valid Loss=5374.9585, Valid R2=-0.1055, Valid MAE=49.5830]\n",
      "Epoch  2: 100%|██████████| 44/44 [00:02<00:00, 20.78it/s, Train Loss=5977.2400, Valid Loss=4959.3413, Valid R2=-0.0200, Valid MAE=54.2303]\n",
      "Epoch  3: 100%|██████████| 44/44 [00:02<00:00, 20.49it/s, Train Loss=5787.9821, Valid Loss=4867.8887, Valid R2=-0.0012, Valid MAE=52.6478]\n",
      "Epoch  4: 100%|██████████| 44/44 [00:02<00:00, 20.61it/s, Train Loss=5822.4704, Valid Loss=4819.7676, Valid R2=0.0087, Valid MAE=52.7108]\n",
      "Epoch  5: 100%|██████████| 44/44 [00:02<00:00, 21.14it/s, Train Loss=5683.9086, Valid Loss=4702.7598, Valid R2=0.0328, Valid MAE=52.7843]\n",
      "Epoch  6: 100%|██████████| 44/44 [00:02<00:00, 20.52it/s, Train Loss=5541.6677, Valid Loss=4715.9497, Valid R2=0.0300, Valid MAE=50.3753]\n",
      "Epoch  7: 100%|██████████| 44/44 [00:02<00:00, 20.54it/s, Train Loss=5249.0404, Valid Loss=4583.7295, Valid R2=0.0572, Valid MAE=52.9549]\n",
      "Epoch  8: 100%|██████████| 44/44 [00:02<00:00, 20.27it/s, Train Loss=5055.6868, Valid Loss=4164.2363, Valid R2=0.1435, Valid MAE=48.1055]\n",
      "Epoch  9: 100%|██████████| 44/44 [00:02<00:00, 20.80it/s, Train Loss=4734.6034, Valid Loss=4153.4839, Valid R2=0.1457, Valid MAE=49.8196]\n",
      "Epoch 10: 100%|██████████| 44/44 [00:02<00:00, 20.64it/s, Train Loss=4469.3318, Valid Loss=3888.9482, Valid R2=0.2001, Valid MAE=46.3026]\n",
      "Epoch 11: 100%|██████████| 44/44 [00:02<00:00, 20.24it/s, Train Loss=4339.9525, Valid Loss=3867.4321, Valid R2=0.2046, Valid MAE=47.3095]\n",
      "Epoch 12: 100%|██████████| 44/44 [00:02<00:00, 19.89it/s, Train Loss=4143.0884, Valid Loss=3889.8052, Valid R2=0.2000, Valid MAE=49.0489]\n",
      "Epoch 13: 100%|██████████| 44/44 [00:02<00:00, 19.97it/s, Train Loss=3895.8709, Valid Loss=3853.5332, Valid R2=0.2074, Valid MAE=47.0358]\n",
      "Epoch 14: 100%|██████████| 44/44 [00:02<00:00, 20.01it/s, Train Loss=3919.1544, Valid Loss=3644.0266, Valid R2=0.2505, Valid MAE=47.2923]\n",
      "Epoch 15: 100%|██████████| 44/44 [00:02<00:00, 20.25it/s, Train Loss=3713.4681, Valid Loss=4201.3643, Valid R2=0.1359, Valid MAE=51.9060]\n",
      "Epoch 16: 100%|██████████| 44/44 [00:02<00:00, 20.57it/s, Train Loss=3518.0966, Valid Loss=3393.8979, Valid R2=0.3020, Valid MAE=45.4325]\n",
      "Epoch 17: 100%|██████████| 44/44 [00:02<00:00, 20.58it/s, Train Loss=3585.0630, Valid Loss=3255.1230, Valid R2=0.3305, Valid MAE=43.1885]\n",
      "Epoch 18: 100%|██████████| 44/44 [00:02<00:00, 20.31it/s, Train Loss=3254.7293, Valid Loss=3112.6833, Valid R2=0.3598, Valid MAE=42.8809]\n",
      "Epoch 19: 100%|██████████| 44/44 [00:02<00:00, 20.09it/s, Train Loss=2959.7316, Valid Loss=3102.1506, Valid R2=0.3620, Valid MAE=42.8299]\n",
      "Epoch 20: 100%|██████████| 44/44 [00:02<00:00, 20.41it/s, Train Loss=2978.5667, Valid Loss=3243.7461, Valid R2=0.3328, Valid MAE=44.7096]\n",
      "Epoch 21: 100%|██████████| 44/44 [00:02<00:00, 20.70it/s, Train Loss=2731.7785, Valid Loss=2994.3271, Valid R2=0.3841, Valid MAE=42.5423]\n",
      "Epoch 22: 100%|██████████| 44/44 [00:02<00:00, 20.66it/s, Train Loss=2480.9516, Valid Loss=3075.7471, Valid R2=0.3674, Valid MAE=42.8579]\n",
      "Epoch 23: 100%|██████████| 44/44 [00:02<00:00, 20.54it/s, Train Loss=2446.3219, Valid Loss=2978.5845, Valid R2=0.3874, Valid MAE=41.8576]\n",
      "Epoch 24: 100%|██████████| 44/44 [00:02<00:00, 20.57it/s, Train Loss=2309.4686, Valid Loss=3149.5549, Valid R2=0.3522, Valid MAE=43.6741]\n",
      "Epoch 25: 100%|██████████| 44/44 [00:02<00:00, 20.90it/s, Train Loss=2407.8384, Valid Loss=2991.2881, Valid R2=0.3848, Valid MAE=41.2445]\n",
      "Epoch 26: 100%|██████████| 44/44 [00:02<00:00, 20.75it/s, Train Loss=2293.9108, Valid Loss=3115.1333, Valid R2=0.3593, Valid MAE=44.6951]\n",
      "Epoch 27: 100%|██████████| 44/44 [00:02<00:00, 20.83it/s, Train Loss=2054.2154, Valid Loss=3177.6069, Valid R2=0.3464, Valid MAE=44.2522]\n",
      "Epoch 28: 100%|██████████| 44/44 [00:02<00:00, 20.92it/s, Train Loss=1950.8586, Valid Loss=2760.8425, Valid R2=0.4322, Valid MAE=39.2023]\n",
      "Epoch 29: 100%|██████████| 44/44 [00:02<00:00, 20.70it/s, Train Loss=1765.5020, Valid Loss=2901.1555, Valid R2=0.4033, Valid MAE=40.2067]\n",
      "Epoch 30: 100%|██████████| 44/44 [00:02<00:00, 21.01it/s, Train Loss=1679.0178, Valid Loss=3121.3044, Valid R2=0.3580, Valid MAE=44.6007]\n",
      "Epoch 31: 100%|██████████| 44/44 [00:02<00:00, 20.88it/s, Train Loss=1658.3120, Valid Loss=2670.9570, Valid R2=0.4506, Valid MAE=39.0153]\n",
      "Epoch 32: 100%|██████████| 44/44 [00:02<00:00, 20.62it/s, Train Loss=1575.1719, Valid Loss=2869.7393, Valid R2=0.4098, Valid MAE=41.5259]\n",
      "Epoch 33: 100%|██████████| 44/44 [00:02<00:00, 21.07it/s, Train Loss=1566.4310, Valid Loss=2868.3945, Valid R2=0.4100, Valid MAE=41.2508]\n",
      "Epoch 34: 100%|██████████| 44/44 [00:02<00:00, 20.97it/s, Train Loss=1416.3106, Valid Loss=2655.2698, Valid R2=0.4539, Valid MAE=39.5757]\n",
      "Epoch 35: 100%|██████████| 44/44 [00:02<00:00, 20.37it/s, Train Loss=1350.8940, Valid Loss=2613.6133, Valid R2=0.4624, Valid MAE=38.6100]\n",
      "Epoch 36: 100%|██████████| 44/44 [00:02<00:00, 20.74it/s, Train Loss=1321.0315, Valid Loss=2506.6165, Valid R2=0.4844, Valid MAE=37.3447]\n",
      "Epoch 37: 100%|██████████| 44/44 [00:02<00:00, 21.08it/s, Train Loss=1341.3787, Valid Loss=2671.5850, Valid R2=0.4505, Valid MAE=39.3809]\n",
      "Epoch 38: 100%|██████████| 44/44 [00:02<00:00, 20.86it/s, Train Loss=1273.3064, Valid Loss=2545.6912, Valid R2=0.4764, Valid MAE=39.1411]\n",
      "Epoch 39: 100%|██████████| 44/44 [00:02<00:00, 20.92it/s, Train Loss=1336.6612, Valid Loss=2575.4619, Valid R2=0.4703, Valid MAE=38.8922]\n",
      "Epoch 40: 100%|██████████| 44/44 [00:02<00:00, 21.25it/s, Train Loss=1254.4471, Valid Loss=2609.5205, Valid R2=0.4633, Valid MAE=38.9392]\n",
      "Epoch 41: 100%|██████████| 44/44 [00:02<00:00, 19.86it/s, Train Loss=1215.1044, Valid Loss=2530.3086, Valid R2=0.4796, Valid MAE=37.6423]\n",
      "Epoch 42: 100%|██████████| 44/44 [00:02<00:00, 20.21it/s, Train Loss=1197.5507, Valid Loss=2700.9238, Valid R2=0.4445, Valid MAE=39.3490]\n"
     ]
    },
    {
     "name": "stdout",
     "output_type": "stream",
     "text": [
      "Early Stopped\n",
      "Setting  99 of Parameters Grid is now on progres.\n"
     ]
    },
    {
     "name": "stderr",
     "output_type": "stream",
     "text": [
      "Epoch  0: 100%|██████████| 44/44 [00:02<00:00, 20.45it/s, Train Loss=14977.4704, Valid Loss=11252.1992, Valid R2=-1.3143, Valid MAE=79.9762]\n",
      "Epoch  1: 100%|██████████| 44/44 [00:02<00:00, 20.60it/s, Train Loss=11931.7058, Valid Loss=7472.1650, Valid R2=-0.5368, Valid MAE=58.2273]\n",
      "Epoch  2: 100%|██████████| 44/44 [00:02<00:00, 20.84it/s, Train Loss=7134.0989, Valid Loss=5034.0195, Valid R2=-0.0354, Valid MAE=55.2085]\n",
      "Epoch  3: 100%|██████████| 44/44 [00:02<00:00, 20.90it/s, Train Loss=5862.3497, Valid Loss=5005.6987, Valid R2=-0.0296, Valid MAE=54.8707]\n",
      "Epoch  4: 100%|██████████| 44/44 [00:02<00:00, 20.55it/s, Train Loss=5834.4829, Valid Loss=4963.6602, Valid R2=-0.0209, Valid MAE=54.2658]\n",
      "Epoch  5: 100%|██████████| 44/44 [00:02<00:00, 20.45it/s, Train Loss=5784.9718, Valid Loss=4890.5786, Valid R2=-0.0059, Valid MAE=52.9858]\n",
      "Epoch  6: 100%|██████████| 44/44 [00:02<00:00, 20.86it/s, Train Loss=5790.1748, Valid Loss=4846.8516, Valid R2=0.0031, Valid MAE=52.3824]\n",
      "Epoch  7: 100%|██████████| 44/44 [00:02<00:00, 20.10it/s, Train Loss=5766.3858, Valid Loss=4778.6128, Valid R2=0.0172, Valid MAE=52.3674]\n",
      "Epoch  8: 100%|██████████| 44/44 [00:02<00:00, 20.70it/s, Train Loss=5694.5034, Valid Loss=4812.7866, Valid R2=0.0101, Valid MAE=54.2029]\n",
      "Epoch  9: 100%|██████████| 44/44 [00:02<00:00, 20.27it/s, Train Loss=5490.7725, Valid Loss=4578.9692, Valid R2=0.0582, Valid MAE=50.2572]\n",
      "Epoch 10: 100%|██████████| 44/44 [00:02<00:00, 20.39it/s, Train Loss=5411.3340, Valid Loss=4758.7354, Valid R2=0.0212, Valid MAE=54.4817]\n",
      "Epoch 11: 100%|██████████| 44/44 [00:02<00:00, 20.50it/s, Train Loss=5420.4284, Valid Loss=4555.0342, Valid R2=0.0631, Valid MAE=48.7851]\n",
      "Epoch 12: 100%|██████████| 44/44 [00:02<00:00, 20.25it/s, Train Loss=5159.7807, Valid Loss=4458.4038, Valid R2=0.0830, Valid MAE=47.6953]\n",
      "Epoch 13: 100%|██████████| 44/44 [00:02<00:00, 20.72it/s, Train Loss=4812.7386, Valid Loss=4293.9561, Valid R2=0.1168, Valid MAE=48.3064]\n",
      "Epoch 14: 100%|██████████| 44/44 [00:02<00:00, 20.46it/s, Train Loss=5222.4177, Valid Loss=4273.0352, Valid R2=0.1211, Valid MAE=50.1518]\n",
      "Epoch 15: 100%|██████████| 44/44 [00:02<00:00, 20.77it/s, Train Loss=4714.7818, Valid Loss=4223.3638, Valid R2=0.1314, Valid MAE=47.9591]\n",
      "Epoch 16: 100%|██████████| 44/44 [00:02<00:00, 20.73it/s, Train Loss=4848.8192, Valid Loss=4326.5229, Valid R2=0.1101, Valid MAE=51.3005]\n",
      "Epoch 17: 100%|██████████| 44/44 [00:02<00:00, 20.82it/s, Train Loss=4637.6706, Valid Loss=4133.7852, Valid R2=0.1498, Valid MAE=50.1844]\n",
      "Epoch 18: 100%|██████████| 44/44 [00:02<00:00, 21.60it/s, Train Loss=4704.2825, Valid Loss=4365.3950, Valid R2=0.1021, Valid MAE=52.3147]\n",
      "Epoch 19: 100%|██████████| 44/44 [00:02<00:00, 21.04it/s, Train Loss=4780.0097, Valid Loss=5418.1665, Valid R2=-0.1144, Valid MAE=60.3558]\n",
      "Epoch 20: 100%|██████████| 44/44 [00:02<00:00, 20.65it/s, Train Loss=4329.1789, Valid Loss=4057.9558, Valid R2=0.1654, Valid MAE=48.1404]\n",
      "Epoch 21: 100%|██████████| 44/44 [00:02<00:00, 20.08it/s, Train Loss=4270.6080, Valid Loss=3872.8779, Valid R2=0.2034, Valid MAE=49.3481]\n",
      "Epoch 22: 100%|██████████| 44/44 [00:02<00:00, 20.79it/s, Train Loss=4041.1802, Valid Loss=3819.8320, Valid R2=0.2144, Valid MAE=47.5505]\n",
      "Epoch 23: 100%|██████████| 44/44 [00:02<00:00, 20.85it/s, Train Loss=3602.3902, Valid Loss=3658.3918, Valid R2=0.2476, Valid MAE=48.3374]\n",
      "Epoch 24: 100%|██████████| 44/44 [00:02<00:00, 20.92it/s, Train Loss=3551.2498, Valid Loss=3604.8264, Valid R2=0.2586, Valid MAE=46.3988]\n",
      "Epoch 25: 100%|██████████| 44/44 [00:02<00:00, 20.60it/s, Train Loss=3428.4572, Valid Loss=7044.7671, Valid R2=-0.4489, Valid MAE=67.3422]\n",
      "Epoch 26: 100%|██████████| 44/44 [00:02<00:00, 20.65it/s, Train Loss=3836.8394, Valid Loss=3426.4976, Valid R2=0.2952, Valid MAE=43.0078]\n",
      "Epoch 27: 100%|██████████| 44/44 [00:02<00:00, 19.51it/s, Train Loss=3395.0219, Valid Loss=3418.6731, Valid R2=0.2969, Valid MAE=44.9048]\n",
      "Epoch 28: 100%|██████████| 44/44 [00:02<00:00, 19.67it/s, Train Loss=3271.7366, Valid Loss=3419.7300, Valid R2=0.2966, Valid MAE=43.6713]\n",
      "Epoch 29: 100%|██████████| 44/44 [00:02<00:00, 20.25it/s, Train Loss=3038.5635, Valid Loss=3435.1194, Valid R2=0.2935, Valid MAE=46.0117]\n",
      "Epoch 30: 100%|██████████| 44/44 [00:02<00:00, 20.66it/s, Train Loss=2811.6266, Valid Loss=3191.9971, Valid R2=0.3435, Valid MAE=43.0663]\n",
      "Epoch 31: 100%|██████████| 44/44 [00:02<00:00, 20.87it/s, Train Loss=2948.6910, Valid Loss=3157.7693, Valid R2=0.3505, Valid MAE=44.9863]\n",
      "Epoch 32: 100%|██████████| 44/44 [00:02<00:00, 21.12it/s, Train Loss=2934.9189, Valid Loss=2977.1731, Valid R2=0.3877, Valid MAE=42.2768]\n",
      "Epoch 33: 100%|██████████| 44/44 [00:02<00:00, 20.93it/s, Train Loss=2850.2267, Valid Loss=3088.8838, Valid R2=0.3647, Valid MAE=43.7448]\n",
      "Epoch 34: 100%|██████████| 44/44 [00:02<00:00, 20.71it/s, Train Loss=2604.3520, Valid Loss=2917.2070, Valid R2=0.4000, Valid MAE=40.7209]\n",
      "Epoch 35: 100%|██████████| 44/44 [00:02<00:00, 20.67it/s, Train Loss=2451.3292, Valid Loss=2841.5515, Valid R2=0.4156, Valid MAE=41.8604]\n",
      "Epoch 36: 100%|██████████| 44/44 [00:02<00:00, 21.17it/s, Train Loss=2284.1268, Valid Loss=3217.6050, Valid R2=0.3382, Valid MAE=44.6860]\n",
      "Epoch 37: 100%|██████████| 44/44 [00:02<00:00, 21.34it/s, Train Loss=2291.6499, Valid Loss=2685.4990, Valid R2=0.4477, Valid MAE=40.6296]\n",
      "Epoch 38: 100%|██████████| 44/44 [00:02<00:00, 21.20it/s, Train Loss=2399.6359, Valid Loss=3062.6482, Valid R2=0.3701, Valid MAE=43.5213]\n",
      "Epoch 39: 100%|██████████| 44/44 [00:02<00:00, 20.89it/s, Train Loss=2291.4798, Valid Loss=3645.1699, Valid R2=0.2503, Valid MAE=47.4780]\n",
      "Epoch 40: 100%|██████████| 44/44 [00:02<00:00, 20.47it/s, Train Loss=2241.6410, Valid Loss=2982.5542, Valid R2=0.3866, Valid MAE=41.4124]\n",
      "Epoch 41: 100%|██████████| 44/44 [00:02<00:00, 20.98it/s, Train Loss=2191.1508, Valid Loss=2889.6748, Valid R2=0.4057, Valid MAE=41.3912]\n",
      "Epoch 42: 100%|██████████| 44/44 [00:02<00:00, 20.99it/s, Train Loss=2116.7869, Valid Loss=3419.4580, Valid R2=0.2967, Valid MAE=46.5902]\n",
      "Epoch 43: 100%|██████████| 44/44 [00:02<00:00, 20.81it/s, Train Loss=2100.9604, Valid Loss=3587.0845, Valid R2=0.2622, Valid MAE=46.8773]\n"
     ]
    },
    {
     "name": "stdout",
     "output_type": "stream",
     "text": [
      "Early Stopped\n",
      "Setting 100 of Parameters Grid is now on progres.\n"
     ]
    },
    {
     "name": "stderr",
     "output_type": "stream",
     "text": [
      "Epoch  0: 100%|██████████| 44/44 [00:02<00:00, 20.64it/s, Train Loss=14884.4890, Valid Loss=10974.0996, Valid R2=-1.2571, Valid MAE=78.2705]\n",
      "Epoch  1: 100%|██████████| 44/44 [00:02<00:00, 20.44it/s, Train Loss=11109.0788, Valid Loss=6740.2788, Valid R2=-0.3863, Valid MAE=54.6400]\n",
      "Epoch  2: 100%|██████████| 44/44 [00:02<00:00, 20.50it/s, Train Loss=6617.5348, Valid Loss=5038.5879, Valid R2=-0.0363, Valid MAE=55.1537]\n",
      "Epoch  3: 100%|██████████| 44/44 [00:02<00:00, 20.54it/s, Train Loss=5835.2737, Valid Loss=4967.6812, Valid R2=-0.0217, Valid MAE=54.1297]\n",
      "Epoch  4: 100%|██████████| 44/44 [00:02<00:00, 20.72it/s, Train Loss=5827.0575, Valid Loss=4921.9766, Valid R2=-0.0123, Valid MAE=53.3225]\n",
      "Epoch  5: 100%|██████████| 44/44 [00:02<00:00, 20.78it/s, Train Loss=5812.6190, Valid Loss=4873.5889, Valid R2=-0.0024, Valid MAE=52.2813]\n",
      "Epoch  6: 100%|██████████| 44/44 [00:02<00:00, 21.83it/s, Train Loss=5801.6740, Valid Loss=4931.1938, Valid R2=-0.0142, Valid MAE=53.7940]\n",
      "Epoch  7: 100%|██████████| 44/44 [00:02<00:00, 20.91it/s, Train Loss=5773.3043, Valid Loss=4861.8413, Valid R2=0.0000, Valid MAE=53.3272]\n",
      "Epoch  8: 100%|██████████| 44/44 [00:02<00:00, 21.62it/s, Train Loss=5600.2936, Valid Loss=4793.6738, Valid R2=0.0141, Valid MAE=51.6975]\n",
      "Epoch  9: 100%|██████████| 44/44 [00:02<00:00, 20.75it/s, Train Loss=5489.6391, Valid Loss=4672.9185, Valid R2=0.0389, Valid MAE=51.1953]\n",
      "Epoch 10: 100%|██████████| 44/44 [00:02<00:00, 20.81it/s, Train Loss=5671.3030, Valid Loss=4706.3491, Valid R2=0.0320, Valid MAE=51.1751]\n",
      "Epoch 11: 100%|██████████| 44/44 [00:02<00:00, 21.13it/s, Train Loss=5456.3173, Valid Loss=4608.8101, Valid R2=0.0521, Valid MAE=51.3423]\n",
      "Epoch 12: 100%|██████████| 44/44 [00:02<00:00, 20.95it/s, Train Loss=5167.3060, Valid Loss=4436.5903, Valid R2=0.0875, Valid MAE=51.0127]\n",
      "Epoch 13: 100%|██████████| 44/44 [00:02<00:00, 20.93it/s, Train Loss=5067.0920, Valid Loss=4281.5713, Valid R2=0.1194, Valid MAE=50.4223]\n",
      "Epoch 14: 100%|██████████| 44/44 [00:02<00:00, 20.83it/s, Train Loss=4940.4346, Valid Loss=4083.2349, Valid R2=0.1602, Valid MAE=49.6329]\n",
      "Epoch 15: 100%|██████████| 44/44 [00:02<00:00, 20.99it/s, Train Loss=4531.0840, Valid Loss=4148.3447, Valid R2=0.1468, Valid MAE=47.5233]\n",
      "Epoch 16: 100%|██████████| 44/44 [00:02<00:00, 21.54it/s, Train Loss=4564.3094, Valid Loss=4395.5786, Valid R2=0.0959, Valid MAE=49.2417]\n",
      "Epoch 17: 100%|██████████| 44/44 [00:02<00:00, 20.58it/s, Train Loss=4535.4516, Valid Loss=4042.7561, Valid R2=0.1685, Valid MAE=48.5368]\n",
      "Epoch 18: 100%|██████████| 44/44 [00:02<00:00, 21.05it/s, Train Loss=4319.9850, Valid Loss=4015.1257, Valid R2=0.1742, Valid MAE=46.7173]\n",
      "Epoch 19: 100%|██████████| 44/44 [00:02<00:00, 20.42it/s, Train Loss=4036.3785, Valid Loss=4116.0562, Valid R2=0.1534, Valid MAE=49.0329]\n",
      "Epoch 20: 100%|██████████| 44/44 [00:02<00:00, 20.52it/s, Train Loss=4166.7626, Valid Loss=4092.6548, Valid R2=0.1582, Valid MAE=47.1127]\n",
      "Epoch 21: 100%|██████████| 44/44 [00:02<00:00, 19.38it/s, Train Loss=3948.4699, Valid Loss=4073.2822, Valid R2=0.1622, Valid MAE=49.0454]\n",
      "Epoch 22: 100%|██████████| 44/44 [00:02<00:00, 20.46it/s, Train Loss=3893.0405, Valid Loss=3887.8145, Valid R2=0.2004, Valid MAE=49.3921]\n",
      "Epoch 23: 100%|██████████| 44/44 [00:02<00:00, 20.71it/s, Train Loss=3960.8859, Valid Loss=3688.1421, Valid R2=0.2414, Valid MAE=46.1474]\n",
      "Epoch 24: 100%|██████████| 44/44 [00:02<00:00, 20.28it/s, Train Loss=3792.8725, Valid Loss=3676.5115, Valid R2=0.2438, Valid MAE=46.1692]\n",
      "Epoch 25: 100%|██████████| 44/44 [00:02<00:00, 20.53it/s, Train Loss=3664.2452, Valid Loss=3878.0818, Valid R2=0.2024, Valid MAE=46.0564]\n",
      "Epoch 26: 100%|██████████| 44/44 [00:02<00:00, 21.08it/s, Train Loss=3689.8195, Valid Loss=3642.3975, Valid R2=0.2508, Valid MAE=47.2845]\n",
      "Epoch 27: 100%|██████████| 44/44 [00:02<00:00, 20.93it/s, Train Loss=3418.0144, Valid Loss=3921.8967, Valid R2=0.1934, Valid MAE=47.4285]\n",
      "Epoch 28: 100%|██████████| 44/44 [00:02<00:00, 20.61it/s, Train Loss=3204.4993, Valid Loss=3930.9387, Valid R2=0.1915, Valid MAE=47.3545]\n",
      "Epoch 29: 100%|██████████| 44/44 [00:02<00:00, 20.94it/s, Train Loss=3215.1731, Valid Loss=3885.5044, Valid R2=0.2008, Valid MAE=46.2666]\n",
      "Epoch 30: 100%|██████████| 44/44 [00:02<00:00, 20.85it/s, Train Loss=2972.6638, Valid Loss=4012.3081, Valid R2=0.1748, Valid MAE=48.3259]\n",
      "Epoch 31: 100%|██████████| 44/44 [00:02<00:00, 20.75it/s, Train Loss=3183.4898, Valid Loss=3757.5781, Valid R2=0.2272, Valid MAE=47.3259]\n",
      "Epoch 32: 100%|██████████| 44/44 [00:02<00:00, 20.77it/s, Train Loss=2852.7164, Valid Loss=3877.8652, Valid R2=0.2024, Valid MAE=47.0000]\n"
     ]
    },
    {
     "name": "stdout",
     "output_type": "stream",
     "text": [
      "Early Stopped\n",
      "Setting 101 of Parameters Grid is now on progres.\n"
     ]
    },
    {
     "name": "stderr",
     "output_type": "stream",
     "text": [
      "Epoch  0: 100%|██████████| 44/44 [00:02<00:00, 20.21it/s, Train Loss=15010.7700, Valid Loss=11489.4121, Valid R2=-1.3631, Valid MAE=81.4212]\n",
      "Epoch  1: 100%|██████████| 44/44 [00:02<00:00, 20.23it/s, Train Loss=11754.8347, Valid Loss=6943.3545, Valid R2=-0.4281, Valid MAE=55.6807]\n",
      "Epoch  2: 100%|██████████| 44/44 [00:02<00:00, 20.74it/s, Train Loss=6962.7597, Valid Loss=4880.1475, Valid R2=-0.0037, Valid MAE=52.6135]\n",
      "Epoch  3: 100%|██████████| 44/44 [00:02<00:00, 20.42it/s, Train Loss=5802.2702, Valid Loss=5017.0566, Valid R2=-0.0319, Valid MAE=55.1900]\n",
      "Epoch  4: 100%|██████████| 44/44 [00:02<00:00, 20.79it/s, Train Loss=5799.6311, Valid Loss=4923.4282, Valid R2=-0.0126, Valid MAE=53.9839]\n",
      "Epoch  5: 100%|██████████| 44/44 [00:02<00:00, 20.96it/s, Train Loss=5714.3844, Valid Loss=4945.9175, Valid R2=-0.0173, Valid MAE=54.4423]\n",
      "Epoch  6: 100%|██████████| 44/44 [00:02<00:00, 21.02it/s, Train Loss=5702.7988, Valid Loss=4894.1035, Valid R2=-0.0066, Valid MAE=52.8088]\n",
      "Epoch  7: 100%|██████████| 44/44 [00:02<00:00, 21.41it/s, Train Loss=5668.7297, Valid Loss=4705.4326, Valid R2=0.0322, Valid MAE=50.8320]\n",
      "Epoch  8: 100%|██████████| 44/44 [00:02<00:00, 20.63it/s, Train Loss=5472.0661, Valid Loss=4895.1660, Valid R2=-0.0068, Valid MAE=53.9044]\n",
      "Epoch  9: 100%|██████████| 44/44 [00:02<00:00, 20.93it/s, Train Loss=5522.7386, Valid Loss=5150.6870, Valid R2=-0.0594, Valid MAE=57.2648]\n",
      "Epoch 10: 100%|██████████| 44/44 [00:02<00:00, 20.77it/s, Train Loss=5537.0244, Valid Loss=4822.7002, Valid R2=0.0081, Valid MAE=52.3971]\n",
      "Epoch 11: 100%|██████████| 44/44 [00:02<00:00, 20.88it/s, Train Loss=5394.1396, Valid Loss=4712.8667, Valid R2=0.0307, Valid MAE=51.6398]\n",
      "Epoch 12: 100%|██████████| 44/44 [00:02<00:00, 20.54it/s, Train Loss=5258.3858, Valid Loss=4608.8857, Valid R2=0.0521, Valid MAE=51.8611]\n",
      "Epoch 13: 100%|██████████| 44/44 [00:02<00:00, 20.94it/s, Train Loss=4992.7488, Valid Loss=4418.6548, Valid R2=0.0912, Valid MAE=48.4806]\n",
      "Epoch 14: 100%|██████████| 44/44 [00:02<00:00, 21.03it/s, Train Loss=4998.4576, Valid Loss=4198.4019, Valid R2=0.1365, Valid MAE=48.2128]\n",
      "Epoch 15: 100%|██████████| 44/44 [00:02<00:00, 20.67it/s, Train Loss=4489.2964, Valid Loss=3957.0732, Valid R2=0.1861, Valid MAE=48.5758]\n",
      "Epoch 16: 100%|██████████| 44/44 [00:02<00:00, 21.04it/s, Train Loss=4312.1362, Valid Loss=4208.4727, Valid R2=0.1344, Valid MAE=49.3760]\n",
      "Epoch 17: 100%|██████████| 44/44 [00:01<00:00, 22.11it/s, Train Loss=4228.9342, Valid Loss=4170.1895, Valid R2=0.1423, Valid MAE=50.7321]\n",
      "Epoch 18: 100%|██████████| 44/44 [00:01<00:00, 22.09it/s, Train Loss=4222.3134, Valid Loss=4214.3667, Valid R2=0.1332, Valid MAE=50.9685]\n",
      "Epoch 19: 100%|██████████| 44/44 [00:02<00:00, 21.20it/s, Train Loss=4009.3030, Valid Loss=4126.7036, Valid R2=0.1512, Valid MAE=50.2627]\n",
      "Epoch 20: 100%|██████████| 44/44 [00:02<00:00, 20.65it/s, Train Loss=3749.6195, Valid Loss=3850.2517, Valid R2=0.2081, Valid MAE=46.1477]\n",
      "Epoch 21: 100%|██████████| 44/44 [00:02<00:00, 21.17it/s, Train Loss=3503.1489, Valid Loss=3982.0229, Valid R2=0.1810, Valid MAE=48.8173]\n",
      "Epoch 22: 100%|██████████| 44/44 [00:02<00:00, 20.59it/s, Train Loss=3326.7654, Valid Loss=3574.3909, Valid R2=0.2648, Valid MAE=44.9260]\n",
      "Epoch 23: 100%|██████████| 44/44 [00:02<00:00, 21.22it/s, Train Loss=3258.8255, Valid Loss=3714.0703, Valid R2=0.2361, Valid MAE=46.9060]\n",
      "Epoch 24: 100%|██████████| 44/44 [00:02<00:00, 20.39it/s, Train Loss=3170.8836, Valid Loss=3677.9089, Valid R2=0.2435, Valid MAE=45.9417]\n",
      "Epoch 25: 100%|██████████| 44/44 [00:02<00:00, 21.18it/s, Train Loss=2884.1218, Valid Loss=3383.4387, Valid R2=0.3041, Valid MAE=44.0863]\n",
      "Epoch 26: 100%|██████████| 44/44 [00:02<00:00, 20.89it/s, Train Loss=2863.5154, Valid Loss=3277.7039, Valid R2=0.3259, Valid MAE=42.8703]\n",
      "Epoch 27: 100%|██████████| 44/44 [00:02<00:00, 20.58it/s, Train Loss=2941.1927, Valid Loss=3319.3252, Valid R2=0.3173, Valid MAE=44.0112]\n",
      "Epoch 28: 100%|██████████| 44/44 [00:02<00:00, 20.11it/s, Train Loss=2732.1228, Valid Loss=3571.2471, Valid R2=0.2655, Valid MAE=45.6775]\n",
      "Epoch 29: 100%|██████████| 44/44 [00:02<00:00, 21.09it/s, Train Loss=2466.8286, Valid Loss=3244.1807, Valid R2=0.3327, Valid MAE=43.1129]\n",
      "Epoch 30: 100%|██████████| 44/44 [00:01<00:00, 22.39it/s, Train Loss=2456.0646, Valid Loss=3505.1931, Valid R2=0.2791, Valid MAE=43.7057]\n",
      "Epoch 31: 100%|██████████| 44/44 [00:02<00:00, 20.83it/s, Train Loss=2519.0392, Valid Loss=3626.9387, Valid R2=0.2540, Valid MAE=46.5447]\n",
      "Epoch 32: 100%|██████████| 44/44 [00:02<00:00, 20.77it/s, Train Loss=2719.9017, Valid Loss=3513.5466, Valid R2=0.2773, Valid MAE=44.5586]\n",
      "Epoch 33: 100%|██████████| 44/44 [00:02<00:00, 20.91it/s, Train Loss=2485.6362, Valid Loss=3474.5171, Valid R2=0.2854, Valid MAE=41.9224]\n",
      "Epoch 34: 100%|██████████| 44/44 [00:02<00:00, 20.75it/s, Train Loss=2328.4345, Valid Loss=3303.5330, Valid R2=0.3205, Valid MAE=43.3915]\n",
      "Epoch 35: 100%|██████████| 44/44 [00:02<00:00, 20.81it/s, Train Loss=2100.0158, Valid Loss=3439.2366, Valid R2=0.2926, Valid MAE=43.6202]\n"
     ]
    },
    {
     "name": "stdout",
     "output_type": "stream",
     "text": [
      "Early Stopped\n",
      "Setting 102 of Parameters Grid is now on progres.\n"
     ]
    },
    {
     "name": "stderr",
     "output_type": "stream",
     "text": [
      "Epoch  0: 100%|██████████| 44/44 [00:02<00:00, 20.50it/s, Train Loss=14917.6944, Valid Loss=11158.8301, Valid R2=-1.2951, Valid MAE=79.4045]\n",
      "Epoch  1: 100%|██████████| 44/44 [00:02<00:00, 20.17it/s, Train Loss=12056.6686, Valid Loss=8132.7319, Valid R2=-0.6727, Valid MAE=61.5576]\n",
      "Epoch  2: 100%|██████████| 44/44 [00:02<00:00, 20.81it/s, Train Loss=8189.1177, Valid Loss=4863.1348, Valid R2=-0.0002, Valid MAE=51.3651]\n",
      "Epoch  3: 100%|██████████| 44/44 [00:01<00:00, 22.50it/s, Train Loss=5861.6858, Valid Loss=4881.5840, Valid R2=-0.0040, Valid MAE=52.9095]\n",
      "Epoch  4: 100%|██████████| 44/44 [00:02<00:00, 20.58it/s, Train Loss=5733.2369, Valid Loss=4837.3750, Valid R2=0.0051, Valid MAE=53.3411]\n",
      "Epoch  5: 100%|██████████| 44/44 [00:02<00:00, 19.94it/s, Train Loss=5560.6701, Valid Loss=4756.4409, Valid R2=0.0217, Valid MAE=52.8618]\n",
      "Epoch  6: 100%|██████████| 44/44 [00:02<00:00, 20.69it/s, Train Loss=5393.8437, Valid Loss=4651.3486, Valid R2=0.0433, Valid MAE=52.5420]\n",
      "Epoch  7: 100%|██████████| 44/44 [00:02<00:00, 20.60it/s, Train Loss=5171.5940, Valid Loss=4288.2627, Valid R2=0.1180, Valid MAE=49.2401]\n",
      "Epoch  8: 100%|██████████| 44/44 [00:02<00:00, 20.44it/s, Train Loss=4984.8686, Valid Loss=4267.7534, Valid R2=0.1222, Valid MAE=49.7027]\n",
      "Epoch  9: 100%|██████████| 44/44 [00:02<00:00, 19.80it/s, Train Loss=4699.1904, Valid Loss=4249.6123, Valid R2=0.1260, Valid MAE=48.4286]\n",
      "Epoch 10: 100%|██████████| 44/44 [00:02<00:00, 19.64it/s, Train Loss=4261.5297, Valid Loss=3880.9795, Valid R2=0.2018, Valid MAE=47.7903]\n",
      "Epoch 11: 100%|██████████| 44/44 [00:02<00:00, 20.67it/s, Train Loss=4234.7712, Valid Loss=3868.5957, Valid R2=0.2043, Valid MAE=46.5295]\n",
      "Epoch 12: 100%|██████████| 44/44 [00:02<00:00, 20.12it/s, Train Loss=4119.7942, Valid Loss=4081.5686, Valid R2=0.1605, Valid MAE=49.9514]\n",
      "Epoch 13: 100%|██████████| 44/44 [00:02<00:00, 19.76it/s, Train Loss=3927.6282, Valid Loss=4282.5249, Valid R2=0.1192, Valid MAE=50.3589]\n",
      "Epoch 14: 100%|██████████| 44/44 [00:02<00:00, 19.89it/s, Train Loss=3709.3735, Valid Loss=4005.1055, Valid R2=0.1762, Valid MAE=47.8892]\n",
      "Epoch 15: 100%|██████████| 44/44 [00:02<00:00, 19.37it/s, Train Loss=3468.2725, Valid Loss=4077.3792, Valid R2=0.1614, Valid MAE=49.1150]\n",
      "Epoch 16: 100%|██████████| 44/44 [00:02<00:00, 19.67it/s, Train Loss=3321.6672, Valid Loss=4080.5984, Valid R2=0.1607, Valid MAE=50.4260]\n",
      "Epoch 17: 100%|██████████| 44/44 [00:02<00:00, 20.10it/s, Train Loss=3104.2957, Valid Loss=4192.0239, Valid R2=0.1378, Valid MAE=51.5797]\n"
     ]
    },
    {
     "name": "stdout",
     "output_type": "stream",
     "text": [
      "Early Stopped\n",
      "Setting 103 of Parameters Grid is now on progres.\n"
     ]
    },
    {
     "name": "stderr",
     "output_type": "stream",
     "text": [
      "Epoch  0: 100%|██████████| 44/44 [00:02<00:00, 20.52it/s, Train Loss=14576.1121, Valid Loss=10295.4502, Valid R2=-1.1175, Valid MAE=74.1322]\n",
      "Epoch  1: 100%|██████████| 44/44 [00:02<00:00, 20.12it/s, Train Loss=10681.7410, Valid Loss=6755.7007, Valid R2=-0.3895, Valid MAE=54.7154]\n",
      "Epoch  2: 100%|██████████| 44/44 [00:02<00:00, 20.06it/s, Train Loss=7076.2950, Valid Loss=4869.6445, Valid R2=-0.0016, Valid MAE=50.7742]\n",
      "Epoch  3: 100%|██████████| 44/44 [00:02<00:00, 20.09it/s, Train Loss=5822.1346, Valid Loss=5012.2612, Valid R2=-0.0309, Valid MAE=55.0027]\n",
      "Epoch  4: 100%|██████████| 44/44 [00:02<00:00, 20.89it/s, Train Loss=5857.9197, Valid Loss=4879.7632, Valid R2=-0.0037, Valid MAE=53.3598]\n",
      "Epoch  5: 100%|██████████| 44/44 [00:02<00:00, 21.99it/s, Train Loss=5723.0733, Valid Loss=4758.7212, Valid R2=0.0212, Valid MAE=53.0865]\n",
      "Epoch  6: 100%|██████████| 44/44 [00:02<00:00, 20.11it/s, Train Loss=5595.5980, Valid Loss=4601.7485, Valid R2=0.0535, Valid MAE=52.2834]\n",
      "Epoch  7: 100%|██████████| 44/44 [00:02<00:00, 20.51it/s, Train Loss=5406.7181, Valid Loss=4624.5029, Valid R2=0.0488, Valid MAE=51.4970]\n",
      "Epoch  8: 100%|██████████| 44/44 [00:02<00:00, 19.97it/s, Train Loss=5188.2581, Valid Loss=4339.8750, Valid R2=0.1074, Valid MAE=49.5294]\n",
      "Epoch  9: 100%|██████████| 44/44 [00:02<00:00, 19.68it/s, Train Loss=4949.8268, Valid Loss=4290.3359, Valid R2=0.1176, Valid MAE=51.8714]\n",
      "Epoch 10: 100%|██████████| 44/44 [00:02<00:00, 19.93it/s, Train Loss=4347.5651, Valid Loss=4044.0066, Valid R2=0.1682, Valid MAE=48.8195]\n",
      "Epoch 11: 100%|██████████| 44/44 [00:02<00:00, 21.15it/s, Train Loss=4056.0798, Valid Loss=5678.4243, Valid R2=-0.1679, Valid MAE=59.6010]\n",
      "Epoch 12: 100%|██████████| 44/44 [00:02<00:00, 20.96it/s, Train Loss=4256.5877, Valid Loss=3709.2393, Valid R2=0.2371, Valid MAE=48.2414]\n",
      "Epoch 13: 100%|██████████| 44/44 [00:02<00:00, 20.45it/s, Train Loss=4041.6776, Valid Loss=3909.5486, Valid R2=0.1959, Valid MAE=46.4240]\n",
      "Epoch 14: 100%|██████████| 44/44 [00:02<00:00, 21.25it/s, Train Loss=3917.8973, Valid Loss=3676.7913, Valid R2=0.2438, Valid MAE=44.1620]\n",
      "Epoch 15: 100%|██████████| 44/44 [00:02<00:00, 20.92it/s, Train Loss=3673.4013, Valid Loss=3724.3853, Valid R2=0.2340, Valid MAE=45.4208]\n",
      "Epoch 16: 100%|██████████| 44/44 [00:02<00:00, 20.75it/s, Train Loss=3553.8631, Valid Loss=3676.4944, Valid R2=0.2438, Valid MAE=45.9401]\n",
      "Epoch 17: 100%|██████████| 44/44 [00:02<00:00, 20.81it/s, Train Loss=3297.9686, Valid Loss=3750.7524, Valid R2=0.2286, Valid MAE=47.3094]\n",
      "Epoch 18: 100%|██████████| 44/44 [00:02<00:00, 20.97it/s, Train Loss=3062.5683, Valid Loss=3628.5874, Valid R2=0.2537, Valid MAE=45.4832]\n",
      "Epoch 19: 100%|██████████| 44/44 [00:02<00:00, 20.75it/s, Train Loss=3018.9672, Valid Loss=3680.3582, Valid R2=0.2430, Valid MAE=45.3548]\n",
      "Epoch 20: 100%|██████████| 44/44 [00:02<00:00, 19.97it/s, Train Loss=2742.5340, Valid Loss=3539.7209, Valid R2=0.2720, Valid MAE=45.3938]\n",
      "Epoch 21: 100%|██████████| 44/44 [00:02<00:00, 20.54it/s, Train Loss=2687.2121, Valid Loss=3548.9546, Valid R2=0.2701, Valid MAE=45.2439]\n",
      "Epoch 22: 100%|██████████| 44/44 [00:02<00:00, 20.20it/s, Train Loss=2558.5283, Valid Loss=3801.9094, Valid R2=0.2180, Valid MAE=46.9203]\n",
      "Epoch 23: 100%|██████████| 44/44 [00:02<00:00, 20.81it/s, Train Loss=2834.2343, Valid Loss=3489.3374, Valid R2=0.2823, Valid MAE=45.7956]\n",
      "Epoch 24: 100%|██████████| 44/44 [00:02<00:00, 20.77it/s, Train Loss=2453.9533, Valid Loss=3189.4736, Valid R2=0.3440, Valid MAE=42.9396]\n",
      "Epoch 25: 100%|██████████| 44/44 [00:02<00:00, 21.44it/s, Train Loss=2473.7736, Valid Loss=3276.4182, Valid R2=0.3261, Valid MAE=42.1495]\n",
      "Epoch 26: 100%|██████████| 44/44 [00:01<00:00, 22.19it/s, Train Loss=2379.5434, Valid Loss=3499.1006, Valid R2=0.2803, Valid MAE=44.5550]\n",
      "Epoch 27: 100%|██████████| 44/44 [00:02<00:00, 21.71it/s, Train Loss=2181.0427, Valid Loss=3320.2856, Valid R2=0.3171, Valid MAE=42.9124]\n",
      "Epoch 28: 100%|██████████| 44/44 [00:02<00:00, 20.81it/s, Train Loss=2073.2833, Valid Loss=3855.9424, Valid R2=0.2069, Valid MAE=46.8803]\n",
      "Epoch 29: 100%|██████████| 44/44 [00:02<00:00, 20.64it/s, Train Loss=2096.4690, Valid Loss=3911.5256, Valid R2=0.1955, Valid MAE=47.5967]\n",
      "Epoch 30: 100%|██████████| 44/44 [00:02<00:00, 20.85it/s, Train Loss=1967.6689, Valid Loss=3701.4893, Valid R2=0.2387, Valid MAE=44.2649]\n"
     ]
    },
    {
     "name": "stdout",
     "output_type": "stream",
     "text": [
      "Early Stopped\n",
      "Setting 104 of Parameters Grid is now on progres.\n"
     ]
    },
    {
     "name": "stderr",
     "output_type": "stream",
     "text": [
      "Epoch  0: 100%|██████████| 44/44 [00:02<00:00, 20.69it/s, Train Loss=14755.7105, Valid Loss=10576.9072, Valid R2=-1.1754, Valid MAE=75.8419]\n",
      "Epoch  1: 100%|██████████| 44/44 [00:02<00:00, 20.90it/s, Train Loss=10432.1616, Valid Loss=6070.3501, Valid R2=-0.2485, Valid MAE=51.8201]\n",
      "Epoch  2: 100%|██████████| 44/44 [00:02<00:00, 20.77it/s, Train Loss=6284.9577, Valid Loss=5007.1562, Valid R2=-0.0299, Valid MAE=54.8818]\n",
      "Epoch  3: 100%|██████████| 44/44 [00:02<00:00, 20.55it/s, Train Loss=5779.5828, Valid Loss=5026.4800, Valid R2=-0.0338, Valid MAE=55.0457]\n",
      "Epoch  4: 100%|██████████| 44/44 [00:02<00:00, 21.12it/s, Train Loss=5729.4690, Valid Loss=5005.7827, Valid R2=-0.0296, Valid MAE=54.6120]\n",
      "Epoch  5: 100%|██████████| 44/44 [00:02<00:00, 20.95it/s, Train Loss=5662.0986, Valid Loss=5015.5088, Valid R2=-0.0316, Valid MAE=53.9737]\n",
      "Epoch  6: 100%|██████████| 44/44 [00:02<00:00, 21.83it/s, Train Loss=5484.8530, Valid Loss=5118.7979, Valid R2=-0.0528, Valid MAE=55.1609]\n",
      "Epoch  7: 100%|██████████| 44/44 [00:02<00:00, 21.14it/s, Train Loss=5432.7081, Valid Loss=4875.1602, Valid R2=-0.0027, Valid MAE=53.7839]\n",
      "Epoch  8: 100%|██████████| 44/44 [00:02<00:00, 20.33it/s, Train Loss=5283.0704, Valid Loss=4559.6807, Valid R2=0.0622, Valid MAE=51.6432]\n",
      "Epoch  9: 100%|██████████| 44/44 [00:02<00:00, 21.47it/s, Train Loss=4754.3601, Valid Loss=4553.3511, Valid R2=0.0635, Valid MAE=53.1906]\n",
      "Epoch 10: 100%|██████████| 44/44 [00:02<00:00, 20.55it/s, Train Loss=4597.8612, Valid Loss=4725.8315, Valid R2=0.0280, Valid MAE=54.6268]\n",
      "Epoch 11: 100%|██████████| 44/44 [00:02<00:00, 20.53it/s, Train Loss=4531.8620, Valid Loss=4303.4590, Valid R2=0.1149, Valid MAE=47.9291]\n",
      "Epoch 12: 100%|██████████| 44/44 [00:02<00:00, 20.03it/s, Train Loss=4395.6649, Valid Loss=4688.8613, Valid R2=0.0356, Valid MAE=55.5507]\n",
      "Epoch 13: 100%|██████████| 44/44 [00:02<00:00, 20.72it/s, Train Loss=4078.2313, Valid Loss=4518.3579, Valid R2=0.0707, Valid MAE=53.2212]\n",
      "Epoch 14: 100%|██████████| 44/44 [00:02<00:00, 20.51it/s, Train Loss=4122.2528, Valid Loss=4110.8438, Valid R2=0.1545, Valid MAE=48.3058]\n",
      "Epoch 15: 100%|██████████| 44/44 [00:02<00:00, 20.50it/s, Train Loss=3624.2736, Valid Loss=3805.8125, Valid R2=0.2172, Valid MAE=47.9515]\n",
      "Epoch 16: 100%|██████████| 44/44 [00:02<00:00, 20.13it/s, Train Loss=3480.6208, Valid Loss=3842.7493, Valid R2=0.2096, Valid MAE=49.1060]\n",
      "Epoch 17: 100%|██████████| 44/44 [00:02<00:00, 20.66it/s, Train Loss=3504.4704, Valid Loss=3540.9167, Valid R2=0.2717, Valid MAE=46.7083]\n",
      "Epoch 18: 100%|██████████| 44/44 [00:02<00:00, 20.94it/s, Train Loss=3241.5536, Valid Loss=3756.1128, Valid R2=0.2275, Valid MAE=48.1940]\n",
      "Epoch 19: 100%|██████████| 44/44 [00:02<00:00, 20.62it/s, Train Loss=3650.2000, Valid Loss=3617.0776, Valid R2=0.2561, Valid MAE=45.4777]\n",
      "Epoch 20: 100%|██████████| 44/44 [00:02<00:00, 20.48it/s, Train Loss=3952.0376, Valid Loss=3889.3154, Valid R2=0.2001, Valid MAE=48.3132]\n",
      "Epoch 21: 100%|██████████| 44/44 [00:02<00:00, 19.79it/s, Train Loss=3272.0247, Valid Loss=3867.3840, Valid R2=0.2046, Valid MAE=48.6031]\n",
      "Epoch 22: 100%|██████████| 44/44 [00:02<00:00, 19.19it/s, Train Loss=2969.2358, Valid Loss=3844.4460, Valid R2=0.2093, Valid MAE=48.6438]\n",
      "Epoch 23: 100%|██████████| 44/44 [00:02<00:00, 20.77it/s, Train Loss=2776.5028, Valid Loss=3273.5564, Valid R2=0.3267, Valid MAE=43.8283]\n",
      "Epoch 24: 100%|██████████| 44/44 [00:02<00:00, 20.93it/s, Train Loss=2598.7517, Valid Loss=3450.5576, Valid R2=0.2903, Valid MAE=46.0935]\n",
      "Epoch 25: 100%|██████████| 44/44 [00:02<00:00, 20.54it/s, Train Loss=2469.4979, Valid Loss=3155.5918, Valid R2=0.3510, Valid MAE=43.0804]\n",
      "Epoch 26: 100%|██████████| 44/44 [00:02<00:00, 20.23it/s, Train Loss=2313.3226, Valid Loss=3382.3167, Valid R2=0.3043, Valid MAE=43.0625]\n",
      "Epoch 27: 100%|██████████| 44/44 [00:02<00:00, 20.22it/s, Train Loss=2168.2183, Valid Loss=3172.9434, Valid R2=0.3474, Valid MAE=42.4693]\n",
      "Epoch 28: 100%|██████████| 44/44 [00:02<00:00, 20.69it/s, Train Loss=2066.3811, Valid Loss=3239.3484, Valid R2=0.3337, Valid MAE=43.4149]\n",
      "Epoch 29: 100%|██████████| 44/44 [00:02<00:00, 20.15it/s, Train Loss=1904.3106, Valid Loss=3377.0842, Valid R2=0.3054, Valid MAE=44.5086]\n",
      "Epoch 30: 100%|██████████| 44/44 [00:02<00:00, 20.54it/s, Train Loss=2045.4055, Valid Loss=3226.5281, Valid R2=0.3364, Valid MAE=43.2249]\n",
      "Epoch 31: 100%|██████████| 44/44 [00:02<00:00, 20.34it/s, Train Loss=1933.1436, Valid Loss=3749.4714, Valid R2=0.2288, Valid MAE=46.0832]\n"
     ]
    },
    {
     "name": "stdout",
     "output_type": "stream",
     "text": [
      "Early Stopped\n",
      "Setting 105 of Parameters Grid is now on progres.\n"
     ]
    },
    {
     "name": "stderr",
     "output_type": "stream",
     "text": [
      "Epoch  0: 100%|██████████| 44/44 [00:02<00:00, 20.58it/s, Train Loss=14796.9544, Valid Loss=10728.2080, Valid R2=-1.2065, Valid MAE=76.7632]\n",
      "Epoch  1: 100%|██████████| 44/44 [00:02<00:00, 20.71it/s, Train Loss=10501.9524, Valid Loss=5568.5571, Valid R2=-0.1453, Valid MAE=50.0800]\n",
      "Epoch  2: 100%|██████████| 44/44 [00:02<00:00, 20.54it/s, Train Loss=5964.1857, Valid Loss=5067.3877, Valid R2=-0.0422, Valid MAE=55.6519]\n",
      "Epoch  3: 100%|██████████| 44/44 [00:02<00:00, 20.73it/s, Train Loss=5757.8344, Valid Loss=4896.3481, Valid R2=-0.0071, Valid MAE=52.7331]\n",
      "Epoch  4: 100%|██████████| 44/44 [00:02<00:00, 20.36it/s, Train Loss=5864.1917, Valid Loss=4991.6514, Valid R2=-0.0267, Valid MAE=54.6255]\n",
      "Epoch  5: 100%|██████████| 44/44 [00:02<00:00, 20.34it/s, Train Loss=5831.1739, Valid Loss=4959.7026, Valid R2=-0.0201, Valid MAE=54.1884]\n",
      "Epoch  6: 100%|██████████| 44/44 [00:02<00:00, 21.01it/s, Train Loss=5794.3556, Valid Loss=4899.2378, Valid R2=-0.0077, Valid MAE=53.2003]\n",
      "Epoch  7: 100%|██████████| 44/44 [00:02<00:00, 21.16it/s, Train Loss=5827.8308, Valid Loss=4994.9780, Valid R2=-0.0273, Valid MAE=54.9887]\n",
      "Epoch  8: 100%|██████████| 44/44 [00:02<00:00, 21.01it/s, Train Loss=5787.7351, Valid Loss=4895.9951, Valid R2=-0.0070, Valid MAE=53.9728]\n",
      "Epoch  9: 100%|██████████| 44/44 [00:02<00:00, 20.64it/s, Train Loss=5668.5739, Valid Loss=4721.4517, Valid R2=0.0289, Valid MAE=51.0979]\n",
      "Epoch 10: 100%|██████████| 44/44 [00:01<00:00, 22.37it/s, Train Loss=5405.6033, Valid Loss=4891.3022, Valid R2=-0.0060, Valid MAE=55.0877]\n",
      "Epoch 11: 100%|██████████| 44/44 [00:02<00:00, 20.42it/s, Train Loss=5215.3913, Valid Loss=4438.9263, Valid R2=0.0870, Valid MAE=52.1287]\n",
      "Epoch 12: 100%|██████████| 44/44 [00:02<00:00, 20.26it/s, Train Loss=4992.0985, Valid Loss=4352.1025, Valid R2=0.1049, Valid MAE=51.2109]\n",
      "Epoch 13: 100%|██████████| 44/44 [00:02<00:00, 20.09it/s, Train Loss=4640.9213, Valid Loss=3918.3259, Valid R2=0.1941, Valid MAE=47.1311]\n",
      "Epoch 14: 100%|██████████| 44/44 [00:02<00:00, 21.08it/s, Train Loss=4265.0432, Valid Loss=4332.6792, Valid R2=0.1089, Valid MAE=52.6409]\n",
      "Epoch 15: 100%|██████████| 44/44 [00:02<00:00, 20.45it/s, Train Loss=4208.9013, Valid Loss=4000.6663, Valid R2=0.1772, Valid MAE=48.3413]\n",
      "Epoch 16: 100%|██████████| 44/44 [00:02<00:00, 19.91it/s, Train Loss=3848.1124, Valid Loss=3851.9951, Valid R2=0.2077, Valid MAE=46.3045]\n",
      "Epoch 17: 100%|██████████| 44/44 [00:02<00:00, 20.15it/s, Train Loss=3567.5118, Valid Loss=3887.1443, Valid R2=0.2005, Valid MAE=46.7190]\n",
      "Epoch 18: 100%|██████████| 44/44 [00:02<00:00, 20.35it/s, Train Loss=3457.2941, Valid Loss=3797.2986, Valid R2=0.2190, Valid MAE=46.7802]\n",
      "Epoch 19: 100%|██████████| 44/44 [00:02<00:00, 20.45it/s, Train Loss=3405.0529, Valid Loss=3941.0430, Valid R2=0.1894, Valid MAE=46.9161]\n",
      "Epoch 20: 100%|██████████| 44/44 [00:02<00:00, 20.85it/s, Train Loss=3319.4520, Valid Loss=3815.4526, Valid R2=0.2153, Valid MAE=45.6561]\n",
      "Epoch 21: 100%|██████████| 44/44 [00:02<00:00, 20.56it/s, Train Loss=3108.9995, Valid Loss=3864.9429, Valid R2=0.2051, Valid MAE=47.4880]\n",
      "Epoch 22: 100%|██████████| 44/44 [00:02<00:00, 20.83it/s, Train Loss=3028.6116, Valid Loss=4034.9294, Valid R2=0.1701, Valid MAE=46.7451]\n",
      "Epoch 23: 100%|██████████| 44/44 [00:02<00:00, 20.58it/s, Train Loss=3031.8840, Valid Loss=3901.0540, Valid R2=0.1976, Valid MAE=46.5350]\n",
      "Epoch 24: 100%|██████████| 44/44 [00:02<00:00, 20.20it/s, Train Loss=2861.4591, Valid Loss=4105.4033, Valid R2=0.1556, Valid MAE=49.6671]\n"
     ]
    },
    {
     "name": "stdout",
     "output_type": "stream",
     "text": [
      "Early Stopped\n",
      "Setting 106 of Parameters Grid is now on progres.\n"
     ]
    },
    {
     "name": "stderr",
     "output_type": "stream",
     "text": [
      "Epoch  0: 100%|██████████| 44/44 [00:02<00:00, 19.96it/s, Train Loss=14931.8124, Valid Loss=11073.3643, Valid R2=-1.2775, Valid MAE=78.8771]\n",
      "Epoch  1: 100%|██████████| 44/44 [00:02<00:00, 20.44it/s, Train Loss=10746.1669, Valid Loss=6188.7812, Valid R2=-0.2729, Valid MAE=52.2870]\n",
      "Epoch  2: 100%|██████████| 44/44 [00:02<00:00, 20.68it/s, Train Loss=6486.5864, Valid Loss=4979.6143, Valid R2=-0.0242, Valid MAE=54.1933]\n",
      "Epoch  3: 100%|██████████| 44/44 [00:02<00:00, 20.20it/s, Train Loss=5843.6642, Valid Loss=4936.2339, Valid R2=-0.0153, Valid MAE=53.6028]\n",
      "Epoch  4: 100%|██████████| 44/44 [00:02<00:00, 21.07it/s, Train Loss=5820.5587, Valid Loss=4965.5674, Valid R2=-0.0213, Valid MAE=54.2066]\n",
      "Epoch  5: 100%|██████████| 44/44 [00:02<00:00, 20.74it/s, Train Loss=5825.4935, Valid Loss=4967.2822, Valid R2=-0.0217, Valid MAE=54.2466]\n",
      "Epoch  6: 100%|██████████| 44/44 [00:02<00:00, 20.91it/s, Train Loss=5935.2752, Valid Loss=4913.5952, Valid R2=-0.0106, Valid MAE=53.3798]\n",
      "Epoch  7: 100%|██████████| 44/44 [00:02<00:00, 20.47it/s, Train Loss=5803.2607, Valid Loss=4932.3638, Valid R2=-0.0145, Valid MAE=53.5504]\n",
      "Epoch  8: 100%|██████████| 44/44 [00:02<00:00, 20.04it/s, Train Loss=5762.0187, Valid Loss=4950.4062, Valid R2=-0.0182, Valid MAE=54.2236]\n",
      "Epoch  9: 100%|██████████| 44/44 [00:02<00:00, 20.23it/s, Train Loss=5662.7314, Valid Loss=4932.6860, Valid R2=-0.0145, Valid MAE=54.6816]\n",
      "Epoch 10: 100%|██████████| 44/44 [00:02<00:00, 20.08it/s, Train Loss=5580.8116, Valid Loss=4948.6313, Valid R2=-0.0178, Valid MAE=54.4265]\n",
      "Epoch 11: 100%|██████████| 44/44 [00:02<00:00, 20.27it/s, Train Loss=5550.8858, Valid Loss=4611.1631, Valid R2=0.0516, Valid MAE=52.1688]\n",
      "Epoch 12: 100%|██████████| 44/44 [00:02<00:00, 19.94it/s, Train Loss=5284.0413, Valid Loss=4635.4980, Valid R2=0.0466, Valid MAE=52.8592]\n",
      "Epoch 13: 100%|██████████| 44/44 [00:02<00:00, 20.57it/s, Train Loss=5293.8769, Valid Loss=4480.0088, Valid R2=0.0786, Valid MAE=51.8746]\n",
      "Epoch 14: 100%|██████████| 44/44 [00:02<00:00, 20.10it/s, Train Loss=5196.8523, Valid Loss=4250.4858, Valid R2=0.1258, Valid MAE=50.1100]\n",
      "Epoch 15: 100%|██████████| 44/44 [00:02<00:00, 21.05it/s, Train Loss=4871.2214, Valid Loss=4095.6511, Valid R2=0.1576, Valid MAE=48.3119]\n",
      "Epoch 16: 100%|██████████| 44/44 [00:02<00:00, 20.63it/s, Train Loss=4820.2225, Valid Loss=4494.4346, Valid R2=0.0756, Valid MAE=53.3034]\n",
      "Epoch 17: 100%|██████████| 44/44 [00:02<00:00, 20.54it/s, Train Loss=4608.4982, Valid Loss=4861.1616, Valid R2=0.0002, Valid MAE=57.2525]\n",
      "Epoch 18: 100%|██████████| 44/44 [00:02<00:00, 20.34it/s, Train Loss=4657.0856, Valid Loss=3970.6172, Valid R2=0.1833, Valid MAE=47.9662]\n",
      "Epoch 19: 100%|██████████| 44/44 [00:02<00:00, 19.22it/s, Train Loss=4549.9735, Valid Loss=4629.8687, Valid R2=0.0477, Valid MAE=54.0750]\n",
      "Epoch 20: 100%|██████████| 44/44 [00:02<00:00, 19.60it/s, Train Loss=4402.4322, Valid Loss=3960.1965, Valid R2=0.1855, Valid MAE=47.1485]\n",
      "Epoch 21: 100%|██████████| 44/44 [00:02<00:00, 20.72it/s, Train Loss=4174.5227, Valid Loss=4121.0884, Valid R2=0.1524, Valid MAE=47.7965]\n",
      "Epoch 22: 100%|██████████| 44/44 [00:01<00:00, 22.15it/s, Train Loss=4463.3265, Valid Loss=4117.3022, Valid R2=0.1532, Valid MAE=49.2283]\n",
      "Epoch 23: 100%|██████████| 44/44 [00:02<00:00, 20.74it/s, Train Loss=4319.3085, Valid Loss=4356.7437, Valid R2=0.1039, Valid MAE=51.9615]\n",
      "Epoch 24: 100%|██████████| 44/44 [00:02<00:00, 20.97it/s, Train Loss=4214.8936, Valid Loss=4330.7080, Valid R2=0.1093, Valid MAE=51.8576]\n",
      "Epoch 25: 100%|██████████| 44/44 [00:02<00:00, 20.34it/s, Train Loss=4268.4994, Valid Loss=4439.1514, Valid R2=0.0870, Valid MAE=52.2649]\n",
      "Epoch 26: 100%|██████████| 44/44 [00:02<00:00, 20.73it/s, Train Loss=4060.1933, Valid Loss=5145.1953, Valid R2=-0.0582, Valid MAE=57.3041]\n"
     ]
    },
    {
     "name": "stdout",
     "output_type": "stream",
     "text": [
      "Early Stopped\n",
      "Setting 107 of Parameters Grid is now on progres.\n"
     ]
    },
    {
     "name": "stderr",
     "output_type": "stream",
     "text": [
      "Epoch  0: 100%|██████████| 44/44 [00:02<00:00, 20.61it/s, Train Loss=14424.3177, Valid Loss=9900.0020, Valid R2=-1.0362, Valid MAE=71.7308]\n",
      "Epoch  1: 100%|██████████| 44/44 [00:02<00:00, 20.53it/s, Train Loss=9775.6116, Valid Loss=5651.9590, Valid R2=-0.1625, Valid MAE=50.3346]\n",
      "Epoch  2: 100%|██████████| 44/44 [00:02<00:00, 20.62it/s, Train Loss=6113.1833, Valid Loss=5021.6025, Valid R2=-0.0328, Valid MAE=55.1031]\n",
      "Epoch  3: 100%|██████████| 44/44 [00:02<00:00, 20.48it/s, Train Loss=5778.8542, Valid Loss=4901.0137, Valid R2=-0.0080, Valid MAE=52.9194]\n",
      "Epoch  4: 100%|██████████| 44/44 [00:02<00:00, 20.90it/s, Train Loss=5794.6969, Valid Loss=4923.6313, Valid R2=-0.0127, Valid MAE=53.7067]\n",
      "Epoch  5: 100%|██████████| 44/44 [00:02<00:00, 21.05it/s, Train Loss=5810.6671, Valid Loss=4893.0581, Valid R2=-0.0064, Valid MAE=53.1649]\n",
      "Epoch  6: 100%|██████████| 44/44 [00:02<00:00, 21.26it/s, Train Loss=5740.9559, Valid Loss=4830.5806, Valid R2=0.0065, Valid MAE=52.9154]\n",
      "Epoch  7: 100%|██████████| 44/44 [00:02<00:00, 21.86it/s, Train Loss=5615.0188, Valid Loss=4695.5371, Valid R2=0.0342, Valid MAE=52.8074]\n",
      "Epoch  8: 100%|██████████| 44/44 [00:02<00:00, 20.80it/s, Train Loss=5484.5445, Valid Loss=4591.0508, Valid R2=0.0557, Valid MAE=52.5653]\n",
      "Epoch  9: 100%|██████████| 44/44 [00:02<00:00, 20.08it/s, Train Loss=5102.7487, Valid Loss=4442.5239, Valid R2=0.0863, Valid MAE=51.2847]\n",
      "Epoch 10: 100%|██████████| 44/44 [00:02<00:00, 19.94it/s, Train Loss=4784.8634, Valid Loss=4215.9341, Valid R2=0.1329, Valid MAE=48.4647]\n",
      "Epoch 11: 100%|██████████| 44/44 [00:02<00:00, 20.68it/s, Train Loss=4572.2970, Valid Loss=4195.2817, Valid R2=0.1371, Valid MAE=48.3564]\n",
      "Epoch 12: 100%|██████████| 44/44 [00:02<00:00, 20.93it/s, Train Loss=4238.9670, Valid Loss=3981.6614, Valid R2=0.1811, Valid MAE=46.6561]\n",
      "Epoch 13: 100%|██████████| 44/44 [00:02<00:00, 20.51it/s, Train Loss=4033.8879, Valid Loss=4023.5769, Valid R2=0.1724, Valid MAE=46.2714]\n",
      "Epoch 14: 100%|██████████| 44/44 [00:02<00:00, 20.90it/s, Train Loss=3847.9316, Valid Loss=3659.0930, Valid R2=0.2474, Valid MAE=44.6331]\n",
      "Epoch 15: 100%|██████████| 44/44 [00:02<00:00, 20.49it/s, Train Loss=3654.9335, Valid Loss=3845.3423, Valid R2=0.2091, Valid MAE=48.1520]\n",
      "Epoch 16: 100%|██████████| 44/44 [00:02<00:00, 20.64it/s, Train Loss=3421.7289, Valid Loss=3972.2656, Valid R2=0.1830, Valid MAE=46.1234]\n",
      "Epoch 17: 100%|██████████| 44/44 [00:02<00:00, 20.76it/s, Train Loss=3311.9989, Valid Loss=3664.7058, Valid R2=0.2463, Valid MAE=46.8614]\n",
      "Epoch 18: 100%|██████████| 44/44 [00:02<00:00, 20.24it/s, Train Loss=3094.2487, Valid Loss=4016.4236, Valid R2=0.1739, Valid MAE=48.9109]\n",
      "Epoch 19: 100%|██████████| 44/44 [00:02<00:00, 20.47it/s, Train Loss=2911.4018, Valid Loss=4003.6421, Valid R2=0.1765, Valid MAE=45.1998]\n",
      "Epoch 20: 100%|██████████| 44/44 [00:02<00:00, 20.72it/s, Train Loss=2842.6445, Valid Loss=3967.6492, Valid R2=0.1839, Valid MAE=46.7893]\n"
     ]
    },
    {
     "name": "stdout",
     "output_type": "stream",
     "text": [
      "Early Stopped\n",
      "Setting 108 of Parameters Grid is now on progres.\n"
     ]
    },
    {
     "name": "stderr",
     "output_type": "stream",
     "text": [
      "Epoch  0: 100%|██████████| 44/44 [00:02<00:00, 20.72it/s, Train Loss=15217.9553, Valid Loss=12071.8027, Valid R2=-1.4829, Valid MAE=84.9107]\n",
      "Epoch  1: 100%|██████████| 44/44 [00:02<00:00, 20.66it/s, Train Loss=13644.2406, Valid Loss=9463.9717, Valid R2=-0.9465, Valid MAE=69.1240]\n",
      "Epoch  2: 100%|██████████| 44/44 [00:02<00:00, 19.90it/s, Train Loss=8490.8373, Valid Loss=4879.3687, Valid R2=-0.0036, Valid MAE=52.1124]\n",
      "Epoch  3: 100%|██████████| 44/44 [00:02<00:00, 20.64it/s, Train Loss=5848.8155, Valid Loss=5005.2002, Valid R2=-0.0295, Valid MAE=54.7935]\n",
      "Epoch  4: 100%|██████████| 44/44 [00:02<00:00, 20.47it/s, Train Loss=5878.0476, Valid Loss=4934.9912, Valid R2=-0.0150, Valid MAE=53.5964]\n",
      "Epoch  5: 100%|██████████| 44/44 [00:02<00:00, 20.41it/s, Train Loss=5954.2265, Valid Loss=4954.8813, Valid R2=-0.0191, Valid MAE=54.0005]\n",
      "Epoch  6: 100%|██████████| 44/44 [00:02<00:00, 20.61it/s, Train Loss=5891.8104, Valid Loss=4937.9561, Valid R2=-0.0156, Valid MAE=53.7081]\n",
      "Epoch  7: 100%|██████████| 44/44 [00:02<00:00, 19.59it/s, Train Loss=5908.6029, Valid Loss=4978.3613, Valid R2=-0.0239, Valid MAE=54.4691]\n",
      "Epoch  8: 100%|██████████| 44/44 [00:02<00:00, 20.24it/s, Train Loss=5931.1627, Valid Loss=4879.2637, Valid R2=-0.0036, Valid MAE=52.1509]\n",
      "Epoch  9: 100%|██████████| 44/44 [00:02<00:00, 20.89it/s, Train Loss=5725.9393, Valid Loss=4968.0239, Valid R2=-0.0218, Valid MAE=54.4267]\n",
      "Epoch 10: 100%|██████████| 44/44 [00:02<00:00, 20.95it/s, Train Loss=5731.0766, Valid Loss=4838.8096, Valid R2=0.0048, Valid MAE=51.3817]\n",
      "Epoch 11: 100%|██████████| 44/44 [00:02<00:00, 21.19it/s, Train Loss=5430.8199, Valid Loss=4858.5513, Valid R2=0.0007, Valid MAE=53.8551]\n",
      "Epoch 12: 100%|██████████| 44/44 [00:02<00:00, 21.17it/s, Train Loss=5183.1625, Valid Loss=4525.2446, Valid R2=0.0693, Valid MAE=50.1643]\n",
      "Epoch 13: 100%|██████████| 44/44 [00:02<00:00, 21.11it/s, Train Loss=4612.1575, Valid Loss=4537.2339, Valid R2=0.0668, Valid MAE=51.9579]\n",
      "Epoch 14: 100%|██████████| 44/44 [00:02<00:00, 20.86it/s, Train Loss=4445.1247, Valid Loss=4553.0547, Valid R2=0.0635, Valid MAE=52.4733]\n",
      "Epoch 15: 100%|██████████| 44/44 [00:02<00:00, 20.08it/s, Train Loss=4093.8189, Valid Loss=3910.5359, Valid R2=0.1957, Valid MAE=46.9253]\n",
      "Epoch 16: 100%|██████████| 44/44 [00:02<00:00, 19.88it/s, Train Loss=3977.3876, Valid Loss=4306.0757, Valid R2=0.1143, Valid MAE=50.9094]\n",
      "Epoch 17: 100%|██████████| 44/44 [00:02<00:00, 20.57it/s, Train Loss=3775.1090, Valid Loss=3539.8958, Valid R2=0.2719, Valid MAE=44.2946]\n",
      "Epoch 18: 100%|██████████| 44/44 [00:02<00:00, 20.93it/s, Train Loss=3648.4994, Valid Loss=3440.8452, Valid R2=0.2923, Valid MAE=43.7243]\n",
      "Epoch 19: 100%|██████████| 44/44 [00:02<00:00, 20.71it/s, Train Loss=3235.9362, Valid Loss=3678.8906, Valid R2=0.2433, Valid MAE=45.5980]\n",
      "Epoch 20: 100%|██████████| 44/44 [00:02<00:00, 20.71it/s, Train Loss=2950.1059, Valid Loss=3738.4800, Valid R2=0.2311, Valid MAE=46.3792]\n",
      "Epoch 21: 100%|██████████| 44/44 [00:02<00:00, 20.48it/s, Train Loss=2884.5476, Valid Loss=3480.6201, Valid R2=0.2841, Valid MAE=43.1978]\n",
      "Epoch 22: 100%|██████████| 44/44 [00:02<00:00, 21.08it/s, Train Loss=2563.0523, Valid Loss=3949.8269, Valid R2=0.1876, Valid MAE=48.5536]\n",
      "Epoch 23: 100%|██████████| 44/44 [00:02<00:00, 20.89it/s, Train Loss=2489.8905, Valid Loss=3666.7937, Valid R2=0.2458, Valid MAE=45.4066]\n",
      "Epoch 24: 100%|██████████| 44/44 [00:02<00:00, 20.84it/s, Train Loss=2340.3675, Valid Loss=3277.0950, Valid R2=0.3260, Valid MAE=42.7708]\n",
      "Epoch 25: 100%|██████████| 44/44 [00:02<00:00, 20.95it/s, Train Loss=2304.7482, Valid Loss=3375.6543, Valid R2=0.3057, Valid MAE=44.6345]\n",
      "Epoch 26: 100%|██████████| 44/44 [00:02<00:00, 20.81it/s, Train Loss=2011.5356, Valid Loss=3046.9294, Valid R2=0.3733, Valid MAE=41.8851]\n",
      "Epoch 27: 100%|██████████| 44/44 [00:02<00:00, 20.49it/s, Train Loss=1899.6098, Valid Loss=3054.5303, Valid R2=0.3718, Valid MAE=42.2458]\n",
      "Epoch 28: 100%|██████████| 44/44 [00:02<00:00, 20.58it/s, Train Loss=1843.6911, Valid Loss=3635.5266, Valid R2=0.2523, Valid MAE=44.3192]\n",
      "Epoch 29: 100%|██████████| 44/44 [00:02<00:00, 20.69it/s, Train Loss=1982.6547, Valid Loss=3221.0049, Valid R2=0.3375, Valid MAE=43.1969]\n",
      "Epoch 30: 100%|██████████| 44/44 [00:02<00:00, 21.01it/s, Train Loss=1982.3748, Valid Loss=3207.9158, Valid R2=0.3402, Valid MAE=42.3425]\n",
      "Epoch 31: 100%|██████████| 44/44 [00:02<00:00, 21.08it/s, Train Loss=1681.3325, Valid Loss=3093.8269, Valid R2=0.3637, Valid MAE=42.1272]\n",
      "Epoch 32: 100%|██████████| 44/44 [00:02<00:00, 21.01it/s, Train Loss=1562.3321, Valid Loss=3025.9050, Valid R2=0.3776, Valid MAE=42.2147]\n",
      "Epoch 33: 100%|██████████| 44/44 [00:02<00:00, 20.90it/s, Train Loss=1607.2237, Valid Loss=2942.6919, Valid R2=0.3948, Valid MAE=38.7046]\n",
      "Epoch 34: 100%|██████████| 44/44 [00:02<00:00, 20.59it/s, Train Loss=1789.1726, Valid Loss=3338.6018, Valid R2=0.3133, Valid MAE=43.6271]\n",
      "Epoch 35: 100%|██████████| 44/44 [00:02<00:00, 20.73it/s, Train Loss=1754.9743, Valid Loss=3196.4368, Valid R2=0.3426, Valid MAE=41.7976]\n",
      "Epoch 36: 100%|██████████| 44/44 [00:02<00:00, 21.21it/s, Train Loss=1607.0783, Valid Loss=3915.3350, Valid R2=0.1947, Valid MAE=46.0762]\n",
      "Epoch 37: 100%|██████████| 44/44 [00:02<00:00, 21.18it/s, Train Loss=1675.5911, Valid Loss=3292.3545, Valid R2=0.3228, Valid MAE=41.9280]\n",
      "Epoch 38: 100%|██████████| 44/44 [00:02<00:00, 21.06it/s, Train Loss=1476.9674, Valid Loss=3371.9578, Valid R2=0.3065, Valid MAE=43.1032]\n",
      "Epoch 39: 100%|██████████| 44/44 [00:02<00:00, 21.14it/s, Train Loss=1471.8367, Valid Loss=2974.8142, Valid R2=0.3882, Valid MAE=40.6048]\n"
     ]
    },
    {
     "name": "stdout",
     "output_type": "stream",
     "text": [
      "Early Stopped\n",
      "Setting 109 of Parameters Grid is now on progres.\n"
     ]
    },
    {
     "name": "stderr",
     "output_type": "stream",
     "text": [
      "Epoch  0: 100%|██████████| 44/44 [00:02<00:00, 20.75it/s, Train Loss=15203.8141, Valid Loss=12031.3330, Valid R2=-1.4746, Valid MAE=84.6719]\n",
      "Epoch  1: 100%|██████████| 44/44 [00:02<00:00, 20.98it/s, Train Loss=13557.1632, Valid Loss=9641.9922, Valid R2=-0.9831, Valid MAE=70.1676]\n",
      "Epoch  2: 100%|██████████| 44/44 [00:02<00:00, 20.92it/s, Train Loss=10065.7881, Valid Loss=6148.5508, Valid R2=-0.2646, Valid MAE=52.1272]\n",
      "Epoch  3: 100%|██████████| 44/44 [00:02<00:00, 21.02it/s, Train Loss=6568.9140, Valid Loss=4881.2188, Valid R2=-0.0040, Valid MAE=52.3249]\n",
      "Epoch  4: 100%|██████████| 44/44 [00:02<00:00, 20.77it/s, Train Loss=5873.7127, Valid Loss=4933.8809, Valid R2=-0.0148, Valid MAE=53.6027]\n",
      "Epoch  5: 100%|██████████| 44/44 [00:02<00:00, 20.85it/s, Train Loss=5946.1062, Valid Loss=4915.6567, Valid R2=-0.0110, Valid MAE=53.1355]\n",
      "Epoch  6: 100%|██████████| 44/44 [00:02<00:00, 20.88it/s, Train Loss=6025.0511, Valid Loss=4911.1465, Valid R2=-0.0101, Valid MAE=53.1421]\n",
      "Epoch  7: 100%|██████████| 44/44 [00:02<00:00, 20.30it/s, Train Loss=5911.5764, Valid Loss=4891.7939, Valid R2=-0.0061, Valid MAE=52.8511]\n",
      "Epoch  8: 100%|██████████| 44/44 [00:02<00:00, 20.10it/s, Train Loss=6031.9280, Valid Loss=4917.8130, Valid R2=-0.0115, Valid MAE=53.2019]\n",
      "Epoch  9: 100%|██████████| 44/44 [00:02<00:00, 21.15it/s, Train Loss=5837.9572, Valid Loss=4848.8965, Valid R2=0.0027, Valid MAE=51.0968]\n",
      "Epoch 10: 100%|██████████| 44/44 [00:02<00:00, 20.80it/s, Train Loss=5674.3167, Valid Loss=4848.1162, Valid R2=0.0029, Valid MAE=53.0568]\n",
      "Epoch 11: 100%|██████████| 44/44 [00:02<00:00, 20.88it/s, Train Loss=5546.2589, Valid Loss=4845.0806, Valid R2=0.0035, Valid MAE=53.7309]\n",
      "Epoch 12: 100%|██████████| 44/44 [00:02<00:00, 20.72it/s, Train Loss=5329.9869, Valid Loss=4896.9839, Valid R2=-0.0072, Valid MAE=54.3213]\n",
      "Epoch 13: 100%|██████████| 44/44 [00:02<00:00, 20.11it/s, Train Loss=5069.1363, Valid Loss=4706.9517, Valid R2=0.0319, Valid MAE=50.4597]\n",
      "Epoch 14: 100%|██████████| 44/44 [00:02<00:00, 19.73it/s, Train Loss=4863.1920, Valid Loss=5809.8706, Valid R2=-0.1950, Valid MAE=63.0275]\n",
      "Epoch 15: 100%|██████████| 44/44 [00:02<00:00, 20.09it/s, Train Loss=4633.3622, Valid Loss=5037.6309, Valid R2=-0.0361, Valid MAE=54.5637]\n",
      "Epoch 16: 100%|██████████| 44/44 [00:02<00:00, 20.01it/s, Train Loss=4588.7521, Valid Loss=4824.4248, Valid R2=0.0077, Valid MAE=53.2530]\n",
      "Epoch 17: 100%|██████████| 44/44 [00:02<00:00, 20.03it/s, Train Loss=4367.1239, Valid Loss=4777.5474, Valid R2=0.0174, Valid MAE=53.8920]\n",
      "Epoch 18: 100%|██████████| 44/44 [00:02<00:00, 20.07it/s, Train Loss=4342.8788, Valid Loss=4744.8760, Valid R2=0.0241, Valid MAE=52.1337]\n",
      "Epoch 19: 100%|██████████| 44/44 [00:02<00:00, 20.05it/s, Train Loss=4008.3311, Valid Loss=4815.6704, Valid R2=0.0095, Valid MAE=51.4529]\n"
     ]
    },
    {
     "name": "stdout",
     "output_type": "stream",
     "text": [
      "Early Stopped\n",
      "Setting 110 of Parameters Grid is now on progres.\n"
     ]
    },
    {
     "name": "stderr",
     "output_type": "stream",
     "text": [
      "Epoch  0: 100%|██████████| 44/44 [00:02<00:00, 21.02it/s, Train Loss=15147.1229, Valid Loss=11846.8975, Valid R2=-1.4366, Valid MAE=83.5759]\n",
      "Epoch  1: 100%|██████████| 44/44 [00:02<00:00, 20.99it/s, Train Loss=12873.4995, Valid Loss=8515.4863, Valid R2=-0.7514, Valid MAE=63.6282]\n",
      "Epoch  2: 100%|██████████| 44/44 [00:02<00:00, 20.88it/s, Train Loss=8658.1631, Valid Loss=5318.7378, Valid R2=-0.0939, Valid MAE=49.5211]\n",
      "Epoch  3: 100%|██████████| 44/44 [00:02<00:00, 21.03it/s, Train Loss=6253.0395, Valid Loss=4894.8970, Valid R2=-0.0068, Valid MAE=52.6977]\n",
      "Epoch  4: 100%|██████████| 44/44 [00:02<00:00, 20.32it/s, Train Loss=5980.4469, Valid Loss=4961.7842, Valid R2=-0.0205, Valid MAE=53.6763]\n",
      "Epoch  5: 100%|██████████| 44/44 [00:02<00:00, 20.81it/s, Train Loss=5817.3173, Valid Loss=4987.4834, Valid R2=-0.0258, Valid MAE=54.2375]\n",
      "Epoch  6: 100%|██████████| 44/44 [00:02<00:00, 18.59it/s, Train Loss=5972.0902, Valid Loss=4851.3228, Valid R2=0.0022, Valid MAE=52.4289]\n",
      "Epoch  7: 100%|██████████| 44/44 [00:02<00:00, 19.96it/s, Train Loss=5822.9289, Valid Loss=5083.0869, Valid R2=-0.0455, Valid MAE=55.9441]\n",
      "Epoch  8: 100%|██████████| 44/44 [00:02<00:00, 20.81it/s, Train Loss=5866.0557, Valid Loss=4896.6348, Valid R2=-0.0071, Valid MAE=53.1845]\n",
      "Epoch  9: 100%|██████████| 44/44 [00:02<00:00, 21.00it/s, Train Loss=5891.5965, Valid Loss=4948.2783, Valid R2=-0.0177, Valid MAE=54.0762]\n",
      "Epoch 10: 100%|██████████| 44/44 [00:02<00:00, 20.95it/s, Train Loss=5775.4480, Valid Loss=4927.5474, Valid R2=-0.0135, Valid MAE=54.0427]\n",
      "Epoch 11: 100%|██████████| 44/44 [00:02<00:00, 20.80it/s, Train Loss=5712.2612, Valid Loss=4764.5532, Valid R2=0.0200, Valid MAE=51.2755]\n",
      "Epoch 12: 100%|██████████| 44/44 [00:02<00:00, 20.67it/s, Train Loss=5643.7797, Valid Loss=4945.9614, Valid R2=-0.0173, Valid MAE=53.8289]\n",
      "Epoch 13: 100%|██████████| 44/44 [00:02<00:00, 20.49it/s, Train Loss=5610.7125, Valid Loss=5122.4248, Valid R2=-0.0536, Valid MAE=56.7370]\n",
      "Epoch 14: 100%|██████████| 44/44 [00:02<00:00, 21.09it/s, Train Loss=5562.0924, Valid Loss=4847.2612, Valid R2=0.0030, Valid MAE=53.0084]\n",
      "Epoch 15: 100%|██████████| 44/44 [00:02<00:00, 20.53it/s, Train Loss=5412.7742, Valid Loss=4723.7866, Valid R2=0.0284, Valid MAE=52.8422]\n",
      "Epoch 16: 100%|██████████| 44/44 [00:02<00:00, 20.90it/s, Train Loss=5460.0919, Valid Loss=4674.8384, Valid R2=0.0385, Valid MAE=51.1825]\n",
      "Epoch 17: 100%|██████████| 44/44 [00:02<00:00, 20.90it/s, Train Loss=5442.8082, Valid Loss=4665.1787, Valid R2=0.0405, Valid MAE=50.8412]\n",
      "Epoch 18: 100%|██████████| 44/44 [00:02<00:00, 20.55it/s, Train Loss=5206.0258, Valid Loss=4981.4722, Valid R2=-0.0246, Valid MAE=55.5118]\n",
      "Epoch 19: 100%|██████████| 44/44 [00:02<00:00, 19.91it/s, Train Loss=5320.8421, Valid Loss=4884.9795, Valid R2=-0.0047, Valid MAE=52.7513]\n",
      "Epoch 20: 100%|██████████| 44/44 [00:02<00:00, 20.16it/s, Train Loss=5266.8654, Valid Loss=4816.0234, Valid R2=0.0095, Valid MAE=52.9684]\n",
      "Epoch 21: 100%|██████████| 44/44 [00:02<00:00, 20.63it/s, Train Loss=4974.0567, Valid Loss=4791.2793, Valid R2=0.0145, Valid MAE=47.5648]\n",
      "Epoch 22: 100%|██████████| 44/44 [00:02<00:00, 20.86it/s, Train Loss=5037.3951, Valid Loss=4672.1895, Valid R2=0.0390, Valid MAE=51.7155]\n",
      "Epoch 23: 100%|██████████| 44/44 [00:02<00:00, 20.22it/s, Train Loss=4814.5889, Valid Loss=5109.9214, Valid R2=-0.0510, Valid MAE=56.6242]\n"
     ]
    },
    {
     "name": "stdout",
     "output_type": "stream",
     "text": [
      "Early Stopped\n",
      "Setting 111 of Parameters Grid is now on progres.\n"
     ]
    },
    {
     "name": "stderr",
     "output_type": "stream",
     "text": [
      "Epoch  0: 100%|██████████| 44/44 [00:02<00:00, 20.81it/s, Train Loss=15245.2654, Valid Loss=12020.1396, Valid R2=-1.4723, Valid MAE=84.6027]\n",
      "Epoch  1: 100%|██████████| 44/44 [00:02<00:00, 21.65it/s, Train Loss=12453.6523, Valid Loss=7212.7803, Valid R2=-0.4835, Valid MAE=56.9523]\n",
      "Epoch  2: 100%|██████████| 44/44 [00:02<00:00, 20.89it/s, Train Loss=6753.8634, Valid Loss=5033.9463, Valid R2=-0.0354, Valid MAE=55.2273]\n",
      "Epoch  3: 100%|██████████| 44/44 [00:02<00:00, 21.08it/s, Train Loss=5822.4715, Valid Loss=4919.6436, Valid R2=-0.0119, Valid MAE=53.2577]\n",
      "Epoch  4: 100%|██████████| 44/44 [00:02<00:00, 20.94it/s, Train Loss=5881.2137, Valid Loss=4950.1880, Valid R2=-0.0181, Valid MAE=53.8788]\n",
      "Epoch  5: 100%|██████████| 44/44 [00:02<00:00, 20.42it/s, Train Loss=5811.8947, Valid Loss=5071.6714, Valid R2=-0.0431, Valid MAE=55.7655]\n",
      "Epoch  6: 100%|██████████| 44/44 [00:02<00:00, 20.07it/s, Train Loss=5917.9399, Valid Loss=4912.7437, Valid R2=-0.0104, Valid MAE=53.1091]\n",
      "Epoch  7: 100%|██████████| 44/44 [00:02<00:00, 20.56it/s, Train Loss=5892.2541, Valid Loss=4940.5186, Valid R2=-0.0161, Valid MAE=53.7235]\n",
      "Epoch  8: 100%|██████████| 44/44 [00:02<00:00, 20.36it/s, Train Loss=5884.8989, Valid Loss=5001.9214, Valid R2=-0.0288, Valid MAE=54.7835]\n",
      "Epoch  9: 100%|██████████| 44/44 [00:02<00:00, 20.35it/s, Train Loss=5821.5967, Valid Loss=4841.0732, Valid R2=0.0043, Valid MAE=51.4518]\n",
      "Epoch 10: 100%|██████████| 44/44 [00:02<00:00, 19.91it/s, Train Loss=5628.2586, Valid Loss=4809.8286, Valid R2=0.0107, Valid MAE=54.0678]\n",
      "Epoch 11: 100%|██████████| 44/44 [00:02<00:00, 19.88it/s, Train Loss=5388.1758, Valid Loss=4446.9634, Valid R2=0.0854, Valid MAE=50.9675]\n",
      "Epoch 12: 100%|██████████| 44/44 [00:02<00:00, 20.05it/s, Train Loss=4937.4818, Valid Loss=4765.7090, Valid R2=0.0198, Valid MAE=55.6625]\n",
      "Epoch 13: 100%|██████████| 44/44 [00:02<00:00, 19.05it/s, Train Loss=4708.9897, Valid Loss=4947.8813, Valid R2=-0.0177, Valid MAE=57.5047]\n",
      "Epoch 14: 100%|██████████| 44/44 [00:02<00:00, 20.02it/s, Train Loss=4373.9083, Valid Loss=3936.9731, Valid R2=0.1903, Valid MAE=47.5458]\n",
      "Epoch 15: 100%|██████████| 44/44 [00:02<00:00, 19.96it/s, Train Loss=3979.3318, Valid Loss=3843.4800, Valid R2=0.2095, Valid MAE=45.8339]\n",
      "Epoch 16: 100%|██████████| 44/44 [00:02<00:00, 20.76it/s, Train Loss=3877.6325, Valid Loss=3771.1809, Valid R2=0.2244, Valid MAE=47.5105]\n",
      "Epoch 17: 100%|██████████| 44/44 [00:02<00:00, 21.05it/s, Train Loss=3566.2497, Valid Loss=4127.3188, Valid R2=0.1511, Valid MAE=50.8985]\n",
      "Epoch 18: 100%|██████████| 44/44 [00:02<00:00, 21.06it/s, Train Loss=3504.2608, Valid Loss=3899.4072, Valid R2=0.1980, Valid MAE=48.5072]\n",
      "Epoch 19: 100%|██████████| 44/44 [00:01<00:00, 22.11it/s, Train Loss=3291.6069, Valid Loss=3710.7288, Valid R2=0.2368, Valid MAE=46.8046]\n",
      "Epoch 20: 100%|██████████| 44/44 [00:02<00:00, 21.00it/s, Train Loss=3122.3980, Valid Loss=3726.0581, Valid R2=0.2336, Valid MAE=46.9293]\n",
      "Epoch 21: 100%|██████████| 44/44 [00:02<00:00, 21.00it/s, Train Loss=2835.3727, Valid Loss=3523.8877, Valid R2=0.2752, Valid MAE=45.4904]\n",
      "Epoch 22: 100%|██████████| 44/44 [00:02<00:00, 20.91it/s, Train Loss=2810.2167, Valid Loss=3687.9419, Valid R2=0.2415, Valid MAE=46.8678]\n",
      "Epoch 23: 100%|██████████| 44/44 [00:02<00:00, 21.14it/s, Train Loss=2641.7374, Valid Loss=3354.7529, Valid R2=0.3100, Valid MAE=43.3903]\n",
      "Epoch 24: 100%|██████████| 44/44 [00:02<00:00, 20.83it/s, Train Loss=2706.6891, Valid Loss=3446.5408, Valid R2=0.2911, Valid MAE=44.7121]\n",
      "Epoch 25: 100%|██████████| 44/44 [00:02<00:00, 20.69it/s, Train Loss=2437.5929, Valid Loss=3530.4502, Valid R2=0.2739, Valid MAE=45.8819]\n",
      "Epoch 26: 100%|██████████| 44/44 [00:02<00:00, 20.97it/s, Train Loss=2315.7244, Valid Loss=3460.4309, Valid R2=0.2883, Valid MAE=43.5511]\n",
      "Epoch 27: 100%|██████████| 44/44 [00:02<00:00, 20.74it/s, Train Loss=2218.9024, Valid Loss=3570.3750, Valid R2=0.2657, Valid MAE=44.5128]\n",
      "Epoch 28: 100%|██████████| 44/44 [00:02<00:00, 21.24it/s, Train Loss=2113.0113, Valid Loss=3668.9297, Valid R2=0.2454, Valid MAE=46.9638]\n",
      "Epoch 29: 100%|██████████| 44/44 [00:02<00:00, 20.49it/s, Train Loss=2103.1317, Valid Loss=3476.7083, Valid R2=0.2849, Valid MAE=44.6227]\n"
     ]
    },
    {
     "name": "stdout",
     "output_type": "stream",
     "text": [
      "Early Stopped\n",
      "Setting 112 of Parameters Grid is now on progres.\n"
     ]
    },
    {
     "name": "stderr",
     "output_type": "stream",
     "text": [
      "Epoch  0: 100%|██████████| 44/44 [00:02<00:00, 20.93it/s, Train Loss=15201.8769, Valid Loss=11780.3877, Valid R2=-1.4229, Valid MAE=83.1783]\n",
      "Epoch  1: 100%|██████████| 44/44 [00:02<00:00, 20.84it/s, Train Loss=11468.4623, Valid Loss=5665.0991, Valid R2=-0.1652, Valid MAE=50.3933]\n",
      "Epoch  2: 100%|██████████| 44/44 [00:01<00:00, 22.28it/s, Train Loss=6134.6492, Valid Loss=4930.2949, Valid R2=-0.0140, Valid MAE=53.5005]\n",
      "Epoch  3: 100%|██████████| 44/44 [00:02<00:00, 21.56it/s, Train Loss=5872.2611, Valid Loss=5009.6216, Valid R2=-0.0304, Valid MAE=54.8595]\n",
      "Epoch  4: 100%|██████████| 44/44 [00:02<00:00, 20.66it/s, Train Loss=5789.3636, Valid Loss=4860.1880, Valid R2=0.0004, Valid MAE=52.3237]\n",
      "Epoch  5: 100%|██████████| 44/44 [00:02<00:00, 20.98it/s, Train Loss=5766.6024, Valid Loss=4914.2559, Valid R2=-0.0107, Valid MAE=54.4979]\n",
      "Epoch  6: 100%|██████████| 44/44 [00:02<00:00, 21.21it/s, Train Loss=5414.7502, Valid Loss=4606.2808, Valid R2=0.0526, Valid MAE=51.2744]\n",
      "Epoch  7: 100%|██████████| 44/44 [00:02<00:00, 20.66it/s, Train Loss=5176.7299, Valid Loss=4704.3701, Valid R2=0.0324, Valid MAE=53.3012]\n",
      "Epoch  8: 100%|██████████| 44/44 [00:02<00:00, 20.39it/s, Train Loss=4985.8619, Valid Loss=4559.8140, Valid R2=0.0622, Valid MAE=51.9414]\n",
      "Epoch  9: 100%|██████████| 44/44 [00:02<00:00, 20.75it/s, Train Loss=4770.2803, Valid Loss=4316.5361, Valid R2=0.1122, Valid MAE=50.3410]\n",
      "Epoch 10: 100%|██████████| 44/44 [00:02<00:00, 20.12it/s, Train Loss=4566.4961, Valid Loss=4362.9863, Valid R2=0.1026, Valid MAE=50.6721]\n",
      "Epoch 11: 100%|██████████| 44/44 [00:02<00:00, 20.31it/s, Train Loss=4290.8704, Valid Loss=4229.6699, Valid R2=0.1301, Valid MAE=48.8248]\n",
      "Epoch 12: 100%|██████████| 44/44 [00:02<00:00, 20.41it/s, Train Loss=4255.7037, Valid Loss=4025.5388, Valid R2=0.1720, Valid MAE=48.5342]\n",
      "Epoch 13: 100%|██████████| 44/44 [00:02<00:00, 21.32it/s, Train Loss=4092.7588, Valid Loss=4088.4946, Valid R2=0.1591, Valid MAE=47.4435]\n",
      "Epoch 14: 100%|██████████| 44/44 [00:01<00:00, 22.11it/s, Train Loss=3894.3386, Valid Loss=4004.1814, Valid R2=0.1764, Valid MAE=48.7968]\n",
      "Epoch 15: 100%|██████████| 44/44 [00:02<00:00, 20.06it/s, Train Loss=3626.5988, Valid Loss=4055.6462, Valid R2=0.1658, Valid MAE=46.4515]\n",
      "Epoch 16: 100%|██████████| 44/44 [00:02<00:00, 20.01it/s, Train Loss=3577.2821, Valid Loss=4032.1445, Valid R2=0.1707, Valid MAE=48.0535]\n",
      "Epoch 17: 100%|██████████| 44/44 [00:02<00:00, 20.01it/s, Train Loss=3077.8589, Valid Loss=4003.1104, Valid R2=0.1767, Valid MAE=49.3024]\n",
      "Epoch 18: 100%|██████████| 44/44 [00:02<00:00, 20.72it/s, Train Loss=3103.7007, Valid Loss=4198.0938, Valid R2=0.1366, Valid MAE=50.3721]\n",
      "Epoch 19: 100%|██████████| 44/44 [00:02<00:00, 20.58it/s, Train Loss=3000.3666, Valid Loss=3884.3391, Valid R2=0.2011, Valid MAE=48.1719]\n",
      "Epoch 20: 100%|██████████| 44/44 [00:02<00:00, 20.34it/s, Train Loss=2812.3180, Valid Loss=3683.8970, Valid R2=0.2423, Valid MAE=46.0004]\n",
      "Epoch 21: 100%|██████████| 44/44 [00:02<00:00, 20.32it/s, Train Loss=2665.0084, Valid Loss=3819.6340, Valid R2=0.2144, Valid MAE=47.3290]\n",
      "Epoch 22: 100%|██████████| 44/44 [00:02<00:00, 20.68it/s, Train Loss=2580.8761, Valid Loss=3810.7083, Valid R2=0.2162, Valid MAE=46.2986]\n",
      "Epoch 23: 100%|██████████| 44/44 [00:02<00:00, 20.34it/s, Train Loss=2328.8692, Valid Loss=4016.7852, Valid R2=0.1738, Valid MAE=48.2045]\n",
      "Epoch 24: 100%|██████████| 44/44 [00:02<00:00, 20.35it/s, Train Loss=2219.1547, Valid Loss=4126.9502, Valid R2=0.1512, Valid MAE=48.9940]\n",
      "Epoch 25: 100%|██████████| 44/44 [00:02<00:00, 20.35it/s, Train Loss=2197.6593, Valid Loss=3949.3718, Valid R2=0.1877, Valid MAE=46.5291]\n",
      "Epoch 26: 100%|██████████| 44/44 [00:02<00:00, 20.40it/s, Train Loss=2160.4658, Valid Loss=3998.9824, Valid R2=0.1775, Valid MAE=47.2527]\n"
     ]
    },
    {
     "name": "stdout",
     "output_type": "stream",
     "text": [
      "Early Stopped\n",
      "Setting 113 of Parameters Grid is now on progres.\n"
     ]
    },
    {
     "name": "stderr",
     "output_type": "stream",
     "text": [
      "Epoch  0: 100%|██████████| 44/44 [00:02<00:00, 20.09it/s, Train Loss=15171.0527, Valid Loss=11930.2021, Valid R2=-1.4538, Valid MAE=84.0728]\n",
      "Epoch  1: 100%|██████████| 44/44 [00:02<00:00, 20.49it/s, Train Loss=13306.7679, Valid Loss=8840.3193, Valid R2=-0.8182, Valid MAE=65.3857]\n",
      "Epoch  2: 100%|██████████| 44/44 [00:02<00:00, 20.64it/s, Train Loss=7676.0450, Valid Loss=5067.8188, Valid R2=-0.0423, Valid MAE=55.7272]\n",
      "Epoch  3: 100%|██████████| 44/44 [00:02<00:00, 20.69it/s, Train Loss=5821.9058, Valid Loss=4895.3657, Valid R2=-0.0069, Valid MAE=52.7461]\n",
      "Epoch  4: 100%|██████████| 44/44 [00:02<00:00, 20.30it/s, Train Loss=5797.4420, Valid Loss=5019.3887, Valid R2=-0.0324, Valid MAE=55.0719]\n",
      "Epoch  5: 100%|██████████| 44/44 [00:02<00:00, 20.58it/s, Train Loss=5793.7588, Valid Loss=4952.8770, Valid R2=-0.0187, Valid MAE=53.9771]\n",
      "Epoch  6: 100%|██████████| 44/44 [00:02<00:00, 20.80it/s, Train Loss=5826.6215, Valid Loss=4968.3687, Valid R2=-0.0219, Valid MAE=54.2169]\n",
      "Epoch  7: 100%|██████████| 44/44 [00:02<00:00, 20.46it/s, Train Loss=5893.0465, Valid Loss=4920.9204, Valid R2=-0.0121, Valid MAE=53.3683]\n",
      "Epoch  8: 100%|██████████| 44/44 [00:02<00:00, 20.09it/s, Train Loss=5832.6872, Valid Loss=5005.6685, Valid R2=-0.0295, Valid MAE=54.8865]\n",
      "Epoch  9: 100%|██████████| 44/44 [00:02<00:00, 20.77it/s, Train Loss=5849.9220, Valid Loss=4927.6299, Valid R2=-0.0135, Valid MAE=53.7679]\n"
     ]
    },
    {
     "name": "stdout",
     "output_type": "stream",
     "text": [
      "Early Stopped\n",
      "Setting 114 of Parameters Grid is now on progres.\n"
     ]
    },
    {
     "name": "stderr",
     "output_type": "stream",
     "text": [
      "Epoch  0: 100%|██████████| 44/44 [00:02<00:00, 21.40it/s, Train Loss=15150.4918, Valid Loss=12013.8955, Valid R2=-1.4710, Valid MAE=84.5689]\n",
      "Epoch  1: 100%|██████████| 44/44 [00:02<00:00, 20.78it/s, Train Loss=13468.0535, Valid Loss=9014.5566, Valid R2=-0.8541, Valid MAE=66.3895]\n",
      "Epoch  2: 100%|██████████| 44/44 [00:02<00:00, 20.63it/s, Train Loss=7883.9841, Valid Loss=4978.5566, Valid R2=-0.0240, Valid MAE=54.4065]\n",
      "Epoch  3: 100%|██████████| 44/44 [00:02<00:00, 20.55it/s, Train Loss=5823.6670, Valid Loss=4966.0972, Valid R2=-0.0214, Valid MAE=54.2732]\n",
      "Epoch  4: 100%|██████████| 44/44 [00:02<00:00, 20.95it/s, Train Loss=5929.8255, Valid Loss=4926.7271, Valid R2=-0.0133, Valid MAE=53.5623]\n",
      "Epoch  5: 100%|██████████| 44/44 [00:02<00:00, 20.96it/s, Train Loss=5891.2371, Valid Loss=4919.4297, Valid R2=-0.0118, Valid MAE=53.6205]\n",
      "Epoch  6: 100%|██████████| 44/44 [00:02<00:00, 21.03it/s, Train Loss=5725.4375, Valid Loss=4821.4360, Valid R2=0.0083, Valid MAE=52.0318]\n",
      "Epoch  7: 100%|██████████| 44/44 [00:02<00:00, 21.10it/s, Train Loss=5652.9198, Valid Loss=4700.2646, Valid R2=0.0333, Valid MAE=52.4826]\n",
      "Epoch  8: 100%|██████████| 44/44 [00:02<00:00, 19.03it/s, Train Loss=5067.3933, Valid Loss=4643.3188, Valid R2=0.0450, Valid MAE=50.7638]\n",
      "Epoch  9: 100%|██████████| 44/44 [00:02<00:00, 20.45it/s, Train Loss=5020.6203, Valid Loss=4371.6191, Valid R2=0.1009, Valid MAE=51.2066]\n",
      "Epoch 10: 100%|██████████| 44/44 [00:02<00:00, 20.73it/s, Train Loss=4504.2975, Valid Loss=4214.1689, Valid R2=0.1332, Valid MAE=50.2289]\n",
      "Epoch 11: 100%|██████████| 44/44 [00:02<00:00, 20.77it/s, Train Loss=4388.8412, Valid Loss=4180.2310, Valid R2=0.1402, Valid MAE=49.7309]\n",
      "Epoch 12: 100%|██████████| 44/44 [00:02<00:00, 20.50it/s, Train Loss=4132.3688, Valid Loss=4465.6113, Valid R2=0.0815, Valid MAE=51.2339]\n",
      "Epoch 13: 100%|██████████| 44/44 [00:02<00:00, 20.32it/s, Train Loss=4057.6162, Valid Loss=4322.5420, Valid R2=0.1110, Valid MAE=49.7999]\n",
      "Epoch 14: 100%|██████████| 44/44 [00:02<00:00, 20.31it/s, Train Loss=3844.1038, Valid Loss=4065.1772, Valid R2=0.1639, Valid MAE=48.7340]\n",
      "Epoch 15: 100%|██████████| 44/44 [00:02<00:00, 20.70it/s, Train Loss=3641.1533, Valid Loss=4017.6904, Valid R2=0.1737, Valid MAE=48.1777]\n",
      "Epoch 16: 100%|██████████| 44/44 [00:02<00:00, 20.35it/s, Train Loss=3357.6207, Valid Loss=4615.1982, Valid R2=0.0508, Valid MAE=52.8477]\n",
      "Epoch 17: 100%|██████████| 44/44 [00:02<00:00, 19.85it/s, Train Loss=3418.0030, Valid Loss=4119.3174, Valid R2=0.1528, Valid MAE=48.4829]\n",
      "Epoch 18: 100%|██████████| 44/44 [00:02<00:00, 20.39it/s, Train Loss=3214.0358, Valid Loss=4087.4268, Valid R2=0.1593, Valid MAE=47.3680]\n",
      "Epoch 19: 100%|██████████| 44/44 [00:02<00:00, 20.98it/s, Train Loss=2765.6350, Valid Loss=4260.6943, Valid R2=0.1237, Valid MAE=49.8850]\n",
      "Epoch 20: 100%|██████████| 44/44 [00:02<00:00, 20.96it/s, Train Loss=2701.8029, Valid Loss=4160.3008, Valid R2=0.1443, Valid MAE=46.9426]\n",
      "Epoch 21: 100%|██████████| 44/44 [00:02<00:00, 20.93it/s, Train Loss=2625.5656, Valid Loss=4178.5044, Valid R2=0.1406, Valid MAE=49.8603]\n"
     ]
    },
    {
     "name": "stdout",
     "output_type": "stream",
     "text": [
      "Early Stopped\n",
      "Setting 115 of Parameters Grid is now on progres.\n"
     ]
    },
    {
     "name": "stderr",
     "output_type": "stream",
     "text": [
      "Epoch  0: 100%|██████████| 44/44 [00:02<00:00, 21.43it/s, Train Loss=15129.9517, Valid Loss=11899.1074, Valid R2=-1.4474, Valid MAE=83.8868]\n",
      "Epoch  1: 100%|██████████| 44/44 [00:02<00:00, 20.96it/s, Train Loss=13230.5449, Valid Loss=8986.7744, Valid R2=-0.8484, Valid MAE=66.2421]\n",
      "Epoch  2: 100%|██████████| 44/44 [00:02<00:00, 20.60it/s, Train Loss=8357.9373, Valid Loss=4880.6245, Valid R2=-0.0038, Valid MAE=52.2482]\n",
      "Epoch  3: 100%|██████████| 44/44 [00:02<00:00, 20.88it/s, Train Loss=5800.3007, Valid Loss=4951.3232, Valid R2=-0.0184, Valid MAE=53.9564]\n",
      "Epoch  4: 100%|██████████| 44/44 [00:02<00:00, 20.69it/s, Train Loss=5849.2540, Valid Loss=4921.6084, Valid R2=-0.0123, Valid MAE=53.3816]\n",
      "Epoch  5: 100%|██████████| 44/44 [00:02<00:00, 20.17it/s, Train Loss=5858.9751, Valid Loss=4980.2622, Valid R2=-0.0243, Valid MAE=54.5013]\n",
      "Epoch  6: 100%|██████████| 44/44 [00:02<00:00, 20.76it/s, Train Loss=5811.4355, Valid Loss=5024.4194, Valid R2=-0.0334, Valid MAE=55.3018]\n",
      "Epoch  7: 100%|██████████| 44/44 [00:02<00:00, 20.42it/s, Train Loss=5799.7509, Valid Loss=5040.1421, Valid R2=-0.0366, Valid MAE=55.4554]\n",
      "Epoch  8: 100%|██████████| 44/44 [00:02<00:00, 20.27it/s, Train Loss=5619.6817, Valid Loss=4686.8140, Valid R2=0.0360, Valid MAE=50.9159]\n",
      "Epoch  9: 100%|██████████| 44/44 [00:02<00:00, 21.68it/s, Train Loss=5656.7042, Valid Loss=4638.4385, Valid R2=0.0460, Valid MAE=51.1324]\n",
      "Epoch 10: 100%|██████████| 44/44 [00:01<00:00, 22.64it/s, Train Loss=5470.4691, Valid Loss=4674.1943, Valid R2=0.0386, Valid MAE=49.5644]\n",
      "Epoch 11: 100%|██████████| 44/44 [00:02<00:00, 21.53it/s, Train Loss=5427.7978, Valid Loss=4386.8789, Valid R2=0.0977, Valid MAE=49.0519]\n",
      "Epoch 12: 100%|██████████| 44/44 [00:02<00:00, 19.66it/s, Train Loss=5036.1612, Valid Loss=4353.3838, Valid R2=0.1046, Valid MAE=48.3140]\n",
      "Epoch 13: 100%|██████████| 44/44 [00:02<00:00, 19.05it/s, Train Loss=4827.2811, Valid Loss=4137.7485, Valid R2=0.1490, Valid MAE=47.3244]\n",
      "Epoch 14: 100%|██████████| 44/44 [00:02<00:00, 21.61it/s, Train Loss=4512.4365, Valid Loss=4045.1006, Valid R2=0.1680, Valid MAE=47.0164]\n",
      "Epoch 15: 100%|██████████| 44/44 [00:02<00:00, 19.58it/s, Train Loss=4482.6680, Valid Loss=3981.9951, Valid R2=0.1810, Valid MAE=50.0851]\n",
      "Epoch 16: 100%|██████████| 44/44 [00:02<00:00, 19.89it/s, Train Loss=4255.8718, Valid Loss=3997.1208, Valid R2=0.1779, Valid MAE=45.4792]\n",
      "Epoch 17: 100%|██████████| 44/44 [00:02<00:00, 19.99it/s, Train Loss=4070.0830, Valid Loss=3743.0220, Valid R2=0.2301, Valid MAE=47.6508]\n",
      "Epoch 18: 100%|██████████| 44/44 [00:02<00:00, 20.87it/s, Train Loss=3864.6922, Valid Loss=3685.0127, Valid R2=0.2421, Valid MAE=45.7587]\n",
      "Epoch 19: 100%|██████████| 44/44 [00:02<00:00, 20.53it/s, Train Loss=3916.3415, Valid Loss=4027.4526, Valid R2=0.1716, Valid MAE=50.5361]\n",
      "Epoch 20: 100%|██████████| 44/44 [00:02<00:00, 21.04it/s, Train Loss=3785.9638, Valid Loss=3409.0559, Valid R2=0.2988, Valid MAE=45.1272]\n",
      "Epoch 21: 100%|██████████| 44/44 [00:02<00:00, 20.44it/s, Train Loss=3610.0213, Valid Loss=3127.3386, Valid R2=0.3568, Valid MAE=42.0910]\n",
      "Epoch 22: 100%|██████████| 44/44 [00:02<00:00, 20.58it/s, Train Loss=3506.6240, Valid Loss=3006.3655, Valid R2=0.3817, Valid MAE=42.9098]\n",
      "Epoch 23: 100%|██████████| 44/44 [00:02<00:00, 19.20it/s, Train Loss=3410.1105, Valid Loss=2988.5164, Valid R2=0.3853, Valid MAE=42.6517]\n",
      "Epoch 24: 100%|██████████| 44/44 [00:02<00:00, 20.72it/s, Train Loss=3089.4182, Valid Loss=3177.7349, Valid R2=0.3464, Valid MAE=44.8145]\n",
      "Epoch 25: 100%|██████████| 44/44 [00:02<00:00, 19.92it/s, Train Loss=3076.0232, Valid Loss=2971.9309, Valid R2=0.3887, Valid MAE=41.1676]\n",
      "Epoch 26: 100%|██████████| 44/44 [00:02<00:00, 20.54it/s, Train Loss=2782.0081, Valid Loss=3201.4827, Valid R2=0.3415, Valid MAE=44.6250]\n",
      "Epoch 27: 100%|██████████| 44/44 [00:02<00:00, 20.73it/s, Train Loss=2649.2807, Valid Loss=3386.3691, Valid R2=0.3035, Valid MAE=45.6468]\n",
      "Epoch 28: 100%|██████████| 44/44 [00:02<00:00, 20.61it/s, Train Loss=2620.9269, Valid Loss=3153.4307, Valid R2=0.3514, Valid MAE=44.0888]\n",
      "Epoch 29: 100%|██████████| 44/44 [00:02<00:00, 20.50it/s, Train Loss=2306.8162, Valid Loss=2804.6426, Valid R2=0.4232, Valid MAE=40.3688]\n",
      "Epoch 30: 100%|██████████| 44/44 [00:02<00:00, 20.38it/s, Train Loss=2250.6582, Valid Loss=2894.7175, Valid R2=0.4046, Valid MAE=40.7457]\n",
      "Epoch 31: 100%|██████████| 44/44 [00:02<00:00, 20.38it/s, Train Loss=2555.6149, Valid Loss=2910.3472, Valid R2=0.4014, Valid MAE=42.8606]\n",
      "Epoch 32: 100%|██████████| 44/44 [00:02<00:00, 20.47it/s, Train Loss=2483.4894, Valid Loss=3161.4067, Valid R2=0.3498, Valid MAE=44.2251]\n",
      "Epoch 33: 100%|██████████| 44/44 [00:02<00:00, 20.55it/s, Train Loss=2259.5333, Valid Loss=2909.0686, Valid R2=0.4017, Valid MAE=41.5906]\n",
      "Epoch 34: 100%|██████████| 44/44 [00:02<00:00, 20.52it/s, Train Loss=2036.5932, Valid Loss=2784.2681, Valid R2=0.4273, Valid MAE=40.6600]\n",
      "Epoch 35: 100%|██████████| 44/44 [00:02<00:00, 20.67it/s, Train Loss=2039.2486, Valid Loss=2802.0103, Valid R2=0.4237, Valid MAE=40.0425]\n",
      "Epoch 36: 100%|██████████| 44/44 [00:02<00:00, 20.50it/s, Train Loss=2077.0265, Valid Loss=3398.7407, Valid R2=0.3010, Valid MAE=48.0009]\n",
      "Epoch 37: 100%|██████████| 44/44 [00:02<00:00, 20.23it/s, Train Loss=2181.5153, Valid Loss=2692.5112, Valid R2=0.4462, Valid MAE=38.9425]\n",
      "Epoch 38: 100%|██████████| 44/44 [00:02<00:00, 20.45it/s, Train Loss=1990.7795, Valid Loss=2882.6775, Valid R2=0.4071, Valid MAE=40.4626]\n",
      "Epoch 39: 100%|██████████| 44/44 [00:02<00:00, 20.53it/s, Train Loss=1883.6982, Valid Loss=3160.3577, Valid R2=0.3500, Valid MAE=41.4243]\n",
      "Epoch 40: 100%|██████████| 44/44 [00:02<00:00, 21.05it/s, Train Loss=1829.6331, Valid Loss=2823.6782, Valid R2=0.4192, Valid MAE=41.2329]\n",
      "Epoch 41: 100%|██████████| 44/44 [00:02<00:00, 20.43it/s, Train Loss=1779.3350, Valid Loss=2907.6089, Valid R2=0.4020, Valid MAE=41.2207]\n",
      "Epoch 42: 100%|██████████| 44/44 [00:02<00:00, 20.66it/s, Train Loss=1598.5848, Valid Loss=3030.7285, Valid R2=0.3767, Valid MAE=41.7747]\n",
      "Epoch 43: 100%|██████████| 44/44 [00:02<00:00, 20.70it/s, Train Loss=1457.4194, Valid Loss=3225.6694, Valid R2=0.3366, Valid MAE=43.2028]\n"
     ]
    },
    {
     "name": "stdout",
     "output_type": "stream",
     "text": [
      "Early Stopped\n",
      "Setting 116 of Parameters Grid is now on progres.\n"
     ]
    },
    {
     "name": "stderr",
     "output_type": "stream",
     "text": [
      "Epoch  0: 100%|██████████| 44/44 [00:02<00:00, 20.98it/s, Train Loss=15140.6520, Valid Loss=11807.0156, Valid R2=-1.4284, Valid MAE=83.3385]\n",
      "Epoch  1: 100%|██████████| 44/44 [00:02<00:00, 20.91it/s, Train Loss=11575.4904, Valid Loss=5484.0488, Valid R2=-0.1279, Valid MAE=49.8346]\n",
      "Epoch  2: 100%|██████████| 44/44 [00:02<00:00, 20.53it/s, Train Loss=5965.4441, Valid Loss=4979.9829, Valid R2=-0.0243, Valid MAE=54.3898]\n",
      "Epoch  3: 100%|██████████| 44/44 [00:02<00:00, 20.55it/s, Train Loss=5836.3106, Valid Loss=4985.1523, Valid R2=-0.0253, Valid MAE=54.5207]\n",
      "Epoch  4: 100%|██████████| 44/44 [00:02<00:00, 20.10it/s, Train Loss=5841.7469, Valid Loss=4978.6934, Valid R2=-0.0240, Valid MAE=54.4946]\n",
      "Epoch  5: 100%|██████████| 44/44 [00:02<00:00, 20.73it/s, Train Loss=5784.9848, Valid Loss=4874.0176, Valid R2=-0.0025, Valid MAE=52.5915]\n",
      "Epoch  6: 100%|██████████| 44/44 [00:02<00:00, 20.88it/s, Train Loss=5844.8026, Valid Loss=4835.5503, Valid R2=0.0054, Valid MAE=51.8113]\n",
      "Epoch  7: 100%|██████████| 44/44 [00:02<00:00, 20.61it/s, Train Loss=5776.8941, Valid Loss=4861.2900, Valid R2=0.0001, Valid MAE=53.2897]\n",
      "Epoch  8: 100%|██████████| 44/44 [00:02<00:00, 20.54it/s, Train Loss=5671.8288, Valid Loss=4697.6885, Valid R2=0.0338, Valid MAE=51.9435]\n",
      "Epoch  9: 100%|██████████| 44/44 [00:02<00:00, 20.29it/s, Train Loss=5433.7378, Valid Loss=4715.1323, Valid R2=0.0302, Valid MAE=53.8298]\n",
      "Epoch 10: 100%|██████████| 44/44 [00:02<00:00, 21.64it/s, Train Loss=5000.6763, Valid Loss=4179.4424, Valid R2=0.1404, Valid MAE=47.5029]\n",
      "Epoch 11: 100%|██████████| 44/44 [00:02<00:00, 20.61it/s, Train Loss=4561.2168, Valid Loss=4160.9375, Valid R2=0.1442, Valid MAE=47.6036]\n",
      "Epoch 12: 100%|██████████| 44/44 [00:02<00:00, 21.05it/s, Train Loss=4329.6338, Valid Loss=4614.8589, Valid R2=0.0508, Valid MAE=53.6779]\n",
      "Epoch 13: 100%|██████████| 44/44 [00:02<00:00, 20.71it/s, Train Loss=4127.7649, Valid Loss=4246.3433, Valid R2=0.1266, Valid MAE=49.8687]\n",
      "Epoch 14: 100%|██████████| 44/44 [00:02<00:00, 19.87it/s, Train Loss=4133.2362, Valid Loss=4097.1758, Valid R2=0.1573, Valid MAE=48.4970]\n",
      "Epoch 15: 100%|██████████| 44/44 [00:02<00:00, 19.07it/s, Train Loss=3950.1110, Valid Loss=4274.1377, Valid R2=0.1209, Valid MAE=51.9688]\n",
      "Epoch 16: 100%|██████████| 44/44 [00:02<00:00, 19.55it/s, Train Loss=3821.3082, Valid Loss=3864.6033, Valid R2=0.2051, Valid MAE=46.5987]\n",
      "Epoch 17: 100%|██████████| 44/44 [00:02<00:00, 19.82it/s, Train Loss=3688.3416, Valid Loss=3874.2573, Valid R2=0.2032, Valid MAE=45.4771]\n",
      "Epoch 18: 100%|██████████| 44/44 [00:02<00:00, 19.74it/s, Train Loss=3697.0607, Valid Loss=4014.4319, Valid R2=0.1743, Valid MAE=49.0191]\n",
      "Epoch 19: 100%|██████████| 44/44 [00:02<00:00, 20.26it/s, Train Loss=3358.3247, Valid Loss=4232.6040, Valid R2=0.1295, Valid MAE=50.2254]\n",
      "Epoch 20: 100%|██████████| 44/44 [00:02<00:00, 19.68it/s, Train Loss=3207.3910, Valid Loss=3856.8423, Valid R2=0.2067, Valid MAE=44.8956]\n",
      "Epoch 21: 100%|██████████| 44/44 [00:02<00:00, 20.67it/s, Train Loss=3168.0565, Valid Loss=3848.6506, Valid R2=0.2084, Valid MAE=45.3927]\n",
      "Epoch 22: 100%|██████████| 44/44 [00:02<00:00, 20.35it/s, Train Loss=3249.9004, Valid Loss=3738.1768, Valid R2=0.2311, Valid MAE=44.8362]\n",
      "Epoch 23: 100%|██████████| 44/44 [00:02<00:00, 21.34it/s, Train Loss=3123.4600, Valid Loss=3959.1348, Valid R2=0.1857, Valid MAE=46.2096]\n",
      "Epoch 24: 100%|██████████| 44/44 [00:02<00:00, 21.29it/s, Train Loss=3075.2009, Valid Loss=3946.3484, Valid R2=0.1883, Valid MAE=47.0061]\n",
      "Epoch 25: 100%|██████████| 44/44 [00:01<00:00, 22.17it/s, Train Loss=2774.6177, Valid Loss=3960.9175, Valid R2=0.1853, Valid MAE=47.2728]\n",
      "Epoch 26: 100%|██████████| 44/44 [00:02<00:00, 21.48it/s, Train Loss=2591.3418, Valid Loss=3683.5964, Valid R2=0.2424, Valid MAE=45.8539]\n",
      "Epoch 27: 100%|██████████| 44/44 [00:02<00:00, 20.26it/s, Train Loss=2680.3538, Valid Loss=4029.5781, Valid R2=0.1712, Valid MAE=48.8694]\n",
      "Epoch 28: 100%|██████████| 44/44 [00:02<00:00, 20.45it/s, Train Loss=2574.0111, Valid Loss=3816.0393, Valid R2=0.2151, Valid MAE=44.6532]\n",
      "Epoch 29: 100%|██████████| 44/44 [00:02<00:00, 20.70it/s, Train Loss=2548.4453, Valid Loss=4006.7705, Valid R2=0.1759, Valid MAE=49.7180]\n",
      "Epoch 30: 100%|██████████| 44/44 [00:02<00:00, 20.67it/s, Train Loss=2502.0782, Valid Loss=4065.9648, Valid R2=0.1637, Valid MAE=49.4342]\n",
      "Epoch 31: 100%|██████████| 44/44 [00:02<00:00, 20.92it/s, Train Loss=2526.4864, Valid Loss=4181.2461, Valid R2=0.1400, Valid MAE=48.6552]\n",
      "Epoch 32: 100%|██████████| 44/44 [00:02<00:00, 21.11it/s, Train Loss=2373.1468, Valid Loss=3757.8816, Valid R2=0.2271, Valid MAE=46.7112]\n"
     ]
    },
    {
     "name": "stdout",
     "output_type": "stream",
     "text": [
      "Early Stopped\n",
      "Setting 117 of Parameters Grid is now on progres.\n"
     ]
    },
    {
     "name": "stderr",
     "output_type": "stream",
     "text": [
      "Epoch  0: 100%|██████████| 44/44 [00:02<00:00, 20.65it/s, Train Loss=15143.0842, Valid Loss=11971.6572, Valid R2=-1.4623, Valid MAE=84.3130]\n",
      "Epoch  1: 100%|██████████| 44/44 [00:02<00:00, 20.36it/s, Train Loss=13445.5645, Valid Loss=9532.8975, Valid R2=-0.9607, Valid MAE=69.5057]\n",
      "Epoch  2: 100%|██████████| 44/44 [00:02<00:00, 19.99it/s, Train Loss=9301.4784, Valid Loss=5193.1113, Valid R2=-0.0681, Valid MAE=49.4984]\n",
      "Epoch  3: 100%|██████████| 44/44 [00:02<00:00, 20.48it/s, Train Loss=5884.7971, Valid Loss=5021.3921, Valid R2=-0.0328, Valid MAE=55.0410]\n",
      "Epoch  4: 100%|██████████| 44/44 [00:02<00:00, 20.01it/s, Train Loss=5886.8925, Valid Loss=4994.9219, Valid R2=-0.0273, Valid MAE=54.7041]\n",
      "Epoch  5: 100%|██████████| 44/44 [00:02<00:00, 19.01it/s, Train Loss=5908.7514, Valid Loss=5001.8745, Valid R2=-0.0288, Valid MAE=54.8220]\n",
      "Epoch  6: 100%|██████████| 44/44 [00:02<00:00, 20.68it/s, Train Loss=5852.4443, Valid Loss=4892.2559, Valid R2=-0.0062, Valid MAE=52.7600]\n",
      "Epoch  7: 100%|██████████| 44/44 [00:01<00:00, 22.21it/s, Train Loss=5782.8040, Valid Loss=4885.4663, Valid R2=-0.0048, Valid MAE=52.6085]\n",
      "Epoch  8: 100%|██████████| 44/44 [00:02<00:00, 21.48it/s, Train Loss=5826.3469, Valid Loss=4901.9165, Valid R2=-0.0082, Valid MAE=53.0418]\n",
      "Epoch  9: 100%|██████████| 44/44 [00:02<00:00, 20.83it/s, Train Loss=5780.0227, Valid Loss=4950.6538, Valid R2=-0.0182, Valid MAE=54.0924]\n",
      "Epoch 10: 100%|██████████| 44/44 [00:02<00:00, 20.81it/s, Train Loss=5826.2251, Valid Loss=4903.5488, Valid R2=-0.0085, Valid MAE=53.3124]\n",
      "Epoch 11: 100%|██████████| 44/44 [00:02<00:00, 21.04it/s, Train Loss=5797.1817, Valid Loss=4948.0205, Valid R2=-0.0177, Valid MAE=54.3776]\n",
      "Epoch 12: 100%|██████████| 44/44 [00:02<00:00, 20.85it/s, Train Loss=5830.6894, Valid Loss=4848.2764, Valid R2=0.0028, Valid MAE=52.6405]\n",
      "Epoch 13: 100%|██████████| 44/44 [00:02<00:00, 20.99it/s, Train Loss=5725.2628, Valid Loss=4797.5537, Valid R2=0.0133, Valid MAE=52.0461]\n",
      "Epoch 14: 100%|██████████| 44/44 [00:02<00:00, 20.39it/s, Train Loss=5718.7635, Valid Loss=4816.8330, Valid R2=0.0093, Valid MAE=52.0170]\n",
      "Epoch 15: 100%|██████████| 44/44 [00:02<00:00, 20.66it/s, Train Loss=5612.4296, Valid Loss=4807.4038, Valid R2=0.0112, Valid MAE=53.6883]\n",
      "Epoch 16: 100%|██████████| 44/44 [00:02<00:00, 20.77it/s, Train Loss=5431.3565, Valid Loss=4525.3105, Valid R2=0.0692, Valid MAE=50.0888]\n",
      "Epoch 17: 100%|██████████| 44/44 [00:02<00:00, 20.70it/s, Train Loss=5177.7346, Valid Loss=4595.0239, Valid R2=0.0549, Valid MAE=52.6669]\n",
      "Epoch 18: 100%|██████████| 44/44 [00:02<00:00, 21.00it/s, Train Loss=4824.5281, Valid Loss=4404.4263, Valid R2=0.0941, Valid MAE=52.6786]\n",
      "Epoch 19: 100%|██████████| 44/44 [00:02<00:00, 20.65it/s, Train Loss=4544.4065, Valid Loss=5071.0952, Valid R2=-0.0430, Valid MAE=58.5135]\n",
      "Epoch 20: 100%|██████████| 44/44 [00:01<00:00, 22.17it/s, Train Loss=4471.0082, Valid Loss=4557.6313, Valid R2=0.0626, Valid MAE=53.1936]\n",
      "Epoch 21: 100%|██████████| 44/44 [00:02<00:00, 21.88it/s, Train Loss=3933.0595, Valid Loss=4503.3994, Valid R2=0.0738, Valid MAE=52.1768]\n",
      "Epoch 22: 100%|██████████| 44/44 [00:02<00:00, 20.70it/s, Train Loss=3653.3941, Valid Loss=4467.2705, Valid R2=0.0812, Valid MAE=52.1043]\n",
      "Epoch 23: 100%|██████████| 44/44 [00:02<00:00, 21.44it/s, Train Loss=3508.1333, Valid Loss=5176.1138, Valid R2=-0.0646, Valid MAE=57.6221]\n",
      "Epoch 24: 100%|██████████| 44/44 [00:01<00:00, 22.28it/s, Train Loss=3371.1751, Valid Loss=4607.3511, Valid R2=0.0524, Valid MAE=51.6629]\n"
     ]
    },
    {
     "name": "stdout",
     "output_type": "stream",
     "text": [
      "Early Stopped\n",
      "Setting 118 of Parameters Grid is now on progres.\n"
     ]
    },
    {
     "name": "stderr",
     "output_type": "stream",
     "text": [
      "Epoch  0: 100%|██████████| 44/44 [00:01<00:00, 22.28it/s, Train Loss=14950.9665, Valid Loss=11115.0391, Valid R2=-1.2861, Valid MAE=79.1267]\n",
      "Epoch  1: 100%|██████████| 44/44 [00:02<00:00, 21.98it/s, Train Loss=10724.0666, Valid Loss=5429.4766, Valid R2=-0.1167, Valid MAE=49.7183]\n",
      "Epoch  2: 100%|██████████| 44/44 [00:02<00:00, 20.84it/s, Train Loss=6103.2848, Valid Loss=4936.2583, Valid R2=-0.0153, Valid MAE=53.6163]\n",
      "Epoch  3: 100%|██████████| 44/44 [00:02<00:00, 20.92it/s, Train Loss=5868.0461, Valid Loss=4956.9746, Valid R2=-0.0195, Valid MAE=54.0279]\n",
      "Epoch  4: 100%|██████████| 44/44 [00:02<00:00, 20.67it/s, Train Loss=5813.9292, Valid Loss=4938.6450, Valid R2=-0.0158, Valid MAE=53.7103]\n",
      "Epoch  5: 100%|██████████| 44/44 [00:02<00:00, 21.09it/s, Train Loss=5837.4425, Valid Loss=4918.9316, Valid R2=-0.0117, Valid MAE=53.3631]\n",
      "Epoch  6: 100%|██████████| 44/44 [00:02<00:00, 20.71it/s, Train Loss=5857.0302, Valid Loss=4950.8662, Valid R2=-0.0183, Valid MAE=54.0367]\n",
      "Epoch  7: 100%|██████████| 44/44 [00:02<00:00, 21.06it/s, Train Loss=5834.7636, Valid Loss=4909.7075, Valid R2=-0.0098, Valid MAE=53.3519]\n",
      "Epoch  8: 100%|██████████| 44/44 [00:02<00:00, 20.24it/s, Train Loss=5748.3159, Valid Loss=4864.9761, Valid R2=-0.0006, Valid MAE=52.5217]\n",
      "Epoch  9: 100%|██████████| 44/44 [00:02<00:00, 20.68it/s, Train Loss=5748.0106, Valid Loss=4839.8828, Valid R2=0.0045, Valid MAE=53.1065]\n",
      "Epoch 10: 100%|██████████| 44/44 [00:02<00:00, 20.36it/s, Train Loss=5549.5174, Valid Loss=4596.6685, Valid R2=0.0546, Valid MAE=52.8213]\n",
      "Epoch 11: 100%|██████████| 44/44 [00:02<00:00, 20.70it/s, Train Loss=5052.6522, Valid Loss=4236.1504, Valid R2=0.1287, Valid MAE=50.7421]\n",
      "Epoch 12: 100%|██████████| 44/44 [00:02<00:00, 20.37it/s, Train Loss=4564.9457, Valid Loss=4076.5649, Valid R2=0.1615, Valid MAE=49.8107]\n",
      "Epoch 13: 100%|██████████| 44/44 [00:02<00:00, 20.08it/s, Train Loss=4328.4900, Valid Loss=4393.1104, Valid R2=0.0964, Valid MAE=53.0402]\n",
      "Epoch 14: 100%|██████████| 44/44 [00:02<00:00, 20.38it/s, Train Loss=3893.4799, Valid Loss=4016.3386, Valid R2=0.1739, Valid MAE=50.2486]\n",
      "Epoch 15: 100%|██████████| 44/44 [00:02<00:00, 20.91it/s, Train Loss=3762.8551, Valid Loss=4293.0161, Valid R2=0.1170, Valid MAE=51.1922]\n",
      "Epoch 16: 100%|██████████| 44/44 [00:02<00:00, 21.52it/s, Train Loss=3806.2342, Valid Loss=3819.3804, Valid R2=0.2144, Valid MAE=47.7119]\n",
      "Epoch 17: 100%|██████████| 44/44 [00:02<00:00, 20.57it/s, Train Loss=3751.6091, Valid Loss=3728.8076, Valid R2=0.2331, Valid MAE=46.6497]\n",
      "Epoch 18: 100%|██████████| 44/44 [00:02<00:00, 19.96it/s, Train Loss=3404.0026, Valid Loss=3962.2180, Valid R2=0.1851, Valid MAE=49.7208]\n",
      "Epoch 19: 100%|██████████| 44/44 [00:02<00:00, 20.46it/s, Train Loss=3263.2120, Valid Loss=3641.8643, Valid R2=0.2510, Valid MAE=47.2321]\n",
      "Epoch 20: 100%|██████████| 44/44 [00:02<00:00, 21.80it/s, Train Loss=2915.3810, Valid Loss=3785.6208, Valid R2=0.2214, Valid MAE=47.1603]\n",
      "Epoch 21: 100%|██████████| 44/44 [00:02<00:00, 21.42it/s, Train Loss=2880.0106, Valid Loss=4083.7979, Valid R2=0.1601, Valid MAE=49.3310]\n",
      "Epoch 22: 100%|██████████| 44/44 [00:02<00:00, 20.79it/s, Train Loss=2911.7799, Valid Loss=4050.5977, Valid R2=0.1669, Valid MAE=48.7555]\n",
      "Epoch 23: 100%|██████████| 44/44 [00:02<00:00, 20.62it/s, Train Loss=2619.7070, Valid Loss=3824.9624, Valid R2=0.2133, Valid MAE=47.9893]\n",
      "Epoch 24: 100%|██████████| 44/44 [00:02<00:00, 20.68it/s, Train Loss=2565.4935, Valid Loss=4050.5645, Valid R2=0.1669, Valid MAE=49.3689]\n",
      "Epoch 25: 100%|██████████| 44/44 [00:02<00:00, 20.58it/s, Train Loss=2461.0447, Valid Loss=3837.7793, Valid R2=0.2107, Valid MAE=47.3448]\n"
     ]
    },
    {
     "name": "stdout",
     "output_type": "stream",
     "text": [
      "Early Stopped\n",
      "Setting 119 of Parameters Grid is now on progres.\n"
     ]
    },
    {
     "name": "stderr",
     "output_type": "stream",
     "text": [
      "Epoch  0: 100%|██████████| 44/44 [00:02<00:00, 21.08it/s, Train Loss=15243.0243, Valid Loss=12138.6846, Valid R2=-1.4966, Valid MAE=85.3033]\n",
      "Epoch  1: 100%|██████████| 44/44 [00:02<00:00, 20.45it/s, Train Loss=13859.8029, Valid Loss=10179.6924, Valid R2=-1.0937, Valid MAE=73.4329]\n",
      "Epoch  2: 100%|██████████| 44/44 [00:02<00:00, 20.34it/s, Train Loss=11263.3548, Valid Loss=7582.7607, Valid R2=-0.5596, Valid MAE=58.7747]\n",
      "Epoch  3: 100%|██████████| 44/44 [00:02<00:00, 20.57it/s, Train Loss=7846.7900, Valid Loss=4932.1313, Valid R2=-0.0144, Valid MAE=50.0139]\n",
      "Epoch  4: 100%|██████████| 44/44 [00:02<00:00, 20.79it/s, Train Loss=5898.9996, Valid Loss=4898.1938, Valid R2=-0.0074, Valid MAE=52.9791]\n",
      "Epoch  5: 100%|██████████| 44/44 [00:02<00:00, 21.12it/s, Train Loss=5733.2604, Valid Loss=4924.0811, Valid R2=-0.0128, Valid MAE=53.5826]\n",
      "Epoch  6: 100%|██████████| 44/44 [00:02<00:00, 20.97it/s, Train Loss=5767.0314, Valid Loss=4972.3975, Valid R2=-0.0227, Valid MAE=54.4333]\n",
      "Epoch  7: 100%|██████████| 44/44 [00:02<00:00, 21.18it/s, Train Loss=5798.7968, Valid Loss=4938.9985, Valid R2=-0.0158, Valid MAE=53.9870]\n",
      "Epoch  8: 100%|██████████| 44/44 [00:02<00:00, 21.58it/s, Train Loss=5721.4976, Valid Loss=4920.7690, Valid R2=-0.0121, Valid MAE=54.0923]\n",
      "Epoch  9: 100%|██████████| 44/44 [00:02<00:00, 21.05it/s, Train Loss=5621.4540, Valid Loss=4771.1123, Valid R2=0.0187, Valid MAE=52.4163]\n",
      "Epoch 10: 100%|██████████| 44/44 [00:02<00:00, 21.68it/s, Train Loss=5444.5477, Valid Loss=4782.3247, Valid R2=0.0164, Valid MAE=52.7340]\n",
      "Epoch 11: 100%|██████████| 44/44 [00:02<00:00, 20.93it/s, Train Loss=5301.7010, Valid Loss=4512.2769, Valid R2=0.0719, Valid MAE=51.3939]\n",
      "Epoch 12: 100%|██████████| 44/44 [00:02<00:00, 20.75it/s, Train Loss=5148.2488, Valid Loss=4406.5859, Valid R2=0.0937, Valid MAE=48.6731]\n",
      "Epoch 13: 100%|██████████| 44/44 [00:01<00:00, 22.25it/s, Train Loss=4947.8334, Valid Loss=4506.0864, Valid R2=0.0732, Valid MAE=53.2091]\n",
      "Epoch 14: 100%|██████████| 44/44 [00:02<00:00, 21.33it/s, Train Loss=4559.7972, Valid Loss=4146.0181, Valid R2=0.1473, Valid MAE=49.2529]\n",
      "Epoch 15: 100%|██████████| 44/44 [00:02<00:00, 21.29it/s, Train Loss=4237.7376, Valid Loss=3889.3782, Valid R2=0.2000, Valid MAE=46.5241]\n",
      "Epoch 16: 100%|██████████| 44/44 [00:02<00:00, 20.26it/s, Train Loss=4369.0283, Valid Loss=3795.9568, Valid R2=0.2193, Valid MAE=46.1471]\n",
      "Epoch 17: 100%|██████████| 44/44 [00:02<00:00, 19.91it/s, Train Loss=3863.2479, Valid Loss=3360.0649, Valid R2=0.3089, Valid MAE=43.8496]\n",
      "Epoch 18: 100%|██████████| 44/44 [00:02<00:00, 19.91it/s, Train Loss=3964.4530, Valid Loss=3694.5540, Valid R2=0.2401, Valid MAE=45.1806]\n",
      "Epoch 19: 100%|██████████| 44/44 [00:02<00:00, 19.83it/s, Train Loss=3665.7795, Valid Loss=3396.8193, Valid R2=0.3014, Valid MAE=42.6843]\n",
      "Epoch 20: 100%|██████████| 44/44 [00:02<00:00, 19.78it/s, Train Loss=3557.0144, Valid Loss=3212.1870, Valid R2=0.3393, Valid MAE=42.5639]\n",
      "Epoch 21: 100%|██████████| 44/44 [00:02<00:00, 19.92it/s, Train Loss=3361.8830, Valid Loss=3383.7893, Valid R2=0.3040, Valid MAE=43.1145]\n",
      "Epoch 22: 100%|██████████| 44/44 [00:02<00:00, 20.04it/s, Train Loss=3497.7485, Valid Loss=3426.6157, Valid R2=0.2952, Valid MAE=45.2970]\n",
      "Epoch 23: 100%|██████████| 44/44 [00:02<00:00, 20.12it/s, Train Loss=3296.9034, Valid Loss=3596.5945, Valid R2=0.2603, Valid MAE=46.3582]\n",
      "Epoch 24: 100%|██████████| 44/44 [00:02<00:00, 19.83it/s, Train Loss=2952.1566, Valid Loss=3623.3247, Valid R2=0.2548, Valid MAE=46.7705]\n",
      "Epoch 25: 100%|██████████| 44/44 [00:02<00:00, 20.78it/s, Train Loss=2888.7740, Valid Loss=3034.1057, Valid R2=0.3760, Valid MAE=41.4950]\n",
      "Epoch 26: 100%|██████████| 44/44 [00:02<00:00, 20.04it/s, Train Loss=2749.3092, Valid Loss=3135.9609, Valid R2=0.3550, Valid MAE=42.8843]\n",
      "Epoch 27: 100%|██████████| 44/44 [00:02<00:00, 20.83it/s, Train Loss=2579.7769, Valid Loss=3093.9548, Valid R2=0.3636, Valid MAE=41.5812]\n",
      "Epoch 28: 100%|██████████| 44/44 [00:02<00:00, 20.42it/s, Train Loss=2566.6306, Valid Loss=3264.2183, Valid R2=0.3286, Valid MAE=44.2883]\n",
      "Epoch 29: 100%|██████████| 44/44 [00:02<00:00, 20.65it/s, Train Loss=2292.0371, Valid Loss=4419.9624, Valid R2=0.0909, Valid MAE=48.0614]\n",
      "Epoch 30: 100%|██████████| 44/44 [00:02<00:00, 20.84it/s, Train Loss=2495.2288, Valid Loss=3105.3447, Valid R2=0.3613, Valid MAE=41.5401]\n",
      "Epoch 31: 100%|██████████| 44/44 [00:02<00:00, 20.42it/s, Train Loss=2468.2131, Valid Loss=3433.4502, Valid R2=0.2938, Valid MAE=44.6893]\n"
     ]
    },
    {
     "name": "stdout",
     "output_type": "stream",
     "text": [
      "Early Stopped\n",
      "Setting 120 of Parameters Grid is now on progres.\n"
     ]
    },
    {
     "name": "stderr",
     "output_type": "stream",
     "text": [
      "Epoch  0: 100%|██████████| 44/44 [00:02<00:00, 20.85it/s, Train Loss=15139.1493, Valid Loss=11821.3477, Valid R2=-1.4314, Valid MAE=83.4185]\n",
      "Epoch  1: 100%|██████████| 44/44 [00:02<00:00, 20.62it/s, Train Loss=12717.7447, Valid Loss=7831.6313, Valid R2=-0.6108, Valid MAE=60.0223]\n",
      "Epoch  2: 100%|██████████| 44/44 [00:02<00:00, 20.36it/s, Train Loss=6874.2579, Valid Loss=5249.1104, Valid R2=-0.0796, Valid MAE=57.8635]\n",
      "Epoch  3: 100%|██████████| 44/44 [00:02<00:00, 21.70it/s, Train Loss=5850.4816, Valid Loss=4893.5391, Valid R2=-0.0065, Valid MAE=52.5214]\n",
      "Epoch  4: 100%|██████████| 44/44 [00:02<00:00, 20.68it/s, Train Loss=5778.7872, Valid Loss=5010.0903, Valid R2=-0.0305, Valid MAE=54.8860]\n",
      "Epoch  5: 100%|██████████| 44/44 [00:02<00:00, 20.80it/s, Train Loss=5892.2820, Valid Loss=4937.2515, Valid R2=-0.0155, Valid MAE=53.6583]\n",
      "Epoch  6: 100%|██████████| 44/44 [00:02<00:00, 21.05it/s, Train Loss=5830.1228, Valid Loss=4987.7715, Valid R2=-0.0259, Valid MAE=54.6184]\n",
      "Epoch  7: 100%|██████████| 44/44 [00:02<00:00, 20.16it/s, Train Loss=5830.2811, Valid Loss=4966.7729, Valid R2=-0.0215, Valid MAE=54.5999]\n",
      "Epoch  8: 100%|██████████| 44/44 [00:02<00:00, 20.04it/s, Train Loss=5756.2648, Valid Loss=4902.1445, Valid R2=-0.0083, Valid MAE=53.4480]\n",
      "Epoch  9: 100%|██████████| 44/44 [00:02<00:00, 18.99it/s, Train Loss=5728.0466, Valid Loss=4825.4497, Valid R2=0.0075, Valid MAE=52.0500]\n",
      "Epoch 10: 100%|██████████| 44/44 [00:02<00:00, 20.65it/s, Train Loss=5566.9568, Valid Loss=4931.6011, Valid R2=-0.0143, Valid MAE=55.0538]\n",
      "Epoch 11: 100%|██████████| 44/44 [00:02<00:00, 21.74it/s, Train Loss=5370.4373, Valid Loss=4583.5522, Valid R2=0.0573, Valid MAE=50.9776]\n",
      "Epoch 12: 100%|██████████| 44/44 [00:01<00:00, 22.01it/s, Train Loss=5287.1046, Valid Loss=4612.4116, Valid R2=0.0513, Valid MAE=53.6881]\n",
      "Epoch 13: 100%|██████████| 44/44 [00:02<00:00, 21.18it/s, Train Loss=5047.5293, Valid Loss=4370.3574, Valid R2=0.1011, Valid MAE=48.3759]\n",
      "Epoch 14: 100%|██████████| 44/44 [00:02<00:00, 20.86it/s, Train Loss=4662.9751, Valid Loss=4041.4175, Valid R2=0.1688, Valid MAE=46.9392]\n",
      "Epoch 15: 100%|██████████| 44/44 [00:02<00:00, 20.71it/s, Train Loss=4430.5004, Valid Loss=4227.7900, Valid R2=0.1304, Valid MAE=50.2739]\n",
      "Epoch 16: 100%|██████████| 44/44 [00:02<00:00, 20.43it/s, Train Loss=4415.4499, Valid Loss=4015.2231, Valid R2=0.1742, Valid MAE=47.9179]\n",
      "Epoch 17: 100%|██████████| 44/44 [00:02<00:00, 20.70it/s, Train Loss=4011.1333, Valid Loss=3958.6621, Valid R2=0.1858, Valid MAE=48.5737]\n",
      "Epoch 18: 100%|██████████| 44/44 [00:02<00:00, 20.90it/s, Train Loss=3787.8787, Valid Loss=3364.0254, Valid R2=0.3081, Valid MAE=43.0444]\n",
      "Epoch 19: 100%|██████████| 44/44 [00:02<00:00, 20.88it/s, Train Loss=3724.5875, Valid Loss=3864.7766, Valid R2=0.2051, Valid MAE=47.3014]\n",
      "Epoch 20: 100%|██████████| 44/44 [00:02<00:00, 20.52it/s, Train Loss=3322.9997, Valid Loss=3654.4927, Valid R2=0.2484, Valid MAE=42.3093]\n",
      "Epoch 21: 100%|██████████| 44/44 [00:02<00:00, 20.66it/s, Train Loss=3226.0801, Valid Loss=3527.6030, Valid R2=0.2745, Valid MAE=44.3448]\n",
      "Epoch 22: 100%|██████████| 44/44 [00:02<00:00, 21.18it/s, Train Loss=3181.6251, Valid Loss=3560.6238, Valid R2=0.2677, Valid MAE=45.6043]\n",
      "Epoch 23: 100%|██████████| 44/44 [00:02<00:00, 20.71it/s, Train Loss=3018.6796, Valid Loss=3827.4133, Valid R2=0.2128, Valid MAE=47.4803]\n",
      "Epoch 24: 100%|██████████| 44/44 [00:02<00:00, 20.33it/s, Train Loss=2837.2692, Valid Loss=3653.9094, Valid R2=0.2485, Valid MAE=46.2180]\n"
     ]
    },
    {
     "name": "stdout",
     "output_type": "stream",
     "text": [
      "Early Stopped\n",
      "Setting 121 of Parameters Grid is now on progres.\n"
     ]
    },
    {
     "name": "stderr",
     "output_type": "stream",
     "text": [
      "Epoch  0: 100%|██████████| 44/44 [00:02<00:00, 21.03it/s, Train Loss=15107.1643, Valid Loss=11739.2979, Valid R2=-1.4145, Valid MAE=82.9300]\n",
      "Epoch  1: 100%|██████████| 44/44 [00:02<00:00, 20.87it/s, Train Loss=12555.9631, Valid Loss=7712.9526, Valid R2=-0.5864, Valid MAE=59.4247]\n",
      "Epoch  2: 100%|██████████| 44/44 [00:02<00:00, 21.36it/s, Train Loss=6996.3243, Valid Loss=5007.9814, Valid R2=-0.0300, Valid MAE=54.8688]\n",
      "Epoch  3: 100%|██████████| 44/44 [00:02<00:00, 20.64it/s, Train Loss=5843.8546, Valid Loss=5008.5620, Valid R2=-0.0301, Valid MAE=54.8738]\n",
      "Epoch  4: 100%|██████████| 44/44 [00:02<00:00, 20.95it/s, Train Loss=5830.8933, Valid Loss=4881.6294, Valid R2=-0.0040, Valid MAE=52.3578]\n",
      "Epoch  5: 100%|██████████| 44/44 [00:02<00:00, 20.70it/s, Train Loss=5939.2285, Valid Loss=4980.4990, Valid R2=-0.0244, Valid MAE=54.5392]\n",
      "Epoch  6: 100%|██████████| 44/44 [00:02<00:00, 20.41it/s, Train Loss=5821.5713, Valid Loss=4856.8013, Valid R2=0.0011, Valid MAE=52.8959]\n",
      "Epoch  7: 100%|██████████| 44/44 [00:02<00:00, 20.63it/s, Train Loss=5729.3965, Valid Loss=4906.7886, Valid R2=-0.0092, Valid MAE=54.3489]\n",
      "Epoch  8: 100%|██████████| 44/44 [00:02<00:00, 20.49it/s, Train Loss=5321.8448, Valid Loss=4884.2305, Valid R2=-0.0046, Valid MAE=56.6344]\n",
      "Epoch  9: 100%|██████████| 44/44 [00:02<00:00, 20.50it/s, Train Loss=4857.9172, Valid Loss=4513.5742, Valid R2=0.0717, Valid MAE=52.9694]\n",
      "Epoch 10: 100%|██████████| 44/44 [00:02<00:00, 20.45it/s, Train Loss=4437.0145, Valid Loss=4555.0298, Valid R2=0.0631, Valid MAE=51.9471]\n",
      "Epoch 11: 100%|██████████| 44/44 [00:01<00:00, 22.23it/s, Train Loss=4173.2504, Valid Loss=4392.8511, Valid R2=0.0965, Valid MAE=47.2715]\n",
      "Epoch 12: 100%|██████████| 44/44 [00:01<00:00, 22.13it/s, Train Loss=4030.6811, Valid Loss=4383.3179, Valid R2=0.0985, Valid MAE=50.7092]\n",
      "Epoch 13: 100%|██████████| 44/44 [00:02<00:00, 20.46it/s, Train Loss=3869.7552, Valid Loss=4356.9893, Valid R2=0.1039, Valid MAE=51.1652]\n",
      "Epoch 14: 100%|██████████| 44/44 [00:02<00:00, 20.77it/s, Train Loss=3788.5087, Valid Loss=4278.0518, Valid R2=0.1201, Valid MAE=48.9402]\n",
      "Epoch 15: 100%|██████████| 44/44 [00:02<00:00, 21.29it/s, Train Loss=3660.1697, Valid Loss=4506.8594, Valid R2=0.0730, Valid MAE=52.9899]\n",
      "Epoch 16: 100%|██████████| 44/44 [00:02<00:00, 20.82it/s, Train Loss=3388.0874, Valid Loss=4019.7542, Valid R2=0.1732, Valid MAE=48.9992]\n",
      "Epoch 17: 100%|██████████| 44/44 [00:02<00:00, 20.00it/s, Train Loss=3260.9263, Valid Loss=3832.4641, Valid R2=0.2118, Valid MAE=47.0279]\n",
      "Epoch 18: 100%|██████████| 44/44 [00:01<00:00, 22.27it/s, Train Loss=3048.4417, Valid Loss=4242.3813, Valid R2=0.1274, Valid MAE=50.6688]\n",
      "Epoch 19: 100%|██████████| 44/44 [00:02<00:00, 20.97it/s, Train Loss=3196.3191, Valid Loss=3844.8782, Valid R2=0.2092, Valid MAE=48.1188]\n",
      "Epoch 20: 100%|██████████| 44/44 [00:02<00:00, 20.44it/s, Train Loss=2863.6644, Valid Loss=3962.8088, Valid R2=0.1849, Valid MAE=48.7606]\n",
      "Epoch 21: 100%|██████████| 44/44 [00:02<00:00, 20.49it/s, Train Loss=2614.4569, Valid Loss=3814.7991, Valid R2=0.2154, Valid MAE=45.5198]\n",
      "Epoch 22: 100%|██████████| 44/44 [00:02<00:00, 20.80it/s, Train Loss=2506.3003, Valid Loss=4458.9937, Valid R2=0.0829, Valid MAE=53.1770]\n",
      "Epoch 23: 100%|██████████| 44/44 [00:02<00:00, 20.80it/s, Train Loss=2418.9552, Valid Loss=4112.3569, Valid R2=0.1542, Valid MAE=49.9345]\n",
      "Epoch 24: 100%|██████████| 44/44 [00:02<00:00, 20.35it/s, Train Loss=2420.5398, Valid Loss=3590.1316, Valid R2=0.2616, Valid MAE=44.0878]\n",
      "Epoch 25: 100%|██████████| 44/44 [00:02<00:00, 19.63it/s, Train Loss=2312.1423, Valid Loss=3671.2312, Valid R2=0.2449, Valid MAE=44.3827]\n",
      "Epoch 26: 100%|██████████| 44/44 [00:02<00:00, 20.06it/s, Train Loss=2363.3117, Valid Loss=3940.1475, Valid R2=0.1896, Valid MAE=48.4070]\n",
      "Epoch 27: 100%|██████████| 44/44 [00:02<00:00, 21.49it/s, Train Loss=2297.6505, Valid Loss=4082.3235, Valid R2=0.1604, Valid MAE=49.4365]\n",
      "Epoch 28: 100%|██████████| 44/44 [00:02<00:00, 21.08it/s, Train Loss=2039.9342, Valid Loss=3861.5037, Valid R2=0.2058, Valid MAE=46.8740]\n",
      "Epoch 29: 100%|██████████| 44/44 [00:02<00:00, 20.77it/s, Train Loss=1925.0964, Valid Loss=4528.4492, Valid R2=0.0686, Valid MAE=51.8212]\n",
      "Epoch 30: 100%|██████████| 44/44 [00:02<00:00, 20.31it/s, Train Loss=1784.4106, Valid Loss=3810.5515, Valid R2=0.2163, Valid MAE=45.6257]\n"
     ]
    },
    {
     "name": "stdout",
     "output_type": "stream",
     "text": [
      "Early Stopped\n",
      "Setting 122 of Parameters Grid is now on progres.\n"
     ]
    },
    {
     "name": "stderr",
     "output_type": "stream",
     "text": [
      "Epoch  0: 100%|██████████| 44/44 [00:02<00:00, 20.42it/s, Train Loss=15042.4551, Valid Loss=11459.3838, Valid R2=-1.3569, Valid MAE=81.2353]\n",
      "Epoch  1: 100%|██████████| 44/44 [00:02<00:00, 20.29it/s, Train Loss=11269.9026, Valid Loss=6029.6484, Valid R2=-0.2402, Valid MAE=51.6513]\n",
      "Epoch  2: 100%|██████████| 44/44 [00:02<00:00, 20.41it/s, Train Loss=6103.4788, Valid Loss=5082.6782, Valid R2=-0.0454, Valid MAE=55.9133]\n",
      "Epoch  3: 100%|██████████| 44/44 [00:02<00:00, 18.84it/s, Train Loss=5777.3211, Valid Loss=4925.2324, Valid R2=-0.0130, Valid MAE=53.4336]\n",
      "Epoch  4: 100%|██████████| 44/44 [00:02<00:00, 20.03it/s, Train Loss=5822.4961, Valid Loss=4982.2822, Valid R2=-0.0247, Valid MAE=54.4914]\n",
      "Epoch  5: 100%|██████████| 44/44 [00:02<00:00, 20.31it/s, Train Loss=5882.8793, Valid Loss=4986.8286, Valid R2=-0.0257, Valid MAE=54.9037]\n",
      "Epoch  6: 100%|██████████| 44/44 [00:02<00:00, 20.50it/s, Train Loss=5710.4854, Valid Loss=4707.7666, Valid R2=0.0317, Valid MAE=52.4540]\n",
      "Epoch  7: 100%|██████████| 44/44 [00:02<00:00, 20.71it/s, Train Loss=5299.3015, Valid Loss=4402.1914, Valid R2=0.0946, Valid MAE=50.2445]\n",
      "Epoch  8: 100%|██████████| 44/44 [00:02<00:00, 19.52it/s, Train Loss=4823.2574, Valid Loss=4429.5913, Valid R2=0.0889, Valid MAE=52.3317]\n",
      "Epoch  9: 100%|██████████| 44/44 [00:02<00:00, 19.55it/s, Train Loss=4632.2101, Valid Loss=4128.7788, Valid R2=0.1508, Valid MAE=49.4468]\n",
      "Epoch 10: 100%|██████████| 44/44 [00:02<00:00, 20.22it/s, Train Loss=4313.0334, Valid Loss=4237.8745, Valid R2=0.1284, Valid MAE=50.0057]\n",
      "Epoch 11: 100%|██████████| 44/44 [00:02<00:00, 19.74it/s, Train Loss=4069.4511, Valid Loss=4008.1445, Valid R2=0.1756, Valid MAE=49.0220]\n",
      "Epoch 12: 100%|██████████| 44/44 [00:02<00:00, 19.32it/s, Train Loss=3768.2305, Valid Loss=3691.0518, Valid R2=0.2408, Valid MAE=45.7783]\n",
      "Epoch 13: 100%|██████████| 44/44 [00:02<00:00, 19.90it/s, Train Loss=3478.2056, Valid Loss=3684.4272, Valid R2=0.2422, Valid MAE=46.1134]\n",
      "Epoch 14: 100%|██████████| 44/44 [00:02<00:00, 20.38it/s, Train Loss=3371.5669, Valid Loss=3939.7166, Valid R2=0.1897, Valid MAE=49.1984]\n",
      "Epoch 15: 100%|██████████| 44/44 [00:02<00:00, 20.27it/s, Train Loss=3348.5362, Valid Loss=3710.3320, Valid R2=0.2369, Valid MAE=47.8642]\n",
      "Epoch 16: 100%|██████████| 44/44 [00:02<00:00, 20.85it/s, Train Loss=3056.1872, Valid Loss=3812.2737, Valid R2=0.2159, Valid MAE=45.8983]\n",
      "Epoch 17: 100%|██████████| 44/44 [00:02<00:00, 20.45it/s, Train Loss=2745.7630, Valid Loss=3966.0693, Valid R2=0.1843, Valid MAE=47.8869]\n",
      "Epoch 18: 100%|██████████| 44/44 [00:02<00:00, 21.07it/s, Train Loss=2534.3904, Valid Loss=3702.8518, Valid R2=0.2384, Valid MAE=46.3423]\n",
      "Epoch 19: 100%|██████████| 44/44 [00:02<00:00, 20.63it/s, Train Loss=2734.5668, Valid Loss=4017.8325, Valid R2=0.1736, Valid MAE=49.9721]\n"
     ]
    },
    {
     "name": "stdout",
     "output_type": "stream",
     "text": [
      "Early Stopped\n",
      "Setting 123 of Parameters Grid is now on progres.\n"
     ]
    },
    {
     "name": "stderr",
     "output_type": "stream",
     "text": [
      "Epoch  0: 100%|██████████| 44/44 [00:02<00:00, 20.69it/s, Train Loss=15039.8123, Valid Loss=11548.7607, Valid R2=-1.3753, Valid MAE=81.7842]\n",
      "Epoch  1: 100%|██████████| 44/44 [00:02<00:00, 20.42it/s, Train Loss=11751.2501, Valid Loss=6222.2056, Valid R2=-0.2798, Valid MAE=52.3934]\n",
      "Epoch  2: 100%|██████████| 44/44 [00:02<00:00, 20.74it/s, Train Loss=6168.8787, Valid Loss=4905.5723, Valid R2=-0.0090, Valid MAE=53.0245]\n",
      "Epoch  3: 100%|██████████| 44/44 [00:02<00:00, 20.44it/s, Train Loss=5804.5209, Valid Loss=4961.3013, Valid R2=-0.0204, Valid MAE=54.0195]\n",
      "Epoch  4: 100%|██████████| 44/44 [00:02<00:00, 20.79it/s, Train Loss=5856.0652, Valid Loss=4947.5103, Valid R2=-0.0176, Valid MAE=53.7080]\n",
      "Epoch  5: 100%|██████████| 44/44 [00:02<00:00, 20.48it/s, Train Loss=5819.3317, Valid Loss=4934.9175, Valid R2=-0.0150, Valid MAE=53.5930]\n",
      "Epoch  6: 100%|██████████| 44/44 [00:02<00:00, 20.34it/s, Train Loss=5805.4446, Valid Loss=4888.3823, Valid R2=-0.0054, Valid MAE=52.6220]\n",
      "Epoch  7: 100%|██████████| 44/44 [00:02<00:00, 20.15it/s, Train Loss=5804.2752, Valid Loss=4881.2202, Valid R2=-0.0040, Valid MAE=52.3360]\n",
      "Epoch  8: 100%|██████████| 44/44 [00:02<00:00, 20.23it/s, Train Loss=5655.8310, Valid Loss=4880.1621, Valid R2=-0.0037, Valid MAE=53.2427]\n",
      "Epoch  9: 100%|██████████| 44/44 [00:02<00:00, 19.94it/s, Train Loss=5461.8238, Valid Loss=4841.0122, Valid R2=0.0043, Valid MAE=54.4787]\n",
      "Epoch 10: 100%|██████████| 44/44 [00:02<00:00, 20.49it/s, Train Loss=5362.7982, Valid Loss=4786.3716, Valid R2=0.0156, Valid MAE=53.0167]\n",
      "Epoch 11: 100%|██████████| 44/44 [00:02<00:00, 19.84it/s, Train Loss=4893.5517, Valid Loss=4464.3335, Valid R2=0.0818, Valid MAE=51.0949]\n",
      "Epoch 12: 100%|██████████| 44/44 [00:02<00:00, 20.69it/s, Train Loss=4803.1534, Valid Loss=4505.5532, Valid R2=0.0733, Valid MAE=52.2997]\n",
      "Epoch 13: 100%|██████████| 44/44 [00:02<00:00, 20.60it/s, Train Loss=4414.9822, Valid Loss=4060.1233, Valid R2=0.1649, Valid MAE=47.9989]\n",
      "Epoch 14: 100%|██████████| 44/44 [00:02<00:00, 20.88it/s, Train Loss=4166.4415, Valid Loss=4149.0933, Valid R2=0.1466, Valid MAE=49.0558]\n",
      "Epoch 15: 100%|██████████| 44/44 [00:02<00:00, 20.79it/s, Train Loss=3880.9371, Valid Loss=4279.5874, Valid R2=0.1198, Valid MAE=47.5681]\n",
      "Epoch 16: 100%|██████████| 44/44 [00:02<00:00, 20.12it/s, Train Loss=3618.5755, Valid Loss=4187.3760, Valid R2=0.1388, Valid MAE=49.2721]\n",
      "Epoch 17: 100%|██████████| 44/44 [00:02<00:00, 20.81it/s, Train Loss=3601.5971, Valid Loss=3849.6172, Valid R2=0.2082, Valid MAE=46.7414]\n",
      "Epoch 18: 100%|██████████| 44/44 [00:02<00:00, 20.71it/s, Train Loss=3213.2564, Valid Loss=3711.0334, Valid R2=0.2367, Valid MAE=44.0004]\n",
      "Epoch 19: 100%|██████████| 44/44 [00:02<00:00, 20.61it/s, Train Loss=3121.3929, Valid Loss=4317.7988, Valid R2=0.1119, Valid MAE=48.3863]\n",
      "Epoch 20: 100%|██████████| 44/44 [00:02<00:00, 21.11it/s, Train Loss=3124.0239, Valid Loss=4022.4358, Valid R2=0.1727, Valid MAE=46.0029]\n",
      "Epoch 21: 100%|██████████| 44/44 [00:02<00:00, 20.36it/s, Train Loss=2853.6006, Valid Loss=3969.5073, Valid R2=0.1836, Valid MAE=48.0071]\n",
      "Epoch 22: 100%|██████████| 44/44 [00:02<00:00, 20.80it/s, Train Loss=2867.9990, Valid Loss=3844.9333, Valid R2=0.2092, Valid MAE=46.3977]\n",
      "Epoch 23: 100%|██████████| 44/44 [00:02<00:00, 20.88it/s, Train Loss=2526.1422, Valid Loss=3978.1062, Valid R2=0.1818, Valid MAE=45.2173]\n",
      "Epoch 24: 100%|██████████| 44/44 [00:02<00:00, 20.94it/s, Train Loss=2532.8508, Valid Loss=3703.5305, Valid R2=0.2383, Valid MAE=43.3204]\n",
      "Epoch 25: 100%|██████████| 44/44 [00:02<00:00, 20.88it/s, Train Loss=2248.1469, Valid Loss=3852.8770, Valid R2=0.2076, Valid MAE=43.9745]\n",
      "Epoch 26: 100%|██████████| 44/44 [00:02<00:00, 21.54it/s, Train Loss=2161.6102, Valid Loss=3743.0552, Valid R2=0.2301, Valid MAE=42.9322]\n",
      "Epoch 27: 100%|██████████| 44/44 [00:02<00:00, 21.25it/s, Train Loss=2179.2589, Valid Loss=4337.2671, Valid R2=0.1079, Valid MAE=51.4258]\n",
      "Epoch 28: 100%|██████████| 44/44 [00:02<00:00, 20.54it/s, Train Loss=2497.5978, Valid Loss=3821.6794, Valid R2=0.2140, Valid MAE=44.3871]\n",
      "Epoch 29: 100%|██████████| 44/44 [00:02<00:00, 20.85it/s, Train Loss=2185.7725, Valid Loss=3856.6589, Valid R2=0.2068, Valid MAE=43.9786]\n",
      "Epoch 30: 100%|██████████| 44/44 [00:02<00:00, 20.68it/s, Train Loss=2097.8755, Valid Loss=3987.5564, Valid R2=0.1799, Valid MAE=46.3411]\n"
     ]
    },
    {
     "name": "stdout",
     "output_type": "stream",
     "text": [
      "Early Stopped\n",
      "Setting 124 of Parameters Grid is now on progres.\n"
     ]
    },
    {
     "name": "stderr",
     "output_type": "stream",
     "text": [
      "Epoch  0: 100%|██████████| 44/44 [00:02<00:00, 20.58it/s, Train Loss=15082.1064, Valid Loss=11470.2188, Valid R2=-1.3592, Valid MAE=81.3041]\n",
      "Epoch  1: 100%|██████████| 44/44 [00:02<00:00, 21.44it/s, Train Loss=11029.2550, Valid Loss=5613.5889, Valid R2=-0.1546, Valid MAE=50.2253]\n",
      "Epoch  2: 100%|██████████| 44/44 [00:02<00:00, 21.87it/s, Train Loss=5954.4076, Valid Loss=5075.2671, Valid R2=-0.0439, Valid MAE=55.8290]\n",
      "Epoch  3: 100%|██████████| 44/44 [00:02<00:00, 20.80it/s, Train Loss=5864.5786, Valid Loss=4907.0591, Valid R2=-0.0093, Valid MAE=52.9844]\n",
      "Epoch  4: 100%|██████████| 44/44 [00:02<00:00, 20.07it/s, Train Loss=5843.2666, Valid Loss=4906.7437, Valid R2=-0.0092, Valid MAE=52.9833]\n",
      "Epoch  5: 100%|██████████| 44/44 [00:02<00:00, 20.33it/s, Train Loss=5862.0339, Valid Loss=4909.2544, Valid R2=-0.0097, Valid MAE=53.0267]\n",
      "Epoch  6: 100%|██████████| 44/44 [00:02<00:00, 19.88it/s, Train Loss=5758.3411, Valid Loss=5010.0815, Valid R2=-0.0305, Valid MAE=54.8149]\n",
      "Epoch  7: 100%|██████████| 44/44 [00:02<00:00, 20.44it/s, Train Loss=5837.7914, Valid Loss=4919.5137, Valid R2=-0.0118, Valid MAE=53.6522]\n",
      "Epoch  8: 100%|██████████| 44/44 [00:02<00:00, 20.54it/s, Train Loss=5829.3251, Valid Loss=5063.2295, Valid R2=-0.0414, Valid MAE=55.7528]\n",
      "Epoch  9: 100%|██████████| 44/44 [00:02<00:00, 20.97it/s, Train Loss=5763.6737, Valid Loss=4875.4814, Valid R2=-0.0028, Valid MAE=53.1323]\n",
      "Epoch 10: 100%|██████████| 44/44 [00:01<00:00, 22.54it/s, Train Loss=5709.8925, Valid Loss=4789.5107, Valid R2=0.0149, Valid MAE=52.3967]\n",
      "Epoch 11: 100%|██████████| 44/44 [00:02<00:00, 21.10it/s, Train Loss=5651.2593, Valid Loss=4977.1162, Valid R2=-0.0237, Valid MAE=55.1810]\n",
      "Epoch 12: 100%|██████████| 44/44 [00:02<00:00, 21.97it/s, Train Loss=5577.3090, Valid Loss=4858.7681, Valid R2=0.0007, Valid MAE=52.9785]\n",
      "Epoch 13: 100%|██████████| 44/44 [00:01<00:00, 22.67it/s, Train Loss=5455.4933, Valid Loss=4611.8462, Valid R2=0.0515, Valid MAE=51.4265]\n",
      "Epoch 14: 100%|██████████| 44/44 [00:02<00:00, 20.85it/s, Train Loss=5386.4965, Valid Loss=4591.1519, Valid R2=0.0557, Valid MAE=51.7668]\n",
      "Epoch 15: 100%|██████████| 44/44 [00:02<00:00, 20.74it/s, Train Loss=5100.8681, Valid Loss=4257.8276, Valid R2=0.1243, Valid MAE=47.4440]\n",
      "Epoch 16: 100%|██████████| 44/44 [00:02<00:00, 19.17it/s, Train Loss=4990.5110, Valid Loss=4496.1299, Valid R2=0.0753, Valid MAE=48.9615]\n",
      "Epoch 17: 100%|██████████| 44/44 [00:02<00:00, 20.77it/s, Train Loss=4943.9857, Valid Loss=4490.5713, Valid R2=0.0764, Valid MAE=48.5283]\n",
      "Epoch 18: 100%|██████████| 44/44 [00:02<00:00, 21.53it/s, Train Loss=4786.1583, Valid Loss=4461.0786, Valid R2=0.0825, Valid MAE=48.3573]\n",
      "Epoch 19: 100%|██████████| 44/44 [00:02<00:00, 21.23it/s, Train Loss=4692.4333, Valid Loss=4472.8428, Valid R2=0.0800, Valid MAE=51.5047]\n",
      "Epoch 20: 100%|██████████| 44/44 [00:02<00:00, 20.79it/s, Train Loss=4517.8826, Valid Loss=4281.8315, Valid R2=0.1193, Valid MAE=47.6894]\n",
      "Epoch 21: 100%|██████████| 44/44 [00:02<00:00, 21.26it/s, Train Loss=4463.9841, Valid Loss=4209.3481, Valid R2=0.1342, Valid MAE=48.4476]\n",
      "Epoch 22: 100%|██████████| 44/44 [00:02<00:00, 20.56it/s, Train Loss=4434.6942, Valid Loss=4177.7891, Valid R2=0.1407, Valid MAE=49.0644]\n",
      "Epoch 23: 100%|██████████| 44/44 [00:02<00:00, 20.72it/s, Train Loss=4345.5251, Valid Loss=4542.8965, Valid R2=0.0656, Valid MAE=51.5169]\n",
      "Epoch 24: 100%|██████████| 44/44 [00:02<00:00, 20.91it/s, Train Loss=3964.2302, Valid Loss=4072.3357, Valid R2=0.1624, Valid MAE=47.9827]\n",
      "Epoch 25: 100%|██████████| 44/44 [00:02<00:00, 20.17it/s, Train Loss=3909.9976, Valid Loss=4063.5066, Valid R2=0.1642, Valid MAE=46.3850]\n",
      "Epoch 26: 100%|██████████| 44/44 [00:02<00:00, 19.96it/s, Train Loss=3651.1064, Valid Loss=4290.0503, Valid R2=0.1176, Valid MAE=48.9534]\n",
      "Epoch 27: 100%|██████████| 44/44 [00:02<00:00, 20.01it/s, Train Loss=3817.2251, Valid Loss=4079.8635, Valid R2=0.1609, Valid MAE=45.8273]\n",
      "Epoch 28: 100%|██████████| 44/44 [00:02<00:00, 22.00it/s, Train Loss=3553.4478, Valid Loss=4024.1062, Valid R2=0.1723, Valid MAE=47.9116]\n",
      "Epoch 29: 100%|██████████| 44/44 [00:02<00:00, 21.77it/s, Train Loss=3665.9231, Valid Loss=4213.8638, Valid R2=0.1333, Valid MAE=45.8240]\n",
      "Epoch 30: 100%|██████████| 44/44 [00:02<00:00, 20.59it/s, Train Loss=3335.7851, Valid Loss=3985.1802, Valid R2=0.1803, Valid MAE=47.0155]\n",
      "Epoch 31: 100%|██████████| 44/44 [00:02<00:00, 20.38it/s, Train Loss=3180.3315, Valid Loss=3852.3337, Valid R2=0.2077, Valid MAE=45.0858]\n",
      "Epoch 32: 100%|██████████| 44/44 [00:02<00:00, 20.61it/s, Train Loss=3008.2946, Valid Loss=3966.7949, Valid R2=0.1841, Valid MAE=44.0053]\n",
      "Epoch 33: 100%|██████████| 44/44 [00:02<00:00, 20.64it/s, Train Loss=3070.3014, Valid Loss=3845.2729, Valid R2=0.2091, Valid MAE=44.9866]\n",
      "Epoch 34: 100%|██████████| 44/44 [00:02<00:00, 20.55it/s, Train Loss=2783.5250, Valid Loss=4155.5312, Valid R2=0.1453, Valid MAE=44.8160]\n",
      "Epoch 35: 100%|██████████| 44/44 [00:02<00:00, 20.09it/s, Train Loss=2618.1065, Valid Loss=3875.6299, Valid R2=0.2029, Valid MAE=44.4278]\n",
      "Epoch 36: 100%|██████████| 44/44 [00:02<00:00, 20.01it/s, Train Loss=2487.4307, Valid Loss=5262.7153, Valid R2=-0.0824, Valid MAE=54.4690]\n",
      "Epoch 37: 100%|██████████| 44/44 [00:02<00:00, 20.78it/s, Train Loss=2397.1249, Valid Loss=3979.9722, Valid R2=0.1814, Valid MAE=44.9088]\n",
      "Epoch 38: 100%|██████████| 44/44 [00:02<00:00, 20.25it/s, Train Loss=2167.6350, Valid Loss=4201.9028, Valid R2=0.1358, Valid MAE=43.5473]\n",
      "Epoch 39: 100%|██████████| 44/44 [00:02<00:00, 20.56it/s, Train Loss=2166.4337, Valid Loss=3964.8374, Valid R2=0.1845, Valid MAE=44.9666]\n"
     ]
    },
    {
     "name": "stdout",
     "output_type": "stream",
     "text": [
      "Early Stopped\n",
      "Setting 125 of Parameters Grid is now on progres.\n"
     ]
    },
    {
     "name": "stderr",
     "output_type": "stream",
     "text": [
      "Epoch  0: 100%|██████████| 44/44 [00:02<00:00, 20.32it/s, Train Loss=14885.4650, Valid Loss=10866.6621, Valid R2=-1.2350, Valid MAE=77.6115]\n",
      "Epoch  1: 100%|██████████| 44/44 [00:02<00:00, 20.66it/s, Train Loss=10507.9686, Valid Loss=5406.5474, Valid R2=-0.1120, Valid MAE=49.6772]\n",
      "Epoch  2: 100%|██████████| 44/44 [00:02<00:00, 20.95it/s, Train Loss=6167.2676, Valid Loss=4863.8037, Valid R2=-0.0004, Valid MAE=51.4212]\n",
      "Epoch  3: 100%|██████████| 44/44 [00:02<00:00, 20.64it/s, Train Loss=5897.5639, Valid Loss=4983.3032, Valid R2=-0.0249, Valid MAE=54.4854]\n",
      "Epoch  4: 100%|██████████| 44/44 [00:02<00:00, 20.79it/s, Train Loss=5847.3374, Valid Loss=4975.0288, Valid R2=-0.0232, Valid MAE=54.3589]\n",
      "Epoch  5: 100%|██████████| 44/44 [00:02<00:00, 20.89it/s, Train Loss=5884.3992, Valid Loss=4927.7529, Valid R2=-0.0135, Valid MAE=53.5487]\n",
      "Epoch  6: 100%|██████████| 44/44 [00:02<00:00, 21.00it/s, Train Loss=5779.4598, Valid Loss=4946.3511, Valid R2=-0.0173, Valid MAE=53.9470]\n",
      "Epoch  7: 100%|██████████| 44/44 [00:02<00:00, 20.34it/s, Train Loss=5845.4321, Valid Loss=4910.8228, Valid R2=-0.0100, Valid MAE=53.2820]\n",
      "Epoch  8: 100%|██████████| 44/44 [00:02<00:00, 21.48it/s, Train Loss=5754.4867, Valid Loss=4985.2104, Valid R2=-0.0253, Valid MAE=54.7534]\n"
     ]
    },
    {
     "name": "stdout",
     "output_type": "stream",
     "text": [
      "Early Stopped\n",
      "Setting 126 of Parameters Grid is now on progres.\n"
     ]
    },
    {
     "name": "stderr",
     "output_type": "stream",
     "text": [
      "Epoch  0: 100%|██████████| 44/44 [00:02<00:00, 21.56it/s, Train Loss=15015.5142, Valid Loss=11481.7334, Valid R2=-1.3615, Valid MAE=81.3745]\n",
      "Epoch  1: 100%|██████████| 44/44 [00:02<00:00, 20.92it/s, Train Loss=12028.9835, Valid Loss=7240.5010, Valid R2=-0.4892, Valid MAE=57.0890]\n",
      "Epoch  2: 100%|██████████| 44/44 [00:02<00:00, 20.84it/s, Train Loss=6733.8609, Valid Loss=5055.2671, Valid R2=-0.0397, Valid MAE=55.4991]\n",
      "Epoch  3: 100%|██████████| 44/44 [00:02<00:00, 21.11it/s, Train Loss=5892.8084, Valid Loss=4913.9478, Valid R2=-0.0107, Valid MAE=53.1484]\n",
      "Epoch  4: 100%|██████████| 44/44 [00:02<00:00, 20.53it/s, Train Loss=5816.3593, Valid Loss=4956.1377, Valid R2=-0.0194, Valid MAE=54.0479]\n",
      "Epoch  5: 100%|██████████| 44/44 [00:02<00:00, 20.76it/s, Train Loss=5744.8592, Valid Loss=4920.8184, Valid R2=-0.0121, Valid MAE=53.5505]\n",
      "Epoch  6: 100%|██████████| 44/44 [00:02<00:00, 20.60it/s, Train Loss=5851.0663, Valid Loss=4880.6021, Valid R2=-0.0038, Valid MAE=52.9452]\n",
      "Epoch  7: 100%|██████████| 44/44 [00:02<00:00, 20.85it/s, Train Loss=5802.5285, Valid Loss=4838.7100, Valid R2=0.0048, Valid MAE=52.8501]\n",
      "Epoch  8: 100%|██████████| 44/44 [00:02<00:00, 20.72it/s, Train Loss=5694.9482, Valid Loss=4862.4404, Valid R2=-0.0001, Valid MAE=54.1607]\n",
      "Epoch  9: 100%|██████████| 44/44 [00:02<00:00, 20.63it/s, Train Loss=5466.3579, Valid Loss=4700.9639, Valid R2=0.0331, Valid MAE=53.4095]\n",
      "Epoch 10: 100%|██████████| 44/44 [00:02<00:00, 20.97it/s, Train Loss=5107.1704, Valid Loss=4703.2549, Valid R2=0.0327, Valid MAE=51.4738]\n",
      "Epoch 11: 100%|██████████| 44/44 [00:02<00:00, 20.72it/s, Train Loss=5031.2629, Valid Loss=4640.8735, Valid R2=0.0455, Valid MAE=51.3406]\n",
      "Epoch 12: 100%|██████████| 44/44 [00:02<00:00, 20.49it/s, Train Loss=4776.3067, Valid Loss=4514.4937, Valid R2=0.0715, Valid MAE=51.0381]\n",
      "Epoch 13: 100%|██████████| 44/44 [00:02<00:00, 20.65it/s, Train Loss=4563.0943, Valid Loss=5040.5928, Valid R2=-0.0367, Valid MAE=56.9747]\n",
      "Epoch 14: 100%|██████████| 44/44 [00:02<00:00, 20.98it/s, Train Loss=4124.5023, Valid Loss=4477.3896, Valid R2=0.0791, Valid MAE=50.4015]\n",
      "Epoch 15: 100%|██████████| 44/44 [00:02<00:00, 20.72it/s, Train Loss=4118.9554, Valid Loss=4307.6377, Valid R2=0.1140, Valid MAE=47.8524]\n",
      "Epoch 16: 100%|██████████| 44/44 [00:02<00:00, 20.24it/s, Train Loss=3949.7696, Valid Loss=4247.5229, Valid R2=0.1264, Valid MAE=47.2697]\n",
      "Epoch 17: 100%|██████████| 44/44 [00:02<00:00, 20.85it/s, Train Loss=3950.0337, Valid Loss=4513.7915, Valid R2=0.0716, Valid MAE=51.4563]\n",
      "Epoch 18: 100%|██████████| 44/44 [00:02<00:00, 20.40it/s, Train Loss=3524.9351, Valid Loss=4201.5786, Valid R2=0.1358, Valid MAE=49.5372]\n",
      "Epoch 19: 100%|██████████| 44/44 [00:02<00:00, 20.56it/s, Train Loss=3152.8205, Valid Loss=3875.4971, Valid R2=0.2029, Valid MAE=45.0094]\n",
      "Epoch 20: 100%|██████████| 44/44 [00:02<00:00, 20.86it/s, Train Loss=2925.1401, Valid Loss=3859.1189, Valid R2=0.2063, Valid MAE=44.9304]\n",
      "Epoch 21: 100%|██████████| 44/44 [00:02<00:00, 20.41it/s, Train Loss=2921.6062, Valid Loss=4019.8096, Valid R2=0.1732, Valid MAE=46.2824]\n",
      "Epoch 22: 100%|██████████| 44/44 [00:02<00:00, 20.46it/s, Train Loss=2737.2686, Valid Loss=4321.7759, Valid R2=0.1111, Valid MAE=46.0708]\n",
      "Epoch 23: 100%|██████████| 44/44 [00:02<00:00, 20.89it/s, Train Loss=3023.9476, Valid Loss=4044.8909, Valid R2=0.1681, Valid MAE=47.0326]\n",
      "Epoch 24: 100%|██████████| 44/44 [00:02<00:00, 20.93it/s, Train Loss=2598.1344, Valid Loss=3977.4060, Valid R2=0.1819, Valid MAE=45.7326]\n",
      "Epoch 25: 100%|██████████| 44/44 [00:02<00:00, 20.68it/s, Train Loss=2518.2484, Valid Loss=4540.0659, Valid R2=0.0662, Valid MAE=49.4590]\n",
      "Epoch 26: 100%|██████████| 44/44 [00:02<00:00, 20.84it/s, Train Loss=2245.3034, Valid Loss=4010.3677, Valid R2=0.1752, Valid MAE=45.5224]\n"
     ]
    },
    {
     "name": "stdout",
     "output_type": "stream",
     "text": [
      "Early Stopped\n",
      "Setting 127 of Parameters Grid is now on progres.\n"
     ]
    },
    {
     "name": "stderr",
     "output_type": "stream",
     "text": [
      "Epoch  0: 100%|██████████| 44/44 [00:02<00:00, 20.84it/s, Train Loss=14951.5646, Valid Loss=11149.3604, Valid R2=-1.2932, Valid MAE=79.3480]\n",
      "Epoch  1: 100%|██████████| 44/44 [00:02<00:00, 20.22it/s, Train Loss=11252.2066, Valid Loss=6489.9912, Valid R2=-0.3348, Valid MAE=53.5367]\n",
      "Epoch  2: 100%|██████████| 44/44 [00:02<00:00, 20.39it/s, Train Loss=6347.6074, Valid Loss=5051.4570, Valid R2=-0.0390, Valid MAE=55.5094]\n",
      "Epoch  3: 100%|██████████| 44/44 [00:02<00:00, 20.40it/s, Train Loss=5835.6132, Valid Loss=4907.9536, Valid R2=-0.0095, Valid MAE=53.1289]\n",
      "Epoch  4: 100%|██████████| 44/44 [00:02<00:00, 20.45it/s, Train Loss=5831.0560, Valid Loss=4887.5962, Valid R2=-0.0053, Valid MAE=52.9261]\n",
      "Epoch  5: 100%|██████████| 44/44 [00:02<00:00, 20.90it/s, Train Loss=5707.6848, Valid Loss=4809.3213, Valid R2=0.0108, Valid MAE=52.7889]\n",
      "Epoch  6: 100%|██████████| 44/44 [00:02<00:00, 20.83it/s, Train Loss=5560.1941, Valid Loss=4628.3477, Valid R2=0.0481, Valid MAE=51.3910]\n",
      "Epoch  7: 100%|██████████| 44/44 [00:02<00:00, 20.38it/s, Train Loss=5284.1582, Valid Loss=4498.8540, Valid R2=0.0747, Valid MAE=52.3804]\n",
      "Epoch  8: 100%|██████████| 44/44 [00:02<00:00, 20.60it/s, Train Loss=4743.8333, Valid Loss=4254.7695, Valid R2=0.1249, Valid MAE=47.4855]\n",
      "Epoch  9: 100%|██████████| 44/44 [00:02<00:00, 20.72it/s, Train Loss=4620.1870, Valid Loss=4093.5698, Valid R2=0.1580, Valid MAE=46.7180]\n",
      "Epoch 10: 100%|██████████| 44/44 [00:02<00:00, 20.77it/s, Train Loss=4465.7373, Valid Loss=3907.4624, Valid R2=0.1963, Valid MAE=46.1869]\n",
      "Epoch 11: 100%|██████████| 44/44 [00:02<00:00, 20.87it/s, Train Loss=4315.8105, Valid Loss=4090.9771, Valid R2=0.1586, Valid MAE=48.7071]\n",
      "Epoch 12: 100%|██████████| 44/44 [00:02<00:00, 20.76it/s, Train Loss=4240.1911, Valid Loss=3949.7954, Valid R2=0.1876, Valid MAE=47.3699]\n",
      "Epoch 13: 100%|██████████| 44/44 [00:02<00:00, 20.04it/s, Train Loss=3773.3985, Valid Loss=4138.5391, Valid R2=0.1488, Valid MAE=48.2610]\n",
      "Epoch 14: 100%|██████████| 44/44 [00:02<00:00, 20.28it/s, Train Loss=3804.7739, Valid Loss=3950.4980, Valid R2=0.1875, Valid MAE=49.6146]\n",
      "Epoch 15: 100%|██████████| 44/44 [00:02<00:00, 20.56it/s, Train Loss=3794.0674, Valid Loss=3665.0454, Valid R2=0.2462, Valid MAE=45.2193]\n",
      "Epoch 16: 100%|██████████| 44/44 [00:02<00:00, 20.59it/s, Train Loss=3722.4248, Valid Loss=4069.0261, Valid R2=0.1631, Valid MAE=48.8582]\n",
      "Epoch 17: 100%|██████████| 44/44 [00:02<00:00, 21.54it/s, Train Loss=3334.1080, Valid Loss=3905.1396, Valid R2=0.1968, Valid MAE=46.4679]\n",
      "Epoch 18: 100%|██████████| 44/44 [00:02<00:00, 21.09it/s, Train Loss=3239.8530, Valid Loss=3937.3542, Valid R2=0.1902, Valid MAE=48.0020]\n",
      "Epoch 19: 100%|██████████| 44/44 [00:02<00:00, 20.23it/s, Train Loss=2984.5115, Valid Loss=3894.6863, Valid R2=0.1990, Valid MAE=48.1034]\n",
      "Epoch 20: 100%|██████████| 44/44 [00:02<00:00, 20.41it/s, Train Loss=3057.0223, Valid Loss=4480.3643, Valid R2=0.0785, Valid MAE=52.4047]\n",
      "Epoch 21: 100%|██████████| 44/44 [00:02<00:00, 20.69it/s, Train Loss=2952.9095, Valid Loss=3877.1609, Valid R2=0.2026, Valid MAE=47.1054]\n"
     ]
    },
    {
     "name": "stdout",
     "output_type": "stream",
     "text": [
      "Early Stopped\n",
      "Setting 128 of Parameters Grid is now on progres.\n"
     ]
    },
    {
     "name": "stderr",
     "output_type": "stream",
     "text": [
      "Epoch  0: 100%|██████████| 44/44 [00:02<00:00, 20.70it/s, Train Loss=15146.6704, Valid Loss=11807.6143, Valid R2=-1.4285, Valid MAE=83.3397]\n",
      "Epoch  1: 100%|██████████| 44/44 [00:02<00:00, 21.80it/s, Train Loss=12069.8204, Valid Loss=6766.1333, Valid R2=-0.3916, Valid MAE=54.7579]\n",
      "Epoch  2: 100%|██████████| 44/44 [00:01<00:00, 22.29it/s, Train Loss=6447.7745, Valid Loss=5048.1113, Valid R2=-0.0383, Valid MAE=55.4381]\n",
      "Epoch  3: 100%|██████████| 44/44 [00:01<00:00, 22.61it/s, Train Loss=5832.7825, Valid Loss=4980.3726, Valid R2=-0.0243, Valid MAE=54.4153]\n",
      "Epoch  4: 100%|██████████| 44/44 [00:02<00:00, 20.74it/s, Train Loss=5805.8931, Valid Loss=4898.2891, Valid R2=-0.0075, Valid MAE=52.8184]\n",
      "Epoch  5: 100%|██████████| 44/44 [00:02<00:00, 20.47it/s, Train Loss=5872.5243, Valid Loss=4896.5977, Valid R2=-0.0071, Valid MAE=52.7986]\n",
      "Epoch  6: 100%|██████████| 44/44 [00:02<00:00, 20.57it/s, Train Loss=5783.2136, Valid Loss=4853.2427, Valid R2=0.0018, Valid MAE=51.9817]\n",
      "Epoch  7: 100%|██████████| 44/44 [00:02<00:00, 20.56it/s, Train Loss=5812.8576, Valid Loss=4953.1499, Valid R2=-0.0187, Valid MAE=54.1798]\n",
      "Epoch  8: 100%|██████████| 44/44 [00:02<00:00, 20.62it/s, Train Loss=5729.2693, Valid Loss=4863.2598, Valid R2=-0.0003, Valid MAE=53.0506]\n",
      "Epoch  9: 100%|██████████| 44/44 [00:02<00:00, 20.81it/s, Train Loss=5682.7764, Valid Loss=4770.6050, Valid R2=0.0188, Valid MAE=51.4581]\n",
      "Epoch 10: 100%|██████████| 44/44 [00:02<00:00, 21.38it/s, Train Loss=5570.4780, Valid Loss=4686.6421, Valid R2=0.0361, Valid MAE=50.5941]\n",
      "Epoch 11: 100%|██████████| 44/44 [00:02<00:00, 20.64it/s, Train Loss=5489.6913, Valid Loss=4678.7588, Valid R2=0.0377, Valid MAE=50.2887]\n",
      "Epoch 12: 100%|██████████| 44/44 [00:02<00:00, 20.19it/s, Train Loss=5449.2672, Valid Loss=4894.3955, Valid R2=-0.0067, Valid MAE=55.0708]\n",
      "Epoch 13: 100%|██████████| 44/44 [00:02<00:00, 19.74it/s, Train Loss=5299.4411, Valid Loss=4317.8213, Valid R2=0.1119, Valid MAE=48.3265]\n",
      "Epoch 14: 100%|██████████| 44/44 [00:02<00:00, 20.54it/s, Train Loss=5145.3086, Valid Loss=4140.3652, Valid R2=0.1484, Valid MAE=47.4291]\n",
      "Epoch 15: 100%|██████████| 44/44 [00:02<00:00, 20.07it/s, Train Loss=4879.2820, Valid Loss=4081.1038, Valid R2=0.1606, Valid MAE=48.7107]\n",
      "Epoch 16: 100%|██████████| 44/44 [00:02<00:00, 19.97it/s, Train Loss=5074.5808, Valid Loss=4055.7957, Valid R2=0.1658, Valid MAE=46.3113]\n",
      "Epoch 17: 100%|██████████| 44/44 [00:02<00:00, 20.85it/s, Train Loss=4828.5412, Valid Loss=4283.7480, Valid R2=0.1189, Valid MAE=52.2649]\n",
      "Epoch 18: 100%|██████████| 44/44 [00:02<00:00, 20.36it/s, Train Loss=4566.2421, Valid Loss=4108.6382, Valid R2=0.1549, Valid MAE=45.8950]\n",
      "Epoch 19: 100%|██████████| 44/44 [00:02<00:00, 20.73it/s, Train Loss=4696.9603, Valid Loss=5321.3955, Valid R2=-0.0945, Valid MAE=58.7014]\n",
      "Epoch 20: 100%|██████████| 44/44 [00:02<00:00, 20.57it/s, Train Loss=5054.9649, Valid Loss=4062.0474, Valid R2=0.1645, Valid MAE=49.2486]\n",
      "Epoch 21: 100%|██████████| 44/44 [00:02<00:00, 19.93it/s, Train Loss=4318.4679, Valid Loss=3836.2063, Valid R2=0.2110, Valid MAE=47.1718]\n",
      "Epoch 22: 100%|██████████| 44/44 [00:02<00:00, 20.13it/s, Train Loss=4018.3768, Valid Loss=3686.3914, Valid R2=0.2418, Valid MAE=47.3454]\n",
      "Epoch 23: 100%|██████████| 44/44 [00:02<00:00, 20.28it/s, Train Loss=3558.4349, Valid Loss=3437.2026, Valid R2=0.2930, Valid MAE=43.7695]\n",
      "Epoch 24: 100%|██████████| 44/44 [00:02<00:00, 20.36it/s, Train Loss=3721.3060, Valid Loss=3455.3569, Valid R2=0.2893, Valid MAE=43.4937]\n",
      "Epoch 25: 100%|██████████| 44/44 [00:02<00:00, 21.92it/s, Train Loss=3497.6305, Valid Loss=3405.0090, Valid R2=0.2997, Valid MAE=43.6738]\n",
      "Epoch 26: 100%|██████████| 44/44 [00:02<00:00, 20.59it/s, Train Loss=3250.2198, Valid Loss=3415.6443, Valid R2=0.2975, Valid MAE=44.2841]\n",
      "Epoch 27: 100%|██████████| 44/44 [00:02<00:00, 21.67it/s, Train Loss=3311.8064, Valid Loss=3393.5461, Valid R2=0.3020, Valid MAE=43.6425]\n",
      "Epoch 28: 100%|██████████| 44/44 [00:01<00:00, 22.21it/s, Train Loss=3025.0234, Valid Loss=3109.9854, Valid R2=0.3603, Valid MAE=41.5280]\n",
      "Epoch 29: 100%|██████████| 44/44 [00:01<00:00, 22.48it/s, Train Loss=2906.8417, Valid Loss=3306.5410, Valid R2=0.3199, Valid MAE=44.1024]\n",
      "Epoch 30: 100%|██████████| 44/44 [00:02<00:00, 21.02it/s, Train Loss=2774.6580, Valid Loss=3930.3745, Valid R2=0.1916, Valid MAE=49.4306]\n",
      "Epoch 31: 100%|██████████| 44/44 [00:02<00:00, 21.29it/s, Train Loss=2571.0428, Valid Loss=3778.9229, Valid R2=0.2228, Valid MAE=46.0567]\n",
      "Epoch 32: 100%|██████████| 44/44 [00:02<00:00, 21.02it/s, Train Loss=2595.3371, Valid Loss=3447.1831, Valid R2=0.2910, Valid MAE=45.8579]\n",
      "Epoch 33: 100%|██████████| 44/44 [00:02<00:00, 20.77it/s, Train Loss=2536.1083, Valid Loss=3484.8457, Valid R2=0.2832, Valid MAE=44.8882]\n",
      "Epoch 34: 100%|██████████| 44/44 [00:02<00:00, 20.85it/s, Train Loss=2431.6834, Valid Loss=3253.4146, Valid R2=0.3308, Valid MAE=42.0344]\n"
     ]
    },
    {
     "name": "stdout",
     "output_type": "stream",
     "text": [
      "Early Stopped\n",
      "Setting 129 of Parameters Grid is now on progres.\n"
     ]
    },
    {
     "name": "stderr",
     "output_type": "stream",
     "text": [
      "Epoch  0: 100%|██████████| 44/44 [00:02<00:00, 20.57it/s, Train Loss=14997.6091, Valid Loss=11083.6895, Valid R2=-1.2797, Valid MAE=78.9479]\n",
      "Epoch  1: 100%|██████████| 44/44 [00:02<00:00, 19.65it/s, Train Loss=10269.4268, Valid Loss=5196.9556, Valid R2=-0.0689, Valid MAE=49.4517]\n",
      "Epoch  2: 100%|██████████| 44/44 [00:02<00:00, 20.41it/s, Train Loss=5935.4290, Valid Loss=4938.6982, Valid R2=-0.0158, Valid MAE=53.7762]\n",
      "Epoch  3: 100%|██████████| 44/44 [00:02<00:00, 20.54it/s, Train Loss=5850.7801, Valid Loss=4977.3184, Valid R2=-0.0237, Valid MAE=54.4701]\n",
      "Epoch  4: 100%|██████████| 44/44 [00:02<00:00, 20.62it/s, Train Loss=5789.1178, Valid Loss=4870.4253, Valid R2=-0.0017, Valid MAE=52.4835]\n",
      "Epoch  5: 100%|██████████| 44/44 [00:02<00:00, 20.65it/s, Train Loss=5807.7628, Valid Loss=4999.1138, Valid R2=-0.0282, Valid MAE=55.1448]\n",
      "Epoch  6: 100%|██████████| 44/44 [00:02<00:00, 21.35it/s, Train Loss=5866.0676, Valid Loss=4786.5122, Valid R2=0.0155, Valid MAE=50.9409]\n",
      "Epoch  7: 100%|██████████| 44/44 [00:02<00:00, 21.17it/s, Train Loss=5635.3586, Valid Loss=4891.4790, Valid R2=-0.0061, Valid MAE=54.3649]\n",
      "Epoch  8: 100%|██████████| 44/44 [00:02<00:00, 21.24it/s, Train Loss=5543.3382, Valid Loss=4680.8735, Valid R2=0.0373, Valid MAE=52.8369]\n",
      "Epoch  9: 100%|██████████| 44/44 [00:02<00:00, 21.00it/s, Train Loss=5365.8493, Valid Loss=4731.3003, Valid R2=0.0269, Valid MAE=54.1451]\n",
      "Epoch 10: 100%|██████████| 44/44 [00:02<00:00, 21.01it/s, Train Loss=4988.7387, Valid Loss=4198.0654, Valid R2=0.1366, Valid MAE=48.7962]\n",
      "Epoch 11: 100%|██████████| 44/44 [00:02<00:00, 20.72it/s, Train Loss=4972.8294, Valid Loss=4392.8062, Valid R2=0.0965, Valid MAE=50.9712]\n",
      "Epoch 12: 100%|██████████| 44/44 [00:02<00:00, 21.16it/s, Train Loss=4659.5221, Valid Loss=4176.6812, Valid R2=0.1410, Valid MAE=46.0095]\n",
      "Epoch 13: 100%|██████████| 44/44 [00:02<00:00, 20.84it/s, Train Loss=4478.4027, Valid Loss=4314.3462, Valid R2=0.1126, Valid MAE=51.3878]\n",
      "Epoch 14: 100%|██████████| 44/44 [00:02<00:00, 20.69it/s, Train Loss=4078.2067, Valid Loss=3769.5037, Valid R2=0.2247, Valid MAE=46.6661]\n",
      "Epoch 15: 100%|██████████| 44/44 [00:02<00:00, 21.72it/s, Train Loss=4696.2385, Valid Loss=4188.5264, Valid R2=0.1385, Valid MAE=48.8096]\n",
      "Epoch 16: 100%|██████████| 44/44 [00:02<00:00, 21.60it/s, Train Loss=4465.8155, Valid Loss=3904.4644, Valid R2=0.1969, Valid MAE=46.3671]\n",
      "Epoch 17: 100%|██████████| 44/44 [00:02<00:00, 21.14it/s, Train Loss=3962.9646, Valid Loss=3905.6743, Valid R2=0.1967, Valid MAE=47.3345]\n",
      "Epoch 18: 100%|██████████| 44/44 [00:02<00:00, 20.93it/s, Train Loss=3750.4150, Valid Loss=4687.1338, Valid R2=0.0360, Valid MAE=54.6065]\n",
      "Epoch 19: 100%|██████████| 44/44 [00:02<00:00, 20.56it/s, Train Loss=3766.3100, Valid Loss=3580.1262, Valid R2=0.2637, Valid MAE=44.1492]\n",
      "Epoch 20: 100%|██████████| 44/44 [00:02<00:00, 21.07it/s, Train Loss=3496.9345, Valid Loss=3751.4558, Valid R2=0.2284, Valid MAE=45.3968]\n",
      "Epoch 21: 100%|██████████| 44/44 [00:02<00:00, 20.84it/s, Train Loss=3517.6860, Valid Loss=3556.5383, Valid R2=0.2685, Valid MAE=45.3763]\n",
      "Epoch 22: 100%|██████████| 44/44 [00:02<00:00, 20.52it/s, Train Loss=3170.7679, Valid Loss=3649.9934, Valid R2=0.2493, Valid MAE=44.4125]\n",
      "Epoch 23: 100%|██████████| 44/44 [00:02<00:00, 21.08it/s, Train Loss=3326.4563, Valid Loss=3835.7207, Valid R2=0.2111, Valid MAE=47.3909]\n",
      "Epoch 24: 100%|██████████| 44/44 [00:02<00:00, 21.01it/s, Train Loss=2943.0536, Valid Loss=4029.8430, Valid R2=0.1712, Valid MAE=47.0860]\n",
      "Epoch 25: 100%|██████████| 44/44 [00:02<00:00, 20.81it/s, Train Loss=2905.0897, Valid Loss=3598.7185, Valid R2=0.2598, Valid MAE=45.0860]\n",
      "Epoch 26: 100%|██████████| 44/44 [00:02<00:00, 20.73it/s, Train Loss=2711.7370, Valid Loss=4067.0029, Valid R2=0.1635, Valid MAE=47.3514]\n",
      "Epoch 27: 100%|██████████| 44/44 [00:02<00:00, 20.53it/s, Train Loss=2795.7117, Valid Loss=3853.0632, Valid R2=0.2075, Valid MAE=45.2056]\n"
     ]
    },
    {
     "name": "stdout",
     "output_type": "stream",
     "text": [
      "Early Stopped\n",
      "Setting 130 of Parameters Grid is now on progres.\n"
     ]
    },
    {
     "name": "stderr",
     "output_type": "stream",
     "text": [
      "Epoch  0: 100%|██████████| 44/44 [00:02<00:00, 21.01it/s, Train Loss=14751.5300, Valid Loss=10735.6934, Valid R2=-1.2081, Valid MAE=76.8099]\n",
      "Epoch  1: 100%|██████████| 44/44 [00:02<00:00, 20.93it/s, Train Loss=10678.0637, Valid Loss=5731.1470, Valid R2=-0.1788, Valid MAE=50.5840]\n",
      "Epoch  2: 100%|██████████| 44/44 [00:02<00:00, 21.38it/s, Train Loss=6149.6052, Valid Loss=4964.2202, Valid R2=-0.0210, Valid MAE=54.0789]\n",
      "Epoch  3: 100%|██████████| 44/44 [00:02<00:00, 21.89it/s, Train Loss=5857.7777, Valid Loss=4981.9985, Valid R2=-0.0247, Valid MAE=54.3883]\n",
      "Epoch  4: 100%|██████████| 44/44 [00:02<00:00, 21.44it/s, Train Loss=5827.8842, Valid Loss=4873.9985, Valid R2=-0.0025, Valid MAE=51.9517]\n",
      "Epoch  5: 100%|██████████| 44/44 [00:02<00:00, 20.52it/s, Train Loss=5805.8117, Valid Loss=4951.1406, Valid R2=-0.0183, Valid MAE=53.7401]\n",
      "Epoch  6: 100%|██████████| 44/44 [00:02<00:00, 19.50it/s, Train Loss=5871.7123, Valid Loss=4918.6538, Valid R2=-0.0117, Valid MAE=53.3628]\n",
      "Epoch  7: 100%|██████████| 44/44 [00:02<00:00, 20.27it/s, Train Loss=5802.2211, Valid Loss=4927.7271, Valid R2=-0.0135, Valid MAE=53.4101]\n",
      "Epoch  8: 100%|██████████| 44/44 [00:02<00:00, 21.50it/s, Train Loss=5814.0338, Valid Loss=4973.9458, Valid R2=-0.0230, Valid MAE=54.3487]\n",
      "Epoch  9: 100%|██████████| 44/44 [00:01<00:00, 22.08it/s, Train Loss=5792.4593, Valid Loss=4930.2671, Valid R2=-0.0140, Valid MAE=53.5910]\n",
      "Epoch 10: 100%|██████████| 44/44 [00:02<00:00, 20.97it/s, Train Loss=5769.1713, Valid Loss=5048.1831, Valid R2=-0.0383, Valid MAE=55.8536]\n"
     ]
    },
    {
     "name": "stdout",
     "output_type": "stream",
     "text": [
      "Early Stopped\n",
      "Setting 131 of Parameters Grid is now on progres.\n"
     ]
    },
    {
     "name": "stderr",
     "output_type": "stream",
     "text": [
      "Epoch  0: 100%|██████████| 44/44 [00:02<00:00, 20.24it/s, Train Loss=15043.4786, Valid Loss=11282.3125, Valid R2=-1.3205, Valid MAE=80.1571]\n",
      "Epoch  1: 100%|██████████| 44/44 [00:02<00:00, 21.00it/s, Train Loss=10730.8539, Valid Loss=5474.6069, Valid R2=-0.1260, Valid MAE=49.7899]\n",
      "Epoch  2: 100%|██████████| 44/44 [00:02<00:00, 21.28it/s, Train Loss=6013.4407, Valid Loss=4957.8120, Valid R2=-0.0197, Valid MAE=54.0604]\n",
      "Epoch  3: 100%|██████████| 44/44 [00:02<00:00, 21.00it/s, Train Loss=5815.2903, Valid Loss=4901.3462, Valid R2=-0.0081, Valid MAE=53.0190]\n",
      "Epoch  4: 100%|██████████| 44/44 [00:02<00:00, 20.76it/s, Train Loss=5800.2752, Valid Loss=4898.5537, Valid R2=-0.0075, Valid MAE=53.0982]\n",
      "Epoch  5: 100%|██████████| 44/44 [00:02<00:00, 20.96it/s, Train Loss=5734.1582, Valid Loss=4895.7661, Valid R2=-0.0069, Valid MAE=53.6339]\n",
      "Epoch  6: 100%|██████████| 44/44 [00:02<00:00, 21.27it/s, Train Loss=5571.9838, Valid Loss=4738.8398, Valid R2=0.0253, Valid MAE=52.6731]\n",
      "Epoch  7: 100%|██████████| 44/44 [00:02<00:00, 21.95it/s, Train Loss=5298.5340, Valid Loss=5035.7549, Valid R2=-0.0357, Valid MAE=57.2191]\n",
      "Epoch  8: 100%|██████████| 44/44 [00:02<00:00, 20.60it/s, Train Loss=5145.4255, Valid Loss=4355.1611, Valid R2=0.1042, Valid MAE=51.3012]\n",
      "Epoch  9: 100%|██████████| 44/44 [00:02<00:00, 19.36it/s, Train Loss=5209.8915, Valid Loss=4291.6636, Valid R2=0.1173, Valid MAE=51.3572]\n",
      "Epoch 10: 100%|██████████| 44/44 [00:02<00:00, 19.34it/s, Train Loss=4744.0830, Valid Loss=4091.3694, Valid R2=0.1585, Valid MAE=51.6817]\n",
      "Epoch 11: 100%|██████████| 44/44 [00:02<00:00, 20.29it/s, Train Loss=4503.8630, Valid Loss=4242.6514, Valid R2=0.1274, Valid MAE=52.2028]\n",
      "Epoch 12: 100%|██████████| 44/44 [00:02<00:00, 19.94it/s, Train Loss=4211.5313, Valid Loss=4108.6748, Valid R2=0.1549, Valid MAE=51.2114]\n",
      "Epoch 13: 100%|██████████| 44/44 [00:02<00:00, 20.28it/s, Train Loss=4159.5262, Valid Loss=3690.3706, Valid R2=0.2410, Valid MAE=44.9640]\n",
      "Epoch 14: 100%|██████████| 44/44 [00:02<00:00, 20.50it/s, Train Loss=4027.8919, Valid Loss=3638.9648, Valid R2=0.2516, Valid MAE=44.5568]\n",
      "Epoch 15: 100%|██████████| 44/44 [00:02<00:00, 21.06it/s, Train Loss=3712.2609, Valid Loss=3359.5732, Valid R2=0.3090, Valid MAE=45.8678]\n",
      "Epoch 16: 100%|██████████| 44/44 [00:02<00:00, 20.43it/s, Train Loss=3475.7907, Valid Loss=3277.9155, Valid R2=0.3258, Valid MAE=44.2726]\n",
      "Epoch 17: 100%|██████████| 44/44 [00:02<00:00, 20.22it/s, Train Loss=3314.2350, Valid Loss=3117.6501, Valid R2=0.3588, Valid MAE=42.5635]\n",
      "Epoch 18: 100%|██████████| 44/44 [00:02<00:00, 20.55it/s, Train Loss=3152.4419, Valid Loss=3269.4746, Valid R2=0.3275, Valid MAE=43.6502]\n",
      "Epoch 19: 100%|██████████| 44/44 [00:02<00:00, 20.78it/s, Train Loss=3078.5733, Valid Loss=3458.6843, Valid R2=0.2886, Valid MAE=46.3704]\n",
      "Epoch 20: 100%|██████████| 44/44 [00:02<00:00, 20.68it/s, Train Loss=2816.7148, Valid Loss=3275.2639, Valid R2=0.3264, Valid MAE=44.7608]\n",
      "Epoch 21: 100%|██████████| 44/44 [00:02<00:00, 20.69it/s, Train Loss=2606.0113, Valid Loss=2927.6199, Valid R2=0.3979, Valid MAE=41.1104]\n",
      "Epoch 22: 100%|██████████| 44/44 [00:02<00:00, 20.65it/s, Train Loss=2480.3683, Valid Loss=2781.0994, Valid R2=0.4280, Valid MAE=39.1852]\n",
      "Epoch 23: 100%|██████████| 44/44 [00:02<00:00, 20.25it/s, Train Loss=2222.7115, Valid Loss=3349.3738, Valid R2=0.3111, Valid MAE=44.8188]\n",
      "Epoch 24: 100%|██████████| 44/44 [00:02<00:00, 20.49it/s, Train Loss=2302.4579, Valid Loss=2793.0779, Valid R2=0.4255, Valid MAE=39.4689]\n",
      "Epoch 25: 100%|██████████| 44/44 [00:02<00:00, 19.97it/s, Train Loss=2435.8090, Valid Loss=3103.6792, Valid R2=0.3616, Valid MAE=42.1378]\n",
      "Epoch 26: 100%|██████████| 44/44 [00:02<00:00, 21.01it/s, Train Loss=2292.1284, Valid Loss=2864.8594, Valid R2=0.4108, Valid MAE=40.1293]\n",
      "Epoch 27: 100%|██████████| 44/44 [00:02<00:00, 20.66it/s, Train Loss=2098.2974, Valid Loss=3209.6580, Valid R2=0.3398, Valid MAE=43.1912]\n",
      "Epoch 28: 100%|██████████| 44/44 [00:02<00:00, 21.06it/s, Train Loss=2038.2092, Valid Loss=2829.8147, Valid R2=0.4180, Valid MAE=39.9075]\n"
     ]
    },
    {
     "name": "stdout",
     "output_type": "stream",
     "text": [
      "Early Stopped\n",
      "Setting 132 of Parameters Grid is now on progres.\n"
     ]
    },
    {
     "name": "stderr",
     "output_type": "stream",
     "text": [
      "Epoch  0: 100%|██████████| 44/44 [00:01<00:00, 22.10it/s, Train Loss=14849.9886, Valid Loss=11004.8643, Valid R2=-1.2634, Valid MAE=78.4592]\n",
      "Epoch  1: 100%|██████████| 44/44 [00:01<00:00, 22.05it/s, Train Loss=11662.0247, Valid Loss=7509.4526, Valid R2=-0.5445, Valid MAE=58.4161]\n",
      "Epoch  2: 100%|██████████| 44/44 [00:02<00:00, 21.61it/s, Train Loss=7684.5692, Valid Loss=4964.8662, Valid R2=-0.0212, Valid MAE=49.7851]\n",
      "Epoch  3: 100%|██████████| 44/44 [00:02<00:00, 20.62it/s, Train Loss=6068.3693, Valid Loss=4909.9683, Valid R2=-0.0099, Valid MAE=53.0820]\n",
      "Epoch  4: 100%|██████████| 44/44 [00:02<00:00, 21.05it/s, Train Loss=5991.4183, Valid Loss=4928.8618, Valid R2=-0.0138, Valid MAE=53.4926]\n",
      "Epoch  5: 100%|██████████| 44/44 [00:02<00:00, 20.38it/s, Train Loss=5958.5119, Valid Loss=4905.7026, Valid R2=-0.0090, Valid MAE=53.0617]\n",
      "Epoch  6: 100%|██████████| 44/44 [00:02<00:00, 20.67it/s, Train Loss=5871.4182, Valid Loss=4958.2275, Valid R2=-0.0198, Valid MAE=54.1932]\n",
      "Epoch  7: 100%|██████████| 44/44 [00:02<00:00, 20.68it/s, Train Loss=5865.8537, Valid Loss=4880.8413, Valid R2=-0.0039, Valid MAE=52.8086]\n",
      "Epoch  8: 100%|██████████| 44/44 [00:02<00:00, 20.78it/s, Train Loss=5742.7955, Valid Loss=4789.6382, Valid R2=0.0149, Valid MAE=51.3692]\n",
      "Epoch  9: 100%|██████████| 44/44 [00:02<00:00, 20.52it/s, Train Loss=5687.6717, Valid Loss=4699.7798, Valid R2=0.0334, Valid MAE=51.5492]\n",
      "Epoch 10: 100%|██████████| 44/44 [00:02<00:00, 20.40it/s, Train Loss=5564.6401, Valid Loss=4686.0190, Valid R2=0.0362, Valid MAE=52.1380]\n",
      "Epoch 11: 100%|██████████| 44/44 [00:02<00:00, 20.18it/s, Train Loss=5267.2224, Valid Loss=4335.0562, Valid R2=0.1084, Valid MAE=49.2090]\n",
      "Epoch 12: 100%|██████████| 44/44 [00:02<00:00, 20.55it/s, Train Loss=4805.5654, Valid Loss=4207.0186, Valid R2=0.1347, Valid MAE=47.1164]\n",
      "Epoch 13: 100%|██████████| 44/44 [00:02<00:00, 20.38it/s, Train Loss=4580.9424, Valid Loss=4141.6538, Valid R2=0.1482, Valid MAE=49.2586]\n",
      "Epoch 14: 100%|██████████| 44/44 [00:02<00:00, 20.95it/s, Train Loss=4254.6697, Valid Loss=4234.8120, Valid R2=0.1290, Valid MAE=50.7481]\n",
      "Epoch 15: 100%|██████████| 44/44 [00:02<00:00, 19.98it/s, Train Loss=4204.4904, Valid Loss=4253.3110, Valid R2=0.1252, Valid MAE=50.8972]\n",
      "Epoch 16: 100%|██████████| 44/44 [00:02<00:00, 20.64it/s, Train Loss=3799.0883, Valid Loss=4477.6934, Valid R2=0.0790, Valid MAE=52.8179]\n",
      "Epoch 17: 100%|██████████| 44/44 [00:02<00:00, 20.98it/s, Train Loss=3552.1185, Valid Loss=3895.2908, Valid R2=0.1988, Valid MAE=46.6154]\n",
      "Epoch 18: 100%|██████████| 44/44 [00:02<00:00, 20.54it/s, Train Loss=3656.1932, Valid Loss=3841.7439, Valid R2=0.2098, Valid MAE=47.1706]\n",
      "Epoch 19: 100%|██████████| 44/44 [00:02<00:00, 20.08it/s, Train Loss=3517.1209, Valid Loss=3684.1394, Valid R2=0.2423, Valid MAE=46.2335]\n",
      "Epoch 20: 100%|██████████| 44/44 [00:02<00:00, 20.12it/s, Train Loss=3144.0215, Valid Loss=3638.9976, Valid R2=0.2515, Valid MAE=45.8620]\n",
      "Epoch 21: 100%|██████████| 44/44 [00:02<00:00, 20.73it/s, Train Loss=2897.2523, Valid Loss=3767.5669, Valid R2=0.2251, Valid MAE=47.3206]\n",
      "Epoch 22: 100%|██████████| 44/44 [00:02<00:00, 20.73it/s, Train Loss=2671.0516, Valid Loss=3643.1675, Valid R2=0.2507, Valid MAE=45.5803]\n",
      "Epoch 23: 100%|██████████| 44/44 [00:02<00:00, 21.13it/s, Train Loss=2681.1986, Valid Loss=3748.6772, Valid R2=0.2290, Valid MAE=45.9083]\n",
      "Epoch 24: 100%|██████████| 44/44 [00:02<00:00, 21.35it/s, Train Loss=2387.7202, Valid Loss=3839.5103, Valid R2=0.2103, Valid MAE=46.4781]\n",
      "Epoch 25: 100%|██████████| 44/44 [00:02<00:00, 21.57it/s, Train Loss=2225.7650, Valid Loss=3943.9358, Valid R2=0.1888, Valid MAE=47.3204]\n",
      "Epoch 26: 100%|██████████| 44/44 [00:02<00:00, 21.88it/s, Train Loss=2217.0666, Valid Loss=4330.5171, Valid R2=0.1093, Valid MAE=50.8941]\n"
     ]
    },
    {
     "name": "stdout",
     "output_type": "stream",
     "text": [
      "Early Stopped\n",
      "Setting 133 of Parameters Grid is now on progres.\n"
     ]
    },
    {
     "name": "stderr",
     "output_type": "stream",
     "text": [
      "Epoch  0: 100%|██████████| 44/44 [00:02<00:00, 20.53it/s, Train Loss=14744.7247, Valid Loss=10525.9463, Valid R2=-1.1649, Valid MAE=75.5213]\n",
      "Epoch  1: 100%|██████████| 44/44 [00:02<00:00, 20.84it/s, Train Loss=10171.4426, Valid Loss=5345.1094, Valid R2=-0.0994, Valid MAE=49.5632]\n",
      "Epoch  2: 100%|██████████| 44/44 [00:02<00:00, 20.48it/s, Train Loss=6040.3199, Valid Loss=4924.3945, Valid R2=-0.0128, Valid MAE=53.4524]\n",
      "Epoch  3: 100%|██████████| 44/44 [00:02<00:00, 20.59it/s, Train Loss=5742.6860, Valid Loss=5033.9658, Valid R2=-0.0354, Valid MAE=55.3720]\n",
      "Epoch  4: 100%|██████████| 44/44 [00:02<00:00, 20.71it/s, Train Loss=5887.1757, Valid Loss=4880.9336, Valid R2=-0.0039, Valid MAE=52.8136]\n",
      "Epoch  5: 100%|██████████| 44/44 [00:02<00:00, 21.08it/s, Train Loss=5782.7743, Valid Loss=4943.5024, Valid R2=-0.0168, Valid MAE=54.8054]\n",
      "Epoch  6: 100%|██████████| 44/44 [00:02<00:00, 20.86it/s, Train Loss=5675.5963, Valid Loss=4782.4155, Valid R2=0.0164, Valid MAE=49.8414]\n",
      "Epoch  7: 100%|██████████| 44/44 [00:02<00:00, 21.48it/s, Train Loss=5477.0287, Valid Loss=5074.8066, Valid R2=-0.0438, Valid MAE=58.0241]\n",
      "Epoch  8: 100%|██████████| 44/44 [00:02<00:00, 21.18it/s, Train Loss=5153.0751, Valid Loss=4417.2007, Valid R2=0.0915, Valid MAE=49.6816]\n",
      "Epoch  9: 100%|██████████| 44/44 [00:02<00:00, 20.67it/s, Train Loss=5012.1627, Valid Loss=4550.8687, Valid R2=0.0640, Valid MAE=48.5803]\n",
      "Epoch 10: 100%|██████████| 44/44 [00:02<00:00, 20.83it/s, Train Loss=4826.3502, Valid Loss=3949.1245, Valid R2=0.1878, Valid MAE=48.7498]\n",
      "Epoch 11: 100%|██████████| 44/44 [00:02<00:00, 21.04it/s, Train Loss=4472.5499, Valid Loss=3700.6929, Valid R2=0.2389, Valid MAE=45.9603]\n",
      "Epoch 12: 100%|██████████| 44/44 [00:02<00:00, 20.76it/s, Train Loss=4270.1911, Valid Loss=3968.5911, Valid R2=0.1838, Valid MAE=49.6367]\n",
      "Epoch 13: 100%|██████████| 44/44 [00:02<00:00, 20.41it/s, Train Loss=3846.1963, Valid Loss=3604.7532, Valid R2=0.2586, Valid MAE=45.2440]\n",
      "Epoch 14: 100%|██████████| 44/44 [00:02<00:00, 21.00it/s, Train Loss=3754.3386, Valid Loss=3422.7151, Valid R2=0.2960, Valid MAE=44.9104]\n",
      "Epoch 15: 100%|██████████| 44/44 [00:02<00:00, 20.44it/s, Train Loss=3612.2838, Valid Loss=3525.8745, Valid R2=0.2748, Valid MAE=46.5304]\n",
      "Epoch 16: 100%|██████████| 44/44 [00:02<00:00, 20.92it/s, Train Loss=3237.3635, Valid Loss=3078.0564, Valid R2=0.3669, Valid MAE=43.0418]\n",
      "Epoch 17: 100%|██████████| 44/44 [00:02<00:00, 21.29it/s, Train Loss=3141.0646, Valid Loss=3264.7954, Valid R2=0.3285, Valid MAE=45.0170]\n",
      "Epoch 18: 100%|██████████| 44/44 [00:02<00:00, 21.21it/s, Train Loss=3171.7489, Valid Loss=3025.9504, Valid R2=0.3776, Valid MAE=41.4986]\n",
      "Epoch 19: 100%|██████████| 44/44 [00:02<00:00, 20.68it/s, Train Loss=3038.5443, Valid Loss=3044.0710, Valid R2=0.3739, Valid MAE=43.4241]\n",
      "Epoch 20: 100%|██████████| 44/44 [00:02<00:00, 20.86it/s, Train Loss=2812.9554, Valid Loss=2977.7268, Valid R2=0.3876, Valid MAE=43.3846]\n",
      "Epoch 21: 100%|██████████| 44/44 [00:02<00:00, 20.94it/s, Train Loss=2557.8365, Valid Loss=2790.1021, Valid R2=0.4261, Valid MAE=40.7503]\n",
      "Epoch 22: 100%|██████████| 44/44 [00:02<00:00, 21.18it/s, Train Loss=2505.1837, Valid Loss=3469.9346, Valid R2=0.2863, Valid MAE=46.4727]\n",
      "Epoch 23: 100%|██████████| 44/44 [00:02<00:00, 20.89it/s, Train Loss=2698.0446, Valid Loss=2657.6675, Valid R2=0.4534, Valid MAE=41.0767]\n",
      "Epoch 24: 100%|██████████| 44/44 [00:02<00:00, 20.34it/s, Train Loss=2751.9203, Valid Loss=3184.3635, Valid R2=0.3451, Valid MAE=46.2449]\n",
      "Epoch 25: 100%|██████████| 44/44 [00:02<00:00, 21.01it/s, Train Loss=2398.0689, Valid Loss=2481.7837, Valid R2=0.4896, Valid MAE=39.7987]\n",
      "Epoch 26: 100%|██████████| 44/44 [00:02<00:00, 20.77it/s, Train Loss=2263.3081, Valid Loss=2694.5364, Valid R2=0.4458, Valid MAE=39.2488]\n",
      "Epoch 27: 100%|██████████| 44/44 [00:02<00:00, 20.96it/s, Train Loss=2697.3336, Valid Loss=2740.9768, Valid R2=0.4362, Valid MAE=41.4524]\n",
      "Epoch 28: 100%|██████████| 44/44 [00:02<00:00, 20.77it/s, Train Loss=2479.3116, Valid Loss=2983.0056, Valid R2=0.3865, Valid MAE=43.5267]\n",
      "Epoch 29: 100%|██████████| 44/44 [00:02<00:00, 20.33it/s, Train Loss=2175.4351, Valid Loss=3573.5020, Valid R2=0.2650, Valid MAE=47.1248]\n",
      "Epoch 30: 100%|██████████| 44/44 [00:02<00:00, 19.95it/s, Train Loss=1994.8969, Valid Loss=2655.3958, Valid R2=0.4538, Valid MAE=40.2159]\n",
      "Epoch 31: 100%|██████████| 44/44 [00:02<00:00, 20.93it/s, Train Loss=2000.0054, Valid Loss=2832.8071, Valid R2=0.4174, Valid MAE=42.0476]\n"
     ]
    },
    {
     "name": "stdout",
     "output_type": "stream",
     "text": [
      "Early Stopped\n",
      "Setting 134 of Parameters Grid is now on progres.\n"
     ]
    },
    {
     "name": "stderr",
     "output_type": "stream",
     "text": [
      "Epoch  0: 100%|██████████| 44/44 [00:02<00:00, 20.42it/s, Train Loss=14819.2081, Valid Loss=10751.9082, Valid R2=-1.2114, Valid MAE=76.9090]\n",
      "Epoch  1: 100%|██████████| 44/44 [00:02<00:00, 21.03it/s, Train Loss=10279.3938, Valid Loss=5329.5278, Valid R2=-0.0962, Valid MAE=49.5328]\n",
      "Epoch  2: 100%|██████████| 44/44 [00:02<00:00, 20.84it/s, Train Loss=5953.1283, Valid Loss=4955.9927, Valid R2=-0.0193, Valid MAE=54.0472]\n",
      "Epoch  3: 100%|██████████| 44/44 [00:02<00:00, 20.76it/s, Train Loss=5722.5000, Valid Loss=4934.1123, Valid R2=-0.0148, Valid MAE=53.7829]\n",
      "Epoch  4: 100%|██████████| 44/44 [00:02<00:00, 20.85it/s, Train Loss=5797.5725, Valid Loss=4969.0088, Valid R2=-0.0220, Valid MAE=54.6503]\n",
      "Epoch  5: 100%|██████████| 44/44 [00:02<00:00, 21.07it/s, Train Loss=5802.9788, Valid Loss=4724.4985, Valid R2=0.0283, Valid MAE=51.3911]\n",
      "Epoch  6: 100%|██████████| 44/44 [00:02<00:00, 20.55it/s, Train Loss=5613.0977, Valid Loss=4519.5762, Valid R2=0.0704, Valid MAE=50.9481]\n",
      "Epoch  7: 100%|██████████| 44/44 [00:02<00:00, 20.84it/s, Train Loss=5269.6230, Valid Loss=4494.1040, Valid R2=0.0757, Valid MAE=52.7124]\n",
      "Epoch  8: 100%|██████████| 44/44 [00:02<00:00, 20.92it/s, Train Loss=5097.6434, Valid Loss=4558.7559, Valid R2=0.0624, Valid MAE=54.3686]\n",
      "Epoch  9: 100%|██████████| 44/44 [00:02<00:00, 21.04it/s, Train Loss=4828.8107, Valid Loss=4001.2957, Valid R2=0.1770, Valid MAE=47.2934]\n",
      "Epoch 10: 100%|██████████| 44/44 [00:02<00:00, 20.79it/s, Train Loss=4635.1683, Valid Loss=3941.0298, Valid R2=0.1894, Valid MAE=49.3328]\n",
      "Epoch 11: 100%|██████████| 44/44 [00:02<00:00, 20.78it/s, Train Loss=4156.5986, Valid Loss=4281.1401, Valid R2=0.1195, Valid MAE=53.4172]\n",
      "Epoch 12: 100%|██████████| 44/44 [00:02<00:00, 20.36it/s, Train Loss=4255.0675, Valid Loss=3667.1013, Valid R2=0.2458, Valid MAE=45.7563]\n",
      "Epoch 13: 100%|██████████| 44/44 [00:02<00:00, 20.64it/s, Train Loss=3900.9001, Valid Loss=3353.2732, Valid R2=0.3103, Valid MAE=45.2369]\n",
      "Epoch 14: 100%|██████████| 44/44 [00:02<00:00, 20.47it/s, Train Loss=3703.6982, Valid Loss=3277.3330, Valid R2=0.3259, Valid MAE=43.1251]\n",
      "Epoch 15: 100%|██████████| 44/44 [00:02<00:00, 20.19it/s, Train Loss=3537.7369, Valid Loss=3420.8262, Valid R2=0.2964, Valid MAE=43.4824]\n",
      "Epoch 16: 100%|██████████| 44/44 [00:02<00:00, 20.11it/s, Train Loss=3597.3257, Valid Loss=3477.1233, Valid R2=0.2848, Valid MAE=46.5753]\n",
      "Epoch 17: 100%|██████████| 44/44 [00:02<00:00, 19.39it/s, Train Loss=3290.8692, Valid Loss=3316.2954, Valid R2=0.3179, Valid MAE=45.4661]\n",
      "Epoch 18: 100%|██████████| 44/44 [00:02<00:00, 20.69it/s, Train Loss=2984.2105, Valid Loss=3177.4114, Valid R2=0.3465, Valid MAE=43.1431]\n",
      "Epoch 19: 100%|██████████| 44/44 [00:02<00:00, 19.72it/s, Train Loss=3059.4784, Valid Loss=3427.9272, Valid R2=0.2950, Valid MAE=45.1908]\n",
      "Epoch 20: 100%|██████████| 44/44 [00:02<00:00, 20.35it/s, Train Loss=2850.2487, Valid Loss=3105.5945, Valid R2=0.3613, Valid MAE=41.6870]\n",
      "Epoch 21: 100%|██████████| 44/44 [00:02<00:00, 21.03it/s, Train Loss=2736.2698, Valid Loss=3512.7786, Valid R2=0.2775, Valid MAE=46.1066]\n",
      "Epoch 22: 100%|██████████| 44/44 [00:02<00:00, 20.60it/s, Train Loss=2630.1835, Valid Loss=3123.0315, Valid R2=0.3577, Valid MAE=43.4195]\n",
      "Epoch 23: 100%|██████████| 44/44 [00:02<00:00, 20.07it/s, Train Loss=2277.5941, Valid Loss=3238.7065, Valid R2=0.3339, Valid MAE=42.8423]\n",
      "Epoch 24: 100%|██████████| 44/44 [00:02<00:00, 19.95it/s, Train Loss=2276.7888, Valid Loss=3587.7280, Valid R2=0.2621, Valid MAE=45.9307]\n",
      "Epoch 25: 100%|██████████| 44/44 [00:02<00:00, 20.27it/s, Train Loss=2237.2972, Valid Loss=3284.4102, Valid R2=0.3245, Valid MAE=44.6074]\n",
      "Epoch 26: 100%|██████████| 44/44 [00:02<00:00, 21.50it/s, Train Loss=1913.9044, Valid Loss=3720.4314, Valid R2=0.2348, Valid MAE=46.3765]\n"
     ]
    },
    {
     "name": "stdout",
     "output_type": "stream",
     "text": [
      "Early Stopped\n",
      "Setting 135 of Parameters Grid is now on progres.\n"
     ]
    },
    {
     "name": "stderr",
     "output_type": "stream",
     "text": [
      "Epoch  0: 100%|██████████| 44/44 [00:02<00:00, 20.03it/s, Train Loss=15088.4450, Valid Loss=11454.6064, Valid R2=-1.3559, Valid MAE=81.2101]\n",
      "Epoch  1: 100%|██████████| 44/44 [00:02<00:00, 20.50it/s, Train Loss=12347.3456, Valid Loss=8636.7471, Valid R2=-0.7764, Valid MAE=64.2833]\n",
      "Epoch  2: 100%|██████████| 44/44 [00:02<00:00, 20.59it/s, Train Loss=9264.7266, Valid Loss=5767.3218, Valid R2=-0.1862, Valid MAE=50.7065]\n",
      "Epoch  3: 100%|██████████| 44/44 [00:02<00:00, 20.77it/s, Train Loss=6222.1782, Valid Loss=4995.5562, Valid R2=-0.0275, Valid MAE=54.6171]\n",
      "Epoch  4: 100%|██████████| 44/44 [00:02<00:00, 20.57it/s, Train Loss=5841.1588, Valid Loss=4931.0962, Valid R2=-0.0142, Valid MAE=53.5322]\n",
      "Epoch  5: 100%|██████████| 44/44 [00:02<00:00, 20.52it/s, Train Loss=5809.4405, Valid Loss=4925.4336, Valid R2=-0.0130, Valid MAE=53.4427]\n",
      "Epoch  6: 100%|██████████| 44/44 [00:02<00:00, 20.78it/s, Train Loss=5783.4960, Valid Loss=4903.1562, Valid R2=-0.0085, Valid MAE=53.0178]\n",
      "Epoch  7: 100%|██████████| 44/44 [00:02<00:00, 20.85it/s, Train Loss=5874.6907, Valid Loss=4875.3037, Valid R2=-0.0027, Valid MAE=52.6749]\n",
      "Epoch  8: 100%|██████████| 44/44 [00:02<00:00, 20.33it/s, Train Loss=5787.0246, Valid Loss=4775.4067, Valid R2=0.0178, Valid MAE=51.3601]\n",
      "Epoch  9: 100%|██████████| 44/44 [00:02<00:00, 20.87it/s, Train Loss=5624.2141, Valid Loss=4609.1543, Valid R2=0.0520, Valid MAE=50.6135]\n",
      "Epoch 10: 100%|██████████| 44/44 [00:02<00:00, 20.42it/s, Train Loss=5295.3460, Valid Loss=4681.2500, Valid R2=0.0372, Valid MAE=51.1219]\n",
      "Epoch 11: 100%|██████████| 44/44 [00:02<00:00, 20.20it/s, Train Loss=5286.9453, Valid Loss=4531.2188, Valid R2=0.0680, Valid MAE=50.5626]\n",
      "Epoch 12: 100%|██████████| 44/44 [00:02<00:00, 21.64it/s, Train Loss=4963.6422, Valid Loss=4432.0186, Valid R2=0.0884, Valid MAE=50.3051]\n",
      "Epoch 13: 100%|██████████| 44/44 [00:02<00:00, 21.55it/s, Train Loss=4844.1896, Valid Loss=4625.4673, Valid R2=0.0486, Valid MAE=53.0698]\n",
      "Epoch 14: 100%|██████████| 44/44 [00:02<00:00, 21.54it/s, Train Loss=4591.0751, Valid Loss=4411.4971, Valid R2=0.0927, Valid MAE=50.4129]\n",
      "Epoch 15: 100%|██████████| 44/44 [00:02<00:00, 21.61it/s, Train Loss=4538.6205, Valid Loss=4359.8472, Valid R2=0.1033, Valid MAE=47.0275]\n",
      "Epoch 16: 100%|██████████| 44/44 [00:02<00:00, 20.73it/s, Train Loss=4215.6196, Valid Loss=4261.2734, Valid R2=0.1236, Valid MAE=47.8538]\n",
      "Epoch 17: 100%|██████████| 44/44 [00:02<00:00, 20.60it/s, Train Loss=3941.6859, Valid Loss=4094.6748, Valid R2=0.1578, Valid MAE=46.5096]\n",
      "Epoch 18: 100%|██████████| 44/44 [00:02<00:00, 20.36it/s, Train Loss=3662.8694, Valid Loss=4309.8076, Valid R2=0.1136, Valid MAE=50.2616]\n",
      "Epoch 19: 100%|██████████| 44/44 [00:02<00:00, 18.69it/s, Train Loss=3510.5181, Valid Loss=4316.4639, Valid R2=0.1122, Valid MAE=47.4966]\n",
      "Epoch 20: 100%|██████████| 44/44 [00:02<00:00, 20.24it/s, Train Loss=3202.0984, Valid Loss=4004.2705, Valid R2=0.1764, Valid MAE=46.9747]\n",
      "Epoch 21: 100%|██████████| 44/44 [00:02<00:00, 19.86it/s, Train Loss=3249.2745, Valid Loss=4949.3145, Valid R2=-0.0180, Valid MAE=55.1692]\n",
      "Epoch 22: 100%|██████████| 44/44 [00:02<00:00, 19.93it/s, Train Loss=3023.3513, Valid Loss=3731.9065, Valid R2=0.2324, Valid MAE=43.9298]\n",
      "Epoch 23: 100%|██████████| 44/44 [00:02<00:00, 20.35it/s, Train Loss=2788.4186, Valid Loss=4042.6670, Valid R2=0.1685, Valid MAE=48.1352]\n",
      "Epoch 24: 100%|██████████| 44/44 [00:02<00:00, 20.22it/s, Train Loss=2641.2639, Valid Loss=4016.1184, Valid R2=0.1740, Valid MAE=46.4487]\n",
      "Epoch 25: 100%|██████████| 44/44 [00:02<00:00, 20.90it/s, Train Loss=2490.0317, Valid Loss=3906.9224, Valid R2=0.1964, Valid MAE=44.7898]\n",
      "Epoch 26: 100%|██████████| 44/44 [00:02<00:00, 20.63it/s, Train Loss=2272.0210, Valid Loss=3676.0715, Valid R2=0.2439, Valid MAE=43.0718]\n",
      "Epoch 27: 100%|██████████| 44/44 [00:02<00:00, 22.00it/s, Train Loss=2274.2675, Valid Loss=3859.2888, Valid R2=0.2062, Valid MAE=43.7661]\n",
      "Epoch 28: 100%|██████████| 44/44 [00:02<00:00, 20.36it/s, Train Loss=2026.1938, Valid Loss=4089.1467, Valid R2=0.1590, Valid MAE=45.2972]\n",
      "Epoch 29: 100%|██████████| 44/44 [00:02<00:00, 19.81it/s, Train Loss=2033.1181, Valid Loss=4184.3325, Valid R2=0.1394, Valid MAE=47.1044]\n",
      "Epoch 30: 100%|██████████| 44/44 [00:02<00:00, 19.81it/s, Train Loss=1957.6094, Valid Loss=4066.7969, Valid R2=0.1636, Valid MAE=45.6113]\n",
      "Epoch 31: 100%|██████████| 44/44 [00:02<00:00, 21.04it/s, Train Loss=2000.4427, Valid Loss=3844.8269, Valid R2=0.2092, Valid MAE=43.8412]\n",
      "Epoch 32: 100%|██████████| 44/44 [00:02<00:00, 20.96it/s, Train Loss=1855.9245, Valid Loss=4310.3257, Valid R2=0.1135, Valid MAE=47.0140]\n"
     ]
    },
    {
     "name": "stdout",
     "output_type": "stream",
     "text": [
      "Early Stopped\n",
      "Setting 136 of Parameters Grid is now on progres.\n"
     ]
    },
    {
     "name": "stderr",
     "output_type": "stream",
     "text": [
      "Epoch  0: 100%|██████████| 44/44 [00:02<00:00, 20.76it/s, Train Loss=14909.1471, Valid Loss=11175.2119, Valid R2=-1.2985, Valid MAE=79.5046]\n",
      "Epoch  1: 100%|██████████| 44/44 [00:02<00:00, 20.75it/s, Train Loss=11565.7293, Valid Loss=7198.2041, Valid R2=-0.4805, Valid MAE=56.8838]\n",
      "Epoch  2: 100%|██████████| 44/44 [00:02<00:00, 21.31it/s, Train Loss=7111.4062, Valid Loss=4920.3525, Valid R2=-0.0120, Valid MAE=53.2678]\n",
      "Epoch  3: 100%|██████████| 44/44 [00:02<00:00, 21.64it/s, Train Loss=5827.3388, Valid Loss=4902.6938, Valid R2=-0.0084, Valid MAE=53.0852]\n",
      "Epoch  4: 100%|██████████| 44/44 [00:02<00:00, 20.68it/s, Train Loss=5756.6482, Valid Loss=4917.8975, Valid R2=-0.0115, Valid MAE=54.0567]\n",
      "Epoch  5: 100%|██████████| 44/44 [00:02<00:00, 20.90it/s, Train Loss=5577.6504, Valid Loss=4674.0068, Valid R2=0.0387, Valid MAE=51.6347]\n",
      "Epoch  6: 100%|██████████| 44/44 [00:02<00:00, 21.32it/s, Train Loss=5329.6452, Valid Loss=4508.0664, Valid R2=0.0728, Valid MAE=50.8314]\n",
      "Epoch  7: 100%|██████████| 44/44 [00:02<00:00, 20.64it/s, Train Loss=5127.4004, Valid Loss=4542.9722, Valid R2=0.0656, Valid MAE=51.6077]\n",
      "Epoch  8: 100%|██████████| 44/44 [00:02<00:00, 20.82it/s, Train Loss=4731.8383, Valid Loss=4200.1099, Valid R2=0.1361, Valid MAE=49.0922]\n",
      "Epoch  9: 100%|██████████| 44/44 [00:02<00:00, 20.48it/s, Train Loss=4520.2972, Valid Loss=4128.9951, Valid R2=0.1508, Valid MAE=47.4220]\n",
      "Epoch 10: 100%|██████████| 44/44 [00:02<00:00, 20.30it/s, Train Loss=4183.4147, Valid Loss=4028.2039, Valid R2=0.1715, Valid MAE=48.3379]\n",
      "Epoch 11: 100%|██████████| 44/44 [00:02<00:00, 20.56it/s, Train Loss=4138.1981, Valid Loss=4030.1450, Valid R2=0.1711, Valid MAE=48.8985]\n",
      "Epoch 12: 100%|██████████| 44/44 [00:02<00:00, 20.72it/s, Train Loss=3683.5385, Valid Loss=3739.4158, Valid R2=0.2309, Valid MAE=44.7789]\n",
      "Epoch 13: 100%|██████████| 44/44 [00:02<00:00, 20.29it/s, Train Loss=3631.7823, Valid Loss=4143.1797, Valid R2=0.1478, Valid MAE=50.0909]\n",
      "Epoch 14: 100%|██████████| 44/44 [00:02<00:00, 20.92it/s, Train Loss=3331.1425, Valid Loss=3619.7754, Valid R2=0.2555, Valid MAE=46.3695]\n",
      "Epoch 15: 100%|██████████| 44/44 [00:02<00:00, 20.94it/s, Train Loss=3091.0793, Valid Loss=3556.7549, Valid R2=0.2685, Valid MAE=43.8648]\n",
      "Epoch 16: 100%|██████████| 44/44 [00:02<00:00, 21.24it/s, Train Loss=3038.8704, Valid Loss=3360.6982, Valid R2=0.3088, Valid MAE=42.4994]\n",
      "Epoch 17: 100%|██████████| 44/44 [00:02<00:00, 21.31it/s, Train Loss=2692.1696, Valid Loss=3745.8252, Valid R2=0.2296, Valid MAE=43.0469]\n",
      "Epoch 18: 100%|██████████| 44/44 [00:02<00:00, 20.77it/s, Train Loss=2642.8051, Valid Loss=3273.5618, Valid R2=0.3267, Valid MAE=40.9595]\n",
      "Epoch 19: 100%|██████████| 44/44 [00:02<00:00, 21.04it/s, Train Loss=2377.9437, Valid Loss=3758.0801, Valid R2=0.2271, Valid MAE=45.5692]\n",
      "Epoch 20: 100%|██████████| 44/44 [00:02<00:00, 20.66it/s, Train Loss=2445.9625, Valid Loss=3615.2185, Valid R2=0.2564, Valid MAE=45.4861]\n",
      "Epoch 21: 100%|██████████| 44/44 [00:02<00:00, 20.77it/s, Train Loss=2580.5339, Valid Loss=3334.7117, Valid R2=0.3141, Valid MAE=41.4556]\n",
      "Epoch 22: 100%|██████████| 44/44 [00:02<00:00, 20.81it/s, Train Loss=2291.8850, Valid Loss=3591.7683, Valid R2=0.2613, Valid MAE=45.5669]\n",
      "Epoch 23: 100%|██████████| 44/44 [00:02<00:00, 20.87it/s, Train Loss=2132.9308, Valid Loss=3822.7056, Valid R2=0.2138, Valid MAE=45.8761]\n",
      "Epoch 24: 100%|██████████| 44/44 [00:02<00:00, 20.43it/s, Train Loss=2048.5279, Valid Loss=3370.8530, Valid R2=0.3067, Valid MAE=42.0406]\n"
     ]
    },
    {
     "name": "stdout",
     "output_type": "stream",
     "text": [
      "Early Stopped\n",
      "Setting 137 of Parameters Grid is now on progres.\n"
     ]
    },
    {
     "name": "stderr",
     "output_type": "stream",
     "text": [
      "Epoch  0: 100%|██████████| 44/44 [00:02<00:00, 20.24it/s, Train Loss=14979.7817, Valid Loss=11096.7080, Valid R2=-1.2823, Valid MAE=79.0202]\n",
      "Epoch  1: 100%|██████████| 44/44 [00:02<00:00, 20.78it/s, Train Loss=11187.3931, Valid Loss=7176.3687, Valid R2=-0.4760, Valid MAE=56.7757]\n",
      "Epoch  2: 100%|██████████| 44/44 [00:02<00:00, 20.65it/s, Train Loss=7823.7281, Valid Loss=5283.7651, Valid R2=-0.0867, Valid MAE=49.5024]\n",
      "Epoch  3: 100%|██████████| 44/44 [00:02<00:00, 20.62it/s, Train Loss=6137.1626, Valid Loss=4871.3066, Valid R2=-0.0019, Valid MAE=51.9421]\n",
      "Epoch  4: 100%|██████████| 44/44 [00:02<00:00, 20.57it/s, Train Loss=5799.5340, Valid Loss=4943.2686, Valid R2=-0.0167, Valid MAE=53.7776]\n",
      "Epoch  5: 100%|██████████| 44/44 [00:02<00:00, 21.06it/s, Train Loss=5814.1267, Valid Loss=4948.2466, Valid R2=-0.0177, Valid MAE=53.8750]\n",
      "Epoch  6: 100%|██████████| 44/44 [00:02<00:00, 20.65it/s, Train Loss=5763.8302, Valid Loss=4953.7104, Valid R2=-0.0189, Valid MAE=53.9748]\n",
      "Epoch  7: 100%|██████████| 44/44 [00:02<00:00, 20.74it/s, Train Loss=5787.6492, Valid Loss=4929.1455, Valid R2=-0.0138, Valid MAE=53.5020]\n",
      "Epoch  8: 100%|██████████| 44/44 [00:02<00:00, 21.21it/s, Train Loss=5775.3532, Valid Loss=4955.5161, Valid R2=-0.0192, Valid MAE=53.9909]\n",
      "Epoch  9: 100%|██████████| 44/44 [00:02<00:00, 20.80it/s, Train Loss=5744.9795, Valid Loss=4952.4097, Valid R2=-0.0186, Valid MAE=53.9393]\n"
     ]
    },
    {
     "name": "stdout",
     "output_type": "stream",
     "text": [
      "Early Stopped\n",
      "Setting 138 of Parameters Grid is now on progres.\n"
     ]
    },
    {
     "name": "stderr",
     "output_type": "stream",
     "text": [
      "Epoch  0: 100%|██████████| 44/44 [00:02<00:00, 20.61it/s, Train Loss=15044.5011, Valid Loss=11145.4004, Valid R2=-1.2923, Valid MAE=79.3228]\n",
      "Epoch  1: 100%|██████████| 44/44 [00:02<00:00, 20.16it/s, Train Loss=12139.9394, Valid Loss=8526.5068, Valid R2=-0.7537, Valid MAE=63.6873]\n",
      "Epoch  2: 100%|██████████| 44/44 [00:01<00:00, 22.23it/s, Train Loss=8522.2217, Valid Loss=4898.3008, Valid R2=-0.0075, Valid MAE=50.3454]\n",
      "Epoch  3: 100%|██████████| 44/44 [00:02<00:00, 21.05it/s, Train Loss=5855.6680, Valid Loss=4899.4937, Valid R2=-0.0077, Valid MAE=52.7831]\n",
      "Epoch  4: 100%|██████████| 44/44 [00:02<00:00, 19.83it/s, Train Loss=5781.8310, Valid Loss=4907.1963, Valid R2=-0.0093, Valid MAE=53.0367]\n",
      "Epoch  5: 100%|██████████| 44/44 [00:02<00:00, 20.08it/s, Train Loss=5812.8122, Valid Loss=4924.9819, Valid R2=-0.0130, Valid MAE=53.4240]\n",
      "Epoch  6: 100%|██████████| 44/44 [00:02<00:00, 20.52it/s, Train Loss=5753.3309, Valid Loss=4949.9463, Valid R2=-0.0181, Valid MAE=53.8209]\n",
      "Epoch  7: 100%|██████████| 44/44 [00:02<00:00, 20.53it/s, Train Loss=5779.2360, Valid Loss=4896.3638, Valid R2=-0.0071, Valid MAE=52.9942]\n",
      "Epoch  8: 100%|██████████| 44/44 [00:02<00:00, 20.63it/s, Train Loss=5737.3331, Valid Loss=4904.8877, Valid R2=-0.0088, Valid MAE=53.3302]\n",
      "Epoch  9: 100%|██████████| 44/44 [00:02<00:00, 21.08it/s, Train Loss=5712.4869, Valid Loss=4983.0078, Valid R2=-0.0249, Valid MAE=55.4496]\n",
      "Epoch 10: 100%|██████████| 44/44 [00:02<00:00, 20.71it/s, Train Loss=5554.7600, Valid Loss=4716.3252, Valid R2=0.0300, Valid MAE=52.3589]\n",
      "Epoch 11: 100%|██████████| 44/44 [00:02<00:00, 20.79it/s, Train Loss=5413.8284, Valid Loss=4614.6357, Valid R2=0.0509, Valid MAE=50.5314]\n",
      "Epoch 12: 100%|██████████| 44/44 [00:02<00:00, 20.52it/s, Train Loss=5022.9186, Valid Loss=4598.2603, Valid R2=0.0542, Valid MAE=52.6255]\n",
      "Epoch 13: 100%|██████████| 44/44 [00:02<00:00, 20.34it/s, Train Loss=4973.3726, Valid Loss=4380.3286, Valid R2=0.0991, Valid MAE=49.5589]\n",
      "Epoch 14: 100%|██████████| 44/44 [00:02<00:00, 20.34it/s, Train Loss=4736.7579, Valid Loss=4769.0903, Valid R2=0.0191, Valid MAE=54.5742]\n",
      "Epoch 15: 100%|██████████| 44/44 [00:02<00:00, 20.50it/s, Train Loss=4568.5326, Valid Loss=4234.1421, Valid R2=0.1291, Valid MAE=48.4529]\n",
      "Epoch 16: 100%|██████████| 44/44 [00:02<00:00, 20.52it/s, Train Loss=4339.1957, Valid Loss=4773.3462, Valid R2=0.0182, Valid MAE=53.9928]\n",
      "Epoch 17: 100%|██████████| 44/44 [00:02<00:00, 20.35it/s, Train Loss=4122.1961, Valid Loss=4286.5649, Valid R2=0.1184, Valid MAE=50.2794]\n",
      "Epoch 18: 100%|██████████| 44/44 [00:02<00:00, 20.83it/s, Train Loss=3965.5925, Valid Loss=4140.4136, Valid R2=0.1484, Valid MAE=49.2501]\n",
      "Epoch 19: 100%|██████████| 44/44 [00:02<00:00, 20.80it/s, Train Loss=3703.9140, Valid Loss=3968.1045, Valid R2=0.1839, Valid MAE=46.5583]\n",
      "Epoch 20: 100%|██████████| 44/44 [00:01<00:00, 22.22it/s, Train Loss=3437.6264, Valid Loss=3923.9910, Valid R2=0.1929, Valid MAE=46.3107]\n",
      "Epoch 21: 100%|██████████| 44/44 [00:02<00:00, 20.83it/s, Train Loss=3341.3664, Valid Loss=4128.9805, Valid R2=0.1508, Valid MAE=49.1042]\n",
      "Epoch 22: 100%|██████████| 44/44 [00:02<00:00, 20.52it/s, Train Loss=3169.0044, Valid Loss=3787.8677, Valid R2=0.2209, Valid MAE=46.1297]\n",
      "Epoch 23: 100%|██████████| 44/44 [00:02<00:00, 20.00it/s, Train Loss=3035.4638, Valid Loss=4229.0889, Valid R2=0.1302, Valid MAE=48.5875]\n",
      "Epoch 24: 100%|██████████| 44/44 [00:02<00:00, 19.90it/s, Train Loss=3076.7124, Valid Loss=4191.6899, Valid R2=0.1379, Valid MAE=48.7539]\n",
      "Epoch 25: 100%|██████████| 44/44 [00:02<00:00, 19.86it/s, Train Loss=2694.9395, Valid Loss=4404.3745, Valid R2=0.0941, Valid MAE=49.6568]\n",
      "Epoch 26: 100%|██████████| 44/44 [00:02<00:00, 19.62it/s, Train Loss=2480.7032, Valid Loss=4326.5894, Valid R2=0.1101, Valid MAE=48.2619]\n",
      "Epoch 27: 100%|██████████| 44/44 [00:02<00:00, 19.75it/s, Train Loss=2346.9217, Valid Loss=4513.9761, Valid R2=0.0716, Valid MAE=49.7459]\n",
      "Epoch 28: 100%|██████████| 44/44 [00:02<00:00, 18.14it/s, Train Loss=2173.4539, Valid Loss=4159.7012, Valid R2=0.1444, Valid MAE=48.1249]\n"
     ]
    },
    {
     "name": "stdout",
     "output_type": "stream",
     "text": [
      "Early Stopped\n",
      "Setting 139 of Parameters Grid is now on progres.\n"
     ]
    },
    {
     "name": "stderr",
     "output_type": "stream",
     "text": [
      "Epoch  0: 100%|██████████| 44/44 [00:02<00:00, 18.42it/s, Train Loss=14567.6440, Valid Loss=10074.6572, Valid R2=-1.0721, Valid MAE=72.8009]\n",
      "Epoch  1: 100%|██████████| 44/44 [00:02<00:00, 20.24it/s, Train Loss=9480.4008, Valid Loss=5032.3218, Valid R2=-0.0350, Valid MAE=49.6709]\n",
      "Epoch  2: 100%|██████████| 44/44 [00:02<00:00, 20.78it/s, Train Loss=5861.8275, Valid Loss=4934.9888, Valid R2=-0.0150, Valid MAE=53.6178]\n",
      "Epoch  3: 100%|██████████| 44/44 [00:02<00:00, 21.11it/s, Train Loss=5831.9606, Valid Loss=4950.4302, Valid R2=-0.0182, Valid MAE=53.9749]\n",
      "Epoch  4: 100%|██████████| 44/44 [00:02<00:00, 20.76it/s, Train Loss=5794.1393, Valid Loss=4886.0972, Valid R2=-0.0050, Valid MAE=52.9352]\n",
      "Epoch  5: 100%|██████████| 44/44 [00:02<00:00, 21.27it/s, Train Loss=5820.0516, Valid Loss=4972.2314, Valid R2=-0.0227, Valid MAE=54.4396]\n",
      "Epoch  6: 100%|██████████| 44/44 [00:02<00:00, 21.05it/s, Train Loss=5795.2678, Valid Loss=4914.4570, Valid R2=-0.0108, Valid MAE=53.6753]\n",
      "Epoch  7: 100%|██████████| 44/44 [00:02<00:00, 21.18it/s, Train Loss=5738.9183, Valid Loss=4895.7544, Valid R2=-0.0069, Valid MAE=53.9312]\n",
      "Epoch  8: 100%|██████████| 44/44 [00:02<00:00, 20.90it/s, Train Loss=5668.3983, Valid Loss=4702.1187, Valid R2=0.0329, Valid MAE=50.8223]\n",
      "Epoch  9: 100%|██████████| 44/44 [00:02<00:00, 20.56it/s, Train Loss=5573.6452, Valid Loss=4579.7388, Valid R2=0.0581, Valid MAE=50.7668]\n",
      "Epoch 10: 100%|██████████| 44/44 [00:02<00:00, 20.95it/s, Train Loss=5308.6318, Valid Loss=4328.0928, Valid R2=0.1098, Valid MAE=47.9864]\n",
      "Epoch 11: 100%|██████████| 44/44 [00:02<00:00, 20.84it/s, Train Loss=5042.4574, Valid Loss=4195.6753, Valid R2=0.1370, Valid MAE=48.3773]\n",
      "Epoch 12: 100%|██████████| 44/44 [00:02<00:00, 20.91it/s, Train Loss=4993.5469, Valid Loss=4309.4785, Valid R2=0.1136, Valid MAE=48.6874]\n",
      "Epoch 13: 100%|██████████| 44/44 [00:02<00:00, 20.50it/s, Train Loss=4846.1408, Valid Loss=4439.8560, Valid R2=0.0868, Valid MAE=52.4855]\n",
      "Epoch 14: 100%|██████████| 44/44 [00:02<00:00, 20.83it/s, Train Loss=4442.7261, Valid Loss=4026.7153, Valid R2=0.1718, Valid MAE=47.7814]\n",
      "Epoch 15: 100%|██████████| 44/44 [00:02<00:00, 20.66it/s, Train Loss=4424.5599, Valid Loss=3793.5552, Valid R2=0.2198, Valid MAE=46.2809]\n",
      "Epoch 16: 100%|██████████| 44/44 [00:02<00:00, 21.21it/s, Train Loss=4247.4793, Valid Loss=3869.3733, Valid R2=0.2042, Valid MAE=48.8444]\n",
      "Epoch 17: 100%|██████████| 44/44 [00:02<00:00, 20.07it/s, Train Loss=3975.8442, Valid Loss=3780.7766, Valid R2=0.2224, Valid MAE=46.0833]\n",
      "Epoch 18: 100%|██████████| 44/44 [00:02<00:00, 20.30it/s, Train Loss=3673.5366, Valid Loss=3880.6826, Valid R2=0.2018, Valid MAE=47.2256]\n",
      "Epoch 19: 100%|██████████| 44/44 [00:02<00:00, 20.96it/s, Train Loss=3576.2827, Valid Loss=3500.5691, Valid R2=0.2800, Valid MAE=44.3062]\n",
      "Epoch 20: 100%|██████████| 44/44 [00:02<00:00, 20.81it/s, Train Loss=3345.0659, Valid Loss=3351.8154, Valid R2=0.3106, Valid MAE=43.9023]\n",
      "Epoch 21: 100%|██████████| 44/44 [00:02<00:00, 20.07it/s, Train Loss=3150.6499, Valid Loss=3420.7195, Valid R2=0.2964, Valid MAE=43.6989]\n",
      "Epoch 22: 100%|██████████| 44/44 [00:02<00:00, 20.73it/s, Train Loss=2894.2417, Valid Loss=3480.6907, Valid R2=0.2841, Valid MAE=42.6735]\n",
      "Epoch 23: 100%|██████████| 44/44 [00:02<00:00, 20.92it/s, Train Loss=2969.7940, Valid Loss=3749.4241, Valid R2=0.2288, Valid MAE=47.1787]\n",
      "Epoch 24: 100%|██████████| 44/44 [00:02<00:00, 21.22it/s, Train Loss=2778.2783, Valid Loss=3488.9395, Valid R2=0.2824, Valid MAE=44.2074]\n",
      "Epoch 25: 100%|██████████| 44/44 [00:02<00:00, 20.26it/s, Train Loss=2669.5903, Valid Loss=3837.9207, Valid R2=0.2106, Valid MAE=47.8458]\n",
      "Epoch 26: 100%|██████████| 44/44 [00:02<00:00, 20.16it/s, Train Loss=2435.5395, Valid Loss=4477.0156, Valid R2=0.0792, Valid MAE=51.0593]\n"
     ]
    },
    {
     "name": "stdout",
     "output_type": "stream",
     "text": [
      "Early Stopped\n",
      "Setting 140 of Parameters Grid is now on progres.\n"
     ]
    },
    {
     "name": "stderr",
     "output_type": "stream",
     "text": [
      "Epoch  0: 100%|██████████| 44/44 [00:02<00:00, 20.09it/s, Train Loss=14499.4572, Valid Loss=9914.3994, Valid R2=-1.0392, Valid MAE=71.8273]\n",
      "Epoch  1: 100%|██████████| 44/44 [00:02<00:00, 20.65it/s, Train Loss=9138.0017, Valid Loss=5067.0796, Valid R2=-0.0422, Valid MAE=49.5595]\n",
      "Epoch  2: 100%|██████████| 44/44 [00:02<00:00, 20.08it/s, Train Loss=5867.0420, Valid Loss=4980.9058, Valid R2=-0.0245, Valid MAE=54.5580]\n",
      "Epoch  3: 100%|██████████| 44/44 [00:02<00:00, 20.77it/s, Train Loss=5833.3239, Valid Loss=4975.1787, Valid R2=-0.0233, Valid MAE=54.4907]\n",
      "Epoch  4: 100%|██████████| 44/44 [00:02<00:00, 20.87it/s, Train Loss=5793.8209, Valid Loss=4902.1929, Valid R2=-0.0083, Valid MAE=53.6882]\n",
      "Epoch  5: 100%|██████████| 44/44 [00:02<00:00, 19.69it/s, Train Loss=5640.2456, Valid Loss=4819.5693, Valid R2=0.0087, Valid MAE=52.9170]\n",
      "Epoch  6: 100%|██████████| 44/44 [00:02<00:00, 20.73it/s, Train Loss=5558.2199, Valid Loss=4797.2012, Valid R2=0.0133, Valid MAE=53.7330]\n",
      "Epoch  7: 100%|██████████| 44/44 [00:02<00:00, 19.92it/s, Train Loss=5289.6188, Valid Loss=4610.2021, Valid R2=0.0518, Valid MAE=50.1524]\n",
      "Epoch  8: 100%|██████████| 44/44 [00:02<00:00, 20.82it/s, Train Loss=4965.3000, Valid Loss=4472.5034, Valid R2=0.0801, Valid MAE=49.7907]\n",
      "Epoch  9: 100%|██████████| 44/44 [00:02<00:00, 19.89it/s, Train Loss=4629.9578, Valid Loss=4267.5303, Valid R2=0.1223, Valid MAE=51.1981]\n",
      "Epoch 10: 100%|██████████| 44/44 [00:02<00:00, 20.54it/s, Train Loss=4775.0301, Valid Loss=4200.0815, Valid R2=0.1361, Valid MAE=46.6245]\n",
      "Epoch 11: 100%|██████████| 44/44 [00:02<00:00, 20.78it/s, Train Loss=4615.2338, Valid Loss=4125.7822, Valid R2=0.1514, Valid MAE=47.5224]\n",
      "Epoch 12: 100%|██████████| 44/44 [00:02<00:00, 20.24it/s, Train Loss=4472.1332, Valid Loss=4128.6519, Valid R2=0.1508, Valid MAE=50.0093]\n",
      "Epoch 13: 100%|██████████| 44/44 [00:02<00:00, 20.06it/s, Train Loss=4160.5421, Valid Loss=4312.3467, Valid R2=0.1131, Valid MAE=52.4005]\n",
      "Epoch 14: 100%|██████████| 44/44 [00:02<00:00, 20.09it/s, Train Loss=3901.8575, Valid Loss=4006.9187, Valid R2=0.1759, Valid MAE=49.6849]\n",
      "Epoch 15: 100%|██████████| 44/44 [00:02<00:00, 19.93it/s, Train Loss=3927.1625, Valid Loss=3712.9783, Valid R2=0.2363, Valid MAE=45.8257]\n",
      "Epoch 16: 100%|██████████| 44/44 [00:02<00:00, 20.33it/s, Train Loss=3536.8337, Valid Loss=3708.4534, Valid R2=0.2373, Valid MAE=45.4250]\n",
      "Epoch 17: 100%|██████████| 44/44 [00:02<00:00, 20.09it/s, Train Loss=3438.9530, Valid Loss=3759.7834, Valid R2=0.2267, Valid MAE=47.3384]\n",
      "Epoch 18: 100%|██████████| 44/44 [00:02<00:00, 20.01it/s, Train Loss=3111.5576, Valid Loss=3907.1536, Valid R2=0.1964, Valid MAE=48.8434]\n",
      "Epoch 19: 100%|██████████| 44/44 [00:02<00:00, 20.35it/s, Train Loss=2976.6506, Valid Loss=3527.7209, Valid R2=0.2744, Valid MAE=43.6225]\n",
      "Epoch 20: 100%|██████████| 44/44 [00:02<00:00, 20.54it/s, Train Loss=2731.0551, Valid Loss=3150.1504, Valid R2=0.3521, Valid MAE=41.8448]\n",
      "Epoch 21: 100%|██████████| 44/44 [00:02<00:00, 20.86it/s, Train Loss=2838.1768, Valid Loss=4165.6162, Valid R2=0.1432, Valid MAE=51.2896]\n",
      "Epoch 22: 100%|██████████| 44/44 [00:02<00:00, 20.98it/s, Train Loss=2952.8211, Valid Loss=3600.7598, Valid R2=0.2594, Valid MAE=46.2910]\n",
      "Epoch 23: 100%|██████████| 44/44 [00:02<00:00, 20.99it/s, Train Loss=2679.5389, Valid Loss=3906.7144, Valid R2=0.1965, Valid MAE=49.7741]\n",
      "Epoch 24: 100%|██████████| 44/44 [00:02<00:00, 20.42it/s, Train Loss=2552.0672, Valid Loss=3754.5090, Valid R2=0.2278, Valid MAE=48.0164]\n",
      "Epoch 25: 100%|██████████| 44/44 [00:02<00:00, 20.57it/s, Train Loss=2244.9517, Valid Loss=3085.1138, Valid R2=0.3655, Valid MAE=41.2656]\n",
      "Epoch 26: 100%|██████████| 44/44 [00:02<00:00, 20.67it/s, Train Loss=2158.2289, Valid Loss=3361.6208, Valid R2=0.3086, Valid MAE=44.2975]\n",
      "Epoch 27: 100%|██████████| 44/44 [00:02<00:00, 20.47it/s, Train Loss=2018.3547, Valid Loss=3713.7393, Valid R2=0.2362, Valid MAE=48.2638]\n",
      "Epoch 28: 100%|██████████| 44/44 [00:02<00:00, 20.83it/s, Train Loss=1945.4227, Valid Loss=3392.9231, Valid R2=0.3022, Valid MAE=43.5233]\n",
      "Epoch 29: 100%|██████████| 44/44 [00:02<00:00, 20.72it/s, Train Loss=1815.8801, Valid Loss=3175.9568, Valid R2=0.3468, Valid MAE=42.6961]\n",
      "Epoch 30: 100%|██████████| 44/44 [00:02<00:00, 20.57it/s, Train Loss=1803.0244, Valid Loss=3623.4866, Valid R2=0.2547, Valid MAE=45.6215]\n",
      "Epoch 31: 100%|██████████| 44/44 [00:02<00:00, 20.49it/s, Train Loss=1755.0440, Valid Loss=3299.5022, Valid R2=0.3214, Valid MAE=43.4470]\n"
     ]
    },
    {
     "name": "stdout",
     "output_type": "stream",
     "text": [
      "Early Stopped\n",
      "Setting 141 of Parameters Grid is now on progres.\n"
     ]
    },
    {
     "name": "stderr",
     "output_type": "stream",
     "text": [
      "Epoch  0: 100%|██████████| 44/44 [00:02<00:00, 20.54it/s, Train Loss=14708.9112, Valid Loss=10640.7256, Valid R2=-1.1885, Valid MAE=76.2264]\n",
      "Epoch  1: 100%|██████████| 44/44 [00:02<00:00, 20.16it/s, Train Loss=10405.7038, Valid Loss=5475.8169, Valid R2=-0.1262, Valid MAE=49.8289]\n",
      "Epoch  2: 100%|██████████| 44/44 [00:02<00:00, 20.87it/s, Train Loss=5986.0697, Valid Loss=4971.4263, Valid R2=-0.0225, Valid MAE=54.2577]\n",
      "Epoch  3: 100%|██████████| 44/44 [00:02<00:00, 20.56it/s, Train Loss=5835.9045, Valid Loss=4910.0366, Valid R2=-0.0099, Valid MAE=53.0638]\n",
      "Epoch  4: 100%|██████████| 44/44 [00:02<00:00, 20.32it/s, Train Loss=5802.8201, Valid Loss=4981.1699, Valid R2=-0.0245, Valid MAE=54.4544]\n",
      "Epoch  5: 100%|██████████| 44/44 [00:02<00:00, 20.15it/s, Train Loss=5816.8277, Valid Loss=4916.4766, Valid R2=-0.0112, Valid MAE=53.4542]\n",
      "Epoch  6: 100%|██████████| 44/44 [00:02<00:00, 20.74it/s, Train Loss=5743.3149, Valid Loss=4895.9766, Valid R2=-0.0070, Valid MAE=53.8632]\n",
      "Epoch  7: 100%|██████████| 44/44 [00:02<00:00, 20.59it/s, Train Loss=5709.6173, Valid Loss=4761.4131, Valid R2=0.0207, Valid MAE=51.1595]\n",
      "Epoch  8: 100%|██████████| 44/44 [00:02<00:00, 21.17it/s, Train Loss=5565.6353, Valid Loss=4988.2354, Valid R2=-0.0260, Valid MAE=56.1811]\n",
      "Epoch  9: 100%|██████████| 44/44 [00:02<00:00, 20.86it/s, Train Loss=5269.4559, Valid Loss=4624.9580, Valid R2=0.0488, Valid MAE=51.7195]\n",
      "Epoch 10: 100%|██████████| 44/44 [00:02<00:00, 20.27it/s, Train Loss=5005.2853, Valid Loss=4312.6069, Valid R2=0.1130, Valid MAE=49.3717]\n",
      "Epoch 11: 100%|██████████| 44/44 [00:02<00:00, 20.96it/s, Train Loss=4705.5597, Valid Loss=4056.8005, Valid R2=0.1656, Valid MAE=46.8025]\n",
      "Epoch 12: 100%|██████████| 44/44 [00:02<00:00, 20.89it/s, Train Loss=4510.0863, Valid Loss=4369.3574, Valid R2=0.1013, Valid MAE=50.6074]\n",
      "Epoch 13: 100%|██████████| 44/44 [00:02<00:00, 20.42it/s, Train Loss=4500.2497, Valid Loss=3979.1899, Valid R2=0.1816, Valid MAE=46.7861]\n",
      "Epoch 14: 100%|██████████| 44/44 [00:02<00:00, 20.84it/s, Train Loss=4215.3059, Valid Loss=3902.9539, Valid R2=0.1973, Valid MAE=47.7428]\n",
      "Epoch 15: 100%|██████████| 44/44 [00:02<00:00, 20.59it/s, Train Loss=3994.0434, Valid Loss=3962.2083, Valid R2=0.1851, Valid MAE=49.5967]\n",
      "Epoch 16: 100%|██████████| 44/44 [00:02<00:00, 20.24it/s, Train Loss=3989.9481, Valid Loss=3839.3831, Valid R2=0.2103, Valid MAE=46.3952]\n",
      "Epoch 17: 100%|██████████| 44/44 [00:02<00:00, 20.55it/s, Train Loss=3753.3889, Valid Loss=4322.7646, Valid R2=0.1109, Valid MAE=46.5180]\n",
      "Epoch 18: 100%|██████████| 44/44 [00:02<00:00, 20.51it/s, Train Loss=4331.6447, Valid Loss=3722.8186, Valid R2=0.2343, Valid MAE=45.9134]\n",
      "Epoch 19: 100%|██████████| 44/44 [00:02<00:00, 19.61it/s, Train Loss=3595.9263, Valid Loss=5005.9678, Valid R2=-0.0296, Valid MAE=54.8334]\n",
      "Epoch 20: 100%|██████████| 44/44 [00:02<00:00, 20.06it/s, Train Loss=3362.8492, Valid Loss=3959.6365, Valid R2=0.1856, Valid MAE=46.6890]\n",
      "Epoch 21: 100%|██████████| 44/44 [00:02<00:00, 20.22it/s, Train Loss=3487.6386, Valid Loss=3747.2080, Valid R2=0.2293, Valid MAE=44.7840]\n",
      "Epoch 22: 100%|██████████| 44/44 [00:02<00:00, 21.18it/s, Train Loss=3032.0414, Valid Loss=3755.7344, Valid R2=0.2275, Valid MAE=45.3760]\n",
      "Epoch 23: 100%|██████████| 44/44 [00:02<00:00, 21.43it/s, Train Loss=2911.0437, Valid Loss=3964.5632, Valid R2=0.1846, Valid MAE=48.2050]\n",
      "Epoch 24: 100%|██████████| 44/44 [00:02<00:00, 20.62it/s, Train Loss=2852.5180, Valid Loss=3768.2019, Valid R2=0.2250, Valid MAE=45.5470]\n"
     ]
    },
    {
     "name": "stdout",
     "output_type": "stream",
     "text": [
      "Early Stopped\n",
      "Setting 142 of Parameters Grid is now on progres.\n"
     ]
    },
    {
     "name": "stderr",
     "output_type": "stream",
     "text": [
      "Epoch  0: 100%|██████████| 44/44 [00:02<00:00, 20.88it/s, Train Loss=14480.8074, Valid Loss=10064.4355, Valid R2=-1.0700, Valid MAE=72.7397]\n",
      "Epoch  1: 100%|██████████| 44/44 [00:02<00:00, 20.88it/s, Train Loss=9410.6880, Valid Loss=5060.8789, Valid R2=-0.0409, Valid MAE=49.7017]\n",
      "Epoch  2: 100%|██████████| 44/44 [00:02<00:00, 20.40it/s, Train Loss=5877.0359, Valid Loss=4924.6362, Valid R2=-0.0129, Valid MAE=53.3730]\n",
      "Epoch  3: 100%|██████████| 44/44 [00:02<00:00, 19.51it/s, Train Loss=5807.2277, Valid Loss=4880.1030, Valid R2=-0.0037, Valid MAE=52.2494]\n",
      "Epoch  4: 100%|██████████| 44/44 [00:02<00:00, 20.81it/s, Train Loss=5845.8116, Valid Loss=4981.4663, Valid R2=-0.0246, Valid MAE=54.4635]\n",
      "Epoch  5: 100%|██████████| 44/44 [00:02<00:00, 20.28it/s, Train Loss=5747.3682, Valid Loss=4974.4141, Valid R2=-0.0231, Valid MAE=54.4201]\n",
      "Epoch  6: 100%|██████████| 44/44 [00:02<00:00, 20.69it/s, Train Loss=5797.6951, Valid Loss=4906.1743, Valid R2=-0.0091, Valid MAE=53.2066]\n",
      "Epoch  7: 100%|██████████| 44/44 [00:02<00:00, 20.79it/s, Train Loss=5778.4638, Valid Loss=4979.6914, Valid R2=-0.0242, Valid MAE=54.6376]\n",
      "Epoch  8: 100%|██████████| 44/44 [00:02<00:00, 20.44it/s, Train Loss=5740.4167, Valid Loss=4876.8838, Valid R2=-0.0031, Valid MAE=52.9944]\n",
      "Epoch  9: 100%|██████████| 44/44 [00:02<00:00, 20.49it/s, Train Loss=5703.3089, Valid Loss=4886.9780, Valid R2=-0.0051, Valid MAE=53.8428]\n",
      "Epoch 10: 100%|██████████| 44/44 [00:02<00:00, 20.96it/s, Train Loss=5602.0009, Valid Loss=4638.8662, Valid R2=0.0459, Valid MAE=50.8906]\n",
      "Epoch 11: 100%|██████████| 44/44 [00:02<00:00, 20.56it/s, Train Loss=5306.0313, Valid Loss=4634.8516, Valid R2=0.0467, Valid MAE=51.0392]\n",
      "Epoch 12: 100%|██████████| 44/44 [00:02<00:00, 20.22it/s, Train Loss=5290.6231, Valid Loss=4439.5854, Valid R2=0.0869, Valid MAE=48.5374]\n",
      "Epoch 13: 100%|██████████| 44/44 [00:02<00:00, 21.01it/s, Train Loss=5283.5843, Valid Loss=4265.2637, Valid R2=0.1227, Valid MAE=47.1373]\n",
      "Epoch 14: 100%|██████████| 44/44 [00:02<00:00, 20.54it/s, Train Loss=4809.0463, Valid Loss=4150.8647, Valid R2=0.1463, Valid MAE=48.9361]\n",
      "Epoch 15: 100%|██████████| 44/44 [00:02<00:00, 19.72it/s, Train Loss=4522.4485, Valid Loss=3937.8120, Valid R2=0.1901, Valid MAE=46.6546]\n",
      "Epoch 16: 100%|██████████| 44/44 [00:01<00:00, 22.11it/s, Train Loss=4272.5360, Valid Loss=3706.7920, Valid R2=0.2376, Valid MAE=46.1577]\n",
      "Epoch 17: 100%|██████████| 44/44 [00:02<00:00, 21.65it/s, Train Loss=3978.6586, Valid Loss=3646.1482, Valid R2=0.2501, Valid MAE=45.5935]\n",
      "Epoch 18: 100%|██████████| 44/44 [00:02<00:00, 20.82it/s, Train Loss=3762.7500, Valid Loss=3535.5596, Valid R2=0.2728, Valid MAE=44.0031]\n",
      "Epoch 19: 100%|██████████| 44/44 [00:02<00:00, 20.87it/s, Train Loss=3640.1569, Valid Loss=3927.1267, Valid R2=0.1923, Valid MAE=48.2545]\n",
      "Epoch 20: 100%|██████████| 44/44 [00:02<00:00, 20.77it/s, Train Loss=3278.8987, Valid Loss=3467.6719, Valid R2=0.2868, Valid MAE=44.5340]\n",
      "Epoch 21: 100%|██████████| 44/44 [00:02<00:00, 21.05it/s, Train Loss=3183.1840, Valid Loss=3314.7957, Valid R2=0.3182, Valid MAE=42.6528]\n",
      "Epoch 22: 100%|██████████| 44/44 [00:02<00:00, 20.14it/s, Train Loss=3129.6374, Valid Loss=3546.1973, Valid R2=0.2706, Valid MAE=45.0882]\n",
      "Epoch 23: 100%|██████████| 44/44 [00:02<00:00, 19.99it/s, Train Loss=2929.3555, Valid Loss=3628.5364, Valid R2=0.2537, Valid MAE=46.6373]\n",
      "Epoch 24: 100%|██████████| 44/44 [00:02<00:00, 19.95it/s, Train Loss=2795.5233, Valid Loss=3294.2903, Valid R2=0.3224, Valid MAE=43.6629]\n",
      "Epoch 25: 100%|██████████| 44/44 [00:02<00:00, 20.18it/s, Train Loss=2434.7823, Valid Loss=3473.3599, Valid R2=0.2856, Valid MAE=44.8058]\n",
      "Epoch 26: 100%|██████████| 44/44 [00:02<00:00, 21.22it/s, Train Loss=2400.9716, Valid Loss=3294.5562, Valid R2=0.3224, Valid MAE=42.7901]\n",
      "Epoch 27: 100%|██████████| 44/44 [00:01<00:00, 22.31it/s, Train Loss=2290.3298, Valid Loss=3445.4629, Valid R2=0.2913, Valid MAE=43.6988]\n",
      "Epoch 28: 100%|██████████| 44/44 [00:02<00:00, 20.94it/s, Train Loss=2171.0929, Valid Loss=3865.0115, Valid R2=0.2051, Valid MAE=46.2950]\n",
      "Epoch 29: 100%|██████████| 44/44 [00:02<00:00, 20.87it/s, Train Loss=2027.8783, Valid Loss=4145.3179, Valid R2=0.1474, Valid MAE=48.1458]\n",
      "Epoch 30: 100%|██████████| 44/44 [00:02<00:00, 20.73it/s, Train Loss=2035.4706, Valid Loss=3932.9734, Valid R2=0.1911, Valid MAE=47.7152]\n"
     ]
    },
    {
     "name": "stdout",
     "output_type": "stream",
     "text": [
      "Early Stopped\n",
      "Setting 143 of Parameters Grid is now on progres.\n"
     ]
    },
    {
     "name": "stderr",
     "output_type": "stream",
     "text": [
      "Epoch  0: 100%|██████████| 44/44 [00:02<00:00, 20.36it/s, Train Loss=14681.0176, Valid Loss=10113.3281, Valid R2=-1.0801, Valid MAE=73.0253]\n",
      "Epoch  1: 100%|██████████| 44/44 [00:02<00:00, 20.68it/s, Train Loss=9158.1571, Valid Loss=4924.2798, Valid R2=-0.0128, Valid MAE=50.1488]\n",
      "Epoch  2: 100%|██████████| 44/44 [00:02<00:00, 20.81it/s, Train Loss=5831.1949, Valid Loss=4946.2666, Valid R2=-0.0173, Valid MAE=53.7745]\n",
      "Epoch  3: 100%|██████████| 44/44 [00:02<00:00, 21.27it/s, Train Loss=5840.2895, Valid Loss=5015.6377, Valid R2=-0.0316, Valid MAE=54.9480]\n",
      "Epoch  4: 100%|██████████| 44/44 [00:02<00:00, 20.89it/s, Train Loss=5738.3867, Valid Loss=4862.0820, Valid R2=-0.0000, Valid MAE=52.0350]\n",
      "Epoch  5: 100%|██████████| 44/44 [00:02<00:00, 20.52it/s, Train Loss=5823.8760, Valid Loss=4938.2422, Valid R2=-0.0157, Valid MAE=53.7012]\n",
      "Epoch  6: 100%|██████████| 44/44 [00:02<00:00, 20.90it/s, Train Loss=5825.1294, Valid Loss=4922.3237, Valid R2=-0.0124, Valid MAE=53.5014]\n",
      "Epoch  7: 100%|██████████| 44/44 [00:02<00:00, 21.12it/s, Train Loss=5790.8171, Valid Loss=4903.1626, Valid R2=-0.0085, Valid MAE=53.2966]\n",
      "Epoch  8: 100%|██████████| 44/44 [00:02<00:00, 21.28it/s, Train Loss=5767.7371, Valid Loss=4995.4585, Valid R2=-0.0274, Valid MAE=55.0004]\n",
      "Epoch  9: 100%|██████████| 44/44 [00:02<00:00, 20.42it/s, Train Loss=5785.7502, Valid Loss=4871.3535, Valid R2=-0.0019, Valid MAE=52.9788]\n",
      "Epoch 10: 100%|██████████| 44/44 [00:02<00:00, 20.24it/s, Train Loss=5755.4471, Valid Loss=4918.6631, Valid R2=-0.0117, Valid MAE=54.2063]"
     ]
    },
    {
     "name": "stdout",
     "output_type": "stream",
     "text": [
      "Early Stopped\n",
      "Best Parameter Setting is:\n",
      "{'m': 24, 'skip_hidden_size': 12, 'T_modified': 40, 'skip': 8}\n"
     ]
    },
    {
     "name": "stderr",
     "output_type": "stream",
     "text": [
      "\n"
     ]
    }
   ],
   "source": [
    "model_name = 'model2'\n",
    "\n",
    "basic_params = {\n",
    "    'T': 60,\n",
    "    'n': 7\n",
    "}\n",
    "\n",
    "param_grid = {\n",
    "    'm': [12, 16, 24, 32],\n",
    "    'skip_hidden_size': [12, 16, 24, 32],\n",
    "    'T_modified': [20, 30, 40],\n",
    "    'skip': [8, 10, 12]\n",
    "}\n",
    "\n",
    "\n",
    "model_trainer = GridSearch(criterion, eval_metrics, device,\n",
    "                           temp_save_path=f'checkpoints/{model_name}_temp.pt')\n",
    "model2_best = model_trainer.train_by_grid(Model2, basic_params, param_grid, Adam, train_loader,\n",
    "                                          test_loader, lr, patience=5, epochs=50, save_filename=f'checkpoints/{model_name}_best.pt')\n"
   ]
  },
  {
   "cell_type": "code",
   "execution_count": 4,
   "metadata": {},
   "outputs": [
    {
     "name": "stdout",
     "output_type": "stream",
     "text": [
      "Total  48 cases are going to be searched.\n",
      "Setting   0 of Parameters Grid is now on progres.\n"
     ]
    },
    {
     "name": "stderr",
     "output_type": "stream",
     "text": [
      "Epoch  0: 100%|██████████| 44/44 [00:02<00:00, 20.91it/s, Train Loss=15321.8956, Valid Loss=12352.0996, Valid R2=-1.5405, Valid MAE=86.5452]\n",
      "Epoch  1: 100%|██████████| 44/44 [00:02<00:00, 20.27it/s, Train Loss=14268.2523, Valid Loss=10847.3809, Valid R2=-1.2311, Valid MAE=77.4944]\n",
      "Epoch  2: 100%|██████████| 44/44 [00:02<00:00, 20.86it/s, Train Loss=12431.4904, Valid Loss=9298.6025, Valid R2=-0.9125, Valid MAE=68.0947]\n",
      "Epoch  3: 100%|██████████| 44/44 [00:02<00:00, 20.85it/s, Train Loss=10677.3665, Valid Loss=7626.8921, Valid R2=-0.5687, Valid MAE=59.0057]\n",
      "Epoch  4: 100%|██████████| 44/44 [00:02<00:00, 20.61it/s, Train Loss=8771.8299, Valid Loss=6324.3086, Valid R2=-0.3008, Valid MAE=52.8453]\n",
      "Epoch  5: 100%|██████████| 44/44 [00:02<00:00, 20.66it/s, Train Loss=7419.7287, Valid Loss=5385.5391, Valid R2=-0.1077, Valid MAE=49.6221]\n",
      "Epoch  6: 100%|██████████| 44/44 [00:02<00:00, 20.95it/s, Train Loss=6675.9535, Valid Loss=4984.9141, Valid R2=-0.0253, Valid MAE=49.7081]\n",
      "Epoch  7: 100%|██████████| 44/44 [00:02<00:00, 20.58it/s, Train Loss=6222.2985, Valid Loss=4865.7808, Valid R2=-0.0008, Valid MAE=50.8811]\n",
      "Epoch  8: 100%|██████████| 44/44 [00:02<00:00, 20.23it/s, Train Loss=5988.1688, Valid Loss=4866.1143, Valid R2=-0.0008, Valid MAE=51.7351]\n",
      "Epoch  9: 100%|██████████| 44/44 [00:02<00:00, 20.37it/s, Train Loss=5986.2116, Valid Loss=4885.0103, Valid R2=-0.0047, Valid MAE=52.4711]\n",
      "Epoch 10: 100%|██████████| 44/44 [00:02<00:00, 21.13it/s, Train Loss=5929.8048, Valid Loss=4889.3506, Valid R2=-0.0056, Valid MAE=52.6940]\n",
      "Epoch 11: 100%|██████████| 44/44 [00:02<00:00, 20.96it/s, Train Loss=5852.9190, Valid Loss=4885.4917, Valid R2=-0.0048, Valid MAE=52.9003]\n",
      "Epoch 12: 100%|██████████| 44/44 [00:02<00:00, 21.12it/s, Train Loss=5811.8212, Valid Loss=4854.7524, Valid R2=0.0015, Valid MAE=51.9281]\n",
      "Epoch 13: 100%|██████████| 44/44 [00:02<00:00, 20.86it/s, Train Loss=5757.1190, Valid Loss=4728.4009, Valid R2=0.0275, Valid MAE=52.3484]\n",
      "Epoch 14: 100%|██████████| 44/44 [00:02<00:00, 20.90it/s, Train Loss=5513.6909, Valid Loss=4513.7988, Valid R2=0.0716, Valid MAE=49.6381]\n",
      "Epoch 15: 100%|██████████| 44/44 [00:02<00:00, 21.08it/s, Train Loss=5242.0877, Valid Loss=4544.7109, Valid R2=0.0653, Valid MAE=50.6748]\n",
      "Epoch 16: 100%|██████████| 44/44 [00:02<00:00, 20.74it/s, Train Loss=5164.4105, Valid Loss=4735.5410, Valid R2=0.0260, Valid MAE=53.3604]\n",
      "Epoch 17: 100%|██████████| 44/44 [00:02<00:00, 21.17it/s, Train Loss=4910.7403, Valid Loss=4543.5605, Valid R2=0.0655, Valid MAE=52.3058]\n",
      "Epoch 18: 100%|██████████| 44/44 [00:02<00:00, 21.08it/s, Train Loss=4707.7618, Valid Loss=4341.6621, Valid R2=0.1070, Valid MAE=48.8103]\n",
      "Epoch 19: 100%|██████████| 44/44 [00:02<00:00, 21.18it/s, Train Loss=4656.3226, Valid Loss=4427.8198, Valid R2=0.0893, Valid MAE=50.4284]\n",
      "Epoch 20: 100%|██████████| 44/44 [00:02<00:00, 21.35it/s, Train Loss=4472.3280, Valid Loss=4404.9419, Valid R2=0.0940, Valid MAE=51.1596]\n",
      "Epoch 21: 100%|██████████| 44/44 [00:02<00:00, 21.07it/s, Train Loss=4257.5880, Valid Loss=4385.2886, Valid R2=0.0980, Valid MAE=50.9979]\n",
      "Epoch 22: 100%|██████████| 44/44 [00:02<00:00, 20.56it/s, Train Loss=4051.7444, Valid Loss=4113.9434, Valid R2=0.1539, Valid MAE=49.1115]\n",
      "Epoch 23: 100%|██████████| 44/44 [00:02<00:00, 20.91it/s, Train Loss=3942.1982, Valid Loss=4191.8838, Valid R2=0.1378, Valid MAE=49.0579]\n",
      "Epoch 24: 100%|██████████| 44/44 [00:02<00:00, 19.72it/s, Train Loss=3863.8067, Valid Loss=4296.8208, Valid R2=0.1162, Valid MAE=50.1533]\n",
      "Epoch 25: 100%|██████████| 44/44 [00:02<00:00, 20.39it/s, Train Loss=3649.5962, Valid Loss=4341.3213, Valid R2=0.1071, Valid MAE=48.4897]\n",
      "Epoch 26: 100%|██████████| 44/44 [00:02<00:00, 20.87it/s, Train Loss=3658.8531, Valid Loss=4342.7568, Valid R2=0.1068, Valid MAE=50.6012]\n",
      "Epoch 27: 100%|██████████| 44/44 [00:02<00:00, 20.56it/s, Train Loss=3550.8872, Valid Loss=4385.4004, Valid R2=0.0980, Valid MAE=51.3404]\n",
      "Epoch 28: 100%|██████████| 44/44 [00:02<00:00, 20.74it/s, Train Loss=3575.7606, Valid Loss=4600.8711, Valid R2=0.0537, Valid MAE=53.6875]\n"
     ]
    },
    {
     "name": "stdout",
     "output_type": "stream",
     "text": [
      "Early Stopped\n",
      "Setting   1 of Parameters Grid is now on progres.\n"
     ]
    },
    {
     "name": "stderr",
     "output_type": "stream",
     "text": [
      "Epoch  0: 100%|██████████| 44/44 [00:02<00:00, 20.69it/s, Train Loss=15089.2308, Valid Loss=11941.5527, Valid R2=-1.4561, Valid MAE=84.1427]\n",
      "Epoch  1: 100%|██████████| 44/44 [00:02<00:00, 20.74it/s, Train Loss=13677.5544, Valid Loss=10145.1377, Valid R2=-1.0866, Valid MAE=73.2429]\n",
      "Epoch  2: 100%|██████████| 44/44 [00:02<00:00, 20.82it/s, Train Loss=11345.5390, Valid Loss=8020.3145, Valid R2=-0.6496, Valid MAE=60.9794]\n",
      "Epoch  3: 100%|██████████| 44/44 [00:02<00:00, 21.13it/s, Train Loss=9016.3100, Valid Loss=6294.5137, Valid R2=-0.2946, Valid MAE=52.7164]\n",
      "Epoch  4: 100%|██████████| 44/44 [00:02<00:00, 20.96it/s, Train Loss=7325.8731, Valid Loss=5316.1421, Valid R2=-0.0934, Valid MAE=49.5158]\n",
      "Epoch  5: 100%|██████████| 44/44 [00:02<00:00, 20.96it/s, Train Loss=6437.7881, Valid Loss=4923.2632, Valid R2=-0.0126, Valid MAE=50.0155]\n",
      "Epoch  6: 100%|██████████| 44/44 [00:02<00:00, 20.85it/s, Train Loss=6100.1986, Valid Loss=4861.7837, Valid R2=0.0000, Valid MAE=51.2556]\n",
      "Epoch  7: 100%|██████████| 44/44 [00:02<00:00, 20.09it/s, Train Loss=6010.2927, Valid Loss=4876.1670, Valid R2=-0.0029, Valid MAE=52.1609]\n",
      "Epoch  8: 100%|██████████| 44/44 [00:02<00:00, 20.07it/s, Train Loss=5855.9982, Valid Loss=4900.5811, Valid R2=-0.0079, Valid MAE=52.8599]\n",
      "Epoch  9: 100%|██████████| 44/44 [00:02<00:00, 20.00it/s, Train Loss=5926.6083, Valid Loss=4909.1597, Valid R2=-0.0097, Valid MAE=53.0653]\n",
      "Epoch 10: 100%|██████████| 44/44 [00:02<00:00, 20.32it/s, Train Loss=5980.9541, Valid Loss=4914.7588, Valid R2=-0.0109, Valid MAE=53.1972]\n",
      "Epoch 11: 100%|██████████| 44/44 [00:02<00:00, 20.71it/s, Train Loss=5912.3081, Valid Loss=4913.4839, Valid R2=-0.0106, Valid MAE=53.1782]\n",
      "Epoch 12: 100%|██████████| 44/44 [00:02<00:00, 21.27it/s, Train Loss=5946.3612, Valid Loss=4927.4414, Valid R2=-0.0135, Valid MAE=53.4846]\n"
     ]
    },
    {
     "name": "stdout",
     "output_type": "stream",
     "text": [
      "Early Stopped\n",
      "Setting   2 of Parameters Grid is now on progres.\n"
     ]
    },
    {
     "name": "stderr",
     "output_type": "stream",
     "text": [
      "Epoch  0: 100%|██████████| 44/44 [00:02<00:00, 21.25it/s, Train Loss=15077.1479, Valid Loss=11731.4551, Valid R2=-1.4129, Valid MAE=82.8874]\n",
      "Epoch  1: 100%|██████████| 44/44 [00:02<00:00, 21.04it/s, Train Loss=13046.6673, Valid Loss=9468.7119, Valid R2=-0.9475, Valid MAE=69.1442]\n",
      "Epoch  2: 100%|██████████| 44/44 [00:02<00:00, 21.09it/s, Train Loss=10522.4287, Valid Loss=7373.1104, Valid R2=-0.5165, Valid MAE=57.7469]\n",
      "Epoch  3: 100%|██████████| 44/44 [00:02<00:00, 20.71it/s, Train Loss=8335.8786, Valid Loss=5858.9062, Valid R2=-0.2050, Valid MAE=51.0175]\n",
      "Epoch  4: 100%|██████████| 44/44 [00:02<00:00, 20.88it/s, Train Loss=6893.9855, Valid Loss=5090.6162, Valid R2=-0.0470, Valid MAE=49.5645]\n",
      "Epoch  5: 100%|██████████| 44/44 [00:02<00:00, 21.37it/s, Train Loss=6156.6509, Valid Loss=4875.9141, Valid R2=-0.0029, Valid MAE=50.6140]\n",
      "Epoch  6: 100%|██████████| 44/44 [00:01<00:00, 22.01it/s, Train Loss=5934.3619, Valid Loss=4870.0781, Valid R2=-0.0017, Valid MAE=51.9323]\n",
      "Epoch  7: 100%|██████████| 44/44 [00:01<00:00, 22.14it/s, Train Loss=5907.3652, Valid Loss=4895.9639, Valid R2=-0.0070, Valid MAE=52.7394]\n",
      "Epoch  8: 100%|██████████| 44/44 [00:02<00:00, 21.01it/s, Train Loss=6019.6938, Valid Loss=4901.6284, Valid R2=-0.0082, Valid MAE=52.8843]\n",
      "Epoch  9: 100%|██████████| 44/44 [00:02<00:00, 21.26it/s, Train Loss=5917.6658, Valid Loss=4909.8110, Valid R2=-0.0098, Valid MAE=53.0972]\n",
      "Epoch 10: 100%|██████████| 44/44 [00:02<00:00, 20.78it/s, Train Loss=5830.7110, Valid Loss=4927.1104, Valid R2=-0.0134, Valid MAE=53.4713]\n",
      "Epoch 11: 100%|██████████| 44/44 [00:02<00:00, 20.75it/s, Train Loss=5885.9554, Valid Loss=4919.8452, Valid R2=-0.0119, Valid MAE=53.3136]\n",
      "Epoch 12: 100%|██████████| 44/44 [00:02<00:00, 20.47it/s, Train Loss=5872.0202, Valid Loss=4886.1348, Valid R2=-0.0050, Valid MAE=51.7750]\n"
     ]
    },
    {
     "name": "stdout",
     "output_type": "stream",
     "text": [
      "Early Stopped\n",
      "Setting   3 of Parameters Grid is now on progres.\n"
     ]
    },
    {
     "name": "stderr",
     "output_type": "stream",
     "text": [
      "Epoch  0: 100%|██████████| 44/44 [00:02<00:00, 20.59it/s, Train Loss=15121.9735, Valid Loss=11960.5244, Valid R2=-1.4600, Valid MAE=84.2531]\n",
      "Epoch  1: 100%|██████████| 44/44 [00:02<00:00, 20.70it/s, Train Loss=13725.2390, Valid Loss=10415.5801, Valid R2=-1.1422, Valid MAE=74.8483]\n",
      "Epoch  2: 100%|██████████| 44/44 [00:02<00:00, 20.74it/s, Train Loss=11904.4179, Valid Loss=8764.4854, Valid R2=-0.8026, Valid MAE=64.9799]\n",
      "Epoch  3: 100%|██████████| 44/44 [00:02<00:00, 21.10it/s, Train Loss=10067.7001, Valid Loss=7204.6602, Valid R2=-0.4818, Valid MAE=56.9171]\n",
      "Epoch  4: 100%|██████████| 44/44 [00:02<00:00, 20.97it/s, Train Loss=8421.4072, Valid Loss=5947.6987, Valid R2=-0.2233, Valid MAE=51.3612]\n",
      "Epoch  5: 100%|██████████| 44/44 [00:02<00:00, 21.27it/s, Train Loss=6896.5945, Valid Loss=5046.3936, Valid R2=-0.0379, Valid MAE=49.6125]\n",
      "Epoch  6: 100%|██████████| 44/44 [00:02<00:00, 20.97it/s, Train Loss=6226.8264, Valid Loss=4866.6831, Valid R2=-0.0010, Valid MAE=50.8399]\n",
      "Epoch  7: 100%|██████████| 44/44 [00:02<00:00, 21.22it/s, Train Loss=6003.0273, Valid Loss=4868.9336, Valid R2=-0.0014, Valid MAE=51.8811]\n",
      "Epoch  8: 100%|██████████| 44/44 [00:02<00:00, 21.25it/s, Train Loss=5984.6933, Valid Loss=4894.2344, Valid R2=-0.0066, Valid MAE=52.7060]\n",
      "Epoch  9: 100%|██████████| 44/44 [00:01<00:00, 22.48it/s, Train Loss=5908.3966, Valid Loss=4916.2036, Valid R2=-0.0111, Valid MAE=53.2310]\n",
      "Epoch 10: 100%|██████████| 44/44 [00:02<00:00, 21.16it/s, Train Loss=5847.0699, Valid Loss=4924.8154, Valid R2=-0.0129, Valid MAE=53.4224]\n",
      "Epoch 11: 100%|██████████| 44/44 [00:02<00:00, 21.17it/s, Train Loss=5936.4680, Valid Loss=4911.1274, Valid R2=-0.0101, Valid MAE=53.1152]\n",
      "Epoch 12: 100%|██████████| 44/44 [00:02<00:00, 21.09it/s, Train Loss=5943.1731, Valid Loss=4921.4858, Valid R2=-0.0122, Valid MAE=53.3474]\n"
     ]
    },
    {
     "name": "stdout",
     "output_type": "stream",
     "text": [
      "Early Stopped\n",
      "Setting   4 of Parameters Grid is now on progres.\n"
     ]
    },
    {
     "name": "stderr",
     "output_type": "stream",
     "text": [
      "Epoch  0: 100%|██████████| 44/44 [00:02<00:00, 21.32it/s, Train Loss=15225.9810, Valid Loss=12031.8418, Valid R2=-1.4747, Valid MAE=84.6754]\n",
      "Epoch  1: 100%|██████████| 44/44 [00:02<00:00, 21.23it/s, Train Loss=13536.7531, Valid Loss=9934.5518, Valid R2=-1.0433, Valid MAE=71.9469]\n",
      "Epoch  2: 100%|██████████| 44/44 [00:02<00:00, 21.26it/s, Train Loss=11350.1513, Valid Loss=8311.0547, Valid R2=-0.7094, Valid MAE=62.5019]\n",
      "Epoch  3: 100%|██████████| 44/44 [00:02<00:00, 21.17it/s, Train Loss=9672.8966, Valid Loss=6897.9263, Valid R2=-0.4187, Valid MAE=55.4157]\n",
      "Epoch  4: 100%|██████████| 44/44 [00:02<00:00, 20.94it/s, Train Loss=7781.4570, Valid Loss=5318.3960, Valid R2=-0.0939, Valid MAE=49.5618]\n",
      "Epoch  5: 100%|██████████| 44/44 [00:02<00:00, 21.05it/s, Train Loss=6266.6603, Valid Loss=4867.5752, Valid R2=-0.0011, Valid MAE=51.4938]\n",
      "Epoch  6: 100%|██████████| 44/44 [00:02<00:00, 20.87it/s, Train Loss=5918.5034, Valid Loss=4908.6030, Valid R2=-0.0096, Valid MAE=53.0079]\n",
      "Epoch  7: 100%|██████████| 44/44 [00:02<00:00, 21.13it/s, Train Loss=5920.4544, Valid Loss=4881.8472, Valid R2=-0.0041, Valid MAE=52.5117]\n",
      "Epoch  8: 100%|██████████| 44/44 [00:02<00:00, 21.20it/s, Train Loss=5769.8376, Valid Loss=4900.8618, Valid R2=-0.0080, Valid MAE=53.3045]\n",
      "Epoch  9: 100%|██████████| 44/44 [00:02<00:00, 20.88it/s, Train Loss=5699.8932, Valid Loss=4856.7065, Valid R2=0.0011, Valid MAE=53.4152]\n",
      "Epoch 10: 100%|██████████| 44/44 [00:02<00:00, 20.80it/s, Train Loss=5467.4250, Valid Loss=4807.9053, Valid R2=0.0111, Valid MAE=53.4621]\n",
      "Epoch 11: 100%|██████████| 44/44 [00:02<00:00, 21.19it/s, Train Loss=5453.0352, Valid Loss=4753.0229, Valid R2=0.0224, Valid MAE=52.6762]\n",
      "Epoch 12: 100%|██████████| 44/44 [00:02<00:00, 21.14it/s, Train Loss=5305.3391, Valid Loss=4935.1382, Valid R2=-0.0150, Valid MAE=53.5923]\n",
      "Epoch 13: 100%|██████████| 44/44 [00:02<00:00, 20.93it/s, Train Loss=5220.6813, Valid Loss=4805.4111, Valid R2=0.0116, Valid MAE=51.7882]\n",
      "Epoch 14: 100%|██████████| 44/44 [00:02<00:00, 21.27it/s, Train Loss=5022.0305, Valid Loss=4668.7666, Valid R2=0.0397, Valid MAE=49.7456]\n",
      "Epoch 15: 100%|██████████| 44/44 [00:02<00:00, 21.15it/s, Train Loss=4880.3891, Valid Loss=4558.9980, Valid R2=0.0623, Valid MAE=49.9883]\n",
      "Epoch 16: 100%|██████████| 44/44 [00:02<00:00, 21.20it/s, Train Loss=4889.9397, Valid Loss=4548.9238, Valid R2=0.0644, Valid MAE=52.7845]\n",
      "Epoch 17: 100%|██████████| 44/44 [00:02<00:00, 21.40it/s, Train Loss=4668.5861, Valid Loss=4382.0996, Valid R2=0.0987, Valid MAE=50.2195]\n",
      "Epoch 18: 100%|██████████| 44/44 [00:02<00:00, 21.18it/s, Train Loss=4638.6099, Valid Loss=4202.5029, Valid R2=0.1356, Valid MAE=49.1027]\n",
      "Epoch 19: 100%|██████████| 44/44 [00:02<00:00, 21.12it/s, Train Loss=4409.8810, Valid Loss=4081.6748, Valid R2=0.1605, Valid MAE=47.7979]\n",
      "Epoch 20: 100%|██████████| 44/44 [00:02<00:00, 21.15it/s, Train Loss=4445.9116, Valid Loss=3978.0417, Valid R2=0.1818, Valid MAE=47.6997]\n",
      "Epoch 21: 100%|██████████| 44/44 [00:02<00:00, 21.01it/s, Train Loss=4156.7925, Valid Loss=4200.3398, Valid R2=0.1361, Valid MAE=49.6675]\n",
      "Epoch 22: 100%|██████████| 44/44 [00:02<00:00, 21.24it/s, Train Loss=4106.1224, Valid Loss=4064.7197, Valid R2=0.1640, Valid MAE=48.5428]\n",
      "Epoch 23: 100%|██████████| 44/44 [00:02<00:00, 21.06it/s, Train Loss=3799.1909, Valid Loss=4079.5557, Valid R2=0.1609, Valid MAE=48.6394]\n",
      "Epoch 24: 100%|██████████| 44/44 [00:02<00:00, 21.09it/s, Train Loss=3929.1014, Valid Loss=4199.5186, Valid R2=0.1363, Valid MAE=49.3646]\n",
      "Epoch 25: 100%|██████████| 44/44 [00:02<00:00, 21.05it/s, Train Loss=3824.1046, Valid Loss=4144.6650, Valid R2=0.1475, Valid MAE=47.9216]\n",
      "Epoch 26: 100%|██████████| 44/44 [00:02<00:00, 21.65it/s, Train Loss=3608.0367, Valid Loss=4191.9243, Valid R2=0.1378, Valid MAE=48.5186]\n"
     ]
    },
    {
     "name": "stdout",
     "output_type": "stream",
     "text": [
      "Early Stopped\n",
      "Setting   5 of Parameters Grid is now on progres.\n"
     ]
    },
    {
     "name": "stderr",
     "output_type": "stream",
     "text": [
      "Epoch  0: 100%|██████████| 44/44 [00:01<00:00, 22.01it/s, Train Loss=15215.7705, Valid Loss=12094.7666, Valid R2=-1.4876, Valid MAE=85.0434]\n",
      "Epoch  1: 100%|██████████| 44/44 [00:01<00:00, 22.24it/s, Train Loss=13454.2695, Valid Loss=9536.4443, Valid R2=-0.9614, Valid MAE=69.5052]\n",
      "Epoch  2: 100%|██████████| 44/44 [00:02<00:00, 21.03it/s, Train Loss=10371.5088, Valid Loss=6987.2261, Valid R2=-0.4371, Valid MAE=55.8090]\n",
      "Epoch  3: 100%|██████████| 44/44 [00:02<00:00, 21.16it/s, Train Loss=7580.3313, Valid Loss=5148.4927, Valid R2=-0.0589, Valid MAE=49.5901]\n",
      "Epoch  4: 100%|██████████| 44/44 [00:02<00:00, 21.19it/s, Train Loss=6109.2653, Valid Loss=4878.0986, Valid R2=-0.0033, Valid MAE=51.7824]\n",
      "Epoch  5: 100%|██████████| 44/44 [00:02<00:00, 20.32it/s, Train Loss=5829.9793, Valid Loss=4919.6914, Valid R2=-0.0119, Valid MAE=53.0973]\n",
      "Epoch  6: 100%|██████████| 44/44 [00:02<00:00, 21.10it/s, Train Loss=5894.8916, Valid Loss=4956.8384, Valid R2=-0.0195, Valid MAE=53.8682]\n",
      "Epoch  7: 100%|██████████| 44/44 [00:02<00:00, 21.16it/s, Train Loss=5851.1761, Valid Loss=4901.7983, Valid R2=-0.0082, Valid MAE=53.1825]\n",
      "Epoch  8: 100%|██████████| 44/44 [00:02<00:00, 21.26it/s, Train Loss=5791.6352, Valid Loss=4866.2363, Valid R2=-0.0009, Valid MAE=52.9198]\n",
      "Epoch  9: 100%|██████████| 44/44 [00:02<00:00, 21.23it/s, Train Loss=5654.1926, Valid Loss=4739.5195, Valid R2=0.0252, Valid MAE=51.7342]\n",
      "Epoch 10: 100%|██████████| 44/44 [00:02<00:00, 20.98it/s, Train Loss=5426.2757, Valid Loss=4771.7500, Valid R2=0.0186, Valid MAE=53.5438]\n",
      "Epoch 11: 100%|██████████| 44/44 [00:02<00:00, 21.15it/s, Train Loss=5206.8115, Valid Loss=4549.2148, Valid R2=0.0643, Valid MAE=51.3096]\n",
      "Epoch 12: 100%|██████████| 44/44 [00:02<00:00, 21.00it/s, Train Loss=5076.4455, Valid Loss=4579.3623, Valid R2=0.0581, Valid MAE=52.0358]\n",
      "Epoch 13: 100%|██████████| 44/44 [00:02<00:00, 21.26it/s, Train Loss=4883.8588, Valid Loss=4294.2256, Valid R2=0.1168, Valid MAE=48.9104]\n",
      "Epoch 14: 100%|██████████| 44/44 [00:02<00:00, 21.01it/s, Train Loss=4822.3624, Valid Loss=4329.5737, Valid R2=0.1095, Valid MAE=48.6349]\n",
      "Epoch 15: 100%|██████████| 44/44 [00:02<00:00, 20.86it/s, Train Loss=4587.9367, Valid Loss=4414.2402, Valid R2=0.0921, Valid MAE=48.4425]\n",
      "Epoch 16: 100%|██████████| 44/44 [00:02<00:00, 21.08it/s, Train Loss=4527.0921, Valid Loss=4339.4883, Valid R2=0.1075, Valid MAE=49.0790]\n",
      "Epoch 17: 100%|██████████| 44/44 [00:02<00:00, 21.12it/s, Train Loss=4463.6825, Valid Loss=4166.8125, Valid R2=0.1430, Valid MAE=48.2432]\n",
      "Epoch 18: 100%|██████████| 44/44 [00:02<00:00, 21.21it/s, Train Loss=4205.8418, Valid Loss=4096.5654, Valid R2=0.1574, Valid MAE=48.7968]\n",
      "Epoch 19: 100%|██████████| 44/44 [00:02<00:00, 21.09it/s, Train Loss=4197.2827, Valid Loss=4242.5142, Valid R2=0.1274, Valid MAE=47.3805]\n",
      "Epoch 20: 100%|██████████| 44/44 [00:02<00:00, 21.06it/s, Train Loss=4211.3334, Valid Loss=4109.8696, Valid R2=0.1547, Valid MAE=48.1834]\n",
      "Epoch 21: 100%|██████████| 44/44 [00:02<00:00, 20.12it/s, Train Loss=4523.3191, Valid Loss=4946.2188, Valid R2=-0.0173, Valid MAE=54.8637]\n",
      "Epoch 22: 100%|██████████| 44/44 [00:02<00:00, 21.29it/s, Train Loss=4261.7219, Valid Loss=4873.9043, Valid R2=-0.0024, Valid MAE=52.4049]\n",
      "Epoch 23: 100%|██████████| 44/44 [00:02<00:00, 20.65it/s, Train Loss=4002.7567, Valid Loss=4907.9258, Valid R2=-0.0094, Valid MAE=53.8285]\n",
      "Epoch 24: 100%|██████████| 44/44 [00:02<00:00, 20.20it/s, Train Loss=3784.7958, Valid Loss=4290.2607, Valid R2=0.1176, Valid MAE=49.9491]\n"
     ]
    },
    {
     "name": "stdout",
     "output_type": "stream",
     "text": [
      "Early Stopped\n",
      "Setting   6 of Parameters Grid is now on progres.\n"
     ]
    },
    {
     "name": "stderr",
     "output_type": "stream",
     "text": [
      "Epoch  0: 100%|██████████| 44/44 [00:02<00:00, 21.49it/s, Train Loss=15074.1799, Valid Loss=11611.1836, Valid R2=-1.3881, Valid MAE=82.1524]\n",
      "Epoch  1: 100%|██████████| 44/44 [00:02<00:00, 21.75it/s, Train Loss=12924.9925, Valid Loss=9341.7744, Valid R2=-0.9214, Valid MAE=68.3274]\n",
      "Epoch  2: 100%|██████████| 44/44 [00:02<00:00, 20.89it/s, Train Loss=10366.7093, Valid Loss=7164.9707, Valid R2=-0.4737, Valid MAE=56.7118]\n",
      "Epoch  3: 100%|██████████| 44/44 [00:02<00:00, 20.70it/s, Train Loss=7904.1895, Valid Loss=5385.3984, Valid R2=-0.1077, Valid MAE=49.6593]\n",
      "Epoch  4: 100%|██████████| 44/44 [00:02<00:00, 19.68it/s, Train Loss=6268.3044, Valid Loss=4875.6582, Valid R2=-0.0028, Valid MAE=50.8613]\n",
      "Epoch  5: 100%|██████████| 44/44 [00:02<00:00, 21.82it/s, Train Loss=5955.5498, Valid Loss=4889.8335, Valid R2=-0.0057, Valid MAE=52.4211]\n",
      "Epoch  6: 100%|██████████| 44/44 [00:02<00:00, 19.88it/s, Train Loss=5876.8021, Valid Loss=4923.6846, Valid R2=-0.0127, Valid MAE=53.2807]\n",
      "Epoch  7: 100%|██████████| 44/44 [00:02<00:00, 20.38it/s, Train Loss=5863.4185, Valid Loss=4916.5547, Valid R2=-0.0112, Valid MAE=53.1781]\n",
      "Epoch  8: 100%|██████████| 44/44 [00:02<00:00, 20.90it/s, Train Loss=5904.3106, Valid Loss=4931.5151, Valid R2=-0.0143, Valid MAE=53.5425]\n",
      "Epoch  9: 100%|██████████| 44/44 [00:02<00:00, 21.19it/s, Train Loss=5756.9841, Valid Loss=4944.2046, Valid R2=-0.0169, Valid MAE=53.7658]\n",
      "Epoch 10: 100%|██████████| 44/44 [00:02<00:00, 21.20it/s, Train Loss=5797.6445, Valid Loss=4976.5488, Valid R2=-0.0236, Valid MAE=53.7820]\n"
     ]
    },
    {
     "name": "stdout",
     "output_type": "stream",
     "text": [
      "Early Stopped\n",
      "Setting   7 of Parameters Grid is now on progres.\n"
     ]
    },
    {
     "name": "stderr",
     "output_type": "stream",
     "text": [
      "Epoch  0: 100%|██████████| 44/44 [00:02<00:00, 21.20it/s, Train Loss=14999.1841, Valid Loss=11372.8818, Valid R2=-1.3391, Valid MAE=80.7335]\n",
      "Epoch  1: 100%|██████████| 44/44 [00:02<00:00, 21.66it/s, Train Loss=12172.0897, Valid Loss=8436.3271, Valid R2=-0.7352, Valid MAE=63.2052]\n",
      "Epoch  2: 100%|██████████| 44/44 [00:02<00:00, 21.11it/s, Train Loss=9432.4286, Valid Loss=6498.9507, Valid R2=-0.3367, Valid MAE=53.5603]\n",
      "Epoch  3: 100%|██████████| 44/44 [00:02<00:00, 21.21it/s, Train Loss=7396.1187, Valid Loss=5133.2563, Valid R2=-0.0558, Valid MAE=49.6079]\n",
      "Epoch  4: 100%|██████████| 44/44 [00:02<00:00, 20.59it/s, Train Loss=6128.1951, Valid Loss=4871.7432, Valid R2=-0.0020, Valid MAE=51.3976]\n",
      "Epoch  5: 100%|██████████| 44/44 [00:02<00:00, 20.46it/s, Train Loss=5883.6007, Valid Loss=4916.0835, Valid R2=-0.0111, Valid MAE=53.1164]\n",
      "Epoch  6: 100%|██████████| 44/44 [00:02<00:00, 20.92it/s, Train Loss=5851.2501, Valid Loss=4936.0684, Valid R2=-0.0152, Valid MAE=53.5788]\n",
      "Epoch  7: 100%|██████████| 44/44 [00:02<00:00, 20.94it/s, Train Loss=5838.9707, Valid Loss=4954.3521, Valid R2=-0.0190, Valid MAE=53.9411]\n",
      "Epoch  8: 100%|██████████| 44/44 [00:02<00:00, 21.11it/s, Train Loss=5920.7490, Valid Loss=4930.2319, Valid R2=-0.0140, Valid MAE=53.4701]\n",
      "Epoch  9: 100%|██████████| 44/44 [00:02<00:00, 20.99it/s, Train Loss=5803.9023, Valid Loss=4941.1523, Valid R2=-0.0163, Valid MAE=53.7238]\n",
      "Epoch 10: 100%|██████████| 44/44 [00:02<00:00, 21.16it/s, Train Loss=5761.9149, Valid Loss=4942.3374, Valid R2=-0.0165, Valid MAE=53.7939]\n"
     ]
    },
    {
     "name": "stdout",
     "output_type": "stream",
     "text": [
      "Early Stopped\n",
      "Setting   8 of Parameters Grid is now on progres.\n"
     ]
    },
    {
     "name": "stderr",
     "output_type": "stream",
     "text": [
      "Epoch  0: 100%|██████████| 44/44 [00:02<00:00, 21.22it/s, Train Loss=14789.5038, Valid Loss=10916.7432, Valid R2=-1.2453, Valid MAE=77.9151]\n",
      "Epoch  1: 100%|██████████| 44/44 [00:02<00:00, 20.77it/s, Train Loss=11650.0117, Valid Loss=8032.9722, Valid R2=-0.6522, Valid MAE=61.0418]\n",
      "Epoch  2: 100%|██████████| 44/44 [00:02<00:00, 21.23it/s, Train Loss=8941.8216, Valid Loss=6182.1714, Valid R2=-0.2715, Valid MAE=52.2586]\n",
      "Epoch  3: 100%|██████████| 44/44 [00:02<00:00, 20.95it/s, Train Loss=7204.3584, Valid Loss=5185.1587, Valid R2=-0.0665, Valid MAE=49.5675]\n",
      "Epoch  4: 100%|██████████| 44/44 [00:02<00:00, 21.08it/s, Train Loss=6233.0454, Valid Loss=4885.7212, Valid R2=-0.0049, Valid MAE=50.5508]\n",
      "Epoch  5: 100%|██████████| 44/44 [00:02<00:00, 21.09it/s, Train Loss=5866.6288, Valid Loss=4882.3574, Valid R2=-0.0042, Valid MAE=52.2802]\n",
      "Epoch  6: 100%|██████████| 44/44 [00:02<00:00, 20.78it/s, Train Loss=5849.7495, Valid Loss=4923.1436, Valid R2=-0.0126, Valid MAE=53.3275]\n",
      "Epoch  7: 100%|██████████| 44/44 [00:02<00:00, 20.68it/s, Train Loss=5828.0623, Valid Loss=4917.0752, Valid R2=-0.0113, Valid MAE=53.2689]\n",
      "Epoch  8: 100%|██████████| 44/44 [00:02<00:00, 20.86it/s, Train Loss=5868.3851, Valid Loss=4921.6401, Valid R2=-0.0123, Valid MAE=53.4693]\n",
      "Epoch  9: 100%|██████████| 44/44 [00:02<00:00, 20.85it/s, Train Loss=5788.4236, Valid Loss=4897.3486, Valid R2=-0.0073, Valid MAE=53.3817]\n",
      "Epoch 10: 100%|██████████| 44/44 [00:02<00:00, 20.48it/s, Train Loss=5737.6013, Valid Loss=4942.0610, Valid R2=-0.0165, Valid MAE=54.0796]\n",
      "Epoch 11: 100%|██████████| 44/44 [00:01<00:00, 22.91it/s, Train Loss=5685.6303, Valid Loss=4933.0913, Valid R2=-0.0146, Valid MAE=54.0147]\n"
     ]
    },
    {
     "name": "stdout",
     "output_type": "stream",
     "text": [
      "Early Stopped\n",
      "Setting   9 of Parameters Grid is now on progres.\n"
     ]
    },
    {
     "name": "stderr",
     "output_type": "stream",
     "text": [
      "Epoch  0: 100%|██████████| 44/44 [00:01<00:00, 22.59it/s, Train Loss=15029.8806, Valid Loss=11121.0771, Valid R2=-1.2873, Valid MAE=79.1721]\n",
      "Epoch  1: 100%|██████████| 44/44 [00:02<00:00, 20.60it/s, Train Loss=11825.0367, Valid Loss=8166.1953, Valid R2=-0.6796, Valid MAE=61.6975]\n",
      "Epoch  2: 100%|██████████| 44/44 [00:02<00:00, 21.07it/s, Train Loss=9155.5086, Valid Loss=6368.0317, Valid R2=-0.3098, Valid MAE=53.0158]\n",
      "Epoch  3: 100%|██████████| 44/44 [00:02<00:00, 21.12it/s, Train Loss=7279.3110, Valid Loss=5217.7363, Valid R2=-0.0732, Valid MAE=49.5066]\n",
      "Epoch  4: 100%|██████████| 44/44 [00:02<00:00, 20.97it/s, Train Loss=6220.1914, Valid Loss=4881.2300, Valid R2=-0.0040, Valid MAE=50.5005]\n",
      "Epoch  5: 100%|██████████| 44/44 [00:02<00:00, 21.07it/s, Train Loss=5856.9212, Valid Loss=4908.2495, Valid R2=-0.0095, Valid MAE=52.8444]\n",
      "Epoch  6: 100%|██████████| 44/44 [00:02<00:00, 20.94it/s, Train Loss=5878.7437, Valid Loss=4894.5215, Valid R2=-0.0067, Valid MAE=52.8548]\n",
      "Epoch  7: 100%|██████████| 44/44 [00:02<00:00, 21.03it/s, Train Loss=5841.3245, Valid Loss=4919.7520, Valid R2=-0.0119, Valid MAE=53.3580]\n",
      "Epoch  8: 100%|██████████| 44/44 [00:02<00:00, 21.04it/s, Train Loss=5834.0688, Valid Loss=4847.9346, Valid R2=0.0029, Valid MAE=52.4552]\n",
      "Epoch  9: 100%|██████████| 44/44 [00:02<00:00, 21.13it/s, Train Loss=5810.1908, Valid Loss=4995.3188, Valid R2=-0.0274, Valid MAE=54.7150]\n",
      "Epoch 10: 100%|██████████| 44/44 [00:02<00:00, 21.11it/s, Train Loss=5781.6029, Valid Loss=4929.5884, Valid R2=-0.0139, Valid MAE=53.9671]\n",
      "Epoch 11: 100%|██████████| 44/44 [00:02<00:00, 20.36it/s, Train Loss=5674.4841, Valid Loss=4982.5938, Valid R2=-0.0248, Valid MAE=54.5033]\n",
      "Epoch 12: 100%|██████████| 44/44 [00:02<00:00, 21.15it/s, Train Loss=5640.3460, Valid Loss=4779.3071, Valid R2=0.0170, Valid MAE=52.2806]\n",
      "Epoch 13: 100%|██████████| 44/44 [00:02<00:00, 20.77it/s, Train Loss=5637.6018, Valid Loss=4764.2314, Valid R2=0.0201, Valid MAE=50.3323]\n",
      "Epoch 14: 100%|██████████| 44/44 [00:02<00:00, 20.91it/s, Train Loss=5606.3908, Valid Loss=4621.3359, Valid R2=0.0495, Valid MAE=50.2828]\n",
      "Epoch 15: 100%|██████████| 44/44 [00:02<00:00, 21.21it/s, Train Loss=5632.6790, Valid Loss=4647.4194, Valid R2=0.0441, Valid MAE=51.7294]\n",
      "Epoch 16: 100%|██████████| 44/44 [00:02<00:00, 20.81it/s, Train Loss=5497.5041, Valid Loss=4704.4805, Valid R2=0.0324, Valid MAE=52.4014]\n",
      "Epoch 17: 100%|██████████| 44/44 [00:02<00:00, 21.58it/s, Train Loss=5382.9090, Valid Loss=4686.7949, Valid R2=0.0360, Valid MAE=49.2986]\n",
      "Epoch 18: 100%|██████████| 44/44 [00:02<00:00, 20.63it/s, Train Loss=5445.7061, Valid Loss=4574.1436, Valid R2=0.0592, Valid MAE=51.3715]\n",
      "Epoch 19: 100%|██████████| 44/44 [00:02<00:00, 20.36it/s, Train Loss=5376.5648, Valid Loss=4495.0303, Valid R2=0.0755, Valid MAE=50.0903]\n",
      "Epoch 20: 100%|██████████| 44/44 [00:02<00:00, 20.69it/s, Train Loss=5373.8176, Valid Loss=4246.3247, Valid R2=0.1266, Valid MAE=47.7088]\n",
      "Epoch 21: 100%|██████████| 44/44 [00:02<00:00, 20.71it/s, Train Loss=5500.2471, Valid Loss=4552.3291, Valid R2=0.0637, Valid MAE=50.9600]\n",
      "Epoch 22: 100%|██████████| 44/44 [00:02<00:00, 20.77it/s, Train Loss=5222.3957, Valid Loss=4687.6050, Valid R2=0.0359, Valid MAE=54.6668]\n",
      "Epoch 23: 100%|██████████| 44/44 [00:02<00:00, 21.06it/s, Train Loss=5044.2290, Valid Loss=4259.2935, Valid R2=0.1240, Valid MAE=47.8679]\n",
      "Epoch 24: 100%|██████████| 44/44 [00:02<00:00, 20.60it/s, Train Loss=4860.3151, Valid Loss=4417.7993, Valid R2=0.0914, Valid MAE=51.8042]\n",
      "Epoch 25: 100%|██████████| 44/44 [00:02<00:00, 20.14it/s, Train Loss=4797.6935, Valid Loss=4281.9043, Valid R2=0.1193, Valid MAE=49.0614]\n",
      "Epoch 26: 100%|██████████| 44/44 [00:02<00:00, 20.60it/s, Train Loss=4859.4889, Valid Loss=4578.8325, Valid R2=0.0582, Valid MAE=53.4129]\n"
     ]
    },
    {
     "name": "stdout",
     "output_type": "stream",
     "text": [
      "Early Stopped\n",
      "Setting  10 of Parameters Grid is now on progres.\n"
     ]
    },
    {
     "name": "stderr",
     "output_type": "stream",
     "text": [
      "Epoch  0: 100%|██████████| 44/44 [00:02<00:00, 21.34it/s, Train Loss=14709.4542, Valid Loss=10688.0879, Valid R2=-1.1983, Valid MAE=76.5162]\n",
      "Epoch  1: 100%|██████████| 44/44 [00:02<00:00, 20.74it/s, Train Loss=11291.9995, Valid Loss=7718.1992, Valid R2=-0.5875, Valid MAE=59.4533]\n",
      "Epoch  2: 100%|██████████| 44/44 [00:02<00:00, 20.27it/s, Train Loss=8839.7881, Valid Loss=6239.1465, Valid R2=-0.2832, Valid MAE=52.4918]\n",
      "Epoch  3: 100%|██████████| 44/44 [00:02<00:00, 20.20it/s, Train Loss=7367.7324, Valid Loss=5406.5352, Valid R2=-0.1120, Valid MAE=49.6644]\n",
      "Epoch  4: 100%|██████████| 44/44 [00:02<00:00, 20.19it/s, Train Loss=6530.8452, Valid Loss=5010.4663, Valid R2=-0.0305, Valid MAE=49.6615]\n",
      "Epoch  5: 100%|██████████| 44/44 [00:02<00:00, 20.18it/s, Train Loss=6101.0455, Valid Loss=4881.9648, Valid R2=-0.0041, Valid MAE=50.4870]\n",
      "Epoch  6: 100%|██████████| 44/44 [00:02<00:00, 20.98it/s, Train Loss=5877.8584, Valid Loss=4863.8882, Valid R2=-0.0004, Valid MAE=51.5557]\n",
      "Epoch  7: 100%|██████████| 44/44 [00:02<00:00, 21.06it/s, Train Loss=5860.8525, Valid Loss=4883.3320, Valid R2=-0.0044, Valid MAE=52.3892]\n",
      "Epoch  8: 100%|██████████| 44/44 [00:02<00:00, 20.26it/s, Train Loss=5782.0018, Valid Loss=4907.4800, Valid R2=-0.0094, Valid MAE=53.0387]\n",
      "Epoch  9: 100%|██████████| 44/44 [00:01<00:00, 22.27it/s, Train Loss=5755.7052, Valid Loss=4919.1245, Valid R2=-0.0117, Valid MAE=53.3732]\n",
      "Epoch 10: 100%|██████████| 44/44 [00:01<00:00, 22.37it/s, Train Loss=5805.3630, Valid Loss=4915.4775, Valid R2=-0.0110, Valid MAE=53.4740]\n",
      "Epoch 11: 100%|██████████| 44/44 [00:01<00:00, 22.34it/s, Train Loss=5767.1978, Valid Loss=4937.4346, Valid R2=-0.0155, Valid MAE=53.7608]\n",
      "Epoch 12: 100%|██████████| 44/44 [00:02<00:00, 20.44it/s, Train Loss=5761.6570, Valid Loss=4956.2988, Valid R2=-0.0194, Valid MAE=54.0277]\n"
     ]
    },
    {
     "name": "stdout",
     "output_type": "stream",
     "text": [
      "Early Stopped\n",
      "Setting  11 of Parameters Grid is now on progres.\n"
     ]
    },
    {
     "name": "stderr",
     "output_type": "stream",
     "text": [
      "Epoch  0: 100%|██████████| 44/44 [00:02<00:00, 20.65it/s, Train Loss=14642.3313, Valid Loss=10277.3643, Valid R2=-1.1138, Valid MAE=74.0047]\n",
      "Epoch  1: 100%|██████████| 44/44 [00:02<00:00, 20.73it/s, Train Loss=10423.2346, Valid Loss=6758.3623, Valid R2=-0.3900, Valid MAE=54.7411]\n",
      "Epoch  2: 100%|██████████| 44/44 [00:02<00:00, 20.65it/s, Train Loss=7435.5869, Valid Loss=5196.0020, Valid R2=-0.0687, Valid MAE=49.4837]\n",
      "Epoch  3: 100%|██████████| 44/44 [00:02<00:00, 20.45it/s, Train Loss=6185.2608, Valid Loss=4862.7729, Valid R2=-0.0002, Valid MAE=51.1391]\n",
      "Epoch  4: 100%|██████████| 44/44 [00:01<00:00, 22.04it/s, Train Loss=5825.7918, Valid Loss=4909.2422, Valid R2=-0.0097, Valid MAE=53.0612]\n",
      "Epoch  5: 100%|██████████| 44/44 [00:02<00:00, 21.56it/s, Train Loss=5766.0325, Valid Loss=4927.1880, Valid R2=-0.0134, Valid MAE=53.5741]\n",
      "Epoch  6: 100%|██████████| 44/44 [00:02<00:00, 20.60it/s, Train Loss=5747.1661, Valid Loss=4910.1470, Valid R2=-0.0099, Valid MAE=53.3703]\n",
      "Epoch  7: 100%|██████████| 44/44 [00:02<00:00, 20.32it/s, Train Loss=5712.0089, Valid Loss=4916.3145, Valid R2=-0.0112, Valid MAE=53.6219]\n",
      "Epoch  8: 100%|██████████| 44/44 [00:02<00:00, 20.00it/s, Train Loss=5712.4547, Valid Loss=4789.4902, Valid R2=0.0149, Valid MAE=52.1142]\n",
      "Epoch  9: 100%|██████████| 44/44 [00:02<00:00, 19.97it/s, Train Loss=5608.8947, Valid Loss=4783.6216, Valid R2=0.0161, Valid MAE=51.8628]\n",
      "Epoch 10: 100%|██████████| 44/44 [00:02<00:00, 20.85it/s, Train Loss=5544.2582, Valid Loss=4765.1270, Valid R2=0.0199, Valid MAE=52.2839]\n",
      "Epoch 11: 100%|██████████| 44/44 [00:02<00:00, 21.41it/s, Train Loss=5472.6291, Valid Loss=4682.1338, Valid R2=0.0370, Valid MAE=51.9635]\n",
      "Epoch 12: 100%|██████████| 44/44 [00:02<00:00, 21.41it/s, Train Loss=5446.8660, Valid Loss=4543.9600, Valid R2=0.0654, Valid MAE=50.2724]\n",
      "Epoch 13: 100%|██████████| 44/44 [00:02<00:00, 20.72it/s, Train Loss=5143.8936, Valid Loss=4635.6338, Valid R2=0.0466, Valid MAE=48.1352]\n",
      "Epoch 14: 100%|██████████| 44/44 [00:01<00:00, 22.51it/s, Train Loss=4980.5628, Valid Loss=4314.9048, Valid R2=0.1125, Valid MAE=47.5317]\n",
      "Epoch 15: 100%|██████████| 44/44 [00:02<00:00, 21.08it/s, Train Loss=4824.3554, Valid Loss=4091.6042, Valid R2=0.1585, Valid MAE=47.9154]\n",
      "Epoch 16: 100%|██████████| 44/44 [00:02<00:00, 20.97it/s, Train Loss=4615.9655, Valid Loss=4049.2095, Valid R2=0.1672, Valid MAE=49.2272]\n",
      "Epoch 17: 100%|██████████| 44/44 [00:02<00:00, 20.74it/s, Train Loss=4265.2264, Valid Loss=3905.5466, Valid R2=0.1967, Valid MAE=48.6927]\n",
      "Epoch 18: 100%|██████████| 44/44 [00:02<00:00, 21.22it/s, Train Loss=4247.2498, Valid Loss=3825.0801, Valid R2=0.2133, Valid MAE=47.7549]\n",
      "Epoch 19: 100%|██████████| 44/44 [00:02<00:00, 20.89it/s, Train Loss=3803.8991, Valid Loss=4179.5288, Valid R2=0.1404, Valid MAE=50.6060]\n",
      "Epoch 20: 100%|██████████| 44/44 [00:02<00:00, 21.97it/s, Train Loss=4073.0252, Valid Loss=3822.7781, Valid R2=0.2137, Valid MAE=48.2018]\n",
      "Epoch 21: 100%|██████████| 44/44 [00:02<00:00, 20.65it/s, Train Loss=3596.5751, Valid Loss=3750.5171, Valid R2=0.2286, Valid MAE=47.8336]\n",
      "Epoch 22: 100%|██████████| 44/44 [00:02<00:00, 19.92it/s, Train Loss=3417.9108, Valid Loss=3826.4607, Valid R2=0.2130, Valid MAE=48.2308]\n",
      "Epoch 23: 100%|██████████| 44/44 [00:02<00:00, 20.28it/s, Train Loss=3321.1066, Valid Loss=3705.1433, Valid R2=0.2379, Valid MAE=48.0097]\n",
      "Epoch 24: 100%|██████████| 44/44 [00:02<00:00, 20.86it/s, Train Loss=3181.2846, Valid Loss=3567.7195, Valid R2=0.2662, Valid MAE=46.3586]\n",
      "Epoch 25: 100%|██████████| 44/44 [00:02<00:00, 20.65it/s, Train Loss=2952.0764, Valid Loss=3315.0437, Valid R2=0.3182, Valid MAE=43.7701]\n",
      "Epoch 26: 100%|██████████| 44/44 [00:02<00:00, 20.66it/s, Train Loss=3157.1355, Valid Loss=3258.6243, Valid R2=0.3298, Valid MAE=44.9664]\n",
      "Epoch 27: 100%|██████████| 44/44 [00:02<00:00, 21.17it/s, Train Loss=2929.5646, Valid Loss=3620.3889, Valid R2=0.2554, Valid MAE=48.2008]\n",
      "Epoch 28: 100%|██████████| 44/44 [00:02<00:00, 20.42it/s, Train Loss=2643.0408, Valid Loss=3416.0481, Valid R2=0.2974, Valid MAE=45.7426]\n",
      "Epoch 29: 100%|██████████| 44/44 [00:02<00:00, 20.20it/s, Train Loss=2501.5322, Valid Loss=3229.6343, Valid R2=0.3357, Valid MAE=43.1799]\n",
      "Epoch 30: 100%|██████████| 44/44 [00:02<00:00, 20.88it/s, Train Loss=2394.3930, Valid Loss=3072.4717, Valid R2=0.3681, Valid MAE=43.3345]\n",
      "Epoch 31: 100%|██████████| 44/44 [00:02<00:00, 21.07it/s, Train Loss=2314.4530, Valid Loss=3455.7668, Valid R2=0.2892, Valid MAE=46.1417]\n",
      "Epoch 32: 100%|██████████| 44/44 [00:02<00:00, 21.02it/s, Train Loss=2257.5277, Valid Loss=3010.2480, Valid R2=0.3809, Valid MAE=41.1313]\n",
      "Epoch 33: 100%|██████████| 44/44 [00:02<00:00, 21.06it/s, Train Loss=2194.3181, Valid Loss=3298.3452, Valid R2=0.3216, Valid MAE=43.4972]\n",
      "Epoch 34: 100%|██████████| 44/44 [00:02<00:00, 21.09it/s, Train Loss=2112.0874, Valid Loss=3317.1025, Valid R2=0.3177, Valid MAE=44.4080]\n",
      "Epoch 35: 100%|██████████| 44/44 [00:02<00:00, 20.86it/s, Train Loss=1988.6619, Valid Loss=3239.1606, Valid R2=0.3338, Valid MAE=44.2427]\n",
      "Epoch 36: 100%|██████████| 44/44 [00:02<00:00, 20.52it/s, Train Loss=1876.4316, Valid Loss=2932.3760, Valid R2=0.3969, Valid MAE=41.8808]\n",
      "Epoch 37: 100%|██████████| 44/44 [00:02<00:00, 20.28it/s, Train Loss=1828.2317, Valid Loss=3168.5674, Valid R2=0.3483, Valid MAE=43.8415]\n",
      "Epoch 38: 100%|██████████| 44/44 [00:02<00:00, 20.34it/s, Train Loss=2094.0262, Valid Loss=3976.5601, Valid R2=0.1821, Valid MAE=49.1894]\n",
      "Epoch 39: 100%|██████████| 44/44 [00:02<00:00, 21.07it/s, Train Loss=2281.0558, Valid Loss=3859.9661, Valid R2=0.2061, Valid MAE=46.3763]\n",
      "Epoch 40: 100%|██████████| 44/44 [00:02<00:00, 21.17it/s, Train Loss=1968.4448, Valid Loss=3477.9534, Valid R2=0.2847, Valid MAE=45.1410]\n",
      "Epoch 41: 100%|██████████| 44/44 [00:02<00:00, 20.88it/s, Train Loss=1947.9910, Valid Loss=3427.2368, Valid R2=0.2951, Valid MAE=44.6119]\n",
      "Epoch 42: 100%|██████████| 44/44 [00:02<00:00, 20.98it/s, Train Loss=2303.7251, Valid Loss=3190.9731, Valid R2=0.3437, Valid MAE=42.9432]\n"
     ]
    },
    {
     "name": "stdout",
     "output_type": "stream",
     "text": [
      "Early Stopped\n",
      "Setting  12 of Parameters Grid is now on progres.\n"
     ]
    },
    {
     "name": "stderr",
     "output_type": "stream",
     "text": [
      "Epoch  0: 100%|██████████| 44/44 [00:02<00:00, 20.21it/s, Train Loss=15275.6343, Valid Loss=12285.3574, Valid R2=-1.5268, Valid MAE=86.1590]\n",
      "Epoch  1: 100%|██████████| 44/44 [00:02<00:00, 20.09it/s, Train Loss=14328.0181, Valid Loss=11113.1074, Valid R2=-1.2857, Valid MAE=79.1243]\n",
      "Epoch  2: 100%|██████████| 44/44 [00:02<00:00, 20.09it/s, Train Loss=12987.5856, Valid Loss=9998.4521, Valid R2=-1.0564, Valid MAE=72.3393]\n",
      "Epoch  3: 100%|██████████| 44/44 [00:02<00:00, 20.28it/s, Train Loss=11854.8430, Valid Loss=9047.5459, Valid R2=-0.8609, Valid MAE=66.5980]\n",
      "Epoch  4: 100%|██████████| 44/44 [00:02<00:00, 20.01it/s, Train Loss=10647.3792, Valid Loss=7692.7646, Valid R2=-0.5822, Valid MAE=59.3240]\n",
      "Epoch  5: 100%|██████████| 44/44 [00:02<00:00, 20.34it/s, Train Loss=9128.3573, Valid Loss=6738.1562, Valid R2=-0.3859, Valid MAE=54.6370]\n",
      "Epoch  6: 100%|██████████| 44/44 [00:02<00:00, 20.06it/s, Train Loss=8152.8291, Valid Loss=6026.4492, Valid R2=-0.2395, Valid MAE=51.6482]\n",
      "Epoch  7: 100%|██████████| 44/44 [00:02<00:00, 20.59it/s, Train Loss=7363.0185, Valid Loss=5512.0386, Valid R2=-0.1337, Valid MAE=49.9299]\n",
      "Epoch  8: 100%|██████████| 44/44 [00:02<00:00, 20.76it/s, Train Loss=6867.1296, Valid Loss=5190.6108, Valid R2=-0.0676, Valid MAE=49.4871]\n",
      "Epoch  9: 100%|██████████| 44/44 [00:02<00:00, 20.55it/s, Train Loss=6469.5707, Valid Loss=4998.5908, Valid R2=-0.0281, Valid MAE=49.6899]\n",
      "Epoch 10: 100%|██████████| 44/44 [00:02<00:00, 20.15it/s, Train Loss=6279.9564, Valid Loss=4909.4238, Valid R2=-0.0098, Valid MAE=50.9390]\n",
      "Epoch 11: 100%|██████████| 44/44 [00:02<00:00, 20.13it/s, Train Loss=6061.7086, Valid Loss=4977.0269, Valid R2=-0.0237, Valid MAE=51.8648]\n",
      "Epoch 12: 100%|██████████| 44/44 [00:02<00:00, 20.53it/s, Train Loss=5976.5958, Valid Loss=5056.3789, Valid R2=-0.0400, Valid MAE=53.6298]\n",
      "Epoch 13: 100%|██████████| 44/44 [00:02<00:00, 20.88it/s, Train Loss=5916.4218, Valid Loss=4982.8711, Valid R2=-0.0249, Valid MAE=51.3404]\n",
      "Epoch 14: 100%|██████████| 44/44 [00:02<00:00, 21.12it/s, Train Loss=5916.0333, Valid Loss=4969.4482, Valid R2=-0.0221, Valid MAE=51.9695]\n",
      "Epoch 15: 100%|██████████| 44/44 [00:02<00:00, 21.04it/s, Train Loss=5912.7753, Valid Loss=5004.7964, Valid R2=-0.0294, Valid MAE=52.7836]\n",
      "Epoch 16: 100%|██████████| 44/44 [00:02<00:00, 21.09it/s, Train Loss=5840.6942, Valid Loss=4983.4565, Valid R2=-0.0250, Valid MAE=52.2829]\n"
     ]
    },
    {
     "name": "stdout",
     "output_type": "stream",
     "text": [
      "Early Stopped\n",
      "Setting  13 of Parameters Grid is now on progres.\n"
     ]
    },
    {
     "name": "stderr",
     "output_type": "stream",
     "text": [
      "Epoch  0: 100%|██████████| 44/44 [00:02<00:00, 21.20it/s, Train Loss=15284.1336, Valid Loss=12175.8301, Valid R2=-1.5043, Valid MAE=85.5188]\n",
      "Epoch  1: 100%|██████████| 44/44 [00:02<00:00, 20.78it/s, Train Loss=14084.8796, Valid Loss=10832.4375, Valid R2=-1.2280, Valid MAE=77.4025]\n",
      "Epoch  2: 100%|██████████| 44/44 [00:02<00:00, 21.04it/s, Train Loss=12661.5717, Valid Loss=9760.5488, Valid R2=-1.0075, Valid MAE=70.8861]\n",
      "Epoch  3: 100%|██████████| 44/44 [00:02<00:00, 20.59it/s, Train Loss=11708.3652, Valid Loss=8960.3721, Valid R2=-0.8429, Valid MAE=66.0884]\n",
      "Epoch  4: 100%|██████████| 44/44 [00:02<00:00, 21.03it/s, Train Loss=10774.5958, Valid Loss=8080.9258, Valid R2=-0.6621, Valid MAE=61.2897]\n",
      "Epoch  5: 100%|██████████| 44/44 [00:02<00:00, 21.06it/s, Train Loss=9510.6947, Valid Loss=6924.0015, Valid R2=-0.4241, Valid MAE=55.5430]\n",
      "Epoch  6: 100%|██████████| 44/44 [00:02<00:00, 21.09it/s, Train Loss=8214.4590, Valid Loss=5936.5840, Valid R2=-0.2210, Valid MAE=51.3167]\n",
      "Epoch  7: 100%|██████████| 44/44 [00:02<00:00, 20.54it/s, Train Loss=7122.2394, Valid Loss=5268.7183, Valid R2=-0.0837, Valid MAE=49.4878]\n",
      "Epoch  8: 100%|██████████| 44/44 [00:02<00:00, 20.10it/s, Train Loss=6421.6285, Valid Loss=4963.9702, Valid R2=-0.0210, Valid MAE=49.7897]\n",
      "Epoch  9: 100%|██████████| 44/44 [00:02<00:00, 21.03it/s, Train Loss=6094.6370, Valid Loss=4870.7939, Valid R2=-0.0018, Valid MAE=50.7281]\n",
      "Epoch 10: 100%|██████████| 44/44 [00:02<00:00, 20.99it/s, Train Loss=5933.3248, Valid Loss=4864.8530, Valid R2=-0.0006, Valid MAE=51.6273]\n",
      "Epoch 11: 100%|██████████| 44/44 [00:02<00:00, 21.11it/s, Train Loss=5919.7790, Valid Loss=4883.5059, Valid R2=-0.0044, Valid MAE=52.3883]\n",
      "Epoch 12: 100%|██████████| 44/44 [00:02<00:00, 20.66it/s, Train Loss=5949.1964, Valid Loss=4896.3833, Valid R2=-0.0071, Valid MAE=52.7512]\n",
      "Epoch 13: 100%|██████████| 44/44 [00:02<00:00, 20.95it/s, Train Loss=5908.2504, Valid Loss=4910.4502, Valid R2=-0.0100, Valid MAE=53.0913]\n",
      "Epoch 14: 100%|██████████| 44/44 [00:02<00:00, 21.30it/s, Train Loss=5881.8836, Valid Loss=4898.3916, Valid R2=-0.0075, Valid MAE=52.8388]\n",
      "Epoch 15: 100%|██████████| 44/44 [00:02<00:00, 20.25it/s, Train Loss=5883.6776, Valid Loss=4893.8169, Valid R2=-0.0065, Valid MAE=52.7769]\n",
      "Epoch 16: 100%|██████████| 44/44 [00:02<00:00, 20.26it/s, Train Loss=5870.6631, Valid Loss=4899.5923, Valid R2=-0.0077, Valid MAE=53.0341]\n"
     ]
    },
    {
     "name": "stdout",
     "output_type": "stream",
     "text": [
      "Early Stopped\n",
      "Setting  14 of Parameters Grid is now on progres.\n"
     ]
    },
    {
     "name": "stderr",
     "output_type": "stream",
     "text": [
      "Epoch  0: 100%|██████████| 44/44 [00:02<00:00, 20.60it/s, Train Loss=15270.4755, Valid Loss=12214.8730, Valid R2=-1.5123, Valid MAE=85.7445]\n",
      "Epoch  1: 100%|██████████| 44/44 [00:02<00:00, 20.71it/s, Train Loss=13995.1817, Valid Loss=10371.1104, Valid R2=-1.1331, Valid MAE=74.5912]\n",
      "Epoch  2: 100%|██████████| 44/44 [00:02<00:00, 20.80it/s, Train Loss=11528.6917, Valid Loss=7963.6284, Valid R2=-0.6379, Valid MAE=60.6893]\n",
      "Epoch  3: 100%|██████████| 44/44 [00:02<00:00, 20.79it/s, Train Loss=8480.8906, Valid Loss=5532.5239, Valid R2=-0.1379, Valid MAE=49.9872]\n",
      "Epoch  4: 100%|██████████| 44/44 [00:02<00:00, 20.74it/s, Train Loss=6355.7911, Valid Loss=4873.6187, Valid R2=-0.0024, Valid MAE=50.6969]\n",
      "Epoch  5: 100%|██████████| 44/44 [00:02<00:00, 20.77it/s, Train Loss=5889.2956, Valid Loss=4902.9536, Valid R2=-0.0084, Valid MAE=52.8936]\n",
      "Epoch  6: 100%|██████████| 44/44 [00:02<00:00, 21.06it/s, Train Loss=5816.8575, Valid Loss=4932.5771, Valid R2=-0.0145, Valid MAE=53.5091]\n",
      "Epoch  7: 100%|██████████| 44/44 [00:02<00:00, 21.20it/s, Train Loss=5814.7626, Valid Loss=4942.8203, Valid R2=-0.0166, Valid MAE=53.8234]\n",
      "Epoch  8: 100%|██████████| 44/44 [00:02<00:00, 21.01it/s, Train Loss=5801.0481, Valid Loss=4892.1211, Valid R2=-0.0062, Valid MAE=52.7354]\n",
      "Epoch  9: 100%|██████████| 44/44 [00:02<00:00, 21.09it/s, Train Loss=5852.7329, Valid Loss=4881.0332, Valid R2=-0.0039, Valid MAE=52.7439]\n",
      "Epoch 10: 100%|██████████| 44/44 [00:02<00:00, 21.21it/s, Train Loss=5782.9569, Valid Loss=4897.2451, Valid R2=-0.0072, Valid MAE=53.2400]\n"
     ]
    },
    {
     "name": "stdout",
     "output_type": "stream",
     "text": [
      "Early Stopped\n",
      "Setting  15 of Parameters Grid is now on progres.\n"
     ]
    },
    {
     "name": "stderr",
     "output_type": "stream",
     "text": [
      "Epoch  0: 100%|██████████| 44/44 [00:02<00:00, 19.20it/s, Train Loss=15141.9479, Valid Loss=11988.3311, Valid R2=-1.4657, Valid MAE=84.4179]\n",
      "Epoch  1: 100%|██████████| 44/44 [00:02<00:00, 19.30it/s, Train Loss=13616.0044, Valid Loss=10202.5713, Valid R2=-1.0984, Valid MAE=73.5718]\n",
      "Epoch  2: 100%|██████████| 44/44 [00:01<00:00, 22.81it/s, Train Loss=11536.9972, Valid Loss=8001.6055, Valid R2=-0.6457, Valid MAE=60.8711]\n",
      "Epoch  3: 100%|██████████| 44/44 [00:01<00:00, 22.95it/s, Train Loss=8597.6793, Valid Loss=5702.5552, Valid R2=-0.1729, Valid MAE=50.4883]\n",
      "Epoch  4: 100%|██████████| 44/44 [00:02<00:00, 21.06it/s, Train Loss=6580.5653, Valid Loss=4924.5825, Valid R2=-0.0129, Valid MAE=50.0138]\n",
      "Epoch  5: 100%|██████████| 44/44 [00:02<00:00, 20.11it/s, Train Loss=6009.6079, Valid Loss=4880.3311, Valid R2=-0.0038, Valid MAE=52.2489]\n",
      "Epoch  6: 100%|██████████| 44/44 [00:02<00:00, 21.10it/s, Train Loss=5825.4042, Valid Loss=4915.2070, Valid R2=-0.0109, Valid MAE=53.1709]\n",
      "Epoch  7: 100%|██████████| 44/44 [00:02<00:00, 20.99it/s, Train Loss=5905.7093, Valid Loss=4929.2891, Valid R2=-0.0138, Valid MAE=53.4894]\n",
      "Epoch  8: 100%|██████████| 44/44 [00:02<00:00, 20.95it/s, Train Loss=5853.7003, Valid Loss=4929.2134, Valid R2=-0.0138, Valid MAE=53.4983]\n",
      "Epoch  9: 100%|██████████| 44/44 [00:02<00:00, 21.11it/s, Train Loss=5867.0158, Valid Loss=4934.8071, Valid R2=-0.0150, Valid MAE=53.5501]\n",
      "Epoch 10: 100%|██████████| 44/44 [00:02<00:00, 21.10it/s, Train Loss=5871.1398, Valid Loss=4926.3394, Valid R2=-0.0132, Valid MAE=53.4340]\n",
      "Epoch 11: 100%|██████████| 44/44 [00:02<00:00, 21.21it/s, Train Loss=5921.5623, Valid Loss=4937.4346, Valid R2=-0.0155, Valid MAE=53.6535]\n"
     ]
    },
    {
     "name": "stdout",
     "output_type": "stream",
     "text": [
      "Early Stopped\n",
      "Setting  16 of Parameters Grid is now on progres.\n"
     ]
    },
    {
     "name": "stderr",
     "output_type": "stream",
     "text": [
      "Epoch  0: 100%|██████████| 44/44 [00:02<00:00, 20.86it/s, Train Loss=15165.8162, Valid Loss=11913.9473, Valid R2=-1.4504, Valid MAE=83.9687]\n",
      "Epoch  1: 100%|██████████| 44/44 [00:02<00:00, 21.27it/s, Train Loss=13226.1240, Valid Loss=9480.7109, Valid R2=-0.9500, Valid MAE=69.1656]\n",
      "Epoch  2: 100%|██████████| 44/44 [00:02<00:00, 20.89it/s, Train Loss=10342.0079, Valid Loss=7097.6128, Valid R2=-0.4598, Valid MAE=56.3802]\n",
      "Epoch  3: 100%|██████████| 44/44 [00:02<00:00, 21.16it/s, Train Loss=7999.5267, Valid Loss=5602.0439, Valid R2=-0.1522, Valid MAE=50.2111]\n",
      "Epoch  4: 100%|██████████| 44/44 [00:01<00:00, 22.43it/s, Train Loss=6620.7158, Valid Loss=4979.6309, Valid R2=-0.0242, Valid MAE=49.7703]\n",
      "Epoch  5: 100%|██████████| 44/44 [00:01<00:00, 22.43it/s, Train Loss=6049.3232, Valid Loss=4864.1108, Valid R2=-0.0004, Valid MAE=51.1484]\n",
      "Epoch  6: 100%|██████████| 44/44 [00:01<00:00, 22.53it/s, Train Loss=5953.8204, Valid Loss=4882.2256, Valid R2=-0.0042, Valid MAE=52.3360]\n",
      "Epoch  7: 100%|██████████| 44/44 [00:02<00:00, 21.64it/s, Train Loss=5898.0299, Valid Loss=4905.4185, Valid R2=-0.0089, Valid MAE=52.9615]\n",
      "Epoch  8: 100%|██████████| 44/44 [00:02<00:00, 21.13it/s, Train Loss=5880.0951, Valid Loss=4919.9575, Valid R2=-0.0119, Valid MAE=53.2992]\n",
      "Epoch  9: 100%|██████████| 44/44 [00:02<00:00, 21.03it/s, Train Loss=5956.3297, Valid Loss=4922.8818, Valid R2=-0.0125, Valid MAE=53.3642]\n",
      "Epoch 10: 100%|██████████| 44/44 [00:02<00:00, 21.23it/s, Train Loss=5864.6718, Valid Loss=4926.7910, Valid R2=-0.0133, Valid MAE=53.4512]\n",
      "Epoch 11: 100%|██████████| 44/44 [00:02<00:00, 21.02it/s, Train Loss=5890.8776, Valid Loss=4919.3989, Valid R2=-0.0118, Valid MAE=53.2902]\n"
     ]
    },
    {
     "name": "stdout",
     "output_type": "stream",
     "text": [
      "Early Stopped\n",
      "Setting  17 of Parameters Grid is now on progres.\n"
     ]
    },
    {
     "name": "stderr",
     "output_type": "stream",
     "text": [
      "Epoch  0: 100%|██████████| 44/44 [00:02<00:00, 19.85it/s, Train Loss=14991.9733, Valid Loss=11576.6504, Valid R2=-1.3810, Valid MAE=81.9764]\n",
      "Epoch  1: 100%|██████████| 44/44 [00:02<00:00, 20.46it/s, Train Loss=12728.3553, Valid Loss=8952.9785, Valid R2=-0.8414, Valid MAE=66.0491]\n",
      "Epoch  2: 100%|██████████| 44/44 [00:02<00:00, 20.66it/s, Train Loss=9828.7520, Valid Loss=6663.2910, Valid R2=-0.3705, Valid MAE=54.2702]\n",
      "Epoch  3: 100%|██████████| 44/44 [00:02<00:00, 20.44it/s, Train Loss=7544.2377, Valid Loss=5309.0415, Valid R2=-0.0919, Valid MAE=49.4854]\n",
      "Epoch  4: 100%|██████████| 44/44 [00:02<00:00, 20.67it/s, Train Loss=6386.6865, Valid Loss=4896.7778, Valid R2=-0.0072, Valid MAE=50.1721]\n",
      "Epoch  5: 100%|██████████| 44/44 [00:02<00:00, 20.72it/s, Train Loss=5862.2065, Valid Loss=4907.8237, Valid R2=-0.0094, Valid MAE=53.1043]\n",
      "Epoch  6: 100%|██████████| 44/44 [00:02<00:00, 21.24it/s, Train Loss=5810.7161, Valid Loss=4928.8936, Valid R2=-0.0138, Valid MAE=53.1912]\n",
      "Epoch  7: 100%|██████████| 44/44 [00:02<00:00, 21.22it/s, Train Loss=5786.6456, Valid Loss=4921.7632, Valid R2=-0.0123, Valid MAE=53.9253]\n",
      "Epoch  8: 100%|██████████| 44/44 [00:02<00:00, 20.88it/s, Train Loss=5801.4452, Valid Loss=4867.2910, Valid R2=-0.0011, Valid MAE=52.2610]\n",
      "Epoch  9: 100%|██████████| 44/44 [00:02<00:00, 20.82it/s, Train Loss=5743.7104, Valid Loss=4779.8833, Valid R2=0.0169, Valid MAE=51.8891]\n",
      "Epoch 10: 100%|██████████| 44/44 [00:02<00:00, 20.94it/s, Train Loss=5673.6110, Valid Loss=4987.2041, Valid R2=-0.0258, Valid MAE=54.7465]\n",
      "Epoch 11: 100%|██████████| 44/44 [00:02<00:00, 21.15it/s, Train Loss=5690.0676, Valid Loss=4684.3818, Valid R2=0.0365, Valid MAE=50.3428]\n",
      "Epoch 12: 100%|██████████| 44/44 [00:02<00:00, 21.21it/s, Train Loss=5626.5946, Valid Loss=4745.8237, Valid R2=0.0239, Valid MAE=50.6501]\n",
      "Epoch 13: 100%|██████████| 44/44 [00:02<00:00, 21.04it/s, Train Loss=5479.9380, Valid Loss=4609.1895, Valid R2=0.0520, Valid MAE=51.1193]\n",
      "Epoch 14: 100%|██████████| 44/44 [00:02<00:00, 21.05it/s, Train Loss=5543.2751, Valid Loss=4704.1719, Valid R2=0.0325, Valid MAE=51.9940]\n",
      "Epoch 15: 100%|██████████| 44/44 [00:02<00:00, 20.95it/s, Train Loss=5459.0532, Valid Loss=4595.5933, Valid R2=0.0548, Valid MAE=49.3768]\n",
      "Epoch 16: 100%|██████████| 44/44 [00:02<00:00, 20.85it/s, Train Loss=5239.0934, Valid Loss=4556.8735, Valid R2=0.0628, Valid MAE=50.8238]\n",
      "Epoch 17: 100%|██████████| 44/44 [00:02<00:00, 21.05it/s, Train Loss=5169.8908, Valid Loss=4503.3198, Valid R2=0.0738, Valid MAE=50.2573]\n",
      "Epoch 18: 100%|██████████| 44/44 [00:02<00:00, 20.93it/s, Train Loss=5012.1204, Valid Loss=4521.0967, Valid R2=0.0701, Valid MAE=51.7041]\n",
      "Epoch 19: 100%|██████████| 44/44 [00:02<00:00, 21.26it/s, Train Loss=4957.0715, Valid Loss=4285.1733, Valid R2=0.1186, Valid MAE=49.9456]\n",
      "Epoch 20: 100%|██████████| 44/44 [00:02<00:00, 20.59it/s, Train Loss=4947.6704, Valid Loss=4471.4419, Valid R2=0.0803, Valid MAE=52.6829]\n",
      "Epoch 21: 100%|██████████| 44/44 [00:02<00:00, 20.77it/s, Train Loss=4969.6587, Valid Loss=4541.7383, Valid R2=0.0659, Valid MAE=51.5632]\n",
      "Epoch 22: 100%|██████████| 44/44 [00:02<00:00, 20.97it/s, Train Loss=5024.1938, Valid Loss=4475.0171, Valid R2=0.0796, Valid MAE=51.0348]\n",
      "Epoch 23: 100%|██████████| 44/44 [00:02<00:00, 20.96it/s, Train Loss=4922.8143, Valid Loss=4568.0728, Valid R2=0.0605, Valid MAE=52.4767]\n",
      "Epoch 24: 100%|██████████| 44/44 [00:02<00:00, 21.25it/s, Train Loss=4950.2211, Valid Loss=4462.0605, Valid R2=0.0823, Valid MAE=48.0954]\n",
      "Epoch 25: 100%|██████████| 44/44 [00:02<00:00, 21.25it/s, Train Loss=4843.5196, Valid Loss=4541.5762, Valid R2=0.0659, Valid MAE=51.3846]\n"
     ]
    },
    {
     "name": "stdout",
     "output_type": "stream",
     "text": [
      "Early Stopped\n",
      "Setting  18 of Parameters Grid is now on progres.\n"
     ]
    },
    {
     "name": "stderr",
     "output_type": "stream",
     "text": [
      "Epoch  0: 100%|██████████| 44/44 [00:02<00:00, 21.16it/s, Train Loss=14984.6278, Valid Loss=11536.3623, Valid R2=-1.3728, Valid MAE=81.6966]\n",
      "Epoch  1: 100%|██████████| 44/44 [00:02<00:00, 20.96it/s, Train Loss=12612.7234, Valid Loss=9154.1602, Valid R2=-0.8828, Valid MAE=67.2201]\n",
      "Epoch  2: 100%|██████████| 44/44 [00:02<00:00, 21.15it/s, Train Loss=10219.6135, Valid Loss=6898.9487, Valid R2=-0.4190, Valid MAE=55.4152]\n",
      "Epoch  3: 100%|██████████| 44/44 [00:02<00:00, 21.22it/s, Train Loss=7609.1801, Valid Loss=5233.3086, Valid R2=-0.0764, Valid MAE=49.4888]\n",
      "Epoch  4: 100%|██████████| 44/44 [00:02<00:00, 21.07it/s, Train Loss=6196.4053, Valid Loss=4866.9541, Valid R2=-0.0010, Valid MAE=50.9341]\n",
      "Epoch  5: 100%|██████████| 44/44 [00:02<00:00, 20.78it/s, Train Loss=5887.6817, Valid Loss=4898.9985, Valid R2=-0.0076, Valid MAE=52.7936]\n",
      "Epoch  6: 100%|██████████| 44/44 [00:02<00:00, 20.99it/s, Train Loss=5883.1460, Valid Loss=4923.7910, Valid R2=-0.0127, Valid MAE=53.3711]\n",
      "Epoch  7: 100%|██████████| 44/44 [00:02<00:00, 20.94it/s, Train Loss=5809.5255, Valid Loss=4937.0771, Valid R2=-0.0154, Valid MAE=53.6556]\n",
      "Epoch  8: 100%|██████████| 44/44 [00:02<00:00, 21.00it/s, Train Loss=5800.5432, Valid Loss=4949.2036, Valid R2=-0.0179, Valid MAE=53.8752]\n",
      "Epoch  9: 100%|██████████| 44/44 [00:02<00:00, 21.01it/s, Train Loss=5808.1589, Valid Loss=4931.4062, Valid R2=-0.0143, Valid MAE=53.6651]\n",
      "Epoch 10: 100%|██████████| 44/44 [00:02<00:00, 20.97it/s, Train Loss=5794.0076, Valid Loss=4872.6812, Valid R2=-0.0022, Valid MAE=52.6265]\n"
     ]
    },
    {
     "name": "stdout",
     "output_type": "stream",
     "text": [
      "Early Stopped\n",
      "Setting  19 of Parameters Grid is now on progres.\n"
     ]
    },
    {
     "name": "stderr",
     "output_type": "stream",
     "text": [
      "Epoch  0: 100%|██████████| 44/44 [00:02<00:00, 20.86it/s, Train Loss=15173.3247, Valid Loss=11713.4756, Valid R2=-1.4092, Valid MAE=82.7985]\n",
      "Epoch  1: 100%|██████████| 44/44 [00:02<00:00, 20.99it/s, Train Loss=12142.2893, Valid Loss=8076.5410, Valid R2=-0.6612, Valid MAE=61.2667]\n",
      "Epoch  2: 100%|██████████| 44/44 [00:01<00:00, 22.32it/s, Train Loss=8697.9128, Valid Loss=5849.0967, Valid R2=-0.2030, Valid MAE=50.9870]\n",
      "Epoch  3: 100%|██████████| 44/44 [00:02<00:00, 20.99it/s, Train Loss=6740.0734, Valid Loss=4993.3003, Valid R2=-0.0270, Valid MAE=49.7133]\n",
      "Epoch  4: 100%|██████████| 44/44 [00:02<00:00, 21.23it/s, Train Loss=5992.3949, Valid Loss=4869.0337, Valid R2=-0.0014, Valid MAE=51.7080]\n",
      "Epoch  5: 100%|██████████| 44/44 [00:02<00:00, 21.09it/s, Train Loss=5870.6705, Valid Loss=4916.7695, Valid R2=-0.0113, Valid MAE=53.1660]\n",
      "Epoch  6: 100%|██████████| 44/44 [00:02<00:00, 21.61it/s, Train Loss=5769.0694, Valid Loss=4926.0049, Valid R2=-0.0132, Valid MAE=53.3942]\n",
      "Epoch  7: 100%|██████████| 44/44 [00:02<00:00, 20.98it/s, Train Loss=5807.2703, Valid Loss=4939.5176, Valid R2=-0.0159, Valid MAE=53.7012]\n",
      "Epoch  8: 100%|██████████| 44/44 [00:02<00:00, 21.36it/s, Train Loss=5780.7319, Valid Loss=4952.5425, Valid R2=-0.0186, Valid MAE=53.9182]\n",
      "Epoch  9: 100%|██████████| 44/44 [00:02<00:00, 21.20it/s, Train Loss=5769.1426, Valid Loss=4869.0547, Valid R2=-0.0015, Valid MAE=52.4927]\n",
      "Epoch 10: 100%|██████████| 44/44 [00:02<00:00, 21.31it/s, Train Loss=5791.1200, Valid Loss=4869.6318, Valid R2=-0.0016, Valid MAE=53.2201]\n"
     ]
    },
    {
     "name": "stdout",
     "output_type": "stream",
     "text": [
      "Early Stopped\n",
      "Setting  20 of Parameters Grid is now on progres.\n"
     ]
    },
    {
     "name": "stderr",
     "output_type": "stream",
     "text": [
      "Epoch  0: 100%|██████████| 44/44 [00:02<00:00, 20.62it/s, Train Loss=15065.1297, Valid Loss=11550.8350, Valid R2=-1.3757, Valid MAE=81.7985]\n",
      "Epoch  1: 100%|██████████| 44/44 [00:02<00:00, 20.94it/s, Train Loss=11843.4164, Valid Loss=7740.7837, Valid R2=-0.5921, Valid MAE=59.5611]\n",
      "Epoch  2: 100%|██████████| 44/44 [00:02<00:00, 21.16it/s, Train Loss=8010.6814, Valid Loss=5299.7451, Valid R2=-0.0900, Valid MAE=49.5199]\n",
      "Epoch  3: 100%|██████████| 44/44 [00:02<00:00, 21.18it/s, Train Loss=6180.6740, Valid Loss=4866.2764, Valid R2=-0.0009, Valid MAE=51.4968]\n",
      "Epoch  4: 100%|██████████| 44/44 [00:02<00:00, 20.92it/s, Train Loss=5796.9971, Valid Loss=4930.9209, Valid R2=-0.0142, Valid MAE=53.5020]\n",
      "Epoch  5: 100%|██████████| 44/44 [00:02<00:00, 21.15it/s, Train Loss=5792.3187, Valid Loss=4934.5049, Valid R2=-0.0149, Valid MAE=53.5803]\n",
      "Epoch  6: 100%|██████████| 44/44 [00:02<00:00, 21.10it/s, Train Loss=5794.9381, Valid Loss=4950.6021, Valid R2=-0.0182, Valid MAE=53.8475]\n",
      "Epoch  7: 100%|██████████| 44/44 [00:02<00:00, 20.76it/s, Train Loss=5804.9848, Valid Loss=4959.8047, Valid R2=-0.0201, Valid MAE=53.9724]\n",
      "Epoch  8: 100%|██████████| 44/44 [00:02<00:00, 20.94it/s, Train Loss=5772.0104, Valid Loss=4933.6250, Valid R2=-0.0147, Valid MAE=53.6382]\n",
      "Epoch  9: 100%|██████████| 44/44 [00:02<00:00, 21.24it/s, Train Loss=5798.7763, Valid Loss=4925.0522, Valid R2=-0.0130, Valid MAE=53.3797]\n"
     ]
    },
    {
     "name": "stdout",
     "output_type": "stream",
     "text": [
      "Early Stopped\n",
      "Setting  21 of Parameters Grid is now on progres.\n"
     ]
    },
    {
     "name": "stderr",
     "output_type": "stream",
     "text": [
      "Epoch  0: 100%|██████████| 44/44 [00:02<00:00, 20.92it/s, Train Loss=15038.9804, Valid Loss=11200.8252, Valid R2=-1.3037, Valid MAE=79.6647]\n",
      "Epoch  1: 100%|██████████| 44/44 [00:02<00:00, 20.89it/s, Train Loss=11965.5443, Valid Loss=8260.1846, Valid R2=-0.6989, Valid MAE=62.2297]\n",
      "Epoch  2: 100%|██████████| 44/44 [00:02<00:00, 20.99it/s, Train Loss=8943.4651, Valid Loss=5911.0869, Valid R2=-0.2158, Valid MAE=51.2171]\n",
      "Epoch  3: 100%|██████████| 44/44 [00:02<00:00, 21.24it/s, Train Loss=6724.4710, Valid Loss=4929.1201, Valid R2=-0.0138, Valid MAE=50.0160]\n",
      "Epoch  4: 100%|██████████| 44/44 [00:02<00:00, 20.91it/s, Train Loss=5914.0949, Valid Loss=4894.2485, Valid R2=-0.0066, Valid MAE=52.6529]\n",
      "Epoch  5: 100%|██████████| 44/44 [00:02<00:00, 21.05it/s, Train Loss=5911.1982, Valid Loss=4927.9272, Valid R2=-0.0136, Valid MAE=53.4908]\n",
      "Epoch  6: 100%|██████████| 44/44 [00:02<00:00, 21.09it/s, Train Loss=5863.6220, Valid Loss=4961.5811, Valid R2=-0.0205, Valid MAE=54.1426]\n",
      "Epoch  7: 100%|██████████| 44/44 [00:02<00:00, 21.13it/s, Train Loss=5824.6305, Valid Loss=4901.5576, Valid R2=-0.0081, Valid MAE=53.2232]\n",
      "Epoch  8: 100%|██████████| 44/44 [00:02<00:00, 21.28it/s, Train Loss=5687.0033, Valid Loss=4911.9941, Valid R2=-0.0103, Valid MAE=53.4615]\n",
      "Epoch  9: 100%|██████████| 44/44 [00:02<00:00, 20.82it/s, Train Loss=5722.4590, Valid Loss=4847.6299, Valid R2=0.0030, Valid MAE=52.5321]\n",
      "Epoch 10: 100%|██████████| 44/44 [00:02<00:00, 21.15it/s, Train Loss=5692.8908, Valid Loss=4841.4395, Valid R2=0.0042, Valid MAE=53.0559]\n",
      "Epoch 11: 100%|██████████| 44/44 [00:02<00:00, 21.07it/s, Train Loss=5486.1750, Valid Loss=4876.3594, Valid R2=-0.0030, Valid MAE=54.5048]\n",
      "Epoch 12: 100%|██████████| 44/44 [00:02<00:00, 20.97it/s, Train Loss=5388.6828, Valid Loss=4536.2334, Valid R2=0.0670, Valid MAE=50.1872]\n",
      "Epoch 13: 100%|██████████| 44/44 [00:02<00:00, 21.22it/s, Train Loss=5360.0870, Valid Loss=4775.9990, Valid R2=0.0177, Valid MAE=54.6786]\n",
      "Epoch 14: 100%|██████████| 44/44 [00:02<00:00, 21.37it/s, Train Loss=5206.4838, Valid Loss=4593.7578, Valid R2=0.0552, Valid MAE=53.9797]\n",
      "Epoch 15: 100%|██████████| 44/44 [00:02<00:00, 20.19it/s, Train Loss=5076.0962, Valid Loss=4912.3213, Valid R2=-0.0103, Valid MAE=56.6898]\n",
      "Epoch 16: 100%|██████████| 44/44 [00:02<00:00, 20.82it/s, Train Loss=5156.4340, Valid Loss=4313.2388, Valid R2=0.1129, Valid MAE=48.9916]\n",
      "Epoch 17: 100%|██████████| 44/44 [00:02<00:00, 21.03it/s, Train Loss=4842.3741, Valid Loss=4258.8726, Valid R2=0.1240, Valid MAE=50.8032]\n",
      "Epoch 18: 100%|██████████| 44/44 [00:02<00:00, 20.91it/s, Train Loss=4650.9585, Valid Loss=4043.3293, Valid R2=0.1684, Valid MAE=45.2472]\n",
      "Epoch 19: 100%|██████████| 44/44 [00:02<00:00, 20.57it/s, Train Loss=4297.4748, Valid Loss=3862.1135, Valid R2=0.2057, Valid MAE=48.4811]\n",
      "Epoch 20: 100%|██████████| 44/44 [00:02<00:00, 20.74it/s, Train Loss=4190.5935, Valid Loss=4202.9399, Valid R2=0.1356, Valid MAE=50.2931]\n",
      "Epoch 21: 100%|██████████| 44/44 [00:02<00:00, 21.17it/s, Train Loss=4091.7815, Valid Loss=4076.4856, Valid R2=0.1616, Valid MAE=48.7610]\n",
      "Epoch 22: 100%|██████████| 44/44 [00:02<00:00, 21.36it/s, Train Loss=4142.7078, Valid Loss=4180.9102, Valid R2=0.1401, Valid MAE=49.7514]\n",
      "Epoch 23: 100%|██████████| 44/44 [00:02<00:00, 20.86it/s, Train Loss=3982.2928, Valid Loss=3905.6790, Valid R2=0.1967, Valid MAE=46.5118]\n",
      "Epoch 24: 100%|██████████| 44/44 [00:02<00:00, 21.28it/s, Train Loss=3934.4568, Valid Loss=4099.1929, Valid R2=0.1569, Valid MAE=49.2216]\n",
      "Epoch 25: 100%|██████████| 44/44 [00:02<00:00, 20.90it/s, Train Loss=3711.4608, Valid Loss=4229.5098, Valid R2=0.1301, Valid MAE=49.5005]\n"
     ]
    },
    {
     "name": "stdout",
     "output_type": "stream",
     "text": [
      "Early Stopped\n",
      "Setting  22 of Parameters Grid is now on progres.\n"
     ]
    },
    {
     "name": "stderr",
     "output_type": "stream",
     "text": [
      "Epoch  0: 100%|██████████| 44/44 [00:02<00:00, 20.93it/s, Train Loss=14609.7176, Valid Loss=10409.3037, Valid R2=-1.1409, Valid MAE=74.8135]\n",
      "Epoch  1: 100%|██████████| 44/44 [00:02<00:00, 20.76it/s, Train Loss=11050.7364, Valid Loss=7481.3740, Valid R2=-0.5387, Valid MAE=58.2813]\n",
      "Epoch  2: 100%|██████████| 44/44 [00:02<00:00, 20.74it/s, Train Loss=8218.5154, Valid Loss=5547.3950, Valid R2=-0.1410, Valid MAE=50.0339]\n",
      "Epoch  3: 100%|██████████| 44/44 [00:02<00:00, 20.81it/s, Train Loss=6466.6076, Valid Loss=4893.2139, Valid R2=-0.0064, Valid MAE=50.2597]\n",
      "Epoch  4: 100%|██████████| 44/44 [00:02<00:00, 20.30it/s, Train Loss=5911.7003, Valid Loss=4886.9116, Valid R2=-0.0051, Valid MAE=52.5148]\n",
      "Epoch  5: 100%|██████████| 44/44 [00:02<00:00, 20.23it/s, Train Loss=5794.0213, Valid Loss=4921.5063, Valid R2=-0.0122, Valid MAE=53.3655]\n",
      "Epoch  6: 100%|██████████| 44/44 [00:02<00:00, 20.47it/s, Train Loss=5808.3711, Valid Loss=4927.5933, Valid R2=-0.0135, Valid MAE=53.5139]\n",
      "Epoch  7: 100%|██████████| 44/44 [00:02<00:00, 20.47it/s, Train Loss=5760.5400, Valid Loss=4898.4829, Valid R2=-0.0075, Valid MAE=53.1864]\n",
      "Epoch  8: 100%|██████████| 44/44 [00:02<00:00, 21.15it/s, Train Loss=5782.9125, Valid Loss=4866.2012, Valid R2=-0.0009, Valid MAE=51.9925]\n",
      "Epoch  9: 100%|██████████| 44/44 [00:02<00:00, 21.49it/s, Train Loss=5783.9457, Valid Loss=4870.8730, Valid R2=-0.0018, Valid MAE=52.9064]\n",
      "Epoch 10: 100%|██████████| 44/44 [00:02<00:00, 20.94it/s, Train Loss=5735.5381, Valid Loss=4869.5815, Valid R2=-0.0016, Valid MAE=53.0226]\n",
      "Epoch 11: 100%|██████████| 44/44 [00:02<00:00, 21.26it/s, Train Loss=5663.0777, Valid Loss=4823.9761, Valid R2=0.0078, Valid MAE=52.5599]\n",
      "Epoch 12: 100%|██████████| 44/44 [00:02<00:00, 21.22it/s, Train Loss=5644.8109, Valid Loss=4750.6006, Valid R2=0.0229, Valid MAE=51.6549]\n",
      "Epoch 13: 100%|██████████| 44/44 [00:02<00:00, 20.76it/s, Train Loss=5459.9557, Valid Loss=4736.1157, Valid R2=0.0259, Valid MAE=50.9946]\n",
      "Epoch 14: 100%|██████████| 44/44 [00:02<00:00, 20.76it/s, Train Loss=5405.0479, Valid Loss=4715.9326, Valid R2=0.0300, Valid MAE=51.3235]\n",
      "Epoch 15: 100%|██████████| 44/44 [00:02<00:00, 21.07it/s, Train Loss=5452.6131, Valid Loss=4599.5264, Valid R2=0.0540, Valid MAE=51.6777]\n",
      "Epoch 16: 100%|██████████| 44/44 [00:02<00:00, 21.00it/s, Train Loss=5426.8601, Valid Loss=4666.4648, Valid R2=0.0402, Valid MAE=52.3200]\n",
      "Epoch 17: 100%|██████████| 44/44 [00:02<00:00, 21.17it/s, Train Loss=5463.7572, Valid Loss=4535.5508, Valid R2=0.0671, Valid MAE=50.3739]\n",
      "Epoch 18: 100%|██████████| 44/44 [00:02<00:00, 20.75it/s, Train Loss=5379.5458, Valid Loss=4566.9487, Valid R2=0.0607, Valid MAE=52.4927]\n",
      "Epoch 19: 100%|██████████| 44/44 [00:02<00:00, 21.13it/s, Train Loss=5288.2056, Valid Loss=4465.4795, Valid R2=0.0816, Valid MAE=50.3911]\n",
      "Epoch 20: 100%|██████████| 44/44 [00:02<00:00, 20.93it/s, Train Loss=5026.9247, Valid Loss=4777.3589, Valid R2=0.0174, Valid MAE=48.0127]\n",
      "Epoch 21: 100%|██████████| 44/44 [00:02<00:00, 21.22it/s, Train Loss=5234.5364, Valid Loss=4520.8896, Valid R2=0.0702, Valid MAE=52.2513]\n",
      "Epoch 22: 100%|██████████| 44/44 [00:02<00:00, 21.14it/s, Train Loss=4845.3959, Valid Loss=4314.9644, Valid R2=0.1125, Valid MAE=50.4901]\n",
      "Epoch 23: 100%|██████████| 44/44 [00:02<00:00, 21.09it/s, Train Loss=4740.3056, Valid Loss=4205.3467, Valid R2=0.1351, Valid MAE=49.0499]\n",
      "Epoch 24: 100%|██████████| 44/44 [00:02<00:00, 20.54it/s, Train Loss=4530.0377, Valid Loss=4781.9365, Valid R2=0.0165, Valid MAE=55.5641]\n",
      "Epoch 25: 100%|██████████| 44/44 [00:02<00:00, 21.21it/s, Train Loss=4466.3568, Valid Loss=4018.3018, Valid R2=0.1735, Valid MAE=47.5590]\n",
      "Epoch 26: 100%|██████████| 44/44 [00:02<00:00, 20.32it/s, Train Loss=4169.1448, Valid Loss=4047.2632, Valid R2=0.1676, Valid MAE=47.2785]\n",
      "Epoch 27: 100%|██████████| 44/44 [00:02<00:00, 20.69it/s, Train Loss=4156.2939, Valid Loss=4012.6602, Valid R2=0.1747, Valid MAE=48.8933]\n",
      "Epoch 28: 100%|██████████| 44/44 [00:02<00:00, 20.73it/s, Train Loss=4178.3550, Valid Loss=4130.6387, Valid R2=0.1504, Valid MAE=49.9794]\n",
      "Epoch 29: 100%|██████████| 44/44 [00:02<00:00, 19.45it/s, Train Loss=3842.4106, Valid Loss=4101.4292, Valid R2=0.1564, Valid MAE=49.1688]\n",
      "Epoch 30: 100%|██████████| 44/44 [00:02<00:00, 21.03it/s, Train Loss=4070.1665, Valid Loss=3914.2319, Valid R2=0.1949, Valid MAE=44.2177]\n",
      "Epoch 31: 100%|██████████| 44/44 [00:02<00:00, 21.18it/s, Train Loss=4068.0575, Valid Loss=3991.8374, Valid R2=0.1790, Valid MAE=48.0217]\n",
      "Epoch 32: 100%|██████████| 44/44 [00:02<00:00, 21.00it/s, Train Loss=4331.2190, Valid Loss=4534.0820, Valid R2=0.0674, Valid MAE=54.3271]\n",
      "Epoch 33: 100%|██████████| 44/44 [00:02<00:00, 20.85it/s, Train Loss=3783.4272, Valid Loss=3769.6050, Valid R2=0.2247, Valid MAE=45.6353]\n",
      "Epoch 34: 100%|██████████| 44/44 [00:02<00:00, 20.87it/s, Train Loss=3394.9293, Valid Loss=3842.2979, Valid R2=0.2097, Valid MAE=48.3506]\n",
      "Epoch 35: 100%|██████████| 44/44 [00:02<00:00, 20.19it/s, Train Loss=3313.2719, Valid Loss=3635.8931, Valid R2=0.2522, Valid MAE=44.1808]\n",
      "Epoch 36: 100%|██████████| 44/44 [00:02<00:00, 20.31it/s, Train Loss=3242.7406, Valid Loss=3686.6895, Valid R2=0.2417, Valid MAE=47.7295]\n",
      "Epoch 37: 100%|██████████| 44/44 [00:02<00:00, 20.20it/s, Train Loss=3094.3837, Valid Loss=4314.7637, Valid R2=0.1126, Valid MAE=52.7871]\n",
      "Epoch 38: 100%|██████████| 44/44 [00:02<00:00, 20.64it/s, Train Loss=2907.6081, Valid Loss=3723.0310, Valid R2=0.2343, Valid MAE=46.7710]\n",
      "Epoch 39: 100%|██████████| 44/44 [00:02<00:00, 21.03it/s, Train Loss=2850.9592, Valid Loss=4210.0376, Valid R2=0.1341, Valid MAE=50.5312]\n",
      "Epoch 40: 100%|██████████| 44/44 [00:02<00:00, 20.76it/s, Train Loss=3023.9374, Valid Loss=3999.4983, Valid R2=0.1774, Valid MAE=49.7822]\n",
      "Epoch 41: 100%|██████████| 44/44 [00:02<00:00, 21.12it/s, Train Loss=2816.7357, Valid Loss=4659.2642, Valid R2=0.0417, Valid MAE=53.5441]\n"
     ]
    },
    {
     "name": "stdout",
     "output_type": "stream",
     "text": [
      "Early Stopped\n",
      "Setting  23 of Parameters Grid is now on progres.\n"
     ]
    },
    {
     "name": "stderr",
     "output_type": "stream",
     "text": [
      "Epoch  0: 100%|██████████| 44/44 [00:02<00:00, 21.01it/s, Train Loss=14637.9871, Valid Loss=10406.4775, Valid R2=-1.1404, Valid MAE=74.7976]\n",
      "Epoch  1: 100%|██████████| 44/44 [00:02<00:00, 20.91it/s, Train Loss=10714.8600, Valid Loss=7064.2744, Valid R2=-0.4530, Valid MAE=56.2291]\n",
      "Epoch  2: 100%|██████████| 44/44 [00:02<00:00, 20.53it/s, Train Loss=7890.9527, Valid Loss=5529.7827, Valid R2=-0.1373, Valid MAE=49.9814]\n",
      "Epoch  3: 100%|██████████| 44/44 [00:02<00:00, 20.78it/s, Train Loss=6565.0158, Valid Loss=4969.8247, Valid R2=-0.0222, Valid MAE=49.7649]\n",
      "Epoch  4: 100%|██████████| 44/44 [00:02<00:00, 20.64it/s, Train Loss=5999.3411, Valid Loss=4861.8906, Valid R2=0.0000, Valid MAE=51.2043]\n",
      "Epoch  5: 100%|██████████| 44/44 [00:02<00:00, 20.48it/s, Train Loss=5820.5739, Valid Loss=4889.6968, Valid R2=-0.0057, Valid MAE=52.5371]\n",
      "Epoch  6: 100%|██████████| 44/44 [00:02<00:00, 20.67it/s, Train Loss=5779.6678, Valid Loss=4930.8936, Valid R2=-0.0142, Valid MAE=53.5427]\n",
      "Epoch  7: 100%|██████████| 44/44 [00:02<00:00, 20.47it/s, Train Loss=5804.3974, Valid Loss=4922.9941, Valid R2=-0.0125, Valid MAE=53.4329]\n",
      "Epoch  8: 100%|██████████| 44/44 [00:02<00:00, 20.85it/s, Train Loss=5765.7125, Valid Loss=4934.2974, Valid R2=-0.0149, Valid MAE=53.6128]\n",
      "Epoch  9: 100%|██████████| 44/44 [00:02<00:00, 19.92it/s, Train Loss=5801.5169, Valid Loss=4900.8813, Valid R2=-0.0080, Valid MAE=53.2203]\n",
      "Epoch 10: 100%|██████████| 44/44 [00:02<00:00, 19.27it/s, Train Loss=5741.5258, Valid Loss=4920.0337, Valid R2=-0.0119, Valid MAE=53.6406]\n"
     ]
    },
    {
     "name": "stdout",
     "output_type": "stream",
     "text": [
      "Early Stopped\n",
      "Setting  24 of Parameters Grid is now on progres.\n"
     ]
    },
    {
     "name": "stderr",
     "output_type": "stream",
     "text": [
      "Epoch  0: 100%|██████████| 44/44 [00:02<00:00, 21.06it/s, Train Loss=15151.1931, Valid Loss=12096.2627, Valid R2=-1.4879, Valid MAE=85.0487]\n",
      "Epoch  1: 100%|██████████| 44/44 [00:02<00:00, 21.10it/s, Train Loss=13790.6326, Valid Loss=10078.0625, Valid R2=-1.0728, Valid MAE=72.8277]\n",
      "Epoch  2: 100%|██████████| 44/44 [00:02<00:00, 21.07it/s, Train Loss=10128.3173, Valid Loss=6336.5566, Valid R2=-0.3033, Valid MAE=52.8825]\n",
      "Epoch  3: 100%|██████████| 44/44 [00:01<00:00, 22.77it/s, Train Loss=6864.3832, Valid Loss=4861.3174, Valid R2=0.0001, Valid MAE=50.6153]\n",
      "Epoch  4: 100%|██████████| 44/44 [00:02<00:00, 21.97it/s, Train Loss=5880.5237, Valid Loss=4932.6807, Valid R2=-0.0145, Valid MAE=53.5354]\n",
      "Epoch  5: 100%|██████████| 44/44 [00:02<00:00, 21.20it/s, Train Loss=5784.5654, Valid Loss=4934.5791, Valid R2=-0.0149, Valid MAE=53.6061]\n",
      "Epoch  6: 100%|██████████| 44/44 [00:02<00:00, 21.37it/s, Train Loss=5883.2322, Valid Loss=4903.4795, Valid R2=-0.0085, Valid MAE=53.0344]\n",
      "Epoch  7: 100%|██████████| 44/44 [00:01<00:00, 22.90it/s, Train Loss=5828.5578, Valid Loss=4948.3022, Valid R2=-0.0177, Valid MAE=53.9319]\n",
      "Epoch  8: 100%|██████████| 44/44 [00:02<00:00, 21.77it/s, Train Loss=5864.6092, Valid Loss=4927.1436, Valid R2=-0.0134, Valid MAE=53.5664]\n",
      "Epoch  9: 100%|██████████| 44/44 [00:02<00:00, 21.06it/s, Train Loss=5892.4003, Valid Loss=4925.1763, Valid R2=-0.0130, Valid MAE=53.5594]\n"
     ]
    },
    {
     "name": "stdout",
     "output_type": "stream",
     "text": [
      "Early Stopped\n",
      "Setting  25 of Parameters Grid is now on progres.\n"
     ]
    },
    {
     "name": "stderr",
     "output_type": "stream",
     "text": [
      "Epoch  0: 100%|██████████| 44/44 [00:02<00:00, 21.22it/s, Train Loss=15114.7895, Valid Loss=11849.5879, Valid R2=-1.4372, Valid MAE=83.6033]\n",
      "Epoch  1: 100%|██████████| 44/44 [00:02<00:00, 21.10it/s, Train Loss=13008.0266, Valid Loss=8896.9150, Valid R2=-0.8299, Valid MAE=65.7239]\n",
      "Epoch  2: 100%|██████████| 44/44 [00:02<00:00, 20.81it/s, Train Loss=9171.8323, Valid Loss=5837.4468, Valid R2=-0.2006, Valid MAE=50.9460]\n",
      "Epoch  3: 100%|██████████| 44/44 [00:02<00:00, 20.98it/s, Train Loss=6534.1536, Valid Loss=4887.4614, Valid R2=-0.0052, Valid MAE=50.4449]\n",
      "Epoch  4: 100%|██████████| 44/44 [00:02<00:00, 20.97it/s, Train Loss=5912.7995, Valid Loss=4909.0649, Valid R2=-0.0097, Valid MAE=53.0116]\n",
      "Epoch  5: 100%|██████████| 44/44 [00:02<00:00, 20.93it/s, Train Loss=5813.7548, Valid Loss=4937.2935, Valid R2=-0.0155, Valid MAE=53.6345]\n",
      "Epoch  6: 100%|██████████| 44/44 [00:02<00:00, 21.16it/s, Train Loss=5849.7966, Valid Loss=4936.7549, Valid R2=-0.0154, Valid MAE=53.6051]\n",
      "Epoch  7: 100%|██████████| 44/44 [00:02<00:00, 20.73it/s, Train Loss=5860.2781, Valid Loss=4962.5444, Valid R2=-0.0207, Valid MAE=54.0519]\n",
      "Epoch  8: 100%|██████████| 44/44 [00:02<00:00, 20.17it/s, Train Loss=5839.6072, Valid Loss=4956.6914, Valid R2=-0.0195, Valid MAE=54.0026]\n",
      "Epoch  9: 100%|██████████| 44/44 [00:02<00:00, 20.04it/s, Train Loss=5856.8606, Valid Loss=4939.9214, Valid R2=-0.0160, Valid MAE=53.6111]\n"
     ]
    },
    {
     "name": "stdout",
     "output_type": "stream",
     "text": [
      "Early Stopped\n",
      "Setting  26 of Parameters Grid is now on progres.\n"
     ]
    },
    {
     "name": "stderr",
     "output_type": "stream",
     "text": [
      "Epoch  0: 100%|██████████| 44/44 [00:02<00:00, 20.65it/s, Train Loss=15111.8357, Valid Loss=11889.7158, Valid R2=-1.4454, Valid MAE=83.8305]\n",
      "Epoch  1: 100%|██████████| 44/44 [00:02<00:00, 22.00it/s, Train Loss=13578.6264, Valid Loss=10080.3936, Valid R2=-1.0733, Valid MAE=72.8366]\n",
      "Epoch  2: 100%|██████████| 44/44 [00:02<00:00, 21.84it/s, Train Loss=11120.8464, Valid Loss=7391.8311, Valid R2=-0.5203, Valid MAE=57.8454]\n",
      "Epoch  3: 100%|██████████| 44/44 [00:02<00:00, 19.26it/s, Train Loss=7899.7332, Valid Loss=5235.9805, Valid R2=-0.0769, Valid MAE=49.4907]\n",
      "Epoch  4: 100%|██████████| 44/44 [00:02<00:00, 20.55it/s, Train Loss=6210.2353, Valid Loss=4863.3809, Valid R2=-0.0003, Valid MAE=51.3709]\n",
      "Epoch  5: 100%|██████████| 44/44 [00:02<00:00, 20.88it/s, Train Loss=5852.8197, Valid Loss=4924.4814, Valid R2=-0.0129, Valid MAE=53.3753]\n",
      "Epoch  6: 100%|██████████| 44/44 [00:02<00:00, 21.30it/s, Train Loss=5876.6378, Valid Loss=4931.7524, Valid R2=-0.0143, Valid MAE=53.4657]\n",
      "Epoch  7: 100%|██████████| 44/44 [00:02<00:00, 21.21it/s, Train Loss=5899.3416, Valid Loss=4938.3589, Valid R2=-0.0157, Valid MAE=53.6266]\n",
      "Epoch  8: 100%|██████████| 44/44 [00:02<00:00, 20.96it/s, Train Loss=5808.1842, Valid Loss=4923.4805, Valid R2=-0.0126, Valid MAE=53.3882]\n",
      "Epoch  9: 100%|██████████| 44/44 [00:02<00:00, 20.15it/s, Train Loss=5884.8926, Valid Loss=4939.4043, Valid R2=-0.0159, Valid MAE=53.7392]\n",
      "Epoch 10: 100%|██████████| 44/44 [00:02<00:00, 20.26it/s, Train Loss=5940.6061, Valid Loss=4914.2710, Valid R2=-0.0108, Valid MAE=53.1789]\n"
     ]
    },
    {
     "name": "stdout",
     "output_type": "stream",
     "text": [
      "Early Stopped\n",
      "Setting  27 of Parameters Grid is now on progres.\n"
     ]
    },
    {
     "name": "stderr",
     "output_type": "stream",
     "text": [
      "Epoch  0: 100%|██████████| 44/44 [00:02<00:00, 20.61it/s, Train Loss=15167.4026, Valid Loss=11922.3223, Valid R2=-1.4521, Valid MAE=84.0258]\n",
      "Epoch  1: 100%|██████████| 44/44 [00:02<00:00, 21.04it/s, Train Loss=13338.5723, Valid Loss=9555.6934, Valid R2=-0.9654, Valid MAE=69.6321]\n",
      "Epoch  2: 100%|██████████| 44/44 [00:02<00:00, 20.72it/s, Train Loss=10241.9737, Valid Loss=6790.5239, Valid R2=-0.3967, Valid MAE=54.8783]\n",
      "Epoch  3: 100%|██████████| 44/44 [00:02<00:00, 20.85it/s, Train Loss=7446.0480, Valid Loss=5221.0942, Valid R2=-0.0739, Valid MAE=49.4956]\n",
      "Epoch  4: 100%|██████████| 44/44 [00:02<00:00, 20.99it/s, Train Loss=6202.3010, Valid Loss=4868.5786, Valid R2=-0.0014, Valid MAE=50.8974]\n",
      "Epoch  5: 100%|██████████| 44/44 [00:02<00:00, 21.32it/s, Train Loss=5890.7597, Valid Loss=4897.9351, Valid R2=-0.0074, Valid MAE=52.7540]\n",
      "Epoch  6: 100%|██████████| 44/44 [00:01<00:00, 22.92it/s, Train Loss=5929.5869, Valid Loss=4913.6611, Valid R2=-0.0106, Valid MAE=53.1362]\n",
      "Epoch  7: 100%|██████████| 44/44 [00:02<00:00, 21.53it/s, Train Loss=5815.2165, Valid Loss=4922.7749, Valid R2=-0.0125, Valid MAE=53.3428]\n",
      "Epoch  8: 100%|██████████| 44/44 [00:02<00:00, 19.08it/s, Train Loss=5816.3059, Valid Loss=4945.1660, Valid R2=-0.0171, Valid MAE=53.7987]\n",
      "Epoch  9: 100%|██████████| 44/44 [00:02<00:00, 20.48it/s, Train Loss=5846.8266, Valid Loss=4943.4297, Valid R2=-0.0167, Valid MAE=53.7691]\n",
      "Epoch 10: 100%|██████████| 44/44 [00:02<00:00, 21.29it/s, Train Loss=5882.1301, Valid Loss=4938.1963, Valid R2=-0.0157, Valid MAE=53.6784]\n"
     ]
    },
    {
     "name": "stdout",
     "output_type": "stream",
     "text": [
      "Early Stopped\n",
      "Setting  28 of Parameters Grid is now on progres.\n"
     ]
    },
    {
     "name": "stderr",
     "output_type": "stream",
     "text": [
      "Epoch  0: 100%|██████████| 44/44 [00:01<00:00, 22.16it/s, Train Loss=14882.3321, Valid Loss=11386.8467, Valid R2=-1.3420, Valid MAE=80.7990]\n",
      "Epoch  1: 100%|██████████| 44/44 [00:02<00:00, 21.26it/s, Train Loss=12861.8027, Valid Loss=9446.8838, Valid R2=-0.9430, Valid MAE=68.9890]\n",
      "Epoch  2: 100%|██████████| 44/44 [00:02<00:00, 20.89it/s, Train Loss=10631.6058, Valid Loss=7472.3511, Valid R2=-0.5369, Valid MAE=58.2340]\n",
      "Epoch  3: 100%|██████████| 44/44 [00:02<00:00, 20.79it/s, Train Loss=8386.7384, Valid Loss=5843.7642, Valid R2=-0.2019, Valid MAE=50.9772]\n",
      "Epoch  4: 100%|██████████| 44/44 [00:02<00:00, 21.11it/s, Train Loss=6979.0867, Valid Loss=5093.8364, Valid R2=-0.0477, Valid MAE=49.5601]\n",
      "Epoch  5: 100%|██████████| 44/44 [00:02<00:00, 20.93it/s, Train Loss=6135.0805, Valid Loss=4872.3213, Valid R2=-0.0021, Valid MAE=50.6828]\n",
      "Epoch  6: 100%|██████████| 44/44 [00:02<00:00, 20.89it/s, Train Loss=5920.3866, Valid Loss=4875.7246, Valid R2=-0.0028, Valid MAE=52.1385]\n",
      "Epoch  7: 100%|██████████| 44/44 [00:02<00:00, 20.31it/s, Train Loss=5773.8381, Valid Loss=4908.8833, Valid R2=-0.0096, Valid MAE=53.0556]\n",
      "Epoch  8: 100%|██████████| 44/44 [00:02<00:00, 20.28it/s, Train Loss=5822.7402, Valid Loss=4925.8872, Valid R2=-0.0131, Valid MAE=53.4396]\n",
      "Epoch  9: 100%|██████████| 44/44 [00:02<00:00, 20.16it/s, Train Loss=5872.1209, Valid Loss=4925.0137, Valid R2=-0.0130, Valid MAE=53.4225]\n",
      "Epoch 10: 100%|██████████| 44/44 [00:02<00:00, 20.18it/s, Train Loss=5744.2469, Valid Loss=4950.6108, Valid R2=-0.0182, Valid MAE=53.9245]\n",
      "Epoch 11: 100%|██████████| 44/44 [00:02<00:00, 20.13it/s, Train Loss=5769.6711, Valid Loss=4940.5674, Valid R2=-0.0162, Valid MAE=53.7339]\n"
     ]
    },
    {
     "name": "stdout",
     "output_type": "stream",
     "text": [
      "Early Stopped\n",
      "Setting  29 of Parameters Grid is now on progres.\n"
     ]
    },
    {
     "name": "stderr",
     "output_type": "stream",
     "text": [
      "Epoch  0: 100%|██████████| 44/44 [00:02<00:00, 20.19it/s, Train Loss=14860.3372, Valid Loss=11240.8965, Valid R2=-1.3120, Valid MAE=79.8982]\n",
      "Epoch  1: 100%|██████████| 44/44 [00:02<00:00, 20.10it/s, Train Loss=12285.7098, Valid Loss=8599.5703, Valid R2=-0.7687, Valid MAE=64.0797]\n",
      "Epoch  2: 100%|██████████| 44/44 [00:02<00:00, 20.93it/s, Train Loss=9398.3360, Valid Loss=6386.4688, Valid R2=-0.3135, Valid MAE=53.1023]\n",
      "Epoch  3: 100%|██████████| 44/44 [00:02<00:00, 20.99it/s, Train Loss=7243.6288, Valid Loss=5204.1396, Valid R2=-0.0704, Valid MAE=49.4805]\n",
      "Epoch  4: 100%|██████████| 44/44 [00:02<00:00, 20.05it/s, Train Loss=6175.0078, Valid Loss=4870.1392, Valid R2=-0.0017, Valid MAE=50.7396]\n",
      "Epoch  5: 100%|██████████| 44/44 [00:02<00:00, 20.44it/s, Train Loss=5895.3224, Valid Loss=4877.9590, Valid R2=-0.0033, Valid MAE=52.2262]\n",
      "Epoch  6: 100%|██████████| 44/44 [00:02<00:00, 21.26it/s, Train Loss=5873.7941, Valid Loss=4914.3989, Valid R2=-0.0108, Valid MAE=53.1821]\n",
      "Epoch  7: 100%|██████████| 44/44 [00:02<00:00, 21.87it/s, Train Loss=5796.5719, Valid Loss=4938.5796, Valid R2=-0.0158, Valid MAE=53.6968]\n",
      "Epoch  8: 100%|██████████| 44/44 [00:02<00:00, 21.14it/s, Train Loss=5835.7222, Valid Loss=4933.5000, Valid R2=-0.0147, Valid MAE=53.6043]\n",
      "Epoch  9: 100%|██████████| 44/44 [00:02<00:00, 19.65it/s, Train Loss=5822.9873, Valid Loss=4952.1792, Valid R2=-0.0185, Valid MAE=53.9354]\n",
      "Epoch 10: 100%|██████████| 44/44 [00:02<00:00, 20.73it/s, Train Loss=5843.1653, Valid Loss=4928.4360, Valid R2=-0.0137, Valid MAE=53.4332]\n"
     ]
    },
    {
     "name": "stdout",
     "output_type": "stream",
     "text": [
      "Early Stopped\n",
      "Setting  30 of Parameters Grid is now on progres.\n"
     ]
    },
    {
     "name": "stderr",
     "output_type": "stream",
     "text": [
      "Epoch  0: 100%|██████████| 44/44 [00:02<00:00, 20.98it/s, Train Loss=14943.2060, Valid Loss=11432.2314, Valid R2=-1.3513, Valid MAE=81.0733]\n",
      "Epoch  1: 100%|██████████| 44/44 [00:02<00:00, 21.26it/s, Train Loss=12517.1729, Valid Loss=8603.7949, Valid R2=-0.7696, Valid MAE=64.0907]\n",
      "Epoch  2: 100%|██████████| 44/44 [00:02<00:00, 21.33it/s, Train Loss=9166.7452, Valid Loss=5961.2715, Valid R2=-0.2261, Valid MAE=51.4008]\n",
      "Epoch  3: 100%|██████████| 44/44 [00:02<00:00, 21.01it/s, Train Loss=6600.5237, Valid Loss=4879.2227, Valid R2=-0.0035, Valid MAE=50.6047]\n",
      "Epoch  4: 100%|██████████| 44/44 [00:02<00:00, 21.18it/s, Train Loss=5884.4185, Valid Loss=4932.6978, Valid R2=-0.0145, Valid MAE=53.5226]\n",
      "Epoch  5: 100%|██████████| 44/44 [00:02<00:00, 21.06it/s, Train Loss=5792.7651, Valid Loss=4938.0229, Valid R2=-0.0156, Valid MAE=53.6658]\n",
      "Epoch  6: 100%|██████████| 44/44 [00:02<00:00, 20.87it/s, Train Loss=5778.7715, Valid Loss=4950.6719, Valid R2=-0.0182, Valid MAE=54.0291]\n",
      "Epoch  7: 100%|██████████| 44/44 [00:02<00:00, 20.92it/s, Train Loss=5827.5628, Valid Loss=4890.7222, Valid R2=-0.0059, Valid MAE=52.4371]\n",
      "Epoch  8: 100%|██████████| 44/44 [00:02<00:00, 20.28it/s, Train Loss=5668.3522, Valid Loss=4747.9438, Valid R2=0.0235, Valid MAE=52.4913]\n",
      "Epoch  9: 100%|██████████| 44/44 [00:02<00:00, 19.08it/s, Train Loss=5257.4925, Valid Loss=4392.0254, Valid R2=0.0967, Valid MAE=49.8670]\n",
      "Epoch 10: 100%|██████████| 44/44 [00:02<00:00, 20.38it/s, Train Loss=4897.2520, Valid Loss=4539.6631, Valid R2=0.0663, Valid MAE=52.1244]\n",
      "Epoch 11: 100%|██████████| 44/44 [00:02<00:00, 20.47it/s, Train Loss=4778.3330, Valid Loss=4370.6987, Valid R2=0.1010, Valid MAE=52.5652]\n",
      "Epoch 12: 100%|██████████| 44/44 [00:02<00:00, 20.07it/s, Train Loss=4441.3130, Valid Loss=4364.2212, Valid R2=0.1024, Valid MAE=51.5593]\n",
      "Epoch 13: 100%|██████████| 44/44 [00:02<00:00, 20.10it/s, Train Loss=4423.0531, Valid Loss=4062.0068, Valid R2=0.1645, Valid MAE=48.1592]\n",
      "Epoch 14: 100%|██████████| 44/44 [00:02<00:00, 21.03it/s, Train Loss=4097.4276, Valid Loss=3817.4775, Valid R2=0.2148, Valid MAE=46.2080]\n",
      "Epoch 15: 100%|██████████| 44/44 [00:02<00:00, 20.60it/s, Train Loss=3887.9767, Valid Loss=4023.3430, Valid R2=0.1725, Valid MAE=50.8255]\n",
      "Epoch 16: 100%|██████████| 44/44 [00:02<00:00, 20.83it/s, Train Loss=3816.6105, Valid Loss=3906.5417, Valid R2=0.1965, Valid MAE=48.5816]\n",
      "Epoch 17: 100%|██████████| 44/44 [00:02<00:00, 21.25it/s, Train Loss=3584.1699, Valid Loss=3884.9282, Valid R2=0.2010, Valid MAE=47.3487]\n",
      "Epoch 18: 100%|██████████| 44/44 [00:02<00:00, 20.17it/s, Train Loss=3439.0519, Valid Loss=3693.3416, Valid R2=0.2404, Valid MAE=46.6935]\n",
      "Epoch 19: 100%|██████████| 44/44 [00:02<00:00, 20.42it/s, Train Loss=3450.1965, Valid Loss=3753.6782, Valid R2=0.2280, Valid MAE=45.5335]\n",
      "Epoch 20: 100%|██████████| 44/44 [00:02<00:00, 20.69it/s, Train Loss=3234.0201, Valid Loss=3874.0957, Valid R2=0.2032, Valid MAE=47.7611]\n",
      "Epoch 21: 100%|██████████| 44/44 [00:02<00:00, 20.26it/s, Train Loss=3090.0085, Valid Loss=3827.2893, Valid R2=0.2128, Valid MAE=45.7476]\n",
      "Epoch 22: 100%|██████████| 44/44 [00:02<00:00, 20.81it/s, Train Loss=3094.3836, Valid Loss=4567.0063, Valid R2=0.0607, Valid MAE=54.6228]\n",
      "Epoch 23: 100%|██████████| 44/44 [00:02<00:00, 21.05it/s, Train Loss=2832.0504, Valid Loss=3664.2341, Valid R2=0.2464, Valid MAE=46.4474]\n",
      "Epoch 24: 100%|██████████| 44/44 [00:02<00:00, 21.15it/s, Train Loss=2654.1444, Valid Loss=3719.0168, Valid R2=0.2351, Valid MAE=46.3432]\n",
      "Epoch 25: 100%|██████████| 44/44 [00:02<00:00, 21.20it/s, Train Loss=2574.4604, Valid Loss=3503.3513, Valid R2=0.2794, Valid MAE=43.1392]\n",
      "Epoch 26: 100%|██████████| 44/44 [00:02<00:00, 20.50it/s, Train Loss=2418.8028, Valid Loss=3745.4346, Valid R2=0.2297, Valid MAE=45.4601]\n",
      "Epoch 27: 100%|██████████| 44/44 [00:02<00:00, 20.24it/s, Train Loss=2386.3517, Valid Loss=3529.1038, Valid R2=0.2741, Valid MAE=44.2348]\n",
      "Epoch 28: 100%|██████████| 44/44 [00:02<00:00, 20.22it/s, Train Loss=2248.6314, Valid Loss=3562.1418, Valid R2=0.2674, Valid MAE=44.5441]\n",
      "Epoch 29: 100%|██████████| 44/44 [00:02<00:00, 20.29it/s, Train Loss=2175.0075, Valid Loss=3761.3955, Valid R2=0.2264, Valid MAE=45.9404]\n",
      "Epoch 30: 100%|██████████| 44/44 [00:02<00:00, 20.62it/s, Train Loss=2164.5853, Valid Loss=3803.9319, Valid R2=0.2176, Valid MAE=46.5044]\n",
      "Epoch 31: 100%|██████████| 44/44 [00:02<00:00, 20.57it/s, Train Loss=2080.0898, Valid Loss=3660.8894, Valid R2=0.2470, Valid MAE=45.1207]\n"
     ]
    },
    {
     "name": "stdout",
     "output_type": "stream",
     "text": [
      "Early Stopped\n",
      "Setting  31 of Parameters Grid is now on progres.\n"
     ]
    },
    {
     "name": "stderr",
     "output_type": "stream",
     "text": [
      "Epoch  0: 100%|██████████| 44/44 [00:02<00:00, 20.12it/s, Train Loss=14877.6798, Valid Loss=10934.8369, Valid R2=-1.2490, Valid MAE=78.0365]\n",
      "Epoch  1: 100%|██████████| 44/44 [00:02<00:00, 19.27it/s, Train Loss=11788.5175, Valid Loss=8025.0850, Valid R2=-0.6506, Valid MAE=61.0087]\n",
      "Epoch  2: 100%|██████████| 44/44 [00:02<00:00, 20.61it/s, Train Loss=8717.7119, Valid Loss=5859.8208, Valid R2=-0.2052, Valid MAE=51.0254]\n",
      "Epoch  3: 100%|██████████| 44/44 [00:02<00:00, 19.66it/s, Train Loss=6716.7560, Valid Loss=4965.4849, Valid R2=-0.0213, Valid MAE=49.7714]\n",
      "Epoch  4: 100%|██████████| 44/44 [00:02<00:00, 21.02it/s, Train Loss=6064.1643, Valid Loss=4863.4814, Valid R2=-0.0003, Valid MAE=51.5453]\n",
      "Epoch  5: 100%|██████████| 44/44 [00:02<00:00, 18.88it/s, Train Loss=5832.4471, Valid Loss=4903.2305, Valid R2=-0.0085, Valid MAE=52.9492]\n",
      "Epoch  6: 100%|██████████| 44/44 [00:02<00:00, 20.95it/s, Train Loss=5875.2327, Valid Loss=4920.9390, Valid R2=-0.0121, Valid MAE=53.4136]\n",
      "Epoch  7: 100%|██████████| 44/44 [00:02<00:00, 20.87it/s, Train Loss=5783.4302, Valid Loss=4903.9536, Valid R2=-0.0086, Valid MAE=53.3609]\n",
      "Epoch  8: 100%|██████████| 44/44 [00:02<00:00, 21.54it/s, Train Loss=5845.9288, Valid Loss=4871.2769, Valid R2=-0.0019, Valid MAE=53.2051]\n",
      "Epoch  9: 100%|██████████| 44/44 [00:02<00:00, 21.29it/s, Train Loss=5660.4352, Valid Loss=4768.1919, Valid R2=0.0193, Valid MAE=51.8756]\n",
      "Epoch 10: 100%|██████████| 44/44 [00:02<00:00, 20.80it/s, Train Loss=5543.2387, Valid Loss=4636.5249, Valid R2=0.0464, Valid MAE=51.2066]\n",
      "Epoch 11: 100%|██████████| 44/44 [00:02<00:00, 20.91it/s, Train Loss=5460.3438, Valid Loss=4571.6045, Valid R2=0.0597, Valid MAE=51.9758]\n",
      "Epoch 12: 100%|██████████| 44/44 [00:02<00:00, 20.72it/s, Train Loss=5152.6411, Valid Loss=4231.0972, Valid R2=0.1298, Valid MAE=49.8696]\n",
      "Epoch 13: 100%|██████████| 44/44 [00:02<00:00, 21.08it/s, Train Loss=4706.7571, Valid Loss=3931.6960, Valid R2=0.1913, Valid MAE=45.2580]\n",
      "Epoch 14: 100%|██████████| 44/44 [00:02<00:00, 20.96it/s, Train Loss=4458.4705, Valid Loss=3854.2720, Valid R2=0.2073, Valid MAE=44.9840]\n",
      "Epoch 15: 100%|██████████| 44/44 [00:02<00:00, 20.34it/s, Train Loss=4266.4893, Valid Loss=3813.0474, Valid R2=0.2157, Valid MAE=46.2537]\n",
      "Epoch 16: 100%|██████████| 44/44 [00:02<00:00, 20.98it/s, Train Loss=4152.6696, Valid Loss=3980.2112, Valid R2=0.1814, Valid MAE=48.6699]\n",
      "Epoch 17: 100%|██████████| 44/44 [00:02<00:00, 19.91it/s, Train Loss=4054.7940, Valid Loss=3688.4482, Valid R2=0.2414, Valid MAE=44.9718]\n",
      "Epoch 18: 100%|██████████| 44/44 [00:02<00:00, 19.80it/s, Train Loss=3908.4959, Valid Loss=3861.5232, Valid R2=0.2058, Valid MAE=47.2328]\n",
      "Epoch 19: 100%|██████████| 44/44 [00:02<00:00, 20.22it/s, Train Loss=3674.6786, Valid Loss=3674.8101, Valid R2=0.2442, Valid MAE=44.5201]\n",
      "Epoch 20: 100%|██████████| 44/44 [00:02<00:00, 20.98it/s, Train Loss=3417.0981, Valid Loss=4131.5093, Valid R2=0.1502, Valid MAE=50.0109]\n",
      "Epoch 21: 100%|██████████| 44/44 [00:02<00:00, 20.99it/s, Train Loss=3738.3324, Valid Loss=4073.3831, Valid R2=0.1622, Valid MAE=49.0843]\n",
      "Epoch 22: 100%|██████████| 44/44 [00:02<00:00, 21.00it/s, Train Loss=3560.0390, Valid Loss=3897.1106, Valid R2=0.1985, Valid MAE=47.1627]\n",
      "Epoch 23: 100%|██████████| 44/44 [00:02<00:00, 20.97it/s, Train Loss=3244.3952, Valid Loss=4367.4780, Valid R2=0.1017, Valid MAE=52.3739]\n",
      "Epoch 24: 100%|██████████| 44/44 [00:02<00:00, 21.40it/s, Train Loss=3078.7752, Valid Loss=3920.8987, Valid R2=0.1936, Valid MAE=45.0829]\n",
      "Epoch 25: 100%|██████████| 44/44 [00:02<00:00, 21.13it/s, Train Loss=2942.4498, Valid Loss=4534.0542, Valid R2=0.0675, Valid MAE=52.7091]\n"
     ]
    },
    {
     "name": "stdout",
     "output_type": "stream",
     "text": [
      "Early Stopped\n",
      "Setting  32 of Parameters Grid is now on progres.\n"
     ]
    },
    {
     "name": "stderr",
     "output_type": "stream",
     "text": [
      "Epoch  0: 100%|██████████| 44/44 [00:02<00:00, 21.00it/s, Train Loss=14811.3994, Valid Loss=10930.7100, Valid R2=-1.2482, Valid MAE=78.0013]\n",
      "Epoch  1: 100%|██████████| 44/44 [00:02<00:00, 20.98it/s, Train Loss=11463.4775, Valid Loss=7505.3564, Valid R2=-0.5437, Valid MAE=58.3774]\n",
      "Epoch  2: 100%|██████████| 44/44 [00:02<00:00, 21.30it/s, Train Loss=8000.9482, Valid Loss=5194.1636, Valid R2=-0.0683, Valid MAE=49.5242]\n",
      "Epoch  3: 100%|██████████| 44/44 [00:02<00:00, 20.57it/s, Train Loss=6007.3232, Valid Loss=4896.5889, Valid R2=-0.0071, Valid MAE=52.7214]\n",
      "Epoch  4: 100%|██████████| 44/44 [00:02<00:00, 20.42it/s, Train Loss=5864.9510, Valid Loss=4926.9761, Valid R2=-0.0134, Valid MAE=53.4398]\n",
      "Epoch  5: 100%|██████████| 44/44 [00:02<00:00, 21.41it/s, Train Loss=5822.7984, Valid Loss=4955.1265, Valid R2=-0.0192, Valid MAE=54.0319]\n",
      "Epoch  6: 100%|██████████| 44/44 [00:02<00:00, 21.66it/s, Train Loss=5837.3829, Valid Loss=4926.1167, Valid R2=-0.0132, Valid MAE=53.3406]\n",
      "Epoch  7: 100%|██████████| 44/44 [00:02<00:00, 21.76it/s, Train Loss=5794.5933, Valid Loss=4953.2090, Valid R2=-0.0188, Valid MAE=53.8887]\n",
      "Epoch  8: 100%|██████████| 44/44 [00:02<00:00, 21.12it/s, Train Loss=5756.4754, Valid Loss=4991.9429, Valid R2=-0.0267, Valid MAE=54.5765]\n",
      "Epoch  9: 100%|██████████| 44/44 [00:02<00:00, 21.26it/s, Train Loss=5815.2792, Valid Loss=4879.4434, Valid R2=-0.0036, Valid MAE=53.0605]\n",
      "Epoch 10: 100%|██████████| 44/44 [00:02<00:00, 21.31it/s, Train Loss=5678.4806, Valid Loss=4692.5557, Valid R2=0.0349, Valid MAE=50.5391]\n",
      "Epoch 11: 100%|██████████| 44/44 [00:02<00:00, 21.84it/s, Train Loss=5545.9641, Valid Loss=4658.3154, Valid R2=0.0419, Valid MAE=51.0093]\n",
      "Epoch 12: 100%|██████████| 44/44 [00:01<00:00, 22.88it/s, Train Loss=5358.5258, Valid Loss=4708.4473, Valid R2=0.0316, Valid MAE=53.0182]\n",
      "Epoch 13: 100%|██████████| 44/44 [00:01<00:00, 22.79it/s, Train Loss=5221.6354, Valid Loss=4399.2876, Valid R2=0.0952, Valid MAE=48.3698]\n",
      "Epoch 14: 100%|██████████| 44/44 [00:01<00:00, 22.40it/s, Train Loss=4884.5067, Valid Loss=4195.0063, Valid R2=0.1372, Valid MAE=49.5630]\n",
      "Epoch 15: 100%|██████████| 44/44 [00:02<00:00, 21.00it/s, Train Loss=4607.2599, Valid Loss=4155.3101, Valid R2=0.1454, Valid MAE=47.3852]\n",
      "Epoch 16: 100%|██████████| 44/44 [00:02<00:00, 20.99it/s, Train Loss=4416.0187, Valid Loss=4113.4395, Valid R2=0.1540, Valid MAE=48.8721]\n",
      "Epoch 17: 100%|██████████| 44/44 [00:02<00:00, 21.09it/s, Train Loss=4289.6570, Valid Loss=4025.3889, Valid R2=0.1721, Valid MAE=46.8785]\n",
      "Epoch 18: 100%|██████████| 44/44 [00:02<00:00, 20.99it/s, Train Loss=4234.5685, Valid Loss=4259.7017, Valid R2=0.1239, Valid MAE=50.2404]\n",
      "Epoch 19: 100%|██████████| 44/44 [00:02<00:00, 21.09it/s, Train Loss=3966.3070, Valid Loss=4269.6538, Valid R2=0.1218, Valid MAE=51.2571]\n",
      "Epoch 20: 100%|██████████| 44/44 [00:02<00:00, 21.13it/s, Train Loss=3946.8911, Valid Loss=3946.9792, Valid R2=0.1882, Valid MAE=48.8123]\n",
      "Epoch 21: 100%|██████████| 44/44 [00:02<00:00, 21.05it/s, Train Loss=3650.1724, Valid Loss=3871.0996, Valid R2=0.2038, Valid MAE=47.8769]\n",
      "Epoch 22: 100%|██████████| 44/44 [00:02<00:00, 21.03it/s, Train Loss=3494.3082, Valid Loss=3513.3792, Valid R2=0.2774, Valid MAE=43.6677]\n",
      "Epoch 23: 100%|██████████| 44/44 [00:02<00:00, 21.22it/s, Train Loss=3308.2118, Valid Loss=3452.0564, Valid R2=0.2900, Valid MAE=43.5321]\n",
      "Epoch 24: 100%|██████████| 44/44 [00:02<00:00, 20.92it/s, Train Loss=3254.1537, Valid Loss=3588.4106, Valid R2=0.2619, Valid MAE=45.7015]\n",
      "Epoch 25: 100%|██████████| 44/44 [00:02<00:00, 21.14it/s, Train Loss=3194.2172, Valid Loss=3274.6138, Valid R2=0.3265, Valid MAE=42.4286]\n",
      "Epoch 26: 100%|██████████| 44/44 [00:02<00:00, 20.24it/s, Train Loss=3319.9976, Valid Loss=3343.7234, Valid R2=0.3123, Valid MAE=44.0136]\n",
      "Epoch 27: 100%|██████████| 44/44 [00:02<00:00, 21.02it/s, Train Loss=2880.0005, Valid Loss=3730.7373, Valid R2=0.2327, Valid MAE=47.0283]\n",
      "Epoch 28: 100%|██████████| 44/44 [00:02<00:00, 20.94it/s, Train Loss=2834.4402, Valid Loss=3465.9170, Valid R2=0.2871, Valid MAE=45.1920]\n",
      "Epoch 29: 100%|██████████| 44/44 [00:02<00:00, 20.67it/s, Train Loss=2550.4299, Valid Loss=3619.0842, Valid R2=0.2556, Valid MAE=46.1117]\n",
      "Epoch 30: 100%|██████████| 44/44 [00:02<00:00, 20.98it/s, Train Loss=2358.8428, Valid Loss=3220.6094, Valid R2=0.3376, Valid MAE=41.6828]\n",
      "Epoch 31: 100%|██████████| 44/44 [00:02<00:00, 21.10it/s, Train Loss=2449.9498, Valid Loss=3352.4241, Valid R2=0.3105, Valid MAE=43.1359]\n",
      "Epoch 32: 100%|██████████| 44/44 [00:02<00:00, 20.55it/s, Train Loss=2251.8407, Valid Loss=3117.4756, Valid R2=0.3588, Valid MAE=41.8544]\n",
      "Epoch 33: 100%|██████████| 44/44 [00:02<00:00, 20.34it/s, Train Loss=2101.0613, Valid Loss=3302.2419, Valid R2=0.3208, Valid MAE=41.4444]\n",
      "Epoch 34: 100%|██████████| 44/44 [00:02<00:00, 20.88it/s, Train Loss=2132.9303, Valid Loss=3222.9556, Valid R2=0.3371, Valid MAE=41.4631]\n",
      "Epoch 35: 100%|██████████| 44/44 [00:02<00:00, 20.56it/s, Train Loss=2262.8821, Valid Loss=3107.0269, Valid R2=0.3610, Valid MAE=40.9868]\n",
      "Epoch 36: 100%|██████████| 44/44 [00:02<00:00, 20.96it/s, Train Loss=2094.6962, Valid Loss=3285.1956, Valid R2=0.3243, Valid MAE=42.4427]\n",
      "Epoch 37: 100%|██████████| 44/44 [00:02<00:00, 21.36it/s, Train Loss=1982.9415, Valid Loss=3244.1216, Valid R2=0.3328, Valid MAE=43.4722]\n",
      "Epoch 38: 100%|██████████| 44/44 [00:02<00:00, 21.44it/s, Train Loss=1817.2019, Valid Loss=3456.6626, Valid R2=0.2890, Valid MAE=43.3313]\n",
      "Epoch 39: 100%|██████████| 44/44 [00:02<00:00, 21.08it/s, Train Loss=1821.7672, Valid Loss=3364.0063, Valid R2=0.3081, Valid MAE=42.0161]\n",
      "Epoch 40: 100%|██████████| 44/44 [00:02<00:00, 20.46it/s, Train Loss=1791.0514, Valid Loss=3376.4456, Valid R2=0.3055, Valid MAE=43.1684]\n",
      "Epoch 41: 100%|██████████| 44/44 [00:02<00:00, 21.33it/s, Train Loss=1709.7943, Valid Loss=3280.9812, Valid R2=0.3252, Valid MAE=41.1335]\n"
     ]
    },
    {
     "name": "stdout",
     "output_type": "stream",
     "text": [
      "Early Stopped\n",
      "Setting  33 of Parameters Grid is now on progres.\n"
     ]
    },
    {
     "name": "stderr",
     "output_type": "stream",
     "text": [
      "Epoch  0: 100%|██████████| 44/44 [00:02<00:00, 20.96it/s, Train Loss=14713.2547, Valid Loss=10831.1025, Valid R2=-1.2277, Valid MAE=77.3954]\n",
      "Epoch  1: 100%|██████████| 44/44 [00:02<00:00, 21.19it/s, Train Loss=11838.3387, Valid Loss=8243.0752, Valid R2=-0.6954, Valid MAE=62.1367]\n",
      "Epoch  2: 100%|██████████| 44/44 [00:02<00:00, 20.90it/s, Train Loss=9082.0237, Valid Loss=6071.2344, Valid R2=-0.2487, Valid MAE=51.8169]\n",
      "Epoch  3: 100%|██████████| 44/44 [00:02<00:00, 21.04it/s, Train Loss=6827.0904, Valid Loss=4937.1250, Valid R2=-0.0155, Valid MAE=49.9160]\n",
      "Epoch  4: 100%|██████████| 44/44 [00:02<00:00, 21.18it/s, Train Loss=5920.3469, Valid Loss=4896.7900, Valid R2=-0.0072, Valid MAE=52.7398]\n",
      "Epoch  5: 100%|██████████| 44/44 [00:02<00:00, 20.95it/s, Train Loss=5775.5240, Valid Loss=4959.5176, Valid R2=-0.0201, Valid MAE=54.0644]\n",
      "Epoch  6: 100%|██████████| 44/44 [00:02<00:00, 20.76it/s, Train Loss=5841.1901, Valid Loss=4951.5713, Valid R2=-0.0184, Valid MAE=53.7671]\n",
      "Epoch  7: 100%|██████████| 44/44 [00:02<00:00, 21.16it/s, Train Loss=5759.4049, Valid Loss=4918.2539, Valid R2=-0.0116, Valid MAE=53.7003]\n",
      "Epoch  8: 100%|██████████| 44/44 [00:02<00:00, 21.05it/s, Train Loss=5622.9498, Valid Loss=4767.3774, Valid R2=0.0195, Valid MAE=51.6965]\n",
      "Epoch  9: 100%|██████████| 44/44 [00:02<00:00, 20.98it/s, Train Loss=5336.0584, Valid Loss=4914.8545, Valid R2=-0.0109, Valid MAE=53.5057]\n",
      "Epoch 10: 100%|██████████| 44/44 [00:02<00:00, 21.03it/s, Train Loss=5206.7153, Valid Loss=4630.4268, Valid R2=0.0476, Valid MAE=49.8841]\n",
      "Epoch 11: 100%|██████████| 44/44 [00:02<00:00, 20.94it/s, Train Loss=5126.8582, Valid Loss=4663.1978, Valid R2=0.0409, Valid MAE=52.7411]\n",
      "Epoch 12: 100%|██████████| 44/44 [00:02<00:00, 21.17it/s, Train Loss=4951.8165, Valid Loss=4678.0908, Valid R2=0.0378, Valid MAE=50.6009]\n",
      "Epoch 13: 100%|██████████| 44/44 [00:02<00:00, 21.31it/s, Train Loss=4734.8208, Valid Loss=4561.6294, Valid R2=0.0618, Valid MAE=51.4167]\n",
      "Epoch 14: 100%|██████████| 44/44 [00:02<00:00, 20.84it/s, Train Loss=4544.7160, Valid Loss=4715.9312, Valid R2=0.0300, Valid MAE=50.7750]\n",
      "Epoch 15: 100%|██████████| 44/44 [00:02<00:00, 21.08it/s, Train Loss=4498.8273, Valid Loss=4507.5591, Valid R2=0.0729, Valid MAE=48.8945]\n",
      "Epoch 16: 100%|██████████| 44/44 [00:02<00:00, 21.06it/s, Train Loss=4372.4134, Valid Loss=4809.1738, Valid R2=0.0109, Valid MAE=52.9357]\n",
      "Epoch 17: 100%|██████████| 44/44 [00:02<00:00, 20.84it/s, Train Loss=4272.8565, Valid Loss=4371.8813, Valid R2=0.1008, Valid MAE=48.9877]\n",
      "Epoch 18: 100%|██████████| 44/44 [00:02<00:00, 20.96it/s, Train Loss=4143.4552, Valid Loss=4254.6240, Valid R2=0.1249, Valid MAE=47.7635]\n",
      "Epoch 19: 100%|██████████| 44/44 [00:02<00:00, 20.46it/s, Train Loss=3916.2186, Valid Loss=4109.9561, Valid R2=0.1547, Valid MAE=46.0408]\n",
      "Epoch 20: 100%|██████████| 44/44 [00:02<00:00, 21.02it/s, Train Loss=3843.3622, Valid Loss=4056.7524, Valid R2=0.1656, Valid MAE=46.5539]\n",
      "Epoch 21: 100%|██████████| 44/44 [00:02<00:00, 20.89it/s, Train Loss=3739.5869, Valid Loss=4057.2668, Valid R2=0.1655, Valid MAE=46.7839]\n",
      "Epoch 22: 100%|██████████| 44/44 [00:02<00:00, 21.05it/s, Train Loss=3430.1937, Valid Loss=3994.4666, Valid R2=0.1784, Valid MAE=44.8838]\n",
      "Epoch 23: 100%|██████████| 44/44 [00:02<00:00, 20.85it/s, Train Loss=3297.7036, Valid Loss=3952.1670, Valid R2=0.1871, Valid MAE=46.6171]\n",
      "Epoch 24: 100%|██████████| 44/44 [00:02<00:00, 20.98it/s, Train Loss=3351.5064, Valid Loss=4054.5505, Valid R2=0.1661, Valid MAE=46.9810]\n",
      "Epoch 25: 100%|██████████| 44/44 [00:02<00:00, 20.88it/s, Train Loss=3092.9812, Valid Loss=4282.1060, Valid R2=0.1193, Valid MAE=49.1664]\n",
      "Epoch 26: 100%|██████████| 44/44 [00:02<00:00, 21.28it/s, Train Loss=3101.7516, Valid Loss=3923.9771, Valid R2=0.1929, Valid MAE=44.3797]\n",
      "Epoch 27: 100%|██████████| 44/44 [00:02<00:00, 20.68it/s, Train Loss=2916.6786, Valid Loss=3965.6194, Valid R2=0.1844, Valid MAE=44.0013]\n",
      "Epoch 28: 100%|██████████| 44/44 [00:02<00:00, 21.05it/s, Train Loss=2716.4021, Valid Loss=4098.8013, Valid R2=0.1570, Valid MAE=46.7025]\n",
      "Epoch 29: 100%|██████████| 44/44 [00:02<00:00, 21.24it/s, Train Loss=2655.7461, Valid Loss=3911.9138, Valid R2=0.1954, Valid MAE=43.3073]\n",
      "Epoch 30: 100%|██████████| 44/44 [00:02<00:00, 20.54it/s, Train Loss=2595.2990, Valid Loss=4034.0122, Valid R2=0.1703, Valid MAE=45.5491]\n",
      "Epoch 31: 100%|██████████| 44/44 [00:02<00:00, 21.21it/s, Train Loss=2547.8662, Valid Loss=4206.6890, Valid R2=0.1348, Valid MAE=48.7121]\n",
      "Epoch 32: 100%|██████████| 44/44 [00:01<00:00, 22.20it/s, Train Loss=2633.9935, Valid Loss=4282.8218, Valid R2=0.1191, Valid MAE=48.7961]\n",
      "Epoch 33: 100%|██████████| 44/44 [00:02<00:00, 20.27it/s, Train Loss=2536.8583, Valid Loss=4057.0518, Valid R2=0.1656, Valid MAE=47.2717]\n",
      "Epoch 34: 100%|██████████| 44/44 [00:02<00:00, 21.31it/s, Train Loss=2152.5098, Valid Loss=4188.5942, Valid R2=0.1385, Valid MAE=47.1732]\n",
      "Epoch 35: 100%|██████████| 44/44 [00:02<00:00, 20.78it/s, Train Loss=2202.4135, Valid Loss=3830.8931, Valid R2=0.2121, Valid MAE=43.4745]\n",
      "Epoch 36: 100%|██████████| 44/44 [00:02<00:00, 21.09it/s, Train Loss=2030.0493, Valid Loss=3558.0493, Valid R2=0.2682, Valid MAE=41.4482]\n",
      "Epoch 37: 100%|██████████| 44/44 [00:02<00:00, 21.30it/s, Train Loss=2083.4765, Valid Loss=3844.6519, Valid R2=0.2092, Valid MAE=44.0643]\n",
      "Epoch 38: 100%|██████████| 44/44 [00:02<00:00, 20.88it/s, Train Loss=1976.5166, Valid Loss=3938.6772, Valid R2=0.1899, Valid MAE=45.1933]\n",
      "Epoch 39: 100%|██████████| 44/44 [00:02<00:00, 21.49it/s, Train Loss=2022.9930, Valid Loss=3871.7913, Valid R2=0.2037, Valid MAE=43.3765]\n",
      "Epoch 40: 100%|██████████| 44/44 [00:02<00:00, 21.67it/s, Train Loss=1952.3800, Valid Loss=4076.3884, Valid R2=0.1616, Valid MAE=45.7699]\n",
      "Epoch 41: 100%|██████████| 44/44 [00:02<00:00, 21.21it/s, Train Loss=2207.8600, Valid Loss=3943.8906, Valid R2=0.1888, Valid MAE=43.9733]\n",
      "Epoch 42: 100%|██████████| 44/44 [00:02<00:00, 20.95it/s, Train Loss=2011.4036, Valid Loss=4249.9092, Valid R2=0.1259, Valid MAE=47.2534]\n"
     ]
    },
    {
     "name": "stdout",
     "output_type": "stream",
     "text": [
      "Early Stopped\n",
      "Setting  34 of Parameters Grid is now on progres.\n"
     ]
    },
    {
     "name": "stderr",
     "output_type": "stream",
     "text": [
      "Epoch  0: 100%|██████████| 44/44 [00:02<00:00, 20.72it/s, Train Loss=14466.4091, Valid Loss=10339.1719, Valid R2=-1.1265, Valid MAE=74.3940]\n",
      "Epoch  1: 100%|██████████| 44/44 [00:02<00:00, 19.40it/s, Train Loss=11035.3280, Valid Loss=7422.1577, Valid R2=-0.5266, Valid MAE=57.9886]\n",
      "Epoch  2: 100%|██████████| 44/44 [00:02<00:00, 19.83it/s, Train Loss=7926.4889, Valid Loss=5252.1289, Valid R2=-0.0802, Valid MAE=49.5182]\n",
      "Epoch  3: 100%|██████████| 44/44 [00:02<00:00, 19.70it/s, Train Loss=6088.8268, Valid Loss=4881.9946, Valid R2=-0.0041, Valid MAE=52.2587]\n",
      "Epoch  4: 100%|██████████| 44/44 [00:02<00:00, 19.82it/s, Train Loss=5825.8659, Valid Loss=4922.7563, Valid R2=-0.0125, Valid MAE=53.3467]\n",
      "Epoch  5: 100%|██████████| 44/44 [00:02<00:00, 21.54it/s, Train Loss=5786.6775, Valid Loss=4961.4937, Valid R2=-0.0205, Valid MAE=54.1078]\n",
      "Epoch  6: 100%|██████████| 44/44 [00:02<00:00, 21.02it/s, Train Loss=5830.1114, Valid Loss=4937.4980, Valid R2=-0.0155, Valid MAE=53.6821]\n",
      "Epoch  7: 100%|██████████| 44/44 [00:02<00:00, 21.04it/s, Train Loss=5784.7772, Valid Loss=4933.4604, Valid R2=-0.0147, Valid MAE=53.6342]\n",
      "Epoch  8: 100%|██████████| 44/44 [00:02<00:00, 20.84it/s, Train Loss=5779.7472, Valid Loss=4898.7485, Valid R2=-0.0076, Valid MAE=53.4480]\n",
      "Epoch  9: 100%|██████████| 44/44 [00:02<00:00, 20.84it/s, Train Loss=5714.8685, Valid Loss=4768.2964, Valid R2=0.0193, Valid MAE=51.6596]\n",
      "Epoch 10: 100%|██████████| 44/44 [00:02<00:00, 20.46it/s, Train Loss=5682.2228, Valid Loss=4736.8657, Valid R2=0.0257, Valid MAE=52.6455]\n",
      "Epoch 11: 100%|██████████| 44/44 [00:02<00:00, 21.00it/s, Train Loss=5502.8523, Valid Loss=4600.7007, Valid R2=0.0537, Valid MAE=50.7351]\n",
      "Epoch 12: 100%|██████████| 44/44 [00:02<00:00, 20.05it/s, Train Loss=5294.9885, Valid Loss=4468.1396, Valid R2=0.0810, Valid MAE=50.0002]\n",
      "Epoch 13: 100%|██████████| 44/44 [00:02<00:00, 20.88it/s, Train Loss=5269.4835, Valid Loss=4564.8315, Valid R2=0.0611, Valid MAE=52.0284]\n",
      "Epoch 14: 100%|██████████| 44/44 [00:02<00:00, 20.74it/s, Train Loss=5217.0560, Valid Loss=4251.5762, Valid R2=0.1256, Valid MAE=48.1359]\n",
      "Epoch 15: 100%|██████████| 44/44 [00:02<00:00, 20.89it/s, Train Loss=5192.5345, Valid Loss=4133.8149, Valid R2=0.1498, Valid MAE=47.5240]\n",
      "Epoch 16: 100%|██████████| 44/44 [00:02<00:00, 21.15it/s, Train Loss=4619.5960, Valid Loss=4105.8862, Valid R2=0.1555, Valid MAE=46.6109]\n",
      "Epoch 17: 100%|██████████| 44/44 [00:02<00:00, 20.50it/s, Train Loss=4673.4993, Valid Loss=4404.8281, Valid R2=0.0940, Valid MAE=51.5055]\n",
      "Epoch 18: 100%|██████████| 44/44 [00:02<00:00, 20.28it/s, Train Loss=4319.8132, Valid Loss=3926.8105, Valid R2=0.1923, Valid MAE=46.1969]\n",
      "Epoch 19: 100%|██████████| 44/44 [00:02<00:00, 20.50it/s, Train Loss=4347.1593, Valid Loss=3802.8882, Valid R2=0.2178, Valid MAE=46.7102]\n",
      "Epoch 20: 100%|██████████| 44/44 [00:02<00:00, 20.59it/s, Train Loss=4204.9106, Valid Loss=3584.7446, Valid R2=0.2627, Valid MAE=43.5337]\n",
      "Epoch 21: 100%|██████████| 44/44 [00:01<00:00, 22.45it/s, Train Loss=3958.2193, Valid Loss=4044.4763, Valid R2=0.1681, Valid MAE=48.9766]\n",
      "Epoch 22: 100%|██████████| 44/44 [00:02<00:00, 20.78it/s, Train Loss=3832.2177, Valid Loss=3643.2119, Valid R2=0.2507, Valid MAE=43.7596]\n",
      "Epoch 23: 100%|██████████| 44/44 [00:02<00:00, 21.01it/s, Train Loss=3678.8895, Valid Loss=3467.2312, Valid R2=0.2869, Valid MAE=44.0205]\n",
      "Epoch 24: 100%|██████████| 44/44 [00:02<00:00, 21.00it/s, Train Loss=3554.3266, Valid Loss=3510.0842, Valid R2=0.2781, Valid MAE=43.6897]\n",
      "Epoch 25: 100%|██████████| 44/44 [00:02<00:00, 21.61it/s, Train Loss=3527.6560, Valid Loss=3802.1406, Valid R2=0.2180, Valid MAE=46.0953]\n",
      "Epoch 26: 100%|██████████| 44/44 [00:02<00:00, 20.51it/s, Train Loss=3247.2135, Valid Loss=3422.1230, Valid R2=0.2961, Valid MAE=42.6932]\n",
      "Epoch 27: 100%|██████████| 44/44 [00:02<00:00, 20.43it/s, Train Loss=3188.8818, Valid Loss=3838.6995, Valid R2=0.2105, Valid MAE=46.6606]\n",
      "Epoch 28: 100%|██████████| 44/44 [00:02<00:00, 20.54it/s, Train Loss=3033.7272, Valid Loss=3864.7141, Valid R2=0.2051, Valid MAE=48.3626]\n",
      "Epoch 29: 100%|██████████| 44/44 [00:02<00:00, 20.20it/s, Train Loss=2861.8526, Valid Loss=3268.5115, Valid R2=0.3277, Valid MAE=43.2442]\n",
      "Epoch 30: 100%|██████████| 44/44 [00:02<00:00, 20.76it/s, Train Loss=2886.2948, Valid Loss=3449.1650, Valid R2=0.2906, Valid MAE=43.5427]\n",
      "Epoch 31: 100%|██████████| 44/44 [00:02<00:00, 20.82it/s, Train Loss=2621.6334, Valid Loss=3408.0752, Valid R2=0.2990, Valid MAE=45.2010]\n",
      "Epoch 32: 100%|██████████| 44/44 [00:02<00:00, 21.03it/s, Train Loss=2581.4379, Valid Loss=3745.6206, Valid R2=0.2296, Valid MAE=46.9627]\n",
      "Epoch 33: 100%|██████████| 44/44 [00:02<00:00, 20.58it/s, Train Loss=2516.0710, Valid Loss=3653.3945, Valid R2=0.2486, Valid MAE=46.0420]\n",
      "Epoch 34: 100%|██████████| 44/44 [00:02<00:00, 20.12it/s, Train Loss=2314.4049, Valid Loss=3601.8489, Valid R2=0.2592, Valid MAE=45.6479]\n",
      "Epoch 35: 100%|██████████| 44/44 [00:02<00:00, 19.88it/s, Train Loss=2272.9454, Valid Loss=3399.3848, Valid R2=0.3008, Valid MAE=44.0355]\n"
     ]
    },
    {
     "name": "stdout",
     "output_type": "stream",
     "text": [
      "Early Stopped\n",
      "Setting  35 of Parameters Grid is now on progres.\n"
     ]
    },
    {
     "name": "stderr",
     "output_type": "stream",
     "text": [
      "Epoch  0: 100%|██████████| 44/44 [00:02<00:00, 19.77it/s, Train Loss=14456.8109, Valid Loss=9876.5000, Valid R2=-1.0314, Valid MAE=71.5872]\n",
      "Epoch  1: 100%|██████████| 44/44 [00:02<00:00, 19.83it/s, Train Loss=10201.0351, Valid Loss=6538.9858, Valid R2=-0.3449, Valid MAE=53.7508]\n",
      "Epoch  2: 100%|██████████| 44/44 [00:02<00:00, 20.16it/s, Train Loss=7130.7473, Valid Loss=5035.6519, Valid R2=-0.0357, Valid MAE=49.6193]\n",
      "Epoch  3: 100%|██████████| 44/44 [00:02<00:00, 19.77it/s, Train Loss=5967.8493, Valid Loss=4880.1909, Valid R2=-0.0037, Valid MAE=52.2373]\n",
      "Epoch  4: 100%|██████████| 44/44 [00:02<00:00, 20.36it/s, Train Loss=5799.2035, Valid Loss=4946.3384, Valid R2=-0.0173, Valid MAE=53.8097]\n",
      "Epoch  5: 100%|██████████| 44/44 [00:02<00:00, 19.96it/s, Train Loss=5836.3430, Valid Loss=4940.8262, Valid R2=-0.0162, Valid MAE=53.7287]\n",
      "Epoch  6: 100%|██████████| 44/44 [00:02<00:00, 18.99it/s, Train Loss=5766.8312, Valid Loss=4933.0581, Valid R2=-0.0146, Valid MAE=53.5830]\n",
      "Epoch  7: 100%|██████████| 44/44 [00:02<00:00, 19.87it/s, Train Loss=5776.1083, Valid Loss=4960.1489, Valid R2=-0.0202, Valid MAE=54.1135]\n",
      "Epoch  8: 100%|██████████| 44/44 [00:02<00:00, 20.18it/s, Train Loss=5760.8417, Valid Loss=4950.1812, Valid R2=-0.0181, Valid MAE=53.9654]\n",
      "Epoch  9: 100%|██████████| 44/44 [00:02<00:00, 20.44it/s, Train Loss=5799.7489, Valid Loss=4902.7715, Valid R2=-0.0084, Valid MAE=53.3869]\n"
     ]
    },
    {
     "name": "stdout",
     "output_type": "stream",
     "text": [
      "Early Stopped\n",
      "Setting  36 of Parameters Grid is now on progres.\n"
     ]
    },
    {
     "name": "stderr",
     "output_type": "stream",
     "text": [
      "Epoch  0: 100%|██████████| 44/44 [00:02<00:00, 21.17it/s, Train Loss=15017.4142, Valid Loss=11839.3057, Valid R2=-1.4351, Valid MAE=83.5279]\n",
      "Epoch  1: 100%|██████████| 44/44 [00:02<00:00, 20.83it/s, Train Loss=13663.6830, Valid Loss=10279.3789, Valid R2=-1.1142, Valid MAE=74.0405]\n",
      "Epoch  2: 100%|██████████| 44/44 [00:02<00:00, 20.87it/s, Train Loss=10926.9004, Valid Loss=7007.2910, Valid R2=-0.4412, Valid MAE=55.9413]\n",
      "Epoch  3: 100%|██████████| 44/44 [00:02<00:00, 20.78it/s, Train Loss=7452.1091, Valid Loss=5048.1162, Valid R2=-0.0383, Valid MAE=49.6117]\n",
      "Epoch  4: 100%|██████████| 44/44 [00:02<00:00, 20.70it/s, Train Loss=6023.8710, Valid Loss=4879.0864, Valid R2=-0.0035, Valid MAE=52.2896]\n",
      "Epoch  5: 100%|██████████| 44/44 [00:02<00:00, 20.83it/s, Train Loss=5856.6844, Valid Loss=4929.6514, Valid R2=-0.0139, Valid MAE=53.6035]\n",
      "Epoch  6: 100%|██████████| 44/44 [00:02<00:00, 20.81it/s, Train Loss=5878.6654, Valid Loss=4836.8213, Valid R2=0.0052, Valid MAE=52.2177]\n",
      "Epoch  7: 100%|██████████| 44/44 [00:02<00:00, 20.68it/s, Train Loss=5747.9711, Valid Loss=4808.3486, Valid R2=0.0110, Valid MAE=52.2845]\n",
      "Epoch  8: 100%|██████████| 44/44 [00:02<00:00, 20.75it/s, Train Loss=5652.6979, Valid Loss=4693.7065, Valid R2=0.0346, Valid MAE=50.6782]\n",
      "Epoch  9: 100%|██████████| 44/44 [00:02<00:00, 20.45it/s, Train Loss=5386.1471, Valid Loss=4713.9072, Valid R2=0.0305, Valid MAE=52.5400]\n",
      "Epoch 10: 100%|██████████| 44/44 [00:02<00:00, 20.62it/s, Train Loss=5103.1272, Valid Loss=4459.0015, Valid R2=0.0829, Valid MAE=50.8269]\n",
      "Epoch 11: 100%|██████████| 44/44 [00:02<00:00, 20.56it/s, Train Loss=4721.3929, Valid Loss=4281.4575, Valid R2=0.1194, Valid MAE=48.8269]\n",
      "Epoch 12: 100%|██████████| 44/44 [00:02<00:00, 20.52it/s, Train Loss=4675.4739, Valid Loss=4477.8428, Valid R2=0.0790, Valid MAE=52.5065]\n",
      "Epoch 13: 100%|██████████| 44/44 [00:02<00:00, 21.10it/s, Train Loss=4430.8159, Valid Loss=4177.4717, Valid R2=0.1408, Valid MAE=49.5357]\n",
      "Epoch 14: 100%|██████████| 44/44 [00:01<00:00, 22.35it/s, Train Loss=4186.3023, Valid Loss=4076.5898, Valid R2=0.1615, Valid MAE=45.9434]\n",
      "Epoch 15: 100%|██████████| 44/44 [00:02<00:00, 21.17it/s, Train Loss=3924.5884, Valid Loss=3887.1960, Valid R2=0.2005, Valid MAE=45.0973]\n",
      "Epoch 16: 100%|██████████| 44/44 [00:02<00:00, 21.00it/s, Train Loss=3735.3846, Valid Loss=3839.2222, Valid R2=0.2104, Valid MAE=44.7315]\n",
      "Epoch 17: 100%|██████████| 44/44 [00:02<00:00, 20.88it/s, Train Loss=3574.2988, Valid Loss=3746.4370, Valid R2=0.2294, Valid MAE=45.9742]\n",
      "Epoch 18: 100%|██████████| 44/44 [00:02<00:00, 20.89it/s, Train Loss=3460.7976, Valid Loss=3625.8057, Valid R2=0.2543, Valid MAE=43.4721]\n",
      "Epoch 19: 100%|██████████| 44/44 [00:02<00:00, 21.05it/s, Train Loss=3449.7062, Valid Loss=4018.7615, Valid R2=0.1734, Valid MAE=49.1901]\n",
      "Epoch 20: 100%|██████████| 44/44 [00:02<00:00, 21.22it/s, Train Loss=3201.6859, Valid Loss=3761.3142, Valid R2=0.2264, Valid MAE=43.7223]\n",
      "Epoch 21: 100%|██████████| 44/44 [00:02<00:00, 20.30it/s, Train Loss=3290.0097, Valid Loss=3641.3435, Valid R2=0.2511, Valid MAE=42.8567]\n",
      "Epoch 22: 100%|██████████| 44/44 [00:02<00:00, 20.77it/s, Train Loss=3361.1965, Valid Loss=3784.2312, Valid R2=0.2217, Valid MAE=47.6166]\n",
      "Epoch 23: 100%|██████████| 44/44 [00:02<00:00, 20.25it/s, Train Loss=3278.4670, Valid Loss=3639.4617, Valid R2=0.2514, Valid MAE=45.2508]\n",
      "Epoch 24: 100%|██████████| 44/44 [00:02<00:00, 20.27it/s, Train Loss=3264.2073, Valid Loss=3827.3496, Valid R2=0.2128, Valid MAE=46.3851]\n"
     ]
    },
    {
     "name": "stdout",
     "output_type": "stream",
     "text": [
      "Early Stopped\n",
      "Setting  37 of Parameters Grid is now on progres.\n"
     ]
    },
    {
     "name": "stderr",
     "output_type": "stream",
     "text": [
      "Epoch  0: 100%|██████████| 44/44 [00:02<00:00, 20.41it/s, Train Loss=15047.0396, Valid Loss=11883.5127, Valid R2=-1.4442, Valid MAE=83.7941]\n",
      "Epoch  1: 100%|██████████| 44/44 [00:02<00:00, 20.53it/s, Train Loss=13248.3276, Valid Loss=9148.7578, Valid R2=-0.8817, Valid MAE=67.1724]\n",
      "Epoch  2: 100%|██████████| 44/44 [00:02<00:00, 21.75it/s, Train Loss=9329.3125, Valid Loss=5636.0552, Valid R2=-0.1592, Valid MAE=50.2854]\n",
      "Epoch  3: 100%|██████████| 44/44 [00:02<00:00, 20.13it/s, Train Loss=6295.9932, Valid Loss=4855.5371, Valid R2=0.0013, Valid MAE=52.2015]\n",
      "Epoch  4: 100%|██████████| 44/44 [00:02<00:00, 20.57it/s, Train Loss=5832.5818, Valid Loss=4929.6660, Valid R2=-0.0139, Valid MAE=53.5139]\n",
      "Epoch  5: 100%|██████████| 44/44 [00:02<00:00, 21.39it/s, Train Loss=5856.3643, Valid Loss=4942.7964, Valid R2=-0.0166, Valid MAE=53.8161]\n",
      "Epoch  6: 100%|██████████| 44/44 [00:02<00:00, 21.20it/s, Train Loss=5838.6765, Valid Loss=4936.3335, Valid R2=-0.0153, Valid MAE=53.7074]\n",
      "Epoch  7: 100%|██████████| 44/44 [00:02<00:00, 21.25it/s, Train Loss=5800.3018, Valid Loss=4932.2417, Valid R2=-0.0144, Valid MAE=53.6534]\n",
      "Epoch  8: 100%|██████████| 44/44 [00:02<00:00, 21.08it/s, Train Loss=5838.5192, Valid Loss=4932.9800, Valid R2=-0.0146, Valid MAE=53.6733]\n",
      "Epoch  9: 100%|██████████| 44/44 [00:02<00:00, 20.93it/s, Train Loss=5791.1906, Valid Loss=4945.3140, Valid R2=-0.0171, Valid MAE=53.9714]\n"
     ]
    },
    {
     "name": "stdout",
     "output_type": "stream",
     "text": [
      "Early Stopped\n",
      "Setting  38 of Parameters Grid is now on progres.\n"
     ]
    },
    {
     "name": "stderr",
     "output_type": "stream",
     "text": [
      "Epoch  0: 100%|██████████| 44/44 [00:02<00:00, 20.81it/s, Train Loss=14836.1358, Valid Loss=11266.9463, Valid R2=-1.3173, Valid MAE=80.0671]\n",
      "Epoch  1: 100%|██████████| 44/44 [00:01<00:00, 22.10it/s, Train Loss=12220.8800, Valid Loss=8286.6016, Valid R2=-0.7044, Valid MAE=62.3589]\n",
      "Epoch  2: 100%|██████████| 44/44 [00:02<00:00, 20.83it/s, Train Loss=8420.4849, Valid Loss=5375.5547, Valid R2=-0.1056, Valid MAE=49.6009]\n",
      "Epoch  3: 100%|██████████| 44/44 [00:02<00:00, 21.04it/s, Train Loss=6227.4145, Valid Loss=4862.7173, Valid R2=-0.0001, Valid MAE=51.3854]\n",
      "Epoch  4: 100%|██████████| 44/44 [00:02<00:00, 20.50it/s, Train Loss=5769.2095, Valid Loss=4939.7744, Valid R2=-0.0160, Valid MAE=53.7347]\n",
      "Epoch  5: 100%|██████████| 44/44 [00:02<00:00, 19.15it/s, Train Loss=5831.6866, Valid Loss=4927.4561, Valid R2=-0.0135, Valid MAE=53.5171]\n",
      "Epoch  6: 100%|██████████| 44/44 [00:02<00:00, 21.08it/s, Train Loss=5798.9727, Valid Loss=4937.1543, Valid R2=-0.0155, Valid MAE=53.7651]\n",
      "Epoch  7: 100%|██████████| 44/44 [00:02<00:00, 20.78it/s, Train Loss=5697.0140, Valid Loss=4834.8032, Valid R2=0.0056, Valid MAE=53.1744]\n",
      "Epoch  8: 100%|██████████| 44/44 [00:02<00:00, 20.63it/s, Train Loss=5410.6760, Valid Loss=4556.5747, Valid R2=0.0628, Valid MAE=50.8902]\n",
      "Epoch  9: 100%|██████████| 44/44 [00:02<00:00, 20.21it/s, Train Loss=5081.8219, Valid Loss=4519.7769, Valid R2=0.0704, Valid MAE=49.6898]\n",
      "Epoch 10: 100%|██████████| 44/44 [00:02<00:00, 20.46it/s, Train Loss=4772.4119, Valid Loss=4070.3579, Valid R2=0.1628, Valid MAE=49.1580]\n",
      "Epoch 11: 100%|██████████| 44/44 [00:02<00:00, 20.95it/s, Train Loss=4448.6890, Valid Loss=4132.9731, Valid R2=0.1499, Valid MAE=48.3774]\n",
      "Epoch 12: 100%|██████████| 44/44 [00:02<00:00, 20.52it/s, Train Loss=4216.0034, Valid Loss=4098.2495, Valid R2=0.1571, Valid MAE=48.5102]\n",
      "Epoch 13: 100%|██████████| 44/44 [00:02<00:00, 21.08it/s, Train Loss=4009.0022, Valid Loss=4404.1074, Valid R2=0.0942, Valid MAE=52.9829]\n",
      "Epoch 14: 100%|██████████| 44/44 [00:02<00:00, 20.84it/s, Train Loss=3778.3414, Valid Loss=4204.0908, Valid R2=0.1353, Valid MAE=49.2634]\n",
      "Epoch 15: 100%|██████████| 44/44 [00:02<00:00, 21.00it/s, Train Loss=3757.5570, Valid Loss=3808.2295, Valid R2=0.2167, Valid MAE=48.1472]\n",
      "Epoch 16: 100%|██████████| 44/44 [00:02<00:00, 20.68it/s, Train Loss=3698.8205, Valid Loss=4325.6196, Valid R2=0.1103, Valid MAE=53.0428]\n",
      "Epoch 17: 100%|██████████| 44/44 [00:02<00:00, 21.00it/s, Train Loss=3587.1720, Valid Loss=3955.2131, Valid R2=0.1865, Valid MAE=49.1842]\n",
      "Epoch 18: 100%|██████████| 44/44 [00:02<00:00, 20.91it/s, Train Loss=3426.6048, Valid Loss=4108.7754, Valid R2=0.1549, Valid MAE=50.9574]\n",
      "Epoch 19: 100%|██████████| 44/44 [00:02<00:00, 21.23it/s, Train Loss=3333.1071, Valid Loss=3717.9861, Valid R2=0.2353, Valid MAE=45.5690]\n",
      "Epoch 20: 100%|██████████| 44/44 [00:02<00:00, 20.93it/s, Train Loss=3261.1275, Valid Loss=3379.1631, Valid R2=0.3050, Valid MAE=43.1960]\n",
      "Epoch 21: 100%|██████████| 44/44 [00:02<00:00, 21.04it/s, Train Loss=3151.3013, Valid Loss=4287.6035, Valid R2=0.1181, Valid MAE=51.3085]\n",
      "Epoch 22: 100%|██████████| 44/44 [00:02<00:00, 20.93it/s, Train Loss=3304.9865, Valid Loss=3905.3320, Valid R2=0.1968, Valid MAE=47.8839]\n",
      "Epoch 23: 100%|██████████| 44/44 [00:02<00:00, 20.57it/s, Train Loss=2937.9568, Valid Loss=3939.1340, Valid R2=0.1898, Valid MAE=47.8983]\n",
      "Epoch 24: 100%|██████████| 44/44 [00:02<00:00, 20.50it/s, Train Loss=2793.4865, Valid Loss=4194.6367, Valid R2=0.1373, Valid MAE=49.0706]\n",
      "Epoch 25: 100%|██████████| 44/44 [00:02<00:00, 21.01it/s, Train Loss=2702.5522, Valid Loss=3901.0759, Valid R2=0.1976, Valid MAE=47.8365]\n",
      "Epoch 26: 100%|██████████| 44/44 [00:02<00:00, 21.05it/s, Train Loss=2611.5902, Valid Loss=3906.3406, Valid R2=0.1966, Valid MAE=47.8336]\n"
     ]
    },
    {
     "name": "stdout",
     "output_type": "stream",
     "text": [
      "Early Stopped\n",
      "Setting  39 of Parameters Grid is now on progres.\n"
     ]
    },
    {
     "name": "stderr",
     "output_type": "stream",
     "text": [
      "Epoch  0: 100%|██████████| 44/44 [00:02<00:00, 21.01it/s, Train Loss=14868.4981, Valid Loss=11422.8926, Valid R2=-1.3494, Valid MAE=81.0215]\n",
      "Epoch  1: 100%|██████████| 44/44 [00:02<00:00, 21.08it/s, Train Loss=12463.4428, Valid Loss=8588.4629, Valid R2=-0.7664, Valid MAE=64.0263]\n",
      "Epoch  2: 100%|██████████| 44/44 [00:02<00:00, 20.64it/s, Train Loss=9173.1318, Valid Loss=5983.5991, Valid R2=-0.2307, Valid MAE=51.4828]\n",
      "Epoch  3: 100%|██████████| 44/44 [00:02<00:00, 21.20it/s, Train Loss=6832.4909, Valid Loss=4953.1265, Valid R2=-0.0187, Valid MAE=49.8449]\n",
      "Epoch  4: 100%|██████████| 44/44 [00:02<00:00, 20.89it/s, Train Loss=5940.2788, Valid Loss=4874.6045, Valid R2=-0.0026, Valid MAE=52.0771]\n",
      "Epoch  5: 100%|██████████| 44/44 [00:02<00:00, 20.75it/s, Train Loss=5754.2436, Valid Loss=4935.0435, Valid R2=-0.0150, Valid MAE=53.6006]\n",
      "Epoch  6: 100%|██████████| 44/44 [00:02<00:00, 20.78it/s, Train Loss=5893.5821, Valid Loss=4941.8203, Valid R2=-0.0164, Valid MAE=53.7769]\n",
      "Epoch  7: 100%|██████████| 44/44 [00:02<00:00, 21.08it/s, Train Loss=5745.6893, Valid Loss=4936.3179, Valid R2=-0.0153, Valid MAE=53.6571]\n",
      "Epoch  8: 100%|██████████| 44/44 [00:02<00:00, 21.00it/s, Train Loss=5832.3220, Valid Loss=4905.8594, Valid R2=-0.0090, Valid MAE=53.1643]\n",
      "Epoch  9: 100%|██████████| 44/44 [00:02<00:00, 21.26it/s, Train Loss=5800.9916, Valid Loss=4906.0425, Valid R2=-0.0091, Valid MAE=53.7536]\n",
      "Epoch 10: 100%|██████████| 44/44 [00:02<00:00, 21.09it/s, Train Loss=5694.0430, Valid Loss=4931.3286, Valid R2=-0.0143, Valid MAE=54.6419]\n"
     ]
    },
    {
     "name": "stdout",
     "output_type": "stream",
     "text": [
      "Early Stopped\n",
      "Setting  40 of Parameters Grid is now on progres.\n"
     ]
    },
    {
     "name": "stderr",
     "output_type": "stream",
     "text": [
      "Epoch  0: 100%|██████████| 44/44 [00:02<00:00, 20.56it/s, Train Loss=15090.8826, Valid Loss=11847.4580, Valid R2=-1.4367, Valid MAE=83.5808]\n",
      "Epoch  1: 100%|██████████| 44/44 [00:02<00:00, 20.69it/s, Train Loss=12892.1059, Valid Loss=8531.2373, Valid R2=-0.7547, Valid MAE=63.7167]\n",
      "Epoch  2: 100%|██████████| 44/44 [00:02<00:00, 20.81it/s, Train Loss=8210.2561, Valid Loss=5067.7734, Valid R2=-0.0423, Valid MAE=49.6078]\n",
      "Epoch  3: 100%|██████████| 44/44 [00:02<00:00, 21.01it/s, Train Loss=5960.2290, Valid Loss=4938.8325, Valid R2=-0.0158, Valid MAE=53.6504]\n",
      "Epoch  4: 100%|██████████| 44/44 [00:02<00:00, 21.09it/s, Train Loss=5762.0972, Valid Loss=4951.4473, Valid R2=-0.0184, Valid MAE=53.9011]\n",
      "Epoch  5: 100%|██████████| 44/44 [00:02<00:00, 20.72it/s, Train Loss=5795.1194, Valid Loss=4944.8774, Valid R2=-0.0170, Valid MAE=53.7838]\n",
      "Epoch  6: 100%|██████████| 44/44 [00:02<00:00, 20.97it/s, Train Loss=5873.4707, Valid Loss=4933.4155, Valid R2=-0.0147, Valid MAE=53.5636]\n",
      "Epoch  7: 100%|██████████| 44/44 [00:02<00:00, 20.63it/s, Train Loss=5806.1554, Valid Loss=4935.0889, Valid R2=-0.0150, Valid MAE=53.5985]\n",
      "Epoch  8: 100%|██████████| 44/44 [00:02<00:00, 20.17it/s, Train Loss=5837.7495, Valid Loss=4933.6860, Valid R2=-0.0147, Valid MAE=53.5796]\n",
      "Epoch  9: 100%|██████████| 44/44 [00:02<00:00, 20.37it/s, Train Loss=5752.0076, Valid Loss=4915.4980, Valid R2=-0.0110, Valid MAE=53.2837]\n",
      "Epoch 10: 100%|██████████| 44/44 [00:02<00:00, 19.27it/s, Train Loss=5847.1884, Valid Loss=5024.3916, Valid R2=-0.0334, Valid MAE=55.0657]\n",
      "Epoch 11: 100%|██████████| 44/44 [00:02<00:00, 20.93it/s, Train Loss=5778.4804, Valid Loss=4901.8110, Valid R2=-0.0082, Valid MAE=52.9480]\n",
      "Epoch 12: 100%|██████████| 44/44 [00:02<00:00, 21.12it/s, Train Loss=5809.8471, Valid Loss=4935.0488, Valid R2=-0.0150, Valid MAE=52.4359]\n",
      "Epoch 13: 100%|██████████| 44/44 [00:02<00:00, 21.00it/s, Train Loss=5586.2073, Valid Loss=4830.4038, Valid R2=0.0065, Valid MAE=51.7652]\n",
      "Epoch 14: 100%|██████████| 44/44 [00:02<00:00, 20.83it/s, Train Loss=5491.5208, Valid Loss=4948.2217, Valid R2=-0.0177, Valid MAE=54.0906]\n",
      "Epoch 15: 100%|██████████| 44/44 [00:02<00:00, 21.44it/s, Train Loss=5564.3506, Valid Loss=4824.2476, Valid R2=0.0078, Valid MAE=51.8132]\n",
      "Epoch 16: 100%|██████████| 44/44 [00:02<00:00, 20.26it/s, Train Loss=5299.6554, Valid Loss=4928.8813, Valid R2=-0.0138, Valid MAE=54.2086]\n",
      "Epoch 17: 100%|██████████| 44/44 [00:02<00:00, 20.78it/s, Train Loss=5063.2015, Valid Loss=4999.4297, Valid R2=-0.0283, Valid MAE=54.8055]\n",
      "Epoch 18: 100%|██████████| 44/44 [00:02<00:00, 21.30it/s, Train Loss=4855.0315, Valid Loss=4923.6567, Valid R2=-0.0127, Valid MAE=52.8504]\n",
      "Epoch 19: 100%|██████████| 44/44 [00:02<00:00, 20.63it/s, Train Loss=4719.9512, Valid Loss=4762.6001, Valid R2=0.0204, Valid MAE=52.4673]\n",
      "Epoch 20: 100%|██████████| 44/44 [00:02<00:00, 20.18it/s, Train Loss=4389.8992, Valid Loss=4819.1021, Valid R2=0.0088, Valid MAE=50.4185]\n",
      "Epoch 21: 100%|██████████| 44/44 [00:02<00:00, 20.89it/s, Train Loss=4476.6757, Valid Loss=5314.9971, Valid R2=-0.0932, Valid MAE=57.8279]\n",
      "Epoch 22: 100%|██████████| 44/44 [00:02<00:00, 21.04it/s, Train Loss=4225.6121, Valid Loss=5123.9116, Valid R2=-0.0539, Valid MAE=56.1378]\n",
      "Epoch 23: 100%|██████████| 44/44 [00:02<00:00, 20.75it/s, Train Loss=4109.9586, Valid Loss=5213.6387, Valid R2=-0.0723, Valid MAE=55.0930]\n",
      "Epoch 24: 100%|██████████| 44/44 [00:02<00:00, 20.68it/s, Train Loss=3910.1011, Valid Loss=4938.6626, Valid R2=-0.0158, Valid MAE=52.8239]\n",
      "Epoch 25: 100%|██████████| 44/44 [00:02<00:00, 20.67it/s, Train Loss=4022.3741, Valid Loss=5204.6299, Valid R2=-0.0705, Valid MAE=51.8573]\n"
     ]
    },
    {
     "name": "stdout",
     "output_type": "stream",
     "text": [
      "Early Stopped\n",
      "Setting  41 of Parameters Grid is now on progres.\n"
     ]
    },
    {
     "name": "stderr",
     "output_type": "stream",
     "text": [
      "Epoch  0: 100%|██████████| 44/44 [00:02<00:00, 20.64it/s, Train Loss=14801.6907, Valid Loss=11209.1309, Valid R2=-1.3055, Valid MAE=79.7103]\n",
      "Epoch  1: 100%|██████████| 44/44 [00:02<00:00, 20.64it/s, Train Loss=12503.3499, Valid Loss=8885.7793, Valid R2=-0.8276, Valid MAE=65.6529]\n",
      "Epoch  2: 100%|██████████| 44/44 [00:02<00:00, 21.52it/s, Train Loss=9424.4598, Valid Loss=5891.4346, Valid R2=-0.2117, Valid MAE=51.1446]\n",
      "Epoch  3: 100%|██████████| 44/44 [00:02<00:00, 21.10it/s, Train Loss=6381.0735, Valid Loss=4875.0439, Valid R2=-0.0027, Valid MAE=52.2329]\n",
      "Epoch  4: 100%|██████████| 44/44 [00:02<00:00, 20.88it/s, Train Loss=5795.4420, Valid Loss=4934.5347, Valid R2=-0.0149, Valid MAE=53.7146]\n",
      "Epoch  5: 100%|██████████| 44/44 [00:02<00:00, 20.90it/s, Train Loss=5804.7708, Valid Loss=4912.8970, Valid R2=-0.0105, Valid MAE=53.3185]\n",
      "Epoch  6: 100%|██████████| 44/44 [00:02<00:00, 21.24it/s, Train Loss=5779.1397, Valid Loss=4924.0063, Valid R2=-0.0128, Valid MAE=53.5603]\n",
      "Epoch  7: 100%|██████████| 44/44 [00:02<00:00, 21.51it/s, Train Loss=5772.5623, Valid Loss=4941.0547, Valid R2=-0.0163, Valid MAE=53.8371]\n",
      "Epoch  8: 100%|██████████| 44/44 [00:02<00:00, 21.13it/s, Train Loss=5844.0680, Valid Loss=4956.0205, Valid R2=-0.0193, Valid MAE=54.1918]\n",
      "Epoch  9: 100%|██████████| 44/44 [00:02<00:00, 21.03it/s, Train Loss=5788.0304, Valid Loss=4868.3359, Valid R2=-0.0013, Valid MAE=52.6436]\n",
      "Epoch 10: 100%|██████████| 44/44 [00:02<00:00, 21.73it/s, Train Loss=5778.7613, Valid Loss=4837.2793, Valid R2=0.0051, Valid MAE=52.6531]\n",
      "Epoch 11: 100%|██████████| 44/44 [00:02<00:00, 20.92it/s, Train Loss=5539.2807, Valid Loss=4980.5645, Valid R2=-0.0244, Valid MAE=55.7257]\n",
      "Epoch 12: 100%|██████████| 44/44 [00:02<00:00, 21.11it/s, Train Loss=5671.8388, Valid Loss=4956.4551, Valid R2=-0.0194, Valid MAE=54.5456]\n",
      "Epoch 13: 100%|██████████| 44/44 [00:02<00:00, 21.22it/s, Train Loss=5503.1272, Valid Loss=4708.3721, Valid R2=0.0316, Valid MAE=51.6292]\n",
      "Epoch 14: 100%|██████████| 44/44 [00:02<00:00, 20.99it/s, Train Loss=4892.0454, Valid Loss=4415.6509, Valid R2=0.0918, Valid MAE=50.6529]\n",
      "Epoch 15: 100%|██████████| 44/44 [00:02<00:00, 20.92it/s, Train Loss=4830.0191, Valid Loss=4370.0923, Valid R2=0.1012, Valid MAE=49.3880]\n",
      "Epoch 16: 100%|██████████| 44/44 [00:02<00:00, 20.34it/s, Train Loss=4487.6664, Valid Loss=4319.4614, Valid R2=0.1116, Valid MAE=50.2234]\n",
      "Epoch 17: 100%|██████████| 44/44 [00:02<00:00, 20.31it/s, Train Loss=4357.0184, Valid Loss=3908.8506, Valid R2=0.1960, Valid MAE=47.1044]\n",
      "Epoch 18: 100%|██████████| 44/44 [00:02<00:00, 20.95it/s, Train Loss=3989.7603, Valid Loss=3992.2632, Valid R2=0.1789, Valid MAE=46.4592]\n",
      "Epoch 19: 100%|██████████| 44/44 [00:02<00:00, 20.36it/s, Train Loss=3726.6751, Valid Loss=4000.4019, Valid R2=0.1772, Valid MAE=46.8357]\n",
      "Epoch 20: 100%|██████████| 44/44 [00:02<00:00, 20.08it/s, Train Loss=3567.5934, Valid Loss=4101.9883, Valid R2=0.1563, Valid MAE=44.9303]\n",
      "Epoch 21: 100%|██████████| 44/44 [00:02<00:00, 20.18it/s, Train Loss=3855.1108, Valid Loss=3834.5728, Valid R2=0.2113, Valid MAE=46.0758]\n",
      "Epoch 22: 100%|██████████| 44/44 [00:02<00:00, 20.58it/s, Train Loss=3431.7845, Valid Loss=3909.0662, Valid R2=0.1960, Valid MAE=46.0806]\n",
      "Epoch 23: 100%|██████████| 44/44 [00:02<00:00, 20.42it/s, Train Loss=3392.8914, Valid Loss=4108.7935, Valid R2=0.1549, Valid MAE=46.8219]\n",
      "Epoch 24: 100%|██████████| 44/44 [00:02<00:00, 20.56it/s, Train Loss=3234.3862, Valid Loss=3936.0669, Valid R2=0.1904, Valid MAE=45.5713]\n",
      "Epoch 25: 100%|██████████| 44/44 [00:02<00:00, 20.51it/s, Train Loss=3009.9654, Valid Loss=3821.9746, Valid R2=0.2139, Valid MAE=47.4968]\n",
      "Epoch 26: 100%|██████████| 44/44 [00:02<00:00, 20.61it/s, Train Loss=2952.7708, Valid Loss=3529.9448, Valid R2=0.2740, Valid MAE=44.7433]\n",
      "Epoch 27: 100%|██████████| 44/44 [00:02<00:00, 20.26it/s, Train Loss=2905.9887, Valid Loss=3920.4944, Valid R2=0.1936, Valid MAE=46.5953]\n",
      "Epoch 28: 100%|██████████| 44/44 [00:02<00:00, 21.63it/s, Train Loss=2781.5309, Valid Loss=3966.2834, Valid R2=0.1842, Valid MAE=48.3814]\n",
      "Epoch 29: 100%|██████████| 44/44 [00:02<00:00, 20.84it/s, Train Loss=2546.8401, Valid Loss=3830.6194, Valid R2=0.2121, Valid MAE=46.2381]\n",
      "Epoch 30: 100%|██████████| 44/44 [00:01<00:00, 22.25it/s, Train Loss=2596.4499, Valid Loss=4210.6846, Valid R2=0.1340, Valid MAE=48.5226]\n",
      "Epoch 31: 100%|██████████| 44/44 [00:01<00:00, 22.89it/s, Train Loss=2699.9463, Valid Loss=3799.4429, Valid R2=0.2185, Valid MAE=44.7701]\n",
      "Epoch 32: 100%|██████████| 44/44 [00:02<00:00, 20.92it/s, Train Loss=2483.2982, Valid Loss=3655.1433, Valid R2=0.2482, Valid MAE=47.0792]\n"
     ]
    },
    {
     "name": "stdout",
     "output_type": "stream",
     "text": [
      "Early Stopped\n",
      "Setting  42 of Parameters Grid is now on progres.\n"
     ]
    },
    {
     "name": "stderr",
     "output_type": "stream",
     "text": [
      "Epoch  0: 100%|██████████| 44/44 [00:02<00:00, 21.03it/s, Train Loss=14912.1514, Valid Loss=11364.1836, Valid R2=-1.3373, Valid MAE=80.6643]\n",
      "Epoch  1: 100%|██████████| 44/44 [00:02<00:00, 20.68it/s, Train Loss=12187.6950, Valid Loss=7994.4370, Valid R2=-0.6443, Valid MAE=60.8593]\n",
      "Epoch  2: 100%|██████████| 44/44 [00:02<00:00, 20.74it/s, Train Loss=7997.3302, Valid Loss=5081.0942, Valid R2=-0.0451, Valid MAE=49.5966]\n",
      "Epoch  3: 100%|██████████| 44/44 [00:02<00:00, 20.76it/s, Train Loss=5936.5082, Valid Loss=4920.0811, Valid R2=-0.0119, Valid MAE=53.1411]\n",
      "Epoch  4: 100%|██████████| 44/44 [00:02<00:00, 21.01it/s, Train Loss=5801.1737, Valid Loss=4855.3433, Valid R2=0.0014, Valid MAE=52.5823]\n",
      "Epoch  5: 100%|██████████| 44/44 [00:02<00:00, 21.10it/s, Train Loss=5719.4404, Valid Loss=4792.4844, Valid R2=0.0143, Valid MAE=51.9695]\n",
      "Epoch  6: 100%|██████████| 44/44 [00:02<00:00, 20.94it/s, Train Loss=5623.0224, Valid Loss=4803.8428, Valid R2=0.0120, Valid MAE=53.5480]\n",
      "Epoch  7: 100%|██████████| 44/44 [00:02<00:00, 20.09it/s, Train Loss=5502.1714, Valid Loss=4729.2036, Valid R2=0.0273, Valid MAE=52.6155]\n",
      "Epoch  8: 100%|██████████| 44/44 [00:02<00:00, 20.20it/s, Train Loss=5291.1090, Valid Loss=4506.8823, Valid R2=0.0730, Valid MAE=51.9287]\n",
      "Epoch  9: 100%|██████████| 44/44 [00:02<00:00, 21.35it/s, Train Loss=4930.0907, Valid Loss=4247.2051, Valid R2=0.1264, Valid MAE=48.3061]\n",
      "Epoch 10: 100%|██████████| 44/44 [00:01<00:00, 22.19it/s, Train Loss=4607.6906, Valid Loss=4321.5742, Valid R2=0.1112, Valid MAE=49.2782]\n",
      "Epoch 11: 100%|██████████| 44/44 [00:02<00:00, 21.33it/s, Train Loss=4366.1347, Valid Loss=3995.4644, Valid R2=0.1782, Valid MAE=46.5124]\n",
      "Epoch 12: 100%|██████████| 44/44 [00:01<00:00, 22.35it/s, Train Loss=4085.2436, Valid Loss=3988.5278, Valid R2=0.1797, Valid MAE=45.4555]\n",
      "Epoch 13: 100%|██████████| 44/44 [00:02<00:00, 20.34it/s, Train Loss=3874.4260, Valid Loss=3894.1997, Valid R2=0.1991, Valid MAE=46.9070]\n",
      "Epoch 14: 100%|██████████| 44/44 [00:02<00:00, 20.78it/s, Train Loss=3598.9059, Valid Loss=3742.8726, Valid R2=0.2302, Valid MAE=45.3482]\n",
      "Epoch 15: 100%|██████████| 44/44 [00:02<00:00, 20.24it/s, Train Loss=3486.9051, Valid Loss=3560.5964, Valid R2=0.2677, Valid MAE=44.2465]\n",
      "Epoch 16: 100%|██████████| 44/44 [00:02<00:00, 20.12it/s, Train Loss=3364.0485, Valid Loss=3560.6111, Valid R2=0.2677, Valid MAE=44.6846]\n",
      "Epoch 17: 100%|██████████| 44/44 [00:02<00:00, 21.73it/s, Train Loss=3291.8681, Valid Loss=4165.2148, Valid R2=0.1433, Valid MAE=49.8655]\n",
      "Epoch 18: 100%|██████████| 44/44 [00:02<00:00, 21.10it/s, Train Loss=3232.0523, Valid Loss=3484.8518, Valid R2=0.2832, Valid MAE=43.7436]\n",
      "Epoch 19: 100%|██████████| 44/44 [00:02<00:00, 20.96it/s, Train Loss=3166.4387, Valid Loss=3412.0020, Valid R2=0.2982, Valid MAE=42.2395]\n",
      "Epoch 20: 100%|██████████| 44/44 [00:02<00:00, 20.20it/s, Train Loss=3048.3400, Valid Loss=3585.8999, Valid R2=0.2625, Valid MAE=44.3929]\n",
      "Epoch 21: 100%|██████████| 44/44 [00:02<00:00, 20.96it/s, Train Loss=2815.7231, Valid Loss=3420.5986, Valid R2=0.2965, Valid MAE=42.9014]\n",
      "Epoch 22: 100%|██████████| 44/44 [00:02<00:00, 20.65it/s, Train Loss=2691.4329, Valid Loss=3716.3118, Valid R2=0.2356, Valid MAE=42.4327]\n",
      "Epoch 23: 100%|██████████| 44/44 [00:02<00:00, 20.82it/s, Train Loss=2675.9859, Valid Loss=3370.3484, Valid R2=0.3068, Valid MAE=41.8582]\n",
      "Epoch 24: 100%|██████████| 44/44 [00:02<00:00, 20.30it/s, Train Loss=2498.5374, Valid Loss=3294.4478, Valid R2=0.3224, Valid MAE=41.2345]\n",
      "Epoch 25: 100%|██████████| 44/44 [00:02<00:00, 19.32it/s, Train Loss=2444.5826, Valid Loss=3174.0806, Valid R2=0.3472, Valid MAE=41.0104]\n",
      "Epoch 26: 100%|██████████| 44/44 [00:02<00:00, 19.10it/s, Train Loss=2341.5419, Valid Loss=3491.6614, Valid R2=0.2818, Valid MAE=41.7866]\n",
      "Epoch 27: 100%|██████████| 44/44 [00:02<00:00, 18.83it/s, Train Loss=2565.5022, Valid Loss=3423.2693, Valid R2=0.2959, Valid MAE=43.3842]\n",
      "Epoch 28: 100%|██████████| 44/44 [00:02<00:00, 19.11it/s, Train Loss=2533.0852, Valid Loss=3443.1658, Valid R2=0.2918, Valid MAE=41.9383]\n",
      "Epoch 29: 100%|██████████| 44/44 [00:02<00:00, 20.34it/s, Train Loss=2328.2924, Valid Loss=3474.9297, Valid R2=0.2853, Valid MAE=42.8200]\n",
      "Epoch 30: 100%|██████████| 44/44 [00:01<00:00, 22.01it/s, Train Loss=2189.3440, Valid Loss=3450.8386, Valid R2=0.2902, Valid MAE=42.4576]\n",
      "Epoch 31: 100%|██████████| 44/44 [00:02<00:00, 21.04it/s, Train Loss=2180.8966, Valid Loss=3520.2161, Valid R2=0.2760, Valid MAE=42.3010]\n"
     ]
    },
    {
     "name": "stdout",
     "output_type": "stream",
     "text": [
      "Early Stopped\n",
      "Setting  43 of Parameters Grid is now on progres.\n"
     ]
    },
    {
     "name": "stderr",
     "output_type": "stream",
     "text": [
      "Epoch  0: 100%|██████████| 44/44 [00:02<00:00, 21.07it/s, Train Loss=14869.8539, Valid Loss=11233.1943, Valid R2=-1.3104, Valid MAE=79.8588]\n",
      "Epoch  1: 100%|██████████| 44/44 [00:02<00:00, 20.97it/s, Train Loss=12469.3268, Valid Loss=8762.2012, Valid R2=-0.8022, Valid MAE=64.9609]\n",
      "Epoch  2: 100%|██████████| 44/44 [00:02<00:00, 20.94it/s, Train Loss=9333.1549, Valid Loss=6122.1997, Valid R2=-0.2592, Valid MAE=52.0214]\n",
      "Epoch  3: 100%|██████████| 44/44 [00:02<00:00, 21.70it/s, Train Loss=6850.2050, Valid Loss=4938.0762, Valid R2=-0.0156, Valid MAE=49.9078]\n",
      "Epoch  4: 100%|██████████| 44/44 [00:02<00:00, 20.88it/s, Train Loss=5943.0415, Valid Loss=4888.8521, Valid R2=-0.0055, Valid MAE=52.5481]\n",
      "Epoch  5: 100%|██████████| 44/44 [00:02<00:00, 20.69it/s, Train Loss=5821.8461, Valid Loss=4927.8120, Valid R2=-0.0135, Valid MAE=53.4748]\n",
      "Epoch  6: 100%|██████████| 44/44 [00:02<00:00, 20.82it/s, Train Loss=5813.1677, Valid Loss=4947.5410, Valid R2=-0.0176, Valid MAE=53.8681]\n",
      "Epoch  7: 100%|██████████| 44/44 [00:02<00:00, 20.64it/s, Train Loss=5825.9238, Valid Loss=4952.3018, Valid R2=-0.0186, Valid MAE=53.8331]\n",
      "Epoch  8: 100%|██████████| 44/44 [00:02<00:00, 20.53it/s, Train Loss=5806.9797, Valid Loss=4916.2402, Valid R2=-0.0112, Valid MAE=53.2397]\n",
      "Epoch  9: 100%|██████████| 44/44 [00:02<00:00, 19.97it/s, Train Loss=5802.4966, Valid Loss=4926.4370, Valid R2=-0.0133, Valid MAE=53.4813]\n",
      "Epoch 10: 100%|██████████| 44/44 [00:02<00:00, 21.22it/s, Train Loss=5824.5352, Valid Loss=4922.8677, Valid R2=-0.0125, Valid MAE=53.4345]\n"
     ]
    },
    {
     "name": "stdout",
     "output_type": "stream",
     "text": [
      "Early Stopped\n",
      "Setting  44 of Parameters Grid is now on progres.\n"
     ]
    },
    {
     "name": "stderr",
     "output_type": "stream",
     "text": [
      "Epoch  0: 100%|██████████| 44/44 [00:02<00:00, 20.74it/s, Train Loss=14603.4514, Valid Loss=10541.4033, Valid R2=-1.1681, Valid MAE=75.6182]\n",
      "Epoch  1: 100%|██████████| 44/44 [00:02<00:00, 20.84it/s, Train Loss=10968.9366, Valid Loss=7012.2437, Valid R2=-0.4423, Valid MAE=55.9565]\n",
      "Epoch  2: 100%|██████████| 44/44 [00:02<00:00, 20.74it/s, Train Loss=7385.2927, Valid Loss=5036.5400, Valid R2=-0.0359, Valid MAE=49.6339]\n",
      "Epoch  3: 100%|██████████| 44/44 [00:02<00:00, 21.20it/s, Train Loss=5947.0763, Valid Loss=4893.1855, Valid R2=-0.0064, Valid MAE=52.6250]\n",
      "Epoch  4: 100%|██████████| 44/44 [00:01<00:00, 22.43it/s, Train Loss=5782.1895, Valid Loss=4964.0596, Valid R2=-0.0210, Valid MAE=54.1426]\n",
      "Epoch  5: 100%|██████████| 44/44 [00:02<00:00, 21.00it/s, Train Loss=5795.7556, Valid Loss=4950.0850, Valid R2=-0.0181, Valid MAE=53.8963]\n",
      "Epoch  6: 100%|██████████| 44/44 [00:02<00:00, 20.83it/s, Train Loss=5746.4403, Valid Loss=4960.6470, Valid R2=-0.0203, Valid MAE=54.0955]\n",
      "Epoch  7: 100%|██████████| 44/44 [00:02<00:00, 21.04it/s, Train Loss=5785.0540, Valid Loss=4897.8511, Valid R2=-0.0074, Valid MAE=52.9888]\n",
      "Epoch  8: 100%|██████████| 44/44 [00:02<00:00, 20.94it/s, Train Loss=5820.7938, Valid Loss=4952.8413, Valid R2=-0.0187, Valid MAE=53.9525]\n",
      "Epoch  9: 100%|██████████| 44/44 [00:02<00:00, 21.13it/s, Train Loss=5753.3907, Valid Loss=4867.1636, Valid R2=-0.0011, Valid MAE=53.1318]\n",
      "Epoch 10: 100%|██████████| 44/44 [00:02<00:00, 20.83it/s, Train Loss=5674.9347, Valid Loss=4833.1914, Valid R2=0.0059, Valid MAE=53.2144]\n",
      "Epoch 11: 100%|██████████| 44/44 [00:02<00:00, 20.87it/s, Train Loss=5429.1082, Valid Loss=4611.7817, Valid R2=0.0515, Valid MAE=50.7830]\n",
      "Epoch 12: 100%|██████████| 44/44 [00:02<00:00, 20.76it/s, Train Loss=5224.2910, Valid Loss=4446.3047, Valid R2=0.0855, Valid MAE=50.6110]\n",
      "Epoch 13: 100%|██████████| 44/44 [00:02<00:00, 20.46it/s, Train Loss=4904.0347, Valid Loss=4110.7061, Valid R2=0.1545, Valid MAE=47.4080]\n",
      "Epoch 14: 100%|██████████| 44/44 [00:02<00:00, 20.53it/s, Train Loss=4708.9908, Valid Loss=3963.7991, Valid R2=0.1847, Valid MAE=46.3297]\n",
      "Epoch 15: 100%|██████████| 44/44 [00:02<00:00, 20.86it/s, Train Loss=4430.3572, Valid Loss=4178.3379, Valid R2=0.1406, Valid MAE=48.0448]\n",
      "Epoch 16: 100%|██████████| 44/44 [00:02<00:00, 20.84it/s, Train Loss=4239.5305, Valid Loss=3989.2520, Valid R2=0.1795, Valid MAE=47.3873]\n",
      "Epoch 17: 100%|██████████| 44/44 [00:02<00:00, 21.00it/s, Train Loss=4189.3694, Valid Loss=3620.8672, Valid R2=0.2553, Valid MAE=44.6369]\n",
      "Epoch 18: 100%|██████████| 44/44 [00:02<00:00, 20.35it/s, Train Loss=4074.3353, Valid Loss=4119.8677, Valid R2=0.1526, Valid MAE=49.7727]\n",
      "Epoch 19: 100%|██████████| 44/44 [00:02<00:00, 20.32it/s, Train Loss=3838.2491, Valid Loss=3642.2786, Valid R2=0.2509, Valid MAE=44.2217]\n",
      "Epoch 20: 100%|██████████| 44/44 [00:02<00:00, 20.71it/s, Train Loss=3690.6243, Valid Loss=3646.3706, Valid R2=0.2500, Valid MAE=44.7832]\n",
      "Epoch 21: 100%|██████████| 44/44 [00:02<00:00, 20.72it/s, Train Loss=3482.3144, Valid Loss=3694.8889, Valid R2=0.2400, Valid MAE=42.7235]\n",
      "Epoch 22: 100%|██████████| 44/44 [00:02<00:00, 20.99it/s, Train Loss=3397.7586, Valid Loss=3518.5686, Valid R2=0.2763, Valid MAE=43.7415]\n",
      "Epoch 23: 100%|██████████| 44/44 [00:02<00:00, 20.77it/s, Train Loss=3414.2429, Valid Loss=3704.8994, Valid R2=0.2380, Valid MAE=44.6347]\n",
      "Epoch 24: 100%|██████████| 44/44 [00:02<00:00, 20.81it/s, Train Loss=3423.9077, Valid Loss=3384.6033, Valid R2=0.3039, Valid MAE=41.0010]\n",
      "Epoch 25: 100%|██████████| 44/44 [00:01<00:00, 22.35it/s, Train Loss=3451.6151, Valid Loss=3780.4429, Valid R2=0.2225, Valid MAE=44.9444]\n",
      "Epoch 26: 100%|██████████| 44/44 [00:02<00:00, 21.39it/s, Train Loss=3279.4119, Valid Loss=3804.1594, Valid R2=0.2176, Valid MAE=45.5791]\n",
      "Epoch 27: 100%|██████████| 44/44 [00:02<00:00, 21.04it/s, Train Loss=3122.3433, Valid Loss=3670.3064, Valid R2=0.2451, Valid MAE=43.9282]\n",
      "Epoch 28: 100%|██████████| 44/44 [00:02<00:00, 20.70it/s, Train Loss=2979.6231, Valid Loss=3759.9290, Valid R2=0.2267, Valid MAE=44.0582]\n",
      "Epoch 29: 100%|██████████| 44/44 [00:02<00:00, 20.88it/s, Train Loss=2967.3522, Valid Loss=3749.7688, Valid R2=0.2288, Valid MAE=43.9269]\n",
      "Epoch 30: 100%|██████████| 44/44 [00:02<00:00, 20.75it/s, Train Loss=2770.9337, Valid Loss=3723.0369, Valid R2=0.2343, Valid MAE=44.8086]\n"
     ]
    },
    {
     "name": "stdout",
     "output_type": "stream",
     "text": [
      "Early Stopped\n",
      "Setting  45 of Parameters Grid is now on progres.\n"
     ]
    },
    {
     "name": "stderr",
     "output_type": "stream",
     "text": [
      "Epoch  0: 100%|██████████| 44/44 [00:02<00:00, 21.02it/s, Train Loss=14691.6687, Valid Loss=10791.7012, Valid R2=-1.2196, Valid MAE=77.1496]\n",
      "Epoch  1: 100%|██████████| 44/44 [00:02<00:00, 20.91it/s, Train Loss=11485.7510, Valid Loss=7513.8389, Valid R2=-0.5454, Valid MAE=58.4343]\n",
      "Epoch  2: 100%|██████████| 44/44 [00:02<00:00, 21.03it/s, Train Loss=7744.8444, Valid Loss=5008.4502, Valid R2=-0.0301, Valid MAE=49.7250]\n",
      "Epoch  3: 100%|██████████| 44/44 [00:02<00:00, 20.58it/s, Train Loss=5951.5609, Valid Loss=4941.9756, Valid R2=-0.0164, Valid MAE=53.6956]\n",
      "Epoch  4: 100%|██████████| 44/44 [00:02<00:00, 20.38it/s, Train Loss=5802.2171, Valid Loss=4893.2461, Valid R2=-0.0064, Valid MAE=53.1164]\n",
      "Epoch  5: 100%|██████████| 44/44 [00:02<00:00, 20.64it/s, Train Loss=5665.0944, Valid Loss=4813.2290, Valid R2=0.0100, Valid MAE=53.2179]\n",
      "Epoch  6: 100%|██████████| 44/44 [00:02<00:00, 20.41it/s, Train Loss=5478.3741, Valid Loss=4623.0957, Valid R2=0.0491, Valid MAE=51.0470]\n",
      "Epoch  7: 100%|██████████| 44/44 [00:02<00:00, 20.71it/s, Train Loss=5127.0383, Valid Loss=4667.0557, Valid R2=0.0401, Valid MAE=50.8633]\n",
      "Epoch  8: 100%|██████████| 44/44 [00:02<00:00, 20.79it/s, Train Loss=4848.9785, Valid Loss=4390.4614, Valid R2=0.0970, Valid MAE=51.3025]\n",
      "Epoch  9: 100%|██████████| 44/44 [00:02<00:00, 20.71it/s, Train Loss=4691.0274, Valid Loss=4044.2168, Valid R2=0.1682, Valid MAE=45.7787]\n",
      "Epoch 10: 100%|██████████| 44/44 [00:02<00:00, 21.00it/s, Train Loss=4425.7123, Valid Loss=4196.9463, Valid R2=0.1368, Valid MAE=49.1400]\n",
      "Epoch 11: 100%|██████████| 44/44 [00:02<00:00, 20.53it/s, Train Loss=4205.5379, Valid Loss=4043.2520, Valid R2=0.1684, Valid MAE=47.8168]\n",
      "Epoch 12: 100%|██████████| 44/44 [00:02<00:00, 20.80it/s, Train Loss=4016.1895, Valid Loss=3959.9204, Valid R2=0.1855, Valid MAE=44.7985]\n",
      "Epoch 13: 100%|██████████| 44/44 [00:02<00:00, 21.13it/s, Train Loss=3903.9425, Valid Loss=3859.8943, Valid R2=0.2061, Valid MAE=47.4815]\n",
      "Epoch 14: 100%|██████████| 44/44 [00:01<00:00, 22.40it/s, Train Loss=3811.1768, Valid Loss=3743.5947, Valid R2=0.2300, Valid MAE=44.1741]\n",
      "Epoch 15: 100%|██████████| 44/44 [00:02<00:00, 21.56it/s, Train Loss=3486.8661, Valid Loss=3651.4707, Valid R2=0.2490, Valid MAE=46.0044]\n",
      "Epoch 16: 100%|██████████| 44/44 [00:02<00:00, 20.95it/s, Train Loss=3325.1965, Valid Loss=3772.1765, Valid R2=0.2242, Valid MAE=44.8602]\n",
      "Epoch 17: 100%|██████████| 44/44 [00:02<00:00, 21.12it/s, Train Loss=3541.7201, Valid Loss=3733.7712, Valid R2=0.2321, Valid MAE=47.1417]\n",
      "Epoch 18: 100%|██████████| 44/44 [00:02<00:00, 21.30it/s, Train Loss=3194.5756, Valid Loss=3707.3040, Valid R2=0.2375, Valid MAE=45.4152]\n",
      "Epoch 19: 100%|██████████| 44/44 [00:02<00:00, 21.30it/s, Train Loss=3065.1657, Valid Loss=3821.3545, Valid R2=0.2140, Valid MAE=47.6088]\n",
      "Epoch 20: 100%|██████████| 44/44 [00:02<00:00, 21.10it/s, Train Loss=3026.5387, Valid Loss=3567.0940, Valid R2=0.2663, Valid MAE=44.6479]\n",
      "Epoch 21: 100%|██████████| 44/44 [00:02<00:00, 21.06it/s, Train Loss=2806.7281, Valid Loss=3412.5566, Valid R2=0.2981, Valid MAE=43.2553]\n",
      "Epoch 22: 100%|██████████| 44/44 [00:02<00:00, 21.05it/s, Train Loss=2783.3696, Valid Loss=3767.0923, Valid R2=0.2252, Valid MAE=44.5894]\n",
      "Epoch 23: 100%|██████████| 44/44 [00:02<00:00, 21.18it/s, Train Loss=2676.9878, Valid Loss=3814.2087, Valid R2=0.2155, Valid MAE=44.3761]\n",
      "Epoch 24: 100%|██████████| 44/44 [00:02<00:00, 21.04it/s, Train Loss=2737.1492, Valid Loss=3669.5352, Valid R2=0.2453, Valid MAE=45.4373]\n",
      "Epoch 25: 100%|██████████| 44/44 [00:02<00:00, 21.01it/s, Train Loss=2430.0772, Valid Loss=3761.5718, Valid R2=0.2263, Valid MAE=46.8808]\n",
      "Epoch 26: 100%|██████████| 44/44 [00:02<00:00, 21.78it/s, Train Loss=2502.9413, Valid Loss=3783.1494, Valid R2=0.2219, Valid MAE=44.5429]\n",
      "Epoch 27: 100%|██████████| 44/44 [00:02<00:00, 21.01it/s, Train Loss=2347.8155, Valid Loss=3886.6675, Valid R2=0.2006, Valid MAE=46.5266]\n"
     ]
    },
    {
     "name": "stdout",
     "output_type": "stream",
     "text": [
      "Early Stopped\n",
      "Setting  46 of Parameters Grid is now on progres.\n"
     ]
    },
    {
     "name": "stderr",
     "output_type": "stream",
     "text": [
      "Epoch  0: 100%|██████████| 44/44 [00:02<00:00, 21.04it/s, Train Loss=14377.6674, Valid Loss=10222.4639, Valid R2=-1.1025, Valid MAE=73.6924]\n",
      "Epoch  1: 100%|██████████| 44/44 [00:02<00:00, 21.10it/s, Train Loss=10704.6709, Valid Loss=6722.1338, Valid R2=-0.3826, Valid MAE=54.5526]\n",
      "Epoch  2: 100%|██████████| 44/44 [00:02<00:00, 21.14it/s, Train Loss=7142.4919, Valid Loss=4930.4463, Valid R2=-0.0141, Valid MAE=49.9586]\n",
      "Epoch  3: 100%|██████████| 44/44 [00:02<00:00, 20.83it/s, Train Loss=5863.5319, Valid Loss=4932.7612, Valid R2=-0.0146, Valid MAE=53.5940]\n",
      "Epoch  4: 100%|██████████| 44/44 [00:02<00:00, 20.60it/s, Train Loss=5772.2078, Valid Loss=4957.7236, Valid R2=-0.0197, Valid MAE=54.0146]\n",
      "Epoch  5: 100%|██████████| 44/44 [00:02<00:00, 20.80it/s, Train Loss=5776.4564, Valid Loss=4937.3535, Valid R2=-0.0155, Valid MAE=53.6874]\n",
      "Epoch  6: 100%|██████████| 44/44 [00:02<00:00, 21.12it/s, Train Loss=5828.7141, Valid Loss=4966.3257, Valid R2=-0.0215, Valid MAE=54.2335]\n",
      "Epoch  7: 100%|██████████| 44/44 [00:02<00:00, 21.04it/s, Train Loss=5795.4064, Valid Loss=4924.4810, Valid R2=-0.0129, Valid MAE=53.4290]\n",
      "Epoch  8: 100%|██████████| 44/44 [00:02<00:00, 20.84it/s, Train Loss=5808.4275, Valid Loss=4938.1616, Valid R2=-0.0157, Valid MAE=53.7308]\n",
      "Epoch  9: 100%|██████████| 44/44 [00:02<00:00, 20.92it/s, Train Loss=5811.7723, Valid Loss=4928.4292, Valid R2=-0.0137, Valid MAE=53.5487]\n",
      "Epoch 10: 100%|██████████| 44/44 [00:02<00:00, 20.97it/s, Train Loss=5796.1449, Valid Loss=4936.5664, Valid R2=-0.0153, Valid MAE=53.7215]\n",
      "Epoch 11: 100%|██████████| 44/44 [00:02<00:00, 20.49it/s, Train Loss=5794.1199, Valid Loss=4883.5786, Valid R2=-0.0044, Valid MAE=52.6073]\n",
      "Epoch 12: 100%|██████████| 44/44 [00:02<00:00, 20.43it/s, Train Loss=5808.4909, Valid Loss=4958.2178, Valid R2=-0.0198, Valid MAE=54.2635]\n",
      "Epoch 13: 100%|██████████| 44/44 [00:02<00:00, 21.24it/s, Train Loss=5760.1001, Valid Loss=4887.2256, Valid R2=-0.0052, Valid MAE=53.2183]\n",
      "Epoch 14: 100%|██████████| 44/44 [00:02<00:00, 21.94it/s, Train Loss=5774.9326, Valid Loss=4840.9648, Valid R2=0.0043, Valid MAE=51.8125]\n",
      "Epoch 15: 100%|██████████| 44/44 [00:02<00:00, 21.10it/s, Train Loss=5708.6073, Valid Loss=4841.0059, Valid R2=0.0043, Valid MAE=52.4322]\n",
      "Epoch 16: 100%|██████████| 44/44 [00:02<00:00, 20.90it/s, Train Loss=5538.9341, Valid Loss=5266.6865, Valid R2=-0.0832, Valid MAE=58.7519]\n",
      "Epoch 17: 100%|██████████| 44/44 [00:02<00:00, 21.07it/s, Train Loss=5334.8147, Valid Loss=4827.6738, Valid R2=0.0071, Valid MAE=53.3727]\n",
      "Epoch 18: 100%|██████████| 44/44 [00:02<00:00, 20.49it/s, Train Loss=5315.5087, Valid Loss=4762.0928, Valid R2=0.0205, Valid MAE=51.2678]\n",
      "Epoch 19: 100%|██████████| 44/44 [00:02<00:00, 20.61it/s, Train Loss=5095.2226, Valid Loss=5034.1055, Valid R2=-0.0354, Valid MAE=52.5728]\n",
      "Epoch 20: 100%|██████████| 44/44 [00:02<00:00, 20.35it/s, Train Loss=5094.1473, Valid Loss=5275.0522, Valid R2=-0.0850, Valid MAE=51.0448]\n",
      "Epoch 21: 100%|██████████| 44/44 [00:01<00:00, 22.06it/s, Train Loss=5011.3687, Valid Loss=5009.6191, Valid R2=-0.0304, Valid MAE=52.0654]\n",
      "Epoch 22: 100%|██████████| 44/44 [00:02<00:00, 21.19it/s, Train Loss=4707.3905, Valid Loss=5257.9336, Valid R2=-0.0814, Valid MAE=52.1450]\n",
      "Epoch 23: 100%|██████████| 44/44 [00:02<00:00, 20.32it/s, Train Loss=4604.2244, Valid Loss=5360.3340, Valid R2=-0.1025, Valid MAE=53.6107]\n",
      "Epoch 24: 100%|██████████| 44/44 [00:02<00:00, 21.31it/s, Train Loss=4228.2809, Valid Loss=5378.5342, Valid R2=-0.1062, Valid MAE=55.4983]\n"
     ]
    },
    {
     "name": "stdout",
     "output_type": "stream",
     "text": [
      "Early Stopped\n",
      "Setting  47 of Parameters Grid is now on progres.\n"
     ]
    },
    {
     "name": "stderr",
     "output_type": "stream",
     "text": [
      "Epoch  0: 100%|██████████| 44/44 [00:02<00:00, 21.21it/s, Train Loss=14321.7826, Valid Loss=9806.0166, Valid R2=-1.0169, Valid MAE=71.1640]\n",
      "Epoch  1: 100%|██████████| 44/44 [00:02<00:00, 21.26it/s, Train Loss=10190.0140, Valid Loss=6539.9888, Valid R2=-0.3451, Valid MAE=53.7609]\n",
      "Epoch  2: 100%|██████████| 44/44 [00:02<00:00, 20.98it/s, Train Loss=7111.1009, Valid Loss=4986.5386, Valid R2=-0.0256, Valid MAE=49.7094]\n",
      "Epoch  3: 100%|██████████| 44/44 [00:02<00:00, 20.65it/s, Train Loss=5929.8887, Valid Loss=4895.0513, Valid R2=-0.0068, Valid MAE=52.7388]\n",
      "Epoch  4: 100%|██████████| 44/44 [00:02<00:00, 20.65it/s, Train Loss=5760.9610, Valid Loss=4898.6143, Valid R2=-0.0075, Valid MAE=52.8974]\n",
      "Epoch  5: 100%|██████████| 44/44 [00:02<00:00, 20.95it/s, Train Loss=5783.9697, Valid Loss=4922.5366, Valid R2=-0.0125, Valid MAE=53.6348]\n",
      "Epoch  6: 100%|██████████| 44/44 [00:02<00:00, 21.73it/s, Train Loss=5766.1009, Valid Loss=4824.6318, Valid R2=0.0077, Valid MAE=51.8185]\n",
      "Epoch  7: 100%|██████████| 44/44 [00:02<00:00, 20.80it/s, Train Loss=5641.0376, Valid Loss=4821.4907, Valid R2=0.0083, Valid MAE=52.1737]\n",
      "Epoch  8: 100%|██████████| 44/44 [00:02<00:00, 20.54it/s, Train Loss=5619.6845, Valid Loss=4776.4424, Valid R2=0.0176, Valid MAE=52.0117]\n",
      "Epoch  9: 100%|██████████| 44/44 [00:02<00:00, 20.66it/s, Train Loss=5476.6415, Valid Loss=4856.2031, Valid R2=0.0012, Valid MAE=54.3973]\n",
      "Epoch 10: 100%|██████████| 44/44 [00:02<00:00, 20.89it/s, Train Loss=5384.4197, Valid Loss=4611.2563, Valid R2=0.0516, Valid MAE=49.7726]\n",
      "Epoch 11: 100%|██████████| 44/44 [00:02<00:00, 20.87it/s, Train Loss=5353.9807, Valid Loss=4488.7222, Valid R2=0.0768, Valid MAE=50.8496]\n",
      "Epoch 12: 100%|██████████| 44/44 [00:02<00:00, 20.51it/s, Train Loss=5179.3265, Valid Loss=4463.7036, Valid R2=0.0819, Valid MAE=49.4079]\n",
      "Epoch 13: 100%|██████████| 44/44 [00:02<00:00, 21.00it/s, Train Loss=4935.2087, Valid Loss=4835.5786, Valid R2=0.0054, Valid MAE=54.9667]\n",
      "Epoch 14: 100%|██████████| 44/44 [00:02<00:00, 20.31it/s, Train Loss=4972.5738, Valid Loss=4761.3228, Valid R2=0.0207, Valid MAE=53.4064]\n",
      "Epoch 15: 100%|██████████| 44/44 [00:02<00:00, 20.35it/s, Train Loss=5065.1728, Valid Loss=4878.1206, Valid R2=-0.0033, Valid MAE=56.3374]\n",
      "Epoch 16: 100%|██████████| 44/44 [00:02<00:00, 20.92it/s, Train Loss=4926.1596, Valid Loss=4745.3721, Valid R2=0.0240, Valid MAE=50.9243]\n",
      "Epoch 17: 100%|██████████| 44/44 [00:02<00:00, 21.10it/s, Train Loss=4663.9624, Valid Loss=5186.6953, Valid R2=-0.0668, Valid MAE=55.8989]\n",
      "Epoch 18: 100%|██████████| 44/44 [00:02<00:00, 20.67it/s, Train Loss=4535.1674, Valid Loss=4649.4448, Valid R2=0.0437, Valid MAE=52.6028]"
     ]
    },
    {
     "name": "stdout",
     "output_type": "stream",
     "text": [
      "Early Stopped\n",
      "Best Parameter Setting is:\n",
      "{'m': 12, 'skip_hidden_size': 32, 'skip': 12}\n"
     ]
    },
    {
     "name": "stderr",
     "output_type": "stream",
     "text": [
      "\n"
     ]
    }
   ],
   "source": [
    "model_name = 'model4'\n",
    "\n",
    "basic_params = {\n",
    "    'T': 60,\n",
    "    'n': 7\n",
    "}\n",
    "\n",
    "param_grid = {\n",
    "    'm': [12, 16, 24, 32],\n",
    "    'skip_hidden_size': [12, 16, 24, 32],\n",
    "    'skip': [8, 10, 12]\n",
    "}\n",
    "\n",
    "model_trainer = GridSearch(criterion, eval_metrics, device,\n",
    "                           temp_save_path=f'checkpoints/{model_name}_temp.pt')\n",
    "model2_best = model_trainer.train_by_grid(Model4, basic_params, param_grid, Adam, train_loader,\n",
    "                                          test_loader, lr, patience=5, epochs=50, save_filename=f'checkpoints/{model_name}_best.pt')\n"
   ]
  },
  {
   "cell_type": "code",
   "execution_count": null,
   "metadata": {},
   "outputs": [],
   "source": []
  }
 ],
 "metadata": {
  "kernelspec": {
   "display_name": "kwon_dl",
   "language": "python",
   "name": "python3"
  },
  "language_info": {
   "codemirror_mode": {
    "name": "ipython",
    "version": 3
   },
   "file_extension": ".py",
   "mimetype": "text/x-python",
   "name": "python",
   "nbconvert_exporter": "python",
   "pygments_lexer": "ipython3",
   "version": "3.9.13 (main, Aug 25 2022, 23:26:10) \n[GCC 11.2.0]"
  },
  "orig_nbformat": 4,
  "vscode": {
   "interpreter": {
    "hash": "7aba8400f5793028c76b760b8f218e34a1395ac8226b95289931317412384abc"
   }
  }
 },
 "nbformat": 4,
 "nbformat_minor": 2
}
