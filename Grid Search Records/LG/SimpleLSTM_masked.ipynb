{
 "cells": [
  {
   "attachments": {},
   "cell_type": "markdown",
   "metadata": {},
   "source": [
    "+ Write anything you need to test"
   ]
  },
  {
   "cell_type": "code",
   "execution_count": 1,
   "metadata": {},
   "outputs": [],
   "source": [
    "import pandas as pd\n",
    "import numpy as np\n",
    "import pickle\n",
    "\n",
    "from tqdm import tqdm\n",
    "\n",
    "from tools import Train, validation, GridSearch"
   ]
  },
  {
   "cell_type": "code",
   "execution_count": 2,
   "metadata": {},
   "outputs": [],
   "source": [
    "import torch\n",
    "from torch import nn\n",
    "from torch.nn import functional as F\n",
    "from torch.utils.data import Dataset, DataLoader\n",
    "\n",
    "from sklearn.metrics import r2_score, mean_absolute_error"
   ]
  },
  {
   "cell_type": "code",
   "execution_count": 3,
   "metadata": {},
   "outputs": [],
   "source": [
    "with open('data/train_dataset_masked.pickle', 'rb') as f:\n",
    "    train_dataset = pickle.load(f)\n",
    "\n",
    "with open('data/val_dataset_masked.pickle', 'rb') as f:\n",
    "    val_dataset = pickle.load(f)\n",
    "\n",
    "with open('data/test_dataset_masked.pickle', 'rb') as f:\n",
    "    test_dataset = pickle.load(f)"
   ]
  },
  {
   "cell_type": "code",
   "execution_count": 4,
   "metadata": {},
   "outputs": [],
   "source": [
    "train_loader = DataLoader(train_dataset, batch_size = 32, shuffle = True)\n",
    "val_loader = DataLoader(val_dataset, batch_size = 64, shuffle = False)\n",
    "test_loader = DataLoader(test_dataset, batch_size=64, shuffle=False)"
   ]
  },
  {
   "cell_type": "code",
   "execution_count": 5,
   "metadata": {},
   "outputs": [
    {
     "data": {
      "text/plain": [
       "device(type='cuda', index=0)"
      ]
     },
     "execution_count": 5,
     "metadata": {},
     "output_type": "execute_result"
    }
   ],
   "source": [
    "device = torch.device('cuda:0') if torch.cuda.is_available() else torch.device('cpu')\n",
    "device"
   ]
  },
  {
   "cell_type": "code",
   "execution_count": 6,
   "metadata": {},
   "outputs": [],
   "source": [
    "criterion = nn.MSELoss()\n",
    "eval_metrics = [\n",
    "    r2_score,\n",
    "    mean_absolute_error\n",
    "]"
   ]
  },
  {
   "cell_type": "code",
   "execution_count": 7,
   "metadata": {},
   "outputs": [],
   "source": [
    "class SimpleLSTM(nn.Module):\n",
    "    def __init__(self, n, m, num_layers):\n",
    "        super(SimpleLSTM, self).__init__()\n",
    "        self.lstm = nn.LSTM(input_size=n, hidden_size=m, num_layers=num_layers, batch_first=False)\n",
    "        self.linear_output = nn.Sequential(\n",
    "            nn.Linear(m, 2*m),\n",
    "            nn.ReLU(),\n",
    "            nn.Linear(2*m, 1)\n",
    "        )\n",
    "    \n",
    "\n",
    "    def forward(self, X): # (-1 x T x n)\n",
    "        X = X.permute(1, 0, 2) # (T x -1 x n)\n",
    "        output, _ = self.lstm(X) # (T x -1 x m), ((`num_layers` x -1 x m), (`num_layers` x -1 x m))\n",
    "        output = output[-1] # (-1 x m)\n",
    "        output = self.linear_output(output).squeeze(dim=1) # (-1 x 1) -> (-1)\n",
    "\n",
    "        return output"
   ]
  },
  {
   "cell_type": "code",
   "execution_count": 8,
   "metadata": {},
   "outputs": [
    {
     "name": "stdout",
     "output_type": "stream",
     "text": [
      "Total   9 cases are going to be searched.\n",
      "Setting   0 of Parameters Grid is now on progres.\n"
     ]
    },
    {
     "name": "stderr",
     "output_type": "stream",
     "text": [
      "Epoch  0: 100%|██████████| 1304/1304 [00:03<00:00, 358.35it/s, Train Loss=2.9183, Valid Loss=1.1500, Valid R2=-1.5949, Valid MAE=0.8054]\n",
      "Epoch  1: 100%|██████████| 1304/1304 [00:03<00:00, 388.11it/s, Train Loss=0.7662, Valid Loss=0.7153, Valid R2=-0.6139, Valid MAE=0.6238]\n",
      "Epoch  2: 100%|██████████| 1304/1304 [00:03<00:00, 396.36it/s, Train Loss=0.6602, Valid Loss=0.7379, Valid R2=-0.6651, Valid MAE=0.6686]\n",
      "Epoch  3: 100%|██████████| 1304/1304 [00:03<00:00, 382.60it/s, Train Loss=0.6173, Valid Loss=0.6010, Valid R2=-0.3561, Valid MAE=0.5958]\n",
      "Epoch  4: 100%|██████████| 1304/1304 [00:03<00:00, 376.76it/s, Train Loss=0.5870, Valid Loss=0.5252, Valid R2=-0.1851, Valid MAE=0.5783]\n",
      "Epoch  5: 100%|██████████| 1304/1304 [00:03<00:00, 382.16it/s, Train Loss=0.5657, Valid Loss=0.5320, Valid R2=-0.2003, Valid MAE=0.5787]\n",
      "Epoch  6: 100%|██████████| 1304/1304 [00:03<00:00, 384.18it/s, Train Loss=0.5458, Valid Loss=0.5142, Valid R2=-0.1603, Valid MAE=0.5849]\n",
      "Epoch  7: 100%|██████████| 1304/1304 [00:03<00:00, 375.70it/s, Train Loss=0.5251, Valid Loss=0.5058, Valid R2=-0.1412, Valid MAE=0.5820]\n",
      "Epoch  8: 100%|██████████| 1304/1304 [00:03<00:00, 380.41it/s, Train Loss=0.5045, Valid Loss=0.4694, Valid R2=-0.0592, Valid MAE=0.5544]\n",
      "Epoch  9: 100%|██████████| 1304/1304 [00:03<00:00, 375.83it/s, Train Loss=0.4850, Valid Loss=0.4110, Valid R2=0.0726, Valid MAE=0.5272]\n",
      "Epoch 10: 100%|██████████| 1304/1304 [00:03<00:00, 393.92it/s, Train Loss=0.4647, Valid Loss=0.4832, Valid R2=-0.0903, Valid MAE=0.5716]\n",
      "Epoch 11: 100%|██████████| 1304/1304 [00:03<00:00, 408.25it/s, Train Loss=0.4408, Valid Loss=0.4632, Valid R2=-0.0452, Valid MAE=0.5501]\n",
      "Epoch 12: 100%|██████████| 1304/1304 [00:03<00:00, 415.86it/s, Train Loss=0.4100, Valid Loss=0.5301, Valid R2=-0.1961, Valid MAE=0.5934]\n",
      "Epoch 13: 100%|██████████| 1304/1304 [00:03<00:00, 413.30it/s, Train Loss=0.3769, Valid Loss=0.4607, Valid R2=-0.0396, Valid MAE=0.5488]\n"
     ]
    },
    {
     "name": "stdout",
     "output_type": "stream",
     "text": [
      "Early Stopped\n",
      "Setting   1 of Parameters Grid is now on progres.\n"
     ]
    },
    {
     "name": "stderr",
     "output_type": "stream",
     "text": [
      "Epoch  0: 100%|██████████| 1304/1304 [00:04<00:00, 323.22it/s, Train Loss=2.0792, Valid Loss=0.5056, Valid R2=-0.1409, Valid MAE=0.5597]\n",
      "Epoch  1: 100%|██████████| 1304/1304 [00:03<00:00, 326.81it/s, Train Loss=0.5167, Valid Loss=0.4033, Valid R2=0.0899, Valid MAE=0.4775]\n",
      "Epoch  2: 100%|██████████| 1304/1304 [00:03<00:00, 340.84it/s, Train Loss=0.3720, Valid Loss=0.5173, Valid R2=-0.1671, Valid MAE=0.5369]\n",
      "Epoch  3: 100%|██████████| 1304/1304 [00:04<00:00, 323.99it/s, Train Loss=0.3063, Valid Loss=0.3653, Valid R2=0.1758, Valid MAE=0.4792]\n",
      "Epoch  4: 100%|██████████| 1304/1304 [00:04<00:00, 325.41it/s, Train Loss=0.1693, Valid Loss=0.5000, Valid R2=-0.1281, Valid MAE=0.5402]\n",
      "Epoch  5: 100%|██████████| 1304/1304 [00:04<00:00, 324.63it/s, Train Loss=0.1230, Valid Loss=0.4639, Valid R2=-0.0467, Valid MAE=0.5206]\n",
      "Epoch  6: 100%|██████████| 1304/1304 [00:03<00:00, 352.11it/s, Train Loss=0.1132, Valid Loss=0.5213, Valid R2=-0.1763, Valid MAE=0.5583]\n",
      "Epoch  7: 100%|██████████| 1304/1304 [00:03<00:00, 344.32it/s, Train Loss=0.0859, Valid Loss=0.5957, Valid R2=-0.3442, Valid MAE=0.5992]\n"
     ]
    },
    {
     "name": "stdout",
     "output_type": "stream",
     "text": [
      "Early Stopped\n",
      "Setting   2 of Parameters Grid is now on progres.\n"
     ]
    },
    {
     "name": "stderr",
     "output_type": "stream",
     "text": [
      "Epoch  0: 100%|██████████| 1304/1304 [00:04<00:00, 285.35it/s, Train Loss=1.8753, Valid Loss=0.4336, Valid R2=0.0217, Valid MAE=0.5368]\n",
      "Epoch  1: 100%|██████████| 1304/1304 [00:04<00:00, 278.99it/s, Train Loss=0.4678, Valid Loss=0.3073, Valid R2=0.3065, Valid MAE=0.4652]\n",
      "Epoch  2: 100%|██████████| 1304/1304 [00:04<00:00, 274.31it/s, Train Loss=0.2355, Valid Loss=0.3977, Valid R2=0.1025, Valid MAE=0.5140]\n",
      "Epoch  3: 100%|██████████| 1304/1304 [00:04<00:00, 283.34it/s, Train Loss=0.2818, Valid Loss=0.4262, Valid R2=0.0384, Valid MAE=0.5281]\n",
      "Epoch  4: 100%|██████████| 1304/1304 [00:04<00:00, 292.93it/s, Train Loss=0.1447, Valid Loss=0.3941, Valid R2=0.1108, Valid MAE=0.5208]\n",
      "Epoch  5: 100%|██████████| 1304/1304 [00:04<00:00, 275.89it/s, Train Loss=0.1176, Valid Loss=0.4195, Valid R2=0.0535, Valid MAE=0.5384]\n"
     ]
    },
    {
     "name": "stdout",
     "output_type": "stream",
     "text": [
      "Early Stopped\n",
      "Setting   3 of Parameters Grid is now on progres.\n"
     ]
    },
    {
     "name": "stderr",
     "output_type": "stream",
     "text": [
      "Epoch  0: 100%|██████████| 1304/1304 [00:03<00:00, 379.49it/s, Train Loss=8.0047, Valid Loss=2.1658, Valid R2=-3.8869, Valid MAE=1.1116]\n",
      "Epoch  1: 100%|██████████| 1304/1304 [00:03<00:00, 382.99it/s, Train Loss=1.8166, Valid Loss=2.0167, Valid R2=-3.5506, Valid MAE=1.0582]\n",
      "Epoch  2: 100%|██████████| 1304/1304 [00:03<00:00, 381.47it/s, Train Loss=1.4491, Valid Loss=1.7069, Valid R2=-2.8514, Valid MAE=0.9547]\n",
      "Epoch  3: 100%|██████████| 1304/1304 [00:03<00:00, 382.41it/s, Train Loss=1.2813, Valid Loss=1.4817, Valid R2=-2.3433, Valid MAE=0.8912]\n",
      "Epoch  4: 100%|██████████| 1304/1304 [00:03<00:00, 371.02it/s, Train Loss=1.1524, Valid Loss=1.4075, Valid R2=-2.1760, Valid MAE=0.8629]\n",
      "Epoch  5: 100%|██████████| 1304/1304 [00:03<00:00, 400.63it/s, Train Loss=1.0934, Valid Loss=1.3504, Valid R2=-2.0471, Valid MAE=0.8508]\n",
      "Epoch  6: 100%|██████████| 1304/1304 [00:03<00:00, 391.28it/s, Train Loss=1.0525, Valid Loss=1.3818, Valid R2=-2.1180, Valid MAE=0.8561]\n",
      "Epoch  7: 100%|██████████| 1304/1304 [00:03<00:00, 391.47it/s, Train Loss=1.0170, Valid Loss=1.4495, Valid R2=-2.2706, Valid MAE=0.8802]\n",
      "Epoch  8: 100%|██████████| 1304/1304 [00:03<00:00, 388.92it/s, Train Loss=0.9761, Valid Loss=1.4035, Valid R2=-2.1669, Valid MAE=0.8692]\n",
      "Epoch  9: 100%|██████████| 1304/1304 [00:03<00:00, 385.62it/s, Train Loss=0.9573, Valid Loss=1.4133, Valid R2=-2.1889, Valid MAE=0.8737]\n"
     ]
    },
    {
     "name": "stdout",
     "output_type": "stream",
     "text": [
      "Early Stopped\n",
      "Setting   4 of Parameters Grid is now on progres.\n"
     ]
    },
    {
     "name": "stderr",
     "output_type": "stream",
     "text": [
      "Epoch  0: 100%|██████████| 1304/1304 [00:03<00:00, 342.07it/s, Train Loss=5.4875, Valid Loss=1.1526, Valid R2=-1.6008, Valid MAE=0.8298]\n",
      "Epoch  1: 100%|██████████| 1304/1304 [00:03<00:00, 344.75it/s, Train Loss=0.9710, Valid Loss=0.8556, Valid R2=-0.9307, Valid MAE=0.6726]\n",
      "Epoch  2: 100%|██████████| 1304/1304 [00:03<00:00, 333.78it/s, Train Loss=0.8062, Valid Loss=0.9907, Valid R2=-1.2355, Valid MAE=0.7144]\n",
      "Epoch  3: 100%|██████████| 1304/1304 [00:03<00:00, 334.68it/s, Train Loss=0.7197, Valid Loss=0.8379, Valid R2=-0.8907, Valid MAE=0.6223]\n",
      "Epoch  4: 100%|██████████| 1304/1304 [00:04<00:00, 322.07it/s, Train Loss=0.6642, Valid Loss=0.8835, Valid R2=-0.9935, Valid MAE=0.6501]\n",
      "Epoch  5: 100%|██████████| 1304/1304 [00:03<00:00, 353.81it/s, Train Loss=0.6239, Valid Loss=0.7969, Valid R2=-0.7981, Valid MAE=0.6137]\n",
      "Epoch  6: 100%|██████████| 1304/1304 [00:03<00:00, 363.46it/s, Train Loss=0.5920, Valid Loss=0.8619, Valid R2=-0.9449, Valid MAE=0.6630]\n",
      "Epoch  7: 100%|██████████| 1304/1304 [00:03<00:00, 348.95it/s, Train Loss=0.5606, Valid Loss=0.8361, Valid R2=-0.8867, Valid MAE=0.6431]\n",
      "Epoch  8: 100%|██████████| 1304/1304 [00:03<00:00, 352.63it/s, Train Loss=0.5304, Valid Loss=0.7972, Valid R2=-0.7987, Valid MAE=0.6329]\n",
      "Epoch  9: 100%|██████████| 1304/1304 [00:03<00:00, 351.55it/s, Train Loss=0.4980, Valid Loss=0.7442, Valid R2=-0.6792, Valid MAE=0.6221]\n",
      "Epoch 10: 100%|██████████| 1304/1304 [00:03<00:00, 326.11it/s, Train Loss=0.4657, Valid Loss=0.8276, Valid R2=-0.8674, Valid MAE=0.6579]\n",
      "Epoch 11: 100%|██████████| 1304/1304 [00:03<00:00, 332.44it/s, Train Loss=0.4421, Valid Loss=0.8004, Valid R2=-0.8061, Valid MAE=0.6519]\n",
      "Epoch 12: 100%|██████████| 1304/1304 [00:03<00:00, 338.70it/s, Train Loss=0.4152, Valid Loss=0.6242, Valid R2=-0.4084, Valid MAE=0.5825]\n",
      "Epoch 13: 100%|██████████| 1304/1304 [00:03<00:00, 341.31it/s, Train Loss=0.3811, Valid Loss=0.6495, Valid R2=-0.4654, Valid MAE=0.5777]\n",
      "Epoch 14: 100%|██████████| 1304/1304 [00:03<00:00, 386.35it/s, Train Loss=0.3629, Valid Loss=0.8136, Valid R2=-0.8358, Valid MAE=0.6491]\n",
      "Epoch 15: 100%|██████████| 1304/1304 [00:03<00:00, 335.33it/s, Train Loss=0.3378, Valid Loss=0.7601, Valid R2=-0.7150, Valid MAE=0.6162]\n",
      "Epoch 16: 100%|██████████| 1304/1304 [00:03<00:00, 339.38it/s, Train Loss=0.3193, Valid Loss=0.8553, Valid R2=-0.9298, Valid MAE=0.6611]\n"
     ]
    },
    {
     "name": "stdout",
     "output_type": "stream",
     "text": [
      "Early Stopped\n",
      "Setting   5 of Parameters Grid is now on progres.\n"
     ]
    },
    {
     "name": "stderr",
     "output_type": "stream",
     "text": [
      "Epoch  0: 100%|██████████| 1304/1304 [00:04<00:00, 295.25it/s, Train Loss=5.8248, Valid Loss=0.9249, Valid R2=-1.0870, Valid MAE=0.7476]\n",
      "Epoch  1: 100%|██████████| 1304/1304 [00:03<00:00, 329.53it/s, Train Loss=0.8827, Valid Loss=0.6837, Valid R2=-0.5426, Valid MAE=0.6108]\n",
      "Epoch  2: 100%|██████████| 1304/1304 [00:04<00:00, 297.94it/s, Train Loss=0.7194, Valid Loss=0.7733, Valid R2=-0.7450, Valid MAE=0.6240]\n",
      "Epoch  3: 100%|██████████| 1304/1304 [00:04<00:00, 298.33it/s, Train Loss=0.6431, Valid Loss=0.6196, Valid R2=-0.3981, Valid MAE=0.5572]\n",
      "Epoch  4: 100%|██████████| 1304/1304 [00:04<00:00, 288.21it/s, Train Loss=0.6035, Valid Loss=0.7309, Valid R2=-0.6492, Valid MAE=0.6148]\n",
      "Epoch  5: 100%|██████████| 1304/1304 [00:04<00:00, 295.58it/s, Train Loss=0.5738, Valid Loss=0.7673, Valid R2=-0.7312, Valid MAE=0.6241]\n",
      "Epoch  6: 100%|██████████| 1304/1304 [00:04<00:00, 289.10it/s, Train Loss=0.5521, Valid Loss=0.5995, Valid R2=-0.3526, Valid MAE=0.5431]\n",
      "Epoch  7: 100%|██████████| 1304/1304 [00:04<00:00, 287.75it/s, Train Loss=0.5315, Valid Loss=0.6111, Valid R2=-0.3790, Valid MAE=0.5557]\n",
      "Epoch  8: 100%|██████████| 1304/1304 [00:04<00:00, 292.94it/s, Train Loss=0.5062, Valid Loss=0.6567, Valid R2=-0.4817, Valid MAE=0.5861]\n",
      "Epoch  9: 100%|██████████| 1304/1304 [00:04<00:00, 295.31it/s, Train Loss=0.4753, Valid Loss=0.8271, Valid R2=-0.8663, Valid MAE=0.6406]\n",
      "Epoch 10: 100%|██████████| 1304/1304 [00:04<00:00, 287.86it/s, Train Loss=0.4305, Valid Loss=0.9020, Valid R2=-1.0352, Valid MAE=0.6687]\n"
     ]
    },
    {
     "name": "stdout",
     "output_type": "stream",
     "text": [
      "Early Stopped\n",
      "Setting   6 of Parameters Grid is now on progres.\n"
     ]
    },
    {
     "name": "stderr",
     "output_type": "stream",
     "text": [
      "Epoch  0: 100%|██████████| 1304/1304 [00:03<00:00, 378.39it/s, Train Loss=6.8375, Valid Loss=2.1443, Valid R2=-3.8384, Valid MAE=1.1236]\n",
      "Epoch  1: 100%|██████████| 1304/1304 [00:03<00:00, 402.75it/s, Train Loss=1.4663, Valid Loss=1.4605, Valid R2=-2.2955, Valid MAE=0.8748]\n",
      "Epoch  2: 100%|██████████| 1304/1304 [00:03<00:00, 388.36it/s, Train Loss=1.1577, Valid Loss=0.9051, Valid R2=-1.0422, Valid MAE=0.6818]\n",
      "Epoch  3: 100%|██████████| 1304/1304 [00:03<00:00, 367.09it/s, Train Loss=1.0361, Valid Loss=0.8681, Valid R2=-0.9588, Valid MAE=0.6615]\n",
      "Epoch  4: 100%|██████████| 1304/1304 [00:03<00:00, 370.83it/s, Train Loss=0.9664, Valid Loss=0.7421, Valid R2=-0.6744, Valid MAE=0.6041]\n",
      "Epoch  5: 100%|██████████| 1304/1304 [00:03<00:00, 388.93it/s, Train Loss=0.9206, Valid Loss=0.6864, Valid R2=-0.5488, Valid MAE=0.5760]\n",
      "Epoch  6: 100%|██████████| 1304/1304 [00:03<00:00, 399.91it/s, Train Loss=0.8780, Valid Loss=0.6217, Valid R2=-0.4028, Valid MAE=0.5497]\n",
      "Epoch  7: 100%|██████████| 1304/1304 [00:03<00:00, 391.12it/s, Train Loss=0.8447, Valid Loss=0.7882, Valid R2=-0.7786, Valid MAE=0.6103]\n",
      "Epoch  8: 100%|██████████| 1304/1304 [00:03<00:00, 390.45it/s, Train Loss=0.8143, Valid Loss=0.7025, Valid R2=-0.5852, Valid MAE=0.5840]\n",
      "Epoch  9: 100%|██████████| 1304/1304 [00:03<00:00, 400.62it/s, Train Loss=0.7901, Valid Loss=0.6532, Valid R2=-0.4739, Valid MAE=0.5671]\n",
      "Epoch 10: 100%|██████████| 1304/1304 [00:03<00:00, 384.86it/s, Train Loss=0.7774, Valid Loss=0.6832, Valid R2=-0.5416, Valid MAE=0.5683]\n"
     ]
    },
    {
     "name": "stdout",
     "output_type": "stream",
     "text": [
      "Early Stopped\n",
      "Setting   7 of Parameters Grid is now on progres.\n"
     ]
    },
    {
     "name": "stderr",
     "output_type": "stream",
     "text": [
      "Epoch  0: 100%|██████████| 1304/1304 [00:03<00:00, 326.73it/s, Train Loss=4.8725, Valid Loss=0.7004, Valid R2=-0.5803, Valid MAE=0.6186]\n",
      "Epoch  1: 100%|██████████| 1304/1304 [00:03<00:00, 337.27it/s, Train Loss=0.8900, Valid Loss=0.5439, Valid R2=-0.2272, Valid MAE=0.5589]\n",
      "Epoch  2: 100%|██████████| 1304/1304 [00:04<00:00, 325.35it/s, Train Loss=0.7173, Valid Loss=0.4999, Valid R2=-0.1281, Valid MAE=0.5287]\n",
      "Epoch  3: 100%|██████████| 1304/1304 [00:04<00:00, 303.18it/s, Train Loss=0.6470, Valid Loss=0.4728, Valid R2=-0.0669, Valid MAE=0.5059]\n",
      "Epoch  4: 100%|██████████| 1304/1304 [00:03<00:00, 329.53it/s, Train Loss=0.6119, Valid Loss=0.3381, Valid R2=0.2372, Valid MAE=0.4571]\n",
      "Epoch  5: 100%|██████████| 1304/1304 [00:04<00:00, 320.90it/s, Train Loss=0.5877, Valid Loss=0.4112, Valid R2=0.0721, Valid MAE=0.4711]\n",
      "Epoch  6: 100%|██████████| 1304/1304 [00:03<00:00, 327.82it/s, Train Loss=0.5689, Valid Loss=0.3430, Valid R2=0.2260, Valid MAE=0.4489]\n",
      "Epoch  7: 100%|██████████| 1304/1304 [00:04<00:00, 319.78it/s, Train Loss=0.5522, Valid Loss=0.3373, Valid R2=0.2390, Valid MAE=0.4433]\n",
      "Epoch  8: 100%|██████████| 1304/1304 [00:03<00:00, 336.12it/s, Train Loss=0.5370, Valid Loss=0.3619, Valid R2=0.1833, Valid MAE=0.4584]\n",
      "Epoch  9: 100%|██████████| 1304/1304 [00:03<00:00, 348.95it/s, Train Loss=0.5228, Valid Loss=0.3831, Valid R2=0.1357, Valid MAE=0.4753]\n",
      "Epoch 10: 100%|██████████| 1304/1304 [00:03<00:00, 330.02it/s, Train Loss=0.4914, Valid Loss=0.3601, Valid R2=0.1875, Valid MAE=0.4581]\n",
      "Epoch 11: 100%|██████████| 1304/1304 [00:03<00:00, 333.07it/s, Train Loss=0.4381, Valid Loss=0.3262, Valid R2=0.2641, Valid MAE=0.4431]\n",
      "Epoch 12: 100%|██████████| 1304/1304 [00:04<00:00, 325.39it/s, Train Loss=0.3872, Valid Loss=0.3717, Valid R2=0.1613, Valid MAE=0.4673]\n",
      "Epoch 13: 100%|██████████| 1304/1304 [00:03<00:00, 337.30it/s, Train Loss=0.3348, Valid Loss=0.4876, Valid R2=-0.1002, Valid MAE=0.4954]\n",
      "Epoch 14: 100%|██████████| 1304/1304 [00:03<00:00, 369.32it/s, Train Loss=0.2884, Valid Loss=0.4501, Valid R2=-0.0155, Valid MAE=0.4985]\n",
      "Epoch 15: 100%|██████████| 1304/1304 [00:03<00:00, 326.46it/s, Train Loss=0.2460, Valid Loss=0.3051, Valid R2=0.3115, Valid MAE=0.4368]\n",
      "Epoch 16: 100%|██████████| 1304/1304 [00:04<00:00, 323.40it/s, Train Loss=0.2197, Valid Loss=0.3320, Valid R2=0.2508, Valid MAE=0.4568]\n",
      "Epoch 17: 100%|██████████| 1304/1304 [00:03<00:00, 333.38it/s, Train Loss=0.1967, Valid Loss=0.2952, Valid R2=0.3340, Valid MAE=0.4417]\n",
      "Epoch 18: 100%|██████████| 1304/1304 [00:03<00:00, 332.28it/s, Train Loss=0.1653, Valid Loss=0.2722, Valid R2=0.3857, Valid MAE=0.4254]\n",
      "Epoch 19: 100%|██████████| 1304/1304 [00:03<00:00, 331.24it/s, Train Loss=0.1484, Valid Loss=0.2972, Valid R2=0.3295, Valid MAE=0.4391]\n"
     ]
    },
    {
     "name": "stdout",
     "output_type": "stream",
     "text": [
      "Setting   8 of Parameters Grid is now on progres.\n"
     ]
    },
    {
     "name": "stderr",
     "output_type": "stream",
     "text": [
      "Epoch  0: 100%|██████████| 1304/1304 [00:04<00:00, 291.45it/s, Train Loss=4.6773, Valid Loss=0.6154, Valid R2=-0.3885, Valid MAE=0.5659]\n",
      "Epoch  1: 100%|██████████| 1304/1304 [00:04<00:00, 293.97it/s, Train Loss=0.7949, Valid Loss=0.4688, Valid R2=-0.0579, Valid MAE=0.5506]\n",
      "Epoch  2: 100%|██████████| 1304/1304 [00:04<00:00, 300.46it/s, Train Loss=0.7011, Valid Loss=0.3847, Valid R2=0.1320, Valid MAE=0.5139]\n",
      "Epoch  3: 100%|██████████| 1304/1304 [00:04<00:00, 300.74it/s, Train Loss=0.6488, Valid Loss=0.3753, Valid R2=0.1533, Valid MAE=0.5096]\n",
      "Epoch  4: 100%|██████████| 1304/1304 [00:04<00:00, 290.94it/s, Train Loss=0.6069, Valid Loss=0.4302, Valid R2=0.0294, Valid MAE=0.5306]\n",
      "Epoch  5: 100%|██████████| 1304/1304 [00:04<00:00, 293.36it/s, Train Loss=0.5697, Valid Loss=0.5222, Valid R2=-0.1783, Valid MAE=0.5855]\n",
      "Epoch  6: 100%|██████████| 1304/1304 [00:04<00:00, 310.45it/s, Train Loss=0.5247, Valid Loss=0.4408, Valid R2=0.0053, Valid MAE=0.5419]\n",
      "Epoch  7: 100%|██████████| 1304/1304 [00:04<00:00, 309.67it/s, Train Loss=0.4647, Valid Loss=0.3567, Valid R2=0.1951, Valid MAE=0.4801]\n",
      "Epoch  8: 100%|██████████| 1304/1304 [00:04<00:00, 290.90it/s, Train Loss=0.3980, Valid Loss=0.2705, Valid R2=0.3898, Valid MAE=0.4071]\n",
      "Epoch  9: 100%|██████████| 1304/1304 [00:04<00:00, 291.78it/s, Train Loss=0.3383, Valid Loss=0.4863, Valid R2=-0.0972, Valid MAE=0.5655]\n",
      "Epoch 10: 100%|██████████| 1304/1304 [00:04<00:00, 299.97it/s, Train Loss=0.3022, Valid Loss=0.4078, Valid R2=0.0799, Valid MAE=0.5157]\n",
      "Epoch 11: 100%|██████████| 1304/1304 [00:04<00:00, 293.33it/s, Train Loss=0.3610, Valid Loss=0.4406, Valid R2=0.0058, Valid MAE=0.5288]\n",
      "Epoch 12: 100%|██████████| 1304/1304 [00:04<00:00, 283.02it/s, Train Loss=0.2219, Valid Loss=0.4469, Valid R2=-0.0084, Valid MAE=0.5290]\n"
     ]
    },
    {
     "name": "stdout",
     "output_type": "stream",
     "text": [
      "Early Stopped\n"
     ]
    }
   ],
   "source": [
    "basic_params = {\n",
    "    'n': 40\n",
    "}\n",
    "\n",
    "param_grid = {\n",
    "    'm': [128, 32, 40],\n",
    "    'num_layers': [1, 2, 3]\n",
    "}\n",
    "\n",
    "model_name = 'Simple_LSTM'\n",
    "grid_model = GridSearch(criterion, eval_metrics, device, temp_save_path=f'checkpoints/model_by_param/temp_{model_name}.pt', masked=False)\n",
    "best_model = grid_model.train_by_grid(\n",
    "        SimpleLSTM, basic_params, param_grid,\n",
    "        torch.optim.Adam, train_loader, val_loader,\n",
    "        patience=3, epochs=20,\n",
    "        save_filename=f'checkpoints/{model_name}_best.pt'\n",
    "    )"
   ]
  },
  {
   "cell_type": "code",
   "execution_count": 9,
   "metadata": {},
   "outputs": [
    {
     "name": "stdout",
     "output_type": "stream",
     "text": [
      "Test Loss: 0.3700 | Test R2: 0.7991 | Test MAE: 0.4861\n",
      "Saving Process Complete. Directory: Simple_LSTM_losses.png\n"
     ]
    },
    {
     "data": {
      "image/png": "[encoded data removed]",
      "text/plain": [
       "<Figure size 700x500 with 1 Axes>"
      ]
     },
     "metadata": {},
     "output_type": "display_data"
    }
   ],
   "source": [
    "grid_model.test(test_loader)\n",
    "grid_model.plot_losses(plot_title=f'{model_name}', save_filename=f'{model_name}_losses.png')"
   ]
  }
 ],
 "metadata": {
  "kernelspec": {
   "display_name": "kwon_dl",
   "language": "python",
   "name": "python3"
  },
  "language_info": {
   "codemirror_mode": {
    "name": "ipython",
    "version": 3
   },
   "file_extension": ".py",
   "mimetype": "text/x-python",
   "name": "python",
   "nbconvert_exporter": "python",
   "pygments_lexer": "ipython3",
   "version": "3.9.13 (main, Aug 25 2022, 23:26:10) \n[GCC 11.2.0]"
  },
  "orig_nbformat": 4,
  "vscode": {
   "interpreter": {
    "hash": "7aba8400f5793028c76b760b8f218e34a1395ac8226b95289931317412384abc"
   }
  }
 },
 "nbformat": 4,
 "nbformat_minor": 2
}
