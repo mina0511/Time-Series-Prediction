{
  "cells": [
    {
      "cell_type": "code",
      "execution_count": 1,
      "metadata": {
        "colab": {
          "base_uri": "https://localhost:8080/"
        },
        "id": "_5bOKo4qawlz",
        "outputId": "7b5c3117-3563-4ae2-ae23-5f31333709fe"
      },
      "outputs": [],
      "source": [
        "import pandas as pd\n",
        "import numpy as np\n",
        "import pickle\n",
        "\n",
        "from tqdm import tqdm\n",
        "\n",
        "from LSTNet import LSTNet\n",
        "from tools import Train, validation, GridSearch"
      ]
    },
    {
      "cell_type": "code",
      "execution_count": 2,
      "metadata": {
        "id": "Qwjr4b4Xjgmz"
      },
      "outputs": [],
      "source": [
        "import torch\n",
        "from torch import nn\n",
        "from torch.nn import functional as F\n",
        "from torch.utils.data import Dataset, DataLoader\n",
        "device = torch.device('cuda:1') if torch.cuda.is_available() else torch.device('cpu')\n",
        "\n",
        "from sklearn.metrics import r2_score, mean_absolute_error"
      ]
    },
    {
      "cell_type": "code",
      "execution_count": 3,
      "metadata": {
        "id": "9lI5sP74a3e0"
      },
      "outputs": [],
      "source": [
        "with open('data/train_dataset.pickle', 'rb') as f:\n",
        "    train_dataset = pickle.load(f)\n",
        "\n",
        "with open('data/val_dataset.pickle', 'rb') as f:\n",
        "    val_dataset = pickle.load(f)\n",
        "\n",
        "with open('data/test_dataset.pickle', 'rb') as f:\n",
        "    test_dataset = pickle.load(f)"
      ]
    },
    {
      "cell_type": "code",
      "execution_count": 4,
      "metadata": {
        "colab": {
          "base_uri": "https://localhost:8080/"
        },
        "id": "WDjR30F6kMgI",
        "outputId": "4368b402-852a-48f5-f857-0027652296e8"
      },
      "outputs": [],
      "source": [
        "train_loader = DataLoader(train_dataset, batch_size = 16, shuffle = True)\n",
        "val_loader = DataLoader(val_dataset, batch_size = 64, shuffle = False)\n",
        "test_loader = DataLoader(test_dataset, batch_size=64, shuffle=False)"
      ]
    },
    {
      "cell_type": "markdown",
      "metadata": {},
      "source": [
        "# 사용법"
      ]
    },
    {
      "cell_type": "markdown",
      "metadata": {},
      "source": [
        "+ `basic_params`: 딱히 건드릴 필요 없는 애들 (`n` 같은 것들)\n",
        "+ `param_grid`: 그리드 서치의 대상이 되는 애들 (`m`: LSTM hidden size, `skip_hidden_size`: Skip GRU hidden size 등)\n",
        "+ 기본적으로 Train과 사용법이 비슷함\n",
        "    > `Train.best_model`: epoch들 중에서 loss가 가장 낮았던 순간을 기억  \n",
        "    > `GridSearch.best_model`: parameter 조합들에 의한 여러 model들 중에서 loss가 가장 낮았던 것을 기억  \n",
        "    > 아래 나오는 플롯들은 모두 최적의 parameter의 model에 대한 플롯"
      ]
    },
    {
      "cell_type": "code",
      "execution_count": 5,
      "metadata": {},
      "outputs": [],
      "source": [
        "criterion = nn.MSELoss()\n",
        "eval_metrics = [\n",
        "    r2_score,\n",
        "    mean_absolute_error\n",
        "]"
      ]
    },
    {
      "cell_type": "code",
      "execution_count": 6,
      "metadata": {},
      "outputs": [],
      "source": [
        "basic_params = {\n",
        "    'P': 60,\n",
        "    'm': 40,\n",
        "    'dropout': 0.2,\n",
        "    'output_func': 'sigmoid',\n",
        "    'device': device\n",
        "}\n",
        "\n",
        "param_grid = {\n",
        "    'hidR': [32, 40, 48],\n",
        "    'hidC': [32, 40, 48],\n",
        "    'hidS': [32, 40, 48],\n",
        "    'Ck': [6, 10],\n",
        "    'hw': [1, 2]\n",
        "}"
      ]
    },
    {
      "cell_type": "code",
      "execution_count": 7,
      "metadata": {},
      "outputs": [
        {
          "name": "stdout",
          "output_type": "stream",
          "text": [
            "Total 108 cases are going to be searched.\n",
            "Setting   0 of Parameters Grid is now on progres.\n"
          ]
        },
        {
          "name": "stderr",
          "output_type": "stream",
          "text": [
            "Epoch  0: 100%|██████████| 2607/2607 [00:11<00:00, 220.26it/s, Train Loss=7.0190, Valid Loss=0.2650, Valid R2=0.4020, Valid MAE=0.4157]\n",
            "Epoch  1: 100%|██████████| 2607/2607 [00:10<00:00, 244.86it/s, Train Loss=3.1829, Valid Loss=0.4185, Valid R2=0.0558, Valid MAE=0.4918]\n",
            "Epoch  2: 100%|██████████| 2607/2607 [00:09<00:00, 279.66it/s, Train Loss=1.7024, Valid Loss=0.3466, Valid R2=0.2180, Valid MAE=0.4343]\n",
            "Epoch  3: 100%|██████████| 2607/2607 [00:10<00:00, 248.09it/s, Train Loss=1.0653, Valid Loss=0.3053, Valid R2=0.3111, Valid MAE=0.4501]\n",
            "Epoch  4: 100%|██████████| 2607/2607 [00:10<00:00, 247.09it/s, Train Loss=0.8125, Valid Loss=0.4996, Valid R2=-0.1272, Valid MAE=0.5498]\n"
          ]
        },
        {
          "name": "stdout",
          "output_type": "stream",
          "text": [
            "Early Stopped\n",
            "Setting   1 of Parameters Grid is now on progres.\n"
          ]
        },
        {
          "name": "stderr",
          "output_type": "stream",
          "text": [
            "Epoch  0: 100%|██████████| 2607/2607 [00:10<00:00, 241.96it/s, Train Loss=6.3878, Valid Loss=0.3493, Valid R2=0.2118, Valid MAE=0.4853]\n",
            "Epoch  1: 100%|██████████| 2607/2607 [00:10<00:00, 244.22it/s, Train Loss=2.0046, Valid Loss=0.2761, Valid R2=0.3770, Valid MAE=0.3633]\n",
            "Epoch  2: 100%|██████████| 2607/2607 [00:10<00:00, 245.12it/s, Train Loss=0.9765, Valid Loss=0.2643, Valid R2=0.4036, Valid MAE=0.3683]\n",
            "Epoch  3: 100%|██████████| 2607/2607 [00:10<00:00, 253.59it/s, Train Loss=0.7401, Valid Loss=0.2567, Valid R2=0.4209, Valid MAE=0.3396]\n",
            "Epoch  4: 100%|██████████| 2607/2607 [00:10<00:00, 247.73it/s, Train Loss=0.6748, Valid Loss=0.2185, Valid R2=0.5070, Valid MAE=0.3340]\n",
            "Epoch  5: 100%|██████████| 2607/2607 [00:10<00:00, 245.67it/s, Train Loss=0.6390, Valid Loss=0.1863, Valid R2=0.5797, Valid MAE=0.3162]\n",
            "Epoch  6: 100%|██████████| 2607/2607 [00:10<00:00, 244.61it/s, Train Loss=0.6134, Valid Loss=0.2245, Valid R2=0.4935, Valid MAE=0.3523]\n",
            "Epoch  7: 100%|██████████| 2607/2607 [00:10<00:00, 245.01it/s, Train Loss=0.5925, Valid Loss=0.1678, Valid R2=0.6213, Valid MAE=0.3130]\n",
            "Epoch  8: 100%|██████████| 2607/2607 [00:10<00:00, 239.40it/s, Train Loss=0.5754, Valid Loss=0.1673, Valid R2=0.6226, Valid MAE=0.3090]\n",
            "Epoch  9: 100%|██████████| 2607/2607 [00:10<00:00, 249.49it/s, Train Loss=0.5672, Valid Loss=0.2030, Valid R2=0.5419, Valid MAE=0.3315]\n",
            "Epoch 10: 100%|██████████| 2607/2607 [00:10<00:00, 246.82it/s, Train Loss=0.5531, Valid Loss=0.1864, Valid R2=0.5795, Valid MAE=0.3164]\n",
            "Epoch 11: 100%|██████████| 2607/2607 [00:10<00:00, 244.43it/s, Train Loss=0.5452, Valid Loss=0.1703, Valid R2=0.6157, Valid MAE=0.3240]\n",
            "Epoch 12: 100%|██████████| 2607/2607 [00:10<00:00, 246.10it/s, Train Loss=0.5363, Valid Loss=0.1447, Valid R2=0.6735, Valid MAE=0.2965]\n",
            "Epoch 13: 100%|██████████| 2607/2607 [00:10<00:00, 254.35it/s, Train Loss=0.5264, Valid Loss=0.1627, Valid R2=0.6329, Valid MAE=0.3141]\n",
            "Epoch 14: 100%|██████████| 2607/2607 [00:10<00:00, 248.52it/s, Train Loss=0.5196, Valid Loss=0.1497, Valid R2=0.6622, Valid MAE=0.3146]\n",
            "Epoch 15: 100%|██████████| 2607/2607 [00:10<00:00, 250.52it/s, Train Loss=0.5078, Valid Loss=0.1513, Valid R2=0.6586, Valid MAE=0.3099]\n",
            "Epoch 16: 100%|██████████| 2607/2607 [00:10<00:00, 250.60it/s, Train Loss=0.5004, Valid Loss=0.2073, Valid R2=0.5322, Valid MAE=0.3294]\n"
          ]
        },
        {
          "name": "stdout",
          "output_type": "stream",
          "text": [
            "Early Stopped\n",
            "Setting   2 of Parameters Grid is now on progres.\n"
          ]
        },
        {
          "name": "stderr",
          "output_type": "stream",
          "text": [
            "Epoch  0: 100%|██████████| 2607/2607 [00:10<00:00, 254.58it/s, Train Loss=6.5594, Valid Loss=0.2534, Valid R2=0.4282, Valid MAE=0.4103]\n",
            "Epoch  1: 100%|██████████| 2607/2607 [00:10<00:00, 243.70it/s, Train Loss=2.4319, Valid Loss=0.4054, Valid R2=0.0853, Valid MAE=0.5216]\n",
            "Epoch  2: 100%|██████████| 2607/2607 [00:10<00:00, 241.89it/s, Train Loss=1.1946, Valid Loss=0.3645, Valid R2=0.1775, Valid MAE=0.4619]\n",
            "Epoch  3: 100%|██████████| 2607/2607 [00:10<00:00, 241.68it/s, Train Loss=0.8213, Valid Loss=0.2987, Valid R2=0.3261, Valid MAE=0.3735]\n",
            "Epoch  4: 100%|██████████| 2607/2607 [00:10<00:00, 242.90it/s, Train Loss=0.7116, Valid Loss=0.1847, Valid R2=0.5833, Valid MAE=0.3428]\n",
            "Epoch  5: 100%|██████████| 2607/2607 [00:10<00:00, 251.91it/s, Train Loss=0.6640, Valid Loss=0.1882, Valid R2=0.5754, Valid MAE=0.3451]\n",
            "Epoch  6: 100%|██████████| 2607/2607 [00:10<00:00, 253.38it/s, Train Loss=0.6342, Valid Loss=0.1321, Valid R2=0.7020, Valid MAE=0.2925]\n",
            "Epoch  7: 100%|██████████| 2607/2607 [00:10<00:00, 241.85it/s, Train Loss=0.6106, Valid Loss=0.2300, Valid R2=0.4809, Valid MAE=0.3789]\n",
            "Epoch  8: 100%|██████████| 2607/2607 [00:10<00:00, 247.28it/s, Train Loss=0.5941, Valid Loss=0.1552, Valid R2=0.6498, Valid MAE=0.3106]\n",
            "Epoch  9: 100%|██████████| 2607/2607 [00:10<00:00, 245.29it/s, Train Loss=0.5810, Valid Loss=0.1464, Valid R2=0.6696, Valid MAE=0.3116]\n",
            "Epoch 10: 100%|██████████| 2607/2607 [00:10<00:00, 244.10it/s, Train Loss=0.5701, Valid Loss=0.1603, Valid R2=0.6383, Valid MAE=0.3171]\n"
          ]
        },
        {
          "name": "stdout",
          "output_type": "stream",
          "text": [
            "Early Stopped\n",
            "Setting   3 of Parameters Grid is now on progres.\n"
          ]
        },
        {
          "name": "stderr",
          "output_type": "stream",
          "text": [
            "Epoch  0: 100%|██████████| 2607/2607 [00:10<00:00, 245.59it/s, Train Loss=7.6271, Valid Loss=1.0798, Valid R2=-1.4365, Valid MAE=0.9151]\n",
            "Epoch  1: 100%|██████████| 2607/2607 [00:10<00:00, 248.75it/s, Train Loss=3.6871, Valid Loss=0.2724, Valid R2=0.3853, Valid MAE=0.4197]\n",
            "Epoch  2: 100%|██████████| 2607/2607 [00:10<00:00, 260.38it/s, Train Loss=1.3696, Valid Loss=0.2730, Valid R2=0.3839, Valid MAE=0.4138]\n",
            "Epoch  3: 100%|██████████| 2607/2607 [00:10<00:00, 248.07it/s, Train Loss=0.8535, Valid Loss=0.2516, Valid R2=0.4323, Valid MAE=0.4114]\n",
            "Epoch  4: 100%|██████████| 2607/2607 [00:10<00:00, 244.69it/s, Train Loss=0.7124, Valid Loss=0.2157, Valid R2=0.5132, Valid MAE=0.3738]\n",
            "Epoch  5: 100%|██████████| 2607/2607 [00:10<00:00, 246.05it/s, Train Loss=0.6578, Valid Loss=0.2219, Valid R2=0.4992, Valid MAE=0.3832]\n",
            "Epoch  6: 100%|██████████| 2607/2607 [00:10<00:00, 246.08it/s, Train Loss=0.6291, Valid Loss=0.1814, Valid R2=0.5908, Valid MAE=0.3470]\n",
            "Epoch  7: 100%|██████████| 2607/2607 [00:10<00:00, 246.29it/s, Train Loss=0.6037, Valid Loss=0.1721, Valid R2=0.6117, Valid MAE=0.3404]\n",
            "Epoch  8: 100%|██████████| 2607/2607 [00:10<00:00, 242.47it/s, Train Loss=0.5805, Valid Loss=0.1931, Valid R2=0.5643, Valid MAE=0.3600]\n",
            "Epoch  9: 100%|██████████| 2607/2607 [00:10<00:00, 248.19it/s, Train Loss=0.5655, Valid Loss=0.1678, Valid R2=0.6215, Valid MAE=0.3348]\n",
            "Epoch 10: 100%|██████████| 2607/2607 [00:10<00:00, 248.37it/s, Train Loss=0.5508, Valid Loss=0.2097, Valid R2=0.5268, Valid MAE=0.3819]\n",
            "Epoch 11: 100%|██████████| 2607/2607 [00:09<00:00, 266.15it/s, Train Loss=0.5337, Valid Loss=0.2287, Valid R2=0.4841, Valid MAE=0.3791]\n",
            "Epoch 12: 100%|██████████| 2607/2607 [00:10<00:00, 250.14it/s, Train Loss=0.5210, Valid Loss=0.1933, Valid R2=0.5639, Valid MAE=0.3625]\n",
            "Epoch 13: 100%|██████████| 2607/2607 [00:10<00:00, 249.72it/s, Train Loss=0.5064, Valid Loss=0.2400, Valid R2=0.4586, Valid MAE=0.3976]\n"
          ]
        },
        {
          "name": "stdout",
          "output_type": "stream",
          "text": [
            "Early Stopped\n",
            "Setting   4 of Parameters Grid is now on progres.\n"
          ]
        },
        {
          "name": "stderr",
          "output_type": "stream",
          "text": [
            "Epoch  0: 100%|██████████| 2607/2607 [00:10<00:00, 237.07it/s, Train Loss=5.5524, Valid Loss=0.3464, Valid R2=0.2183, Valid MAE=0.4760]\n",
            "Epoch  1: 100%|██████████| 2607/2607 [00:10<00:00, 239.89it/s, Train Loss=1.7473, Valid Loss=0.3634, Valid R2=0.1801, Valid MAE=0.4717]\n",
            "Epoch  2: 100%|██████████| 2607/2607 [00:10<00:00, 244.35it/s, Train Loss=0.9117, Valid Loss=0.4108, Valid R2=0.0731, Valid MAE=0.4934]\n",
            "Epoch  3: 100%|██████████| 2607/2607 [00:10<00:00, 246.66it/s, Train Loss=0.7198, Valid Loss=0.2579, Valid R2=0.4181, Valid MAE=0.3885]\n",
            "Epoch  4: 100%|██████████| 2607/2607 [00:10<00:00, 242.73it/s, Train Loss=0.6654, Valid Loss=0.2415, Valid R2=0.4551, Valid MAE=0.3811]\n",
            "Epoch  5: 100%|██████████| 2607/2607 [00:10<00:00, 240.54it/s, Train Loss=0.6336, Valid Loss=0.2267, Valid R2=0.4885, Valid MAE=0.3619]\n",
            "Epoch  6: 100%|██████████| 2607/2607 [00:10<00:00, 240.95it/s, Train Loss=0.6063, Valid Loss=0.2645, Valid R2=0.4033, Valid MAE=0.3982]\n",
            "Epoch  7: 100%|██████████| 2607/2607 [00:10<00:00, 238.92it/s, Train Loss=0.5916, Valid Loss=0.2011, Valid R2=0.5463, Valid MAE=0.3532]\n",
            "Epoch  8: 100%|██████████| 2607/2607 [00:10<00:00, 246.04it/s, Train Loss=0.5791, Valid Loss=0.2413, Valid R2=0.4556, Valid MAE=0.3681]\n",
            "Epoch  9: 100%|██████████| 2607/2607 [00:10<00:00, 245.74it/s, Train Loss=0.5649, Valid Loss=0.2587, Valid R2=0.4164, Valid MAE=0.3842]\n",
            "Epoch 10: 100%|██████████| 2607/2607 [00:10<00:00, 244.31it/s, Train Loss=0.5579, Valid Loss=0.2566, Valid R2=0.4210, Valid MAE=0.3811]\n",
            "Epoch 11: 100%|██████████| 2607/2607 [00:10<00:00, 239.55it/s, Train Loss=0.5428, Valid Loss=0.2391, Valid R2=0.4604, Valid MAE=0.3751]\n"
          ]
        },
        {
          "name": "stdout",
          "output_type": "stream",
          "text": [
            "Early Stopped\n",
            "Setting   5 of Parameters Grid is now on progres.\n"
          ]
        },
        {
          "name": "stderr",
          "output_type": "stream",
          "text": [
            "Epoch  0: 100%|██████████| 2607/2607 [00:10<00:00, 255.96it/s, Train Loss=6.0320, Valid Loss=0.3666, Valid R2=0.1728, Valid MAE=0.5205]\n",
            "Epoch  1: 100%|██████████| 2607/2607 [00:10<00:00, 257.19it/s, Train Loss=2.2760, Valid Loss=0.6131, Valid R2=-0.3833, Valid MAE=0.6784]\n",
            "Epoch  2: 100%|██████████| 2607/2607 [00:10<00:00, 239.12it/s, Train Loss=1.4141, Valid Loss=0.3308, Valid R2=0.2535, Valid MAE=0.4569]\n",
            "Epoch  3: 100%|██████████| 2607/2607 [00:10<00:00, 242.67it/s, Train Loss=1.0031, Valid Loss=0.2527, Valid R2=0.4299, Valid MAE=0.3645]\n",
            "Epoch  4: 100%|██████████| 2607/2607 [00:10<00:00, 240.51it/s, Train Loss=0.8053, Valid Loss=0.2018, Valid R2=0.5446, Valid MAE=0.3203]\n",
            "Epoch  5: 100%|██████████| 2607/2607 [00:10<00:00, 248.20it/s, Train Loss=0.7150, Valid Loss=0.1996, Valid R2=0.5497, Valid MAE=0.3117]\n",
            "Epoch  6: 100%|██████████| 2607/2607 [00:09<00:00, 276.01it/s, Train Loss=0.6678, Valid Loss=0.1370, Valid R2=0.6908, Valid MAE=0.2687]\n",
            "Epoch  7: 100%|██████████| 2607/2607 [00:10<00:00, 246.56it/s, Train Loss=0.6322, Valid Loss=0.2599, Valid R2=0.4135, Valid MAE=0.3652]\n",
            "Epoch  8: 100%|██████████| 2607/2607 [00:10<00:00, 248.89it/s, Train Loss=0.6074, Valid Loss=0.1400, Valid R2=0.6841, Valid MAE=0.2636]\n",
            "Epoch  9: 100%|██████████| 2607/2607 [00:10<00:00, 242.70it/s, Train Loss=0.5885, Valid Loss=0.1682, Valid R2=0.6205, Valid MAE=0.2903]\n",
            "Epoch 10: 100%|██████████| 2607/2607 [00:10<00:00, 244.42it/s, Train Loss=0.5729, Valid Loss=0.1305, Valid R2=0.7056, Valid MAE=0.2677]\n",
            "Epoch 11: 100%|██████████| 2607/2607 [00:10<00:00, 243.58it/s, Train Loss=0.5643, Valid Loss=0.1785, Valid R2=0.5972, Valid MAE=0.3184]\n",
            "Epoch 12: 100%|██████████| 2607/2607 [00:10<00:00, 239.86it/s, Train Loss=0.5513, Valid Loss=0.1680, Valid R2=0.6210, Valid MAE=0.3097]\n",
            "Epoch 13: 100%|██████████| 2607/2607 [00:10<00:00, 258.61it/s, Train Loss=0.5418, Valid Loss=0.2179, Valid R2=0.5084, Valid MAE=0.3530]\n",
            "Epoch 14: 100%|██████████| 2607/2607 [00:10<00:00, 242.42it/s, Train Loss=0.5336, Valid Loss=0.2073, Valid R2=0.5323, Valid MAE=0.3528]\n"
          ]
        },
        {
          "name": "stdout",
          "output_type": "stream",
          "text": [
            "Early Stopped\n",
            "Setting   6 of Parameters Grid is now on progres.\n"
          ]
        },
        {
          "name": "stderr",
          "output_type": "stream",
          "text": [
            "Epoch  0: 100%|██████████| 2607/2607 [00:10<00:00, 242.82it/s, Train Loss=3.8800, Valid Loss=0.3435, Valid R2=0.2249, Valid MAE=0.4921]\n",
            "Epoch  1: 100%|██████████| 2607/2607 [00:10<00:00, 244.50it/s, Train Loss=1.5724, Valid Loss=0.3292, Valid R2=0.2572, Valid MAE=0.4299]\n",
            "Epoch  2: 100%|██████████| 2607/2607 [00:10<00:00, 240.81it/s, Train Loss=0.9835, Valid Loss=0.1716, Valid R2=0.6127, Valid MAE=0.3013]\n",
            "Epoch  3: 100%|██████████| 2607/2607 [00:10<00:00, 241.91it/s, Train Loss=0.7734, Valid Loss=0.2297, Valid R2=0.4817, Valid MAE=0.3672]\n",
            "Epoch  4: 100%|██████████| 2607/2607 [00:10<00:00, 242.52it/s, Train Loss=0.6859, Valid Loss=0.1446, Valid R2=0.6738, Valid MAE=0.3020]\n",
            "Epoch  5: 100%|██████████| 2607/2607 [00:10<00:00, 246.13it/s, Train Loss=0.6416, Valid Loss=0.1858, Valid R2=0.5808, Valid MAE=0.3216]\n",
            "Epoch  6: 100%|██████████| 2607/2607 [00:10<00:00, 241.78it/s, Train Loss=0.6063, Valid Loss=0.1339, Valid R2=0.6979, Valid MAE=0.2844]\n",
            "Epoch  7: 100%|██████████| 2607/2607 [00:10<00:00, 252.29it/s, Train Loss=0.5805, Valid Loss=0.1675, Valid R2=0.6220, Valid MAE=0.3193]\n",
            "Epoch  8: 100%|██████████| 2607/2607 [00:10<00:00, 241.68it/s, Train Loss=0.5557, Valid Loss=0.1935, Valid R2=0.5634, Valid MAE=0.3469]\n",
            "Epoch  9: 100%|██████████| 2607/2607 [00:10<00:00, 243.43it/s, Train Loss=0.5358, Valid Loss=0.1720, Valid R2=0.6120, Valid MAE=0.3307]\n",
            "Epoch 10: 100%|██████████| 2607/2607 [00:10<00:00, 243.06it/s, Train Loss=0.5183, Valid Loss=0.2597, Valid R2=0.4140, Valid MAE=0.3888]\n"
          ]
        },
        {
          "name": "stdout",
          "output_type": "stream",
          "text": [
            "Early Stopped\n",
            "Setting   7 of Parameters Grid is now on progres.\n"
          ]
        },
        {
          "name": "stderr",
          "output_type": "stream",
          "text": [
            "Epoch  0: 100%|██████████| 2607/2607 [00:10<00:00, 241.89it/s, Train Loss=6.2897, Valid Loss=0.2751, Valid R2=0.3792, Valid MAE=0.4444]\n",
            "Epoch  1: 100%|██████████| 2607/2607 [00:10<00:00, 246.52it/s, Train Loss=2.5324, Valid Loss=0.2690, Valid R2=0.3931, Valid MAE=0.3879]\n",
            "Epoch  2: 100%|██████████| 2607/2607 [00:10<00:00, 253.16it/s, Train Loss=1.2588, Valid Loss=0.3929, Valid R2=0.1134, Valid MAE=0.4688]\n",
            "Epoch  3: 100%|██████████| 2607/2607 [00:10<00:00, 242.45it/s, Train Loss=0.8520, Valid Loss=0.2851, Valid R2=0.3567, Valid MAE=0.3992]\n",
            "Epoch  4: 100%|██████████| 2607/2607 [00:10<00:00, 242.64it/s, Train Loss=0.7239, Valid Loss=0.2844, Valid R2=0.3583, Valid MAE=0.4065]\n",
            "Epoch  5: 100%|██████████| 2607/2607 [00:10<00:00, 242.54it/s, Train Loss=0.6735, Valid Loss=0.3698, Valid R2=0.1656, Valid MAE=0.4658]\n"
          ]
        },
        {
          "name": "stdout",
          "output_type": "stream",
          "text": [
            "Early Stopped\n",
            "Setting   8 of Parameters Grid is now on progres.\n"
          ]
        },
        {
          "name": "stderr",
          "output_type": "stream",
          "text": [
            "Epoch  0: 100%|██████████| 2607/2607 [00:10<00:00, 240.38it/s, Train Loss=6.2034, Valid Loss=0.2019, Valid R2=0.5445, Valid MAE=0.3631]\n",
            "Epoch  1: 100%|██████████| 2607/2607 [00:10<00:00, 243.87it/s, Train Loss=2.3659, Valid Loss=0.2185, Valid R2=0.5070, Valid MAE=0.3556]\n",
            "Epoch  2: 100%|██████████| 2607/2607 [00:10<00:00, 240.19it/s, Train Loss=1.1693, Valid Loss=0.3055, Valid R2=0.3106, Valid MAE=0.4069]\n",
            "Epoch  3: 100%|██████████| 2607/2607 [00:10<00:00, 238.10it/s, Train Loss=0.8025, Valid Loss=0.2638, Valid R2=0.4049, Valid MAE=0.4211]\n",
            "Epoch  4: 100%|██████████| 2607/2607 [00:10<00:00, 239.24it/s, Train Loss=0.6815, Valid Loss=0.3163, Valid R2=0.2863, Valid MAE=0.4706]\n"
          ]
        },
        {
          "name": "stdout",
          "output_type": "stream",
          "text": [
            "Early Stopped\n",
            "Setting   9 of Parameters Grid is now on progres.\n"
          ]
        },
        {
          "name": "stderr",
          "output_type": "stream",
          "text": [
            "Epoch  0: 100%|██████████| 2607/2607 [00:10<00:00, 250.17it/s, Train Loss=5.6774, Valid Loss=0.5975, Valid R2=-0.3482, Valid MAE=0.6528]\n",
            "Epoch  1: 100%|██████████| 2607/2607 [00:10<00:00, 246.15it/s, Train Loss=1.7956, Valid Loss=0.3569, Valid R2=0.1946, Valid MAE=0.4616]\n",
            "Epoch  2: 100%|██████████| 2607/2607 [00:10<00:00, 242.60it/s, Train Loss=0.9339, Valid Loss=0.1888, Valid R2=0.5739, Valid MAE=0.3530]\n",
            "Epoch  3: 100%|██████████| 2607/2607 [00:10<00:00, 242.70it/s, Train Loss=0.7234, Valid Loss=0.2123, Valid R2=0.5209, Valid MAE=0.3600]\n",
            "Epoch  4: 100%|██████████| 2607/2607 [00:10<00:00, 250.58it/s, Train Loss=0.6623, Valid Loss=0.1587, Valid R2=0.6420, Valid MAE=0.3163]\n",
            "Epoch  5: 100%|██████████| 2607/2607 [00:10<00:00, 239.58it/s, Train Loss=0.6241, Valid Loss=0.1666, Valid R2=0.6241, Valid MAE=0.3245]\n",
            "Epoch  6: 100%|██████████| 2607/2607 [00:10<00:00, 241.88it/s, Train Loss=0.5954, Valid Loss=0.1555, Valid R2=0.6491, Valid MAE=0.3079]\n",
            "Epoch  7: 100%|██████████| 2607/2607 [00:10<00:00, 251.68it/s, Train Loss=0.5726, Valid Loss=0.1271, Valid R2=0.7133, Valid MAE=0.2773]\n",
            "Epoch  8: 100%|██████████| 2607/2607 [00:09<00:00, 276.92it/s, Train Loss=0.5526, Valid Loss=0.1154, Valid R2=0.7396, Valid MAE=0.2611]\n",
            "Epoch  9: 100%|██████████| 2607/2607 [00:10<00:00, 245.52it/s, Train Loss=0.5423, Valid Loss=0.1938, Valid R2=0.5628, Valid MAE=0.3305]\n",
            "Epoch 10: 100%|██████████| 2607/2607 [00:10<00:00, 240.53it/s, Train Loss=0.5267, Valid Loss=0.1330, Valid R2=0.7000, Valid MAE=0.2826]\n",
            "Epoch 11: 100%|██████████| 2607/2607 [00:10<00:00, 239.76it/s, Train Loss=0.5105, Valid Loss=0.1709, Valid R2=0.6143, Valid MAE=0.3264]\n",
            "Epoch 12: 100%|██████████| 2607/2607 [00:10<00:00, 245.27it/s, Train Loss=0.4990, Valid Loss=0.1544, Valid R2=0.6517, Valid MAE=0.3096]\n"
          ]
        },
        {
          "name": "stdout",
          "output_type": "stream",
          "text": [
            "Early Stopped\n",
            "Setting  10 of Parameters Grid is now on progres.\n"
          ]
        },
        {
          "name": "stderr",
          "output_type": "stream",
          "text": [
            "Epoch  0: 100%|██████████| 2607/2607 [00:10<00:00, 241.45it/s, Train Loss=6.4790, Valid Loss=0.1639, Valid R2=0.6302, Valid MAE=0.3294]\n",
            "Epoch  1: 100%|██████████| 2607/2607 [00:10<00:00, 241.45it/s, Train Loss=2.4228, Valid Loss=0.2231, Valid R2=0.4966, Valid MAE=0.3603]\n",
            "Epoch  2: 100%|██████████| 2607/2607 [00:10<00:00, 241.39it/s, Train Loss=1.1693, Valid Loss=0.3074, Valid R2=0.3064, Valid MAE=0.4228]\n",
            "Epoch  3: 100%|██████████| 2607/2607 [00:10<00:00, 240.60it/s, Train Loss=0.8034, Valid Loss=0.3705, Valid R2=0.1641, Valid MAE=0.4546]\n",
            "Epoch  4: 100%|██████████| 2607/2607 [00:10<00:00, 245.60it/s, Train Loss=0.6926, Valid Loss=0.3039, Valid R2=0.3144, Valid MAE=0.4282]\n"
          ]
        },
        {
          "name": "stdout",
          "output_type": "stream",
          "text": [
            "Early Stopped\n",
            "Setting  11 of Parameters Grid is now on progres.\n"
          ]
        },
        {
          "name": "stderr",
          "output_type": "stream",
          "text": [
            "Epoch  0: 100%|██████████| 2607/2607 [00:10<00:00, 246.96it/s, Train Loss=6.8197, Valid Loss=0.2545, Valid R2=0.4257, Valid MAE=0.4348]\n",
            "Epoch  1: 100%|██████████| 2607/2607 [00:10<00:00, 249.37it/s, Train Loss=2.5502, Valid Loss=0.2401, Valid R2=0.4583, Valid MAE=0.3830]\n",
            "Epoch  2: 100%|██████████| 2607/2607 [00:10<00:00, 243.14it/s, Train Loss=1.2069, Valid Loss=0.3351, Valid R2=0.2438, Valid MAE=0.4411]\n",
            "Epoch  3: 100%|██████████| 2607/2607 [00:10<00:00, 240.97it/s, Train Loss=0.8108, Valid Loss=0.2212, Valid R2=0.5009, Valid MAE=0.3690]\n",
            "Epoch  4: 100%|██████████| 2607/2607 [00:10<00:00, 241.55it/s, Train Loss=0.6922, Valid Loss=0.1864, Valid R2=0.5793, Valid MAE=0.3493]\n",
            "Epoch  5: 100%|██████████| 2607/2607 [00:10<00:00, 246.46it/s, Train Loss=0.6396, Valid Loss=0.2376, Valid R2=0.4640, Valid MAE=0.3889]\n",
            "Epoch  6: 100%|██████████| 2607/2607 [00:10<00:00, 252.86it/s, Train Loss=0.6081, Valid Loss=0.4426, Valid R2=0.0014, Valid MAE=0.4868]\n",
            "Epoch  7: 100%|██████████| 2607/2607 [00:10<00:00, 248.04it/s, Train Loss=0.5820, Valid Loss=0.2284, Valid R2=0.4845, Valid MAE=0.3842]\n",
            "Epoch  8: 100%|██████████| 2607/2607 [00:10<00:00, 241.24it/s, Train Loss=0.5600, Valid Loss=0.3585, Valid R2=0.1912, Valid MAE=0.4673]\n"
          ]
        },
        {
          "name": "stdout",
          "output_type": "stream",
          "text": [
            "Early Stopped\n",
            "Setting  12 of Parameters Grid is now on progres.\n"
          ]
        },
        {
          "name": "stderr",
          "output_type": "stream",
          "text": [
            "Epoch  0: 100%|██████████| 2607/2607 [00:10<00:00, 237.39it/s, Train Loss=8.7125, Valid Loss=1.2570, Valid R2=-1.8362, Valid MAE=0.9976]\n",
            "Epoch  1: 100%|██████████| 2607/2607 [00:10<00:00, 238.28it/s, Train Loss=3.6038, Valid Loss=0.3773, Valid R2=0.1487, Valid MAE=0.5188]\n",
            "Epoch  2: 100%|██████████| 2607/2607 [00:10<00:00, 247.37it/s, Train Loss=1.5545, Valid Loss=0.4831, Valid R2=-0.0901, Valid MAE=0.5523]\n",
            "Epoch  3: 100%|██████████| 2607/2607 [00:10<00:00, 242.93it/s, Train Loss=1.0633, Valid Loss=0.5416, Valid R2=-0.2220, Valid MAE=0.5501]\n",
            "Epoch  4: 100%|██████████| 2607/2607 [00:10<00:00, 241.70it/s, Train Loss=0.8436, Valid Loss=0.1942, Valid R2=0.5618, Valid MAE=0.3136]\n",
            "Epoch  5: 100%|██████████| 2607/2607 [00:10<00:00, 241.51it/s, Train Loss=0.7208, Valid Loss=0.1384, Valid R2=0.6878, Valid MAE=0.2767]\n",
            "Epoch  6: 100%|██████████| 2607/2607 [00:10<00:00, 249.47it/s, Train Loss=0.6692, Valid Loss=0.2191, Valid R2=0.5056, Valid MAE=0.3413]\n",
            "Epoch  7: 100%|██████████| 2607/2607 [00:09<00:00, 273.13it/s, Train Loss=0.6355, Valid Loss=0.1855, Valid R2=0.5815, Valid MAE=0.3063]\n",
            "Epoch  8: 100%|██████████| 2607/2607 [00:10<00:00, 242.20it/s, Train Loss=0.6114, Valid Loss=0.1310, Valid R2=0.7045, Valid MAE=0.2681]\n",
            "Epoch  9: 100%|██████████| 2607/2607 [00:10<00:00, 240.86it/s, Train Loss=0.5933, Valid Loss=0.1556, Valid R2=0.6488, Valid MAE=0.2870]\n",
            "Epoch 10: 100%|██████████| 2607/2607 [00:10<00:00, 238.71it/s, Train Loss=0.5770, Valid Loss=0.1398, Valid R2=0.6845, Valid MAE=0.2738]\n",
            "Epoch 11: 100%|██████████| 2607/2607 [00:10<00:00, 241.25it/s, Train Loss=0.5687, Valid Loss=0.1593, Valid R2=0.6405, Valid MAE=0.2941]\n",
            "Epoch 12: 100%|██████████| 2607/2607 [00:09<00:00, 262.60it/s, Train Loss=0.5544, Valid Loss=0.1561, Valid R2=0.6478, Valid MAE=0.2991]\n"
          ]
        },
        {
          "name": "stdout",
          "output_type": "stream",
          "text": [
            "Early Stopped\n",
            "Setting  13 of Parameters Grid is now on progres.\n"
          ]
        },
        {
          "name": "stderr",
          "output_type": "stream",
          "text": [
            "Epoch  0: 100%|██████████| 2607/2607 [00:10<00:00, 239.91it/s, Train Loss=6.3908, Valid Loss=1.6952, Valid R2=-2.8251, Valid MAE=1.1722]\n",
            "Epoch  1: 100%|██████████| 2607/2607 [00:10<00:00, 243.52it/s, Train Loss=2.6343, Valid Loss=0.5437, Valid R2=-0.2269, Valid MAE=0.6037]\n",
            "Epoch  2: 100%|██████████| 2607/2607 [00:10<00:00, 241.37it/s, Train Loss=1.2282, Valid Loss=0.4448, Valid R2=-0.0036, Valid MAE=0.5030]\n",
            "Epoch  3: 100%|██████████| 2607/2607 [00:10<00:00, 242.93it/s, Train Loss=0.8392, Valid Loss=0.5084, Valid R2=-0.1472, Valid MAE=0.5588]\n",
            "Epoch  4: 100%|██████████| 2607/2607 [00:10<00:00, 246.48it/s, Train Loss=0.7214, Valid Loss=0.2657, Valid R2=0.4005, Valid MAE=0.3899]\n",
            "Epoch  5: 100%|██████████| 2607/2607 [00:10<00:00, 240.52it/s, Train Loss=0.6775, Valid Loss=0.3212, Valid R2=0.2752, Valid MAE=0.4341]\n",
            "Epoch  6: 100%|██████████| 2607/2607 [00:10<00:00, 242.13it/s, Train Loss=0.6484, Valid Loss=0.3248, Valid R2=0.2672, Valid MAE=0.4456]\n",
            "Epoch  7: 100%|██████████| 2607/2607 [00:10<00:00, 242.65it/s, Train Loss=0.6289, Valid Loss=0.2538, Valid R2=0.4273, Valid MAE=0.3872]\n",
            "Epoch  8: 100%|██████████| 2607/2607 [00:10<00:00, 251.84it/s, Train Loss=0.6138, Valid Loss=0.2902, Valid R2=0.3451, Valid MAE=0.4092]\n",
            "Epoch  9: 100%|██████████| 2607/2607 [00:10<00:00, 242.65it/s, Train Loss=0.6063, Valid Loss=0.3154, Valid R2=0.2883, Valid MAE=0.4413]\n",
            "Epoch 10: 100%|██████████| 2607/2607 [00:10<00:00, 249.54it/s, Train Loss=0.5946, Valid Loss=0.2477, Valid R2=0.4410, Valid MAE=0.3909]\n",
            "Epoch 11: 100%|██████████| 2607/2607 [00:10<00:00, 247.28it/s, Train Loss=0.5847, Valid Loss=0.2249, Valid R2=0.4925, Valid MAE=0.3713]\n",
            "Epoch 12: 100%|██████████| 2607/2607 [00:10<00:00, 242.37it/s, Train Loss=0.5777, Valid Loss=0.1942, Valid R2=0.5618, Valid MAE=0.3547]\n",
            "Epoch 13: 100%|██████████| 2607/2607 [00:10<00:00, 240.40it/s, Train Loss=0.5686, Valid Loss=0.2244, Valid R2=0.4936, Valid MAE=0.3753]\n",
            "Epoch 14: 100%|██████████| 2607/2607 [00:09<00:00, 260.83it/s, Train Loss=0.5628, Valid Loss=0.3420, Valid R2=0.2284, Valid MAE=0.4416]\n",
            "Epoch 15: 100%|██████████| 2607/2607 [00:10<00:00, 250.03it/s, Train Loss=0.5541, Valid Loss=0.2329, Valid R2=0.4746, Valid MAE=0.3899]\n",
            "Epoch 16: 100%|██████████| 2607/2607 [00:10<00:00, 251.19it/s, Train Loss=0.5479, Valid Loss=0.2310, Valid R2=0.4787, Valid MAE=0.3808]\n"
          ]
        },
        {
          "name": "stdout",
          "output_type": "stream",
          "text": [
            "Early Stopped\n",
            "Setting  14 of Parameters Grid is now on progres.\n"
          ]
        },
        {
          "name": "stderr",
          "output_type": "stream",
          "text": [
            "Epoch  0: 100%|██████████| 2607/2607 [00:10<00:00, 239.82it/s, Train Loss=5.6556, Valid Loss=0.2235, Valid R2=0.4956, Valid MAE=0.3533]\n",
            "Epoch  1: 100%|██████████| 2607/2607 [00:10<00:00, 257.37it/s, Train Loss=2.2409, Valid Loss=0.5014, Valid R2=-0.1313, Valid MAE=0.5393]\n",
            "Epoch  2: 100%|██████████| 2607/2607 [00:10<00:00, 252.41it/s, Train Loss=1.1864, Valid Loss=0.4011, Valid R2=0.0951, Valid MAE=0.4916]\n",
            "Epoch  3: 100%|██████████| 2607/2607 [00:10<00:00, 239.96it/s, Train Loss=0.8245, Valid Loss=0.3628, Valid R2=0.1813, Valid MAE=0.4673]\n",
            "Epoch  4: 100%|██████████| 2607/2607 [00:10<00:00, 239.77it/s, Train Loss=0.7034, Valid Loss=0.3268, Valid R2=0.2626, Valid MAE=0.4527]\n"
          ]
        },
        {
          "name": "stdout",
          "output_type": "stream",
          "text": [
            "Early Stopped\n",
            "Setting  15 of Parameters Grid is now on progres.\n"
          ]
        },
        {
          "name": "stderr",
          "output_type": "stream",
          "text": [
            "Epoch  0: 100%|██████████| 2607/2607 [00:10<00:00, 244.20it/s, Train Loss=4.4801, Valid Loss=0.1779, Valid R2=0.5985, Valid MAE=0.3361]\n",
            "Epoch  1: 100%|██████████| 2607/2607 [00:10<00:00, 239.89it/s, Train Loss=1.5782, Valid Loss=0.2367, Valid R2=0.4659, Valid MAE=0.3759]\n",
            "Epoch  2: 100%|██████████| 2607/2607 [00:10<00:00, 246.35it/s, Train Loss=0.8961, Valid Loss=0.1932, Valid R2=0.5640, Valid MAE=0.3425]\n",
            "Epoch  3: 100%|██████████| 2607/2607 [00:10<00:00, 238.77it/s, Train Loss=0.7207, Valid Loss=0.1632, Valid R2=0.6319, Valid MAE=0.3180]\n",
            "Epoch  4: 100%|██████████| 2607/2607 [00:10<00:00, 241.23it/s, Train Loss=0.6625, Valid Loss=0.1765, Valid R2=0.6017, Valid MAE=0.3316]\n",
            "Epoch  5: 100%|██████████| 2607/2607 [00:10<00:00, 246.34it/s, Train Loss=0.6279, Valid Loss=0.2444, Valid R2=0.4484, Valid MAE=0.3952]\n",
            "Epoch  6: 100%|██████████| 2607/2607 [00:09<00:00, 260.88it/s, Train Loss=0.6017, Valid Loss=0.2378, Valid R2=0.4633, Valid MAE=0.3778]\n",
            "Epoch  7: 100%|██████████| 2607/2607 [00:09<00:00, 263.68it/s, Train Loss=0.5853, Valid Loss=0.2382, Valid R2=0.4625, Valid MAE=0.3757]\n"
          ]
        },
        {
          "name": "stdout",
          "output_type": "stream",
          "text": [
            "Early Stopped\n",
            "Setting  16 of Parameters Grid is now on progres.\n"
          ]
        },
        {
          "name": "stderr",
          "output_type": "stream",
          "text": [
            "Epoch  0: 100%|██████████| 2607/2607 [00:10<00:00, 245.92it/s, Train Loss=6.1120, Valid Loss=0.3336, Valid R2=0.2472, Valid MAE=0.4675]\n",
            "Epoch  1: 100%|██████████| 2607/2607 [00:10<00:00, 241.67it/s, Train Loss=1.9949, Valid Loss=0.2330, Valid R2=0.4744, Valid MAE=0.3263]\n",
            "Epoch  2: 100%|██████████| 2607/2607 [00:10<00:00, 240.29it/s, Train Loss=0.9950, Valid Loss=0.1872, Valid R2=0.5776, Valid MAE=0.3083]\n",
            "Epoch  3: 100%|██████████| 2607/2607 [00:10<00:00, 251.35it/s, Train Loss=0.7475, Valid Loss=0.1901, Valid R2=0.5712, Valid MAE=0.3501]\n",
            "Epoch  4: 100%|██████████| 2607/2607 [00:10<00:00, 241.73it/s, Train Loss=0.6642, Valid Loss=0.2647, Valid R2=0.4028, Valid MAE=0.4242]\n",
            "Epoch  5: 100%|██████████| 2607/2607 [00:10<00:00, 244.95it/s, Train Loss=0.6279, Valid Loss=0.1777, Valid R2=0.5990, Valid MAE=0.3426]\n",
            "Epoch  6: 100%|██████████| 2607/2607 [00:10<00:00, 245.47it/s, Train Loss=0.6000, Valid Loss=0.1787, Valid R2=0.5968, Valid MAE=0.3415]\n",
            "Epoch  7: 100%|██████████| 2607/2607 [00:10<00:00, 243.17it/s, Train Loss=0.5819, Valid Loss=0.1801, Valid R2=0.5935, Valid MAE=0.3480]\n",
            "Epoch  8: 100%|██████████| 2607/2607 [00:10<00:00, 242.53it/s, Train Loss=0.5628, Valid Loss=0.1560, Valid R2=0.6480, Valid MAE=0.3239]\n",
            "Epoch  9: 100%|██████████| 2607/2607 [00:10<00:00, 246.20it/s, Train Loss=0.5479, Valid Loss=0.1862, Valid R2=0.5800, Valid MAE=0.3501]\n",
            "Epoch 10: 100%|██████████| 2607/2607 [00:10<00:00, 238.55it/s, Train Loss=0.5322, Valid Loss=0.1684, Valid R2=0.6199, Valid MAE=0.3278]\n",
            "Epoch 11: 100%|██████████| 2607/2607 [00:10<00:00, 242.00it/s, Train Loss=0.5179, Valid Loss=0.2528, Valid R2=0.4296, Valid MAE=0.3821]\n",
            "Epoch 12: 100%|██████████| 2607/2607 [00:10<00:00, 250.01it/s, Train Loss=0.5079, Valid Loss=0.1795, Valid R2=0.5950, Valid MAE=0.3551]\n"
          ]
        },
        {
          "name": "stdout",
          "output_type": "stream",
          "text": [
            "Early Stopped\n",
            "Setting  17 of Parameters Grid is now on progres.\n"
          ]
        },
        {
          "name": "stderr",
          "output_type": "stream",
          "text": [
            "Epoch  0: 100%|██████████| 2607/2607 [00:10<00:00, 245.52it/s, Train Loss=7.0385, Valid Loss=0.2013, Valid R2=0.5458, Valid MAE=0.3684]\n",
            "Epoch  1: 100%|██████████| 2607/2607 [00:10<00:00, 260.01it/s, Train Loss=2.8154, Valid Loss=0.3433, Valid R2=0.2254, Valid MAE=0.4674]\n",
            "Epoch  2: 100%|██████████| 2607/2607 [00:10<00:00, 257.05it/s, Train Loss=1.4157, Valid Loss=0.6153, Valid R2=-0.3883, Valid MAE=0.6134]\n",
            "Epoch  3: 100%|██████████| 2607/2607 [00:10<00:00, 242.71it/s, Train Loss=0.9222, Valid Loss=0.5443, Valid R2=-0.2281, Valid MAE=0.5641]\n",
            "Epoch  4: 100%|██████████| 2607/2607 [00:11<00:00, 236.90it/s, Train Loss=0.7542, Valid Loss=0.3655, Valid R2=0.1754, Valid MAE=0.4394]\n"
          ]
        },
        {
          "name": "stdout",
          "output_type": "stream",
          "text": [
            "Early Stopped\n",
            "Setting  18 of Parameters Grid is now on progres.\n"
          ]
        },
        {
          "name": "stderr",
          "output_type": "stream",
          "text": [
            "Epoch  0: 100%|██████████| 2607/2607 [00:10<00:00, 249.29it/s, Train Loss=7.2135, Valid Loss=0.6793, Valid R2=-0.5328, Valid MAE=0.6653]\n",
            "Epoch  1: 100%|██████████| 2607/2607 [00:10<00:00, 238.85it/s, Train Loss=2.4885, Valid Loss=0.8809, Valid R2=-0.9877, Valid MAE=0.7648]\n",
            "Epoch  2: 100%|██████████| 2607/2607 [00:10<00:00, 240.58it/s, Train Loss=1.2111, Valid Loss=0.5602, Valid R2=-0.2640, Valid MAE=0.5824]\n",
            "Epoch  3: 100%|██████████| 2607/2607 [00:10<00:00, 238.57it/s, Train Loss=0.8431, Valid Loss=0.6998, Valid R2=-0.5790, Valid MAE=0.6534]\n",
            "Epoch  4: 100%|██████████| 2607/2607 [00:10<00:00, 248.14it/s, Train Loss=0.7173, Valid Loss=0.5512, Valid R2=-0.2437, Valid MAE=0.5767]\n",
            "Epoch  5: 100%|██████████| 2607/2607 [00:10<00:00, 241.65it/s, Train Loss=0.6664, Valid Loss=0.3430, Valid R2=0.2260, Valid MAE=0.4402]\n",
            "Epoch  6: 100%|██████████| 2607/2607 [00:10<00:00, 237.60it/s, Train Loss=0.6334, Valid Loss=0.5772, Valid R2=-0.3025, Valid MAE=0.5952]\n",
            "Epoch  7: 100%|██████████| 2607/2607 [00:10<00:00, 238.54it/s, Train Loss=0.6068, Valid Loss=0.4102, Valid R2=0.0744, Valid MAE=0.5142]\n",
            "Epoch  8: 100%|██████████| 2607/2607 [00:10<00:00, 238.46it/s, Train Loss=0.5900, Valid Loss=0.3732, Valid R2=0.1580, Valid MAE=0.4844]\n",
            "Epoch  9: 100%|██████████| 2607/2607 [00:10<00:00, 239.79it/s, Train Loss=0.5675, Valid Loss=0.7434, Valid R2=-0.6774, Valid MAE=0.6603]\n"
          ]
        },
        {
          "name": "stdout",
          "output_type": "stream",
          "text": [
            "Early Stopped\n",
            "Setting  19 of Parameters Grid is now on progres.\n"
          ]
        },
        {
          "name": "stderr",
          "output_type": "stream",
          "text": [
            "Epoch  0: 100%|██████████| 2607/2607 [00:10<00:00, 243.04it/s, Train Loss=5.9636, Valid Loss=0.4913, Valid R2=-0.1086, Valid MAE=0.6209]\n",
            "Epoch  1: 100%|██████████| 2607/2607 [00:10<00:00, 240.05it/s, Train Loss=2.1936, Valid Loss=0.5409, Valid R2=-0.2206, Valid MAE=0.6357]\n",
            "Epoch  2: 100%|██████████| 2607/2607 [00:10<00:00, 241.06it/s, Train Loss=1.3941, Valid Loss=0.3868, Valid R2=0.1273, Valid MAE=0.5254]\n",
            "Epoch  3: 100%|██████████| 2607/2607 [00:10<00:00, 252.25it/s, Train Loss=1.0020, Valid Loss=0.2259, Valid R2=0.4903, Valid MAE=0.3665]\n",
            "Epoch  4: 100%|██████████| 2607/2607 [00:10<00:00, 242.38it/s, Train Loss=0.8090, Valid Loss=0.1642, Valid R2=0.6295, Valid MAE=0.3089]\n",
            "Epoch  5: 100%|██████████| 2607/2607 [00:10<00:00, 242.67it/s, Train Loss=0.7202, Valid Loss=0.1181, Valid R2=0.7336, Valid MAE=0.2655]\n",
            "Epoch  6: 100%|██████████| 2607/2607 [00:10<00:00, 254.59it/s, Train Loss=0.6680, Valid Loss=0.2206, Valid R2=0.5022, Valid MAE=0.3518]\n",
            "Epoch  7: 100%|██████████| 2607/2607 [00:10<00:00, 259.18it/s, Train Loss=0.6332, Valid Loss=0.1485, Valid R2=0.6649, Valid MAE=0.2976]\n",
            "Epoch  8: 100%|██████████| 2607/2607 [00:10<00:00, 250.90it/s, Train Loss=0.6078, Valid Loss=0.1515, Valid R2=0.6582, Valid MAE=0.2958]\n",
            "Epoch  9: 100%|██████████| 2607/2607 [00:10<00:00, 237.87it/s, Train Loss=0.5835, Valid Loss=0.0890, Valid R2=0.7991, Valid MAE=0.2366]\n",
            "Epoch 10: 100%|██████████| 2607/2607 [00:10<00:00, 249.05it/s, Train Loss=0.5643, Valid Loss=0.1220, Valid R2=0.7247, Valid MAE=0.2691]\n",
            "Epoch 11: 100%|██████████| 2607/2607 [00:10<00:00, 243.50it/s, Train Loss=0.5472, Valid Loss=0.1810, Valid R2=0.5917, Valid MAE=0.3355]\n",
            "Epoch 12: 100%|██████████| 2607/2607 [00:10<00:00, 252.00it/s, Train Loss=0.5336, Valid Loss=0.1479, Valid R2=0.6662, Valid MAE=0.2996]\n",
            "Epoch 13: 100%|██████████| 2607/2607 [00:10<00:00, 240.94it/s, Train Loss=0.5212, Valid Loss=0.1005, Valid R2=0.7733, Valid MAE=0.2459]\n"
          ]
        },
        {
          "name": "stdout",
          "output_type": "stream",
          "text": [
            "Early Stopped\n",
            "Setting  20 of Parameters Grid is now on progres.\n"
          ]
        },
        {
          "name": "stderr",
          "output_type": "stream",
          "text": [
            "Epoch  0: 100%|██████████| 2607/2607 [00:10<00:00, 249.54it/s, Train Loss=6.5429, Valid Loss=0.2965, Valid R2=0.3309, Valid MAE=0.4549]\n",
            "Epoch  1: 100%|██████████| 2607/2607 [00:10<00:00, 246.22it/s, Train Loss=2.1810, Valid Loss=0.2955, Valid R2=0.3333, Valid MAE=0.4323]\n",
            "Epoch  2: 100%|██████████| 2607/2607 [00:10<00:00, 243.54it/s, Train Loss=1.0375, Valid Loss=0.2525, Valid R2=0.4302, Valid MAE=0.4128]\n",
            "Epoch  3: 100%|██████████| 2607/2607 [00:10<00:00, 248.53it/s, Train Loss=0.7557, Valid Loss=0.1811, Valid R2=0.5913, Valid MAE=0.3361]\n",
            "Epoch  4: 100%|██████████| 2607/2607 [00:10<00:00, 247.49it/s, Train Loss=0.6708, Valid Loss=0.2049, Valid R2=0.5376, Valid MAE=0.3769]\n",
            "Epoch  5: 100%|██████████| 2607/2607 [00:10<00:00, 248.15it/s, Train Loss=0.6251, Valid Loss=0.1464, Valid R2=0.6696, Valid MAE=0.3108]\n",
            "Epoch  6: 100%|██████████| 2607/2607 [00:10<00:00, 251.90it/s, Train Loss=0.5958, Valid Loss=0.2191, Valid R2=0.5057, Valid MAE=0.3748]\n",
            "Epoch  7: 100%|██████████| 2607/2607 [00:10<00:00, 240.86it/s, Train Loss=0.5732, Valid Loss=0.1937, Valid R2=0.5629, Valid MAE=0.3629]\n",
            "Epoch  8: 100%|██████████| 2607/2607 [00:10<00:00, 245.24it/s, Train Loss=0.5584, Valid Loss=0.2234, Valid R2=0.4960, Valid MAE=0.3734]\n",
            "Epoch  9: 100%|██████████| 2607/2607 [00:10<00:00, 243.18it/s, Train Loss=0.5439, Valid Loss=0.1874, Valid R2=0.5771, Valid MAE=0.3527]\n"
          ]
        },
        {
          "name": "stdout",
          "output_type": "stream",
          "text": [
            "Early Stopped\n",
            "Setting  21 of Parameters Grid is now on progres.\n"
          ]
        },
        {
          "name": "stderr",
          "output_type": "stream",
          "text": [
            "Epoch  0: 100%|██████████| 2607/2607 [00:10<00:00, 239.97it/s, Train Loss=5.4877, Valid Loss=0.3086, Valid R2=0.3038, Valid MAE=0.4425]\n",
            "Epoch  1: 100%|██████████| 2607/2607 [00:10<00:00, 243.23it/s, Train Loss=1.9378, Valid Loss=0.1608, Valid R2=0.6373, Valid MAE=0.2824]\n",
            "Epoch  2: 100%|██████████| 2607/2607 [00:10<00:00, 240.47it/s, Train Loss=0.9976, Valid Loss=0.1719, Valid R2=0.6122, Valid MAE=0.3224]\n",
            "Epoch  3: 100%|██████████| 2607/2607 [00:10<00:00, 249.05it/s, Train Loss=0.7472, Valid Loss=0.1454, Valid R2=0.6719, Valid MAE=0.3025]\n",
            "Epoch  4: 100%|██████████| 2607/2607 [00:10<00:00, 245.85it/s, Train Loss=0.6652, Valid Loss=0.1399, Valid R2=0.6842, Valid MAE=0.3032]\n",
            "Epoch  5: 100%|██████████| 2607/2607 [00:10<00:00, 249.48it/s, Train Loss=0.6229, Valid Loss=0.1419, Valid R2=0.6797, Valid MAE=0.2978]\n",
            "Epoch  6: 100%|██████████| 2607/2607 [00:10<00:00, 248.07it/s, Train Loss=0.5951, Valid Loss=0.2478, Valid R2=0.4408, Valid MAE=0.3923]\n",
            "Epoch  7: 100%|██████████| 2607/2607 [00:10<00:00, 242.86it/s, Train Loss=0.5715, Valid Loss=0.2156, Valid R2=0.5136, Valid MAE=0.3629]\n",
            "Epoch  8: 100%|██████████| 2607/2607 [00:10<00:00, 240.21it/s, Train Loss=0.5545, Valid Loss=0.2099, Valid R2=0.5265, Valid MAE=0.3659]\n"
          ]
        },
        {
          "name": "stdout",
          "output_type": "stream",
          "text": [
            "Early Stopped\n",
            "Setting  22 of Parameters Grid is now on progres.\n"
          ]
        },
        {
          "name": "stderr",
          "output_type": "stream",
          "text": [
            "Epoch  0: 100%|██████████| 2607/2607 [00:10<00:00, 239.80it/s, Train Loss=6.1729, Valid Loss=0.2910, Valid R2=0.3435, Valid MAE=0.4294]\n",
            "Epoch  1: 100%|██████████| 2607/2607 [00:10<00:00, 239.83it/s, Train Loss=2.2414, Valid Loss=0.2537, Valid R2=0.4276, Valid MAE=0.3680]\n",
            "Epoch  2: 100%|██████████| 2607/2607 [00:10<00:00, 242.35it/s, Train Loss=1.1643, Valid Loss=0.5185, Valid R2=-0.1699, Valid MAE=0.5305]\n",
            "Epoch  3: 100%|██████████| 2607/2607 [00:10<00:00, 244.51it/s, Train Loss=0.8146, Valid Loss=0.4162, Valid R2=0.0608, Valid MAE=0.5134]\n",
            "Epoch  4: 100%|██████████| 2607/2607 [00:10<00:00, 249.02it/s, Train Loss=0.6960, Valid Loss=0.4132, Valid R2=0.0676, Valid MAE=0.4856]\n",
            "Epoch  5: 100%|██████████| 2607/2607 [00:10<00:00, 246.69it/s, Train Loss=0.6503, Valid Loss=0.4179, Valid R2=0.0571, Valid MAE=0.5149]\n"
          ]
        },
        {
          "name": "stdout",
          "output_type": "stream",
          "text": [
            "Early Stopped\n",
            "Setting  23 of Parameters Grid is now on progres.\n"
          ]
        },
        {
          "name": "stderr",
          "output_type": "stream",
          "text": [
            "Epoch  0: 100%|██████████| 2607/2607 [00:10<00:00, 249.85it/s, Train Loss=4.9881, Valid Loss=0.1945, Valid R2=0.5611, Valid MAE=0.3600]\n",
            "Epoch  1: 100%|██████████| 2607/2607 [00:10<00:00, 244.11it/s, Train Loss=1.6463, Valid Loss=0.2507, Valid R2=0.4343, Valid MAE=0.3479]\n",
            "Epoch  2: 100%|██████████| 2607/2607 [00:10<00:00, 242.94it/s, Train Loss=0.8994, Valid Loss=0.3925, Valid R2=0.1144, Valid MAE=0.5035]\n",
            "Epoch  3: 100%|██████████| 2607/2607 [00:10<00:00, 237.55it/s, Train Loss=0.7210, Valid Loss=0.1839, Valid R2=0.5850, Valid MAE=0.3303]\n",
            "Epoch  4: 100%|██████████| 2607/2607 [00:10<00:00, 240.57it/s, Train Loss=0.6555, Valid Loss=0.2200, Valid R2=0.5035, Valid MAE=0.3760]\n",
            "Epoch  5: 100%|██████████| 2607/2607 [00:10<00:00, 247.05it/s, Train Loss=0.6258, Valid Loss=0.2769, Valid R2=0.3752, Valid MAE=0.4276]\n",
            "Epoch  6: 100%|██████████| 2607/2607 [00:10<00:00, 253.29it/s, Train Loss=0.5981, Valid Loss=0.2185, Valid R2=0.5069, Valid MAE=0.3826]\n",
            "Epoch  7: 100%|██████████| 2607/2607 [00:10<00:00, 241.43it/s, Train Loss=0.5774, Valid Loss=0.1664, Valid R2=0.6245, Valid MAE=0.3223]\n",
            "Epoch  8: 100%|██████████| 2607/2607 [00:09<00:00, 282.18it/s, Train Loss=0.5605, Valid Loss=0.2350, Valid R2=0.4696, Valid MAE=0.3847]\n",
            "Epoch  9: 100%|██████████| 2607/2607 [00:10<00:00, 247.98it/s, Train Loss=0.5481, Valid Loss=0.2866, Valid R2=0.3534, Valid MAE=0.4105]\n",
            "Epoch 10: 100%|██████████| 2607/2607 [00:10<00:00, 242.78it/s, Train Loss=0.5302, Valid Loss=0.3892, Valid R2=0.1218, Valid MAE=0.4999]\n",
            "Epoch 11: 100%|██████████| 2607/2607 [00:10<00:00, 243.10it/s, Train Loss=0.5167, Valid Loss=0.2672, Valid R2=0.3972, Valid MAE=0.3910]\n"
          ]
        },
        {
          "name": "stdout",
          "output_type": "stream",
          "text": [
            "Early Stopped\n",
            "Setting  24 of Parameters Grid is now on progres.\n"
          ]
        },
        {
          "name": "stderr",
          "output_type": "stream",
          "text": [
            "Epoch  0: 100%|██████████| 2607/2607 [00:10<00:00, 239.35it/s, Train Loss=7.2696, Valid Loss=0.9232, Valid R2=-1.0831, Valid MAE=0.8430]\n",
            "Epoch  1: 100%|██████████| 2607/2607 [00:10<00:00, 243.04it/s, Train Loss=3.7173, Valid Loss=1.0379, Valid R2=-1.3418, Valid MAE=0.8296]\n",
            "Epoch  2: 100%|██████████| 2607/2607 [00:11<00:00, 235.46it/s, Train Loss=1.9888, Valid Loss=0.4756, Valid R2=-0.0732, Valid MAE=0.5584]\n",
            "Epoch  3: 100%|██████████| 2607/2607 [00:11<00:00, 236.66it/s, Train Loss=1.2186, Valid Loss=0.7777, Valid R2=-0.7548, Valid MAE=0.6976]\n",
            "Epoch  4: 100%|██████████| 2607/2607 [00:10<00:00, 241.83it/s, Train Loss=0.8878, Valid Loss=0.4921, Valid R2=-0.1105, Valid MAE=0.5753]\n",
            "Epoch  5: 100%|██████████| 2607/2607 [00:10<00:00, 243.94it/s, Train Loss=0.7484, Valid Loss=0.4139, Valid R2=0.0661, Valid MAE=0.5354]\n",
            "Epoch  6: 100%|██████████| 2607/2607 [00:10<00:00, 249.88it/s, Train Loss=0.6854, Valid Loss=0.2683, Valid R2=0.3946, Valid MAE=0.4073]\n",
            "Epoch  7: 100%|██████████| 2607/2607 [00:11<00:00, 232.77it/s, Train Loss=0.6561, Valid Loss=0.4571, Valid R2=-0.0314, Valid MAE=0.5502]\n",
            "Epoch  8: 100%|██████████| 2607/2607 [00:11<00:00, 232.07it/s, Train Loss=0.6290, Valid Loss=0.3019, Valid R2=0.3187, Valid MAE=0.4293]\n",
            "Epoch  9: 100%|██████████| 2607/2607 [00:10<00:00, 242.60it/s, Train Loss=0.6037, Valid Loss=0.3267, Valid R2=0.2628, Valid MAE=0.4396]\n",
            "Epoch 10: 100%|██████████| 2607/2607 [00:10<00:00, 239.60it/s, Train Loss=0.5878, Valid Loss=0.1740, Valid R2=0.6074, Valid MAE=0.3256]\n",
            "Epoch 11: 100%|██████████| 2607/2607 [00:10<00:00, 242.97it/s, Train Loss=0.5727, Valid Loss=0.3277, Valid R2=0.2606, Valid MAE=0.4461]\n",
            "Epoch 12: 100%|██████████| 2607/2607 [00:11<00:00, 236.92it/s, Train Loss=0.5591, Valid Loss=0.2431, Valid R2=0.4516, Valid MAE=0.3738]\n",
            "Epoch 13: 100%|██████████| 2607/2607 [00:11<00:00, 232.03it/s, Train Loss=0.5413, Valid Loss=0.2290, Valid R2=0.4834, Valid MAE=0.3753]\n",
            "Epoch 14: 100%|██████████| 2607/2607 [00:11<00:00, 228.90it/s, Train Loss=0.5312, Valid Loss=0.2938, Valid R2=0.3371, Valid MAE=0.4276]\n"
          ]
        },
        {
          "name": "stdout",
          "output_type": "stream",
          "text": [
            "Early Stopped\n",
            "Setting  25 of Parameters Grid is now on progres.\n"
          ]
        },
        {
          "name": "stderr",
          "output_type": "stream",
          "text": [
            "Epoch  0: 100%|██████████| 2607/2607 [00:11<00:00, 236.77it/s, Train Loss=8.3129, Valid Loss=1.3992, Valid R2=-2.1572, Valid MAE=1.0604]\n",
            "Epoch  1: 100%|██████████| 2607/2607 [00:11<00:00, 233.14it/s, Train Loss=2.9379, Valid Loss=0.3111, Valid R2=0.2980, Valid MAE=0.4406]\n",
            "Epoch  2: 100%|██████████| 2607/2607 [00:11<00:00, 234.64it/s, Train Loss=1.2815, Valid Loss=0.2790, Valid R2=0.3705, Valid MAE=0.3932]\n",
            "Epoch  3: 100%|██████████| 2607/2607 [00:11<00:00, 234.37it/s, Train Loss=0.8977, Valid Loss=0.1819, Valid R2=0.5896, Valid MAE=0.3046]\n",
            "Epoch  4: 100%|██████████| 2607/2607 [00:11<00:00, 233.43it/s, Train Loss=0.7513, Valid Loss=0.1805, Valid R2=0.5928, Valid MAE=0.3000]\n",
            "Epoch  5: 100%|██████████| 2607/2607 [00:11<00:00, 233.20it/s, Train Loss=0.6888, Valid Loss=0.2351, Valid R2=0.4696, Valid MAE=0.3349]\n",
            "Epoch  6: 100%|██████████| 2607/2607 [00:10<00:00, 239.63it/s, Train Loss=0.6536, Valid Loss=0.1416, Valid R2=0.6806, Valid MAE=0.2645]\n",
            "Epoch  7: 100%|██████████| 2607/2607 [00:10<00:00, 238.29it/s, Train Loss=0.6283, Valid Loss=0.1245, Valid R2=0.7190, Valid MAE=0.2456]\n",
            "Epoch  8: 100%|██████████| 2607/2607 [00:10<00:00, 244.70it/s, Train Loss=0.6068, Valid Loss=0.1424, Valid R2=0.6786, Valid MAE=0.2595]\n",
            "Epoch  9: 100%|██████████| 2607/2607 [00:10<00:00, 239.80it/s, Train Loss=0.5885, Valid Loss=0.1568, Valid R2=0.6463, Valid MAE=0.2785]\n",
            "Epoch 10: 100%|██████████| 2607/2607 [00:11<00:00, 236.74it/s, Train Loss=0.5750, Valid Loss=0.1891, Valid R2=0.5734, Valid MAE=0.3164]\n",
            "Epoch 11: 100%|██████████| 2607/2607 [00:10<00:00, 249.76it/s, Train Loss=0.5624, Valid Loss=0.1789, Valid R2=0.5964, Valid MAE=0.3087]\n"
          ]
        },
        {
          "name": "stdout",
          "output_type": "stream",
          "text": [
            "Early Stopped\n",
            "Setting  26 of Parameters Grid is now on progres.\n"
          ]
        },
        {
          "name": "stderr",
          "output_type": "stream",
          "text": [
            "Epoch  0: 100%|██████████| 2607/2607 [00:10<00:00, 239.65it/s, Train Loss=5.4849, Valid Loss=0.1542, Valid R2=0.6522, Valid MAE=0.3187]\n",
            "Epoch  1: 100%|██████████| 2607/2607 [00:10<00:00, 248.67it/s, Train Loss=2.1258, Valid Loss=0.3227, Valid R2=0.2720, Valid MAE=0.4371]\n",
            "Epoch  2: 100%|██████████| 2607/2607 [00:10<00:00, 250.55it/s, Train Loss=1.1020, Valid Loss=0.2443, Valid R2=0.4489, Valid MAE=0.3728]\n",
            "Epoch  3: 100%|██████████| 2607/2607 [00:10<00:00, 237.38it/s, Train Loss=0.7909, Valid Loss=0.3308, Valid R2=0.2536, Valid MAE=0.4601]\n",
            "Epoch  4: 100%|██████████| 2607/2607 [00:10<00:00, 238.82it/s, Train Loss=0.6932, Valid Loss=0.1484, Valid R2=0.6652, Valid MAE=0.3062]\n",
            "Epoch  5: 100%|██████████| 2607/2607 [00:11<00:00, 231.76it/s, Train Loss=0.6512, Valid Loss=0.1599, Valid R2=0.6391, Valid MAE=0.3166]\n",
            "Epoch  6: 100%|██████████| 2607/2607 [00:11<00:00, 234.79it/s, Train Loss=0.6193, Valid Loss=0.1507, Valid R2=0.6599, Valid MAE=0.3177]\n",
            "Epoch  7: 100%|██████████| 2607/2607 [00:11<00:00, 235.62it/s, Train Loss=0.5955, Valid Loss=0.1926, Valid R2=0.5655, Valid MAE=0.3596]\n",
            "Epoch  8: 100%|██████████| 2607/2607 [00:11<00:00, 232.53it/s, Train Loss=0.5738, Valid Loss=0.1910, Valid R2=0.5690, Valid MAE=0.3451]\n"
          ]
        },
        {
          "name": "stdout",
          "output_type": "stream",
          "text": [
            "Early Stopped\n",
            "Setting  27 of Parameters Grid is now on progres.\n"
          ]
        },
        {
          "name": "stderr",
          "output_type": "stream",
          "text": [
            "Epoch  0: 100%|██████████| 2607/2607 [00:10<00:00, 237.52it/s, Train Loss=4.9257, Valid Loss=0.2433, Valid R2=0.4510, Valid MAE=0.4093]\n",
            "Epoch  1: 100%|██████████| 2607/2607 [00:10<00:00, 256.31it/s, Train Loss=1.6564, Valid Loss=0.3851, Valid R2=0.1312, Valid MAE=0.4942]\n",
            "Epoch  2: 100%|██████████| 2607/2607 [00:11<00:00, 234.76it/s, Train Loss=0.9104, Valid Loss=0.4125, Valid R2=0.0692, Valid MAE=0.5235]\n",
            "Epoch  3: 100%|██████████| 2607/2607 [00:11<00:00, 235.18it/s, Train Loss=0.7221, Valid Loss=0.4194, Valid R2=0.0538, Valid MAE=0.5123]\n",
            "Epoch  4: 100%|██████████| 2607/2607 [00:11<00:00, 234.64it/s, Train Loss=0.6640, Valid Loss=0.3431, Valid R2=0.2258, Valid MAE=0.4489]\n"
          ]
        },
        {
          "name": "stdout",
          "output_type": "stream",
          "text": [
            "Early Stopped\n",
            "Setting  28 of Parameters Grid is now on progres.\n"
          ]
        },
        {
          "name": "stderr",
          "output_type": "stream",
          "text": [
            "Epoch  0: 100%|██████████| 2607/2607 [00:11<00:00, 234.64it/s, Train Loss=8.6578, Valid Loss=0.5960, Valid R2=-0.3448, Valid MAE=0.6720]\n",
            "Epoch  1: 100%|██████████| 2607/2607 [00:11<00:00, 233.46it/s, Train Loss=5.0806, Valid Loss=0.3558, Valid R2=0.1972, Valid MAE=0.4926]\n",
            "Epoch  2: 100%|██████████| 2607/2607 [00:11<00:00, 233.66it/s, Train Loss=2.4103, Valid Loss=0.4266, Valid R2=0.0375, Valid MAE=0.5004]\n",
            "Epoch  3: 100%|██████████| 2607/2607 [00:11<00:00, 234.02it/s, Train Loss=1.3373, Valid Loss=0.3285, Valid R2=0.2588, Valid MAE=0.4124]\n",
            "Epoch  4: 100%|██████████| 2607/2607 [00:11<00:00, 235.19it/s, Train Loss=0.9138, Valid Loss=0.4618, Valid R2=-0.0420, Valid MAE=0.4967]\n",
            "Epoch  5: 100%|██████████| 2607/2607 [00:10<00:00, 237.35it/s, Train Loss=0.7527, Valid Loss=0.3249, Valid R2=0.2670, Valid MAE=0.4531]\n",
            "Epoch  6: 100%|██████████| 2607/2607 [00:11<00:00, 236.91it/s, Train Loss=0.6859, Valid Loss=0.2504, Valid R2=0.4351, Valid MAE=0.4003]\n",
            "Epoch  7: 100%|██████████| 2607/2607 [00:10<00:00, 238.11it/s, Train Loss=0.6470, Valid Loss=0.5150, Valid R2=-0.1620, Valid MAE=0.5599]\n",
            "Epoch  8: 100%|██████████| 2607/2607 [00:10<00:00, 239.24it/s, Train Loss=0.6208, Valid Loss=0.2875, Valid R2=0.3513, Valid MAE=0.4275]\n",
            "Epoch  9: 100%|██████████| 2607/2607 [00:11<00:00, 233.87it/s, Train Loss=0.6046, Valid Loss=0.2716, Valid R2=0.3871, Valid MAE=0.4187]\n",
            "Epoch 10: 100%|██████████| 2607/2607 [00:10<00:00, 238.99it/s, Train Loss=0.5877, Valid Loss=0.4180, Valid R2=0.0569, Valid MAE=0.4836]\n"
          ]
        },
        {
          "name": "stdout",
          "output_type": "stream",
          "text": [
            "Early Stopped\n",
            "Setting  29 of Parameters Grid is now on progres.\n"
          ]
        },
        {
          "name": "stderr",
          "output_type": "stream",
          "text": [
            "Epoch  0: 100%|██████████| 2607/2607 [00:11<00:00, 236.86it/s, Train Loss=5.5904, Valid Loss=0.3212, Valid R2=0.2752, Valid MAE=0.4822]\n",
            "Epoch  1: 100%|██████████| 2607/2607 [00:10<00:00, 244.49it/s, Train Loss=1.9780, Valid Loss=0.2042, Valid R2=0.5392, Valid MAE=0.3490]\n",
            "Epoch  2: 100%|██████████| 2607/2607 [00:10<00:00, 257.19it/s, Train Loss=1.0131, Valid Loss=0.3116, Valid R2=0.2970, Valid MAE=0.4451]\n",
            "Epoch  3: 100%|██████████| 2607/2607 [00:10<00:00, 240.95it/s, Train Loss=0.7575, Valid Loss=0.2077, Valid R2=0.5314, Valid MAE=0.3705]\n",
            "Epoch  4: 100%|██████████| 2607/2607 [00:11<00:00, 231.95it/s, Train Loss=0.6768, Valid Loss=0.2400, Valid R2=0.4585, Valid MAE=0.4110]\n",
            "Epoch  5: 100%|██████████| 2607/2607 [00:11<00:00, 234.66it/s, Train Loss=0.6383, Valid Loss=0.3930, Valid R2=0.1133, Valid MAE=0.5135]\n"
          ]
        },
        {
          "name": "stdout",
          "output_type": "stream",
          "text": [
            "Early Stopped\n",
            "Setting  30 of Parameters Grid is now on progres.\n"
          ]
        },
        {
          "name": "stderr",
          "output_type": "stream",
          "text": [
            "Epoch  0: 100%|██████████| 2607/2607 [00:11<00:00, 236.11it/s, Train Loss=4.9143, Valid Loss=0.2691, Valid R2=0.3928, Valid MAE=0.4151]\n",
            "Epoch  1: 100%|██████████| 2607/2607 [00:11<00:00, 235.72it/s, Train Loss=1.7094, Valid Loss=0.4426, Valid R2=0.0014, Valid MAE=0.5252]\n",
            "Epoch  2: 100%|██████████| 2607/2607 [00:10<00:00, 237.62it/s, Train Loss=0.9710, Valid Loss=0.5526, Valid R2=-0.2470, Valid MAE=0.5738]\n",
            "Epoch  3: 100%|██████████| 2607/2607 [00:10<00:00, 239.82it/s, Train Loss=0.7583, Valid Loss=0.6528, Valid R2=-0.4731, Valid MAE=0.6447]\n",
            "Epoch  4: 100%|██████████| 2607/2607 [00:10<00:00, 239.90it/s, Train Loss=0.6886, Valid Loss=0.5870, Valid R2=-0.3246, Valid MAE=0.6073]\n"
          ]
        },
        {
          "name": "stdout",
          "output_type": "stream",
          "text": [
            "Early Stopped\n",
            "Setting  31 of Parameters Grid is now on progres.\n"
          ]
        },
        {
          "name": "stderr",
          "output_type": "stream",
          "text": [
            "Epoch  0: 100%|██████████| 2607/2607 [00:10<00:00, 253.97it/s, Train Loss=6.2511, Valid Loss=0.3440, Valid R2=0.2237, Valid MAE=0.4941]\n",
            "Epoch  1: 100%|██████████| 2607/2607 [00:10<00:00, 244.73it/s, Train Loss=2.0444, Valid Loss=0.2985, Valid R2=0.3265, Valid MAE=0.4279]\n",
            "Epoch  2: 100%|██████████| 2607/2607 [00:11<00:00, 233.44it/s, Train Loss=1.1069, Valid Loss=0.2752, Valid R2=0.3790, Valid MAE=0.3577]\n",
            "Epoch  3: 100%|██████████| 2607/2607 [00:10<00:00, 238.96it/s, Train Loss=0.8221, Valid Loss=0.1512, Valid R2=0.6589, Valid MAE=0.2809]\n",
            "Epoch  4: 100%|██████████| 2607/2607 [00:10<00:00, 244.98it/s, Train Loss=0.7095, Valid Loss=0.1860, Valid R2=0.5803, Valid MAE=0.3137]\n",
            "Epoch  5: 100%|██████████| 2607/2607 [00:10<00:00, 238.29it/s, Train Loss=0.6468, Valid Loss=0.1683, Valid R2=0.6203, Valid MAE=0.3206]\n",
            "Epoch  6: 100%|██████████| 2607/2607 [00:10<00:00, 238.82it/s, Train Loss=0.6118, Valid Loss=0.2754, Valid R2=0.3785, Valid MAE=0.4192]\n",
            "Epoch  7: 100%|██████████| 2607/2607 [00:11<00:00, 232.89it/s, Train Loss=0.5815, Valid Loss=0.2389, Valid R2=0.4610, Valid MAE=0.4140]\n"
          ]
        },
        {
          "name": "stdout",
          "output_type": "stream",
          "text": [
            "Early Stopped\n",
            "Setting  32 of Parameters Grid is now on progres.\n"
          ]
        },
        {
          "name": "stderr",
          "output_type": "stream",
          "text": [
            "Epoch  0: 100%|██████████| 2607/2607 [00:11<00:00, 234.58it/s, Train Loss=5.8743, Valid Loss=0.2600, Valid R2=0.4133, Valid MAE=0.4005]\n",
            "Epoch  1: 100%|██████████| 2607/2607 [00:11<00:00, 233.41it/s, Train Loss=1.8558, Valid Loss=0.3111, Valid R2=0.2979, Valid MAE=0.4135]\n",
            "Epoch  2: 100%|██████████| 2607/2607 [00:11<00:00, 233.58it/s, Train Loss=0.9182, Valid Loss=0.2581, Valid R2=0.4177, Valid MAE=0.4065]\n",
            "Epoch  3: 100%|██████████| 2607/2607 [00:11<00:00, 232.01it/s, Train Loss=0.7005, Valid Loss=0.2821, Valid R2=0.3634, Valid MAE=0.4263]\n",
            "Epoch  4: 100%|██████████| 2607/2607 [00:10<00:00, 238.92it/s, Train Loss=0.6356, Valid Loss=0.1996, Valid R2=0.5497, Valid MAE=0.3595]\n",
            "Epoch  5: 100%|██████████| 2607/2607 [00:11<00:00, 232.62it/s, Train Loss=0.5977, Valid Loss=0.1751, Valid R2=0.6049, Valid MAE=0.3519]\n",
            "Epoch  6: 100%|██████████| 2607/2607 [00:10<00:00, 239.30it/s, Train Loss=0.5729, Valid Loss=0.1822, Valid R2=0.5888, Valid MAE=0.3561]\n",
            "Epoch  7: 100%|██████████| 2607/2607 [00:09<00:00, 261.16it/s, Train Loss=0.5523, Valid Loss=0.2483, Valid R2=0.4398, Valid MAE=0.3758]\n",
            "Epoch  8: 100%|██████████| 2607/2607 [00:11<00:00, 234.20it/s, Train Loss=0.5363, Valid Loss=0.1768, Valid R2=0.6010, Valid MAE=0.3325]\n",
            "Epoch  9: 100%|██████████| 2607/2607 [00:11<00:00, 232.40it/s, Train Loss=0.5200, Valid Loss=0.2163, Valid R2=0.5119, Valid MAE=0.3730]\n"
          ]
        },
        {
          "name": "stdout",
          "output_type": "stream",
          "text": [
            "Early Stopped\n",
            "Setting  33 of Parameters Grid is now on progres.\n"
          ]
        },
        {
          "name": "stderr",
          "output_type": "stream",
          "text": [
            "Epoch  0: 100%|██████████| 2607/2607 [00:11<00:00, 233.42it/s, Train Loss=8.0686, Valid Loss=1.5232, Valid R2=-2.4370, Valid MAE=1.1094]\n",
            "Epoch  1: 100%|██████████| 2607/2607 [00:11<00:00, 234.82it/s, Train Loss=2.8309, Valid Loss=0.5092, Valid R2=-0.1490, Valid MAE=0.6164]\n",
            "Epoch  2: 100%|██████████| 2607/2607 [00:11<00:00, 232.72it/s, Train Loss=1.4642, Valid Loss=0.3220, Valid R2=0.2734, Valid MAE=0.4656]\n",
            "Epoch  3: 100%|██████████| 2607/2607 [00:10<00:00, 240.21it/s, Train Loss=1.0172, Valid Loss=0.3121, Valid R2=0.2958, Valid MAE=0.4295]\n",
            "Epoch  4: 100%|██████████| 2607/2607 [00:10<00:00, 237.22it/s, Train Loss=0.8106, Valid Loss=0.1422, Valid R2=0.6790, Valid MAE=0.2905]\n",
            "Epoch  5: 100%|██████████| 2607/2607 [00:11<00:00, 233.38it/s, Train Loss=0.7139, Valid Loss=0.1393, Valid R2=0.6858, Valid MAE=0.2733]\n",
            "Epoch  6: 100%|██████████| 2607/2607 [00:11<00:00, 233.32it/s, Train Loss=0.6561, Valid Loss=0.1382, Valid R2=0.6881, Valid MAE=0.2803]\n",
            "Epoch  7: 100%|██████████| 2607/2607 [00:11<00:00, 232.16it/s, Train Loss=0.6191, Valid Loss=0.1727, Valid R2=0.6104, Valid MAE=0.3111]\n",
            "Epoch  8: 100%|██████████| 2607/2607 [00:10<00:00, 248.10it/s, Train Loss=0.5922, Valid Loss=0.1742, Valid R2=0.6070, Valid MAE=0.3068]\n",
            "Epoch  9: 100%|██████████| 2607/2607 [00:11<00:00, 234.43it/s, Train Loss=0.5677, Valid Loss=0.1643, Valid R2=0.6294, Valid MAE=0.3115]\n",
            "Epoch 10: 100%|██████████| 2607/2607 [00:11<00:00, 235.98it/s, Train Loss=0.5467, Valid Loss=0.0873, Valid R2=0.8030, Valid MAE=0.2278]\n",
            "Epoch 11: 100%|██████████| 2607/2607 [00:10<00:00, 253.84it/s, Train Loss=0.5343, Valid Loss=0.1467, Valid R2=0.6689, Valid MAE=0.2770]\n",
            "Epoch 12: 100%|██████████| 2607/2607 [00:10<00:00, 241.09it/s, Train Loss=0.5215, Valid Loss=0.1465, Valid R2=0.6695, Valid MAE=0.2982]\n",
            "Epoch 13: 100%|██████████| 2607/2607 [00:10<00:00, 240.97it/s, Train Loss=0.5061, Valid Loss=0.1309, Valid R2=0.7045, Valid MAE=0.2830]\n",
            "Epoch 14: 100%|██████████| 2607/2607 [00:10<00:00, 238.94it/s, Train Loss=0.4996, Valid Loss=0.1468, Valid R2=0.6688, Valid MAE=0.2874]\n"
          ]
        },
        {
          "name": "stdout",
          "output_type": "stream",
          "text": [
            "Early Stopped\n",
            "Setting  34 of Parameters Grid is now on progres.\n"
          ]
        },
        {
          "name": "stderr",
          "output_type": "stream",
          "text": [
            "Epoch  0: 100%|██████████| 2607/2607 [00:10<00:00, 244.38it/s, Train Loss=5.3924, Valid Loss=0.9274, Valid R2=-1.0926, Valid MAE=0.7864]\n",
            "Epoch  1: 100%|██████████| 2607/2607 [00:11<00:00, 233.12it/s, Train Loss=2.0101, Valid Loss=0.6067, Valid R2=-0.3690, Valid MAE=0.5812]\n",
            "Epoch  2: 100%|██████████| 2607/2607 [00:10<00:00, 245.85it/s, Train Loss=1.0659, Valid Loss=0.2934, Valid R2=0.3380, Valid MAE=0.4075]\n",
            "Epoch  3: 100%|██████████| 2607/2607 [00:10<00:00, 240.75it/s, Train Loss=0.7787, Valid Loss=0.2203, Valid R2=0.5028, Valid MAE=0.3595]\n",
            "Epoch  4: 100%|██████████| 2607/2607 [00:10<00:00, 245.04it/s, Train Loss=0.6773, Valid Loss=0.4525, Valid R2=-0.0210, Valid MAE=0.5167]\n",
            "Epoch  5: 100%|██████████| 2607/2607 [00:10<00:00, 241.62it/s, Train Loss=0.6330, Valid Loss=0.2410, Valid R2=0.4561, Valid MAE=0.3918]\n",
            "Epoch  6: 100%|██████████| 2607/2607 [00:10<00:00, 247.80it/s, Train Loss=0.6002, Valid Loss=0.2088, Valid R2=0.5288, Valid MAE=0.3624]\n",
            "Epoch  7: 100%|██████████| 2607/2607 [00:10<00:00, 244.81it/s, Train Loss=0.5758, Valid Loss=0.4262, Valid R2=0.0384, Valid MAE=0.4819]\n",
            "Epoch  8: 100%|██████████| 2607/2607 [00:09<00:00, 261.27it/s, Train Loss=0.5586, Valid Loss=0.3132, Valid R2=0.2934, Valid MAE=0.4241]\n",
            "Epoch  9: 100%|██████████| 2607/2607 [00:10<00:00, 242.13it/s, Train Loss=0.5371, Valid Loss=0.3568, Valid R2=0.1949, Valid MAE=0.4749]\n",
            "Epoch 10: 100%|██████████| 2607/2607 [00:11<00:00, 232.04it/s, Train Loss=0.5218, Valid Loss=0.3622, Valid R2=0.1828, Valid MAE=0.4665]\n"
          ]
        },
        {
          "name": "stdout",
          "output_type": "stream",
          "text": [
            "Early Stopped\n",
            "Setting  35 of Parameters Grid is now on progres.\n"
          ]
        },
        {
          "name": "stderr",
          "output_type": "stream",
          "text": [
            "Epoch  0: 100%|██████████| 2607/2607 [00:11<00:00, 236.09it/s, Train Loss=7.3816, Valid Loss=1.2404, Valid R2=-1.7987, Valid MAE=0.9941]\n",
            "Epoch  1: 100%|██████████| 2607/2607 [00:11<00:00, 231.99it/s, Train Loss=4.2111, Valid Loss=1.5449, Valid R2=-2.4859, Valid MAE=1.1227]\n",
            "Epoch  2: 100%|██████████| 2607/2607 [00:10<00:00, 239.02it/s, Train Loss=3.1556, Valid Loss=1.0703, Valid R2=-1.4150, Valid MAE=0.9363]\n",
            "Epoch  3: 100%|██████████| 2607/2607 [00:11<00:00, 234.80it/s, Train Loss=2.0389, Valid Loss=0.5234, Valid R2=-0.1809, Valid MAE=0.6279]\n",
            "Epoch  4: 100%|██████████| 2607/2607 [00:10<00:00, 239.31it/s, Train Loss=1.3518, Valid Loss=0.3340, Valid R2=0.2464, Valid MAE=0.4717]\n",
            "Epoch  5: 100%|██████████| 2607/2607 [00:10<00:00, 240.67it/s, Train Loss=0.9934, Valid Loss=0.2289, Valid R2=0.4836, Valid MAE=0.3611]\n",
            "Epoch  6: 100%|██████████| 2607/2607 [00:10<00:00, 247.75it/s, Train Loss=0.7646, Valid Loss=0.2246, Valid R2=0.4931, Valid MAE=0.3800]\n",
            "Epoch  7: 100%|██████████| 2607/2607 [00:10<00:00, 237.42it/s, Train Loss=0.6675, Valid Loss=0.2364, Valid R2=0.4667, Valid MAE=0.3957]\n",
            "Epoch  8: 100%|██████████| 2607/2607 [00:10<00:00, 238.24it/s, Train Loss=0.6150, Valid Loss=0.2212, Valid R2=0.5008, Valid MAE=0.3906]\n",
            "Epoch  9: 100%|██████████| 2607/2607 [00:10<00:00, 238.58it/s, Train Loss=0.5869, Valid Loss=0.2292, Valid R2=0.4828, Valid MAE=0.3958]\n",
            "Epoch 10: 100%|██████████| 2607/2607 [00:11<00:00, 232.96it/s, Train Loss=0.5610, Valid Loss=0.2646, Valid R2=0.4029, Valid MAE=0.4234]\n",
            "Epoch 11: 100%|██████████| 2607/2607 [00:11<00:00, 233.86it/s, Train Loss=0.5311, Valid Loss=0.2625, Valid R2=0.4076, Valid MAE=0.4223]\n",
            "Epoch 12: 100%|██████████| 2607/2607 [00:10<00:00, 238.81it/s, Train Loss=0.5204, Valid Loss=0.2319, Valid R2=0.4767, Valid MAE=0.3948]\n"
          ]
        },
        {
          "name": "stdout",
          "output_type": "stream",
          "text": [
            "Early Stopped\n",
            "Setting  36 of Parameters Grid is now on progres.\n"
          ]
        },
        {
          "name": "stderr",
          "output_type": "stream",
          "text": [
            "Epoch  0: 100%|██████████| 2607/2607 [00:10<00:00, 253.07it/s, Train Loss=5.9973, Valid Loss=0.2305, Valid R2=0.4798, Valid MAE=0.3824]\n",
            "Epoch  1: 100%|██████████| 2607/2607 [00:10<00:00, 247.31it/s, Train Loss=2.0282, Valid Loss=0.4151, Valid R2=0.0635, Valid MAE=0.4847]\n",
            "Epoch  2: 100%|██████████| 2607/2607 [00:10<00:00, 242.20it/s, Train Loss=0.9954, Valid Loss=0.2538, Valid R2=0.4272, Valid MAE=0.4015]\n",
            "Epoch  3: 100%|██████████| 2607/2607 [00:10<00:00, 243.06it/s, Train Loss=0.7529, Valid Loss=0.1887, Valid R2=0.5741, Valid MAE=0.3323]\n",
            "Epoch  4: 100%|██████████| 2607/2607 [00:10<00:00, 244.72it/s, Train Loss=0.6768, Valid Loss=0.2296, Valid R2=0.4819, Valid MAE=0.3762]\n",
            "Epoch  5: 100%|██████████| 2607/2607 [00:10<00:00, 242.50it/s, Train Loss=0.6405, Valid Loss=0.2351, Valid R2=0.4695, Valid MAE=0.3856]\n",
            "Epoch  6: 100%|██████████| 2607/2607 [00:10<00:00, 243.75it/s, Train Loss=0.6127, Valid Loss=0.2035, Valid R2=0.5407, Valid MAE=0.3501]\n",
            "Epoch  7: 100%|██████████| 2607/2607 [00:10<00:00, 239.58it/s, Train Loss=0.5986, Valid Loss=0.2130, Valid R2=0.5194, Valid MAE=0.3665]\n"
          ]
        },
        {
          "name": "stdout",
          "output_type": "stream",
          "text": [
            "Early Stopped\n",
            "Setting  37 of Parameters Grid is now on progres.\n"
          ]
        },
        {
          "name": "stderr",
          "output_type": "stream",
          "text": [
            "Epoch  0: 100%|██████████| 2607/2607 [00:10<00:00, 242.68it/s, Train Loss=7.5656, Valid Loss=0.7312, Valid R2=-0.6499, Valid MAE=0.7427]\n",
            "Epoch  1: 100%|██████████| 2607/2607 [00:10<00:00, 241.92it/s, Train Loss=4.0774, Valid Loss=0.3774, Valid R2=0.1484, Valid MAE=0.4850]\n",
            "Epoch  2: 100%|██████████| 2607/2607 [00:10<00:00, 241.45it/s, Train Loss=2.1740, Valid Loss=0.4755, Valid R2=-0.0728, Valid MAE=0.5203]\n",
            "Epoch  3: 100%|██████████| 2607/2607 [00:10<00:00, 241.34it/s, Train Loss=1.3040, Valid Loss=0.3269, Valid R2=0.2623, Valid MAE=0.4195]\n",
            "Epoch  4: 100%|██████████| 2607/2607 [00:10<00:00, 241.64it/s, Train Loss=0.9142, Valid Loss=0.4431, Valid R2=0.0002, Valid MAE=0.5086]\n",
            "Epoch  5: 100%|██████████| 2607/2607 [00:10<00:00, 249.79it/s, Train Loss=0.7538, Valid Loss=0.3938, Valid R2=0.1114, Valid MAE=0.5012]\n",
            "Epoch  6: 100%|██████████| 2607/2607 [00:10<00:00, 243.88it/s, Train Loss=0.6839, Valid Loss=0.3840, Valid R2=0.1335, Valid MAE=0.4754]\n",
            "Epoch  7: 100%|██████████| 2607/2607 [00:10<00:00, 244.30it/s, Train Loss=0.6462, Valid Loss=0.3118, Valid R2=0.2964, Valid MAE=0.4105]\n",
            "Epoch  8: 100%|██████████| 2607/2607 [00:10<00:00, 249.63it/s, Train Loss=0.6176, Valid Loss=0.3015, Valid R2=0.3198, Valid MAE=0.4011]\n",
            "Epoch  9: 100%|██████████| 2607/2607 [00:10<00:00, 259.85it/s, Train Loss=0.6006, Valid Loss=0.2378, Valid R2=0.4634, Valid MAE=0.3675]\n",
            "Epoch 10: 100%|██████████| 2607/2607 [00:10<00:00, 249.27it/s, Train Loss=0.5844, Valid Loss=0.3374, Valid R2=0.2387, Valid MAE=0.4303]\n",
            "Epoch 11: 100%|██████████| 2607/2607 [00:10<00:00, 244.70it/s, Train Loss=0.5709, Valid Loss=0.3378, Valid R2=0.2377, Valid MAE=0.4303]\n",
            "Epoch 12: 100%|██████████| 2607/2607 [00:10<00:00, 248.57it/s, Train Loss=0.5557, Valid Loss=0.2460, Valid R2=0.4450, Valid MAE=0.3772]\n",
            "Epoch 13: 100%|██████████| 2607/2607 [00:10<00:00, 241.87it/s, Train Loss=0.5471, Valid Loss=0.3221, Valid R2=0.2732, Valid MAE=0.4219]\n"
          ]
        },
        {
          "name": "stdout",
          "output_type": "stream",
          "text": [
            "Early Stopped\n",
            "Setting  38 of Parameters Grid is now on progres.\n"
          ]
        },
        {
          "name": "stderr",
          "output_type": "stream",
          "text": [
            "Epoch  0: 100%|██████████| 2607/2607 [00:10<00:00, 241.02it/s, Train Loss=5.0114, Valid Loss=0.1803, Valid R2=0.5932, Valid MAE=0.3485]\n",
            "Epoch  1: 100%|██████████| 2607/2607 [00:10<00:00, 240.98it/s, Train Loss=1.8175, Valid Loss=0.2073, Valid R2=0.5322, Valid MAE=0.3449]\n",
            "Epoch  2: 100%|██████████| 2607/2607 [00:10<00:00, 243.27it/s, Train Loss=0.9605, Valid Loss=0.1724, Valid R2=0.6111, Valid MAE=0.3298]\n",
            "Epoch  3: 100%|██████████| 2607/2607 [00:10<00:00, 251.01it/s, Train Loss=0.7323, Valid Loss=0.2096, Valid R2=0.5270, Valid MAE=0.3634]\n",
            "Epoch  4: 100%|██████████| 2607/2607 [00:10<00:00, 251.89it/s, Train Loss=0.6665, Valid Loss=0.1564, Valid R2=0.6470, Valid MAE=0.3234]\n",
            "Epoch  5: 100%|██████████| 2607/2607 [00:10<00:00, 257.26it/s, Train Loss=0.6281, Valid Loss=0.1767, Valid R2=0.6012, Valid MAE=0.3448]\n",
            "Epoch  6: 100%|██████████| 2607/2607 [00:10<00:00, 240.51it/s, Train Loss=0.6041, Valid Loss=0.2330, Valid R2=0.4742, Valid MAE=0.3815]\n",
            "Epoch  7: 100%|██████████| 2607/2607 [00:11<00:00, 236.46it/s, Train Loss=0.5812, Valid Loss=0.2082, Valid R2=0.5302, Valid MAE=0.3659]\n",
            "Epoch  8: 100%|██████████| 2607/2607 [00:10<00:00, 251.24it/s, Train Loss=0.5662, Valid Loss=0.1728, Valid R2=0.6102, Valid MAE=0.3429]\n"
          ]
        },
        {
          "name": "stdout",
          "output_type": "stream",
          "text": [
            "Early Stopped\n",
            "Setting  39 of Parameters Grid is now on progres.\n"
          ]
        },
        {
          "name": "stderr",
          "output_type": "stream",
          "text": [
            "Epoch  0: 100%|██████████| 2607/2607 [00:10<00:00, 257.02it/s, Train Loss=7.3449, Valid Loss=0.3043, Valid R2=0.3133, Valid MAE=0.4473]\n",
            "Epoch  1: 100%|██████████| 2607/2607 [00:10<00:00, 248.80it/s, Train Loss=3.4180, Valid Loss=0.3396, Valid R2=0.2338, Valid MAE=0.4642]\n",
            "Epoch  2: 100%|██████████| 2607/2607 [00:10<00:00, 248.19it/s, Train Loss=1.8322, Valid Loss=0.4939, Valid R2=-0.1144, Valid MAE=0.5377]\n",
            "Epoch  3: 100%|██████████| 2607/2607 [00:10<00:00, 237.45it/s, Train Loss=1.1260, Valid Loss=0.5170, Valid R2=-0.1665, Valid MAE=0.5705]\n",
            "Epoch  4: 100%|██████████| 2607/2607 [00:10<00:00, 254.75it/s, Train Loss=0.8374, Valid Loss=0.3149, Valid R2=0.2894, Valid MAE=0.4336]\n"
          ]
        },
        {
          "name": "stdout",
          "output_type": "stream",
          "text": [
            "Early Stopped\n",
            "Setting  40 of Parameters Grid is now on progres.\n"
          ]
        },
        {
          "name": "stderr",
          "output_type": "stream",
          "text": [
            "Epoch  0: 100%|██████████| 2607/2607 [00:10<00:00, 249.91it/s, Train Loss=4.5270, Valid Loss=0.1969, Valid R2=0.5557, Valid MAE=0.3610]\n",
            "Epoch  1: 100%|██████████| 2607/2607 [00:10<00:00, 241.44it/s, Train Loss=1.5544, Valid Loss=0.1760, Valid R2=0.6028, Valid MAE=0.3282]\n",
            "Epoch  2: 100%|██████████| 2607/2607 [00:10<00:00, 242.74it/s, Train Loss=0.8767, Valid Loss=0.1405, Valid R2=0.6830, Valid MAE=0.2876]\n",
            "Epoch  3: 100%|██████████| 2607/2607 [00:10<00:00, 242.86it/s, Train Loss=0.7128, Valid Loss=0.2150, Valid R2=0.5149, Valid MAE=0.3524]\n",
            "Epoch  4: 100%|██████████| 2607/2607 [00:10<00:00, 238.08it/s, Train Loss=0.6515, Valid Loss=0.1581, Valid R2=0.6433, Valid MAE=0.3057]\n",
            "Epoch  5: 100%|██████████| 2607/2607 [00:11<00:00, 235.17it/s, Train Loss=0.6213, Valid Loss=0.1731, Valid R2=0.6094, Valid MAE=0.3366]\n",
            "Epoch  6: 100%|██████████| 2607/2607 [00:10<00:00, 239.77it/s, Train Loss=0.6000, Valid Loss=0.1499, Valid R2=0.6619, Valid MAE=0.3125]\n"
          ]
        },
        {
          "name": "stdout",
          "output_type": "stream",
          "text": [
            "Early Stopped\n",
            "Setting  41 of Parameters Grid is now on progres.\n"
          ]
        },
        {
          "name": "stderr",
          "output_type": "stream",
          "text": [
            "Epoch  0: 100%|██████████| 2607/2607 [00:10<00:00, 241.24it/s, Train Loss=6.2448, Valid Loss=1.8676, Valid R2=-3.2140, Valid MAE=1.2320]\n",
            "Epoch  1: 100%|██████████| 2607/2607 [00:10<00:00, 237.03it/s, Train Loss=2.4371, Valid Loss=0.3699, Valid R2=0.1654, Valid MAE=0.4610]\n",
            "Epoch  2: 100%|██████████| 2607/2607 [00:10<00:00, 237.83it/s, Train Loss=1.1390, Valid Loss=0.3805, Valid R2=0.1414, Valid MAE=0.4589]\n",
            "Epoch  3: 100%|██████████| 2607/2607 [00:10<00:00, 238.96it/s, Train Loss=0.8168, Valid Loss=0.2758, Valid R2=0.3778, Valid MAE=0.4113]\n",
            "Epoch  4: 100%|██████████| 2607/2607 [00:10<00:00, 239.16it/s, Train Loss=0.7189, Valid Loss=0.2400, Valid R2=0.4585, Valid MAE=0.3903]\n",
            "Epoch  5: 100%|██████████| 2607/2607 [00:10<00:00, 244.55it/s, Train Loss=0.6811, Valid Loss=0.2769, Valid R2=0.3753, Valid MAE=0.4286]\n",
            "Epoch  6: 100%|██████████| 2607/2607 [00:10<00:00, 245.20it/s, Train Loss=0.6524, Valid Loss=0.2141, Valid R2=0.5168, Valid MAE=0.3703]\n",
            "Epoch  7: 100%|██████████| 2607/2607 [00:09<00:00, 262.12it/s, Train Loss=0.6310, Valid Loss=0.4208, Valid R2=0.0504, Valid MAE=0.5172]\n",
            "Epoch  8: 100%|██████████| 2607/2607 [00:09<00:00, 265.14it/s, Train Loss=0.6119, Valid Loss=0.3030, Valid R2=0.3163, Valid MAE=0.4483]\n",
            "Epoch  9: 100%|██████████| 2607/2607 [00:10<00:00, 245.79it/s, Train Loss=0.6013, Valid Loss=0.2443, Valid R2=0.4488, Valid MAE=0.4023]\n",
            "Epoch 10: 100%|██████████| 2607/2607 [00:10<00:00, 239.53it/s, Train Loss=0.5896, Valid Loss=0.2405, Valid R2=0.4573, Valid MAE=0.3920]\n"
          ]
        },
        {
          "name": "stdout",
          "output_type": "stream",
          "text": [
            "Early Stopped\n",
            "Setting  42 of Parameters Grid is now on progres.\n"
          ]
        },
        {
          "name": "stderr",
          "output_type": "stream",
          "text": [
            "Epoch  0: 100%|██████████| 2607/2607 [00:10<00:00, 244.06it/s, Train Loss=6.5572, Valid Loss=0.1793, Valid R2=0.5955, Valid MAE=0.3525]\n",
            "Epoch  1: 100%|██████████| 2607/2607 [00:10<00:00, 256.04it/s, Train Loss=2.1804, Valid Loss=0.3645, Valid R2=0.1776, Valid MAE=0.4634]\n",
            "Epoch  2: 100%|██████████| 2607/2607 [00:09<00:00, 263.54it/s, Train Loss=1.0313, Valid Loss=0.1874, Valid R2=0.5771, Valid MAE=0.3352]\n",
            "Epoch  3: 100%|██████████| 2607/2607 [00:10<00:00, 259.06it/s, Train Loss=0.7490, Valid Loss=0.2141, Valid R2=0.5168, Valid MAE=0.3703]\n",
            "Epoch  4: 100%|██████████| 2607/2607 [00:10<00:00, 247.26it/s, Train Loss=0.6685, Valid Loss=0.2466, Valid R2=0.4436, Valid MAE=0.3886]\n"
          ]
        },
        {
          "name": "stdout",
          "output_type": "stream",
          "text": [
            "Early Stopped\n",
            "Setting  43 of Parameters Grid is now on progres.\n"
          ]
        },
        {
          "name": "stderr",
          "output_type": "stream",
          "text": [
            "Epoch  0: 100%|██████████| 2607/2607 [00:10<00:00, 241.50it/s, Train Loss=7.1844, Valid Loss=1.3432, Valid R2=-2.0307, Valid MAE=1.0360]\n",
            "Epoch  1: 100%|██████████| 2607/2607 [00:10<00:00, 242.98it/s, Train Loss=2.9638, Valid Loss=0.2176, Valid R2=0.5091, Valid MAE=0.3617]\n",
            "Epoch  2: 100%|██████████| 2607/2607 [00:10<00:00, 242.22it/s, Train Loss=1.2569, Valid Loss=0.2801, Valid R2=0.3680, Valid MAE=0.3844]\n",
            "Epoch  3: 100%|██████████| 2607/2607 [00:10<00:00, 253.88it/s, Train Loss=0.8311, Valid Loss=0.2182, Valid R2=0.5076, Valid MAE=0.3483]\n",
            "Epoch  4: 100%|██████████| 2607/2607 [00:10<00:00, 250.73it/s, Train Loss=0.7060, Valid Loss=0.3229, Valid R2=0.2714, Valid MAE=0.4005]\n",
            "Epoch  5: 100%|██████████| 2607/2607 [00:10<00:00, 246.46it/s, Train Loss=0.6575, Valid Loss=0.4309, Valid R2=0.0276, Valid MAE=0.5097]\n"
          ]
        },
        {
          "name": "stdout",
          "output_type": "stream",
          "text": [
            "Early Stopped\n",
            "Setting  44 of Parameters Grid is now on progres.\n"
          ]
        },
        {
          "name": "stderr",
          "output_type": "stream",
          "text": [
            "Epoch  0: 100%|██████████| 2607/2607 [00:10<00:00, 251.46it/s, Train Loss=5.1812, Valid Loss=0.2129, Valid R2=0.5197, Valid MAE=0.3684]\n",
            "Epoch  1: 100%|██████████| 2607/2607 [00:10<00:00, 241.70it/s, Train Loss=1.7051, Valid Loss=0.2360, Valid R2=0.4675, Valid MAE=0.3611]\n",
            "Epoch  2: 100%|██████████| 2607/2607 [00:10<00:00, 249.10it/s, Train Loss=0.9253, Valid Loss=0.1755, Valid R2=0.6041, Valid MAE=0.3190]\n",
            "Epoch  3: 100%|██████████| 2607/2607 [00:10<00:00, 250.85it/s, Train Loss=0.7408, Valid Loss=0.1555, Valid R2=0.6491, Valid MAE=0.2887]\n",
            "Epoch  4: 100%|██████████| 2607/2607 [00:09<00:00, 271.66it/s, Train Loss=0.6739, Valid Loss=0.1601, Valid R2=0.6388, Valid MAE=0.2969]\n",
            "Epoch  5: 100%|██████████| 2607/2607 [00:10<00:00, 254.61it/s, Train Loss=0.6361, Valid Loss=0.2426, Valid R2=0.4527, Valid MAE=0.3811]\n",
            "Epoch  6: 100%|██████████| 2607/2607 [00:10<00:00, 246.09it/s, Train Loss=0.6073, Valid Loss=0.1686, Valid R2=0.6195, Valid MAE=0.3183]\n",
            "Epoch  7: 100%|██████████| 2607/2607 [00:10<00:00, 240.08it/s, Train Loss=0.5864, Valid Loss=0.1663, Valid R2=0.6247, Valid MAE=0.3234]\n"
          ]
        },
        {
          "name": "stdout",
          "output_type": "stream",
          "text": [
            "Early Stopped\n",
            "Setting  45 of Parameters Grid is now on progres.\n"
          ]
        },
        {
          "name": "stderr",
          "output_type": "stream",
          "text": [
            "Epoch  0: 100%|██████████| 2607/2607 [00:10<00:00, 241.67it/s, Train Loss=5.9396, Valid Loss=0.3140, Valid R2=0.2916, Valid MAE=0.4584]\n",
            "Epoch  1: 100%|██████████| 2607/2607 [00:10<00:00, 244.29it/s, Train Loss=2.0894, Valid Loss=0.3181, Valid R2=0.2823, Valid MAE=0.4181]\n",
            "Epoch  2: 100%|██████████| 2607/2607 [00:10<00:00, 246.41it/s, Train Loss=1.0115, Valid Loss=0.2155, Valid R2=0.5136, Valid MAE=0.3547]\n",
            "Epoch  3: 100%|██████████| 2607/2607 [00:10<00:00, 240.41it/s, Train Loss=0.7533, Valid Loss=0.3088, Valid R2=0.3032, Valid MAE=0.4262]\n",
            "Epoch  4: 100%|██████████| 2607/2607 [00:10<00:00, 242.58it/s, Train Loss=0.6791, Valid Loss=0.2021, Valid R2=0.5440, Valid MAE=0.3557]\n",
            "Epoch  5: 100%|██████████| 2607/2607 [00:10<00:00, 239.52it/s, Train Loss=0.6491, Valid Loss=0.3348, Valid R2=0.2446, Valid MAE=0.4398]\n",
            "Epoch  6: 100%|██████████| 2607/2607 [00:10<00:00, 242.59it/s, Train Loss=0.6200, Valid Loss=0.2197, Valid R2=0.5042, Valid MAE=0.3604]\n",
            "Epoch  7: 100%|██████████| 2607/2607 [00:10<00:00, 247.22it/s, Train Loss=0.6047, Valid Loss=0.1911, Valid R2=0.5688, Valid MAE=0.3515]\n",
            "Epoch  8: 100%|██████████| 2607/2607 [00:10<00:00, 241.76it/s, Train Loss=0.5899, Valid Loss=0.1788, Valid R2=0.5966, Valid MAE=0.3377]\n",
            "Epoch  9: 100%|██████████| 2607/2607 [00:10<00:00, 238.61it/s, Train Loss=0.5780, Valid Loss=0.2818, Valid R2=0.3642, Valid MAE=0.4249]\n",
            "Epoch 10: 100%|██████████| 2607/2607 [00:10<00:00, 241.82it/s, Train Loss=0.5667, Valid Loss=0.1999, Valid R2=0.5489, Valid MAE=0.3690]\n",
            "Epoch 11: 100%|██████████| 2607/2607 [00:10<00:00, 242.71it/s, Train Loss=0.5582, Valid Loss=0.2176, Valid R2=0.5090, Valid MAE=0.3713]\n",
            "Epoch 12: 100%|██████████| 2607/2607 [00:10<00:00, 243.66it/s, Train Loss=0.5480, Valid Loss=0.1783, Valid R2=0.5977, Valid MAE=0.3333]\n",
            "Epoch 13: 100%|██████████| 2607/2607 [00:10<00:00, 242.93it/s, Train Loss=0.5363, Valid Loss=0.1683, Valid R2=0.6203, Valid MAE=0.3263]\n",
            "Epoch 14: 100%|██████████| 2607/2607 [00:10<00:00, 237.70it/s, Train Loss=0.5299, Valid Loss=0.2784, Valid R2=0.3718, Valid MAE=0.4119]\n",
            "Epoch 15: 100%|██████████| 2607/2607 [00:10<00:00, 237.93it/s, Train Loss=0.5178, Valid Loss=0.2085, Valid R2=0.5296, Valid MAE=0.3693]\n",
            "Epoch 16: 100%|██████████| 2607/2607 [00:10<00:00, 243.24it/s, Train Loss=0.5119, Valid Loss=0.1989, Valid R2=0.5511, Valid MAE=0.3534]\n",
            "Epoch 17: 100%|██████████| 2607/2607 [00:10<00:00, 248.63it/s, Train Loss=0.5030, Valid Loss=0.2065, Valid R2=0.5340, Valid MAE=0.3547]\n"
          ]
        },
        {
          "name": "stdout",
          "output_type": "stream",
          "text": [
            "Early Stopped\n",
            "Setting  46 of Parameters Grid is now on progres.\n"
          ]
        },
        {
          "name": "stderr",
          "output_type": "stream",
          "text": [
            "Epoch  0: 100%|██████████| 2607/2607 [00:10<00:00, 247.54it/s, Train Loss=5.3317, Valid Loss=0.1560, Valid R2=0.6479, Valid MAE=0.3212]\n",
            "Epoch  1: 100%|██████████| 2607/2607 [00:10<00:00, 244.72it/s, Train Loss=1.7690, Valid Loss=0.2748, Valid R2=0.3800, Valid MAE=0.4061]\n",
            "Epoch  2: 100%|██████████| 2607/2607 [00:10<00:00, 254.97it/s, Train Loss=0.9353, Valid Loss=0.2269, Valid R2=0.4880, Valid MAE=0.3770]\n",
            "Epoch  3: 100%|██████████| 2607/2607 [00:09<00:00, 268.33it/s, Train Loss=0.7281, Valid Loss=0.2148, Valid R2=0.5154, Valid MAE=0.3726]\n",
            "Epoch  4: 100%|██████████| 2607/2607 [00:10<00:00, 243.99it/s, Train Loss=0.6618, Valid Loss=0.1919, Valid R2=0.5671, Valid MAE=0.3521]\n"
          ]
        },
        {
          "name": "stdout",
          "output_type": "stream",
          "text": [
            "Early Stopped\n",
            "Setting  47 of Parameters Grid is now on progres.\n"
          ]
        },
        {
          "name": "stderr",
          "output_type": "stream",
          "text": [
            "Epoch  0: 100%|██████████| 2607/2607 [00:10<00:00, 249.26it/s, Train Loss=6.9019, Valid Loss=1.3050, Valid R2=-1.9447, Valid MAE=1.0148]\n",
            "Epoch  1: 100%|██████████| 2607/2607 [00:10<00:00, 249.80it/s, Train Loss=4.4346, Valid Loss=0.2840, Valid R2=0.3592, Valid MAE=0.4357]\n",
            "Epoch  2: 100%|██████████| 2607/2607 [00:10<00:00, 251.13it/s, Train Loss=1.7061, Valid Loss=0.5785, Valid R2=-0.3054, Valid MAE=0.6308]\n",
            "Epoch  3: 100%|██████████| 2607/2607 [00:09<00:00, 261.61it/s, Train Loss=0.9721, Valid Loss=0.2675, Valid R2=0.3964, Valid MAE=0.4058]\n",
            "Epoch  4: 100%|██████████| 2607/2607 [00:10<00:00, 247.52it/s, Train Loss=0.7532, Valid Loss=0.3066, Valid R2=0.3081, Valid MAE=0.4451]\n",
            "Epoch  5: 100%|██████████| 2607/2607 [00:10<00:00, 252.64it/s, Train Loss=0.6776, Valid Loss=0.3290, Valid R2=0.2576, Valid MAE=0.4717]\n",
            "Epoch  6: 100%|██████████| 2607/2607 [00:10<00:00, 242.93it/s, Train Loss=0.6442, Valid Loss=0.3797, Valid R2=0.1432, Valid MAE=0.5011]\n",
            "Epoch  7: 100%|██████████| 2607/2607 [00:10<00:00, 242.05it/s, Train Loss=0.6138, Valid Loss=0.3440, Valid R2=0.2238, Valid MAE=0.4793]\n"
          ]
        },
        {
          "name": "stdout",
          "output_type": "stream",
          "text": [
            "Early Stopped\n",
            "Setting  48 of Parameters Grid is now on progres.\n"
          ]
        },
        {
          "name": "stderr",
          "output_type": "stream",
          "text": [
            "Epoch  0: 100%|██████████| 2607/2607 [00:10<00:00, 239.98it/s, Train Loss=6.5033, Valid Loss=0.4384, Valid R2=0.0109, Valid MAE=0.5373]\n",
            "Epoch  1: 100%|██████████| 2607/2607 [00:10<00:00, 240.04it/s, Train Loss=2.3582, Valid Loss=0.5292, Valid R2=-0.1941, Valid MAE=0.5520]\n",
            "Epoch  2: 100%|██████████| 2607/2607 [00:10<00:00, 238.97it/s, Train Loss=1.1848, Valid Loss=0.4827, Valid R2=-0.0891, Valid MAE=0.5146]\n",
            "Epoch  3: 100%|██████████| 2607/2607 [00:10<00:00, 245.24it/s, Train Loss=0.8224, Valid Loss=0.4161, Valid R2=0.0612, Valid MAE=0.5054]\n",
            "Epoch  4: 100%|██████████| 2607/2607 [00:10<00:00, 247.94it/s, Train Loss=0.7112, Valid Loss=0.4036, Valid R2=0.0893, Valid MAE=0.5035]\n",
            "Epoch  5: 100%|██████████| 2607/2607 [00:10<00:00, 240.23it/s, Train Loss=0.6598, Valid Loss=0.3032, Valid R2=0.3159, Valid MAE=0.4166]\n",
            "Epoch  6: 100%|██████████| 2607/2607 [00:10<00:00, 240.27it/s, Train Loss=0.6364, Valid Loss=0.3109, Valid R2=0.2985, Valid MAE=0.4363]\n",
            "Epoch  7: 100%|██████████| 2607/2607 [00:10<00:00, 245.75it/s, Train Loss=0.6148, Valid Loss=0.3612, Valid R2=0.1850, Valid MAE=0.4708]\n",
            "Epoch  8: 100%|██████████| 2607/2607 [00:10<00:00, 249.88it/s, Train Loss=0.5985, Valid Loss=0.4066, Valid R2=0.0826, Valid MAE=0.4902]\n",
            "Epoch  9: 100%|██████████| 2607/2607 [00:10<00:00, 243.25it/s, Train Loss=0.5856, Valid Loss=0.3654, Valid R2=0.1754, Valid MAE=0.4846]\n"
          ]
        },
        {
          "name": "stdout",
          "output_type": "stream",
          "text": [
            "Early Stopped\n",
            "Setting  49 of Parameters Grid is now on progres.\n"
          ]
        },
        {
          "name": "stderr",
          "output_type": "stream",
          "text": [
            "Epoch  0: 100%|██████████| 2607/2607 [00:10<00:00, 248.62it/s, Train Loss=9.2968, Valid Loss=0.6821, Valid R2=-0.5390, Valid MAE=0.7185]\n",
            "Epoch  1: 100%|██████████| 2607/2607 [00:10<00:00, 242.76it/s, Train Loss=4.6492, Valid Loss=0.2366, Valid R2=0.4660, Valid MAE=0.3840]\n",
            "Epoch  2: 100%|██████████| 2607/2607 [00:10<00:00, 240.07it/s, Train Loss=1.7624, Valid Loss=0.2448, Valid R2=0.4476, Valid MAE=0.3642]\n",
            "Epoch  3: 100%|██████████| 2607/2607 [00:10<00:00, 247.37it/s, Train Loss=0.9615, Valid Loss=0.2000, Valid R2=0.5486, Valid MAE=0.3479]\n",
            "Epoch  4: 100%|██████████| 2607/2607 [00:10<00:00, 238.60it/s, Train Loss=0.7414, Valid Loss=0.2868, Valid R2=0.3529, Valid MAE=0.4280]\n",
            "Epoch  5: 100%|██████████| 2607/2607 [00:10<00:00, 247.35it/s, Train Loss=0.6726, Valid Loss=0.2376, Valid R2=0.4639, Valid MAE=0.3811]\n",
            "Epoch  6: 100%|██████████| 2607/2607 [00:10<00:00, 245.80it/s, Train Loss=0.6393, Valid Loss=0.2859, Valid R2=0.3549, Valid MAE=0.4335]\n",
            "Epoch  7: 100%|██████████| 2607/2607 [00:10<00:00, 249.84it/s, Train Loss=0.6146, Valid Loss=0.2032, Valid R2=0.5414, Valid MAE=0.3536]\n"
          ]
        },
        {
          "name": "stdout",
          "output_type": "stream",
          "text": [
            "Early Stopped\n",
            "Setting  50 of Parameters Grid is now on progres.\n"
          ]
        },
        {
          "name": "stderr",
          "output_type": "stream",
          "text": [
            "Epoch  0: 100%|██████████| 2607/2607 [00:10<00:00, 248.02it/s, Train Loss=9.1539, Valid Loss=0.9846, Valid R2=-1.2216, Valid MAE=0.8720]\n",
            "Epoch  1: 100%|██████████| 2607/2607 [00:10<00:00, 247.39it/s, Train Loss=3.6939, Valid Loss=0.1875, Valid R2=0.5769, Valid MAE=0.3279]\n",
            "Epoch  2: 100%|██████████| 2607/2607 [00:10<00:00, 246.61it/s, Train Loss=1.3346, Valid Loss=0.2281, Valid R2=0.4853, Valid MAE=0.3339]\n",
            "Epoch  3: 100%|██████████| 2607/2607 [00:10<00:00, 253.41it/s, Train Loss=0.8644, Valid Loss=0.1293, Valid R2=0.7083, Valid MAE=0.2761]\n",
            "Epoch  4: 100%|██████████| 2607/2607 [00:09<00:00, 260.85it/s, Train Loss=0.7328, Valid Loss=0.1215, Valid R2=0.7258, Valid MAE=0.2708]\n",
            "Epoch  5: 100%|██████████| 2607/2607 [00:10<00:00, 245.84it/s, Train Loss=0.6751, Valid Loss=0.1365, Valid R2=0.6919, Valid MAE=0.2687]\n",
            "Epoch  6: 100%|██████████| 2607/2607 [00:10<00:00, 248.44it/s, Train Loss=0.6366, Valid Loss=0.1180, Valid R2=0.7337, Valid MAE=0.2629]\n",
            "Epoch  7: 100%|██████████| 2607/2607 [00:10<00:00, 243.92it/s, Train Loss=0.6122, Valid Loss=0.1367, Valid R2=0.6915, Valid MAE=0.2687]\n",
            "Epoch  8: 100%|██████████| 2607/2607 [00:10<00:00, 241.13it/s, Train Loss=0.5907, Valid Loss=0.1446, Valid R2=0.6738, Valid MAE=0.2803]\n",
            "Epoch  9: 100%|██████████| 2607/2607 [00:10<00:00, 245.41it/s, Train Loss=0.5784, Valid Loss=0.1117, Valid R2=0.7480, Valid MAE=0.2554]\n",
            "Epoch 10: 100%|██████████| 2607/2607 [00:10<00:00, 247.42it/s, Train Loss=0.5642, Valid Loss=0.1333, Valid R2=0.6992, Valid MAE=0.2800]\n",
            "Epoch 11: 100%|██████████| 2607/2607 [00:10<00:00, 248.39it/s, Train Loss=0.5531, Valid Loss=0.1539, Valid R2=0.6526, Valid MAE=0.2972]\n",
            "Epoch 12: 100%|██████████| 2607/2607 [00:10<00:00, 240.02it/s, Train Loss=0.5449, Valid Loss=0.2093, Valid R2=0.5277, Valid MAE=0.3495]\n",
            "Epoch 13: 100%|██████████| 2607/2607 [00:10<00:00, 241.39it/s, Train Loss=0.5342, Valid Loss=0.1617, Valid R2=0.6351, Valid MAE=0.3027]\n"
          ]
        },
        {
          "name": "stdout",
          "output_type": "stream",
          "text": [
            "Early Stopped\n",
            "Setting  51 of Parameters Grid is now on progres.\n"
          ]
        },
        {
          "name": "stderr",
          "output_type": "stream",
          "text": [
            "Epoch  0: 100%|██████████| 2607/2607 [00:10<00:00, 251.51it/s, Train Loss=4.9531, Valid Loss=0.3253, Valid R2=0.2659, Valid MAE=0.4883]\n",
            "Epoch  1: 100%|██████████| 2607/2607 [00:09<00:00, 277.63it/s, Train Loss=1.7115, Valid Loss=0.3593, Valid R2=0.1894, Valid MAE=0.4738]\n",
            "Epoch  2: 100%|██████████| 2607/2607 [00:10<00:00, 252.62it/s, Train Loss=0.9321, Valid Loss=0.2452, Valid R2=0.4467, Valid MAE=0.3985]\n",
            "Epoch  3: 100%|██████████| 2607/2607 [00:10<00:00, 245.98it/s, Train Loss=0.7349, Valid Loss=0.3542, Valid R2=0.2008, Valid MAE=0.4615]\n",
            "Epoch  4: 100%|██████████| 2607/2607 [00:10<00:00, 255.48it/s, Train Loss=0.6705, Valid Loss=0.4393, Valid R2=0.0088, Valid MAE=0.5272]\n",
            "Epoch  5: 100%|██████████| 2607/2607 [00:09<00:00, 260.99it/s, Train Loss=0.6372, Valid Loss=0.4146, Valid R2=0.0646, Valid MAE=0.5059]\n",
            "Epoch  6: 100%|██████████| 2607/2607 [00:09<00:00, 261.25it/s, Train Loss=0.6146, Valid Loss=0.2001, Valid R2=0.5485, Valid MAE=0.3520]\n",
            "Epoch  7: 100%|██████████| 2607/2607 [00:10<00:00, 253.93it/s, Train Loss=0.6028, Valid Loss=0.2969, Valid R2=0.3301, Valid MAE=0.4057]\n",
            "Epoch  8: 100%|██████████| 2607/2607 [00:10<00:00, 246.47it/s, Train Loss=0.5818, Valid Loss=0.2372, Valid R2=0.4648, Valid MAE=0.3942]\n",
            "Epoch  9: 100%|██████████| 2607/2607 [00:10<00:00, 243.13it/s, Train Loss=0.5702, Valid Loss=0.3307, Valid R2=0.2538, Valid MAE=0.4460]\n",
            "Epoch 10: 100%|██████████| 2607/2607 [00:10<00:00, 256.15it/s, Train Loss=0.5642, Valid Loss=0.3150, Valid R2=0.2892, Valid MAE=0.4391]\n"
          ]
        },
        {
          "name": "stdout",
          "output_type": "stream",
          "text": [
            "Early Stopped\n",
            "Setting  52 of Parameters Grid is now on progres.\n"
          ]
        },
        {
          "name": "stderr",
          "output_type": "stream",
          "text": [
            "Epoch  0: 100%|██████████| 2607/2607 [00:09<00:00, 263.91it/s, Train Loss=7.2606, Valid Loss=0.4254, Valid R2=0.0401, Valid MAE=0.5392]\n",
            "Epoch  1: 100%|██████████| 2607/2607 [00:10<00:00, 240.72it/s, Train Loss=2.7975, Valid Loss=0.9636, Valid R2=-1.1742, Valid MAE=0.7891]\n",
            "Epoch  2: 100%|██████████| 2607/2607 [00:10<00:00, 243.61it/s, Train Loss=1.4611, Valid Loss=0.7225, Valid R2=-0.6303, Valid MAE=0.6792]\n",
            "Epoch  3: 100%|██████████| 2607/2607 [00:10<00:00, 245.70it/s, Train Loss=0.9273, Valid Loss=0.5758, Valid R2=-0.2993, Valid MAE=0.5746]\n",
            "Epoch  4: 100%|██████████| 2607/2607 [00:10<00:00, 238.51it/s, Train Loss=0.7434, Valid Loss=0.4225, Valid R2=0.0466, Valid MAE=0.4888]\n",
            "Epoch  5: 100%|██████████| 2607/2607 [00:10<00:00, 242.46it/s, Train Loss=0.6770, Valid Loss=0.4311, Valid R2=0.0272, Valid MAE=0.5185]\n",
            "Epoch  6: 100%|██████████| 2607/2607 [00:10<00:00, 250.17it/s, Train Loss=0.6371, Valid Loss=0.4178, Valid R2=0.0572, Valid MAE=0.5006]\n",
            "Epoch  7: 100%|██████████| 2607/2607 [00:10<00:00, 248.20it/s, Train Loss=0.6100, Valid Loss=0.4153, Valid R2=0.0629, Valid MAE=0.5119]\n",
            "Epoch  8: 100%|██████████| 2607/2607 [00:10<00:00, 240.49it/s, Train Loss=0.5869, Valid Loss=0.4253, Valid R2=0.0403, Valid MAE=0.5316]\n",
            "Epoch  9: 100%|██████████| 2607/2607 [00:10<00:00, 241.91it/s, Train Loss=0.5735, Valid Loss=0.4963, Valid R2=-0.1199, Valid MAE=0.5830]\n",
            "Epoch 10: 100%|██████████| 2607/2607 [00:10<00:00, 245.90it/s, Train Loss=0.5625, Valid Loss=0.4172, Valid R2=0.0586, Valid MAE=0.5338]\n",
            "Epoch 11: 100%|██████████| 2607/2607 [00:10<00:00, 241.69it/s, Train Loss=0.5520, Valid Loss=0.3078, Valid R2=0.3056, Valid MAE=0.4554]\n",
            "Epoch 12: 100%|██████████| 2607/2607 [00:10<00:00, 244.77it/s, Train Loss=0.5442, Valid Loss=0.4112, Valid R2=0.0722, Valid MAE=0.5131]\n",
            "Epoch 13: 100%|██████████| 2607/2607 [00:10<00:00, 245.17it/s, Train Loss=0.5292, Valid Loss=0.4046, Valid R2=0.0871, Valid MAE=0.5027]\n",
            "Epoch 14: 100%|██████████| 2607/2607 [00:10<00:00, 246.09it/s, Train Loss=0.5196, Valid Loss=0.3521, Valid R2=0.2056, Valid MAE=0.4813]\n",
            "Epoch 15: 100%|██████████| 2607/2607 [00:10<00:00, 245.99it/s, Train Loss=0.5087, Valid Loss=0.3432, Valid R2=0.2256, Valid MAE=0.4667]\n"
          ]
        },
        {
          "name": "stdout",
          "output_type": "stream",
          "text": [
            "Early Stopped\n",
            "Setting  53 of Parameters Grid is now on progres.\n"
          ]
        },
        {
          "name": "stderr",
          "output_type": "stream",
          "text": [
            "Epoch  0: 100%|██████████| 2607/2607 [00:10<00:00, 247.72it/s, Train Loss=7.9522, Valid Loss=0.8045, Valid R2=-0.8152, Valid MAE=0.7826]\n",
            "Epoch  1: 100%|██████████| 2607/2607 [00:10<00:00, 239.95it/s, Train Loss=3.7713, Valid Loss=0.3586, Valid R2=0.1909, Valid MAE=0.4979]\n",
            "Epoch  2: 100%|██████████| 2607/2607 [00:10<00:00, 240.07it/s, Train Loss=1.5859, Valid Loss=0.4508, Valid R2=-0.0172, Valid MAE=0.4999]\n",
            "Epoch  3: 100%|██████████| 2607/2607 [00:10<00:00, 245.06it/s, Train Loss=0.9692, Valid Loss=0.5982, Valid R2=-0.3499, Valid MAE=0.5836]\n",
            "Epoch  4: 100%|██████████| 2607/2607 [00:10<00:00, 241.88it/s, Train Loss=0.7564, Valid Loss=0.4682, Valid R2=-0.0564, Valid MAE=0.5109]\n",
            "Epoch  5: 100%|██████████| 2607/2607 [00:10<00:00, 238.72it/s, Train Loss=0.6806, Valid Loss=0.4723, Valid R2=-0.0656, Valid MAE=0.5362]\n"
          ]
        },
        {
          "name": "stdout",
          "output_type": "stream",
          "text": [
            "Early Stopped\n",
            "Setting  54 of Parameters Grid is now on progres.\n"
          ]
        },
        {
          "name": "stderr",
          "output_type": "stream",
          "text": [
            "Epoch  0: 100%|██████████| 2607/2607 [00:10<00:00, 245.26it/s, Train Loss=7.3274, Valid Loss=1.0591, Valid R2=-1.3897, Valid MAE=0.9184]\n",
            "Epoch  1: 100%|██████████| 2607/2607 [00:10<00:00, 242.29it/s, Train Loss=4.2911, Valid Loss=1.7554, Valid R2=-2.9608, Valid MAE=1.2030]\n",
            "Epoch  2: 100%|██████████| 2607/2607 [00:10<00:00, 246.45it/s, Train Loss=3.1181, Valid Loss=0.3438, Valid R2=0.2242, Valid MAE=0.4813]\n",
            "Epoch  3: 100%|██████████| 2607/2607 [00:09<00:00, 264.93it/s, Train Loss=1.1537, Valid Loss=0.1740, Valid R2=0.6073, Valid MAE=0.3174]\n",
            "Epoch  4: 100%|██████████| 2607/2607 [00:10<00:00, 242.65it/s, Train Loss=0.8224, Valid Loss=0.1723, Valid R2=0.6112, Valid MAE=0.3070]\n",
            "Epoch  5: 100%|██████████| 2607/2607 [00:10<00:00, 239.21it/s, Train Loss=0.7094, Valid Loss=0.1313, Valid R2=0.7037, Valid MAE=0.2746]\n",
            "Epoch  6: 100%|██████████| 2607/2607 [00:10<00:00, 242.09it/s, Train Loss=0.6580, Valid Loss=0.1237, Valid R2=0.7210, Valid MAE=0.2654]\n",
            "Epoch  7: 100%|██████████| 2607/2607 [00:10<00:00, 243.14it/s, Train Loss=0.6255, Valid Loss=0.1278, Valid R2=0.7117, Valid MAE=0.2805]\n",
            "Epoch  8: 100%|██████████| 2607/2607 [00:10<00:00, 241.59it/s, Train Loss=0.6058, Valid Loss=0.1290, Valid R2=0.7089, Valid MAE=0.2819]\n",
            "Epoch  9: 100%|██████████| 2607/2607 [00:10<00:00, 244.15it/s, Train Loss=0.5854, Valid Loss=0.1609, Valid R2=0.6370, Valid MAE=0.3146]\n",
            "Epoch 10: 100%|██████████| 2607/2607 [00:10<00:00, 243.18it/s, Train Loss=0.5688, Valid Loss=0.1444, Valid R2=0.6741, Valid MAE=0.3024]\n"
          ]
        },
        {
          "name": "stdout",
          "output_type": "stream",
          "text": [
            "Early Stopped\n",
            "Setting  55 of Parameters Grid is now on progres.\n"
          ]
        },
        {
          "name": "stderr",
          "output_type": "stream",
          "text": [
            "Epoch  0: 100%|██████████| 2607/2607 [00:10<00:00, 243.88it/s, Train Loss=4.8549, Valid Loss=0.3867, Valid R2=0.1274, Valid MAE=0.4783]\n",
            "Epoch  1: 100%|██████████| 2607/2607 [00:10<00:00, 242.33it/s, Train Loss=1.6559, Valid Loss=0.4560, Valid R2=-0.0290, Valid MAE=0.5276]\n",
            "Epoch  2: 100%|██████████| 2607/2607 [00:10<00:00, 241.59it/s, Train Loss=0.9197, Valid Loss=0.6495, Valid R2=-0.4654, Valid MAE=0.6186]\n",
            "Epoch  3: 100%|██████████| 2607/2607 [00:10<00:00, 245.52it/s, Train Loss=0.7178, Valid Loss=0.7083, Valid R2=-0.5982, Valid MAE=0.6520]\n",
            "Epoch  4: 100%|██████████| 2607/2607 [00:10<00:00, 251.56it/s, Train Loss=0.6481, Valid Loss=0.6277, Valid R2=-0.4164, Valid MAE=0.6069]\n"
          ]
        },
        {
          "name": "stdout",
          "output_type": "stream",
          "text": [
            "Early Stopped\n",
            "Setting  56 of Parameters Grid is now on progres.\n"
          ]
        },
        {
          "name": "stderr",
          "output_type": "stream",
          "text": [
            "Epoch  0: 100%|██████████| 2607/2607 [00:10<00:00, 242.84it/s, Train Loss=7.3390, Valid Loss=1.1252, Valid R2=-1.5390, Valid MAE=0.9392]\n",
            "Epoch  1: 100%|██████████| 2607/2607 [00:10<00:00, 240.67it/s, Train Loss=3.7944, Valid Loss=0.4761, Valid R2=-0.0742, Valid MAE=0.5705]\n",
            "Epoch  2: 100%|██████████| 2607/2607 [00:10<00:00, 242.66it/s, Train Loss=1.8375, Valid Loss=0.5137, Valid R2=-0.1591, Valid MAE=0.5576]\n",
            "Epoch  3: 100%|██████████| 2607/2607 [00:10<00:00, 244.84it/s, Train Loss=1.1207, Valid Loss=0.4141, Valid R2=0.0657, Valid MAE=0.4920]\n",
            "Epoch  4: 100%|██████████| 2607/2607 [00:10<00:00, 238.50it/s, Train Loss=0.8293, Valid Loss=0.4428, Valid R2=0.0009, Valid MAE=0.5106]\n",
            "Epoch  5: 100%|██████████| 2607/2607 [00:10<00:00, 243.32it/s, Train Loss=0.7104, Valid Loss=0.3684, Valid R2=0.1688, Valid MAE=0.5110]\n",
            "Epoch  6: 100%|██████████| 2607/2607 [00:10<00:00, 251.43it/s, Train Loss=0.6548, Valid Loss=0.3787, Valid R2=0.1455, Valid MAE=0.5041]\n",
            "Epoch  7: 100%|██████████| 2607/2607 [00:09<00:00, 266.09it/s, Train Loss=0.6258, Valid Loss=0.3703, Valid R2=0.1644, Valid MAE=0.4963]\n",
            "Epoch  8: 100%|██████████| 2607/2607 [00:10<00:00, 245.40it/s, Train Loss=0.5971, Valid Loss=0.3353, Valid R2=0.2434, Valid MAE=0.4604]\n",
            "Epoch  9: 100%|██████████| 2607/2607 [00:10<00:00, 248.06it/s, Train Loss=0.5788, Valid Loss=0.4118, Valid R2=0.0709, Valid MAE=0.5193]\n",
            "Epoch 10: 100%|██████████| 2607/2607 [00:10<00:00, 241.28it/s, Train Loss=0.5607, Valid Loss=0.6810, Valid R2=-0.5366, Valid MAE=0.6742]\n",
            "Epoch 11: 100%|██████████| 2607/2607 [00:10<00:00, 237.09it/s, Train Loss=0.5461, Valid Loss=0.2796, Valid R2=0.3691, Valid MAE=0.4187]\n",
            "Epoch 12: 100%|██████████| 2607/2607 [00:10<00:00, 237.90it/s, Train Loss=0.5359, Valid Loss=0.3242, Valid R2=0.2685, Valid MAE=0.4593]\n",
            "Epoch 13: 100%|██████████| 2607/2607 [00:10<00:00, 241.57it/s, Train Loss=0.5204, Valid Loss=0.3623, Valid R2=0.1825, Valid MAE=0.4832]\n",
            "Epoch 14: 100%|██████████| 2607/2607 [00:10<00:00, 246.24it/s, Train Loss=0.5148, Valid Loss=0.3574, Valid R2=0.1935, Valid MAE=0.4701]\n",
            "Epoch 15: 100%|██████████| 2607/2607 [00:09<00:00, 264.18it/s, Train Loss=0.5017, Valid Loss=0.4163, Valid R2=0.0607, Valid MAE=0.5213]\n"
          ]
        },
        {
          "name": "stdout",
          "output_type": "stream",
          "text": [
            "Early Stopped\n",
            "Setting  57 of Parameters Grid is now on progres.\n"
          ]
        },
        {
          "name": "stderr",
          "output_type": "stream",
          "text": [
            "Epoch  0: 100%|██████████| 2607/2607 [00:10<00:00, 246.45it/s, Train Loss=5.6196, Valid Loss=0.2705, Valid R2=0.3897, Valid MAE=0.4137]\n",
            "Epoch  1: 100%|██████████| 2607/2607 [00:10<00:00, 237.82it/s, Train Loss=2.0414, Valid Loss=0.2853, Valid R2=0.3561, Valid MAE=0.4038]\n",
            "Epoch  2: 100%|██████████| 2607/2607 [00:11<00:00, 232.90it/s, Train Loss=1.0272, Valid Loss=0.2261, Valid R2=0.4899, Valid MAE=0.3541]\n",
            "Epoch  3: 100%|██████████| 2607/2607 [00:10<00:00, 238.46it/s, Train Loss=0.7643, Valid Loss=0.2359, Valid R2=0.4678, Valid MAE=0.3825]\n",
            "Epoch  4: 100%|██████████| 2607/2607 [00:10<00:00, 245.34it/s, Train Loss=0.6888, Valid Loss=0.2898, Valid R2=0.3461, Valid MAE=0.4067]\n",
            "Epoch  5: 100%|██████████| 2607/2607 [00:10<00:00, 242.26it/s, Train Loss=0.6485, Valid Loss=0.2911, Valid R2=0.3432, Valid MAE=0.4364]\n",
            "Epoch  6: 100%|██████████| 2607/2607 [00:10<00:00, 242.22it/s, Train Loss=0.6185, Valid Loss=0.3100, Valid R2=0.3004, Valid MAE=0.4591]\n"
          ]
        },
        {
          "name": "stdout",
          "output_type": "stream",
          "text": [
            "Early Stopped\n",
            "Setting  58 of Parameters Grid is now on progres.\n"
          ]
        },
        {
          "name": "stderr",
          "output_type": "stream",
          "text": [
            "Epoch  0: 100%|██████████| 2607/2607 [00:10<00:00, 238.95it/s, Train Loss=4.1160, Valid Loss=0.2228, Valid R2=0.4974, Valid MAE=0.3842]\n",
            "Epoch  1: 100%|██████████| 2607/2607 [00:11<00:00, 236.12it/s, Train Loss=1.3112, Valid Loss=0.2046, Valid R2=0.5384, Valid MAE=0.3661]\n",
            "Epoch  2: 100%|██████████| 2607/2607 [00:10<00:00, 245.00it/s, Train Loss=0.7863, Valid Loss=0.2316, Valid R2=0.4775, Valid MAE=0.3791]\n",
            "Epoch  3: 100%|██████████| 2607/2607 [00:10<00:00, 259.04it/s, Train Loss=0.6707, Valid Loss=0.1990, Valid R2=0.5511, Valid MAE=0.3420]\n",
            "Epoch  4: 100%|██████████| 2607/2607 [00:10<00:00, 243.43it/s, Train Loss=0.6262, Valid Loss=0.2124, Valid R2=0.5207, Valid MAE=0.3483]\n",
            "Epoch  5: 100%|██████████| 2607/2607 [00:10<00:00, 240.20it/s, Train Loss=0.5933, Valid Loss=0.1911, Valid R2=0.5688, Valid MAE=0.3538]\n",
            "Epoch  6: 100%|██████████| 2607/2607 [00:10<00:00, 245.03it/s, Train Loss=0.5721, Valid Loss=0.2198, Valid R2=0.5041, Valid MAE=0.3721]\n",
            "Epoch  7: 100%|██████████| 2607/2607 [00:10<00:00, 244.37it/s, Train Loss=0.5535, Valid Loss=0.1994, Valid R2=0.5501, Valid MAE=0.3707]\n",
            "Epoch  8: 100%|██████████| 2607/2607 [00:10<00:00, 243.31it/s, Train Loss=0.5348, Valid Loss=0.1708, Valid R2=0.6147, Valid MAE=0.3226]\n",
            "Epoch  9: 100%|██████████| 2607/2607 [00:10<00:00, 239.73it/s, Train Loss=0.5194, Valid Loss=0.1607, Valid R2=0.6375, Valid MAE=0.3251]\n",
            "Epoch 10: 100%|██████████| 2607/2607 [00:10<00:00, 244.76it/s, Train Loss=0.5008, Valid Loss=0.1422, Valid R2=0.6790, Valid MAE=0.3064]\n",
            "Epoch 11: 100%|██████████| 2607/2607 [00:10<00:00, 240.35it/s, Train Loss=0.4779, Valid Loss=0.1467, Valid R2=0.6690, Valid MAE=0.3142]\n",
            "Epoch 12: 100%|██████████| 2607/2607 [00:10<00:00, 247.85it/s, Train Loss=0.4618, Valid Loss=0.1376, Valid R2=0.6896, Valid MAE=0.2976]\n",
            "Epoch 13: 100%|██████████| 2607/2607 [00:10<00:00, 247.18it/s, Train Loss=0.4421, Valid Loss=0.1321, Valid R2=0.7019, Valid MAE=0.2914]\n",
            "Epoch 14: 100%|██████████| 2607/2607 [00:10<00:00, 247.34it/s, Train Loss=0.4260, Valid Loss=0.1254, Valid R2=0.7169, Valid MAE=0.2838]\n",
            "Epoch 15: 100%|██████████| 2607/2607 [00:11<00:00, 236.89it/s, Train Loss=0.4060, Valid Loss=0.1435, Valid R2=0.6763, Valid MAE=0.3040]\n",
            "Epoch 16: 100%|██████████| 2607/2607 [00:10<00:00, 246.96it/s, Train Loss=0.3860, Valid Loss=0.1473, Valid R2=0.6675, Valid MAE=0.3095]\n",
            "Epoch 17: 100%|██████████| 2607/2607 [00:10<00:00, 243.86it/s, Train Loss=0.3696, Valid Loss=0.1430, Valid R2=0.6774, Valid MAE=0.3075]\n",
            "Epoch 18: 100%|██████████| 2607/2607 [00:10<00:00, 241.36it/s, Train Loss=0.3563, Valid Loss=0.1277, Valid R2=0.7119, Valid MAE=0.2802]\n"
          ]
        },
        {
          "name": "stdout",
          "output_type": "stream",
          "text": [
            "Early Stopped\n",
            "Setting  59 of Parameters Grid is now on progres.\n"
          ]
        },
        {
          "name": "stderr",
          "output_type": "stream",
          "text": [
            "Epoch  0: 100%|██████████| 2607/2607 [00:10<00:00, 241.69it/s, Train Loss=4.3607, Valid Loss=0.3901, Valid R2=0.1198, Valid MAE=0.5038]\n",
            "Epoch  1: 100%|██████████| 2607/2607 [00:10<00:00, 242.46it/s, Train Loss=1.4258, Valid Loss=0.3645, Valid R2=0.1775, Valid MAE=0.4276]\n",
            "Epoch  2: 100%|██████████| 2607/2607 [00:10<00:00, 241.21it/s, Train Loss=0.8712, Valid Loss=0.3749, Valid R2=0.1542, Valid MAE=0.4829]\n",
            "Epoch  3: 100%|██████████| 2607/2607 [00:11<00:00, 235.47it/s, Train Loss=0.7221, Valid Loss=0.1839, Valid R2=0.5851, Valid MAE=0.3470]\n",
            "Epoch  4: 100%|██████████| 2607/2607 [00:10<00:00, 240.92it/s, Train Loss=0.6702, Valid Loss=0.2781, Valid R2=0.3725, Valid MAE=0.4411]\n",
            "Epoch  5: 100%|██████████| 2607/2607 [00:10<00:00, 249.54it/s, Train Loss=0.6306, Valid Loss=0.1982, Valid R2=0.5528, Valid MAE=0.3636]\n",
            "Epoch  6: 100%|██████████| 2607/2607 [00:09<00:00, 264.96it/s, Train Loss=0.6094, Valid Loss=0.3948, Valid R2=0.1093, Valid MAE=0.4914]\n",
            "Epoch  7: 100%|██████████| 2607/2607 [00:10<00:00, 246.15it/s, Train Loss=0.5851, Valid Loss=0.4333, Valid R2=0.0223, Valid MAE=0.5074]\n"
          ]
        },
        {
          "name": "stdout",
          "output_type": "stream",
          "text": [
            "Early Stopped\n",
            "Setting  60 of Parameters Grid is now on progres.\n"
          ]
        },
        {
          "name": "stderr",
          "output_type": "stream",
          "text": [
            "Epoch  0: 100%|██████████| 2607/2607 [00:10<00:00, 238.88it/s, Train Loss=5.7189, Valid Loss=0.4661, Valid R2=-0.0518, Valid MAE=0.5630]\n",
            "Epoch  1: 100%|██████████| 2607/2607 [00:11<00:00, 231.53it/s, Train Loss=1.7476, Valid Loss=0.3832, Valid R2=0.1354, Valid MAE=0.4282]\n",
            "Epoch  2: 100%|██████████| 2607/2607 [00:10<00:00, 239.61it/s, Train Loss=0.9134, Valid Loss=0.2585, Valid R2=0.4167, Valid MAE=0.4236]\n",
            "Epoch  3: 100%|██████████| 2607/2607 [00:10<00:00, 246.91it/s, Train Loss=0.7325, Valid Loss=0.2072, Valid R2=0.5325, Valid MAE=0.3765]\n",
            "Epoch  4: 100%|██████████| 2607/2607 [00:11<00:00, 235.44it/s, Train Loss=0.6714, Valid Loss=0.1974, Valid R2=0.5545, Valid MAE=0.3532]\n",
            "Epoch  5: 100%|██████████| 2607/2607 [00:11<00:00, 234.58it/s, Train Loss=0.6360, Valid Loss=0.2236, Valid R2=0.4954, Valid MAE=0.3596]\n",
            "Epoch  6: 100%|██████████| 2607/2607 [00:11<00:00, 234.91it/s, Train Loss=0.6047, Valid Loss=0.1780, Valid R2=0.5984, Valid MAE=0.3271]\n",
            "Epoch  7: 100%|██████████| 2607/2607 [00:11<00:00, 234.08it/s, Train Loss=0.5877, Valid Loss=0.1725, Valid R2=0.6107, Valid MAE=0.3211]\n",
            "Epoch  8: 100%|██████████| 2607/2607 [00:11<00:00, 234.58it/s, Train Loss=0.5708, Valid Loss=0.2065, Valid R2=0.5342, Valid MAE=0.3376]\n",
            "Epoch  9: 100%|██████████| 2607/2607 [00:11<00:00, 236.42it/s, Train Loss=0.5588, Valid Loss=0.2721, Valid R2=0.3859, Valid MAE=0.3813]\n",
            "Epoch 10: 100%|██████████| 2607/2607 [00:10<00:00, 241.13it/s, Train Loss=0.5471, Valid Loss=0.2061, Valid R2=0.5350, Valid MAE=0.3315]\n",
            "Epoch 11: 100%|██████████| 2607/2607 [00:11<00:00, 232.09it/s, Train Loss=0.5340, Valid Loss=0.3660, Valid R2=0.1741, Valid MAE=0.4332]\n"
          ]
        },
        {
          "name": "stdout",
          "output_type": "stream",
          "text": [
            "Early Stopped\n",
            "Setting  61 of Parameters Grid is now on progres.\n"
          ]
        },
        {
          "name": "stderr",
          "output_type": "stream",
          "text": [
            "Epoch  0: 100%|██████████| 2607/2607 [00:10<00:00, 243.77it/s, Train Loss=5.6637, Valid Loss=0.1854, Valid R2=0.5816, Valid MAE=0.3456]\n",
            "Epoch  1: 100%|██████████| 2607/2607 [00:11<00:00, 235.83it/s, Train Loss=1.9577, Valid Loss=0.1677, Valid R2=0.6215, Valid MAE=0.2915]\n",
            "Epoch  2: 100%|██████████| 2607/2607 [00:11<00:00, 233.87it/s, Train Loss=0.9941, Valid Loss=0.2235, Valid R2=0.4958, Valid MAE=0.3586]\n",
            "Epoch  3: 100%|██████████| 2607/2607 [00:11<00:00, 233.57it/s, Train Loss=0.7507, Valid Loss=0.2288, Valid R2=0.4838, Valid MAE=0.3974]\n",
            "Epoch  4: 100%|██████████| 2607/2607 [00:10<00:00, 238.61it/s, Train Loss=0.6805, Valid Loss=0.2082, Valid R2=0.5301, Valid MAE=0.3567]\n",
            "Epoch  5: 100%|██████████| 2607/2607 [00:11<00:00, 227.65it/s, Train Loss=0.6450, Valid Loss=0.1901, Valid R2=0.5711, Valid MAE=0.3584]\n"
          ]
        },
        {
          "name": "stdout",
          "output_type": "stream",
          "text": [
            "Early Stopped\n",
            "Setting  62 of Parameters Grid is now on progres.\n"
          ]
        },
        {
          "name": "stderr",
          "output_type": "stream",
          "text": [
            "Epoch  0: 100%|██████████| 2607/2607 [00:10<00:00, 251.10it/s, Train Loss=6.0868, Valid Loss=0.3274, Valid R2=0.2612, Valid MAE=0.4746]\n",
            "Epoch  1: 100%|██████████| 2607/2607 [00:11<00:00, 234.25it/s, Train Loss=2.4435, Valid Loss=0.3411, Valid R2=0.2304, Valid MAE=0.4692]\n",
            "Epoch  2: 100%|██████████| 2607/2607 [00:11<00:00, 230.12it/s, Train Loss=1.2642, Valid Loss=0.4945, Valid R2=-0.1158, Valid MAE=0.5571]\n",
            "Epoch  3: 100%|██████████| 2607/2607 [00:11<00:00, 231.44it/s, Train Loss=0.8599, Valid Loss=0.4304, Valid R2=0.0288, Valid MAE=0.5209]\n",
            "Epoch  4: 100%|██████████| 2607/2607 [00:11<00:00, 237.00it/s, Train Loss=0.7238, Valid Loss=0.4152, Valid R2=0.0631, Valid MAE=0.5103]\n"
          ]
        },
        {
          "name": "stdout",
          "output_type": "stream",
          "text": [
            "Early Stopped\n",
            "Setting  63 of Parameters Grid is now on progres.\n"
          ]
        },
        {
          "name": "stderr",
          "output_type": "stream",
          "text": [
            "Epoch  0: 100%|██████████| 2607/2607 [00:11<00:00, 236.51it/s, Train Loss=5.6221, Valid Loss=0.5864, Valid R2=-0.3231, Valid MAE=0.6343]\n",
            "Epoch  1: 100%|██████████| 2607/2607 [00:10<00:00, 257.18it/s, Train Loss=1.9874, Valid Loss=0.5346, Valid R2=-0.2062, Valid MAE=0.5638]\n",
            "Epoch  2: 100%|██████████| 2607/2607 [00:11<00:00, 236.32it/s, Train Loss=1.0068, Valid Loss=0.2975, Valid R2=0.3288, Valid MAE=0.4183]\n",
            "Epoch  3: 100%|██████████| 2607/2607 [00:11<00:00, 232.95it/s, Train Loss=0.7550, Valid Loss=0.3319, Valid R2=0.2511, Valid MAE=0.4569]\n",
            "Epoch  4: 100%|██████████| 2607/2607 [00:10<00:00, 240.02it/s, Train Loss=0.6686, Valid Loss=0.3695, Valid R2=0.1662, Valid MAE=0.4718]\n",
            "Epoch  5: 100%|██████████| 2607/2607 [00:11<00:00, 236.36it/s, Train Loss=0.6291, Valid Loss=0.2872, Valid R2=0.3520, Valid MAE=0.4280]\n",
            "Epoch  6: 100%|██████████| 2607/2607 [00:10<00:00, 238.60it/s, Train Loss=0.6060, Valid Loss=0.2712, Valid R2=0.3880, Valid MAE=0.4014]\n",
            "Epoch  7: 100%|██████████| 2607/2607 [00:10<00:00, 242.45it/s, Train Loss=0.5838, Valid Loss=0.5173, Valid R2=-0.1672, Valid MAE=0.5512]\n",
            "Epoch  8: 100%|██████████| 2607/2607 [00:11<00:00, 235.85it/s, Train Loss=0.5618, Valid Loss=0.4745, Valid R2=-0.0706, Valid MAE=0.5151]\n",
            "Epoch  9: 100%|██████████| 2607/2607 [00:10<00:00, 237.41it/s, Train Loss=0.5409, Valid Loss=0.6072, Valid R2=-0.3701, Valid MAE=0.5429]\n",
            "Epoch 10: 100%|██████████| 2607/2607 [00:11<00:00, 234.20it/s, Train Loss=0.5195, Valid Loss=0.4592, Valid R2=-0.0361, Valid MAE=0.5177]\n"
          ]
        },
        {
          "name": "stdout",
          "output_type": "stream",
          "text": [
            "Early Stopped\n",
            "Setting  64 of Parameters Grid is now on progres.\n"
          ]
        },
        {
          "name": "stderr",
          "output_type": "stream",
          "text": [
            "Epoch  0: 100%|██████████| 2607/2607 [00:11<00:00, 232.70it/s, Train Loss=5.3049, Valid Loss=0.2302, Valid R2=0.4806, Valid MAE=0.4021]\n",
            "Epoch  1: 100%|██████████| 2607/2607 [00:11<00:00, 232.55it/s, Train Loss=1.7213, Valid Loss=0.2973, Valid R2=0.3293, Valid MAE=0.4209]\n",
            "Epoch  2: 100%|██████████| 2607/2607 [00:11<00:00, 234.23it/s, Train Loss=0.9214, Valid Loss=0.2301, Valid R2=0.4809, Valid MAE=0.3603]\n",
            "Epoch  3: 100%|██████████| 2607/2607 [00:11<00:00, 234.40it/s, Train Loss=0.7227, Valid Loss=0.1648, Valid R2=0.6282, Valid MAE=0.3053]\n",
            "Epoch  4: 100%|██████████| 2607/2607 [00:11<00:00, 232.38it/s, Train Loss=0.6562, Valid Loss=0.2017, Valid R2=0.5449, Valid MAE=0.3617]\n",
            "Epoch  5: 100%|██████████| 2607/2607 [00:10<00:00, 237.77it/s, Train Loss=0.6154, Valid Loss=0.1599, Valid R2=0.6391, Valid MAE=0.3194]\n",
            "Epoch  6: 100%|██████████| 2607/2607 [00:11<00:00, 232.27it/s, Train Loss=0.5899, Valid Loss=0.1875, Valid R2=0.5768, Valid MAE=0.3260]\n",
            "Epoch  7: 100%|██████████| 2607/2607 [00:10<00:00, 237.69it/s, Train Loss=0.5723, Valid Loss=0.1777, Valid R2=0.5990, Valid MAE=0.3246]\n",
            "Epoch  8: 100%|██████████| 2607/2607 [00:11<00:00, 230.75it/s, Train Loss=0.5572, Valid Loss=0.3011, Valid R2=0.3206, Valid MAE=0.4055]\n",
            "Epoch  9: 100%|██████████| 2607/2607 [00:11<00:00, 232.21it/s, Train Loss=0.5450, Valid Loss=0.1627, Valid R2=0.6329, Valid MAE=0.3183]\n"
          ]
        },
        {
          "name": "stdout",
          "output_type": "stream",
          "text": [
            "Early Stopped\n",
            "Setting  65 of Parameters Grid is now on progres.\n"
          ]
        },
        {
          "name": "stderr",
          "output_type": "stream",
          "text": [
            "Epoch  0: 100%|██████████| 2607/2607 [00:10<00:00, 244.38it/s, Train Loss=7.9658, Valid Loss=0.8884, Valid R2=-1.0045, Valid MAE=0.8186]\n",
            "Epoch  1: 100%|██████████| 2607/2607 [00:09<00:00, 280.30it/s, Train Loss=5.5150, Valid Loss=1.8966, Valid R2=-3.2795, Valid MAE=1.2459]\n",
            "Epoch  2: 100%|██████████| 2607/2607 [00:09<00:00, 272.82it/s, Train Loss=3.3417, Valid Loss=0.2873, Valid R2=0.3517, Valid MAE=0.4065]\n",
            "Epoch  3: 100%|██████████| 2607/2607 [00:10<00:00, 245.35it/s, Train Loss=1.6546, Valid Loss=0.5262, Valid R2=-0.1873, Valid MAE=0.5940]\n",
            "Epoch  4: 100%|██████████| 2607/2607 [00:10<00:00, 256.25it/s, Train Loss=1.0742, Valid Loss=0.7059, Valid R2=-0.5929, Valid MAE=0.7034]\n",
            "Epoch  5: 100%|██████████| 2607/2607 [00:10<00:00, 241.49it/s, Train Loss=0.8315, Valid Loss=0.5170, Valid R2=-0.1666, Valid MAE=0.6044]\n",
            "Epoch  6: 100%|██████████| 2607/2607 [00:10<00:00, 241.42it/s, Train Loss=0.7223, Valid Loss=0.6392, Valid R2=-0.4423, Valid MAE=0.6744]\n"
          ]
        },
        {
          "name": "stdout",
          "output_type": "stream",
          "text": [
            "Early Stopped\n",
            "Setting  66 of Parameters Grid is now on progres.\n"
          ]
        },
        {
          "name": "stderr",
          "output_type": "stream",
          "text": [
            "Epoch  0: 100%|██████████| 2607/2607 [00:11<00:00, 233.29it/s, Train Loss=7.5505, Valid Loss=0.8681, Valid R2=-0.9589, Valid MAE=0.8155]\n",
            "Epoch  1: 100%|██████████| 2607/2607 [00:11<00:00, 232.98it/s, Train Loss=3.8781, Valid Loss=0.5410, Valid R2=-0.2208, Valid MAE=0.5783]\n",
            "Epoch  2: 100%|██████████| 2607/2607 [00:11<00:00, 236.50it/s, Train Loss=1.8636, Valid Loss=0.2913, Valid R2=0.3427, Valid MAE=0.4015]\n",
            "Epoch  3: 100%|██████████| 2607/2607 [00:11<00:00, 235.04it/s, Train Loss=1.1185, Valid Loss=0.3806, Valid R2=0.1412, Valid MAE=0.4533]\n",
            "Epoch  4: 100%|██████████| 2607/2607 [00:11<00:00, 232.29it/s, Train Loss=0.8212, Valid Loss=0.4060, Valid R2=0.0839, Valid MAE=0.5108]\n",
            "Epoch  5: 100%|██████████| 2607/2607 [00:10<00:00, 237.82it/s, Train Loss=0.7097, Valid Loss=0.3243, Valid R2=0.2683, Valid MAE=0.4667]\n",
            "Epoch  6: 100%|██████████| 2607/2607 [00:10<00:00, 242.80it/s, Train Loss=0.6582, Valid Loss=0.4348, Valid R2=0.0190, Valid MAE=0.5159]\n"
          ]
        },
        {
          "name": "stdout",
          "output_type": "stream",
          "text": [
            "Early Stopped\n",
            "Setting  67 of Parameters Grid is now on progres.\n"
          ]
        },
        {
          "name": "stderr",
          "output_type": "stream",
          "text": [
            "Epoch  0: 100%|██████████| 2607/2607 [00:11<00:00, 234.35it/s, Train Loss=6.4195, Valid Loss=0.2978, Valid R2=0.3280, Valid MAE=0.4662]\n",
            "Epoch  1: 100%|██████████| 2607/2607 [00:11<00:00, 235.08it/s, Train Loss=2.2047, Valid Loss=0.6927, Valid R2=-0.5629, Valid MAE=0.7468]\n",
            "Epoch  2: 100%|██████████| 2607/2607 [00:11<00:00, 236.65it/s, Train Loss=1.4241, Valid Loss=0.4198, Valid R2=0.0528, Valid MAE=0.5209]\n",
            "Epoch  3: 100%|██████████| 2607/2607 [00:11<00:00, 235.89it/s, Train Loss=1.0055, Valid Loss=0.3173, Valid R2=0.2840, Valid MAE=0.4293]\n",
            "Epoch  4: 100%|██████████| 2607/2607 [00:11<00:00, 235.72it/s, Train Loss=0.8101, Valid Loss=0.2638, Valid R2=0.4047, Valid MAE=0.3725]\n",
            "Epoch  5: 100%|██████████| 2607/2607 [00:11<00:00, 234.24it/s, Train Loss=0.7199, Valid Loss=0.2761, Valid R2=0.3770, Valid MAE=0.3948]\n",
            "Epoch  6: 100%|██████████| 2607/2607 [00:11<00:00, 234.93it/s, Train Loss=0.6725, Valid Loss=0.3881, Valid R2=0.1242, Valid MAE=0.4908]\n",
            "Epoch  7: 100%|██████████| 2607/2607 [00:11<00:00, 235.69it/s, Train Loss=0.6407, Valid Loss=0.3143, Valid R2=0.2909, Valid MAE=0.4509]\n",
            "Epoch  8: 100%|██████████| 2607/2607 [00:10<00:00, 238.36it/s, Train Loss=0.6186, Valid Loss=0.2507, Valid R2=0.4343, Valid MAE=0.4001]\n",
            "Epoch  9: 100%|██████████| 2607/2607 [00:10<00:00, 239.40it/s, Train Loss=0.5951, Valid Loss=0.1309, Valid R2=0.7047, Valid MAE=0.2815]\n",
            "Epoch 10: 100%|██████████| 2607/2607 [00:10<00:00, 240.99it/s, Train Loss=0.5804, Valid Loss=0.1703, Valid R2=0.6157, Valid MAE=0.3137]\n",
            "Epoch 11: 100%|██████████| 2607/2607 [00:10<00:00, 239.54it/s, Train Loss=0.5660, Valid Loss=0.1456, Valid R2=0.6715, Valid MAE=0.2882]\n",
            "Epoch 12: 100%|██████████| 2607/2607 [00:11<00:00, 232.67it/s, Train Loss=0.5541, Valid Loss=0.1234, Valid R2=0.7216, Valid MAE=0.2812]\n",
            "Epoch 13: 100%|██████████| 2607/2607 [00:10<00:00, 245.47it/s, Train Loss=0.5437, Valid Loss=0.2536, Valid R2=0.4278, Valid MAE=0.4061]\n",
            "Epoch 14: 100%|██████████| 2607/2607 [00:10<00:00, 238.46it/s, Train Loss=0.5302, Valid Loss=0.1689, Valid R2=0.6189, Valid MAE=0.3265]\n",
            "Epoch 15: 100%|██████████| 2607/2607 [00:10<00:00, 250.70it/s, Train Loss=0.5191, Valid Loss=0.1433, Valid R2=0.6767, Valid MAE=0.3006]\n",
            "Epoch 16: 100%|██████████| 2607/2607 [00:11<00:00, 234.93it/s, Train Loss=0.5120, Valid Loss=0.1287, Valid R2=0.7095, Valid MAE=0.2875]\n"
          ]
        },
        {
          "name": "stdout",
          "output_type": "stream",
          "text": [
            "Early Stopped\n",
            "Setting  68 of Parameters Grid is now on progres.\n"
          ]
        },
        {
          "name": "stderr",
          "output_type": "stream",
          "text": [
            "Epoch  0: 100%|██████████| 2607/2607 [00:11<00:00, 234.33it/s, Train Loss=6.1990, Valid Loss=0.2074, Valid R2=0.5321, Valid MAE=0.3748]\n",
            "Epoch  1: 100%|██████████| 2607/2607 [00:10<00:00, 245.87it/s, Train Loss=2.2677, Valid Loss=0.3783, Valid R2=0.1464, Valid MAE=0.4872]\n",
            "Epoch  2: 100%|██████████| 2607/2607 [00:10<00:00, 248.17it/s, Train Loss=1.1113, Valid Loss=0.2888, Valid R2=0.3484, Valid MAE=0.4012]\n",
            "Epoch  3: 100%|██████████| 2607/2607 [00:10<00:00, 239.26it/s, Train Loss=0.7837, Valid Loss=0.2156, Valid R2=0.5136, Valid MAE=0.3589]\n",
            "Epoch  4: 100%|██████████| 2607/2607 [00:10<00:00, 252.19it/s, Train Loss=0.6839, Valid Loss=0.2085, Valid R2=0.5295, Valid MAE=0.3611]\n"
          ]
        },
        {
          "name": "stdout",
          "output_type": "stream",
          "text": [
            "Early Stopped\n",
            "Setting  69 of Parameters Grid is now on progres.\n"
          ]
        },
        {
          "name": "stderr",
          "output_type": "stream",
          "text": [
            "Epoch  0: 100%|██████████| 2607/2607 [00:11<00:00, 234.40it/s, Train Loss=5.6131, Valid Loss=0.2931, Valid R2=0.3386, Valid MAE=0.4430]\n",
            "Epoch  1: 100%|██████████| 2607/2607 [00:10<00:00, 237.81it/s, Train Loss=2.0219, Valid Loss=0.3353, Valid R2=0.2435, Valid MAE=0.4406]\n",
            "Epoch  2: 100%|██████████| 2607/2607 [00:10<00:00, 250.84it/s, Train Loss=1.0501, Valid Loss=0.5261, Valid R2=-0.1871, Valid MAE=0.5844]\n",
            "Epoch  3: 100%|██████████| 2607/2607 [00:11<00:00, 235.81it/s, Train Loss=0.7595, Valid Loss=0.4076, Valid R2=0.0803, Valid MAE=0.5045]\n",
            "Epoch  4: 100%|██████████| 2607/2607 [00:11<00:00, 235.29it/s, Train Loss=0.6685, Valid Loss=0.2486, Valid R2=0.4390, Valid MAE=0.3849]\n",
            "Epoch  5: 100%|██████████| 2607/2607 [00:09<00:00, 266.90it/s, Train Loss=0.6281, Valid Loss=0.3200, Valid R2=0.2779, Valid MAE=0.4452]\n",
            "Epoch  6: 100%|██████████| 2607/2607 [00:10<00:00, 237.31it/s, Train Loss=0.5988, Valid Loss=0.2488, Valid R2=0.4385, Valid MAE=0.3927]\n",
            "Epoch  7: 100%|██████████| 2607/2607 [00:11<00:00, 234.97it/s, Train Loss=0.5755, Valid Loss=0.2912, Valid R2=0.3428, Valid MAE=0.4298]\n",
            "Epoch  8: 100%|██████████| 2607/2607 [00:11<00:00, 232.36it/s, Train Loss=0.5570, Valid Loss=0.1822, Valid R2=0.5888, Valid MAE=0.3328]\n",
            "Epoch  9: 100%|██████████| 2607/2607 [00:11<00:00, 234.64it/s, Train Loss=0.5463, Valid Loss=0.2679, Valid R2=0.3956, Valid MAE=0.4070]\n",
            "Epoch 10: 100%|██████████| 2607/2607 [00:10<00:00, 249.94it/s, Train Loss=0.5218, Valid Loss=0.2504, Valid R2=0.4351, Valid MAE=0.3796]\n",
            "Epoch 11: 100%|██████████| 2607/2607 [00:10<00:00, 238.29it/s, Train Loss=0.5049, Valid Loss=0.2497, Valid R2=0.4366, Valid MAE=0.3806]\n",
            "Epoch 12: 100%|██████████| 2607/2607 [00:11<00:00, 233.10it/s, Train Loss=0.4918, Valid Loss=0.3364, Valid R2=0.2410, Valid MAE=0.4264]\n"
          ]
        },
        {
          "name": "stdout",
          "output_type": "stream",
          "text": [
            "Early Stopped\n",
            "Setting  70 of Parameters Grid is now on progres.\n"
          ]
        },
        {
          "name": "stderr",
          "output_type": "stream",
          "text": [
            "Epoch  0: 100%|██████████| 2607/2607 [00:10<00:00, 250.72it/s, Train Loss=5.6338, Valid Loss=0.6693, Valid R2=-0.5102, Valid MAE=0.6588]\n",
            "Epoch  1: 100%|██████████| 2607/2607 [00:11<00:00, 233.40it/s, Train Loss=1.7447, Valid Loss=0.8510, Valid R2=-0.9202, Valid MAE=0.7239]\n",
            "Epoch  2: 100%|██████████| 2607/2607 [00:11<00:00, 236.00it/s, Train Loss=0.9659, Valid Loss=0.9271, Valid R2=-1.0919, Valid MAE=0.7224]\n",
            "Epoch  3: 100%|██████████| 2607/2607 [00:11<00:00, 235.96it/s, Train Loss=0.7371, Valid Loss=1.0869, Valid R2=-1.4524, Valid MAE=0.7804]\n",
            "Epoch  4: 100%|██████████| 2607/2607 [00:10<00:00, 255.30it/s, Train Loss=0.6591, Valid Loss=0.3272, Valid R2=0.2618, Valid MAE=0.4390]\n",
            "Epoch  5: 100%|██████████| 2607/2607 [00:10<00:00, 237.21it/s, Train Loss=0.6175, Valid Loss=0.3415, Valid R2=0.2294, Valid MAE=0.4497]\n",
            "Epoch  6: 100%|██████████| 2607/2607 [00:11<00:00, 233.92it/s, Train Loss=0.5800, Valid Loss=0.4335, Valid R2=0.0218, Valid MAE=0.4967]\n",
            "Epoch  7: 100%|██████████| 2607/2607 [00:11<00:00, 231.81it/s, Train Loss=0.5609, Valid Loss=0.1933, Valid R2=0.5638, Valid MAE=0.3278]\n",
            "Epoch  8: 100%|██████████| 2607/2607 [00:11<00:00, 233.46it/s, Train Loss=0.5299, Valid Loss=0.3605, Valid R2=0.1866, Valid MAE=0.4747]\n",
            "Epoch  9: 100%|██████████| 2607/2607 [00:11<00:00, 234.56it/s, Train Loss=0.5136, Valid Loss=0.2342, Valid R2=0.4715, Valid MAE=0.3777]\n",
            "Epoch 10: 100%|██████████| 2607/2607 [00:11<00:00, 235.09it/s, Train Loss=0.4953, Valid Loss=0.2868, Valid R2=0.3528, Valid MAE=0.4056]\n",
            "Epoch 11: 100%|██████████| 2607/2607 [00:11<00:00, 236.99it/s, Train Loss=0.4757, Valid Loss=0.2958, Valid R2=0.3326, Valid MAE=0.4146]\n"
          ]
        },
        {
          "name": "stdout",
          "output_type": "stream",
          "text": [
            "Early Stopped\n",
            "Setting  71 of Parameters Grid is now on progres.\n"
          ]
        },
        {
          "name": "stderr",
          "output_type": "stream",
          "text": [
            "Epoch  0: 100%|██████████| 2607/2607 [00:10<00:00, 237.74it/s, Train Loss=4.9824, Valid Loss=0.1926, Valid R2=0.5654, Valid MAE=0.3543]\n",
            "Epoch  1: 100%|██████████| 2607/2607 [00:11<00:00, 234.15it/s, Train Loss=1.6775, Valid Loss=0.2852, Valid R2=0.3564, Valid MAE=0.3575]\n",
            "Epoch  2: 100%|██████████| 2607/2607 [00:10<00:00, 246.03it/s, Train Loss=0.9264, Valid Loss=0.2572, Valid R2=0.4197, Valid MAE=0.3483]\n",
            "Epoch  3: 100%|██████████| 2607/2607 [00:10<00:00, 248.28it/s, Train Loss=0.7268, Valid Loss=0.2615, Valid R2=0.4099, Valid MAE=0.3893]\n",
            "Epoch  4: 100%|██████████| 2607/2607 [00:10<00:00, 244.82it/s, Train Loss=0.6664, Valid Loss=0.3343, Valid R2=0.2457, Valid MAE=0.4289]\n"
          ]
        },
        {
          "name": "stdout",
          "output_type": "stream",
          "text": [
            "Early Stopped\n",
            "Setting  72 of Parameters Grid is now on progres.\n"
          ]
        },
        {
          "name": "stderr",
          "output_type": "stream",
          "text": [
            "Epoch  0: 100%|██████████| 2607/2607 [00:10<00:00, 243.53it/s, Train Loss=4.7764, Valid Loss=0.7449, Valid R2=-0.6808, Valid MAE=0.7207]\n",
            "Epoch  1: 100%|██████████| 2607/2607 [00:10<00:00, 243.47it/s, Train Loss=1.8107, Valid Loss=0.5498, Valid R2=-0.2405, Valid MAE=0.5750]\n",
            "Epoch  2: 100%|██████████| 2607/2607 [00:10<00:00, 240.56it/s, Train Loss=1.0197, Valid Loss=0.5820, Valid R2=-0.3131, Valid MAE=0.5999]\n",
            "Epoch  3: 100%|██████████| 2607/2607 [00:10<00:00, 237.70it/s, Train Loss=0.7666, Valid Loss=0.3983, Valid R2=0.1014, Valid MAE=0.4959]\n",
            "Epoch  4: 100%|██████████| 2607/2607 [00:10<00:00, 240.71it/s, Train Loss=0.6829, Valid Loss=0.3567, Valid R2=0.1952, Valid MAE=0.4734]\n",
            "Epoch  5: 100%|██████████| 2607/2607 [00:10<00:00, 241.78it/s, Train Loss=0.6411, Valid Loss=0.3901, Valid R2=0.1197, Valid MAE=0.5045]\n",
            "Epoch  6: 100%|██████████| 2607/2607 [00:10<00:00, 238.78it/s, Train Loss=0.6226, Valid Loss=0.3660, Valid R2=0.1742, Valid MAE=0.4986]\n",
            "Epoch  7: 100%|██████████| 2607/2607 [00:10<00:00, 240.10it/s, Train Loss=0.6018, Valid Loss=0.3606, Valid R2=0.1863, Valid MAE=0.5039]\n",
            "Epoch  8: 100%|██████████| 2607/2607 [00:10<00:00, 240.15it/s, Train Loss=0.5889, Valid Loss=0.3517, Valid R2=0.2064, Valid MAE=0.4947]\n",
            "Epoch  9: 100%|██████████| 2607/2607 [00:10<00:00, 239.91it/s, Train Loss=0.5764, Valid Loss=0.3338, Valid R2=0.2469, Valid MAE=0.4779]\n",
            "Epoch 10: 100%|██████████| 2607/2607 [00:10<00:00, 241.77it/s, Train Loss=0.5684, Valid Loss=0.2743, Valid R2=0.3810, Valid MAE=0.4311]\n",
            "Epoch 11: 100%|██████████| 2607/2607 [00:10<00:00, 240.84it/s, Train Loss=0.5595, Valid Loss=0.3583, Valid R2=0.1916, Valid MAE=0.5083]\n",
            "Epoch 12: 100%|██████████| 2607/2607 [00:10<00:00, 243.19it/s, Train Loss=0.5518, Valid Loss=0.4538, Valid R2=-0.0238, Valid MAE=0.5701]\n",
            "Epoch 13: 100%|██████████| 2607/2607 [00:10<00:00, 242.93it/s, Train Loss=0.5400, Valid Loss=0.4172, Valid R2=0.0587, Valid MAE=0.5407]\n",
            "Epoch 14: 100%|██████████| 2607/2607 [00:10<00:00, 240.84it/s, Train Loss=0.5347, Valid Loss=0.3133, Valid R2=0.2930, Valid MAE=0.4714]\n"
          ]
        },
        {
          "name": "stdout",
          "output_type": "stream",
          "text": [
            "Early Stopped\n",
            "Setting  73 of Parameters Grid is now on progres.\n"
          ]
        },
        {
          "name": "stderr",
          "output_type": "stream",
          "text": [
            "Epoch  0: 100%|██████████| 2607/2607 [00:10<00:00, 240.47it/s, Train Loss=5.5292, Valid Loss=0.1901, Valid R2=0.5711, Valid MAE=0.3447]\n",
            "Epoch  1: 100%|██████████| 2607/2607 [00:10<00:00, 243.31it/s, Train Loss=2.0206, Valid Loss=0.4129, Valid R2=0.0684, Valid MAE=0.4723]\n",
            "Epoch  2: 100%|██████████| 2607/2607 [00:10<00:00, 243.63it/s, Train Loss=1.0734, Valid Loss=0.4110, Valid R2=0.0727, Valid MAE=0.4789]\n",
            "Epoch  3: 100%|██████████| 2607/2607 [00:10<00:00, 242.19it/s, Train Loss=0.7883, Valid Loss=0.4150, Valid R2=0.0635, Valid MAE=0.5122]\n",
            "Epoch  4: 100%|██████████| 2607/2607 [00:10<00:00, 242.54it/s, Train Loss=0.6961, Valid Loss=0.2402, Valid R2=0.4580, Valid MAE=0.3898]\n"
          ]
        },
        {
          "name": "stdout",
          "output_type": "stream",
          "text": [
            "Early Stopped\n",
            "Setting  74 of Parameters Grid is now on progres.\n"
          ]
        },
        {
          "name": "stderr",
          "output_type": "stream",
          "text": [
            "Epoch  0: 100%|██████████| 2607/2607 [00:10<00:00, 255.55it/s, Train Loss=5.5417, Valid Loss=0.2613, Valid R2=0.4104, Valid MAE=0.3946]\n",
            "Epoch  1: 100%|██████████| 2607/2607 [00:10<00:00, 244.57it/s, Train Loss=1.8272, Valid Loss=0.3040, Valid R2=0.3141, Valid MAE=0.3957]\n",
            "Epoch  2: 100%|██████████| 2607/2607 [00:10<00:00, 242.85it/s, Train Loss=0.9487, Valid Loss=0.2582, Valid R2=0.4174, Valid MAE=0.3774]\n",
            "Epoch  3: 100%|██████████| 2607/2607 [00:10<00:00, 251.70it/s, Train Loss=0.7295, Valid Loss=0.1783, Valid R2=0.5976, Valid MAE=0.3303]\n",
            "Epoch  4: 100%|██████████| 2607/2607 [00:10<00:00, 239.56it/s, Train Loss=0.6686, Valid Loss=0.3453, Valid R2=0.2208, Valid MAE=0.4442]\n",
            "Epoch  5: 100%|██████████| 2607/2607 [00:10<00:00, 239.17it/s, Train Loss=0.6325, Valid Loss=0.1674, Valid R2=0.6222, Valid MAE=0.3144]\n",
            "Epoch  6: 100%|██████████| 2607/2607 [00:10<00:00, 256.95it/s, Train Loss=0.6040, Valid Loss=0.1622, Valid R2=0.6341, Valid MAE=0.3137]\n",
            "Epoch  7: 100%|██████████| 2607/2607 [00:10<00:00, 249.55it/s, Train Loss=0.5906, Valid Loss=0.1590, Valid R2=0.6412, Valid MAE=0.3095]\n",
            "Epoch  8: 100%|██████████| 2607/2607 [00:10<00:00, 255.74it/s, Train Loss=0.5729, Valid Loss=0.2799, Valid R2=0.3685, Valid MAE=0.4220]\n",
            "Epoch  9: 100%|██████████| 2607/2607 [00:10<00:00, 243.29it/s, Train Loss=0.5627, Valid Loss=0.1749, Valid R2=0.6054, Valid MAE=0.3341]\n",
            "Epoch 10: 100%|██████████| 2607/2607 [00:10<00:00, 242.67it/s, Train Loss=0.5503, Valid Loss=0.1406, Valid R2=0.6826, Valid MAE=0.2871]\n",
            "Epoch 11: 100%|██████████| 2607/2607 [00:10<00:00, 240.95it/s, Train Loss=0.5440, Valid Loss=0.1540, Valid R2=0.6525, Valid MAE=0.2986]\n",
            "Epoch 12: 100%|██████████| 2607/2607 [00:10<00:00, 243.37it/s, Train Loss=0.5305, Valid Loss=0.1350, Valid R2=0.6954, Valid MAE=0.2867]\n",
            "Epoch 13: 100%|██████████| 2607/2607 [00:10<00:00, 245.01it/s, Train Loss=0.5230, Valid Loss=0.1288, Valid R2=0.7095, Valid MAE=0.2729]\n",
            "Epoch 14: 100%|██████████| 2607/2607 [00:10<00:00, 241.34it/s, Train Loss=0.5113, Valid Loss=0.1414, Valid R2=0.6810, Valid MAE=0.2884]\n",
            "Epoch 15: 100%|██████████| 2607/2607 [00:10<00:00, 242.68it/s, Train Loss=0.4950, Valid Loss=0.1581, Valid R2=0.6434, Valid MAE=0.3058]\n",
            "Epoch 16: 100%|██████████| 2607/2607 [00:10<00:00, 242.98it/s, Train Loss=0.4937, Valid Loss=0.1507, Valid R2=0.6600, Valid MAE=0.2900]\n",
            "Epoch 17: 100%|██████████| 2607/2607 [00:10<00:00, 243.02it/s, Train Loss=0.4788, Valid Loss=0.2511, Valid R2=0.4333, Valid MAE=0.3581]\n"
          ]
        },
        {
          "name": "stdout",
          "output_type": "stream",
          "text": [
            "Early Stopped\n",
            "Setting  75 of Parameters Grid is now on progres.\n"
          ]
        },
        {
          "name": "stderr",
          "output_type": "stream",
          "text": [
            "Epoch  0: 100%|██████████| 2607/2607 [00:10<00:00, 242.28it/s, Train Loss=6.9363, Valid Loss=1.1762, Valid R2=-1.6539, Valid MAE=0.9588]\n",
            "Epoch  1: 100%|██████████| 2607/2607 [00:10<00:00, 244.00it/s, Train Loss=3.6010, Valid Loss=0.2649, Valid R2=0.4024, Valid MAE=0.4131]\n",
            "Epoch  2: 100%|██████████| 2607/2607 [00:10<00:00, 248.57it/s, Train Loss=1.7468, Valid Loss=0.2598, Valid R2=0.4137, Valid MAE=0.3814]\n",
            "Epoch  3: 100%|██████████| 2607/2607 [00:10<00:00, 240.71it/s, Train Loss=1.0792, Valid Loss=0.2477, Valid R2=0.4411, Valid MAE=0.3878]\n",
            "Epoch  4: 100%|██████████| 2607/2607 [00:11<00:00, 236.88it/s, Train Loss=0.8220, Valid Loss=0.3774, Valid R2=0.1485, Valid MAE=0.4799]\n",
            "Epoch  5: 100%|██████████| 2607/2607 [00:10<00:00, 243.06it/s, Train Loss=0.7294, Valid Loss=0.2818, Valid R2=0.3641, Valid MAE=0.4211]\n",
            "Epoch  6: 100%|██████████| 2607/2607 [00:10<00:00, 240.44it/s, Train Loss=0.6834, Valid Loss=0.3368, Valid R2=0.2401, Valid MAE=0.4718]\n",
            "Epoch  7: 100%|██████████| 2607/2607 [00:09<00:00, 266.22it/s, Train Loss=0.6521, Valid Loss=0.3657, Valid R2=0.1749, Valid MAE=0.4793]\n"
          ]
        },
        {
          "name": "stdout",
          "output_type": "stream",
          "text": [
            "Early Stopped\n",
            "Setting  76 of Parameters Grid is now on progres.\n"
          ]
        },
        {
          "name": "stderr",
          "output_type": "stream",
          "text": [
            "Epoch  0: 100%|██████████| 2607/2607 [00:10<00:00, 239.28it/s, Train Loss=5.1486, Valid Loss=0.3336, Valid R2=0.2472, Valid MAE=0.4612]\n",
            "Epoch  1: 100%|██████████| 2607/2607 [00:10<00:00, 241.34it/s, Train Loss=1.9899, Valid Loss=0.4437, Valid R2=-0.0012, Valid MAE=0.5309]\n",
            "Epoch  2: 100%|██████████| 2607/2607 [00:10<00:00, 241.58it/s, Train Loss=1.0508, Valid Loss=0.2237, Valid R2=0.4953, Valid MAE=0.3718]\n",
            "Epoch  3: 100%|██████████| 2607/2607 [00:10<00:00, 240.36it/s, Train Loss=0.7754, Valid Loss=0.2639, Valid R2=0.4045, Valid MAE=0.3849]\n",
            "Epoch  4: 100%|██████████| 2607/2607 [00:10<00:00, 245.80it/s, Train Loss=0.6853, Valid Loss=0.1846, Valid R2=0.5836, Valid MAE=0.3328]\n",
            "Epoch  5: 100%|██████████| 2607/2607 [00:10<00:00, 256.77it/s, Train Loss=0.6439, Valid Loss=0.1589, Valid R2=0.6414, Valid MAE=0.3167]\n",
            "Epoch  6: 100%|██████████| 2607/2607 [00:09<00:00, 269.63it/s, Train Loss=0.6138, Valid Loss=0.1921, Valid R2=0.5666, Valid MAE=0.3353]\n",
            "Epoch  7: 100%|██████████| 2607/2607 [00:10<00:00, 250.56it/s, Train Loss=0.5951, Valid Loss=0.1962, Valid R2=0.5572, Valid MAE=0.3502]\n",
            "Epoch  8: 100%|██████████| 2607/2607 [00:10<00:00, 250.38it/s, Train Loss=0.5777, Valid Loss=0.2660, Valid R2=0.3998, Valid MAE=0.3881]\n",
            "Epoch  9: 100%|██████████| 2607/2607 [00:10<00:00, 254.86it/s, Train Loss=0.5610, Valid Loss=0.1910, Valid R2=0.5690, Valid MAE=0.3530]\n"
          ]
        },
        {
          "name": "stdout",
          "output_type": "stream",
          "text": [
            "Early Stopped\n",
            "Setting  77 of Parameters Grid is now on progres.\n"
          ]
        },
        {
          "name": "stderr",
          "output_type": "stream",
          "text": [
            "Epoch  0: 100%|██████████| 2607/2607 [00:10<00:00, 246.32it/s, Train Loss=5.8487, Valid Loss=0.2266, Valid R2=0.4887, Valid MAE=0.3802]\n",
            "Epoch  1: 100%|██████████| 2607/2607 [00:10<00:00, 241.69it/s, Train Loss=2.0535, Valid Loss=0.2833, Valid R2=0.3608, Valid MAE=0.3973]\n",
            "Epoch  2: 100%|██████████| 2607/2607 [00:10<00:00, 240.44it/s, Train Loss=1.0453, Valid Loss=0.6023, Valid R2=-0.3589, Valid MAE=0.5922]\n",
            "Epoch  3: 100%|██████████| 2607/2607 [00:10<00:00, 240.93it/s, Train Loss=0.7786, Valid Loss=0.2616, Valid R2=0.4097, Valid MAE=0.3968]\n",
            "Epoch  4: 100%|██████████| 2607/2607 [00:10<00:00, 245.89it/s, Train Loss=0.7045, Valid Loss=0.4061, Valid R2=0.0837, Valid MAE=0.4858]\n"
          ]
        },
        {
          "name": "stdout",
          "output_type": "stream",
          "text": [
            "Early Stopped\n",
            "Setting  78 of Parameters Grid is now on progres.\n"
          ]
        },
        {
          "name": "stderr",
          "output_type": "stream",
          "text": [
            "Epoch  0: 100%|██████████| 2607/2607 [00:10<00:00, 243.91it/s, Train Loss=5.7114, Valid Loss=0.1435, Valid R2=0.6762, Valid MAE=0.3021]\n",
            "Epoch  1: 100%|██████████| 2607/2607 [00:10<00:00, 240.39it/s, Train Loss=1.9757, Valid Loss=0.2311, Valid R2=0.4785, Valid MAE=0.3834]\n",
            "Epoch  2: 100%|██████████| 2607/2607 [00:10<00:00, 253.50it/s, Train Loss=0.9991, Valid Loss=0.1949, Valid R2=0.5602, Valid MAE=0.3552]\n",
            "Epoch  3: 100%|██████████| 2607/2607 [00:10<00:00, 254.70it/s, Train Loss=0.7481, Valid Loss=0.1995, Valid R2=0.5498, Valid MAE=0.3595]\n",
            "Epoch  4: 100%|██████████| 2607/2607 [00:10<00:00, 240.97it/s, Train Loss=0.6787, Valid Loss=0.2177, Valid R2=0.5089, Valid MAE=0.3757]\n"
          ]
        },
        {
          "name": "stdout",
          "output_type": "stream",
          "text": [
            "Early Stopped\n",
            "Setting  79 of Parameters Grid is now on progres.\n"
          ]
        },
        {
          "name": "stderr",
          "output_type": "stream",
          "text": [
            "Epoch  0: 100%|██████████| 2607/2607 [00:10<00:00, 241.57it/s, Train Loss=5.8967, Valid Loss=0.3954, Valid R2=0.1077, Valid MAE=0.4897]\n",
            "Epoch  1: 100%|██████████| 2607/2607 [00:10<00:00, 256.19it/s, Train Loss=2.2494, Valid Loss=0.6602, Valid R2=-0.4896, Valid MAE=0.6347]\n",
            "Epoch  2: 100%|██████████| 2607/2607 [00:09<00:00, 269.23it/s, Train Loss=1.1729, Valid Loss=0.4380, Valid R2=0.0117, Valid MAE=0.4719]\n",
            "Epoch  3: 100%|██████████| 2607/2607 [00:10<00:00, 259.94it/s, Train Loss=0.8275, Valid Loss=0.4572, Valid R2=-0.0317, Valid MAE=0.5236]\n",
            "Epoch  4: 100%|██████████| 2607/2607 [00:10<00:00, 242.05it/s, Train Loss=0.7128, Valid Loss=0.2549, Valid R2=0.4248, Valid MAE=0.3833]\n",
            "Epoch  5: 100%|██████████| 2607/2607 [00:09<00:00, 263.87it/s, Train Loss=0.6642, Valid Loss=0.3545, Valid R2=0.2001, Valid MAE=0.4595]\n",
            "Epoch  6: 100%|██████████| 2607/2607 [00:09<00:00, 262.29it/s, Train Loss=0.6270, Valid Loss=0.4816, Valid R2=-0.0868, Valid MAE=0.5374]\n",
            "Epoch  7: 100%|██████████| 2607/2607 [00:10<00:00, 245.06it/s, Train Loss=0.6072, Valid Loss=0.2297, Valid R2=0.4818, Valid MAE=0.3822]\n",
            "Epoch  8: 100%|██████████| 2607/2607 [00:10<00:00, 250.55it/s, Train Loss=0.5852, Valid Loss=0.2915, Valid R2=0.3423, Valid MAE=0.4315]\n",
            "Epoch  9: 100%|██████████| 2607/2607 [00:10<00:00, 251.19it/s, Train Loss=0.5675, Valid Loss=0.2014, Valid R2=0.5455, Valid MAE=0.3638]\n",
            "Epoch 10: 100%|██████████| 2607/2607 [00:10<00:00, 244.52it/s, Train Loss=0.5562, Valid Loss=0.2353, Valid R2=0.4691, Valid MAE=0.3871]\n",
            "Epoch 11: 100%|██████████| 2607/2607 [00:10<00:00, 243.61it/s, Train Loss=0.5438, Valid Loss=0.2551, Valid R2=0.4245, Valid MAE=0.4163]\n",
            "Epoch 12: 100%|██████████| 2607/2607 [00:10<00:00, 246.60it/s, Train Loss=0.5342, Valid Loss=0.3338, Valid R2=0.2467, Valid MAE=0.4657]\n",
            "Epoch 13: 100%|██████████| 2607/2607 [00:10<00:00, 251.97it/s, Train Loss=0.5140, Valid Loss=0.3267, Valid R2=0.2629, Valid MAE=0.4574]\n"
          ]
        },
        {
          "name": "stdout",
          "output_type": "stream",
          "text": [
            "Early Stopped\n",
            "Setting  80 of Parameters Grid is now on progres.\n"
          ]
        },
        {
          "name": "stderr",
          "output_type": "stream",
          "text": [
            "Epoch  0: 100%|██████████| 2607/2607 [00:10<00:00, 259.06it/s, Train Loss=8.0145, Valid Loss=0.5405, Valid R2=-0.2197, Valid MAE=0.5853]\n",
            "Epoch  1: 100%|██████████| 2607/2607 [00:10<00:00, 253.05it/s, Train Loss=2.8280, Valid Loss=0.4776, Valid R2=-0.0777, Valid MAE=0.5866]\n",
            "Epoch  2: 100%|██████████| 2607/2607 [00:10<00:00, 246.01it/s, Train Loss=1.3911, Valid Loss=0.4755, Valid R2=-0.0729, Valid MAE=0.5212]\n",
            "Epoch  3: 100%|██████████| 2607/2607 [00:10<00:00, 243.51it/s, Train Loss=0.8994, Valid Loss=0.3036, Valid R2=0.3149, Valid MAE=0.4261]\n",
            "Epoch  4: 100%|██████████| 2607/2607 [00:10<00:00, 243.79it/s, Train Loss=0.7328, Valid Loss=0.4804, Valid R2=-0.0840, Valid MAE=0.5641]\n",
            "Epoch  5: 100%|██████████| 2607/2607 [00:10<00:00, 239.13it/s, Train Loss=0.6707, Valid Loss=0.3653, Valid R2=0.1758, Valid MAE=0.4761]\n",
            "Epoch  6: 100%|██████████| 2607/2607 [00:10<00:00, 239.76it/s, Train Loss=0.6400, Valid Loss=0.8214, Valid R2=-0.8533, Valid MAE=0.7613]\n",
            "Epoch  7: 100%|██████████| 2607/2607 [00:10<00:00, 243.24it/s, Train Loss=0.6188, Valid Loss=0.3865, Valid R2=0.1280, Valid MAE=0.5056]\n"
          ]
        },
        {
          "name": "stdout",
          "output_type": "stream",
          "text": [
            "Early Stopped\n",
            "Setting  81 of Parameters Grid is now on progres.\n"
          ]
        },
        {
          "name": "stderr",
          "output_type": "stream",
          "text": [
            "Epoch  0: 100%|██████████| 2607/2607 [00:09<00:00, 261.36it/s, Train Loss=5.2358, Valid Loss=0.2507, Valid R2=0.4344, Valid MAE=0.4145]\n",
            "Epoch  1: 100%|██████████| 2607/2607 [00:10<00:00, 244.97it/s, Train Loss=1.7716, Valid Loss=0.2287, Valid R2=0.4840, Valid MAE=0.3684]\n",
            "Epoch  2: 100%|██████████| 2607/2607 [00:10<00:00, 247.26it/s, Train Loss=0.9585, Valid Loss=0.1617, Valid R2=0.6351, Valid MAE=0.3050]\n",
            "Epoch  3: 100%|██████████| 2607/2607 [00:09<00:00, 261.21it/s, Train Loss=0.7443, Valid Loss=0.2246, Valid R2=0.4933, Valid MAE=0.3532]\n",
            "Epoch  4: 100%|██████████| 2607/2607 [00:10<00:00, 243.69it/s, Train Loss=0.6717, Valid Loss=0.2030, Valid R2=0.5420, Valid MAE=0.3619]\n",
            "Epoch  5: 100%|██████████| 2607/2607 [00:10<00:00, 240.66it/s, Train Loss=0.6308, Valid Loss=0.1552, Valid R2=0.6498, Valid MAE=0.3203]\n",
            "Epoch  6: 100%|██████████| 2607/2607 [00:10<00:00, 241.78it/s, Train Loss=0.5989, Valid Loss=0.2294, Valid R2=0.4823, Valid MAE=0.3691]\n",
            "Epoch  7: 100%|██████████| 2607/2607 [00:10<00:00, 242.14it/s, Train Loss=0.5772, Valid Loss=0.1956, Valid R2=0.5587, Valid MAE=0.3521]\n",
            "Epoch  8: 100%|██████████| 2607/2607 [00:10<00:00, 238.06it/s, Train Loss=0.5596, Valid Loss=0.1589, Valid R2=0.6414, Valid MAE=0.3246]\n",
            "Epoch  9: 100%|██████████| 2607/2607 [00:10<00:00, 239.34it/s, Train Loss=0.5499, Valid Loss=0.1549, Valid R2=0.6504, Valid MAE=0.3197]\n",
            "Epoch 10: 100%|██████████| 2607/2607 [00:10<00:00, 243.48it/s, Train Loss=0.5349, Valid Loss=0.1497, Valid R2=0.6622, Valid MAE=0.3193]\n",
            "Epoch 11: 100%|██████████| 2607/2607 [00:10<00:00, 240.00it/s, Train Loss=0.5236, Valid Loss=0.1885, Valid R2=0.5746, Valid MAE=0.3487]\n",
            "Epoch 12: 100%|██████████| 2607/2607 [00:10<00:00, 242.81it/s, Train Loss=0.5106, Valid Loss=0.1591, Valid R2=0.6409, Valid MAE=0.3268]\n",
            "Epoch 13: 100%|██████████| 2607/2607 [00:10<00:00, 243.29it/s, Train Loss=0.5016, Valid Loss=0.1614, Valid R2=0.6359, Valid MAE=0.3287]\n",
            "Epoch 14: 100%|██████████| 2607/2607 [00:10<00:00, 240.58it/s, Train Loss=0.4904, Valid Loss=0.1517, Valid R2=0.6577, Valid MAE=0.3229]\n"
          ]
        },
        {
          "name": "stdout",
          "output_type": "stream",
          "text": [
            "Early Stopped\n",
            "Setting  82 of Parameters Grid is now on progres.\n"
          ]
        },
        {
          "name": "stderr",
          "output_type": "stream",
          "text": [
            "Epoch  0: 100%|██████████| 2607/2607 [00:10<00:00, 242.44it/s, Train Loss=5.0822, Valid Loss=0.1865, Valid R2=0.5793, Valid MAE=0.3432]\n",
            "Epoch  1: 100%|██████████| 2607/2607 [00:10<00:00, 252.45it/s, Train Loss=1.6999, Valid Loss=0.2254, Valid R2=0.4915, Valid MAE=0.3584]\n",
            "Epoch  2: 100%|██████████| 2607/2607 [00:10<00:00, 257.30it/s, Train Loss=0.9053, Valid Loss=0.1630, Valid R2=0.6323, Valid MAE=0.3250]\n",
            "Epoch  3: 100%|██████████| 2607/2607 [00:10<00:00, 242.70it/s, Train Loss=0.7153, Valid Loss=0.1838, Valid R2=0.5854, Valid MAE=0.3478]\n",
            "Epoch  4: 100%|██████████| 2607/2607 [00:10<00:00, 241.17it/s, Train Loss=0.6510, Valid Loss=0.1928, Valid R2=0.5649, Valid MAE=0.3541]\n",
            "Epoch  5: 100%|██████████| 2607/2607 [00:10<00:00, 240.90it/s, Train Loss=0.6141, Valid Loss=0.2082, Valid R2=0.5303, Valid MAE=0.3679]\n",
            "Epoch  6: 100%|██████████| 2607/2607 [00:10<00:00, 239.04it/s, Train Loss=0.5891, Valid Loss=0.2859, Valid R2=0.3548, Valid MAE=0.4454]\n"
          ]
        },
        {
          "name": "stdout",
          "output_type": "stream",
          "text": [
            "Early Stopped\n",
            "Setting  83 of Parameters Grid is now on progres.\n"
          ]
        },
        {
          "name": "stderr",
          "output_type": "stream",
          "text": [
            "Epoch  0: 100%|██████████| 2607/2607 [00:10<00:00, 251.90it/s, Train Loss=7.0778, Valid Loss=0.9816, Valid R2=-1.2149, Valid MAE=0.8700]\n",
            "Epoch  1: 100%|██████████| 2607/2607 [00:10<00:00, 241.23it/s, Train Loss=4.6869, Valid Loss=0.3595, Valid R2=0.1887, Valid MAE=0.4844]\n",
            "Epoch  2: 100%|██████████| 2607/2607 [00:10<00:00, 243.98it/s, Train Loss=2.0302, Valid Loss=0.2994, Valid R2=0.3244, Valid MAE=0.4261]\n",
            "Epoch  3: 100%|██████████| 2607/2607 [00:10<00:00, 241.83it/s, Train Loss=1.0979, Valid Loss=0.3203, Valid R2=0.2773, Valid MAE=0.4538]\n",
            "Epoch  4: 100%|██████████| 2607/2607 [00:10<00:00, 241.49it/s, Train Loss=0.7982, Valid Loss=0.3567, Valid R2=0.1951, Valid MAE=0.4915]\n",
            "Epoch  5: 100%|██████████| 2607/2607 [00:10<00:00, 241.64it/s, Train Loss=0.7043, Valid Loss=0.2187, Valid R2=0.5065, Valid MAE=0.3722]\n",
            "Epoch  6: 100%|██████████| 2607/2607 [00:10<00:00, 244.47it/s, Train Loss=0.6649, Valid Loss=0.2390, Valid R2=0.4606, Valid MAE=0.4000]\n",
            "Epoch  7: 100%|██████████| 2607/2607 [00:10<00:00, 243.63it/s, Train Loss=0.6362, Valid Loss=0.2734, Valid R2=0.3830, Valid MAE=0.4242]\n",
            "Epoch  8: 100%|██████████| 2607/2607 [00:10<00:00, 245.86it/s, Train Loss=0.6150, Valid Loss=0.3314, Valid R2=0.2523, Valid MAE=0.4765]\n",
            "Epoch  9: 100%|██████████| 2607/2607 [00:09<00:00, 260.94it/s, Train Loss=0.6001, Valid Loss=0.2522, Valid R2=0.4309, Valid MAE=0.4201]\n"
          ]
        },
        {
          "name": "stdout",
          "output_type": "stream",
          "text": [
            "Early Stopped\n",
            "Setting  84 of Parameters Grid is now on progres.\n"
          ]
        },
        {
          "name": "stderr",
          "output_type": "stream",
          "text": [
            "Epoch  0: 100%|██████████| 2607/2607 [00:10<00:00, 242.10it/s, Train Loss=5.1349, Valid Loss=0.2042, Valid R2=0.5392, Valid MAE=0.3648]\n",
            "Epoch  1: 100%|██████████| 2607/2607 [00:10<00:00, 240.32it/s, Train Loss=2.0054, Valid Loss=0.3527, Valid R2=0.2042, Valid MAE=0.4534]\n",
            "Epoch  2: 100%|██████████| 2607/2607 [00:10<00:00, 241.08it/s, Train Loss=1.0801, Valid Loss=0.2512, Valid R2=0.4331, Valid MAE=0.3732]\n",
            "Epoch  3: 100%|██████████| 2607/2607 [00:10<00:00, 247.42it/s, Train Loss=0.7907, Valid Loss=0.2648, Valid R2=0.4026, Valid MAE=0.4015]\n",
            "Epoch  4: 100%|██████████| 2607/2607 [00:11<00:00, 236.79it/s, Train Loss=0.6956, Valid Loss=0.2138, Valid R2=0.5176, Valid MAE=0.3662]\n"
          ]
        },
        {
          "name": "stdout",
          "output_type": "stream",
          "text": [
            "Early Stopped\n",
            "Setting  85 of Parameters Grid is now on progres.\n"
          ]
        },
        {
          "name": "stderr",
          "output_type": "stream",
          "text": [
            "Epoch  0: 100%|██████████| 2607/2607 [00:10<00:00, 240.34it/s, Train Loss=6.6546, Valid Loss=1.6899, Valid R2=-2.8131, Valid MAE=1.1718]\n",
            "Epoch  1: 100%|██████████| 2607/2607 [00:10<00:00, 244.25it/s, Train Loss=3.9386, Valid Loss=0.2053, Valid R2=0.5368, Valid MAE=0.3495]\n",
            "Epoch  2: 100%|██████████| 2607/2607 [00:10<00:00, 242.52it/s, Train Loss=1.3902, Valid Loss=0.2772, Valid R2=0.3746, Valid MAE=0.4026]\n",
            "Epoch  3: 100%|██████████| 2607/2607 [00:10<00:00, 240.50it/s, Train Loss=0.8578, Valid Loss=0.2763, Valid R2=0.3765, Valid MAE=0.3958]\n",
            "Epoch  4: 100%|██████████| 2607/2607 [00:10<00:00, 240.85it/s, Train Loss=0.7181, Valid Loss=0.3933, Valid R2=0.1126, Valid MAE=0.4885]\n",
            "Epoch  5: 100%|██████████| 2607/2607 [00:10<00:00, 238.95it/s, Train Loss=0.6666, Valid Loss=0.2289, Valid R2=0.4836, Valid MAE=0.3650]\n"
          ]
        },
        {
          "name": "stdout",
          "output_type": "stream",
          "text": [
            "Early Stopped\n",
            "Setting  86 of Parameters Grid is now on progres.\n"
          ]
        },
        {
          "name": "stderr",
          "output_type": "stream",
          "text": [
            "Epoch  0: 100%|██████████| 2607/2607 [00:11<00:00, 236.94it/s, Train Loss=4.7110, Valid Loss=0.4995, Valid R2=-0.1270, Valid MAE=0.5657]\n",
            "Epoch  1: 100%|██████████| 2607/2607 [00:10<00:00, 238.08it/s, Train Loss=1.7911, Valid Loss=0.4533, Valid R2=-0.0227, Valid MAE=0.5107]\n",
            "Epoch  2: 100%|██████████| 2607/2607 [00:10<00:00, 248.52it/s, Train Loss=0.9985, Valid Loss=0.2702, Valid R2=0.3902, Valid MAE=0.3968]\n",
            "Epoch  3: 100%|██████████| 2607/2607 [00:09<00:00, 261.99it/s, Train Loss=0.7628, Valid Loss=0.3072, Valid R2=0.3069, Valid MAE=0.4398]\n",
            "Epoch  4: 100%|██████████| 2607/2607 [00:10<00:00, 248.13it/s, Train Loss=0.6872, Valid Loss=0.2386, Valid R2=0.4616, Valid MAE=0.3925]\n",
            "Epoch  5: 100%|██████████| 2607/2607 [00:10<00:00, 254.47it/s, Train Loss=0.6487, Valid Loss=0.3220, Valid R2=0.2734, Valid MAE=0.4491]\n",
            "Epoch  6: 100%|██████████| 2607/2607 [00:10<00:00, 246.07it/s, Train Loss=0.6233, Valid Loss=0.3786, Valid R2=0.1457, Valid MAE=0.4852]\n",
            "Epoch  7: 100%|██████████| 2607/2607 [00:10<00:00, 247.34it/s, Train Loss=0.6029, Valid Loss=0.2052, Valid R2=0.5369, Valid MAE=0.3575]\n",
            "Epoch  8: 100%|██████████| 2607/2607 [00:10<00:00, 246.17it/s, Train Loss=0.5840, Valid Loss=0.2111, Valid R2=0.5237, Valid MAE=0.3728]\n",
            "Epoch  9: 100%|██████████| 2607/2607 [00:10<00:00, 241.66it/s, Train Loss=0.5672, Valid Loss=0.2660, Valid R2=0.3999, Valid MAE=0.3973]\n",
            "Epoch 10: 100%|██████████| 2607/2607 [00:10<00:00, 260.24it/s, Train Loss=0.5506, Valid Loss=0.3132, Valid R2=0.2933, Valid MAE=0.4616]\n",
            "Epoch 11: 100%|██████████| 2607/2607 [00:10<00:00, 259.24it/s, Train Loss=0.5337, Valid Loss=0.5397, Valid R2=-0.2178, Valid MAE=0.5598]\n"
          ]
        },
        {
          "name": "stdout",
          "output_type": "stream",
          "text": [
            "Early Stopped\n",
            "Setting  87 of Parameters Grid is now on progres.\n"
          ]
        },
        {
          "name": "stderr",
          "output_type": "stream",
          "text": [
            "Epoch  0: 100%|██████████| 2607/2607 [00:10<00:00, 244.24it/s, Train Loss=6.6417, Valid Loss=0.2501, Valid R2=0.4357, Valid MAE=0.4219]\n",
            "Epoch  1: 100%|██████████| 2607/2607 [00:10<00:00, 247.99it/s, Train Loss=2.8406, Valid Loss=0.2824, Valid R2=0.3628, Valid MAE=0.4344]\n",
            "Epoch  2: 100%|██████████| 2607/2607 [00:10<00:00, 239.45it/s, Train Loss=1.4334, Valid Loss=0.3036, Valid R2=0.3150, Valid MAE=0.4120]\n",
            "Epoch  3: 100%|██████████| 2607/2607 [00:10<00:00, 242.36it/s, Train Loss=0.9152, Valid Loss=0.3318, Valid R2=0.2514, Valid MAE=0.4474]\n",
            "Epoch  4: 100%|██████████| 2607/2607 [00:10<00:00, 243.81it/s, Train Loss=0.7436, Valid Loss=0.3436, Valid R2=0.2247, Valid MAE=0.4605]\n"
          ]
        },
        {
          "name": "stdout",
          "output_type": "stream",
          "text": [
            "Early Stopped\n",
            "Setting  88 of Parameters Grid is now on progres.\n"
          ]
        },
        {
          "name": "stderr",
          "output_type": "stream",
          "text": [
            "Epoch  0: 100%|██████████| 2607/2607 [00:10<00:00, 247.92it/s, Train Loss=7.9471, Valid Loss=0.9636, Valid R2=-1.1742, Valid MAE=0.8613]\n",
            "Epoch  1: 100%|██████████| 2607/2607 [00:10<00:00, 259.14it/s, Train Loss=4.6767, Valid Loss=0.1763, Valid R2=0.6022, Valid MAE=0.3375]\n",
            "Epoch  2: 100%|██████████| 2607/2607 [00:10<00:00, 239.98it/s, Train Loss=1.9088, Valid Loss=0.2386, Valid R2=0.4616, Valid MAE=0.3549]\n",
            "Epoch  3: 100%|██████████| 2607/2607 [00:10<00:00, 241.06it/s, Train Loss=1.0373, Valid Loss=0.2690, Valid R2=0.3931, Valid MAE=0.3899]\n",
            "Epoch  4: 100%|██████████| 2607/2607 [00:10<00:00, 243.26it/s, Train Loss=0.7791, Valid Loss=0.2138, Valid R2=0.5176, Valid MAE=0.3567]\n",
            "Epoch  5: 100%|██████████| 2607/2607 [00:10<00:00, 243.20it/s, Train Loss=0.6951, Valid Loss=0.2729, Valid R2=0.3842, Valid MAE=0.4068]\n"
          ]
        },
        {
          "name": "stdout",
          "output_type": "stream",
          "text": [
            "Early Stopped\n",
            "Setting  89 of Parameters Grid is now on progres.\n"
          ]
        },
        {
          "name": "stderr",
          "output_type": "stream",
          "text": [
            "Epoch  0: 100%|██████████| 2607/2607 [00:10<00:00, 246.16it/s, Train Loss=5.8182, Valid Loss=0.3354, Valid R2=0.2432, Valid MAE=0.4845]\n",
            "Epoch  1: 100%|██████████| 2607/2607 [00:10<00:00, 242.34it/s, Train Loss=2.2723, Valid Loss=0.2636, Valid R2=0.4053, Valid MAE=0.3965]\n",
            "Epoch  2: 100%|██████████| 2607/2607 [00:11<00:00, 236.33it/s, Train Loss=1.1615, Valid Loss=0.3968, Valid R2=0.1046, Valid MAE=0.4820]\n",
            "Epoch  3: 100%|██████████| 2607/2607 [00:10<00:00, 238.69it/s, Train Loss=0.8096, Valid Loss=0.3888, Valid R2=0.1227, Valid MAE=0.4888]\n",
            "Epoch  4: 100%|██████████| 2607/2607 [00:10<00:00, 244.77it/s, Train Loss=0.6940, Valid Loss=0.3683, Valid R2=0.1690, Valid MAE=0.4760]\n",
            "Epoch  5: 100%|██████████| 2607/2607 [00:10<00:00, 248.04it/s, Train Loss=0.6429, Valid Loss=0.3423, Valid R2=0.2276, Valid MAE=0.4612]\n"
          ]
        },
        {
          "name": "stdout",
          "output_type": "stream",
          "text": [
            "Early Stopped\n",
            "Setting  90 of Parameters Grid is now on progres.\n"
          ]
        },
        {
          "name": "stderr",
          "output_type": "stream",
          "text": [
            "Epoch  0: 100%|██████████| 2607/2607 [00:10<00:00, 256.83it/s, Train Loss=6.2662, Valid Loss=0.3823, Valid R2=0.1373, Valid MAE=0.5294]\n",
            "Epoch  1: 100%|██████████| 2607/2607 [00:09<00:00, 264.27it/s, Train Loss=2.3150, Valid Loss=0.3304, Valid R2=0.2544, Valid MAE=0.4707]\n",
            "Epoch  2: 100%|██████████| 2607/2607 [00:10<00:00, 241.98it/s, Train Loss=1.1236, Valid Loss=0.2866, Valid R2=0.3533, Valid MAE=0.4012]\n",
            "Epoch  3: 100%|██████████| 2607/2607 [00:10<00:00, 249.77it/s, Train Loss=0.7816, Valid Loss=0.1989, Valid R2=0.5511, Valid MAE=0.3810]\n",
            "Epoch  4: 100%|██████████| 2607/2607 [00:10<00:00, 242.92it/s, Train Loss=0.6828, Valid Loss=0.1671, Valid R2=0.6229, Valid MAE=0.3403]\n",
            "Epoch  5: 100%|██████████| 2607/2607 [00:10<00:00, 241.10it/s, Train Loss=0.6376, Valid Loss=0.1520, Valid R2=0.6571, Valid MAE=0.3222]\n",
            "Epoch  6: 100%|██████████| 2607/2607 [00:10<00:00, 244.60it/s, Train Loss=0.6025, Valid Loss=0.2110, Valid R2=0.5238, Valid MAE=0.3863]\n",
            "Epoch  7: 100%|██████████| 2607/2607 [00:10<00:00, 245.82it/s, Train Loss=0.5785, Valid Loss=0.2382, Valid R2=0.4626, Valid MAE=0.3852]\n",
            "Epoch  8: 100%|██████████| 2607/2607 [00:10<00:00, 246.02it/s, Train Loss=0.5567, Valid Loss=0.2322, Valid R2=0.4762, Valid MAE=0.3847]\n",
            "Epoch  9: 100%|██████████| 2607/2607 [00:10<00:00, 237.58it/s, Train Loss=0.5354, Valid Loss=0.2828, Valid R2=0.3618, Valid MAE=0.4052]\n"
          ]
        },
        {
          "name": "stdout",
          "output_type": "stream",
          "text": [
            "Early Stopped\n",
            "Setting  91 of Parameters Grid is now on progres.\n"
          ]
        },
        {
          "name": "stderr",
          "output_type": "stream",
          "text": [
            "Epoch  0: 100%|██████████| 2607/2607 [00:10<00:00, 240.18it/s, Train Loss=7.0349, Valid Loss=1.2561, Valid R2=-1.8343, Valid MAE=0.9959]\n",
            "Epoch  1: 100%|██████████| 2607/2607 [00:10<00:00, 252.11it/s, Train Loss=4.6910, Valid Loss=0.2487, Valid R2=0.4389, Valid MAE=0.3970]\n",
            "Epoch  2: 100%|██████████| 2607/2607 [00:10<00:00, 248.05it/s, Train Loss=1.9148, Valid Loss=0.2597, Valid R2=0.4141, Valid MAE=0.3798]\n",
            "Epoch  3: 100%|██████████| 2607/2607 [00:10<00:00, 248.04it/s, Train Loss=1.0678, Valid Loss=0.2370, Valid R2=0.4651, Valid MAE=0.3756]\n",
            "Epoch  4: 100%|██████████| 2607/2607 [00:10<00:00, 241.66it/s, Train Loss=0.7960, Valid Loss=0.2538, Valid R2=0.4274, Valid MAE=0.3877]\n",
            "Epoch  5: 100%|██████████| 2607/2607 [00:10<00:00, 238.38it/s, Train Loss=0.7012, Valid Loss=0.1822, Valid R2=0.5889, Valid MAE=0.3401]\n",
            "Epoch  6: 100%|██████████| 2607/2607 [00:10<00:00, 239.74it/s, Train Loss=0.6604, Valid Loss=0.1676, Valid R2=0.6219, Valid MAE=0.3231]\n",
            "Epoch  7: 100%|██████████| 2607/2607 [00:10<00:00, 240.94it/s, Train Loss=0.6288, Valid Loss=0.1777, Valid R2=0.5990, Valid MAE=0.3423]\n",
            "Epoch  8: 100%|██████████| 2607/2607 [00:10<00:00, 245.52it/s, Train Loss=0.6083, Valid Loss=0.2656, Valid R2=0.4006, Valid MAE=0.4175]\n",
            "Epoch  9: 100%|██████████| 2607/2607 [00:10<00:00, 241.72it/s, Train Loss=0.5913, Valid Loss=0.3500, Valid R2=0.2103, Valid MAE=0.4769]\n",
            "Epoch 10: 100%|██████████| 2607/2607 [00:10<00:00, 251.12it/s, Train Loss=0.5749, Valid Loss=0.3785, Valid R2=0.1459, Valid MAE=0.5002]\n"
          ]
        },
        {
          "name": "stdout",
          "output_type": "stream",
          "text": [
            "Early Stopped\n",
            "Setting  92 of Parameters Grid is now on progres.\n"
          ]
        },
        {
          "name": "stderr",
          "output_type": "stream",
          "text": [
            "Epoch  0: 100%|██████████| 2607/2607 [00:10<00:00, 238.85it/s, Train Loss=5.7785, Valid Loss=0.4791, Valid R2=-0.0811, Valid MAE=0.5635]\n",
            "Epoch  1: 100%|██████████| 2607/2607 [00:11<00:00, 236.42it/s, Train Loss=1.9410, Valid Loss=0.3704, Valid R2=0.1643, Valid MAE=0.4831]\n",
            "Epoch  2: 100%|██████████| 2607/2607 [00:11<00:00, 235.40it/s, Train Loss=0.9825, Valid Loss=0.1887, Valid R2=0.5742, Valid MAE=0.3498]\n",
            "Epoch  3: 100%|██████████| 2607/2607 [00:10<00:00, 237.73it/s, Train Loss=0.7367, Valid Loss=0.2081, Valid R2=0.5304, Valid MAE=0.3603]\n",
            "Epoch  4: 100%|██████████| 2607/2607 [00:10<00:00, 242.56it/s, Train Loss=0.6677, Valid Loss=0.2787, Valid R2=0.3711, Valid MAE=0.4236]\n",
            "Epoch  5: 100%|██████████| 2607/2607 [00:10<00:00, 237.93it/s, Train Loss=0.6237, Valid Loss=0.1722, Valid R2=0.6115, Valid MAE=0.3423]\n",
            "Epoch  6: 100%|██████████| 2607/2607 [00:10<00:00, 242.44it/s, Train Loss=0.5972, Valid Loss=0.1750, Valid R2=0.6050, Valid MAE=0.3525]\n",
            "Epoch  7: 100%|██████████| 2607/2607 [00:10<00:00, 238.59it/s, Train Loss=0.5749, Valid Loss=0.2319, Valid R2=0.4767, Valid MAE=0.3877]\n",
            "Epoch  8: 100%|██████████| 2607/2607 [00:10<00:00, 246.78it/s, Train Loss=0.5526, Valid Loss=0.1854, Valid R2=0.5816, Valid MAE=0.3406]\n",
            "Epoch  9: 100%|██████████| 2607/2607 [00:10<00:00, 243.95it/s, Train Loss=0.5374, Valid Loss=0.1674, Valid R2=0.6222, Valid MAE=0.3511]\n",
            "Epoch 10: 100%|██████████| 2607/2607 [00:10<00:00, 240.19it/s, Train Loss=0.5228, Valid Loss=0.2190, Valid R2=0.5059, Valid MAE=0.3772]\n",
            "Epoch 11: 100%|██████████| 2607/2607 [00:09<00:00, 262.35it/s, Train Loss=0.5062, Valid Loss=0.2139, Valid R2=0.5173, Valid MAE=0.3744]\n",
            "Epoch 12: 100%|██████████| 2607/2607 [00:10<00:00, 241.72it/s, Train Loss=0.4992, Valid Loss=0.1935, Valid R2=0.5634, Valid MAE=0.3647]\n",
            "Epoch 13: 100%|██████████| 2607/2607 [00:10<00:00, 240.92it/s, Train Loss=0.4777, Valid Loss=0.2006, Valid R2=0.5473, Valid MAE=0.3676]\n"
          ]
        },
        {
          "name": "stdout",
          "output_type": "stream",
          "text": [
            "Early Stopped\n",
            "Setting  93 of Parameters Grid is now on progres.\n"
          ]
        },
        {
          "name": "stderr",
          "output_type": "stream",
          "text": [
            "Epoch  0: 100%|██████████| 2607/2607 [00:10<00:00, 241.46it/s, Train Loss=4.4279, Valid Loss=0.1936, Valid R2=0.5631, Valid MAE=0.3561]\n",
            "Epoch  1: 100%|██████████| 2607/2607 [00:10<00:00, 243.87it/s, Train Loss=1.4063, Valid Loss=0.1806, Valid R2=0.5925, Valid MAE=0.3045]\n",
            "Epoch  2: 100%|██████████| 2607/2607 [00:10<00:00, 238.10it/s, Train Loss=0.8269, Valid Loss=0.1333, Valid R2=0.6992, Valid MAE=0.2639]\n",
            "Epoch  3: 100%|██████████| 2607/2607 [00:10<00:00, 238.09it/s, Train Loss=0.6934, Valid Loss=0.1601, Valid R2=0.6388, Valid MAE=0.3091]\n",
            "Epoch  4: 100%|██████████| 2607/2607 [00:10<00:00, 244.94it/s, Train Loss=0.6390, Valid Loss=0.1433, Valid R2=0.6766, Valid MAE=0.3080]\n",
            "Epoch  5: 100%|██████████| 2607/2607 [00:10<00:00, 244.53it/s, Train Loss=0.6025, Valid Loss=0.1417, Valid R2=0.6802, Valid MAE=0.3021]\n",
            "Epoch  6: 100%|██████████| 2607/2607 [00:10<00:00, 242.28it/s, Train Loss=0.5836, Valid Loss=0.1181, Valid R2=0.7334, Valid MAE=0.2718]\n",
            "Epoch  7: 100%|██████████| 2607/2607 [00:10<00:00, 241.12it/s, Train Loss=0.5616, Valid Loss=0.1556, Valid R2=0.6488, Valid MAE=0.3209]\n",
            "Epoch  8: 100%|██████████| 2607/2607 [00:10<00:00, 245.79it/s, Train Loss=0.5455, Valid Loss=0.1195, Valid R2=0.7304, Valid MAE=0.2657]\n",
            "Epoch  9: 100%|██████████| 2607/2607 [00:10<00:00, 258.84it/s, Train Loss=0.5293, Valid Loss=0.1188, Valid R2=0.7320, Valid MAE=0.2613]\n",
            "Epoch 10: 100%|██████████| 2607/2607 [00:10<00:00, 244.89it/s, Train Loss=0.5184, Valid Loss=0.1245, Valid R2=0.7190, Valid MAE=0.2672]\n"
          ]
        },
        {
          "name": "stdout",
          "output_type": "stream",
          "text": [
            "Early Stopped\n",
            "Setting  94 of Parameters Grid is now on progres.\n"
          ]
        },
        {
          "name": "stderr",
          "output_type": "stream",
          "text": [
            "Epoch  0: 100%|██████████| 2607/2607 [00:10<00:00, 253.72it/s, Train Loss=6.9062, Valid Loss=1.5428, Valid R2=-2.4813, Valid MAE=1.1186]\n",
            "Epoch  1: 100%|██████████| 2607/2607 [00:10<00:00, 249.11it/s, Train Loss=2.4516, Valid Loss=0.2785, Valid R2=0.3716, Valid MAE=0.4116]\n",
            "Epoch  2: 100%|██████████| 2607/2607 [00:10<00:00, 242.81it/s, Train Loss=1.0470, Valid Loss=0.1864, Valid R2=0.5795, Valid MAE=0.3236]\n",
            "Epoch  3: 100%|██████████| 2607/2607 [00:10<00:00, 243.20it/s, Train Loss=0.7473, Valid Loss=0.1669, Valid R2=0.6233, Valid MAE=0.3210]\n",
            "Epoch  4: 100%|██████████| 2607/2607 [00:09<00:00, 261.45it/s, Train Loss=0.6636, Valid Loss=0.1505, Valid R2=0.6604, Valid MAE=0.3013]\n",
            "Epoch  5: 100%|██████████| 2607/2607 [00:10<00:00, 253.45it/s, Train Loss=0.6205, Valid Loss=0.1669, Valid R2=0.6233, Valid MAE=0.3192]\n",
            "Epoch  6: 100%|██████████| 2607/2607 [00:10<00:00, 250.87it/s, Train Loss=0.5916, Valid Loss=0.1619, Valid R2=0.6347, Valid MAE=0.3146]\n",
            "Epoch  7: 100%|██████████| 2607/2607 [00:10<00:00, 257.00it/s, Train Loss=0.5732, Valid Loss=0.3286, Valid R2=0.2585, Valid MAE=0.4388]\n",
            "Epoch  8: 100%|██████████| 2607/2607 [00:10<00:00, 243.36it/s, Train Loss=0.5550, Valid Loss=0.1375, Valid R2=0.6897, Valid MAE=0.3007]\n",
            "Epoch  9: 100%|██████████| 2607/2607 [00:10<00:00, 240.48it/s, Train Loss=0.5370, Valid Loss=0.1295, Valid R2=0.7077, Valid MAE=0.2889]\n",
            "Epoch 10: 100%|██████████| 2607/2607 [00:10<00:00, 244.79it/s, Train Loss=0.5208, Valid Loss=0.1656, Valid R2=0.6262, Valid MAE=0.3230]\n",
            "Epoch 11: 100%|██████████| 2607/2607 [00:10<00:00, 242.92it/s, Train Loss=0.5038, Valid Loss=0.1650, Valid R2=0.6276, Valid MAE=0.3184]\n",
            "Epoch 12: 100%|██████████| 2607/2607 [00:10<00:00, 245.64it/s, Train Loss=0.4877, Valid Loss=0.1742, Valid R2=0.6069, Valid MAE=0.3197]\n",
            "Epoch 13: 100%|██████████| 2607/2607 [00:10<00:00, 246.10it/s, Train Loss=0.4635, Valid Loss=0.2425, Valid R2=0.4529, Valid MAE=0.3523]\n"
          ]
        },
        {
          "name": "stdout",
          "output_type": "stream",
          "text": [
            "Early Stopped\n",
            "Setting  95 of Parameters Grid is now on progres.\n"
          ]
        },
        {
          "name": "stderr",
          "output_type": "stream",
          "text": [
            "Epoch  0: 100%|██████████| 2607/2607 [00:10<00:00, 242.47it/s, Train Loss=7.4051, Valid Loss=0.8097, Valid R2=-0.8270, Valid MAE=0.7869]\n",
            "Epoch  1: 100%|██████████| 2607/2607 [00:10<00:00, 243.23it/s, Train Loss=3.6788, Valid Loss=0.5173, Valid R2=-0.1671, Valid MAE=0.5710]\n",
            "Epoch  2: 100%|██████████| 2607/2607 [00:10<00:00, 239.90it/s, Train Loss=1.8944, Valid Loss=0.2864, Valid R2=0.3538, Valid MAE=0.3909]\n",
            "Epoch  3: 100%|██████████| 2607/2607 [00:10<00:00, 242.08it/s, Train Loss=1.1550, Valid Loss=0.3438, Valid R2=0.2242, Valid MAE=0.4086]\n",
            "Epoch  4: 100%|██████████| 2607/2607 [00:10<00:00, 239.30it/s, Train Loss=0.8519, Valid Loss=0.4181, Valid R2=0.0565, Valid MAE=0.5207]\n",
            "Epoch  5: 100%|██████████| 2607/2607 [00:10<00:00, 250.73it/s, Train Loss=0.7323, Valid Loss=0.3328, Valid R2=0.2492, Valid MAE=0.4743]\n",
            "Epoch  6: 100%|██████████| 2607/2607 [00:10<00:00, 240.44it/s, Train Loss=0.6903, Valid Loss=0.4297, Valid R2=0.0304, Valid MAE=0.5202]\n"
          ]
        },
        {
          "name": "stdout",
          "output_type": "stream",
          "text": [
            "Early Stopped\n",
            "Setting  96 of Parameters Grid is now on progres.\n"
          ]
        },
        {
          "name": "stderr",
          "output_type": "stream",
          "text": [
            "Epoch  0: 100%|██████████| 2607/2607 [00:11<00:00, 233.06it/s, Train Loss=5.8263, Valid Loss=0.2543, Valid R2=0.4261, Valid MAE=0.3878]\n",
            "Epoch  1: 100%|██████████| 2607/2607 [00:11<00:00, 232.14it/s, Train Loss=2.2558, Valid Loss=0.3407, Valid R2=0.2313, Valid MAE=0.4339]\n",
            "Epoch  2: 100%|██████████| 2607/2607 [00:11<00:00, 235.74it/s, Train Loss=1.1789, Valid Loss=0.3492, Valid R2=0.2121, Valid MAE=0.3895]\n",
            "Epoch  3: 100%|██████████| 2607/2607 [00:10<00:00, 241.71it/s, Train Loss=0.8204, Valid Loss=0.2437, Valid R2=0.4501, Valid MAE=0.3891]\n",
            "Epoch  4: 100%|██████████| 2607/2607 [00:10<00:00, 242.39it/s, Train Loss=0.7022, Valid Loss=0.1575, Valid R2=0.6447, Valid MAE=0.3029]\n",
            "Epoch  5: 100%|██████████| 2607/2607 [00:10<00:00, 239.75it/s, Train Loss=0.6522, Valid Loss=0.1546, Valid R2=0.6513, Valid MAE=0.2994]\n",
            "Epoch  6: 100%|██████████| 2607/2607 [00:11<00:00, 233.10it/s, Train Loss=0.6272, Valid Loss=0.2614, Valid R2=0.4101, Valid MAE=0.4083]\n",
            "Epoch  7: 100%|██████████| 2607/2607 [00:11<00:00, 233.44it/s, Train Loss=0.6015, Valid Loss=0.4646, Valid R2=-0.0483, Valid MAE=0.5189]\n",
            "Epoch  8: 100%|██████████| 2607/2607 [00:11<00:00, 234.89it/s, Train Loss=0.5860, Valid Loss=0.2063, Valid R2=0.5345, Valid MAE=0.3439]\n",
            "Epoch  9: 100%|██████████| 2607/2607 [00:10<00:00, 250.14it/s, Train Loss=0.5702, Valid Loss=0.1821, Valid R2=0.5892, Valid MAE=0.3252]\n"
          ]
        },
        {
          "name": "stdout",
          "output_type": "stream",
          "text": [
            "Early Stopped\n",
            "Setting  97 of Parameters Grid is now on progres.\n"
          ]
        },
        {
          "name": "stderr",
          "output_type": "stream",
          "text": [
            "Epoch  0: 100%|██████████| 2607/2607 [00:11<00:00, 236.35it/s, Train Loss=4.2341, Valid Loss=0.1985, Valid R2=0.5521, Valid MAE=0.3533]\n",
            "Epoch  1: 100%|██████████| 2607/2607 [00:10<00:00, 242.09it/s, Train Loss=1.5417, Valid Loss=0.2183, Valid R2=0.5075, Valid MAE=0.3434]\n",
            "Epoch  2: 100%|██████████| 2607/2607 [00:10<00:00, 238.14it/s, Train Loss=0.8979, Valid Loss=0.1868, Valid R2=0.5785, Valid MAE=0.3399]\n",
            "Epoch  3: 100%|██████████| 2607/2607 [00:11<00:00, 234.17it/s, Train Loss=0.7307, Valid Loss=0.1432, Valid R2=0.6770, Valid MAE=0.2866]\n",
            "Epoch  4: 100%|██████████| 2607/2607 [00:11<00:00, 231.77it/s, Train Loss=0.6653, Valid Loss=0.1207, Valid R2=0.7277, Valid MAE=0.2755]\n",
            "Epoch  5: 100%|██████████| 2607/2607 [00:11<00:00, 236.55it/s, Train Loss=0.6286, Valid Loss=0.1832, Valid R2=0.5867, Valid MAE=0.3512]\n",
            "Epoch  6: 100%|██████████| 2607/2607 [00:11<00:00, 231.20it/s, Train Loss=0.6056, Valid Loss=0.1929, Valid R2=0.5648, Valid MAE=0.3668]\n",
            "Epoch  7: 100%|██████████| 2607/2607 [00:11<00:00, 230.25it/s, Train Loss=0.5869, Valid Loss=0.2085, Valid R2=0.5296, Valid MAE=0.3645]\n",
            "Epoch  8: 100%|██████████| 2607/2607 [00:11<00:00, 234.21it/s, Train Loss=0.5724, Valid Loss=0.1876, Valid R2=0.5768, Valid MAE=0.3402]\n"
          ]
        },
        {
          "name": "stdout",
          "output_type": "stream",
          "text": [
            "Early Stopped\n",
            "Setting  98 of Parameters Grid is now on progres.\n"
          ]
        },
        {
          "name": "stderr",
          "output_type": "stream",
          "text": [
            "Epoch  0: 100%|██████████| 2607/2607 [00:10<00:00, 248.21it/s, Train Loss=7.8721, Valid Loss=0.7186, Valid R2=-0.6214, Valid MAE=0.7369]\n",
            "Epoch  1: 100%|██████████| 2607/2607 [00:11<00:00, 233.74it/s, Train Loss=4.0291, Valid Loss=0.7051, Valid R2=-0.5911, Valid MAE=0.6917]\n",
            "Epoch  2: 100%|██████████| 2607/2607 [00:11<00:00, 235.97it/s, Train Loss=2.0664, Valid Loss=0.5015, Valid R2=-0.1315, Valid MAE=0.5727]\n",
            "Epoch  3: 100%|██████████| 2607/2607 [00:11<00:00, 233.92it/s, Train Loss=1.1678, Valid Loss=0.5000, Valid R2=-0.1282, Valid MAE=0.5477]\n",
            "Epoch  4: 100%|██████████| 2607/2607 [00:11<00:00, 233.77it/s, Train Loss=0.8500, Valid Loss=0.3839, Valid R2=0.1339, Valid MAE=0.4830]\n",
            "Epoch  5: 100%|██████████| 2607/2607 [00:11<00:00, 234.79it/s, Train Loss=0.7304, Valid Loss=0.4836, Valid R2=-0.0912, Valid MAE=0.5666]\n",
            "Epoch  6: 100%|██████████| 2607/2607 [00:10<00:00, 253.45it/s, Train Loss=0.6803, Valid Loss=0.3991, Valid R2=0.0994, Valid MAE=0.5188]\n",
            "Epoch  7: 100%|██████████| 2607/2607 [00:10<00:00, 238.52it/s, Train Loss=0.6490, Valid Loss=0.4791, Valid R2=-0.0810, Valid MAE=0.5632]\n",
            "Epoch  8: 100%|██████████| 2607/2607 [00:11<00:00, 236.00it/s, Train Loss=0.6247, Valid Loss=0.3200, Valid R2=0.2780, Valid MAE=0.4521]\n",
            "Epoch  9: 100%|██████████| 2607/2607 [00:11<00:00, 234.96it/s, Train Loss=0.6065, Valid Loss=0.4652, Valid R2=-0.0497, Valid MAE=0.5550]\n",
            "Epoch 10: 100%|██████████| 2607/2607 [00:11<00:00, 232.34it/s, Train Loss=0.5853, Valid Loss=0.3718, Valid R2=0.1611, Valid MAE=0.4803]\n",
            "Epoch 11: 100%|██████████| 2607/2607 [00:11<00:00, 236.93it/s, Train Loss=0.5724, Valid Loss=0.5015, Valid R2=-0.1317, Valid MAE=0.5615]\n",
            "Epoch 12: 100%|██████████| 2607/2607 [00:11<00:00, 232.62it/s, Train Loss=0.5649, Valid Loss=0.3320, Valid R2=0.2510, Valid MAE=0.4657]\n"
          ]
        },
        {
          "name": "stdout",
          "output_type": "stream",
          "text": [
            "Early Stopped\n",
            "Setting  99 of Parameters Grid is now on progres.\n"
          ]
        },
        {
          "name": "stderr",
          "output_type": "stream",
          "text": [
            "Epoch  0: 100%|██████████| 2607/2607 [00:11<00:00, 236.35it/s, Train Loss=6.2882, Valid Loss=1.6620, Valid R2=-2.7500, Valid MAE=1.1621]\n",
            "Epoch  1: 100%|██████████| 2607/2607 [00:11<00:00, 234.76it/s, Train Loss=3.4801, Valid Loss=0.1578, Valid R2=0.6439, Valid MAE=0.2960]\n",
            "Epoch  2: 100%|██████████| 2607/2607 [00:10<00:00, 239.41it/s, Train Loss=1.3623, Valid Loss=0.2086, Valid R2=0.5293, Valid MAE=0.3208]\n",
            "Epoch  3: 100%|██████████| 2607/2607 [00:11<00:00, 236.01it/s, Train Loss=0.8610, Valid Loss=0.2105, Valid R2=0.5251, Valid MAE=0.3464]\n",
            "Epoch  4: 100%|██████████| 2607/2607 [00:10<00:00, 237.89it/s, Train Loss=0.7129, Valid Loss=0.2284, Valid R2=0.4847, Valid MAE=0.3759]\n",
            "Epoch  5: 100%|██████████| 2607/2607 [00:10<00:00, 245.01it/s, Train Loss=0.6539, Valid Loss=0.1970, Valid R2=0.5556, Valid MAE=0.3390]\n"
          ]
        },
        {
          "name": "stdout",
          "output_type": "stream",
          "text": [
            "Early Stopped\n",
            "Setting 100 of Parameters Grid is now on progres.\n"
          ]
        },
        {
          "name": "stderr",
          "output_type": "stream",
          "text": [
            "Epoch  0: 100%|██████████| 2607/2607 [00:10<00:00, 239.18it/s, Train Loss=7.1658, Valid Loss=0.3590, Valid R2=0.1900, Valid MAE=0.5116]\n",
            "Epoch  1: 100%|██████████| 2607/2607 [00:10<00:00, 238.17it/s, Train Loss=3.6201, Valid Loss=0.4209, Valid R2=0.0502, Valid MAE=0.5282]\n",
            "Epoch  2: 100%|██████████| 2607/2607 [00:11<00:00, 235.33it/s, Train Loss=2.0091, Valid Loss=0.4180, Valid R2=0.0568, Valid MAE=0.5158]\n",
            "Epoch  3: 100%|██████████| 2607/2607 [00:10<00:00, 249.82it/s, Train Loss=1.2419, Valid Loss=0.3559, Valid R2=0.1969, Valid MAE=0.4318]\n",
            "Epoch  4: 100%|██████████| 2607/2607 [00:11<00:00, 232.75it/s, Train Loss=0.8902, Valid Loss=0.3985, Valid R2=0.1009, Valid MAE=0.4869]\n",
            "Epoch  5: 100%|██████████| 2607/2607 [00:11<00:00, 235.86it/s, Train Loss=0.7417, Valid Loss=0.3598, Valid R2=0.1881, Valid MAE=0.4959]\n",
            "Epoch  6: 100%|██████████| 2607/2607 [00:11<00:00, 233.38it/s, Train Loss=0.6792, Valid Loss=0.3774, Valid R2=0.1484, Valid MAE=0.4928]\n",
            "Epoch  7: 100%|██████████| 2607/2607 [00:11<00:00, 233.08it/s, Train Loss=0.6412, Valid Loss=0.2961, Valid R2=0.3318, Valid MAE=0.4412]\n",
            "Epoch  8: 100%|██████████| 2607/2607 [00:11<00:00, 234.36it/s, Train Loss=0.6119, Valid Loss=0.4525, Valid R2=-0.0209, Valid MAE=0.5407]\n",
            "Epoch  9: 100%|██████████| 2607/2607 [00:11<00:00, 235.65it/s, Train Loss=0.5919, Valid Loss=0.3551, Valid R2=0.1988, Valid MAE=0.4695]\n",
            "Epoch 10: 100%|██████████| 2607/2607 [00:11<00:00, 235.51it/s, Train Loss=0.5754, Valid Loss=0.3942, Valid R2=0.1106, Valid MAE=0.4907]\n",
            "Epoch 11: 100%|██████████| 2607/2607 [00:10<00:00, 248.52it/s, Train Loss=0.5611, Valid Loss=0.3899, Valid R2=0.1203, Valid MAE=0.4770]\n"
          ]
        },
        {
          "name": "stdout",
          "output_type": "stream",
          "text": [
            "Early Stopped\n",
            "Setting 101 of Parameters Grid is now on progres.\n"
          ]
        },
        {
          "name": "stderr",
          "output_type": "stream",
          "text": [
            "Epoch  0: 100%|██████████| 2607/2607 [00:10<00:00, 244.14it/s, Train Loss=5.6263, Valid Loss=0.2679, Valid R2=0.3956, Valid MAE=0.4228]\n",
            "Epoch  1: 100%|██████████| 2607/2607 [00:10<00:00, 239.99it/s, Train Loss=2.1312, Valid Loss=0.2812, Valid R2=0.3656, Valid MAE=0.4042]\n",
            "Epoch  2: 100%|██████████| 2607/2607 [00:11<00:00, 232.74it/s, Train Loss=1.0709, Valid Loss=0.2429, Valid R2=0.4520, Valid MAE=0.3915]\n",
            "Epoch  3: 100%|██████████| 2607/2607 [00:11<00:00, 236.62it/s, Train Loss=0.7757, Valid Loss=0.2073, Valid R2=0.5322, Valid MAE=0.3731]\n",
            "Epoch  4: 100%|██████████| 2607/2607 [00:11<00:00, 236.23it/s, Train Loss=0.6787, Valid Loss=0.3891, Valid R2=0.1220, Valid MAE=0.5122]\n",
            "Epoch  5: 100%|██████████| 2607/2607 [00:11<00:00, 235.87it/s, Train Loss=0.6400, Valid Loss=0.2897, Valid R2=0.3463, Valid MAE=0.4356]\n",
            "Epoch  6: 100%|██████████| 2607/2607 [00:11<00:00, 233.66it/s, Train Loss=0.6132, Valid Loss=0.3597, Valid R2=0.1883, Valid MAE=0.4994]\n",
            "Epoch  7: 100%|██████████| 2607/2607 [00:11<00:00, 232.28it/s, Train Loss=0.5970, Valid Loss=0.2477, Valid R2=0.4411, Valid MAE=0.4097]\n"
          ]
        },
        {
          "name": "stdout",
          "output_type": "stream",
          "text": [
            "Early Stopped\n",
            "Setting 102 of Parameters Grid is now on progres.\n"
          ]
        },
        {
          "name": "stderr",
          "output_type": "stream",
          "text": [
            "Epoch  0: 100%|██████████| 2607/2607 [00:11<00:00, 231.41it/s, Train Loss=5.4708, Valid Loss=0.1905, Valid R2=0.5702, Valid MAE=0.3460]\n",
            "Epoch  1: 100%|██████████| 2607/2607 [00:10<00:00, 246.89it/s, Train Loss=2.0816, Valid Loss=0.2866, Valid R2=0.3532, Valid MAE=0.3945]\n",
            "Epoch  2: 100%|██████████| 2607/2607 [00:10<00:00, 244.24it/s, Train Loss=1.0755, Valid Loss=0.2794, Valid R2=0.3695, Valid MAE=0.3933]\n",
            "Epoch  3: 100%|██████████| 2607/2607 [00:11<00:00, 231.95it/s, Train Loss=0.7679, Valid Loss=0.2382, Valid R2=0.4625, Valid MAE=0.3798]\n",
            "Epoch  4: 100%|██████████| 2607/2607 [00:10<00:00, 256.80it/s, Train Loss=0.6754, Valid Loss=0.4261, Valid R2=0.0385, Valid MAE=0.5189]\n"
          ]
        },
        {
          "name": "stdout",
          "output_type": "stream",
          "text": [
            "Early Stopped\n",
            "Setting 103 of Parameters Grid is now on progres.\n"
          ]
        },
        {
          "name": "stderr",
          "output_type": "stream",
          "text": [
            "Epoch  0: 100%|██████████| 2607/2607 [00:10<00:00, 238.32it/s, Train Loss=8.2047, Valid Loss=0.6038, Valid R2=-0.3624, Valid MAE=0.6766]\n",
            "Epoch  1: 100%|██████████| 2607/2607 [00:11<00:00, 235.61it/s, Train Loss=4.6570, Valid Loss=0.4926, Valid R2=-0.1114, Valid MAE=0.5729]\n",
            "Epoch  2: 100%|██████████| 2607/2607 [00:11<00:00, 235.33it/s, Train Loss=2.3821, Valid Loss=0.7222, Valid R2=-0.6295, Valid MAE=0.7076]\n",
            "Epoch  3: 100%|██████████| 2607/2607 [00:11<00:00, 234.59it/s, Train Loss=1.4023, Valid Loss=0.4177, Valid R2=0.0574, Valid MAE=0.4870]\n",
            "Epoch  4: 100%|██████████| 2607/2607 [00:10<00:00, 238.15it/s, Train Loss=0.9678, Valid Loss=1.0136, Valid R2=-1.2871, Valid MAE=0.7920]\n",
            "Epoch  5: 100%|██████████| 2607/2607 [00:10<00:00, 259.47it/s, Train Loss=0.7831, Valid Loss=0.4099, Valid R2=0.0751, Valid MAE=0.4788]\n",
            "Epoch  6: 100%|██████████| 2607/2607 [00:10<00:00, 239.98it/s, Train Loss=0.6945, Valid Loss=0.3780, Valid R2=0.1470, Valid MAE=0.4727]\n",
            "Epoch  7: 100%|██████████| 2607/2607 [00:10<00:00, 257.26it/s, Train Loss=0.6455, Valid Loss=0.3759, Valid R2=0.1517, Valid MAE=0.4797]\n",
            "Epoch  8: 100%|██████████| 2607/2607 [00:11<00:00, 233.07it/s, Train Loss=0.6035, Valid Loss=0.3664, Valid R2=0.1732, Valid MAE=0.4884]\n",
            "Epoch  9: 100%|██████████| 2607/2607 [00:10<00:00, 237.87it/s, Train Loss=0.5700, Valid Loss=0.3751, Valid R2=0.1536, Valid MAE=0.4903]\n",
            "Epoch 10: 100%|██████████| 2607/2607 [00:11<00:00, 233.21it/s, Train Loss=0.5403, Valid Loss=0.3280, Valid R2=0.2598, Valid MAE=0.4730]\n",
            "Epoch 11: 100%|██████████| 2607/2607 [00:11<00:00, 232.55it/s, Train Loss=0.5207, Valid Loss=0.2176, Valid R2=0.5090, Valid MAE=0.3496]\n",
            "Epoch 12: 100%|██████████| 2607/2607 [00:11<00:00, 236.69it/s, Train Loss=0.4976, Valid Loss=0.2603, Valid R2=0.4127, Valid MAE=0.4042]\n",
            "Epoch 13: 100%|██████████| 2607/2607 [00:10<00:00, 243.05it/s, Train Loss=0.4827, Valid Loss=0.3499, Valid R2=0.2106, Valid MAE=0.4560]\n",
            "Epoch 14: 100%|██████████| 2607/2607 [00:11<00:00, 233.70it/s, Train Loss=0.4700, Valid Loss=0.3357, Valid R2=0.2426, Valid MAE=0.4586]\n",
            "Epoch 15: 100%|██████████| 2607/2607 [00:11<00:00, 234.50it/s, Train Loss=0.4541, Valid Loss=0.2696, Valid R2=0.3916, Valid MAE=0.4140]\n"
          ]
        },
        {
          "name": "stdout",
          "output_type": "stream",
          "text": [
            "Early Stopped\n",
            "Setting 104 of Parameters Grid is now on progres.\n"
          ]
        },
        {
          "name": "stderr",
          "output_type": "stream",
          "text": [
            "Epoch  0: 100%|██████████| 2607/2607 [00:11<00:00, 233.22it/s, Train Loss=4.9085, Valid Loss=0.4820, Valid R2=-0.0875, Valid MAE=0.5975]\n",
            "Epoch  1: 100%|██████████| 2607/2607 [00:11<00:00, 232.36it/s, Train Loss=1.6348, Valid Loss=0.3023, Valid R2=0.3179, Valid MAE=0.4308]\n",
            "Epoch  2: 100%|██████████| 2607/2607 [00:11<00:00, 233.50it/s, Train Loss=0.9650, Valid Loss=0.1741, Valid R2=0.6071, Valid MAE=0.3091]\n",
            "Epoch  3: 100%|██████████| 2607/2607 [00:10<00:00, 245.59it/s, Train Loss=0.7602, Valid Loss=0.1877, Valid R2=0.5766, Valid MAE=0.3241]\n",
            "Epoch  4: 100%|██████████| 2607/2607 [00:10<00:00, 240.87it/s, Train Loss=0.6807, Valid Loss=0.1554, Valid R2=0.6494, Valid MAE=0.2866]\n",
            "Epoch  5: 100%|██████████| 2607/2607 [00:11<00:00, 233.56it/s, Train Loss=0.6378, Valid Loss=0.1420, Valid R2=0.6795, Valid MAE=0.2798]\n",
            "Epoch  6: 100%|██████████| 2607/2607 [00:11<00:00, 231.89it/s, Train Loss=0.6027, Valid Loss=0.1617, Valid R2=0.6352, Valid MAE=0.2796]\n",
            "Epoch  7: 100%|██████████| 2607/2607 [00:11<00:00, 234.37it/s, Train Loss=0.5823, Valid Loss=0.1485, Valid R2=0.6648, Valid MAE=0.2877]\n",
            "Epoch  8: 100%|██████████| 2607/2607 [00:11<00:00, 232.86it/s, Train Loss=0.5646, Valid Loss=0.1406, Valid R2=0.6828, Valid MAE=0.2786]\n",
            "Epoch  9: 100%|██████████| 2607/2607 [00:11<00:00, 232.66it/s, Train Loss=0.5488, Valid Loss=0.1367, Valid R2=0.6915, Valid MAE=0.2860]\n",
            "Epoch 10: 100%|██████████| 2607/2607 [00:11<00:00, 233.66it/s, Train Loss=0.5378, Valid Loss=0.1225, Valid R2=0.7236, Valid MAE=0.2664]\n",
            "Epoch 11: 100%|██████████| 2607/2607 [00:11<00:00, 231.64it/s, Train Loss=0.5269, Valid Loss=0.1843, Valid R2=0.5841, Valid MAE=0.3269]\n",
            "Epoch 12: 100%|██████████| 2607/2607 [00:11<00:00, 232.43it/s, Train Loss=0.5151, Valid Loss=0.1723, Valid R2=0.6112, Valid MAE=0.3280]\n",
            "Epoch 13: 100%|██████████| 2607/2607 [00:11<00:00, 230.75it/s, Train Loss=0.5041, Valid Loss=0.1652, Valid R2=0.6273, Valid MAE=0.3194]\n",
            "Epoch 14: 100%|██████████| 2607/2607 [00:11<00:00, 232.61it/s, Train Loss=0.4901, Valid Loss=0.1584, Valid R2=0.6426, Valid MAE=0.3129]\n"
          ]
        },
        {
          "name": "stdout",
          "output_type": "stream",
          "text": [
            "Early Stopped\n",
            "Setting 105 of Parameters Grid is now on progres.\n"
          ]
        },
        {
          "name": "stderr",
          "output_type": "stream",
          "text": [
            "Epoch  0: 100%|██████████| 2607/2607 [00:11<00:00, 232.84it/s, Train Loss=5.6122, Valid Loss=0.5467, Valid R2=-0.2336, Valid MAE=0.5903]\n",
            "Epoch  1: 100%|██████████| 2607/2607 [00:11<00:00, 232.34it/s, Train Loss=2.3089, Valid Loss=0.3130, Valid R2=0.2937, Valid MAE=0.4271]\n",
            "Epoch  2: 100%|██████████| 2607/2607 [00:11<00:00, 232.68it/s, Train Loss=1.1850, Valid Loss=0.5459, Valid R2=-0.2317, Valid MAE=0.5483]\n",
            "Epoch  3: 100%|██████████| 2607/2607 [00:11<00:00, 234.13it/s, Train Loss=0.8162, Valid Loss=0.2931, Valid R2=0.3388, Valid MAE=0.4193]\n",
            "Epoch  4: 100%|██████████| 2607/2607 [00:11<00:00, 233.39it/s, Train Loss=0.6930, Valid Loss=0.3288, Valid R2=0.2581, Valid MAE=0.4407]\n",
            "Epoch  5: 100%|██████████| 2607/2607 [00:11<00:00, 234.97it/s, Train Loss=0.6461, Valid Loss=0.4527, Valid R2=-0.0215, Valid MAE=0.5304]\n",
            "Epoch  6: 100%|██████████| 2607/2607 [00:10<00:00, 242.75it/s, Train Loss=0.6170, Valid Loss=0.3931, Valid R2=0.1130, Valid MAE=0.5017]\n",
            "Epoch  7: 100%|██████████| 2607/2607 [00:10<00:00, 248.63it/s, Train Loss=0.5909, Valid Loss=0.3188, Valid R2=0.2806, Valid MAE=0.4539]\n"
          ]
        },
        {
          "name": "stdout",
          "output_type": "stream",
          "text": [
            "Early Stopped\n",
            "Setting 106 of Parameters Grid is now on progres.\n"
          ]
        },
        {
          "name": "stderr",
          "output_type": "stream",
          "text": [
            "Epoch  0: 100%|██████████| 2607/2607 [00:10<00:00, 247.77it/s, Train Loss=7.0772, Valid Loss=1.7382, Valid R2=-2.9222, Valid MAE=1.1926]\n",
            "Epoch  1: 100%|██████████| 2607/2607 [00:10<00:00, 239.32it/s, Train Loss=3.0030, Valid Loss=0.3823, Valid R2=0.1374, Valid MAE=0.5097]\n",
            "Epoch  2: 100%|██████████| 2607/2607 [00:10<00:00, 245.12it/s, Train Loss=1.2972, Valid Loss=0.2713, Valid R2=0.3878, Valid MAE=0.3691]\n",
            "Epoch  3: 100%|██████████| 2607/2607 [00:11<00:00, 232.23it/s, Train Loss=0.8994, Valid Loss=0.1723, Valid R2=0.6113, Valid MAE=0.2931]\n",
            "Epoch  4: 100%|██████████| 2607/2607 [00:11<00:00, 232.57it/s, Train Loss=0.7405, Valid Loss=0.1788, Valid R2=0.5965, Valid MAE=0.3085]\n",
            "Epoch  5: 100%|██████████| 2607/2607 [00:10<00:00, 249.13it/s, Train Loss=0.6770, Valid Loss=0.1533, Valid R2=0.6540, Valid MAE=0.2883]\n",
            "Epoch  6: 100%|██████████| 2607/2607 [00:11<00:00, 236.42it/s, Train Loss=0.6347, Valid Loss=0.1633, Valid R2=0.6315, Valid MAE=0.3095]\n",
            "Epoch  7: 100%|██████████| 2607/2607 [00:10<00:00, 248.26it/s, Train Loss=0.6035, Valid Loss=0.1597, Valid R2=0.6397, Valid MAE=0.2965]\n",
            "Epoch  8: 100%|██████████| 2607/2607 [00:10<00:00, 240.45it/s, Train Loss=0.5728, Valid Loss=0.3314, Valid R2=0.2522, Valid MAE=0.4483]\n",
            "Epoch  9: 100%|██████████| 2607/2607 [00:11<00:00, 236.98it/s, Train Loss=0.5502, Valid Loss=0.1876, Valid R2=0.5768, Valid MAE=0.3165]\n"
          ]
        },
        {
          "name": "stdout",
          "output_type": "stream",
          "text": [
            "Early Stopped\n",
            "Setting 107 of Parameters Grid is now on progres.\n"
          ]
        },
        {
          "name": "stderr",
          "output_type": "stream",
          "text": [
            "Epoch  0: 100%|██████████| 2607/2607 [00:10<00:00, 249.35it/s, Train Loss=6.6578, Valid Loss=1.4536, Valid R2=-2.2799, Valid MAE=1.0795]\n",
            "Epoch  1: 100%|██████████| 2607/2607 [00:10<00:00, 252.49it/s, Train Loss=3.2209, Valid Loss=0.2527, Valid R2=0.4299, Valid MAE=0.3979]\n",
            "Epoch  2: 100%|██████████| 2607/2607 [00:10<00:00, 244.63it/s, Train Loss=1.3403, Valid Loss=0.3351, Valid R2=0.2438, Valid MAE=0.4347]\n",
            "Epoch  3: 100%|██████████| 2607/2607 [00:10<00:00, 254.54it/s, Train Loss=0.8591, Valid Loss=0.4072, Valid R2=0.0812, Valid MAE=0.5160]\n",
            "Epoch  4: 100%|██████████| 2607/2607 [00:11<00:00, 233.85it/s, Train Loss=0.7126, Valid Loss=0.3285, Valid R2=0.2588, Valid MAE=0.4742]\n",
            "Epoch  5: 100%|██████████| 2607/2607 [00:11<00:00, 235.50it/s, Train Loss=0.6593, Valid Loss=0.3572, Valid R2=0.1940, Valid MAE=0.4861]\n"
          ]
        },
        {
          "name": "stdout",
          "output_type": "stream",
          "text": [
            "Early Stopped\n"
          ]
        }
      ],
      "source": [
        "grid_model = GridSearch(criterion, eval_metrics, device, temp_save_path='checkpoints/model_by_param/temp_model.pt', masked=False)\n",
        "best_model = grid_model.train_by_grid(\n",
        "        LSTNet, basic_params, param_grid,\n",
        "        torch.optim.Adam, train_loader, val_loader,\n",
        "        patience=3, epochs=20,\n",
        "        save_filename='checkpoints/LSTNet_best.pt'\n",
        "    )"
      ]
    },
    {
      "cell_type": "code",
      "execution_count": 10,
      "metadata": {},
      "outputs": [
        {
          "name": "stdout",
          "output_type": "stream",
          "text": [
            "Loss=0.0873, R2=0.8030, MAE=0.2278\n"
          ]
        }
      ],
      "source": [
        "best_model.eval()\n",
        "with torch.no_grad():\n",
        "    loss, r2, mae = validation(best_model, val_loader, criterion, eval_metrics, device)\n",
        "    print(f'Loss={loss:.4f}, R2={r2:.4f}, MAE={mae:.4f}')"
      ]
    },
    {
      "cell_type": "code",
      "execution_count": 8,
      "metadata": {},
      "outputs": [
        {
          "name": "stdout",
          "output_type": "stream",
          "text": [
            "Test Loss: 0.1415 | Test R2: 0.9232 | Test MAE: 0.3060\n"
          ]
        }
      ],
      "source": [
        "grid_model.test(test_loader)"
      ]
    },
    {
      "cell_type": "code",
      "execution_count": 9,
      "metadata": {},
      "outputs": [
        {
          "name": "stdout",
          "output_type": "stream",
          "text": [
            "Saving Process Complete. Directory: LSNet_losses.png\n"
          ]
        },
        {
          "data": {
            "image/png": "[encoded data removed]",
            "text/plain": [
              "<Figure size 700x500 with 1 Axes>"
            ]
          },
          "metadata": {},
          "output_type": "display_data"
        }
      ],
      "source": [
        "grid_model.plot_losses(plot_title='LSTNet', save_filename='LSNet_losses.png')"
      ]
    }
  ],
  "metadata": {
    "accelerator": "GPU",
    "colab": {
      "provenance": []
    },
    "kernelspec": {
      "display_name": "Python 3.9.13 ('kwon_dl')",
      "language": "python",
      "name": "python3"
    },
    "language_info": {
      "codemirror_mode": {
        "name": "ipython",
        "version": 3
      },
      "file_extension": ".py",
      "mimetype": "text/x-python",
      "name": "python",
      "nbconvert_exporter": "python",
      "pygments_lexer": "ipython3",
      "version": "3.9.13 (main, Aug 25 2022, 23:26:10) \n[GCC 11.2.0]"
    },
    "vscode": {
      "interpreter": {
        "hash": "7aba8400f5793028c76b760b8f218e34a1395ac8226b95289931317412384abc"
      }
    }
  },
  "nbformat": 4,
  "nbformat_minor": 0
}
