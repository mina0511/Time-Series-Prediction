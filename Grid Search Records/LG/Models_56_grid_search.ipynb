{
  "cells": [
    {
      "cell_type": "code",
      "execution_count": 1,
      "metadata": {
        "colab": {
          "base_uri": "https://localhost:8080/"
        },
        "id": "_5bOKo4qawlz",
        "outputId": "7b5c3117-3563-4ae2-ae23-5f31333709fe"
      },
      "outputs": [],
      "source": [
        "import pandas as pd\n",
        "import numpy as np\n",
        "import pickle\n",
        "\n",
        "from tqdm import tqdm\n",
        "\n",
        "from models import Model4, Model5, Model6\n",
        "from tools import Train, validation, GridSearch"
      ]
    },
    {
      "cell_type": "code",
      "execution_count": 2,
      "metadata": {
        "id": "Qwjr4b4Xjgmz"
      },
      "outputs": [],
      "source": [
        "import torch\n",
        "from torch import nn\n",
        "from torch.nn import functional as F\n",
        "from torch.utils.data import Dataset, DataLoader\n",
        "device = torch.device('cuda:0') if torch.cuda.is_available() else torch.device('cpu')\n",
        "\n",
        "from sklearn.metrics import r2_score, mean_absolute_error"
      ]
    },
    {
      "cell_type": "code",
      "execution_count": 3,
      "metadata": {
        "id": "9lI5sP74a3e0"
      },
      "outputs": [],
      "source": [
        "with open('data/train_dataset.pickle', 'rb') as f:\n",
        "    train_dataset = pickle.load(f)\n",
        "\n",
        "with open('data/val_dataset.pickle', 'rb') as f:\n",
        "    val_dataset = pickle.load(f)\n",
        "\n",
        "with open('data/test_dataset.pickle', 'rb') as f:\n",
        "    test_dataset = pickle.load(f)"
      ]
    },
    {
      "cell_type": "code",
      "execution_count": 4,
      "metadata": {
        "colab": {
          "base_uri": "https://localhost:8080/"
        },
        "id": "WDjR30F6kMgI",
        "outputId": "4368b402-852a-48f5-f857-0027652296e8"
      },
      "outputs": [],
      "source": [
        "train_loader = DataLoader(train_dataset, batch_size = 16, shuffle = True)\n",
        "val_loader = DataLoader(val_dataset, batch_size = 64, shuffle = False)\n",
        "test_loader = DataLoader(test_dataset, batch_size=64, shuffle=False)"
      ]
    },
    {
      "cell_type": "code",
      "execution_count": 5,
      "metadata": {},
      "outputs": [],
      "source": [
        "criterion = nn.MSELoss()\n",
        "eval_metrics = [\n",
        "    r2_score,\n",
        "    mean_absolute_error\n",
        "]"
      ]
    },
    {
      "attachments": {},
      "cell_type": "markdown",
      "metadata": {},
      "source": [
        "# Model 4"
      ]
    },
    {
      "cell_type": "code",
      "execution_count": 6,
      "metadata": {},
      "outputs": [
        {
          "name": "stdout",
          "output_type": "stream",
          "text": [
            "Total   8 cases are going to be searched.\n",
            "Setting   0 of Parameters Grid is now on progres.\n"
          ]
        },
        {
          "name": "stderr",
          "output_type": "stream",
          "text": [
            "Epoch  0: 100%|██████████| 2607/2607 [02:37<00:00, 16.56it/s, Train Loss=2.3179, Valid Loss=0.5339, Valid R2=-0.2046, Valid MAE=0.5638]\n",
            "Epoch  1: 100%|██████████| 2607/2607 [02:35<00:00, 16.79it/s, Train Loss=0.7734, Valid Loss=0.4531, Valid R2=-0.0223, Valid MAE=0.5281]\n",
            "Epoch  2: 100%|██████████| 2607/2607 [02:35<00:00, 16.72it/s, Train Loss=0.7047, Valid Loss=0.2633, Valid R2=0.4060, Valid MAE=0.4050]\n",
            "Epoch  3: 100%|██████████| 2607/2607 [02:36<00:00, 16.69it/s, Train Loss=0.6705, Valid Loss=0.2360, Valid R2=0.4675, Valid MAE=0.3872]\n",
            "Epoch  4: 100%|██████████| 2607/2607 [02:36<00:00, 16.64it/s, Train Loss=0.6500, Valid Loss=0.2089, Valid R2=0.5286, Valid MAE=0.3662]\n",
            "Epoch  5: 100%|██████████| 2607/2607 [02:37<00:00, 16.57it/s, Train Loss=0.6315, Valid Loss=0.1948, Valid R2=0.5606, Valid MAE=0.3510]\n",
            "Epoch  6: 100%|██████████| 2607/2607 [02:35<00:00, 16.74it/s, Train Loss=0.6206, Valid Loss=0.2130, Valid R2=0.5193, Valid MAE=0.3721]\n",
            "Epoch  7: 100%|██████████| 2607/2607 [02:35<00:00, 16.71it/s, Train Loss=0.6102, Valid Loss=0.2580, Valid R2=0.4178, Valid MAE=0.4036]\n",
            "Epoch  8: 100%|██████████| 2607/2607 [02:34<00:00, 16.88it/s, Train Loss=0.6040, Valid Loss=0.2158, Valid R2=0.5130, Valid MAE=0.3744]\n",
            "Epoch  9: 100%|██████████| 2607/2607 [02:35<00:00, 16.74it/s, Train Loss=0.5919, Valid Loss=0.2244, Valid R2=0.4936, Valid MAE=0.3787]\n"
          ]
        },
        {
          "name": "stdout",
          "output_type": "stream",
          "text": [
            "Early Stopped\n",
            "Setting   1 of Parameters Grid is now on progres.\n"
          ]
        },
        {
          "name": "stderr",
          "output_type": "stream",
          "text": [
            "Epoch  0: 100%|██████████| 2607/2607 [02:36<00:00, 16.66it/s, Train Loss=2.1673, Valid Loss=0.3288, Valid R2=0.2581, Valid MAE=0.4414]\n",
            "Epoch  1: 100%|██████████| 2607/2607 [02:34<00:00, 16.83it/s, Train Loss=0.7327, Valid Loss=0.2107, Valid R2=0.5245, Valid MAE=0.3630]\n",
            "Epoch  2: 100%|██████████| 2607/2607 [02:35<00:00, 16.77it/s, Train Loss=0.6848, Valid Loss=0.2191, Valid R2=0.5057, Valid MAE=0.3773]\n",
            "Epoch  3: 100%|██████████| 2607/2607 [02:34<00:00, 16.87it/s, Train Loss=0.6604, Valid Loss=0.2072, Valid R2=0.5324, Valid MAE=0.3733]\n",
            "Epoch  4: 100%|██████████| 2607/2607 [02:34<00:00, 16.92it/s, Train Loss=0.6452, Valid Loss=0.1838, Valid R2=0.5852, Valid MAE=0.3475]\n",
            "Epoch  5: 100%|██████████| 2607/2607 [02:34<00:00, 16.83it/s, Train Loss=0.6312, Valid Loss=0.1889, Valid R2=0.5737, Valid MAE=0.3543]\n",
            "Epoch  6: 100%|██████████| 2607/2607 [02:34<00:00, 16.83it/s, Train Loss=0.6221, Valid Loss=0.1973, Valid R2=0.5547, Valid MAE=0.3546]\n",
            "Epoch  7: 100%|██████████| 2607/2607 [02:35<00:00, 16.77it/s, Train Loss=0.6162, Valid Loss=0.1818, Valid R2=0.5897, Valid MAE=0.3523]\n",
            "Epoch  8: 100%|██████████| 2607/2607 [02:37<00:00, 16.52it/s, Train Loss=0.6084, Valid Loss=0.1895, Valid R2=0.5725, Valid MAE=0.3623]\n",
            "Epoch  9: 100%|██████████| 2607/2607 [02:35<00:00, 16.73it/s, Train Loss=0.6051, Valid Loss=0.1892, Valid R2=0.5730, Valid MAE=0.3637]\n",
            "Epoch 10: 100%|██████████| 2607/2607 [02:35<00:00, 16.73it/s, Train Loss=0.5967, Valid Loss=0.2128, Valid R2=0.5198, Valid MAE=0.3886]\n",
            "Epoch 11: 100%|██████████| 2607/2607 [02:34<00:00, 16.85it/s, Train Loss=0.5919, Valid Loss=0.2289, Valid R2=0.4834, Valid MAE=0.4001]\n"
          ]
        },
        {
          "name": "stdout",
          "output_type": "stream",
          "text": [
            "Early Stopped\n",
            "Setting   2 of Parameters Grid is now on progres.\n"
          ]
        },
        {
          "name": "stderr",
          "output_type": "stream",
          "text": [
            "Epoch  0: 100%|██████████| 2607/2607 [02:35<00:00, 16.75it/s, Train Loss=2.2021, Valid Loss=0.4205, Valid R2=0.0511, Valid MAE=0.5056]\n",
            "Epoch  1: 100%|██████████| 2607/2607 [02:35<00:00, 16.81it/s, Train Loss=0.7520, Valid Loss=0.2082, Valid R2=0.5302, Valid MAE=0.3607]\n",
            "Epoch  2: 100%|██████████| 2607/2607 [02:36<00:00, 16.71it/s, Train Loss=0.6833, Valid Loss=0.1893, Valid R2=0.5729, Valid MAE=0.3462]\n",
            "Epoch  3: 100%|██████████| 2607/2607 [02:35<00:00, 16.74it/s, Train Loss=0.6509, Valid Loss=0.1645, Valid R2=0.6288, Valid MAE=0.3186]\n",
            "Epoch  4: 100%|██████████| 2607/2607 [02:34<00:00, 16.92it/s, Train Loss=0.6293, Valid Loss=0.1921, Valid R2=0.5665, Valid MAE=0.3534]\n",
            "Epoch  5: 100%|██████████| 2607/2607 [02:34<00:00, 16.86it/s, Train Loss=0.6174, Valid Loss=0.1765, Valid R2=0.6019, Valid MAE=0.3380]\n",
            "Epoch  6: 100%|██████████| 2607/2607 [02:34<00:00, 16.86it/s, Train Loss=0.6071, Valid Loss=0.1816, Valid R2=0.5902, Valid MAE=0.3442]\n",
            "Epoch  7: 100%|██████████| 2607/2607 [02:33<00:00, 16.97it/s, Train Loss=0.6055, Valid Loss=0.2302, Valid R2=0.4806, Valid MAE=0.3946]\n"
          ]
        },
        {
          "name": "stdout",
          "output_type": "stream",
          "text": [
            "Early Stopped\n",
            "Setting   3 of Parameters Grid is now on progres.\n"
          ]
        },
        {
          "name": "stderr",
          "output_type": "stream",
          "text": [
            "Epoch  0: 100%|██████████| 2607/2607 [02:33<00:00, 17.01it/s, Train Loss=2.3204, Valid Loss=0.4321, Valid R2=0.0251, Valid MAE=0.5201]\n",
            "Epoch  1: 100%|██████████| 2607/2607 [02:34<00:00, 16.85it/s, Train Loss=0.7627, Valid Loss=0.2972, Valid R2=0.3294, Valid MAE=0.4345]\n",
            "Epoch  2: 100%|██████████| 2607/2607 [02:34<00:00, 16.87it/s, Train Loss=0.7020, Valid Loss=0.2474, Valid R2=0.4417, Valid MAE=0.4017]\n",
            "Epoch  3: 100%|██████████| 2607/2607 [02:35<00:00, 16.80it/s, Train Loss=0.6696, Valid Loss=0.1952, Valid R2=0.5595, Valid MAE=0.3566]\n",
            "Epoch  4: 100%|██████████| 2607/2607 [02:35<00:00, 16.74it/s, Train Loss=0.6448, Valid Loss=0.2334, Valid R2=0.4733, Valid MAE=0.3898]\n",
            "Epoch  5: 100%|██████████| 2607/2607 [02:34<00:00, 16.84it/s, Train Loss=0.6328, Valid Loss=0.1854, Valid R2=0.5817, Valid MAE=0.3488]\n",
            "Epoch  6: 100%|██████████| 2607/2607 [02:35<00:00, 16.82it/s, Train Loss=0.6206, Valid Loss=0.1726, Valid R2=0.6106, Valid MAE=0.3345]\n",
            "Epoch  7: 100%|██████████| 2607/2607 [02:34<00:00, 16.93it/s, Train Loss=0.6134, Valid Loss=0.1812, Valid R2=0.5912, Valid MAE=0.3451]\n",
            "Epoch  8: 100%|██████████| 2607/2607 [02:35<00:00, 16.76it/s, Train Loss=0.6052, Valid Loss=0.1670, Valid R2=0.6232, Valid MAE=0.3305]\n",
            "Epoch  9: 100%|██████████| 2607/2607 [02:35<00:00, 16.74it/s, Train Loss=0.5991, Valid Loss=0.2008, Valid R2=0.5470, Valid MAE=0.3655]\n",
            "Epoch 10: 100%|██████████| 2607/2607 [02:34<00:00, 16.92it/s, Train Loss=0.5914, Valid Loss=0.1805, Valid R2=0.5926, Valid MAE=0.3453]\n",
            "Epoch 11: 100%|██████████| 2607/2607 [02:36<00:00, 16.69it/s, Train Loss=0.5829, Valid Loss=0.1906, Valid R2=0.5699, Valid MAE=0.3520]\n",
            "Epoch 12: 100%|██████████| 2607/2607 [02:35<00:00, 16.72it/s, Train Loss=0.5753, Valid Loss=0.2027, Valid R2=0.5427, Valid MAE=0.3671]\n"
          ]
        },
        {
          "name": "stdout",
          "output_type": "stream",
          "text": [
            "Early Stopped\n",
            "Setting   4 of Parameters Grid is now on progres.\n"
          ]
        },
        {
          "name": "stderr",
          "output_type": "stream",
          "text": [
            "Epoch  0: 100%|██████████| 2607/2607 [02:34<00:00, 16.88it/s, Train Loss=2.0278, Valid Loss=0.3608, Valid R2=0.1860, Valid MAE=0.4742]\n",
            "Epoch  1: 100%|██████████| 2607/2607 [02:37<00:00, 16.59it/s, Train Loss=0.7411, Valid Loss=0.3448, Valid R2=0.2219, Valid MAE=0.4701]\n",
            "Epoch  2: 100%|██████████| 2607/2607 [02:34<00:00, 16.92it/s, Train Loss=0.6906, Valid Loss=0.2740, Valid R2=0.3817, Valid MAE=0.4243]\n",
            "Epoch  3: 100%|██████████| 2607/2607 [02:34<00:00, 16.82it/s, Train Loss=0.6678, Valid Loss=0.2390, Valid R2=0.4607, Valid MAE=0.3962]\n",
            "Epoch  4: 100%|██████████| 2607/2607 [02:35<00:00, 16.78it/s, Train Loss=0.6494, Valid Loss=0.2777, Valid R2=0.3734, Valid MAE=0.4258]\n",
            "Epoch  5: 100%|██████████| 2607/2607 [02:34<00:00, 16.86it/s, Train Loss=0.6349, Valid Loss=0.2769, Valid R2=0.3752, Valid MAE=0.4319]\n",
            "Epoch  6: 100%|██████████| 2607/2607 [02:35<00:00, 16.74it/s, Train Loss=0.6250, Valid Loss=0.2317, Valid R2=0.4773, Valid MAE=0.3971]\n",
            "Epoch  7: 100%|██████████| 2607/2607 [02:35<00:00, 16.74it/s, Train Loss=0.6159, Valid Loss=0.3088, Valid R2=0.3032, Valid MAE=0.4485]\n",
            "Epoch  8: 100%|██████████| 2607/2607 [02:36<00:00, 16.67it/s, Train Loss=0.6104, Valid Loss=0.2016, Valid R2=0.5451, Valid MAE=0.3680]\n",
            "Epoch  9: 100%|██████████| 2607/2607 [02:36<00:00, 16.64it/s, Train Loss=0.6063, Valid Loss=0.1971, Valid R2=0.5552, Valid MAE=0.3571]\n",
            "Epoch 10: 100%|██████████| 2607/2607 [02:36<00:00, 16.62it/s, Train Loss=0.6015, Valid Loss=0.2268, Valid R2=0.4882, Valid MAE=0.3822]\n",
            "Epoch 11: 100%|██████████| 2607/2607 [02:37<00:00, 16.58it/s, Train Loss=0.5950, Valid Loss=0.2183, Valid R2=0.5075, Valid MAE=0.3776]\n",
            "Epoch 12: 100%|██████████| 2607/2607 [02:37<00:00, 16.60it/s, Train Loss=0.5933, Valid Loss=0.2462, Valid R2=0.4445, Valid MAE=0.4031]\n",
            "Epoch 13: 100%|██████████| 2607/2607 [02:37<00:00, 16.53it/s, Train Loss=0.5870, Valid Loss=0.2139, Valid R2=0.5173, Valid MAE=0.3770]\n"
          ]
        },
        {
          "name": "stdout",
          "output_type": "stream",
          "text": [
            "Early Stopped\n",
            "Setting   5 of Parameters Grid is now on progres.\n"
          ]
        },
        {
          "name": "stderr",
          "output_type": "stream",
          "text": [
            "Epoch  0: 100%|██████████| 2607/2607 [02:36<00:00, 16.62it/s, Train Loss=2.0005, Valid Loss=0.3715, Valid R2=0.1616, Valid MAE=0.4824]\n",
            "Epoch  1: 100%|██████████| 2607/2607 [02:37<00:00, 16.54it/s, Train Loss=0.7457, Valid Loss=0.2467, Valid R2=0.4433, Valid MAE=0.4036]\n",
            "Epoch  2: 100%|██████████| 2607/2607 [02:36<00:00, 16.66it/s, Train Loss=0.6861, Valid Loss=0.2131, Valid R2=0.5191, Valid MAE=0.3784]\n",
            "Epoch  3: 100%|██████████| 2607/2607 [02:34<00:00, 16.86it/s, Train Loss=0.6578, Valid Loss=0.1936, Valid R2=0.5632, Valid MAE=0.3623]\n",
            "Epoch  4: 100%|██████████| 2607/2607 [02:35<00:00, 16.76it/s, Train Loss=0.6414, Valid Loss=0.1698, Valid R2=0.6169, Valid MAE=0.3340]\n",
            "Epoch  5: 100%|██████████| 2607/2607 [02:35<00:00, 16.80it/s, Train Loss=0.6302, Valid Loss=0.1716, Valid R2=0.6128, Valid MAE=0.3387]\n",
            "Epoch  6: 100%|██████████| 2607/2607 [02:37<00:00, 16.54it/s, Train Loss=0.6203, Valid Loss=0.2428, Valid R2=0.4522, Valid MAE=0.4105]\n",
            "Epoch  7: 100%|██████████| 2607/2607 [02:37<00:00, 16.59it/s, Train Loss=0.6145, Valid Loss=0.1381, Valid R2=0.6883, Valid MAE=0.3007]\n",
            "Epoch  8: 100%|██████████| 2607/2607 [02:36<00:00, 16.71it/s, Train Loss=0.6084, Valid Loss=0.1637, Valid R2=0.6306, Valid MAE=0.3333]\n",
            "Epoch  9: 100%|██████████| 2607/2607 [02:36<00:00, 16.66it/s, Train Loss=0.6033, Valid Loss=0.1918, Valid R2=0.5673, Valid MAE=0.3555]\n",
            "Epoch 10: 100%|██████████| 2607/2607 [02:36<00:00, 16.62it/s, Train Loss=0.5959, Valid Loss=0.1785, Valid R2=0.5971, Valid MAE=0.3416]\n",
            "Epoch 11: 100%|██████████| 2607/2607 [02:36<00:00, 16.71it/s, Train Loss=0.5888, Valid Loss=0.1683, Valid R2=0.6204, Valid MAE=0.3290]\n"
          ]
        },
        {
          "name": "stdout",
          "output_type": "stream",
          "text": [
            "Early Stopped\n",
            "Setting   6 of Parameters Grid is now on progres.\n"
          ]
        },
        {
          "name": "stderr",
          "output_type": "stream",
          "text": [
            "Epoch  0: 100%|██████████| 2607/2607 [02:35<00:00, 16.76it/s, Train Loss=2.0779, Valid Loss=0.3336, Valid R2=0.2472, Valid MAE=0.4683]\n",
            "Epoch  1: 100%|██████████| 2607/2607 [02:36<00:00, 16.66it/s, Train Loss=0.7227, Valid Loss=0.2138, Valid R2=0.5175, Valid MAE=0.3789]\n",
            "Epoch  2: 100%|██████████| 2607/2607 [02:35<00:00, 16.75it/s, Train Loss=0.6972, Valid Loss=0.1988, Valid R2=0.5514, Valid MAE=0.3594]\n",
            "Epoch  3: 100%|██████████| 2607/2607 [02:37<00:00, 16.55it/s, Train Loss=0.6540, Valid Loss=0.1863, Valid R2=0.5796, Valid MAE=0.3474]\n",
            "Epoch  4: 100%|██████████| 2607/2607 [02:36<00:00, 16.70it/s, Train Loss=0.6321, Valid Loss=0.1804, Valid R2=0.5929, Valid MAE=0.3338]\n",
            "Epoch  5: 100%|██████████| 2607/2607 [02:36<00:00, 16.70it/s, Train Loss=0.6183, Valid Loss=0.1654, Valid R2=0.6269, Valid MAE=0.3233]\n",
            "Epoch  6: 100%|██████████| 2607/2607 [02:35<00:00, 16.75it/s, Train Loss=0.6089, Valid Loss=0.1660, Valid R2=0.6254, Valid MAE=0.3281]\n",
            "Epoch  7: 100%|██████████| 2607/2607 [02:36<00:00, 16.68it/s, Train Loss=0.6004, Valid Loss=0.1793, Valid R2=0.5954, Valid MAE=0.3363]\n",
            "Epoch  8: 100%|██████████| 2607/2607 [02:35<00:00, 16.76it/s, Train Loss=0.5860, Valid Loss=0.2117, Valid R2=0.5223, Valid MAE=0.3763]\n",
            "Epoch  9: 100%|██████████| 2607/2607 [02:35<00:00, 16.77it/s, Train Loss=0.5743, Valid Loss=0.1482, Valid R2=0.6657, Valid MAE=0.2981]\n",
            "Epoch 10: 100%|██████████| 2607/2607 [02:38<00:00, 16.47it/s, Train Loss=0.5582, Valid Loss=0.2060, Valid R2=0.5352, Valid MAE=0.3436]\n",
            "Epoch 11: 100%|██████████| 2607/2607 [02:38<00:00, 16.49it/s, Train Loss=0.5364, Valid Loss=0.2298, Valid R2=0.4814, Valid MAE=0.3789]\n",
            "Epoch 12: 100%|██████████| 2607/2607 [02:36<00:00, 16.70it/s, Train Loss=0.5150, Valid Loss=0.1980, Valid R2=0.5533, Valid MAE=0.3297]\n",
            "Epoch 13: 100%|██████████| 2607/2607 [02:36<00:00, 16.69it/s, Train Loss=0.4999, Valid Loss=0.2695, Valid R2=0.3918, Valid MAE=0.3729]\n"
          ]
        },
        {
          "name": "stdout",
          "output_type": "stream",
          "text": [
            "Early Stopped\n",
            "Setting   7 of Parameters Grid is now on progres.\n"
          ]
        },
        {
          "name": "stderr",
          "output_type": "stream",
          "text": [
            "Epoch  0: 100%|██████████| 2607/2607 [02:36<00:00, 16.64it/s, Train Loss=2.0181, Valid Loss=0.3236, Valid R2=0.2699, Valid MAE=0.4448]\n",
            "Epoch  1: 100%|██████████| 2607/2607 [02:35<00:00, 16.77it/s, Train Loss=0.7207, Valid Loss=0.2181, Valid R2=0.5079, Valid MAE=0.3732]\n",
            "Epoch  2: 100%|██████████| 2607/2607 [02:35<00:00, 16.74it/s, Train Loss=0.6693, Valid Loss=0.1809, Valid R2=0.5918, Valid MAE=0.3415]\n",
            "Epoch  3: 100%|██████████| 2607/2607 [02:36<00:00, 16.61it/s, Train Loss=0.6422, Valid Loss=0.1486, Valid R2=0.6648, Valid MAE=0.3048]\n",
            "Epoch  4: 100%|██████████| 2607/2607 [02:36<00:00, 16.71it/s, Train Loss=0.6251, Valid Loss=0.1532, Valid R2=0.6542, Valid MAE=0.3120]\n",
            "Epoch  5: 100%|██████████| 2607/2607 [02:36<00:00, 16.67it/s, Train Loss=0.6164, Valid Loss=0.1391, Valid R2=0.6861, Valid MAE=0.2916]\n",
            "Epoch  6: 100%|██████████| 2607/2607 [02:36<00:00, 16.66it/s, Train Loss=0.6030, Valid Loss=0.1401, Valid R2=0.6839, Valid MAE=0.2931]\n",
            "Epoch  7: 100%|██████████| 2607/2607 [02:36<00:00, 16.65it/s, Train Loss=0.5942, Valid Loss=0.1585, Valid R2=0.6423, Valid MAE=0.3116]\n",
            "Epoch  8: 100%|██████████| 2607/2607 [02:37<00:00, 16.58it/s, Train Loss=0.5779, Valid Loss=0.2066, Valid R2=0.5339, Valid MAE=0.3283]\n",
            "Epoch  9: 100%|██████████| 2607/2607 [02:36<00:00, 16.67it/s, Train Loss=0.5569, Valid Loss=0.1801, Valid R2=0.5936, Valid MAE=0.3095]"
          ]
        },
        {
          "name": "stdout",
          "output_type": "stream",
          "text": [
            "Early Stopped\n"
          ]
        },
        {
          "name": "stderr",
          "output_type": "stream",
          "text": [
            "\n"
          ]
        }
      ],
      "source": [
        "basic_params = {\n",
        "    'T': 60,\n",
        "    'n': 40\n",
        "}\n",
        "\n",
        "param_grid = {\n",
        "    'm': [32, 40],\n",
        "    'skip_hidden_size': [32, 40],\n",
        "    'skip': [8, 10]\n",
        "}\n",
        "\n",
        "grid_model4 = GridSearch(criterion, eval_metrics, device, temp_save_path='checkpoints/model_by_param/temp_model.pt', masked=False)\n",
        "model_name = 'model4'\n",
        "best_model4 = grid_model4.train_by_grid(\n",
        "        Model4, basic_params, param_grid,\n",
        "        torch.optim.Adam, train_loader, val_loader,\n",
        "        patience=3, epochs=20,\n",
        "        save_filename=f'checkpoints/{model_name}_best.pt'\n",
        "    )"
      ]
    },
    {
      "cell_type": "code",
      "execution_count": 7,
      "metadata": {},
      "outputs": [
        {
          "name": "stdout",
          "output_type": "stream",
          "text": [
            "Test Loss: 0.1488 | Test R2: 0.9192 | Test MAE: 0.3098\n",
            "Saving Process Complete. Directory: model4_losses.png\n"
          ]
        },
        {
          "data": {
            "image/png": "[encoded data removed]",
            "text/plain": [
              "<Figure size 700x500 with 1 Axes>"
            ]
          },
          "metadata": {},
          "output_type": "display_data"
        }
      ],
      "source": [
        "grid_model4.test(test_loader)\n",
        "grid_model4.plot_losses(plot_title=f'{model_name}', save_filename=f'{model_name}_losses.png')"
      ]
    },
    {
      "attachments": {},
      "cell_type": "markdown",
      "metadata": {},
      "source": [
        "# Model 5"
      ]
    },
    {
      "cell_type": "code",
      "execution_count": 8,
      "metadata": {},
      "outputs": [
        {
          "name": "stdout",
          "output_type": "stream",
          "text": [
            "Total  32 cases are going to be searched.\n",
            "Setting   0 of Parameters Grid is now on progres.\n"
          ]
        },
        {
          "name": "stderr",
          "output_type": "stream",
          "text": [
            "Epoch  0: 100%|██████████| 2607/2607 [01:32<00:00, 28.19it/s, Train Loss=1.1943, Valid Loss=0.4255, Valid R2=0.0399, Valid MAE=0.5116]\n",
            "Epoch  1: 100%|██████████| 2607/2607 [01:30<00:00, 28.70it/s, Train Loss=0.9432, Valid Loss=0.2536, Valid R2=0.4277, Valid MAE=0.3949]\n",
            "Epoch  2: 100%|██████████| 2607/2607 [01:31<00:00, 28.63it/s, Train Loss=0.8968, Valid Loss=0.2724, Valid R2=0.3855, Valid MAE=0.4173]\n",
            "Epoch  3: 100%|██████████| 2607/2607 [01:31<00:00, 28.52it/s, Train Loss=0.8703, Valid Loss=0.3156, Valid R2=0.2879, Valid MAE=0.4560]\n",
            "Epoch  4: 100%|██████████| 2607/2607 [01:31<00:00, 28.59it/s, Train Loss=0.8407, Valid Loss=0.1566, Valid R2=0.6466, Valid MAE=0.3256]\n",
            "Epoch  5: 100%|██████████| 2607/2607 [01:31<00:00, 28.38it/s, Train Loss=0.8250, Valid Loss=0.1883, Valid R2=0.5750, Valid MAE=0.3664]\n",
            "Epoch  6: 100%|██████████| 2607/2607 [01:31<00:00, 28.55it/s, Train Loss=0.8033, Valid Loss=0.1987, Valid R2=0.5516, Valid MAE=0.3675]\n",
            "Epoch  7: 100%|██████████| 2607/2607 [01:32<00:00, 28.26it/s, Train Loss=0.7760, Valid Loss=0.1668, Valid R2=0.6236, Valid MAE=0.3222]\n",
            "Epoch  8: 100%|██████████| 2607/2607 [01:32<00:00, 28.30it/s, Train Loss=0.7596, Valid Loss=0.1892, Valid R2=0.5732, Valid MAE=0.3467]\n"
          ]
        },
        {
          "name": "stdout",
          "output_type": "stream",
          "text": [
            "Early Stopped\n",
            "Setting   1 of Parameters Grid is now on progres.\n"
          ]
        },
        {
          "name": "stderr",
          "output_type": "stream",
          "text": [
            "Epoch  0: 100%|██████████| 2607/2607 [01:30<00:00, 28.65it/s, Train Loss=1.2994, Valid Loss=0.6741, Valid R2=-0.5210, Valid MAE=0.6784]\n",
            "Epoch  1: 100%|██████████| 2607/2607 [01:30<00:00, 28.81it/s, Train Loss=1.0406, Valid Loss=0.1990, Valid R2=0.5510, Valid MAE=0.3658]\n",
            "Epoch  2: 100%|██████████| 2607/2607 [01:29<00:00, 29.00it/s, Train Loss=0.9979, Valid Loss=0.1827, Valid R2=0.5877, Valid MAE=0.3517]\n",
            "Epoch  3: 100%|██████████| 2607/2607 [01:31<00:00, 28.43it/s, Train Loss=0.9594, Valid Loss=0.1871, Valid R2=0.5778, Valid MAE=0.3679]\n",
            "Epoch  4: 100%|██████████| 2607/2607 [01:31<00:00, 28.62it/s, Train Loss=0.9357, Valid Loss=0.2184, Valid R2=0.5073, Valid MAE=0.3879]\n",
            "Epoch  5: 100%|██████████| 2607/2607 [01:31<00:00, 28.43it/s, Train Loss=0.9094, Valid Loss=0.1765, Valid R2=0.6018, Valid MAE=0.3584]\n",
            "Epoch  6: 100%|██████████| 2607/2607 [01:30<00:00, 28.85it/s, Train Loss=0.8779, Valid Loss=0.2488, Valid R2=0.4385, Valid MAE=0.4272]\n",
            "Epoch  7: 100%|██████████| 2607/2607 [01:32<00:00, 28.28it/s, Train Loss=0.8579, Valid Loss=0.1705, Valid R2=0.6153, Valid MAE=0.3441]\n",
            "Epoch  8: 100%|██████████| 2607/2607 [01:31<00:00, 28.64it/s, Train Loss=0.8254, Valid Loss=0.2139, Valid R2=0.5174, Valid MAE=0.3827]\n",
            "Epoch  9: 100%|██████████| 2607/2607 [01:30<00:00, 28.69it/s, Train Loss=0.8094, Valid Loss=0.1666, Valid R2=0.6241, Valid MAE=0.3264]\n",
            "Epoch 10: 100%|██████████| 2607/2607 [01:31<00:00, 28.61it/s, Train Loss=0.7650, Valid Loss=0.1947, Valid R2=0.5607, Valid MAE=0.3638]\n",
            "Epoch 11: 100%|██████████| 2607/2607 [01:29<00:00, 29.22it/s, Train Loss=0.7631, Valid Loss=0.1788, Valid R2=0.5966, Valid MAE=0.3503]\n",
            "Epoch 12: 100%|██████████| 2607/2607 [01:31<00:00, 28.52it/s, Train Loss=0.7269, Valid Loss=0.3216, Valid R2=0.2742, Valid MAE=0.4472]\n",
            "Epoch 13: 100%|██████████| 2607/2607 [01:31<00:00, 28.52it/s, Train Loss=0.6849, Valid Loss=0.2631, Valid R2=0.4064, Valid MAE=0.3948]\n"
          ]
        },
        {
          "name": "stdout",
          "output_type": "stream",
          "text": [
            "Early Stopped\n",
            "Setting   2 of Parameters Grid is now on progres.\n"
          ]
        },
        {
          "name": "stderr",
          "output_type": "stream",
          "text": [
            "Epoch  0: 100%|██████████| 2607/2607 [01:32<00:00, 28.31it/s, Train Loss=1.3058, Valid Loss=0.2222, Valid R2=0.4987, Valid MAE=0.3765]\n",
            "Epoch  1: 100%|██████████| 2607/2607 [01:31<00:00, 28.36it/s, Train Loss=1.0056, Valid Loss=0.2008, Valid R2=0.5469, Valid MAE=0.3559]\n",
            "Epoch  2: 100%|██████████| 2607/2607 [01:31<00:00, 28.50it/s, Train Loss=0.9528, Valid Loss=0.1722, Valid R2=0.6114, Valid MAE=0.3331]\n",
            "Epoch  3: 100%|██████████| 2607/2607 [01:30<00:00, 28.75it/s, Train Loss=0.9238, Valid Loss=0.1829, Valid R2=0.5872, Valid MAE=0.3497]\n",
            "Epoch  4: 100%|██████████| 2607/2607 [01:31<00:00, 28.51it/s, Train Loss=0.9032, Valid Loss=0.2398, Valid R2=0.4589, Valid MAE=0.3969]\n",
            "Epoch  5: 100%|██████████| 2607/2607 [01:31<00:00, 28.53it/s, Train Loss=0.8842, Valid Loss=0.1530, Valid R2=0.6547, Valid MAE=0.3085]\n",
            "Epoch  6: 100%|██████████| 2607/2607 [01:29<00:00, 29.00it/s, Train Loss=0.8537, Valid Loss=0.1972, Valid R2=0.5551, Valid MAE=0.3650]\n",
            "Epoch  7: 100%|██████████| 2607/2607 [01:31<00:00, 28.48it/s, Train Loss=0.8359, Valid Loss=0.1747, Valid R2=0.6058, Valid MAE=0.3331]\n",
            "Epoch  8: 100%|██████████| 2607/2607 [01:30<00:00, 28.85it/s, Train Loss=0.8138, Valid Loss=0.2023, Valid R2=0.5435, Valid MAE=0.3628]\n",
            "Epoch  9: 100%|██████████| 2607/2607 [01:28<00:00, 29.34it/s, Train Loss=0.9066, Valid Loss=0.2413, Valid R2=0.4556, Valid MAE=0.3910]\n"
          ]
        },
        {
          "name": "stdout",
          "output_type": "stream",
          "text": [
            "Early Stopped\n",
            "Setting   3 of Parameters Grid is now on progres.\n"
          ]
        },
        {
          "name": "stderr",
          "output_type": "stream",
          "text": [
            "Epoch  0: 100%|██████████| 2607/2607 [01:29<00:00, 28.98it/s, Train Loss=1.1575, Valid Loss=0.2161, Valid R2=0.5124, Valid MAE=0.3790]\n",
            "Epoch  1: 100%|██████████| 2607/2607 [01:31<00:00, 28.60it/s, Train Loss=0.9224, Valid Loss=0.1987, Valid R2=0.5517, Valid MAE=0.3584]\n",
            "Epoch  2: 100%|██████████| 2607/2607 [01:30<00:00, 28.89it/s, Train Loss=0.8805, Valid Loss=0.3330, Valid R2=0.2487, Valid MAE=0.4652]\n",
            "Epoch  3: 100%|██████████| 2607/2607 [01:30<00:00, 28.90it/s, Train Loss=0.8433, Valid Loss=0.2698, Valid R2=0.3913, Valid MAE=0.4171]\n",
            "Epoch  4: 100%|██████████| 2607/2607 [01:31<00:00, 28.41it/s, Train Loss=0.8122, Valid Loss=0.2700, Valid R2=0.3909, Valid MAE=0.4161]\n",
            "Epoch  5: 100%|██████████| 2607/2607 [01:31<00:00, 28.39it/s, Train Loss=0.7749, Valid Loss=0.1938, Valid R2=0.5627, Valid MAE=0.3572]\n",
            "Epoch  6: 100%|██████████| 2607/2607 [01:31<00:00, 28.56it/s, Train Loss=0.7579, Valid Loss=0.2195, Valid R2=0.5047, Valid MAE=0.3561]\n",
            "Epoch  7: 100%|██████████| 2607/2607 [01:32<00:00, 28.24it/s, Train Loss=0.7204, Valid Loss=0.2352, Valid R2=0.4692, Valid MAE=0.3822]\n",
            "Epoch  8: 100%|██████████| 2607/2607 [01:31<00:00, 28.37it/s, Train Loss=0.7153, Valid Loss=0.2390, Valid R2=0.4608, Valid MAE=0.3987]\n",
            "Epoch  9: 100%|██████████| 2607/2607 [01:32<00:00, 28.23it/s, Train Loss=0.6888, Valid Loss=0.2079, Valid R2=0.5309, Valid MAE=0.3572]\n"
          ]
        },
        {
          "name": "stdout",
          "output_type": "stream",
          "text": [
            "Early Stopped\n",
            "Setting   4 of Parameters Grid is now on progres.\n"
          ]
        },
        {
          "name": "stderr",
          "output_type": "stream",
          "text": [
            "Epoch  0: 100%|██████████| 2607/2607 [01:30<00:00, 28.79it/s, Train Loss=1.2142, Valid Loss=0.2666, Valid R2=0.3984, Valid MAE=0.4192]\n",
            "Epoch  1: 100%|██████████| 2607/2607 [01:32<00:00, 28.32it/s, Train Loss=1.0391, Valid Loss=0.2242, Valid R2=0.4941, Valid MAE=0.3852]\n",
            "Epoch  2: 100%|██████████| 2607/2607 [01:31<00:00, 28.54it/s, Train Loss=1.0019, Valid Loss=0.3409, Valid R2=0.2309, Valid MAE=0.4757]\n",
            "Epoch  3: 100%|██████████| 2607/2607 [01:31<00:00, 28.49it/s, Train Loss=0.9598, Valid Loss=0.2455, Valid R2=0.4461, Valid MAE=0.3846]\n",
            "Epoch  4: 100%|██████████| 2607/2607 [01:31<00:00, 28.51it/s, Train Loss=0.9416, Valid Loss=0.1949, Valid R2=0.5603, Valid MAE=0.3592]\n",
            "Epoch  5: 100%|██████████| 2607/2607 [01:31<00:00, 28.43it/s, Train Loss=0.9193, Valid Loss=0.2694, Valid R2=0.3922, Valid MAE=0.4308]\n",
            "Epoch  6: 100%|██████████| 2607/2607 [01:30<00:00, 28.70it/s, Train Loss=0.8841, Valid Loss=0.2099, Valid R2=0.5264, Valid MAE=0.3560]\n",
            "Epoch  7: 100%|██████████| 2607/2607 [01:32<00:00, 28.33it/s, Train Loss=0.8510, Valid Loss=0.1982, Valid R2=0.5527, Valid MAE=0.3568]\n",
            "Epoch  8: 100%|██████████| 2607/2607 [01:33<00:00, 27.89it/s, Train Loss=0.8425, Valid Loss=0.1922, Valid R2=0.5664, Valid MAE=0.3552]\n",
            "Epoch  9: 100%|██████████| 2607/2607 [01:31<00:00, 28.44it/s, Train Loss=0.8221, Valid Loss=0.1855, Valid R2=0.5815, Valid MAE=0.3493]\n",
            "Epoch 10: 100%|██████████| 2607/2607 [01:32<00:00, 28.27it/s, Train Loss=0.8075, Valid Loss=0.1913, Valid R2=0.5682, Valid MAE=0.3463]\n",
            "Epoch 11: 100%|██████████| 2607/2607 [01:31<00:00, 28.40it/s, Train Loss=0.7753, Valid Loss=0.1779, Valid R2=0.5986, Valid MAE=0.3396]\n",
            "Epoch 12: 100%|██████████| 2607/2607 [01:31<00:00, 28.34it/s, Train Loss=0.7659, Valid Loss=0.2348, Valid R2=0.4702, Valid MAE=0.3800]\n",
            "Epoch 13: 100%|██████████| 2607/2607 [01:32<00:00, 28.20it/s, Train Loss=0.7346, Valid Loss=0.1754, Valid R2=0.6043, Valid MAE=0.3281]\n",
            "Epoch 14: 100%|██████████| 2607/2607 [01:30<00:00, 28.70it/s, Train Loss=0.7101, Valid Loss=0.1731, Valid R2=0.6094, Valid MAE=0.3296]\n",
            "Epoch 15: 100%|██████████| 2607/2607 [01:31<00:00, 28.56it/s, Train Loss=0.6649, Valid Loss=0.1891, Valid R2=0.5732, Valid MAE=0.3486]\n",
            "Epoch 16: 100%|██████████| 2607/2607 [01:30<00:00, 28.77it/s, Train Loss=0.7014, Valid Loss=0.2758, Valid R2=0.3776, Valid MAE=0.3908]\n",
            "Epoch 17: 100%|██████████| 2607/2607 [01:31<00:00, 28.36it/s, Train Loss=0.6146, Valid Loss=0.4984, Valid R2=-0.1245, Valid MAE=0.5155]\n",
            "Epoch 18: 100%|██████████| 2607/2607 [01:32<00:00, 28.15it/s, Train Loss=0.6231, Valid Loss=0.2935, Valid R2=0.3378, Valid MAE=0.4058]\n"
          ]
        },
        {
          "name": "stdout",
          "output_type": "stream",
          "text": [
            "Early Stopped\n",
            "Setting   5 of Parameters Grid is now on progres.\n"
          ]
        },
        {
          "name": "stderr",
          "output_type": "stream",
          "text": [
            "Epoch  0: 100%|██████████| 2607/2607 [01:32<00:00, 28.14it/s, Train Loss=1.4467, Valid Loss=0.3376, Valid R2=0.2383, Valid MAE=0.4809]\n",
            "Epoch  1: 100%|██████████| 2607/2607 [01:31<00:00, 28.43it/s, Train Loss=0.9778, Valid Loss=0.2235, Valid R2=0.4957, Valid MAE=0.3824]\n",
            "Epoch  2: 100%|██████████| 2607/2607 [01:31<00:00, 28.62it/s, Train Loss=0.9122, Valid Loss=0.1988, Valid R2=0.5515, Valid MAE=0.3609]\n",
            "Epoch  3: 100%|██████████| 2607/2607 [01:31<00:00, 28.58it/s, Train Loss=0.8716, Valid Loss=0.2945, Valid R2=0.3355, Valid MAE=0.4574]\n",
            "Epoch  4: 100%|██████████| 2607/2607 [01:31<00:00, 28.61it/s, Train Loss=0.8274, Valid Loss=0.2934, Valid R2=0.3380, Valid MAE=0.4586]\n",
            "Epoch  5: 100%|██████████| 2607/2607 [01:32<00:00, 28.08it/s, Train Loss=0.7947, Valid Loss=0.1829, Valid R2=0.5873, Valid MAE=0.3458]\n",
            "Epoch  6: 100%|██████████| 2607/2607 [01:31<00:00, 28.42it/s, Train Loss=0.7714, Valid Loss=0.2079, Valid R2=0.5310, Valid MAE=0.3691]\n",
            "Epoch  7: 100%|██████████| 2607/2607 [01:32<00:00, 28.05it/s, Train Loss=0.7618, Valid Loss=0.3096, Valid R2=0.3014, Valid MAE=0.4493]\n",
            "Epoch  8: 100%|██████████| 2607/2607 [01:31<00:00, 28.36it/s, Train Loss=0.7144, Valid Loss=0.3351, Valid R2=0.2440, Valid MAE=0.4432]\n",
            "Epoch  9: 100%|██████████| 2607/2607 [01:32<00:00, 28.11it/s, Train Loss=0.7292, Valid Loss=0.2434, Valid R2=0.4509, Valid MAE=0.3811]\n"
          ]
        },
        {
          "name": "stdout",
          "output_type": "stream",
          "text": [
            "Early Stopped\n",
            "Setting   6 of Parameters Grid is now on progres.\n"
          ]
        },
        {
          "name": "stderr",
          "output_type": "stream",
          "text": [
            "Epoch  0: 100%|██████████| 2607/2607 [01:30<00:00, 28.95it/s, Train Loss=1.4131, Valid Loss=0.2459, Valid R2=0.4452, Valid MAE=0.3903]\n",
            "Epoch  1: 100%|██████████| 2607/2607 [01:31<00:00, 28.49it/s, Train Loss=1.0142, Valid Loss=0.1952, Valid R2=0.5596, Valid MAE=0.3404]\n",
            "Epoch  2: 100%|██████████| 2607/2607 [01:30<00:00, 28.78it/s, Train Loss=0.9674, Valid Loss=0.1772, Valid R2=0.6002, Valid MAE=0.3287]\n",
            "Epoch  3: 100%|██████████| 2607/2607 [01:31<00:00, 28.57it/s, Train Loss=0.9341, Valid Loss=0.1795, Valid R2=0.5950, Valid MAE=0.3375]\n",
            "Epoch  4: 100%|██████████| 2607/2607 [01:32<00:00, 28.33it/s, Train Loss=0.8926, Valid Loss=0.3010, Valid R2=0.3207, Valid MAE=0.4268]\n",
            "Epoch  5: 100%|██████████| 2607/2607 [01:32<00:00, 28.28it/s, Train Loss=0.8774, Valid Loss=0.1269, Valid R2=0.7137, Valid MAE=0.2782]\n",
            "Epoch  6: 100%|██████████| 2607/2607 [01:31<00:00, 28.50it/s, Train Loss=0.8369, Valid Loss=0.1705, Valid R2=0.6153, Valid MAE=0.3239]\n",
            "Epoch  7: 100%|██████████| 2607/2607 [01:31<00:00, 28.56it/s, Train Loss=0.8247, Valid Loss=0.2381, Valid R2=0.4627, Valid MAE=0.3991]\n",
            "Epoch  8: 100%|██████████| 2607/2607 [01:32<00:00, 28.12it/s, Train Loss=0.7933, Valid Loss=0.1887, Valid R2=0.5741, Valid MAE=0.3427]\n",
            "Epoch  9: 100%|██████████| 2607/2607 [01:29<00:00, 28.99it/s, Train Loss=0.7751, Valid Loss=0.1803, Valid R2=0.5932, Valid MAE=0.3447]\n"
          ]
        },
        {
          "name": "stdout",
          "output_type": "stream",
          "text": [
            "Early Stopped\n",
            "Setting   7 of Parameters Grid is now on progres.\n"
          ]
        },
        {
          "name": "stderr",
          "output_type": "stream",
          "text": [
            "Epoch  0: 100%|██████████| 2607/2607 [01:31<00:00, 28.53it/s, Train Loss=1.0210, Valid Loss=0.2368, Valid R2=0.4657, Valid MAE=0.3953]\n",
            "Epoch  1: 100%|██████████| 2607/2607 [01:32<00:00, 28.31it/s, Train Loss=0.8332, Valid Loss=0.1854, Valid R2=0.5816, Valid MAE=0.3333]\n",
            "Epoch  2: 100%|██████████| 2607/2607 [01:32<00:00, 28.17it/s, Train Loss=0.7989, Valid Loss=0.2131, Valid R2=0.5191, Valid MAE=0.3750]\n",
            "Epoch  3: 100%|██████████| 2607/2607 [01:30<00:00, 28.87it/s, Train Loss=0.7510, Valid Loss=0.2953, Valid R2=0.3337, Valid MAE=0.4445]\n",
            "Epoch  4: 100%|██████████| 2607/2607 [01:32<00:00, 28.31it/s, Train Loss=0.7452, Valid Loss=0.1929, Valid R2=0.5647, Valid MAE=0.3544]\n",
            "Epoch  5: 100%|██████████| 2607/2607 [01:31<00:00, 28.38it/s, Train Loss=0.6912, Valid Loss=0.1576, Valid R2=0.6444, Valid MAE=0.3264]\n",
            "Epoch  6: 100%|██████████| 2607/2607 [01:30<00:00, 28.96it/s, Train Loss=0.6816, Valid Loss=0.1751, Valid R2=0.6050, Valid MAE=0.3460]\n",
            "Epoch  7: 100%|██████████| 2607/2607 [01:30<00:00, 28.82it/s, Train Loss=0.6457, Valid Loss=0.2462, Valid R2=0.4446, Valid MAE=0.4089]\n",
            "Epoch  8: 100%|██████████| 2607/2607 [01:31<00:00, 28.61it/s, Train Loss=0.6223, Valid Loss=1.1546, Valid R2=-1.6052, Valid MAE=0.9023]\n",
            "Epoch  9: 100%|██████████| 2607/2607 [01:30<00:00, 28.77it/s, Train Loss=0.6650, Valid Loss=0.3144, Valid R2=0.2907, Valid MAE=0.4198]\n"
          ]
        },
        {
          "name": "stdout",
          "output_type": "stream",
          "text": [
            "Early Stopped\n",
            "Setting   8 of Parameters Grid is now on progres.\n"
          ]
        },
        {
          "name": "stderr",
          "output_type": "stream",
          "text": [
            "Epoch  0: 100%|██████████| 2607/2607 [01:17<00:00, 33.59it/s, Train Loss=1.1208, Valid Loss=0.3438, Valid R2=0.2241, Valid MAE=0.4780]\n",
            "Epoch  1: 100%|██████████| 2607/2607 [01:18<00:00, 33.04it/s, Train Loss=0.9151, Valid Loss=0.2486, Valid R2=0.4390, Valid MAE=0.4042]\n",
            "Epoch  2: 100%|██████████| 2607/2607 [01:18<00:00, 33.41it/s, Train Loss=0.8687, Valid Loss=0.2208, Valid R2=0.5018, Valid MAE=0.3815]\n",
            "Epoch  3: 100%|██████████| 2607/2607 [01:15<00:00, 34.31it/s, Train Loss=0.8584, Valid Loss=0.2225, Valid R2=0.4979, Valid MAE=0.3770]\n",
            "Epoch  4: 100%|██████████| 2607/2607 [01:17<00:00, 33.60it/s, Train Loss=0.8105, Valid Loss=0.1748, Valid R2=0.6057, Valid MAE=0.3331]\n",
            "Epoch  5: 100%|██████████| 2607/2607 [01:14<00:00, 34.87it/s, Train Loss=0.7696, Valid Loss=0.1964, Valid R2=0.5568, Valid MAE=0.3628]\n",
            "Epoch  6: 100%|██████████| 2607/2607 [01:18<00:00, 33.36it/s, Train Loss=0.7628, Valid Loss=0.1670, Valid R2=0.6232, Valid MAE=0.3334]\n",
            "Epoch  7: 100%|██████████| 2607/2607 [01:15<00:00, 34.46it/s, Train Loss=0.7268, Valid Loss=0.2044, Valid R2=0.5387, Valid MAE=0.3549]\n",
            "Epoch  8: 100%|██████████| 2607/2607 [01:16<00:00, 34.14it/s, Train Loss=0.6956, Valid Loss=0.1444, Valid R2=0.6742, Valid MAE=0.3116]\n",
            "Epoch  9: 100%|██████████| 2607/2607 [01:16<00:00, 34.02it/s, Train Loss=0.6953, Valid Loss=0.1648, Valid R2=0.6282, Valid MAE=0.3239]\n",
            "Epoch 10: 100%|██████████| 2607/2607 [01:14<00:00, 34.91it/s, Train Loss=0.7775, Valid Loss=0.1478, Valid R2=0.6665, Valid MAE=0.3024]\n",
            "Epoch 11: 100%|██████████| 2607/2607 [01:15<00:00, 34.34it/s, Train Loss=0.6807, Valid Loss=0.1500, Valid R2=0.6616, Valid MAE=0.2976]\n",
            "Epoch 12: 100%|██████████| 2607/2607 [01:16<00:00, 34.00it/s, Train Loss=0.5932, Valid Loss=0.2593, Valid R2=0.4150, Valid MAE=0.3699]\n"
          ]
        },
        {
          "name": "stdout",
          "output_type": "stream",
          "text": [
            "Early Stopped\n",
            "Setting   9 of Parameters Grid is now on progres.\n"
          ]
        },
        {
          "name": "stderr",
          "output_type": "stream",
          "text": [
            "Epoch  0: 100%|██████████| 2607/2607 [01:16<00:00, 33.90it/s, Train Loss=1.1709, Valid Loss=0.2727, Valid R2=0.3847, Valid MAE=0.4267]\n",
            "Epoch  1: 100%|██████████| 2607/2607 [01:14<00:00, 34.99it/s, Train Loss=0.9554, Valid Loss=0.1507, Valid R2=0.6599, Valid MAE=0.3094]\n",
            "Epoch  2: 100%|██████████| 2607/2607 [01:16<00:00, 34.25it/s, Train Loss=0.9300, Valid Loss=0.4211, Valid R2=0.0498, Valid MAE=0.5440]\n",
            "Epoch  3: 100%|██████████| 2607/2607 [01:17<00:00, 33.70it/s, Train Loss=0.8872, Valid Loss=0.1623, Valid R2=0.6338, Valid MAE=0.3244]\n",
            "Epoch  4: 100%|██████████| 2607/2607 [01:18<00:00, 33.18it/s, Train Loss=0.8670, Valid Loss=0.2063, Valid R2=0.5345, Valid MAE=0.3781]\n",
            "Epoch  5: 100%|██████████| 2607/2607 [01:19<00:00, 32.59it/s, Train Loss=0.8447, Valid Loss=0.1364, Valid R2=0.6923, Valid MAE=0.2891]\n",
            "Epoch  6: 100%|██████████| 2607/2607 [01:18<00:00, 33.23it/s, Train Loss=0.8261, Valid Loss=0.2164, Valid R2=0.5118, Valid MAE=0.3638]\n",
            "Epoch  7: 100%|██████████| 2607/2607 [01:16<00:00, 34.05it/s, Train Loss=0.7873, Valid Loss=0.1826, Valid R2=0.5880, Valid MAE=0.3396]\n",
            "Epoch  8: 100%|██████████| 2607/2607 [01:16<00:00, 34.17it/s, Train Loss=0.7633, Valid Loss=0.1456, Valid R2=0.6714, Valid MAE=0.3048]\n",
            "Epoch  9: 100%|██████████| 2607/2607 [01:17<00:00, 33.49it/s, Train Loss=0.7289, Valid Loss=0.2549, Valid R2=0.4248, Valid MAE=0.3937]\n"
          ]
        },
        {
          "name": "stdout",
          "output_type": "stream",
          "text": [
            "Early Stopped\n",
            "Setting  10 of Parameters Grid is now on progres.\n"
          ]
        },
        {
          "name": "stderr",
          "output_type": "stream",
          "text": [
            "Epoch  0: 100%|██████████| 2607/2607 [01:17<00:00, 33.61it/s, Train Loss=1.3730, Valid Loss=0.1837, Valid R2=0.5855, Valid MAE=0.3395]\n",
            "Epoch  1: 100%|██████████| 2607/2607 [01:19<00:00, 32.65it/s, Train Loss=1.0232, Valid Loss=0.1646, Valid R2=0.6286, Valid MAE=0.3176]\n",
            "Epoch  2: 100%|██████████| 2607/2607 [01:18<00:00, 33.42it/s, Train Loss=0.9835, Valid Loss=0.2683, Valid R2=0.3947, Valid MAE=0.4210]\n",
            "Epoch  3: 100%|██████████| 2607/2607 [01:18<00:00, 33.34it/s, Train Loss=0.9589, Valid Loss=0.2187, Valid R2=0.5066, Valid MAE=0.3690]\n",
            "Epoch  4: 100%|██████████| 2607/2607 [01:17<00:00, 33.66it/s, Train Loss=0.9288, Valid Loss=0.2308, Valid R2=0.4793, Valid MAE=0.3896]\n",
            "Epoch  5: 100%|██████████| 2607/2607 [01:15<00:00, 34.45it/s, Train Loss=0.9102, Valid Loss=0.2024, Valid R2=0.5434, Valid MAE=0.3569]\n"
          ]
        },
        {
          "name": "stdout",
          "output_type": "stream",
          "text": [
            "Early Stopped\n",
            "Setting  11 of Parameters Grid is now on progres.\n"
          ]
        },
        {
          "name": "stderr",
          "output_type": "stream",
          "text": [
            "Epoch  0: 100%|██████████| 2607/2607 [01:18<00:00, 33.13it/s, Train Loss=1.2381, Valid Loss=0.2052, Valid R2=0.5370, Valid MAE=0.3578]\n",
            "Epoch  1: 100%|██████████| 2607/2607 [01:18<00:00, 33.26it/s, Train Loss=0.9949, Valid Loss=0.2299, Valid R2=0.4812, Valid MAE=0.3777]\n",
            "Epoch  2: 100%|██████████| 2607/2607 [01:16<00:00, 34.06it/s, Train Loss=0.9535, Valid Loss=0.2254, Valid R2=0.4914, Valid MAE=0.3721]\n",
            "Epoch  3: 100%|██████████| 2607/2607 [01:18<00:00, 33.19it/s, Train Loss=0.8988, Valid Loss=0.1911, Valid R2=0.5687, Valid MAE=0.3449]\n",
            "Epoch  4: 100%|██████████| 2607/2607 [01:15<00:00, 34.31it/s, Train Loss=0.8634, Valid Loss=0.1862, Valid R2=0.5800, Valid MAE=0.3372]\n",
            "Epoch  5: 100%|██████████| 2607/2607 [01:17<00:00, 33.63it/s, Train Loss=0.8471, Valid Loss=0.1465, Valid R2=0.6695, Valid MAE=0.3034]\n",
            "Epoch  6: 100%|██████████| 2607/2607 [01:14<00:00, 34.85it/s, Train Loss=0.8451, Valid Loss=0.2427, Valid R2=0.4523, Valid MAE=0.3777]\n",
            "Epoch  7: 100%|██████████| 2607/2607 [01:17<00:00, 33.52it/s, Train Loss=0.7933, Valid Loss=0.1737, Valid R2=0.6080, Valid MAE=0.3434]\n",
            "Epoch  8: 100%|██████████| 2607/2607 [01:17<00:00, 33.84it/s, Train Loss=0.7632, Valid Loss=0.2516, Valid R2=0.4322, Valid MAE=0.3880]\n",
            "Epoch  9: 100%|██████████| 2607/2607 [01:16<00:00, 33.89it/s, Train Loss=0.7337, Valid Loss=0.1801, Valid R2=0.5937, Valid MAE=0.3485]\n"
          ]
        },
        {
          "name": "stdout",
          "output_type": "stream",
          "text": [
            "Early Stopped\n",
            "Setting  12 of Parameters Grid is now on progres.\n"
          ]
        },
        {
          "name": "stderr",
          "output_type": "stream",
          "text": [
            "Epoch  0: 100%|██████████| 2607/2607 [01:19<00:00, 32.72it/s, Train Loss=1.2842, Valid Loss=0.3687, Valid R2=0.1681, Valid MAE=0.4983]\n",
            "Epoch  1: 100%|██████████| 2607/2607 [01:18<00:00, 33.31it/s, Train Loss=1.0224, Valid Loss=0.2288, Valid R2=0.4838, Valid MAE=0.3817]\n",
            "Epoch  2: 100%|██████████| 2607/2607 [01:16<00:00, 34.04it/s, Train Loss=1.0010, Valid Loss=0.1855, Valid R2=0.5815, Valid MAE=0.3410]\n",
            "Epoch  3: 100%|██████████| 2607/2607 [01:18<00:00, 33.01it/s, Train Loss=0.9614, Valid Loss=0.1786, Valid R2=0.5970, Valid MAE=0.3450]\n",
            "Epoch  4: 100%|██████████| 2607/2607 [01:18<00:00, 33.28it/s, Train Loss=0.9235, Valid Loss=0.2342, Valid R2=0.4716, Valid MAE=0.3795]\n",
            "Epoch  5: 100%|██████████| 2607/2607 [01:16<00:00, 33.89it/s, Train Loss=0.9063, Valid Loss=0.2694, Valid R2=0.3922, Valid MAE=0.4072]\n",
            "Epoch  6: 100%|██████████| 2607/2607 [01:17<00:00, 33.44it/s, Train Loss=0.8916, Valid Loss=0.3661, Valid R2=0.1739, Valid MAE=0.4818]\n",
            "Epoch  7: 100%|██████████| 2607/2607 [01:19<00:00, 32.81it/s, Train Loss=0.8548, Valid Loss=0.1563, Valid R2=0.6473, Valid MAE=0.3153]\n",
            "Epoch  8: 100%|██████████| 2607/2607 [01:17<00:00, 33.79it/s, Train Loss=0.8073, Valid Loss=0.1608, Valid R2=0.6373, Valid MAE=0.3256]\n",
            "Epoch  9: 100%|██████████| 2607/2607 [01:18<00:00, 33.25it/s, Train Loss=0.7924, Valid Loss=0.1721, Valid R2=0.6118, Valid MAE=0.3312]\n",
            "Epoch 10: 100%|██████████| 2607/2607 [01:20<00:00, 32.51it/s, Train Loss=0.8624, Valid Loss=0.1314, Valid R2=0.7034, Valid MAE=0.2850]\n",
            "Epoch 11: 100%|██████████| 2607/2607 [01:18<00:00, 33.06it/s, Train Loss=0.8157, Valid Loss=0.1992, Valid R2=0.5506, Valid MAE=0.3540]\n",
            "Epoch 12: 100%|██████████| 2607/2607 [01:19<00:00, 32.93it/s, Train Loss=0.7680, Valid Loss=0.1390, Valid R2=0.6863, Valid MAE=0.3075]\n",
            "Epoch 13: 100%|██████████| 2607/2607 [01:17<00:00, 33.84it/s, Train Loss=0.7177, Valid Loss=0.1743, Valid R2=0.6066, Valid MAE=0.3287]\n",
            "Epoch 14: 100%|██████████| 2607/2607 [01:16<00:00, 34.00it/s, Train Loss=0.6658, Valid Loss=0.1890, Valid R2=0.5736, Valid MAE=0.3519]\n"
          ]
        },
        {
          "name": "stdout",
          "output_type": "stream",
          "text": [
            "Early Stopped\n",
            "Setting  13 of Parameters Grid is now on progres.\n"
          ]
        },
        {
          "name": "stderr",
          "output_type": "stream",
          "text": [
            "Epoch  0: 100%|██████████| 2607/2607 [01:13<00:00, 35.36it/s, Train Loss=1.3294, Valid Loss=0.2879, Valid R2=0.3504, Valid MAE=0.4276]\n",
            "Epoch  1: 100%|██████████| 2607/2607 [01:17<00:00, 33.72it/s, Train Loss=0.9909, Valid Loss=0.1585, Valid R2=0.6425, Valid MAE=0.3109]\n",
            "Epoch  2: 100%|██████████| 2607/2607 [01:18<00:00, 33.42it/s, Train Loss=0.9617, Valid Loss=0.2063, Valid R2=0.5344, Valid MAE=0.3524]\n",
            "Epoch  3: 100%|██████████| 2607/2607 [01:15<00:00, 34.50it/s, Train Loss=0.9277, Valid Loss=0.2485, Valid R2=0.4392, Valid MAE=0.3974]\n",
            "Epoch  4: 100%|██████████| 2607/2607 [01:16<00:00, 34.25it/s, Train Loss=0.9170, Valid Loss=0.1994, Valid R2=0.5500, Valid MAE=0.3516]\n",
            "Epoch  5: 100%|██████████| 2607/2607 [01:18<00:00, 33.25it/s, Train Loss=0.8847, Valid Loss=0.1600, Valid R2=0.6390, Valid MAE=0.3134]\n"
          ]
        },
        {
          "name": "stdout",
          "output_type": "stream",
          "text": [
            "Early Stopped\n",
            "Setting  14 of Parameters Grid is now on progres.\n"
          ]
        },
        {
          "name": "stderr",
          "output_type": "stream",
          "text": [
            "Epoch  0: 100%|██████████| 2607/2607 [01:17<00:00, 33.72it/s, Train Loss=1.1824, Valid Loss=0.3157, Valid R2=0.2877, Valid MAE=0.4608]\n",
            "Epoch  1: 100%|██████████| 2607/2607 [01:19<00:00, 33.00it/s, Train Loss=0.9983, Valid Loss=0.1587, Valid R2=0.6419, Valid MAE=0.3193]\n",
            "Epoch  2: 100%|██████████| 2607/2607 [01:17<00:00, 33.66it/s, Train Loss=0.9501, Valid Loss=0.1561, Valid R2=0.6478, Valid MAE=0.3234]\n",
            "Epoch  3: 100%|██████████| 2607/2607 [01:18<00:00, 33.37it/s, Train Loss=0.9183, Valid Loss=0.2059, Valid R2=0.5355, Valid MAE=0.3748]\n",
            "Epoch  4: 100%|██████████| 2607/2607 [01:17<00:00, 33.68it/s, Train Loss=0.9060, Valid Loss=0.1463, Valid R2=0.6698, Valid MAE=0.3092]\n",
            "Epoch  5: 100%|██████████| 2607/2607 [01:18<00:00, 33.41it/s, Train Loss=0.8660, Valid Loss=0.2331, Valid R2=0.4741, Valid MAE=0.3854]\n",
            "Epoch  6: 100%|██████████| 2607/2607 [01:16<00:00, 34.00it/s, Train Loss=0.8480, Valid Loss=0.1461, Valid R2=0.6703, Valid MAE=0.3064]\n",
            "Epoch  7: 100%|██████████| 2607/2607 [01:17<00:00, 33.43it/s, Train Loss=0.8298, Valid Loss=0.1418, Valid R2=0.6800, Valid MAE=0.2944]\n",
            "Epoch  8: 100%|██████████| 2607/2607 [01:18<00:00, 33.26it/s, Train Loss=0.7967, Valid Loss=0.1676, Valid R2=0.6219, Valid MAE=0.3161]\n",
            "Epoch  9: 100%|██████████| 2607/2607 [01:18<00:00, 33.13it/s, Train Loss=0.7748, Valid Loss=0.1456, Valid R2=0.6714, Valid MAE=0.2955]\n",
            "Epoch 10: 100%|██████████| 2607/2607 [01:17<00:00, 33.72it/s, Train Loss=0.7589, Valid Loss=0.1927, Valid R2=0.5652, Valid MAE=0.3475]\n",
            "Epoch 11: 100%|██████████| 2607/2607 [01:16<00:00, 34.02it/s, Train Loss=0.7869, Valid Loss=0.1628, Valid R2=0.6327, Valid MAE=0.3056]\n"
          ]
        },
        {
          "name": "stdout",
          "output_type": "stream",
          "text": [
            "Early Stopped\n",
            "Setting  15 of Parameters Grid is now on progres.\n"
          ]
        },
        {
          "name": "stderr",
          "output_type": "stream",
          "text": [
            "Epoch  0: 100%|██████████| 2607/2607 [01:18<00:00, 33.29it/s, Train Loss=1.1184, Valid Loss=0.4372, Valid R2=0.0135, Valid MAE=0.5199]\n",
            "Epoch  1: 100%|██████████| 2607/2607 [01:18<00:00, 33.22it/s, Train Loss=0.9256, Valid Loss=0.2001, Valid R2=0.5486, Valid MAE=0.3580]\n",
            "Epoch  2: 100%|██████████| 2607/2607 [01:17<00:00, 33.76it/s, Train Loss=0.8718, Valid Loss=0.1405, Valid R2=0.6830, Valid MAE=0.3035]\n",
            "Epoch  3: 100%|██████████| 2607/2607 [01:18<00:00, 33.26it/s, Train Loss=0.8343, Valid Loss=0.1837, Valid R2=0.5855, Valid MAE=0.3442]\n",
            "Epoch  4: 100%|██████████| 2607/2607 [01:17<00:00, 33.55it/s, Train Loss=0.8002, Valid Loss=0.2724, Valid R2=0.3854, Valid MAE=0.4228]\n",
            "Epoch  5: 100%|██████████| 2607/2607 [01:17<00:00, 33.81it/s, Train Loss=0.7617, Valid Loss=0.1685, Valid R2=0.6199, Valid MAE=0.3194]\n",
            "Epoch  6: 100%|██████████| 2607/2607 [01:15<00:00, 34.37it/s, Train Loss=0.7398, Valid Loss=0.2211, Valid R2=0.5011, Valid MAE=0.3747]\n"
          ]
        },
        {
          "name": "stdout",
          "output_type": "stream",
          "text": [
            "Early Stopped\n",
            "Setting  16 of Parameters Grid is now on progres.\n"
          ]
        },
        {
          "name": "stderr",
          "output_type": "stream",
          "text": [
            "Epoch  0: 100%|██████████| 2607/2607 [01:31<00:00, 28.46it/s, Train Loss=1.2080, Valid Loss=0.1701, Valid R2=0.6161, Valid MAE=0.3206]\n",
            "Epoch  1: 100%|██████████| 2607/2607 [01:32<00:00, 28.05it/s, Train Loss=0.9250, Valid Loss=0.1950, Valid R2=0.5601, Valid MAE=0.3490]\n",
            "Epoch  2: 100%|██████████| 2607/2607 [01:32<00:00, 28.21it/s, Train Loss=0.8730, Valid Loss=0.1656, Valid R2=0.6264, Valid MAE=0.3267]\n",
            "Epoch  3: 100%|██████████| 2607/2607 [01:32<00:00, 28.19it/s, Train Loss=0.8399, Valid Loss=0.1815, Valid R2=0.5905, Valid MAE=0.3343]\n",
            "Epoch  4: 100%|██████████| 2607/2607 [01:32<00:00, 28.19it/s, Train Loss=0.8157, Valid Loss=0.1982, Valid R2=0.5528, Valid MAE=0.3616]\n",
            "Epoch  5: 100%|██████████| 2607/2607 [01:32<00:00, 28.04it/s, Train Loss=0.7971, Valid Loss=0.2474, Valid R2=0.4418, Valid MAE=0.3992]\n",
            "Epoch  6: 100%|██████████| 2607/2607 [01:32<00:00, 28.27it/s, Train Loss=0.7573, Valid Loss=0.2252, Valid R2=0.4920, Valid MAE=0.3833]\n"
          ]
        },
        {
          "name": "stdout",
          "output_type": "stream",
          "text": [
            "Early Stopped\n",
            "Setting  17 of Parameters Grid is now on progres.\n"
          ]
        },
        {
          "name": "stderr",
          "output_type": "stream",
          "text": [
            "Epoch  0: 100%|██████████| 2607/2607 [01:34<00:00, 27.65it/s, Train Loss=1.3856, Valid Loss=0.2573, Valid R2=0.4194, Valid MAE=0.4035]\n",
            "Epoch  1: 100%|██████████| 2607/2607 [01:33<00:00, 27.88it/s, Train Loss=0.9599, Valid Loss=0.1974, Valid R2=0.5546, Valid MAE=0.3507]\n",
            "Epoch  2: 100%|██████████| 2607/2607 [01:32<00:00, 28.22it/s, Train Loss=0.9072, Valid Loss=0.2036, Valid R2=0.5405, Valid MAE=0.3559]\n",
            "Epoch  3: 100%|██████████| 2607/2607 [01:30<00:00, 28.67it/s, Train Loss=0.8588, Valid Loss=0.1965, Valid R2=0.5566, Valid MAE=0.3512]\n",
            "Epoch  4: 100%|██████████| 2607/2607 [01:32<00:00, 28.28it/s, Train Loss=0.8294, Valid Loss=0.2453, Valid R2=0.4465, Valid MAE=0.4013]\n",
            "Epoch  5: 100%|██████████| 2607/2607 [01:32<00:00, 28.26it/s, Train Loss=0.7990, Valid Loss=0.1786, Valid R2=0.5969, Valid MAE=0.3398]\n",
            "Epoch  6: 100%|██████████| 2607/2607 [01:32<00:00, 28.11it/s, Train Loss=0.7634, Valid Loss=0.1848, Valid R2=0.5830, Valid MAE=0.3463]\n",
            "Epoch  7: 100%|██████████| 2607/2607 [01:31<00:00, 28.36it/s, Train Loss=0.7597, Valid Loss=0.1736, Valid R2=0.6083, Valid MAE=0.3454]\n",
            "Epoch  8: 100%|██████████| 2607/2607 [01:33<00:00, 28.03it/s, Train Loss=0.7366, Valid Loss=0.1796, Valid R2=0.5947, Valid MAE=0.3386]\n",
            "Epoch  9: 100%|██████████| 2607/2607 [01:32<00:00, 28.30it/s, Train Loss=0.7082, Valid Loss=0.2226, Valid R2=0.4978, Valid MAE=0.3765]\n",
            "Epoch 10: 100%|██████████| 2607/2607 [01:31<00:00, 28.47it/s, Train Loss=0.6969, Valid Loss=0.2266, Valid R2=0.4888, Valid MAE=0.3841]\n",
            "Epoch 11: 100%|██████████| 2607/2607 [01:31<00:00, 28.53it/s, Train Loss=0.6690, Valid Loss=0.2094, Valid R2=0.5274, Valid MAE=0.3625]\n"
          ]
        },
        {
          "name": "stdout",
          "output_type": "stream",
          "text": [
            "Early Stopped\n",
            "Setting  18 of Parameters Grid is now on progres.\n"
          ]
        },
        {
          "name": "stderr",
          "output_type": "stream",
          "text": [
            "Epoch  0: 100%|██████████| 2607/2607 [01:33<00:00, 27.82it/s, Train Loss=1.4307, Valid Loss=0.2503, Valid R2=0.4352, Valid MAE=0.4125]\n",
            "Epoch  1: 100%|██████████| 2607/2607 [01:31<00:00, 28.36it/s, Train Loss=1.0028, Valid Loss=0.2268, Valid R2=0.4882, Valid MAE=0.3838]\n",
            "Epoch  2: 100%|██████████| 2607/2607 [01:30<00:00, 28.95it/s, Train Loss=0.9413, Valid Loss=0.1696, Valid R2=0.6172, Valid MAE=0.3313]\n",
            "Epoch  3: 100%|██████████| 2607/2607 [01:30<00:00, 28.65it/s, Train Loss=0.9107, Valid Loss=0.1843, Valid R2=0.5841, Valid MAE=0.3523]\n",
            "Epoch  4: 100%|██████████| 2607/2607 [01:32<00:00, 28.12it/s, Train Loss=0.8820, Valid Loss=0.1785, Valid R2=0.5971, Valid MAE=0.3372]\n",
            "Epoch  5: 100%|██████████| 2607/2607 [01:33<00:00, 27.97it/s, Train Loss=0.8698, Valid Loss=0.1753, Valid R2=0.6044, Valid MAE=0.3408]\n",
            "Epoch  6: 100%|██████████| 2607/2607 [01:32<00:00, 28.27it/s, Train Loss=0.8456, Valid Loss=0.1736, Valid R2=0.6083, Valid MAE=0.3339]\n"
          ]
        },
        {
          "name": "stdout",
          "output_type": "stream",
          "text": [
            "Early Stopped\n",
            "Setting  19 of Parameters Grid is now on progres.\n"
          ]
        },
        {
          "name": "stderr",
          "output_type": "stream",
          "text": [
            "Epoch  0: 100%|██████████| 2607/2607 [01:32<00:00, 28.24it/s, Train Loss=1.2644, Valid Loss=0.2850, Valid R2=0.3569, Valid MAE=0.4278]\n",
            "Epoch  1: 100%|██████████| 2607/2607 [01:32<00:00, 28.17it/s, Train Loss=1.0130, Valid Loss=0.2421, Valid R2=0.4538, Valid MAE=0.3930]\n",
            "Epoch  2: 100%|██████████| 2607/2607 [01:33<00:00, 27.92it/s, Train Loss=0.9739, Valid Loss=0.1530, Valid R2=0.6547, Valid MAE=0.3119]\n",
            "Epoch  3: 100%|██████████| 2607/2607 [01:33<00:00, 27.89it/s, Train Loss=0.9343, Valid Loss=0.3237, Valid R2=0.2696, Valid MAE=0.4838]\n",
            "Epoch  4: 100%|██████████| 2607/2607 [01:33<00:00, 27.81it/s, Train Loss=0.8962, Valid Loss=0.2374, Valid R2=0.4644, Valid MAE=0.4041]\n",
            "Epoch  5: 100%|██████████| 2607/2607 [01:31<00:00, 28.42it/s, Train Loss=0.8581, Valid Loss=0.2265, Valid R2=0.4890, Valid MAE=0.3940]\n",
            "Epoch  6: 100%|██████████| 2607/2607 [01:31<00:00, 28.36it/s, Train Loss=0.8214, Valid Loss=0.2696, Valid R2=0.3918, Valid MAE=0.4348]\n"
          ]
        },
        {
          "name": "stdout",
          "output_type": "stream",
          "text": [
            "Early Stopped\n",
            "Setting  20 of Parameters Grid is now on progres.\n"
          ]
        },
        {
          "name": "stderr",
          "output_type": "stream",
          "text": [
            "Epoch  0: 100%|██████████| 2607/2607 [01:32<00:00, 28.03it/s, Train Loss=1.1652, Valid Loss=0.2105, Valid R2=0.5251, Valid MAE=0.3564]\n",
            "Epoch  1: 100%|██████████| 2607/2607 [01:32<00:00, 28.16it/s, Train Loss=0.9163, Valid Loss=0.1824, Valid R2=0.5885, Valid MAE=0.3371]\n",
            "Epoch  2: 100%|██████████| 2607/2607 [01:32<00:00, 28.26it/s, Train Loss=0.8970, Valid Loss=0.1645, Valid R2=0.6288, Valid MAE=0.3181]\n",
            "Epoch  3: 100%|██████████| 2607/2607 [01:33<00:00, 27.86it/s, Train Loss=0.8381, Valid Loss=0.1692, Valid R2=0.6183, Valid MAE=0.3246]\n",
            "Epoch  4: 100%|██████████| 2607/2607 [01:33<00:00, 27.89it/s, Train Loss=0.8070, Valid Loss=0.1851, Valid R2=0.5823, Valid MAE=0.3439]\n",
            "Epoch  5: 100%|██████████| 2607/2607 [01:33<00:00, 28.02it/s, Train Loss=0.7730, Valid Loss=0.1335, Valid R2=0.6989, Valid MAE=0.2802]\n",
            "Epoch  6: 100%|██████████| 2607/2607 [01:33<00:00, 27.99it/s, Train Loss=0.7606, Valid Loss=0.1460, Valid R2=0.6706, Valid MAE=0.3091]\n",
            "Epoch  7: 100%|██████████| 2607/2607 [01:33<00:00, 27.96it/s, Train Loss=0.7400, Valid Loss=0.1377, Valid R2=0.6892, Valid MAE=0.2926]\n",
            "Epoch  8: 100%|██████████| 2607/2607 [01:33<00:00, 27.87it/s, Train Loss=0.7206, Valid Loss=0.1611, Valid R2=0.6366, Valid MAE=0.3045]\n",
            "Epoch  9: 100%|██████████| 2607/2607 [01:33<00:00, 27.91it/s, Train Loss=0.7079, Valid Loss=0.2606, Valid R2=0.4120, Valid MAE=0.3881]\n"
          ]
        },
        {
          "name": "stdout",
          "output_type": "stream",
          "text": [
            "Early Stopped\n",
            "Setting  21 of Parameters Grid is now on progres.\n"
          ]
        },
        {
          "name": "stderr",
          "output_type": "stream",
          "text": [
            "Epoch  0: 100%|██████████| 2607/2607 [01:32<00:00, 28.05it/s, Train Loss=1.1564, Valid Loss=0.1657, Valid R2=0.6262, Valid MAE=0.3267]\n",
            "Epoch  1: 100%|██████████| 2607/2607 [01:34<00:00, 27.73it/s, Train Loss=0.9266, Valid Loss=0.2003, Valid R2=0.5479, Valid MAE=0.3635]\n",
            "Epoch  2: 100%|██████████| 2607/2607 [01:34<00:00, 27.61it/s, Train Loss=0.8903, Valid Loss=0.1614, Valid R2=0.6359, Valid MAE=0.3192]\n",
            "Epoch  3: 100%|██████████| 2607/2607 [01:34<00:00, 27.54it/s, Train Loss=0.8594, Valid Loss=0.2124, Valid R2=0.5208, Valid MAE=0.3732]\n",
            "Epoch  4: 100%|██████████| 2607/2607 [01:35<00:00, 27.39it/s, Train Loss=0.8259, Valid Loss=0.1528, Valid R2=0.6553, Valid MAE=0.3098]\n",
            "Epoch  5: 100%|██████████| 2607/2607 [01:35<00:00, 27.32it/s, Train Loss=0.7993, Valid Loss=0.2249, Valid R2=0.4925, Valid MAE=0.3756]\n",
            "Epoch  6: 100%|██████████| 2607/2607 [01:31<00:00, 28.45it/s, Train Loss=0.7635, Valid Loss=0.1654, Valid R2=0.6267, Valid MAE=0.3165]\n",
            "Epoch  7: 100%|██████████| 2607/2607 [01:33<00:00, 27.91it/s, Train Loss=0.7517, Valid Loss=0.1728, Valid R2=0.6102, Valid MAE=0.3322]\n",
            "Epoch  8: 100%|██████████| 2607/2607 [01:33<00:00, 27.78it/s, Train Loss=0.7092, Valid Loss=0.2288, Valid R2=0.4838, Valid MAE=0.3641]\n"
          ]
        },
        {
          "name": "stdout",
          "output_type": "stream",
          "text": [
            "Early Stopped\n",
            "Setting  22 of Parameters Grid is now on progres.\n"
          ]
        },
        {
          "name": "stderr",
          "output_type": "stream",
          "text": [
            "Epoch  0: 100%|██████████| 2607/2607 [01:34<00:00, 27.63it/s, Train Loss=1.1458, Valid Loss=0.1624, Valid R2=0.6335, Valid MAE=0.3277]\n",
            "Epoch  1: 100%|██████████| 2607/2607 [01:35<00:00, 27.40it/s, Train Loss=0.9130, Valid Loss=0.1703, Valid R2=0.6156, Valid MAE=0.3288]\n",
            "Epoch  2: 100%|██████████| 2607/2607 [01:34<00:00, 27.48it/s, Train Loss=0.8713, Valid Loss=0.1446, Valid R2=0.6737, Valid MAE=0.3083]\n",
            "Epoch  3: 100%|██████████| 2607/2607 [01:34<00:00, 27.61it/s, Train Loss=0.8427, Valid Loss=0.2770, Valid R2=0.3750, Valid MAE=0.4415]\n",
            "Epoch  4: 100%|██████████| 2607/2607 [01:34<00:00, 27.53it/s, Train Loss=0.8067, Valid Loss=0.1770, Valid R2=0.6006, Valid MAE=0.3358]\n",
            "Epoch  5: 100%|██████████| 2607/2607 [01:33<00:00, 27.94it/s, Train Loss=0.7697, Valid Loss=0.2086, Valid R2=0.5292, Valid MAE=0.3611]\n",
            "Epoch  6: 100%|██████████| 2607/2607 [01:33<00:00, 27.99it/s, Train Loss=0.7412, Valid Loss=0.2044, Valid R2=0.5387, Valid MAE=0.3609]\n"
          ]
        },
        {
          "name": "stdout",
          "output_type": "stream",
          "text": [
            "Early Stopped\n",
            "Setting  23 of Parameters Grid is now on progres.\n"
          ]
        },
        {
          "name": "stderr",
          "output_type": "stream",
          "text": [
            "Epoch  0: 100%|██████████| 2607/2607 [01:34<00:00, 27.60it/s, Train Loss=1.0547, Valid Loss=0.2094, Valid R2=0.5276, Valid MAE=0.3595]\n",
            "Epoch  1: 100%|██████████| 2607/2607 [01:34<00:00, 27.48it/s, Train Loss=0.8881, Valid Loss=0.2007, Valid R2=0.5472, Valid MAE=0.3536]\n",
            "Epoch  2: 100%|██████████| 2607/2607 [01:34<00:00, 27.47it/s, Train Loss=0.8534, Valid Loss=0.2764, Valid R2=0.3764, Valid MAE=0.4250]\n",
            "Epoch  3: 100%|██████████| 2607/2607 [01:36<00:00, 27.13it/s, Train Loss=0.7985, Valid Loss=0.2130, Valid R2=0.5195, Valid MAE=0.3685]\n",
            "Epoch  4: 100%|██████████| 2607/2607 [01:34<00:00, 27.64it/s, Train Loss=0.7579, Valid Loss=0.2079, Valid R2=0.5309, Valid MAE=0.3703]\n",
            "Epoch  5: 100%|██████████| 2607/2607 [01:34<00:00, 27.57it/s, Train Loss=0.7337, Valid Loss=0.3581, Valid R2=0.1919, Valid MAE=0.4672]\n"
          ]
        },
        {
          "name": "stdout",
          "output_type": "stream",
          "text": [
            "Early Stopped\n",
            "Setting  24 of Parameters Grid is now on progres.\n"
          ]
        },
        {
          "name": "stderr",
          "output_type": "stream",
          "text": [
            "Epoch  0: 100%|██████████| 2607/2607 [01:19<00:00, 32.96it/s, Train Loss=1.3730, Valid Loss=0.2546, Valid R2=0.4254, Valid MAE=0.3979]\n",
            "Epoch  1: 100%|██████████| 2607/2607 [01:19<00:00, 32.94it/s, Train Loss=1.0076, Valid Loss=0.2202, Valid R2=0.5031, Valid MAE=0.3790]\n",
            "Epoch  2: 100%|██████████| 2607/2607 [01:16<00:00, 33.87it/s, Train Loss=0.9770, Valid Loss=0.2471, Valid R2=0.4426, Valid MAE=0.4006]\n",
            "Epoch  3: 100%|██████████| 2607/2607 [01:16<00:00, 34.02it/s, Train Loss=0.9399, Valid Loss=0.2306, Valid R2=0.4797, Valid MAE=0.3782]\n",
            "Epoch  4: 100%|██████████| 2607/2607 [01:14<00:00, 34.85it/s, Train Loss=0.9151, Valid Loss=0.2653, Valid R2=0.4013, Valid MAE=0.4151]\n",
            "Epoch  5: 100%|██████████| 2607/2607 [01:19<00:00, 32.86it/s, Train Loss=0.8815, Valid Loss=0.2847, Valid R2=0.3576, Valid MAE=0.4384]\n"
          ]
        },
        {
          "name": "stdout",
          "output_type": "stream",
          "text": [
            "Early Stopped\n",
            "Setting  25 of Parameters Grid is now on progres.\n"
          ]
        },
        {
          "name": "stderr",
          "output_type": "stream",
          "text": [
            "Epoch  0: 100%|██████████| 2607/2607 [01:16<00:00, 34.08it/s, Train Loss=1.2476, Valid Loss=0.3262, Valid R2=0.2639, Valid MAE=0.4739]\n",
            "Epoch  1: 100%|██████████| 2607/2607 [01:14<00:00, 34.86it/s, Train Loss=0.9271, Valid Loss=0.2221, Valid R2=0.4989, Valid MAE=0.3820]\n",
            "Epoch  2: 100%|██████████| 2607/2607 [01:17<00:00, 33.61it/s, Train Loss=0.8704, Valid Loss=0.1713, Valid R2=0.6135, Valid MAE=0.3166]\n",
            "Epoch  3: 100%|██████████| 2607/2607 [01:15<00:00, 34.41it/s, Train Loss=0.8581, Valid Loss=0.1795, Valid R2=0.5951, Valid MAE=0.3307]\n",
            "Epoch  4: 100%|██████████| 2607/2607 [01:13<00:00, 35.24it/s, Train Loss=0.8441, Valid Loss=0.1503, Valid R2=0.6609, Valid MAE=0.3188]\n",
            "Epoch  5: 100%|██████████| 2607/2607 [01:15<00:00, 34.73it/s, Train Loss=0.8115, Valid Loss=0.2387, Valid R2=0.4614, Valid MAE=0.3946]\n",
            "Epoch  6: 100%|██████████| 2607/2607 [01:18<00:00, 33.22it/s, Train Loss=0.8031, Valid Loss=0.1550, Valid R2=0.6502, Valid MAE=0.3078]\n",
            "Epoch  7: 100%|██████████| 2607/2607 [01:15<00:00, 34.35it/s, Train Loss=0.7474, Valid Loss=0.2392, Valid R2=0.4602, Valid MAE=0.3937]\n",
            "Epoch  8: 100%|██████████| 2607/2607 [01:19<00:00, 32.81it/s, Train Loss=0.7301, Valid Loss=0.1888, Valid R2=0.5741, Valid MAE=0.3374]\n"
          ]
        },
        {
          "name": "stdout",
          "output_type": "stream",
          "text": [
            "Early Stopped\n",
            "Setting  26 of Parameters Grid is now on progres.\n"
          ]
        },
        {
          "name": "stderr",
          "output_type": "stream",
          "text": [
            "Epoch  0: 100%|██████████| 2607/2607 [01:17<00:00, 33.63it/s, Train Loss=1.2480, Valid Loss=0.1593, Valid R2=0.6406, Valid MAE=0.3094]\n",
            "Epoch  1: 100%|██████████| 2607/2607 [01:19<00:00, 32.93it/s, Train Loss=0.9758, Valid Loss=0.2950, Valid R2=0.3345, Valid MAE=0.4332]\n",
            "Epoch  2: 100%|██████████| 2607/2607 [01:17<00:00, 33.74it/s, Train Loss=0.9429, Valid Loss=0.2215, Valid R2=0.5003, Valid MAE=0.3843]\n",
            "Epoch  3: 100%|██████████| 2607/2607 [01:18<00:00, 33.24it/s, Train Loss=0.9033, Valid Loss=0.2236, Valid R2=0.4954, Valid MAE=0.3838]\n",
            "Epoch  4: 100%|██████████| 2607/2607 [01:16<00:00, 34.12it/s, Train Loss=0.8767, Valid Loss=0.2208, Valid R2=0.5018, Valid MAE=0.3857]\n"
          ]
        },
        {
          "name": "stdout",
          "output_type": "stream",
          "text": [
            "Early Stopped\n",
            "Setting  27 of Parameters Grid is now on progres.\n"
          ]
        },
        {
          "name": "stderr",
          "output_type": "stream",
          "text": [
            "Epoch  0: 100%|██████████| 2607/2607 [01:17<00:00, 33.61it/s, Train Loss=1.1829, Valid Loss=0.2223, Valid R2=0.4984, Valid MAE=0.3844]\n",
            "Epoch  1: 100%|██████████| 2607/2607 [01:16<00:00, 33.97it/s, Train Loss=0.9697, Valid Loss=0.1738, Valid R2=0.6078, Valid MAE=0.3296]\n",
            "Epoch  2: 100%|██████████| 2607/2607 [01:14<00:00, 35.17it/s, Train Loss=0.9324, Valid Loss=0.1542, Valid R2=0.6521, Valid MAE=0.2981]\n",
            "Epoch  3: 100%|██████████| 2607/2607 [01:17<00:00, 33.59it/s, Train Loss=0.8799, Valid Loss=0.1523, Valid R2=0.6563, Valid MAE=0.2992]\n",
            "Epoch  4: 100%|██████████| 2607/2607 [01:16<00:00, 33.96it/s, Train Loss=0.8474, Valid Loss=0.1344, Valid R2=0.6967, Valid MAE=0.2831]\n",
            "Epoch  5: 100%|██████████| 2607/2607 [01:18<00:00, 33.22it/s, Train Loss=0.8219, Valid Loss=0.2093, Valid R2=0.5278, Valid MAE=0.3554]\n",
            "Epoch  6: 100%|██████████| 2607/2607 [01:17<00:00, 33.57it/s, Train Loss=0.8025, Valid Loss=0.1379, Valid R2=0.6888, Valid MAE=0.2962]\n",
            "Epoch  7: 100%|██████████| 2607/2607 [01:17<00:00, 33.76it/s, Train Loss=0.7775, Valid Loss=0.1459, Valid R2=0.6708, Valid MAE=0.2907]\n",
            "Epoch  8: 100%|██████████| 2607/2607 [01:15<00:00, 34.50it/s, Train Loss=0.7489, Valid Loss=0.1744, Valid R2=0.6065, Valid MAE=0.3142]\n"
          ]
        },
        {
          "name": "stdout",
          "output_type": "stream",
          "text": [
            "Early Stopped\n",
            "Setting  28 of Parameters Grid is now on progres.\n"
          ]
        },
        {
          "name": "stderr",
          "output_type": "stream",
          "text": [
            "Epoch  0: 100%|██████████| 2607/2607 [01:18<00:00, 33.29it/s, Train Loss=1.0245, Valid Loss=0.1812, Valid R2=0.5911, Valid MAE=0.3402]\n",
            "Epoch  1: 100%|██████████| 2607/2607 [01:19<00:00, 32.62it/s, Train Loss=0.8505, Valid Loss=0.1895, Valid R2=0.5724, Valid MAE=0.3470]\n",
            "Epoch  2: 100%|██████████| 2607/2607 [01:15<00:00, 34.59it/s, Train Loss=0.8144, Valid Loss=0.1722, Valid R2=0.6115, Valid MAE=0.3430]\n",
            "Epoch  3: 100%|██████████| 2607/2607 [01:17<00:00, 33.82it/s, Train Loss=0.7789, Valid Loss=0.1502, Valid R2=0.6610, Valid MAE=0.3091]\n",
            "Epoch  4: 100%|██████████| 2607/2607 [01:17<00:00, 33.47it/s, Train Loss=0.7716, Valid Loss=0.1186, Valid R2=0.7325, Valid MAE=0.2684]\n",
            "Epoch  5: 100%|██████████| 2607/2607 [01:16<00:00, 33.98it/s, Train Loss=0.7525, Valid Loss=0.1421, Valid R2=0.6794, Valid MAE=0.2913]\n",
            "Epoch  6: 100%|██████████| 2607/2607 [01:16<00:00, 34.10it/s, Train Loss=0.7376, Valid Loss=0.1304, Valid R2=0.7058, Valid MAE=0.2839]\n",
            "Epoch  7: 100%|██████████| 2607/2607 [01:16<00:00, 33.92it/s, Train Loss=0.7107, Valid Loss=0.1352, Valid R2=0.6949, Valid MAE=0.2900]\n",
            "Epoch  8: 100%|██████████| 2607/2607 [01:17<00:00, 33.73it/s, Train Loss=0.6962, Valid Loss=0.1442, Valid R2=0.6747, Valid MAE=0.3147]\n"
          ]
        },
        {
          "name": "stdout",
          "output_type": "stream",
          "text": [
            "Early Stopped\n",
            "Setting  29 of Parameters Grid is now on progres.\n"
          ]
        },
        {
          "name": "stderr",
          "output_type": "stream",
          "text": [
            "Epoch  0: 100%|██████████| 2607/2607 [01:18<00:00, 33.06it/s, Train Loss=1.0173, Valid Loss=0.1832, Valid R2=0.5867, Valid MAE=0.3423]\n",
            "Epoch  1: 100%|██████████| 2607/2607 [01:15<00:00, 34.72it/s, Train Loss=0.8613, Valid Loss=0.2190, Valid R2=0.5058, Valid MAE=0.3824]\n",
            "Epoch  2: 100%|██████████| 2607/2607 [01:16<00:00, 34.23it/s, Train Loss=0.8094, Valid Loss=0.4272, Valid R2=0.0361, Valid MAE=0.5423]\n",
            "Epoch  3: 100%|██████████| 2607/2607 [01:18<00:00, 33.09it/s, Train Loss=0.7649, Valid Loss=0.2971, Valid R2=0.3297, Valid MAE=0.4394]\n",
            "Epoch  4: 100%|██████████| 2607/2607 [01:16<00:00, 34.26it/s, Train Loss=0.7419, Valid Loss=0.1482, Valid R2=0.6657, Valid MAE=0.3113]\n",
            "Epoch  5: 100%|██████████| 2607/2607 [01:17<00:00, 33.78it/s, Train Loss=0.7003, Valid Loss=0.1554, Valid R2=0.6494, Valid MAE=0.3182]\n",
            "Epoch  6: 100%|██████████| 2607/2607 [01:18<00:00, 33.23it/s, Train Loss=0.6661, Valid Loss=0.1719, Valid R2=0.6121, Valid MAE=0.3299]\n",
            "Epoch  7: 100%|██████████| 2607/2607 [01:17<00:00, 33.60it/s, Train Loss=0.6544, Valid Loss=0.1829, Valid R2=0.5873, Valid MAE=0.3423]\n",
            "Epoch  8: 100%|██████████| 2607/2607 [01:18<00:00, 33.15it/s, Train Loss=0.6287, Valid Loss=0.1625, Valid R2=0.6333, Valid MAE=0.3167]\n"
          ]
        },
        {
          "name": "stdout",
          "output_type": "stream",
          "text": [
            "Early Stopped\n",
            "Setting  30 of Parameters Grid is now on progres.\n"
          ]
        },
        {
          "name": "stderr",
          "output_type": "stream",
          "text": [
            "Epoch  0: 100%|██████████| 2607/2607 [01:17<00:00, 33.43it/s, Train Loss=1.2687, Valid Loss=0.2343, Valid R2=0.4712, Valid MAE=0.4047]\n",
            "Epoch  1: 100%|██████████| 2607/2607 [01:18<00:00, 33.03it/s, Train Loss=0.9172, Valid Loss=0.1617, Valid R2=0.6351, Valid MAE=0.3205]\n",
            "Epoch  2: 100%|██████████| 2607/2607 [01:19<00:00, 32.62it/s, Train Loss=0.8887, Valid Loss=0.1921, Valid R2=0.5666, Valid MAE=0.3423]\n",
            "Epoch  3: 100%|██████████| 2607/2607 [01:18<00:00, 33.29it/s, Train Loss=0.8741, Valid Loss=0.2006, Valid R2=0.5474, Valid MAE=0.3455]\n",
            "Epoch  4: 100%|██████████| 2607/2607 [01:18<00:00, 33.02it/s, Train Loss=0.8354, Valid Loss=0.1524, Valid R2=0.6561, Valid MAE=0.3096]\n",
            "Epoch  5: 100%|██████████| 2607/2607 [01:19<00:00, 32.64it/s, Train Loss=0.8166, Valid Loss=0.2226, Valid R2=0.4978, Valid MAE=0.3675]\n",
            "Epoch  6: 100%|██████████| 2607/2607 [01:18<00:00, 33.25it/s, Train Loss=0.8060, Valid Loss=0.1405, Valid R2=0.6829, Valid MAE=0.2934]\n",
            "Epoch  7: 100%|██████████| 2607/2607 [01:16<00:00, 34.08it/s, Train Loss=0.7700, Valid Loss=0.1376, Valid R2=0.6896, Valid MAE=0.3067]\n",
            "Epoch  8: 100%|██████████| 2607/2607 [01:17<00:00, 33.68it/s, Train Loss=0.7560, Valid Loss=0.1792, Valid R2=0.5957, Valid MAE=0.3273]\n",
            "Epoch  9: 100%|██████████| 2607/2607 [01:17<00:00, 33.66it/s, Train Loss=0.7368, Valid Loss=0.2021, Valid R2=0.5440, Valid MAE=0.3444]\n",
            "Epoch 10: 100%|██████████| 2607/2607 [01:16<00:00, 34.14it/s, Train Loss=0.6991, Valid Loss=0.2692, Valid R2=0.3927, Valid MAE=0.4010]\n",
            "Epoch 11: 100%|██████████| 2607/2607 [01:16<00:00, 33.89it/s, Train Loss=0.6845, Valid Loss=0.1541, Valid R2=0.6523, Valid MAE=0.3012]\n"
          ]
        },
        {
          "name": "stdout",
          "output_type": "stream",
          "text": [
            "Early Stopped\n",
            "Setting  31 of Parameters Grid is now on progres.\n"
          ]
        },
        {
          "name": "stderr",
          "output_type": "stream",
          "text": [
            "Epoch  0: 100%|██████████| 2607/2607 [01:16<00:00, 34.03it/s, Train Loss=1.1967, Valid Loss=0.2753, Valid R2=0.3789, Valid MAE=0.4208]\n",
            "Epoch  1: 100%|██████████| 2607/2607 [01:16<00:00, 34.10it/s, Train Loss=0.9643, Valid Loss=0.1570, Valid R2=0.6457, Valid MAE=0.3176]\n",
            "Epoch  2: 100%|██████████| 2607/2607 [01:19<00:00, 32.69it/s, Train Loss=0.9220, Valid Loss=0.1938, Valid R2=0.5626, Valid MAE=0.3545]\n",
            "Epoch  3: 100%|██████████| 2607/2607 [01:19<00:00, 32.92it/s, Train Loss=0.8927, Valid Loss=0.1499, Valid R2=0.6617, Valid MAE=0.3027]\n",
            "Epoch  4: 100%|██████████| 2607/2607 [01:19<00:00, 32.77it/s, Train Loss=0.8421, Valid Loss=0.2042, Valid R2=0.5392, Valid MAE=0.3607]\n",
            "Epoch  5: 100%|██████████| 2607/2607 [01:16<00:00, 33.86it/s, Train Loss=0.8134, Valid Loss=0.2046, Valid R2=0.5384, Valid MAE=0.3557]\n",
            "Epoch  6: 100%|██████████| 2607/2607 [01:15<00:00, 34.44it/s, Train Loss=0.7759, Valid Loss=0.1500, Valid R2=0.6615, Valid MAE=0.3089]\n",
            "Epoch  7: 100%|██████████| 2607/2607 [01:16<00:00, 34.07it/s, Train Loss=0.7511, Valid Loss=0.1865, Valid R2=0.5793, Valid MAE=0.3285]\n"
          ]
        },
        {
          "name": "stdout",
          "output_type": "stream",
          "text": [
            "Early Stopped\n"
          ]
        }
      ],
      "source": [
        "basic_params = {\n",
        "    'T': 60,\n",
        "    'n': 40\n",
        "}\n",
        "\n",
        "param_grid = {\n",
        "    'p': [32, 40],\n",
        "    'cnn_kernel_height': [20, 30],\n",
        "    'cnn_hidden_size': [32, 40],\n",
        "    'skip_hidden_size': [32, 40],\n",
        "    'skip': [8, 10]\n",
        "}\n",
        "\n",
        "grid_model5 = GridSearch(criterion, eval_metrics, device, temp_save_path='checkpoints/model_by_param/temp_model.pt', masked=False)\n",
        "model_name = 'model5'\n",
        "best_model5 = grid_model5.train_by_grid(\n",
        "        Model5, basic_params, param_grid,\n",
        "        torch.optim.Adam, train_loader, val_loader,\n",
        "        patience=3, epochs=20,\n",
        "        save_filename=f'checkpoints/{model_name}_best.pt'\n",
        "    )"
      ]
    },
    {
      "cell_type": "code",
      "execution_count": 9,
      "metadata": {},
      "outputs": [
        {
          "name": "stdout",
          "output_type": "stream",
          "text": [
            "Test Loss: 0.1406 | Test R2: 0.9236 | Test MAE: 0.3074\n",
            "Saving Process Complete. Directory: model4_losses.png\n"
          ]
        },
        {
          "data": {
            "image/png": "[encoded data removed]",
            "text/plain": [
              "<Figure size 700x500 with 1 Axes>"
            ]
          },
          "metadata": {},
          "output_type": "display_data"
        }
      ],
      "source": [
        "grid_model5.test(test_loader)\n",
        "grid_model5.plot_losses(plot_title=f'{model_name}', save_filename=f'{model_name}_losses.png')"
      ]
    },
    {
      "attachments": {},
      "cell_type": "markdown",
      "metadata": {},
      "source": [
        "# Model 6"
      ]
    },
    {
      "cell_type": "code",
      "execution_count": 10,
      "metadata": {},
      "outputs": [
        {
          "name": "stdout",
          "output_type": "stream",
          "text": [
            "Total   4 cases are going to be searched.\n",
            "Setting   0 of Parameters Grid is now on progres.\n"
          ]
        },
        {
          "name": "stderr",
          "output_type": "stream",
          "text": [
            "Epoch  0: 100%|██████████| 2607/2607 [01:11<00:00, 36.55it/s, Train Loss=3.9171, Valid Loss=0.5057, Valid R2=-0.1411, Valid MAE=0.4798]\n",
            "Epoch  1: 100%|██████████| 2607/2607 [01:12<00:00, 36.13it/s, Train Loss=1.0132, Valid Loss=0.2706, Valid R2=0.3893, Valid MAE=0.3803]\n",
            "Epoch  2: 100%|██████████| 2607/2607 [01:13<00:00, 35.60it/s, Train Loss=0.8825, Valid Loss=0.2821, Valid R2=0.3635, Valid MAE=0.4094]\n",
            "Epoch  3: 100%|██████████| 2607/2607 [01:10<00:00, 36.94it/s, Train Loss=0.8206, Valid Loss=0.2031, Valid R2=0.5418, Valid MAE=0.3536]\n",
            "Epoch  4: 100%|██████████| 2607/2607 [01:13<00:00, 35.25it/s, Train Loss=0.7848, Valid Loss=0.3142, Valid R2=0.2911, Valid MAE=0.4307]\n",
            "Epoch  5: 100%|██████████| 2607/2607 [01:15<00:00, 34.42it/s, Train Loss=0.7583, Valid Loss=0.1972, Valid R2=0.5551, Valid MAE=0.3495]\n",
            "Epoch  6: 100%|██████████| 2607/2607 [01:15<00:00, 34.50it/s, Train Loss=0.7441, Valid Loss=0.1823, Valid R2=0.5888, Valid MAE=0.3369]\n",
            "Epoch  7: 100%|██████████| 2607/2607 [01:13<00:00, 35.53it/s, Train Loss=0.7263, Valid Loss=0.1644, Valid R2=0.6290, Valid MAE=0.3213]\n",
            "Epoch  8: 100%|██████████| 2607/2607 [01:14<00:00, 35.19it/s, Train Loss=0.7170, Valid Loss=0.1645, Valid R2=0.6288, Valid MAE=0.3220]\n",
            "Epoch  9: 100%|██████████| 2607/2607 [01:13<00:00, 35.41it/s, Train Loss=0.7069, Valid Loss=0.1862, Valid R2=0.5798, Valid MAE=0.3415]\n",
            "Epoch 10: 100%|██████████| 2607/2607 [01:14<00:00, 35.09it/s, Train Loss=0.7001, Valid Loss=0.1431, Valid R2=0.6770, Valid MAE=0.3037]\n",
            "Epoch 11: 100%|██████████| 2607/2607 [01:16<00:00, 34.24it/s, Train Loss=0.6900, Valid Loss=0.1347, Valid R2=0.6960, Valid MAE=0.2912]\n",
            "Epoch 12: 100%|██████████| 2607/2607 [01:13<00:00, 35.39it/s, Train Loss=0.6861, Valid Loss=0.1245, Valid R2=0.7191, Valid MAE=0.2772]\n",
            "Epoch 13: 100%|██████████| 2607/2607 [01:11<00:00, 36.34it/s, Train Loss=0.6807, Valid Loss=0.1348, Valid R2=0.6958, Valid MAE=0.2873]\n",
            "Epoch 14: 100%|██████████| 2607/2607 [01:15<00:00, 34.74it/s, Train Loss=0.6724, Valid Loss=0.1221, Valid R2=0.7245, Valid MAE=0.2699]\n",
            "Epoch 15: 100%|██████████| 2607/2607 [01:14<00:00, 35.03it/s, Train Loss=0.6681, Valid Loss=0.1439, Valid R2=0.6753, Valid MAE=0.2993]\n",
            "Epoch 16: 100%|██████████| 2607/2607 [01:13<00:00, 35.64it/s, Train Loss=0.6654, Valid Loss=0.1155, Valid R2=0.7393, Valid MAE=0.2615]\n",
            "Epoch 17: 100%|██████████| 2607/2607 [01:15<00:00, 34.58it/s, Train Loss=0.6672, Valid Loss=0.1224, Valid R2=0.7238, Valid MAE=0.2737]\n",
            "Epoch 18: 100%|██████████| 2607/2607 [01:14<00:00, 34.78it/s, Train Loss=0.6854, Valid Loss=0.1046, Valid R2=0.7639, Valid MAE=0.2478]\n",
            "Epoch 19: 100%|██████████| 2607/2607 [01:15<00:00, 34.63it/s, Train Loss=0.6597, Valid Loss=0.1314, Valid R2=0.7034, Valid MAE=0.2836]\n"
          ]
        },
        {
          "name": "stdout",
          "output_type": "stream",
          "text": [
            "Setting   1 of Parameters Grid is now on progres.\n"
          ]
        },
        {
          "name": "stderr",
          "output_type": "stream",
          "text": [
            "Epoch  0: 100%|██████████| 2607/2607 [01:37<00:00, 26.73it/s, Train Loss=4.2459, Valid Loss=0.8292, Valid R2=-0.8710, Valid MAE=0.6329]\n",
            "Epoch  1: 100%|██████████| 2607/2607 [01:37<00:00, 26.83it/s, Train Loss=1.0135, Valid Loss=0.4475, Valid R2=-0.0098, Valid MAE=0.5259]\n",
            "Epoch  2: 100%|██████████| 2607/2607 [01:37<00:00, 26.61it/s, Train Loss=0.8752, Valid Loss=0.2809, Valid R2=0.3662, Valid MAE=0.4229]\n",
            "Epoch  3: 100%|██████████| 2607/2607 [01:33<00:00, 27.82it/s, Train Loss=0.8092, Valid Loss=0.2072, Valid R2=0.5324, Valid MAE=0.3712]\n",
            "Epoch  4: 100%|██████████| 2607/2607 [01:37<00:00, 26.72it/s, Train Loss=0.7677, Valid Loss=0.1927, Valid R2=0.5651, Valid MAE=0.3586]\n",
            "Epoch  5: 100%|██████████| 2607/2607 [01:40<00:00, 26.05it/s, Train Loss=0.7380, Valid Loss=0.1932, Valid R2=0.5640, Valid MAE=0.3622]\n",
            "Epoch  6: 100%|██████████| 2607/2607 [01:37<00:00, 26.65it/s, Train Loss=0.7268, Valid Loss=0.1649, Valid R2=0.6280, Valid MAE=0.3334]\n",
            "Epoch  7: 100%|██████████| 2607/2607 [01:38<00:00, 26.54it/s, Train Loss=0.7108, Valid Loss=0.1189, Valid R2=0.7318, Valid MAE=0.2787]\n",
            "Epoch  8: 100%|██████████| 2607/2607 [01:38<00:00, 26.45it/s, Train Loss=0.7056, Valid Loss=0.1905, Valid R2=0.5701, Valid MAE=0.3598]\n",
            "Epoch  9: 100%|██████████| 2607/2607 [01:36<00:00, 26.95it/s, Train Loss=0.6993, Valid Loss=0.1364, Valid R2=0.6922, Valid MAE=0.3082]\n",
            "Epoch 10: 100%|██████████| 2607/2607 [01:35<00:00, 27.27it/s, Train Loss=0.6915, Valid Loss=0.1216, Valid R2=0.7257, Valid MAE=0.2888]\n",
            "Epoch 11: 100%|██████████| 2607/2607 [01:33<00:00, 27.92it/s, Train Loss=0.6849, Valid Loss=0.1103, Valid R2=0.7511, Valid MAE=0.2664]\n",
            "Epoch 12: 100%|██████████| 2607/2607 [01:35<00:00, 27.27it/s, Train Loss=0.6856, Valid Loss=0.1219, Valid R2=0.7250, Valid MAE=0.2876]\n",
            "Epoch 13: 100%|██████████| 2607/2607 [01:36<00:00, 26.96it/s, Train Loss=0.6764, Valid Loss=0.1056, Valid R2=0.7618, Valid MAE=0.2602]\n",
            "Epoch 14: 100%|██████████| 2607/2607 [01:37<00:00, 26.84it/s, Train Loss=0.6740, Valid Loss=0.1072, Valid R2=0.7582, Valid MAE=0.2630]\n",
            "Epoch 15: 100%|██████████| 2607/2607 [01:38<00:00, 26.54it/s, Train Loss=0.6681, Valid Loss=0.1082, Valid R2=0.7560, Valid MAE=0.2736]\n",
            "Epoch 16: 100%|██████████| 2607/2607 [01:39<00:00, 26.12it/s, Train Loss=0.6661, Valid Loss=0.1013, Valid R2=0.7714, Valid MAE=0.2448]\n",
            "Epoch 17: 100%|██████████| 2607/2607 [01:35<00:00, 27.37it/s, Train Loss=0.6655, Valid Loss=0.1245, Valid R2=0.7191, Valid MAE=0.2955]\n",
            "Epoch 18: 100%|██████████| 2607/2607 [01:36<00:00, 26.98it/s, Train Loss=0.6622, Valid Loss=0.1072, Valid R2=0.7582, Valid MAE=0.2571]\n",
            "Epoch 19: 100%|██████████| 2607/2607 [01:35<00:00, 27.44it/s, Train Loss=0.6590, Valid Loss=0.1194, Valid R2=0.7306, Valid MAE=0.2858]\n"
          ]
        },
        {
          "name": "stdout",
          "output_type": "stream",
          "text": [
            "Setting   2 of Parameters Grid is now on progres.\n"
          ]
        },
        {
          "name": "stderr",
          "output_type": "stream",
          "text": [
            "Epoch  0: 100%|██████████| 2607/2607 [01:15<00:00, 34.39it/s, Train Loss=3.5785, Valid Loss=0.4639, Valid R2=-0.0467, Valid MAE=0.5171]\n",
            "Epoch  1: 100%|██████████| 2607/2607 [01:13<00:00, 35.58it/s, Train Loss=0.8801, Valid Loss=0.1937, Valid R2=0.5630, Valid MAE=0.3276]\n",
            "Epoch  2: 100%|██████████| 2607/2607 [01:16<00:00, 34.14it/s, Train Loss=0.7988, Valid Loss=0.1614, Valid R2=0.6359, Valid MAE=0.3070]\n",
            "Epoch  3: 100%|██████████| 2607/2607 [01:13<00:00, 35.69it/s, Train Loss=0.7604, Valid Loss=0.1247, Valid R2=0.7186, Valid MAE=0.2850]\n",
            "Epoch  4: 100%|██████████| 2607/2607 [01:16<00:00, 34.05it/s, Train Loss=0.7399, Valid Loss=0.1196, Valid R2=0.7300, Valid MAE=0.2693]\n",
            "Epoch  5: 100%|██████████| 2607/2607 [01:12<00:00, 36.09it/s, Train Loss=0.7234, Valid Loss=0.1551, Valid R2=0.6501, Valid MAE=0.3207]\n",
            "Epoch  6: 100%|██████████| 2607/2607 [01:12<00:00, 36.06it/s, Train Loss=0.7074, Valid Loss=0.1149, Valid R2=0.7408, Valid MAE=0.2659]\n",
            "Epoch  7: 100%|██████████| 2607/2607 [01:15<00:00, 34.63it/s, Train Loss=0.6967, Valid Loss=0.1265, Valid R2=0.7146, Valid MAE=0.2806]\n",
            "Epoch  8: 100%|██████████| 2607/2607 [01:17<00:00, 33.77it/s, Train Loss=0.6862, Valid Loss=0.1217, Valid R2=0.7253, Valid MAE=0.2721]\n",
            "Epoch  9: 100%|██████████| 2607/2607 [01:13<00:00, 35.50it/s, Train Loss=0.6823, Valid Loss=0.1033, Valid R2=0.7669, Valid MAE=0.2455]\n",
            "Epoch 10: 100%|██████████| 2607/2607 [01:14<00:00, 35.11it/s, Train Loss=0.6752, Valid Loss=0.1218, Valid R2=0.7251, Valid MAE=0.2737]\n",
            "Epoch 11: 100%|██████████| 2607/2607 [01:13<00:00, 35.66it/s, Train Loss=0.6697, Valid Loss=0.1094, Valid R2=0.7530, Valid MAE=0.2543]\n",
            "Epoch 12: 100%|██████████| 2607/2607 [01:11<00:00, 36.38it/s, Train Loss=0.6635, Valid Loss=0.1407, Valid R2=0.6826, Valid MAE=0.2994]\n",
            "Epoch 13: 100%|██████████| 2607/2607 [01:15<00:00, 34.47it/s, Train Loss=0.6631, Valid Loss=0.1310, Valid R2=0.7044, Valid MAE=0.2872]\n"
          ]
        },
        {
          "name": "stdout",
          "output_type": "stream",
          "text": [
            "Early Stopped\n",
            "Setting   3 of Parameters Grid is now on progres.\n"
          ]
        },
        {
          "name": "stderr",
          "output_type": "stream",
          "text": [
            "Epoch  0: 100%|██████████| 2607/2607 [01:39<00:00, 26.18it/s, Train Loss=4.3515, Valid Loss=0.4102, Valid R2=0.0743, Valid MAE=0.4198]\n",
            "Epoch  1: 100%|██████████| 2607/2607 [01:37<00:00, 26.62it/s, Train Loss=1.0033, Valid Loss=0.3471, Valid R2=0.2167, Valid MAE=0.4265]\n",
            "Epoch  2: 100%|██████████| 2607/2607 [01:34<00:00, 27.64it/s, Train Loss=0.8549, Valid Loss=0.2097, Valid R2=0.5268, Valid MAE=0.3425]\n",
            "Epoch  3: 100%|██████████| 2607/2607 [01:35<00:00, 27.22it/s, Train Loss=0.7834, Valid Loss=0.1912, Valid R2=0.5685, Valid MAE=0.3173]\n",
            "Epoch  4: 100%|██████████| 2607/2607 [01:37<00:00, 26.64it/s, Train Loss=0.7455, Valid Loss=0.1674, Valid R2=0.6222, Valid MAE=0.3059]\n",
            "Epoch  5: 100%|██████████| 2607/2607 [01:37<00:00, 26.63it/s, Train Loss=0.7171, Valid Loss=0.1511, Valid R2=0.6591, Valid MAE=0.2914]\n",
            "Epoch  6: 100%|██████████| 2607/2607 [01:38<00:00, 26.46it/s, Train Loss=0.7000, Valid Loss=0.1549, Valid R2=0.6506, Valid MAE=0.3058]\n",
            "Epoch  7: 100%|██████████| 2607/2607 [01:38<00:00, 26.57it/s, Train Loss=0.6891, Valid Loss=0.1480, Valid R2=0.6660, Valid MAE=0.2970]\n",
            "Epoch  8: 100%|██████████| 2607/2607 [01:37<00:00, 26.65it/s, Train Loss=0.6768, Valid Loss=0.1310, Valid R2=0.7044, Valid MAE=0.2785]\n",
            "Epoch  9: 100%|██████████| 2607/2607 [01:40<00:00, 26.04it/s, Train Loss=0.6753, Valid Loss=0.1402, Valid R2=0.6837, Valid MAE=0.2950]\n",
            "Epoch 10: 100%|██████████| 2607/2607 [01:39<00:00, 26.32it/s, Train Loss=0.6686, Valid Loss=0.1151, Valid R2=0.7403, Valid MAE=0.2671]\n",
            "Epoch 11: 100%|██████████| 2607/2607 [01:39<00:00, 26.31it/s, Train Loss=0.6626, Valid Loss=0.1144, Valid R2=0.7418, Valid MAE=0.2611]\n",
            "Epoch 12: 100%|██████████| 2607/2607 [01:37<00:00, 26.82it/s, Train Loss=0.6584, Valid Loss=0.1255, Valid R2=0.7168, Valid MAE=0.2733]\n",
            "Epoch 13: 100%|██████████| 2607/2607 [01:38<00:00, 26.57it/s, Train Loss=0.6481, Valid Loss=0.1279, Valid R2=0.7113, Valid MAE=0.2817]\n",
            "Epoch 14: 100%|██████████| 2607/2607 [01:35<00:00, 27.39it/s, Train Loss=0.6436, Valid Loss=0.1065, Valid R2=0.7597, Valid MAE=0.2554]\n",
            "Epoch 15: 100%|██████████| 2607/2607 [01:37<00:00, 26.63it/s, Train Loss=0.6422, Valid Loss=0.1179, Valid R2=0.7339, Valid MAE=0.2716]\n",
            "Epoch 16: 100%|██████████| 2607/2607 [01:36<00:00, 27.05it/s, Train Loss=0.6408, Valid Loss=0.1531, Valid R2=0.6545, Valid MAE=0.3107]\n",
            "Epoch 17: 100%|██████████| 2607/2607 [01:36<00:00, 27.15it/s, Train Loss=0.6342, Valid Loss=0.1531, Valid R2=0.6546, Valid MAE=0.3154]\n",
            "Epoch 18: 100%|██████████| 2607/2607 [01:32<00:00, 28.06it/s, Train Loss=0.6310, Valid Loss=0.1464, Valid R2=0.6697, Valid MAE=0.3002]"
          ]
        },
        {
          "name": "stdout",
          "output_type": "stream",
          "text": [
            "Early Stopped\n"
          ]
        },
        {
          "name": "stderr",
          "output_type": "stream",
          "text": [
            "\n"
          ]
        }
      ],
      "source": [
        "basic_params = {\n",
        "    'T': 60,\n",
        "    'n': 40\n",
        "}\n",
        "\n",
        "param_grid = {\n",
        "    'm': [32, 40],\n",
        "    'T_modified': [20, 30],\n",
        "}\n",
        "\n",
        "grid_model6 = GridSearch(criterion, eval_metrics, device, temp_save_path='checkpoints/model_by_param/temp_model.pt', masked=False)\n",
        "model_name = 'model6'\n",
        "best_model6 = grid_model6.train_by_grid(\n",
        "        Model6, basic_params, param_grid,\n",
        "        torch.optim.Adam, train_loader, val_loader,\n",
        "        patience=3, epochs=20,\n",
        "        save_filename=f'checkpoints/{model_name}_best.pt'\n",
        "    )"
      ]
    },
    {
      "cell_type": "code",
      "execution_count": 11,
      "metadata": {},
      "outputs": [
        {
          "name": "stdout",
          "output_type": "stream",
          "text": [
            "Test Loss: 0.2684 | Test R2: 0.8542 | Test MAE: 0.4187\n",
            "Saving Process Complete. Directory: model6_losses.png\n"
          ]
        },
        {
          "data": {
            "image/png": "[encoded data removed]",
            "text/plain": [
              "<Figure size 700x500 with 1 Axes>"
            ]
          },
          "metadata": {},
          "output_type": "display_data"
        }
      ],
      "source": [
        "grid_model6.test(test_loader)\n",
        "grid_model6.plot_losses(plot_title=f'{model_name}', save_filename=f'{model_name}_losses.png')"
      ]
    }
  ],
  "metadata": {
    "accelerator": "GPU",
    "colab": {
      "provenance": []
    },
    "kernelspec": {
      "display_name": "Python 3.9.13 ('kwon_dl')",
      "language": "python",
      "name": "python3"
    },
    "language_info": {
      "codemirror_mode": {
        "name": "ipython",
        "version": 3
      },
      "file_extension": ".py",
      "mimetype": "text/x-python",
      "name": "python",
      "nbconvert_exporter": "python",
      "pygments_lexer": "ipython3",
      "version": "3.9.13 (main, Aug 25 2022, 23:26:10) \n[GCC 11.2.0]"
    },
    "vscode": {
      "interpreter": {
        "hash": "7aba8400f5793028c76b760b8f218e34a1395ac8226b95289931317412384abc"
      }
    }
  },
  "nbformat": 4,
  "nbformat_minor": 0
}
