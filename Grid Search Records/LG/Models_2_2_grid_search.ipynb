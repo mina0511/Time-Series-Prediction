{
  "cells": [
    {
      "cell_type": "code",
      "execution_count": 1,
      "metadata": {
        "colab": {
          "base_uri": "https://localhost:8080/"
        },
        "id": "_5bOKo4qawlz",
        "outputId": "7b5c3117-3563-4ae2-ae23-5f31333709fe"
      },
      "outputs": [],
      "source": [
        "import pickle\n",
        "from models import Model2_2\n",
        "from tools import GridSearch"
      ]
    },
    {
      "cell_type": "code",
      "execution_count": 2,
      "metadata": {
        "id": "Qwjr4b4Xjgmz"
      },
      "outputs": [],
      "source": [
        "import torch\n",
        "from torch import nn\n",
        "from torch.utils.data import Dataset, DataLoader\n",
        "device = torch.device('cuda')\n",
        "\n",
        "from sklearn.metrics import r2_score, mean_absolute_error"
      ]
    },
    {
      "cell_type": "code",
      "execution_count": 3,
      "metadata": {
        "id": "9lI5sP74a3e0"
      },
      "outputs": [],
      "source": [
        "with open('data/train_dataset.pickle', 'rb') as f:\n",
        "    train_dataset = pickle.load(f)\n",
        "\n",
        "with open('data/val_dataset.pickle', 'rb') as f:\n",
        "    val_dataset = pickle.load(f)\n",
        "\n",
        "with open('data/test_dataset.pickle', 'rb') as f:\n",
        "    test_dataset = pickle.load(f)"
      ]
    },
    {
      "cell_type": "code",
      "execution_count": 4,
      "metadata": {
        "colab": {
          "base_uri": "https://localhost:8080/"
        },
        "id": "WDjR30F6kMgI",
        "outputId": "4368b402-852a-48f5-f857-0027652296e8"
      },
      "outputs": [],
      "source": [
        "train_loader = DataLoader(train_dataset, batch_size = 16, shuffle = True)\n",
        "val_loader = DataLoader(val_dataset, batch_size = 64, shuffle = False)\n",
        "test_loader = DataLoader(test_dataset, batch_size=64, shuffle=False)"
      ]
    },
    {
      "cell_type": "code",
      "execution_count": 5,
      "metadata": {},
      "outputs": [],
      "source": [
        "criterion = nn.MSELoss()\n",
        "eval_metrics = [\n",
        "    r2_score,\n",
        "    mean_absolute_error\n",
        "]"
      ]
    },
    {
      "attachments": {},
      "cell_type": "markdown",
      "metadata": {},
      "source": [
        "# Model 2"
      ]
    },
    {
      "cell_type": "code",
      "execution_count": 6,
      "metadata": {},
      "outputs": [
        {
          "name": "stdout",
          "output_type": "stream",
          "text": [
            "Total   8 cases are going to be searched.\n",
            "Setting   0 of Parameters Grid is now on progres.\n"
          ]
        },
        {
          "name": "stderr",
          "output_type": "stream",
          "text": [
            "Epoch  0: 100%|██████████| 2607/2607 [00:10<00:00, 260.14it/s, Train Loss=4.6514, Valid Loss=1.3533, Valid R2=-2.0535, Valid MAE=0.9105]\n",
            "Epoch  1: 100%|██████████| 2607/2607 [00:09<00:00, 281.60it/s, Train Loss=1.5675, Valid Loss=0.9975, Valid R2=-1.2507, Valid MAE=0.7751]\n",
            "Epoch  2: 100%|██████████| 2607/2607 [00:09<00:00, 281.63it/s, Train Loss=1.3142, Valid Loss=0.8446, Valid R2=-0.9058, Valid MAE=0.7094]\n",
            "Epoch  3: 100%|██████████| 2607/2607 [00:09<00:00, 280.70it/s, Train Loss=1.2066, Valid Loss=0.5336, Valid R2=-0.2041, Valid MAE=0.5720]\n",
            "Epoch  4: 100%|██████████| 2607/2607 [00:09<00:00, 287.68it/s, Train Loss=1.1287, Valid Loss=0.4387, Valid R2=0.0102, Valid MAE=0.5207]\n",
            "Epoch  5: 100%|██████████| 2607/2607 [00:09<00:00, 275.46it/s, Train Loss=1.0777, Valid Loss=0.4411, Valid R2=0.0047, Valid MAE=0.5346]\n",
            "Epoch  6: 100%|██████████| 2607/2607 [00:09<00:00, 278.93it/s, Train Loss=1.0421, Valid Loss=0.3743, Valid R2=0.1554, Valid MAE=0.4893]\n",
            "Epoch  7: 100%|██████████| 2607/2607 [00:09<00:00, 262.49it/s, Train Loss=1.0138, Valid Loss=0.3640, Valid R2=0.1787, Valid MAE=0.4898]\n",
            "Epoch  8: 100%|██████████| 2607/2607 [00:09<00:00, 271.38it/s, Train Loss=0.9929, Valid Loss=0.3133, Valid R2=0.2932, Valid MAE=0.4561]\n",
            "Epoch  9: 100%|██████████| 2607/2607 [00:09<00:00, 285.78it/s, Train Loss=0.9715, Valid Loss=0.3183, Valid R2=0.2818, Valid MAE=0.4680]\n",
            "Epoch 10: 100%|██████████| 2607/2607 [00:09<00:00, 282.77it/s, Train Loss=0.9445, Valid Loss=0.3042, Valid R2=0.3136, Valid MAE=0.4532]\n",
            "Epoch 11: 100%|██████████| 2607/2607 [00:09<00:00, 276.31it/s, Train Loss=0.9397, Valid Loss=0.2942, Valid R2=0.3362, Valid MAE=0.4474]\n",
            "Epoch 12: 100%|██████████| 2607/2607 [00:09<00:00, 281.99it/s, Train Loss=0.9201, Valid Loss=0.3016, Valid R2=0.3196, Valid MAE=0.4516]\n",
            "Epoch 13: 100%|██████████| 2607/2607 [00:09<00:00, 274.37it/s, Train Loss=0.9084, Valid Loss=0.2809, Valid R2=0.3661, Valid MAE=0.4414]\n",
            "Epoch 14: 100%|██████████| 2607/2607 [00:09<00:00, 271.75it/s, Train Loss=0.8968, Valid Loss=0.3045, Valid R2=0.3129, Valid MAE=0.4571]\n",
            "Epoch 15: 100%|██████████| 2607/2607 [00:09<00:00, 272.58it/s, Train Loss=0.8857, Valid Loss=0.2585, Valid R2=0.4168, Valid MAE=0.4217]\n",
            "Epoch 16: 100%|██████████| 2607/2607 [00:09<00:00, 277.79it/s, Train Loss=0.8760, Valid Loss=0.2919, Valid R2=0.3414, Valid MAE=0.4474]\n",
            "Epoch 17: 100%|██████████| 2607/2607 [00:09<00:00, 280.76it/s, Train Loss=0.8657, Valid Loss=0.2661, Valid R2=0.3996, Valid MAE=0.4294]\n",
            "Epoch 18: 100%|██████████| 2607/2607 [00:09<00:00, 272.89it/s, Train Loss=0.8728, Valid Loss=0.2694, Valid R2=0.3921, Valid MAE=0.4372]\n",
            "Epoch 19: 100%|██████████| 2607/2607 [00:09<00:00, 279.25it/s, Train Loss=0.8620, Valid Loss=0.2511, Valid R2=0.4335, Valid MAE=0.4178]\n"
          ]
        },
        {
          "name": "stdout",
          "output_type": "stream",
          "text": [
            "Setting   1 of Parameters Grid is now on progres.\n"
          ]
        },
        {
          "name": "stderr",
          "output_type": "stream",
          "text": [
            "Epoch  0: 100%|██████████| 2607/2607 [00:09<00:00, 275.90it/s, Train Loss=4.6185, Valid Loss=1.6039, Valid R2=-2.6190, Valid MAE=0.9986]\n",
            "Epoch  1: 100%|██████████| 2607/2607 [00:09<00:00, 284.81it/s, Train Loss=1.2958, Valid Loss=0.6279, Valid R2=-0.4167, Valid MAE=0.5880]\n",
            "Epoch  2: 100%|██████████| 2607/2607 [00:09<00:00, 287.15it/s, Train Loss=1.1115, Valid Loss=0.3383, Valid R2=0.2367, Valid MAE=0.4273]\n",
            "Epoch  3: 100%|██████████| 2607/2607 [00:09<00:00, 286.01it/s, Train Loss=1.0199, Valid Loss=0.2916, Valid R2=0.3421, Valid MAE=0.4401]\n",
            "Epoch  4: 100%|██████████| 2607/2607 [00:09<00:00, 283.53it/s, Train Loss=0.9691, Valid Loss=0.2416, Valid R2=0.4548, Valid MAE=0.4054]\n",
            "Epoch  5: 100%|██████████| 2607/2607 [00:09<00:00, 277.13it/s, Train Loss=0.9359, Valid Loss=0.2307, Valid R2=0.4795, Valid MAE=0.4007]\n",
            "Epoch  6: 100%|██████████| 2607/2607 [00:09<00:00, 287.21it/s, Train Loss=0.9003, Valid Loss=0.2646, Valid R2=0.4030, Valid MAE=0.4410]\n",
            "Epoch  7: 100%|██████████| 2607/2607 [00:09<00:00, 289.09it/s, Train Loss=0.8700, Valid Loss=0.2285, Valid R2=0.4843, Valid MAE=0.3986]\n",
            "Epoch  8: 100%|██████████| 2607/2607 [00:09<00:00, 287.22it/s, Train Loss=0.8585, Valid Loss=0.2287, Valid R2=0.4839, Valid MAE=0.3990]\n",
            "Epoch  9: 100%|██████████| 2607/2607 [00:09<00:00, 280.36it/s, Train Loss=0.8443, Valid Loss=0.2194, Valid R2=0.5048, Valid MAE=0.3831]\n",
            "Epoch 10: 100%|██████████| 2607/2607 [00:09<00:00, 287.68it/s, Train Loss=0.8347, Valid Loss=0.2260, Valid R2=0.4900, Valid MAE=0.3868]\n",
            "Epoch 11: 100%|██████████| 2607/2607 [00:09<00:00, 287.70it/s, Train Loss=0.8271, Valid Loss=0.2034, Valid R2=0.5410, Valid MAE=0.3657]\n",
            "Epoch 12: 100%|██████████| 2607/2607 [00:09<00:00, 288.34it/s, Train Loss=0.8204, Valid Loss=0.2185, Valid R2=0.5071, Valid MAE=0.3780]\n",
            "Epoch 13: 100%|██████████| 2607/2607 [00:09<00:00, 286.51it/s, Train Loss=0.8095, Valid Loss=0.2120, Valid R2=0.5216, Valid MAE=0.3732]\n",
            "Epoch 14: 100%|██████████| 2607/2607 [00:09<00:00, 287.29it/s, Train Loss=0.8106, Valid Loss=0.2115, Valid R2=0.5227, Valid MAE=0.3693]\n",
            "Epoch 15: 100%|██████████| 2607/2607 [00:09<00:00, 287.44it/s, Train Loss=0.8051, Valid Loss=0.2109, Valid R2=0.5241, Valid MAE=0.3591]\n"
          ]
        },
        {
          "name": "stdout",
          "output_type": "stream",
          "text": [
            "Early Stopped\n",
            "Setting   2 of Parameters Grid is now on progres.\n"
          ]
        },
        {
          "name": "stderr",
          "output_type": "stream",
          "text": [
            "Epoch  0: 100%|██████████| 2607/2607 [00:09<00:00, 289.44it/s, Train Loss=4.3789, Valid Loss=2.0614, Valid R2=-3.6514, Valid MAE=1.1629]\n",
            "Epoch  1: 100%|██████████| 2607/2607 [00:08<00:00, 289.72it/s, Train Loss=1.1922, Valid Loss=0.5140, Valid R2=-0.1597, Valid MAE=0.6102]\n",
            "Epoch  2: 100%|██████████| 2607/2607 [00:09<00:00, 289.22it/s, Train Loss=1.0344, Valid Loss=0.3146, Valid R2=0.2902, Valid MAE=0.4825]\n",
            "Epoch  3: 100%|██████████| 2607/2607 [00:09<00:00, 289.30it/s, Train Loss=0.9513, Valid Loss=0.2788, Valid R2=0.3709, Valid MAE=0.4362]\n",
            "Epoch  4: 100%|██████████| 2607/2607 [00:08<00:00, 289.76it/s, Train Loss=0.9080, Valid Loss=0.2600, Valid R2=0.4133, Valid MAE=0.4245]\n",
            "Epoch  5: 100%|██████████| 2607/2607 [00:09<00:00, 287.21it/s, Train Loss=0.8818, Valid Loss=0.2427, Valid R2=0.4524, Valid MAE=0.4030]\n",
            "Epoch  6: 100%|██████████| 2607/2607 [00:09<00:00, 286.07it/s, Train Loss=0.8576, Valid Loss=0.2761, Valid R2=0.3770, Valid MAE=0.4374]\n",
            "Epoch  7: 100%|██████████| 2607/2607 [00:09<00:00, 284.13it/s, Train Loss=0.8368, Valid Loss=0.2189, Valid R2=0.5062, Valid MAE=0.3898]\n",
            "Epoch  8: 100%|██████████| 2607/2607 [00:09<00:00, 280.56it/s, Train Loss=0.8253, Valid Loss=0.2741, Valid R2=0.3815, Valid MAE=0.4518]\n",
            "Epoch  9: 100%|██████████| 2607/2607 [00:09<00:00, 275.18it/s, Train Loss=0.8125, Valid Loss=0.2595, Valid R2=0.4144, Valid MAE=0.4309]\n",
            "Epoch 10: 100%|██████████| 2607/2607 [00:09<00:00, 276.06it/s, Train Loss=0.8058, Valid Loss=0.2270, Valid R2=0.4878, Valid MAE=0.4017]\n",
            "Epoch 11: 100%|██████████| 2607/2607 [00:09<00:00, 275.57it/s, Train Loss=0.8013, Valid Loss=0.2657, Valid R2=0.4005, Valid MAE=0.4380]\n"
          ]
        },
        {
          "name": "stdout",
          "output_type": "stream",
          "text": [
            "Early Stopped\n",
            "Setting   3 of Parameters Grid is now on progres.\n"
          ]
        },
        {
          "name": "stderr",
          "output_type": "stream",
          "text": [
            "Epoch  0: 100%|██████████| 2607/2607 [00:09<00:00, 276.64it/s, Train Loss=3.6441, Valid Loss=1.3068, Valid R2=-1.9487, Valid MAE=0.9549]\n",
            "Epoch  1: 100%|██████████| 2607/2607 [00:09<00:00, 276.95it/s, Train Loss=1.1166, Valid Loss=0.3500, Valid R2=0.2103, Valid MAE=0.5158]\n",
            "Epoch  2: 100%|██████████| 2607/2607 [00:09<00:00, 276.56it/s, Train Loss=0.9856, Valid Loss=0.2610, Valid R2=0.4110, Valid MAE=0.4521]\n",
            "Epoch  3: 100%|██████████| 2607/2607 [00:09<00:00, 280.77it/s, Train Loss=0.9280, Valid Loss=0.2558, Valid R2=0.4227, Valid MAE=0.4442]\n",
            "Epoch  4: 100%|██████████| 2607/2607 [00:09<00:00, 278.83it/s, Train Loss=0.8845, Valid Loss=0.2297, Valid R2=0.4817, Valid MAE=0.4098]\n",
            "Epoch  5: 100%|██████████| 2607/2607 [00:09<00:00, 275.25it/s, Train Loss=0.8519, Valid Loss=0.2057, Valid R2=0.5359, Valid MAE=0.3833]\n",
            "Epoch  6: 100%|██████████| 2607/2607 [00:09<00:00, 284.22it/s, Train Loss=0.8344, Valid Loss=0.2093, Valid R2=0.5277, Valid MAE=0.3877]\n",
            "Epoch  7: 100%|██████████| 2607/2607 [00:09<00:00, 275.74it/s, Train Loss=0.8196, Valid Loss=0.2082, Valid R2=0.5302, Valid MAE=0.3757]\n",
            "Epoch  8: 100%|██████████| 2607/2607 [00:09<00:00, 278.02it/s, Train Loss=0.8045, Valid Loss=0.2239, Valid R2=0.4948, Valid MAE=0.3897]\n",
            "Epoch  9: 100%|██████████| 2607/2607 [00:09<00:00, 270.45it/s, Train Loss=0.7836, Valid Loss=0.2418, Valid R2=0.4544, Valid MAE=0.4021]\n"
          ]
        },
        {
          "name": "stdout",
          "output_type": "stream",
          "text": [
            "Early Stopped\n",
            "Setting   4 of Parameters Grid is now on progres.\n"
          ]
        },
        {
          "name": "stderr",
          "output_type": "stream",
          "text": [
            "Epoch  0: 100%|██████████| 2607/2607 [00:09<00:00, 274.94it/s, Train Loss=2.7909, Valid Loss=1.5760, Valid R2=-2.5560, Valid MAE=1.0134]\n",
            "Epoch  1: 100%|██████████| 2607/2607 [00:09<00:00, 275.46it/s, Train Loss=1.5827, Valid Loss=1.1912, Valid R2=-1.6877, Valid MAE=0.8819]\n",
            "Epoch  2: 100%|██████████| 2607/2607 [00:09<00:00, 278.20it/s, Train Loss=1.2831, Valid Loss=0.8674, Valid R2=-0.9572, Valid MAE=0.7501]\n",
            "Epoch  3: 100%|██████████| 2607/2607 [00:09<00:00, 272.80it/s, Train Loss=1.1629, Valid Loss=0.5700, Valid R2=-0.2862, Valid MAE=0.6208]\n",
            "Epoch  4: 100%|██████████| 2607/2607 [00:09<00:00, 279.00it/s, Train Loss=1.0776, Valid Loss=0.4456, Valid R2=-0.0055, Valid MAE=0.5429]\n",
            "Epoch  5: 100%|██████████| 2607/2607 [00:09<00:00, 275.16it/s, Train Loss=1.0257, Valid Loss=0.3000, Valid R2=0.3231, Valid MAE=0.4321]\n",
            "Epoch  6: 100%|██████████| 2607/2607 [00:09<00:00, 278.39it/s, Train Loss=0.9703, Valid Loss=0.2520, Valid R2=0.4313, Valid MAE=0.4025]\n",
            "Epoch  7: 100%|██████████| 2607/2607 [00:09<00:00, 280.04it/s, Train Loss=0.9481, Valid Loss=0.2143, Valid R2=0.5164, Valid MAE=0.3732]\n",
            "Epoch  8: 100%|██████████| 2607/2607 [00:09<00:00, 281.21it/s, Train Loss=0.9151, Valid Loss=0.2168, Valid R2=0.5107, Valid MAE=0.3720]\n",
            "Epoch  9: 100%|██████████| 2607/2607 [00:09<00:00, 272.50it/s, Train Loss=0.8928, Valid Loss=0.2593, Valid R2=0.4150, Valid MAE=0.4024]\n",
            "Epoch 10: 100%|██████████| 2607/2607 [00:09<00:00, 278.98it/s, Train Loss=0.8816, Valid Loss=0.2402, Valid R2=0.4581, Valid MAE=0.3933]\n",
            "Epoch 11: 100%|██████████| 2607/2607 [00:09<00:00, 274.61it/s, Train Loss=0.8692, Valid Loss=0.2204, Valid R2=0.5027, Valid MAE=0.3752]\n"
          ]
        },
        {
          "name": "stdout",
          "output_type": "stream",
          "text": [
            "Early Stopped\n",
            "Setting   5 of Parameters Grid is now on progres.\n"
          ]
        },
        {
          "name": "stderr",
          "output_type": "stream",
          "text": [
            "Epoch  0: 100%|██████████| 2607/2607 [00:09<00:00, 279.90it/s, Train Loss=3.1934, Valid Loss=1.5589, Valid R2=-2.5175, Valid MAE=0.9989]\n",
            "Epoch  1: 100%|██████████| 2607/2607 [00:09<00:00, 283.16it/s, Train Loss=1.1435, Valid Loss=0.4276, Valid R2=0.0351, Valid MAE=0.5296]\n",
            "Epoch  2: 100%|██████████| 2607/2607 [00:10<00:00, 252.74it/s, Train Loss=1.0110, Valid Loss=0.2175, Valid R2=0.5092, Valid MAE=0.3898]\n",
            "Epoch  3: 100%|██████████| 2607/2607 [00:09<00:00, 281.02it/s, Train Loss=0.9369, Valid Loss=0.1830, Valid R2=0.5872, Valid MAE=0.3434]\n",
            "Epoch  4: 100%|██████████| 2607/2607 [00:09<00:00, 284.08it/s, Train Loss=0.9075, Valid Loss=0.1904, Valid R2=0.5703, Valid MAE=0.3456]\n",
            "Epoch  5: 100%|██████████| 2607/2607 [00:09<00:00, 280.00it/s, Train Loss=0.8820, Valid Loss=0.1447, Valid R2=0.6736, Valid MAE=0.3029]\n",
            "Epoch  6: 100%|██████████| 2607/2607 [00:10<00:00, 258.48it/s, Train Loss=0.8529, Valid Loss=0.2065, Valid R2=0.5340, Valid MAE=0.3657]\n",
            "Epoch  7: 100%|██████████| 2607/2607 [00:10<00:00, 254.96it/s, Train Loss=0.8364, Valid Loss=0.2166, Valid R2=0.5113, Valid MAE=0.3719]\n",
            "Epoch  8: 100%|██████████| 2607/2607 [00:10<00:00, 256.32it/s, Train Loss=0.8218, Valid Loss=0.2132, Valid R2=0.5189, Valid MAE=0.3670]\n",
            "Epoch  9: 100%|██████████| 2607/2607 [00:09<00:00, 272.76it/s, Train Loss=0.8184, Valid Loss=0.2996, Valid R2=0.3239, Valid MAE=0.4505]\n"
          ]
        },
        {
          "name": "stdout",
          "output_type": "stream",
          "text": [
            "Early Stopped\n",
            "Setting   6 of Parameters Grid is now on progres.\n"
          ]
        },
        {
          "name": "stderr",
          "output_type": "stream",
          "text": [
            "Epoch  0: 100%|██████████| 2607/2607 [00:09<00:00, 274.36it/s, Train Loss=4.0044, Valid Loss=1.9057, Valid R2=-3.3001, Valid MAE=1.1198]\n",
            "Epoch  1: 100%|██████████| 2607/2607 [00:09<00:00, 278.04it/s, Train Loss=1.1204, Valid Loss=0.4083, Valid R2=0.0786, Valid MAE=0.5313]\n",
            "Epoch  2: 100%|██████████| 2607/2607 [00:09<00:00, 278.57it/s, Train Loss=0.9725, Valid Loss=0.2262, Valid R2=0.4896, Valid MAE=0.3893]\n",
            "Epoch  3: 100%|██████████| 2607/2607 [00:10<00:00, 259.08it/s, Train Loss=0.9154, Valid Loss=0.2818, Valid R2=0.3641, Valid MAE=0.4351]\n",
            "Epoch  4: 100%|██████████| 2607/2607 [00:09<00:00, 266.97it/s, Train Loss=0.8866, Valid Loss=0.2527, Valid R2=0.4299, Valid MAE=0.4135]\n",
            "Epoch  5: 100%|██████████| 2607/2607 [00:09<00:00, 276.03it/s, Train Loss=0.8653, Valid Loss=0.3398, Valid R2=0.2332, Valid MAE=0.4825]\n",
            "Epoch  6: 100%|██████████| 2607/2607 [00:09<00:00, 267.62it/s, Train Loss=0.8419, Valid Loss=0.3086, Valid R2=0.3037, Valid MAE=0.4475]\n"
          ]
        },
        {
          "name": "stdout",
          "output_type": "stream",
          "text": [
            "Early Stopped\n",
            "Setting   7 of Parameters Grid is now on progres.\n"
          ]
        },
        {
          "name": "stderr",
          "output_type": "stream",
          "text": [
            "Epoch  0: 100%|██████████| 2607/2607 [00:09<00:00, 276.37it/s, Train Loss=3.4379, Valid Loss=1.8850, Valid R2=-3.2534, Valid MAE=1.1473]\n",
            "Epoch  1: 100%|██████████| 2607/2607 [00:09<00:00, 274.58it/s, Train Loss=1.4661, Valid Loss=1.1510, Valid R2=-1.5970, Valid MAE=0.8652]\n",
            "Epoch  2: 100%|██████████| 2607/2607 [00:09<00:00, 276.01it/s, Train Loss=1.1568, Valid Loss=0.6714, Valid R2=-0.5150, Valid MAE=0.6597]\n",
            "Epoch  3: 100%|██████████| 2607/2607 [00:09<00:00, 273.99it/s, Train Loss=1.0152, Valid Loss=0.4082, Valid R2=0.0789, Valid MAE=0.5176]\n",
            "Epoch  4: 100%|██████████| 2607/2607 [00:09<00:00, 276.94it/s, Train Loss=0.9288, Valid Loss=0.2369, Valid R2=0.4655, Valid MAE=0.3945]\n",
            "Epoch  5: 100%|██████████| 2607/2607 [00:10<00:00, 256.78it/s, Train Loss=0.8778, Valid Loss=0.2083, Valid R2=0.5299, Valid MAE=0.3677]\n",
            "Epoch  6: 100%|██████████| 2607/2607 [00:09<00:00, 273.33it/s, Train Loss=0.8580, Valid Loss=0.1722, Valid R2=0.6114, Valid MAE=0.3315]\n",
            "Epoch  7: 100%|██████████| 2607/2607 [00:09<00:00, 276.20it/s, Train Loss=0.8220, Valid Loss=0.1824, Valid R2=0.5884, Valid MAE=0.3420]\n",
            "Epoch  8: 100%|██████████| 2607/2607 [00:09<00:00, 273.31it/s, Train Loss=0.8066, Valid Loss=0.2045, Valid R2=0.5385, Valid MAE=0.3634]\n",
            "Epoch  9: 100%|██████████| 2607/2607 [00:09<00:00, 269.58it/s, Train Loss=0.7930, Valid Loss=0.2357, Valid R2=0.4681, Valid MAE=0.3961]\n",
            "Epoch 10: 100%|██████████| 2607/2607 [00:09<00:00, 273.38it/s, Train Loss=0.7768, Valid Loss=0.2272, Valid R2=0.4872, Valid MAE=0.3867]"
          ]
        },
        {
          "name": "stdout",
          "output_type": "stream",
          "text": [
            "Early Stopped\n",
            "{'skip_hidden_size': 40, 'T_modified': 20, 'skip': 10}\n"
          ]
        },
        {
          "name": "stderr",
          "output_type": "stream",
          "text": [
            "\n"
          ]
        }
      ],
      "source": [
        "basic_params = {\n",
        "    'T': 60,\n",
        "    'n': 40,\n",
        "}\n",
        "\n",
        "param_grid = {\n",
        "    'skip_hidden_size': [32, 40],\n",
        "    'T_modified': [20, 30],\n",
        "    'skip': [8, 10]\n",
        "}\n",
        "\n",
        "model_name = 'model2_2'\n",
        "grid_model2 = GridSearch(criterion, eval_metrics, device, temp_save_path=f'checkpoints/model_by_param/temp_{model_name}.pt', masked=False)\n",
        "best_model2 = grid_model2.train_by_grid(\n",
        "        Model2_2, basic_params, param_grid,\n",
        "        torch.optim.Adam, train_loader, val_loader,\n",
        "        patience=3, epochs=20,\n",
        "        save_filename=f'checkpoints/{model_name}_best.pt'\n",
        "    )"
      ]
    },
    {
      "cell_type": "code",
      "execution_count": 7,
      "metadata": {},
      "outputs": [
        {
          "name": "stdout",
          "output_type": "stream",
          "text": [
            "Test Loss: 0.2762 | Test R2: 0.8500 | Test MAE: 0.4406\n",
            "Saving Process Complete. Directory: model2_2_losses.png\n"
          ]
        },
        {
          "data": {
            "image/png": "[encoded data removed]",
            "text/plain": [
              "<Figure size 700x500 with 1 Axes>"
            ]
          },
          "metadata": {},
          "output_type": "display_data"
        }
      ],
      "source": [
        "grid_model2.test(test_loader)\n",
        "grid_model2.plot_losses(plot_title=f'{model_name}', save_filename=f'{model_name}_losses.png')"
      ]
    }
  ],
  "metadata": {
    "accelerator": "GPU",
    "colab": {
      "provenance": []
    },
    "kernelspec": {
      "display_name": "Python 3.9.13 ('kwon_dl')",
      "language": "python",
      "name": "python3"
    },
    "language_info": {
      "codemirror_mode": {
        "name": "ipython",
        "version": 3
      },
      "file_extension": ".py",
      "mimetype": "text/x-python",
      "name": "python",
      "nbconvert_exporter": "python",
      "pygments_lexer": "ipython3",
      "version": "3.9.16"
    },
    "vscode": {
      "interpreter": {
        "hash": "7aba8400f5793028c76b760b8f218e34a1395ac8226b95289931317412384abc"
      }
    }
  },
  "nbformat": 4,
  "nbformat_minor": 0
}
