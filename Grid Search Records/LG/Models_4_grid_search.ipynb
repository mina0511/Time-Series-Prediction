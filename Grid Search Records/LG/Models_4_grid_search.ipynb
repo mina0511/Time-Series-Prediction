{
  "cells": [
    {
      "cell_type": "code",
      "execution_count": 1,
      "metadata": {
        "colab": {
          "base_uri": "https://localhost:8080/"
        },
        "id": "_5bOKo4qawlz",
        "outputId": "7b5c3117-3563-4ae2-ae23-5f31333709fe"
      },
      "outputs": [],
      "source": [
        "import pandas as pd\n",
        "import numpy as np\n",
        "import pickle\n",
        "\n",
        "from tqdm import tqdm\n",
        "\n",
        "from models import Model4, Model5, Model6\n",
        "from tools import Train, validation, GridSearch"
      ]
    },
    {
      "cell_type": "code",
      "execution_count": 2,
      "metadata": {
        "id": "Qwjr4b4Xjgmz"
      },
      "outputs": [],
      "source": [
        "import torch\n",
        "from torch import nn\n",
        "from torch.nn import functional as F\n",
        "from torch.utils.data import Dataset, DataLoader\n",
        "device = torch.device('cuda:0') if torch.cuda.is_available() else torch.device('cpu')\n",
        "\n",
        "from sklearn.metrics import r2_score, mean_absolute_error"
      ]
    },
    {
      "cell_type": "code",
      "execution_count": 3,
      "metadata": {
        "id": "9lI5sP74a3e0"
      },
      "outputs": [],
      "source": [
        "with open('data/train_dataset.pickle', 'rb') as f:\n",
        "    train_dataset = pickle.load(f)\n",
        "\n",
        "with open('data/val_dataset.pickle', 'rb') as f:\n",
        "    val_dataset = pickle.load(f)\n",
        "\n",
        "with open('data/test_dataset.pickle', 'rb') as f:\n",
        "    test_dataset = pickle.load(f)"
      ]
    },
    {
      "cell_type": "code",
      "execution_count": 4,
      "metadata": {
        "colab": {
          "base_uri": "https://localhost:8080/"
        },
        "id": "WDjR30F6kMgI",
        "outputId": "4368b402-852a-48f5-f857-0027652296e8"
      },
      "outputs": [],
      "source": [
        "train_loader = DataLoader(train_dataset, batch_size = 16, shuffle = True)\n",
        "val_loader = DataLoader(val_dataset, batch_size = 64, shuffle = False)\n",
        "test_loader = DataLoader(test_dataset, batch_size=64, shuffle=False)"
      ]
    },
    {
      "cell_type": "code",
      "execution_count": 5,
      "metadata": {},
      "outputs": [],
      "source": [
        "criterion = nn.MSELoss()\n",
        "eval_metrics = [\n",
        "    r2_score,\n",
        "    mean_absolute_error\n",
        "]"
      ]
    },
    {
      "attachments": {},
      "cell_type": "markdown",
      "metadata": {},
      "source": [
        "# Model 4"
      ]
    },
    {
      "cell_type": "code",
      "execution_count": 6,
      "metadata": {},
      "outputs": [
        {
          "name": "stdout",
          "output_type": "stream",
          "text": [
            "Total   8 cases are going to be searched.\n",
            "Setting   0 of Parameters Grid is now on progres.\n"
          ]
        },
        {
          "name": "stderr",
          "output_type": "stream",
          "text": [
            "Epoch  0: 100%|██████████| 2607/2607 [02:36<00:00, 16.68it/s, Train Loss=2.2931, Valid Loss=0.3074, Valid R2=0.3064, Valid MAE=0.4393]\n",
            "Epoch  1: 100%|██████████| 2607/2607 [02:37<00:00, 16.55it/s, Train Loss=0.7495, Valid Loss=0.3044, Valid R2=0.3132, Valid MAE=0.4415]\n",
            "Epoch  2: 100%|██████████| 2607/2607 [02:36<00:00, 16.62it/s, Train Loss=0.6958, Valid Loss=0.2676, Valid R2=0.3962, Valid MAE=0.4197]\n",
            "Epoch  3: 100%|██████████| 2607/2607 [02:35<00:00, 16.71it/s, Train Loss=0.6624, Valid Loss=0.1932, Valid R2=0.5641, Valid MAE=0.3529]\n",
            "Epoch  4: 100%|██████████| 2607/2607 [02:36<00:00, 16.69it/s, Train Loss=0.6445, Valid Loss=0.2319, Valid R2=0.4768, Valid MAE=0.3988]\n",
            "Epoch  5: 100%|██████████| 2607/2607 [02:36<00:00, 16.69it/s, Train Loss=0.6308, Valid Loss=0.1878, Valid R2=0.5761, Valid MAE=0.3528]\n",
            "Epoch  6: 100%|██████████| 2607/2607 [02:35<00:00, 16.76it/s, Train Loss=0.6429, Valid Loss=0.3110, Valid R2=0.2982, Valid MAE=0.4603]\n",
            "Epoch  7: 100%|██████████| 2607/2607 [02:35<00:00, 16.79it/s, Train Loss=0.6144, Valid Loss=0.1616, Valid R2=0.6354, Valid MAE=0.3223]\n",
            "Epoch  8: 100%|██████████| 2607/2607 [02:37<00:00, 16.59it/s, Train Loss=0.6057, Valid Loss=0.1731, Valid R2=0.6093, Valid MAE=0.3420]\n",
            "Epoch  9: 100%|██████████| 2607/2607 [02:35<00:00, 16.72it/s, Train Loss=0.5975, Valid Loss=0.1667, Valid R2=0.6239, Valid MAE=0.3326]\n",
            "Epoch 10: 100%|██████████| 2607/2607 [02:35<00:00, 16.72it/s, Train Loss=0.5948, Valid Loss=0.2065, Valid R2=0.5341, Valid MAE=0.3722]\n",
            "Epoch 11: 100%|██████████| 2607/2607 [02:36<00:00, 16.65it/s, Train Loss=0.5839, Valid Loss=0.2646, Valid R2=0.4030, Valid MAE=0.4163]\n"
          ]
        },
        {
          "name": "stdout",
          "output_type": "stream",
          "text": [
            "Early Stopped\n",
            "Setting   1 of Parameters Grid is now on progres.\n"
          ]
        },
        {
          "name": "stderr",
          "output_type": "stream",
          "text": [
            "Epoch  0: 100%|██████████| 2607/2607 [02:37<00:00, 16.59it/s, Train Loss=2.3731, Valid Loss=0.4518, Valid R2=-0.0195, Valid MAE=0.5308]\n",
            "Epoch  1: 100%|██████████| 2607/2607 [02:35<00:00, 16.78it/s, Train Loss=0.7314, Valid Loss=0.2683, Valid R2=0.3945, Valid MAE=0.4199]\n",
            "Epoch  2: 100%|██████████| 2607/2607 [02:37<00:00, 16.55it/s, Train Loss=0.6752, Valid Loss=0.2406, Valid R2=0.4571, Valid MAE=0.3972]\n",
            "Epoch  3: 100%|██████████| 2607/2607 [02:36<00:00, 16.64it/s, Train Loss=0.6506, Valid Loss=0.2194, Valid R2=0.5051, Valid MAE=0.3745]\n",
            "Epoch  4: 100%|██████████| 2607/2607 [02:34<00:00, 16.89it/s, Train Loss=0.6359, Valid Loss=0.2470, Valid R2=0.4426, Valid MAE=0.4072]\n",
            "Epoch  5: 100%|██████████| 2607/2607 [02:37<00:00, 16.55it/s, Train Loss=0.6220, Valid Loss=0.2088, Valid R2=0.5290, Valid MAE=0.3677]\n",
            "Epoch  6: 100%|██████████| 2607/2607 [02:35<00:00, 16.75it/s, Train Loss=0.6119, Valid Loss=0.2170, Valid R2=0.5103, Valid MAE=0.3699]\n",
            "Epoch  7: 100%|██████████| 2607/2607 [02:37<00:00, 16.52it/s, Train Loss=0.5999, Valid Loss=0.1700, Valid R2=0.6164, Valid MAE=0.3243]\n",
            "Epoch  8: 100%|██████████| 2607/2607 [02:37<00:00, 16.58it/s, Train Loss=0.5978, Valid Loss=0.2387, Valid R2=0.4614, Valid MAE=0.3843]\n",
            "Epoch  9: 100%|██████████| 2607/2607 [02:37<00:00, 16.57it/s, Train Loss=0.5921, Valid Loss=0.2173, Valid R2=0.5097, Valid MAE=0.3668]\n",
            "Epoch 10: 100%|██████████| 2607/2607 [02:36<00:00, 16.71it/s, Train Loss=0.5849, Valid Loss=0.1985, Valid R2=0.5520, Valid MAE=0.3480]\n",
            "Epoch 11: 100%|██████████| 2607/2607 [02:37<00:00, 16.52it/s, Train Loss=0.5769, Valid Loss=0.1978, Valid R2=0.5537, Valid MAE=0.3463]\n"
          ]
        },
        {
          "name": "stdout",
          "output_type": "stream",
          "text": [
            "Early Stopped\n",
            "Setting   2 of Parameters Grid is now on progres.\n"
          ]
        },
        {
          "name": "stderr",
          "output_type": "stream",
          "text": [
            "Epoch  0: 100%|██████████| 2607/2607 [02:36<00:00, 16.69it/s, Train Loss=2.1950, Valid Loss=0.2835, Valid R2=0.3603, Valid MAE=0.4212]\n",
            "Epoch  1: 100%|██████████| 2607/2607 [02:35<00:00, 16.76it/s, Train Loss=0.7508, Valid Loss=0.2292, Valid R2=0.4828, Valid MAE=0.3756]\n",
            "Epoch  2: 100%|██████████| 2607/2607 [02:35<00:00, 16.78it/s, Train Loss=0.7056, Valid Loss=0.2403, Valid R2=0.4577, Valid MAE=0.3927]\n",
            "Epoch  3: 100%|██████████| 2607/2607 [02:35<00:00, 16.76it/s, Train Loss=0.6755, Valid Loss=0.2096, Valid R2=0.5271, Valid MAE=0.3663]\n",
            "Epoch  4: 100%|██████████| 2607/2607 [02:36<00:00, 16.67it/s, Train Loss=0.6600, Valid Loss=0.1885, Valid R2=0.5747, Valid MAE=0.3508]\n",
            "Epoch  5: 100%|██████████| 2607/2607 [02:36<00:00, 16.61it/s, Train Loss=0.6485, Valid Loss=0.1970, Valid R2=0.5556, Valid MAE=0.3611]\n",
            "Epoch  6: 100%|██████████| 2607/2607 [02:37<00:00, 16.53it/s, Train Loss=0.6348, Valid Loss=0.2410, Valid R2=0.4563, Valid MAE=0.4006]\n",
            "Epoch  7: 100%|██████████| 2607/2607 [02:36<00:00, 16.63it/s, Train Loss=0.6275, Valid Loss=0.1728, Valid R2=0.6100, Valid MAE=0.3385]\n",
            "Epoch  8: 100%|██████████| 2607/2607 [02:38<00:00, 16.40it/s, Train Loss=0.6193, Valid Loss=0.1798, Valid R2=0.5942, Valid MAE=0.3492]\n",
            "Epoch  9: 100%|██████████| 2607/2607 [02:37<00:00, 16.60it/s, Train Loss=0.6100, Valid Loss=0.2104, Valid R2=0.5253, Valid MAE=0.3774]\n",
            "Epoch 10: 100%|██████████| 2607/2607 [02:37<00:00, 16.60it/s, Train Loss=0.6018, Valid Loss=0.2152, Valid R2=0.5144, Valid MAE=0.3803]\n",
            "Epoch 11: 100%|██████████| 2607/2607 [02:36<00:00, 16.67it/s, Train Loss=0.6014, Valid Loss=0.1982, Valid R2=0.5529, Valid MAE=0.3660]\n"
          ]
        },
        {
          "name": "stdout",
          "output_type": "stream",
          "text": [
            "Early Stopped\n",
            "Setting   3 of Parameters Grid is now on progres.\n"
          ]
        },
        {
          "name": "stderr",
          "output_type": "stream",
          "text": [
            "Epoch  0: 100%|██████████| 2607/2607 [02:37<00:00, 16.59it/s, Train Loss=2.0262, Valid Loss=0.3205, Valid R2=0.2768, Valid MAE=0.4412]\n",
            "Epoch  1: 100%|██████████| 2607/2607 [02:36<00:00, 16.67it/s, Train Loss=0.7275, Valid Loss=0.2799, Valid R2=0.3683, Valid MAE=0.4233]\n",
            "Epoch  2: 100%|██████████| 2607/2607 [02:36<00:00, 16.63it/s, Train Loss=0.6774, Valid Loss=0.3415, Valid R2=0.2295, Valid MAE=0.4800]\n",
            "Epoch  3: 100%|██████████| 2607/2607 [02:36<00:00, 16.63it/s, Train Loss=0.6501, Valid Loss=0.2099, Valid R2=0.5263, Valid MAE=0.3766]\n",
            "Epoch  4: 100%|██████████| 2607/2607 [02:36<00:00, 16.68it/s, Train Loss=0.6260, Valid Loss=0.2385, Valid R2=0.4619, Valid MAE=0.3947]\n",
            "Epoch  5: 100%|██████████| 2607/2607 [02:37<00:00, 16.59it/s, Train Loss=0.6154, Valid Loss=0.2691, Valid R2=0.3928, Valid MAE=0.4178]\n",
            "Epoch  6: 100%|██████████| 2607/2607 [02:36<00:00, 16.62it/s, Train Loss=0.6034, Valid Loss=0.2342, Valid R2=0.4716, Valid MAE=0.3881]\n",
            "Epoch  7: 100%|██████████| 2607/2607 [02:38<00:00, 16.50it/s, Train Loss=0.6169, Valid Loss=0.2379, Valid R2=0.4632, Valid MAE=0.3881]\n"
          ]
        },
        {
          "name": "stdout",
          "output_type": "stream",
          "text": [
            "Early Stopped\n",
            "Setting   4 of Parameters Grid is now on progres.\n"
          ]
        },
        {
          "name": "stderr",
          "output_type": "stream",
          "text": [
            "Epoch  0: 100%|██████████| 2607/2607 [02:36<00:00, 16.63it/s, Train Loss=2.3282, Valid Loss=0.4153, Valid R2=0.0630, Valid MAE=0.5016]\n",
            "Epoch  1: 100%|██████████| 2607/2607 [02:36<00:00, 16.66it/s, Train Loss=0.7363, Valid Loss=0.3582, Valid R2=0.1918, Valid MAE=0.4724]\n",
            "Epoch  2: 100%|██████████| 2607/2607 [02:37<00:00, 16.58it/s, Train Loss=0.6896, Valid Loss=0.2363, Valid R2=0.4668, Valid MAE=0.3823]\n",
            "Epoch  3: 100%|██████████| 2607/2607 [02:36<00:00, 16.63it/s, Train Loss=0.6604, Valid Loss=0.2864, Valid R2=0.3537, Valid MAE=0.4193]\n",
            "Epoch  4: 100%|██████████| 2607/2607 [02:36<00:00, 16.68it/s, Train Loss=0.6424, Valid Loss=0.2589, Valid R2=0.4159, Valid MAE=0.3996]\n",
            "Epoch  5: 100%|██████████| 2607/2607 [02:36<00:00, 16.66it/s, Train Loss=0.6303, Valid Loss=0.1960, Valid R2=0.5577, Valid MAE=0.3540]\n",
            "Epoch  6: 100%|██████████| 2607/2607 [02:35<00:00, 16.75it/s, Train Loss=0.6203, Valid Loss=0.1692, Valid R2=0.6182, Valid MAE=0.3258]\n",
            "Epoch  7: 100%|██████████| 2607/2607 [02:36<00:00, 16.63it/s, Train Loss=0.6108, Valid Loss=0.1435, Valid R2=0.6762, Valid MAE=0.3055]\n",
            "Epoch  8: 100%|██████████| 2607/2607 [02:38<00:00, 16.47it/s, Train Loss=0.6034, Valid Loss=0.1441, Valid R2=0.6749, Valid MAE=0.3111]\n",
            "Epoch  9: 100%|██████████| 2607/2607 [02:39<00:00, 16.39it/s, Train Loss=0.5917, Valid Loss=0.1600, Valid R2=0.6390, Valid MAE=0.3254]\n",
            "Epoch 10: 100%|██████████| 2607/2607 [02:37<00:00, 16.55it/s, Train Loss=0.5849, Valid Loss=0.1465, Valid R2=0.6694, Valid MAE=0.3225]\n",
            "Epoch 11: 100%|██████████| 2607/2607 [02:35<00:00, 16.74it/s, Train Loss=0.5769, Valid Loss=0.1760, Valid R2=0.6029, Valid MAE=0.3470]\n"
          ]
        },
        {
          "name": "stdout",
          "output_type": "stream",
          "text": [
            "Early Stopped\n",
            "Setting   5 of Parameters Grid is now on progres.\n"
          ]
        },
        {
          "name": "stderr",
          "output_type": "stream",
          "text": [
            "Epoch  0: 100%|██████████| 2607/2607 [02:37<00:00, 16.60it/s, Train Loss=2.2815, Valid Loss=0.4850, Valid R2=-0.0945, Valid MAE=0.5192]\n",
            "Epoch  1: 100%|██████████| 2607/2607 [02:36<00:00, 16.65it/s, Train Loss=0.7790, Valid Loss=0.3136, Valid R2=0.2923, Valid MAE=0.4344]\n",
            "Epoch  2: 100%|██████████| 2607/2607 [02:36<00:00, 16.69it/s, Train Loss=0.7123, Valid Loss=0.2768, Valid R2=0.3754, Valid MAE=0.4084]\n",
            "Epoch  3: 100%|██████████| 2607/2607 [02:37<00:00, 16.53it/s, Train Loss=0.6761, Valid Loss=0.2385, Valid R2=0.4618, Valid MAE=0.3876]\n",
            "Epoch  4: 100%|██████████| 2607/2607 [02:37<00:00, 16.60it/s, Train Loss=0.6520, Valid Loss=0.1949, Valid R2=0.5603, Valid MAE=0.3465]\n",
            "Epoch  5: 100%|██████████| 2607/2607 [02:36<00:00, 16.61it/s, Train Loss=0.6352, Valid Loss=0.2523, Valid R2=0.4306, Valid MAE=0.3979]\n",
            "Epoch  6: 100%|██████████| 2607/2607 [02:38<00:00, 16.49it/s, Train Loss=0.6241, Valid Loss=0.2487, Valid R2=0.4388, Valid MAE=0.3919]\n",
            "Epoch  7: 100%|██████████| 2607/2607 [02:36<00:00, 16.64it/s, Train Loss=0.6133, Valid Loss=0.1715, Valid R2=0.6131, Valid MAE=0.3364]\n",
            "Epoch  8: 100%|██████████| 2607/2607 [02:36<00:00, 16.70it/s, Train Loss=0.6082, Valid Loss=0.2764, Valid R2=0.3764, Valid MAE=0.4119]\n",
            "Epoch  9: 100%|██████████| 2607/2607 [02:36<00:00, 16.66it/s, Train Loss=0.5986, Valid Loss=0.2404, Valid R2=0.4575, Valid MAE=0.3908]\n",
            "Epoch 10: 100%|██████████| 2607/2607 [02:36<00:00, 16.67it/s, Train Loss=0.5899, Valid Loss=0.2037, Valid R2=0.5403, Valid MAE=0.3689]\n",
            "Epoch 11: 100%|██████████| 2607/2607 [02:37<00:00, 16.52it/s, Train Loss=0.5852, Valid Loss=0.1857, Valid R2=0.5810, Valid MAE=0.3549]\n"
          ]
        },
        {
          "name": "stdout",
          "output_type": "stream",
          "text": [
            "Early Stopped\n",
            "Setting   6 of Parameters Grid is now on progres.\n"
          ]
        },
        {
          "name": "stderr",
          "output_type": "stream",
          "text": [
            "Epoch  0: 100%|██████████| 2607/2607 [02:36<00:00, 16.61it/s, Train Loss=1.9776, Valid Loss=0.2923, Valid R2=0.3404, Valid MAE=0.4257]\n",
            "Epoch  1: 100%|██████████| 2607/2607 [02:37<00:00, 16.57it/s, Train Loss=0.7409, Valid Loss=0.2557, Valid R2=0.4231, Valid MAE=0.3933]\n",
            "Epoch  2: 100%|██████████| 2607/2607 [02:36<00:00, 16.68it/s, Train Loss=0.6939, Valid Loss=0.3421, Valid R2=0.2281, Valid MAE=0.4600]\n",
            "Epoch  3: 100%|██████████| 2607/2607 [02:36<00:00, 16.65it/s, Train Loss=0.6660, Valid Loss=0.2038, Valid R2=0.5402, Valid MAE=0.3558]\n",
            "Epoch  4: 100%|██████████| 2607/2607 [02:37<00:00, 16.60it/s, Train Loss=0.6507, Valid Loss=0.2526, Valid R2=0.4299, Valid MAE=0.4060]\n",
            "Epoch  5: 100%|██████████| 2607/2607 [02:35<00:00, 16.74it/s, Train Loss=0.6349, Valid Loss=0.1995, Valid R2=0.5498, Valid MAE=0.3450]\n",
            "Epoch  6: 100%|██████████| 2607/2607 [02:36<00:00, 16.69it/s, Train Loss=0.6264, Valid Loss=0.2037, Valid R2=0.5404, Valid MAE=0.3497]\n",
            "Epoch  7: 100%|██████████| 2607/2607 [02:36<00:00, 16.64it/s, Train Loss=0.6230, Valid Loss=0.1867, Valid R2=0.5787, Valid MAE=0.3397]\n",
            "Epoch  8: 100%|██████████| 2607/2607 [02:36<00:00, 16.65it/s, Train Loss=0.6143, Valid Loss=0.1916, Valid R2=0.5677, Valid MAE=0.3415]\n",
            "Epoch  9: 100%|██████████| 2607/2607 [02:36<00:00, 16.63it/s, Train Loss=0.6072, Valid Loss=0.1711, Valid R2=0.6140, Valid MAE=0.3202]\n",
            "Epoch 10: 100%|██████████| 2607/2607 [02:38<00:00, 16.49it/s, Train Loss=0.6024, Valid Loss=0.1628, Valid R2=0.6327, Valid MAE=0.3139]\n",
            "Epoch 11: 100%|██████████| 2607/2607 [02:35<00:00, 16.71it/s, Train Loss=0.5953, Valid Loss=0.1926, Valid R2=0.5654, Valid MAE=0.3509]\n",
            "Epoch 12: 100%|██████████| 2607/2607 [02:35<00:00, 16.72it/s, Train Loss=0.5946, Valid Loss=0.1523, Valid R2=0.6563, Valid MAE=0.3017]\n",
            "Epoch 13: 100%|██████████| 2607/2607 [02:36<00:00, 16.65it/s, Train Loss=0.5862, Valid Loss=0.1893, Valid R2=0.5728, Valid MAE=0.3473]\n",
            "Epoch 14: 100%|██████████| 2607/2607 [02:36<00:00, 16.64it/s, Train Loss=0.5830, Valid Loss=0.1732, Valid R2=0.6092, Valid MAE=0.3266]\n",
            "Epoch 15: 100%|██████████| 2607/2607 [02:36<00:00, 16.61it/s, Train Loss=0.5774, Valid Loss=0.1859, Valid R2=0.5805, Valid MAE=0.3394]\n",
            "Epoch 16: 100%|██████████| 2607/2607 [02:36<00:00, 16.70it/s, Train Loss=0.5705, Valid Loss=0.1953, Valid R2=0.5594, Valid MAE=0.3443]\n"
          ]
        },
        {
          "name": "stdout",
          "output_type": "stream",
          "text": [
            "Early Stopped\n",
            "Setting   7 of Parameters Grid is now on progres.\n"
          ]
        },
        {
          "name": "stderr",
          "output_type": "stream",
          "text": [
            "Epoch  0: 100%|██████████| 2607/2607 [02:37<00:00, 16.60it/s, Train Loss=2.0289, Valid Loss=0.3022, Valid R2=0.3180, Valid MAE=0.4302]\n",
            "Epoch  1: 100%|██████████| 2607/2607 [02:35<00:00, 16.73it/s, Train Loss=0.7264, Valid Loss=0.2325, Valid R2=0.4754, Valid MAE=0.3836]\n",
            "Epoch  2: 100%|██████████| 2607/2607 [02:36<00:00, 16.61it/s, Train Loss=0.6779, Valid Loss=0.1737, Valid R2=0.6080, Valid MAE=0.3327]\n",
            "Epoch  3: 100%|██████████| 2607/2607 [02:35<00:00, 16.75it/s, Train Loss=0.6494, Valid Loss=0.1635, Valid R2=0.6311, Valid MAE=0.3215]\n",
            "Epoch  4: 100%|██████████| 2607/2607 [02:35<00:00, 16.71it/s, Train Loss=0.6306, Valid Loss=0.2618, Valid R2=0.4093, Valid MAE=0.4169]\n",
            "Epoch  5: 100%|██████████| 2607/2607 [02:35<00:00, 16.73it/s, Train Loss=0.6200, Valid Loss=0.1971, Valid R2=0.5553, Valid MAE=0.3598]\n",
            "Epoch  6: 100%|██████████| 2607/2607 [02:37<00:00, 16.58it/s, Train Loss=0.6137, Valid Loss=0.1935, Valid R2=0.5635, Valid MAE=0.3514]\n",
            "Epoch  7: 100%|██████████| 2607/2607 [02:36<00:00, 16.64it/s, Train Loss=0.6025, Valid Loss=0.2024, Valid R2=0.5432, Valid MAE=0.3625]"
          ]
        },
        {
          "name": "stdout",
          "output_type": "stream",
          "text": [
            "Early Stopped\n"
          ]
        },
        {
          "name": "stderr",
          "output_type": "stream",
          "text": [
            "\n"
          ]
        }
      ],
      "source": [
        "basic_params = {\n",
        "    'T': 60,\n",
        "    'n': 40\n",
        "}\n",
        "\n",
        "param_grid = {\n",
        "    'm': [32, 40],\n",
        "    'skip_hidden_size': [32, 40],\n",
        "    'skip': [8, 10]\n",
        "}\n",
        "\n",
        "grid_model4 = GridSearch(criterion, eval_metrics, device, temp_save_path='checkpoints/model_by_param/temp_model.pt', masked=False)\n",
        "model_name = 'model4'\n",
        "best_model4 = grid_model4.train_by_grid(\n",
        "        Model4, basic_params, param_grid,\n",
        "        torch.optim.Adam, train_loader, val_loader,\n",
        "        patience=3, epochs=20,\n",
        "        save_filename=f'checkpoints/{model_name}_best.pt'\n",
        "    )"
      ]
    },
    {
      "cell_type": "code",
      "execution_count": 7,
      "metadata": {},
      "outputs": [
        {
          "name": "stdout",
          "output_type": "stream",
          "text": [
            "Test Loss: 0.1429 | Test R2: 0.9224 | Test MAE: 0.3056\n",
            "Saving Process Complete. Directory: model4_losses.png\n"
          ]
        },
        {
          "data": {
            "image/png": "[encoded data removed]",
            "text/plain": [
              "<Figure size 700x500 with 1 Axes>"
            ]
          },
          "metadata": {},
          "output_type": "display_data"
        }
      ],
      "source": [
        "grid_model4.test(test_loader)\n",
        "grid_model4.plot_losses(plot_title=f'{model_name}', save_filename=f'{model_name}_losses.png')"
      ]
    },
    {
      "cell_type": "code",
      "execution_count": 8,
      "metadata": {},
      "outputs": [
        {
          "data": {
            "text/plain": [
              "(40, 32, 8)"
            ]
          },
          "execution_count": 8,
          "metadata": {},
          "output_type": "execute_result"
        }
      ],
      "source": [
        "best_model4.m, best_model4.skip_hidden_size, best_model4.skip"
      ]
    }
  ],
  "metadata": {
    "accelerator": "GPU",
    "colab": {
      "provenance": []
    },
    "kernelspec": {
      "display_name": "Python 3.9.13 ('kwon_dl')",
      "language": "python",
      "name": "python3"
    },
    "language_info": {
      "codemirror_mode": {
        "name": "ipython",
        "version": 3
      },
      "file_extension": ".py",
      "mimetype": "text/x-python",
      "name": "python",
      "nbconvert_exporter": "python",
      "pygments_lexer": "ipython3",
      "version": "3.9.13"
    },
    "vscode": {
      "interpreter": {
        "hash": "7aba8400f5793028c76b760b8f218e34a1395ac8226b95289931317412384abc"
      }
    }
  },
  "nbformat": 4,
  "nbformat_minor": 0
}
