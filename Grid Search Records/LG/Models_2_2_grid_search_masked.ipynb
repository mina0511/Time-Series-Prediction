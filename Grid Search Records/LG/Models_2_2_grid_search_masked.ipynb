{
  "cells": [
    {
      "cell_type": "code",
      "execution_count": 1,
      "metadata": {
        "colab": {
          "base_uri": "https://localhost:8080/"
        },
        "id": "_5bOKo4qawlz",
        "outputId": "7b5c3117-3563-4ae2-ae23-5f31333709fe"
      },
      "outputs": [],
      "source": [
        "import pickle\n",
        "from models import Model2_2\n",
        "from tools import GridSearch"
      ]
    },
    {
      "cell_type": "code",
      "execution_count": 2,
      "metadata": {
        "id": "Qwjr4b4Xjgmz"
      },
      "outputs": [],
      "source": [
        "import torch\n",
        "from torch import nn\n",
        "from torch.utils.data import Dataset, DataLoader\n",
        "device = torch.device('cuda')\n",
        "\n",
        "from sklearn.metrics import r2_score, mean_absolute_error"
      ]
    },
    {
      "cell_type": "code",
      "execution_count": 3,
      "metadata": {
        "id": "9lI5sP74a3e0"
      },
      "outputs": [],
      "source": [
        "with open('data/train_dataset_masked.pickle', 'rb') as f:\n",
        "    train_dataset = pickle.load(f)\n",
        "\n",
        "with open('data/val_dataset_masked.pickle', 'rb') as f:\n",
        "    val_dataset = pickle.load(f)\n",
        "\n",
        "with open('data/test_dataset_masked.pickle', 'rb') as f:\n",
        "    test_dataset = pickle.load(f)"
      ]
    },
    {
      "cell_type": "code",
      "execution_count": 4,
      "metadata": {
        "colab": {
          "base_uri": "https://localhost:8080/"
        },
        "id": "WDjR30F6kMgI",
        "outputId": "4368b402-852a-48f5-f857-0027652296e8"
      },
      "outputs": [],
      "source": [
        "train_loader = DataLoader(train_dataset, batch_size = 16, shuffle = True)\n",
        "val_loader = DataLoader(val_dataset, batch_size = 64, shuffle = False)\n",
        "test_loader = DataLoader(test_dataset, batch_size=64, shuffle=False)"
      ]
    },
    {
      "cell_type": "code",
      "execution_count": 5,
      "metadata": {},
      "outputs": [],
      "source": [
        "criterion = nn.MSELoss()\n",
        "eval_metrics = [\n",
        "    r2_score,\n",
        "    mean_absolute_error\n",
        "]"
      ]
    },
    {
      "attachments": {},
      "cell_type": "markdown",
      "metadata": {},
      "source": [
        "# Model 2"
      ]
    },
    {
      "cell_type": "code",
      "execution_count": 6,
      "metadata": {},
      "outputs": [
        {
          "name": "stdout",
          "output_type": "stream",
          "text": [
            "Total   8 cases are going to be searched.\n",
            "Setting   0 of Parameters Grid is now on progres.\n"
          ]
        },
        {
          "name": "stderr",
          "output_type": "stream",
          "text": [
            "Epoch  0: 100%|██████████| 2607/2607 [00:11<00:00, 229.09it/s, Train Loss=3.2544, Valid Loss=1.9572, Valid R2=-3.4163, Valid MAE=1.1216]\n",
            "Epoch  1: 100%|██████████| 2607/2607 [00:10<00:00, 255.39it/s, Train Loss=1.3126, Valid Loss=1.3436, Valid R2=-2.0316, Valid MAE=0.9290]\n",
            "Epoch  2: 100%|██████████| 2607/2607 [00:10<00:00, 259.63it/s, Train Loss=1.1347, Valid Loss=1.1506, Valid R2=-1.5963, Valid MAE=0.8611]\n",
            "Epoch  3: 100%|██████████| 2607/2607 [00:11<00:00, 220.09it/s, Train Loss=1.0489, Valid Loss=1.0877, Valid R2=-1.4542, Valid MAE=0.8316]\n",
            "Epoch  4: 100%|██████████| 2607/2607 [00:12<00:00, 214.68it/s, Train Loss=0.9995, Valid Loss=0.8731, Valid R2=-0.9700, Valid MAE=0.7486]\n",
            "Epoch  5: 100%|██████████| 2607/2607 [00:10<00:00, 244.84it/s, Train Loss=0.9702, Valid Loss=0.8004, Valid R2=-0.8060, Valid MAE=0.7223]\n",
            "Epoch  6: 100%|██████████| 2607/2607 [00:10<00:00, 251.05it/s, Train Loss=0.9446, Valid Loss=0.7741, Valid R2=-0.7466, Valid MAE=0.7102]\n",
            "Epoch  7: 100%|██████████| 2607/2607 [00:10<00:00, 243.93it/s, Train Loss=0.9305, Valid Loss=0.5541, Valid R2=-0.2504, Valid MAE=0.6103]\n",
            "Epoch  8: 100%|██████████| 2607/2607 [00:10<00:00, 246.29it/s, Train Loss=0.9107, Valid Loss=0.5938, Valid R2=-0.3398, Valid MAE=0.6329]\n",
            "Epoch  9: 100%|██████████| 2607/2607 [00:10<00:00, 244.77it/s, Train Loss=0.8945, Valid Loss=0.5280, Valid R2=-0.1914, Valid MAE=0.5962]\n",
            "Epoch 10: 100%|██████████| 2607/2607 [00:10<00:00, 248.03it/s, Train Loss=0.8832, Valid Loss=0.4647, Valid R2=-0.0486, Valid MAE=0.5617]\n",
            "Epoch 11: 100%|██████████| 2607/2607 [00:10<00:00, 243.22it/s, Train Loss=0.8685, Valid Loss=0.5407, Valid R2=-0.2200, Valid MAE=0.6099]\n",
            "Epoch 12: 100%|██████████| 2607/2607 [00:11<00:00, 233.95it/s, Train Loss=0.8610, Valid Loss=0.3930, Valid R2=0.1131, Valid MAE=0.5267]\n",
            "Epoch 13: 100%|██████████| 2607/2607 [00:11<00:00, 234.95it/s, Train Loss=0.8512, Valid Loss=0.3639, Valid R2=0.1789, Valid MAE=0.5072]\n",
            "Epoch 14: 100%|██████████| 2607/2607 [00:11<00:00, 235.49it/s, Train Loss=0.8414, Valid Loss=0.3425, Valid R2=0.2271, Valid MAE=0.4980]\n",
            "Epoch 15: 100%|██████████| 2607/2607 [00:11<00:00, 236.54it/s, Train Loss=0.8355, Valid Loss=0.3604, Valid R2=0.1869, Valid MAE=0.5149]\n",
            "Epoch 16: 100%|██████████| 2607/2607 [00:11<00:00, 228.66it/s, Train Loss=0.8327, Valid Loss=0.3703, Valid R2=0.1644, Valid MAE=0.5170]\n",
            "Epoch 17: 100%|██████████| 2607/2607 [00:10<00:00, 239.09it/s, Train Loss=0.8287, Valid Loss=0.3599, Valid R2=0.1879, Valid MAE=0.5137]\n",
            "Epoch 18: 100%|██████████| 2607/2607 [00:10<00:00, 237.03it/s, Train Loss=0.8198, Valid Loss=0.3983, Valid R2=0.1012, Valid MAE=0.5400]\n"
          ]
        },
        {
          "name": "stdout",
          "output_type": "stream",
          "text": [
            "Early Stopped\n",
            "Setting   1 of Parameters Grid is now on progres.\n"
          ]
        },
        {
          "name": "stderr",
          "output_type": "stream",
          "text": [
            "Epoch  0: 100%|██████████| 2607/2607 [00:10<00:00, 244.12it/s, Train Loss=2.7582, Valid Loss=1.5763, Valid R2=-2.5567, Valid MAE=0.9811]\n",
            "Epoch  1: 100%|██████████| 2607/2607 [00:10<00:00, 243.14it/s, Train Loss=1.3696, Valid Loss=1.2190, Valid R2=-1.7505, Valid MAE=0.8789]\n",
            "Epoch  2: 100%|██████████| 2607/2607 [00:10<00:00, 242.40it/s, Train Loss=1.1845, Valid Loss=1.1107, Valid R2=-1.5061, Valid MAE=0.8362]\n",
            "Epoch  3: 100%|██████████| 2607/2607 [00:10<00:00, 240.44it/s, Train Loss=1.0908, Valid Loss=1.1386, Valid R2=-1.5692, Valid MAE=0.8437]\n",
            "Epoch  4: 100%|██████████| 2607/2607 [00:10<00:00, 238.35it/s, Train Loss=1.0364, Valid Loss=0.8695, Valid R2=-0.9619, Valid MAE=0.7365]\n",
            "Epoch  5: 100%|██████████| 2607/2607 [00:10<00:00, 238.64it/s, Train Loss=0.9998, Valid Loss=1.0117, Valid R2=-1.2828, Valid MAE=0.7990]\n",
            "Epoch  6: 100%|██████████| 2607/2607 [00:10<00:00, 238.38it/s, Train Loss=0.9750, Valid Loss=0.8662, Valid R2=-0.9544, Valid MAE=0.7452]\n",
            "Epoch  7: 100%|██████████| 2607/2607 [00:10<00:00, 237.86it/s, Train Loss=0.9557, Valid Loss=0.8900, Valid R2=-1.0081, Valid MAE=0.7593]\n",
            "Epoch  8: 100%|██████████| 2607/2607 [00:10<00:00, 240.42it/s, Train Loss=0.9335, Valid Loss=0.8168, Valid R2=-0.8431, Valid MAE=0.7292]\n",
            "Epoch  9: 100%|██████████| 2607/2607 [00:10<00:00, 254.87it/s, Train Loss=0.9148, Valid Loss=0.8008, Valid R2=-0.8070, Valid MAE=0.7312]\n",
            "Epoch 10: 100%|██████████| 2607/2607 [00:10<00:00, 256.98it/s, Train Loss=0.9058, Valid Loss=0.6935, Valid R2=-0.5649, Valid MAE=0.6851]\n",
            "Epoch 11: 100%|██████████| 2607/2607 [00:10<00:00, 257.66it/s, Train Loss=0.8878, Valid Loss=0.6846, Valid R2=-0.5446, Valid MAE=0.6872]\n",
            "Epoch 12: 100%|██████████| 2607/2607 [00:10<00:00, 256.10it/s, Train Loss=0.8787, Valid Loss=0.6374, Valid R2=-0.4383, Valid MAE=0.6697]\n",
            "Epoch 13: 100%|██████████| 2607/2607 [00:10<00:00, 256.72it/s, Train Loss=0.8669, Valid Loss=0.5590, Valid R2=-0.2613, Valid MAE=0.6279]\n",
            "Epoch 14: 100%|██████████| 2607/2607 [00:10<00:00, 254.64it/s, Train Loss=0.8558, Valid Loss=0.6078, Valid R2=-0.3715, Valid MAE=0.6563]\n",
            "Epoch 15: 100%|██████████| 2607/2607 [00:10<00:00, 253.92it/s, Train Loss=0.8413, Valid Loss=0.5509, Valid R2=-0.2429, Valid MAE=0.6312]\n",
            "Epoch 16: 100%|██████████| 2607/2607 [00:10<00:00, 252.23it/s, Train Loss=0.8306, Valid Loss=0.4629, Valid R2=-0.0445, Valid MAE=0.5811]\n",
            "Epoch 17: 100%|██████████| 2607/2607 [00:10<00:00, 256.34it/s, Train Loss=0.8271, Valid Loss=0.4420, Valid R2=0.0028, Valid MAE=0.5696]\n",
            "Epoch 18: 100%|██████████| 2607/2607 [00:10<00:00, 254.23it/s, Train Loss=0.8258, Valid Loss=0.4661, Valid R2=-0.0518, Valid MAE=0.5818]\n",
            "Epoch 19: 100%|██████████| 2607/2607 [00:10<00:00, 254.66it/s, Train Loss=0.8104, Valid Loss=0.4829, Valid R2=-0.0897, Valid MAE=0.5923]\n"
          ]
        },
        {
          "name": "stdout",
          "output_type": "stream",
          "text": [
            "Setting   2 of Parameters Grid is now on progres.\n"
          ]
        },
        {
          "name": "stderr",
          "output_type": "stream",
          "text": [
            "Epoch  0: 100%|██████████| 2607/2607 [00:10<00:00, 257.81it/s, Train Loss=4.0186, Valid Loss=3.3178, Valid R2=-6.4862, Valid MAE=1.4961]\n",
            "Epoch  1: 100%|██████████| 2607/2607 [00:10<00:00, 256.73it/s, Train Loss=1.2879, Valid Loss=1.8814, Valid R2=-3.2453, Valid MAE=1.0999]\n",
            "Epoch  2: 100%|██████████| 2607/2607 [00:10<00:00, 252.84it/s, Train Loss=1.1214, Valid Loss=1.3180, Valid R2=-1.9739, Valid MAE=0.9113]\n",
            "Epoch  3: 100%|██████████| 2607/2607 [00:10<00:00, 255.75it/s, Train Loss=1.0518, Valid Loss=1.2012, Valid R2=-1.7105, Valid MAE=0.8708]\n",
            "Epoch  4: 100%|██████████| 2607/2607 [00:10<00:00, 251.92it/s, Train Loss=1.0080, Valid Loss=0.8527, Valid R2=-0.9241, Valid MAE=0.7383]\n",
            "Epoch  5: 100%|██████████| 2607/2607 [00:10<00:00, 243.56it/s, Train Loss=0.9681, Valid Loss=0.8416, Valid R2=-0.8990, Valid MAE=0.7496]\n",
            "Epoch  6: 100%|██████████| 2607/2607 [00:10<00:00, 256.11it/s, Train Loss=0.9497, Valid Loss=0.7373, Valid R2=-0.6636, Valid MAE=0.7011]\n",
            "Epoch  7: 100%|██████████| 2607/2607 [00:10<00:00, 256.27it/s, Train Loss=0.9265, Valid Loss=0.6616, Valid R2=-0.4929, Valid MAE=0.6677]\n",
            "Epoch  8: 100%|██████████| 2607/2607 [00:10<00:00, 255.51it/s, Train Loss=0.8972, Valid Loss=0.5544, Valid R2=-0.2510, Valid MAE=0.6081]\n",
            "Epoch  9: 100%|██████████| 2607/2607 [00:10<00:00, 258.24it/s, Train Loss=0.8779, Valid Loss=0.5778, Valid R2=-0.3038, Valid MAE=0.6258]\n",
            "Epoch 10: 100%|██████████| 2607/2607 [00:10<00:00, 259.14it/s, Train Loss=0.8746, Valid Loss=0.5105, Valid R2=-0.1519, Valid MAE=0.5984]\n",
            "Epoch 11: 100%|██████████| 2607/2607 [00:10<00:00, 257.02it/s, Train Loss=0.8673, Valid Loss=0.4859, Valid R2=-0.0964, Valid MAE=0.5848]\n",
            "Epoch 12: 100%|██████████| 2607/2607 [00:10<00:00, 257.26it/s, Train Loss=0.8530, Valid Loss=0.4638, Valid R2=-0.0465, Valid MAE=0.5707]\n",
            "Epoch 13: 100%|██████████| 2607/2607 [00:10<00:00, 256.43it/s, Train Loss=0.8400, Valid Loss=0.4104, Valid R2=0.0739, Valid MAE=0.5392]\n",
            "Epoch 14: 100%|██████████| 2607/2607 [00:10<00:00, 253.67it/s, Train Loss=0.8331, Valid Loss=0.4101, Valid R2=0.0747, Valid MAE=0.5405]\n",
            "Epoch 15: 100%|██████████| 2607/2607 [00:10<00:00, 255.44it/s, Train Loss=0.8337, Valid Loss=0.4424, Valid R2=0.0018, Valid MAE=0.5635]\n",
            "Epoch 16: 100%|██████████| 2607/2607 [00:10<00:00, 255.46it/s, Train Loss=0.8205, Valid Loss=0.3738, Valid R2=0.1566, Valid MAE=0.5174]\n",
            "Epoch 17: 100%|██████████| 2607/2607 [00:10<00:00, 255.00it/s, Train Loss=0.8169, Valid Loss=0.3874, Valid R2=0.1259, Valid MAE=0.5236]\n",
            "Epoch 18: 100%|██████████| 2607/2607 [00:10<00:00, 256.76it/s, Train Loss=0.8127, Valid Loss=0.4011, Valid R2=0.0949, Valid MAE=0.5356]\n",
            "Epoch 19: 100%|██████████| 2607/2607 [00:10<00:00, 256.49it/s, Train Loss=0.8000, Valid Loss=0.3709, Valid R2=0.1631, Valid MAE=0.5138]\n"
          ]
        },
        {
          "name": "stdout",
          "output_type": "stream",
          "text": [
            "Setting   3 of Parameters Grid is now on progres.\n"
          ]
        },
        {
          "name": "stderr",
          "output_type": "stream",
          "text": [
            "Epoch  0: 100%|██████████| 2607/2607 [00:10<00:00, 245.48it/s, Train Loss=2.4038, Valid Loss=1.7335, Valid R2=-2.9114, Valid MAE=1.0234]\n",
            "Epoch  1: 100%|██████████| 2607/2607 [00:10<00:00, 254.88it/s, Train Loss=1.3014, Valid Loss=1.2169, Valid R2=-1.7459, Valid MAE=0.8769]\n",
            "Epoch  2: 100%|██████████| 2607/2607 [00:10<00:00, 251.01it/s, Train Loss=1.1447, Valid Loss=1.2080, Valid R2=-1.7257, Valid MAE=0.8834]\n",
            "Epoch  3: 100%|██████████| 2607/2607 [00:10<00:00, 250.77it/s, Train Loss=1.0402, Valid Loss=0.9323, Valid R2=-1.1036, Valid MAE=0.7748]\n",
            "Epoch  4: 100%|██████████| 2607/2607 [00:10<00:00, 252.47it/s, Train Loss=0.9834, Valid Loss=1.1740, Valid R2=-1.6491, Valid MAE=0.8615]\n",
            "Epoch  5: 100%|██████████| 2607/2607 [00:10<00:00, 251.92it/s, Train Loss=0.9485, Valid Loss=0.8019, Valid R2=-0.8095, Valid MAE=0.7187]\n",
            "Epoch  6: 100%|██████████| 2607/2607 [00:10<00:00, 256.27it/s, Train Loss=0.9082, Valid Loss=0.6440, Valid R2=-0.4531, Valid MAE=0.6477]\n",
            "Epoch  7: 100%|██████████| 2607/2607 [00:10<00:00, 254.23it/s, Train Loss=0.8962, Valid Loss=0.6189, Valid R2=-0.3965, Valid MAE=0.6372]\n",
            "Epoch  8: 100%|██████████| 2607/2607 [00:10<00:00, 255.91it/s, Train Loss=0.8687, Valid Loss=0.4945, Valid R2=-0.1158, Valid MAE=0.5832]\n",
            "Epoch  9: 100%|██████████| 2607/2607 [00:10<00:00, 258.05it/s, Train Loss=0.8529, Valid Loss=0.4273, Valid R2=0.0359, Valid MAE=0.5455]\n",
            "Epoch 10: 100%|██████████| 2607/2607 [00:10<00:00, 256.99it/s, Train Loss=0.8366, Valid Loss=0.3744, Valid R2=0.1551, Valid MAE=0.5134]\n",
            "Epoch 11: 100%|██████████| 2607/2607 [00:10<00:00, 254.29it/s, Train Loss=0.8282, Valid Loss=0.3155, Valid R2=0.2881, Valid MAE=0.4753]\n",
            "Epoch 12: 100%|██████████| 2607/2607 [00:10<00:00, 253.37it/s, Train Loss=0.8194, Valid Loss=0.2580, Valid R2=0.4178, Valid MAE=0.4299]\n",
            "Epoch 13: 100%|██████████| 2607/2607 [00:10<00:00, 250.35it/s, Train Loss=0.8082, Valid Loss=0.3060, Valid R2=0.3095, Valid MAE=0.4660]\n",
            "Epoch 14: 100%|██████████| 2607/2607 [00:10<00:00, 245.78it/s, Train Loss=0.7977, Valid Loss=0.2590, Valid R2=0.4155, Valid MAE=0.4338]\n",
            "Epoch 15: 100%|██████████| 2607/2607 [00:10<00:00, 254.74it/s, Train Loss=0.7879, Valid Loss=0.2141, Valid R2=0.5169, Valid MAE=0.3924]\n",
            "Epoch 16: 100%|██████████| 2607/2607 [00:10<00:00, 247.33it/s, Train Loss=0.7798, Valid Loss=0.2058, Valid R2=0.5357, Valid MAE=0.3786]\n",
            "Epoch 17: 100%|██████████| 2607/2607 [00:10<00:00, 249.82it/s, Train Loss=0.7761, Valid Loss=0.2034, Valid R2=0.5412, Valid MAE=0.3755]\n",
            "Epoch 18: 100%|██████████| 2607/2607 [00:10<00:00, 251.60it/s, Train Loss=0.7751, Valid Loss=0.2044, Valid R2=0.5387, Valid MAE=0.3757]\n",
            "Epoch 19: 100%|██████████| 2607/2607 [00:10<00:00, 250.85it/s, Train Loss=0.7680, Valid Loss=0.1911, Valid R2=0.5689, Valid MAE=0.3637]\n"
          ]
        },
        {
          "name": "stdout",
          "output_type": "stream",
          "text": [
            "Setting   4 of Parameters Grid is now on progres.\n"
          ]
        },
        {
          "name": "stderr",
          "output_type": "stream",
          "text": [
            "Epoch  0: 100%|██████████| 2607/2607 [00:10<00:00, 255.42it/s, Train Loss=2.5846, Valid Loss=1.8354, Valid R2=-3.1414, Valid MAE=1.0920]\n",
            "Epoch  1: 100%|██████████| 2607/2607 [00:10<00:00, 256.05it/s, Train Loss=1.2836, Valid Loss=1.3974, Valid R2=-2.1531, Valid MAE=0.9715]\n",
            "Epoch  2: 100%|██████████| 2607/2607 [00:10<00:00, 254.97it/s, Train Loss=1.1336, Valid Loss=1.1827, Valid R2=-1.6687, Valid MAE=0.8997]\n",
            "Epoch  3: 100%|██████████| 2607/2607 [00:10<00:00, 253.18it/s, Train Loss=1.0435, Valid Loss=0.9581, Valid R2=-1.1619, Valid MAE=0.8064]\n",
            "Epoch  4: 100%|██████████| 2607/2607 [00:10<00:00, 252.33it/s, Train Loss=0.9991, Valid Loss=0.8274, Valid R2=-0.8670, Valid MAE=0.7500]\n",
            "Epoch  5: 100%|██████████| 2607/2607 [00:10<00:00, 248.37it/s, Train Loss=0.9638, Valid Loss=0.8829, Valid R2=-0.9923, Valid MAE=0.7664]\n",
            "Epoch  6: 100%|██████████| 2607/2607 [00:10<00:00, 245.47it/s, Train Loss=0.9401, Valid Loss=0.8705, Valid R2=-0.9641, Valid MAE=0.7601]\n",
            "Epoch  7: 100%|██████████| 2607/2607 [00:10<00:00, 254.33it/s, Train Loss=0.9171, Valid Loss=0.6876, Valid R2=-0.5514, Valid MAE=0.6810]\n",
            "Epoch  8: 100%|██████████| 2607/2607 [00:10<00:00, 256.17it/s, Train Loss=0.8946, Valid Loss=0.7152, Valid R2=-0.6137, Valid MAE=0.6963]\n",
            "Epoch  9: 100%|██████████| 2607/2607 [00:10<00:00, 258.67it/s, Train Loss=0.8772, Valid Loss=0.6671, Valid R2=-0.5052, Valid MAE=0.6823]\n",
            "Epoch 10: 100%|██████████| 2607/2607 [00:10<00:00, 257.55it/s, Train Loss=0.8689, Valid Loss=0.5624, Valid R2=-0.2690, Valid MAE=0.6358]\n",
            "Epoch 11: 100%|██████████| 2607/2607 [00:10<00:00, 241.84it/s, Train Loss=0.8542, Valid Loss=0.5691, Valid R2=-0.2841, Valid MAE=0.6365]\n",
            "Epoch 12: 100%|██████████| 2607/2607 [00:10<00:00, 240.71it/s, Train Loss=0.8442, Valid Loss=0.5636, Valid R2=-0.2716, Valid MAE=0.6400]\n",
            "Epoch 13: 100%|██████████| 2607/2607 [00:10<00:00, 252.10it/s, Train Loss=0.8299, Valid Loss=0.4620, Valid R2=-0.0424, Valid MAE=0.5818]\n",
            "Epoch 14: 100%|██████████| 2607/2607 [00:10<00:00, 252.75it/s, Train Loss=0.8309, Valid Loss=0.4314, Valid R2=0.0265, Valid MAE=0.5653]\n",
            "Epoch 15: 100%|██████████| 2607/2607 [00:10<00:00, 254.82it/s, Train Loss=0.8177, Valid Loss=0.4493, Valid R2=-0.0138, Valid MAE=0.5813]\n",
            "Epoch 16: 100%|██████████| 2607/2607 [00:10<00:00, 255.16it/s, Train Loss=0.8156, Valid Loss=0.4683, Valid R2=-0.0568, Valid MAE=0.5846]\n",
            "Epoch 17: 100%|██████████| 2607/2607 [00:10<00:00, 254.32it/s, Train Loss=0.8103, Valid Loss=0.5002, Valid R2=-0.1285, Valid MAE=0.6008]\n",
            "Epoch 18: 100%|██████████| 2607/2607 [00:10<00:00, 252.71it/s, Train Loss=0.8047, Valid Loss=0.4647, Valid R2=-0.0485, Valid MAE=0.5814]\n"
          ]
        },
        {
          "name": "stdout",
          "output_type": "stream",
          "text": [
            "Early Stopped\n",
            "Setting   5 of Parameters Grid is now on progres.\n"
          ]
        },
        {
          "name": "stderr",
          "output_type": "stream",
          "text": [
            "Epoch  0: 100%|██████████| 2607/2607 [00:09<00:00, 264.12it/s, Train Loss=3.4902, Valid Loss=2.4279, Valid R2=-4.4784, Valid MAE=1.2975]\n",
            "Epoch  1: 100%|██████████| 2607/2607 [00:09<00:00, 270.89it/s, Train Loss=1.0874, Valid Loss=1.3315, Valid R2=-2.0045, Valid MAE=0.9053]\n",
            "Epoch  2: 100%|██████████| 2607/2607 [00:10<00:00, 239.65it/s, Train Loss=0.9734, Valid Loss=1.0683, Valid R2=-1.4105, Valid MAE=0.7927]\n",
            "Epoch  3: 100%|██████████| 2607/2607 [00:10<00:00, 253.68it/s, Train Loss=0.9193, Valid Loss=0.9364, Valid R2=-1.1129, Valid MAE=0.7516]\n",
            "Epoch  4: 100%|██████████| 2607/2607 [00:10<00:00, 246.51it/s, Train Loss=0.8827, Valid Loss=0.8223, Valid R2=-0.8554, Valid MAE=0.6950]\n",
            "Epoch  5: 100%|██████████| 2607/2607 [00:10<00:00, 257.87it/s, Train Loss=0.8558, Valid Loss=0.6776, Valid R2=-0.5290, Valid MAE=0.6407]\n",
            "Epoch  6: 100%|██████████| 2607/2607 [00:09<00:00, 264.33it/s, Train Loss=0.8431, Valid Loss=0.6570, Valid R2=-0.4825, Valid MAE=0.6387]\n",
            "Epoch  7: 100%|██████████| 2607/2607 [00:09<00:00, 264.94it/s, Train Loss=0.8198, Valid Loss=0.5814, Valid R2=-0.3119, Valid MAE=0.5968]\n",
            "Epoch  8: 100%|██████████| 2607/2607 [00:09<00:00, 265.11it/s, Train Loss=0.8093, Valid Loss=0.5640, Valid R2=-0.2727, Valid MAE=0.5929]\n",
            "Epoch  9: 100%|██████████| 2607/2607 [00:10<00:00, 252.47it/s, Train Loss=0.7949, Valid Loss=0.5275, Valid R2=-0.1902, Valid MAE=0.5758]\n",
            "Epoch 10: 100%|██████████| 2607/2607 [00:10<00:00, 249.79it/s, Train Loss=0.7836, Valid Loss=0.4818, Valid R2=-0.0870, Valid MAE=0.5457]\n",
            "Epoch 11: 100%|██████████| 2607/2607 [00:10<00:00, 252.66it/s, Train Loss=0.7854, Valid Loss=0.4927, Valid R2=-0.1116, Valid MAE=0.5516]\n",
            "Epoch 12: 100%|██████████| 2607/2607 [00:10<00:00, 253.83it/s, Train Loss=0.7714, Valid Loss=0.3663, Valid R2=0.1735, Valid MAE=0.4876]\n",
            "Epoch 13: 100%|██████████| 2607/2607 [00:10<00:00, 251.17it/s, Train Loss=0.7669, Valid Loss=0.3829, Valid R2=0.1361, Valid MAE=0.5002]\n",
            "Epoch 14: 100%|██████████| 2607/2607 [00:10<00:00, 249.57it/s, Train Loss=0.7629, Valid Loss=0.3079, Valid R2=0.3053, Valid MAE=0.4462]\n",
            "Epoch 15: 100%|██████████| 2607/2607 [00:10<00:00, 252.35it/s, Train Loss=0.7564, Valid Loss=0.3053, Valid R2=0.3110, Valid MAE=0.4477]\n",
            "Epoch 16: 100%|██████████| 2607/2607 [00:10<00:00, 251.73it/s, Train Loss=0.7530, Valid Loss=0.2833, Valid R2=0.3607, Valid MAE=0.4237]\n",
            "Epoch 17: 100%|██████████| 2607/2607 [00:10<00:00, 250.22it/s, Train Loss=0.7508, Valid Loss=0.2693, Valid R2=0.3925, Valid MAE=0.4148]\n",
            "Epoch 18: 100%|██████████| 2607/2607 [00:10<00:00, 252.31it/s, Train Loss=0.7466, Valid Loss=0.2678, Valid R2=0.3957, Valid MAE=0.4102]\n",
            "Epoch 19: 100%|██████████| 2607/2607 [00:10<00:00, 253.42it/s, Train Loss=0.7384, Valid Loss=0.2455, Valid R2=0.4461, Valid MAE=0.3927]\n"
          ]
        },
        {
          "name": "stdout",
          "output_type": "stream",
          "text": [
            "Setting   6 of Parameters Grid is now on progres.\n"
          ]
        },
        {
          "name": "stderr",
          "output_type": "stream",
          "text": [
            "Epoch  0: 100%|██████████| 2607/2607 [00:10<00:00, 252.05it/s, Train Loss=3.4438, Valid Loss=2.7981, Valid R2=-5.3136, Valid MAE=1.3535]\n",
            "Epoch  1: 100%|██████████| 2607/2607 [00:10<00:00, 253.12it/s, Train Loss=1.1696, Valid Loss=1.6847, Valid R2=-2.8014, Valid MAE=1.0388]\n",
            "Epoch  2: 100%|██████████| 2607/2607 [00:10<00:00, 252.67it/s, Train Loss=1.0299, Valid Loss=1.4978, Valid R2=-2.3795, Valid MAE=0.9730]\n",
            "Epoch  3: 100%|██████████| 2607/2607 [00:10<00:00, 251.03it/s, Train Loss=0.9592, Valid Loss=1.3784, Valid R2=-2.1101, Valid MAE=0.9300]\n",
            "Epoch  4: 100%|██████████| 2607/2607 [00:10<00:00, 247.15it/s, Train Loss=0.9134, Valid Loss=1.1555, Valid R2=-1.6073, Valid MAE=0.8348]\n",
            "Epoch  5: 100%|██████████| 2607/2607 [00:10<00:00, 247.63it/s, Train Loss=0.8900, Valid Loss=0.9486, Valid R2=-1.1403, Valid MAE=0.7536]\n",
            "Epoch  6: 100%|██████████| 2607/2607 [00:11<00:00, 231.63it/s, Train Loss=0.8626, Valid Loss=0.7968, Valid R2=-0.7979, Valid MAE=0.7078]\n",
            "Epoch  7: 100%|██████████| 2607/2607 [00:10<00:00, 244.56it/s, Train Loss=0.8466, Valid Loss=0.6665, Valid R2=-0.5040, Valid MAE=0.6483]\n",
            "Epoch  8: 100%|██████████| 2607/2607 [00:10<00:00, 257.32it/s, Train Loss=0.8266, Valid Loss=0.6889, Valid R2=-0.5545, Valid MAE=0.6597]\n",
            "Epoch  9: 100%|██████████| 2607/2607 [00:10<00:00, 248.92it/s, Train Loss=0.8120, Valid Loss=0.6207, Valid R2=-0.4005, Valid MAE=0.6322]\n",
            "Epoch 10: 100%|██████████| 2607/2607 [00:10<00:00, 251.55it/s, Train Loss=0.8036, Valid Loss=0.5635, Valid R2=-0.2714, Valid MAE=0.6018]\n",
            "Epoch 11: 100%|██████████| 2607/2607 [00:10<00:00, 252.75it/s, Train Loss=0.7883, Valid Loss=0.5610, Valid R2=-0.2659, Valid MAE=0.6098]\n",
            "Epoch 12: 100%|██████████| 2607/2607 [00:10<00:00, 251.18it/s, Train Loss=0.7854, Valid Loss=0.5141, Valid R2=-0.1601, Valid MAE=0.5885]\n",
            "Epoch 13: 100%|██████████| 2607/2607 [00:10<00:00, 257.03it/s, Train Loss=0.7790, Valid Loss=0.5229, Valid R2=-0.1798, Valid MAE=0.5848]\n",
            "Epoch 14: 100%|██████████| 2607/2607 [00:10<00:00, 246.83it/s, Train Loss=0.7727, Valid Loss=0.4299, Valid R2=0.0300, Valid MAE=0.5253]\n",
            "Epoch 15: 100%|██████████| 2607/2607 [00:11<00:00, 223.07it/s, Train Loss=0.7640, Valid Loss=0.4878, Valid R2=-0.1006, Valid MAE=0.5632]\n",
            "Epoch 16: 100%|██████████| 2607/2607 [00:10<00:00, 247.09it/s, Train Loss=0.7591, Valid Loss=0.3666, Valid R2=0.1728, Valid MAE=0.4885]\n",
            "Epoch 17: 100%|██████████| 2607/2607 [00:10<00:00, 251.53it/s, Train Loss=0.7596, Valid Loss=0.3895, Valid R2=0.1211, Valid MAE=0.5105]\n",
            "Epoch 18: 100%|██████████| 2607/2607 [00:11<00:00, 233.35it/s, Train Loss=0.7514, Valid Loss=0.3917, Valid R2=0.1162, Valid MAE=0.5136]\n",
            "Epoch 19: 100%|██████████| 2607/2607 [00:10<00:00, 246.23it/s, Train Loss=0.7499, Valid Loss=0.3731, Valid R2=0.1581, Valid MAE=0.4982]\n"
          ]
        },
        {
          "name": "stdout",
          "output_type": "stream",
          "text": [
            "Setting   7 of Parameters Grid is now on progres.\n"
          ]
        },
        {
          "name": "stderr",
          "output_type": "stream",
          "text": [
            "Epoch  0: 100%|██████████| 2607/2607 [00:10<00:00, 248.46it/s, Train Loss=2.1372, Valid Loss=1.7037, Valid R2=-2.8442, Valid MAE=1.0425]\n",
            "Epoch  1: 100%|██████████| 2607/2607 [00:10<00:00, 248.50it/s, Train Loss=1.2260, Valid Loss=1.3139, Valid R2=-1.9646, Valid MAE=0.9343]\n",
            "Epoch  2: 100%|██████████| 2607/2607 [00:10<00:00, 240.02it/s, Train Loss=1.0589, Valid Loss=1.3788, Valid R2=-2.1111, Valid MAE=0.9452]\n",
            "Epoch  3: 100%|██████████| 2607/2607 [00:11<00:00, 227.85it/s, Train Loss=0.9690, Valid Loss=1.1687, Valid R2=-1.6371, Valid MAE=0.8794]\n",
            "Epoch  4: 100%|██████████| 2607/2607 [00:11<00:00, 231.63it/s, Train Loss=0.9261, Valid Loss=1.1541, Valid R2=-1.6040, Valid MAE=0.8700]\n",
            "Epoch  5: 100%|██████████| 2607/2607 [00:10<00:00, 240.87it/s, Train Loss=0.8965, Valid Loss=1.0763, Valid R2=-1.4286, Valid MAE=0.8456]\n",
            "Epoch  6: 100%|██████████| 2607/2607 [00:11<00:00, 217.52it/s, Train Loss=0.8746, Valid Loss=0.9554, Valid R2=-1.1557, Valid MAE=0.7977]\n",
            "Epoch  7: 100%|██████████| 2607/2607 [00:12<00:00, 211.20it/s, Train Loss=0.8456, Valid Loss=0.7805, Valid R2=-0.7611, Valid MAE=0.7241]\n",
            "Epoch  8: 100%|██████████| 2607/2607 [00:12<00:00, 210.59it/s, Train Loss=0.8366, Valid Loss=0.7609, Valid R2=-0.7168, Valid MAE=0.7142]\n",
            "Epoch  9: 100%|██████████| 2607/2607 [00:12<00:00, 211.61it/s, Train Loss=0.8108, Valid Loss=0.7213, Valid R2=-0.6276, Valid MAE=0.7006]\n",
            "Epoch 10: 100%|██████████| 2607/2607 [00:12<00:00, 211.37it/s, Train Loss=0.8026, Valid Loss=0.5275, Valid R2=-0.1902, Valid MAE=0.6087]\n",
            "Epoch 11: 100%|██████████| 2607/2607 [00:12<00:00, 208.61it/s, Train Loss=0.7934, Valid Loss=0.5703, Valid R2=-0.2868, Valid MAE=0.6334]\n",
            "Epoch 12: 100%|██████████| 2607/2607 [00:12<00:00, 206.76it/s, Train Loss=0.7784, Valid Loss=0.4910, Valid R2=-0.1078, Valid MAE=0.5955]\n",
            "Epoch 13: 100%|██████████| 2607/2607 [00:12<00:00, 208.76it/s, Train Loss=0.7686, Valid Loss=0.5103, Valid R2=-0.1514, Valid MAE=0.6030]\n",
            "Epoch 14: 100%|██████████| 2607/2607 [00:12<00:00, 208.40it/s, Train Loss=0.7698, Valid Loss=0.3902, Valid R2=0.1195, Valid MAE=0.5319]\n",
            "Epoch 15: 100%|██████████| 2607/2607 [00:12<00:00, 204.06it/s, Train Loss=0.7585, Valid Loss=0.4452, Valid R2=-0.0046, Valid MAE=0.5642]\n",
            "Epoch 16: 100%|██████████| 2607/2607 [00:13<00:00, 188.71it/s, Train Loss=0.7533, Valid Loss=0.3329, Valid R2=0.2488, Valid MAE=0.4881]\n",
            "Epoch 17: 100%|██████████| 2607/2607 [00:13<00:00, 200.47it/s, Train Loss=0.7482, Valid Loss=0.2647, Valid R2=0.4028, Valid MAE=0.4346]\n",
            "Epoch 18: 100%|██████████| 2607/2607 [00:12<00:00, 203.30it/s, Train Loss=0.7442, Valid Loss=0.2925, Valid R2=0.3400, Valid MAE=0.4582]\n",
            "Epoch 19: 100%|██████████| 2607/2607 [00:12<00:00, 207.87it/s, Train Loss=0.7389, Valid Loss=0.3635, Valid R2=0.1798, Valid MAE=0.5065]"
          ]
        },
        {
          "name": "stdout",
          "output_type": "stream",
          "text": [
            "{'skip_hidden_size': 32, 'T_modified': 30, 'skip': 10}\n"
          ]
        },
        {
          "name": "stderr",
          "output_type": "stream",
          "text": [
            "\n"
          ]
        }
      ],
      "source": [
        "basic_params = {\n",
        "    'T': 60,\n",
        "    'n': 40,\n",
        "}\n",
        "\n",
        "param_grid = {\n",
        "    'skip_hidden_size': [32, 40],\n",
        "    'T_modified': [20, 30],\n",
        "    'skip': [8, 10]\n",
        "}\n",
        "\n",
        "model_name = 'model2_2'\n",
        "grid_model2 = GridSearch(criterion, eval_metrics, device, temp_save_path=f'checkpoints/model_by_param/temp_{model_name}.pt', masked=False)\n",
        "best_model2 = grid_model2.train_by_grid(\n",
        "        Model2_2, basic_params, param_grid,\n",
        "        torch.optim.Adam, train_loader, val_loader,\n",
        "        patience=3, epochs=20,\n",
        "        save_filename=f'checkpoints/{model_name}_best.pt'\n",
        "    )"
      ]
    },
    {
      "cell_type": "code",
      "execution_count": 7,
      "metadata": {},
      "outputs": [
        {
          "name": "stdout",
          "output_type": "stream",
          "text": [
            "Test Loss: 0.2915 | Test R2: 0.8417 | Test MAE: 0.4455\n",
            "Saving Process Complete. Directory: model2_2_losses.png\n"
          ]
        },
        {
          "data": {
            "image/png": "[encoded data removed]",
            "text/plain": [
              "<Figure size 700x500 with 1 Axes>"
            ]
          },
          "metadata": {},
          "output_type": "display_data"
        }
      ],
      "source": [
        "grid_model2.test(test_loader)\n",
        "grid_model2.plot_losses(plot_title=f'{model_name}', save_filename=f'{model_name}_losses.png')"
      ]
    }
  ],
  "metadata": {
    "accelerator": "GPU",
    "colab": {
      "provenance": []
    },
    "kernelspec": {
      "display_name": "Python 3.9.13 ('kwon_dl')",
      "language": "python",
      "name": "python3"
    },
    "language_info": {
      "codemirror_mode": {
        "name": "ipython",
        "version": 3
      },
      "file_extension": ".py",
      "mimetype": "text/x-python",
      "name": "python",
      "nbconvert_exporter": "python",
      "pygments_lexer": "ipython3",
      "version": "3.9.16"
    },
    "vscode": {
      "interpreter": {
        "hash": "7aba8400f5793028c76b760b8f218e34a1395ac8226b95289931317412384abc"
      }
    }
  },
  "nbformat": 4,
  "nbformat_minor": 0
}
