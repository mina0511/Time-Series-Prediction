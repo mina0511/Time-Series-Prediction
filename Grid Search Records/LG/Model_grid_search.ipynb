{
  "cells": [
    {
      "cell_type": "code",
      "execution_count": 1,
      "metadata": {
        "colab": {
          "base_uri": "https://localhost:8080/"
        },
        "id": "_5bOKo4qawlz",
        "outputId": "7b5c3117-3563-4ae2-ae23-5f31333709fe"
      },
      "outputs": [],
      "source": [
        "import pandas as pd\n",
        "import numpy as np\n",
        "import pickle\n",
        "\n",
        "from tqdm import tqdm\n",
        "\n",
        "from models import Model2\n",
        "from tools import Train, validation, GridSearch"
      ]
    },
    {
      "cell_type": "code",
      "execution_count": 2,
      "metadata": {
        "id": "Qwjr4b4Xjgmz"
      },
      "outputs": [],
      "source": [
        "import torch\n",
        "from torch import nn\n",
        "from torch.nn import functional as F\n",
        "from torch.utils.data import Dataset, DataLoader\n",
        "device = torch.device('cuda:1') if torch.cuda.is_available() else torch.device('cpu')\n",
        "\n",
        "from sklearn.metrics import r2_score, mean_absolute_error"
      ]
    },
    {
      "cell_type": "code",
      "execution_count": 3,
      "metadata": {
        "id": "9lI5sP74a3e0"
      },
      "outputs": [],
      "source": [
        "with open('data/train_dataset.pickle', 'rb') as f:\n",
        "    train_dataset = pickle.load(f)\n",
        "\n",
        "with open('data/val_dataset.pickle', 'rb') as f:\n",
        "    val_dataset = pickle.load(f)\n",
        "\n",
        "with open('data/test_dataset.pickle', 'rb') as f:\n",
        "    test_dataset = pickle.load(f)"
      ]
    },
    {
      "cell_type": "code",
      "execution_count": 4,
      "metadata": {
        "colab": {
          "base_uri": "https://localhost:8080/"
        },
        "id": "WDjR30F6kMgI",
        "outputId": "4368b402-852a-48f5-f857-0027652296e8"
      },
      "outputs": [],
      "source": [
        "train_loader = DataLoader(train_dataset, batch_size = 16, shuffle = True)\n",
        "val_loader = DataLoader(val_dataset, batch_size = 64, shuffle = False)\n",
        "test_loader = DataLoader(test_dataset, batch_size=64, shuffle=False)"
      ]
    },
    {
      "cell_type": "markdown",
      "metadata": {},
      "source": [
        "# 사용법"
      ]
    },
    {
      "cell_type": "markdown",
      "metadata": {},
      "source": [
        "+ `basic_params`: 딱히 건드릴 필요 없는 애들 (`n` 같은 것들)\n",
        "+ `param_grid`: 그리드 서치의 대상이 되는 애들 (`m`: LSTM hidden size, `skip_hidden_size`: Skip GRU hidden size 등)\n",
        "+ 기본적으로 Train과 사용법이 비슷함\n",
        "    > `Train.best_model`: epoch들 중에서 loss가 가장 낮았던 순간을 기억  \n",
        "    > `GridSearch.best_model`: parameter 조합들에 의한 여러 model들 중에서 loss가 가장 낮았던 것을 기억  \n",
        "    > 아래 나오는 플롯들은 모두 최적의 parameter의 model에 대한 플롯"
      ]
    },
    {
      "cell_type": "code",
      "execution_count": 5,
      "metadata": {},
      "outputs": [],
      "source": [
        "criterion = nn.MSELoss()\n",
        "eval_metrics = [\n",
        "    r2_score,\n",
        "    mean_absolute_error\n",
        "]"
      ]
    },
    {
      "attachments": {},
      "cell_type": "markdown",
      "metadata": {},
      "source": [
        "# Model 2"
      ]
    },
    {
      "cell_type": "code",
      "execution_count": 6,
      "metadata": {},
      "outputs": [],
      "source": [
        "basic_params = {\n",
        "    'T': 60,\n",
        "    'n': 40\n",
        "}\n",
        "\n",
        "param_grid = {\n",
        "    'm': [32, 40],\n",
        "    'skip_hidden_size': [32, 40],\n",
        "    'T_modified': [20, 30],\n",
        "    'skip': [8, 10]\n",
        "}"
      ]
    },
    {
      "cell_type": "code",
      "execution_count": 7,
      "metadata": {},
      "outputs": [
        {
          "name": "stdout",
          "output_type": "stream",
          "text": [
            "Total  16 cases are going to be searched.\n",
            "Setting   0 of Parameters Grid is now on progres.\n"
          ]
        },
        {
          "name": "stderr",
          "output_type": "stream",
          "text": [
            "Epoch  0: 100%|██████████| 2607/2607 [02:39<00:00, 16.34it/s, Train Loss=2.4569, Valid Loss=0.3879, Valid R2=0.1248, Valid MAE=0.4869]\n",
            "Epoch  1: 100%|██████████| 2607/2607 [02:37<00:00, 16.58it/s, Train Loss=0.7725, Valid Loss=0.2593, Valid R2=0.4148, Valid MAE=0.4070]\n",
            "Epoch  2: 100%|██████████| 2607/2607 [02:36<00:00, 16.69it/s, Train Loss=0.7249, Valid Loss=0.3172, Valid R2=0.2842, Valid MAE=0.4498]\n",
            "Epoch  3: 100%|██████████| 2607/2607 [02:37<00:00, 16.56it/s, Train Loss=0.6954, Valid Loss=0.2859, Valid R2=0.3548, Valid MAE=0.4292]\n",
            "Epoch  4: 100%|██████████| 2607/2607 [02:36<00:00, 16.64it/s, Train Loss=0.6740, Valid Loss=0.2403, Valid R2=0.4578, Valid MAE=0.3910]\n",
            "Epoch  5: 100%|██████████| 2607/2607 [02:36<00:00, 16.61it/s, Train Loss=0.6592, Valid Loss=0.1980, Valid R2=0.5533, Valid MAE=0.3563]\n",
            "Epoch  6: 100%|██████████| 2607/2607 [02:36<00:00, 16.70it/s, Train Loss=0.6470, Valid Loss=0.1929, Valid R2=0.5648, Valid MAE=0.3538]\n",
            "Epoch  7: 100%|██████████| 2607/2607 [02:37<00:00, 16.53it/s, Train Loss=0.6422, Valid Loss=0.2122, Valid R2=0.5212, Valid MAE=0.3688]\n",
            "Epoch  8: 100%|██████████| 2607/2607 [02:36<00:00, 16.61it/s, Train Loss=0.6342, Valid Loss=0.2122, Valid R2=0.5212, Valid MAE=0.3690]\n",
            "Epoch  9: 100%|██████████| 2607/2607 [02:36<00:00, 16.70it/s, Train Loss=0.6278, Valid Loss=0.1827, Valid R2=0.5878, Valid MAE=0.3436]\n",
            "Epoch 10: 100%|██████████| 2607/2607 [02:36<00:00, 16.69it/s, Train Loss=0.6196, Valid Loss=0.1906, Valid R2=0.5699, Valid MAE=0.3527]\n",
            "Epoch 11: 100%|██████████| 2607/2607 [02:37<00:00, 16.52it/s, Train Loss=0.6144, Valid Loss=0.2057, Valid R2=0.5358, Valid MAE=0.3663]\n",
            "Epoch 12: 100%|██████████| 2607/2607 [02:37<00:00, 16.51it/s, Train Loss=0.6086, Valid Loss=0.2084, Valid R2=0.5299, Valid MAE=0.3681]\n",
            "Epoch 13: 100%|██████████| 2607/2607 [02:36<00:00, 16.67it/s, Train Loss=0.6084, Valid Loss=0.2702, Valid R2=0.3904, Valid MAE=0.4176]\n"
          ]
        },
        {
          "name": "stdout",
          "output_type": "stream",
          "text": [
            "Early Stopped\n",
            "Setting   1 of Parameters Grid is now on progres.\n"
          ]
        },
        {
          "name": "stderr",
          "output_type": "stream",
          "text": [
            "Epoch  0: 100%|██████████| 2607/2607 [02:37<00:00, 16.55it/s, Train Loss=2.8183, Valid Loss=0.3729, Valid R2=0.1587, Valid MAE=0.4640]\n",
            "Epoch  1: 100%|██████████| 2607/2607 [02:36<00:00, 16.64it/s, Train Loss=0.7798, Valid Loss=0.2917, Valid R2=0.3418, Valid MAE=0.4260]\n",
            "Epoch  2: 100%|██████████| 2607/2607 [02:38<00:00, 16.41it/s, Train Loss=0.7162, Valid Loss=0.1882, Valid R2=0.5753, Valid MAE=0.3430]\n",
            "Epoch  3: 100%|██████████| 2607/2607 [02:36<00:00, 16.61it/s, Train Loss=0.6821, Valid Loss=0.1976, Valid R2=0.5542, Valid MAE=0.3500]\n",
            "Epoch  4: 100%|██████████| 2607/2607 [02:37<00:00, 16.54it/s, Train Loss=0.6635, Valid Loss=0.2122, Valid R2=0.5211, Valid MAE=0.3648]\n",
            "Epoch  5: 100%|██████████| 2607/2607 [02:38<00:00, 16.41it/s, Train Loss=0.6516, Valid Loss=0.2660, Valid R2=0.3997, Valid MAE=0.3994]\n",
            "Epoch  6: 100%|██████████| 2607/2607 [02:36<00:00, 16.61it/s, Train Loss=0.6421, Valid Loss=0.1921, Valid R2=0.5666, Valid MAE=0.3407]\n"
          ]
        },
        {
          "name": "stdout",
          "output_type": "stream",
          "text": [
            "Early Stopped\n",
            "Setting   2 of Parameters Grid is now on progres.\n"
          ]
        },
        {
          "name": "stderr",
          "output_type": "stream",
          "text": [
            "Epoch  0: 100%|██████████| 2607/2607 [02:37<00:00, 16.59it/s, Train Loss=2.4650, Valid Loss=0.4618, Valid R2=-0.0421, Valid MAE=0.5167]\n",
            "Epoch  1: 100%|██████████| 2607/2607 [02:38<00:00, 16.48it/s, Train Loss=0.7627, Valid Loss=0.3476, Valid R2=0.2158, Valid MAE=0.4573]\n",
            "Epoch  2: 100%|██████████| 2607/2607 [02:37<00:00, 16.52it/s, Train Loss=0.7057, Valid Loss=0.2598, Valid R2=0.4139, Valid MAE=0.4010]\n",
            "Epoch  3: 100%|██████████| 2607/2607 [02:39<00:00, 16.33it/s, Train Loss=0.6819, Valid Loss=0.2666, Valid R2=0.3984, Valid MAE=0.4125]\n",
            "Epoch  4: 100%|██████████| 2607/2607 [02:38<00:00, 16.42it/s, Train Loss=0.6594, Valid Loss=0.2966, Valid R2=0.3307, Valid MAE=0.4344]\n",
            "Epoch  5: 100%|██████████| 2607/2607 [02:37<00:00, 16.54it/s, Train Loss=0.6468, Valid Loss=0.2298, Valid R2=0.4815, Valid MAE=0.3752]\n",
            "Epoch  6: 100%|██████████| 2607/2607 [02:39<00:00, 16.36it/s, Train Loss=0.6393, Valid Loss=0.2548, Valid R2=0.4251, Valid MAE=0.3945]\n",
            "Epoch  7: 100%|██████████| 2607/2607 [02:39<00:00, 16.32it/s, Train Loss=0.6279, Valid Loss=0.2502, Valid R2=0.4354, Valid MAE=0.3910]\n",
            "Epoch  8: 100%|██████████| 2607/2607 [02:37<00:00, 16.57it/s, Train Loss=0.6221, Valid Loss=0.2901, Valid R2=0.3454, Valid MAE=0.4254]\n",
            "Epoch  9: 100%|██████████| 2607/2607 [02:37<00:00, 16.52it/s, Train Loss=0.6150, Valid Loss=0.2196, Valid R2=0.5044, Valid MAE=0.3658]\n",
            "Epoch 10: 100%|██████████| 2607/2607 [02:38<00:00, 16.43it/s, Train Loss=0.6117, Valid Loss=0.2527, Valid R2=0.4299, Valid MAE=0.3896]\n",
            "Epoch 11: 100%|██████████| 2607/2607 [02:39<00:00, 16.33it/s, Train Loss=0.6002, Valid Loss=0.2416, Valid R2=0.4549, Valid MAE=0.3802]\n",
            "Epoch 12: 100%|██████████| 2607/2607 [02:46<00:00, 15.62it/s, Train Loss=0.5920, Valid Loss=0.2641, Valid R2=0.4041, Valid MAE=0.3944]\n",
            "Epoch 13: 100%|██████████| 2607/2607 [02:54<00:00, 14.91it/s, Train Loss=0.5849, Valid Loss=0.4194, Valid R2=0.0537, Valid MAE=0.4774]\n"
          ]
        },
        {
          "name": "stdout",
          "output_type": "stream",
          "text": [
            "Early Stopped\n"
          ]
        },
        {
          "ename": "RuntimeError",
          "evalue": "Error(s) in loading state_dict for Model2:\n\tMissing key(s) in state_dict: \"layer_cnn.0.weight\", \"layer_cnn.0.bias\", \"layer_cnn_beta1.0.weight\", \"layer_cnn_beta1.0.bias\", \"linear_beta1.0.weight\", \"linear_beta1.0.bias\". \n\tUnexpected key(s) in state_dict: \"layer_linear_beta1.0.weight\", \"layer_linear_beta1.0.bias\". ",
          "output_type": "error",
          "traceback": [
            "\u001b[0;31m---------------------------------------------------------------------------\u001b[0m",
            "\u001b[0;31mRuntimeError\u001b[0m                              Traceback (most recent call last)",
            "Cell \u001b[0;32mIn [7], line 2\u001b[0m\n\u001b[1;32m      1\u001b[0m grid_model \u001b[39m=\u001b[39m GridSearch(criterion, eval_metrics, device, temp_save_path\u001b[39m=\u001b[39m\u001b[39m'\u001b[39m\u001b[39mcheckpoints/model_by_param/temp_model.pt\u001b[39m\u001b[39m'\u001b[39m, masked\u001b[39m=\u001b[39m\u001b[39mFalse\u001b[39;00m)\n\u001b[0;32m----> 2\u001b[0m best_model \u001b[39m=\u001b[39m grid_model\u001b[39m.\u001b[39;49mtrain_by_grid(\n\u001b[1;32m      3\u001b[0m         Model2, basic_params, param_grid,\n\u001b[1;32m      4\u001b[0m         torch\u001b[39m.\u001b[39;49moptim\u001b[39m.\u001b[39;49mAdam, train_loader, val_loader,\n\u001b[1;32m      5\u001b[0m         patience\u001b[39m=\u001b[39;49m\u001b[39m3\u001b[39;49m, epochs\u001b[39m=\u001b[39;49m\u001b[39m20\u001b[39;49m,\n\u001b[1;32m      6\u001b[0m         save_filename\u001b[39m=\u001b[39;49m\u001b[39m'\u001b[39;49m\u001b[39mcheckpoints/LSTNet_best.pt\u001b[39;49m\u001b[39m'\u001b[39;49m\n\u001b[1;32m      7\u001b[0m     )\n",
            "File \u001b[0;32m~/kwon/공부/tools.py:218\u001b[0m, in \u001b[0;36mGridSearch.train_by_grid\u001b[0;34m(self, Model, basic_params, param_grid, optimizer_function, train_loader, val_loader, lr, patience, epochs, save_filename)\u001b[0m\n\u001b[1;32m    215\u001b[0m optimizer \u001b[39m=\u001b[39m optimizer_function(params\u001b[39m=\u001b[39mmodel\u001b[39m.\u001b[39mparameters(), lr\u001b[39m=\u001b[39mlr)\n\u001b[1;32m    217\u001b[0m \u001b[39mprint\u001b[39m(\u001b[39mf\u001b[39m\u001b[39m'\u001b[39m\u001b[39mSetting \u001b[39m\u001b[39m{\u001b[39;00mi\u001b[39m:\u001b[39;00m\u001b[39m3d\u001b[39m\u001b[39m}\u001b[39;00m\u001b[39m of Parameters Grid is now on progres.\u001b[39m\u001b[39m'\u001b[39m)\n\u001b[0;32m--> 218\u001b[0m best_model_param \u001b[39m=\u001b[39m train_model\u001b[39m.\u001b[39;49mtrain(model, optimizer, train_loader, val_loader, patience\u001b[39m=\u001b[39;49mpatience, epochs\u001b[39m=\u001b[39;49mepochs)\n\u001b[1;32m    220\u001b[0m \u001b[39mif\u001b[39;00m train_model\u001b[39m.\u001b[39mbest_loss \u001b[39m<\u001b[39m \u001b[39mself\u001b[39m\u001b[39m.\u001b[39mbest_loss:\n\u001b[1;32m    221\u001b[0m     \u001b[39mself\u001b[39m\u001b[39m.\u001b[39mbest_model \u001b[39m=\u001b[39m best_model_param\n",
            "File \u001b[0;32m~/kwon/공부/tools.py:124\u001b[0m, in \u001b[0;36mTrain.train\u001b[0;34m(self, model, optimizer, train_loader, val_loader, patience, epochs)\u001b[0m\n\u001b[1;32m    121\u001b[0m         \u001b[39mprint\u001b[39m(\u001b[39m'\u001b[39m\u001b[39mEarly Stopped\u001b[39m\u001b[39m'\u001b[39m)\n\u001b[1;32m    122\u001b[0m         \u001b[39mbreak\u001b[39;00m\n\u001b[0;32m--> 124\u001b[0m model\u001b[39m.\u001b[39;49mload_state_dict(torch_load(early_stopping\u001b[39m.\u001b[39;49mbest_model_save_path))\n\u001b[1;32m    125\u001b[0m \u001b[39mself\u001b[39m\u001b[39m.\u001b[39mbest_model \u001b[39m=\u001b[39m model\n\u001b[1;32m    126\u001b[0m \u001b[39mself\u001b[39m\u001b[39m.\u001b[39mbest_loss \u001b[39m=\u001b[39m early_stopping\u001b[39m.\u001b[39mbest_loss\n",
            "File \u001b[0;32m~/.conda/envs/kwon_dl/lib/python3.9/site-packages/torch/nn/modules/module.py:1604\u001b[0m, in \u001b[0;36mModule.load_state_dict\u001b[0;34m(self, state_dict, strict)\u001b[0m\n\u001b[1;32m   1599\u001b[0m         error_msgs\u001b[39m.\u001b[39minsert(\n\u001b[1;32m   1600\u001b[0m             \u001b[39m0\u001b[39m, \u001b[39m'\u001b[39m\u001b[39mMissing key(s) in state_dict: \u001b[39m\u001b[39m{}\u001b[39;00m\u001b[39m. \u001b[39m\u001b[39m'\u001b[39m\u001b[39m.\u001b[39mformat(\n\u001b[1;32m   1601\u001b[0m                 \u001b[39m'\u001b[39m\u001b[39m, \u001b[39m\u001b[39m'\u001b[39m\u001b[39m.\u001b[39mjoin(\u001b[39m'\u001b[39m\u001b[39m\"\u001b[39m\u001b[39m{}\u001b[39;00m\u001b[39m\"\u001b[39m\u001b[39m'\u001b[39m\u001b[39m.\u001b[39mformat(k) \u001b[39mfor\u001b[39;00m k \u001b[39min\u001b[39;00m missing_keys)))\n\u001b[1;32m   1603\u001b[0m \u001b[39mif\u001b[39;00m \u001b[39mlen\u001b[39m(error_msgs) \u001b[39m>\u001b[39m \u001b[39m0\u001b[39m:\n\u001b[0;32m-> 1604\u001b[0m     \u001b[39mraise\u001b[39;00m \u001b[39mRuntimeError\u001b[39;00m(\u001b[39m'\u001b[39m\u001b[39mError(s) in loading state_dict for \u001b[39m\u001b[39m{}\u001b[39;00m\u001b[39m:\u001b[39m\u001b[39m\\n\u001b[39;00m\u001b[39m\\t\u001b[39;00m\u001b[39m{}\u001b[39;00m\u001b[39m'\u001b[39m\u001b[39m.\u001b[39mformat(\n\u001b[1;32m   1605\u001b[0m                        \u001b[39mself\u001b[39m\u001b[39m.\u001b[39m\u001b[39m__class__\u001b[39m\u001b[39m.\u001b[39m\u001b[39m__name__\u001b[39m, \u001b[39m\"\u001b[39m\u001b[39m\\n\u001b[39;00m\u001b[39m\\t\u001b[39;00m\u001b[39m\"\u001b[39m\u001b[39m.\u001b[39mjoin(error_msgs)))\n\u001b[1;32m   1606\u001b[0m \u001b[39mreturn\u001b[39;00m _IncompatibleKeys(missing_keys, unexpected_keys)\n",
            "\u001b[0;31mRuntimeError\u001b[0m: Error(s) in loading state_dict for Model2:\n\tMissing key(s) in state_dict: \"layer_cnn.0.weight\", \"layer_cnn.0.bias\", \"layer_cnn_beta1.0.weight\", \"layer_cnn_beta1.0.bias\", \"linear_beta1.0.weight\", \"linear_beta1.0.bias\". \n\tUnexpected key(s) in state_dict: \"layer_linear_beta1.0.weight\", \"layer_linear_beta1.0.bias\". "
          ]
        }
      ],
      "source": [
        "grid_model = GridSearch(criterion, eval_metrics, device, temp_save_path='checkpoints/model_by_param/temp_model.pt', masked=False)\n",
        "best_model = grid_model.train_by_grid(\n",
        "        Model2, basic_params, param_grid,\n",
        "        torch.optim.Adam, train_loader, val_loader,\n",
        "        patience=3, epochs=20,\n",
        "        save_filename='checkpoints/model2_best.pt'\n",
        "    )"
      ]
    },
    {
      "cell_type": "code",
      "execution_count": null,
      "metadata": {},
      "outputs": [],
      "source": [
        "best_model.eval()\n",
        "with torch.no_grad():\n",
        "    loss, r2, mae = validation(best_model, val_loader, criterion, eval_metrics, device)\n",
        "    print(f'Loss={loss:.4f}, R2={r2:.4f}, MAE={mae:.4f}')"
      ]
    },
    {
      "cell_type": "code",
      "execution_count": null,
      "metadata": {},
      "outputs": [],
      "source": [
        "grid_model.test(test_loader)"
      ]
    },
    {
      "cell_type": "code",
      "execution_count": null,
      "metadata": {},
      "outputs": [],
      "source": [
        "grid_model.plot_losses(plot_title='Model2.png', save_filename='Model2_losses.png')"
      ]
    }
  ],
  "metadata": {
    "accelerator": "GPU",
    "colab": {
      "provenance": []
    },
    "kernelspec": {
      "display_name": "Python 3.9.13 ('kwon_dl')",
      "language": "python",
      "name": "python3"
    },
    "language_info": {
      "codemirror_mode": {
        "name": "ipython",
        "version": 3
      },
      "file_extension": ".py",
      "mimetype": "text/x-python",
      "name": "python",
      "nbconvert_exporter": "python",
      "pygments_lexer": "ipython3",
      "version": "3.9.13"
    },
    "vscode": {
      "interpreter": {
        "hash": "7aba8400f5793028c76b760b8f218e34a1395ac8226b95289931317412384abc"
      }
    }
  },
  "nbformat": 4,
  "nbformat_minor": 0
}
