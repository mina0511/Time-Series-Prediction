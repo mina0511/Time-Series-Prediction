{
  "cells": [
    {
      "cell_type": "code",
      "execution_count": 1,
      "metadata": {
        "colab": {
          "base_uri": "https://localhost:8080/"
        },
        "id": "_5bOKo4qawlz",
        "outputId": "7b5c3117-3563-4ae2-ae23-5f31333709fe"
      },
      "outputs": [],
      "source": [
        "import pandas as pd\n",
        "import numpy as np\n",
        "import pickle\n",
        "\n",
        "from tqdm import tqdm\n",
        "\n",
        "from models import Model1, Model2, Model3\n",
        "from tools import Train, validation, GridSearch"
      ]
    },
    {
      "cell_type": "code",
      "execution_count": 2,
      "metadata": {
        "id": "Qwjr4b4Xjgmz"
      },
      "outputs": [],
      "source": [
        "import torch\n",
        "from torch import nn\n",
        "from torch.nn import functional as F\n",
        "from torch.utils.data import Dataset, DataLoader\n",
        "device = torch.device('cuda:1') if torch.cuda.is_available() else torch.device('cpu')\n",
        "\n",
        "from sklearn.metrics import r2_score, mean_absolute_error"
      ]
    },
    {
      "cell_type": "code",
      "execution_count": 3,
      "metadata": {
        "id": "9lI5sP74a3e0"
      },
      "outputs": [],
      "source": [
        "with open('data/train_dataset.pickle', 'rb') as f:\n",
        "    train_dataset = pickle.load(f)\n",
        "\n",
        "with open('data/val_dataset.pickle', 'rb') as f:\n",
        "    val_dataset = pickle.load(f)\n",
        "\n",
        "with open('data/test_dataset.pickle', 'rb') as f:\n",
        "    test_dataset = pickle.load(f)"
      ]
    },
    {
      "cell_type": "code",
      "execution_count": 4,
      "metadata": {
        "colab": {
          "base_uri": "https://localhost:8080/"
        },
        "id": "WDjR30F6kMgI",
        "outputId": "4368b402-852a-48f5-f857-0027652296e8"
      },
      "outputs": [],
      "source": [
        "train_loader = DataLoader(train_dataset, batch_size = 16, shuffle = True)\n",
        "val_loader = DataLoader(val_dataset, batch_size = 64, shuffle = False)\n",
        "test_loader = DataLoader(test_dataset, batch_size=64, shuffle=False)"
      ]
    },
    {
      "cell_type": "code",
      "execution_count": 5,
      "metadata": {},
      "outputs": [],
      "source": [
        "criterion = nn.MSELoss()\n",
        "eval_metrics = [\n",
        "    r2_score,\n",
        "    mean_absolute_error\n",
        "]"
      ]
    },
    {
      "attachments": {},
      "cell_type": "markdown",
      "metadata": {},
      "source": [
        "# Model 3"
      ]
    },
    {
      "cell_type": "code",
      "execution_count": 6,
      "metadata": {},
      "outputs": [
        {
          "name": "stdout",
          "output_type": "stream",
          "text": [
            "Total  16 cases are going to be searched.\n",
            "Setting   0 of Parameters Grid is now on progres.\n"
          ]
        },
        {
          "name": "stderr",
          "output_type": "stream",
          "text": [
            "Epoch  0: 100%|██████████| 2607/2607 [01:21<00:00, 32.18it/s, Train Loss=3.5225, Valid Loss=1.2638, Valid R2=-1.8516, Valid MAE=0.9274]\n",
            "Epoch  1: 100%|██████████| 2607/2607 [01:20<00:00, 32.54it/s, Train Loss=1.1403, Valid Loss=0.7002, Valid R2=-0.5798, Valid MAE=0.6655]\n",
            "Epoch  2: 100%|██████████| 2607/2607 [01:21<00:00, 32.04it/s, Train Loss=1.0202, Valid Loss=0.3988, Valid R2=0.1002, Valid MAE=0.4994]\n",
            "Epoch  3: 100%|██████████| 2607/2607 [01:18<00:00, 33.21it/s, Train Loss=0.9401, Valid Loss=0.3039, Valid R2=0.3142, Valid MAE=0.4364]\n",
            "Epoch  4: 100%|██████████| 2607/2607 [01:20<00:00, 32.31it/s, Train Loss=0.9119, Valid Loss=0.2364, Valid R2=0.4665, Valid MAE=0.3944]\n",
            "Epoch  5: 100%|██████████| 2607/2607 [01:19<00:00, 32.63it/s, Train Loss=0.8709, Valid Loss=0.2199, Valid R2=0.5038, Valid MAE=0.3831]\n",
            "Epoch  6: 100%|██████████| 2607/2607 [01:20<00:00, 32.26it/s, Train Loss=0.8607, Valid Loss=0.2005, Valid R2=0.5475, Valid MAE=0.3620]\n",
            "Epoch  7: 100%|██████████| 2607/2607 [01:21<00:00, 31.88it/s, Train Loss=0.8301, Valid Loss=0.2144, Valid R2=0.5163, Valid MAE=0.3780]\n",
            "Epoch  8: 100%|██████████| 2607/2607 [01:19<00:00, 32.72it/s, Train Loss=0.8206, Valid Loss=0.1639, Valid R2=0.6303, Valid MAE=0.3267]\n",
            "Epoch  9: 100%|██████████| 2607/2607 [01:21<00:00, 32.16it/s, Train Loss=0.8121, Valid Loss=0.1702, Valid R2=0.6159, Valid MAE=0.3307]\n",
            "Epoch 10: 100%|██████████| 2607/2607 [01:19<00:00, 32.60it/s, Train Loss=0.7948, Valid Loss=0.1826, Valid R2=0.5881, Valid MAE=0.3403]\n",
            "Epoch 11: 100%|██████████| 2607/2607 [01:21<00:00, 32.09it/s, Train Loss=0.7903, Valid Loss=0.1645, Valid R2=0.6289, Valid MAE=0.3210]\n",
            "Epoch 12: 100%|██████████| 2607/2607 [01:20<00:00, 32.44it/s, Train Loss=0.7812, Valid Loss=0.1736, Valid R2=0.6084, Valid MAE=0.3283]\n"
          ]
        },
        {
          "name": "stdout",
          "output_type": "stream",
          "text": [
            "Early Stopped\n",
            "Setting   1 of Parameters Grid is now on progres.\n"
          ]
        },
        {
          "name": "stderr",
          "output_type": "stream",
          "text": [
            "Epoch  0: 100%|██████████| 2607/2607 [01:20<00:00, 32.36it/s, Train Loss=3.4219, Valid Loss=1.1819, Valid R2=-1.6668, Valid MAE=0.8004]\n",
            "Epoch  1: 100%|██████████| 2607/2607 [01:21<00:00, 32.10it/s, Train Loss=1.0789, Valid Loss=0.4585, Valid R2=-0.0346, Valid MAE=0.5365]\n",
            "Epoch  2: 100%|██████████| 2607/2607 [01:16<00:00, 34.02it/s, Train Loss=0.9433, Valid Loss=0.2794, Valid R2=0.3697, Valid MAE=0.4304]\n",
            "Epoch  3: 100%|██████████| 2607/2607 [01:19<00:00, 32.68it/s, Train Loss=0.8861, Valid Loss=0.2259, Valid R2=0.4903, Valid MAE=0.3936]\n",
            "Epoch  4: 100%|██████████| 2607/2607 [01:22<00:00, 31.71it/s, Train Loss=0.8408, Valid Loss=0.2138, Valid R2=0.5177, Valid MAE=0.3804]\n",
            "Epoch  5: 100%|██████████| 2607/2607 [01:21<00:00, 31.87it/s, Train Loss=0.8118, Valid Loss=0.2142, Valid R2=0.5166, Valid MAE=0.4004]\n",
            "Epoch  6: 100%|██████████| 2607/2607 [01:21<00:00, 31.97it/s, Train Loss=0.7955, Valid Loss=0.2105, Valid R2=0.5250, Valid MAE=0.3939]\n",
            "Epoch  7: 100%|██████████| 2607/2607 [01:21<00:00, 32.14it/s, Train Loss=0.7825, Valid Loss=0.2090, Valid R2=0.5285, Valid MAE=0.3869]\n",
            "Epoch  8: 100%|██████████| 2607/2607 [01:19<00:00, 32.61it/s, Train Loss=0.7734, Valid Loss=0.1673, Valid R2=0.6226, Valid MAE=0.3359]\n",
            "Epoch  9: 100%|██████████| 2607/2607 [01:20<00:00, 32.34it/s, Train Loss=0.7520, Valid Loss=0.1856, Valid R2=0.5811, Valid MAE=0.3628]\n",
            "Epoch 10: 100%|██████████| 2607/2607 [01:19<00:00, 32.65it/s, Train Loss=0.7455, Valid Loss=0.1670, Valid R2=0.6231, Valid MAE=0.3449]\n",
            "Epoch 11: 100%|██████████| 2607/2607 [01:21<00:00, 32.01it/s, Train Loss=0.7341, Valid Loss=0.2321, Valid R2=0.4763, Valid MAE=0.4163]\n",
            "Epoch 12: 100%|██████████| 2607/2607 [01:20<00:00, 32.51it/s, Train Loss=0.7300, Valid Loss=0.1950, Valid R2=0.5599, Valid MAE=0.3764]\n",
            "Epoch 13: 100%|██████████| 2607/2607 [01:20<00:00, 32.39it/s, Train Loss=0.7248, Valid Loss=0.1962, Valid R2=0.5573, Valid MAE=0.3715]\n",
            "Epoch 14: 100%|██████████| 2607/2607 [01:20<00:00, 32.21it/s, Train Loss=0.7189, Valid Loss=0.2197, Valid R2=0.5042, Valid MAE=0.4060]\n"
          ]
        },
        {
          "name": "stdout",
          "output_type": "stream",
          "text": [
            "Early Stopped\n",
            "Setting   2 of Parameters Grid is now on progres.\n"
          ]
        },
        {
          "name": "stderr",
          "output_type": "stream",
          "text": [
            "Epoch  0: 100%|██████████| 2607/2607 [01:39<00:00, 26.19it/s, Train Loss=3.1004, Valid Loss=1.3952, Valid R2=-2.1481, Valid MAE=0.9587]\n",
            "Epoch  1: 100%|██████████| 2607/2607 [01:38<00:00, 26.57it/s, Train Loss=1.0789, Valid Loss=0.9006, Valid R2=-1.0321, Valid MAE=0.7634]\n",
            "Epoch  2: 100%|██████████| 2607/2607 [01:39<00:00, 26.33it/s, Train Loss=0.9694, Valid Loss=0.5073, Valid R2=-0.1446, Valid MAE=0.5688]\n",
            "Epoch  3: 100%|██████████| 2607/2607 [01:38<00:00, 26.37it/s, Train Loss=0.9024, Valid Loss=0.3875, Valid R2=0.1257, Valid MAE=0.4932]\n",
            "Epoch  4: 100%|██████████| 2607/2607 [01:38<00:00, 26.38it/s, Train Loss=0.8503, Valid Loss=0.2927, Valid R2=0.3395, Valid MAE=0.4310]\n",
            "Epoch  5: 100%|██████████| 2607/2607 [01:39<00:00, 26.26it/s, Train Loss=0.8220, Valid Loss=0.1999, Valid R2=0.5489, Valid MAE=0.3557]\n",
            "Epoch  6: 100%|██████████| 2607/2607 [01:39<00:00, 26.31it/s, Train Loss=0.8047, Valid Loss=0.1730, Valid R2=0.6096, Valid MAE=0.3316]\n",
            "Epoch  7: 100%|██████████| 2607/2607 [01:38<00:00, 26.41it/s, Train Loss=0.7830, Valid Loss=0.1607, Valid R2=0.6375, Valid MAE=0.3195]\n",
            "Epoch  8: 100%|██████████| 2607/2607 [01:38<00:00, 26.51it/s, Train Loss=0.7669, Valid Loss=0.1657, Valid R2=0.6261, Valid MAE=0.3300]\n",
            "Epoch  9: 100%|██████████| 2607/2607 [01:38<00:00, 26.55it/s, Train Loss=0.7577, Valid Loss=0.1826, Valid R2=0.5881, Valid MAE=0.3483]\n",
            "Epoch 10: 100%|██████████| 2607/2607 [01:38<00:00, 26.43it/s, Train Loss=0.7467, Valid Loss=0.1769, Valid R2=0.6008, Valid MAE=0.3445]\n",
            "Epoch 11: 100%|██████████| 2607/2607 [01:38<00:00, 26.46it/s, Train Loss=0.7355, Valid Loss=0.1569, Valid R2=0.6459, Valid MAE=0.3224]\n",
            "Epoch 12: 100%|██████████| 2607/2607 [01:38<00:00, 26.38it/s, Train Loss=0.7298, Valid Loss=0.1984, Valid R2=0.5524, Valid MAE=0.3622]\n",
            "Epoch 13: 100%|██████████| 2607/2607 [01:38<00:00, 26.38it/s, Train Loss=0.7269, Valid Loss=0.1627, Valid R2=0.6329, Valid MAE=0.3272]\n",
            "Epoch 14: 100%|██████████| 2607/2607 [01:38<00:00, 26.45it/s, Train Loss=0.7216, Valid Loss=0.1775, Valid R2=0.5996, Valid MAE=0.3426]\n",
            "Epoch 15: 100%|██████████| 2607/2607 [01:39<00:00, 26.33it/s, Train Loss=0.7123, Valid Loss=0.1733, Valid R2=0.6089, Valid MAE=0.3394]\n"
          ]
        },
        {
          "name": "stdout",
          "output_type": "stream",
          "text": [
            "Early Stopped\n",
            "Setting   3 of Parameters Grid is now on progres.\n"
          ]
        },
        {
          "name": "stderr",
          "output_type": "stream",
          "text": [
            "Epoch  0: 100%|██████████| 2607/2607 [01:39<00:00, 26.32it/s, Train Loss=3.1589, Valid Loss=1.3087, Valid R2=-1.9529, Valid MAE=0.8896]\n",
            "Epoch  1: 100%|██████████| 2607/2607 [01:38<00:00, 26.37it/s, Train Loss=1.0838, Valid Loss=0.7605, Valid R2=-0.7159, Valid MAE=0.6752]\n",
            "Epoch  2: 100%|██████████| 2607/2607 [01:38<00:00, 26.43it/s, Train Loss=0.9828, Valid Loss=0.6469, Valid R2=-0.4597, Valid MAE=0.6122]\n",
            "Epoch  3: 100%|██████████| 2607/2607 [01:39<00:00, 26.21it/s, Train Loss=0.9123, Valid Loss=0.4088, Valid R2=0.0776, Valid MAE=0.4882]\n",
            "Epoch  4: 100%|██████████| 2607/2607 [01:39<00:00, 26.29it/s, Train Loss=0.8715, Valid Loss=0.3461, Valid R2=0.2190, Valid MAE=0.4610]\n",
            "Epoch  5: 100%|██████████| 2607/2607 [01:39<00:00, 26.18it/s, Train Loss=0.8320, Valid Loss=0.2591, Valid R2=0.4155, Valid MAE=0.4095]\n",
            "Epoch  6: 100%|██████████| 2607/2607 [01:38<00:00, 26.45it/s, Train Loss=0.8109, Valid Loss=0.2286, Valid R2=0.4843, Valid MAE=0.3977]\n",
            "Epoch  7: 100%|██████████| 2607/2607 [01:39<00:00, 26.18it/s, Train Loss=0.8082, Valid Loss=0.2208, Valid R2=0.5017, Valid MAE=0.3952]\n",
            "Epoch  8: 100%|██████████| 2607/2607 [01:39<00:00, 26.27it/s, Train Loss=0.7796, Valid Loss=0.2484, Valid R2=0.4396, Valid MAE=0.4231]\n",
            "Epoch  9: 100%|██████████| 2607/2607 [01:38<00:00, 26.44it/s, Train Loss=0.7642, Valid Loss=0.2344, Valid R2=0.4710, Valid MAE=0.4040]\n",
            "Epoch 10: 100%|██████████| 2607/2607 [01:38<00:00, 26.47it/s, Train Loss=0.7483, Valid Loss=0.2155, Valid R2=0.5137, Valid MAE=0.3894]\n",
            "Epoch 11: 100%|██████████| 2607/2607 [01:39<00:00, 26.33it/s, Train Loss=0.7438, Valid Loss=0.2206, Valid R2=0.5022, Valid MAE=0.3913]\n",
            "Epoch 12: 100%|██████████| 2607/2607 [01:38<00:00, 26.49it/s, Train Loss=0.7279, Valid Loss=0.2204, Valid R2=0.5027, Valid MAE=0.3930]\n",
            "Epoch 13: 100%|██████████| 2607/2607 [01:38<00:00, 26.41it/s, Train Loss=0.7245, Valid Loss=0.2178, Valid R2=0.5086, Valid MAE=0.3919]\n",
            "Epoch 14: 100%|██████████| 2607/2607 [01:38<00:00, 26.60it/s, Train Loss=0.7190, Valid Loss=0.2193, Valid R2=0.5051, Valid MAE=0.3918]\n"
          ]
        },
        {
          "name": "stdout",
          "output_type": "stream",
          "text": [
            "Early Stopped\n",
            "Setting   4 of Parameters Grid is now on progres.\n"
          ]
        },
        {
          "name": "stderr",
          "output_type": "stream",
          "text": [
            "Epoch  0: 100%|██████████| 2607/2607 [01:19<00:00, 32.60it/s, Train Loss=3.4223, Valid Loss=1.0870, Valid R2=-1.4526, Valid MAE=0.8106]\n",
            "Epoch  1: 100%|██████████| 2607/2607 [01:20<00:00, 32.25it/s, Train Loss=1.1201, Valid Loss=0.5315, Valid R2=-0.1993, Valid MAE=0.5939]\n",
            "Epoch  2: 100%|██████████| 2607/2607 [01:22<00:00, 31.79it/s, Train Loss=0.9677, Valid Loss=0.3271, Valid R2=0.2620, Valid MAE=0.4615]\n",
            "Epoch  3: 100%|██████████| 2607/2607 [01:21<00:00, 31.82it/s, Train Loss=0.8886, Valid Loss=0.1864, Valid R2=0.5795, Valid MAE=0.3549]\n",
            "Epoch  4: 100%|██████████| 2607/2607 [01:21<00:00, 31.88it/s, Train Loss=0.8472, Valid Loss=0.1814, Valid R2=0.5908, Valid MAE=0.3512]\n",
            "Epoch  5: 100%|██████████| 2607/2607 [01:19<00:00, 32.83it/s, Train Loss=0.8060, Valid Loss=0.2226, Valid R2=0.4977, Valid MAE=0.3921]\n",
            "Epoch  6: 100%|██████████| 2607/2607 [01:20<00:00, 32.20it/s, Train Loss=0.7841, Valid Loss=0.2097, Valid R2=0.5268, Valid MAE=0.3757]\n",
            "Epoch  7: 100%|██████████| 2607/2607 [01:21<00:00, 32.11it/s, Train Loss=0.7669, Valid Loss=0.2222, Valid R2=0.4986, Valid MAE=0.3935]\n",
            "Epoch  8: 100%|██████████| 2607/2607 [01:18<00:00, 33.06it/s, Train Loss=0.7523, Valid Loss=0.2352, Valid R2=0.4693, Valid MAE=0.4026]\n"
          ]
        },
        {
          "name": "stdout",
          "output_type": "stream",
          "text": [
            "Early Stopped\n",
            "Setting   5 of Parameters Grid is now on progres.\n"
          ]
        },
        {
          "name": "stderr",
          "output_type": "stream",
          "text": [
            "Epoch  0: 100%|██████████| 2607/2607 [01:19<00:00, 32.78it/s, Train Loss=3.2439, Valid Loss=1.6229, Valid R2=-2.6618, Valid MAE=1.0021]\n",
            "Epoch  1: 100%|██████████| 2607/2607 [01:19<00:00, 32.79it/s, Train Loss=1.1028, Valid Loss=0.4514, Valid R2=-0.0186, Valid MAE=0.5507]\n",
            "Epoch  2: 100%|██████████| 2607/2607 [01:21<00:00, 32.07it/s, Train Loss=0.9822, Valid Loss=0.2439, Valid R2=0.4496, Valid MAE=0.4110]\n",
            "Epoch  3: 100%|██████████| 2607/2607 [01:20<00:00, 32.27it/s, Train Loss=0.9241, Valid Loss=0.2464, Valid R2=0.4440, Valid MAE=0.4169]\n",
            "Epoch  4: 100%|██████████| 2607/2607 [01:17<00:00, 33.46it/s, Train Loss=0.8763, Valid Loss=0.2645, Valid R2=0.4031, Valid MAE=0.4325]\n",
            "Epoch  5: 100%|██████████| 2607/2607 [01:19<00:00, 32.86it/s, Train Loss=0.8423, Valid Loss=0.2372, Valid R2=0.4648, Valid MAE=0.4088]\n",
            "Epoch  6: 100%|██████████| 2607/2607 [01:21<00:00, 32.13it/s, Train Loss=0.8241, Valid Loss=0.2577, Valid R2=0.4185, Valid MAE=0.4328]\n",
            "Epoch  7: 100%|██████████| 2607/2607 [01:20<00:00, 32.56it/s, Train Loss=0.8047, Valid Loss=0.2894, Valid R2=0.3470, Valid MAE=0.4646]\n",
            "Epoch  8: 100%|██████████| 2607/2607 [01:20<00:00, 32.47it/s, Train Loss=0.7814, Valid Loss=0.2727, Valid R2=0.3847, Valid MAE=0.4474]\n",
            "Epoch  9: 100%|██████████| 2607/2607 [01:19<00:00, 32.72it/s, Train Loss=0.7723, Valid Loss=0.2534, Valid R2=0.4283, Valid MAE=0.4326]\n"
          ]
        },
        {
          "name": "stdout",
          "output_type": "stream",
          "text": [
            "Early Stopped\n",
            "Setting   6 of Parameters Grid is now on progres.\n"
          ]
        },
        {
          "name": "stderr",
          "output_type": "stream",
          "text": [
            "Epoch  0: 100%|██████████| 2607/2607 [01:39<00:00, 26.24it/s, Train Loss=3.4559, Valid Loss=2.2697, Valid R2=-4.1214, Valid MAE=1.1114]\n",
            "Epoch  1: 100%|██████████| 2607/2607 [01:38<00:00, 26.34it/s, Train Loss=1.1459, Valid Loss=0.8265, Valid R2=-0.8650, Valid MAE=0.7189]\n",
            "Epoch  2: 100%|██████████| 2607/2607 [01:39<00:00, 26.32it/s, Train Loss=1.0044, Valid Loss=0.6186, Valid R2=-0.3958, Valid MAE=0.6300]\n",
            "Epoch  3: 100%|██████████| 2607/2607 [01:38<00:00, 26.42it/s, Train Loss=0.9383, Valid Loss=0.4077, Valid R2=0.0800, Valid MAE=0.5109]\n",
            "Epoch  4: 100%|██████████| 2607/2607 [01:37<00:00, 26.61it/s, Train Loss=0.8749, Valid Loss=0.2732, Valid R2=0.3835, Valid MAE=0.4137]\n",
            "Epoch  5: 100%|██████████| 2607/2607 [01:37<00:00, 26.68it/s, Train Loss=0.8431, Valid Loss=0.2151, Valid R2=0.5145, Valid MAE=0.3679]\n",
            "Epoch  6: 100%|██████████| 2607/2607 [01:38<00:00, 26.36it/s, Train Loss=0.8193, Valid Loss=0.1703, Valid R2=0.6158, Valid MAE=0.3277]\n",
            "Epoch  7: 100%|██████████| 2607/2607 [01:39<00:00, 26.24it/s, Train Loss=0.8017, Valid Loss=0.1562, Valid R2=0.6476, Valid MAE=0.3181]\n",
            "Epoch  8: 100%|██████████| 2607/2607 [01:39<00:00, 26.32it/s, Train Loss=0.7793, Valid Loss=0.1520, Valid R2=0.6570, Valid MAE=0.3150]\n",
            "Epoch  9: 100%|██████████| 2607/2607 [01:39<00:00, 26.26it/s, Train Loss=0.7558, Valid Loss=0.1364, Valid R2=0.6922, Valid MAE=0.2958]\n",
            "Epoch 10: 100%|██████████| 2607/2607 [01:38<00:00, 26.53it/s, Train Loss=0.7476, Valid Loss=0.1572, Valid R2=0.6453, Valid MAE=0.3166]\n",
            "Epoch 11: 100%|██████████| 2607/2607 [01:39<00:00, 26.31it/s, Train Loss=0.7458, Valid Loss=0.1441, Valid R2=0.6749, Valid MAE=0.3035]\n",
            "Epoch 12: 100%|██████████| 2607/2607 [01:37<00:00, 26.71it/s, Train Loss=0.7370, Valid Loss=0.1745, Valid R2=0.6064, Valid MAE=0.3387]\n",
            "Epoch 13: 100%|██████████| 2607/2607 [01:38<00:00, 26.51it/s, Train Loss=0.7240, Valid Loss=0.1607, Valid R2=0.6374, Valid MAE=0.3193]\n"
          ]
        },
        {
          "name": "stdout",
          "output_type": "stream",
          "text": [
            "Early Stopped\n",
            "Setting   7 of Parameters Grid is now on progres.\n"
          ]
        },
        {
          "name": "stderr",
          "output_type": "stream",
          "text": [
            "Epoch  0: 100%|██████████| 2607/2607 [01:37<00:00, 26.67it/s, Train Loss=2.6235, Valid Loss=1.1485, Valid R2=-1.5914, Valid MAE=0.8358]\n",
            "Epoch  1: 100%|██████████| 2607/2607 [01:39<00:00, 26.25it/s, Train Loss=1.0425, Valid Loss=0.5649, Valid R2=-0.2746, Valid MAE=0.6016]\n",
            "Epoch  2: 100%|██████████| 2607/2607 [01:38<00:00, 26.57it/s, Train Loss=0.9336, Valid Loss=0.3776, Valid R2=0.1480, Valid MAE=0.4883]\n",
            "Epoch  3: 100%|██████████| 2607/2607 [01:39<00:00, 26.32it/s, Train Loss=0.8757, Valid Loss=0.3089, Valid R2=0.3031, Valid MAE=0.4585]\n",
            "Epoch  4: 100%|██████████| 2607/2607 [01:39<00:00, 26.33it/s, Train Loss=0.8361, Valid Loss=0.2968, Valid R2=0.3302, Valid MAE=0.4614]\n",
            "Epoch  5: 100%|██████████| 2607/2607 [01:39<00:00, 26.15it/s, Train Loss=0.8102, Valid Loss=0.2596, Valid R2=0.4143, Valid MAE=0.4327]\n",
            "Epoch  6: 100%|██████████| 2607/2607 [01:42<00:00, 25.52it/s, Train Loss=0.7895, Valid Loss=0.2558, Valid R2=0.4228, Valid MAE=0.4358]\n",
            "Epoch  7: 100%|██████████| 2607/2607 [01:40<00:00, 25.99it/s, Train Loss=0.7690, Valid Loss=0.2808, Valid R2=0.3664, Valid MAE=0.4658]\n",
            "Epoch  8: 100%|██████████| 2607/2607 [01:42<00:00, 25.32it/s, Train Loss=0.7623, Valid Loss=0.2554, Valid R2=0.4237, Valid MAE=0.4403]\n",
            "Epoch  9: 100%|██████████| 2607/2607 [01:42<00:00, 25.34it/s, Train Loss=0.7446, Valid Loss=0.2760, Valid R2=0.3772, Valid MAE=0.4626]\n",
            "Epoch 10: 100%|██████████| 2607/2607 [01:39<00:00, 26.10it/s, Train Loss=0.7415, Valid Loss=0.2648, Valid R2=0.4025, Valid MAE=0.4523]\n",
            "Epoch 11: 100%|██████████| 2607/2607 [01:37<00:00, 26.75it/s, Train Loss=0.7321, Valid Loss=0.1761, Valid R2=0.6026, Valid MAE=0.3550]\n",
            "Epoch 12: 100%|██████████| 2607/2607 [01:40<00:00, 26.03it/s, Train Loss=0.7264, Valid Loss=0.2941, Valid R2=0.3364, Valid MAE=0.4813]\n",
            "Epoch 13: 100%|██████████| 2607/2607 [01:38<00:00, 26.39it/s, Train Loss=0.7194, Valid Loss=0.2295, Valid R2=0.4823, Valid MAE=0.4125]\n",
            "Epoch 14: 100%|██████████| 2607/2607 [01:38<00:00, 26.59it/s, Train Loss=0.7119, Valid Loss=0.2557, Valid R2=0.4229, Valid MAE=0.4409]\n",
            "Epoch 15: 100%|██████████| 2607/2607 [01:39<00:00, 26.08it/s, Train Loss=0.7099, Valid Loss=0.2529, Valid R2=0.4294, Valid MAE=0.4380]\n"
          ]
        },
        {
          "name": "stdout",
          "output_type": "stream",
          "text": [
            "Early Stopped\n",
            "Setting   8 of Parameters Grid is now on progres.\n"
          ]
        },
        {
          "name": "stderr",
          "output_type": "stream",
          "text": [
            "Epoch  0: 100%|██████████| 2607/2607 [01:20<00:00, 32.47it/s, Train Loss=3.7876, Valid Loss=1.1056, Valid R2=-1.4947, Valid MAE=0.8142]\n",
            "Epoch  1: 100%|██████████| 2607/2607 [01:16<00:00, 34.14it/s, Train Loss=1.0904, Valid Loss=0.5516, Valid R2=-0.2446, Valid MAE=0.5949]\n",
            "Epoch  2: 100%|██████████| 2607/2607 [01:14<00:00, 35.15it/s, Train Loss=0.9721, Valid Loss=0.3634, Valid R2=0.1799, Valid MAE=0.4907]\n",
            "Epoch  3: 100%|██████████| 2607/2607 [01:16<00:00, 34.28it/s, Train Loss=0.9008, Valid Loss=0.3122, Valid R2=0.2956, Valid MAE=0.4626]\n",
            "Epoch  4: 100%|██████████| 2607/2607 [01:16<00:00, 34.09it/s, Train Loss=0.8576, Valid Loss=0.2963, Valid R2=0.3314, Valid MAE=0.4459]\n",
            "Epoch  5: 100%|██████████| 2607/2607 [01:14<00:00, 34.97it/s, Train Loss=0.8324, Valid Loss=0.2421, Valid R2=0.4536, Valid MAE=0.3982]\n",
            "Epoch  6: 100%|██████████| 2607/2607 [01:14<00:00, 35.12it/s, Train Loss=0.8159, Valid Loss=0.2137, Valid R2=0.5177, Valid MAE=0.3698]\n",
            "Epoch  7: 100%|██████████| 2607/2607 [01:15<00:00, 34.71it/s, Train Loss=0.7957, Valid Loss=0.3319, Valid R2=0.2510, Valid MAE=0.4777]\n",
            "Epoch  8: 100%|██████████| 2607/2607 [01:15<00:00, 34.56it/s, Train Loss=0.7815, Valid Loss=0.3028, Valid R2=0.3169, Valid MAE=0.4569]\n",
            "Epoch  9: 100%|██████████| 2607/2607 [01:17<00:00, 33.73it/s, Train Loss=0.7669, Valid Loss=0.3108, Valid R2=0.2987, Valid MAE=0.4665]\n",
            "Epoch 10: 100%|██████████| 2607/2607 [01:19<00:00, 32.93it/s, Train Loss=0.7622, Valid Loss=0.2908, Valid R2=0.3439, Valid MAE=0.4433]\n"
          ]
        },
        {
          "name": "stdout",
          "output_type": "stream",
          "text": [
            "Early Stopped\n",
            "Setting   9 of Parameters Grid is now on progres.\n"
          ]
        },
        {
          "name": "stderr",
          "output_type": "stream",
          "text": [
            "Epoch  0: 100%|██████████| 2607/2607 [01:17<00:00, 33.54it/s, Train Loss=4.5686, Valid Loss=1.3268, Valid R2=-1.9938, Valid MAE=0.8628]\n",
            "Epoch  1: 100%|██████████| 2607/2607 [01:14<00:00, 34.82it/s, Train Loss=1.1434, Valid Loss=0.6478, Valid R2=-0.4617, Valid MAE=0.6058]\n",
            "Epoch  2: 100%|██████████| 2607/2607 [01:14<00:00, 34.79it/s, Train Loss=1.0074, Valid Loss=0.4075, Valid R2=0.0805, Valid MAE=0.4884]\n",
            "Epoch  3: 100%|██████████| 2607/2607 [01:13<00:00, 35.36it/s, Train Loss=0.9329, Valid Loss=0.2542, Valid R2=0.4264, Valid MAE=0.4055]\n",
            "Epoch  4: 100%|██████████| 2607/2607 [01:17<00:00, 33.70it/s, Train Loss=0.8891, Valid Loss=0.2132, Valid R2=0.5190, Valid MAE=0.3662]\n",
            "Epoch  5: 100%|██████████| 2607/2607 [01:15<00:00, 34.68it/s, Train Loss=0.8509, Valid Loss=0.1979, Valid R2=0.5534, Valid MAE=0.3705]\n",
            "Epoch  6: 100%|██████████| 2607/2607 [01:14<00:00, 35.14it/s, Train Loss=0.8252, Valid Loss=0.1933, Valid R2=0.5639, Valid MAE=0.3676]\n",
            "Epoch  7: 100%|██████████| 2607/2607 [01:14<00:00, 34.93it/s, Train Loss=0.8046, Valid Loss=0.1755, Valid R2=0.6040, Valid MAE=0.3407]\n",
            "Epoch  8: 100%|██████████| 2607/2607 [01:17<00:00, 33.53it/s, Train Loss=0.7902, Valid Loss=0.1552, Valid R2=0.6499, Valid MAE=0.3176]\n",
            "Epoch  9: 100%|██████████| 2607/2607 [01:13<00:00, 35.60it/s, Train Loss=0.7756, Valid Loss=0.2052, Valid R2=0.5369, Valid MAE=0.3724]\n",
            "Epoch 10: 100%|██████████| 2607/2607 [01:17<00:00, 33.76it/s, Train Loss=0.7621, Valid Loss=0.1806, Valid R2=0.5925, Valid MAE=0.3475]\n",
            "Epoch 11: 100%|██████████| 2607/2607 [01:18<00:00, 33.35it/s, Train Loss=0.7535, Valid Loss=0.2022, Valid R2=0.5437, Valid MAE=0.3704]\n",
            "Epoch 12: 100%|██████████| 2607/2607 [01:16<00:00, 34.06it/s, Train Loss=0.7414, Valid Loss=0.2026, Valid R2=0.5430, Valid MAE=0.3699]\n"
          ]
        },
        {
          "name": "stdout",
          "output_type": "stream",
          "text": [
            "Early Stopped\n",
            "Setting  10 of Parameters Grid is now on progres.\n"
          ]
        },
        {
          "name": "stderr",
          "output_type": "stream",
          "text": [
            "Epoch  0: 100%|██████████| 2607/2607 [01:39<00:00, 26.13it/s, Train Loss=3.3234, Valid Loss=0.9551, Valid R2=-1.1551, Valid MAE=0.7933]\n",
            "Epoch  1: 100%|██████████| 2607/2607 [01:37<00:00, 26.75it/s, Train Loss=1.1046, Valid Loss=0.5680, Valid R2=-0.2816, Valid MAE=0.6149]\n",
            "Epoch  2: 100%|██████████| 2607/2607 [01:40<00:00, 25.84it/s, Train Loss=0.9722, Valid Loss=0.4940, Valid R2=-0.1147, Valid MAE=0.5667]\n",
            "Epoch  3: 100%|██████████| 2607/2607 [01:38<00:00, 26.39it/s, Train Loss=0.8866, Valid Loss=0.2985, Valid R2=0.3264, Valid MAE=0.4315]\n",
            "Epoch  4: 100%|██████████| 2607/2607 [01:38<00:00, 26.49it/s, Train Loss=0.8468, Valid Loss=0.2096, Valid R2=0.5271, Valid MAE=0.3599]\n",
            "Epoch  5: 100%|██████████| 2607/2607 [01:40<00:00, 25.87it/s, Train Loss=0.8073, Valid Loss=0.1598, Valid R2=0.6395, Valid MAE=0.3121]\n",
            "Epoch  6: 100%|██████████| 2607/2607 [01:39<00:00, 26.31it/s, Train Loss=0.7921, Valid Loss=0.1215, Valid R2=0.7259, Valid MAE=0.2696]\n",
            "Epoch  7: 100%|██████████| 2607/2607 [01:38<00:00, 26.50it/s, Train Loss=0.7703, Valid Loss=0.1309, Valid R2=0.7046, Valid MAE=0.2821]\n",
            "Epoch  8: 100%|██████████| 2607/2607 [01:39<00:00, 26.25it/s, Train Loss=0.7567, Valid Loss=0.1423, Valid R2=0.6788, Valid MAE=0.2953]\n",
            "Epoch  9: 100%|██████████| 2607/2607 [01:39<00:00, 26.33it/s, Train Loss=0.7448, Valid Loss=0.1369, Valid R2=0.6910, Valid MAE=0.2871]\n",
            "Epoch 10: 100%|██████████| 2607/2607 [01:38<00:00, 26.34it/s, Train Loss=0.7368, Valid Loss=0.1488, Valid R2=0.6642, Valid MAE=0.2990]\n"
          ]
        },
        {
          "name": "stdout",
          "output_type": "stream",
          "text": [
            "Early Stopped\n",
            "Setting  11 of Parameters Grid is now on progres.\n"
          ]
        },
        {
          "name": "stderr",
          "output_type": "stream",
          "text": [
            "Epoch  0: 100%|██████████| 2607/2607 [01:38<00:00, 26.34it/s, Train Loss=3.6037, Valid Loss=1.7022, Valid R2=-2.8408, Valid MAE=1.0301]\n",
            "Epoch  1: 100%|██████████| 2607/2607 [01:37<00:00, 26.75it/s, Train Loss=1.1128, Valid Loss=0.8898, Valid R2=-1.0076, Valid MAE=0.7473]\n",
            "Epoch  2: 100%|██████████| 2607/2607 [01:38<00:00, 26.52it/s, Train Loss=0.9663, Valid Loss=0.4423, Valid R2=0.0019, Valid MAE=0.5106]\n",
            "Epoch  3: 100%|██████████| 2607/2607 [01:38<00:00, 26.49it/s, Train Loss=0.8909, Valid Loss=0.3511, Valid R2=0.2079, Valid MAE=0.4651]\n",
            "Epoch  4: 100%|██████████| 2607/2607 [01:39<00:00, 26.27it/s, Train Loss=0.8518, Valid Loss=0.3263, Valid R2=0.2637, Valid MAE=0.4651]\n",
            "Epoch  5: 100%|██████████| 2607/2607 [01:40<00:00, 25.99it/s, Train Loss=0.8177, Valid Loss=0.2486, Valid R2=0.4390, Valid MAE=0.4201]\n",
            "Epoch  6: 100%|██████████| 2607/2607 [01:40<00:00, 26.02it/s, Train Loss=0.7903, Valid Loss=0.2406, Valid R2=0.4570, Valid MAE=0.4142]\n",
            "Epoch  7: 100%|██████████| 2607/2607 [01:39<00:00, 26.17it/s, Train Loss=0.7776, Valid Loss=0.2003, Valid R2=0.5480, Valid MAE=0.3727]\n",
            "Epoch  8: 100%|██████████| 2607/2607 [01:38<00:00, 26.36it/s, Train Loss=0.7616, Valid Loss=0.2344, Valid R2=0.4711, Valid MAE=0.4073]\n",
            "Epoch  9: 100%|██████████| 2607/2607 [01:39<00:00, 26.33it/s, Train Loss=0.7499, Valid Loss=0.2302, Valid R2=0.4806, Valid MAE=0.4051]\n",
            "Epoch 10: 100%|██████████| 2607/2607 [01:38<00:00, 26.47it/s, Train Loss=0.7391, Valid Loss=0.2087, Valid R2=0.5290, Valid MAE=0.3854]\n",
            "Epoch 11: 100%|██████████| 2607/2607 [01:39<00:00, 26.19it/s, Train Loss=0.7314, Valid Loss=0.2170, Valid R2=0.5104, Valid MAE=0.3980]\n"
          ]
        },
        {
          "name": "stdout",
          "output_type": "stream",
          "text": [
            "Early Stopped\n",
            "Setting  12 of Parameters Grid is now on progres.\n"
          ]
        },
        {
          "name": "stderr",
          "output_type": "stream",
          "text": [
            "Epoch  0: 100%|██████████| 2607/2607 [01:21<00:00, 32.15it/s, Train Loss=3.2793, Valid Loss=1.3778, Valid R2=-2.1088, Valid MAE=0.9285]\n",
            "Epoch  1: 100%|██████████| 2607/2607 [01:19<00:00, 32.62it/s, Train Loss=1.1214, Valid Loss=0.7527, Valid R2=-0.6985, Valid MAE=0.7109]\n",
            "Epoch  2: 100%|██████████| 2607/2607 [01:21<00:00, 31.98it/s, Train Loss=0.9809, Valid Loss=0.5166, Valid R2=-0.1658, Valid MAE=0.5830]\n",
            "Epoch  3: 100%|██████████| 2607/2607 [01:21<00:00, 32.09it/s, Train Loss=0.9249, Valid Loss=0.3178, Valid R2=0.2828, Valid MAE=0.4643]\n",
            "Epoch  4: 100%|██████████| 2607/2607 [01:20<00:00, 32.23it/s, Train Loss=0.8721, Valid Loss=0.2124, Valid R2=0.5207, Valid MAE=0.3710]\n",
            "Epoch  5: 100%|██████████| 2607/2607 [01:20<00:00, 32.29it/s, Train Loss=0.8473, Valid Loss=0.1925, Valid R2=0.5656, Valid MAE=0.3560]\n",
            "Epoch  6: 100%|██████████| 2607/2607 [01:20<00:00, 32.24it/s, Train Loss=0.8177, Valid Loss=0.1579, Valid R2=0.6437, Valid MAE=0.3233]\n",
            "Epoch  7: 100%|██████████| 2607/2607 [01:21<00:00, 31.95it/s, Train Loss=0.7961, Valid Loss=0.1607, Valid R2=0.6373, Valid MAE=0.3237]\n",
            "Epoch  8: 100%|██████████| 2607/2607 [01:22<00:00, 31.78it/s, Train Loss=0.7843, Valid Loss=0.1736, Valid R2=0.6084, Valid MAE=0.3372]\n",
            "Epoch  9: 100%|██████████| 2607/2607 [01:21<00:00, 31.81it/s, Train Loss=0.7763, Valid Loss=0.1472, Valid R2=0.6678, Valid MAE=0.3077]\n",
            "Epoch 10: 100%|██████████| 2607/2607 [01:21<00:00, 31.97it/s, Train Loss=0.7657, Valid Loss=0.1987, Valid R2=0.5517, Valid MAE=0.3662]\n",
            "Epoch 11: 100%|██████████| 2607/2607 [01:21<00:00, 32.16it/s, Train Loss=0.7542, Valid Loss=0.1616, Valid R2=0.6353, Valid MAE=0.3241]\n",
            "Epoch 12: 100%|██████████| 2607/2607 [01:19<00:00, 32.70it/s, Train Loss=0.7471, Valid Loss=0.1757, Valid R2=0.6035, Valid MAE=0.3436]\n",
            "Epoch 13: 100%|██████████| 2607/2607 [01:17<00:00, 33.62it/s, Train Loss=0.7448, Valid Loss=0.1598, Valid R2=0.6395, Valid MAE=0.3263]\n"
          ]
        },
        {
          "name": "stdout",
          "output_type": "stream",
          "text": [
            "Early Stopped\n",
            "Setting  13 of Parameters Grid is now on progres.\n"
          ]
        },
        {
          "name": "stderr",
          "output_type": "stream",
          "text": [
            "Epoch  0: 100%|██████████| 2607/2607 [01:18<00:00, 33.19it/s, Train Loss=3.0097, Valid Loss=1.0989, Valid R2=-1.4795, Valid MAE=0.8482]\n",
            "Epoch  1: 100%|██████████| 2607/2607 [01:18<00:00, 33.18it/s, Train Loss=1.0638, Valid Loss=0.7561, Valid R2=-0.7060, Valid MAE=0.7257]\n",
            "Epoch  2: 100%|██████████| 2607/2607 [01:19<00:00, 32.74it/s, Train Loss=0.9745, Valid Loss=0.4751, Valid R2=-0.0720, Valid MAE=0.5764]\n",
            "Epoch  3: 100%|██████████| 2607/2607 [01:20<00:00, 32.23it/s, Train Loss=0.9031, Valid Loss=0.4273, Valid R2=0.0360, Valid MAE=0.5543]\n",
            "Epoch  4: 100%|██████████| 2607/2607 [01:18<00:00, 33.10it/s, Train Loss=0.8531, Valid Loss=0.2731, Valid R2=0.3837, Valid MAE=0.4407]\n",
            "Epoch  5: 100%|██████████| 2607/2607 [01:20<00:00, 32.56it/s, Train Loss=0.8178, Valid Loss=0.3132, Valid R2=0.2933, Valid MAE=0.4714]\n",
            "Epoch  6: 100%|██████████| 2607/2607 [01:21<00:00, 32.18it/s, Train Loss=0.7892, Valid Loss=0.2733, Valid R2=0.3833, Valid MAE=0.4406]\n",
            "Epoch  7: 100%|██████████| 2607/2607 [01:21<00:00, 32.11it/s, Train Loss=0.7747, Valid Loss=0.2846, Valid R2=0.3579, Valid MAE=0.4484]\n",
            "Epoch  8: 100%|██████████| 2607/2607 [01:21<00:00, 32.06it/s, Train Loss=0.7572, Valid Loss=0.2559, Valid R2=0.4225, Valid MAE=0.4162]\n",
            "Epoch  9: 100%|██████████| 2607/2607 [01:19<00:00, 32.85it/s, Train Loss=0.7470, Valid Loss=0.2805, Valid R2=0.3672, Valid MAE=0.4388]\n",
            "Epoch 10: 100%|██████████| 2607/2607 [01:21<00:00, 32.14it/s, Train Loss=0.7370, Valid Loss=0.2952, Valid R2=0.3339, Valid MAE=0.4529]\n",
            "Epoch 11: 100%|██████████| 2607/2607 [01:20<00:00, 32.29it/s, Train Loss=0.7300, Valid Loss=0.2173, Valid R2=0.5096, Valid MAE=0.3908]\n",
            "Epoch 12: 100%|██████████| 2607/2607 [01:18<00:00, 33.28it/s, Train Loss=0.7234, Valid Loss=0.2655, Valid R2=0.4010, Valid MAE=0.4341]\n",
            "Epoch 13: 100%|██████████| 2607/2607 [01:20<00:00, 32.49it/s, Train Loss=0.7189, Valid Loss=0.2745, Valid R2=0.3806, Valid MAE=0.4368]\n",
            "Epoch 14: 100%|██████████| 2607/2607 [01:19<00:00, 32.73it/s, Train Loss=0.7131, Valid Loss=0.2937, Valid R2=0.3372, Valid MAE=0.4557]\n",
            "Epoch 15: 100%|██████████| 2607/2607 [01:20<00:00, 32.39it/s, Train Loss=0.7109, Valid Loss=0.2467, Valid R2=0.4434, Valid MAE=0.4150]\n"
          ]
        },
        {
          "name": "stdout",
          "output_type": "stream",
          "text": [
            "Early Stopped\n",
            "Setting  14 of Parameters Grid is now on progres.\n"
          ]
        },
        {
          "name": "stderr",
          "output_type": "stream",
          "text": [
            "Epoch  0: 100%|██████████| 2607/2607 [01:38<00:00, 26.35it/s, Train Loss=2.9916, Valid Loss=1.1046, Valid R2=-1.4923, Valid MAE=0.8856]\n",
            "Epoch  1: 100%|██████████| 2607/2607 [01:39<00:00, 26.26it/s, Train Loss=1.0563, Valid Loss=0.6089, Valid R2=-0.3740, Valid MAE=0.6534]\n",
            "Epoch  2: 100%|██████████| 2607/2607 [01:39<00:00, 26.26it/s, Train Loss=0.9295, Valid Loss=0.4561, Valid R2=-0.0292, Valid MAE=0.5531]\n",
            "Epoch  3: 100%|██████████| 2607/2607 [01:38<00:00, 26.44it/s, Train Loss=0.8679, Valid Loss=0.3473, Valid R2=0.2164, Valid MAE=0.4757]\n",
            "Epoch  4: 100%|██████████| 2607/2607 [01:37<00:00, 26.69it/s, Train Loss=0.8225, Valid Loss=0.2116, Valid R2=0.5226, Valid MAE=0.3793]\n",
            "Epoch  5: 100%|██████████| 2607/2607 [01:38<00:00, 26.40it/s, Train Loss=0.7939, Valid Loss=0.2121, Valid R2=0.5214, Valid MAE=0.3755]\n",
            "Epoch  6: 100%|██████████| 2607/2607 [01:39<00:00, 26.20it/s, Train Loss=0.7738, Valid Loss=0.1827, Valid R2=0.5877, Valid MAE=0.3484]\n",
            "Epoch  7: 100%|██████████| 2607/2607 [01:38<00:00, 26.56it/s, Train Loss=0.7599, Valid Loss=0.1530, Valid R2=0.6548, Valid MAE=0.3205]\n",
            "Epoch  8: 100%|██████████| 2607/2607 [01:39<00:00, 26.22it/s, Train Loss=0.7370, Valid Loss=0.1708, Valid R2=0.6146, Valid MAE=0.3394]\n",
            "Epoch  9: 100%|██████████| 2607/2607 [01:39<00:00, 26.17it/s, Train Loss=0.7371, Valid Loss=0.1952, Valid R2=0.5596, Valid MAE=0.3644]\n",
            "Epoch 10: 100%|██████████| 2607/2607 [01:39<00:00, 26.33it/s, Train Loss=0.7251, Valid Loss=0.1682, Valid R2=0.6205, Valid MAE=0.3363]\n",
            "Epoch 11: 100%|██████████| 2607/2607 [01:38<00:00, 26.42it/s, Train Loss=0.7218, Valid Loss=0.1585, Valid R2=0.6423, Valid MAE=0.3253]\n"
          ]
        },
        {
          "name": "stdout",
          "output_type": "stream",
          "text": [
            "Early Stopped\n",
            "Setting  15 of Parameters Grid is now on progres.\n"
          ]
        },
        {
          "name": "stderr",
          "output_type": "stream",
          "text": [
            "Epoch  0: 100%|██████████| 2607/2607 [01:39<00:00, 26.28it/s, Train Loss=2.8959, Valid Loss=0.9435, Valid R2=-1.1289, Valid MAE=0.7871]\n",
            "Epoch  1: 100%|██████████| 2607/2607 [01:38<00:00, 26.46it/s, Train Loss=1.0095, Valid Loss=0.5051, Valid R2=-0.1397, Valid MAE=0.5766]\n",
            "Epoch  2: 100%|██████████| 2607/2607 [01:39<00:00, 26.32it/s, Train Loss=0.9072, Valid Loss=0.3867, Valid R2=0.1275, Valid MAE=0.5046]\n",
            "Epoch  3: 100%|██████████| 2607/2607 [01:38<00:00, 26.43it/s, Train Loss=0.8452, Valid Loss=0.3250, Valid R2=0.2667, Valid MAE=0.4693]\n",
            "Epoch  4: 100%|██████████| 2607/2607 [01:39<00:00, 26.20it/s, Train Loss=0.8058, Valid Loss=0.2937, Valid R2=0.3373, Valid MAE=0.4425]\n",
            "Epoch  5: 100%|██████████| 2607/2607 [01:39<00:00, 26.25it/s, Train Loss=0.7881, Valid Loss=0.2094, Valid R2=0.5276, Valid MAE=0.3907]\n",
            "Epoch  6: 100%|██████████| 2607/2607 [01:39<00:00, 26.32it/s, Train Loss=0.7676, Valid Loss=0.1795, Valid R2=0.5950, Valid MAE=0.3521]\n",
            "Epoch  7: 100%|██████████| 2607/2607 [01:39<00:00, 26.21it/s, Train Loss=0.7445, Valid Loss=0.1859, Valid R2=0.5805, Valid MAE=0.3685]\n",
            "Epoch  8: 100%|██████████| 2607/2607 [01:38<00:00, 26.46it/s, Train Loss=0.7334, Valid Loss=0.1863, Valid R2=0.5795, Valid MAE=0.3642]\n",
            "Epoch  9: 100%|██████████| 2607/2607 [01:38<00:00, 26.37it/s, Train Loss=0.7164, Valid Loss=0.1743, Valid R2=0.6068, Valid MAE=0.3508]\n",
            "Epoch 10: 100%|██████████| 2607/2607 [01:38<00:00, 26.45it/s, Train Loss=0.7114, Valid Loss=0.1621, Valid R2=0.6343, Valid MAE=0.3310]\n",
            "Epoch 11: 100%|██████████| 2607/2607 [01:39<00:00, 26.33it/s, Train Loss=0.7034, Valid Loss=0.1802, Valid R2=0.5934, Valid MAE=0.3519]\n",
            "Epoch 12: 100%|██████████| 2607/2607 [01:40<00:00, 26.07it/s, Train Loss=0.6984, Valid Loss=0.1710, Valid R2=0.6142, Valid MAE=0.3412]\n",
            "Epoch 13: 100%|██████████| 2607/2607 [01:38<00:00, 26.35it/s, Train Loss=0.6916, Valid Loss=0.1557, Valid R2=0.6486, Valid MAE=0.3212]\n",
            "Epoch 14: 100%|██████████| 2607/2607 [01:39<00:00, 26.33it/s, Train Loss=0.6887, Valid Loss=0.1944, Valid R2=0.5614, Valid MAE=0.3638]\n",
            "Epoch 15: 100%|██████████| 2607/2607 [01:39<00:00, 26.30it/s, Train Loss=0.6831, Valid Loss=0.2066, Valid R2=0.5337, Valid MAE=0.3720]\n",
            "Epoch 16: 100%|██████████| 2607/2607 [01:38<00:00, 26.57it/s, Train Loss=0.6813, Valid Loss=0.2358, Valid R2=0.4680, Valid MAE=0.4085]\n",
            "Epoch 17: 100%|██████████| 2607/2607 [01:39<00:00, 26.19it/s, Train Loss=0.6773, Valid Loss=0.2134, Valid R2=0.5185, Valid MAE=0.3828]"
          ]
        },
        {
          "name": "stdout",
          "output_type": "stream",
          "text": [
            "Early Stopped\n"
          ]
        },
        {
          "name": "stderr",
          "output_type": "stream",
          "text": [
            "\n"
          ]
        }
      ],
      "source": [
        "basic_params = {\n",
        "    'T': 60,\n",
        "    'n': 40\n",
        "}\n",
        "\n",
        "param_grid = {\n",
        "    'm': [32, 40],\n",
        "    'skip_hidden_size': [32, 40],\n",
        "    'T_modified': [20, 30],\n",
        "    'skip': [8, 10]\n",
        "}\n",
        "\n",
        "model_name = 'model3'\n",
        "grid_model3 = GridSearch(criterion, eval_metrics, device, temp_save_path=f'checkpoints/model_by_param/temp_{model_name}.pt', masked=False)\n",
        "best_model3 = grid_model3.train_by_grid(\n",
        "        Model3, basic_params, param_grid,\n",
        "        torch.optim.Adam, train_loader, val_loader,\n",
        "        patience=3, epochs=20,\n",
        "        save_filename=f'checkpoints/{model_name}_best.pt'\n",
        "    )"
      ]
    },
    {
      "cell_type": "code",
      "execution_count": 7,
      "metadata": {},
      "outputs": [
        {
          "name": "stdout",
          "output_type": "stream",
          "text": [
            "Test Loss: 0.2120 | Test R2: 0.8848 | Test MAE: 0.3786\n",
            "Saving Process Complete. Directory: model3_losses.png\n"
          ]
        },
        {
          "data": {
            "image/png": "[encoded data removed]",
            "text/plain": [
              "<Figure size 700x500 with 1 Axes>"
            ]
          },
          "metadata": {},
          "output_type": "display_data"
        }
      ],
      "source": [
        "grid_model3.test(test_loader)\n",
        "grid_model3.plot_losses(plot_title=f'{model_name}', save_filename=f'{model_name}_losses.png')"
      ]
    }
  ],
  "metadata": {
    "accelerator": "GPU",
    "colab": {
      "provenance": []
    },
    "kernelspec": {
      "display_name": "Python 3.9.13 ('kwon_dl')",
      "language": "python",
      "name": "python3"
    },
    "language_info": {
      "codemirror_mode": {
        "name": "ipython",
        "version": 3
      },
      "file_extension": ".py",
      "mimetype": "text/x-python",
      "name": "python",
      "nbconvert_exporter": "python",
      "pygments_lexer": "ipython3",
      "version": "3.9.13 (main, Aug 25 2022, 23:26:10) \n[GCC 11.2.0]"
    },
    "vscode": {
      "interpreter": {
        "hash": "7aba8400f5793028c76b760b8f218e34a1395ac8226b95289931317412384abc"
      }
    }
  },
  "nbformat": 4,
  "nbformat_minor": 0
}
