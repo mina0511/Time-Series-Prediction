{
 "cells": [
  {
   "attachments": {},
   "cell_type": "markdown",
   "metadata": {},
   "source": [
    "+ Write anything you need to test"
   ]
  },
  {
   "cell_type": "code",
   "execution_count": 1,
   "metadata": {},
   "outputs": [],
   "source": [
    "import pandas as pd\n",
    "import numpy as np\n",
    "import pickle\n",
    "\n",
    "from tqdm import tqdm\n",
    "\n",
    "from tools import Train, validation, GridSearch"
   ]
  },
  {
   "cell_type": "code",
   "execution_count": 2,
   "metadata": {},
   "outputs": [],
   "source": [
    "import torch\n",
    "from torch import nn\n",
    "from torch.nn import functional as F\n",
    "from torch.utils.data import Dataset, DataLoader\n",
    "\n",
    "from sklearn.metrics import r2_score, mean_absolute_error"
   ]
  },
  {
   "cell_type": "code",
   "execution_count": 3,
   "metadata": {},
   "outputs": [],
   "source": [
    "with open('data/train_dataset.pickle', 'rb') as f:\n",
    "    train_dataset = pickle.load(f)\n",
    "\n",
    "with open('data/val_dataset.pickle', 'rb') as f:\n",
    "    val_dataset = pickle.load(f)\n",
    "\n",
    "with open('data/test_dataset.pickle', 'rb') as f:\n",
    "    test_dataset = pickle.load(f)"
   ]
  },
  {
   "cell_type": "code",
   "execution_count": 4,
   "metadata": {},
   "outputs": [],
   "source": [
    "train_loader = DataLoader(train_dataset, batch_size = 32, shuffle = True)\n",
    "val_loader = DataLoader(val_dataset, batch_size = 64, shuffle = False)\n",
    "test_loader = DataLoader(test_dataset, batch_size=64, shuffle=False)"
   ]
  },
  {
   "cell_type": "code",
   "execution_count": 5,
   "metadata": {},
   "outputs": [
    {
     "data": {
      "text/plain": [
       "device(type='cuda', index=0)"
      ]
     },
     "execution_count": 5,
     "metadata": {},
     "output_type": "execute_result"
    }
   ],
   "source": [
    "device = torch.device('cuda:0') if torch.cuda.is_available() else torch.device('cpu')\n",
    "device"
   ]
  },
  {
   "cell_type": "code",
   "execution_count": 6,
   "metadata": {},
   "outputs": [],
   "source": [
    "criterion = nn.MSELoss()\n",
    "eval_metrics = [\n",
    "    r2_score,\n",
    "    mean_absolute_error\n",
    "]"
   ]
  },
  {
   "cell_type": "code",
   "execution_count": 7,
   "metadata": {},
   "outputs": [],
   "source": [
    "class SimpleLSTM(nn.Module):\n",
    "    def __init__(self, n, m, num_layers):\n",
    "        super(SimpleLSTM, self).__init__()\n",
    "        self.lstm = nn.LSTM(input_size=n, hidden_size=m, num_layers=num_layers, batch_first=False)\n",
    "        self.linear_output = nn.Sequential(\n",
    "            nn.Linear(m, 2*m),\n",
    "            nn.ReLU(),\n",
    "            nn.Linear(2*m, 1)\n",
    "        )\n",
    "    \n",
    "\n",
    "    def forward(self, X): # (-1 x T x n)\n",
    "        X = X.permute(1, 0, 2) # (T x -1 x n)\n",
    "        output, _ = self.lstm(X) # (T x -1 x m), ((`num_layers` x -1 x m), (`num_layers` x -1 x m))\n",
    "        output = output[-1] # (-1 x m)\n",
    "        output = self.linear_output(output).squeeze(dim=1) # (-1 x 1) -> (-1)\n",
    "\n",
    "        return output"
   ]
  },
  {
   "cell_type": "code",
   "execution_count": 8,
   "metadata": {},
   "outputs": [
    {
     "name": "stdout",
     "output_type": "stream",
     "text": [
      "Total   9 cases are going to be searched.\n",
      "Setting   0 of Parameters Grid is now on progres.\n"
     ]
    },
    {
     "name": "stderr",
     "output_type": "stream",
     "text": [
      "Epoch  0: 100%|██████████| 1304/1304 [00:03<00:00, 387.67it/s, Train Loss=2.7665, Valid Loss=0.4623, Valid R2=-0.0431, Valid MAE=0.5592]\n",
      "Epoch  1: 100%|██████████| 1304/1304 [00:03<00:00, 407.30it/s, Train Loss=0.6981, Valid Loss=0.4594, Valid R2=-0.0366, Valid MAE=0.5494]\n",
      "Epoch  2: 100%|██████████| 1304/1304 [00:03<00:00, 408.60it/s, Train Loss=0.6097, Valid Loss=0.4892, Valid R2=-0.1038, Valid MAE=0.5576]\n",
      "Epoch  3: 100%|██████████| 1304/1304 [00:03<00:00, 415.76it/s, Train Loss=0.5655, Valid Loss=0.3932, Valid R2=0.1128, Valid MAE=0.5041]\n",
      "Epoch  4: 100%|██████████| 1304/1304 [00:03<00:00, 414.20it/s, Train Loss=0.5331, Valid Loss=0.4501, Valid R2=-0.0155, Valid MAE=0.5273]\n",
      "Epoch  5: 100%|██████████| 1304/1304 [00:02<00:00, 449.62it/s, Train Loss=0.5007, Valid Loss=0.5202, Valid R2=-0.1738, Valid MAE=0.5607]\n",
      "Epoch  6: 100%|██████████| 1304/1304 [00:02<00:00, 435.43it/s, Train Loss=0.4683, Valid Loss=0.4617, Valid R2=-0.0419, Valid MAE=0.5116]\n",
      "Epoch  7: 100%|██████████| 1304/1304 [00:03<00:00, 422.73it/s, Train Loss=0.4463, Valid Loss=0.4829, Valid R2=-0.0896, Valid MAE=0.4910]\n"
     ]
    },
    {
     "name": "stdout",
     "output_type": "stream",
     "text": [
      "Early Stopped\n",
      "Setting   1 of Parameters Grid is now on progres.\n"
     ]
    },
    {
     "name": "stderr",
     "output_type": "stream",
     "text": [
      "Epoch  0: 100%|██████████| 1304/1304 [00:03<00:00, 363.91it/s, Train Loss=1.9996, Valid Loss=0.3217, Valid R2=0.2741, Valid MAE=0.4410]\n",
      "Epoch  1: 100%|██████████| 1304/1304 [00:03<00:00, 330.98it/s, Train Loss=0.5340, Valid Loss=0.3608, Valid R2=0.1860, Valid MAE=0.4618]\n",
      "Epoch  2: 100%|██████████| 1304/1304 [00:03<00:00, 330.99it/s, Train Loss=0.4418, Valid Loss=0.6082, Valid R2=-0.3724, Valid MAE=0.5318]\n",
      "Epoch  3: 100%|██████████| 1304/1304 [00:03<00:00, 341.34it/s, Train Loss=0.3228, Valid Loss=0.5554, Valid R2=-0.2531, Valid MAE=0.5027]\n",
      "Epoch  4: 100%|██████████| 1304/1304 [00:03<00:00, 353.33it/s, Train Loss=0.2311, Valid Loss=0.3439, Valid R2=0.2241, Valid MAE=0.4393]\n"
     ]
    },
    {
     "name": "stdout",
     "output_type": "stream",
     "text": [
      "Early Stopped\n",
      "Setting   2 of Parameters Grid is now on progres.\n"
     ]
    },
    {
     "name": "stderr",
     "output_type": "stream",
     "text": [
      "Epoch  0: 100%|██████████| 1304/1304 [00:04<00:00, 296.32it/s, Train Loss=1.8953, Valid Loss=0.2790, Valid R2=0.3705, Valid MAE=0.3885]\n",
      "Epoch  1: 100%|██████████| 1304/1304 [00:04<00:00, 297.17it/s, Train Loss=0.4531, Valid Loss=0.2160, Valid R2=0.5127, Valid MAE=0.3744]\n",
      "Epoch  2: 100%|██████████| 1304/1304 [00:04<00:00, 319.66it/s, Train Loss=0.3496, Valid Loss=0.5365, Valid R2=-0.2106, Valid MAE=0.4637]\n",
      "Epoch  3: 100%|██████████| 1304/1304 [00:04<00:00, 306.72it/s, Train Loss=0.2739, Valid Loss=1.7610, Valid R2=-2.9734, Valid MAE=0.5502]\n",
      "Epoch  4: 100%|██████████| 1304/1304 [00:04<00:00, 300.58it/s, Train Loss=0.2051, Valid Loss=0.1881, Valid R2=0.5755, Valid MAE=0.3199]\n",
      "Epoch  5: 100%|██████████| 1304/1304 [00:04<00:00, 301.33it/s, Train Loss=0.1294, Valid Loss=0.6937, Valid R2=-0.5652, Valid MAE=0.4575]\n",
      "Epoch  6: 100%|██████████| 1304/1304 [00:03<00:00, 330.49it/s, Train Loss=0.0842, Valid Loss=0.9379, Valid R2=-1.1164, Valid MAE=0.4334]\n",
      "Epoch  7: 100%|██████████| 1304/1304 [00:04<00:00, 311.43it/s, Train Loss=0.1594, Valid Loss=0.1831, Valid R2=0.5869, Valid MAE=0.3503]\n",
      "Epoch  8: 100%|██████████| 1304/1304 [00:04<00:00, 287.28it/s, Train Loss=0.2640, Valid Loss=0.2216, Valid R2=0.4999, Valid MAE=0.3737]\n",
      "Epoch  9: 100%|██████████| 1304/1304 [00:04<00:00, 306.16it/s, Train Loss=0.1148, Valid Loss=0.2962, Valid R2=0.3316, Valid MAE=0.3999]\n",
      "Epoch 10: 100%|██████████| 1304/1304 [00:04<00:00, 291.75it/s, Train Loss=0.1529, Valid Loss=0.3446, Valid R2=0.2224, Valid MAE=0.4522]\n",
      "Epoch 11: 100%|██████████| 1304/1304 [00:04<00:00, 304.95it/s, Train Loss=0.1540, Valid Loss=0.3211, Valid R2=0.2755, Valid MAE=0.3830]\n"
     ]
    },
    {
     "name": "stdout",
     "output_type": "stream",
     "text": [
      "Early Stopped\n",
      "Setting   3 of Parameters Grid is now on progres.\n"
     ]
    },
    {
     "name": "stderr",
     "output_type": "stream",
     "text": [
      "Epoch  0: 100%|██████████| 1304/1304 [00:03<00:00, 425.83it/s, Train Loss=7.2659, Valid Loss=1.4311, Valid R2=-2.2292, Valid MAE=1.0943]\n",
      "Epoch  1: 100%|██████████| 1304/1304 [00:03<00:00, 431.85it/s, Train Loss=1.7400, Valid Loss=1.0473, Valid R2=-1.3630, Valid MAE=0.7521]\n",
      "Epoch  2: 100%|██████████| 1304/1304 [00:03<00:00, 423.70it/s, Train Loss=1.2115, Valid Loss=0.7485, Valid R2=-0.6888, Valid MAE=0.6206]\n",
      "Epoch  3: 100%|██████████| 1304/1304 [00:02<00:00, 472.04it/s, Train Loss=1.0844, Valid Loss=0.7001, Valid R2=-0.5796, Valid MAE=0.5899]\n",
      "Epoch  4: 100%|██████████| 1304/1304 [00:03<00:00, 407.96it/s, Train Loss=1.0281, Valid Loss=0.6704, Valid R2=-0.5127, Valid MAE=0.5742]\n",
      "Epoch  5: 100%|██████████| 1304/1304 [00:03<00:00, 424.54it/s, Train Loss=0.9910, Valid Loss=0.6874, Valid R2=-0.5512, Valid MAE=0.5793]\n",
      "Epoch  6: 100%|██████████| 1304/1304 [00:03<00:00, 413.96it/s, Train Loss=0.9605, Valid Loss=0.6248, Valid R2=-0.4097, Valid MAE=0.5830]\n",
      "Epoch  7: 100%|██████████| 1304/1304 [00:03<00:00, 404.04it/s, Train Loss=0.9326, Valid Loss=0.5690, Valid R2=-0.2839, Valid MAE=0.5495]\n",
      "Epoch  8: 100%|██████████| 1304/1304 [00:03<00:00, 418.20it/s, Train Loss=0.9107, Valid Loss=0.4589, Valid R2=-0.0355, Valid MAE=0.4924]\n",
      "Epoch  9: 100%|██████████| 1304/1304 [00:02<00:00, 434.87it/s, Train Loss=0.8859, Valid Loss=0.4623, Valid R2=-0.0432, Valid MAE=0.5127]\n",
      "Epoch 10: 100%|██████████| 1304/1304 [00:02<00:00, 437.04it/s, Train Loss=0.8657, Valid Loss=0.4255, Valid R2=0.0399, Valid MAE=0.4786]\n",
      "Epoch 11: 100%|██████████| 1304/1304 [00:03<00:00, 424.90it/s, Train Loss=0.8519, Valid Loss=0.4812, Valid R2=-0.0857, Valid MAE=0.5233]\n",
      "Epoch 12: 100%|██████████| 1304/1304 [00:03<00:00, 415.35it/s, Train Loss=0.8342, Valid Loss=0.4080, Valid R2=0.0795, Valid MAE=0.4756]\n",
      "Epoch 13: 100%|██████████| 1304/1304 [00:02<00:00, 435.31it/s, Train Loss=0.8181, Valid Loss=0.4444, Valid R2=-0.0026, Valid MAE=0.4904]\n",
      "Epoch 14: 100%|██████████| 1304/1304 [00:02<00:00, 472.21it/s, Train Loss=0.8004, Valid Loss=0.4363, Valid R2=0.0156, Valid MAE=0.4899]\n",
      "Epoch 15: 100%|██████████| 1304/1304 [00:02<00:00, 465.32it/s, Train Loss=0.7829, Valid Loss=0.4928, Valid R2=-0.1120, Valid MAE=0.5145]\n",
      "Epoch 16: 100%|██████████| 1304/1304 [00:03<00:00, 426.76it/s, Train Loss=0.7673, Valid Loss=0.4589, Valid R2=-0.0354, Valid MAE=0.4943]\n"
     ]
    },
    {
     "name": "stdout",
     "output_type": "stream",
     "text": [
      "Early Stopped\n",
      "Setting   4 of Parameters Grid is now on progres.\n"
     ]
    },
    {
     "name": "stderr",
     "output_type": "stream",
     "text": [
      "Epoch  0: 100%|██████████| 1304/1304 [00:03<00:00, 358.04it/s, Train Loss=6.5890, Valid Loss=0.4318, Valid R2=0.0256, Valid MAE=0.4715]\n",
      "Epoch  1: 100%|██████████| 1304/1304 [00:03<00:00, 340.48it/s, Train Loss=0.9149, Valid Loss=0.2742, Valid R2=0.3812, Valid MAE=0.3916]\n",
      "Epoch  2: 100%|██████████| 1304/1304 [00:03<00:00, 344.91it/s, Train Loss=0.7439, Valid Loss=0.2888, Valid R2=0.3484, Valid MAE=0.4194]\n",
      "Epoch  3: 100%|██████████| 1304/1304 [00:03<00:00, 352.70it/s, Train Loss=0.7025, Valid Loss=0.3810, Valid R2=0.1404, Valid MAE=0.4682]\n",
      "Epoch  4: 100%|██████████| 1304/1304 [00:03<00:00, 336.08it/s, Train Loss=0.6480, Valid Loss=0.2781, Valid R2=0.3724, Valid MAE=0.4085]\n",
      "Epoch  5: 100%|██████████| 1304/1304 [00:03<00:00, 341.32it/s, Train Loss=0.6117, Valid Loss=0.2794, Valid R2=0.3696, Valid MAE=0.4152]\n"
     ]
    },
    {
     "name": "stdout",
     "output_type": "stream",
     "text": [
      "Early Stopped\n",
      "Setting   5 of Parameters Grid is now on progres.\n"
     ]
    },
    {
     "name": "stderr",
     "output_type": "stream",
     "text": [
      "Epoch  0: 100%|██████████| 1304/1304 [00:04<00:00, 306.22it/s, Train Loss=6.0626, Valid Loss=0.5559, Valid R2=-0.2544, Valid MAE=0.5213]\n",
      "Epoch  1: 100%|██████████| 1304/1304 [00:04<00:00, 301.85it/s, Train Loss=0.9299, Valid Loss=0.3109, Valid R2=0.2986, Valid MAE=0.4330]\n",
      "Epoch  2: 100%|██████████| 1304/1304 [00:04<00:00, 302.89it/s, Train Loss=0.7212, Valid Loss=0.2500, Valid R2=0.4358, Valid MAE=0.3821]\n",
      "Epoch  3: 100%|██████████| 1304/1304 [00:04<00:00, 303.25it/s, Train Loss=0.6469, Valid Loss=0.2463, Valid R2=0.4443, Valid MAE=0.3777]\n",
      "Epoch  4: 100%|██████████| 1304/1304 [00:04<00:00, 309.17it/s, Train Loss=0.6079, Valid Loss=0.2399, Valid R2=0.4587, Valid MAE=0.3599]\n",
      "Epoch  5: 100%|██████████| 1304/1304 [00:04<00:00, 310.62it/s, Train Loss=0.5817, Valid Loss=0.3471, Valid R2=0.2169, Valid MAE=0.4223]\n",
      "Epoch  6: 100%|██████████| 1304/1304 [00:04<00:00, 325.45it/s, Train Loss=0.5511, Valid Loss=0.3054, Valid R2=0.3110, Valid MAE=0.3767]\n",
      "Epoch  7: 100%|██████████| 1304/1304 [00:04<00:00, 317.68it/s, Train Loss=0.5278, Valid Loss=0.3772, Valid R2=0.1488, Valid MAE=0.3972]\n",
      "Epoch  8: 100%|██████████| 1304/1304 [00:03<00:00, 337.79it/s, Train Loss=0.4881, Valid Loss=0.3184, Valid R2=0.2817, Valid MAE=0.3742]\n"
     ]
    },
    {
     "name": "stdout",
     "output_type": "stream",
     "text": [
      "Early Stopped\n",
      "Setting   6 of Parameters Grid is now on progres.\n"
     ]
    },
    {
     "name": "stderr",
     "output_type": "stream",
     "text": [
      "Epoch  0: 100%|██████████| 1304/1304 [00:02<00:00, 436.77it/s, Train Loss=6.0756, Valid Loss=1.2439, Valid R2=-1.8067, Valid MAE=0.9133]\n",
      "Epoch  1: 100%|██████████| 1304/1304 [00:02<00:00, 451.20it/s, Train Loss=1.2252, Valid Loss=0.9137, Valid R2=-1.0616, Valid MAE=0.6811]\n",
      "Epoch  2: 100%|██████████| 1304/1304 [00:02<00:00, 434.88it/s, Train Loss=0.9778, Valid Loss=0.7715, Valid R2=-0.7408, Valid MAE=0.6270]\n",
      "Epoch  3: 100%|██████████| 1304/1304 [00:02<00:00, 440.47it/s, Train Loss=0.8823, Valid Loss=0.6038, Valid R2=-0.3625, Valid MAE=0.5546]\n",
      "Epoch  4: 100%|██████████| 1304/1304 [00:03<00:00, 424.07it/s, Train Loss=0.8331, Valid Loss=0.6106, Valid R2=-0.3777, Valid MAE=0.5574]\n",
      "Epoch  5: 100%|██████████| 1304/1304 [00:02<00:00, 456.72it/s, Train Loss=0.8015, Valid Loss=0.5579, Valid R2=-0.2589, Valid MAE=0.5427]\n",
      "Epoch  6: 100%|██████████| 1304/1304 [00:03<00:00, 417.01it/s, Train Loss=0.7703, Valid Loss=0.5553, Valid R2=-0.2530, Valid MAE=0.5347]\n",
      "Epoch  7: 100%|██████████| 1304/1304 [00:03<00:00, 434.05it/s, Train Loss=0.7572, Valid Loss=0.5323, Valid R2=-0.2011, Valid MAE=0.5232]\n",
      "Epoch  8: 100%|██████████| 1304/1304 [00:03<00:00, 414.92it/s, Train Loss=0.7366, Valid Loss=0.4851, Valid R2=-0.0946, Valid MAE=0.5018]\n",
      "Epoch  9: 100%|██████████| 1304/1304 [00:03<00:00, 405.02it/s, Train Loss=0.7237, Valid Loss=0.4332, Valid R2=0.0226, Valid MAE=0.4859]\n",
      "Epoch 10: 100%|██████████| 1304/1304 [00:03<00:00, 414.75it/s, Train Loss=0.7095, Valid Loss=0.4738, Valid R2=-0.0692, Valid MAE=0.5011]\n",
      "Epoch 11: 100%|██████████| 1304/1304 [00:03<00:00, 406.44it/s, Train Loss=0.6970, Valid Loss=0.3999, Valid R2=0.0977, Valid MAE=0.4644]\n",
      "Epoch 12: 100%|██████████| 1304/1304 [00:03<00:00, 399.28it/s, Train Loss=0.6855, Valid Loss=0.3689, Valid R2=0.1676, Valid MAE=0.4407]\n",
      "Epoch 13: 100%|██████████| 1304/1304 [00:03<00:00, 409.17it/s, Train Loss=0.6738, Valid Loss=0.3528, Valid R2=0.2040, Valid MAE=0.4349]\n",
      "Epoch 14: 100%|██████████| 1304/1304 [00:03<00:00, 417.42it/s, Train Loss=0.6621, Valid Loss=0.3358, Valid R2=0.2423, Valid MAE=0.4165]\n",
      "Epoch 15: 100%|██████████| 1304/1304 [00:03<00:00, 397.62it/s, Train Loss=0.6533, Valid Loss=0.3368, Valid R2=0.2400, Valid MAE=0.4188]\n",
      "Epoch 16: 100%|██████████| 1304/1304 [00:03<00:00, 401.82it/s, Train Loss=0.6458, Valid Loss=0.3359, Valid R2=0.2421, Valid MAE=0.4214]\n",
      "Epoch 17: 100%|██████████| 1304/1304 [00:03<00:00, 417.49it/s, Train Loss=0.6344, Valid Loss=0.3309, Valid R2=0.2534, Valid MAE=0.4234]\n",
      "Epoch 18: 100%|██████████| 1304/1304 [00:03<00:00, 428.44it/s, Train Loss=0.6272, Valid Loss=0.2785, Valid R2=0.3715, Valid MAE=0.3957]\n",
      "Epoch 19: 100%|██████████| 1304/1304 [00:03<00:00, 418.73it/s, Train Loss=0.6201, Valid Loss=0.2883, Valid R2=0.3495, Valid MAE=0.3967]\n"
     ]
    },
    {
     "name": "stdout",
     "output_type": "stream",
     "text": [
      "Setting   7 of Parameters Grid is now on progres.\n"
     ]
    },
    {
     "name": "stderr",
     "output_type": "stream",
     "text": [
      "Epoch  0: 100%|██████████| 1304/1304 [00:03<00:00, 356.92it/s, Train Loss=5.4857, Valid Loss=0.9242, Valid R2=-1.0854, Valid MAE=0.7232]\n",
      "Epoch  1: 100%|██████████| 1304/1304 [00:03<00:00, 348.53it/s, Train Loss=0.8867, Valid Loss=0.4005, Valid R2=0.0962, Valid MAE=0.4545]\n",
      "Epoch  2: 100%|██████████| 1304/1304 [00:03<00:00, 341.04it/s, Train Loss=0.7023, Valid Loss=0.4784, Valid R2=-0.0794, Valid MAE=0.4769]\n",
      "Epoch  3: 100%|██████████| 1304/1304 [00:03<00:00, 346.27it/s, Train Loss=0.6244, Valid Loss=0.5059, Valid R2=-0.1416, Valid MAE=0.5066]\n",
      "Epoch  4: 100%|██████████| 1304/1304 [00:03<00:00, 360.85it/s, Train Loss=0.5737, Valid Loss=0.4204, Valid R2=0.0514, Valid MAE=0.4804]\n",
      "Epoch  5: 100%|██████████| 1304/1304 [00:03<00:00, 350.48it/s, Train Loss=0.5378, Valid Loss=0.8670, Valid R2=-0.9563, Valid MAE=0.6872]\n"
     ]
    },
    {
     "name": "stdout",
     "output_type": "stream",
     "text": [
      "Early Stopped\n",
      "Setting   8 of Parameters Grid is now on progres.\n"
     ]
    },
    {
     "name": "stderr",
     "output_type": "stream",
     "text": [
      "Epoch  0: 100%|██████████| 1304/1304 [00:04<00:00, 316.33it/s, Train Loss=5.7899, Valid Loss=0.3476, Valid R2=0.2156, Valid MAE=0.4056]\n",
      "Epoch  1: 100%|██████████| 1304/1304 [00:04<00:00, 304.57it/s, Train Loss=0.8464, Valid Loss=0.2932, Valid R2=0.3384, Valid MAE=0.3569]\n",
      "Epoch  2: 100%|██████████| 1304/1304 [00:04<00:00, 306.22it/s, Train Loss=0.6664, Valid Loss=0.3347, Valid R2=0.2448, Valid MAE=0.3531]\n",
      "Epoch  3: 100%|██████████| 1304/1304 [00:03<00:00, 331.70it/s, Train Loss=0.5589, Valid Loss=0.2977, Valid R2=0.3283, Valid MAE=0.3542]\n",
      "Epoch  4: 100%|██████████| 1304/1304 [00:04<00:00, 316.03it/s, Train Loss=0.5099, Valid Loss=0.5818, Valid R2=-0.3128, Valid MAE=0.4439]\n",
      "Epoch  5: 100%|██████████| 1304/1304 [00:04<00:00, 299.59it/s, Train Loss=0.4299, Valid Loss=0.3668, Valid R2=0.1725, Valid MAE=0.4026]"
     ]
    },
    {
     "name": "stdout",
     "output_type": "stream",
     "text": [
      "Early Stopped\n"
     ]
    },
    {
     "name": "stderr",
     "output_type": "stream",
     "text": [
      "\n"
     ]
    }
   ],
   "source": [
    "basic_params = {\n",
    "    'n': 40\n",
    "}\n",
    "\n",
    "param_grid = {\n",
    "    'm': [128, 32, 40],\n",
    "    'num_layers': [1, 2, 3]\n",
    "}\n",
    "\n",
    "model_name = 'Simple_LSTM_unmasked'\n",
    "grid_model = GridSearch(criterion, eval_metrics, device, temp_save_path=f'checkpoints/model_by_param/temp_{model_name}.pt', masked=False)\n",
    "best_model = grid_model.train_by_grid(\n",
    "        SimpleLSTM, basic_params, param_grid,\n",
    "        torch.optim.Adam, train_loader, val_loader,\n",
    "        patience=3, epochs=20,\n",
    "        save_filename=f'checkpoints/{model_name}_best.pt'\n",
    "    )"
   ]
  },
  {
   "cell_type": "code",
   "execution_count": 9,
   "metadata": {},
   "outputs": [
    {
     "name": "stdout",
     "output_type": "stream",
     "text": [
      "Test Loss: 0.1710 | Test R2: 0.9071 | Test MAE: 0.3325\n",
      "Saving Process Complete. Directory: Simple_LSTM_unmasked_losses.png\n"
     ]
    },
    {
     "data": {
      "image/png": "[encoded data removed]",
      "text/plain": [
       "<Figure size 700x500 with 1 Axes>"
      ]
     },
     "metadata": {},
     "output_type": "display_data"
    }
   ],
   "source": [
    "grid_model.test(test_loader)\n",
    "grid_model.plot_losses(plot_title=f'{model_name}', save_filename=f'{model_name}_losses.png')"
   ]
  }
 ],
 "metadata": {
  "kernelspec": {
   "display_name": "kwon_dl",
   "language": "python",
   "name": "python3"
  },
  "language_info": {
   "codemirror_mode": {
    "name": "ipython",
    "version": 3
   },
   "file_extension": ".py",
   "mimetype": "text/x-python",
   "name": "python",
   "nbconvert_exporter": "python",
   "pygments_lexer": "ipython3",
   "version": "3.9.13 (main, Aug 25 2022, 23:26:10) \n[GCC 11.2.0]"
  },
  "orig_nbformat": 4,
  "vscode": {
   "interpreter": {
    "hash": "7aba8400f5793028c76b760b8f218e34a1395ac8226b95289931317412384abc"
   }
  }
 },
 "nbformat": 4,
 "nbformat_minor": 2
}
