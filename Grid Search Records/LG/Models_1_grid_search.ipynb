{
  "cells": [
    {
      "cell_type": "code",
      "execution_count": 1,
      "metadata": {
        "colab": {
          "base_uri": "https://localhost:8080/"
        },
        "id": "_5bOKo4qawlz",
        "outputId": "7b5c3117-3563-4ae2-ae23-5f31333709fe"
      },
      "outputs": [],
      "source": [
        "import pandas as pd\n",
        "import numpy as np\n",
        "import pickle\n",
        "\n",
        "from tqdm import tqdm\n",
        "\n",
        "from models import Model1, Model2, Model3\n",
        "from tools import Train, validation, GridSearch"
      ]
    },
    {
      "cell_type": "code",
      "execution_count": 2,
      "metadata": {
        "id": "Qwjr4b4Xjgmz"
      },
      "outputs": [],
      "source": [
        "import torch\n",
        "from torch import nn\n",
        "from torch.nn import functional as F\n",
        "from torch.utils.data import Dataset, DataLoader\n",
        "device = torch.device('cuda:1') if torch.cuda.is_available() else torch.device('cpu')\n",
        "\n",
        "from sklearn.metrics import r2_score, mean_absolute_error"
      ]
    },
    {
      "cell_type": "code",
      "execution_count": 3,
      "metadata": {
        "id": "9lI5sP74a3e0"
      },
      "outputs": [],
      "source": [
        "with open('data/train_dataset.pickle', 'rb') as f:\n",
        "    train_dataset = pickle.load(f)\n",
        "\n",
        "with open('data/val_dataset.pickle', 'rb') as f:\n",
        "    val_dataset = pickle.load(f)\n",
        "\n",
        "with open('data/test_dataset.pickle', 'rb') as f:\n",
        "    test_dataset = pickle.load(f)"
      ]
    },
    {
      "cell_type": "code",
      "execution_count": 4,
      "metadata": {
        "colab": {
          "base_uri": "https://localhost:8080/"
        },
        "id": "WDjR30F6kMgI",
        "outputId": "4368b402-852a-48f5-f857-0027652296e8"
      },
      "outputs": [],
      "source": [
        "train_loader = DataLoader(train_dataset, batch_size = 16, shuffle = True)\n",
        "val_loader = DataLoader(val_dataset, batch_size = 64, shuffle = False)\n",
        "test_loader = DataLoader(test_dataset, batch_size=64, shuffle=False)"
      ]
    },
    {
      "cell_type": "code",
      "execution_count": 5,
      "metadata": {},
      "outputs": [],
      "source": [
        "criterion = nn.MSELoss()\n",
        "eval_metrics = [\n",
        "    r2_score,\n",
        "    mean_absolute_error\n",
        "]"
      ]
    },
    {
      "attachments": {},
      "cell_type": "markdown",
      "metadata": {},
      "source": [
        "# Model 1"
      ]
    },
    {
      "cell_type": "code",
      "execution_count": 6,
      "metadata": {},
      "outputs": [
        {
          "name": "stdout",
          "output_type": "stream",
          "text": [
            "Total  48 cases are going to be searched.\n",
            "Setting   0 of Parameters Grid is now on progres.\n"
          ]
        },
        {
          "name": "stderr",
          "output_type": "stream",
          "text": [
            "Epoch  0: 100%|██████████| 2607/2607 [02:21<00:00, 18.39it/s, Train Loss=2.2337, Valid Loss=0.5133, Valid R2=-0.1582, Valid MAE=0.5395]\n",
            "Epoch  1: 100%|██████████| 2607/2607 [02:20<00:00, 18.52it/s, Train Loss=1.0849, Valid Loss=0.2261, Valid R2=0.4898, Valid MAE=0.3831]\n",
            "Epoch  2: 100%|██████████| 2607/2607 [02:21<00:00, 18.46it/s, Train Loss=1.0066, Valid Loss=0.2608, Valid R2=0.4116, Valid MAE=0.4103]\n",
            "Epoch  3: 100%|██████████| 2607/2607 [02:20<00:00, 18.59it/s, Train Loss=0.9701, Valid Loss=0.1920, Valid R2=0.5667, Valid MAE=0.3402]\n",
            "Epoch  4: 100%|██████████| 2607/2607 [02:19<00:00, 18.64it/s, Train Loss=0.9488, Valid Loss=0.1770, Valid R2=0.6007, Valid MAE=0.3359]\n",
            "Epoch  5: 100%|██████████| 2607/2607 [02:20<00:00, 18.60it/s, Train Loss=0.9323, Valid Loss=0.1842, Valid R2=0.5843, Valid MAE=0.3324]\n",
            "Epoch  6: 100%|██████████| 2607/2607 [02:19<00:00, 18.62it/s, Train Loss=0.9128, Valid Loss=0.1693, Valid R2=0.6181, Valid MAE=0.3209]\n",
            "Epoch  7: 100%|██████████| 2607/2607 [02:19<00:00, 18.69it/s, Train Loss=0.8963, Valid Loss=0.1609, Valid R2=0.6369, Valid MAE=0.3083]\n",
            "Epoch  8: 100%|██████████| 2607/2607 [02:20<00:00, 18.54it/s, Train Loss=0.8797, Valid Loss=0.2630, Valid R2=0.4067, Valid MAE=0.3987]\n",
            "Epoch  9: 100%|██████████| 2607/2607 [02:19<00:00, 18.71it/s, Train Loss=0.8778, Valid Loss=0.2343, Valid R2=0.4713, Valid MAE=0.3631]\n",
            "Epoch 10: 100%|██████████| 2607/2607 [02:19<00:00, 18.63it/s, Train Loss=0.8432, Valid Loss=0.2302, Valid R2=0.4806, Valid MAE=0.3703]\n",
            "Epoch 11: 100%|██████████| 2607/2607 [02:20<00:00, 18.52it/s, Train Loss=0.8505, Valid Loss=0.2492, Valid R2=0.4377, Valid MAE=0.3827]\n"
          ]
        },
        {
          "name": "stdout",
          "output_type": "stream",
          "text": [
            "Early Stopped\n",
            "Setting   1 of Parameters Grid is now on progres.\n"
          ]
        },
        {
          "name": "stderr",
          "output_type": "stream",
          "text": [
            "Epoch  0: 100%|██████████| 2607/2607 [02:20<00:00, 18.58it/s, Train Loss=2.0771, Valid Loss=0.2706, Valid R2=0.3895, Valid MAE=0.3778]\n",
            "Epoch  1: 100%|██████████| 2607/2607 [02:20<00:00, 18.60it/s, Train Loss=1.0110, Valid Loss=0.3314, Valid R2=0.2521, Valid MAE=0.4076]\n",
            "Epoch  2: 100%|██████████| 2607/2607 [02:20<00:00, 18.58it/s, Train Loss=0.9612, Valid Loss=0.2037, Valid R2=0.5404, Valid MAE=0.3226]\n",
            "Epoch  3: 100%|██████████| 2607/2607 [02:20<00:00, 18.53it/s, Train Loss=0.9265, Valid Loss=0.1811, Valid R2=0.5915, Valid MAE=0.3207]\n",
            "Epoch  4: 100%|██████████| 2607/2607 [02:20<00:00, 18.61it/s, Train Loss=0.8897, Valid Loss=0.2078, Valid R2=0.5310, Valid MAE=0.3253]\n",
            "Epoch  5: 100%|██████████| 2607/2607 [02:21<00:00, 18.36it/s, Train Loss=0.8719, Valid Loss=0.1669, Valid R2=0.6234, Valid MAE=0.3035]\n",
            "Epoch  6: 100%|██████████| 2607/2607 [02:22<00:00, 18.25it/s, Train Loss=0.8646, Valid Loss=0.1741, Valid R2=0.6071, Valid MAE=0.3256]\n",
            "Epoch  7: 100%|██████████| 2607/2607 [02:21<00:00, 18.39it/s, Train Loss=0.8455, Valid Loss=0.1894, Valid R2=0.5727, Valid MAE=0.3199]\n",
            "Epoch  8: 100%|██████████| 2607/2607 [02:20<00:00, 18.51it/s, Train Loss=0.8300, Valid Loss=0.2899, Valid R2=0.3459, Valid MAE=0.3874]\n",
            "Epoch  9: 100%|██████████| 2607/2607 [02:19<00:00, 18.71it/s, Train Loss=0.8136, Valid Loss=0.1725, Valid R2=0.6109, Valid MAE=0.3033]\n"
          ]
        },
        {
          "name": "stdout",
          "output_type": "stream",
          "text": [
            "Early Stopped\n",
            "Setting   2 of Parameters Grid is now on progres.\n"
          ]
        },
        {
          "name": "stderr",
          "output_type": "stream",
          "text": [
            "Epoch  0: 100%|██████████| 2607/2607 [02:21<00:00, 18.47it/s, Train Loss=1.9693, Valid Loss=0.2928, Valid R2=0.3393, Valid MAE=0.4180]\n",
            "Epoch  1: 100%|██████████| 2607/2607 [02:20<00:00, 18.52it/s, Train Loss=0.9878, Valid Loss=0.1834, Valid R2=0.5862, Valid MAE=0.3236]\n",
            "Epoch  2: 100%|██████████| 2607/2607 [02:21<00:00, 18.41it/s, Train Loss=0.9389, Valid Loss=0.1964, Valid R2=0.5568, Valid MAE=0.3231]\n",
            "Epoch  3: 100%|██████████| 2607/2607 [02:20<00:00, 18.59it/s, Train Loss=0.9059, Valid Loss=0.2307, Valid R2=0.4795, Valid MAE=0.4012]\n",
            "Epoch  4: 100%|██████████| 2607/2607 [02:22<00:00, 18.29it/s, Train Loss=0.8856, Valid Loss=0.2306, Valid R2=0.4797, Valid MAE=0.3737]\n",
            "Epoch  5: 100%|██████████| 2607/2607 [02:21<00:00, 18.36it/s, Train Loss=0.8567, Valid Loss=0.1980, Valid R2=0.5533, Valid MAE=0.3473]\n"
          ]
        },
        {
          "name": "stdout",
          "output_type": "stream",
          "text": [
            "Early Stopped\n",
            "Setting   3 of Parameters Grid is now on progres.\n"
          ]
        },
        {
          "name": "stderr",
          "output_type": "stream",
          "text": [
            "Epoch  0: 100%|██████████| 2607/2607 [02:20<00:00, 18.61it/s, Train Loss=2.0949, Valid Loss=0.2867, Valid R2=0.3531, Valid MAE=0.4008]\n",
            "Epoch  1: 100%|██████████| 2607/2607 [02:20<00:00, 18.59it/s, Train Loss=1.0149, Valid Loss=0.2547, Valid R2=0.4253, Valid MAE=0.3740]\n",
            "Epoch  2: 100%|██████████| 2607/2607 [02:20<00:00, 18.55it/s, Train Loss=0.9764, Valid Loss=0.2614, Valid R2=0.4103, Valid MAE=0.3923]\n",
            "Epoch  3: 100%|██████████| 2607/2607 [02:19<00:00, 18.65it/s, Train Loss=0.9502, Valid Loss=0.2316, Valid R2=0.4774, Valid MAE=0.3754]\n",
            "Epoch  4: 100%|██████████| 2607/2607 [02:21<00:00, 18.42it/s, Train Loss=0.9288, Valid Loss=0.2229, Valid R2=0.4970, Valid MAE=0.3613]\n",
            "Epoch  5: 100%|██████████| 2607/2607 [02:22<00:00, 18.30it/s, Train Loss=0.8975, Valid Loss=0.1998, Valid R2=0.5492, Valid MAE=0.3496]\n",
            "Epoch  6: 100%|██████████| 2607/2607 [02:20<00:00, 18.57it/s, Train Loss=0.8821, Valid Loss=0.1903, Valid R2=0.5706, Valid MAE=0.3568]\n",
            "Epoch  7: 100%|██████████| 2607/2607 [02:20<00:00, 18.53it/s, Train Loss=0.8750, Valid Loss=0.2300, Valid R2=0.4809, Valid MAE=0.3712]\n",
            "Epoch  8: 100%|██████████| 2607/2607 [02:20<00:00, 18.55it/s, Train Loss=0.8501, Valid Loss=0.2455, Valid R2=0.4462, Valid MAE=0.3880]\n",
            "Epoch  9: 100%|██████████| 2607/2607 [02:22<00:00, 18.33it/s, Train Loss=0.8409, Valid Loss=0.1961, Valid R2=0.5575, Valid MAE=0.3499]\n",
            "Epoch 10: 100%|██████████| 2607/2607 [02:21<00:00, 18.42it/s, Train Loss=0.8279, Valid Loss=0.2871, Valid R2=0.3522, Valid MAE=0.3989]\n"
          ]
        },
        {
          "name": "stdout",
          "output_type": "stream",
          "text": [
            "Early Stopped\n",
            "Setting   4 of Parameters Grid is now on progres.\n"
          ]
        },
        {
          "name": "stderr",
          "output_type": "stream",
          "text": [
            "Epoch  0: 100%|██████████| 2607/2607 [02:28<00:00, 17.52it/s, Train Loss=1.9927, Valid Loss=0.2648, Valid R2=0.4025, Valid MAE=0.3818]\n",
            "Epoch  1: 100%|██████████| 2607/2607 [02:27<00:00, 17.63it/s, Train Loss=0.9858, Valid Loss=0.2433, Valid R2=0.4509, Valid MAE=0.3893]\n",
            "Epoch  2: 100%|██████████| 2607/2607 [02:28<00:00, 17.53it/s, Train Loss=0.9262, Valid Loss=0.1964, Valid R2=0.5569, Valid MAE=0.3582]\n",
            "Epoch  3: 100%|██████████| 2607/2607 [02:26<00:00, 17.80it/s, Train Loss=0.8866, Valid Loss=0.1565, Valid R2=0.6470, Valid MAE=0.3252]\n",
            "Epoch  4: 100%|██████████| 2607/2607 [02:28<00:00, 17.58it/s, Train Loss=0.8718, Valid Loss=0.1879, Valid R2=0.5761, Valid MAE=0.3281]\n",
            "Epoch  5: 100%|██████████| 2607/2607 [02:26<00:00, 17.81it/s, Train Loss=0.8489, Valid Loss=0.1706, Valid R2=0.6150, Valid MAE=0.3257]\n",
            "Epoch  6: 100%|██████████| 2607/2607 [02:28<00:00, 17.59it/s, Train Loss=0.8300, Valid Loss=0.2484, Valid R2=0.4395, Valid MAE=0.3996]\n",
            "Epoch  7: 100%|██████████| 2607/2607 [02:28<00:00, 17.60it/s, Train Loss=0.8215, Valid Loss=0.1599, Valid R2=0.6392, Valid MAE=0.3323]\n"
          ]
        },
        {
          "name": "stdout",
          "output_type": "stream",
          "text": [
            "Early Stopped\n",
            "Setting   5 of Parameters Grid is now on progres.\n"
          ]
        },
        {
          "name": "stderr",
          "output_type": "stream",
          "text": [
            "Epoch  0: 100%|██████████| 2607/2607 [02:27<00:00, 17.71it/s, Train Loss=1.9975, Valid Loss=0.3708, Valid R2=0.1634, Valid MAE=0.4657]\n",
            "Epoch  1: 100%|██████████| 2607/2607 [02:28<00:00, 17.59it/s, Train Loss=0.9678, Valid Loss=0.1889, Valid R2=0.5738, Valid MAE=0.3257]\n",
            "Epoch  2: 100%|██████████| 2607/2607 [02:26<00:00, 17.78it/s, Train Loss=0.9101, Valid Loss=0.1695, Valid R2=0.6175, Valid MAE=0.3240]\n",
            "Epoch  3: 100%|██████████| 2607/2607 [02:27<00:00, 17.68it/s, Train Loss=0.8853, Valid Loss=0.1566, Valid R2=0.6467, Valid MAE=0.3010]\n",
            "Epoch  4: 100%|██████████| 2607/2607 [02:27<00:00, 17.67it/s, Train Loss=0.8584, Valid Loss=0.3075, Valid R2=0.3061, Valid MAE=0.4220]\n",
            "Epoch  5: 100%|██████████| 2607/2607 [02:27<00:00, 17.71it/s, Train Loss=0.8368, Valid Loss=0.2223, Valid R2=0.4984, Valid MAE=0.3468]\n",
            "Epoch  6: 100%|██████████| 2607/2607 [02:28<00:00, 17.56it/s, Train Loss=0.8141, Valid Loss=0.2176, Valid R2=0.5091, Valid MAE=0.3572]\n",
            "Epoch  7: 100%|██████████| 2607/2607 [02:27<00:00, 17.62it/s, Train Loss=0.7990, Valid Loss=0.2038, Valid R2=0.5401, Valid MAE=0.3478]\n"
          ]
        },
        {
          "name": "stdout",
          "output_type": "stream",
          "text": [
            "Early Stopped\n",
            "Setting   6 of Parameters Grid is now on progres.\n"
          ]
        },
        {
          "name": "stderr",
          "output_type": "stream",
          "text": [
            "Epoch  0: 100%|██████████| 2607/2607 [02:28<00:00, 17.61it/s, Train Loss=1.8335, Valid Loss=0.3117, Valid R2=0.2966, Valid MAE=0.4083]\n",
            "Epoch  1: 100%|██████████| 2607/2607 [02:27<00:00, 17.71it/s, Train Loss=0.9829, Valid Loss=0.2605, Valid R2=0.4122, Valid MAE=0.4271]\n",
            "Epoch  2: 100%|██████████| 2607/2607 [02:28<00:00, 17.56it/s, Train Loss=0.9311, Valid Loss=0.2042, Valid R2=0.5392, Valid MAE=0.3518]\n",
            "Epoch  3: 100%|██████████| 2607/2607 [02:28<00:00, 17.59it/s, Train Loss=0.8909, Valid Loss=0.2001, Valid R2=0.5486, Valid MAE=0.3572]\n",
            "Epoch  4: 100%|██████████| 2607/2607 [02:28<00:00, 17.60it/s, Train Loss=0.8668, Valid Loss=0.1558, Valid R2=0.6484, Valid MAE=0.3229]\n",
            "Epoch  5: 100%|██████████| 2607/2607 [02:27<00:00, 17.69it/s, Train Loss=0.8497, Valid Loss=0.1248, Valid R2=0.7183, Valid MAE=0.2829]\n",
            "Epoch  6: 100%|██████████| 2607/2607 [02:27<00:00, 17.67it/s, Train Loss=0.8358, Valid Loss=0.1792, Valid R2=0.5956, Valid MAE=0.3521]\n",
            "Epoch  7: 100%|██████████| 2607/2607 [02:27<00:00, 17.69it/s, Train Loss=0.8155, Valid Loss=0.1564, Valid R2=0.6471, Valid MAE=0.3176]\n",
            "Epoch  8: 100%|██████████| 2607/2607 [02:29<00:00, 17.44it/s, Train Loss=0.8135, Valid Loss=0.1545, Valid R2=0.6513, Valid MAE=0.3201]\n",
            "Epoch  9: 100%|██████████| 2607/2607 [02:28<00:00, 17.59it/s, Train Loss=0.7876, Valid Loss=0.1657, Valid R2=0.6262, Valid MAE=0.3306]\n"
          ]
        },
        {
          "name": "stdout",
          "output_type": "stream",
          "text": [
            "Early Stopped\n",
            "Setting   7 of Parameters Grid is now on progres.\n"
          ]
        },
        {
          "name": "stderr",
          "output_type": "stream",
          "text": [
            "Epoch  0: 100%|██████████| 2607/2607 [02:27<00:00, 17.65it/s, Train Loss=2.0193, Valid Loss=0.2260, Valid R2=0.4900, Valid MAE=0.3627]\n",
            "Epoch  1: 100%|██████████| 2607/2607 [02:29<00:00, 17.48it/s, Train Loss=1.0689, Valid Loss=0.2019, Valid R2=0.5444, Valid MAE=0.3660]\n",
            "Epoch  2: 100%|██████████| 2607/2607 [02:28<00:00, 17.61it/s, Train Loss=1.0037, Valid Loss=0.1720, Valid R2=0.6120, Valid MAE=0.3258]\n",
            "Epoch  3: 100%|██████████| 2607/2607 [02:27<00:00, 17.73it/s, Train Loss=0.9662, Valid Loss=0.1677, Valid R2=0.6216, Valid MAE=0.3272]\n",
            "Epoch  4: 100%|██████████| 2607/2607 [02:25<00:00, 17.86it/s, Train Loss=0.9411, Valid Loss=0.2030, Valid R2=0.5419, Valid MAE=0.3550]\n",
            "Epoch  5: 100%|██████████| 2607/2607 [02:28<00:00, 17.50it/s, Train Loss=0.9245, Valid Loss=0.2101, Valid R2=0.5258, Valid MAE=0.3665]\n",
            "Epoch  6: 100%|██████████| 2607/2607 [02:28<00:00, 17.55it/s, Train Loss=0.9016, Valid Loss=0.1722, Valid R2=0.6114, Valid MAE=0.3295]\n",
            "Epoch  7: 100%|██████████| 2607/2607 [02:27<00:00, 17.64it/s, Train Loss=0.8850, Valid Loss=0.2107, Valid R2=0.5245, Valid MAE=0.3616]\n"
          ]
        },
        {
          "name": "stdout",
          "output_type": "stream",
          "text": [
            "Early Stopped\n",
            "Setting   8 of Parameters Grid is now on progres.\n"
          ]
        },
        {
          "name": "stderr",
          "output_type": "stream",
          "text": [
            "Epoch  0: 100%|██████████| 2607/2607 [01:59<00:00, 21.87it/s, Train Loss=1.9781, Valid Loss=0.1913, Valid R2=0.5684, Valid MAE=0.3353]\n",
            "Epoch  1: 100%|██████████| 2607/2607 [01:56<00:00, 22.35it/s, Train Loss=1.0067, Valid Loss=0.3302, Valid R2=0.2548, Valid MAE=0.4437]\n",
            "Epoch  2: 100%|██████████| 2607/2607 [01:56<00:00, 22.30it/s, Train Loss=0.9490, Valid Loss=0.2050, Valid R2=0.5374, Valid MAE=0.3660]\n",
            "Epoch  3: 100%|██████████| 2607/2607 [01:57<00:00, 22.23it/s, Train Loss=0.9215, Valid Loss=0.2508, Valid R2=0.4340, Valid MAE=0.4032]\n",
            "Epoch  4: 100%|██████████| 2607/2607 [01:58<00:00, 22.09it/s, Train Loss=0.8928, Valid Loss=0.1357, Valid R2=0.6938, Valid MAE=0.2980]\n",
            "Epoch  5: 100%|██████████| 2607/2607 [01:56<00:00, 22.34it/s, Train Loss=0.8754, Valid Loss=0.1757, Valid R2=0.6035, Valid MAE=0.3483]\n",
            "Epoch  6: 100%|██████████| 2607/2607 [01:56<00:00, 22.30it/s, Train Loss=0.8577, Valid Loss=0.1834, Valid R2=0.5862, Valid MAE=0.3540]\n",
            "Epoch  7: 100%|██████████| 2607/2607 [01:57<00:00, 22.16it/s, Train Loss=0.8445, Valid Loss=0.2007, Valid R2=0.5471, Valid MAE=0.3640]\n",
            "Epoch  8: 100%|██████████| 2607/2607 [01:57<00:00, 22.27it/s, Train Loss=0.8388, Valid Loss=0.2820, Valid R2=0.3638, Valid MAE=0.4266]\n"
          ]
        },
        {
          "name": "stdout",
          "output_type": "stream",
          "text": [
            "Early Stopped\n",
            "Setting   9 of Parameters Grid is now on progres.\n"
          ]
        },
        {
          "name": "stderr",
          "output_type": "stream",
          "text": [
            "Epoch  0: 100%|██████████| 2607/2607 [01:57<00:00, 22.20it/s, Train Loss=1.9332, Valid Loss=0.3282, Valid R2=0.2593, Valid MAE=0.4665]\n",
            "Epoch  1: 100%|██████████| 2607/2607 [01:57<00:00, 22.18it/s, Train Loss=1.0167, Valid Loss=0.3136, Valid R2=0.2923, Valid MAE=0.4623]\n",
            "Epoch  2: 100%|██████████| 2607/2607 [01:57<00:00, 22.16it/s, Train Loss=0.9493, Valid Loss=0.3959, Valid R2=0.1068, Valid MAE=0.4916]\n",
            "Epoch  3: 100%|██████████| 2607/2607 [01:57<00:00, 22.11it/s, Train Loss=0.9229, Valid Loss=0.2792, Valid R2=0.3699, Valid MAE=0.4248]\n",
            "Epoch  4: 100%|██████████| 2607/2607 [01:58<00:00, 22.01it/s, Train Loss=0.8977, Valid Loss=0.4174, Valid R2=0.0582, Valid MAE=0.5116]\n",
            "Epoch  5: 100%|██████████| 2607/2607 [01:57<00:00, 22.28it/s, Train Loss=0.8871, Valid Loss=0.3818, Valid R2=0.1384, Valid MAE=0.5005]\n",
            "Epoch  6: 100%|██████████| 2607/2607 [01:58<00:00, 21.96it/s, Train Loss=0.8575, Valid Loss=0.1656, Valid R2=0.6264, Valid MAE=0.3176]\n",
            "Epoch  7: 100%|██████████| 2607/2607 [01:57<00:00, 22.23it/s, Train Loss=0.8418, Valid Loss=0.1194, Valid R2=0.7305, Valid MAE=0.2715]\n",
            "Epoch  8: 100%|██████████| 2607/2607 [01:56<00:00, 22.31it/s, Train Loss=0.8259, Valid Loss=0.0958, Valid R2=0.7838, Valid MAE=0.2446]\n",
            "Epoch  9: 100%|██████████| 2607/2607 [01:57<00:00, 22.17it/s, Train Loss=0.8081, Valid Loss=0.1439, Valid R2=0.6752, Valid MAE=0.2990]\n",
            "Epoch 10: 100%|██████████| 2607/2607 [01:58<00:00, 22.03it/s, Train Loss=0.7995, Valid Loss=0.2103, Valid R2=0.5254, Valid MAE=0.3686]\n",
            "Epoch 11: 100%|██████████| 2607/2607 [01:57<00:00, 22.10it/s, Train Loss=0.7938, Valid Loss=0.1408, Valid R2=0.6824, Valid MAE=0.2798]\n",
            "Epoch 12: 100%|██████████| 2607/2607 [01:58<00:00, 21.93it/s, Train Loss=0.7828, Valid Loss=0.2572, Valid R2=0.4197, Valid MAE=0.3843]\n"
          ]
        },
        {
          "name": "stdout",
          "output_type": "stream",
          "text": [
            "Early Stopped\n",
            "Setting  10 of Parameters Grid is now on progres.\n"
          ]
        },
        {
          "name": "stderr",
          "output_type": "stream",
          "text": [
            "Epoch  0: 100%|██████████| 2607/2607 [01:56<00:00, 22.30it/s, Train Loss=2.0751, Valid Loss=0.2011, Valid R2=0.5462, Valid MAE=0.3431]\n",
            "Epoch  1: 100%|██████████| 2607/2607 [01:57<00:00, 22.20it/s, Train Loss=1.0621, Valid Loss=0.2003, Valid R2=0.5481, Valid MAE=0.3216]\n",
            "Epoch  2: 100%|██████████| 2607/2607 [01:56<00:00, 22.33it/s, Train Loss=1.0274, Valid Loss=0.2397, Valid R2=0.4591, Valid MAE=0.3647]\n",
            "Epoch  3: 100%|██████████| 2607/2607 [01:58<00:00, 22.06it/s, Train Loss=0.9754, Valid Loss=0.1566, Valid R2=0.6466, Valid MAE=0.3191]\n",
            "Epoch  4: 100%|██████████| 2607/2607 [01:57<00:00, 22.17it/s, Train Loss=0.9580, Valid Loss=0.2605, Valid R2=0.4122, Valid MAE=0.3921]\n",
            "Epoch  5: 100%|██████████| 2607/2607 [01:56<00:00, 22.44it/s, Train Loss=0.9343, Valid Loss=0.2578, Valid R2=0.4182, Valid MAE=0.3918]\n",
            "Epoch  6: 100%|██████████| 2607/2607 [01:55<00:00, 22.48it/s, Train Loss=0.9138, Valid Loss=0.1435, Valid R2=0.6762, Valid MAE=0.2975]\n",
            "Epoch  7: 100%|██████████| 2607/2607 [01:58<00:00, 22.04it/s, Train Loss=0.9053, Valid Loss=0.1612, Valid R2=0.6364, Valid MAE=0.3214]\n",
            "Epoch  8: 100%|██████████| 2607/2607 [01:56<00:00, 22.29it/s, Train Loss=0.8884, Valid Loss=0.1381, Valid R2=0.6884, Valid MAE=0.2861]\n",
            "Epoch  9: 100%|██████████| 2607/2607 [01:57<00:00, 22.25it/s, Train Loss=0.8755, Valid Loss=0.1708, Valid R2=0.6146, Valid MAE=0.3245]\n",
            "Epoch 10: 100%|██████████| 2607/2607 [01:57<00:00, 22.22it/s, Train Loss=0.8572, Valid Loss=0.1964, Valid R2=0.5568, Valid MAE=0.3403]\n",
            "Epoch 11: 100%|██████████| 2607/2607 [01:56<00:00, 22.34it/s, Train Loss=0.8332, Valid Loss=0.1735, Valid R2=0.6085, Valid MAE=0.3160]\n",
            "Epoch 12: 100%|██████████| 2607/2607 [01:57<00:00, 22.20it/s, Train Loss=0.8316, Valid Loss=0.2349, Valid R2=0.4699, Valid MAE=0.3776]\n"
          ]
        },
        {
          "name": "stdout",
          "output_type": "stream",
          "text": [
            "Early Stopped\n",
            "Setting  11 of Parameters Grid is now on progres.\n"
          ]
        },
        {
          "name": "stderr",
          "output_type": "stream",
          "text": [
            "Epoch  0: 100%|██████████| 2607/2607 [01:57<00:00, 22.20it/s, Train Loss=1.6858, Valid Loss=0.3587, Valid R2=0.1906, Valid MAE=0.4935]\n",
            "Epoch  1: 100%|██████████| 2607/2607 [01:58<00:00, 22.09it/s, Train Loss=0.9433, Valid Loss=0.2222, Valid R2=0.4987, Valid MAE=0.3791]\n",
            "Epoch  2: 100%|██████████| 2607/2607 [01:57<00:00, 22.24it/s, Train Loss=0.8924, Valid Loss=0.2237, Valid R2=0.4953, Valid MAE=0.3804]\n",
            "Epoch  3: 100%|██████████| 2607/2607 [01:56<00:00, 22.35it/s, Train Loss=0.8576, Valid Loss=0.2438, Valid R2=0.4498, Valid MAE=0.4030]\n",
            "Epoch  4: 100%|██████████| 2607/2607 [01:57<00:00, 22.21it/s, Train Loss=0.8332, Valid Loss=0.2122, Valid R2=0.5212, Valid MAE=0.3708]\n",
            "Epoch  5: 100%|██████████| 2607/2607 [01:59<00:00, 21.84it/s, Train Loss=0.8254, Valid Loss=0.2184, Valid R2=0.5072, Valid MAE=0.3548]\n",
            "Epoch  6: 100%|██████████| 2607/2607 [01:57<00:00, 22.19it/s, Train Loss=0.8062, Valid Loss=0.2671, Valid R2=0.3974, Valid MAE=0.3927]\n",
            "Epoch  7: 100%|██████████| 2607/2607 [01:57<00:00, 22.14it/s, Train Loss=0.7879, Valid Loss=0.2278, Valid R2=0.4859, Valid MAE=0.3805]\n",
            "Epoch  8: 100%|██████████| 2607/2607 [01:56<00:00, 22.39it/s, Train Loss=0.7725, Valid Loss=0.3128, Valid R2=0.2943, Valid MAE=0.4135]\n"
          ]
        },
        {
          "name": "stdout",
          "output_type": "stream",
          "text": [
            "Early Stopped\n",
            "Setting  12 of Parameters Grid is now on progres.\n"
          ]
        },
        {
          "name": "stderr",
          "output_type": "stream",
          "text": [
            "Epoch  0: 100%|██████████| 2607/2607 [02:02<00:00, 21.35it/s, Train Loss=2.2783, Valid Loss=0.1674, Valid R2=0.6223, Valid MAE=0.3185]\n",
            "Epoch  1: 100%|██████████| 2607/2607 [02:02<00:00, 21.34it/s, Train Loss=1.0509, Valid Loss=0.1514, Valid R2=0.6584, Valid MAE=0.3004]\n",
            "Epoch  2: 100%|██████████| 2607/2607 [02:02<00:00, 21.33it/s, Train Loss=0.9960, Valid Loss=0.1879, Valid R2=0.5760, Valid MAE=0.3509]\n",
            "Epoch  3: 100%|██████████| 2607/2607 [02:02<00:00, 21.35it/s, Train Loss=0.9691, Valid Loss=0.2577, Valid R2=0.4185, Valid MAE=0.3601]\n",
            "Epoch  4: 100%|██████████| 2607/2607 [02:03<00:00, 21.16it/s, Train Loss=0.9422, Valid Loss=0.1653, Valid R2=0.6269, Valid MAE=0.3437]\n",
            "Epoch  5: 100%|██████████| 2607/2607 [02:02<00:00, 21.28it/s, Train Loss=0.9138, Valid Loss=0.1684, Valid R2=0.6200, Valid MAE=0.3298]\n"
          ]
        },
        {
          "name": "stdout",
          "output_type": "stream",
          "text": [
            "Early Stopped\n",
            "Setting  13 of Parameters Grid is now on progres.\n"
          ]
        },
        {
          "name": "stderr",
          "output_type": "stream",
          "text": [
            "Epoch  0: 100%|██████████| 2607/2607 [02:03<00:00, 21.06it/s, Train Loss=1.8641, Valid Loss=0.3590, Valid R2=0.1899, Valid MAE=0.4499]\n",
            "Epoch  1: 100%|██████████| 2607/2607 [02:03<00:00, 21.07it/s, Train Loss=1.0329, Valid Loss=0.1380, Valid R2=0.6886, Valid MAE=0.2943]\n",
            "Epoch  2: 100%|██████████| 2607/2607 [02:02<00:00, 21.25it/s, Train Loss=0.9802, Valid Loss=0.1756, Valid R2=0.6037, Valid MAE=0.3244]\n",
            "Epoch  3: 100%|██████████| 2607/2607 [02:03<00:00, 21.06it/s, Train Loss=0.9439, Valid Loss=0.1555, Valid R2=0.6491, Valid MAE=0.3131]\n",
            "Epoch  4: 100%|██████████| 2607/2607 [02:03<00:00, 21.12it/s, Train Loss=0.9312, Valid Loss=0.1180, Valid R2=0.7338, Valid MAE=0.2656]\n",
            "Epoch  5: 100%|██████████| 2607/2607 [02:02<00:00, 21.25it/s, Train Loss=0.9220, Valid Loss=0.1402, Valid R2=0.6837, Valid MAE=0.2871]\n",
            "Epoch  6: 100%|██████████| 2607/2607 [02:03<00:00, 21.13it/s, Train Loss=0.8897, Valid Loss=0.1860, Valid R2=0.5804, Valid MAE=0.3097]\n",
            "Epoch  7: 100%|██████████| 2607/2607 [02:03<00:00, 21.07it/s, Train Loss=0.8811, Valid Loss=0.2233, Valid R2=0.4963, Valid MAE=0.3667]\n",
            "Epoch  8: 100%|██████████| 2607/2607 [02:04<00:00, 20.98it/s, Train Loss=0.8676, Valid Loss=0.2265, Valid R2=0.4888, Valid MAE=0.3707]\n"
          ]
        },
        {
          "name": "stdout",
          "output_type": "stream",
          "text": [
            "Early Stopped\n",
            "Setting  14 of Parameters Grid is now on progres.\n"
          ]
        },
        {
          "name": "stderr",
          "output_type": "stream",
          "text": [
            "Epoch  0: 100%|██████████| 2607/2607 [02:02<00:00, 21.21it/s, Train Loss=2.2451, Valid Loss=0.2101, Valid R2=0.5260, Valid MAE=0.3685]\n",
            "Epoch  1: 100%|██████████| 2607/2607 [02:01<00:00, 21.38it/s, Train Loss=1.1320, Valid Loss=0.1435, Valid R2=0.6762, Valid MAE=0.2891]\n",
            "Epoch  2: 100%|██████████| 2607/2607 [02:02<00:00, 21.23it/s, Train Loss=1.0905, Valid Loss=0.1227, Valid R2=0.7232, Valid MAE=0.2699]\n",
            "Epoch  3: 100%|██████████| 2607/2607 [02:03<00:00, 21.13it/s, Train Loss=1.0503, Valid Loss=0.1491, Valid R2=0.6637, Valid MAE=0.2967]\n",
            "Epoch  4: 100%|██████████| 2607/2607 [02:03<00:00, 21.03it/s, Train Loss=1.0219, Valid Loss=0.1447, Valid R2=0.6735, Valid MAE=0.3075]\n",
            "Epoch  5: 100%|██████████| 2607/2607 [02:03<00:00, 21.13it/s, Train Loss=1.0032, Valid Loss=0.1901, Valid R2=0.5711, Valid MAE=0.3570]\n",
            "Epoch  6: 100%|██████████| 2607/2607 [02:02<00:00, 21.27it/s, Train Loss=0.9939, Valid Loss=0.1157, Valid R2=0.7388, Valid MAE=0.2721]\n",
            "Epoch  7: 100%|██████████| 2607/2607 [02:02<00:00, 21.29it/s, Train Loss=0.9706, Valid Loss=0.1445, Valid R2=0.6741, Valid MAE=0.2988]\n",
            "Epoch  8: 100%|██████████| 2607/2607 [02:02<00:00, 21.29it/s, Train Loss=0.9558, Valid Loss=0.1301, Valid R2=0.7063, Valid MAE=0.2809]\n",
            "Epoch  9: 100%|██████████| 2607/2607 [02:02<00:00, 21.20it/s, Train Loss=0.9348, Valid Loss=0.1628, Valid R2=0.6326, Valid MAE=0.3346]\n",
            "Epoch 10: 100%|██████████| 2607/2607 [02:03<00:00, 21.16it/s, Train Loss=0.9250, Valid Loss=0.1421, Valid R2=0.6794, Valid MAE=0.2837]\n"
          ]
        },
        {
          "name": "stdout",
          "output_type": "stream",
          "text": [
            "Early Stopped\n",
            "Setting  15 of Parameters Grid is now on progres.\n"
          ]
        },
        {
          "name": "stderr",
          "output_type": "stream",
          "text": [
            "Epoch  0: 100%|██████████| 2607/2607 [02:02<00:00, 21.21it/s, Train Loss=1.8648, Valid Loss=0.3389, Valid R2=0.2353, Valid MAE=0.4815]\n",
            "Epoch  1: 100%|██████████| 2607/2607 [02:02<00:00, 21.26it/s, Train Loss=1.0043, Valid Loss=0.2531, Valid R2=0.4289, Valid MAE=0.4259]\n",
            "Epoch  2: 100%|██████████| 2607/2607 [02:02<00:00, 21.28it/s, Train Loss=0.9495, Valid Loss=0.2281, Valid R2=0.4853, Valid MAE=0.3592]\n",
            "Epoch  3: 100%|██████████| 2607/2607 [02:03<00:00, 21.11it/s, Train Loss=0.9136, Valid Loss=0.2069, Valid R2=0.5331, Valid MAE=0.3668]\n",
            "Epoch  4: 100%|██████████| 2607/2607 [02:01<00:00, 21.45it/s, Train Loss=0.8923, Valid Loss=0.1711, Valid R2=0.6140, Valid MAE=0.3288]\n",
            "Epoch  5: 100%|██████████| 2607/2607 [02:02<00:00, 21.27it/s, Train Loss=0.8689, Valid Loss=0.1959, Valid R2=0.5579, Valid MAE=0.3683]\n",
            "Epoch  6: 100%|██████████| 2607/2607 [02:03<00:00, 21.12it/s, Train Loss=0.8596, Valid Loss=0.1194, Valid R2=0.7306, Valid MAE=0.2641]\n",
            "Epoch  7: 100%|██████████| 2607/2607 [02:03<00:00, 21.04it/s, Train Loss=0.8541, Valid Loss=0.1998, Valid R2=0.5491, Valid MAE=0.3543]\n",
            "Epoch  8: 100%|██████████| 2607/2607 [02:02<00:00, 21.26it/s, Train Loss=0.8218, Valid Loss=0.2010, Valid R2=0.5464, Valid MAE=0.3494]\n",
            "Epoch  9: 100%|██████████| 2607/2607 [02:03<00:00, 21.12it/s, Train Loss=0.8162, Valid Loss=0.2403, Valid R2=0.4577, Valid MAE=0.3887]\n",
            "Epoch 10: 100%|██████████| 2607/2607 [02:02<00:00, 21.31it/s, Train Loss=0.8089, Valid Loss=0.2013, Valid R2=0.5459, Valid MAE=0.3439]\n"
          ]
        },
        {
          "name": "stdout",
          "output_type": "stream",
          "text": [
            "Early Stopped\n",
            "Setting  16 of Parameters Grid is now on progres.\n"
          ]
        },
        {
          "name": "stderr",
          "output_type": "stream",
          "text": [
            "Epoch  0: 100%|██████████| 2607/2607 [01:35<00:00, 27.27it/s, Train Loss=2.2380, Valid Loss=0.2599, Valid R2=0.4137, Valid MAE=0.3847]\n",
            "Epoch  1: 100%|██████████| 2607/2607 [01:37<00:00, 26.76it/s, Train Loss=1.0366, Valid Loss=0.2348, Valid R2=0.4701, Valid MAE=0.3686]\n",
            "Epoch  2: 100%|██████████| 2607/2607 [01:38<00:00, 26.54it/s, Train Loss=0.9758, Valid Loss=0.1389, Valid R2=0.6866, Valid MAE=0.2863]\n",
            "Epoch  3: 100%|██████████| 2607/2607 [01:34<00:00, 27.57it/s, Train Loss=0.9351, Valid Loss=0.2112, Valid R2=0.5233, Valid MAE=0.3656]\n",
            "Epoch  4: 100%|██████████| 2607/2607 [01:36<00:00, 27.13it/s, Train Loss=0.9044, Valid Loss=0.1274, Valid R2=0.7125, Valid MAE=0.2847]\n",
            "Epoch  5: 100%|██████████| 2607/2607 [01:37<00:00, 26.83it/s, Train Loss=0.9017, Valid Loss=0.1615, Valid R2=0.6356, Valid MAE=0.3195]\n",
            "Epoch  6: 100%|██████████| 2607/2607 [01:35<00:00, 27.41it/s, Train Loss=0.8714, Valid Loss=0.2214, Valid R2=0.5005, Valid MAE=0.3873]\n",
            "Epoch  7: 100%|██████████| 2607/2607 [01:36<00:00, 27.05it/s, Train Loss=0.8683, Valid Loss=0.2610, Valid R2=0.4110, Valid MAE=0.4298]\n",
            "Epoch  8: 100%|██████████| 2607/2607 [01:35<00:00, 27.29it/s, Train Loss=0.8479, Valid Loss=0.3084, Valid R2=0.3042, Valid MAE=0.4419]\n"
          ]
        },
        {
          "name": "stdout",
          "output_type": "stream",
          "text": [
            "Early Stopped\n",
            "Setting  17 of Parameters Grid is now on progres.\n"
          ]
        },
        {
          "name": "stderr",
          "output_type": "stream",
          "text": [
            "Epoch  0: 100%|██████████| 2607/2607 [01:36<00:00, 27.11it/s, Train Loss=1.8551, Valid Loss=0.2750, Valid R2=0.3795, Valid MAE=0.4244]\n",
            "Epoch  1: 100%|██████████| 2607/2607 [01:34<00:00, 27.47it/s, Train Loss=1.0251, Valid Loss=0.2041, Valid R2=0.5395, Valid MAE=0.3621]\n",
            "Epoch  2: 100%|██████████| 2607/2607 [01:35<00:00, 27.38it/s, Train Loss=0.9656, Valid Loss=0.1861, Valid R2=0.5800, Valid MAE=0.3384]\n",
            "Epoch  3: 100%|██████████| 2607/2607 [01:33<00:00, 27.83it/s, Train Loss=0.9331, Valid Loss=0.2353, Valid R2=0.4690, Valid MAE=0.3631]\n",
            "Epoch  4: 100%|██████████| 2607/2607 [01:34<00:00, 27.61it/s, Train Loss=0.9092, Valid Loss=0.2152, Valid R2=0.5145, Valid MAE=0.3655]\n",
            "Epoch  5: 100%|██████████| 2607/2607 [01:36<00:00, 27.09it/s, Train Loss=0.8823, Valid Loss=0.2245, Valid R2=0.4934, Valid MAE=0.3957]\n",
            "Epoch  6: 100%|██████████| 2607/2607 [01:36<00:00, 27.01it/s, Train Loss=0.8660, Valid Loss=0.2338, Valid R2=0.4726, Valid MAE=0.3657]\n"
          ]
        },
        {
          "name": "stdout",
          "output_type": "stream",
          "text": [
            "Early Stopped\n",
            "Setting  18 of Parameters Grid is now on progres.\n"
          ]
        },
        {
          "name": "stderr",
          "output_type": "stream",
          "text": [
            "Epoch  0: 100%|██████████| 2607/2607 [01:36<00:00, 27.11it/s, Train Loss=1.9247, Valid Loss=0.2337, Valid R2=0.4727, Valid MAE=0.3782]\n",
            "Epoch  1: 100%|██████████| 2607/2607 [01:37<00:00, 26.78it/s, Train Loss=1.0296, Valid Loss=0.1564, Valid R2=0.6471, Valid MAE=0.3010]\n",
            "Epoch  2: 100%|██████████| 2607/2607 [01:37<00:00, 26.72it/s, Train Loss=0.9634, Valid Loss=0.1465, Valid R2=0.6694, Valid MAE=0.2982]\n",
            "Epoch  3: 100%|██████████| 2607/2607 [01:36<00:00, 27.02it/s, Train Loss=0.9305, Valid Loss=0.1545, Valid R2=0.6514, Valid MAE=0.2969]\n",
            "Epoch  4: 100%|██████████| 2607/2607 [01:37<00:00, 26.77it/s, Train Loss=0.9105, Valid Loss=0.1900, Valid R2=0.5714, Valid MAE=0.3483]\n",
            "Epoch  5: 100%|██████████| 2607/2607 [01:36<00:00, 27.03it/s, Train Loss=0.8850, Valid Loss=0.1336, Valid R2=0.6985, Valid MAE=0.2814]\n",
            "Epoch  6: 100%|██████████| 2607/2607 [01:36<00:00, 27.08it/s, Train Loss=0.8651, Valid Loss=0.1607, Valid R2=0.6373, Valid MAE=0.3043]\n",
            "Epoch  7: 100%|██████████| 2607/2607 [01:34<00:00, 27.47it/s, Train Loss=0.8547, Valid Loss=0.1284, Valid R2=0.7102, Valid MAE=0.2784]\n",
            "Epoch  8: 100%|██████████| 2607/2607 [01:33<00:00, 27.96it/s, Train Loss=0.8501, Valid Loss=0.1532, Valid R2=0.6544, Valid MAE=0.2947]\n",
            "Epoch  9: 100%|██████████| 2607/2607 [01:35<00:00, 27.40it/s, Train Loss=0.8388, Valid Loss=0.1561, Valid R2=0.6479, Valid MAE=0.3051]\n",
            "Epoch 10: 100%|██████████| 2607/2607 [01:36<00:00, 27.10it/s, Train Loss=0.8198, Valid Loss=0.1555, Valid R2=0.6492, Valid MAE=0.3031]\n",
            "Epoch 11: 100%|██████████| 2607/2607 [01:37<00:00, 26.76it/s, Train Loss=0.8074, Valid Loss=0.1874, Valid R2=0.5771, Valid MAE=0.3365]\n"
          ]
        },
        {
          "name": "stdout",
          "output_type": "stream",
          "text": [
            "Early Stopped\n",
            "Setting  19 of Parameters Grid is now on progres.\n"
          ]
        },
        {
          "name": "stderr",
          "output_type": "stream",
          "text": [
            "Epoch  0: 100%|██████████| 2607/2607 [01:37<00:00, 26.77it/s, Train Loss=1.7629, Valid Loss=0.1545, Valid R2=0.6513, Valid MAE=0.3004]\n",
            "Epoch  1: 100%|██████████| 2607/2607 [01:32<00:00, 28.23it/s, Train Loss=0.9961, Valid Loss=0.2261, Valid R2=0.4899, Valid MAE=0.3730]\n",
            "Epoch  2: 100%|██████████| 2607/2607 [01:33<00:00, 27.82it/s, Train Loss=0.9435, Valid Loss=0.2107, Valid R2=0.5247, Valid MAE=0.3615]\n",
            "Epoch  3: 100%|██████████| 2607/2607 [01:35<00:00, 27.38it/s, Train Loss=0.9154, Valid Loss=0.1072, Valid R2=0.7580, Valid MAE=0.2633]\n",
            "Epoch  4: 100%|██████████| 2607/2607 [01:34<00:00, 27.47it/s, Train Loss=0.8902, Valid Loss=0.2004, Valid R2=0.5478, Valid MAE=0.3479]\n",
            "Epoch  5: 100%|██████████| 2607/2607 [01:37<00:00, 26.84it/s, Train Loss=0.8701, Valid Loss=0.2142, Valid R2=0.5167, Valid MAE=0.3758]\n",
            "Epoch  6: 100%|██████████| 2607/2607 [01:34<00:00, 27.54it/s, Train Loss=0.8512, Valid Loss=0.2599, Valid R2=0.4136, Valid MAE=0.4114]\n",
            "Epoch  7: 100%|██████████| 2607/2607 [01:35<00:00, 27.19it/s, Train Loss=0.8317, Valid Loss=0.2266, Valid R2=0.4887, Valid MAE=0.3742]\n"
          ]
        },
        {
          "name": "stdout",
          "output_type": "stream",
          "text": [
            "Early Stopped\n",
            "Setting  20 of Parameters Grid is now on progres.\n"
          ]
        },
        {
          "name": "stderr",
          "output_type": "stream",
          "text": [
            "Epoch  0: 100%|██████████| 2607/2607 [01:38<00:00, 26.36it/s, Train Loss=2.2479, Valid Loss=0.2426, Valid R2=0.4526, Valid MAE=0.3642]\n",
            "Epoch  1: 100%|██████████| 2607/2607 [01:41<00:00, 25.74it/s, Train Loss=1.0859, Valid Loss=0.2774, Valid R2=0.3742, Valid MAE=0.4182]\n",
            "Epoch  2: 100%|██████████| 2607/2607 [01:40<00:00, 25.91it/s, Train Loss=1.0123, Valid Loss=0.1989, Valid R2=0.5513, Valid MAE=0.3568]\n",
            "Epoch  3: 100%|██████████| 2607/2607 [01:40<00:00, 25.82it/s, Train Loss=0.9670, Valid Loss=0.1746, Valid R2=0.6060, Valid MAE=0.3406]\n",
            "Epoch  4: 100%|██████████| 2607/2607 [01:38<00:00, 26.53it/s, Train Loss=0.9457, Valid Loss=0.2068, Valid R2=0.5334, Valid MAE=0.3778]\n",
            "Epoch  5: 100%|██████████| 2607/2607 [01:37<00:00, 26.70it/s, Train Loss=0.9162, Valid Loss=0.2434, Valid R2=0.4509, Valid MAE=0.4082]\n",
            "Epoch  6: 100%|██████████| 2607/2607 [01:36<00:00, 27.11it/s, Train Loss=0.9096, Valid Loss=0.1651, Valid R2=0.6274, Valid MAE=0.3234]\n",
            "Epoch  7: 100%|██████████| 2607/2607 [01:38<00:00, 26.36it/s, Train Loss=0.8968, Valid Loss=0.1658, Valid R2=0.6259, Valid MAE=0.3180]\n",
            "Epoch  8: 100%|██████████| 2607/2607 [01:39<00:00, 26.32it/s, Train Loss=0.8773, Valid Loss=0.1566, Valid R2=0.6467, Valid MAE=0.3168]\n",
            "Epoch  9: 100%|██████████| 2607/2607 [01:40<00:00, 26.05it/s, Train Loss=0.8668, Valid Loss=0.1723, Valid R2=0.6113, Valid MAE=0.3215]\n",
            "Epoch 10: 100%|██████████| 2607/2607 [01:39<00:00, 26.31it/s, Train Loss=0.8548, Valid Loss=0.1824, Valid R2=0.5885, Valid MAE=0.3405]\n",
            "Epoch 11: 100%|██████████| 2607/2607 [01:39<00:00, 26.17it/s, Train Loss=0.8395, Valid Loss=0.1688, Valid R2=0.6192, Valid MAE=0.3322]\n",
            "Epoch 12: 100%|██████████| 2607/2607 [01:38<00:00, 26.60it/s, Train Loss=0.8292, Valid Loss=0.1613, Valid R2=0.6361, Valid MAE=0.3301]\n"
          ]
        },
        {
          "name": "stdout",
          "output_type": "stream",
          "text": [
            "Early Stopped\n",
            "Setting  21 of Parameters Grid is now on progres.\n"
          ]
        },
        {
          "name": "stderr",
          "output_type": "stream",
          "text": [
            "Epoch  0: 100%|██████████| 2607/2607 [01:39<00:00, 26.08it/s, Train Loss=1.8682, Valid Loss=0.2071, Valid R2=0.5327, Valid MAE=0.3495]\n",
            "Epoch  1: 100%|██████████| 2607/2607 [01:39<00:00, 26.20it/s, Train Loss=1.0440, Valid Loss=0.1769, Valid R2=0.6009, Valid MAE=0.3308]\n",
            "Epoch  2: 100%|██████████| 2607/2607 [01:37<00:00, 26.81it/s, Train Loss=0.9831, Valid Loss=0.2477, Valid R2=0.4410, Valid MAE=0.4126]\n",
            "Epoch  3: 100%|██████████| 2607/2607 [01:38<00:00, 26.48it/s, Train Loss=0.9532, Valid Loss=0.1982, Valid R2=0.5528, Valid MAE=0.3637]\n",
            "Epoch  4: 100%|██████████| 2607/2607 [01:39<00:00, 26.07it/s, Train Loss=0.9254, Valid Loss=0.1482, Valid R2=0.6656, Valid MAE=0.3129]\n",
            "Epoch  5: 100%|██████████| 2607/2607 [01:38<00:00, 26.38it/s, Train Loss=0.9139, Valid Loss=0.2156, Valid R2=0.5135, Valid MAE=0.3718]\n",
            "Epoch  6: 100%|██████████| 2607/2607 [01:38<00:00, 26.45it/s, Train Loss=0.8883, Valid Loss=0.2608, Valid R2=0.4115, Valid MAE=0.4088]\n",
            "Epoch  7: 100%|██████████| 2607/2607 [01:41<00:00, 25.76it/s, Train Loss=0.8879, Valid Loss=0.2350, Valid R2=0.4697, Valid MAE=0.3955]\n",
            "Epoch  8: 100%|██████████| 2607/2607 [01:38<00:00, 26.45it/s, Train Loss=0.8718, Valid Loss=0.1303, Valid R2=0.7059, Valid MAE=0.2894]\n",
            "Epoch  9: 100%|██████████| 2607/2607 [01:38<00:00, 26.49it/s, Train Loss=0.8533, Valid Loss=0.1400, Valid R2=0.6841, Valid MAE=0.2926]\n",
            "Epoch 10: 100%|██████████| 2607/2607 [01:38<00:00, 26.36it/s, Train Loss=0.8428, Valid Loss=0.1490, Valid R2=0.6638, Valid MAE=0.3104]\n",
            "Epoch 11: 100%|██████████| 2607/2607 [01:40<00:00, 25.94it/s, Train Loss=0.8329, Valid Loss=0.1700, Valid R2=0.6164, Valid MAE=0.3156]\n",
            "Epoch 12: 100%|██████████| 2607/2607 [01:41<00:00, 25.70it/s, Train Loss=0.8293, Valid Loss=0.1774, Valid R2=0.5997, Valid MAE=0.3409]\n"
          ]
        },
        {
          "name": "stdout",
          "output_type": "stream",
          "text": [
            "Early Stopped\n",
            "Setting  22 of Parameters Grid is now on progres.\n"
          ]
        },
        {
          "name": "stderr",
          "output_type": "stream",
          "text": [
            "Epoch  0: 100%|██████████| 2607/2607 [01:40<00:00, 26.04it/s, Train Loss=1.9807, Valid Loss=0.3028, Valid R2=0.3168, Valid MAE=0.4391]\n",
            "Epoch  1: 100%|██████████| 2607/2607 [01:40<00:00, 26.03it/s, Train Loss=1.0787, Valid Loss=0.5359, Valid R2=-0.2092, Valid MAE=0.5697]\n",
            "Epoch  2: 100%|██████████| 2607/2607 [01:39<00:00, 26.24it/s, Train Loss=1.0192, Valid Loss=0.3558, Valid R2=0.1972, Valid MAE=0.4574]\n",
            "Epoch  3: 100%|██████████| 2607/2607 [01:39<00:00, 26.32it/s, Train Loss=0.9826, Valid Loss=0.1729, Valid R2=0.6099, Valid MAE=0.3148]\n",
            "Epoch  4: 100%|██████████| 2607/2607 [01:40<00:00, 25.90it/s, Train Loss=0.9612, Valid Loss=0.2209, Valid R2=0.5016, Valid MAE=0.3738]\n",
            "Epoch  5: 100%|██████████| 2607/2607 [01:40<00:00, 26.04it/s, Train Loss=0.9361, Valid Loss=0.1539, Valid R2=0.6527, Valid MAE=0.2845]\n",
            "Epoch  6: 100%|██████████| 2607/2607 [01:39<00:00, 26.25it/s, Train Loss=0.9188, Valid Loss=0.2755, Valid R2=0.3783, Valid MAE=0.4111]\n",
            "Epoch  7: 100%|██████████| 2607/2607 [01:40<00:00, 25.85it/s, Train Loss=0.9106, Valid Loss=0.1489, Valid R2=0.6641, Valid MAE=0.3018]\n",
            "Epoch  8: 100%|██████████| 2607/2607 [01:41<00:00, 25.79it/s, Train Loss=0.8881, Valid Loss=0.1682, Valid R2=0.6205, Valid MAE=0.3226]\n",
            "Epoch  9: 100%|██████████| 2607/2607 [01:40<00:00, 25.94it/s, Train Loss=0.8773, Valid Loss=0.2035, Valid R2=0.5409, Valid MAE=0.3406]\n",
            "Epoch 10: 100%|██████████| 2607/2607 [01:41<00:00, 25.77it/s, Train Loss=0.8646, Valid Loss=0.2125, Valid R2=0.5206, Valid MAE=0.3429]\n",
            "Epoch 11: 100%|██████████| 2607/2607 [01:38<00:00, 26.35it/s, Train Loss=0.8506, Valid Loss=0.1976, Valid R2=0.5541, Valid MAE=0.3487]\n"
          ]
        },
        {
          "name": "stdout",
          "output_type": "stream",
          "text": [
            "Early Stopped\n",
            "Setting  23 of Parameters Grid is now on progres.\n"
          ]
        },
        {
          "name": "stderr",
          "output_type": "stream",
          "text": [
            "Epoch  0: 100%|██████████| 2607/2607 [01:38<00:00, 26.54it/s, Train Loss=1.7612, Valid Loss=0.3875, Valid R2=0.1256, Valid MAE=0.5290]\n",
            "Epoch  1: 100%|██████████| 2607/2607 [01:38<00:00, 26.50it/s, Train Loss=1.0192, Valid Loss=0.2001, Valid R2=0.5485, Valid MAE=0.3471]\n",
            "Epoch  2: 100%|██████████| 2607/2607 [01:39<00:00, 26.15it/s, Train Loss=0.9546, Valid Loss=0.1964, Valid R2=0.5568, Valid MAE=0.3461]\n",
            "Epoch  3: 100%|██████████| 2607/2607 [01:40<00:00, 25.98it/s, Train Loss=0.9351, Valid Loss=0.1683, Valid R2=0.6202, Valid MAE=0.3308]\n",
            "Epoch  4: 100%|██████████| 2607/2607 [01:38<00:00, 26.50it/s, Train Loss=0.9072, Valid Loss=0.2762, Valid R2=0.3768, Valid MAE=0.4346]\n",
            "Epoch  5: 100%|██████████| 2607/2607 [01:40<00:00, 25.98it/s, Train Loss=0.8962, Valid Loss=0.1436, Valid R2=0.6761, Valid MAE=0.2894]\n",
            "Epoch  6: 100%|██████████| 2607/2607 [01:40<00:00, 25.96it/s, Train Loss=0.8742, Valid Loss=0.1910, Valid R2=0.5691, Valid MAE=0.3442]\n",
            "Epoch  7: 100%|██████████| 2607/2607 [01:39<00:00, 26.31it/s, Train Loss=0.8524, Valid Loss=0.2245, Valid R2=0.4934, Valid MAE=0.3865]\n",
            "Epoch  8: 100%|██████████| 2607/2607 [01:39<00:00, 26.12it/s, Train Loss=0.8379, Valid Loss=0.1409, Valid R2=0.6821, Valid MAE=0.2927]\n",
            "Epoch  9: 100%|██████████| 2607/2607 [01:41<00:00, 25.71it/s, Train Loss=0.8131, Valid Loss=0.1426, Valid R2=0.6781, Valid MAE=0.3054]\n",
            "Epoch 10: 100%|██████████| 2607/2607 [01:40<00:00, 25.86it/s, Train Loss=0.8146, Valid Loss=0.1325, Valid R2=0.7011, Valid MAE=0.2887]\n",
            "Epoch 11: 100%|██████████| 2607/2607 [01:39<00:00, 26.24it/s, Train Loss=0.7887, Valid Loss=0.2895, Valid R2=0.3468, Valid MAE=0.4354]\n",
            "Epoch 12: 100%|██████████| 2607/2607 [01:38<00:00, 26.53it/s, Train Loss=0.7764, Valid Loss=0.2191, Valid R2=0.5055, Valid MAE=0.3510]\n",
            "Epoch 13: 100%|██████████| 2607/2607 [01:39<00:00, 26.32it/s, Train Loss=0.7675, Valid Loss=0.2013, Valid R2=0.5458, Valid MAE=0.3570]\n",
            "Epoch 14: 100%|██████████| 2607/2607 [01:39<00:00, 26.30it/s, Train Loss=0.7551, Valid Loss=0.2421, Valid R2=0.4537, Valid MAE=0.3810]\n"
          ]
        },
        {
          "name": "stdout",
          "output_type": "stream",
          "text": [
            "Early Stopped\n",
            "Setting  24 of Parameters Grid is now on progres.\n"
          ]
        },
        {
          "name": "stderr",
          "output_type": "stream",
          "text": [
            "Epoch  0: 100%|██████████| 2607/2607 [02:18<00:00, 18.77it/s, Train Loss=2.0016, Valid Loss=0.1928, Valid R2=0.5651, Valid MAE=0.3305]\n",
            "Epoch  1: 100%|██████████| 2607/2607 [02:21<00:00, 18.44it/s, Train Loss=0.9365, Valid Loss=0.2406, Valid R2=0.4572, Valid MAE=0.3499]\n",
            "Epoch  2: 100%|██████████| 2607/2607 [02:20<00:00, 18.55it/s, Train Loss=0.8957, Valid Loss=0.1994, Valid R2=0.5500, Valid MAE=0.3302]\n",
            "Epoch  3: 100%|██████████| 2607/2607 [02:18<00:00, 18.83it/s, Train Loss=0.8682, Valid Loss=0.1777, Valid R2=0.5989, Valid MAE=0.3213]\n",
            "Epoch  4: 100%|██████████| 2607/2607 [02:21<00:00, 18.44it/s, Train Loss=0.8445, Valid Loss=0.1401, Valid R2=0.6839, Valid MAE=0.3050]\n",
            "Epoch  5: 100%|██████████| 2607/2607 [02:19<00:00, 18.70it/s, Train Loss=0.8245, Valid Loss=0.1414, Valid R2=0.6809, Valid MAE=0.2875]\n",
            "Epoch  6: 100%|██████████| 2607/2607 [02:21<00:00, 18.43it/s, Train Loss=0.8090, Valid Loss=0.1597, Valid R2=0.6397, Valid MAE=0.3281]\n",
            "Epoch  7: 100%|██████████| 2607/2607 [02:21<00:00, 18.41it/s, Train Loss=0.7815, Valid Loss=0.1510, Valid R2=0.6593, Valid MAE=0.2848]\n",
            "Epoch  8: 100%|██████████| 2607/2607 [02:21<00:00, 18.40it/s, Train Loss=0.7835, Valid Loss=0.1461, Valid R2=0.6703, Valid MAE=0.3113]\n"
          ]
        },
        {
          "name": "stdout",
          "output_type": "stream",
          "text": [
            "Early Stopped\n",
            "Setting  25 of Parameters Grid is now on progres.\n"
          ]
        },
        {
          "name": "stderr",
          "output_type": "stream",
          "text": [
            "Epoch  0: 100%|██████████| 2607/2607 [02:20<00:00, 18.56it/s, Train Loss=1.8498, Valid Loss=0.1559, Valid R2=0.6483, Valid MAE=0.2995]\n",
            "Epoch  1: 100%|██████████| 2607/2607 [02:20<00:00, 18.52it/s, Train Loss=0.9628, Valid Loss=0.1653, Valid R2=0.6271, Valid MAE=0.3013]\n",
            "Epoch  2: 100%|██████████| 2607/2607 [02:22<00:00, 18.30it/s, Train Loss=0.9277, Valid Loss=0.2588, Valid R2=0.4161, Valid MAE=0.3895]\n",
            "Epoch  3: 100%|██████████| 2607/2607 [02:20<00:00, 18.50it/s, Train Loss=0.9026, Valid Loss=0.1319, Valid R2=0.7024, Valid MAE=0.2730]\n",
            "Epoch  4: 100%|██████████| 2607/2607 [02:20<00:00, 18.51it/s, Train Loss=0.8681, Valid Loss=0.1538, Valid R2=0.6529, Valid MAE=0.2966]\n",
            "Epoch  5: 100%|██████████| 2607/2607 [02:21<00:00, 18.38it/s, Train Loss=0.8606, Valid Loss=0.2247, Valid R2=0.4930, Valid MAE=0.3456]\n",
            "Epoch  6: 100%|██████████| 2607/2607 [02:21<00:00, 18.40it/s, Train Loss=0.8387, Valid Loss=0.1965, Valid R2=0.5566, Valid MAE=0.3403]\n",
            "Epoch  7: 100%|██████████| 2607/2607 [02:22<00:00, 18.34it/s, Train Loss=0.8253, Valid Loss=0.1476, Valid R2=0.6671, Valid MAE=0.3247]\n"
          ]
        },
        {
          "name": "stdout",
          "output_type": "stream",
          "text": [
            "Early Stopped\n",
            "Setting  26 of Parameters Grid is now on progres.\n"
          ]
        },
        {
          "name": "stderr",
          "output_type": "stream",
          "text": [
            "Epoch  0: 100%|██████████| 2607/2607 [02:20<00:00, 18.54it/s, Train Loss=2.2500, Valid Loss=0.2588, Valid R2=0.4160, Valid MAE=0.4171]\n",
            "Epoch  1: 100%|██████████| 2607/2607 [02:20<00:00, 18.61it/s, Train Loss=1.0071, Valid Loss=0.2232, Valid R2=0.4963, Valid MAE=0.3972]\n",
            "Epoch  2: 100%|██████████| 2607/2607 [02:20<00:00, 18.57it/s, Train Loss=0.9427, Valid Loss=0.2624, Valid R2=0.4079, Valid MAE=0.4351]\n",
            "Epoch  3: 100%|██████████| 2607/2607 [02:21<00:00, 18.48it/s, Train Loss=0.9158, Valid Loss=0.2030, Valid R2=0.5420, Valid MAE=0.3681]\n",
            "Epoch  4: 100%|██████████| 2607/2607 [02:21<00:00, 18.46it/s, Train Loss=0.8902, Valid Loss=0.1740, Valid R2=0.6074, Valid MAE=0.3486]\n",
            "Epoch  5: 100%|██████████| 2607/2607 [02:22<00:00, 18.30it/s, Train Loss=0.8771, Valid Loss=0.1789, Valid R2=0.5963, Valid MAE=0.3367]\n",
            "Epoch  6: 100%|██████████| 2607/2607 [02:20<00:00, 18.49it/s, Train Loss=0.8562, Valid Loss=0.1740, Valid R2=0.6074, Valid MAE=0.3318]\n",
            "Epoch  7: 100%|██████████| 2607/2607 [02:21<00:00, 18.45it/s, Train Loss=0.8367, Valid Loss=0.1527, Valid R2=0.6555, Valid MAE=0.3163]\n",
            "Epoch  8: 100%|██████████| 2607/2607 [02:20<00:00, 18.58it/s, Train Loss=0.8219, Valid Loss=0.2099, Valid R2=0.5263, Valid MAE=0.3703]\n",
            "Epoch  9: 100%|██████████| 2607/2607 [02:18<00:00, 18.78it/s, Train Loss=0.8218, Valid Loss=0.1721, Valid R2=0.6117, Valid MAE=0.3383]\n",
            "Epoch 10: 100%|██████████| 2607/2607 [02:20<00:00, 18.57it/s, Train Loss=0.8154, Valid Loss=0.1876, Valid R2=0.5767, Valid MAE=0.3561]\n",
            "Epoch 11: 100%|██████████| 2607/2607 [02:20<00:00, 18.58it/s, Train Loss=0.8034, Valid Loss=0.2123, Valid R2=0.5209, Valid MAE=0.3604]\n"
          ]
        },
        {
          "name": "stdout",
          "output_type": "stream",
          "text": [
            "Early Stopped\n",
            "Setting  27 of Parameters Grid is now on progres.\n"
          ]
        },
        {
          "name": "stderr",
          "output_type": "stream",
          "text": [
            "Epoch  0: 100%|██████████| 2607/2607 [02:21<00:00, 18.49it/s, Train Loss=1.8885, Valid Loss=0.5714, Valid R2=-0.2894, Valid MAE=0.5831]\n",
            "Epoch  1: 100%|██████████| 2607/2607 [02:21<00:00, 18.38it/s, Train Loss=0.9193, Valid Loss=0.2126, Valid R2=0.5202, Valid MAE=0.3547]\n",
            "Epoch  2: 100%|██████████| 2607/2607 [02:19<00:00, 18.62it/s, Train Loss=0.8780, Valid Loss=0.1689, Valid R2=0.6189, Valid MAE=0.3281]\n",
            "Epoch  3: 100%|██████████| 2607/2607 [02:20<00:00, 18.51it/s, Train Loss=0.8426, Valid Loss=0.1806, Valid R2=0.5925, Valid MAE=0.3070]\n",
            "Epoch  4: 100%|██████████| 2607/2607 [02:21<00:00, 18.42it/s, Train Loss=0.8068, Valid Loss=0.1833, Valid R2=0.5863, Valid MAE=0.3193]\n",
            "Epoch  5: 100%|██████████| 2607/2607 [02:21<00:00, 18.42it/s, Train Loss=0.7988, Valid Loss=0.2556, Valid R2=0.4233, Valid MAE=0.3707]\n",
            "Epoch  6: 100%|██████████| 2607/2607 [02:19<00:00, 18.64it/s, Train Loss=0.7861, Valid Loss=0.2747, Valid R2=0.3802, Valid MAE=0.3924]\n"
          ]
        },
        {
          "name": "stdout",
          "output_type": "stream",
          "text": [
            "Early Stopped\n",
            "Setting  28 of Parameters Grid is now on progres.\n"
          ]
        },
        {
          "name": "stderr",
          "output_type": "stream",
          "text": [
            "Epoch  0: 100%|██████████| 2607/2607 [02:29<00:00, 17.39it/s, Train Loss=1.8343, Valid Loss=0.2875, Valid R2=0.3514, Valid MAE=0.4234]\n",
            "Epoch  1: 100%|██████████| 2607/2607 [02:29<00:00, 17.45it/s, Train Loss=0.9296, Valid Loss=0.1460, Valid R2=0.6706, Valid MAE=0.2965]\n",
            "Epoch  2: 100%|██████████| 2607/2607 [02:29<00:00, 17.47it/s, Train Loss=0.8957, Valid Loss=0.2060, Valid R2=0.5351, Valid MAE=0.3455]\n",
            "Epoch  3: 100%|██████████| 2607/2607 [02:30<00:00, 17.37it/s, Train Loss=0.8588, Valid Loss=0.1516, Valid R2=0.6580, Valid MAE=0.3164]\n",
            "Epoch  4: 100%|██████████| 2607/2607 [02:29<00:00, 17.44it/s, Train Loss=0.8402, Valid Loss=0.2154, Valid R2=0.5141, Valid MAE=0.3795]\n",
            "Epoch  5: 100%|██████████| 2607/2607 [02:29<00:00, 17.43it/s, Train Loss=0.8177, Valid Loss=0.1603, Valid R2=0.6383, Valid MAE=0.3241]\n"
          ]
        },
        {
          "name": "stdout",
          "output_type": "stream",
          "text": [
            "Early Stopped\n",
            "Setting  29 of Parameters Grid is now on progres.\n"
          ]
        },
        {
          "name": "stderr",
          "output_type": "stream",
          "text": [
            "Epoch  0: 100%|██████████| 2607/2607 [02:28<00:00, 17.54it/s, Train Loss=1.6322, Valid Loss=0.1512, Valid R2=0.6589, Valid MAE=0.2994]\n",
            "Epoch  1: 100%|██████████| 2607/2607 [02:30<00:00, 17.31it/s, Train Loss=0.8910, Valid Loss=0.1643, Valid R2=0.6294, Valid MAE=0.3226]\n",
            "Epoch  2: 100%|██████████| 2607/2607 [02:29<00:00, 17.47it/s, Train Loss=0.8518, Valid Loss=0.1589, Valid R2=0.6415, Valid MAE=0.3190]\n",
            "Epoch  3: 100%|██████████| 2607/2607 [02:31<00:00, 17.20it/s, Train Loss=0.8232, Valid Loss=0.1951, Valid R2=0.5597, Valid MAE=0.3572]\n",
            "Epoch  4: 100%|██████████| 2607/2607 [02:30<00:00, 17.36it/s, Train Loss=0.8066, Valid Loss=0.2001, Valid R2=0.5484, Valid MAE=0.3606]\n"
          ]
        },
        {
          "name": "stdout",
          "output_type": "stream",
          "text": [
            "Early Stopped\n",
            "Setting  30 of Parameters Grid is now on progres.\n"
          ]
        },
        {
          "name": "stderr",
          "output_type": "stream",
          "text": [
            "Epoch  0: 100%|██████████| 2607/2607 [02:28<00:00, 17.57it/s, Train Loss=1.7830, Valid Loss=0.2330, Valid R2=0.4743, Valid MAE=0.3885]\n",
            "Epoch  1: 100%|██████████| 2607/2607 [02:30<00:00, 17.27it/s, Train Loss=0.9385, Valid Loss=0.2812, Valid R2=0.3656, Valid MAE=0.4226]\n",
            "Epoch  2: 100%|██████████| 2607/2607 [02:28<00:00, 17.51it/s, Train Loss=0.8938, Valid Loss=0.1673, Valid R2=0.6224, Valid MAE=0.3179]\n",
            "Epoch  3: 100%|██████████| 2607/2607 [02:29<00:00, 17.38it/s, Train Loss=0.8609, Valid Loss=0.1640, Valid R2=0.6300, Valid MAE=0.3250]\n",
            "Epoch  4: 100%|██████████| 2607/2607 [02:30<00:00, 17.36it/s, Train Loss=0.8337, Valid Loss=0.1592, Valid R2=0.6407, Valid MAE=0.3141]\n",
            "Epoch  5: 100%|██████████| 2607/2607 [02:29<00:00, 17.40it/s, Train Loss=0.8119, Valid Loss=0.1612, Valid R2=0.6363, Valid MAE=0.3159]\n",
            "Epoch  6: 100%|██████████| 2607/2607 [02:29<00:00, 17.44it/s, Train Loss=0.7969, Valid Loss=0.2419, Valid R2=0.4541, Valid MAE=0.4054]\n",
            "Epoch  7: 100%|██████████| 2607/2607 [02:29<00:00, 17.49it/s, Train Loss=0.7818, Valid Loss=0.2083, Valid R2=0.5301, Valid MAE=0.3764]\n",
            "Epoch  8: 100%|██████████| 2607/2607 [02:29<00:00, 17.41it/s, Train Loss=0.7663, Valid Loss=0.1450, Valid R2=0.6729, Valid MAE=0.3119]\n",
            "Epoch  9: 100%|██████████| 2607/2607 [02:30<00:00, 17.34it/s, Train Loss=0.7600, Valid Loss=0.1592, Valid R2=0.6408, Valid MAE=0.3247]\n",
            "Epoch 10: 100%|██████████| 2607/2607 [02:29<00:00, 17.43it/s, Train Loss=0.7426, Valid Loss=0.1448, Valid R2=0.6733, Valid MAE=0.3078]\n",
            "Epoch 11: 100%|██████████| 2607/2607 [02:29<00:00, 17.46it/s, Train Loss=0.7316, Valid Loss=0.1807, Valid R2=0.5923, Valid MAE=0.3418]\n",
            "Epoch 12: 100%|██████████| 2607/2607 [02:30<00:00, 17.36it/s, Train Loss=0.7233, Valid Loss=0.1637, Valid R2=0.6307, Valid MAE=0.3326]\n",
            "Epoch 13: 100%|██████████| 2607/2607 [02:28<00:00, 17.52it/s, Train Loss=0.7108, Valid Loss=0.2013, Valid R2=0.5458, Valid MAE=0.3555]\n",
            "Epoch 14: 100%|██████████| 2607/2607 [02:29<00:00, 17.43it/s, Train Loss=0.7042, Valid Loss=0.1803, Valid R2=0.5933, Valid MAE=0.3383]\n"
          ]
        },
        {
          "name": "stdout",
          "output_type": "stream",
          "text": [
            "Early Stopped\n",
            "Setting  31 of Parameters Grid is now on progres.\n"
          ]
        },
        {
          "name": "stderr",
          "output_type": "stream",
          "text": [
            "Epoch  0: 100%|██████████| 2607/2607 [02:30<00:00, 17.35it/s, Train Loss=1.6801, Valid Loss=0.3074, Valid R2=0.3065, Valid MAE=0.4305]\n",
            "Epoch  1: 100%|██████████| 2607/2607 [02:30<00:00, 17.38it/s, Train Loss=0.9103, Valid Loss=0.2889, Valid R2=0.3482, Valid MAE=0.3989]\n",
            "Epoch  2: 100%|██████████| 2607/2607 [02:29<00:00, 17.49it/s, Train Loss=0.8534, Valid Loss=0.2303, Valid R2=0.4803, Valid MAE=0.3645]\n",
            "Epoch  3: 100%|██████████| 2607/2607 [02:30<00:00, 17.38it/s, Train Loss=0.8299, Valid Loss=0.2404, Valid R2=0.4575, Valid MAE=0.3774]\n",
            "Epoch  4: 100%|██████████| 2607/2607 [02:29<00:00, 17.42it/s, Train Loss=0.8034, Valid Loss=0.2187, Valid R2=0.5065, Valid MAE=0.3581]\n",
            "Epoch  5: 100%|██████████| 2607/2607 [02:28<00:00, 17.54it/s, Train Loss=0.7882, Valid Loss=0.1835, Valid R2=0.5859, Valid MAE=0.3393]\n",
            "Epoch  6: 100%|██████████| 2607/2607 [02:28<00:00, 17.56it/s, Train Loss=0.7643, Valid Loss=0.2413, Valid R2=0.4555, Valid MAE=0.3689]\n",
            "Epoch  7: 100%|██████████| 2607/2607 [02:28<00:00, 17.50it/s, Train Loss=0.7427, Valid Loss=0.2750, Valid R2=0.3796, Valid MAE=0.3876]\n",
            "Epoch  8: 100%|██████████| 2607/2607 [02:28<00:00, 17.57it/s, Train Loss=0.7273, Valid Loss=0.2096, Valid R2=0.5271, Valid MAE=0.3393]\n",
            "Epoch  9: 100%|██████████| 2607/2607 [02:29<00:00, 17.49it/s, Train Loss=0.7159, Valid Loss=0.2317, Valid R2=0.4771, Valid MAE=0.3739]\n"
          ]
        },
        {
          "name": "stdout",
          "output_type": "stream",
          "text": [
            "Early Stopped\n",
            "Setting  32 of Parameters Grid is now on progres.\n"
          ]
        },
        {
          "name": "stderr",
          "output_type": "stream",
          "text": [
            "Epoch  0: 100%|██████████| 2607/2607 [01:59<00:00, 21.88it/s, Train Loss=2.0996, Valid Loss=0.2049, Valid R2=0.5377, Valid MAE=0.3637]\n",
            "Epoch  1: 100%|██████████| 2607/2607 [01:58<00:00, 22.00it/s, Train Loss=0.9769, Valid Loss=0.1667, Valid R2=0.6239, Valid MAE=0.3342]\n",
            "Epoch  2: 100%|██████████| 2607/2607 [01:58<00:00, 22.04it/s, Train Loss=0.9129, Valid Loss=0.1411, Valid R2=0.6816, Valid MAE=0.2948]\n",
            "Epoch  3: 100%|██████████| 2607/2607 [01:56<00:00, 22.34it/s, Train Loss=0.8766, Valid Loss=0.1587, Valid R2=0.6418, Valid MAE=0.3348]\n",
            "Epoch  4: 100%|██████████| 2607/2607 [01:58<00:00, 21.97it/s, Train Loss=0.8500, Valid Loss=0.1422, Valid R2=0.6792, Valid MAE=0.3124]\n",
            "Epoch  5: 100%|██████████| 2607/2607 [01:58<00:00, 21.96it/s, Train Loss=0.8374, Valid Loss=0.2332, Valid R2=0.4739, Valid MAE=0.3956]\n",
            "Epoch  6: 100%|██████████| 2607/2607 [01:58<00:00, 21.96it/s, Train Loss=0.8098, Valid Loss=0.2100, Valid R2=0.5262, Valid MAE=0.3754]\n"
          ]
        },
        {
          "name": "stdout",
          "output_type": "stream",
          "text": [
            "Early Stopped\n",
            "Setting  33 of Parameters Grid is now on progres.\n"
          ]
        },
        {
          "name": "stderr",
          "output_type": "stream",
          "text": [
            "Epoch  0: 100%|██████████| 2607/2607 [01:58<00:00, 22.00it/s, Train Loss=1.7743, Valid Loss=0.4015, Valid R2=0.0942, Valid MAE=0.5487]\n",
            "Epoch  1: 100%|██████████| 2607/2607 [01:59<00:00, 21.88it/s, Train Loss=0.9622, Valid Loss=0.2582, Valid R2=0.4173, Valid MAE=0.3939]\n",
            "Epoch  2: 100%|██████████| 2607/2607 [01:58<00:00, 21.91it/s, Train Loss=0.9077, Valid Loss=0.2235, Valid R2=0.4958, Valid MAE=0.3972]\n",
            "Epoch  3: 100%|██████████| 2607/2607 [01:58<00:00, 22.02it/s, Train Loss=0.8679, Valid Loss=0.2038, Valid R2=0.5402, Valid MAE=0.3699]\n",
            "Epoch  4: 100%|██████████| 2607/2607 [01:57<00:00, 22.19it/s, Train Loss=0.8387, Valid Loss=0.4191, Valid R2=0.0543, Valid MAE=0.5187]\n",
            "Epoch  5: 100%|██████████| 2607/2607 [01:58<00:00, 21.97it/s, Train Loss=0.8384, Valid Loss=0.2773, Valid R2=0.3744, Valid MAE=0.4233]\n",
            "Epoch  6: 100%|██████████| 2607/2607 [01:58<00:00, 22.02it/s, Train Loss=0.8158, Valid Loss=0.2251, Valid R2=0.4921, Valid MAE=0.3825]\n",
            "Epoch  7: 100%|██████████| 2607/2607 [02:00<00:00, 21.65it/s, Train Loss=0.7996, Valid Loss=0.3920, Valid R2=0.1155, Valid MAE=0.5091]\n"
          ]
        },
        {
          "name": "stdout",
          "output_type": "stream",
          "text": [
            "Early Stopped\n",
            "Setting  34 of Parameters Grid is now on progres.\n"
          ]
        },
        {
          "name": "stderr",
          "output_type": "stream",
          "text": [
            "Epoch  0: 100%|██████████| 2607/2607 [01:58<00:00, 21.96it/s, Train Loss=1.8266, Valid Loss=0.2153, Valid R2=0.5142, Valid MAE=0.3711]\n",
            "Epoch  1: 100%|██████████| 2607/2607 [01:58<00:00, 22.03it/s, Train Loss=0.9378, Valid Loss=0.1629, Valid R2=0.6324, Valid MAE=0.3360]\n",
            "Epoch  2: 100%|██████████| 2607/2607 [01:59<00:00, 21.85it/s, Train Loss=0.8914, Valid Loss=0.1837, Valid R2=0.5855, Valid MAE=0.3362]\n",
            "Epoch  3: 100%|██████████| 2607/2607 [01:58<00:00, 22.08it/s, Train Loss=0.8605, Valid Loss=0.3162, Valid R2=0.2865, Valid MAE=0.4311]\n",
            "Epoch  4: 100%|██████████| 2607/2607 [01:56<00:00, 22.32it/s, Train Loss=0.8471, Valid Loss=0.1637, Valid R2=0.6307, Valid MAE=0.3227]\n",
            "Epoch  5: 100%|██████████| 2607/2607 [01:58<00:00, 21.97it/s, Train Loss=0.8178, Valid Loss=0.1471, Valid R2=0.6681, Valid MAE=0.3010]\n",
            "Epoch  6: 100%|██████████| 2607/2607 [01:58<00:00, 22.04it/s, Train Loss=0.8102, Valid Loss=0.1815, Valid R2=0.5905, Valid MAE=0.3471]\n",
            "Epoch  7: 100%|██████████| 2607/2607 [01:58<00:00, 21.91it/s, Train Loss=0.7894, Valid Loss=0.2194, Valid R2=0.5049, Valid MAE=0.3827]\n",
            "Epoch  8: 100%|██████████| 2607/2607 [01:57<00:00, 22.21it/s, Train Loss=0.7729, Valid Loss=0.1875, Valid R2=0.5768, Valid MAE=0.3562]\n",
            "Epoch  9: 100%|██████████| 2607/2607 [01:58<00:00, 22.06it/s, Train Loss=0.7601, Valid Loss=0.1635, Valid R2=0.6311, Valid MAE=0.3240]\n"
          ]
        },
        {
          "name": "stdout",
          "output_type": "stream",
          "text": [
            "Early Stopped\n",
            "Setting  35 of Parameters Grid is now on progres.\n"
          ]
        },
        {
          "name": "stderr",
          "output_type": "stream",
          "text": [
            "Epoch  0: 100%|██████████| 2607/2607 [01:58<00:00, 21.99it/s, Train Loss=1.9469, Valid Loss=0.3693, Valid R2=0.1666, Valid MAE=0.4669]\n",
            "Epoch  1: 100%|██████████| 2607/2607 [01:58<00:00, 21.97it/s, Train Loss=0.9593, Valid Loss=0.1558, Valid R2=0.6484, Valid MAE=0.2971]\n",
            "Epoch  2: 100%|██████████| 2607/2607 [01:59<00:00, 21.81it/s, Train Loss=0.9061, Valid Loss=0.1208, Valid R2=0.7273, Valid MAE=0.2720]\n",
            "Epoch  3: 100%|██████████| 2607/2607 [01:59<00:00, 21.88it/s, Train Loss=0.8780, Valid Loss=0.2384, Valid R2=0.4621, Valid MAE=0.3824]\n",
            "Epoch  4: 100%|██████████| 2607/2607 [01:57<00:00, 22.19it/s, Train Loss=0.8569, Valid Loss=0.1709, Valid R2=0.6144, Valid MAE=0.3228]\n",
            "Epoch  5: 100%|██████████| 2607/2607 [01:56<00:00, 22.36it/s, Train Loss=0.8405, Valid Loss=0.2049, Valid R2=0.5378, Valid MAE=0.3480]\n",
            "Epoch  6: 100%|██████████| 2607/2607 [01:58<00:00, 22.01it/s, Train Loss=0.8264, Valid Loss=0.1486, Valid R2=0.6648, Valid MAE=0.2952]\n"
          ]
        },
        {
          "name": "stdout",
          "output_type": "stream",
          "text": [
            "Early Stopped\n",
            "Setting  36 of Parameters Grid is now on progres.\n"
          ]
        },
        {
          "name": "stderr",
          "output_type": "stream",
          "text": [
            "Epoch  0: 100%|██████████| 2607/2607 [02:04<00:00, 20.94it/s, Train Loss=1.8747, Valid Loss=0.2244, Valid R2=0.4937, Valid MAE=0.3838]\n",
            "Epoch  1: 100%|██████████| 2607/2607 [02:05<00:00, 20.74it/s, Train Loss=1.0152, Valid Loss=0.2440, Valid R2=0.4495, Valid MAE=0.4139]\n",
            "Epoch  2: 100%|██████████| 2607/2607 [02:06<00:00, 20.68it/s, Train Loss=0.9602, Valid Loss=0.2598, Valid R2=0.4137, Valid MAE=0.4484]\n",
            "Epoch  3: 100%|██████████| 2607/2607 [02:05<00:00, 20.70it/s, Train Loss=0.9267, Valid Loss=0.2577, Valid R2=0.4186, Valid MAE=0.4333]\n",
            "Epoch  4: 100%|██████████| 2607/2607 [02:04<00:00, 20.88it/s, Train Loss=0.9071, Valid Loss=0.1758, Valid R2=0.6034, Valid MAE=0.3315]\n",
            "Epoch  5: 100%|██████████| 2607/2607 [02:05<00:00, 20.82it/s, Train Loss=0.8910, Valid Loss=0.1755, Valid R2=0.6039, Valid MAE=0.3504]\n",
            "Epoch  6: 100%|██████████| 2607/2607 [02:05<00:00, 20.71it/s, Train Loss=0.8583, Valid Loss=0.1490, Valid R2=0.6638, Valid MAE=0.3129]\n",
            "Epoch  7: 100%|██████████| 2607/2607 [02:04<00:00, 20.86it/s, Train Loss=0.8524, Valid Loss=0.1848, Valid R2=0.5831, Valid MAE=0.3631]\n",
            "Epoch  8: 100%|██████████| 2607/2607 [02:07<00:00, 20.47it/s, Train Loss=0.8405, Valid Loss=0.2080, Valid R2=0.5308, Valid MAE=0.4009]\n",
            "Epoch  9: 100%|██████████| 2607/2607 [02:06<00:00, 20.68it/s, Train Loss=0.8312, Valid Loss=0.1551, Valid R2=0.6500, Valid MAE=0.3055]\n",
            "Epoch 10: 100%|██████████| 2607/2607 [02:06<00:00, 20.66it/s, Train Loss=0.8202, Valid Loss=0.1686, Valid R2=0.6196, Valid MAE=0.3272]\n"
          ]
        },
        {
          "name": "stdout",
          "output_type": "stream",
          "text": [
            "Early Stopped\n",
            "Setting  37 of Parameters Grid is now on progres.\n"
          ]
        },
        {
          "name": "stderr",
          "output_type": "stream",
          "text": [
            "Epoch  0: 100%|██████████| 2607/2607 [02:05<00:00, 20.86it/s, Train Loss=1.9637, Valid Loss=0.2898, Valid R2=0.3462, Valid MAE=0.4257]\n",
            "Epoch  1: 100%|██████████| 2607/2607 [02:06<00:00, 20.66it/s, Train Loss=0.9905, Valid Loss=0.1782, Valid R2=0.5979, Valid MAE=0.3391]\n",
            "Epoch  2: 100%|██████████| 2607/2607 [02:05<00:00, 20.69it/s, Train Loss=0.9325, Valid Loss=0.1370, Valid R2=0.6908, Valid MAE=0.2917]\n",
            "Epoch  3: 100%|██████████| 2607/2607 [02:06<00:00, 20.61it/s, Train Loss=0.9024, Valid Loss=0.2589, Valid R2=0.4159, Valid MAE=0.4208]\n",
            "Epoch  4: 100%|██████████| 2607/2607 [02:06<00:00, 20.54it/s, Train Loss=0.8792, Valid Loss=0.1490, Valid R2=0.6639, Valid MAE=0.3036]\n",
            "Epoch  5: 100%|██████████| 2607/2607 [02:05<00:00, 20.74it/s, Train Loss=0.8736, Valid Loss=0.1825, Valid R2=0.5882, Valid MAE=0.3397]\n",
            "Epoch  6: 100%|██████████| 2607/2607 [02:04<00:00, 20.98it/s, Train Loss=0.8505, Valid Loss=0.1536, Valid R2=0.6535, Valid MAE=0.3028]\n"
          ]
        },
        {
          "name": "stdout",
          "output_type": "stream",
          "text": [
            "Early Stopped\n",
            "Setting  38 of Parameters Grid is now on progres.\n"
          ]
        },
        {
          "name": "stderr",
          "output_type": "stream",
          "text": [
            "Epoch  0: 100%|██████████| 2607/2607 [02:06<00:00, 20.68it/s, Train Loss=1.6179, Valid Loss=0.2833, Valid R2=0.3608, Valid MAE=0.3886]\n",
            "Epoch  1: 100%|██████████| 2607/2607 [02:05<00:00, 20.74it/s, Train Loss=0.9353, Valid Loss=0.1101, Valid R2=0.7515, Valid MAE=0.2642]\n",
            "Epoch  2: 100%|██████████| 2607/2607 [02:06<00:00, 20.61it/s, Train Loss=0.8888, Valid Loss=0.1189, Valid R2=0.7317, Valid MAE=0.2714]\n",
            "Epoch  3: 100%|██████████| 2607/2607 [02:06<00:00, 20.57it/s, Train Loss=0.8620, Valid Loss=0.1079, Valid R2=0.7566, Valid MAE=0.2622]\n",
            "Epoch  4: 100%|██████████| 2607/2607 [02:06<00:00, 20.65it/s, Train Loss=0.8388, Valid Loss=0.1718, Valid R2=0.6122, Valid MAE=0.3346]\n",
            "Epoch  5: 100%|██████████| 2607/2607 [02:06<00:00, 20.69it/s, Train Loss=0.8161, Valid Loss=0.3651, Valid R2=0.1762, Valid MAE=0.4805]\n",
            "Epoch  6: 100%|██████████| 2607/2607 [02:05<00:00, 20.82it/s, Train Loss=0.7999, Valid Loss=0.1893, Valid R2=0.5728, Valid MAE=0.3555]\n",
            "Epoch  7: 100%|██████████| 2607/2607 [02:04<00:00, 21.00it/s, Train Loss=0.7791, Valid Loss=0.1852, Valid R2=0.5821, Valid MAE=0.3588]\n"
          ]
        },
        {
          "name": "stdout",
          "output_type": "stream",
          "text": [
            "Early Stopped\n",
            "Setting  39 of Parameters Grid is now on progres.\n"
          ]
        },
        {
          "name": "stderr",
          "output_type": "stream",
          "text": [
            "Epoch  0: 100%|██████████| 2607/2607 [02:05<00:00, 20.79it/s, Train Loss=1.7417, Valid Loss=0.3224, Valid R2=0.2725, Valid MAE=0.4517]\n",
            "Epoch  1: 100%|██████████| 2607/2607 [02:07<00:00, 20.50it/s, Train Loss=0.9660, Valid Loss=0.2191, Valid R2=0.5055, Valid MAE=0.3743]\n",
            "Epoch  2: 100%|██████████| 2607/2607 [02:05<00:00, 20.78it/s, Train Loss=0.8985, Valid Loss=0.2607, Valid R2=0.4117, Valid MAE=0.4032]\n",
            "Epoch  3: 100%|██████████| 2607/2607 [02:05<00:00, 20.71it/s, Train Loss=0.8657, Valid Loss=0.2732, Valid R2=0.3835, Valid MAE=0.4125]\n",
            "Epoch  4: 100%|██████████| 2607/2607 [02:05<00:00, 20.70it/s, Train Loss=0.8536, Valid Loss=0.1850, Valid R2=0.5825, Valid MAE=0.3526]\n",
            "Epoch  5: 100%|██████████| 2607/2607 [02:04<00:00, 20.88it/s, Train Loss=0.8429, Valid Loss=0.2018, Valid R2=0.5447, Valid MAE=0.3610]\n",
            "Epoch  6: 100%|██████████| 2607/2607 [02:06<00:00, 20.61it/s, Train Loss=0.8317, Valid Loss=0.1871, Valid R2=0.5778, Valid MAE=0.3509]\n",
            "Epoch  7: 100%|██████████| 2607/2607 [02:05<00:00, 20.76it/s, Train Loss=0.8043, Valid Loss=0.1639, Valid R2=0.6302, Valid MAE=0.3240]\n",
            "Epoch  8: 100%|██████████| 2607/2607 [02:06<00:00, 20.58it/s, Train Loss=0.8045, Valid Loss=0.2718, Valid R2=0.3868, Valid MAE=0.4058]\n",
            "Epoch  9: 100%|██████████| 2607/2607 [02:07<00:00, 20.52it/s, Train Loss=0.7868, Valid Loss=0.2688, Valid R2=0.3936, Valid MAE=0.4057]\n",
            "Epoch 10: 100%|██████████| 2607/2607 [02:04<00:00, 20.90it/s, Train Loss=0.7682, Valid Loss=0.2002, Valid R2=0.5483, Valid MAE=0.3641]\n",
            "Epoch 11: 100%|██████████| 2607/2607 [02:05<00:00, 20.74it/s, Train Loss=0.7640, Valid Loss=0.2468, Valid R2=0.4432, Valid MAE=0.3773]\n"
          ]
        },
        {
          "name": "stdout",
          "output_type": "stream",
          "text": [
            "Early Stopped\n",
            "Setting  40 of Parameters Grid is now on progres.\n"
          ]
        },
        {
          "name": "stderr",
          "output_type": "stream",
          "text": [
            "Epoch  0: 100%|██████████| 2607/2607 [01:34<00:00, 27.48it/s, Train Loss=2.0316, Valid Loss=0.2705, Valid R2=0.3897, Valid MAE=0.4161]\n",
            "Epoch  1: 100%|██████████| 2607/2607 [01:34<00:00, 27.58it/s, Train Loss=1.0112, Valid Loss=0.3112, Valid R2=0.2978, Valid MAE=0.4224]\n",
            "Epoch  2: 100%|██████████| 2607/2607 [01:34<00:00, 27.50it/s, Train Loss=0.9374, Valid Loss=0.2273, Valid R2=0.4870, Valid MAE=0.3786]\n",
            "Epoch  3: 100%|██████████| 2607/2607 [01:35<00:00, 27.39it/s, Train Loss=0.8951, Valid Loss=0.2369, Valid R2=0.4654, Valid MAE=0.3804]\n",
            "Epoch  4: 100%|██████████| 2607/2607 [01:35<00:00, 27.43it/s, Train Loss=0.8676, Valid Loss=0.1452, Valid R2=0.6723, Valid MAE=0.3140]\n",
            "Epoch  5: 100%|██████████| 2607/2607 [01:34<00:00, 27.65it/s, Train Loss=0.8424, Valid Loss=0.1620, Valid R2=0.6345, Valid MAE=0.3113]\n",
            "Epoch  6: 100%|██████████| 2607/2607 [01:34<00:00, 27.58it/s, Train Loss=0.8323, Valid Loss=0.1986, Valid R2=0.5519, Valid MAE=0.3489]\n",
            "Epoch  7: 100%|██████████| 2607/2607 [01:34<00:00, 27.49it/s, Train Loss=0.8146, Valid Loss=0.1952, Valid R2=0.5596, Valid MAE=0.3520]\n",
            "Epoch  8: 100%|██████████| 2607/2607 [01:34<00:00, 27.51it/s, Train Loss=0.7963, Valid Loss=0.1654, Valid R2=0.6268, Valid MAE=0.3105]\n"
          ]
        },
        {
          "name": "stdout",
          "output_type": "stream",
          "text": [
            "Early Stopped\n",
            "Setting  41 of Parameters Grid is now on progres.\n"
          ]
        },
        {
          "name": "stderr",
          "output_type": "stream",
          "text": [
            "Epoch  0: 100%|██████████| 2607/2607 [01:35<00:00, 27.34it/s, Train Loss=1.7076, Valid Loss=0.1649, Valid R2=0.6279, Valid MAE=0.3353]\n",
            "Epoch  1: 100%|██████████| 2607/2607 [01:34<00:00, 27.64it/s, Train Loss=0.9734, Valid Loss=0.1509, Valid R2=0.6594, Valid MAE=0.3169]\n",
            "Epoch  2: 100%|██████████| 2607/2607 [01:34<00:00, 27.61it/s, Train Loss=0.9085, Valid Loss=0.2027, Valid R2=0.5426, Valid MAE=0.3472]\n",
            "Epoch  3: 100%|██████████| 2607/2607 [01:34<00:00, 27.54it/s, Train Loss=0.8791, Valid Loss=0.2050, Valid R2=0.5375, Valid MAE=0.3700]\n",
            "Epoch  4: 100%|██████████| 2607/2607 [01:35<00:00, 27.41it/s, Train Loss=0.8538, Valid Loss=0.1650, Valid R2=0.6277, Valid MAE=0.3186]\n",
            "Epoch  5: 100%|██████████| 2607/2607 [01:34<00:00, 27.49it/s, Train Loss=0.8328, Valid Loss=0.2419, Valid R2=0.4542, Valid MAE=0.3709]\n"
          ]
        },
        {
          "name": "stdout",
          "output_type": "stream",
          "text": [
            "Early Stopped\n",
            "Setting  42 of Parameters Grid is now on progres.\n"
          ]
        },
        {
          "name": "stderr",
          "output_type": "stream",
          "text": [
            "Epoch  0: 100%|██████████| 2607/2607 [01:34<00:00, 27.56it/s, Train Loss=1.8748, Valid Loss=0.1921, Valid R2=0.5665, Valid MAE=0.3228]\n",
            "Epoch  1: 100%|██████████| 2607/2607 [01:34<00:00, 27.64it/s, Train Loss=0.9756, Valid Loss=0.1935, Valid R2=0.5634, Valid MAE=0.3291]\n",
            "Epoch  2: 100%|██████████| 2607/2607 [01:34<00:00, 27.68it/s, Train Loss=0.9192, Valid Loss=0.3240, Valid R2=0.2689, Valid MAE=0.4260]\n",
            "Epoch  3: 100%|██████████| 2607/2607 [01:34<00:00, 27.60it/s, Train Loss=0.8903, Valid Loss=0.1973, Valid R2=0.5548, Valid MAE=0.3368]\n",
            "Epoch  4: 100%|██████████| 2607/2607 [01:34<00:00, 27.60it/s, Train Loss=0.8603, Valid Loss=0.1375, Valid R2=0.6898, Valid MAE=0.2993]\n",
            "Epoch  5: 100%|██████████| 2607/2607 [01:34<00:00, 27.47it/s, Train Loss=0.8418, Valid Loss=0.1790, Valid R2=0.5961, Valid MAE=0.3199]\n",
            "Epoch  6: 100%|██████████| 2607/2607 [01:34<00:00, 27.57it/s, Train Loss=0.8271, Valid Loss=0.1749, Valid R2=0.6054, Valid MAE=0.3149]\n",
            "Epoch  7: 100%|██████████| 2607/2607 [01:34<00:00, 27.65it/s, Train Loss=0.8120, Valid Loss=0.2082, Valid R2=0.5302, Valid MAE=0.3474]\n",
            "Epoch  8: 100%|██████████| 2607/2607 [01:34<00:00, 27.53it/s, Train Loss=0.7962, Valid Loss=0.2051, Valid R2=0.5372, Valid MAE=0.3535]\n"
          ]
        },
        {
          "name": "stdout",
          "output_type": "stream",
          "text": [
            "Early Stopped\n",
            "Setting  43 of Parameters Grid is now on progres.\n"
          ]
        },
        {
          "name": "stderr",
          "output_type": "stream",
          "text": [
            "Epoch  0: 100%|██████████| 2607/2607 [01:34<00:00, 27.52it/s, Train Loss=1.9333, Valid Loss=0.3312, Valid R2=0.2528, Valid MAE=0.4673]\n",
            "Epoch  1: 100%|██████████| 2607/2607 [01:34<00:00, 27.71it/s, Train Loss=0.9609, Valid Loss=0.2753, Valid R2=0.3788, Valid MAE=0.4149]\n",
            "Epoch  2: 100%|██████████| 2607/2607 [01:34<00:00, 27.46it/s, Train Loss=0.9350, Valid Loss=0.2369, Valid R2=0.4654, Valid MAE=0.3865]\n",
            "Epoch  3: 100%|██████████| 2607/2607 [01:34<00:00, 27.58it/s, Train Loss=0.8953, Valid Loss=0.2861, Valid R2=0.3545, Valid MAE=0.4349]\n",
            "Epoch  4: 100%|██████████| 2607/2607 [01:34<00:00, 27.53it/s, Train Loss=0.8730, Valid Loss=0.2243, Valid R2=0.4938, Valid MAE=0.3940]\n",
            "Epoch  5: 100%|██████████| 2607/2607 [01:34<00:00, 27.61it/s, Train Loss=0.8662, Valid Loss=0.2084, Valid R2=0.5297, Valid MAE=0.3759]\n",
            "Epoch  6: 100%|██████████| 2607/2607 [01:34<00:00, 27.62it/s, Train Loss=0.8438, Valid Loss=0.1671, Valid R2=0.6229, Valid MAE=0.3283]\n",
            "Epoch  7: 100%|██████████| 2607/2607 [01:34<00:00, 27.55it/s, Train Loss=0.8363, Valid Loss=0.2031, Valid R2=0.5417, Valid MAE=0.3643]\n",
            "Epoch  8: 100%|██████████| 2607/2607 [01:34<00:00, 27.58it/s, Train Loss=0.8158, Valid Loss=0.3202, Valid R2=0.2775, Valid MAE=0.4688]\n",
            "Epoch  9: 100%|██████████| 2607/2607 [01:34<00:00, 27.48it/s, Train Loss=0.8000, Valid Loss=0.3036, Valid R2=0.3149, Valid MAE=0.4553]\n",
            "Epoch 10: 100%|██████████| 2607/2607 [01:34<00:00, 27.64it/s, Train Loss=0.7925, Valid Loss=0.2464, Valid R2=0.4440, Valid MAE=0.4092]\n"
          ]
        },
        {
          "name": "stdout",
          "output_type": "stream",
          "text": [
            "Early Stopped\n",
            "Setting  44 of Parameters Grid is now on progres.\n"
          ]
        },
        {
          "name": "stderr",
          "output_type": "stream",
          "text": [
            "Epoch  0: 100%|██████████| 2607/2607 [01:38<00:00, 26.49it/s, Train Loss=2.0070, Valid Loss=0.3352, Valid R2=0.2436, Valid MAE=0.4645]\n",
            "Epoch  1: 100%|██████████| 2607/2607 [01:38<00:00, 26.39it/s, Train Loss=0.9963, Valid Loss=0.1710, Valid R2=0.6142, Valid MAE=0.3393]\n",
            "Epoch  2: 100%|██████████| 2607/2607 [01:37<00:00, 26.83it/s, Train Loss=0.9273, Valid Loss=0.2152, Valid R2=0.5144, Valid MAE=0.3807]\n",
            "Epoch  3: 100%|██████████| 2607/2607 [01:37<00:00, 26.67it/s, Train Loss=0.9005, Valid Loss=0.2154, Valid R2=0.5139, Valid MAE=0.3621]\n",
            "Epoch  4: 100%|██████████| 2607/2607 [01:38<00:00, 26.47it/s, Train Loss=0.8834, Valid Loss=0.2386, Valid R2=0.4617, Valid MAE=0.3893]\n",
            "Epoch  5: 100%|██████████| 2607/2607 [01:38<00:00, 26.53it/s, Train Loss=0.8591, Valid Loss=0.1390, Valid R2=0.6863, Valid MAE=0.2838]\n",
            "Epoch  6: 100%|██████████| 2607/2607 [01:38<00:00, 26.58it/s, Train Loss=0.8368, Valid Loss=0.2314, Valid R2=0.4778, Valid MAE=0.3833]\n",
            "Epoch  7: 100%|██████████| 2607/2607 [01:38<00:00, 26.36it/s, Train Loss=0.8270, Valid Loss=0.1924, Valid R2=0.5658, Valid MAE=0.3622]\n",
            "Epoch  8: 100%|██████████| 2607/2607 [01:38<00:00, 26.58it/s, Train Loss=0.8130, Valid Loss=0.2322, Valid R2=0.4761, Valid MAE=0.3721]\n",
            "Epoch  9: 100%|██████████| 2607/2607 [01:38<00:00, 26.52it/s, Train Loss=0.8090, Valid Loss=0.1585, Valid R2=0.6424, Valid MAE=0.3301]\n"
          ]
        },
        {
          "name": "stdout",
          "output_type": "stream",
          "text": [
            "Early Stopped\n",
            "Setting  45 of Parameters Grid is now on progres.\n"
          ]
        },
        {
          "name": "stderr",
          "output_type": "stream",
          "text": [
            "Epoch  0: 100%|██████████| 2607/2607 [01:39<00:00, 26.28it/s, Train Loss=1.9282, Valid Loss=0.4461, Valid R2=-0.0065, Valid MAE=0.5210]\n",
            "Epoch  1: 100%|██████████| 2607/2607 [01:38<00:00, 26.58it/s, Train Loss=0.9677, Valid Loss=0.1833, Valid R2=0.5863, Valid MAE=0.3234]\n",
            "Epoch  2: 100%|██████████| 2607/2607 [01:38<00:00, 26.55it/s, Train Loss=0.9291, Valid Loss=0.1994, Valid R2=0.5502, Valid MAE=0.3548]\n",
            "Epoch  3: 100%|██████████| 2607/2607 [01:39<00:00, 26.33it/s, Train Loss=0.8912, Valid Loss=0.2186, Valid R2=0.5067, Valid MAE=0.3633]\n",
            "Epoch  4: 100%|██████████| 2607/2607 [01:38<00:00, 26.39it/s, Train Loss=0.8805, Valid Loss=0.1529, Valid R2=0.6551, Valid MAE=0.3083]\n",
            "Epoch  5: 100%|██████████| 2607/2607 [01:38<00:00, 26.45it/s, Train Loss=0.8648, Valid Loss=0.1738, Valid R2=0.6077, Valid MAE=0.3272]\n",
            "Epoch  6: 100%|██████████| 2607/2607 [01:38<00:00, 26.47it/s, Train Loss=0.8465, Valid Loss=0.1616, Valid R2=0.6354, Valid MAE=0.3185]\n",
            "Epoch  7: 100%|██████████| 2607/2607 [01:38<00:00, 26.46it/s, Train Loss=0.8316, Valid Loss=0.1878, Valid R2=0.5763, Valid MAE=0.3431]\n",
            "Epoch  8: 100%|██████████| 2607/2607 [01:39<00:00, 26.32it/s, Train Loss=0.8142, Valid Loss=0.2579, Valid R2=0.4180, Valid MAE=0.3919]\n"
          ]
        },
        {
          "name": "stdout",
          "output_type": "stream",
          "text": [
            "Early Stopped\n",
            "Setting  46 of Parameters Grid is now on progres.\n"
          ]
        },
        {
          "name": "stderr",
          "output_type": "stream",
          "text": [
            "Epoch  0: 100%|██████████| 2607/2607 [01:38<00:00, 26.45it/s, Train Loss=1.7422, Valid Loss=0.3429, Valid R2=0.2262, Valid MAE=0.4651]\n",
            "Epoch  1: 100%|██████████| 2607/2607 [01:38<00:00, 26.45it/s, Train Loss=0.9500, Valid Loss=0.2261, Valid R2=0.4898, Valid MAE=0.3897]\n",
            "Epoch  2: 100%|██████████| 2607/2607 [01:38<00:00, 26.53it/s, Train Loss=0.8903, Valid Loss=0.1892, Valid R2=0.5731, Valid MAE=0.3107]\n",
            "Epoch  3: 100%|██████████| 2607/2607 [01:37<00:00, 26.73it/s, Train Loss=0.8730, Valid Loss=0.2297, Valid R2=0.4818, Valid MAE=0.3846]\n",
            "Epoch  4: 100%|██████████| 2607/2607 [01:37<00:00, 26.65it/s, Train Loss=0.8459, Valid Loss=0.2468, Valid R2=0.4430, Valid MAE=0.4010]\n",
            "Epoch  5: 100%|██████████| 2607/2607 [01:38<00:00, 26.60it/s, Train Loss=0.8242, Valid Loss=0.2050, Valid R2=0.5374, Valid MAE=0.3606]\n",
            "Epoch  6: 100%|██████████| 2607/2607 [01:38<00:00, 26.42it/s, Train Loss=0.8114, Valid Loss=0.2261, Valid R2=0.4899, Valid MAE=0.3737]\n"
          ]
        },
        {
          "name": "stdout",
          "output_type": "stream",
          "text": [
            "Early Stopped\n",
            "Setting  47 of Parameters Grid is now on progres.\n"
          ]
        },
        {
          "name": "stderr",
          "output_type": "stream",
          "text": [
            "Epoch  0: 100%|██████████| 2607/2607 [01:37<00:00, 26.60it/s, Train Loss=1.8548, Valid Loss=0.3131, Valid R2=0.2935, Valid MAE=0.4331]\n",
            "Epoch  1: 100%|██████████| 2607/2607 [01:38<00:00, 26.41it/s, Train Loss=0.9518, Valid Loss=0.2226, Valid R2=0.4978, Valid MAE=0.3976]\n",
            "Epoch  2: 100%|██████████| 2607/2607 [01:38<00:00, 26.49it/s, Train Loss=0.9005, Valid Loss=0.2354, Valid R2=0.4689, Valid MAE=0.3924]\n",
            "Epoch  3: 100%|██████████| 2607/2607 [01:38<00:00, 26.44it/s, Train Loss=0.8623, Valid Loss=0.2919, Valid R2=0.3413, Valid MAE=0.4393]\n",
            "Epoch  4: 100%|██████████| 2607/2607 [01:38<00:00, 26.39it/s, Train Loss=0.8431, Valid Loss=0.3047, Valid R2=0.3124, Valid MAE=0.4383]\n",
            "Epoch  5: 100%|██████████| 2607/2607 [01:37<00:00, 26.70it/s, Train Loss=0.8274, Valid Loss=0.2552, Valid R2=0.4242, Valid MAE=0.4069]\n"
          ]
        },
        {
          "name": "stdout",
          "output_type": "stream",
          "text": [
            "Early Stopped\n"
          ]
        }
      ],
      "source": [
        "basic_params = {\n",
        "    'T': 60,\n",
        "    'n': 40\n",
        "}\n",
        "\n",
        "param_grid = {\n",
        "    'm': [32, 40],\n",
        "    'cnn_kernel_height': [10, 20, 30],\n",
        "    'cnn_hidden_size': [32, 40],\n",
        "    'skip_hidden_size': [32, 40],\n",
        "    'skip': [8, 10]\n",
        "}\n",
        "\n",
        "grid_model1 = GridSearch(criterion, eval_metrics, device, temp_save_path='checkpoints/model_by_param/temp_model_123.pt', masked=False)\n",
        "model_name = 'model1'\n",
        "best_model1 = grid_model1.train_by_grid(\n",
        "        Model1, basic_params, param_grid,\n",
        "        torch.optim.Adam, train_loader, val_loader,\n",
        "        patience=3, epochs=20,\n",
        "        save_filename=f'checkpoints/{model_name}_best.pt'\n",
        "    )"
      ]
    },
    {
      "cell_type": "code",
      "execution_count": 7,
      "metadata": {},
      "outputs": [
        {
          "name": "stdout",
          "output_type": "stream",
          "text": [
            "Test Loss: 0.1870 | Test R2: 0.8984 | Test MAE: 0.3569\n",
            "Saving Process Complete. Directory: model1_losses.png\n"
          ]
        },
        {
          "data": {
            "image/png": "[encoded data removed]",
            "text/plain": [
              "<Figure size 700x500 with 1 Axes>"
            ]
          },
          "metadata": {},
          "output_type": "display_data"
        }
      ],
      "source": [
        "grid_model1.test(test_loader)\n",
        "grid_model1.plot_losses(plot_title=f'{model_name}', save_filename=f'{model_name}_losses.png')"
      ]
    }
  ],
  "metadata": {
    "accelerator": "GPU",
    "colab": {
      "provenance": []
    },
    "kernelspec": {
      "display_name": "Python 3.9.13 ('kwon_dl')",
      "language": "python",
      "name": "python3"
    },
    "language_info": {
      "codemirror_mode": {
        "name": "ipython",
        "version": 3
      },
      "file_extension": ".py",
      "mimetype": "text/x-python",
      "name": "python",
      "nbconvert_exporter": "python",
      "pygments_lexer": "ipython3",
      "version": "3.9.13 (main, Aug 25 2022, 23:26:10) \n[GCC 11.2.0]"
    },
    "vscode": {
      "interpreter": {
        "hash": "7aba8400f5793028c76b760b8f218e34a1395ac8226b95289931317412384abc"
      }
    }
  },
  "nbformat": 4,
  "nbformat_minor": 0
}
