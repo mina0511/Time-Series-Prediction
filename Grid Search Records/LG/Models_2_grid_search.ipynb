{
  "cells": [
    {
      "cell_type": "code",
      "execution_count": 1,
      "metadata": {
        "colab": {
          "base_uri": "https://localhost:8080/"
        },
        "id": "_5bOKo4qawlz",
        "outputId": "7b5c3117-3563-4ae2-ae23-5f31333709fe"
      },
      "outputs": [],
      "source": [
        "import pandas as pd\n",
        "import numpy as np\n",
        "import pickle\n",
        "\n",
        "from tqdm import tqdm\n",
        "\n",
        "from models import Model1, Model2, Model3\n",
        "from tools import Train, validation, GridSearch"
      ]
    },
    {
      "cell_type": "code",
      "execution_count": 2,
      "metadata": {
        "id": "Qwjr4b4Xjgmz"
      },
      "outputs": [],
      "source": [
        "import torch\n",
        "from torch import nn\n",
        "from torch.nn import functional as F\n",
        "from torch.utils.data import Dataset, DataLoader\n",
        "device = torch.device('cuda:1') if torch.cuda.is_available() else torch.device('cpu')\n",
        "\n",
        "from sklearn.metrics import r2_score, mean_absolute_error"
      ]
    },
    {
      "cell_type": "code",
      "execution_count": 3,
      "metadata": {
        "id": "9lI5sP74a3e0"
      },
      "outputs": [],
      "source": [
        "with open('data/train_dataset.pickle', 'rb') as f:\n",
        "    train_dataset = pickle.load(f)\n",
        "\n",
        "with open('data/val_dataset.pickle', 'rb') as f:\n",
        "    val_dataset = pickle.load(f)\n",
        "\n",
        "with open('data/test_dataset.pickle', 'rb') as f:\n",
        "    test_dataset = pickle.load(f)"
      ]
    },
    {
      "cell_type": "code",
      "execution_count": 4,
      "metadata": {
        "colab": {
          "base_uri": "https://localhost:8080/"
        },
        "id": "WDjR30F6kMgI",
        "outputId": "4368b402-852a-48f5-f857-0027652296e8"
      },
      "outputs": [],
      "source": [
        "train_loader = DataLoader(train_dataset, batch_size = 16, shuffle = True)\n",
        "val_loader = DataLoader(val_dataset, batch_size = 64, shuffle = False)\n",
        "test_loader = DataLoader(test_dataset, batch_size=64, shuffle=False)"
      ]
    },
    {
      "cell_type": "code",
      "execution_count": 5,
      "metadata": {},
      "outputs": [],
      "source": [
        "criterion = nn.MSELoss()\n",
        "eval_metrics = [\n",
        "    r2_score,\n",
        "    mean_absolute_error\n",
        "]"
      ]
    },
    {
      "attachments": {},
      "cell_type": "markdown",
      "metadata": {},
      "source": [
        "# Model 2"
      ]
    },
    {
      "cell_type": "code",
      "execution_count": 6,
      "metadata": {},
      "outputs": [
        {
          "name": "stdout",
          "output_type": "stream",
          "text": [
            "Total  16 cases are going to be searched.\n",
            "Setting   0 of Parameters Grid is now on progres.\n"
          ]
        },
        {
          "name": "stderr",
          "output_type": "stream",
          "text": [
            "Epoch  0: 100%|██████████| 2607/2607 [02:38<00:00, 16.44it/s, Train Loss=2.4952, Valid Loss=0.3965, Valid R2=0.1053, Valid MAE=0.4654]\n",
            "Epoch  1: 100%|██████████| 2607/2607 [02:38<00:00, 16.48it/s, Train Loss=0.7774, Valid Loss=0.4088, Valid R2=0.0775, Valid MAE=0.4911]\n",
            "Epoch  2: 100%|██████████| 2607/2607 [02:38<00:00, 16.48it/s, Train Loss=0.7259, Valid Loss=0.3385, Valid R2=0.2363, Valid MAE=0.4588]\n",
            "Epoch  3: 100%|██████████| 2607/2607 [02:37<00:00, 16.51it/s, Train Loss=0.6923, Valid Loss=0.3015, Valid R2=0.3197, Valid MAE=0.4368]\n",
            "Epoch  4: 100%|██████████| 2607/2607 [02:37<00:00, 16.57it/s, Train Loss=0.6764, Valid Loss=0.3218, Valid R2=0.2740, Valid MAE=0.4601]\n",
            "Epoch  5: 100%|██████████| 2607/2607 [02:36<00:00, 16.68it/s, Train Loss=0.6613, Valid Loss=0.2510, Valid R2=0.4337, Valid MAE=0.4068]\n",
            "Epoch  6: 100%|██████████| 2607/2607 [02:37<00:00, 16.59it/s, Train Loss=0.6515, Valid Loss=0.2516, Valid R2=0.4324, Valid MAE=0.4078]\n",
            "Epoch  7: 100%|██████████| 2607/2607 [02:36<00:00, 16.63it/s, Train Loss=0.6432, Valid Loss=0.2591, Valid R2=0.4154, Valid MAE=0.4184]\n",
            "Epoch  8: 100%|██████████| 2607/2607 [02:38<00:00, 16.47it/s, Train Loss=0.6344, Valid Loss=0.2188, Valid R2=0.5064, Valid MAE=0.3803]\n",
            "Epoch  9: 100%|██████████| 2607/2607 [02:36<00:00, 16.64it/s, Train Loss=0.6319, Valid Loss=0.3217, Valid R2=0.2740, Valid MAE=0.4591]\n",
            "Epoch 10: 100%|██████████| 2607/2607 [02:37<00:00, 16.58it/s, Train Loss=0.6265, Valid Loss=0.2424, Valid R2=0.4531, Valid MAE=0.3992]\n",
            "Epoch 11: 100%|██████████| 2607/2607 [02:39<00:00, 16.38it/s, Train Loss=0.6240, Valid Loss=0.2385, Valid R2=0.4620, Valid MAE=0.3961]\n",
            "Epoch 12: 100%|██████████| 2607/2607 [02:37<00:00, 16.50it/s, Train Loss=0.6159, Valid Loss=0.2213, Valid R2=0.5007, Valid MAE=0.3869]\n"
          ]
        },
        {
          "name": "stdout",
          "output_type": "stream",
          "text": [
            "Early Stopped\n",
            "Setting   1 of Parameters Grid is now on progres.\n"
          ]
        },
        {
          "name": "stderr",
          "output_type": "stream",
          "text": [
            "Epoch  0: 100%|██████████| 2607/2607 [02:36<00:00, 16.63it/s, Train Loss=2.7322, Valid Loss=0.4118, Valid R2=0.0708, Valid MAE=0.4696]\n",
            "Epoch  1: 100%|██████████| 2607/2607 [02:38<00:00, 16.42it/s, Train Loss=0.7766, Valid Loss=0.3263, Valid R2=0.2638, Valid MAE=0.4286]\n",
            "Epoch  2: 100%|██████████| 2607/2607 [02:37<00:00, 16.52it/s, Train Loss=0.7131, Valid Loss=0.2988, Valid R2=0.3259, Valid MAE=0.4175]\n",
            "Epoch  3: 100%|██████████| 2607/2607 [02:37<00:00, 16.58it/s, Train Loss=0.6838, Valid Loss=0.2645, Valid R2=0.4032, Valid MAE=0.3934]\n",
            "Epoch  4: 100%|██████████| 2607/2607 [02:37<00:00, 16.56it/s, Train Loss=0.6613, Valid Loss=0.2445, Valid R2=0.4482, Valid MAE=0.3856]\n",
            "Epoch  5: 100%|██████████| 2607/2607 [02:37<00:00, 16.50it/s, Train Loss=0.6455, Valid Loss=0.2101, Valid R2=0.5259, Valid MAE=0.3613]\n",
            "Epoch  6: 100%|██████████| 2607/2607 [02:37<00:00, 16.60it/s, Train Loss=0.6369, Valid Loss=0.2718, Valid R2=0.3866, Valid MAE=0.4058]\n",
            "Epoch  7: 100%|██████████| 2607/2607 [02:38<00:00, 16.43it/s, Train Loss=0.6257, Valid Loss=0.2507, Valid R2=0.4344, Valid MAE=0.3932]\n",
            "Epoch  8: 100%|██████████| 2607/2607 [02:38<00:00, 16.42it/s, Train Loss=0.6174, Valid Loss=0.2203, Valid R2=0.5030, Valid MAE=0.3774]\n",
            "Epoch  9: 100%|██████████| 2607/2607 [02:37<00:00, 16.59it/s, Train Loss=0.6076, Valid Loss=0.1982, Valid R2=0.5528, Valid MAE=0.3653]\n",
            "Epoch 10: 100%|██████████| 2607/2607 [02:36<00:00, 16.64it/s, Train Loss=0.6042, Valid Loss=0.2045, Valid R2=0.5385, Valid MAE=0.3686]\n",
            "Epoch 11: 100%|██████████| 2607/2607 [02:38<00:00, 16.43it/s, Train Loss=0.5953, Valid Loss=0.1637, Valid R2=0.6306, Valid MAE=0.3374]\n",
            "Epoch 12: 100%|██████████| 2607/2607 [02:37<00:00, 16.55it/s, Train Loss=0.5929, Valid Loss=0.1970, Valid R2=0.5555, Valid MAE=0.3615]\n",
            "Epoch 13: 100%|██████████| 2607/2607 [02:39<00:00, 16.39it/s, Train Loss=0.5822, Valid Loss=0.2063, Valid R2=0.5346, Valid MAE=0.3722]\n",
            "Epoch 14: 100%|██████████| 2607/2607 [02:37<00:00, 16.51it/s, Train Loss=0.5744, Valid Loss=0.2002, Valid R2=0.5483, Valid MAE=0.3574]\n",
            "Epoch 15: 100%|██████████| 2607/2607 [02:38<00:00, 16.41it/s, Train Loss=0.5676, Valid Loss=0.2403, Valid R2=0.4578, Valid MAE=0.3780]\n"
          ]
        },
        {
          "name": "stdout",
          "output_type": "stream",
          "text": [
            "Early Stopped\n",
            "Setting   2 of Parameters Grid is now on progres.\n"
          ]
        },
        {
          "name": "stderr",
          "output_type": "stream",
          "text": [
            "Epoch  0: 100%|██████████| 2607/2607 [02:37<00:00, 16.60it/s, Train Loss=2.4767, Valid Loss=0.4223, Valid R2=0.0472, Valid MAE=0.4896]\n",
            "Epoch  1: 100%|██████████| 2607/2607 [02:39<00:00, 16.33it/s, Train Loss=0.7949, Valid Loss=0.3066, Valid R2=0.3082, Valid MAE=0.4163]\n",
            "Epoch  2: 100%|██████████| 2607/2607 [02:37<00:00, 16.57it/s, Train Loss=0.7231, Valid Loss=0.2785, Valid R2=0.3717, Valid MAE=0.4103]\n",
            "Epoch  3: 100%|██████████| 2607/2607 [02:38<00:00, 16.46it/s, Train Loss=0.6820, Valid Loss=0.1792, Valid R2=0.5958, Valid MAE=0.3376]\n",
            "Epoch  4: 100%|██████████| 2607/2607 [02:37<00:00, 16.54it/s, Train Loss=0.6647, Valid Loss=0.2128, Valid R2=0.5197, Valid MAE=0.3703]\n",
            "Epoch  5: 100%|██████████| 2607/2607 [02:37<00:00, 16.54it/s, Train Loss=0.6511, Valid Loss=0.2301, Valid R2=0.4809, Valid MAE=0.3839]\n",
            "Epoch  6: 100%|██████████| 2607/2607 [02:40<00:00, 16.29it/s, Train Loss=0.6394, Valid Loss=0.1638, Valid R2=0.6304, Valid MAE=0.3259]\n",
            "Epoch  7: 100%|██████████| 2607/2607 [02:38<00:00, 16.50it/s, Train Loss=0.6282, Valid Loss=0.1748, Valid R2=0.6056, Valid MAE=0.3350]\n",
            "Epoch  8: 100%|██████████| 2607/2607 [02:36<00:00, 16.69it/s, Train Loss=0.6234, Valid Loss=0.2218, Valid R2=0.4995, Valid MAE=0.3693]\n",
            "Epoch  9: 100%|██████████| 2607/2607 [02:38<00:00, 16.48it/s, Train Loss=0.6161, Valid Loss=0.1566, Valid R2=0.6468, Valid MAE=0.3153]\n",
            "Epoch 10: 100%|██████████| 2607/2607 [02:37<00:00, 16.50it/s, Train Loss=0.6099, Valid Loss=0.1849, Valid R2=0.5828, Valid MAE=0.3355]\n",
            "Epoch 11: 100%|██████████| 2607/2607 [02:36<00:00, 16.65it/s, Train Loss=0.6012, Valid Loss=0.2352, Valid R2=0.4693, Valid MAE=0.3889]\n",
            "Epoch 12: 100%|██████████| 2607/2607 [02:38<00:00, 16.45it/s, Train Loss=0.5976, Valid Loss=0.1580, Valid R2=0.6435, Valid MAE=0.3028]\n",
            "Epoch 13: 100%|██████████| 2607/2607 [02:38<00:00, 16.44it/s, Train Loss=0.5843, Valid Loss=0.1578, Valid R2=0.6439, Valid MAE=0.3069]\n"
          ]
        },
        {
          "name": "stdout",
          "output_type": "stream",
          "text": [
            "Early Stopped\n",
            "Setting   3 of Parameters Grid is now on progres.\n"
          ]
        },
        {
          "name": "stderr",
          "output_type": "stream",
          "text": [
            "Epoch  0: 100%|██████████| 2607/2607 [02:37<00:00, 16.55it/s, Train Loss=2.5190, Valid Loss=0.4622, Valid R2=-0.0429, Valid MAE=0.5268]\n",
            "Epoch  1: 100%|██████████| 2607/2607 [02:38<00:00, 16.50it/s, Train Loss=0.7696, Valid Loss=0.2368, Valid R2=0.4656, Valid MAE=0.3834]\n",
            "Epoch  2: 100%|██████████| 2607/2607 [02:36<00:00, 16.63it/s, Train Loss=0.7212, Valid Loss=0.3293, Valid R2=0.2569, Valid MAE=0.4595]\n",
            "Epoch  3: 100%|██████████| 2607/2607 [02:35<00:00, 16.80it/s, Train Loss=0.6882, Valid Loss=0.2275, Valid R2=0.4867, Valid MAE=0.3854]\n",
            "Epoch  4: 100%|██████████| 2607/2607 [02:37<00:00, 16.55it/s, Train Loss=0.6686, Valid Loss=0.2265, Valid R2=0.4890, Valid MAE=0.3852]\n",
            "Epoch  5: 100%|██████████| 2607/2607 [02:36<00:00, 16.61it/s, Train Loss=0.6539, Valid Loss=0.1892, Valid R2=0.5730, Valid MAE=0.3593]\n",
            "Epoch  6: 100%|██████████| 2607/2607 [02:37<00:00, 16.56it/s, Train Loss=0.6425, Valid Loss=0.2035, Valid R2=0.5408, Valid MAE=0.3747]\n",
            "Epoch  7: 100%|██████████| 2607/2607 [02:37<00:00, 16.53it/s, Train Loss=0.6315, Valid Loss=0.2278, Valid R2=0.4859, Valid MAE=0.3930]\n",
            "Epoch  8: 100%|██████████| 2607/2607 [02:36<00:00, 16.61it/s, Train Loss=0.6220, Valid Loss=0.2121, Valid R2=0.5213, Valid MAE=0.3623]\n",
            "Epoch  9: 100%|██████████| 2607/2607 [02:37<00:00, 16.52it/s, Train Loss=0.6102, Valid Loss=0.1966, Valid R2=0.5564, Valid MAE=0.3572]\n"
          ]
        },
        {
          "name": "stdout",
          "output_type": "stream",
          "text": [
            "Early Stopped\n",
            "Setting   4 of Parameters Grid is now on progres.\n"
          ]
        },
        {
          "name": "stderr",
          "output_type": "stream",
          "text": [
            "Epoch  0: 100%|██████████| 2607/2607 [02:36<00:00, 16.67it/s, Train Loss=2.3427, Valid Loss=0.2940, Valid R2=0.3366, Valid MAE=0.4134]\n",
            "Epoch  1: 100%|██████████| 2607/2607 [02:37<00:00, 16.52it/s, Train Loss=0.7465, Valid Loss=0.2599, Valid R2=0.4135, Valid MAE=0.3930]\n",
            "Epoch  2: 100%|██████████| 2607/2607 [02:36<00:00, 16.65it/s, Train Loss=0.6952, Valid Loss=0.3170, Valid R2=0.2847, Valid MAE=0.4412]\n",
            "Epoch  3: 100%|██████████| 2607/2607 [02:37<00:00, 16.52it/s, Train Loss=0.6637, Valid Loss=0.2242, Valid R2=0.4941, Valid MAE=0.3732]\n",
            "Epoch  4: 100%|██████████| 2607/2607 [02:38<00:00, 16.49it/s, Train Loss=0.6482, Valid Loss=0.2039, Valid R2=0.5400, Valid MAE=0.3592]\n",
            "Epoch  5: 100%|██████████| 2607/2607 [02:38<00:00, 16.47it/s, Train Loss=0.6348, Valid Loss=0.1875, Valid R2=0.5770, Valid MAE=0.3481]\n",
            "Epoch  6: 100%|██████████| 2607/2607 [02:38<00:00, 16.48it/s, Train Loss=0.6215, Valid Loss=0.1840, Valid R2=0.5848, Valid MAE=0.3431]\n",
            "Epoch  7: 100%|██████████| 2607/2607 [02:37<00:00, 16.57it/s, Train Loss=0.6162, Valid Loss=0.2189, Valid R2=0.5061, Valid MAE=0.3755]\n",
            "Epoch  8: 100%|██████████| 2607/2607 [02:37<00:00, 16.56it/s, Train Loss=0.6086, Valid Loss=0.2364, Valid R2=0.4666, Valid MAE=0.3910]\n",
            "Epoch  9: 100%|██████████| 2607/2607 [02:37<00:00, 16.53it/s, Train Loss=0.5996, Valid Loss=0.2214, Valid R2=0.5004, Valid MAE=0.3700]\n",
            "Epoch 10: 100%|██████████| 2607/2607 [02:37<00:00, 16.61it/s, Train Loss=0.5871, Valid Loss=0.2473, Valid R2=0.4420, Valid MAE=0.3848]\n"
          ]
        },
        {
          "name": "stdout",
          "output_type": "stream",
          "text": [
            "Early Stopped\n",
            "Setting   5 of Parameters Grid is now on progres.\n"
          ]
        },
        {
          "name": "stderr",
          "output_type": "stream",
          "text": [
            "Epoch  0: 100%|██████████| 2607/2607 [02:37<00:00, 16.54it/s, Train Loss=2.6920, Valid Loss=0.4149, Valid R2=0.0638, Valid MAE=0.4924]\n",
            "Epoch  1: 100%|██████████| 2607/2607 [02:37<00:00, 16.50it/s, Train Loss=0.7484, Valid Loss=0.4104, Valid R2=0.0739, Valid MAE=0.5045]\n",
            "Epoch  2: 100%|██████████| 2607/2607 [02:37<00:00, 16.52it/s, Train Loss=0.7006, Valid Loss=0.3088, Valid R2=0.3032, Valid MAE=0.4482]\n",
            "Epoch  3: 100%|██████████| 2607/2607 [02:37<00:00, 16.52it/s, Train Loss=0.6748, Valid Loss=0.2611, Valid R2=0.4109, Valid MAE=0.4141]\n",
            "Epoch  4: 100%|██████████| 2607/2607 [02:37<00:00, 16.60it/s, Train Loss=0.6595, Valid Loss=0.2517, Valid R2=0.4320, Valid MAE=0.4077]\n",
            "Epoch  5: 100%|██████████| 2607/2607 [02:37<00:00, 16.60it/s, Train Loss=0.6453, Valid Loss=0.2620, Valid R2=0.4087, Valid MAE=0.4156]\n",
            "Epoch  6: 100%|██████████| 2607/2607 [02:37<00:00, 16.55it/s, Train Loss=0.6368, Valid Loss=0.2400, Valid R2=0.4584, Valid MAE=0.3987]\n",
            "Epoch  7: 100%|██████████| 2607/2607 [02:38<00:00, 16.47it/s, Train Loss=0.6270, Valid Loss=0.2566, Valid R2=0.4209, Valid MAE=0.4109]\n",
            "Epoch  8: 100%|██████████| 2607/2607 [02:38<00:00, 16.46it/s, Train Loss=0.6219, Valid Loss=0.2716, Valid R2=0.3873, Valid MAE=0.4214]\n",
            "Epoch  9: 100%|██████████| 2607/2607 [02:37<00:00, 16.55it/s, Train Loss=0.6168, Valid Loss=0.2209, Valid R2=0.5015, Valid MAE=0.3785]\n",
            "Epoch 10: 100%|██████████| 2607/2607 [02:37<00:00, 16.51it/s, Train Loss=0.6094, Valid Loss=0.2294, Valid R2=0.4824, Valid MAE=0.3858]\n",
            "Epoch 11: 100%|██████████| 2607/2607 [02:36<00:00, 16.61it/s, Train Loss=0.6059, Valid Loss=0.2193, Valid R2=0.5051, Valid MAE=0.3742]\n",
            "Epoch 12: 100%|██████████| 2607/2607 [02:36<00:00, 16.64it/s, Train Loss=0.6019, Valid Loss=0.2176, Valid R2=0.5089, Valid MAE=0.3773]\n",
            "Epoch 13: 100%|██████████| 2607/2607 [02:38<00:00, 16.45it/s, Train Loss=0.6004, Valid Loss=0.2169, Valid R2=0.5106, Valid MAE=0.3765]\n",
            "Epoch 14: 100%|██████████| 2607/2607 [02:36<00:00, 16.63it/s, Train Loss=0.5933, Valid Loss=0.2168, Valid R2=0.5107, Valid MAE=0.3769]\n",
            "Epoch 15: 100%|██████████| 2607/2607 [02:36<00:00, 16.64it/s, Train Loss=0.5905, Valid Loss=0.1893, Valid R2=0.5729, Valid MAE=0.3497]\n",
            "Epoch 16: 100%|██████████| 2607/2607 [02:37<00:00, 16.53it/s, Train Loss=0.5867, Valid Loss=0.2041, Valid R2=0.5394, Valid MAE=0.3651]\n",
            "Epoch 17: 100%|██████████| 2607/2607 [02:37<00:00, 16.56it/s, Train Loss=0.5842, Valid Loss=0.2266, Valid R2=0.4887, Valid MAE=0.3846]\n",
            "Epoch 18: 100%|██████████| 2607/2607 [02:35<00:00, 16.74it/s, Train Loss=0.5793, Valid Loss=0.2181, Valid R2=0.5079, Valid MAE=0.3737]\n",
            "Epoch 19: 100%|██████████| 2607/2607 [02:37<00:00, 16.58it/s, Train Loss=0.5758, Valid Loss=0.2531, Valid R2=0.4288, Valid MAE=0.4066]\n"
          ]
        },
        {
          "name": "stdout",
          "output_type": "stream",
          "text": [
            "Early Stopped\n",
            "Setting   6 of Parameters Grid is now on progres.\n"
          ]
        },
        {
          "name": "stderr",
          "output_type": "stream",
          "text": [
            "Epoch  0: 100%|██████████| 2607/2607 [02:35<00:00, 16.78it/s, Train Loss=2.4904, Valid Loss=0.4079, Valid R2=0.0795, Valid MAE=0.5033]\n",
            "Epoch  1: 100%|██████████| 2607/2607 [02:38<00:00, 16.48it/s, Train Loss=0.7329, Valid Loss=0.2788, Valid R2=0.3710, Valid MAE=0.4236]\n",
            "Epoch  2: 100%|██████████| 2607/2607 [02:35<00:00, 16.80it/s, Train Loss=0.6904, Valid Loss=0.2600, Valid R2=0.4134, Valid MAE=0.4024]\n",
            "Epoch  3: 100%|██████████| 2607/2607 [02:36<00:00, 16.61it/s, Train Loss=0.6715, Valid Loss=0.2254, Valid R2=0.4915, Valid MAE=0.3791]\n",
            "Epoch  4: 100%|██████████| 2607/2607 [02:36<00:00, 16.70it/s, Train Loss=0.6559, Valid Loss=0.1895, Valid R2=0.5724, Valid MAE=0.3461]\n",
            "Epoch  5: 100%|██████████| 2607/2607 [02:35<00:00, 16.74it/s, Train Loss=0.6428, Valid Loss=0.1919, Valid R2=0.5670, Valid MAE=0.3514]\n",
            "Epoch  6: 100%|██████████| 2607/2607 [02:35<00:00, 16.79it/s, Train Loss=0.6319, Valid Loss=0.3033, Valid R2=0.3156, Valid MAE=0.4496]\n",
            "Epoch  7: 100%|██████████| 2607/2607 [02:37<00:00, 16.54it/s, Train Loss=0.6235, Valid Loss=0.1916, Valid R2=0.5677, Valid MAE=0.3537]\n",
            "Epoch  8: 100%|██████████| 2607/2607 [02:35<00:00, 16.73it/s, Train Loss=0.6172, Valid Loss=0.2197, Valid R2=0.5044, Valid MAE=0.3802]\n"
          ]
        },
        {
          "name": "stdout",
          "output_type": "stream",
          "text": [
            "Early Stopped\n",
            "Setting   7 of Parameters Grid is now on progres.\n"
          ]
        },
        {
          "name": "stderr",
          "output_type": "stream",
          "text": [
            "Epoch  0: 100%|██████████| 2607/2607 [02:35<00:00, 16.77it/s, Train Loss=2.2885, Valid Loss=0.3028, Valid R2=0.3168, Valid MAE=0.4321]\n",
            "Epoch  1: 100%|██████████| 2607/2607 [02:35<00:00, 16.76it/s, Train Loss=0.7355, Valid Loss=0.2656, Valid R2=0.4007, Valid MAE=0.4056]\n",
            "Epoch  2: 100%|██████████| 2607/2607 [02:35<00:00, 16.78it/s, Train Loss=0.6875, Valid Loss=0.2647, Valid R2=0.4027, Valid MAE=0.4141]\n",
            "Epoch  3: 100%|██████████| 2607/2607 [02:34<00:00, 16.82it/s, Train Loss=0.6612, Valid Loss=0.3189, Valid R2=0.2804, Valid MAE=0.4523]\n",
            "Epoch  4: 100%|██████████| 2607/2607 [02:35<00:00, 16.75it/s, Train Loss=0.6371, Valid Loss=0.2041, Valid R2=0.5394, Valid MAE=0.3573]\n",
            "Epoch  5: 100%|██████████| 2607/2607 [02:37<00:00, 16.57it/s, Train Loss=0.6263, Valid Loss=0.2402, Valid R2=0.4580, Valid MAE=0.3808]\n",
            "Epoch  6: 100%|██████████| 2607/2607 [02:35<00:00, 16.72it/s, Train Loss=0.6197, Valid Loss=0.1877, Valid R2=0.5764, Valid MAE=0.3406]\n",
            "Epoch  7: 100%|██████████| 2607/2607 [02:36<00:00, 16.67it/s, Train Loss=0.6086, Valid Loss=0.2274, Valid R2=0.4868, Valid MAE=0.3714]\n",
            "Epoch  8: 100%|██████████| 2607/2607 [02:35<00:00, 16.80it/s, Train Loss=0.5962, Valid Loss=0.2070, Valid R2=0.5330, Valid MAE=0.3443]\n",
            "Epoch  9: 100%|██████████| 2607/2607 [02:35<00:00, 16.81it/s, Train Loss=0.5862, Valid Loss=0.2976, Valid R2=0.3285, Valid MAE=0.3977]\n",
            "Epoch 10: 100%|██████████| 2607/2607 [02:34<00:00, 16.88it/s, Train Loss=0.5722, Valid Loss=0.2952, Valid R2=0.3338, Valid MAE=0.3842]\n"
          ]
        },
        {
          "name": "stdout",
          "output_type": "stream",
          "text": [
            "Early Stopped\n",
            "Setting   8 of Parameters Grid is now on progres.\n"
          ]
        },
        {
          "name": "stderr",
          "output_type": "stream",
          "text": [
            "Epoch  0: 100%|██████████| 2607/2607 [02:34<00:00, 16.88it/s, Train Loss=2.5350, Valid Loss=0.4639, Valid R2=-0.0467, Valid MAE=0.5348]\n",
            "Epoch  1: 100%|██████████| 2607/2607 [02:34<00:00, 16.86it/s, Train Loss=0.7301, Valid Loss=0.3126, Valid R2=0.2946, Valid MAE=0.4477]\n",
            "Epoch  2: 100%|██████████| 2607/2607 [02:38<00:00, 16.47it/s, Train Loss=0.6871, Valid Loss=0.3017, Valid R2=0.3192, Valid MAE=0.4400]\n",
            "Epoch  3: 100%|██████████| 2607/2607 [02:35<00:00, 16.80it/s, Train Loss=0.6635, Valid Loss=0.2644, Valid R2=0.4034, Valid MAE=0.4157]\n",
            "Epoch  4: 100%|██████████| 2607/2607 [02:36<00:00, 16.64it/s, Train Loss=0.6471, Valid Loss=0.2854, Valid R2=0.3561, Valid MAE=0.4351]\n",
            "Epoch  5: 100%|██████████| 2607/2607 [02:34<00:00, 16.87it/s, Train Loss=0.6347, Valid Loss=0.2121, Valid R2=0.5214, Valid MAE=0.3754]\n",
            "Epoch  6: 100%|██████████| 2607/2607 [02:34<00:00, 16.83it/s, Train Loss=0.6266, Valid Loss=0.2042, Valid R2=0.5393, Valid MAE=0.3687]\n",
            "Epoch  7: 100%|██████████| 2607/2607 [02:36<00:00, 16.65it/s, Train Loss=0.6231, Valid Loss=0.2263, Valid R2=0.4895, Valid MAE=0.3869]\n",
            "Epoch  8: 100%|██████████| 2607/2607 [02:37<00:00, 16.58it/s, Train Loss=0.6143, Valid Loss=0.2330, Valid R2=0.4742, Valid MAE=0.3990]\n",
            "Epoch  9: 100%|██████████| 2607/2607 [02:37<00:00, 16.51it/s, Train Loss=0.6080, Valid Loss=0.2202, Valid R2=0.5031, Valid MAE=0.3809]\n",
            "Epoch 10: 100%|██████████| 2607/2607 [02:35<00:00, 16.74it/s, Train Loss=0.6056, Valid Loss=0.1907, Valid R2=0.5697, Valid MAE=0.3592]\n",
            "Epoch 11: 100%|██████████| 2607/2607 [02:35<00:00, 16.75it/s, Train Loss=0.5967, Valid Loss=0.1938, Valid R2=0.5627, Valid MAE=0.3636]\n",
            "Epoch 12: 100%|██████████| 2607/2607 [02:35<00:00, 16.75it/s, Train Loss=0.5940, Valid Loss=0.2280, Valid R2=0.4855, Valid MAE=0.3917]\n",
            "Epoch 13: 100%|██████████| 2607/2607 [02:36<00:00, 16.71it/s, Train Loss=0.5872, Valid Loss=0.2066, Valid R2=0.5337, Valid MAE=0.3690]\n",
            "Epoch 14: 100%|██████████| 2607/2607 [02:36<00:00, 16.64it/s, Train Loss=0.5796, Valid Loss=0.2485, Valid R2=0.4393, Valid MAE=0.4091]\n"
          ]
        },
        {
          "name": "stdout",
          "output_type": "stream",
          "text": [
            "Early Stopped\n",
            "Setting   9 of Parameters Grid is now on progres.\n"
          ]
        },
        {
          "name": "stderr",
          "output_type": "stream",
          "text": [
            "Epoch  0: 100%|██████████| 2607/2607 [02:36<00:00, 16.70it/s, Train Loss=2.6296, Valid Loss=0.3909, Valid R2=0.1180, Valid MAE=0.4799]\n",
            "Epoch  1: 100%|██████████| 2607/2607 [02:34<00:00, 16.82it/s, Train Loss=0.7801, Valid Loss=0.2762, Valid R2=0.3768, Valid MAE=0.4083]\n",
            "Epoch  2: 100%|██████████| 2607/2607 [02:36<00:00, 16.63it/s, Train Loss=0.7284, Valid Loss=0.2537, Valid R2=0.4275, Valid MAE=0.3975]\n",
            "Epoch  3: 100%|██████████| 2607/2607 [02:35<00:00, 16.78it/s, Train Loss=0.6963, Valid Loss=0.2908, Valid R2=0.3437, Valid MAE=0.4291]\n",
            "Epoch  4: 100%|██████████| 2607/2607 [02:35<00:00, 16.71it/s, Train Loss=0.6786, Valid Loss=0.2595, Valid R2=0.4144, Valid MAE=0.4052]\n",
            "Epoch  5: 100%|██████████| 2607/2607 [02:34<00:00, 16.85it/s, Train Loss=0.6575, Valid Loss=0.2290, Valid R2=0.4833, Valid MAE=0.3848]\n",
            "Epoch  6: 100%|██████████| 2607/2607 [02:35<00:00, 16.75it/s, Train Loss=0.6465, Valid Loss=0.2190, Valid R2=0.5059, Valid MAE=0.3808]\n",
            "Epoch  7: 100%|██████████| 2607/2607 [02:35<00:00, 16.76it/s, Train Loss=0.6355, Valid Loss=0.2828, Valid R2=0.3618, Valid MAE=0.4314]\n",
            "Epoch  8: 100%|██████████| 2607/2607 [02:34<00:00, 16.82it/s, Train Loss=0.6293, Valid Loss=0.1726, Valid R2=0.6105, Valid MAE=0.3357]\n",
            "Epoch  9: 100%|██████████| 2607/2607 [02:35<00:00, 16.81it/s, Train Loss=0.6256, Valid Loss=0.1999, Valid R2=0.5489, Valid MAE=0.3637]\n",
            "Epoch 10: 100%|██████████| 2607/2607 [02:35<00:00, 16.77it/s, Train Loss=0.6167, Valid Loss=0.1931, Valid R2=0.5643, Valid MAE=0.3596]\n",
            "Epoch 11: 100%|██████████| 2607/2607 [02:38<00:00, 16.45it/s, Train Loss=0.6117, Valid Loss=0.2174, Valid R2=0.5094, Valid MAE=0.3809]\n",
            "Epoch 12: 100%|██████████| 2607/2607 [02:35<00:00, 16.78it/s, Train Loss=0.6054, Valid Loss=0.2071, Valid R2=0.5326, Valid MAE=0.3756]\n"
          ]
        },
        {
          "name": "stdout",
          "output_type": "stream",
          "text": [
            "Early Stopped\n",
            "Setting  10 of Parameters Grid is now on progres.\n"
          ]
        },
        {
          "name": "stderr",
          "output_type": "stream",
          "text": [
            "Epoch  0: 100%|██████████| 2607/2607 [02:35<00:00, 16.77it/s, Train Loss=2.4366, Valid Loss=0.4543, Valid R2=-0.0250, Valid MAE=0.5250]\n",
            "Epoch  1: 100%|██████████| 2607/2607 [02:35<00:00, 16.73it/s, Train Loss=0.7514, Valid Loss=0.3220, Valid R2=0.2734, Valid MAE=0.4389]\n",
            "Epoch  2: 100%|██████████| 2607/2607 [02:35<00:00, 16.73it/s, Train Loss=0.7108, Valid Loss=0.3142, Valid R2=0.2909, Valid MAE=0.4316]\n",
            "Epoch  3: 100%|██████████| 2607/2607 [02:36<00:00, 16.63it/s, Train Loss=0.6791, Valid Loss=0.2310, Valid R2=0.4789, Valid MAE=0.3686]\n",
            "Epoch  4: 100%|██████████| 2607/2607 [02:35<00:00, 16.76it/s, Train Loss=0.6627, Valid Loss=0.2209, Valid R2=0.5016, Valid MAE=0.3655]\n",
            "Epoch  5: 100%|██████████| 2607/2607 [02:35<00:00, 16.73it/s, Train Loss=0.6500, Valid Loss=0.2133, Valid R2=0.5187, Valid MAE=0.3632]\n",
            "Epoch  6: 100%|██████████| 2607/2607 [02:36<00:00, 16.64it/s, Train Loss=0.6362, Valid Loss=0.1863, Valid R2=0.5796, Valid MAE=0.3320]\n",
            "Epoch  7: 100%|██████████| 2607/2607 [02:35<00:00, 16.79it/s, Train Loss=0.6295, Valid Loss=0.1767, Valid R2=0.6014, Valid MAE=0.3327]\n",
            "Epoch  8: 100%|██████████| 2607/2607 [02:35<00:00, 16.79it/s, Train Loss=0.6222, Valid Loss=0.1972, Valid R2=0.5550, Valid MAE=0.3422]\n",
            "Epoch  9: 100%|██████████| 2607/2607 [02:35<00:00, 16.77it/s, Train Loss=0.6130, Valid Loss=0.1582, Valid R2=0.6431, Valid MAE=0.3200]\n",
            "Epoch 10: 100%|██████████| 2607/2607 [02:35<00:00, 16.78it/s, Train Loss=0.6051, Valid Loss=0.1483, Valid R2=0.6653, Valid MAE=0.3090]\n",
            "Epoch 11: 100%|██████████| 2607/2607 [02:34<00:00, 16.88it/s, Train Loss=0.6006, Valid Loss=0.1597, Valid R2=0.6397, Valid MAE=0.3197]\n",
            "Epoch 12: 100%|██████████| 2607/2607 [02:34<00:00, 16.88it/s, Train Loss=0.5903, Valid Loss=0.1558, Valid R2=0.6485, Valid MAE=0.3221]\n",
            "Epoch 13: 100%|██████████| 2607/2607 [02:35<00:00, 16.76it/s, Train Loss=0.5797, Valid Loss=0.2463, Valid R2=0.4442, Valid MAE=0.4000]\n",
            "Epoch 14: 100%|██████████| 2607/2607 [02:36<00:00, 16.70it/s, Train Loss=0.5681, Valid Loss=0.2258, Valid R2=0.4904, Valid MAE=0.3688]\n"
          ]
        },
        {
          "name": "stdout",
          "output_type": "stream",
          "text": [
            "Early Stopped\n",
            "Setting  11 of Parameters Grid is now on progres.\n"
          ]
        },
        {
          "name": "stderr",
          "output_type": "stream",
          "text": [
            "Epoch  0: 100%|██████████| 2607/2607 [02:35<00:00, 16.79it/s, Train Loss=2.2873, Valid Loss=0.3574, Valid R2=0.1936, Valid MAE=0.4445]\n",
            "Epoch  1: 100%|██████████| 2607/2607 [02:34<00:00, 16.86it/s, Train Loss=0.7483, Valid Loss=0.2674, Valid R2=0.3966, Valid MAE=0.4006]\n",
            "Epoch  2: 100%|██████████| 2607/2607 [02:34<00:00, 16.91it/s, Train Loss=0.6941, Valid Loss=0.2617, Valid R2=0.4095, Valid MAE=0.4000]\n",
            "Epoch  3: 100%|██████████| 2607/2607 [02:36<00:00, 16.71it/s, Train Loss=0.6689, Valid Loss=0.2942, Valid R2=0.3361, Valid MAE=0.4314]\n",
            "Epoch  4: 100%|██████████| 2607/2607 [02:35<00:00, 16.78it/s, Train Loss=0.6498, Valid Loss=0.2145, Valid R2=0.5159, Valid MAE=0.3736]\n",
            "Epoch  5: 100%|██████████| 2607/2607 [02:35<00:00, 16.74it/s, Train Loss=0.6396, Valid Loss=0.1866, Valid R2=0.5790, Valid MAE=0.3537]\n",
            "Epoch  6: 100%|██████████| 2607/2607 [02:36<00:00, 16.70it/s, Train Loss=0.6267, Valid Loss=0.1998, Valid R2=0.5491, Valid MAE=0.3689]\n",
            "Epoch  7: 100%|██████████| 2607/2607 [02:35<00:00, 16.74it/s, Train Loss=0.6152, Valid Loss=0.1718, Valid R2=0.6123, Valid MAE=0.3459]\n",
            "Epoch  8: 100%|██████████| 2607/2607 [02:36<00:00, 16.68it/s, Train Loss=0.6089, Valid Loss=0.1590, Valid R2=0.6413, Valid MAE=0.3311]\n",
            "Epoch  9: 100%|██████████| 2607/2607 [02:36<00:00, 16.61it/s, Train Loss=0.6024, Valid Loss=0.1773, Valid R2=0.5999, Valid MAE=0.3455]\n",
            "Epoch 10: 100%|██████████| 2607/2607 [02:37<00:00, 16.58it/s, Train Loss=0.5859, Valid Loss=0.2004, Valid R2=0.5478, Valid MAE=0.3660]\n",
            "Epoch 11: 100%|██████████| 2607/2607 [02:38<00:00, 16.46it/s, Train Loss=0.5696, Valid Loss=0.1848, Valid R2=0.5830, Valid MAE=0.3437]\n",
            "Epoch 12: 100%|██████████| 2607/2607 [02:36<00:00, 16.71it/s, Train Loss=0.5495, Valid Loss=0.1908, Valid R2=0.5694, Valid MAE=0.3393]\n"
          ]
        },
        {
          "name": "stdout",
          "output_type": "stream",
          "text": [
            "Early Stopped\n",
            "Setting  12 of Parameters Grid is now on progres.\n"
          ]
        },
        {
          "name": "stderr",
          "output_type": "stream",
          "text": [
            "Epoch  0: 100%|██████████| 2607/2607 [02:35<00:00, 16.79it/s, Train Loss=2.1918, Valid Loss=0.3249, Valid R2=0.2669, Valid MAE=0.4262]\n",
            "Epoch  1: 100%|██████████| 2607/2607 [02:36<00:00, 16.65it/s, Train Loss=0.7551, Valid Loss=0.3270, Valid R2=0.2621, Valid MAE=0.4440]\n",
            "Epoch  2: 100%|██████████| 2607/2607 [02:35<00:00, 16.79it/s, Train Loss=0.6946, Valid Loss=0.2451, Valid R2=0.4469, Valid MAE=0.3888]\n",
            "Epoch  3: 100%|██████████| 2607/2607 [02:35<00:00, 16.80it/s, Train Loss=0.6659, Valid Loss=0.2406, Valid R2=0.4572, Valid MAE=0.3843]\n",
            "Epoch  4: 100%|██████████| 2607/2607 [02:34<00:00, 16.89it/s, Train Loss=0.6465, Valid Loss=0.2224, Valid R2=0.4982, Valid MAE=0.3719]\n",
            "Epoch  5: 100%|██████████| 2607/2607 [02:34<00:00, 16.82it/s, Train Loss=0.6344, Valid Loss=0.2672, Valid R2=0.3971, Valid MAE=0.3972]\n",
            "Epoch  6: 100%|██████████| 2607/2607 [02:34<00:00, 16.83it/s, Train Loss=0.6233, Valid Loss=0.3010, Valid R2=0.3209, Valid MAE=0.4176]\n",
            "Epoch  7: 100%|██████████| 2607/2607 [02:34<00:00, 16.88it/s, Train Loss=0.6081, Valid Loss=0.2040, Valid R2=0.5398, Valid MAE=0.3453]\n",
            "Epoch  8: 100%|██████████| 2607/2607 [02:35<00:00, 16.77it/s, Train Loss=0.5855, Valid Loss=0.1841, Valid R2=0.5847, Valid MAE=0.3394]\n",
            "Epoch  9: 100%|██████████| 2607/2607 [02:36<00:00, 16.69it/s, Train Loss=0.5683, Valid Loss=0.2214, Valid R2=0.5004, Valid MAE=0.3666]\n",
            "Epoch 10: 100%|██████████| 2607/2607 [02:34<00:00, 16.83it/s, Train Loss=0.5421, Valid Loss=0.2258, Valid R2=0.4905, Valid MAE=0.3718]\n",
            "Epoch 11: 100%|██████████| 2607/2607 [02:35<00:00, 16.73it/s, Train Loss=0.5240, Valid Loss=0.2639, Valid R2=0.4046, Valid MAE=0.3875]\n",
            "Epoch 12: 100%|██████████| 2607/2607 [02:35<00:00, 16.78it/s, Train Loss=0.5062, Valid Loss=0.3636, Valid R2=0.1795, Valid MAE=0.4117]\n"
          ]
        },
        {
          "name": "stdout",
          "output_type": "stream",
          "text": [
            "Early Stopped\n",
            "Setting  13 of Parameters Grid is now on progres.\n"
          ]
        },
        {
          "name": "stderr",
          "output_type": "stream",
          "text": [
            "Epoch  0: 100%|██████████| 2607/2607 [02:34<00:00, 16.87it/s, Train Loss=2.2066, Valid Loss=0.3298, Valid R2=0.2558, Valid MAE=0.4394]\n",
            "Epoch  1: 100%|██████████| 2607/2607 [02:35<00:00, 16.76it/s, Train Loss=0.7293, Valid Loss=0.3087, Valid R2=0.3034, Valid MAE=0.4358]\n",
            "Epoch  2: 100%|██████████| 2607/2607 [02:34<00:00, 16.87it/s, Train Loss=0.6806, Valid Loss=0.1895, Valid R2=0.5725, Valid MAE=0.3491]\n",
            "Epoch  3: 100%|██████████| 2607/2607 [02:35<00:00, 16.72it/s, Train Loss=0.6525, Valid Loss=0.1897, Valid R2=0.5720, Valid MAE=0.3504]\n",
            "Epoch  4: 100%|██████████| 2607/2607 [02:36<00:00, 16.68it/s, Train Loss=0.6404, Valid Loss=0.1493, Valid R2=0.6631, Valid MAE=0.3166]\n",
            "Epoch  5: 100%|██████████| 2607/2607 [02:35<00:00, 16.74it/s, Train Loss=0.6257, Valid Loss=0.1544, Valid R2=0.6515, Valid MAE=0.3233]\n",
            "Epoch  6: 100%|██████████| 2607/2607 [02:35<00:00, 16.81it/s, Train Loss=0.6126, Valid Loss=0.1925, Valid R2=0.5655, Valid MAE=0.3594]\n",
            "Epoch  7: 100%|██████████| 2607/2607 [02:35<00:00, 16.74it/s, Train Loss=0.6039, Valid Loss=0.2138, Valid R2=0.5175, Valid MAE=0.3768]\n",
            "Epoch  8: 100%|██████████| 2607/2607 [02:34<00:00, 16.84it/s, Train Loss=0.5902, Valid Loss=0.1607, Valid R2=0.6373, Valid MAE=0.3339]\n"
          ]
        },
        {
          "name": "stdout",
          "output_type": "stream",
          "text": [
            "Early Stopped\n",
            "Setting  14 of Parameters Grid is now on progres.\n"
          ]
        },
        {
          "name": "stderr",
          "output_type": "stream",
          "text": [
            "Epoch  0: 100%|██████████| 2607/2607 [02:36<00:00, 16.69it/s, Train Loss=2.3215, Valid Loss=0.3115, Valid R2=0.2971, Valid MAE=0.4296]\n",
            "Epoch  1: 100%|██████████| 2607/2607 [02:34<00:00, 16.92it/s, Train Loss=0.7334, Valid Loss=0.3296, Valid R2=0.2563, Valid MAE=0.4493]\n",
            "Epoch  2: 100%|██████████| 2607/2607 [02:34<00:00, 16.85it/s, Train Loss=0.6915, Valid Loss=0.2380, Valid R2=0.4631, Valid MAE=0.3864]\n",
            "Epoch  3: 100%|██████████| 2607/2607 [02:35<00:00, 16.76it/s, Train Loss=0.6675, Valid Loss=0.3475, Valid R2=0.2158, Valid MAE=0.4696]\n",
            "Epoch  4: 100%|██████████| 2607/2607 [02:36<00:00, 16.61it/s, Train Loss=0.6516, Valid Loss=0.2236, Valid R2=0.4954, Valid MAE=0.3788]\n",
            "Epoch  5: 100%|██████████| 2607/2607 [02:35<00:00, 16.80it/s, Train Loss=0.6405, Valid Loss=0.1851, Valid R2=0.5824, Valid MAE=0.3506]\n",
            "Epoch  6: 100%|██████████| 2607/2607 [02:37<00:00, 16.58it/s, Train Loss=0.6331, Valid Loss=0.2768, Valid R2=0.3755, Valid MAE=0.4292]\n",
            "Epoch  7: 100%|██████████| 2607/2607 [02:36<00:00, 16.66it/s, Train Loss=0.6243, Valid Loss=0.1761, Valid R2=0.6027, Valid MAE=0.3418]\n",
            "Epoch  8: 100%|██████████| 2607/2607 [02:37<00:00, 16.59it/s, Train Loss=0.6166, Valid Loss=0.2356, Valid R2=0.4685, Valid MAE=0.3979]\n",
            "Epoch  9: 100%|██████████| 2607/2607 [02:37<00:00, 16.54it/s, Train Loss=0.6137, Valid Loss=0.1574, Valid R2=0.6449, Valid MAE=0.3201]\n",
            "Epoch 10: 100%|██████████| 2607/2607 [02:36<00:00, 16.68it/s, Train Loss=0.6068, Valid Loss=0.2092, Valid R2=0.5280, Valid MAE=0.3751]\n",
            "Epoch 11: 100%|██████████| 2607/2607 [02:37<00:00, 16.52it/s, Train Loss=0.6016, Valid Loss=0.2450, Valid R2=0.4472, Valid MAE=0.4040]\n",
            "Epoch 12: 100%|██████████| 2607/2607 [02:36<00:00, 16.65it/s, Train Loss=0.5978, Valid Loss=0.1912, Valid R2=0.5685, Valid MAE=0.3586]\n",
            "Epoch 13: 100%|██████████| 2607/2607 [02:37<00:00, 16.57it/s, Train Loss=0.5878, Valid Loss=0.1832, Valid R2=0.5865, Valid MAE=0.3446]\n"
          ]
        },
        {
          "name": "stdout",
          "output_type": "stream",
          "text": [
            "Early Stopped\n",
            "Setting  15 of Parameters Grid is now on progres.\n"
          ]
        },
        {
          "name": "stderr",
          "output_type": "stream",
          "text": [
            "Epoch  0: 100%|██████████| 2607/2607 [02:40<00:00, 16.23it/s, Train Loss=2.1331, Valid Loss=0.2459, Valid R2=0.4453, Valid MAE=0.3738]\n",
            "Epoch  1: 100%|██████████| 2607/2607 [02:56<00:00, 14.76it/s, Train Loss=0.7039, Valid Loss=0.2522, Valid R2=0.4309, Valid MAE=0.3872]\n",
            "Epoch  2: 100%|██████████| 2607/2607 [02:45<00:00, 15.74it/s, Train Loss=0.6651, Valid Loss=0.1874, Valid R2=0.5772, Valid MAE=0.3429]\n",
            "Epoch  3: 100%|██████████| 2607/2607 [02:38<00:00, 16.45it/s, Train Loss=0.6437, Valid Loss=0.2553, Valid R2=0.4240, Valid MAE=0.4006]\n",
            "Epoch  4: 100%|██████████| 2607/2607 [02:36<00:00, 16.68it/s, Train Loss=0.6289, Valid Loss=0.1876, Valid R2=0.5766, Valid MAE=0.3548]\n",
            "Epoch  5: 100%|██████████| 2607/2607 [02:36<00:00, 16.68it/s, Train Loss=0.6181, Valid Loss=0.1536, Valid R2=0.6533, Valid MAE=0.3218]\n",
            "Epoch  6: 100%|██████████| 2607/2607 [02:38<00:00, 16.48it/s, Train Loss=0.6105, Valid Loss=0.1690, Valid R2=0.6186, Valid MAE=0.3372]\n",
            "Epoch  7: 100%|██████████| 2607/2607 [02:38<00:00, 16.46it/s, Train Loss=0.6060, Valid Loss=0.1942, Valid R2=0.5618, Valid MAE=0.3583]\n",
            "Epoch  8: 100%|██████████| 2607/2607 [02:37<00:00, 16.56it/s, Train Loss=0.6001, Valid Loss=0.2625, Valid R2=0.4078, Valid MAE=0.4069]\n",
            "Epoch  9: 100%|██████████| 2607/2607 [02:39<00:00, 16.38it/s, Train Loss=0.5922, Valid Loss=0.1828, Valid R2=0.5875, Valid MAE=0.3527]"
          ]
        },
        {
          "name": "stdout",
          "output_type": "stream",
          "text": [
            "Early Stopped\n"
          ]
        },
        {
          "name": "stderr",
          "output_type": "stream",
          "text": [
            "\n"
          ]
        }
      ],
      "source": [
        "basic_params = {\n",
        "    'T': 60,\n",
        "    'n': 40\n",
        "}\n",
        "\n",
        "param_grid = {\n",
        "    'm': [32, 40],\n",
        "    'skip_hidden_size': [32, 40],\n",
        "    'T_modified': [20, 30],\n",
        "    'skip': [8, 10]\n",
        "}\n",
        "\n",
        "model_name = 'model2'\n",
        "grid_model2 = GridSearch(criterion, eval_metrics, device, temp_save_path=f'checkpoints/model_by_param/temp_{model_name}.pt', masked=False)\n",
        "best_model2 = grid_model2.train_by_grid(\n",
        "        Model2, basic_params, param_grid,\n",
        "        torch.optim.Adam, train_loader, val_loader,\n",
        "        patience=3, epochs=20,\n",
        "        save_filename=f'checkpoints/{model_name}_best.pt'\n",
        "    )"
      ]
    },
    {
      "cell_type": "code",
      "execution_count": 7,
      "metadata": {},
      "outputs": [
        {
          "name": "stdout",
          "output_type": "stream",
          "text": [
            "Test Loss: 0.1406 | Test R2: 0.9236 | Test MAE: 0.3050\n",
            "Saving Process Complete. Directory: model2_losses.png\n"
          ]
        },
        {
          "data": {
            "image/png": "[encoded data removed]",
            "text/plain": [
              "<Figure size 700x500 with 1 Axes>"
            ]
          },
          "metadata": {},
          "output_type": "display_data"
        }
      ],
      "source": [
        "grid_model2.test(test_loader)\n",
        "grid_model2.plot_losses(plot_title=f'{model_name}', save_filename=f'{model_name}_losses.png')"
      ]
    },
    {
      "attachments": {},
      "cell_type": "markdown",
      "metadata": {},
      "source": [
        "# Model 3"
      ]
    },
    {
      "cell_type": "code",
      "execution_count": 8,
      "metadata": {},
      "outputs": [
        {
          "name": "stdout",
          "output_type": "stream",
          "text": [
            "Total  16 cases are going to be searched.\n",
            "Setting   0 of Parameters Grid is now on progres.\n"
          ]
        },
        {
          "name": "stderr",
          "output_type": "stream",
          "text": [
            "Epoch  0: 100%|██████████| 2607/2607 [01:16<00:00, 34.23it/s, Train Loss=3.3221, Valid Loss=1.4036, Valid R2=-2.1671, Valid MAE=0.9009]\n",
            "Epoch  1: 100%|██████████| 2607/2607 [01:14<00:00, 35.21it/s, Train Loss=1.1685, Valid Loss=0.7897, Valid R2=-0.7819, Valid MAE=0.6842]\n",
            "Epoch  2: 100%|██████████| 2607/2607 [01:13<00:00, 35.24it/s, Train Loss=1.0240, Valid Loss=0.4898, Valid R2=-0.1051, Valid MAE=0.5442]\n",
            "Epoch  3: 100%|██████████| 2607/2607 [01:17<00:00, 33.83it/s, Train Loss=0.9498, Valid Loss=0.2882, Valid R2=0.3496, Valid MAE=0.4178]\n",
            "Epoch  4: 100%|██████████| 2607/2607 [01:15<00:00, 34.40it/s, Train Loss=0.9052, Valid Loss=0.2548, Valid R2=0.4250, Valid MAE=0.4037]\n",
            "Epoch  5: 100%|██████████| 2607/2607 [01:14<00:00, 34.92it/s, Train Loss=0.8636, Valid Loss=0.2333, Valid R2=0.4737, Valid MAE=0.3887]\n",
            "Epoch  6: 100%|██████████| 2607/2607 [01:13<00:00, 35.34it/s, Train Loss=0.8446, Valid Loss=0.1938, Valid R2=0.5626, Valid MAE=0.3608]\n",
            "Epoch  7: 100%|██████████| 2607/2607 [01:15<00:00, 34.54it/s, Train Loss=0.8121, Valid Loss=0.1731, Valid R2=0.6095, Valid MAE=0.3358]\n",
            "Epoch  8: 100%|██████████| 2607/2607 [01:14<00:00, 35.05it/s, Train Loss=0.8037, Valid Loss=0.1741, Valid R2=0.6071, Valid MAE=0.3421]\n",
            "Epoch  9: 100%|██████████| 2607/2607 [01:17<00:00, 33.79it/s, Train Loss=0.7923, Valid Loss=0.1384, Valid R2=0.6877, Valid MAE=0.2928]\n",
            "Epoch 10: 100%|██████████| 2607/2607 [01:15<00:00, 34.34it/s, Train Loss=0.7806, Valid Loss=0.1427, Valid R2=0.6781, Valid MAE=0.3004]\n",
            "Epoch 11: 100%|██████████| 2607/2607 [01:16<00:00, 34.21it/s, Train Loss=0.7632, Valid Loss=0.1632, Valid R2=0.6318, Valid MAE=0.3301]\n",
            "Epoch 12: 100%|██████████| 2607/2607 [01:16<00:00, 33.98it/s, Train Loss=0.7601, Valid Loss=0.1600, Valid R2=0.6391, Valid MAE=0.3211]\n",
            "Epoch 13: 100%|██████████| 2607/2607 [01:18<00:00, 33.21it/s, Train Loss=0.7460, Valid Loss=0.1369, Valid R2=0.6911, Valid MAE=0.2880]\n",
            "Epoch 14: 100%|██████████| 2607/2607 [01:15<00:00, 34.47it/s, Train Loss=0.7455, Valid Loss=0.1573, Valid R2=0.6452, Valid MAE=0.3073]\n",
            "Epoch 15: 100%|██████████| 2607/2607 [01:16<00:00, 34.17it/s, Train Loss=0.7381, Valid Loss=0.1595, Valid R2=0.6400, Valid MAE=0.3105]\n",
            "Epoch 16: 100%|██████████| 2607/2607 [01:16<00:00, 34.15it/s, Train Loss=0.7323, Valid Loss=0.1453, Valid R2=0.6721, Valid MAE=0.3005]\n",
            "Epoch 17: 100%|██████████| 2607/2607 [01:16<00:00, 34.15it/s, Train Loss=0.7302, Valid Loss=0.1642, Valid R2=0.6296, Valid MAE=0.3215]\n"
          ]
        },
        {
          "name": "stdout",
          "output_type": "stream",
          "text": [
            "Early Stopped\n",
            "Setting   1 of Parameters Grid is now on progres.\n"
          ]
        },
        {
          "name": "stderr",
          "output_type": "stream",
          "text": [
            "Epoch  0: 100%|██████████| 2607/2607 [01:17<00:00, 33.75it/s, Train Loss=2.9247, Valid Loss=1.1221, Valid R2=-1.5320, Valid MAE=0.8431]\n",
            "Epoch  1: 100%|██████████| 2607/2607 [01:15<00:00, 34.64it/s, Train Loss=1.0814, Valid Loss=0.4677, Valid R2=-0.0554, Valid MAE=0.5362]\n",
            "Epoch  2: 100%|██████████| 2607/2607 [01:14<00:00, 35.14it/s, Train Loss=0.9650, Valid Loss=0.2589, Valid R2=0.4159, Valid MAE=0.3951]\n",
            "Epoch  3: 100%|██████████| 2607/2607 [01:16<00:00, 34.10it/s, Train Loss=0.9105, Valid Loss=0.2189, Valid R2=0.5061, Valid MAE=0.3649]\n",
            "Epoch  4: 100%|██████████| 2607/2607 [01:17<00:00, 33.59it/s, Train Loss=0.8724, Valid Loss=0.1616, Valid R2=0.6353, Valid MAE=0.3141]\n",
            "Epoch  5: 100%|██████████| 2607/2607 [01:16<00:00, 33.93it/s, Train Loss=0.8372, Valid Loss=0.1495, Valid R2=0.6627, Valid MAE=0.3063]\n",
            "Epoch  6: 100%|██████████| 2607/2607 [01:16<00:00, 34.09it/s, Train Loss=0.8138, Valid Loss=0.1719, Valid R2=0.6122, Valid MAE=0.3392]\n",
            "Epoch  7: 100%|██████████| 2607/2607 [01:15<00:00, 34.53it/s, Train Loss=0.7948, Valid Loss=0.1700, Valid R2=0.6163, Valid MAE=0.3423]\n",
            "Epoch  8: 100%|██████████| 2607/2607 [01:15<00:00, 34.39it/s, Train Loss=0.7774, Valid Loss=0.1690, Valid R2=0.6186, Valid MAE=0.3406]\n",
            "Epoch  9: 100%|██████████| 2607/2607 [01:15<00:00, 34.75it/s, Train Loss=0.7673, Valid Loss=0.1738, Valid R2=0.6079, Valid MAE=0.3481]\n"
          ]
        },
        {
          "name": "stdout",
          "output_type": "stream",
          "text": [
            "Early Stopped\n",
            "Setting   2 of Parameters Grid is now on progres.\n"
          ]
        },
        {
          "name": "stderr",
          "output_type": "stream",
          "text": [
            "Epoch  0: 100%|██████████| 2607/2607 [01:38<00:00, 26.35it/s, Train Loss=3.7011, Valid Loss=1.6087, Valid R2=-2.6298, Valid MAE=0.9844]\n",
            "Epoch  1: 100%|██████████| 2607/2607 [01:39<00:00, 26.18it/s, Train Loss=1.1093, Valid Loss=0.7467, Valid R2=-0.6848, Valid MAE=0.6732]\n",
            "Epoch  2: 100%|██████████| 2607/2607 [01:40<00:00, 25.81it/s, Train Loss=0.9890, Valid Loss=0.7691, Valid R2=-0.7355, Valid MAE=0.6688]\n",
            "Epoch  3: 100%|██████████| 2607/2607 [01:40<00:00, 25.98it/s, Train Loss=0.9282, Valid Loss=0.5573, Valid R2=-0.2575, Valid MAE=0.5745]\n",
            "Epoch  4: 100%|██████████| 2607/2607 [01:39<00:00, 26.31it/s, Train Loss=0.8774, Valid Loss=0.3181, Valid R2=0.2822, Valid MAE=0.4454]\n",
            "Epoch  5: 100%|██████████| 2607/2607 [01:38<00:00, 26.52it/s, Train Loss=0.8414, Valid Loss=0.2762, Valid R2=0.3767, Valid MAE=0.4207]\n",
            "Epoch  6: 100%|██████████| 2607/2607 [01:39<00:00, 26.27it/s, Train Loss=0.8188, Valid Loss=0.2566, Valid R2=0.4209, Valid MAE=0.4175]\n",
            "Epoch  7: 100%|██████████| 2607/2607 [01:40<00:00, 25.94it/s, Train Loss=0.7941, Valid Loss=0.1889, Valid R2=0.5738, Valid MAE=0.3552]\n",
            "Epoch  8: 100%|██████████| 2607/2607 [01:40<00:00, 25.99it/s, Train Loss=0.7793, Valid Loss=0.1573, Valid R2=0.6452, Valid MAE=0.3226]\n",
            "Epoch  9: 100%|██████████| 2607/2607 [01:40<00:00, 25.84it/s, Train Loss=0.7675, Valid Loss=0.1613, Valid R2=0.6360, Valid MAE=0.3217]\n",
            "Epoch 10: 100%|██████████| 2607/2607 [01:39<00:00, 26.29it/s, Train Loss=0.7533, Valid Loss=0.1429, Valid R2=0.6775, Valid MAE=0.3004]\n",
            "Epoch 11: 100%|██████████| 2607/2607 [01:39<00:00, 26.12it/s, Train Loss=0.7497, Valid Loss=0.1355, Valid R2=0.6942, Valid MAE=0.2881]\n",
            "Epoch 12: 100%|██████████| 2607/2607 [01:38<00:00, 26.50it/s, Train Loss=0.7430, Valid Loss=0.1334, Valid R2=0.6990, Valid MAE=0.2898]\n",
            "Epoch 13: 100%|██████████| 2607/2607 [01:41<00:00, 25.74it/s, Train Loss=0.7303, Valid Loss=0.1216, Valid R2=0.7256, Valid MAE=0.2727]\n",
            "Epoch 14: 100%|██████████| 2607/2607 [01:40<00:00, 25.87it/s, Train Loss=0.7266, Valid Loss=0.1259, Valid R2=0.7160, Valid MAE=0.2797]\n",
            "Epoch 15: 100%|██████████| 2607/2607 [01:39<00:00, 26.15it/s, Train Loss=0.7162, Valid Loss=0.1224, Valid R2=0.7237, Valid MAE=0.2766]\n",
            "Epoch 16: 100%|██████████| 2607/2607 [01:41<00:00, 25.76it/s, Train Loss=0.7146, Valid Loss=0.1457, Valid R2=0.6712, Valid MAE=0.3108]\n",
            "Epoch 17: 100%|██████████| 2607/2607 [01:40<00:00, 25.86it/s, Train Loss=0.7130, Valid Loss=0.1525, Valid R2=0.6560, Valid MAE=0.3154]\n"
          ]
        },
        {
          "name": "stdout",
          "output_type": "stream",
          "text": [
            "Early Stopped\n",
            "Setting   3 of Parameters Grid is now on progres.\n"
          ]
        },
        {
          "name": "stderr",
          "output_type": "stream",
          "text": [
            "Epoch  0: 100%|██████████| 2607/2607 [01:38<00:00, 26.49it/s, Train Loss=3.4854, Valid Loss=1.1970, Valid R2=-1.7009, Valid MAE=0.9023]\n",
            "Epoch  1: 100%|██████████| 2607/2607 [01:37<00:00, 26.66it/s, Train Loss=1.1223, Valid Loss=0.6601, Valid R2=-0.4895, Valid MAE=0.6586]\n",
            "Epoch  2: 100%|██████████| 2607/2607 [01:38<00:00, 26.49it/s, Train Loss=0.9829, Valid Loss=0.4439, Valid R2=-0.0015, Valid MAE=0.5378]\n",
            "Epoch  3: 100%|██████████| 2607/2607 [01:38<00:00, 26.41it/s, Train Loss=0.9099, Valid Loss=0.2664, Valid R2=0.3988, Valid MAE=0.4178]\n",
            "Epoch  4: 100%|██████████| 2607/2607 [01:37<00:00, 26.77it/s, Train Loss=0.8710, Valid Loss=0.2170, Valid R2=0.5103, Valid MAE=0.3756]\n",
            "Epoch  5: 100%|██████████| 2607/2607 [01:38<00:00, 26.44it/s, Train Loss=0.8410, Valid Loss=0.2107, Valid R2=0.5246, Valid MAE=0.3701]\n",
            "Epoch  6: 100%|██████████| 2607/2607 [01:37<00:00, 26.65it/s, Train Loss=0.8085, Valid Loss=0.2082, Valid R2=0.5302, Valid MAE=0.3707]\n",
            "Epoch  7: 100%|██████████| 2607/2607 [01:38<00:00, 26.47it/s, Train Loss=0.7896, Valid Loss=0.2200, Valid R2=0.5035, Valid MAE=0.3810]\n",
            "Epoch  8: 100%|██████████| 2607/2607 [01:39<00:00, 26.29it/s, Train Loss=0.7743, Valid Loss=0.2041, Valid R2=0.5394, Valid MAE=0.3612]\n",
            "Epoch  9: 100%|██████████| 2607/2607 [01:38<00:00, 26.48it/s, Train Loss=0.7589, Valid Loss=0.2391, Valid R2=0.4604, Valid MAE=0.3985]\n",
            "Epoch 10: 100%|██████████| 2607/2607 [01:38<00:00, 26.45it/s, Train Loss=0.7514, Valid Loss=0.2357, Valid R2=0.4681, Valid MAE=0.3936]\n",
            "Epoch 11: 100%|██████████| 2607/2607 [01:38<00:00, 26.47it/s, Train Loss=0.7378, Valid Loss=0.2035, Valid R2=0.5407, Valid MAE=0.3588]\n",
            "Epoch 12: 100%|██████████| 2607/2607 [01:38<00:00, 26.48it/s, Train Loss=0.7541, Valid Loss=0.1912, Valid R2=0.5685, Valid MAE=0.3444]\n",
            "Epoch 13: 100%|██████████| 2607/2607 [01:38<00:00, 26.45it/s, Train Loss=0.7191, Valid Loss=0.2484, Valid R2=0.4396, Valid MAE=0.3999]\n",
            "Epoch 14: 100%|██████████| 2607/2607 [01:38<00:00, 26.54it/s, Train Loss=0.7218, Valid Loss=0.2317, Valid R2=0.4773, Valid MAE=0.3831]\n",
            "Epoch 15: 100%|██████████| 2607/2607 [01:38<00:00, 26.41it/s, Train Loss=0.7152, Valid Loss=0.2603, Valid R2=0.4126, Valid MAE=0.4131]\n",
            "Epoch 16: 100%|██████████| 2607/2607 [01:38<00:00, 26.40it/s, Train Loss=0.7078, Valid Loss=0.2268, Valid R2=0.4882, Valid MAE=0.3797]\n"
          ]
        },
        {
          "name": "stdout",
          "output_type": "stream",
          "text": [
            "Early Stopped\n",
            "Setting   4 of Parameters Grid is now on progres.\n"
          ]
        },
        {
          "name": "stderr",
          "output_type": "stream",
          "text": [
            "Epoch  0: 100%|██████████| 2607/2607 [01:20<00:00, 32.39it/s, Train Loss=3.1987, Valid Loss=1.5220, Valid R2=-2.4342, Valid MAE=0.9928]\n",
            "Epoch  1: 100%|██████████| 2607/2607 [01:21<00:00, 31.93it/s, Train Loss=1.1102, Valid Loss=0.7282, Valid R2=-0.6432, Valid MAE=0.6999]\n",
            "Epoch  2: 100%|██████████| 2607/2607 [01:21<00:00, 32.02it/s, Train Loss=0.9851, Valid Loss=0.3548, Valid R2=0.1994, Valid MAE=0.4982]\n",
            "Epoch  3: 100%|██████████| 2607/2607 [01:20<00:00, 32.41it/s, Train Loss=0.9192, Valid Loss=0.3201, Valid R2=0.2777, Valid MAE=0.4788]\n",
            "Epoch  4: 100%|██████████| 2607/2607 [01:21<00:00, 32.18it/s, Train Loss=0.8720, Valid Loss=0.2574, Valid R2=0.4193, Valid MAE=0.4258]\n",
            "Epoch  5: 100%|██████████| 2607/2607 [01:21<00:00, 32.03it/s, Train Loss=0.8482, Valid Loss=0.1643, Valid R2=0.6293, Valid MAE=0.3249]\n",
            "Epoch  6: 100%|██████████| 2607/2607 [01:21<00:00, 32.04it/s, Train Loss=0.8232, Valid Loss=0.2665, Valid R2=0.3987, Valid MAE=0.4487]\n",
            "Epoch  7: 100%|██████████| 2607/2607 [01:21<00:00, 31.97it/s, Train Loss=0.8008, Valid Loss=0.2671, Valid R2=0.3972, Valid MAE=0.4487]\n",
            "Epoch  8: 100%|██████████| 2607/2607 [01:19<00:00, 32.73it/s, Train Loss=0.7895, Valid Loss=0.2510, Valid R2=0.4337, Valid MAE=0.4309]\n",
            "Epoch  9: 100%|██████████| 2607/2607 [01:21<00:00, 32.07it/s, Train Loss=0.7801, Valid Loss=0.3063, Valid R2=0.3088, Valid MAE=0.4812]\n"
          ]
        },
        {
          "name": "stdout",
          "output_type": "stream",
          "text": [
            "Early Stopped\n",
            "Setting   5 of Parameters Grid is now on progres.\n"
          ]
        },
        {
          "name": "stderr",
          "output_type": "stream",
          "text": [
            "Epoch  0: 100%|██████████| 2607/2607 [01:20<00:00, 32.37it/s, Train Loss=3.0511, Valid Loss=1.4257, Valid R2=-2.2169, Valid MAE=0.9559]\n",
            "Epoch  1: 100%|██████████| 2607/2607 [01:22<00:00, 31.76it/s, Train Loss=1.0656, Valid Loss=0.6450, Valid R2=-0.4554, Valid MAE=0.6450]\n",
            "Epoch  2: 100%|██████████| 2607/2607 [01:20<00:00, 32.23it/s, Train Loss=0.9442, Valid Loss=0.2740, Valid R2=0.3818, Valid MAE=0.4111]\n",
            "Epoch  3: 100%|██████████| 2607/2607 [01:21<00:00, 32.02it/s, Train Loss=0.8781, Valid Loss=0.3021, Valid R2=0.3184, Valid MAE=0.4359]\n",
            "Epoch  4:   7%|▋         | 192/2607 [00:06<01:17, 31.35it/s, Train Loss=0.78958] "
          ]
        }
      ],
      "source": [
        "basic_params = {\n",
        "    'T': 60,\n",
        "    'n': 40\n",
        "}\n",
        "\n",
        "param_grid = {\n",
        "    'm': [32, 40],\n",
        "    'skip_hidden_size': [32, 40],\n",
        "    'T_modified': [20, 30],\n",
        "    'skip': [8, 10]\n",
        "}\n",
        "\n",
        "model_name = 'model3'\n",
        "grid_model3 = GridSearch(criterion, eval_metrics, device, temp_save_path=f'checkpoints/model_by_param/temp_{model_name}.pt', masked=False)\n",
        "best_model3 = grid_model3.train_by_grid(\n",
        "        Model3, basic_params, param_grid,\n",
        "        torch.optim.Adam, train_loader, val_loader,\n",
        "        patience=3, epochs=20,\n",
        "        save_filename=f'checkpoints/{model_name}_best.pt'\n",
        "    )"
      ]
    },
    {
      "cell_type": "code",
      "execution_count": null,
      "metadata": {},
      "outputs": [],
      "source": [
        "grid_model3.test(test_loader)\n",
        "grid_model3.plot_losses(plot_title=f'{model_name}', save_filename=f'{model_name}_losses.png')"
      ]
    }
  ],
  "metadata": {
    "accelerator": "GPU",
    "colab": {
      "provenance": []
    },
    "kernelspec": {
      "display_name": "Python 3.9.13 ('kwon_dl')",
      "language": "python",
      "name": "python3"
    },
    "language_info": {
      "codemirror_mode": {
        "name": "ipython",
        "version": 3
      },
      "file_extension": ".py",
      "mimetype": "text/x-python",
      "name": "python",
      "nbconvert_exporter": "python",
      "pygments_lexer": "ipython3",
      "version": "3.9.13 (main, Aug 25 2022, 23:26:10) \n[GCC 11.2.0]"
    },
    "vscode": {
      "interpreter": {
        "hash": "7aba8400f5793028c76b760b8f218e34a1395ac8226b95289931317412384abc"
      }
    }
  },
  "nbformat": 4,
  "nbformat_minor": 0
}
